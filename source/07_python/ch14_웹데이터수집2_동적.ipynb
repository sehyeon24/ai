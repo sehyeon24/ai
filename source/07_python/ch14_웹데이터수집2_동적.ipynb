{
 "cells": [
  {
   "cell_type": "code",
   "execution_count": 1,
   "id": "4dad2182",
   "metadata": {
    "ExecuteTime": {
     "end_time": "2024-12-11T01:48:36.988591Z",
     "start_time": "2024-12-11T01:48:36.958194Z"
    }
   },
   "outputs": [
    {
     "data": {
      "text/html": [
       "\n",
       "<style>\n",
       "div.container{width:80% !important;}\n",
       "div.prompt {min-width:70px;}\n",
       "div#toc-header{margin-top:150px;}\n",
       "span.toc-item-num{display:none;}\n",
       "div.CodeMirror {font-family:Consolas}\n",
       "div.input {font-family:Consolas}\n",
       "</style>\n"
      ],
      "text/plain": [
       "<IPython.core.display.HTML object>"
      ]
     },
     "metadata": {},
     "output_type": "display_data"
    }
   ],
   "source": [
    "from IPython.display import display, HTML\n",
    "\n",
    "display(\n",
    "    HTML(\"\"\"\n",
    "<style>\n",
    "div.container{width:80% !important;}\n",
    "div.prompt {min-width:70px;}\n",
    "div#toc-header{margin-top:150px;}\n",
    "span.toc-item-num{display:none;}\n",
    "div.CodeMirror {font-family:Consolas}\n",
    "div.input {font-family:Consolas}\n",
    "</style>\n",
    "\"\"\"))"
   ]
  },
  {
   "cell_type": "markdown",
   "id": "cb2d6620",
   "metadata": {},
   "source": [
    "<b><font color=\"red\" size=\"6\">ch14. 웹데이터 수집</font></b>"
   ]
  },
  {
   "cell_type": "markdown",
   "id": "67f2f587",
   "metadata": {},
   "source": [
    "# 1절. Selenium을 이용한 동적 웹크롤링 문법\n",
    " - https://selenium-python.readthedocs.io/index.html\n",
    " \n",
    " `pip install selenium`"
   ]
  },
  {
   "cell_type": "code",
   "execution_count": 2,
   "id": "475e65ea",
   "metadata": {
    "ExecuteTime": {
     "end_time": "2024-12-11T01:48:38.579840Z",
     "start_time": "2024-12-11T01:48:38.343965Z"
    }
   },
   "outputs": [],
   "source": [
    "from selenium import webdriver\n",
    "from selenium.webdriver.common.by import By\n",
    "import time"
   ]
  },
  {
   "cell_type": "code",
   "execution_count": 3,
   "id": "e5ace7b4",
   "metadata": {
    "ExecuteTime": {
     "end_time": "2024-12-11T01:48:41.852267Z",
     "start_time": "2024-12-11T01:48:39.278601Z"
    }
   },
   "outputs": [],
   "source": [
    "dv = webdriver.Chrome()      # 브라우저 실행\n",
    "dv.get('http://python.org')  # 연결할 사이트\n",
    "elem = dv.find_element(By.NAME, 'q')  # 파라미터 이름 q : 검색란\n",
    "elem.clear()  # 검색어 삭제\n",
    "elem.send_keys('pycon')      # 검색어 전송"
   ]
  },
  {
   "cell_type": "code",
   "execution_count": 5,
   "id": "79e13589",
   "metadata": {
    "ExecuteTime": {
     "end_time": "2024-12-11T01:48:48.266529Z",
     "start_time": "2024-12-11T01:48:47.870163Z"
    }
   },
   "outputs": [],
   "source": [
    "# 엔터(검색 버튼) 찾기\n",
    "from selenium.webdriver.common.keys import Keys\n",
    "elem.send_keys(Keys.RETURN)  # enter 키 효과"
   ]
  },
  {
   "cell_type": "code",
   "execution_count": 8,
   "id": "31ed4811",
   "metadata": {
    "ExecuteTime": {
     "end_time": "2024-12-11T01:53:21.015665Z",
     "start_time": "2024-12-11T01:53:20.571245Z"
    }
   },
   "outputs": [],
   "source": [
    "# GO 버튼 찾기 (우클릭 -> 검사)\n",
    "btn_elem = dv.find_element(By.CSS_SELECTOR, 'button#submit')  # button의 id\n",
    "btn_elem.click()"
   ]
  },
  {
   "cell_type": "code",
   "execution_count": 9,
   "id": "0f324ed8",
   "metadata": {
    "ExecuteTime": {
     "end_time": "2024-12-11T02:01:26.318560Z",
     "start_time": "2024-12-11T02:01:25.734850Z"
    }
   },
   "outputs": [
    {
     "name": "stdout",
     "output_type": "stream",
     "text": [
      "PSF PyCon Trademark Usage Policy - https://www.python.org/psf/trademarks/pycon\n",
      "PyCon Italia 2016 (PyCon Sette) - https://www.python.org/events/python-events/378/\n",
      "PyCon Australia 2013 - https://www.python.org/events/python-events/57/\n",
      "PyCon AU 2019 - https://www.python.org/events/python-events/776/\n",
      "PyCon Australia 2014 - https://www.python.org/events/python-events/10/\n",
      "PyCon Ireland 2012 - https://www.python.org/events/python-events/76/\n",
      "PyCon Ireland 2016 - https://www.python.org/events/python-events/429/\n",
      "PyCon Ireland 2022 - https://www.python.org/events/python-events/1320/\n",
      "PyCon Australia 2014 - https://www.python.org/events/python-events/1447/\n",
      "PyCon Ireland 2024 - https://www.python.org/events/python-events/1862/\n",
      "PyCon APAC 2025 - https://www.python.org/events/python-events/1879/\n",
      "PyCon AU 2018 - https://www.python.org/events/python-events/696/\n",
      "PyCon APAC 2022 - https://www.python.org/events/python-events/1216/\n",
      "PyCon PH 2024 - https://www.python.org/events/python-events/1661/\n",
      "PyCon Ireland 2023 - https://www.python.org/events/python-events/1568/\n",
      "PyCon PL 2014 - https://www.python.org/events/python-events/191/\n",
      "PyCon MY 2015 - https://www.python.org/events/python-events/313/\n",
      "PyCon Ireland 2015 - https://www.python.org/events/python-events/333/\n",
      "PyCon AU 2015 - https://www.python.org/events/python-events/273/\n",
      "PyCon Australia 2016 - https://www.python.org/events/python-events/357/\n"
     ]
    }
   ],
   "source": [
    "# 내용 가져오기(검색 결과)\n",
    "result_list = dv.find_elements(By.CSS_SELECTOR, 'li > h3 > a')\n",
    "for result in result_list:\n",
    "    print('%s - %s' % (result.text, result.get_attribute('href')))"
   ]
  },
  {
   "cell_type": "code",
   "execution_count": 13,
   "id": "0e27ac59",
   "metadata": {
    "ExecuteTime": {
     "end_time": "2024-12-11T02:06:57.729492Z",
     "start_time": "2024-12-11T02:06:57.644299Z"
    }
   },
   "outputs": [
    {
     "name": "stdout",
     "output_type": "stream",
     "text": [
      "PSF PyCon Trademark Usage Policy - /psf/trademarks/pycon\n",
      "PyCon Italia 2016 (PyCon Sette) - /events/python-events/378/\n",
      "PyCon Australia 2013 - /events/python-events/57/\n",
      "PyCon AU 2019 - /events/python-events/776/\n",
      "PyCon Australia 2014 - /events/python-events/10/\n",
      "PyCon Ireland 2012 - /events/python-events/76/\n",
      "PyCon Ireland 2016 - /events/python-events/429/\n",
      "PyCon Ireland 2022 - /events/python-events/1320/\n",
      "PyCon Australia 2014 - /events/python-events/1447/\n",
      "PyCon Ireland 2024 - /events/python-events/1862/\n",
      "PyCon APAC 2025 - /events/python-events/1879/\n",
      "PyCon AU 2018 - /events/python-events/696/\n",
      "PyCon APAC 2022 - /events/python-events/1216/\n",
      "PyCon PH 2024 - /events/python-events/1661/\n",
      "PyCon Ireland 2023 - /events/python-events/1568/\n",
      "PyCon PL 2014 - /events/python-events/191/\n",
      "PyCon MY 2015 - /events/python-events/313/\n",
      "PyCon Ireland 2015 - /events/python-events/333/\n",
      "PyCon AU 2015 - /events/python-events/273/\n",
      "PyCon Australia 2016 - /events/python-events/357/\n"
     ]
    }
   ],
   "source": [
    "# BeautifulSoup 이용\n",
    "from bs4 import BeautifulSoup\n",
    "soup = BeautifulSoup(dv.page_source, 'html.parser')  # dv.page_source : html 소스\n",
    "result_list = soup.select('li > h3 > a')\n",
    "for result in result_list:\n",
    "    print('%s - %s' % (result.text, result.attrs['href']))  # .attrs 생략 가능"
   ]
  },
  {
   "cell_type": "code",
   "execution_count": 24,
   "id": "6ce9db1d",
   "metadata": {
    "ExecuteTime": {
     "end_time": "2024-12-11T02:16:41.863186Z",
     "start_time": "2024-12-11T02:16:41.847931Z"
    }
   },
   "outputs": [
    {
     "name": "stdout",
     "output_type": "stream",
     "text": [
      "현재 주소 :  https://www.python.org/search/?q=pycon&submit=\n",
      "ParseResult(scheme='https', netloc='www.python.org', path='/search/', params='', query='q=pycon&submit=', fragment='')\n",
      "https www.python.org\n",
      "도메인 :  https://www.python.org\n"
     ]
    }
   ],
   "source": [
    "# 도메인 추출(https://www.python.org)\n",
    "from urllib.parse import urlparse\n",
    "current_url = dv.current_url  # selenium(드라이버)을 통해 접근한 현재 url\n",
    "print('현재 주소 : ', current_url)\n",
    "\n",
    "print(urlparse(current_url))\n",
    "\n",
    "parse_url = urlparse(current_url)\n",
    "print(parse_url.scheme, parse_url.netloc)\n",
    "\n",
    "domain = f'{parse_url.scheme}://{parse_url.netloc}'\n",
    "# domain = '{}://{}'.format(parse_url.scheme, parse_url.netloc)  # .format() 이용\n",
    "print('도메인 : ', domain)"
   ]
  },
  {
   "cell_type": "code",
   "execution_count": 25,
   "id": "2d6010f1",
   "metadata": {
    "ExecuteTime": {
     "end_time": "2024-12-11T02:16:42.267143Z",
     "start_time": "2024-12-11T02:16:42.170822Z"
    }
   },
   "outputs": [
    {
     "name": "stdout",
     "output_type": "stream",
     "text": [
      "PSF PyCon Trademark Usage Policy - https://www.python.org/psf/trademarks/pycon\n",
      "PyCon Italia 2016 (PyCon Sette) - https://www.python.org/events/python-events/378/\n",
      "PyCon Australia 2013 - https://www.python.org/events/python-events/57/\n",
      "PyCon AU 2019 - https://www.python.org/events/python-events/776/\n",
      "PyCon Australia 2014 - https://www.python.org/events/python-events/10/\n",
      "PyCon Ireland 2012 - https://www.python.org/events/python-events/76/\n",
      "PyCon Ireland 2016 - https://www.python.org/events/python-events/429/\n",
      "PyCon Ireland 2022 - https://www.python.org/events/python-events/1320/\n",
      "PyCon Australia 2014 - https://www.python.org/events/python-events/1447/\n",
      "PyCon Ireland 2024 - https://www.python.org/events/python-events/1862/\n",
      "PyCon APAC 2025 - https://www.python.org/events/python-events/1879/\n",
      "PyCon AU 2018 - https://www.python.org/events/python-events/696/\n",
      "PyCon APAC 2022 - https://www.python.org/events/python-events/1216/\n",
      "PyCon PH 2024 - https://www.python.org/events/python-events/1661/\n",
      "PyCon Ireland 2023 - https://www.python.org/events/python-events/1568/\n",
      "PyCon PL 2014 - https://www.python.org/events/python-events/191/\n",
      "PyCon MY 2015 - https://www.python.org/events/python-events/313/\n",
      "PyCon Ireland 2015 - https://www.python.org/events/python-events/333/\n",
      "PyCon AU 2015 - https://www.python.org/events/python-events/273/\n",
      "PyCon Australia 2016 - https://www.python.org/events/python-events/357/\n"
     ]
    }
   ],
   "source": [
    "# 도메인 추가\n",
    "from bs4 import BeautifulSoup\n",
    "soup = BeautifulSoup(dv.page_source, 'html.parser')  # dv.page_source : html 소스\n",
    "result_list = soup.select('li > h3 > a')\n",
    "for result in result_list:\n",
    "    print('%s - %s' % (result.text, domain + result.attrs['href']))  # .attrs 생략 가능"
   ]
  },
  {
   "cell_type": "code",
   "execution_count": 26,
   "id": "3fe79651",
   "metadata": {
    "ExecuteTime": {
     "end_time": "2024-12-11T02:17:27.981385Z",
     "start_time": "2024-12-11T02:17:27.918258Z"
    }
   },
   "outputs": [],
   "source": [
    "dv.close()  # 브라우저 종료"
   ]
  },
  {
   "cell_type": "markdown",
   "id": "8c046fdb",
   "metadata": {},
   "source": [
    "# 2절. 동적 웹크롤링 예제"
   ]
  },
  {
   "cell_type": "markdown",
   "id": "9a4143af",
   "metadata": {},
   "source": [
    "## 2.1 다음(Daum) 뉴스 검색"
   ]
  },
  {
   "cell_type": "code",
   "execution_count": 27,
   "id": "ab244cee",
   "metadata": {
    "ExecuteTime": {
     "end_time": "2024-12-11T02:41:26.279657Z",
     "start_time": "2024-12-11T02:41:26.273965Z"
    }
   },
   "outputs": [],
   "source": [
    "from selenium import webdriver\n",
    "from selenium.webdriver.common.by import By\n",
    "from selenium.webdriver.common.keys import Keys\n",
    "import time"
   ]
  },
  {
   "cell_type": "code",
   "execution_count": 33,
   "id": "9bf672cf",
   "metadata": {
    "ExecuteTime": {
     "end_time": "2024-12-11T02:58:28.236219Z",
     "start_time": "2024-12-11T02:58:11.625695Z"
    }
   },
   "outputs": [
    {
     "name": "stdout",
     "output_type": "stream",
     "text": [
      "검색할 단어는 ? 비트코인\n"
     ]
    }
   ],
   "source": [
    "driver = webdriver.Chrome()\n",
    "time.sleep(1)  # 브라우저 오픈 후 실행되도록\n",
    "\n",
    "url = 'https://www.daum.net/'\n",
    "driver.get(url)\n",
    "# driver.implicitly_wait(0.5)  # 요소를 찾을 때까지 0.5초 대기 시간을 가짐\n",
    "time.sleep(0.5)  # 0.5초 대기\n",
    "\n",
    "# 검색란 클릭(커서 대기)\n",
    "driver.find_element(By.CLASS_NAME, 'tf_keyword').click()\n",
    "\n",
    "# 검색할 단어 받기\n",
    "query = input('검색할 단어는 ? ')\n",
    "# 받은 단어 검색란에 전송\n",
    "driver.find_element(By.CSS_SELECTOR, 'input[type=\"text\"]').send_keys(query)\n",
    "\n",
    "# 검색 버튼 클릭\n",
    "driver.find_element(By.CLASS_NAME, 'btn_ksearch').click()"
   ]
  },
  {
   "cell_type": "code",
   "execution_count": 34,
   "id": "61a9c4b7",
   "metadata": {
    "ExecuteTime": {
     "end_time": "2024-12-11T03:03:08.404857Z",
     "start_time": "2024-12-11T03:03:06.091006Z"
    }
   },
   "outputs": [],
   "source": [
    "# '비트코인' 검색 시 뉴스(다음 탭) 탭 클릭\n",
    "driver.find_elements(By.CSS_SELECTOR, 'ul.list_tab > li')[1].click()  # li들을 리스트로 받아 옴"
   ]
  },
  {
   "cell_type": "code",
   "execution_count": 37,
   "id": "027fcdae",
   "metadata": {
    "ExecuteTime": {
     "end_time": "2024-12-11T03:19:22.359644Z",
     "start_time": "2024-12-11T03:19:21.893231Z"
    }
   },
   "outputs": [
    {
     "name": "stdout",
     "output_type": "stream",
     "text": [
      "[김대호 박사의 오늘의 키워드] 양자컴퓨팅·비트코인 빨간불·화웨이 금지법·트럼프 당근 http://v.daum.net/v/20241211071025706\n",
      "비트코인 조정 구간 돌입…MS 주주들, 비트코인 매입 반대[코인브리핑] http://v.daum.net/v/20241211110145033\n",
      "비트코인 10만달러 시대…\"비트코인 가격 추가 상승할 것\"-메리츠 http://v.daum.net/v/20241211084759570\n",
      "비트코인, 조정 이어져…1억3800만원대 http://v.daum.net/v/20241211093550195\n",
      "숨고르기 들어간 비트코인…부탄 정부, 비트코인 매도 시작[코인브리핑] http://v.daum.net/v/20241210110343588\n",
      "월가 차트분석 달인 \"비트코인 85K 추락 가능성\" http://v.daum.net/v/20241211104920355\n",
      "'트럼프 효과 다했나' 가상화폐 급락…비트코인 9만5천달러 하회 http://v.daum.net/v/20241211035608411\n",
      "‘초미의 관심’ MS의 비트코인 투자 여부…주주들은 “반대” 이유는 http://v.daum.net/v/20241211091115348\n",
      "[김대호 박사의 오늘 기업·사람] 구글·아이온큐·엔비디아·비트코인·이더리움·리플 http://v.daum.net/v/20241211080115555\n",
      "\"800만 코인러 환호\" 가상자산 과세 2년 유예… 비트코인 2억원 가나 http://v.daum.net/v/20241211054405308\n"
     ]
    }
   ],
   "source": [
    "# 기사 제목 가져오기\n",
    "news_list = []\n",
    "bodies = driver.find_elements(By.CSS_SELECTOR, 'div.item-title > strong.tit-g.clamp-g')\n",
    "# bodies = driver.find_elements(By.CSS_SELECTOR, 'div[class=\"item_title\"] > strong.tit-g > a')\n",
    "# bodies = driver.find_elements(By.CSS_SELECTOR, 'div[class=\"item_title\"] \n",
    "#                                                         > strong[class=\"tit-g\"] > a, strong[class=\"clamp-g\"] > a')\n",
    "# print(len(bodies))  # 뉴스 기사 10개\n",
    "\n",
    "for body in bodies:\n",
    "    a = body.find_element(By.TAG_NAME, 'a')\n",
    "    title = a.text\n",
    "    link = a.get_attribute('href')\n",
    "    news_list.append([title, link])\n",
    "    print(title, link)"
   ]
  },
  {
   "cell_type": "code",
   "execution_count": 38,
   "id": "21bb37d6",
   "metadata": {
    "ExecuteTime": {
     "end_time": "2024-12-11T03:39:39.855428Z",
     "start_time": "2024-12-11T03:39:38.509175Z"
    }
   },
   "outputs": [],
   "source": [
    "# 2페이지로 이동\n",
    "page_nav = driver.find_element(By.CSS_SELECTOR, 'div.inner_paging')\n",
    "next_page = page_nav.find_element(By.LINK_TEXT, '2')\n",
    "next_page.click()"
   ]
  },
  {
   "cell_type": "markdown",
   "id": "7ef3d883",
   "metadata": {},
   "source": [
    "## 2.2 페이징 처리\n",
    " - 다음 뉴스 페이징 처리"
   ]
  },
  {
   "cell_type": "code",
   "execution_count": 45,
   "id": "994df1f4",
   "metadata": {
    "ExecuteTime": {
     "end_time": "2024-12-11T04:37:59.380170Z",
     "start_time": "2024-12-11T04:37:43.676466Z"
    }
   },
   "outputs": [
    {
     "data": {
      "text/html": [
       "<div>\n",
       "<style scoped>\n",
       "    .dataframe tbody tr th:only-of-type {\n",
       "        vertical-align: middle;\n",
       "    }\n",
       "\n",
       "    .dataframe tbody tr th {\n",
       "        vertical-align: top;\n",
       "    }\n",
       "\n",
       "    .dataframe thead th {\n",
       "        text-align: right;\n",
       "    }\n",
       "</style>\n",
       "<table border=\"1\" class=\"dataframe\">\n",
       "  <thead>\n",
       "    <tr style=\"text-align: right;\">\n",
       "      <th></th>\n",
       "      <th>title</th>\n",
       "      <th>link</th>\n",
       "    </tr>\n",
       "  </thead>\n",
       "  <tbody>\n",
       "    <tr>\n",
       "      <th>0</th>\n",
       "      <td>비트코인 조정 구간 돌입…MS 주주들, 비트코인 매입 반대[코인브리핑]</td>\n",
       "      <td>http://v.daum.net/v/20241211110145033</td>\n",
       "    </tr>\n",
       "    <tr>\n",
       "      <th>1</th>\n",
       "      <td>‘초미의 관심’ MS의 비트코인 투자 여부…주주들은 “반대” 이유는</td>\n",
       "      <td>http://v.daum.net/v/20241211091115348</td>\n",
       "    </tr>\n",
       "    <tr>\n",
       "      <th>2</th>\n",
       "      <td>비트코인 10만달러 시대…\"비트코인 가격 추가 상승할 것\"-메리츠</td>\n",
       "      <td>http://v.daum.net/v/20241211084759570</td>\n",
       "    </tr>\n",
       "    <tr>\n",
       "      <th>3</th>\n",
       "      <td>비트코인, 조정 이어져…1억3800만원대</td>\n",
       "      <td>http://v.daum.net/v/20241211093550195</td>\n",
       "    </tr>\n",
       "    <tr>\n",
       "      <th>4</th>\n",
       "      <td>숨고르기 들어간 비트코인…부탄 정부, 비트코인 매도 시작[코인브리핑]</td>\n",
       "      <td>http://v.daum.net/v/20241210110343588</td>\n",
       "    </tr>\n",
       "  </tbody>\n",
       "</table>\n",
       "</div>"
      ],
      "text/plain": [
       "                                     title  \\\n",
       "0  비트코인 조정 구간 돌입…MS 주주들, 비트코인 매입 반대[코인브리핑]   \n",
       "1    ‘초미의 관심’ MS의 비트코인 투자 여부…주주들은 “반대” 이유는   \n",
       "2     비트코인 10만달러 시대…\"비트코인 가격 추가 상승할 것\"-메리츠   \n",
       "3                   비트코인, 조정 이어져…1억3800만원대   \n",
       "4   숨고르기 들어간 비트코인…부탄 정부, 비트코인 매도 시작[코인브리핑]   \n",
       "\n",
       "                                    link  \n",
       "0  http://v.daum.net/v/20241211110145033  \n",
       "1  http://v.daum.net/v/20241211091115348  \n",
       "2  http://v.daum.net/v/20241211084759570  \n",
       "3  http://v.daum.net/v/20241211093550195  \n",
       "4  http://v.daum.net/v/20241210110343588  "
      ]
     },
     "metadata": {},
     "output_type": "display_data"
    }
   ],
   "source": [
    "from selenium import webdriver\n",
    "from selenium.webdriver.common.by import By\n",
    "from selenium.webdriver.common.keys import Keys\n",
    "import time\n",
    "\n",
    "# 원하는 페이지만큼 검색하여 검색 결과를 데이터프레임으로 출력\n",
    "driver = webdriver.Chrome()\n",
    "time.sleep(1)\n",
    "\n",
    "url = 'https://www.daum.net/'\n",
    "driver.get(url)\n",
    "# driver.implicitly_wait(0.5)  # 요소를 찾을 때까지 0.5초 대기 시간을 가짐\n",
    "time.sleep(0.5)  # 0.5초 대기\n",
    "\n",
    "# 검색란 클릭(커서 대기)\n",
    "driver.find_element(By.CLASS_NAME, 'tf_keyword').click()\n",
    "\n",
    "# 검색할 단어 받기\n",
    "# query = input('검색할 단어는 ? ')\n",
    "# 받은 단어 검색란에 전송\n",
    "driver.find_element(By.CSS_SELECTOR, 'input[type=\"text\"]').send_keys('비트코인')\n",
    "\n",
    "# 검색 버튼 클릭\n",
    "driver.find_element(By.CLASS_NAME, 'btn_ksearch').click()\n",
    "\n",
    "time.sleep(1)\n",
    "\n",
    "# 뉴스 탭 클릭\n",
    "driver.find_elements(By.CSS_SELECTOR, 'ul.list_tab > li')[1].click()\n",
    "\n",
    "# 기사 제목 가져오기\n",
    "news_list = []\n",
    "\n",
    "# ========== 여기서부터는 페이지를 새로 가져올 때 다시 실행되어야 함 ========== #\n",
    "page_numbers = 3\n",
    "for page_number in range(1, page_numbers+1):\n",
    "    \n",
    "    bodies = driver.find_elements(By.CSS_SELECTOR, 'div.item-title > strong.tit-g.clamp-g')\n",
    "    # print(len(bodies))  # 뉴스 기사 10개\n",
    "\n",
    "    for body in bodies:\n",
    "        a = body.find_element(By.TAG_NAME, 'a')\n",
    "        title = a.text\n",
    "        link = a.get_attribute('href')\n",
    "        news_list.append([title, link])\n",
    "        # print(title, link)\n",
    "\n",
    "    # 2페이지로 이동\n",
    "    page_nav = driver.find_element(By.CSS_SELECTOR, 'div.inner_paging')\n",
    "    next_page = page_nav.find_element(By.LINK_TEXT, str(page_number+1))\n",
    "    next_page.click()\n",
    "    time.sleep(1.5)\n",
    "driver.close()\n",
    "import pandas as pd\n",
    "display(pd.DataFrame(news_list, columns=['title', 'link']).head())"
   ]
  },
  {
   "cell_type": "code",
   "execution_count": 46,
   "id": "20ac15ed",
   "metadata": {
    "ExecuteTime": {
     "end_time": "2024-12-11T05:15:15.601168Z",
     "start_time": "2024-12-11T05:14:49.663419Z"
    }
   },
   "outputs": [],
   "source": [
    "# 로그인이 될 수도 있게 우회하는 코드\n",
    "from selenium import webdriver\n",
    "from selenium.webdriver.common.by import By\n",
    "from selenium.webdriver.common.keys import Keys\n",
    "import time\n",
    "\n",
    "chrome_driver_path = 'chromedriver'\n",
    "driver = webdriver.Chrome()\n",
    "\n",
    "driver.get(\"https://nid.naver.com/nidlogin.login\")\n",
    "\n",
    "\n",
    "driver.execute_script(\"document.getElementById('id').value = '아이디';\")\n",
    "time.sleep(1)\n",
    "driver.execute_script(\"document.getElementById('pw').value = '비밀번호';\")\n",
    "time.sleep(1)\n",
    "\n",
    "driver.find_element(By.CLASS_NAME, \"btn_login\").click()"
   ]
  },
  {
   "cell_type": "markdown",
   "id": "5fc0b5f4",
   "metadata": {},
   "source": [
    "## 2.3 맞춤법 검사기\n",
    " - 네이버 맞춤법 검사기 이용"
   ]
  },
  {
   "cell_type": "code",
   "execution_count": 84,
   "id": "4fe13667",
   "metadata": {
    "ExecuteTime": {
     "end_time": "2024-12-11T07:15:50.387892Z",
     "start_time": "2024-12-11T07:15:50.382839Z"
    }
   },
   "outputs": [],
   "source": [
    "from selenium import webdriver\n",
    "from selenium.webdriver.common.keys import Keys\n",
    "from selenium.webdriver.common.by import By\n",
    "from bs4 import BeautifulSoup\n",
    "import time"
   ]
  },
  {
   "cell_type": "code",
   "execution_count": 78,
   "id": "f4bed226",
   "metadata": {
    "ExecuteTime": {
     "end_time": "2024-12-11T07:01:07.328430Z",
     "start_time": "2024-12-11T07:00:48.045842Z"
    }
   },
   "outputs": [
    {
     "data": {
      "text/plain": [
       "'안녕하세요. 안녕하세요. 반갑습니다'"
      ]
     },
     "execution_count": 78,
     "metadata": {},
     "output_type": "execute_result"
    }
   ],
   "source": [
    "# 브라우저 오픈\n",
    "driver = webdriver.Chrome()\n",
    "time.sleep(0.5)\n",
    "\n",
    "driver.get('https://www.naver.com')\n",
    "\n",
    "# 검색란 클릭(커서 대기)\n",
    "elem = driver.find_element(By.CSS_SELECTOR, 'input#query')\n",
    "# '맞춤법 검사기' 입력\n",
    "elem.send_keys('맞춤법 검사기')\n",
    "# enter 키\n",
    "elem.send_keys(Keys.RETURN)\n",
    "\n",
    "# 검사할 내용란 커서 대기\n",
    "textarea = driver.find_element(By.CLASS_NAME, 'txt_gray')\n",
    "# ↓이 위치부터 for문에 들어갈 부분\n",
    "textarea.send_keys('안녕하세요. 안뇽하세요. 방갑습니다')\n",
    "\n",
    "# 검사하기 버튼 클릭\n",
    "button = driver.find_element(By.CLASS_NAME, 'btn_check')\n",
    "button.click()\n",
    "time.sleep(1)  # ★\n",
    "\n",
    "# 교정 결과 가져오기\n",
    "soup = BeautifulSoup(driver.page_source, 'html.parser')\n",
    "result = soup.select_one('p._result_text.stand_txt').text\n",
    "# 검사하기 클릭 후 바로 가져오면 '맞춤법 검사 중입니다. 잠시만 기다려주세요.' 가 출력되므로 검사하는 동안 ★ 위치에서 1초 대기\n",
    "result"
   ]
  },
  {
   "cell_type": "markdown",
   "id": "9b9805f0",
   "metadata": {},
   "source": [
    "### 맞춤법 검사 전 text파일을 맞춤법 검사 완료된 text파일로 output"
   ]
  },
  {
   "cell_type": "code",
   "execution_count": 85,
   "id": "167e3ac1",
   "metadata": {
    "ExecuteTime": {
     "end_time": "2024-12-11T07:15:54.258744Z",
     "start_time": "2024-12-11T07:15:54.253744Z"
    }
   },
   "outputs": [],
   "source": [
    "# f = open('data/ch14_맞춤법검사전.txt', 'r', encoding='utf-8')\n",
    "# text = f.read()\n",
    "# f.close()"
   ]
  },
  {
   "cell_type": "code",
   "execution_count": 86,
   "id": "34b15e2a",
   "metadata": {
    "ExecuteTime": {
     "end_time": "2024-12-11T07:15:54.483830Z",
     "start_time": "2024-12-11T07:15:54.450844Z"
    }
   },
   "outputs": [
    {
     "name": "stdout",
     "output_type": "stream",
     "text": [
      "205\n",
      "193\n",
      "199\n",
      "166\n"
     ]
    }
   ],
   "source": [
    "# with : f.close() 자동 실행\n",
    "with open('data/ch14_맞춤법검사전.txt', 'r', encoding='utf-8') as f:\n",
    "    text = f.read()\n",
    "ready_list = []\n",
    "while(len(text) > 300):\n",
    "    temp = text[:300]  # text의 300글자까지\n",
    "    last_dot_index = temp.rfind('\\n')  # temp의 마지막 '.'\n",
    "    ready_list.append(text[:last_dot_index+1])  # .까지\n",
    "    print(last_dot_index)\n",
    "    text = text[last_dot_index:]  # 본문인 text의 자른 '.' 다음부터 다시 실행\n",
    "ready_list.append(text)\n",
    "# \\n을 기준으로 300씩 나눠 리스트로 생성"
   ]
  },
  {
   "cell_type": "code",
   "execution_count": 87,
   "id": "10ef32d6",
   "metadata": {
    "ExecuteTime": {
     "end_time": "2024-12-11T07:15:55.620248Z",
     "start_time": "2024-12-11T07:15:55.612854Z"
    }
   },
   "outputs": [
    {
     "data": {
      "text/plain": [
       "[206, 194, 200, 167, 243]"
      ]
     },
     "execution_count": 87,
     "metadata": {},
     "output_type": "execute_result"
    }
   ],
   "source": [
    "# ready_list 확인\n",
    "[len(ready) for ready in ready_list]"
   ]
  },
  {
   "cell_type": "code",
   "execution_count": 88,
   "id": "cd6bdf79",
   "metadata": {
    "ExecuteTime": {
     "end_time": "2024-12-11T07:16:19.367522Z",
     "start_time": "2024-12-11T07:15:57.069651Z"
    }
   },
   "outputs": [
    {
     "name": "stdout",
     "output_type": "stream",
     "text": [
      "안녕하세요. 반갑습\n"
     ]
    }
   ],
   "source": [
    "driver = webdriver.Chrome()                   # 브라우저 오픈\n",
    "time.sleep(1)                                 # 1초 대기\n",
    "driver.get('https://www.naver.com')           # 연결할 포털\n",
    "elem = driver.find_element(By.NAME, 'query')  # 검색란 커서 위치\n",
    "elem.send_keys('맞춤법 검사기')                 # 검색어\n",
    "elem.send_keys(Keys.RETURN)                   # enter\n",
    "time.sleep(1)                                 # 1초 대기\n",
    "# driver.implicitly_wait(1)                   # 1초 대기\n",
    "\n",
    "results = ''                                  # 맞춤법 검사 완료된 text를 담음\n",
    "textarea = driver.find_element(By.CLASS_NAME, 'txt_gray')  # 검사할 내용이 들어갈 커서란\n",
    "\n",
    "for ready in ready_list:\n",
    "    textarea.send_keys(Keys.CONTROL, 'a')     # ctrl+a  # 맨 밑도 관계없음\n",
    "    textarea.send_keys(ready)                 # 내용 삽입\n",
    "    button = driver.find_element(By.CLASS_NAME, 'btn_check')\n",
    "    button.click()                            # 검사하기 클릭\n",
    "    time.sleep(1)                             # 1초 대기\n",
    "    soup = BeautifulSoup(driver.page_source, 'html.parser')\n",
    "    result = soup.select_one('p._result_text').text  # 교정 결과\n",
    "    results += result + '\\n'                  # 300자씩 끊어진 내용 담기\n",
    "driver.close()                                # 브라우저 종료\n",
    "print(results[:10])"
   ]
  },
  {
   "cell_type": "code",
   "execution_count": 89,
   "id": "2456367a",
   "metadata": {
    "ExecuteTime": {
     "end_time": "2024-12-11T07:16:25.539136Z",
     "start_time": "2024-12-11T07:16:25.533065Z"
    }
   },
   "outputs": [],
   "source": [
    "# 맞춤법 결과 results를 data/ch14_맞춤법검사후.txt로 출력\n",
    "with open('data/ch14_맞춤법검사후.txt', 'w', encoding='utf-8') as f:\n",
    "    f.write(results)"
   ]
  },
  {
   "cell_type": "markdown",
   "id": "c0b7053b",
   "metadata": {},
   "source": [
    "## 연습문제\n",
    " - https://translate.kakao.com/ 을 통해서 'data/ch14_맞춤법검사후.txt' 파일의 내용을 동적 웹크롤링을 이용해 번역된 텍스트를 파일로 출력합니다.\n",
    "\n",
    "    ('data/ch14_영문번역.txt)"
   ]
  },
  {
   "cell_type": "code",
   "execution_count": 92,
   "id": "815a90fc",
   "metadata": {
    "ExecuteTime": {
     "end_time": "2024-12-11T07:23:05.970361Z",
     "start_time": "2024-12-11T07:23:05.958845Z"
    }
   },
   "outputs": [
    {
     "name": "stdout",
     "output_type": "stream",
     "text": [
      "397\n",
      "367\n"
     ]
    }
   ],
   "source": [
    "with open('data/ch14_맞춤법검사후.txt', 'r', encoding='utf-8') as f:\n",
    "    text = f.read()\n",
    "ready_list1 = []\n",
    "while(len(text) > 500):\n",
    "    temp = text[:500]\n",
    "    last_dot_index1 = temp.rfind('\\n')\n",
    "    ready_list1.append(text[:last_dot_index1+1])\n",
    "    print(last_dot_index1)\n",
    "    text = text[last_dot_index1:]\n",
    "ready_list1.append(text)"
   ]
  },
  {
   "cell_type": "code",
   "execution_count": 96,
   "id": "482c0fad",
   "metadata": {
    "ExecuteTime": {
     "end_time": "2024-12-11T07:32:02.252127Z",
     "start_time": "2024-12-11T07:31:38.403948Z"
    }
   },
   "outputs": [
    {
     "name": "stdout",
     "output_type": "stream",
     "text": [
      " Hello. Nice to meet you. The Nobel Prize for Literature is a world-renowned literary prize awarded annually by the Royal Swedish Academy of Sciences, which began in 1901.,The prize was instituted in accordance with the will of Swedish inventor and businessman Alfred Nobel, and is awarded in honour of his legacy; the Nobel Prize in Literature is awarded to writers who have contributed to the development of literature, and who have had outstanding literary achievements that year.Winners receive great attention from literary circles around the world, and their works are usually translated into various languages and read worldwide.,Recipients of this award are given not only for literary achievement, but also for authors who have created works with deep insight and influence on humanity; the works of award-winning authors usually reflect their periodical and social backgrounds or show a deep understanding of human nature. \n",
      " Winners of the Nobel Prize in Literature are selected after rigorous screening by the Swedish Academy; this screening process is conducted behind closed doors, and the shortlist and screening process is kept strictly secret.,The award is announced every October, and the winner usually holds a formal award ceremony on December 10, the day of Alfred Nobel's death. The prize is quite large, and it is considered a reward of great significance in the literary world.Recipients in recent years include American author Louis Slick (2020), French author Peter Hand Kay (2019), and Japanese author Noriko Okazaki (2018).,These are writers who have each had a major impact in modern literature, and their work explores human inner and social reality in different ways. \n",
      " The Nobel Prize for Literature goes beyond simply recognizing literary achievements, and plays an important role in promoting the value of literature to the world and understanding various cultures and traditions.,The Nobel Prize for Literature goes beyond simply recognizing literary achievements, and plays an important role in promoting the value of literature to the world and understanding various cultures and traditions.,The Nobel Prize for Literature goes beyond simply recognizing literary achievements, and plays an important role in promoting the value of literature to the world and understanding various cultures and traditions. \n",
      "\n"
     ]
    }
   ],
   "source": [
    "driver = webdriver.Chrome()\n",
    "time.sleep(1)\n",
    "\n",
    "driver.get('https://translate.kakao.com/')\n",
    "\n",
    "results1 = ''\n",
    "textarea1 = driver.find_element(By.CLASS_NAME, 'translate_area')\n",
    "\n",
    "for ready in ready_list1:\n",
    "    # textarea1.clear()\n",
    "    textarea1.send_keys(Keys.CONTROL, 'a')\n",
    "    textarea1.send_keys(ready)\n",
    "    button = driver.find_element(By.CLASS_NAME, 'btn_translate')\n",
    "    button.click()\n",
    "    time.sleep(1)\n",
    "    soup = BeautifulSoup(driver.page_source, 'html.parser')\n",
    "    result = soup.select_one('div.result_area').text\n",
    "    results1 += result + '\\n'\n",
    "driver.close()\n",
    "print(results1)"
   ]
  },
  {
   "cell_type": "code",
   "execution_count": 97,
   "id": "5fe2f543",
   "metadata": {
    "ExecuteTime": {
     "end_time": "2024-12-11T07:32:46.128720Z",
     "start_time": "2024-12-11T07:32:46.124206Z"
    }
   },
   "outputs": [],
   "source": [
    "with open('data/ch14_영문번역.txt', 'w', encoding='utf-8') as f:\n",
    "    f.write(results1)"
   ]
  },
  {
   "cell_type": "code",
   "execution_count": 98,
   "id": "6ad58b42",
   "metadata": {
    "ExecuteTime": {
     "end_time": "2024-12-11T07:43:53.474041Z",
     "start_time": "2024-12-11T07:43:32.823206Z"
    }
   },
   "outputs": [],
   "source": [
    "with open('data/ch14_맞춤법검사후.txt', 'r', encoding='utf-8') as f:\n",
    "    text = f.read()\n",
    "ready_list = []\n",
    "while(len(text)>1000):\n",
    "    temp = text[:1000]\n",
    "    last_index = temp.rfind('\\n')\n",
    "    ready_list.append(text[:last_index+1])\n",
    "    text = text[last_index :]\n",
    "ready_list.append(text)\n",
    "\n",
    "driver = webdriver.Chrome()\n",
    "time.sleep(1)\n",
    "driver.get('https://www.daum.net/')\n",
    "elem = driver.find_element(By.CSS_SELECTOR, 'input#q')\n",
    "elem.send_keys('다음 번역기')\n",
    "elem.send_keys(Keys.RETURN) # enter 키\n",
    "\n",
    "results = ''\n",
    "textarea = driver.find_element(By.CLASS_NAME, 'translate_area')\n",
    "\n",
    "for r in ready_list:\n",
    "    textarea.send_keys(Keys.CONTROL, 'a')\n",
    "    textarea.send_keys(r)\n",
    "    button = driver.find_element(By.CLASS_NAME, 'btn_translate')\n",
    "    button.click()\n",
    "    time.sleep(1)\n",
    "    soup = BeautifulSoup(driver.page_source, 'html.parser')\n",
    "    result = soup.select_one('div.result_area').text\n",
    "    results += result +'\\n'\n",
    "driver.close()"
   ]
  },
  {
   "cell_type": "markdown",
   "id": "352255c4",
   "metadata": {},
   "source": [
    "# 3절. 자동화\n",
    "## 3.1 컴퓨터가 파이썬을 실행\n",
    "    - unix : corn\n",
    "    - win : 작업스케쥴러\n",
    "        * window + R : taskschd.msc\n",
    "## 3.2 파이썬 프로그램에서 스케쥴링\n",
    "    - pip install schedule"
   ]
  },
  {
   "cell_type": "code",
   "execution_count": 1,
   "id": "42a71884",
   "metadata": {
    "ExecuteTime": {
     "end_time": "2025-01-13T00:53:19.171225Z",
     "start_time": "2025-01-13T00:53:15.349265Z"
    }
   },
   "outputs": [
    {
     "ename": "KeyboardInterrupt",
     "evalue": "",
     "output_type": "error",
     "traceback": [
      "\u001b[1;31m---------------------------------------------------------------------------\u001b[0m",
      "\u001b[1;31mKeyboardInterrupt\u001b[0m                         Traceback (most recent call last)",
      "Cell \u001b[1;32mIn[1], line 16\u001b[0m\n\u001b[0;32m     14\u001b[0m \u001b[38;5;28;01mwhile\u001b[39;00m \u001b[38;5;28;01mTrue\u001b[39;00m:\n\u001b[0;32m     15\u001b[0m     schedule\u001b[38;5;241m.\u001b[39mrun_pending()\n\u001b[1;32m---> 16\u001b[0m     \u001b[43mtime\u001b[49m\u001b[38;5;241;43m.\u001b[39;49m\u001b[43msleep\u001b[49m\u001b[43m(\u001b[49m\u001b[38;5;241;43m1\u001b[39;49m\u001b[43m)\u001b[49m\n",
      "\u001b[1;31mKeyboardInterrupt\u001b[0m: "
     ]
    }
   ],
   "source": [
    "import schedule\n",
    "import time\n",
    "\n",
    "def job():\n",
    "    print('작업이 실행되었습니다.')\n",
    "\n",
    "# job함수는 10초마다 수행함\n",
    "schedule.every(10).seconds.do(job)\n",
    "# schedule.every().day.at('17:55').do(job)\n",
    "# schedule.every().hours.do(job)\n",
    "# schedule.every().minutes.do(job)\n",
    "\n",
    "# 무한 루프를 돌며 스케쥴된 작업이 있는지 확인하고 자동화\n",
    "while True:\n",
    "    schedule.run_pending()\n",
    "    time.sleep(1)"
   ]
  }
 ],
 "metadata": {
  "kernelspec": {
   "display_name": "Python 3 (ipykernel)",
   "language": "python",
   "name": "python3"
  },
  "language_info": {
   "codemirror_mode": {
    "name": "ipython",
    "version": 3
   },
   "file_extension": ".py",
   "mimetype": "text/x-python",
   "name": "python",
   "nbconvert_exporter": "python",
   "pygments_lexer": "ipython3",
   "version": "3.10.9"
  },
  "toc": {
   "base_numbering": 1,
   "nav_menu": {},
   "number_sections": true,
   "sideBar": true,
   "skip_h1_title": false,
   "title_cell": "Table of Contents",
   "title_sidebar": "Contents",
   "toc_cell": false,
   "toc_position": {
    "height": "calc(100% - 180px)",
    "left": "10px",
    "top": "150px",
    "width": "165px"
   },
   "toc_section_display": true,
   "toc_window_display": true
  }
 },
 "nbformat": 4,
 "nbformat_minor": 5
}
