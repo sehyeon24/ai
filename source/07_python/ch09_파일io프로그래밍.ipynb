{
 "cells": [
  {
   "cell_type": "code",
   "execution_count": 14,
   "id": "19d3dbdc",
   "metadata": {
    "ExecuteTime": {
     "end_time": "2024-11-18T03:33:10.798000Z",
     "start_time": "2024-11-18T03:33:10.792451Z"
    }
   },
   "outputs": [
    {
     "data": {
      "text/html": [
       "\n",
       "<style>\n",
       "div.container{width:80% !important;}\n",
       "div.prompt {min-width:70px;}\n",
       "div#toc-header{margin-top:150px;}\n",
       "span.toc-item-num{display:none;}\n",
       "div.CodeMirror {font-family:Consolas}\n",
       "div.input {font-family:Consolas}\n",
       "</style>\n"
      ],
      "text/plain": [
       "<IPython.core.display.HTML object>"
      ]
     },
     "metadata": {},
     "output_type": "display_data"
    }
   ],
   "source": [
    "from IPython.display import display, HTML\n",
    "display(HTML(\"\"\"\n",
    "<style>\n",
    "div.container{width:80% !important;}\n",
    "div.prompt {min-width:70px;}\n",
    "div#toc-header{margin-top:150px;}\n",
    "span.toc-item-num{display:none;}\n",
    "div.CodeMirror {font-family:Consolas}\n",
    "div.input {font-family:Consolas}\n",
    "</style>\n",
    "\"\"\"))"
   ]
  },
  {
   "cell_type": "markdown",
   "id": "0c6602d4",
   "metadata": {},
   "source": [
    "<b><font color='red' size='6'>ch09. 파일 i/o 프로그래밍</font></b>"
   ]
  },
  {
   "cell_type": "markdown",
   "id": "f70958e7",
   "metadata": {},
   "source": [
    "# 1절. 파일에 데이터를 저장하고 불러오기"
   ]
  },
  {
   "cell_type": "code",
   "execution_count": 15,
   "id": "0775f566",
   "metadata": {
    "ExecuteTime": {
     "end_time": "2024-11-18T03:33:11.829324Z",
     "start_time": "2024-11-18T03:33:11.823492Z"
    }
   },
   "outputs": [
    {
     "name": "stdout",
     "output_type": "stream",
     "text": [
      "True\n"
     ]
    }
   ],
   "source": [
    "# w 또는 wt : (write)  기존의 파일이 있는 경우 덮어쓰기, 파일이 없는 경우 생성하여 쓰기\n",
    "# - 쓰기 모드는 폴더가 없는 경우 예외 발생\n",
    "# a 또는 at : (append) 기존의 파일이 있는 경우 (맨 뒤에) append, 파일이 없는 경우 생성하여 쓰기\n",
    "# r 또는 rt : (read)   기존의 파일을 읽는 경우, 파일이 없는 경우 예외 발생\n",
    "f = open('data/ch09_sample.txt', 'w')\n",
    "print(f.writable())"
   ]
  },
  {
   "cell_type": "code",
   "execution_count": 16,
   "id": "7fcaf1a8",
   "metadata": {
    "ExecuteTime": {
     "end_time": "2024-11-18T03:33:12.245615Z",
     "start_time": "2024-11-18T03:33:12.229990Z"
    }
   },
   "outputs": [],
   "source": [
    "f.write('Hello\\nWorld\\nHello\\nPython\\n')  # 한글을 write하면 CP949로 저장됨(windows)\n",
    "f.close()"
   ]
  },
  {
   "cell_type": "code",
   "execution_count": 17,
   "id": "962ca769",
   "metadata": {
    "ExecuteTime": {
     "end_time": "2024-11-18T03:33:13.501124Z",
     "start_time": "2024-11-18T03:33:13.496009Z"
    }
   },
   "outputs": [
    {
     "name": "stdout",
     "output_type": "stream",
     "text": [
      "쓰기 가능한지 여부 : True\n"
     ]
    }
   ],
   "source": [
    "# with 구문을 사용하면 매번 close하는 코드가 불필요함\n",
    "with open('data/ch09_sample.txt', 'wt') as f:\n",
    "    print('쓰기 가능한지 여부 :', f.writable())\n",
    "    f.write('Python is easy.\\nPython is smart.\\n')"
   ]
  },
  {
   "cell_type": "code",
   "execution_count": 18,
   "id": "b4ab8ddb",
   "metadata": {
    "ExecuteTime": {
     "end_time": "2024-11-18T03:33:14.012598Z",
     "start_time": "2024-11-18T03:33:14.007371Z"
    }
   },
   "outputs": [
    {
     "name": "stdout",
     "output_type": "stream",
     "text": [
      "프린트 함수로 파일 쓰기가 가능합니다-콘솔 출력\n"
     ]
    }
   ],
   "source": [
    "with open('data/ch09_sample.txt', 'at') as f:\n",
    "    print('프린트 함수로 파일 쓰기가 가능합니다-콘솔 출력')\n",
    "    print('프린트 함수로 파일 쓰기가 가능합니다-파일 출력', file=f)"
   ]
  },
  {
   "cell_type": "markdown",
   "id": "8ebc2a01",
   "metadata": {},
   "source": [
    "- euc-kr : 한글 완성형 (믜X)\n",
    "- cp949  : 확장된 한글 완성형 (믜O) - 엑셀에서 \n",
    "- utf-8  : 한글 조합형 (초중종성 따로 조합해서 저장) - 주피터노트북에서"
   ]
  },
  {
   "cell_type": "code",
   "execution_count": 19,
   "id": "12d9f358",
   "metadata": {
    "ExecuteTime": {
     "end_time": "2024-11-18T03:33:16.302178Z",
     "start_time": "2024-11-18T03:33:16.294567Z"
    }
   },
   "outputs": [],
   "source": [
    "with open('data/ch09_sample.txt', 'w', encoding='utf-8') as f:\n",
    "    f.write('= 여러 줄의 text를 쓰기 =\\n')\n",
    "    f.write('1방법 : \\nHello\\nWorld\\n')\n",
    "    textlist = ['홍길동, 30, 서울\\n', '김길동, 20, 안양\\n']\n",
    "    f.write('2방법 : \\n')\n",
    "    for line in textlist:\n",
    "        f.write(line)\n",
    "    f.write('3방법 : \\n')\n",
    "    f.writelines(textlist)"
   ]
  },
  {
   "cell_type": "code",
   "execution_count": 22,
   "id": "682694dd",
   "metadata": {
    "ExecuteTime": {
     "end_time": "2024-11-18T03:40:08.187385Z",
     "start_time": "2024-11-18T03:40:08.179999Z"
    }
   },
   "outputs": [
    {
     "name": "stdout",
     "output_type": "stream",
     "text": [
      "= 여러 줄의 text를 쓰기 =\n",
      "1방법 : \n",
      "Hello\n",
      "World\n",
      "2방법 : \n",
      "홍길동, 30, 서울\n",
      "김길동, 20, 안양\n",
      "3방법 : \n",
      "홍길동, 30, 서울\n",
      "김길동, 20, 안양\n"
     ]
    }
   ],
   "source": [
    "# 파일을 한 줄 읽고 출력, 한 줄 읽고 출력, ... text로 return\n",
    "with open('data/ch09_sample.txt', 'r', encoding='utf-8') as f:\n",
    "    line = f.readline()  # 한 줄 읽기\n",
    "    while line != '':\n",
    "        print(line, end='')  # 파일에 \\n이 포함되어서 출력 시 개행은 제거\n",
    "        line = f.readline()"
   ]
  },
  {
   "cell_type": "code",
   "execution_count": 23,
   "id": "251ba79f",
   "metadata": {
    "ExecuteTime": {
     "end_time": "2024-11-18T03:41:51.337278Z",
     "start_time": "2024-11-18T03:41:51.329939Z"
    }
   },
   "outputs": [
    {
     "name": "stdout",
     "output_type": "stream",
     "text": [
      "['= 여러 줄의 text를 쓰기 =\\n', '1방법 : \\n', 'Hello\\n', 'World\\n', '2방법 : \\n', '홍길동, 30, 서울\\n', '김길동, 20, 안양\\n', '3방법 : \\n', '홍길동, 30, 서울\\n', '김길동, 20, 안양\\n']\n"
     ]
    }
   ],
   "source": [
    "# 파일을 한 번에 여러 줄 읽어 list를 return\n",
    "with open('data/ch09_sample.txt', 'r', encoding='utf-8') as f:\n",
    "    lines = f.readlines()  # list로 return\n",
    "    print(lines)"
   ]
  },
  {
   "cell_type": "code",
   "execution_count": 25,
   "id": "80589dcd",
   "metadata": {
    "ExecuteTime": {
     "end_time": "2024-11-18T03:42:25.486417Z",
     "start_time": "2024-11-18T03:42:25.481356Z"
    }
   },
   "outputs": [
    {
     "name": "stdout",
     "output_type": "stream",
     "text": [
      "= 여러 줄의 text를 쓰기 =\n",
      "1방법 : \n",
      "Hello\n",
      "World\n",
      "2방법 : \n",
      "홍길동, 30, 서울\n",
      "김길동, 20, 안양\n",
      "3방법 : \n",
      "홍길동, 30, 서울\n",
      "김길동, 20, 안양\n"
     ]
    }
   ],
   "source": [
    "for line in lines:\n",
    "    print(line, end='')"
   ]
  },
  {
   "cell_type": "markdown",
   "id": "97e8ab6a",
   "metadata": {},
   "source": [
    "# 2절. 피클을 이용한 객체 저장 및 불러오기\n",
    "## 2.1 형식이 있는 텍스트 데이터 불러오기"
   ]
  },
  {
   "cell_type": "code",
   "execution_count": 37,
   "id": "e27dea5c",
   "metadata": {
    "ExecuteTime": {
     "end_time": "2024-11-18T03:56:51.187580Z",
     "start_time": "2024-11-18T03:56:51.178583Z"
    }
   },
   "outputs": [
    {
     "name": "stdout",
     "output_type": "stream",
     "text": [
      "이름 : 홍길동, 나이 : 20, 메일 : kildong@hong.com, 주소 : 서울시 관악구\n",
      "이름 : 홍길숙, 나이 : 25, 메일 : kilsuk1@hong.com, 주소 : 서울시 영등포구\n",
      "이름 : 신길동, 나이 : 30, 메일 : shinkil@hong.com, 주소 : 서울시 동작구\n"
     ]
    }
   ],
   "source": [
    "with open('data/ch09_member.txt', 'r', encoding='utf-8') as f:\n",
    "    lines = f.readlines()\n",
    "    # print(lines)\n",
    "for line in lines:\n",
    "    # print(line)\n",
    "    data = line.strip().split(',')  # strip() : 앞뒤에 white space 제거 (trim())\n",
    "    name = data[0]\n",
    "    age = int(data[1].strip())  # ' 20'이므로 strip() 해주기\n",
    "    email = data[2].strip()\n",
    "    address = data[3].strip()\n",
    "    print('이름 : {}, 나이 : {}, 메일 : {}, 주소 : {}'.format(name, age, email, address))"
   ]
  },
  {
   "cell_type": "code",
   "execution_count": 38,
   "id": "ac00ba6c",
   "metadata": {
    "ExecuteTime": {
     "end_time": "2024-11-18T04:01:59.862685Z",
     "start_time": "2024-11-18T04:01:59.856357Z"
    }
   },
   "outputs": [],
   "source": [
    "class Member:\n",
    "    def __init__(self, name, age, email, address):\n",
    "        self.name = name\n",
    "        self.age = age\n",
    "        self.email = email\n",
    "        self.address = address\n",
    "    def __str__(self):\n",
    "        return '이름 : {}, 나이 : {}, 메일 : {}, 주소 : {}'.format(self.name, self.age, self.email, self.address)\n",
    "    def as_dict(self):  # 객체를 딕셔너리로 바꿔 return\n",
    "        return {'name' : self.name,\n",
    "                'age' : self.age,\n",
    "                'email' : self.email,\n",
    "                'address' : self.address}"
   ]
  },
  {
   "cell_type": "code",
   "execution_count": 42,
   "id": "d710cc74",
   "metadata": {
    "ExecuteTime": {
     "end_time": "2024-11-18T04:03:50.701729Z",
     "start_time": "2024-11-18T04:03:50.696728Z"
    }
   },
   "outputs": [
    {
     "name": "stdout",
     "output_type": "stream",
     "text": [
      "이름 : 홍길동, 나이 : 22, 메일 : hong@hong.com, 주소 : 서울\n",
      "{'name': '홍길동', 'age': 22, 'email': 'hong@hong.com', 'address': '서울'}\n"
     ]
    }
   ],
   "source": [
    "# 생성자 test\n",
    "user = Member('홍길동', 22, 'hong@hong.com', '서울')\n",
    "# __str__ test\n",
    "print(user)\n",
    "# as_dict test\n",
    "print(user.as_dict())"
   ]
  },
  {
   "cell_type": "code",
   "execution_count": 43,
   "id": "e9ab4c40",
   "metadata": {
    "ExecuteTime": {
     "end_time": "2024-11-18T04:09:59.060360Z",
     "start_time": "2024-11-18T04:09:59.052363Z"
    }
   },
   "outputs": [],
   "source": [
    "# 파일의 내용을 member list나 딕셔너리 list로 읽기\n",
    "user_list = []  # member list\n",
    "user_dict = []  # 딕셔너리 list\n",
    "with open('data/ch09_member.txt', 'r', encoding='utf-8') as f:\n",
    "    lines = f.readlines()\n",
    "for line in lines:\n",
    "    data = line.strip().split(',')\n",
    "    name = data[0]\n",
    "    age = int(data[1].strip())\n",
    "    email = data[2].strip()\n",
    "    address = data[3].strip()\n",
    "    user = Member(name, age, email, address)\n",
    "    user_list.append(user)\n",
    "    user_dict.append(user.as_dict())"
   ]
  },
  {
   "cell_type": "code",
   "execution_count": 45,
   "id": "5d43e42a",
   "metadata": {
    "ExecuteTime": {
     "end_time": "2024-11-18T04:10:48.063758Z",
     "start_time": "2024-11-18T04:10:48.058134Z"
    }
   },
   "outputs": [
    {
     "name": "stdout",
     "output_type": "stream",
     "text": [
      "이름 : 홍길동, 나이 : 20, 메일 : kildong@hong.com, 주소 : 서울시 관악구\n",
      "이름 : 홍길숙, 나이 : 25, 메일 : kilsuk1@hong.com, 주소 : 서울시 영등포구\n",
      "이름 : 신길동, 나이 : 30, 메일 : shinkil@hong.com, 주소 : 서울시 동작구\n"
     ]
    }
   ],
   "source": [
    "# user_list (Member 객체 list)\n",
    "for user in user_list:\n",
    "    print(user)"
   ]
  },
  {
   "cell_type": "code",
   "execution_count": 46,
   "id": "8ef23cca",
   "metadata": {
    "ExecuteTime": {
     "end_time": "2024-11-18T04:11:14.975076Z",
     "start_time": "2024-11-18T04:11:14.970078Z"
    }
   },
   "outputs": [
    {
     "name": "stdout",
     "output_type": "stream",
     "text": [
      "{'name': '홍길동', 'age': 20, 'email': 'kildong@hong.com', 'address': '서울시 관악구'}\n",
      "{'name': '홍길숙', 'age': 25, 'email': 'kilsuk1@hong.com', 'address': '서울시 영등포구'}\n",
      "{'name': '신길동', 'age': 30, 'email': 'shinkil@hong.com', 'address': '서울시 동작구'}\n"
     ]
    }
   ],
   "source": [
    "# user_dict (Member 객체 딕셔너리 list)\n",
    "for user in user_dict:\n",
    "    print(user)"
   ]
  },
  {
   "cell_type": "code",
   "execution_count": 47,
   "id": "6e0f9d0c",
   "metadata": {
    "ExecuteTime": {
     "end_time": "2024-11-18T05:13:08.881366Z",
     "start_time": "2024-11-18T05:13:08.874370Z"
    }
   },
   "outputs": [
    {
     "data": {
      "text/plain": [
       "[{'name': '홍길동', 'age': 20, 'email': 'kildong@hong.com', 'address': '서울시 관악구'},\n",
       " {'name': '홍길숙',\n",
       "  'age': 25,\n",
       "  'email': 'kilsuk1@hong.com',\n",
       "  'address': '서울시 영등포구'},\n",
       " {'name': '신길동', 'age': 30, 'email': 'shinkil@hong.com', 'address': '서울시 동작구'}]"
      ]
     },
     "execution_count": 47,
     "metadata": {},
     "output_type": "execute_result"
    }
   ],
   "source": [
    "# user_dict (딕셔너리 list)\n",
    "user_dict"
   ]
  },
  {
   "cell_type": "markdown",
   "id": "a95f04fe",
   "metadata": {},
   "source": [
    "## 2.2 피클링\n",
    " - 바이너리를 사용해 저장할 때는 피클을 이용해야 함"
   ]
  },
  {
   "cell_type": "code",
   "execution_count": 55,
   "id": "53fa5315",
   "metadata": {
    "ExecuteTime": {
     "end_time": "2024-11-18T05:24:28.677685Z",
     "start_time": "2024-11-18T05:24:28.667690Z"
    }
   },
   "outputs": [
    {
     "name": "stdout",
     "output_type": "stream",
     "text": [
      "True\n",
      "True\n"
     ]
    }
   ],
   "source": [
    "class Member:\n",
    "    def __init__(self, name, age, email, address):\n",
    "        self.name = name\n",
    "        self.age = age\n",
    "        self.email = email\n",
    "        self.address = address\n",
    "    def __str__(self):\n",
    "        return '이름 : {}, 나이 : {}, 메일 : {}, 주소 : {}'.format(self.name, self.age, self.email, self.address)\n",
    "    def __eq__(self, other):\n",
    "        '''\n",
    "        user1.__eq__(user2) 호출 시 user1의 속성변수들과 user2의 속성변수들이 모두 같은지 여부를 return\n",
    "        '''\n",
    "        if isinstance(other, Member):\n",
    "            return self.name == other.name and self.age == other.age and \\\n",
    "                            self.email == other.email and self.address == other.address\n",
    "        else:\n",
    "            return False\n",
    "    def as_dict(self):  # 객체를 딕셔너리로 바꿔 return\n",
    "        return {'name' : self.name,\n",
    "                'age' : self.age,\n",
    "                'email' : self.email,\n",
    "                'address' : self.address}\n",
    "    \n",
    "user1 = Member('홍길동', 20, 'h@h.com', '서울')\n",
    "user2 = Member('홍길동', 20, 'h@h.com', '서울')    \n",
    "print(user1.__eq__(user2))\n",
    "print(user1 == user2)"
   ]
  },
  {
   "cell_type": "code",
   "execution_count": 56,
   "id": "33d35078",
   "metadata": {
    "ExecuteTime": {
     "end_time": "2024-11-18T05:27:06.719988Z",
     "start_time": "2024-11-18T05:27:06.713990Z"
    }
   },
   "outputs": [],
   "source": [
    "user1 = Member('홍길동', 20, 'h@h.com', '서울')\n",
    "user2 = Member('김길동', 25, 'k@h.com', '인천')\n",
    "user3 = Member('신길동', 30, 's@h.com', '포천')\n",
    "user_list = [user1, user2, user3]"
   ]
  },
  {
   "cell_type": "code",
   "execution_count": 57,
   "id": "b63d6677",
   "metadata": {
    "ExecuteTime": {
     "end_time": "2024-11-18T05:27:21.214158Z",
     "start_time": "2024-11-18T05:27:21.209014Z"
    }
   },
   "outputs": [
    {
     "name": "stdout",
     "output_type": "stream",
     "text": [
      "이름 : 홍길동, 나이 : 20, 메일 : h@h.com, 주소 : 서울\n",
      "이름 : 김길동, 나이 : 25, 메일 : k@h.com, 주소 : 인천\n",
      "이름 : 신길동, 나이 : 30, 메일 : s@h.com, 주소 : 포천\n"
     ]
    }
   ],
   "source": [
    "for user in user_list:\n",
    "    print(user)"
   ]
  },
  {
   "cell_type": "code",
   "execution_count": 58,
   "id": "da1a1907",
   "metadata": {
    "ExecuteTime": {
     "end_time": "2024-11-18T05:30:35.516577Z",
     "start_time": "2024-11-18T05:30:35.511961Z"
    }
   },
   "outputs": [],
   "source": [
    "# 피클링을 이용한 객체를 파일에 저장하기\n",
    "import pickle\n",
    "with open('data/ch09_member.data', 'wb') as f:  # write binary\n",
    "    pickle.dump(user_list, f)"
   ]
  },
  {
   "cell_type": "code",
   "execution_count": 59,
   "id": "7f24c4ab",
   "metadata": {
    "ExecuteTime": {
     "end_time": "2024-11-18T05:31:42.907699Z",
     "start_time": "2024-11-18T05:31:42.904700Z"
    }
   },
   "outputs": [],
   "source": [
    "# 변수만 지운 것이므로 내용은 남아있음\n",
    "del user1, user2, user3"
   ]
  },
  {
   "cell_type": "code",
   "execution_count": 60,
   "id": "757ac737",
   "metadata": {
    "ExecuteTime": {
     "end_time": "2024-11-18T05:33:54.243478Z",
     "start_time": "2024-11-18T05:33:54.238479Z"
    }
   },
   "outputs": [],
   "source": [
    "# 피클링을 이용한 파일에서 객체 데이터 읽기\n",
    "with open('data/ch09_member.data', 'rb') as f:\n",
    "    load_user_list = pickle.load(f)  # 객체 리스트로 가져옴"
   ]
  },
  {
   "cell_type": "code",
   "execution_count": 61,
   "id": "2d2c872a",
   "metadata": {
    "ExecuteTime": {
     "end_time": "2024-11-18T05:34:07.730550Z",
     "start_time": "2024-11-18T05:34:07.725552Z"
    }
   },
   "outputs": [
    {
     "name": "stdout",
     "output_type": "stream",
     "text": [
      "이름 : 홍길동, 나이 : 20, 메일 : h@h.com, 주소 : 서울\n",
      "이름 : 김길동, 나이 : 25, 메일 : k@h.com, 주소 : 인천\n",
      "이름 : 신길동, 나이 : 30, 메일 : s@h.com, 주소 : 포천\n"
     ]
    }
   ],
   "source": [
    "for user in load_user_list:\n",
    "    print(user)"
   ]
  },
  {
   "cell_type": "code",
   "execution_count": 63,
   "id": "0d294b0a",
   "metadata": {
    "ExecuteTime": {
     "end_time": "2024-11-18T05:36:48.172584Z",
     "start_time": "2024-11-18T05:36:48.165027Z"
    }
   },
   "outputs": [
    {
     "data": {
      "text/plain": [
       "[True, True, True]"
      ]
     },
     "execution_count": 63,
     "metadata": {},
     "output_type": "execute_result"
    }
   ],
   "source": [
    "# user_list와 load_user_list가 모두 같은지 여부 확인\n",
    "result = []\n",
    "for idx in range(len(user_list)):\n",
    "    # print(idx)\n",
    "    result.append(user_list[idx] == load_user_list[idx])\n",
    "result"
   ]
  },
  {
   "cell_type": "code",
   "execution_count": 64,
   "id": "c29a082b",
   "metadata": {
    "ExecuteTime": {
     "end_time": "2024-11-18T05:37:41.665446Z",
     "start_time": "2024-11-18T05:37:41.659447Z"
    }
   },
   "outputs": [
    {
     "data": {
      "text/plain": [
       "True"
      ]
     },
     "execution_count": 64,
     "metadata": {},
     "output_type": "execute_result"
    }
   ],
   "source": [
    "all(result)  # 모든 요소들이 True인지 여부를 return"
   ]
  },
  {
   "cell_type": "markdown",
   "id": "4ebc30e3",
   "metadata": {},
   "source": [
    "# 3절. csv 형식 파일 읽기/쓰기\n",
    " - CSV 파일의 자료를 리스트 데이터로 읽기    (3.1과 3.2)\n",
    " - CSV 파일의 자료를 딕셔너리 데이터로 읽기  (3.3과 3.4)\n",
    " \n",
    "## 3.1 reader"
   ]
  },
  {
   "cell_type": "code",
   "execution_count": 68,
   "id": "719c32b0",
   "metadata": {
    "ExecuteTime": {
     "end_time": "2024-11-18T06:00:26.597632Z",
     "start_time": "2024-11-18T06:00:26.592038Z"
    }
   },
   "outputs": [
    {
     "name": "stdout",
     "output_type": "stream",
     "text": [
      "['홍길동', '20', 'kildong@hong.com', '서울시 관악구']\n",
      "['김길동', '40', 'kimdong@hong.com', '서울시 영등포구']\n",
      "['신길동', '30', 'sindong@hong.com', '서울시 동작구']\n"
     ]
    }
   ],
   "source": [
    "# utf-8로 인코딩된 csv파일 읽기\n",
    "import csv\n",
    "with open('data/ch09_member1.csv', 'r', encoding='UTF-8') as f:\n",
    "    reader = csv.reader(f)\n",
    "    # print(list(reader))\n",
    "    for row in reader:\n",
    "        print(row)"
   ]
  },
  {
   "cell_type": "code",
   "execution_count": 67,
   "id": "ffe3bcdb",
   "metadata": {
    "ExecuteTime": {
     "end_time": "2024-11-18T05:59:49.361650Z",
     "start_time": "2024-11-18T05:59:49.328426Z"
    }
   },
   "outputs": [
    {
     "ename": "ValueError",
     "evalue": "I/O operation on closed file.",
     "output_type": "error",
     "traceback": [
      "\u001b[1;31m---------------------------------------------------------------------------\u001b[0m",
      "\u001b[1;31mValueError\u001b[0m                                Traceback (most recent call last)",
      "Cell \u001b[1;32mIn[67], line 1\u001b[0m\n\u001b[1;32m----> 1\u001b[0m \u001b[38;5;28mprint\u001b[39m(\u001b[38;5;28;43mlist\u001b[39;49m\u001b[43m(\u001b[49m\u001b[43mreader\u001b[49m\u001b[43m)\u001b[49m)\n",
      "\u001b[1;31mValueError\u001b[0m: I/O operation on closed file."
     ]
    }
   ],
   "source": [
    "print(list(reader))  # 변수에 할당해야지 읽어들일 수 있음"
   ]
  },
  {
   "cell_type": "code",
   "execution_count": 71,
   "id": "7ea28ea4",
   "metadata": {
    "ExecuteTime": {
     "end_time": "2024-11-18T06:21:30.163373Z",
     "start_time": "2024-11-18T06:21:30.157377Z"
    }
   },
   "outputs": [
    {
     "name": "stdout",
     "output_type": "stream",
     "text": [
      "홍길동 - 20 - kildong@hong.com - 서울시 관악구\n",
      "김길동 - 40 - kimdong@hong.com - 서울시 영등포구 - 팀장\n",
      "신길동 - 30 - sindong@hong.com - 서울시 동작구\n"
     ]
    }
   ],
   "source": [
    "# CP949로 인코딩된 csv파일 read\n",
    "with open('data/ch09_member1-cp.csv') as f:  # 'r', encoding='CP949' : 기본값으로 생략 가능\n",
    "    reader = csv.reader(f)\n",
    "    result = list(reader)\n",
    "# print(result)  # list 안에 list\n",
    "for row in result:\n",
    "    print(' - '.join(row))"
   ]
  },
  {
   "cell_type": "code",
   "execution_count": 73,
   "id": "ce74caff",
   "metadata": {
    "ExecuteTime": {
     "end_time": "2024-11-18T06:25:53.977384Z",
     "start_time": "2024-11-18T06:25:53.969528Z"
    }
   },
   "outputs": [
    {
     "name": "stdout",
     "output_type": "stream",
     "text": [
      "['홍길동', 20.0, 'kildong@hong.com', '서울시 관악구']\n",
      "['김길동', 40.0, 'kimdong@hong.com', '서울시 영등포구']\n",
      "['신길동', 30.0, 'sindong@hong.com', '서울시 동작구']\n"
     ]
    }
   ],
   "source": [
    "# \"\"(따옴표)가 없는 데이터는 numeric으로 처리\n",
    "with open('data/ch09_member1.csv', 'r', encoding='utf-8') as f:\n",
    "    reader = csv.reader(\n",
    "        f, quotechar='\"',\n",
    "        quoting=csv.QUOTE_NONNUMERIC)  # \"가 없는 것은 numeric으로 가져오도록\n",
    "    for row in reader:\n",
    "        print(row)  # 기본적으로 float로 가져옴"
   ]
  },
  {
   "cell_type": "code",
   "execution_count": 75,
   "id": "a454eb16",
   "metadata": {
    "ExecuteTime": {
     "end_time": "2024-11-18T06:30:05.719687Z",
     "start_time": "2024-11-18T06:30:05.711685Z"
    }
   },
   "outputs": [
    {
     "name": "stdout",
     "output_type": "stream",
     "text": [
      "파일에서 읽어온 딕셔너리 리스트\n",
      "[{'name': '홍길동', 'age': 20.0, 'email': 'kildong@hong.com', 'address': '서울시 관악구'}, {'name': '김길동', 'age': 40.0, 'email': 'kimdong@hong.com', 'address': '서울시 영등포구'}, {'name': '신길동', 'age': 30.0, 'email': 'sindong@hong.com', 'address': '서울시 동작구'}]\n"
     ]
    }
   ],
   "source": [
    "# csv 파일의 내용을 딕셔너리 리스트로 가져오기\n",
    "user_dict = []\n",
    "with open('data/ch09_member1.csv', encoding='utf-8') as f:\n",
    "    reader = csv.reader(f, quotechar='\"', quoting=csv.QUOTE_NONNUMERIC)\n",
    "    for row in reader:\n",
    "        user_dict.append({'name' : row[0], 'age' : row[1], 'email' : row[2], 'address' : row[3], })\n",
    "print('파일에서 읽어온 딕셔너리 리스트')\n",
    "print(user_dict)"
   ]
  },
  {
   "cell_type": "markdown",
   "id": "b7524622",
   "metadata": {},
   "source": [
    "## 3.2 writer"
   ]
  },
  {
   "cell_type": "code",
   "execution_count": 76,
   "id": "14266b68",
   "metadata": {
    "ExecuteTime": {
     "end_time": "2024-11-18T06:35:01.691883Z",
     "start_time": "2024-11-18T06:35:01.686886Z"
    }
   },
   "outputs": [],
   "source": [
    "user_list = [['홍길동',20,'hong@hong.com','서울'],\n",
    "             ['신길동',30,'shin@hong.com','인천'],]"
   ]
  },
  {
   "cell_type": "code",
   "execution_count": 77,
   "id": "c7297c89",
   "metadata": {
    "ExecuteTime": {
     "end_time": "2024-11-18T06:40:27.961912Z",
     "start_time": "2024-11-18T06:40:27.955914Z"
    }
   },
   "outputs": [],
   "source": [
    "# newline='' 옵션을 빼면 개행이 2번 이루어짐\n",
    "try:\n",
    "    with open('data/ch09_member2-write-cp.csv', 'w', newline='') as f:\n",
    "        writer = csv.writer(f)\n",
    "        for user in user_list:\n",
    "            writer.writerow(user)\n",
    "except FileNotFoundError as e:\n",
    "    print(e)"
   ]
  },
  {
   "cell_type": "code",
   "execution_count": 79,
   "id": "daa652da",
   "metadata": {
    "ExecuteTime": {
     "end_time": "2024-11-18T06:47:54.076726Z",
     "start_time": "2024-11-18T06:47:54.070728Z"
    }
   },
   "outputs": [],
   "source": [
    "with open('data/ch09_member2-write.csv', 'w', encoding='utf-8', newline='') as f:  # w모드는 생략 불가능\n",
    "    writer = csv.writer(f, quoting=csv.QUOTE_NONNUMERIC)\n",
    "    writer.writerows(user_list)"
   ]
  },
  {
   "cell_type": "markdown",
   "id": "e9069972",
   "metadata": {},
   "source": [
    "## 3.3 DictReader\n",
    " - csv파일의 자료를 딕셔너리 데이터로 읽기"
   ]
  },
  {
   "cell_type": "code",
   "execution_count": 82,
   "id": "cc2c3ff6",
   "metadata": {
    "ExecuteTime": {
     "end_time": "2024-11-18T07:29:46.912651Z",
     "start_time": "2024-11-18T07:29:46.904654Z"
    }
   },
   "outputs": [
    {
     "name": "stdout",
     "output_type": "stream",
     "text": [
      "홍길동 20 h@h.com 서울시 관악구\n",
      "신길동 40 s@s.com 서울시 영등포구 팀장\n",
      "김길동 30 k@k.com 서울시 동작구\n"
     ]
    }
   ],
   "source": [
    "# header가 있는 csv 파일을 딕셔너리로 읽기(ch09_member3.csv)\n",
    "with open('data/ch09_member3.csv', 'r', encoding='utf-8') as f:\n",
    "    dict_reader = csv.DictReader(f)\n",
    "    # print(list(dict_reader))\n",
    "    for row in dict_reader:\n",
    "        if row['job'] is None:\n",
    "            print(row['name'], row['age'], row['email'], row['address'])\n",
    "        else:\n",
    "            print(row['name'], row['age'], row['email'], row['address'], row['job'])"
   ]
  },
  {
   "cell_type": "code",
   "execution_count": 84,
   "id": "76816b7e",
   "metadata": {
    "ExecuteTime": {
     "end_time": "2024-11-18T07:32:49.445301Z",
     "start_time": "2024-11-18T07:32:49.431192Z"
    }
   },
   "outputs": [
    {
     "data": {
      "text/html": [
       "<div>\n",
       "<style scoped>\n",
       "    .dataframe tbody tr th:only-of-type {\n",
       "        vertical-align: middle;\n",
       "    }\n",
       "\n",
       "    .dataframe tbody tr th {\n",
       "        vertical-align: top;\n",
       "    }\n",
       "\n",
       "    .dataframe thead th {\n",
       "        text-align: right;\n",
       "    }\n",
       "</style>\n",
       "<table border=\"1\" class=\"dataframe\">\n",
       "  <thead>\n",
       "    <tr style=\"text-align: right;\">\n",
       "      <th></th>\n",
       "      <th>name</th>\n",
       "      <th>age</th>\n",
       "      <th>email</th>\n",
       "      <th>address</th>\n",
       "      <th>job</th>\n",
       "    </tr>\n",
       "  </thead>\n",
       "  <tbody>\n",
       "    <tr>\n",
       "      <th>0</th>\n",
       "      <td>홍길동</td>\n",
       "      <td>20</td>\n",
       "      <td>h@h.com</td>\n",
       "      <td>서울시 관악구</td>\n",
       "      <td>NaN</td>\n",
       "    </tr>\n",
       "    <tr>\n",
       "      <th>1</th>\n",
       "      <td>신길동</td>\n",
       "      <td>40</td>\n",
       "      <td>s@s.com</td>\n",
       "      <td>서울시 영등포구</td>\n",
       "      <td>팀장</td>\n",
       "    </tr>\n",
       "    <tr>\n",
       "      <th>2</th>\n",
       "      <td>김길동</td>\n",
       "      <td>30</td>\n",
       "      <td>k@k.com</td>\n",
       "      <td>서울시 동작구</td>\n",
       "      <td>NaN</td>\n",
       "    </tr>\n",
       "  </tbody>\n",
       "</table>\n",
       "</div>"
      ],
      "text/plain": [
       "  name  age    email   address  job\n",
       "0  홍길동   20  h@h.com   서울시 관악구  NaN\n",
       "1  신길동   40  s@s.com  서울시 영등포구   팀장\n",
       "2  김길동   30  k@k.com   서울시 동작구  NaN"
      ]
     },
     "execution_count": 84,
     "metadata": {},
     "output_type": "execute_result"
    }
   ],
   "source": [
    "# open() encoding='CP949'가 디폴트\n",
    "# cf. csv파일을 데이터프레임으로\n",
    "import pandas as pd\n",
    "member = pd.read_csv('data/ch09_member3.csv', encoding='utf-8')  # encoding='utf-8'이 기본\n",
    "member"
   ]
  },
  {
   "cell_type": "code",
   "execution_count": 85,
   "id": "de53bff9",
   "metadata": {
    "ExecuteTime": {
     "end_time": "2024-11-18T07:32:58.714700Z",
     "start_time": "2024-11-18T07:32:58.709702Z"
    }
   },
   "outputs": [
    {
     "data": {
      "text/plain": [
       "pandas.core.frame.DataFrame"
      ]
     },
     "execution_count": 85,
     "metadata": {},
     "output_type": "execute_result"
    }
   ],
   "source": [
    "type(member)"
   ]
  },
  {
   "cell_type": "code",
   "execution_count": 87,
   "id": "d9beee86",
   "metadata": {
    "ExecuteTime": {
     "end_time": "2024-11-18T07:40:16.320953Z",
     "start_time": "2024-11-18T07:40:16.314954Z"
    }
   },
   "outputs": [
    {
     "name": "stdout",
     "output_type": "stream",
     "text": [
      "홍길동 20 kildong@hong.com 서울시 관악구\n",
      "김길동 40 kimdong@hong.com 서울시 영등포구\n",
      "신길동 30 sindong@hong.com 서울시 동작구\n"
     ]
    }
   ],
   "source": [
    "# header가 없는 csv 파일을 딕셔너리로 읽기(ch09_member1-cp.csv)\n",
    "with open('data/ch09_member1-cp.csv', 'r', encoding='cp949') as f:\n",
    "    dict_reader = csv.DictReader(f, fieldnames=['Name', 'Age', 'Email', 'Address'])\n",
    "    for row in dict_reader:\n",
    "        # print(row)\n",
    "        # 지정한 header에 Job이 없으므로 무시되어 출력되지 않음\n",
    "        print(row['Name'], row['Age'], row['Email'], row['Address'])"
   ]
  },
  {
   "cell_type": "code",
   "execution_count": 89,
   "id": "296af226",
   "metadata": {
    "ExecuteTime": {
     "end_time": "2024-11-18T07:42:00.600189Z",
     "start_time": "2024-11-18T07:42:00.593192Z"
    }
   },
   "outputs": [
    {
     "name": "stdout",
     "output_type": "stream",
     "text": [
      "{'Name': '홍길동', 'Age': '20', 'Email': 'kildong@hong.com', 'Address': '서울시 관악구', 'Job': ''}\n",
      "홍길동 20 kildong@hong.com 서울시 관악구 \n",
      "{'Name': '김길동', 'Age': '40', 'Email': 'kimdong@hong.com', 'Address': '서울시 영등포구', 'Job': '팀장'}\n",
      "김길동 40 kimdong@hong.com 서울시 영등포구 팀장\n",
      "{'Name': '신길동', 'Age': '30', 'Email': 'sindong@hong.com', 'Address': '서울시 동작구', 'Job': ''}\n",
      "신길동 30 sindong@hong.com 서울시 동작구 \n"
     ]
    }
   ],
   "source": [
    "# header가 없는 csv 파일을 딕셔너리로 읽기(ch09_member1-cp.csv)\n",
    "# Job까지 가져오기\n",
    "with open('data/ch09_member1-cp.csv', 'r', encoding='cp949') as f:\n",
    "    dict_reader = csv.DictReader(f, fieldnames=['Name', 'Age', 'Email', 'Address', 'Job'])\n",
    "    for row in dict_reader:\n",
    "        # print(row)\n",
    "        print(row['Name'], row['Age'], row['Email'], row['Address'], row['Job'])"
   ]
  },
  {
   "cell_type": "code",
   "execution_count": 91,
   "id": "dd29789c",
   "metadata": {
    "ExecuteTime": {
     "end_time": "2024-11-18T07:47:04.535348Z",
     "start_time": "2024-11-18T07:47:04.527351Z"
    }
   },
   "outputs": [
    {
     "name": "stdout",
     "output_type": "stream",
     "text": [
      "홍길동 20 kildong@hong.com 서울시 관악구\n",
      "김길동 40 kimdong@hong.com 서울시 영등포구 팀장\n",
      "신길동 30 sindong@hong.com 서울시 동작구\n"
     ]
    }
   ],
   "source": [
    "# header가 없는 csv 파일을 딕셔너리로 읽기(ch09_member1-cp.csv) / Job까지 가져오기\n",
    "with open('data/ch09_member1-cp.csv', 'r', encoding='cp949') as f:\n",
    "    dict_reader = csv.DictReader(f, fieldnames=['Name', 'Age', 'Email', 'Address'], restkey='Job')\n",
    "    for row in dict_reader:\n",
    "        # print(row)\n",
    "        if row['Job'][0] == '':\n",
    "            print(row['Name'], row['Age'], row['Email'], row['Address'])\n",
    "        else:\n",
    "            print(row['Name'], row['Age'], row['Email'], row['Address'], row['Job'][0])"
   ]
  },
  {
   "cell_type": "code",
   "execution_count": 101,
   "id": "20ab2391",
   "metadata": {
    "ExecuteTime": {
     "end_time": "2024-11-18T07:59:42.970816Z",
     "start_time": "2024-11-18T07:59:42.960188Z"
    }
   },
   "outputs": [
    {
     "name": "stdout",
     "output_type": "stream",
     "text": [
      "{'Name': '신길동', 'Age': '30', 'Email': 'sindong@hong.com', 'Address': '서울시 동작구', 'Job': ''}\n"
     ]
    },
    {
     "data": {
      "text/plain": [
       "[{'Name': '홍길동',\n",
       "  'Age': '20',\n",
       "  'Email': 'kildong@hong.com',\n",
       "  'Address': '서울시 관악구',\n",
       "  'Job': ''},\n",
       " {'Name': '김길동',\n",
       "  'Age': '40',\n",
       "  'Email': 'kimdong@hong.com',\n",
       "  'Address': '서울시 영등포구',\n",
       "  'Job': '팀장'},\n",
       " {'Name': '신길동',\n",
       "  'Age': '30',\n",
       "  'Email': 'sindong@hong.com',\n",
       "  'Address': '서울시 동작구',\n",
       "  'Job': ''}]"
      ]
     },
     "execution_count": 101,
     "metadata": {},
     "output_type": "execute_result"
    }
   ],
   "source": [
    "# ch09_member1.cp.csv의 내용을 딕셔너리 list로 받아보세요\n",
    "userlist = []  # 딕셔너리 list\n",
    "# 파일의 내용을 userlist에 담ㄱ\n",
    "with open('data/ch09_member1-cp.csv', 'r', encoding='CP949') as f:\n",
    "          dict_reader = csv.DictReader(f, fieldnames=['Name', 'Age', 'Email', 'Address', 'Job'])\n",
    "          for row in dict_reader:\n",
    "                userlist.append(row)\n",
    "print(row)                \n",
    "userlist"
   ]
  },
  {
   "cell_type": "markdown",
   "id": "bc5e7692",
   "metadata": {},
   "source": [
    "## 3.4 DictWriter\n",
    " - 딕셔너리 리스트를 csv파일로 쓰기"
   ]
  },
  {
   "cell_type": "code",
   "execution_count": 115,
   "id": "ed7b5334",
   "metadata": {
    "ExecuteTime": {
     "end_time": "2024-11-18T08:34:35.741591Z",
     "start_time": "2024-11-18T08:34:35.734593Z"
    }
   },
   "outputs": [
    {
     "name": "stdout",
     "output_type": "stream",
     "text": [
      "['name', 'age', 'email', 'address']\n"
     ]
    }
   ],
   "source": [
    "user1 = {'name' : '홍길동', 'age' : 20, 'email' : 'h@hong.com', 'address' : '서울'}\n",
    "user2 = {'name' : '신길동', 'age' : 25, 'email' : 's@hong.com', 'address' : '부산'}\n",
    "user3 = {'name' : '김길동', 'age' : 35, 'email' : 'k@hong.com', 'address' : '인천'}\n",
    "user_list = [user1, user2, user3]\n",
    "fieldnames = list(user1.keys())\n",
    "print(fieldnames)"
   ]
  },
  {
   "cell_type": "markdown",
   "id": "84324914",
   "metadata": {},
   "source": [
    "```\n",
    "csv 파일 내용\n",
    "naem,age,email,address\n",
    "홍길동,20,h@hong.com,서울\n",
    "...\n",
    "```"
   ]
  },
  {
   "cell_type": "code",
   "execution_count": 119,
   "id": "f293650a",
   "metadata": {
    "ExecuteTime": {
     "end_time": "2024-11-18T08:35:52.347345Z",
     "start_time": "2024-11-18T08:35:52.340532Z"
    }
   },
   "outputs": [],
   "source": [
    "with open('data/ch09_member4.csv', 'w', encoding='UTF-8', newline='') as f:\n",
    "    dict_writer = csv.DictWriter(f, fieldnames=fieldnames)\n",
    "    dict_writer.writeheader()  # header 한 줄 쓰기\n",
    "    # for user in user_list:\n",
    "    #     dict_writer.writerow(user)\n",
    "    dict_writer.writerows(user_list)"
   ]
  },
  {
   "cell_type": "code",
   "execution_count": null,
   "id": "e50bef01",
   "metadata": {},
   "outputs": [],
   "source": []
  },
  {
   "cell_type": "code",
   "execution_count": null,
   "id": "b18b63aa",
   "metadata": {},
   "outputs": [],
   "source": []
  },
  {
   "cell_type": "code",
   "execution_count": null,
   "id": "aace3ee2",
   "metadata": {},
   "outputs": [],
   "source": []
  },
  {
   "cell_type": "code",
   "execution_count": null,
   "id": "f69d01c3",
   "metadata": {},
   "outputs": [],
   "source": []
  },
  {
   "cell_type": "code",
   "execution_count": null,
   "id": "8343ce5d",
   "metadata": {},
   "outputs": [],
   "source": []
  },
  {
   "cell_type": "code",
   "execution_count": null,
   "id": "39ed593a",
   "metadata": {},
   "outputs": [],
   "source": []
  },
  {
   "cell_type": "code",
   "execution_count": null,
   "id": "df28e361",
   "metadata": {},
   "outputs": [],
   "source": []
  },
  {
   "cell_type": "code",
   "execution_count": null,
   "id": "1f9d8f62",
   "metadata": {},
   "outputs": [],
   "source": []
  },
  {
   "cell_type": "code",
   "execution_count": null,
   "id": "d0ac1762",
   "metadata": {},
   "outputs": [],
   "source": []
  },
  {
   "cell_type": "code",
   "execution_count": null,
   "id": "a9ab7f17",
   "metadata": {},
   "outputs": [],
   "source": []
  },
  {
   "cell_type": "code",
   "execution_count": null,
   "id": "3b71eba3",
   "metadata": {},
   "outputs": [],
   "source": []
  },
  {
   "cell_type": "code",
   "execution_count": null,
   "id": "c34a8d6b",
   "metadata": {},
   "outputs": [],
   "source": []
  },
  {
   "cell_type": "code",
   "execution_count": null,
   "id": "1ebac453",
   "metadata": {},
   "outputs": [],
   "source": []
  },
  {
   "cell_type": "code",
   "execution_count": null,
   "id": "0994ffa0",
   "metadata": {},
   "outputs": [],
   "source": []
  },
  {
   "cell_type": "code",
   "execution_count": null,
   "id": "be49182d",
   "metadata": {},
   "outputs": [],
   "source": []
  },
  {
   "cell_type": "code",
   "execution_count": null,
   "id": "4f467884",
   "metadata": {},
   "outputs": [],
   "source": []
  },
  {
   "cell_type": "code",
   "execution_count": null,
   "id": "8d5b9b4d",
   "metadata": {},
   "outputs": [],
   "source": []
  },
  {
   "cell_type": "code",
   "execution_count": null,
   "id": "03bc5db8",
   "metadata": {},
   "outputs": [],
   "source": []
  },
  {
   "cell_type": "code",
   "execution_count": null,
   "id": "5de43e80",
   "metadata": {},
   "outputs": [],
   "source": []
  }
 ],
 "metadata": {
  "kernelspec": {
   "display_name": "Python 3 (ipykernel)",
   "language": "python",
   "name": "python3"
  },
  "language_info": {
   "codemirror_mode": {
    "name": "ipython",
    "version": 3
   },
   "file_extension": ".py",
   "mimetype": "text/x-python",
   "name": "python",
   "nbconvert_exporter": "python",
   "pygments_lexer": "ipython3",
   "version": "3.10.9"
  },
  "toc": {
   "base_numbering": 1,
   "nav_menu": {},
   "number_sections": true,
   "sideBar": true,
   "skip_h1_title": false,
   "title_cell": "Table of Contents",
   "title_sidebar": "Contents",
   "toc_cell": false,
   "toc_position": {
    "height": "calc(100% - 180px)",
    "left": "10px",
    "top": "150px",
    "width": "165px"
   },
   "toc_section_display": true,
   "toc_window_display": true
  }
 },
 "nbformat": 4,
 "nbformat_minor": 5
}
