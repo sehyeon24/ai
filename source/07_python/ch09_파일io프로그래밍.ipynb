{
 "cells": [
  {
   "cell_type": "code",
   "execution_count": 1,
   "id": "a9eed92f",
   "metadata": {
    "ExecuteTime": {
     "end_time": "2024-11-28T09:14:58.145217Z",
     "start_time": "2024-11-28T09:14:58.135220Z"
    }
   },
   "outputs": [
    {
     "data": {
      "text/html": [
       "\n",
       "<style>\n",
       "div.container{width:80% !important;}\n",
       "div.prompt {min-width:70px;}\n",
       "div#toc-header{margin-top:150px;}\n",
       "span.toc-item-num{display:none;}\n",
       "div.CodeMirror {font-family:Consolas}\n",
       "div.input {font-family:Consolas}\n",
       "</style>\n"
      ],
      "text/plain": [
       "<IPython.core.display.HTML object>"
      ]
     },
     "metadata": {},
     "output_type": "display_data"
    }
   ],
   "source": [
    "from IPython.display import display, HTML\n",
    "display(HTML(\"\"\"\n",
    "<style>\n",
    "div.container{width:80% !important;}\n",
    "div.prompt {min-width:70px;}\n",
    "div#toc-header{margin-top:150px;}\n",
    "span.toc-item-num{display:none;}\n",
    "div.CodeMirror {font-family:Consolas}\n",
    "div.input {font-family:Consolas}\n",
    "</style>\n",
    "\"\"\"))"
   ]
  },
  {
   "cell_type": "markdown",
   "id": "8a180554",
   "metadata": {},
   "source": [
    "<b><font color='red' size='6'>ch09. 파일 i/o 프로그래밍</font></b>"
   ]
  },
  {
   "cell_type": "markdown",
   "id": "0561b12f",
   "metadata": {},
   "source": [
    "# 1절. 파일에 데이터를 저장하고 불러오기"
   ]
  },
  {
   "cell_type": "code",
   "execution_count": 15,
   "id": "390078b6",
   "metadata": {
    "ExecuteTime": {
     "end_time": "2024-11-18T03:33:11.829324Z",
     "start_time": "2024-11-18T03:33:11.823492Z"
    }
   },
   "outputs": [
    {
     "name": "stdout",
     "output_type": "stream",
     "text": [
      "True\n"
     ]
    }
   ],
   "source": [
    "# w 또는 wt : (write)  기존의 파일이 있는 경우 덮어쓰기, 파일이 없는 경우 생성하여 쓰기\n",
    "# - 쓰기 모드는 폴더가 없는 경우 예외 발생\n",
    "# a 또는 at : (append) 기존의 파일이 있는 경우 (맨 뒤에) append, 파일이 없는 경우 생성하여 쓰기\n",
    "# r 또는 rt : (read)   기존의 파일을 읽는 경우, 파일이 없는 경우 예외 발생\n",
    "f = open('data/ch09_sample.txt', 'w')\n",
    "print(f.writable())"
   ]
  },
  {
   "cell_type": "code",
   "execution_count": 16,
   "id": "48b45080",
   "metadata": {
    "ExecuteTime": {
     "end_time": "2024-11-18T03:33:12.245615Z",
     "start_time": "2024-11-18T03:33:12.229990Z"
    }
   },
   "outputs": [],
   "source": [
    "f.write('Hello\\nWorld\\nHello\\nPython\\n')  # 한글을 write하면 CP949로 저장됨(windows)\n",
    "f.close()"
   ]
  },
  {
   "cell_type": "code",
   "execution_count": 17,
   "id": "26defb39",
   "metadata": {
    "ExecuteTime": {
     "end_time": "2024-11-18T03:33:13.501124Z",
     "start_time": "2024-11-18T03:33:13.496009Z"
    }
   },
   "outputs": [
    {
     "name": "stdout",
     "output_type": "stream",
     "text": [
      "쓰기 가능한지 여부 : True\n"
     ]
    }
   ],
   "source": [
    "# with 구문을 사용하면 매번 close하는 코드가 불필요함\n",
    "with open('data/ch09_sample.txt', 'wt') as f:\n",
    "    print('쓰기 가능한지 여부 :', f.writable())\n",
    "    f.write('Python is easy.\\nPython is smart.\\n')"
   ]
  },
  {
   "cell_type": "code",
   "execution_count": 18,
   "id": "48f60d19",
   "metadata": {
    "ExecuteTime": {
     "end_time": "2024-11-18T03:33:14.012598Z",
     "start_time": "2024-11-18T03:33:14.007371Z"
    }
   },
   "outputs": [
    {
     "name": "stdout",
     "output_type": "stream",
     "text": [
      "프린트 함수로 파일 쓰기가 가능합니다-콘솔 출력\n"
     ]
    }
   ],
   "source": [
    "with open('data/ch09_sample.txt', 'at') as f:\n",
    "    print('프린트 함수로 파일 쓰기가 가능합니다-콘솔 출력')\n",
    "    print('프린트 함수로 파일 쓰기가 가능합니다-파일 출력', file=f)"
   ]
  },
  {
   "cell_type": "markdown",
   "id": "6c917b82",
   "metadata": {},
   "source": [
    "- euc-kr : 한글 완성형 (믜X)\n",
    "- cp949  : 확장된 한글 완성형 (믜O) - 엑셀에서 \n",
    "- utf-8  : 한글 조합형 (초중종성 따로 조합해서 저장) - 주피터노트북에서"
   ]
  },
  {
   "cell_type": "code",
   "execution_count": 19,
   "id": "6c3ec88d",
   "metadata": {
    "ExecuteTime": {
     "end_time": "2024-11-18T03:33:16.302178Z",
     "start_time": "2024-11-18T03:33:16.294567Z"
    }
   },
   "outputs": [],
   "source": [
    "with open('data/ch09_sample.txt', 'w', encoding='utf-8') as f:\n",
    "    f.write('= 여러 줄의 text를 쓰기 =\\n')\n",
    "    f.write('1방법 : \\nHello\\nWorld\\n')\n",
    "    textlist = ['홍길동, 30, 서울\\n', '김길동, 20, 안양\\n']\n",
    "    f.write('2방법 : \\n')\n",
    "    for line in textlist:\n",
    "        f.write(line)\n",
    "    f.write('3방법 : \\n')\n",
    "    f.writelines(textlist)"
   ]
  },
  {
   "cell_type": "code",
   "execution_count": 22,
   "id": "25e28b1e",
   "metadata": {
    "ExecuteTime": {
     "end_time": "2024-11-18T03:40:08.187385Z",
     "start_time": "2024-11-18T03:40:08.179999Z"
    }
   },
   "outputs": [
    {
     "name": "stdout",
     "output_type": "stream",
     "text": [
      "= 여러 줄의 text를 쓰기 =\n",
      "1방법 : \n",
      "Hello\n",
      "World\n",
      "2방법 : \n",
      "홍길동, 30, 서울\n",
      "김길동, 20, 안양\n",
      "3방법 : \n",
      "홍길동, 30, 서울\n",
      "김길동, 20, 안양\n"
     ]
    }
   ],
   "source": [
    "# 파일을 한 줄 읽고 출력, 한 줄 읽고 출력, ... text로 return\n",
    "with open('data/ch09_sample.txt', 'r', encoding='utf-8') as f:\n",
    "    line = f.readline()  # 한 줄 읽기\n",
    "    while line != '':\n",
    "        print(line, end='')  # 파일에 \\n이 포함되어서 출력 시 개행은 제거\n",
    "        line = f.readline()"
   ]
  },
  {
   "cell_type": "code",
   "execution_count": 23,
   "id": "212b57ad",
   "metadata": {
    "ExecuteTime": {
     "end_time": "2024-11-18T03:41:51.337278Z",
     "start_time": "2024-11-18T03:41:51.329939Z"
    }
   },
   "outputs": [
    {
     "name": "stdout",
     "output_type": "stream",
     "text": [
      "['= 여러 줄의 text를 쓰기 =\\n', '1방법 : \\n', 'Hello\\n', 'World\\n', '2방법 : \\n', '홍길동, 30, 서울\\n', '김길동, 20, 안양\\n', '3방법 : \\n', '홍길동, 30, 서울\\n', '김길동, 20, 안양\\n']\n"
     ]
    }
   ],
   "source": [
    "# 파일을 한 번에 여러 줄 읽어 list를 return\n",
    "with open('data/ch09_sample.txt', 'r', encoding='utf-8') as f:\n",
    "    lines = f.readlines()  # list로 return\n",
    "    print(lines)"
   ]
  },
  {
   "cell_type": "code",
   "execution_count": 25,
   "id": "1ccbb036",
   "metadata": {
    "ExecuteTime": {
     "end_time": "2024-11-18T03:42:25.486417Z",
     "start_time": "2024-11-18T03:42:25.481356Z"
    }
   },
   "outputs": [
    {
     "name": "stdout",
     "output_type": "stream",
     "text": [
      "= 여러 줄의 text를 쓰기 =\n",
      "1방법 : \n",
      "Hello\n",
      "World\n",
      "2방법 : \n",
      "홍길동, 30, 서울\n",
      "김길동, 20, 안양\n",
      "3방법 : \n",
      "홍길동, 30, 서울\n",
      "김길동, 20, 안양\n"
     ]
    }
   ],
   "source": [
    "for line in lines:\n",
    "    print(line, end='')"
   ]
  },
  {
   "cell_type": "markdown",
   "id": "390110d9",
   "metadata": {},
   "source": [
    "# 2절. 피클을 이용한 객체 저장 및 불러오기\n",
    "## 2.1 형식이 있는 텍스트 데이터 불러오기"
   ]
  },
  {
   "cell_type": "code",
   "execution_count": 37,
   "id": "d181a0ef",
   "metadata": {
    "ExecuteTime": {
     "end_time": "2024-11-18T03:56:51.187580Z",
     "start_time": "2024-11-18T03:56:51.178583Z"
    }
   },
   "outputs": [
    {
     "name": "stdout",
     "output_type": "stream",
     "text": [
      "이름 : 홍길동, 나이 : 20, 메일 : kildong@hong.com, 주소 : 서울시 관악구\n",
      "이름 : 홍길숙, 나이 : 25, 메일 : kilsuk1@hong.com, 주소 : 서울시 영등포구\n",
      "이름 : 신길동, 나이 : 30, 메일 : shinkil@hong.com, 주소 : 서울시 동작구\n"
     ]
    }
   ],
   "source": [
    "with open('data/ch09_member.txt', 'r', encoding='utf-8') as f:\n",
    "    lines = f.readlines()\n",
    "    # print(lines)\n",
    "for line in lines:\n",
    "    # print(line)\n",
    "    data = line.strip().split(',')  # strip() : 앞뒤에 white space 제거 (trim())\n",
    "    name = data[0]\n",
    "    age = int(data[1].strip())  # ' 20'이므로 strip() 해주기\n",
    "    email = data[2].strip()\n",
    "    address = data[3].strip()\n",
    "    print('이름 : {}, 나이 : {}, 메일 : {}, 주소 : {}'.format(name, age, email, address))"
   ]
  },
  {
   "cell_type": "code",
   "execution_count": 38,
   "id": "7deb43d8",
   "metadata": {
    "ExecuteTime": {
     "end_time": "2024-11-18T04:01:59.862685Z",
     "start_time": "2024-11-18T04:01:59.856357Z"
    }
   },
   "outputs": [],
   "source": [
    "class Member:\n",
    "    def __init__(self, name, age, email, address):\n",
    "        self.name = name\n",
    "        self.age = age\n",
    "        self.email = email\n",
    "        self.address = address\n",
    "    def __str__(self):\n",
    "        return '이름 : {}, 나이 : {}, 메일 : {}, 주소 : {}'.format(\n",
    "                                                            self.name, self.age, self.email, self.address)\n",
    "    def as_dict(self):  # 객체를 딕셔너리로 바꿔 return\n",
    "        return {'name' : self.name,\n",
    "                'age' : self.age,\n",
    "                'email' : self.email,\n",
    "                'address' : self.address}"
   ]
  },
  {
   "cell_type": "code",
   "execution_count": 42,
   "id": "fb749305",
   "metadata": {
    "ExecuteTime": {
     "end_time": "2024-11-18T04:03:50.701729Z",
     "start_time": "2024-11-18T04:03:50.696728Z"
    }
   },
   "outputs": [
    {
     "name": "stdout",
     "output_type": "stream",
     "text": [
      "이름 : 홍길동, 나이 : 22, 메일 : hong@hong.com, 주소 : 서울\n",
      "{'name': '홍길동', 'age': 22, 'email': 'hong@hong.com', 'address': '서울'}\n"
     ]
    }
   ],
   "source": [
    "# 생성자 test\n",
    "user = Member('홍길동', 22, 'hong@hong.com', '서울')\n",
    "# __str__ test\n",
    "print(user)\n",
    "# as_dict test\n",
    "print(user.as_dict())"
   ]
  },
  {
   "cell_type": "code",
   "execution_count": 43,
   "id": "66e98685",
   "metadata": {
    "ExecuteTime": {
     "end_time": "2024-11-18T04:09:59.060360Z",
     "start_time": "2024-11-18T04:09:59.052363Z"
    }
   },
   "outputs": [],
   "source": [
    "# 파일의 내용을 member list나 딕셔너리 list로 읽기\n",
    "user_list = []  # member list\n",
    "user_dict = []  # 딕셔너리 list\n",
    "with open('data/ch09_member.txt', 'r', encoding='utf-8') as f:\n",
    "    lines = f.readlines()\n",
    "for line in lines:\n",
    "    data = line.strip().split(',')\n",
    "    name = data[0]\n",
    "    age = int(data[1].strip())\n",
    "    email = data[2].strip()\n",
    "    address = data[3].strip()\n",
    "    user = Member(name, age, email, address)\n",
    "    user_list.append(user)\n",
    "    user_dict.append(user.as_dict())"
   ]
  },
  {
   "cell_type": "code",
   "execution_count": 45,
   "id": "68400132",
   "metadata": {
    "ExecuteTime": {
     "end_time": "2024-11-18T04:10:48.063758Z",
     "start_time": "2024-11-18T04:10:48.058134Z"
    }
   },
   "outputs": [
    {
     "name": "stdout",
     "output_type": "stream",
     "text": [
      "이름 : 홍길동, 나이 : 20, 메일 : kildong@hong.com, 주소 : 서울시 관악구\n",
      "이름 : 홍길숙, 나이 : 25, 메일 : kilsuk1@hong.com, 주소 : 서울시 영등포구\n",
      "이름 : 신길동, 나이 : 30, 메일 : shinkil@hong.com, 주소 : 서울시 동작구\n"
     ]
    }
   ],
   "source": [
    "# user_list (Member 객체 list)\n",
    "for user in user_list:\n",
    "    print(user)"
   ]
  },
  {
   "cell_type": "code",
   "execution_count": 46,
   "id": "c2e632c1",
   "metadata": {
    "ExecuteTime": {
     "end_time": "2024-11-18T04:11:14.975076Z",
     "start_time": "2024-11-18T04:11:14.970078Z"
    }
   },
   "outputs": [
    {
     "name": "stdout",
     "output_type": "stream",
     "text": [
      "{'name': '홍길동', 'age': 20, 'email': 'kildong@hong.com', 'address': '서울시 관악구'}\n",
      "{'name': '홍길숙', 'age': 25, 'email': 'kilsuk1@hong.com', 'address': '서울시 영등포구'}\n",
      "{'name': '신길동', 'age': 30, 'email': 'shinkil@hong.com', 'address': '서울시 동작구'}\n"
     ]
    }
   ],
   "source": [
    "# user_dict (Member 객체 딕셔너리 list)\n",
    "for user in user_dict:\n",
    "    print(user)"
   ]
  },
  {
   "cell_type": "code",
   "execution_count": 47,
   "id": "b98c5b6c",
   "metadata": {
    "ExecuteTime": {
     "end_time": "2024-11-18T05:13:08.881366Z",
     "start_time": "2024-11-18T05:13:08.874370Z"
    }
   },
   "outputs": [
    {
     "data": {
      "text/plain": [
       "[{'name': '홍길동', 'age': 20, 'email': 'kildong@hong.com', 'address': '서울시 관악구'},\n",
       " {'name': '홍길숙',\n",
       "  'age': 25,\n",
       "  'email': 'kilsuk1@hong.com',\n",
       "  'address': '서울시 영등포구'},\n",
       " {'name': '신길동', 'age': 30, 'email': 'shinkil@hong.com', 'address': '서울시 동작구'}]"
      ]
     },
     "execution_count": 47,
     "metadata": {},
     "output_type": "execute_result"
    }
   ],
   "source": [
    "# user_dict (딕셔너리 list)\n",
    "user_dict"
   ]
  },
  {
   "cell_type": "markdown",
   "id": "43725e12",
   "metadata": {},
   "source": [
    "## 2.2 피클링\n",
    " - 바이너리를 사용해 저장할 때는 피클을 이용해야 함"
   ]
  },
  {
   "cell_type": "code",
   "execution_count": 55,
   "id": "0da9d7ca",
   "metadata": {
    "ExecuteTime": {
     "end_time": "2024-11-18T05:24:28.677685Z",
     "start_time": "2024-11-18T05:24:28.667690Z"
    }
   },
   "outputs": [
    {
     "name": "stdout",
     "output_type": "stream",
     "text": [
      "True\n",
      "True\n"
     ]
    }
   ],
   "source": [
    "class Member:\n",
    "    def __init__(self, name, age, email, address):\n",
    "        self.name = name\n",
    "        self.age = age\n",
    "        self.email = email\n",
    "        self.address = address\n",
    "    def __str__(self):\n",
    "        return '이름 : {}, 나이 : {}, 메일 : {}, 주소 : {}'.format(\n",
    "                                                            self.name, self.age, self.email, self.address)\n",
    "    def __eq__(self, other):\n",
    "        '''\n",
    "        user1.__eq__(user2) 호출 시 user1의 속성변수들과 user2의 속성변수들이 모두 같은지 여부를 return\n",
    "        '''\n",
    "        if isinstance(other, Member):\n",
    "            return self.name == other.name and self.age == other.age and \\\n",
    "                            self.email == other.email and self.address == other.address\n",
    "        else:\n",
    "            return False\n",
    "    def as_dict(self):  # 객체를 딕셔너리로 바꿔 return\n",
    "        return {'name' : self.name,\n",
    "                'age' : self.age,\n",
    "                'email' : self.email,\n",
    "                'address' : self.address}\n",
    "    \n",
    "user1 = Member('홍길동', 20, 'h@h.com', '서울')\n",
    "user2 = Member('홍길동', 20, 'h@h.com', '서울')    \n",
    "print(user1.__eq__(user2))\n",
    "print(user1 == user2)"
   ]
  },
  {
   "cell_type": "code",
   "execution_count": 56,
   "id": "37bef8f6",
   "metadata": {
    "ExecuteTime": {
     "end_time": "2024-11-18T05:27:06.719988Z",
     "start_time": "2024-11-18T05:27:06.713990Z"
    }
   },
   "outputs": [],
   "source": [
    "user1 = Member('홍길동', 20, 'h@h.com', '서울')\n",
    "user2 = Member('김길동', 25, 'k@h.com', '인천')\n",
    "user3 = Member('신길동', 30, 's@h.com', '포천')\n",
    "user_list = [user1, user2, user3]"
   ]
  },
  {
   "cell_type": "code",
   "execution_count": 57,
   "id": "12a70024",
   "metadata": {
    "ExecuteTime": {
     "end_time": "2024-11-18T05:27:21.214158Z",
     "start_time": "2024-11-18T05:27:21.209014Z"
    }
   },
   "outputs": [
    {
     "name": "stdout",
     "output_type": "stream",
     "text": [
      "이름 : 홍길동, 나이 : 20, 메일 : h@h.com, 주소 : 서울\n",
      "이름 : 김길동, 나이 : 25, 메일 : k@h.com, 주소 : 인천\n",
      "이름 : 신길동, 나이 : 30, 메일 : s@h.com, 주소 : 포천\n"
     ]
    }
   ],
   "source": [
    "for user in user_list:\n",
    "    print(user)"
   ]
  },
  {
   "cell_type": "code",
   "execution_count": 58,
   "id": "043ba5e1",
   "metadata": {
    "ExecuteTime": {
     "end_time": "2024-11-18T05:30:35.516577Z",
     "start_time": "2024-11-18T05:30:35.511961Z"
    }
   },
   "outputs": [],
   "source": [
    "# 피클링을 이용한 객체를 파일에 저장하기\n",
    "import pickle\n",
    "with open('data/ch09_member.data', 'wb') as f:  # write binary\n",
    "    pickle.dump(user_list, f)"
   ]
  },
  {
   "cell_type": "code",
   "execution_count": 59,
   "id": "5fd086bd",
   "metadata": {
    "ExecuteTime": {
     "end_time": "2024-11-18T05:31:42.907699Z",
     "start_time": "2024-11-18T05:31:42.904700Z"
    }
   },
   "outputs": [],
   "source": [
    "# 변수만 지운 것이므로 내용은 남아있음\n",
    "del user1, user2, user3"
   ]
  },
  {
   "cell_type": "code",
   "execution_count": 60,
   "id": "ba673fd7",
   "metadata": {
    "ExecuteTime": {
     "end_time": "2024-11-18T05:33:54.243478Z",
     "start_time": "2024-11-18T05:33:54.238479Z"
    }
   },
   "outputs": [],
   "source": [
    "# 피클링을 이용한 파일에서 객체 데이터 읽기\n",
    "with open('data/ch09_member.data', 'rb') as f:\n",
    "    load_user_list = pickle.load(f)  # 객체 리스트로 가져옴"
   ]
  },
  {
   "cell_type": "code",
   "execution_count": 61,
   "id": "510b6195",
   "metadata": {
    "ExecuteTime": {
     "end_time": "2024-11-18T05:34:07.730550Z",
     "start_time": "2024-11-18T05:34:07.725552Z"
    }
   },
   "outputs": [
    {
     "name": "stdout",
     "output_type": "stream",
     "text": [
      "이름 : 홍길동, 나이 : 20, 메일 : h@h.com, 주소 : 서울\n",
      "이름 : 김길동, 나이 : 25, 메일 : k@h.com, 주소 : 인천\n",
      "이름 : 신길동, 나이 : 30, 메일 : s@h.com, 주소 : 포천\n"
     ]
    }
   ],
   "source": [
    "for user in load_user_list:\n",
    "    print(user)"
   ]
  },
  {
   "cell_type": "code",
   "execution_count": 63,
   "id": "445fe064",
   "metadata": {
    "ExecuteTime": {
     "end_time": "2024-11-18T05:36:48.172584Z",
     "start_time": "2024-11-18T05:36:48.165027Z"
    }
   },
   "outputs": [
    {
     "data": {
      "text/plain": [
       "[True, True, True]"
      ]
     },
     "execution_count": 63,
     "metadata": {},
     "output_type": "execute_result"
    }
   ],
   "source": [
    "# user_list와 load_user_list가 모두 같은지 여부 확인\n",
    "result = []\n",
    "for idx in range(len(user_list)):\n",
    "    # print(idx)\n",
    "    result.append(user_list[idx] == load_user_list[idx])\n",
    "result"
   ]
  },
  {
   "cell_type": "code",
   "execution_count": 64,
   "id": "a9f03c1c",
   "metadata": {
    "ExecuteTime": {
     "end_time": "2024-11-18T05:37:41.665446Z",
     "start_time": "2024-11-18T05:37:41.659447Z"
    }
   },
   "outputs": [
    {
     "data": {
      "text/plain": [
       "True"
      ]
     },
     "execution_count": 64,
     "metadata": {},
     "output_type": "execute_result"
    }
   ],
   "source": [
    "all(result)  # 모든 요소들이 True인지 여부를 return"
   ]
  },
  {
   "cell_type": "markdown",
   "id": "cb0b4e2f",
   "metadata": {},
   "source": [
    "# 3절. csv 형식 파일 읽기/쓰기\n",
    " - CSV 파일의 자료를 리스트 데이터로 읽기    (3.1과 3.2)\n",
    " - CSV 파일의 자료를 딕셔너리 데이터로 읽기  (3.3과 3.4)\n",
    " \n",
    "## 3.1 reader"
   ]
  },
  {
   "cell_type": "code",
   "execution_count": 68,
   "id": "514f0264",
   "metadata": {
    "ExecuteTime": {
     "end_time": "2024-11-18T06:00:26.597632Z",
     "start_time": "2024-11-18T06:00:26.592038Z"
    }
   },
   "outputs": [
    {
     "name": "stdout",
     "output_type": "stream",
     "text": [
      "['홍길동', '20', 'kildong@hong.com', '서울시 관악구']\n",
      "['김길동', '40', 'kimdong@hong.com', '서울시 영등포구']\n",
      "['신길동', '30', 'sindong@hong.com', '서울시 동작구']\n"
     ]
    }
   ],
   "source": [
    "# utf-8로 인코딩된 csv파일 읽기\n",
    "import csv\n",
    "with open('data/ch09_member1.csv', 'r', encoding='UTF-8') as f:\n",
    "    reader = csv.reader(f)\n",
    "    # print(list(reader))\n",
    "    for row in reader:\n",
    "        print(row)"
   ]
  },
  {
   "cell_type": "code",
   "execution_count": 1,
   "id": "21010419",
   "metadata": {
    "ExecuteTime": {
     "end_time": "2025-01-13T01:04:02.936953Z",
     "start_time": "2025-01-13T01:04:02.932956Z"
    }
   },
   "outputs": [],
   "source": [
    "# print(list(reader))  # 변수에 할당해야지 읽어들일 수 있음"
   ]
  },
  {
   "cell_type": "code",
   "execution_count": 71,
   "id": "feefd884",
   "metadata": {
    "ExecuteTime": {
     "end_time": "2024-11-18T06:21:30.163373Z",
     "start_time": "2024-11-18T06:21:30.157377Z"
    }
   },
   "outputs": [
    {
     "name": "stdout",
     "output_type": "stream",
     "text": [
      "홍길동 - 20 - kildong@hong.com - 서울시 관악구\n",
      "김길동 - 40 - kimdong@hong.com - 서울시 영등포구 - 팀장\n",
      "신길동 - 30 - sindong@hong.com - 서울시 동작구\n"
     ]
    }
   ],
   "source": [
    "# CP949로 인코딩된 csv파일 read\n",
    "with open('data/ch09_member1-cp.csv') as f:  # 'r', encoding='CP949' : 기본값으로 생략 가능\n",
    "    reader = csv.reader(f)\n",
    "    result = list(reader)\n",
    "# print(result)  # list 안에 list\n",
    "for row in result:\n",
    "    print(' - '.join(row))"
   ]
  },
  {
   "cell_type": "code",
   "execution_count": 73,
   "id": "cc4678a8",
   "metadata": {
    "ExecuteTime": {
     "end_time": "2024-11-18T06:25:53.977384Z",
     "start_time": "2024-11-18T06:25:53.969528Z"
    }
   },
   "outputs": [
    {
     "name": "stdout",
     "output_type": "stream",
     "text": [
      "['홍길동', 20.0, 'kildong@hong.com', '서울시 관악구']\n",
      "['김길동', 40.0, 'kimdong@hong.com', '서울시 영등포구']\n",
      "['신길동', 30.0, 'sindong@hong.com', '서울시 동작구']\n"
     ]
    }
   ],
   "source": [
    "# \"\"(따옴표)가 없는 데이터는 numeric으로 처리\n",
    "with open('data/ch09_member1.csv', 'r', encoding='utf-8') as f:\n",
    "    reader = csv.reader(\n",
    "        f, quotechar='\"',\n",
    "        quoting=csv.QUOTE_NONNUMERIC)  # \"가 없는 것은 numeric으로 가져오도록\n",
    "    for row in reader:\n",
    "        print(row)  # 기본적으로 float로 가져옴"
   ]
  },
  {
   "cell_type": "code",
   "execution_count": 75,
   "id": "3e9e129b",
   "metadata": {
    "ExecuteTime": {
     "end_time": "2024-11-18T06:30:05.719687Z",
     "start_time": "2024-11-18T06:30:05.711685Z"
    }
   },
   "outputs": [
    {
     "name": "stdout",
     "output_type": "stream",
     "text": [
      "파일에서 읽어온 딕셔너리 리스트\n",
      "[{'name': '홍길동', 'age': 20.0, 'email': 'kildong@hong.com', 'address': '서울시 관악구'}, {'name': '김길동', 'age': 40.0, 'email': 'kimdong@hong.com', 'address': '서울시 영등포구'}, {'name': '신길동', 'age': 30.0, 'email': 'sindong@hong.com', 'address': '서울시 동작구'}]\n"
     ]
    }
   ],
   "source": [
    "# csv 파일의 내용을 딕셔너리 리스트로 가져오기\n",
    "user_dict = []\n",
    "with open('data/ch09_member1.csv', encoding='utf-8') as f:\n",
    "    reader = csv.reader(f, quotechar='\"', quoting=csv.QUOTE_NONNUMERIC)\n",
    "    for row in reader:\n",
    "        user_dict.append({'name' : row[0], 'age' : row[1], 'email' : row[2], 'address' : row[3], })\n",
    "print('파일에서 읽어온 딕셔너리 리스트')\n",
    "print(user_dict)"
   ]
  },
  {
   "cell_type": "markdown",
   "id": "3681e787",
   "metadata": {},
   "source": [
    "## 3.2 writer"
   ]
  },
  {
   "cell_type": "code",
   "execution_count": 76,
   "id": "a5be643d",
   "metadata": {
    "ExecuteTime": {
     "end_time": "2024-11-18T06:35:01.691883Z",
     "start_time": "2024-11-18T06:35:01.686886Z"
    }
   },
   "outputs": [],
   "source": [
    "user_list = [['홍길동',20,'hong@hong.com','서울'],\n",
    "             ['신길동',30,'shin@hong.com','인천'],]"
   ]
  },
  {
   "cell_type": "code",
   "execution_count": 77,
   "id": "650145aa",
   "metadata": {
    "ExecuteTime": {
     "end_time": "2024-11-18T06:40:27.961912Z",
     "start_time": "2024-11-18T06:40:27.955914Z"
    }
   },
   "outputs": [],
   "source": [
    "# newline='' 옵션을 빼면 개행이 2번 이루어짐\n",
    "try:\n",
    "    with open('data/ch09_member2-write-cp.csv', 'w', newline='') as f:\n",
    "        writer = csv.writer(f)\n",
    "        for user in user_list:\n",
    "            writer.writerow(user)\n",
    "except FileNotFoundError as e:\n",
    "    print(e)"
   ]
  },
  {
   "cell_type": "code",
   "execution_count": 79,
   "id": "039081f8",
   "metadata": {
    "ExecuteTime": {
     "end_time": "2024-11-18T06:47:54.076726Z",
     "start_time": "2024-11-18T06:47:54.070728Z"
    }
   },
   "outputs": [],
   "source": [
    "with open('data/ch09_member2-write.csv', 'w', encoding='utf-8', newline='') as f:  # w모드는 생략 불가능\n",
    "    writer = csv.writer(f, quoting=csv.QUOTE_NONNUMERIC)\n",
    "    writer.writerows(user_list)"
   ]
  },
  {
   "cell_type": "markdown",
   "id": "9721766e",
   "metadata": {},
   "source": [
    "## 3.3 DictReader\n",
    " - csv파일의 자료를 딕셔너리 데이터로 읽기"
   ]
  },
  {
   "cell_type": "code",
   "execution_count": 82,
   "id": "5a5fe92b",
   "metadata": {
    "ExecuteTime": {
     "end_time": "2024-11-18T07:29:46.912651Z",
     "start_time": "2024-11-18T07:29:46.904654Z"
    }
   },
   "outputs": [
    {
     "name": "stdout",
     "output_type": "stream",
     "text": [
      "홍길동 20 h@h.com 서울시 관악구\n",
      "신길동 40 s@s.com 서울시 영등포구 팀장\n",
      "김길동 30 k@k.com 서울시 동작구\n"
     ]
    }
   ],
   "source": [
    "# header가 있는 csv 파일을 딕셔너리로 읽기(ch09_member3.csv)\n",
    "with open('data/ch09_member3.csv', 'r', encoding='utf-8') as f:\n",
    "    dict_reader = csv.DictReader(f)\n",
    "    # print(list(dict_reader))\n",
    "    for row in dict_reader:\n",
    "        if row['job'] is None:\n",
    "            print(row['name'], row['age'], row['email'], row['address'])\n",
    "        else:\n",
    "            print(row['name'], row['age'], row['email'], row['address'], row['job'])"
   ]
  },
  {
   "cell_type": "code",
   "execution_count": 84,
   "id": "2a3ba87a",
   "metadata": {
    "ExecuteTime": {
     "end_time": "2024-11-18T07:32:49.445301Z",
     "start_time": "2024-11-18T07:32:49.431192Z"
    }
   },
   "outputs": [
    {
     "data": {
      "text/html": [
       "<div>\n",
       "<style scoped>\n",
       "    .dataframe tbody tr th:only-of-type {\n",
       "        vertical-align: middle;\n",
       "    }\n",
       "\n",
       "    .dataframe tbody tr th {\n",
       "        vertical-align: top;\n",
       "    }\n",
       "\n",
       "    .dataframe thead th {\n",
       "        text-align: right;\n",
       "    }\n",
       "</style>\n",
       "<table border=\"1\" class=\"dataframe\">\n",
       "  <thead>\n",
       "    <tr style=\"text-align: right;\">\n",
       "      <th></th>\n",
       "      <th>name</th>\n",
       "      <th>age</th>\n",
       "      <th>email</th>\n",
       "      <th>address</th>\n",
       "      <th>job</th>\n",
       "    </tr>\n",
       "  </thead>\n",
       "  <tbody>\n",
       "    <tr>\n",
       "      <th>0</th>\n",
       "      <td>홍길동</td>\n",
       "      <td>20</td>\n",
       "      <td>h@h.com</td>\n",
       "      <td>서울시 관악구</td>\n",
       "      <td>NaN</td>\n",
       "    </tr>\n",
       "    <tr>\n",
       "      <th>1</th>\n",
       "      <td>신길동</td>\n",
       "      <td>40</td>\n",
       "      <td>s@s.com</td>\n",
       "      <td>서울시 영등포구</td>\n",
       "      <td>팀장</td>\n",
       "    </tr>\n",
       "    <tr>\n",
       "      <th>2</th>\n",
       "      <td>김길동</td>\n",
       "      <td>30</td>\n",
       "      <td>k@k.com</td>\n",
       "      <td>서울시 동작구</td>\n",
       "      <td>NaN</td>\n",
       "    </tr>\n",
       "  </tbody>\n",
       "</table>\n",
       "</div>"
      ],
      "text/plain": [
       "  name  age    email   address  job\n",
       "0  홍길동   20  h@h.com   서울시 관악구  NaN\n",
       "1  신길동   40  s@s.com  서울시 영등포구   팀장\n",
       "2  김길동   30  k@k.com   서울시 동작구  NaN"
      ]
     },
     "execution_count": 84,
     "metadata": {},
     "output_type": "execute_result"
    }
   ],
   "source": [
    "# open() encoding='CP949'가 디폴트\n",
    "# cf. csv파일을 데이터프레임으로\n",
    "import pandas as pd\n",
    "member = pd.read_csv('data/ch09_member3.csv', encoding='utf-8')  # encoding='utf-8'이 기본\n",
    "member"
   ]
  },
  {
   "cell_type": "code",
   "execution_count": 85,
   "id": "50b30c76",
   "metadata": {
    "ExecuteTime": {
     "end_time": "2024-11-18T07:32:58.714700Z",
     "start_time": "2024-11-18T07:32:58.709702Z"
    }
   },
   "outputs": [
    {
     "data": {
      "text/plain": [
       "pandas.core.frame.DataFrame"
      ]
     },
     "execution_count": 85,
     "metadata": {},
     "output_type": "execute_result"
    }
   ],
   "source": [
    "type(member)"
   ]
  },
  {
   "cell_type": "code",
   "execution_count": 87,
   "id": "da5ffab1",
   "metadata": {
    "ExecuteTime": {
     "end_time": "2024-11-18T07:40:16.320953Z",
     "start_time": "2024-11-18T07:40:16.314954Z"
    }
   },
   "outputs": [
    {
     "name": "stdout",
     "output_type": "stream",
     "text": [
      "홍길동 20 kildong@hong.com 서울시 관악구\n",
      "김길동 40 kimdong@hong.com 서울시 영등포구\n",
      "신길동 30 sindong@hong.com 서울시 동작구\n"
     ]
    }
   ],
   "source": [
    "# header가 없는 csv 파일을 딕셔너리로 읽기(ch09_member1-cp.csv)\n",
    "with open('data/ch09_member1-cp.csv', 'r', encoding='cp949') as f:\n",
    "    dict_reader = csv.DictReader(f, fieldnames=['Name', 'Age', 'Email', 'Address'])\n",
    "    for row in dict_reader:\n",
    "        # print(row)\n",
    "        # 지정한 header에 Job이 없으므로 무시되어 출력되지 않음\n",
    "        print(row['Name'], row['Age'], row['Email'], row['Address'])"
   ]
  },
  {
   "cell_type": "code",
   "execution_count": 89,
   "id": "186a394f",
   "metadata": {
    "ExecuteTime": {
     "end_time": "2024-11-18T07:42:00.600189Z",
     "start_time": "2024-11-18T07:42:00.593192Z"
    }
   },
   "outputs": [
    {
     "name": "stdout",
     "output_type": "stream",
     "text": [
      "{'Name': '홍길동', 'Age': '20', 'Email': 'kildong@hong.com', 'Address': '서울시 관악구', 'Job': ''}\n",
      "홍길동 20 kildong@hong.com 서울시 관악구 \n",
      "{'Name': '김길동', 'Age': '40', 'Email': 'kimdong@hong.com', 'Address': '서울시 영등포구', 'Job': '팀장'}\n",
      "김길동 40 kimdong@hong.com 서울시 영등포구 팀장\n",
      "{'Name': '신길동', 'Age': '30', 'Email': 'sindong@hong.com', 'Address': '서울시 동작구', 'Job': ''}\n",
      "신길동 30 sindong@hong.com 서울시 동작구 \n"
     ]
    }
   ],
   "source": [
    "# header가 없는 csv 파일을 딕셔너리로 읽기(ch09_member1-cp.csv)\n",
    "# Job까지 가져오기\n",
    "with open('data/ch09_member1-cp.csv', 'r', encoding='cp949') as f:\n",
    "    dict_reader = csv.DictReader(f, fieldnames=['Name', 'Age', 'Email', 'Address', 'Job'])\n",
    "    for row in dict_reader:\n",
    "        # print(row)\n",
    "        print(row['Name'], row['Age'], row['Email'], row['Address'], row['Job'])"
   ]
  },
  {
   "cell_type": "code",
   "execution_count": 91,
   "id": "795b9734",
   "metadata": {
    "ExecuteTime": {
     "end_time": "2024-11-18T07:47:04.535348Z",
     "start_time": "2024-11-18T07:47:04.527351Z"
    }
   },
   "outputs": [
    {
     "name": "stdout",
     "output_type": "stream",
     "text": [
      "홍길동 20 kildong@hong.com 서울시 관악구\n",
      "김길동 40 kimdong@hong.com 서울시 영등포구 팀장\n",
      "신길동 30 sindong@hong.com 서울시 동작구\n"
     ]
    }
   ],
   "source": [
    "# header가 없는 csv 파일을 딕셔너리로 읽기(ch09_member1-cp.csv) / Job까지 가져오기\n",
    "with open('data/ch09_member1-cp.csv', 'r', encoding='cp949') as f:\n",
    "    dict_reader = csv.DictReader(f, fieldnames=['Name', 'Age', 'Email', 'Address'], restkey='Job')\n",
    "    for row in dict_reader:\n",
    "        # print(row)\n",
    "        if row['Job'][0] == '':\n",
    "            print(row['Name'], row['Age'], row['Email'], row['Address'])\n",
    "        else:\n",
    "            print(row['Name'], row['Age'], row['Email'], row['Address'], row['Job'][0])"
   ]
  },
  {
   "cell_type": "code",
   "execution_count": 101,
   "id": "b1ba3b6d",
   "metadata": {
    "ExecuteTime": {
     "end_time": "2024-11-18T07:59:42.970816Z",
     "start_time": "2024-11-18T07:59:42.960188Z"
    }
   },
   "outputs": [
    {
     "name": "stdout",
     "output_type": "stream",
     "text": [
      "{'Name': '신길동', 'Age': '30', 'Email': 'sindong@hong.com', 'Address': '서울시 동작구', 'Job': ''}\n"
     ]
    },
    {
     "data": {
      "text/plain": [
       "[{'Name': '홍길동',\n",
       "  'Age': '20',\n",
       "  'Email': 'kildong@hong.com',\n",
       "  'Address': '서울시 관악구',\n",
       "  'Job': ''},\n",
       " {'Name': '김길동',\n",
       "  'Age': '40',\n",
       "  'Email': 'kimdong@hong.com',\n",
       "  'Address': '서울시 영등포구',\n",
       "  'Job': '팀장'},\n",
       " {'Name': '신길동',\n",
       "  'Age': '30',\n",
       "  'Email': 'sindong@hong.com',\n",
       "  'Address': '서울시 동작구',\n",
       "  'Job': ''}]"
      ]
     },
     "execution_count": 101,
     "metadata": {},
     "output_type": "execute_result"
    }
   ],
   "source": [
    "# ch09_member1.cp.csv의 내용을 딕셔너리 list로 받아보세요\n",
    "userlist = []  # 딕셔너리 list\n",
    "# 파일의 내용을 userlist에 담ㄱ\n",
    "with open('data/ch09_member1-cp.csv', 'r', encoding='CP949') as f:\n",
    "          dict_reader = csv.DictReader(f, fieldnames=['Name', 'Age', 'Email', 'Address', 'Job'])\n",
    "          for row in dict_reader:\n",
    "                userlist.append(row)\n",
    "print(row)                \n",
    "userlist"
   ]
  },
  {
   "cell_type": "markdown",
   "id": "b771813e",
   "metadata": {},
   "source": [
    "## 3.4 DictWriter\n",
    " - 딕셔너리 리스트를 csv파일로 쓰기"
   ]
  },
  {
   "cell_type": "code",
   "execution_count": 115,
   "id": "c50d032a",
   "metadata": {
    "ExecuteTime": {
     "end_time": "2024-11-18T08:34:35.741591Z",
     "start_time": "2024-11-18T08:34:35.734593Z"
    }
   },
   "outputs": [
    {
     "name": "stdout",
     "output_type": "stream",
     "text": [
      "['name', 'age', 'email', 'address']\n"
     ]
    }
   ],
   "source": [
    "user1 = {'name' : '홍길동', 'age' : 20, 'email' : 'h@hong.com', 'address' : '서울'}\n",
    "user2 = {'name' : '신길동', 'age' : 25, 'email' : 's@hong.com', 'address' : '부산'}\n",
    "user3 = {'name' : '김길동', 'age' : 35, 'email' : 'k@hong.com', 'address' : '인천'}\n",
    "user_list = [user1, user2, user3]\n",
    "fieldnames = list(user1.keys())\n",
    "print(fieldnames)"
   ]
  },
  {
   "cell_type": "markdown",
   "id": "1f887afa",
   "metadata": {},
   "source": [
    "```\n",
    "csv 파일 내용\n",
    "naem,age,email,address\n",
    "홍길동,20,h@hong.com,서울\n",
    "...\n",
    "```"
   ]
  },
  {
   "cell_type": "code",
   "execution_count": 119,
   "id": "af1f1cae",
   "metadata": {
    "ExecuteTime": {
     "end_time": "2024-11-18T08:35:52.347345Z",
     "start_time": "2024-11-18T08:35:52.340532Z"
    }
   },
   "outputs": [],
   "source": [
    "with open('data/ch09_member4.csv', 'w', encoding='UTF-8', newline='') as f:\n",
    "    dict_writer = csv.DictWriter(f, fieldnames=fieldnames)\n",
    "    dict_writer.writeheader()  # header 한 줄 쓰기\n",
    "    # for user in user_list:\n",
    "    #     dict_writer.writerow(user)\n",
    "    dict_writer.writerows(user_list)"
   ]
  },
  {
   "cell_type": "markdown",
   "id": "84d3b303",
   "metadata": {},
   "source": [
    "# 4절. JSON 파일에 저장하고 불러오기(dump, load)\n",
    "[{'name' : '홍,\n",
    "  'age' : 20},\n",
    " {'name' : '박,\n",
    "  'age' : 30}]\n",
    "## 4.1 JSON dump(파일에 저장)\n",
    "1. 딕셔너리 리스트 데이터를 json파일로\n",
    "2. 객체 리스트 데이터를 json파일로"
   ]
  },
  {
   "cell_type": "code",
   "execution_count": 4,
   "id": "fda23696",
   "metadata": {
    "ExecuteTime": {
     "end_time": "2024-11-19T00:45:29.968874Z",
     "start_time": "2024-11-19T00:45:29.962877Z"
    }
   },
   "outputs": [],
   "source": [
    "data = [{'name' : '홍길동', 'age' : 20, 'email' : 'h@h.com', 'address' : '서울'},\n",
    "       {'name' : '김길동', 'age' : 30, 'email' : 'k@h.com', 'address' : '부산'},\n",
    "       {'name' : '신길동', 'age' : 40, 'email' : 's@h.com', 'address' : '안양'}]"
   ]
  },
  {
   "cell_type": "code",
   "execution_count": 7,
   "id": "d9a515a5",
   "metadata": {
    "ExecuteTime": {
     "end_time": "2024-11-19T00:48:15.278904Z",
     "start_time": "2024-11-19T00:48:15.272193Z"
    }
   },
   "outputs": [],
   "source": [
    "# 1. 딕셔너리 리스트 데이터를 json파일로 저장(dump)\n",
    "# ensure_ascii옵션의 역할 : ASCII 코드 범위를 넘어서는 문자는 어떻게 처리할지 여부\n",
    "# True(기본값) : ASCII 코드 범위를 넘어선 한글은 유니코드로 저장\n",
    "# False : 비 ASCII 문자 원래 형태 그대로 저장\n",
    "# indent=' ' : 속성들마다 ' ' 하나로 들여쓰기\n",
    "import json\n",
    "with open('data/ch09_member1.json', 'w') as jsonfile:  # encoding='cp949' 기본값\n",
    "    json.dump(data,   # 딕셔너리 리스트\n",
    "              jsonfile, ensure_ascii=False, indent=' ')"
   ]
  },
  {
   "cell_type": "code",
   "execution_count": 8,
   "id": "017dd3c1",
   "metadata": {
    "ExecuteTime": {
     "end_time": "2024-11-19T01:02:29.589180Z",
     "start_time": "2024-11-19T01:02:29.579463Z"
    }
   },
   "outputs": [],
   "source": [
    "# 2. 객체 리스트 데이터를 json파일로 저장(dump)\n",
    "class Member:\n",
    "    def __init__(self, name, age, email, address):\n",
    "        self.name = name\n",
    "        self.age = age\n",
    "        self.email = email\n",
    "        self.address = address\n",
    "    def as_dict(self):\n",
    "        '객체를 딕셔너리로 바꿔 return (json.dump 시 필요)'\n",
    "        return {'name' : self.name, 'age' : self.age, 'email' : self.email, 'address' : self.address}\n",
    "    def __str__(self):\n",
    "        return '이름 : {}, 나이 : {}살, 메일 : {}, 주소 : {}'.format(\n",
    "                                                            self.name, self.age, self.email, self.address)\n",
    "    def __eq__(self, other):\n",
    "        '''\n",
    "        m1.__eq__(m2) 호출 시 두 객체의 속성 변수들의 값이 모두 일치하는지 여부\n",
    "        m1 == m2 구현 시 두 객체의 속성 변수들의 값이 모두 일치하는지 여부\n",
    "        '''\n",
    "        if isinstance(other, Member):  # other가 Member인지\n",
    "            return self.name == other.name and \\\n",
    "                    self.age == other.age and \\\n",
    "                    self.email == other.email and \\\n",
    "                    self.address == other.address\n",
    "        else:\n",
    "            return False"
   ]
  },
  {
   "cell_type": "code",
   "execution_count": 11,
   "id": "2c48798e",
   "metadata": {
    "ExecuteTime": {
     "end_time": "2024-11-19T01:05:28.110857Z",
     "start_time": "2024-11-19T01:05:28.104848Z"
    }
   },
   "outputs": [],
   "source": [
    "member_list = [Member('홍길동', 30, 'h@h.com', '서울'),\n",
    "               Member('김길동', 25, 'k@h.com', '부산'),\n",
    "               Member('신길동', 35, 's@h.com', '대전'), ]"
   ]
  },
  {
   "cell_type": "code",
   "execution_count": 12,
   "id": "9811dbd3",
   "metadata": {
    "ExecuteTime": {
     "end_time": "2024-11-19T01:05:28.368719Z",
     "start_time": "2024-11-19T01:05:28.356880Z"
    }
   },
   "outputs": [
    {
     "name": "stdout",
     "output_type": "stream",
     "text": [
      "이름 : 홍길동, 나이 : 30살, 메일 : h@h.com, 주소 : 서울\n",
      "이름 : 김길동, 나이 : 25살, 메일 : k@h.com, 주소 : 부산\n",
      "이름 : 신길동, 나이 : 35살, 메일 : s@h.com, 주소 : 대전\n"
     ]
    }
   ],
   "source": [
    "for member in member_list:\n",
    "    print(member)"
   ]
  },
  {
   "cell_type": "code",
   "execution_count": 13,
   "id": "d5e53dfa",
   "metadata": {
    "ExecuteTime": {
     "end_time": "2024-11-19T01:12:56.536974Z",
     "start_time": "2024-11-19T01:12:56.531976Z"
    }
   },
   "outputs": [],
   "source": [
    "with open('data/ch09_member2.json', 'a', encoding='UTF8') as jsonfile:\n",
    "    json.dump(member_list,  # 객체 리스트\n",
    "              jsonfile, ensure_ascii=False, indent='\\t',\n",
    "              default=Member.as_dict)  # 객체를 딕셔너리 형태로 return하는 인스턴스 함수"
   ]
  },
  {
   "cell_type": "code",
   "execution_count": 14,
   "id": "2dd145dc",
   "metadata": {
    "ExecuteTime": {
     "end_time": "2024-11-19T01:15:35.513592Z",
     "start_time": "2024-11-19T01:15:35.508596Z"
    }
   },
   "outputs": [
    {
     "name": "stdout",
     "output_type": "stream",
     "text": [
      "Variable        Type             Data/Info\n",
      "------------------------------------------\n",
      "HTML            type             <class 'IPython.core.display.HTML'>\n",
      "Member          type             <class '__main__.Member'>\n",
      "autopep8        module           <module 'autopep8' from '<...>e-packages\\\\autopep8.py'>\n",
      "data            list             n=3\n",
      "display         function         <function display at 0x000001B796E27D90>\n",
      "json            module           <module 'json' from 'C:\\\\<...>\\lib\\\\json\\\\__init__.py'>\n",
      "jsonfile        TextIOWrapper    <_io.TextIOWrapper name='<...>mode='a' encoding='UTF8'>\n",
      "member          Member           이름 : 신길동, 나이 : 35살, 메일 : s@h.com, 주소 : 대전\n",
      "member_list     list             n=3\n",
      "yapf_reformat   function         <function yapf_reformat at 0x000001B798C03E20>\n"
     ]
    }
   ],
   "source": [
    "# 현재 세션(현재 실행 중인 jupyter notebook)에 존재하는 변수들의 목록\n",
    "# %~ 매직명령어 : jupyter notebook의 IPYTHON 환경에서만 제공되는 명령어\n",
    "%whos"
   ]
  },
  {
   "cell_type": "markdown",
   "id": "ec0ccb25",
   "metadata": {},
   "source": [
    "## 4.2 JSON load(파일 읽기)\n",
    "1. json파일을 딕셔너리 리스트 변수로 읽기\n",
    "2. json파일을 객체 리스트 변수로 읽기"
   ]
  },
  {
   "cell_type": "code",
   "execution_count": 15,
   "id": "2b061265",
   "metadata": {
    "ExecuteTime": {
     "end_time": "2024-11-19T01:19:38.734525Z",
     "start_time": "2024-11-19T01:19:38.727528Z"
    }
   },
   "outputs": [
    {
     "name": "stdout",
     "output_type": "stream",
     "text": [
      "{'name': '홍길동', 'age': 20, 'email': 'h@h.com', 'address': '서울'}\n",
      "{'name': '김길동', 'age': 30, 'email': 'k@h.com', 'address': '부산'}\n",
      "{'name': '신길동', 'age': 40, 'email': 's@h.com', 'address': '안양'}\n"
     ]
    }
   ],
   "source": [
    "# 1. json파일을 딕셔너리 리스트로\n",
    "with open('data/ch09_member1.json', 'r', encoding='cp949') as jsonfile:\n",
    "    load_data = json.load(jsonfile)\n",
    "for row in load_data:\n",
    "    print(row)"
   ]
  },
  {
   "cell_type": "code",
   "execution_count": 17,
   "id": "5660e8dd",
   "metadata": {
    "ExecuteTime": {
     "end_time": "2024-11-19T01:20:05.254115Z",
     "start_time": "2024-11-19T01:20:05.247119Z"
    }
   },
   "outputs": [
    {
     "data": {
      "text/plain": [
       "(list, dict)"
      ]
     },
     "execution_count": 17,
     "metadata": {},
     "output_type": "execute_result"
    }
   ],
   "source": [
    "type(load_data), type(load_data[0])"
   ]
  },
  {
   "cell_type": "code",
   "execution_count": 18,
   "id": "d8eaca26",
   "metadata": {
    "ExecuteTime": {
     "end_time": "2024-11-19T01:42:13.298551Z",
     "start_time": "2024-11-19T01:42:13.293553Z"
    }
   },
   "outputs": [],
   "source": [
    "# 2. json파일(ch09_member2.json)을 객체 리스트로"
   ]
  },
  {
   "cell_type": "code",
   "execution_count": 19,
   "id": "16f35a30",
   "metadata": {
    "ExecuteTime": {
     "end_time": "2024-11-19T01:42:13.523172Z",
     "start_time": "2024-11-19T01:42:13.506189Z"
    }
   },
   "outputs": [],
   "source": [
    "def as_member(dic):\n",
    "    '딕셔너리 데이터를 매개변수로 받아 객체로 return하는 함수'\n",
    "    return Member(dic['name'], dic['age'], dic['email'], dic['address'])"
   ]
  },
  {
   "cell_type": "code",
   "execution_count": 20,
   "id": "a32b6a71",
   "metadata": {
    "ExecuteTime": {
     "end_time": "2024-11-19T01:44:27.331260Z",
     "start_time": "2024-11-19T01:44:27.325261Z"
    }
   },
   "outputs": [],
   "source": [
    "with open('data/ch09_member2.json', 'r', encoding='UTF-8') as jsonfile:\n",
    "    load_member_list = json.load(jsonfile, object_hook=as_member)"
   ]
  },
  {
   "cell_type": "code",
   "execution_count": 21,
   "id": "364435ce",
   "metadata": {
    "ExecuteTime": {
     "end_time": "2024-11-19T01:44:54.656883Z",
     "start_time": "2024-11-19T01:44:54.649833Z"
    }
   },
   "outputs": [
    {
     "data": {
      "text/plain": [
       "(list, __main__.Member)"
      ]
     },
     "execution_count": 21,
     "metadata": {},
     "output_type": "execute_result"
    }
   ],
   "source": [
    "type(load_member_list), type(load_member_list[0])"
   ]
  },
  {
   "cell_type": "code",
   "execution_count": 22,
   "id": "5749db2f",
   "metadata": {
    "ExecuteTime": {
     "end_time": "2024-11-19T01:50:11.015452Z",
     "start_time": "2024-11-19T01:50:11.010454Z"
    }
   },
   "outputs": [],
   "source": [
    "# member_list => ch09_member2.json => load_member_list로 받음"
   ]
  },
  {
   "cell_type": "code",
   "execution_count": 27,
   "id": "089d2a5c",
   "metadata": {
    "ExecuteTime": {
     "end_time": "2024-11-19T01:53:46.780280Z",
     "start_time": "2024-11-19T01:53:46.774280Z"
    }
   },
   "outputs": [
    {
     "name": "stdout",
     "output_type": "stream",
     "text": [
      "두 객체 리스트의 모든 데이터가 일치하는지 여부 : True\n"
     ]
    }
   ],
   "source": [
    "# member_list와 load_member_list의 모든 데이터가 일치하는지 여부를 확인\n",
    "result = []\n",
    "for idx in range(len(member_list)):\n",
    "    # result.append(member_list[idx].__eq__(load_member_list[idx]))\n",
    "    result.append(member_list[idx] == load_member_list[idx])  # __eq__()\n",
    "print('두 객체 리스트의 모든 데이터가 일치하는지 여부 :', all(result))"
   ]
  },
  {
   "cell_type": "code",
   "execution_count": 29,
   "id": "d47a480d",
   "metadata": {
    "ExecuteTime": {
     "end_time": "2024-11-19T01:57:30.091471Z",
     "start_time": "2024-11-19T01:57:30.051111Z"
    }
   },
   "outputs": [
    {
     "data": {
      "text/html": [
       "<div>\n",
       "<style scoped>\n",
       "    .dataframe tbody tr th:only-of-type {\n",
       "        vertical-align: middle;\n",
       "    }\n",
       "\n",
       "    .dataframe tbody tr th {\n",
       "        vertical-align: top;\n",
       "    }\n",
       "\n",
       "    .dataframe thead th {\n",
       "        text-align: right;\n",
       "    }\n",
       "</style>\n",
       "<table border=\"1\" class=\"dataframe\">\n",
       "  <thead>\n",
       "    <tr style=\"text-align: right;\">\n",
       "      <th></th>\n",
       "      <th>name</th>\n",
       "      <th>age</th>\n",
       "      <th>email</th>\n",
       "      <th>address</th>\n",
       "    </tr>\n",
       "  </thead>\n",
       "  <tbody>\n",
       "    <tr>\n",
       "      <th>0</th>\n",
       "      <td>홍길동</td>\n",
       "      <td>30</td>\n",
       "      <td>h@h.com</td>\n",
       "      <td>서울</td>\n",
       "    </tr>\n",
       "    <tr>\n",
       "      <th>1</th>\n",
       "      <td>김길동</td>\n",
       "      <td>25</td>\n",
       "      <td>k@h.com</td>\n",
       "      <td>부산</td>\n",
       "    </tr>\n",
       "    <tr>\n",
       "      <th>2</th>\n",
       "      <td>신길동</td>\n",
       "      <td>35</td>\n",
       "      <td>s@h.com</td>\n",
       "      <td>대전</td>\n",
       "    </tr>\n",
       "  </tbody>\n",
       "</table>\n",
       "</div>"
      ],
      "text/plain": [
       "  name  age    email address\n",
       "0  홍길동   30  h@h.com      서울\n",
       "1  김길동   25  k@h.com      부산\n",
       "2  신길동   35  s@h.com      대전"
      ]
     },
     "execution_count": 29,
     "metadata": {},
     "output_type": "execute_result"
    }
   ],
   "source": [
    "# json파일을 데이터프레임으로 읽기\n",
    "import pandas as pd\n",
    "member = pd.read_json('data/ch09_member2.json')  # encoding='utf-8' 기본\n",
    "member"
   ]
  },
  {
   "cell_type": "code",
   "execution_count": 30,
   "id": "64976957",
   "metadata": {
    "ExecuteTime": {
     "end_time": "2024-11-19T01:58:26.697963Z",
     "start_time": "2024-11-19T01:58:26.692968Z"
    }
   },
   "outputs": [],
   "source": [
    "# open()함수의 기본 encoding은 cp949, pd.read_~()함수의 기본 encoding은 utf-8"
   ]
  },
  {
   "cell_type": "code",
   "execution_count": 33,
   "id": "9bf3b2df",
   "metadata": {
    "ExecuteTime": {
     "end_time": "2024-11-19T01:59:47.577896Z",
     "start_time": "2024-11-19T01:59:47.561993Z"
    }
   },
   "outputs": [
    {
     "data": {
      "text/html": [
       "<div>\n",
       "<style scoped>\n",
       "    .dataframe tbody tr th:only-of-type {\n",
       "        vertical-align: middle;\n",
       "    }\n",
       "\n",
       "    .dataframe tbody tr th {\n",
       "        vertical-align: top;\n",
       "    }\n",
       "\n",
       "    .dataframe thead th {\n",
       "        text-align: right;\n",
       "    }\n",
       "</style>\n",
       "<table border=\"1\" class=\"dataframe\">\n",
       "  <thead>\n",
       "    <tr style=\"text-align: right;\">\n",
       "      <th></th>\n",
       "      <th>name</th>\n",
       "      <th>age</th>\n",
       "      <th>email</th>\n",
       "      <th>address</th>\n",
       "    </tr>\n",
       "  </thead>\n",
       "  <tbody>\n",
       "    <tr>\n",
       "      <th>0</th>\n",
       "      <td>홍길동</td>\n",
       "      <td>20</td>\n",
       "      <td>h@h.com</td>\n",
       "      <td>서울</td>\n",
       "    </tr>\n",
       "    <tr>\n",
       "      <th>1</th>\n",
       "      <td>김길동</td>\n",
       "      <td>30</td>\n",
       "      <td>k@h.com</td>\n",
       "      <td>부산</td>\n",
       "    </tr>\n",
       "    <tr>\n",
       "      <th>2</th>\n",
       "      <td>신길동</td>\n",
       "      <td>40</td>\n",
       "      <td>s@h.com</td>\n",
       "      <td>안양</td>\n",
       "    </tr>\n",
       "  </tbody>\n",
       "</table>\n",
       "</div>"
      ],
      "text/plain": [
       "  name  age    email address\n",
       "0  홍길동   20  h@h.com      서울\n",
       "1  김길동   30  k@h.com      부산\n",
       "2  신길동   40  s@h.com      안양"
      ]
     },
     "execution_count": 33,
     "metadata": {},
     "output_type": "execute_result"
    }
   ],
   "source": [
    "# member = pd.read_json('data/ch09_member1.json')  # 에러\n",
    "member = pd.read_json('data/ch09_member1.json', encoding='cp949')\n",
    "member"
   ]
  },
  {
   "cell_type": "code",
   "execution_count": 34,
   "id": "c1c7405c",
   "metadata": {
    "ExecuteTime": {
     "end_time": "2024-11-19T02:00:10.486708Z",
     "start_time": "2024-11-19T02:00:10.481710Z"
    }
   },
   "outputs": [
    {
     "data": {
      "text/plain": [
       "pandas.core.frame.DataFrame"
      ]
     },
     "execution_count": 34,
     "metadata": {},
     "output_type": "execute_result"
    }
   ],
   "source": [
    "type(member)"
   ]
  },
  {
   "cell_type": "markdown",
   "id": "9a1f48b3",
   "metadata": {},
   "source": [
    "# 5절. hdf5파일 쓰기/읽기(딕셔너리, 데이터프레임)\n",
    " - h5py 사용\n",
    "## 5.1 hdf5파일 쓰기\n",
    "1. 딕셔너리 데이터를 hdf5파일에 쓰기\n",
    "2. 데이터프레임 데이터를 hdf5파일에 쓰기"
   ]
  },
  {
   "cell_type": "code",
   "execution_count": 35,
   "id": "bb30ae31",
   "metadata": {
    "ExecuteTime": {
     "end_time": "2024-11-19T02:10:17.448153Z",
     "start_time": "2024-11-19T02:10:10.741930Z"
    }
   },
   "outputs": [
    {
     "data": {
      "text/html": [
       "<div>\n",
       "<style scoped>\n",
       "    .dataframe tbody tr th:only-of-type {\n",
       "        vertical-align: middle;\n",
       "    }\n",
       "\n",
       "    .dataframe tbody tr th {\n",
       "        vertical-align: top;\n",
       "    }\n",
       "\n",
       "    .dataframe thead th {\n",
       "        text-align: right;\n",
       "    }\n",
       "</style>\n",
       "<table border=\"1\" class=\"dataframe\">\n",
       "  <thead>\n",
       "    <tr style=\"text-align: right;\">\n",
       "      <th></th>\n",
       "      <th>sepal_length</th>\n",
       "      <th>sepal_width</th>\n",
       "      <th>petal_length</th>\n",
       "      <th>petal_width</th>\n",
       "      <th>species</th>\n",
       "    </tr>\n",
       "  </thead>\n",
       "  <tbody>\n",
       "    <tr>\n",
       "      <th>0</th>\n",
       "      <td>5.1</td>\n",
       "      <td>3.5</td>\n",
       "      <td>1.4</td>\n",
       "      <td>0.2</td>\n",
       "      <td>setosa</td>\n",
       "    </tr>\n",
       "    <tr>\n",
       "      <th>1</th>\n",
       "      <td>4.9</td>\n",
       "      <td>3.0</td>\n",
       "      <td>1.4</td>\n",
       "      <td>0.2</td>\n",
       "      <td>setosa</td>\n",
       "    </tr>\n",
       "    <tr>\n",
       "      <th>2</th>\n",
       "      <td>4.7</td>\n",
       "      <td>3.2</td>\n",
       "      <td>1.3</td>\n",
       "      <td>0.2</td>\n",
       "      <td>setosa</td>\n",
       "    </tr>\n",
       "    <tr>\n",
       "      <th>3</th>\n",
       "      <td>4.6</td>\n",
       "      <td>3.1</td>\n",
       "      <td>1.5</td>\n",
       "      <td>0.2</td>\n",
       "      <td>setosa</td>\n",
       "    </tr>\n",
       "    <tr>\n",
       "      <th>4</th>\n",
       "      <td>5.0</td>\n",
       "      <td>3.6</td>\n",
       "      <td>1.4</td>\n",
       "      <td>0.2</td>\n",
       "      <td>setosa</td>\n",
       "    </tr>\n",
       "    <tr>\n",
       "      <th>...</th>\n",
       "      <td>...</td>\n",
       "      <td>...</td>\n",
       "      <td>...</td>\n",
       "      <td>...</td>\n",
       "      <td>...</td>\n",
       "    </tr>\n",
       "    <tr>\n",
       "      <th>145</th>\n",
       "      <td>6.7</td>\n",
       "      <td>3.0</td>\n",
       "      <td>5.2</td>\n",
       "      <td>2.3</td>\n",
       "      <td>virginica</td>\n",
       "    </tr>\n",
       "    <tr>\n",
       "      <th>146</th>\n",
       "      <td>6.3</td>\n",
       "      <td>2.5</td>\n",
       "      <td>5.0</td>\n",
       "      <td>1.9</td>\n",
       "      <td>virginica</td>\n",
       "    </tr>\n",
       "    <tr>\n",
       "      <th>147</th>\n",
       "      <td>6.5</td>\n",
       "      <td>3.0</td>\n",
       "      <td>5.2</td>\n",
       "      <td>2.0</td>\n",
       "      <td>virginica</td>\n",
       "    </tr>\n",
       "    <tr>\n",
       "      <th>148</th>\n",
       "      <td>6.2</td>\n",
       "      <td>3.4</td>\n",
       "      <td>5.4</td>\n",
       "      <td>2.3</td>\n",
       "      <td>virginica</td>\n",
       "    </tr>\n",
       "    <tr>\n",
       "      <th>149</th>\n",
       "      <td>5.9</td>\n",
       "      <td>3.0</td>\n",
       "      <td>5.1</td>\n",
       "      <td>1.8</td>\n",
       "      <td>virginica</td>\n",
       "    </tr>\n",
       "  </tbody>\n",
       "</table>\n",
       "<p>150 rows × 5 columns</p>\n",
       "</div>"
      ],
      "text/plain": [
       "     sepal_length  sepal_width  petal_length  petal_width    species\n",
       "0             5.1          3.5           1.4          0.2     setosa\n",
       "1             4.9          3.0           1.4          0.2     setosa\n",
       "2             4.7          3.2           1.3          0.2     setosa\n",
       "3             4.6          3.1           1.5          0.2     setosa\n",
       "4             5.0          3.6           1.4          0.2     setosa\n",
       "..            ...          ...           ...          ...        ...\n",
       "145           6.7          3.0           5.2          2.3  virginica\n",
       "146           6.3          2.5           5.0          1.9  virginica\n",
       "147           6.5          3.0           5.2          2.0  virginica\n",
       "148           6.2          3.4           5.4          2.3  virginica\n",
       "149           5.9          3.0           5.1          1.8  virginica\n",
       "\n",
       "[150 rows x 5 columns]"
      ]
     },
     "execution_count": 35,
     "metadata": {},
     "output_type": "execute_result"
    }
   ],
   "source": [
    "import seaborn as sns\n",
    "iris_df = sns.load_dataset('iris')\n",
    "iris_df"
   ]
  },
  {
   "cell_type": "code",
   "execution_count": 36,
   "id": "26063658",
   "metadata": {
    "ExecuteTime": {
     "end_time": "2024-11-19T02:13:26.594862Z",
     "start_time": "2024-11-19T02:13:26.587864Z"
    }
   },
   "outputs": [
    {
     "data": {
      "text/plain": [
       "pandas.core.frame.DataFrame"
      ]
     },
     "execution_count": 36,
     "metadata": {},
     "output_type": "execute_result"
    }
   ],
   "source": [
    "type(iris_df)"
   ]
  },
  {
   "cell_type": "code",
   "execution_count": 37,
   "id": "99dc39a8",
   "metadata": {
    "ExecuteTime": {
     "end_time": "2024-11-19T02:13:34.888008Z",
     "start_time": "2024-11-19T02:13:34.874438Z"
    }
   },
   "outputs": [
    {
     "data": {
      "text/html": [
       "<div>\n",
       "<style scoped>\n",
       "    .dataframe tbody tr th:only-of-type {\n",
       "        vertical-align: middle;\n",
       "    }\n",
       "\n",
       "    .dataframe tbody tr th {\n",
       "        vertical-align: top;\n",
       "    }\n",
       "\n",
       "    .dataframe thead th {\n",
       "        text-align: right;\n",
       "    }\n",
       "</style>\n",
       "<table border=\"1\" class=\"dataframe\">\n",
       "  <thead>\n",
       "    <tr style=\"text-align: right;\">\n",
       "      <th></th>\n",
       "      <th>sepal_length</th>\n",
       "      <th>sepal_width</th>\n",
       "      <th>petal_length</th>\n",
       "      <th>petal_width</th>\n",
       "      <th>species</th>\n",
       "    </tr>\n",
       "  </thead>\n",
       "  <tbody>\n",
       "    <tr>\n",
       "      <th>0</th>\n",
       "      <td>5.1</td>\n",
       "      <td>3.5</td>\n",
       "      <td>1.4</td>\n",
       "      <td>0.2</td>\n",
       "      <td>setosa</td>\n",
       "    </tr>\n",
       "    <tr>\n",
       "      <th>1</th>\n",
       "      <td>4.9</td>\n",
       "      <td>3.0</td>\n",
       "      <td>1.4</td>\n",
       "      <td>0.2</td>\n",
       "      <td>setosa</td>\n",
       "    </tr>\n",
       "    <tr>\n",
       "      <th>2</th>\n",
       "      <td>4.7</td>\n",
       "      <td>3.2</td>\n",
       "      <td>1.3</td>\n",
       "      <td>0.2</td>\n",
       "      <td>setosa</td>\n",
       "    </tr>\n",
       "    <tr>\n",
       "      <th>3</th>\n",
       "      <td>4.6</td>\n",
       "      <td>3.1</td>\n",
       "      <td>1.5</td>\n",
       "      <td>0.2</td>\n",
       "      <td>setosa</td>\n",
       "    </tr>\n",
       "    <tr>\n",
       "      <th>4</th>\n",
       "      <td>5.0</td>\n",
       "      <td>3.6</td>\n",
       "      <td>1.4</td>\n",
       "      <td>0.2</td>\n",
       "      <td>setosa</td>\n",
       "    </tr>\n",
       "  </tbody>\n",
       "</table>\n",
       "</div>"
      ],
      "text/plain": [
       "   sepal_length  sepal_width  petal_length  petal_width species\n",
       "0           5.1          3.5           1.4          0.2  setosa\n",
       "1           4.9          3.0           1.4          0.2  setosa\n",
       "2           4.7          3.2           1.3          0.2  setosa\n",
       "3           4.6          3.1           1.5          0.2  setosa\n",
       "4           5.0          3.6           1.4          0.2  setosa"
      ]
     },
     "execution_count": 37,
     "metadata": {},
     "output_type": "execute_result"
    }
   ],
   "source": [
    "iris_df.head()"
   ]
  },
  {
   "cell_type": "code",
   "execution_count": 39,
   "id": "9c71e198",
   "metadata": {
    "ExecuteTime": {
     "end_time": "2024-11-19T02:14:55.432942Z",
     "start_time": "2024-11-19T02:14:55.393715Z"
    }
   },
   "outputs": [
    {
     "data": {
      "text/plain": [
       "{'sepal_length': {0: 5.1,\n",
       "  1: 4.9,\n",
       "  2: 4.7,\n",
       "  3: 4.6,\n",
       "  4: 5.0,\n",
       "  5: 5.4,\n",
       "  6: 4.6,\n",
       "  7: 5.0,\n",
       "  8: 4.4,\n",
       "  9: 4.9,\n",
       "  10: 5.4,\n",
       "  11: 4.8,\n",
       "  12: 4.8,\n",
       "  13: 4.3,\n",
       "  14: 5.8,\n",
       "  15: 5.7,\n",
       "  16: 5.4,\n",
       "  17: 5.1,\n",
       "  18: 5.7,\n",
       "  19: 5.1,\n",
       "  20: 5.4,\n",
       "  21: 5.1,\n",
       "  22: 4.6,\n",
       "  23: 5.1,\n",
       "  24: 4.8,\n",
       "  25: 5.0,\n",
       "  26: 5.0,\n",
       "  27: 5.2,\n",
       "  28: 5.2,\n",
       "  29: 4.7,\n",
       "  30: 4.8,\n",
       "  31: 5.4,\n",
       "  32: 5.2,\n",
       "  33: 5.5,\n",
       "  34: 4.9,\n",
       "  35: 5.0,\n",
       "  36: 5.5,\n",
       "  37: 4.9,\n",
       "  38: 4.4,\n",
       "  39: 5.1,\n",
       "  40: 5.0,\n",
       "  41: 4.5,\n",
       "  42: 4.4,\n",
       "  43: 5.0,\n",
       "  44: 5.1,\n",
       "  45: 4.8,\n",
       "  46: 5.1,\n",
       "  47: 4.6,\n",
       "  48: 5.3,\n",
       "  49: 5.0,\n",
       "  50: 7.0,\n",
       "  51: 6.4,\n",
       "  52: 6.9,\n",
       "  53: 5.5,\n",
       "  54: 6.5,\n",
       "  55: 5.7,\n",
       "  56: 6.3,\n",
       "  57: 4.9,\n",
       "  58: 6.6,\n",
       "  59: 5.2,\n",
       "  60: 5.0,\n",
       "  61: 5.9,\n",
       "  62: 6.0,\n",
       "  63: 6.1,\n",
       "  64: 5.6,\n",
       "  65: 6.7,\n",
       "  66: 5.6,\n",
       "  67: 5.8,\n",
       "  68: 6.2,\n",
       "  69: 5.6,\n",
       "  70: 5.9,\n",
       "  71: 6.1,\n",
       "  72: 6.3,\n",
       "  73: 6.1,\n",
       "  74: 6.4,\n",
       "  75: 6.6,\n",
       "  76: 6.8,\n",
       "  77: 6.7,\n",
       "  78: 6.0,\n",
       "  79: 5.7,\n",
       "  80: 5.5,\n",
       "  81: 5.5,\n",
       "  82: 5.8,\n",
       "  83: 6.0,\n",
       "  84: 5.4,\n",
       "  85: 6.0,\n",
       "  86: 6.7,\n",
       "  87: 6.3,\n",
       "  88: 5.6,\n",
       "  89: 5.5,\n",
       "  90: 5.5,\n",
       "  91: 6.1,\n",
       "  92: 5.8,\n",
       "  93: 5.0,\n",
       "  94: 5.6,\n",
       "  95: 5.7,\n",
       "  96: 5.7,\n",
       "  97: 6.2,\n",
       "  98: 5.1,\n",
       "  99: 5.7,\n",
       "  100: 6.3,\n",
       "  101: 5.8,\n",
       "  102: 7.1,\n",
       "  103: 6.3,\n",
       "  104: 6.5,\n",
       "  105: 7.6,\n",
       "  106: 4.9,\n",
       "  107: 7.3,\n",
       "  108: 6.7,\n",
       "  109: 7.2,\n",
       "  110: 6.5,\n",
       "  111: 6.4,\n",
       "  112: 6.8,\n",
       "  113: 5.7,\n",
       "  114: 5.8,\n",
       "  115: 6.4,\n",
       "  116: 6.5,\n",
       "  117: 7.7,\n",
       "  118: 7.7,\n",
       "  119: 6.0,\n",
       "  120: 6.9,\n",
       "  121: 5.6,\n",
       "  122: 7.7,\n",
       "  123: 6.3,\n",
       "  124: 6.7,\n",
       "  125: 7.2,\n",
       "  126: 6.2,\n",
       "  127: 6.1,\n",
       "  128: 6.4,\n",
       "  129: 7.2,\n",
       "  130: 7.4,\n",
       "  131: 7.9,\n",
       "  132: 6.4,\n",
       "  133: 6.3,\n",
       "  134: 6.1,\n",
       "  135: 7.7,\n",
       "  136: 6.3,\n",
       "  137: 6.4,\n",
       "  138: 6.0,\n",
       "  139: 6.9,\n",
       "  140: 6.7,\n",
       "  141: 6.9,\n",
       "  142: 5.8,\n",
       "  143: 6.8,\n",
       "  144: 6.7,\n",
       "  145: 6.7,\n",
       "  146: 6.3,\n",
       "  147: 6.5,\n",
       "  148: 6.2,\n",
       "  149: 5.9},\n",
       " 'sepal_width': {0: 3.5,\n",
       "  1: 3.0,\n",
       "  2: 3.2,\n",
       "  3: 3.1,\n",
       "  4: 3.6,\n",
       "  5: 3.9,\n",
       "  6: 3.4,\n",
       "  7: 3.4,\n",
       "  8: 2.9,\n",
       "  9: 3.1,\n",
       "  10: 3.7,\n",
       "  11: 3.4,\n",
       "  12: 3.0,\n",
       "  13: 3.0,\n",
       "  14: 4.0,\n",
       "  15: 4.4,\n",
       "  16: 3.9,\n",
       "  17: 3.5,\n",
       "  18: 3.8,\n",
       "  19: 3.8,\n",
       "  20: 3.4,\n",
       "  21: 3.7,\n",
       "  22: 3.6,\n",
       "  23: 3.3,\n",
       "  24: 3.4,\n",
       "  25: 3.0,\n",
       "  26: 3.4,\n",
       "  27: 3.5,\n",
       "  28: 3.4,\n",
       "  29: 3.2,\n",
       "  30: 3.1,\n",
       "  31: 3.4,\n",
       "  32: 4.1,\n",
       "  33: 4.2,\n",
       "  34: 3.1,\n",
       "  35: 3.2,\n",
       "  36: 3.5,\n",
       "  37: 3.6,\n",
       "  38: 3.0,\n",
       "  39: 3.4,\n",
       "  40: 3.5,\n",
       "  41: 2.3,\n",
       "  42: 3.2,\n",
       "  43: 3.5,\n",
       "  44: 3.8,\n",
       "  45: 3.0,\n",
       "  46: 3.8,\n",
       "  47: 3.2,\n",
       "  48: 3.7,\n",
       "  49: 3.3,\n",
       "  50: 3.2,\n",
       "  51: 3.2,\n",
       "  52: 3.1,\n",
       "  53: 2.3,\n",
       "  54: 2.8,\n",
       "  55: 2.8,\n",
       "  56: 3.3,\n",
       "  57: 2.4,\n",
       "  58: 2.9,\n",
       "  59: 2.7,\n",
       "  60: 2.0,\n",
       "  61: 3.0,\n",
       "  62: 2.2,\n",
       "  63: 2.9,\n",
       "  64: 2.9,\n",
       "  65: 3.1,\n",
       "  66: 3.0,\n",
       "  67: 2.7,\n",
       "  68: 2.2,\n",
       "  69: 2.5,\n",
       "  70: 3.2,\n",
       "  71: 2.8,\n",
       "  72: 2.5,\n",
       "  73: 2.8,\n",
       "  74: 2.9,\n",
       "  75: 3.0,\n",
       "  76: 2.8,\n",
       "  77: 3.0,\n",
       "  78: 2.9,\n",
       "  79: 2.6,\n",
       "  80: 2.4,\n",
       "  81: 2.4,\n",
       "  82: 2.7,\n",
       "  83: 2.7,\n",
       "  84: 3.0,\n",
       "  85: 3.4,\n",
       "  86: 3.1,\n",
       "  87: 2.3,\n",
       "  88: 3.0,\n",
       "  89: 2.5,\n",
       "  90: 2.6,\n",
       "  91: 3.0,\n",
       "  92: 2.6,\n",
       "  93: 2.3,\n",
       "  94: 2.7,\n",
       "  95: 3.0,\n",
       "  96: 2.9,\n",
       "  97: 2.9,\n",
       "  98: 2.5,\n",
       "  99: 2.8,\n",
       "  100: 3.3,\n",
       "  101: 2.7,\n",
       "  102: 3.0,\n",
       "  103: 2.9,\n",
       "  104: 3.0,\n",
       "  105: 3.0,\n",
       "  106: 2.5,\n",
       "  107: 2.9,\n",
       "  108: 2.5,\n",
       "  109: 3.6,\n",
       "  110: 3.2,\n",
       "  111: 2.7,\n",
       "  112: 3.0,\n",
       "  113: 2.5,\n",
       "  114: 2.8,\n",
       "  115: 3.2,\n",
       "  116: 3.0,\n",
       "  117: 3.8,\n",
       "  118: 2.6,\n",
       "  119: 2.2,\n",
       "  120: 3.2,\n",
       "  121: 2.8,\n",
       "  122: 2.8,\n",
       "  123: 2.7,\n",
       "  124: 3.3,\n",
       "  125: 3.2,\n",
       "  126: 2.8,\n",
       "  127: 3.0,\n",
       "  128: 2.8,\n",
       "  129: 3.0,\n",
       "  130: 2.8,\n",
       "  131: 3.8,\n",
       "  132: 2.8,\n",
       "  133: 2.8,\n",
       "  134: 2.6,\n",
       "  135: 3.0,\n",
       "  136: 3.4,\n",
       "  137: 3.1,\n",
       "  138: 3.0,\n",
       "  139: 3.1,\n",
       "  140: 3.1,\n",
       "  141: 3.1,\n",
       "  142: 2.7,\n",
       "  143: 3.2,\n",
       "  144: 3.3,\n",
       "  145: 3.0,\n",
       "  146: 2.5,\n",
       "  147: 3.0,\n",
       "  148: 3.4,\n",
       "  149: 3.0},\n",
       " 'petal_length': {0: 1.4,\n",
       "  1: 1.4,\n",
       "  2: 1.3,\n",
       "  3: 1.5,\n",
       "  4: 1.4,\n",
       "  5: 1.7,\n",
       "  6: 1.4,\n",
       "  7: 1.5,\n",
       "  8: 1.4,\n",
       "  9: 1.5,\n",
       "  10: 1.5,\n",
       "  11: 1.6,\n",
       "  12: 1.4,\n",
       "  13: 1.1,\n",
       "  14: 1.2,\n",
       "  15: 1.5,\n",
       "  16: 1.3,\n",
       "  17: 1.4,\n",
       "  18: 1.7,\n",
       "  19: 1.5,\n",
       "  20: 1.7,\n",
       "  21: 1.5,\n",
       "  22: 1.0,\n",
       "  23: 1.7,\n",
       "  24: 1.9,\n",
       "  25: 1.6,\n",
       "  26: 1.6,\n",
       "  27: 1.5,\n",
       "  28: 1.4,\n",
       "  29: 1.6,\n",
       "  30: 1.6,\n",
       "  31: 1.5,\n",
       "  32: 1.5,\n",
       "  33: 1.4,\n",
       "  34: 1.5,\n",
       "  35: 1.2,\n",
       "  36: 1.3,\n",
       "  37: 1.4,\n",
       "  38: 1.3,\n",
       "  39: 1.5,\n",
       "  40: 1.3,\n",
       "  41: 1.3,\n",
       "  42: 1.3,\n",
       "  43: 1.6,\n",
       "  44: 1.9,\n",
       "  45: 1.4,\n",
       "  46: 1.6,\n",
       "  47: 1.4,\n",
       "  48: 1.5,\n",
       "  49: 1.4,\n",
       "  50: 4.7,\n",
       "  51: 4.5,\n",
       "  52: 4.9,\n",
       "  53: 4.0,\n",
       "  54: 4.6,\n",
       "  55: 4.5,\n",
       "  56: 4.7,\n",
       "  57: 3.3,\n",
       "  58: 4.6,\n",
       "  59: 3.9,\n",
       "  60: 3.5,\n",
       "  61: 4.2,\n",
       "  62: 4.0,\n",
       "  63: 4.7,\n",
       "  64: 3.6,\n",
       "  65: 4.4,\n",
       "  66: 4.5,\n",
       "  67: 4.1,\n",
       "  68: 4.5,\n",
       "  69: 3.9,\n",
       "  70: 4.8,\n",
       "  71: 4.0,\n",
       "  72: 4.9,\n",
       "  73: 4.7,\n",
       "  74: 4.3,\n",
       "  75: 4.4,\n",
       "  76: 4.8,\n",
       "  77: 5.0,\n",
       "  78: 4.5,\n",
       "  79: 3.5,\n",
       "  80: 3.8,\n",
       "  81: 3.7,\n",
       "  82: 3.9,\n",
       "  83: 5.1,\n",
       "  84: 4.5,\n",
       "  85: 4.5,\n",
       "  86: 4.7,\n",
       "  87: 4.4,\n",
       "  88: 4.1,\n",
       "  89: 4.0,\n",
       "  90: 4.4,\n",
       "  91: 4.6,\n",
       "  92: 4.0,\n",
       "  93: 3.3,\n",
       "  94: 4.2,\n",
       "  95: 4.2,\n",
       "  96: 4.2,\n",
       "  97: 4.3,\n",
       "  98: 3.0,\n",
       "  99: 4.1,\n",
       "  100: 6.0,\n",
       "  101: 5.1,\n",
       "  102: 5.9,\n",
       "  103: 5.6,\n",
       "  104: 5.8,\n",
       "  105: 6.6,\n",
       "  106: 4.5,\n",
       "  107: 6.3,\n",
       "  108: 5.8,\n",
       "  109: 6.1,\n",
       "  110: 5.1,\n",
       "  111: 5.3,\n",
       "  112: 5.5,\n",
       "  113: 5.0,\n",
       "  114: 5.1,\n",
       "  115: 5.3,\n",
       "  116: 5.5,\n",
       "  117: 6.7,\n",
       "  118: 6.9,\n",
       "  119: 5.0,\n",
       "  120: 5.7,\n",
       "  121: 4.9,\n",
       "  122: 6.7,\n",
       "  123: 4.9,\n",
       "  124: 5.7,\n",
       "  125: 6.0,\n",
       "  126: 4.8,\n",
       "  127: 4.9,\n",
       "  128: 5.6,\n",
       "  129: 5.8,\n",
       "  130: 6.1,\n",
       "  131: 6.4,\n",
       "  132: 5.6,\n",
       "  133: 5.1,\n",
       "  134: 5.6,\n",
       "  135: 6.1,\n",
       "  136: 5.6,\n",
       "  137: 5.5,\n",
       "  138: 4.8,\n",
       "  139: 5.4,\n",
       "  140: 5.6,\n",
       "  141: 5.1,\n",
       "  142: 5.1,\n",
       "  143: 5.9,\n",
       "  144: 5.7,\n",
       "  145: 5.2,\n",
       "  146: 5.0,\n",
       "  147: 5.2,\n",
       "  148: 5.4,\n",
       "  149: 5.1},\n",
       " 'petal_width': {0: 0.2,\n",
       "  1: 0.2,\n",
       "  2: 0.2,\n",
       "  3: 0.2,\n",
       "  4: 0.2,\n",
       "  5: 0.4,\n",
       "  6: 0.3,\n",
       "  7: 0.2,\n",
       "  8: 0.2,\n",
       "  9: 0.1,\n",
       "  10: 0.2,\n",
       "  11: 0.2,\n",
       "  12: 0.1,\n",
       "  13: 0.1,\n",
       "  14: 0.2,\n",
       "  15: 0.4,\n",
       "  16: 0.4,\n",
       "  17: 0.3,\n",
       "  18: 0.3,\n",
       "  19: 0.3,\n",
       "  20: 0.2,\n",
       "  21: 0.4,\n",
       "  22: 0.2,\n",
       "  23: 0.5,\n",
       "  24: 0.2,\n",
       "  25: 0.2,\n",
       "  26: 0.4,\n",
       "  27: 0.2,\n",
       "  28: 0.2,\n",
       "  29: 0.2,\n",
       "  30: 0.2,\n",
       "  31: 0.4,\n",
       "  32: 0.1,\n",
       "  33: 0.2,\n",
       "  34: 0.2,\n",
       "  35: 0.2,\n",
       "  36: 0.2,\n",
       "  37: 0.1,\n",
       "  38: 0.2,\n",
       "  39: 0.2,\n",
       "  40: 0.3,\n",
       "  41: 0.3,\n",
       "  42: 0.2,\n",
       "  43: 0.6,\n",
       "  44: 0.4,\n",
       "  45: 0.3,\n",
       "  46: 0.2,\n",
       "  47: 0.2,\n",
       "  48: 0.2,\n",
       "  49: 0.2,\n",
       "  50: 1.4,\n",
       "  51: 1.5,\n",
       "  52: 1.5,\n",
       "  53: 1.3,\n",
       "  54: 1.5,\n",
       "  55: 1.3,\n",
       "  56: 1.6,\n",
       "  57: 1.0,\n",
       "  58: 1.3,\n",
       "  59: 1.4,\n",
       "  60: 1.0,\n",
       "  61: 1.5,\n",
       "  62: 1.0,\n",
       "  63: 1.4,\n",
       "  64: 1.3,\n",
       "  65: 1.4,\n",
       "  66: 1.5,\n",
       "  67: 1.0,\n",
       "  68: 1.5,\n",
       "  69: 1.1,\n",
       "  70: 1.8,\n",
       "  71: 1.3,\n",
       "  72: 1.5,\n",
       "  73: 1.2,\n",
       "  74: 1.3,\n",
       "  75: 1.4,\n",
       "  76: 1.4,\n",
       "  77: 1.7,\n",
       "  78: 1.5,\n",
       "  79: 1.0,\n",
       "  80: 1.1,\n",
       "  81: 1.0,\n",
       "  82: 1.2,\n",
       "  83: 1.6,\n",
       "  84: 1.5,\n",
       "  85: 1.6,\n",
       "  86: 1.5,\n",
       "  87: 1.3,\n",
       "  88: 1.3,\n",
       "  89: 1.3,\n",
       "  90: 1.2,\n",
       "  91: 1.4,\n",
       "  92: 1.2,\n",
       "  93: 1.0,\n",
       "  94: 1.3,\n",
       "  95: 1.2,\n",
       "  96: 1.3,\n",
       "  97: 1.3,\n",
       "  98: 1.1,\n",
       "  99: 1.3,\n",
       "  100: 2.5,\n",
       "  101: 1.9,\n",
       "  102: 2.1,\n",
       "  103: 1.8,\n",
       "  104: 2.2,\n",
       "  105: 2.1,\n",
       "  106: 1.7,\n",
       "  107: 1.8,\n",
       "  108: 1.8,\n",
       "  109: 2.5,\n",
       "  110: 2.0,\n",
       "  111: 1.9,\n",
       "  112: 2.1,\n",
       "  113: 2.0,\n",
       "  114: 2.4,\n",
       "  115: 2.3,\n",
       "  116: 1.8,\n",
       "  117: 2.2,\n",
       "  118: 2.3,\n",
       "  119: 1.5,\n",
       "  120: 2.3,\n",
       "  121: 2.0,\n",
       "  122: 2.0,\n",
       "  123: 1.8,\n",
       "  124: 2.1,\n",
       "  125: 1.8,\n",
       "  126: 1.8,\n",
       "  127: 1.8,\n",
       "  128: 2.1,\n",
       "  129: 1.6,\n",
       "  130: 1.9,\n",
       "  131: 2.0,\n",
       "  132: 2.2,\n",
       "  133: 1.5,\n",
       "  134: 1.4,\n",
       "  135: 2.3,\n",
       "  136: 2.4,\n",
       "  137: 1.8,\n",
       "  138: 1.8,\n",
       "  139: 2.1,\n",
       "  140: 2.4,\n",
       "  141: 2.3,\n",
       "  142: 1.9,\n",
       "  143: 2.3,\n",
       "  144: 2.5,\n",
       "  145: 2.3,\n",
       "  146: 1.9,\n",
       "  147: 2.0,\n",
       "  148: 2.3,\n",
       "  149: 1.8},\n",
       " 'species': {0: 'setosa',\n",
       "  1: 'setosa',\n",
       "  2: 'setosa',\n",
       "  3: 'setosa',\n",
       "  4: 'setosa',\n",
       "  5: 'setosa',\n",
       "  6: 'setosa',\n",
       "  7: 'setosa',\n",
       "  8: 'setosa',\n",
       "  9: 'setosa',\n",
       "  10: 'setosa',\n",
       "  11: 'setosa',\n",
       "  12: 'setosa',\n",
       "  13: 'setosa',\n",
       "  14: 'setosa',\n",
       "  15: 'setosa',\n",
       "  16: 'setosa',\n",
       "  17: 'setosa',\n",
       "  18: 'setosa',\n",
       "  19: 'setosa',\n",
       "  20: 'setosa',\n",
       "  21: 'setosa',\n",
       "  22: 'setosa',\n",
       "  23: 'setosa',\n",
       "  24: 'setosa',\n",
       "  25: 'setosa',\n",
       "  26: 'setosa',\n",
       "  27: 'setosa',\n",
       "  28: 'setosa',\n",
       "  29: 'setosa',\n",
       "  30: 'setosa',\n",
       "  31: 'setosa',\n",
       "  32: 'setosa',\n",
       "  33: 'setosa',\n",
       "  34: 'setosa',\n",
       "  35: 'setosa',\n",
       "  36: 'setosa',\n",
       "  37: 'setosa',\n",
       "  38: 'setosa',\n",
       "  39: 'setosa',\n",
       "  40: 'setosa',\n",
       "  41: 'setosa',\n",
       "  42: 'setosa',\n",
       "  43: 'setosa',\n",
       "  44: 'setosa',\n",
       "  45: 'setosa',\n",
       "  46: 'setosa',\n",
       "  47: 'setosa',\n",
       "  48: 'setosa',\n",
       "  49: 'setosa',\n",
       "  50: 'versicolor',\n",
       "  51: 'versicolor',\n",
       "  52: 'versicolor',\n",
       "  53: 'versicolor',\n",
       "  54: 'versicolor',\n",
       "  55: 'versicolor',\n",
       "  56: 'versicolor',\n",
       "  57: 'versicolor',\n",
       "  58: 'versicolor',\n",
       "  59: 'versicolor',\n",
       "  60: 'versicolor',\n",
       "  61: 'versicolor',\n",
       "  62: 'versicolor',\n",
       "  63: 'versicolor',\n",
       "  64: 'versicolor',\n",
       "  65: 'versicolor',\n",
       "  66: 'versicolor',\n",
       "  67: 'versicolor',\n",
       "  68: 'versicolor',\n",
       "  69: 'versicolor',\n",
       "  70: 'versicolor',\n",
       "  71: 'versicolor',\n",
       "  72: 'versicolor',\n",
       "  73: 'versicolor',\n",
       "  74: 'versicolor',\n",
       "  75: 'versicolor',\n",
       "  76: 'versicolor',\n",
       "  77: 'versicolor',\n",
       "  78: 'versicolor',\n",
       "  79: 'versicolor',\n",
       "  80: 'versicolor',\n",
       "  81: 'versicolor',\n",
       "  82: 'versicolor',\n",
       "  83: 'versicolor',\n",
       "  84: 'versicolor',\n",
       "  85: 'versicolor',\n",
       "  86: 'versicolor',\n",
       "  87: 'versicolor',\n",
       "  88: 'versicolor',\n",
       "  89: 'versicolor',\n",
       "  90: 'versicolor',\n",
       "  91: 'versicolor',\n",
       "  92: 'versicolor',\n",
       "  93: 'versicolor',\n",
       "  94: 'versicolor',\n",
       "  95: 'versicolor',\n",
       "  96: 'versicolor',\n",
       "  97: 'versicolor',\n",
       "  98: 'versicolor',\n",
       "  99: 'versicolor',\n",
       "  100: 'virginica',\n",
       "  101: 'virginica',\n",
       "  102: 'virginica',\n",
       "  103: 'virginica',\n",
       "  104: 'virginica',\n",
       "  105: 'virginica',\n",
       "  106: 'virginica',\n",
       "  107: 'virginica',\n",
       "  108: 'virginica',\n",
       "  109: 'virginica',\n",
       "  110: 'virginica',\n",
       "  111: 'virginica',\n",
       "  112: 'virginica',\n",
       "  113: 'virginica',\n",
       "  114: 'virginica',\n",
       "  115: 'virginica',\n",
       "  116: 'virginica',\n",
       "  117: 'virginica',\n",
       "  118: 'virginica',\n",
       "  119: 'virginica',\n",
       "  120: 'virginica',\n",
       "  121: 'virginica',\n",
       "  122: 'virginica',\n",
       "  123: 'virginica',\n",
       "  124: 'virginica',\n",
       "  125: 'virginica',\n",
       "  126: 'virginica',\n",
       "  127: 'virginica',\n",
       "  128: 'virginica',\n",
       "  129: 'virginica',\n",
       "  130: 'virginica',\n",
       "  131: 'virginica',\n",
       "  132: 'virginica',\n",
       "  133: 'virginica',\n",
       "  134: 'virginica',\n",
       "  135: 'virginica',\n",
       "  136: 'virginica',\n",
       "  137: 'virginica',\n",
       "  138: 'virginica',\n",
       "  139: 'virginica',\n",
       "  140: 'virginica',\n",
       "  141: 'virginica',\n",
       "  142: 'virginica',\n",
       "  143: 'virginica',\n",
       "  144: 'virginica',\n",
       "  145: 'virginica',\n",
       "  146: 'virginica',\n",
       "  147: 'virginica',\n",
       "  148: 'virginica',\n",
       "  149: 'virginica'}}"
      ]
     },
     "execution_count": 39,
     "metadata": {},
     "output_type": "execute_result"
    }
   ],
   "source": [
    "iris_dic = iris_df.to_dict()  # 데이터프레임(2차원) 변수를 딕셔너리로 형변환\n",
    "iris_dic"
   ]
  },
  {
   "cell_type": "code",
   "execution_count": 40,
   "id": "e6afdcbe",
   "metadata": {
    "ExecuteTime": {
     "end_time": "2024-11-19T02:16:29.463147Z",
     "start_time": "2024-11-19T02:16:29.457142Z"
    }
   },
   "outputs": [
    {
     "data": {
      "text/plain": [
       "['sepal_length', 'sepal_width', 'petal_length', 'petal_width', 'species']"
      ]
     },
     "execution_count": 40,
     "metadata": {},
     "output_type": "execute_result"
    }
   ],
   "source": [
    "list(iris_dic.keys())  # hdf파일 출력 시 group이 될 키"
   ]
  },
  {
   "cell_type": "code",
   "execution_count": 41,
   "id": "bb951cf1",
   "metadata": {
    "ExecuteTime": {
     "end_time": "2024-11-19T02:19:27.614860Z",
     "start_time": "2024-11-19T02:19:27.609860Z"
    }
   },
   "outputs": [
    {
     "name": "stdout",
     "output_type": "stream",
     "text": [
      "그룹명 : sepal_length\n",
      "{0: 5.1, 1: 4.9, 2: 4.7, 3: 4.6, 4: 5.0, 5: 5.4, 6: 4.6, 7: 5.0, 8: 4.4, 9: 4.9, 10: 5.4, 11: 4.8, 12: 4.8, 13: 4.3, 14: 5.8, 15: 5.7, 16: 5.4, 17: 5.1, 18: 5.7, 19: 5.1, 20: 5.4, 21: 5.1, 22: 4.6, 23: 5.1, 24: 4.8, 25: 5.0, 26: 5.0, 27: 5.2, 28: 5.2, 29: 4.7, 30: 4.8, 31: 5.4, 32: 5.2, 33: 5.5, 34: 4.9, 35: 5.0, 36: 5.5, 37: 4.9, 38: 4.4, 39: 5.1, 40: 5.0, 41: 4.5, 42: 4.4, 43: 5.0, 44: 5.1, 45: 4.8, 46: 5.1, 47: 4.6, 48: 5.3, 49: 5.0, 50: 7.0, 51: 6.4, 52: 6.9, 53: 5.5, 54: 6.5, 55: 5.7, 56: 6.3, 57: 4.9, 58: 6.6, 59: 5.2, 60: 5.0, 61: 5.9, 62: 6.0, 63: 6.1, 64: 5.6, 65: 6.7, 66: 5.6, 67: 5.8, 68: 6.2, 69: 5.6, 70: 5.9, 71: 6.1, 72: 6.3, 73: 6.1, 74: 6.4, 75: 6.6, 76: 6.8, 77: 6.7, 78: 6.0, 79: 5.7, 80: 5.5, 81: 5.5, 82: 5.8, 83: 6.0, 84: 5.4, 85: 6.0, 86: 6.7, 87: 6.3, 88: 5.6, 89: 5.5, 90: 5.5, 91: 6.1, 92: 5.8, 93: 5.0, 94: 5.6, 95: 5.7, 96: 5.7, 97: 6.2, 98: 5.1, 99: 5.7, 100: 6.3, 101: 5.8, 102: 7.1, 103: 6.3, 104: 6.5, 105: 7.6, 106: 4.9, 107: 7.3, 108: 6.7, 109: 7.2, 110: 6.5, 111: 6.4, 112: 6.8, 113: 5.7, 114: 5.8, 115: 6.4, 116: 6.5, 117: 7.7, 118: 7.7, 119: 6.0, 120: 6.9, 121: 5.6, 122: 7.7, 123: 6.3, 124: 6.7, 125: 7.2, 126: 6.2, 127: 6.1, 128: 6.4, 129: 7.2, 130: 7.4, 131: 7.9, 132: 6.4, 133: 6.3, 134: 6.1, 135: 7.7, 136: 6.3, 137: 6.4, 138: 6.0, 139: 6.9, 140: 6.7, 141: 6.9, 142: 5.8, 143: 6.8, 144: 6.7, 145: 6.7, 146: 6.3, 147: 6.5, 148: 6.2, 149: 5.9}\n",
      "그룹명 : sepal_width\n",
      "{0: 3.5, 1: 3.0, 2: 3.2, 3: 3.1, 4: 3.6, 5: 3.9, 6: 3.4, 7: 3.4, 8: 2.9, 9: 3.1, 10: 3.7, 11: 3.4, 12: 3.0, 13: 3.0, 14: 4.0, 15: 4.4, 16: 3.9, 17: 3.5, 18: 3.8, 19: 3.8, 20: 3.4, 21: 3.7, 22: 3.6, 23: 3.3, 24: 3.4, 25: 3.0, 26: 3.4, 27: 3.5, 28: 3.4, 29: 3.2, 30: 3.1, 31: 3.4, 32: 4.1, 33: 4.2, 34: 3.1, 35: 3.2, 36: 3.5, 37: 3.6, 38: 3.0, 39: 3.4, 40: 3.5, 41: 2.3, 42: 3.2, 43: 3.5, 44: 3.8, 45: 3.0, 46: 3.8, 47: 3.2, 48: 3.7, 49: 3.3, 50: 3.2, 51: 3.2, 52: 3.1, 53: 2.3, 54: 2.8, 55: 2.8, 56: 3.3, 57: 2.4, 58: 2.9, 59: 2.7, 60: 2.0, 61: 3.0, 62: 2.2, 63: 2.9, 64: 2.9, 65: 3.1, 66: 3.0, 67: 2.7, 68: 2.2, 69: 2.5, 70: 3.2, 71: 2.8, 72: 2.5, 73: 2.8, 74: 2.9, 75: 3.0, 76: 2.8, 77: 3.0, 78: 2.9, 79: 2.6, 80: 2.4, 81: 2.4, 82: 2.7, 83: 2.7, 84: 3.0, 85: 3.4, 86: 3.1, 87: 2.3, 88: 3.0, 89: 2.5, 90: 2.6, 91: 3.0, 92: 2.6, 93: 2.3, 94: 2.7, 95: 3.0, 96: 2.9, 97: 2.9, 98: 2.5, 99: 2.8, 100: 3.3, 101: 2.7, 102: 3.0, 103: 2.9, 104: 3.0, 105: 3.0, 106: 2.5, 107: 2.9, 108: 2.5, 109: 3.6, 110: 3.2, 111: 2.7, 112: 3.0, 113: 2.5, 114: 2.8, 115: 3.2, 116: 3.0, 117: 3.8, 118: 2.6, 119: 2.2, 120: 3.2, 121: 2.8, 122: 2.8, 123: 2.7, 124: 3.3, 125: 3.2, 126: 2.8, 127: 3.0, 128: 2.8, 129: 3.0, 130: 2.8, 131: 3.8, 132: 2.8, 133: 2.8, 134: 2.6, 135: 3.0, 136: 3.4, 137: 3.1, 138: 3.0, 139: 3.1, 140: 3.1, 141: 3.1, 142: 2.7, 143: 3.2, 144: 3.3, 145: 3.0, 146: 2.5, 147: 3.0, 148: 3.4, 149: 3.0}\n",
      "그룹명 : petal_length\n",
      "{0: 1.4, 1: 1.4, 2: 1.3, 3: 1.5, 4: 1.4, 5: 1.7, 6: 1.4, 7: 1.5, 8: 1.4, 9: 1.5, 10: 1.5, 11: 1.6, 12: 1.4, 13: 1.1, 14: 1.2, 15: 1.5, 16: 1.3, 17: 1.4, 18: 1.7, 19: 1.5, 20: 1.7, 21: 1.5, 22: 1.0, 23: 1.7, 24: 1.9, 25: 1.6, 26: 1.6, 27: 1.5, 28: 1.4, 29: 1.6, 30: 1.6, 31: 1.5, 32: 1.5, 33: 1.4, 34: 1.5, 35: 1.2, 36: 1.3, 37: 1.4, 38: 1.3, 39: 1.5, 40: 1.3, 41: 1.3, 42: 1.3, 43: 1.6, 44: 1.9, 45: 1.4, 46: 1.6, 47: 1.4, 48: 1.5, 49: 1.4, 50: 4.7, 51: 4.5, 52: 4.9, 53: 4.0, 54: 4.6, 55: 4.5, 56: 4.7, 57: 3.3, 58: 4.6, 59: 3.9, 60: 3.5, 61: 4.2, 62: 4.0, 63: 4.7, 64: 3.6, 65: 4.4, 66: 4.5, 67: 4.1, 68: 4.5, 69: 3.9, 70: 4.8, 71: 4.0, 72: 4.9, 73: 4.7, 74: 4.3, 75: 4.4, 76: 4.8, 77: 5.0, 78: 4.5, 79: 3.5, 80: 3.8, 81: 3.7, 82: 3.9, 83: 5.1, 84: 4.5, 85: 4.5, 86: 4.7, 87: 4.4, 88: 4.1, 89: 4.0, 90: 4.4, 91: 4.6, 92: 4.0, 93: 3.3, 94: 4.2, 95: 4.2, 96: 4.2, 97: 4.3, 98: 3.0, 99: 4.1, 100: 6.0, 101: 5.1, 102: 5.9, 103: 5.6, 104: 5.8, 105: 6.6, 106: 4.5, 107: 6.3, 108: 5.8, 109: 6.1, 110: 5.1, 111: 5.3, 112: 5.5, 113: 5.0, 114: 5.1, 115: 5.3, 116: 5.5, 117: 6.7, 118: 6.9, 119: 5.0, 120: 5.7, 121: 4.9, 122: 6.7, 123: 4.9, 124: 5.7, 125: 6.0, 126: 4.8, 127: 4.9, 128: 5.6, 129: 5.8, 130: 6.1, 131: 6.4, 132: 5.6, 133: 5.1, 134: 5.6, 135: 6.1, 136: 5.6, 137: 5.5, 138: 4.8, 139: 5.4, 140: 5.6, 141: 5.1, 142: 5.1, 143: 5.9, 144: 5.7, 145: 5.2, 146: 5.0, 147: 5.2, 148: 5.4, 149: 5.1}\n",
      "그룹명 : petal_width\n",
      "{0: 0.2, 1: 0.2, 2: 0.2, 3: 0.2, 4: 0.2, 5: 0.4, 6: 0.3, 7: 0.2, 8: 0.2, 9: 0.1, 10: 0.2, 11: 0.2, 12: 0.1, 13: 0.1, 14: 0.2, 15: 0.4, 16: 0.4, 17: 0.3, 18: 0.3, 19: 0.3, 20: 0.2, 21: 0.4, 22: 0.2, 23: 0.5, 24: 0.2, 25: 0.2, 26: 0.4, 27: 0.2, 28: 0.2, 29: 0.2, 30: 0.2, 31: 0.4, 32: 0.1, 33: 0.2, 34: 0.2, 35: 0.2, 36: 0.2, 37: 0.1, 38: 0.2, 39: 0.2, 40: 0.3, 41: 0.3, 42: 0.2, 43: 0.6, 44: 0.4, 45: 0.3, 46: 0.2, 47: 0.2, 48: 0.2, 49: 0.2, 50: 1.4, 51: 1.5, 52: 1.5, 53: 1.3, 54: 1.5, 55: 1.3, 56: 1.6, 57: 1.0, 58: 1.3, 59: 1.4, 60: 1.0, 61: 1.5, 62: 1.0, 63: 1.4, 64: 1.3, 65: 1.4, 66: 1.5, 67: 1.0, 68: 1.5, 69: 1.1, 70: 1.8, 71: 1.3, 72: 1.5, 73: 1.2, 74: 1.3, 75: 1.4, 76: 1.4, 77: 1.7, 78: 1.5, 79: 1.0, 80: 1.1, 81: 1.0, 82: 1.2, 83: 1.6, 84: 1.5, 85: 1.6, 86: 1.5, 87: 1.3, 88: 1.3, 89: 1.3, 90: 1.2, 91: 1.4, 92: 1.2, 93: 1.0, 94: 1.3, 95: 1.2, 96: 1.3, 97: 1.3, 98: 1.1, 99: 1.3, 100: 2.5, 101: 1.9, 102: 2.1, 103: 1.8, 104: 2.2, 105: 2.1, 106: 1.7, 107: 1.8, 108: 1.8, 109: 2.5, 110: 2.0, 111: 1.9, 112: 2.1, 113: 2.0, 114: 2.4, 115: 2.3, 116: 1.8, 117: 2.2, 118: 2.3, 119: 1.5, 120: 2.3, 121: 2.0, 122: 2.0, 123: 1.8, 124: 2.1, 125: 1.8, 126: 1.8, 127: 1.8, 128: 2.1, 129: 1.6, 130: 1.9, 131: 2.0, 132: 2.2, 133: 1.5, 134: 1.4, 135: 2.3, 136: 2.4, 137: 1.8, 138: 1.8, 139: 2.1, 140: 2.4, 141: 2.3, 142: 1.9, 143: 2.3, 144: 2.5, 145: 2.3, 146: 1.9, 147: 2.0, 148: 2.3, 149: 1.8}\n",
      "그룹명 : species\n",
      "{0: 'setosa', 1: 'setosa', 2: 'setosa', 3: 'setosa', 4: 'setosa', 5: 'setosa', 6: 'setosa', 7: 'setosa', 8: 'setosa', 9: 'setosa', 10: 'setosa', 11: 'setosa', 12: 'setosa', 13: 'setosa', 14: 'setosa', 15: 'setosa', 16: 'setosa', 17: 'setosa', 18: 'setosa', 19: 'setosa', 20: 'setosa', 21: 'setosa', 22: 'setosa', 23: 'setosa', 24: 'setosa', 25: 'setosa', 26: 'setosa', 27: 'setosa', 28: 'setosa', 29: 'setosa', 30: 'setosa', 31: 'setosa', 32: 'setosa', 33: 'setosa', 34: 'setosa', 35: 'setosa', 36: 'setosa', 37: 'setosa', 38: 'setosa', 39: 'setosa', 40: 'setosa', 41: 'setosa', 42: 'setosa', 43: 'setosa', 44: 'setosa', 45: 'setosa', 46: 'setosa', 47: 'setosa', 48: 'setosa', 49: 'setosa', 50: 'versicolor', 51: 'versicolor', 52: 'versicolor', 53: 'versicolor', 54: 'versicolor', 55: 'versicolor', 56: 'versicolor', 57: 'versicolor', 58: 'versicolor', 59: 'versicolor', 60: 'versicolor', 61: 'versicolor', 62: 'versicolor', 63: 'versicolor', 64: 'versicolor', 65: 'versicolor', 66: 'versicolor', 67: 'versicolor', 68: 'versicolor', 69: 'versicolor', 70: 'versicolor', 71: 'versicolor', 72: 'versicolor', 73: 'versicolor', 74: 'versicolor', 75: 'versicolor', 76: 'versicolor', 77: 'versicolor', 78: 'versicolor', 79: 'versicolor', 80: 'versicolor', 81: 'versicolor', 82: 'versicolor', 83: 'versicolor', 84: 'versicolor', 85: 'versicolor', 86: 'versicolor', 87: 'versicolor', 88: 'versicolor', 89: 'versicolor', 90: 'versicolor', 91: 'versicolor', 92: 'versicolor', 93: 'versicolor', 94: 'versicolor', 95: 'versicolor', 96: 'versicolor', 97: 'versicolor', 98: 'versicolor', 99: 'versicolor', 100: 'virginica', 101: 'virginica', 102: 'virginica', 103: 'virginica', 104: 'virginica', 105: 'virginica', 106: 'virginica', 107: 'virginica', 108: 'virginica', 109: 'virginica', 110: 'virginica', 111: 'virginica', 112: 'virginica', 113: 'virginica', 114: 'virginica', 115: 'virginica', 116: 'virginica', 117: 'virginica', 118: 'virginica', 119: 'virginica', 120: 'virginica', 121: 'virginica', 122: 'virginica', 123: 'virginica', 124: 'virginica', 125: 'virginica', 126: 'virginica', 127: 'virginica', 128: 'virginica', 129: 'virginica', 130: 'virginica', 131: 'virginica', 132: 'virginica', 133: 'virginica', 134: 'virginica', 135: 'virginica', 136: 'virginica', 137: 'virginica', 138: 'virginica', 139: 'virginica', 140: 'virginica', 141: 'virginica', 142: 'virginica', 143: 'virginica', 144: 'virginica', 145: 'virginica', 146: 'virginica', 147: 'virginica', 148: 'virginica', 149: 'virginica'}\n"
     ]
    }
   ],
   "source": [
    "for group, value in iris_dic.items():\n",
    "    print('그룹명 :', group)\n",
    "    print(value)"
   ]
  },
  {
   "cell_type": "code",
   "execution_count": 45,
   "id": "1ed343c9",
   "metadata": {
    "ExecuteTime": {
     "end_time": "2024-11-19T02:34:05.890734Z",
     "start_time": "2024-11-19T02:34:05.880232Z"
    }
   },
   "outputs": [
    {
     "name": "stdout",
     "output_type": "stream",
     "text": [
      "그룹 : sepal_length\n",
      "0:5.1\t1:4.9\t2:4.7\t3:4.6\t4:5.0\t5:5.4\t6:4.6\t7:5.0\t8:4.4\t9:4.9\t10:5.4\t11:4.8\t12:4.8\t13:4.3\t14:5.8\t15:5.7\t16:5.4\t17:5.1\t18:5.7\t19:5.1\t20:5.4\t21:5.1\t22:4.6\t23:5.1\t24:4.8\t25:5.0\t26:5.0\t27:5.2\t28:5.2\t29:4.7\t30:4.8\t31:5.4\t32:5.2\t33:5.5\t34:4.9\t35:5.0\t36:5.5\t37:4.9\t38:4.4\t39:5.1\t40:5.0\t41:4.5\t42:4.4\t43:5.0\t44:5.1\t45:4.8\t46:5.1\t47:4.6\t48:5.3\t49:5.0\t50:7.0\t51:6.4\t52:6.9\t53:5.5\t54:6.5\t55:5.7\t56:6.3\t57:4.9\t58:6.6\t59:5.2\t60:5.0\t61:5.9\t62:6.0\t63:6.1\t64:5.6\t65:6.7\t66:5.6\t67:5.8\t68:6.2\t69:5.6\t70:5.9\t71:6.1\t72:6.3\t73:6.1\t74:6.4\t75:6.6\t76:6.8\t77:6.7\t78:6.0\t79:5.7\t80:5.5\t81:5.5\t82:5.8\t83:6.0\t84:5.4\t85:6.0\t86:6.7\t87:6.3\t88:5.6\t89:5.5\t90:5.5\t91:6.1\t92:5.8\t93:5.0\t94:5.6\t95:5.7\t96:5.7\t97:6.2\t98:5.1\t99:5.7\t100:6.3\t101:5.8\t102:7.1\t103:6.3\t104:6.5\t105:7.6\t106:4.9\t107:7.3\t108:6.7\t109:7.2\t110:6.5\t111:6.4\t112:6.8\t113:5.7\t114:5.8\t115:6.4\t116:6.5\t117:7.7\t118:7.7\t119:6.0\t120:6.9\t121:5.6\t122:7.7\t123:6.3\t124:6.7\t125:7.2\t126:6.2\t127:6.1\t128:6.4\t129:7.2\t130:7.4\t131:7.9\t132:6.4\t133:6.3\t134:6.1\t135:7.7\t136:6.3\t137:6.4\t138:6.0\t139:6.9\t140:6.7\t141:6.9\t142:5.8\t143:6.8\t144:6.7\t145:6.7\t146:6.3\t147:6.5\t148:6.2\t149:5.9\t\n",
      "\n",
      "그룹 : sepal_width\n",
      "0:3.5\t1:3.0\t2:3.2\t3:3.1\t4:3.6\t5:3.9\t6:3.4\t7:3.4\t8:2.9\t9:3.1\t10:3.7\t11:3.4\t12:3.0\t13:3.0\t14:4.0\t15:4.4\t16:3.9\t17:3.5\t18:3.8\t19:3.8\t20:3.4\t21:3.7\t22:3.6\t23:3.3\t24:3.4\t25:3.0\t26:3.4\t27:3.5\t28:3.4\t29:3.2\t30:3.1\t31:3.4\t32:4.1\t33:4.2\t34:3.1\t35:3.2\t36:3.5\t37:3.6\t38:3.0\t39:3.4\t40:3.5\t41:2.3\t42:3.2\t43:3.5\t44:3.8\t45:3.0\t46:3.8\t47:3.2\t48:3.7\t49:3.3\t50:3.2\t51:3.2\t52:3.1\t53:2.3\t54:2.8\t55:2.8\t56:3.3\t57:2.4\t58:2.9\t59:2.7\t60:2.0\t61:3.0\t62:2.2\t63:2.9\t64:2.9\t65:3.1\t66:3.0\t67:2.7\t68:2.2\t69:2.5\t70:3.2\t71:2.8\t72:2.5\t73:2.8\t74:2.9\t75:3.0\t76:2.8\t77:3.0\t78:2.9\t79:2.6\t80:2.4\t81:2.4\t82:2.7\t83:2.7\t84:3.0\t85:3.4\t86:3.1\t87:2.3\t88:3.0\t89:2.5\t90:2.6\t91:3.0\t92:2.6\t93:2.3\t94:2.7\t95:3.0\t96:2.9\t97:2.9\t98:2.5\t99:2.8\t100:3.3\t101:2.7\t102:3.0\t103:2.9\t104:3.0\t105:3.0\t106:2.5\t107:2.9\t108:2.5\t109:3.6\t110:3.2\t111:2.7\t112:3.0\t113:2.5\t114:2.8\t115:3.2\t116:3.0\t117:3.8\t118:2.6\t119:2.2\t120:3.2\t121:2.8\t122:2.8\t123:2.7\t124:3.3\t125:3.2\t126:2.8\t127:3.0\t128:2.8\t129:3.0\t130:2.8\t131:3.8\t132:2.8\t133:2.8\t134:2.6\t135:3.0\t136:3.4\t137:3.1\t138:3.0\t139:3.1\t140:3.1\t141:3.1\t142:2.7\t143:3.2\t144:3.3\t145:3.0\t146:2.5\t147:3.0\t148:3.4\t149:3.0\t\n",
      "\n",
      "그룹 : petal_length\n",
      "0:1.4\t1:1.4\t2:1.3\t3:1.5\t4:1.4\t5:1.7\t6:1.4\t7:1.5\t8:1.4\t9:1.5\t10:1.5\t11:1.6\t12:1.4\t13:1.1\t14:1.2\t15:1.5\t16:1.3\t17:1.4\t18:1.7\t19:1.5\t20:1.7\t21:1.5\t22:1.0\t23:1.7\t24:1.9\t25:1.6\t26:1.6\t27:1.5\t28:1.4\t29:1.6\t30:1.6\t31:1.5\t32:1.5\t33:1.4\t34:1.5\t35:1.2\t36:1.3\t37:1.4\t38:1.3\t39:1.5\t40:1.3\t41:1.3\t42:1.3\t43:1.6\t44:1.9\t45:1.4\t46:1.6\t47:1.4\t48:1.5\t49:1.4\t50:4.7\t51:4.5\t52:4.9\t53:4.0\t54:4.6\t55:4.5\t56:4.7\t57:3.3\t58:4.6\t59:3.9\t60:3.5\t61:4.2\t62:4.0\t63:4.7\t64:3.6\t65:4.4\t66:4.5\t67:4.1\t68:4.5\t69:3.9\t70:4.8\t71:4.0\t72:4.9\t73:4.7\t74:4.3\t75:4.4\t76:4.8\t77:5.0\t78:4.5\t79:3.5\t80:3.8\t81:3.7\t82:3.9\t83:5.1\t84:4.5\t85:4.5\t86:4.7\t87:4.4\t88:4.1\t89:4.0\t90:4.4\t91:4.6\t92:4.0\t93:3.3\t94:4.2\t95:4.2\t96:4.2\t97:4.3\t98:3.0\t99:4.1\t100:6.0\t101:5.1\t102:5.9\t103:5.6\t104:5.8\t105:6.6\t106:4.5\t107:6.3\t108:5.8\t109:6.1\t110:5.1\t111:5.3\t112:5.5\t113:5.0\t114:5.1\t115:5.3\t116:5.5\t117:6.7\t118:6.9\t119:5.0\t120:5.7\t121:4.9\t122:6.7\t123:4.9\t124:5.7\t125:6.0\t126:4.8\t127:4.9\t128:5.6\t129:5.8\t130:6.1\t131:6.4\t132:5.6\t133:5.1\t134:5.6\t135:6.1\t136:5.6\t137:5.5\t138:4.8\t139:5.4\t140:5.6\t141:5.1\t142:5.1\t143:5.9\t144:5.7\t145:5.2\t146:5.0\t147:5.2\t148:5.4\t149:5.1\t\n",
      "\n",
      "그룹 : petal_width\n",
      "0:0.2\t1:0.2\t2:0.2\t3:0.2\t4:0.2\t5:0.4\t6:0.3\t7:0.2\t8:0.2\t9:0.1\t10:0.2\t11:0.2\t12:0.1\t13:0.1\t14:0.2\t15:0.4\t16:0.4\t17:0.3\t18:0.3\t19:0.3\t20:0.2\t21:0.4\t22:0.2\t23:0.5\t24:0.2\t25:0.2\t26:0.4\t27:0.2\t28:0.2\t29:0.2\t30:0.2\t31:0.4\t32:0.1\t33:0.2\t34:0.2\t35:0.2\t36:0.2\t37:0.1\t38:0.2\t39:0.2\t40:0.3\t41:0.3\t42:0.2\t43:0.6\t44:0.4\t45:0.3\t46:0.2\t47:0.2\t48:0.2\t49:0.2\t50:1.4\t51:1.5\t52:1.5\t53:1.3\t54:1.5\t55:1.3\t56:1.6\t57:1.0\t58:1.3\t59:1.4\t60:1.0\t61:1.5\t62:1.0\t63:1.4\t64:1.3\t65:1.4\t66:1.5\t67:1.0\t68:1.5\t69:1.1\t70:1.8\t71:1.3\t72:1.5\t73:1.2\t74:1.3\t75:1.4\t76:1.4\t77:1.7\t78:1.5\t79:1.0\t80:1.1\t81:1.0\t82:1.2\t83:1.6\t84:1.5\t85:1.6\t86:1.5\t87:1.3\t88:1.3\t89:1.3\t90:1.2\t91:1.4\t92:1.2\t93:1.0\t94:1.3\t95:1.2\t96:1.3\t97:1.3\t98:1.1\t99:1.3\t100:2.5\t101:1.9\t102:2.1\t103:1.8\t104:2.2\t105:2.1\t106:1.7\t107:1.8\t108:1.8\t109:2.5\t110:2.0\t111:1.9\t112:2.1\t113:2.0\t114:2.4\t115:2.3\t116:1.8\t117:2.2\t118:2.3\t119:1.5\t120:2.3\t121:2.0\t122:2.0\t123:1.8\t124:2.1\t125:1.8\t126:1.8\t127:1.8\t128:2.1\t129:1.6\t130:1.9\t131:2.0\t132:2.2\t133:1.5\t134:1.4\t135:2.3\t136:2.4\t137:1.8\t138:1.8\t139:2.1\t140:2.4\t141:2.3\t142:1.9\t143:2.3\t144:2.5\t145:2.3\t146:1.9\t147:2.0\t148:2.3\t149:1.8\t\n",
      "\n",
      "그룹 : species\n",
      "0:setosa\t1:setosa\t2:setosa\t3:setosa\t4:setosa\t5:setosa\t6:setosa\t7:setosa\t8:setosa\t9:setosa\t10:setosa\t11:setosa\t12:setosa\t13:setosa\t14:setosa\t15:setosa\t16:setosa\t17:setosa\t18:setosa\t19:setosa\t20:setosa\t21:setosa\t22:setosa\t23:setosa\t24:setosa\t25:setosa\t26:setosa\t27:setosa\t28:setosa\t29:setosa\t30:setosa\t31:setosa\t32:setosa\t33:setosa\t34:setosa\t35:setosa\t36:setosa\t37:setosa\t38:setosa\t39:setosa\t40:setosa\t41:setosa\t42:setosa\t43:setosa\t44:setosa\t45:setosa\t46:setosa\t47:setosa\t48:setosa\t49:setosa\t50:versicolor\t51:versicolor\t52:versicolor\t53:versicolor\t54:versicolor\t55:versicolor\t56:versicolor\t57:versicolor\t58:versicolor\t59:versicolor\t60:versicolor\t61:versicolor\t62:versicolor\t63:versicolor\t64:versicolor\t65:versicolor\t66:versicolor\t67:versicolor\t68:versicolor\t69:versicolor\t70:versicolor\t71:versicolor\t72:versicolor\t73:versicolor\t74:versicolor\t75:versicolor\t76:versicolor\t77:versicolor\t78:versicolor\t79:versicolor\t80:versicolor\t81:versicolor\t82:versicolor\t83:versicolor\t84:versicolor\t85:versicolor\t86:versicolor\t87:versicolor\t88:versicolor\t89:versicolor\t90:versicolor\t91:versicolor\t92:versicolor\t93:versicolor\t94:versicolor\t95:versicolor\t96:versicolor\t97:versicolor\t98:versicolor\t99:versicolor\t100:virginica\t101:virginica\t102:virginica\t103:virginica\t104:virginica\t105:virginica\t106:virginica\t107:virginica\t108:virginica\t109:virginica\t110:virginica\t111:virginica\t112:virginica\t113:virginica\t114:virginica\t115:virginica\t116:virginica\t117:virginica\t118:virginica\t119:virginica\t120:virginica\t121:virginica\t122:virginica\t123:virginica\t124:virginica\t125:virginica\t126:virginica\t127:virginica\t128:virginica\t129:virginica\t130:virginica\t131:virginica\t132:virginica\t133:virginica\t134:virginica\t135:virginica\t136:virginica\t137:virginica\t138:virginica\t139:virginica\t140:virginica\t141:virginica\t142:virginica\t143:virginica\t144:virginica\t145:virginica\t146:virginica\t147:virginica\t148:virginica\t149:virginica\t\n",
      "\n"
     ]
    }
   ],
   "source": [
    "for group, value in iris_dic.items():\n",
    "    print('그룹 :', group)\n",
    "    for key, data in value.items():\n",
    "          print('{}:{}'.format(str(key), data), end='\\t')\n",
    "    print('\\n')"
   ]
  },
  {
   "cell_type": "code",
   "execution_count": 46,
   "id": "95c32ce4",
   "metadata": {
    "ExecuteTime": {
     "end_time": "2024-11-19T02:38:53.515252Z",
     "start_time": "2024-11-19T02:38:53.175545Z"
    }
   },
   "outputs": [],
   "source": [
    "# 딕셔너리 데이터를 hdf파일로 쓰기\n",
    "import h5py\n",
    "with h5py.File('data/ch09_iris.hdf5', 'w') as f:\n",
    "    for group, value in iris_dic.items():\n",
    "        grp = f.create_group(group)\n",
    "        for key, data in value.items():\n",
    "              grp.create_dataset(str(key), data=data)"
   ]
  },
  {
   "cell_type": "code",
   "execution_count": 48,
   "id": "049c9fe7",
   "metadata": {
    "ExecuteTime": {
     "end_time": "2024-11-19T02:48:26.525093Z",
     "start_time": "2024-11-19T02:48:26.266646Z"
    }
   },
   "outputs": [],
   "source": [
    "# 데이터프레임을 hdf파일로 쓰기\n",
    "iris_df.to_hdf('data/ch09_iris2.hdf5', key='iris')"
   ]
  },
  {
   "cell_type": "code",
   "execution_count": 49,
   "id": "9b75b1d9",
   "metadata": {
    "ExecuteTime": {
     "end_time": "2024-11-19T02:49:56.530786Z",
     "start_time": "2024-11-19T02:49:56.510855Z"
    }
   },
   "outputs": [
    {
     "data": {
      "text/html": [
       "<div>\n",
       "<style scoped>\n",
       "    .dataframe tbody tr th:only-of-type {\n",
       "        vertical-align: middle;\n",
       "    }\n",
       "\n",
       "    .dataframe tbody tr th {\n",
       "        vertical-align: top;\n",
       "    }\n",
       "\n",
       "    .dataframe thead th {\n",
       "        text-align: right;\n",
       "    }\n",
       "</style>\n",
       "<table border=\"1\" class=\"dataframe\">\n",
       "  <thead>\n",
       "    <tr style=\"text-align: right;\">\n",
       "      <th></th>\n",
       "      <th>sepal_length</th>\n",
       "      <th>sepal_width</th>\n",
       "      <th>petal_length</th>\n",
       "      <th>petal_width</th>\n",
       "      <th>species</th>\n",
       "    </tr>\n",
       "  </thead>\n",
       "  <tbody>\n",
       "    <tr>\n",
       "      <th>0</th>\n",
       "      <td>5.1</td>\n",
       "      <td>3.5</td>\n",
       "      <td>1.4</td>\n",
       "      <td>0.2</td>\n",
       "      <td>setosa</td>\n",
       "    </tr>\n",
       "    <tr>\n",
       "      <th>1</th>\n",
       "      <td>4.9</td>\n",
       "      <td>3.0</td>\n",
       "      <td>1.4</td>\n",
       "      <td>0.2</td>\n",
       "      <td>setosa</td>\n",
       "    </tr>\n",
       "    <tr>\n",
       "      <th>2</th>\n",
       "      <td>4.7</td>\n",
       "      <td>3.2</td>\n",
       "      <td>1.3</td>\n",
       "      <td>0.2</td>\n",
       "      <td>setosa</td>\n",
       "    </tr>\n",
       "    <tr>\n",
       "      <th>3</th>\n",
       "      <td>4.6</td>\n",
       "      <td>3.1</td>\n",
       "      <td>1.5</td>\n",
       "      <td>0.2</td>\n",
       "      <td>setosa</td>\n",
       "    </tr>\n",
       "    <tr>\n",
       "      <th>4</th>\n",
       "      <td>5.0</td>\n",
       "      <td>3.6</td>\n",
       "      <td>1.4</td>\n",
       "      <td>0.2</td>\n",
       "      <td>setosa</td>\n",
       "    </tr>\n",
       "    <tr>\n",
       "      <th>...</th>\n",
       "      <td>...</td>\n",
       "      <td>...</td>\n",
       "      <td>...</td>\n",
       "      <td>...</td>\n",
       "      <td>...</td>\n",
       "    </tr>\n",
       "    <tr>\n",
       "      <th>145</th>\n",
       "      <td>6.7</td>\n",
       "      <td>3.0</td>\n",
       "      <td>5.2</td>\n",
       "      <td>2.3</td>\n",
       "      <td>virginica</td>\n",
       "    </tr>\n",
       "    <tr>\n",
       "      <th>146</th>\n",
       "      <td>6.3</td>\n",
       "      <td>2.5</td>\n",
       "      <td>5.0</td>\n",
       "      <td>1.9</td>\n",
       "      <td>virginica</td>\n",
       "    </tr>\n",
       "    <tr>\n",
       "      <th>147</th>\n",
       "      <td>6.5</td>\n",
       "      <td>3.0</td>\n",
       "      <td>5.2</td>\n",
       "      <td>2.0</td>\n",
       "      <td>virginica</td>\n",
       "    </tr>\n",
       "    <tr>\n",
       "      <th>148</th>\n",
       "      <td>6.2</td>\n",
       "      <td>3.4</td>\n",
       "      <td>5.4</td>\n",
       "      <td>2.3</td>\n",
       "      <td>virginica</td>\n",
       "    </tr>\n",
       "    <tr>\n",
       "      <th>149</th>\n",
       "      <td>5.9</td>\n",
       "      <td>3.0</td>\n",
       "      <td>5.1</td>\n",
       "      <td>1.8</td>\n",
       "      <td>virginica</td>\n",
       "    </tr>\n",
       "  </tbody>\n",
       "</table>\n",
       "<p>150 rows × 5 columns</p>\n",
       "</div>"
      ],
      "text/plain": [
       "     sepal_length  sepal_width  petal_length  petal_width    species\n",
       "0             5.1          3.5           1.4          0.2     setosa\n",
       "1             4.9          3.0           1.4          0.2     setosa\n",
       "2             4.7          3.2           1.3          0.2     setosa\n",
       "3             4.6          3.1           1.5          0.2     setosa\n",
       "4             5.0          3.6           1.4          0.2     setosa\n",
       "..            ...          ...           ...          ...        ...\n",
       "145           6.7          3.0           5.2          2.3  virginica\n",
       "146           6.3          2.5           5.0          1.9  virginica\n",
       "147           6.5          3.0           5.2          2.0  virginica\n",
       "148           6.2          3.4           5.4          2.3  virginica\n",
       "149           5.9          3.0           5.1          1.8  virginica\n",
       "\n",
       "[150 rows x 5 columns]"
      ]
     },
     "execution_count": 49,
     "metadata": {},
     "output_type": "execute_result"
    }
   ],
   "source": [
    "iris_df"
   ]
  },
  {
   "cell_type": "markdown",
   "id": "2ddd053c",
   "metadata": {},
   "source": [
    "## 5.2 hdf5파일 읽기\n",
    "1. hdf5파일에서 데이터프레임으로 읽기\n",
    "2. hdf5파일에서 딕셔너리로 읽기"
   ]
  },
  {
   "cell_type": "code",
   "execution_count": 50,
   "id": "0e29fe99",
   "metadata": {
    "ExecuteTime": {
     "end_time": "2024-11-19T02:59:17.729244Z",
     "start_time": "2024-11-19T02:59:17.586197Z"
    }
   },
   "outputs": [
    {
     "data": {
      "text/html": [
       "<div>\n",
       "<style scoped>\n",
       "    .dataframe tbody tr th:only-of-type {\n",
       "        vertical-align: middle;\n",
       "    }\n",
       "\n",
       "    .dataframe tbody tr th {\n",
       "        vertical-align: top;\n",
       "    }\n",
       "\n",
       "    .dataframe thead th {\n",
       "        text-align: right;\n",
       "    }\n",
       "</style>\n",
       "<table border=\"1\" class=\"dataframe\">\n",
       "  <thead>\n",
       "    <tr style=\"text-align: right;\">\n",
       "      <th></th>\n",
       "      <th>sepal_length</th>\n",
       "      <th>sepal_width</th>\n",
       "      <th>petal_length</th>\n",
       "      <th>petal_width</th>\n",
       "      <th>species</th>\n",
       "    </tr>\n",
       "  </thead>\n",
       "  <tbody>\n",
       "    <tr>\n",
       "      <th>0</th>\n",
       "      <td>5.1</td>\n",
       "      <td>3.5</td>\n",
       "      <td>1.4</td>\n",
       "      <td>0.2</td>\n",
       "      <td>setosa</td>\n",
       "    </tr>\n",
       "    <tr>\n",
       "      <th>1</th>\n",
       "      <td>4.9</td>\n",
       "      <td>3.0</td>\n",
       "      <td>1.4</td>\n",
       "      <td>0.2</td>\n",
       "      <td>setosa</td>\n",
       "    </tr>\n",
       "    <tr>\n",
       "      <th>2</th>\n",
       "      <td>4.7</td>\n",
       "      <td>3.2</td>\n",
       "      <td>1.3</td>\n",
       "      <td>0.2</td>\n",
       "      <td>setosa</td>\n",
       "    </tr>\n",
       "    <tr>\n",
       "      <th>3</th>\n",
       "      <td>4.6</td>\n",
       "      <td>3.1</td>\n",
       "      <td>1.5</td>\n",
       "      <td>0.2</td>\n",
       "      <td>setosa</td>\n",
       "    </tr>\n",
       "    <tr>\n",
       "      <th>4</th>\n",
       "      <td>5.0</td>\n",
       "      <td>3.6</td>\n",
       "      <td>1.4</td>\n",
       "      <td>0.2</td>\n",
       "      <td>setosa</td>\n",
       "    </tr>\n",
       "    <tr>\n",
       "      <th>...</th>\n",
       "      <td>...</td>\n",
       "      <td>...</td>\n",
       "      <td>...</td>\n",
       "      <td>...</td>\n",
       "      <td>...</td>\n",
       "    </tr>\n",
       "    <tr>\n",
       "      <th>145</th>\n",
       "      <td>6.7</td>\n",
       "      <td>3.0</td>\n",
       "      <td>5.2</td>\n",
       "      <td>2.3</td>\n",
       "      <td>virginica</td>\n",
       "    </tr>\n",
       "    <tr>\n",
       "      <th>146</th>\n",
       "      <td>6.3</td>\n",
       "      <td>2.5</td>\n",
       "      <td>5.0</td>\n",
       "      <td>1.9</td>\n",
       "      <td>virginica</td>\n",
       "    </tr>\n",
       "    <tr>\n",
       "      <th>147</th>\n",
       "      <td>6.5</td>\n",
       "      <td>3.0</td>\n",
       "      <td>5.2</td>\n",
       "      <td>2.0</td>\n",
       "      <td>virginica</td>\n",
       "    </tr>\n",
       "    <tr>\n",
       "      <th>148</th>\n",
       "      <td>6.2</td>\n",
       "      <td>3.4</td>\n",
       "      <td>5.4</td>\n",
       "      <td>2.3</td>\n",
       "      <td>virginica</td>\n",
       "    </tr>\n",
       "    <tr>\n",
       "      <th>149</th>\n",
       "      <td>5.9</td>\n",
       "      <td>3.0</td>\n",
       "      <td>5.1</td>\n",
       "      <td>1.8</td>\n",
       "      <td>virginica</td>\n",
       "    </tr>\n",
       "  </tbody>\n",
       "</table>\n",
       "<p>150 rows × 5 columns</p>\n",
       "</div>"
      ],
      "text/plain": [
       "     sepal_length  sepal_width  petal_length  petal_width    species\n",
       "0             5.1          3.5           1.4          0.2     setosa\n",
       "1             4.9          3.0           1.4          0.2     setosa\n",
       "2             4.7          3.2           1.3          0.2     setosa\n",
       "3             4.6          3.1           1.5          0.2     setosa\n",
       "4             5.0          3.6           1.4          0.2     setosa\n",
       "..            ...          ...           ...          ...        ...\n",
       "145           6.7          3.0           5.2          2.3  virginica\n",
       "146           6.3          2.5           5.0          1.9  virginica\n",
       "147           6.5          3.0           5.2          2.0  virginica\n",
       "148           6.2          3.4           5.4          2.3  virginica\n",
       "149           5.9          3.0           5.1          1.8  virginica\n",
       "\n",
       "[150 rows x 5 columns]"
      ]
     },
     "execution_count": 50,
     "metadata": {},
     "output_type": "execute_result"
    }
   ],
   "source": [
    "# hdf5파일에서 데이터프레임 변수로 읽어오기\n",
    "load_iris_df = pd.read_hdf('data/ch09_iris2.hdf5', key='iris')\n",
    "load_iris_df"
   ]
  },
  {
   "cell_type": "code",
   "execution_count": 51,
   "id": "b962f28e",
   "metadata": {
    "ExecuteTime": {
     "end_time": "2024-11-19T03:01:25.766323Z",
     "start_time": "2024-11-19T03:01:25.763324Z"
    }
   },
   "outputs": [],
   "source": [
    "# hdf5파일을 딕셔너리 변수로 읽어오기"
   ]
  },
  {
   "cell_type": "code",
   "execution_count": 52,
   "id": "7f028ad5",
   "metadata": {
    "ExecuteTime": {
     "end_time": "2024-11-19T03:02:37.703254Z",
     "start_time": "2024-11-19T03:02:37.696259Z"
    }
   },
   "outputs": [
    {
     "data": {
      "text/plain": [
       "{'name': '홍길동'}"
      ]
     },
     "execution_count": 52,
     "metadata": {},
     "output_type": "execute_result"
    }
   ],
   "source": [
    "# 딕셔너리에 넣을 데이터를 가져와서 딕셔너리에 추가\n",
    "dict_data = {}\n",
    "dict_data['name'] = '홍길동'\n",
    "dict_data"
   ]
  },
  {
   "cell_type": "code",
   "execution_count": 53,
   "id": "70713a7f",
   "metadata": {
    "ExecuteTime": {
     "end_time": "2024-11-19T03:03:39.878948Z",
     "start_time": "2024-11-19T03:03:39.871428Z"
    }
   },
   "outputs": [
    {
     "data": {
      "text/plain": [
       "{'name': '홍길동'}"
      ]
     },
     "execution_count": 53,
     "metadata": {},
     "output_type": "execute_result"
    }
   ],
   "source": [
    "# 위와 같은 출력\n",
    "dict_data = {}\n",
    "dict_data.update({'name' : '홍길동'})\n",
    "dict_data"
   ]
  },
  {
   "cell_type": "code",
   "execution_count": 64,
   "id": "a7a29f83",
   "metadata": {
    "ExecuteTime": {
     "end_time": "2024-11-19T03:14:45.437245Z",
     "start_time": "2024-11-19T03:14:45.170194Z"
    }
   },
   "outputs": [
    {
     "name": "stdout",
     "output_type": "stream",
     "text": [
      "그룹 : petal_length\n",
      "0:1.4\t1:1.4\t10:1.5\t100:6.0\t101:5.1\t102:5.9\t103:5.6\t104:5.8\t105:6.6\t106:4.5\t107:6.3\t108:5.8\t109:6.1\t11:1.6\t110:5.1\t111:5.3\t112:5.5\t113:5.0\t114:5.1\t115:5.3\t116:5.5\t117:6.7\t118:6.9\t119:5.0\t12:1.4\t120:5.7\t121:4.9\t122:6.7\t123:4.9\t124:5.7\t125:6.0\t126:4.8\t127:4.9\t128:5.6\t129:5.8\t13:1.1\t130:6.1\t131:6.4\t132:5.6\t133:5.1\t134:5.6\t135:6.1\t136:5.6\t137:5.5\t138:4.8\t139:5.4\t14:1.2\t140:5.6\t141:5.1\t142:5.1\t143:5.9\t144:5.7\t145:5.2\t146:5.0\t147:5.2\t148:5.4\t149:5.1\t15:1.5\t16:1.3\t17:1.4\t18:1.7\t19:1.5\t2:1.3\t20:1.7\t21:1.5\t22:1.0\t23:1.7\t24:1.9\t25:1.6\t26:1.6\t27:1.5\t28:1.4\t29:1.6\t3:1.5\t30:1.6\t31:1.5\t32:1.5\t33:1.4\t34:1.5\t35:1.2\t36:1.3\t37:1.4\t38:1.3\t39:1.5\t4:1.4\t40:1.3\t41:1.3\t42:1.3\t43:1.6\t44:1.9\t45:1.4\t46:1.6\t47:1.4\t48:1.5\t49:1.4\t5:1.7\t50:4.7\t51:4.5\t52:4.9\t53:4.0\t54:4.6\t55:4.5\t56:4.7\t57:3.3\t58:4.6\t59:3.9\t6:1.4\t60:3.5\t61:4.2\t62:4.0\t63:4.7\t64:3.6\t65:4.4\t66:4.5\t67:4.1\t68:4.5\t69:3.9\t7:1.5\t70:4.8\t71:4.0\t72:4.9\t73:4.7\t74:4.3\t75:4.4\t76:4.8\t77:5.0\t78:4.5\t79:3.5\t8:1.4\t80:3.8\t81:3.7\t82:3.9\t83:5.1\t84:4.5\t85:4.5\t86:4.7\t87:4.4\t88:4.1\t89:4.0\t9:1.5\t90:4.4\t91:4.6\t92:4.0\t93:3.3\t94:4.2\t95:4.2\t96:4.2\t97:4.3\t98:3.0\t99:4.1\t\n",
      "그룹 : petal_width\n",
      "0:0.2\t1:0.2\t10:0.2\t100:2.5\t101:1.9\t102:2.1\t103:1.8\t104:2.2\t105:2.1\t106:1.7\t107:1.8\t108:1.8\t109:2.5\t11:0.2\t110:2.0\t111:1.9\t112:2.1\t113:2.0\t114:2.4\t115:2.3\t116:1.8\t117:2.2\t118:2.3\t119:1.5\t12:0.1\t120:2.3\t121:2.0\t122:2.0\t123:1.8\t124:2.1\t125:1.8\t126:1.8\t127:1.8\t128:2.1\t129:1.6\t13:0.1\t130:1.9\t131:2.0\t132:2.2\t133:1.5\t134:1.4\t135:2.3\t136:2.4\t137:1.8\t138:1.8\t139:2.1\t14:0.2\t140:2.4\t141:2.3\t142:1.9\t143:2.3\t144:2.5\t145:2.3\t146:1.9\t147:2.0\t148:2.3\t149:1.8\t15:0.4\t16:0.4\t17:0.3\t18:0.3\t19:0.3\t2:0.2\t20:0.2\t21:0.4\t22:0.2\t23:0.5\t24:0.2\t25:0.2\t26:0.4\t27:0.2\t28:0.2\t29:0.2\t3:0.2\t30:0.2\t31:0.4\t32:0.1\t33:0.2\t34:0.2\t35:0.2\t36:0.2\t37:0.1\t38:0.2\t39:0.2\t4:0.2\t40:0.3\t41:0.3\t42:0.2\t43:0.6\t44:0.4\t45:0.3\t46:0.2\t47:0.2\t48:0.2\t49:0.2\t5:0.4\t50:1.4\t51:1.5\t52:1.5\t53:1.3\t54:1.5\t55:1.3\t56:1.6\t57:1.0\t58:1.3\t59:1.4\t6:0.3\t60:1.0\t61:1.5\t62:1.0\t63:1.4\t64:1.3\t65:1.4\t66:1.5\t67:1.0\t68:1.5\t69:1.1\t7:0.2\t70:1.8\t71:1.3\t72:1.5\t73:1.2\t74:1.3\t75:1.4\t76:1.4\t77:1.7\t78:1.5\t79:1.0\t8:0.2\t80:1.1\t81:1.0\t82:1.2\t83:1.6\t84:1.5\t85:1.6\t86:1.5\t87:1.3\t88:1.3\t89:1.3\t9:0.1\t90:1.2\t91:1.4\t92:1.2\t93:1.0\t94:1.3\t95:1.2\t96:1.3\t97:1.3\t98:1.1\t99:1.3\t\n",
      "그룹 : sepal_length\n",
      "0:5.1\t1:4.9\t10:5.4\t100:6.3\t101:5.8\t102:7.1\t103:6.3\t104:6.5\t105:7.6\t106:4.9\t107:7.3\t108:6.7\t109:7.2\t11:4.8\t110:6.5\t111:6.4\t112:6.8\t113:5.7\t114:5.8\t115:6.4\t116:6.5\t117:7.7\t118:7.7\t119:6.0\t12:4.8\t120:6.9\t121:5.6\t122:7.7\t123:6.3\t124:6.7\t125:7.2\t126:6.2\t127:6.1\t128:6.4\t129:7.2\t13:4.3\t130:7.4\t131:7.9\t132:6.4\t133:6.3\t134:6.1\t135:7.7\t136:6.3\t137:6.4\t138:6.0\t139:6.9\t14:5.8\t140:6.7\t141:6.9\t142:5.8\t143:6.8\t144:6.7\t145:6.7\t146:6.3\t147:6.5\t148:6.2\t149:5.9\t15:5.7\t16:5.4\t17:5.1\t18:5.7\t19:5.1\t2:4.7\t20:5.4\t21:5.1\t22:4.6\t23:5.1\t24:4.8\t25:5.0\t26:5.0\t27:5.2\t28:5.2\t29:4.7\t3:4.6\t30:4.8\t31:5.4\t32:5.2\t33:5.5\t34:4.9\t35:5.0\t36:5.5\t37:4.9\t38:4.4\t39:5.1\t4:5.0\t40:5.0\t41:4.5\t42:4.4\t43:5.0\t44:5.1\t45:4.8\t46:5.1\t47:4.6\t48:5.3\t49:5.0\t5:5.4\t50:7.0\t51:6.4\t52:6.9\t53:5.5\t54:6.5\t55:5.7\t56:6.3\t57:4.9\t58:6.6\t59:5.2\t6:4.6\t60:5.0\t61:5.9\t62:6.0\t63:6.1\t64:5.6\t65:6.7\t66:5.6\t67:5.8\t68:6.2\t69:5.6\t7:5.0\t70:5.9\t71:6.1\t72:6.3\t73:6.1\t74:6.4\t75:6.6\t76:6.8\t77:6.7\t78:6.0\t79:5.7\t8:4.4\t80:5.5\t81:5.5\t82:5.8\t83:6.0\t84:5.4\t85:6.0\t86:6.7\t87:6.3\t88:5.6\t89:5.5\t9:4.9\t90:5.5\t91:6.1\t92:5.8\t93:5.0\t94:5.6\t95:5.7\t96:5.7\t97:6.2\t98:5.1\t99:5.7\t\n",
      "그룹 : sepal_width\n",
      "0:3.5\t1:3.0\t10:3.7\t100:3.3\t101:2.7\t102:3.0\t103:2.9\t104:3.0\t105:3.0\t106:2.5\t107:2.9\t108:2.5\t109:3.6\t11:3.4\t110:3.2\t111:2.7\t112:3.0\t113:2.5\t114:2.8\t115:3.2\t116:3.0\t117:3.8\t118:2.6\t119:2.2\t12:3.0\t120:3.2\t121:2.8\t122:2.8\t123:2.7\t124:3.3\t125:3.2\t126:2.8\t127:3.0\t128:2.8\t129:3.0\t13:3.0\t130:2.8\t131:3.8\t132:2.8\t133:2.8\t134:2.6\t135:3.0\t136:3.4\t137:3.1\t138:3.0\t139:3.1\t14:4.0\t140:3.1\t141:3.1\t142:2.7\t143:3.2\t144:3.3\t145:3.0\t146:2.5\t147:3.0\t148:3.4\t149:3.0\t15:4.4\t16:3.9\t17:3.5\t18:3.8\t19:3.8\t2:3.2\t20:3.4\t21:3.7\t22:3.6\t23:3.3\t24:3.4\t25:3.0\t26:3.4\t27:3.5\t28:3.4\t29:3.2\t3:3.1\t30:3.1\t31:3.4\t32:4.1\t33:4.2\t34:3.1\t35:3.2\t36:3.5\t37:3.6\t38:3.0\t39:3.4\t4:3.6\t40:3.5\t41:2.3\t42:3.2\t43:3.5\t44:3.8\t45:3.0\t46:3.8\t47:3.2\t48:3.7\t49:3.3\t5:3.9\t50:3.2\t51:3.2\t52:3.1\t53:2.3\t54:2.8\t55:2.8\t56:3.3\t57:2.4\t58:2.9\t59:2.7\t6:3.4\t60:2.0\t61:3.0\t62:2.2\t63:2.9\t64:2.9\t65:3.1\t66:3.0\t67:2.7\t68:2.2\t69:2.5\t7:3.4\t70:3.2\t71:2.8\t72:2.5\t73:2.8\t74:2.9\t75:3.0\t76:2.8\t77:3.0\t78:2.9\t79:2.6\t8:2.9\t80:2.4\t81:2.4\t82:2.7\t83:2.7\t84:3.0\t85:3.4\t86:3.1\t87:2.3\t88:3.0\t89:2.5\t9:3.1\t90:2.6\t91:3.0\t92:2.6\t93:2.3\t94:2.7\t95:3.0\t96:2.9\t97:2.9\t98:2.5\t99:2.8\t\n",
      "그룹 : species\n",
      "0:b'setosa'\t1:b'setosa'\t10:b'setosa'\t100:b'virginica'\t101:b'virginica'\t102:b'virginica'\t103:b'virginica'\t104:b'virginica'\t105:b'virginica'\t106:b'virginica'\t107:b'virginica'\t108:b'virginica'\t109:b'virginica'\t11:b'setosa'\t110:b'virginica'\t111:b'virginica'\t112:b'virginica'\t113:b'virginica'\t114:b'virginica'\t115:b'virginica'\t116:b'virginica'\t117:b'virginica'\t118:b'virginica'\t119:b'virginica'\t12:b'setosa'\t120:b'virginica'\t121:b'virginica'\t122:b'virginica'\t123:b'virginica'\t124:b'virginica'\t125:b'virginica'\t126:b'virginica'\t127:b'virginica'\t128:b'virginica'\t129:b'virginica'\t13:b'setosa'\t130:b'virginica'\t131:b'virginica'\t132:b'virginica'\t133:b'virginica'\t134:b'virginica'\t135:b'virginica'\t136:b'virginica'\t137:b'virginica'\t138:b'virginica'\t139:b'virginica'\t14:b'setosa'\t140:b'virginica'\t141:b'virginica'\t142:b'virginica'\t143:b'virginica'\t144:b'virginica'\t145:b'virginica'\t146:b'virginica'\t147:b'virginica'\t148:b'virginica'\t149:b'virginica'\t15:b'setosa'\t16:b'setosa'\t17:b'setosa'\t18:b'setosa'\t19:b'setosa'\t2:b'setosa'\t20:b'setosa'\t21:b'setosa'\t22:b'setosa'\t23:b'setosa'\t24:b'setosa'\t25:b'setosa'\t26:b'setosa'\t27:b'setosa'\t28:b'setosa'\t29:b'setosa'\t3:b'setosa'\t30:b'setosa'\t31:b'setosa'\t32:b'setosa'\t33:b'setosa'\t34:b'setosa'\t35:b'setosa'\t36:b'setosa'\t37:b'setosa'\t38:b'setosa'\t39:b'setosa'\t4:b'setosa'\t40:b'setosa'\t41:b'setosa'\t42:b'setosa'\t43:b'setosa'\t44:b'setosa'\t45:b'setosa'\t46:b'setosa'\t47:b'setosa'\t48:b'setosa'\t49:b'setosa'\t5:b'setosa'\t50:b'versicolor'\t51:b'versicolor'\t52:b'versicolor'\t53:b'versicolor'\t54:b'versicolor'\t55:b'versicolor'\t56:b'versicolor'\t57:b'versicolor'\t58:b'versicolor'\t59:b'versicolor'\t6:b'setosa'\t60:b'versicolor'\t61:b'versicolor'\t62:b'versicolor'\t63:b'versicolor'\t64:b'versicolor'\t65:b'versicolor'\t66:b'versicolor'\t67:b'versicolor'\t68:b'versicolor'\t69:b'versicolor'\t7:b'setosa'\t70:b'versicolor'\t71:b'versicolor'\t72:b'versicolor'\t73:b'versicolor'\t74:b'versicolor'\t75:b'versicolor'\t76:b'versicolor'\t77:b'versicolor'\t78:b'versicolor'\t79:b'versicolor'\t8:b'setosa'\t80:b'versicolor'\t81:b'versicolor'\t82:b'versicolor'\t83:b'versicolor'\t84:b'versicolor'\t85:b'versicolor'\t86:b'versicolor'\t87:b'versicolor'\t88:b'versicolor'\t89:b'versicolor'\t9:b'setosa'\t90:b'versicolor'\t91:b'versicolor'\t92:b'versicolor'\t93:b'versicolor'\t94:b'versicolor'\t95:b'versicolor'\t96:b'versicolor'\t97:b'versicolor'\t98:b'versicolor'\t99:b'versicolor'\t\n"
     ]
    }
   ],
   "source": [
    "# hdf5파일의 내용을 읽어 출력하기\n",
    "with h5py.File('data/ch09_iris.hdf5', 'r') as f:\n",
    "    for group, value in f.items():\n",
    "        print('그룹 :', group)\n",
    "        # print(value)\n",
    "        for key, data in value.items():\n",
    "            print('{}:{}'.format(key, data[()]), end='\\t')  # data[()] 유무 차이 확인\n",
    "        print()"
   ]
  },
  {
   "cell_type": "code",
   "execution_count": 60,
   "id": "c822a7ed",
   "metadata": {
    "ExecuteTime": {
     "end_time": "2024-11-19T03:13:02.208006Z",
     "start_time": "2024-11-19T03:13:01.924667Z"
    }
   },
   "outputs": [],
   "source": [
    "# hdf5파일의 내용을 딕셔너리에 담기\n",
    "iris_dic2 = {}\n",
    "with h5py.File('data/ch09_iris.hdf5', 'r') as f:\n",
    "    for group, value in f.items():\n",
    "        cols ={}\n",
    "        for key, data in value.items():\n",
    "            # cols[int(key)] = data[()]  # cols[0] = 1.3\n",
    "            cols.update({int(key):data[()]})\n",
    "        # iris_dic2[group] = cols\n",
    "        iris_dic2.update({group : cols})"
   ]
  },
  {
   "cell_type": "code",
   "execution_count": 63,
   "id": "6730923f",
   "metadata": {
    "ExecuteTime": {
     "end_time": "2024-11-19T03:14:07.391028Z",
     "start_time": "2024-11-19T03:14:07.386030Z"
    }
   },
   "outputs": [
    {
     "name": "stdout",
     "output_type": "stream",
     "text": [
      "그룹 : petal_length\n",
      "{0: 1.4, 1: 1.4, 10: 1.5, 100: 6.0, 101: 5.1, 102: 5.9, 103: 5.6, 104: 5.8, 105: 6.6, 106: 4.5, 107: 6.3, 108: 5.8, 109: 6.1, 11: 1.6, 110: 5.1, 111: 5.3, 112: 5.5, 113: 5.0, 114: 5.1, 115: 5.3, 116: 5.5, 117: 6.7, 118: 6.9, 119: 5.0, 12: 1.4, 120: 5.7, 121: 4.9, 122: 6.7, 123: 4.9, 124: 5.7, 125: 6.0, 126: 4.8, 127: 4.9, 128: 5.6, 129: 5.8, 13: 1.1, 130: 6.1, 131: 6.4, 132: 5.6, 133: 5.1, 134: 5.6, 135: 6.1, 136: 5.6, 137: 5.5, 138: 4.8, 139: 5.4, 14: 1.2, 140: 5.6, 141: 5.1, 142: 5.1, 143: 5.9, 144: 5.7, 145: 5.2, 146: 5.0, 147: 5.2, 148: 5.4, 149: 5.1, 15: 1.5, 16: 1.3, 17: 1.4, 18: 1.7, 19: 1.5, 2: 1.3, 20: 1.7, 21: 1.5, 22: 1.0, 23: 1.7, 24: 1.9, 25: 1.6, 26: 1.6, 27: 1.5, 28: 1.4, 29: 1.6, 3: 1.5, 30: 1.6, 31: 1.5, 32: 1.5, 33: 1.4, 34: 1.5, 35: 1.2, 36: 1.3, 37: 1.4, 38: 1.3, 39: 1.5, 4: 1.4, 40: 1.3, 41: 1.3, 42: 1.3, 43: 1.6, 44: 1.9, 45: 1.4, 46: 1.6, 47: 1.4, 48: 1.5, 49: 1.4, 5: 1.7, 50: 4.7, 51: 4.5, 52: 4.9, 53: 4.0, 54: 4.6, 55: 4.5, 56: 4.7, 57: 3.3, 58: 4.6, 59: 3.9, 6: 1.4, 60: 3.5, 61: 4.2, 62: 4.0, 63: 4.7, 64: 3.6, 65: 4.4, 66: 4.5, 67: 4.1, 68: 4.5, 69: 3.9, 7: 1.5, 70: 4.8, 71: 4.0, 72: 4.9, 73: 4.7, 74: 4.3, 75: 4.4, 76: 4.8, 77: 5.0, 78: 4.5, 79: 3.5, 8: 1.4, 80: 3.8, 81: 3.7, 82: 3.9, 83: 5.1, 84: 4.5, 85: 4.5, 86: 4.7, 87: 4.4, 88: 4.1, 89: 4.0, 9: 1.5, 90: 4.4, 91: 4.6, 92: 4.0, 93: 3.3, 94: 4.2, 95: 4.2, 96: 4.2, 97: 4.3, 98: 3.0, 99: 4.1}\n",
      "\n",
      "그룹 : petal_width\n",
      "{0: 0.2, 1: 0.2, 10: 0.2, 100: 2.5, 101: 1.9, 102: 2.1, 103: 1.8, 104: 2.2, 105: 2.1, 106: 1.7, 107: 1.8, 108: 1.8, 109: 2.5, 11: 0.2, 110: 2.0, 111: 1.9, 112: 2.1, 113: 2.0, 114: 2.4, 115: 2.3, 116: 1.8, 117: 2.2, 118: 2.3, 119: 1.5, 12: 0.1, 120: 2.3, 121: 2.0, 122: 2.0, 123: 1.8, 124: 2.1, 125: 1.8, 126: 1.8, 127: 1.8, 128: 2.1, 129: 1.6, 13: 0.1, 130: 1.9, 131: 2.0, 132: 2.2, 133: 1.5, 134: 1.4, 135: 2.3, 136: 2.4, 137: 1.8, 138: 1.8, 139: 2.1, 14: 0.2, 140: 2.4, 141: 2.3, 142: 1.9, 143: 2.3, 144: 2.5, 145: 2.3, 146: 1.9, 147: 2.0, 148: 2.3, 149: 1.8, 15: 0.4, 16: 0.4, 17: 0.3, 18: 0.3, 19: 0.3, 2: 0.2, 20: 0.2, 21: 0.4, 22: 0.2, 23: 0.5, 24: 0.2, 25: 0.2, 26: 0.4, 27: 0.2, 28: 0.2, 29: 0.2, 3: 0.2, 30: 0.2, 31: 0.4, 32: 0.1, 33: 0.2, 34: 0.2, 35: 0.2, 36: 0.2, 37: 0.1, 38: 0.2, 39: 0.2, 4: 0.2, 40: 0.3, 41: 0.3, 42: 0.2, 43: 0.6, 44: 0.4, 45: 0.3, 46: 0.2, 47: 0.2, 48: 0.2, 49: 0.2, 5: 0.4, 50: 1.4, 51: 1.5, 52: 1.5, 53: 1.3, 54: 1.5, 55: 1.3, 56: 1.6, 57: 1.0, 58: 1.3, 59: 1.4, 6: 0.3, 60: 1.0, 61: 1.5, 62: 1.0, 63: 1.4, 64: 1.3, 65: 1.4, 66: 1.5, 67: 1.0, 68: 1.5, 69: 1.1, 7: 0.2, 70: 1.8, 71: 1.3, 72: 1.5, 73: 1.2, 74: 1.3, 75: 1.4, 76: 1.4, 77: 1.7, 78: 1.5, 79: 1.0, 8: 0.2, 80: 1.1, 81: 1.0, 82: 1.2, 83: 1.6, 84: 1.5, 85: 1.6, 86: 1.5, 87: 1.3, 88: 1.3, 89: 1.3, 9: 0.1, 90: 1.2, 91: 1.4, 92: 1.2, 93: 1.0, 94: 1.3, 95: 1.2, 96: 1.3, 97: 1.3, 98: 1.1, 99: 1.3}\n",
      "\n",
      "그룹 : sepal_length\n",
      "{0: 5.1, 1: 4.9, 10: 5.4, 100: 6.3, 101: 5.8, 102: 7.1, 103: 6.3, 104: 6.5, 105: 7.6, 106: 4.9, 107: 7.3, 108: 6.7, 109: 7.2, 11: 4.8, 110: 6.5, 111: 6.4, 112: 6.8, 113: 5.7, 114: 5.8, 115: 6.4, 116: 6.5, 117: 7.7, 118: 7.7, 119: 6.0, 12: 4.8, 120: 6.9, 121: 5.6, 122: 7.7, 123: 6.3, 124: 6.7, 125: 7.2, 126: 6.2, 127: 6.1, 128: 6.4, 129: 7.2, 13: 4.3, 130: 7.4, 131: 7.9, 132: 6.4, 133: 6.3, 134: 6.1, 135: 7.7, 136: 6.3, 137: 6.4, 138: 6.0, 139: 6.9, 14: 5.8, 140: 6.7, 141: 6.9, 142: 5.8, 143: 6.8, 144: 6.7, 145: 6.7, 146: 6.3, 147: 6.5, 148: 6.2, 149: 5.9, 15: 5.7, 16: 5.4, 17: 5.1, 18: 5.7, 19: 5.1, 2: 4.7, 20: 5.4, 21: 5.1, 22: 4.6, 23: 5.1, 24: 4.8, 25: 5.0, 26: 5.0, 27: 5.2, 28: 5.2, 29: 4.7, 3: 4.6, 30: 4.8, 31: 5.4, 32: 5.2, 33: 5.5, 34: 4.9, 35: 5.0, 36: 5.5, 37: 4.9, 38: 4.4, 39: 5.1, 4: 5.0, 40: 5.0, 41: 4.5, 42: 4.4, 43: 5.0, 44: 5.1, 45: 4.8, 46: 5.1, 47: 4.6, 48: 5.3, 49: 5.0, 5: 5.4, 50: 7.0, 51: 6.4, 52: 6.9, 53: 5.5, 54: 6.5, 55: 5.7, 56: 6.3, 57: 4.9, 58: 6.6, 59: 5.2, 6: 4.6, 60: 5.0, 61: 5.9, 62: 6.0, 63: 6.1, 64: 5.6, 65: 6.7, 66: 5.6, 67: 5.8, 68: 6.2, 69: 5.6, 7: 5.0, 70: 5.9, 71: 6.1, 72: 6.3, 73: 6.1, 74: 6.4, 75: 6.6, 76: 6.8, 77: 6.7, 78: 6.0, 79: 5.7, 8: 4.4, 80: 5.5, 81: 5.5, 82: 5.8, 83: 6.0, 84: 5.4, 85: 6.0, 86: 6.7, 87: 6.3, 88: 5.6, 89: 5.5, 9: 4.9, 90: 5.5, 91: 6.1, 92: 5.8, 93: 5.0, 94: 5.6, 95: 5.7, 96: 5.7, 97: 6.2, 98: 5.1, 99: 5.7}\n",
      "\n",
      "그룹 : sepal_width\n",
      "{0: 3.5, 1: 3.0, 10: 3.7, 100: 3.3, 101: 2.7, 102: 3.0, 103: 2.9, 104: 3.0, 105: 3.0, 106: 2.5, 107: 2.9, 108: 2.5, 109: 3.6, 11: 3.4, 110: 3.2, 111: 2.7, 112: 3.0, 113: 2.5, 114: 2.8, 115: 3.2, 116: 3.0, 117: 3.8, 118: 2.6, 119: 2.2, 12: 3.0, 120: 3.2, 121: 2.8, 122: 2.8, 123: 2.7, 124: 3.3, 125: 3.2, 126: 2.8, 127: 3.0, 128: 2.8, 129: 3.0, 13: 3.0, 130: 2.8, 131: 3.8, 132: 2.8, 133: 2.8, 134: 2.6, 135: 3.0, 136: 3.4, 137: 3.1, 138: 3.0, 139: 3.1, 14: 4.0, 140: 3.1, 141: 3.1, 142: 2.7, 143: 3.2, 144: 3.3, 145: 3.0, 146: 2.5, 147: 3.0, 148: 3.4, 149: 3.0, 15: 4.4, 16: 3.9, 17: 3.5, 18: 3.8, 19: 3.8, 2: 3.2, 20: 3.4, 21: 3.7, 22: 3.6, 23: 3.3, 24: 3.4, 25: 3.0, 26: 3.4, 27: 3.5, 28: 3.4, 29: 3.2, 3: 3.1, 30: 3.1, 31: 3.4, 32: 4.1, 33: 4.2, 34: 3.1, 35: 3.2, 36: 3.5, 37: 3.6, 38: 3.0, 39: 3.4, 4: 3.6, 40: 3.5, 41: 2.3, 42: 3.2, 43: 3.5, 44: 3.8, 45: 3.0, 46: 3.8, 47: 3.2, 48: 3.7, 49: 3.3, 5: 3.9, 50: 3.2, 51: 3.2, 52: 3.1, 53: 2.3, 54: 2.8, 55: 2.8, 56: 3.3, 57: 2.4, 58: 2.9, 59: 2.7, 6: 3.4, 60: 2.0, 61: 3.0, 62: 2.2, 63: 2.9, 64: 2.9, 65: 3.1, 66: 3.0, 67: 2.7, 68: 2.2, 69: 2.5, 7: 3.4, 70: 3.2, 71: 2.8, 72: 2.5, 73: 2.8, 74: 2.9, 75: 3.0, 76: 2.8, 77: 3.0, 78: 2.9, 79: 2.6, 8: 2.9, 80: 2.4, 81: 2.4, 82: 2.7, 83: 2.7, 84: 3.0, 85: 3.4, 86: 3.1, 87: 2.3, 88: 3.0, 89: 2.5, 9: 3.1, 90: 2.6, 91: 3.0, 92: 2.6, 93: 2.3, 94: 2.7, 95: 3.0, 96: 2.9, 97: 2.9, 98: 2.5, 99: 2.8}\n",
      "\n",
      "그룹 : species\n",
      "{0: b'setosa', 1: b'setosa', 10: b'setosa', 100: b'virginica', 101: b'virginica', 102: b'virginica', 103: b'virginica', 104: b'virginica', 105: b'virginica', 106: b'virginica', 107: b'virginica', 108: b'virginica', 109: b'virginica', 11: b'setosa', 110: b'virginica', 111: b'virginica', 112: b'virginica', 113: b'virginica', 114: b'virginica', 115: b'virginica', 116: b'virginica', 117: b'virginica', 118: b'virginica', 119: b'virginica', 12: b'setosa', 120: b'virginica', 121: b'virginica', 122: b'virginica', 123: b'virginica', 124: b'virginica', 125: b'virginica', 126: b'virginica', 127: b'virginica', 128: b'virginica', 129: b'virginica', 13: b'setosa', 130: b'virginica', 131: b'virginica', 132: b'virginica', 133: b'virginica', 134: b'virginica', 135: b'virginica', 136: b'virginica', 137: b'virginica', 138: b'virginica', 139: b'virginica', 14: b'setosa', 140: b'virginica', 141: b'virginica', 142: b'virginica', 143: b'virginica', 144: b'virginica', 145: b'virginica', 146: b'virginica', 147: b'virginica', 148: b'virginica', 149: b'virginica', 15: b'setosa', 16: b'setosa', 17: b'setosa', 18: b'setosa', 19: b'setosa', 2: b'setosa', 20: b'setosa', 21: b'setosa', 22: b'setosa', 23: b'setosa', 24: b'setosa', 25: b'setosa', 26: b'setosa', 27: b'setosa', 28: b'setosa', 29: b'setosa', 3: b'setosa', 30: b'setosa', 31: b'setosa', 32: b'setosa', 33: b'setosa', 34: b'setosa', 35: b'setosa', 36: b'setosa', 37: b'setosa', 38: b'setosa', 39: b'setosa', 4: b'setosa', 40: b'setosa', 41: b'setosa', 42: b'setosa', 43: b'setosa', 44: b'setosa', 45: b'setosa', 46: b'setosa', 47: b'setosa', 48: b'setosa', 49: b'setosa', 5: b'setosa', 50: b'versicolor', 51: b'versicolor', 52: b'versicolor', 53: b'versicolor', 54: b'versicolor', 55: b'versicolor', 56: b'versicolor', 57: b'versicolor', 58: b'versicolor', 59: b'versicolor', 6: b'setosa', 60: b'versicolor', 61: b'versicolor', 62: b'versicolor', 63: b'versicolor', 64: b'versicolor', 65: b'versicolor', 66: b'versicolor', 67: b'versicolor', 68: b'versicolor', 69: b'versicolor', 7: b'setosa', 70: b'versicolor', 71: b'versicolor', 72: b'versicolor', 73: b'versicolor', 74: b'versicolor', 75: b'versicolor', 76: b'versicolor', 77: b'versicolor', 78: b'versicolor', 79: b'versicolor', 8: b'setosa', 80: b'versicolor', 81: b'versicolor', 82: b'versicolor', 83: b'versicolor', 84: b'versicolor', 85: b'versicolor', 86: b'versicolor', 87: b'versicolor', 88: b'versicolor', 89: b'versicolor', 9: b'setosa', 90: b'versicolor', 91: b'versicolor', 92: b'versicolor', 93: b'versicolor', 94: b'versicolor', 95: b'versicolor', 96: b'versicolor', 97: b'versicolor', 98: b'versicolor', 99: b'versicolor'}\n",
      "\n"
     ]
    }
   ],
   "source": [
    "for group, value in iris_dic2.items():\n",
    "    print('그룹 :', group)\n",
    "    print(value)\n",
    "    print()  # 개행"
   ]
  },
  {
   "cell_type": "markdown",
   "id": "20e76d0a",
   "metadata": {},
   "source": [
    "# 6절. 연습문제 : 고객관리 프로그램\n",
    " - 프로그램 실행 시작 시 : \n",
    "     * 'data/ch09_customers.txt'(프로그램 실행 시 백업용 데이터)파일이 있으면 파일 input\n",
    "     * 'data/ch09_customers.txt' 파일이 없으면 빈 파일 생성\n",
    "     * 'data/ch09_customers.txt' 파일 내용 : \n",
    "     ```\n",
    "         홍길동, 010-9999-9999, hong@m.com, 30, 5, 열심히\n",
    "         홍길동, 010-8888-8888, hong2@m.com, 31, 5, abc\n",
    "         유길동, 010-5432-2222, yu@hong.com, 20, 2, 가칠해\n",
    "     ```\n",
    " - Customer 클래스 작성(고객데이터 타입) Customer('홍길동', '010', 'h@h', 30, 5, '기타')\n",
    "     * __init__, __str__, as_dic(csv파일 출력을 위해서), to_list_style(txt파일 출력을 위해 list로 return)\n",
    " - 1입력\n",
    " "
   ]
  },
  {
   "cell_type": "code",
   "execution_count": 526,
   "id": "77871054",
   "metadata": {
    "ExecuteTime": {
     "end_time": "2024-11-19T07:56:01.883648Z",
     "start_time": "2024-11-19T07:56:01.874978Z"
    }
   },
   "outputs": [],
   "source": [
    "class Customer:\n",
    "    '고객 데이터 저장'\n",
    "    def __init__(self, name, phone, email, age, grade, etc):\n",
    "        self.name = name\n",
    "        self.phone = phone\n",
    "        self.email = email\n",
    "        self.age = age\n",
    "        self.grade = grade\n",
    "        self.etc = etc\n",
    "    def as_dic(self):  # 객체를 딕셔너리데이터로 반환 (csv파일 저장시)\n",
    "        return {'name' : self.name,\n",
    "                'phone' : self.phone,\n",
    "                'email' : self.email,\n",
    "                'age' : self.age,\n",
    "                'grade' : self.grade,\n",
    "                'etc' : self.etc}\n",
    "    def to_list_style(self):   # 객체를 list return([홍길동, 010-8999-9999, e@e.com, 20, 3, 까칠해])\n",
    "        temp = [self.name, self.phone, self.email, str(self.age), str(self.grade), self.etc]\n",
    "        return ', '.join(temp)\n",
    "    def __str__(self):  # *** 홍길동 010-8999-9999 e@e.com 20 까칠해\n",
    "        return  '{:>5}\\t{:3}\\t{:15}\\t{:15}\\t{:3}\\t{}'.format(  # '*' * self.grade\n",
    "                                self.grade * ('*') ,self.name, self.phone, self.email, self.age, self.etc)"
   ]
  },
  {
   "cell_type": "code",
   "execution_count": 527,
   "id": "16dcfd01",
   "metadata": {
    "ExecuteTime": {
     "end_time": "2024-11-19T07:56:02.034166Z",
     "start_time": "2024-11-19T07:56:02.019794Z"
    }
   },
   "outputs": [
    {
     "name": "stdout",
     "output_type": "stream",
     "text": [
      "  ***\t홍  \t010-999-9999   \th@h            \t 20\t까칠해\n",
      "*****\t홍  \t010-999-9999   \th@h            \t 20\t까칠해\n"
     ]
    }
   ],
   "source": [
    "# Customer class test\n",
    "u = Customer('홍', '010-999-9999', 'h@h', 20, 3, '까칠해')\n",
    "u1 = Customer('홍', '010-999-9999', 'h@h', 20, 5, '까칠해')\n",
    "print(u)\n",
    "print(u1)"
   ]
  },
  {
   "cell_type": "code",
   "execution_count": 573,
   "id": "7c38ece7",
   "metadata": {
    "ExecuteTime": {
     "end_time": "2024-11-19T08:24:07.897577Z",
     "start_time": "2024-11-19T08:24:07.891424Z"
    }
   },
   "outputs": [
    {
     "name": "stdout",
     "output_type": "stream",
     "text": [
      "  ***\t홍길동\t010-9999-9999  \th@h.com        \t 20\t기타\n",
      "*****\t홍길동\t010-9999-9999  \th@h.com        \t 20\t기타\n",
      "홍길동, 010-9999-9999, h@h.com, 20, 3, 기타\n",
      "{'name': '홍길동', 'phone': '010-9999-9999', 'email': 'h@h.com', 'age': 20, 'grade': 3, 'etc': '기타'}\n"
     ]
    }
   ],
   "source": [
    "c1 = Customer(\"홍길동\",\"010-9999-9999\",\"h@h.com\", 20, 3, \"기타\")\n",
    "c2 = Customer(\"홍길동\",\"010-9999-9999\",\"h@h.com\", 20, 5, \"기타\")\n",
    "print(c1)\n",
    "print(c2)\n",
    "print(c1.to_list_style())\n",
    "print(c1.as_dic())"
   ]
  },
  {
   "cell_type": "code",
   "execution_count": 528,
   "id": "939128c8",
   "metadata": {
    "ExecuteTime": {
     "end_time": "2024-11-19T07:56:02.180910Z",
     "start_time": "2024-11-19T07:56:02.165284Z"
    }
   },
   "outputs": [],
   "source": [
    "def to_customer(line):  # txt파일 내용 한줄(홍길동, 010-8999-9999, e@e.com, 20, 3, 까칠해)을 Customer 객체로 반환\n",
    "    data = line.strip().split(',')\n",
    "    name = data[0]\n",
    "    phone = data[1].strip()\n",
    "    email = data[2].strip()\n",
    "    age = int(data[3].strip())\n",
    "    grade = int(data[4].strip())\n",
    "    etc = data[5].strip()\n",
    "    return Customer(name, phone, email, age, grade, etc)"
   ]
  },
  {
   "cell_type": "markdown",
   "id": "540d28fc",
   "metadata": {},
   "source": [
    "## 0. 파일 내용 가져오기\n",
    "- 실행하면 data/ch09_customers.txt 파일의 내용을 load(customer_list)\n",
    "- data/ch09_customers.txt이 존재하지 않으면\n",
    "- 빈 data/ch09_customers.txt파일을 생성하고\n",
    "- 데이터는 customer_list=[]"
   ]
  },
  {
   "cell_type": "code",
   "execution_count": 529,
   "id": "b735353b",
   "metadata": {
    "ExecuteTime": {
     "end_time": "2024-11-19T07:56:02.347888Z",
     "start_time": "2024-11-19T07:56:02.331394Z"
    }
   },
   "outputs": [],
   "source": [
    "def load_customers():\n",
    "    customer_list = []\n",
    "    try:\n",
    "        with open('data/ch09_customers.txt', 'r', encoding='utf-8') as f:\n",
    "            # 방법 1. 한 줄씩 읽어서 customer_list에 append하기\n",
    "            # lines = f.readline()\n",
    "            # while lines != '':\n",
    "            #     customer = to_customer(line)\n",
    "            #     customer_list.append(customer)\n",
    "            #     line = f.readline()\n",
    "            # 방법 2. 한 번에 읽어서 for문으로 append하기\n",
    "            lines = f.readlines()\n",
    "        for line in lines:\n",
    "            customer = to_customer(line)\n",
    "            print(customer)\n",
    "            customer_list.append(customer)\n",
    "    except FileNotFoundError as e:\n",
    "        print('데이터 파일 ch09_customers.txt가 없어서 초기화합니다.')\n",
    "        with open('data/ch09_customers.txt', 'w', encoding='utf-8') as f:\n",
    "            f.write('')\n",
    "    return customer_list"
   ]
  },
  {
   "cell_type": "code",
   "execution_count": 574,
   "id": "61adad42",
   "metadata": {
    "ExecuteTime": {
     "end_time": "2024-11-19T08:24:36.777309Z",
     "start_time": "2024-11-19T08:24:36.769978Z"
    }
   },
   "outputs": [],
   "source": [
    "# \n",
    "def load_customers():\n",
    "    customer_list = []\n",
    "    # 파일의 내용을 customer_list에 append\n",
    "    # 파일이 없으면 빈 파일 생성하고 내용은 ''추가\n",
    "    try:\n",
    "        with open('data/ch09_customers.txt', 'r', encoding='utf-8') as f:\n",
    "            # 방법1. 한줄씩 읽어서 customer_list에 append하기\n",
    "#             line = f.readline()\n",
    "#             while line != '':\n",
    "#                 customer = to_customer(line)\n",
    "#                 customer_list.append(customer)\n",
    "            # 방법2. 한꺼번에 읽어서 for문으로 append하기\n",
    "            lines = f.readlines()\n",
    "        for line in lines:\n",
    "            customer = to_customer(line)\n",
    "            customer_list.append(customer)\n",
    "    except FileNotFoundError as e:\n",
    "        print('데이터 파일 ch09_customers.txt가 없어서 초기화합니다')\n",
    "        with open('data/ch09_customers.txt', 'w', encoding='utf-8') as f:\n",
    "            f.write('')\n",
    "    return customer_list"
   ]
  },
  {
   "cell_type": "code",
   "execution_count": 530,
   "id": "b6abb622",
   "metadata": {
    "ExecuteTime": {
     "end_time": "2024-11-19T07:56:02.498153Z",
     "start_time": "2024-11-19T07:56:02.465213Z"
    }
   },
   "outputs": [
    {
     "name": "stdout",
     "output_type": "stream",
     "text": [
      "*****\t홍길동\t010-9999-9999  \thong@m.com     \t 30\t열심히\n",
      "*****\t홍길동\t010-8888-8888  \thong2@m.com    \t 31\tabc\n",
      "   **\t유길동\t010-5432-2222  \tyu@hong.com    \t 20\t가칠해\n"
     ]
    },
    {
     "data": {
      "text/plain": [
       "[<__main__.Customer at 0x1b7a5102290>,\n",
       " <__main__.Customer at 0x1b7a5101f60>,\n",
       " <__main__.Customer at 0x1b7a5102260>]"
      ]
     },
     "execution_count": 530,
     "metadata": {},
     "output_type": "execute_result"
    }
   ],
   "source": [
    "# 위 함수 test - 아래 부분 test를 위해 customer_list에 할당\n",
    "customer_list = load_customers()\n",
    "customer_list"
   ]
  },
  {
   "cell_type": "code",
   "execution_count": 575,
   "id": "293cd943",
   "metadata": {
    "ExecuteTime": {
     "end_time": "2024-11-19T08:24:45.949621Z",
     "start_time": "2024-11-19T08:24:45.943625Z"
    }
   },
   "outputs": [
    {
     "name": "stdout",
     "output_type": "stream",
     "text": [
      "*****\t홍길동\t010-9999-9999  \thong@m.com     \t 30\t열심히\n",
      "*****\t홍길동\t010-8888-8888  \thong2@m.com    \t 31\tabc\n",
      "   **\t유길동\t010-5432-2222  \tyu@hong.com    \t 20\t가칠해\n",
      "   **\t홍  \t010            \th@             \t 20\tㅇ\n"
     ]
    }
   ],
   "source": [
    "# 위 함수 test - 아래 부분 test를 위해 customer_list에 할당\n",
    "customer_list = load_customers()\n",
    "for customer in customer_list:\n",
    "    print(customer)"
   ]
  },
  {
   "cell_type": "markdown",
   "id": "8908284a",
   "metadata": {},
   "source": [
    "## 1. 입력"
   ]
  },
  {
   "cell_type": "code",
   "execution_count": 570,
   "id": "fa49e590",
   "metadata": {
    "ExecuteTime": {
     "end_time": "2024-11-19T08:21:36.706982Z",
     "start_time": "2024-11-19T08:21:36.699986Z"
    }
   },
   "outputs": [],
   "source": [
    "# 1. 입력\n",
    "def fn1_insert_customer_info():\n",
    "    name = input('이름을 입력하세요 :')\n",
    "    phone = input('전화번호를 입력하세요 :')\n",
    "    email = input('메일을 입력하세요 :')\n",
    "    age = int(input('나이를 입력하세요'))\n",
    "    grade = int(input('GRADE를 입력하세요 :'))\n",
    "    etc = input('기타 내용을 입력하세요 :')\n",
    "    return Customer(name, phone, email, age, grade, etc) "
   ]
  },
  {
   "cell_type": "code",
   "execution_count": 2,
   "id": "c701a8ff",
   "metadata": {
    "ExecuteTime": {
     "end_time": "2025-01-13T01:04:25.886349Z",
     "start_time": "2025-01-13T01:04:25.882354Z"
    }
   },
   "outputs": [],
   "source": [
    "## 위 함수 test\n",
    "# fn1_insert_customer_info()"
   ]
  },
  {
   "cell_type": "code",
   "execution_count": 576,
   "id": "129ebaef",
   "metadata": {
    "ExecuteTime": {
     "end_time": "2024-11-19T08:24:59.402940Z",
     "start_time": "2024-11-19T08:24:59.394944Z"
    }
   },
   "outputs": [],
   "source": [
    "#\n",
    "def fn1_insert_customer_info():\n",
    "    '사용자로부터 이름, 전화번호, 이메일, 나이, 등급, etc를 받아 customer형 객체 return'\n",
    "    name = input('이름 : ')\n",
    "    phone = input(\"전화번호 : \")\n",
    "    email = input(\"이메일 : \")\n",
    "    try:\n",
    "        age = int(input(\"나이 : \"))\n",
    "        if age<0:\n",
    "            age = 0\n",
    "    except ValueError as e:\n",
    "        print('유효하지 않은 나이  입력시 나이는 0으로 초기화')\n",
    "        age = 0\n",
    "    try:\n",
    "        grade = int(input(\"고객등급(1~5) : \"))\n",
    "        if grade < 1 :\n",
    "            grade = 1\n",
    "        if grade > 5 :\n",
    "            grade = 5\n",
    "    except ValueError as e:\n",
    "        print('유효하지 않은 등급을 입력시 등급은 1로 초기화')\n",
    "        grade = 1\n",
    "    etc = input(\"기타 정보 : \")\n",
    "    customer = Customer(name, phone, email, age, grade, etc)\n",
    "    return customer"
   ]
  },
  {
   "cell_type": "code",
   "execution_count": 577,
   "id": "404f56e1",
   "metadata": {
    "ExecuteTime": {
     "end_time": "2024-11-19T08:25:14.498681Z",
     "start_time": "2024-11-19T08:25:09.450082Z"
    }
   },
   "outputs": [
    {
     "name": "stdout",
     "output_type": "stream",
     "text": [
      "이름 : ㅇ\n",
      "전화번호 : ㅇ\n",
      "이메일 : ㅇ\n",
      "나이 : ㅇ\n",
      "유효하지 않은 나이  입력시 나이는 0으로 초기화\n",
      "고객등급(1~5) : ㅇ\n",
      "유효하지 않은 등급을 입력시 등급은 1로 초기화\n",
      "기타 정보 : ㅇ\n",
      "입력한 정보로 만든 Member 객체 :     *\tㅇ  \tㅇ              \tㅇ              \t  0\tㅇ\n"
     ]
    }
   ],
   "source": [
    "# 위 함수 테스트\n",
    "customer = fn1_insert_customer_info()\n",
    "print('입력한 정보로 만든 Member 객체 :',customer)\n",
    "customer_list.append(customer)"
   ]
  },
  {
   "cell_type": "markdown",
   "id": "8249c3c4",
   "metadata": {},
   "source": [
    "## 2. 전체 출력"
   ]
  },
  {
   "cell_type": "code",
   "execution_count": 286,
   "id": "a429d45c",
   "metadata": {
    "ExecuteTime": {
     "end_time": "2024-11-19T06:46:57.143392Z",
     "start_time": "2024-11-19T06:46:57.136396Z"
    }
   },
   "outputs": [],
   "source": [
    "# 2. 전체 출력\n",
    "def fn2_print_customers(customer_list):\n",
    "    'customer_list를 전체 출력(*** 홍길동 010-8999-9999 e@e.com 20 까칠해)'\n",
    "    print('==============================================================')\n",
    "    print(\"\\t\\t\\t고객 정보\")\n",
    "    print('--------------------------------------------------------------')\n",
    "    print('GRADE\\t이름\\t전화\\t\\t메일\\t나이\\t기타\\t')\n",
    "    print('==============================================================')\n",
    "    for customer in customer_list:\n",
    "        print(customer)\n",
    "    print('==============================================================')"
   ]
  },
  {
   "cell_type": "code",
   "execution_count": 287,
   "id": "28e73fd6",
   "metadata": {
    "ExecuteTime": {
     "end_time": "2024-11-19T06:46:58.367264Z",
     "start_time": "2024-11-19T06:46:58.351637Z"
    }
   },
   "outputs": [
    {
     "name": "stdout",
     "output_type": "stream",
     "text": [
      "==============================================================\n",
      "\t\t\t고객 정보\n",
      "--------------------------------------------------------------\n",
      "GRADE\t이름\t전화\t\t메일\t나이\t기타\t\n",
      "==============================================================\n",
      "*****\t홍길동\t010-9999-9999  \thong@m.com     \t 30\t열심히\n",
      "*****\t홍길동\t010-8888-8888  \thong2@m.com    \t 31\tabc\n",
      "   **\t유길동\t010-5432-2222  \tyu@hong.com    \t 20\t가칠해\n",
      "==============================================================\n"
     ]
    }
   ],
   "source": [
    "# 위 함수 test\n",
    "fn2_print_customers(customer_list)"
   ]
  },
  {
   "cell_type": "code",
   "execution_count": 578,
   "id": "359203b1",
   "metadata": {
    "ExecuteTime": {
     "end_time": "2024-11-19T08:25:26.377457Z",
     "start_time": "2024-11-19T08:25:26.372192Z"
    }
   },
   "outputs": [],
   "source": [
    "def fn2_print_customers(customer_list):\n",
    "    'customer_list를 전체 출력(*** 홍길동 010-8999-9999 e@e.com 20 까칠해)'\n",
    "    print('='*70)\n",
    "    print(\"{:^70}\".format(\"고객 정보\"))\n",
    "    print('-'*70)\n",
    "    print(\"{:^5}\\t{:^3}\\t{:^10}{:^15}\\t{:^3}\\t{}\".format(\"GRADE\",\n",
    "                    \"이름\", \"전화\", \"메일\", \"나이\", \"기타\"))\n",
    "    print('-'*70)\n",
    "    for customer in customer_list:\n",
    "        print(customer)"
   ]
  },
  {
   "cell_type": "code",
   "execution_count": 579,
   "id": "fd38321a",
   "metadata": {
    "ExecuteTime": {
     "end_time": "2024-11-19T08:25:32.048187Z",
     "start_time": "2024-11-19T08:25:32.042773Z"
    }
   },
   "outputs": [
    {
     "name": "stdout",
     "output_type": "stream",
     "text": [
      "======================================================================\n",
      "                                고객 정보                                 \n",
      "----------------------------------------------------------------------\n",
      "GRADE\t이름 \t    전화          메일       \t나이 \t기타\n",
      "----------------------------------------------------------------------\n",
      "*****\t홍길동\t010-9999-9999  \thong@m.com     \t 30\t열심히\n",
      "*****\t홍길동\t010-8888-8888  \thong2@m.com    \t 31\tabc\n",
      "   **\t유길동\t010-5432-2222  \tyu@hong.com    \t 20\t가칠해\n",
      "   **\t홍  \t010            \th@             \t 20\tㅇ\n",
      "    *\tㅇ  \tㅇ              \tㅇ              \t  0\tㅇ\n"
     ]
    }
   ],
   "source": [
    "# 위 함수 테스트\n",
    "fn2_print_customers(customer_list)"
   ]
  },
  {
   "cell_type": "markdown",
   "id": "2dc26924",
   "metadata": {},
   "source": [
    "## 3. 삭제"
   ]
  },
  {
   "cell_type": "code",
   "execution_count": 427,
   "id": "0adc39d1",
   "metadata": {
    "ExecuteTime": {
     "end_time": "2024-11-19T07:40:30.001972Z",
     "start_time": "2024-11-19T07:40:29.994984Z"
    }
   },
   "outputs": [],
   "source": [
    "# 3. 삭제 (동명이인이 있을 때)\n",
    "def fn3_delete_customer(customer_list):\n",
    "    '''\n",
    "    삭제하고자 하는 고객 이름을 받아 매개변수로 들어온 customer_list에서 삭제\n",
    "    삭제여부를 출력하면 더 좋음\n",
    "    '''\n",
    "    name = input('삭제할 고객의 이름은? ')\n",
    "    deleted_flag = False  # 삭제했는지 여부 저장\n",
    "    for customer in customer_list:\n",
    "        if customer.name == name:\n",
    "            customer_list.remove(customer)\n",
    "            deleted_flag = True\n",
    "    if deleted_flag:\n",
    "        print('검색하신 {}님의 고객 정보를 삭제하였습니다.'.format(name))\n",
    "    else:\n",
    "        print('검색하신 {}님의 고객 정보가 존재하지 않습니다.'.format(name))"
   ]
  },
  {
   "cell_type": "code",
   "execution_count": 524,
   "id": "12baa77d",
   "metadata": {
    "ExecuteTime": {
     "end_time": "2024-11-19T07:55:51.616814Z",
     "start_time": "2024-11-19T07:55:51.610835Z"
    }
   },
   "outputs": [],
   "source": [
    "# 3. 삭제 (동명이인이 있을 때)\n",
    "def fn3_delete_customer(customer_list):\n",
    "    '''\n",
    "    삭제하고자 하는 고객 이름을 받아 매개변수로 들어온 customer_list에서 삭제\n",
    "    삭제여부를 출력하면 더 좋음\n",
    "    '''\n",
    "    name = input('삭제할 고객의 이름은? ')\n",
    "    deleted_flag = False  # 삭제했는지 여부 저장\n",
    "    for customer in customer_list:\n",
    "        if customer.name == name:\n",
    "            customer_list.remove(customer)\n",
    "            deleted_flag = True\n",
    "        print('검색하신 {}님의 고객 정보를 삭제하였습니다.'.format(name))\n",
    "    else:\n",
    "        print('검색하신 {}님의 고객 정보가 존재하지 않습니다.'.format(name))"
   ]
  },
  {
   "cell_type": "code",
   "execution_count": 559,
   "id": "657e92b5",
   "metadata": {
    "ExecuteTime": {
     "end_time": "2024-11-19T08:01:31.422318Z",
     "start_time": "2024-11-19T08:01:31.414809Z"
    }
   },
   "outputs": [],
   "source": [
    "# 3. 삭제 (동명이인이 있을 때)\n",
    "def fn3_delete_customer(customer_list):\n",
    "    '''\n",
    "    삭제하고자 하는 고객 이름을 받아 매개변수로 들어온 customer_list에서 삭제\n",
    "    삭제여부를 출력하면 더 좋음\n",
    "    '''\n",
    "    name = input('삭제할 고객의 이름은? ')\n",
    "    deleted_flag = False  # 삭제했는지 여부 저장\n",
    "    for customer in customer_list:\n",
    "        if customer.name == name:\n",
    "            customer_list.remove(customer)\n",
    "            deleted_flag = True\n",
    "        print('검색하신 {}님의 고객 정보를 삭제하였습니다.'.format(name))\n",
    "    else:\n",
    "        print('검색하신 {}님의 고객 정보가 존재하지 않습니다.'.format(name))"
   ]
  },
  {
   "cell_type": "markdown",
   "id": "159c9b39",
   "metadata": {},
   "source": [
    "## 3. 삭제 (동명이인이 없다는 전제에서의 구현)"
   ]
  },
  {
   "cell_type": "code",
   "execution_count": 580,
   "id": "2d6af7b3",
   "metadata": {
    "ExecuteTime": {
     "end_time": "2024-11-19T08:25:47.737193Z",
     "start_time": "2024-11-19T08:25:47.731194Z"
    }
   },
   "outputs": [],
   "source": [
    "def fn3_delete_customer(customer_list):\n",
    "    '''\n",
    "    삭제하고자 하는 고객 이름을 받아 매개변수로 들어온 customer_list에서 삭제\n",
    "    삭제여부를 출력하면 더 좋음\n",
    "    '''\n",
    "    name = input('삭제할 고객의 이름은?')\n",
    "    delete_flag = False # 삭제했는지 여부 저장\n",
    "    for idx, customer in enumerate(customer_list):\n",
    "        if customer.name == name:\n",
    "            customer_list.remove(customer)\n",
    "            # del customer_list[idx]\n",
    "            delete_flag = True\n",
    "            break\n",
    "    if delete_flag:\n",
    "        print(name, '님을 삭제하였습니다')\n",
    "    else:\n",
    "        print(name, '님이 데이터에 존재하지 않습니다')"
   ]
  },
  {
   "cell_type": "code",
   "execution_count": 3,
   "id": "6433d0cd",
   "metadata": {
    "ExecuteTime": {
     "end_time": "2025-01-13T01:04:39.894835Z",
     "start_time": "2025-01-13T01:04:39.889841Z"
    }
   },
   "outputs": [],
   "source": [
    "## 위 함수 test\n",
    "# fn3_delete_customer(customer_list)"
   ]
  },
  {
   "cell_type": "markdown",
   "id": "41ecdbca",
   "metadata": {},
   "source": [
    "## 3. 삭제 (동명이인이 있다는 전제에서의 구현)"
   ]
  },
  {
   "cell_type": "code",
   "execution_count": 582,
   "id": "316e9cca",
   "metadata": {
    "ExecuteTime": {
     "end_time": "2024-11-19T08:26:25.931883Z",
     "start_time": "2024-11-19T08:26:25.923709Z"
    }
   },
   "outputs": [],
   "source": [
    "# 3. 삭제 (동명이인이 있다는 전제에서의 구현)\n",
    "def fn3_delete_customer(customer_list):\n",
    "    '''\n",
    "    삭제하고자 하는 고객 이름을 받아 매개변수로 들어온 customer_list에서 삭제\n",
    "    삭제여부를 출력하면 더 좋음\n",
    "    '''\n",
    "    name = input('삭제할 고객의 이름은?')\n",
    "    delete_flag = False # 삭제했는지 여부 저장\n",
    "    delete_idx = []\n",
    "    for idx, customer in enumerate(customer_list):\n",
    "        if customer.name == name:\n",
    "            delete_flag = True\n",
    "            delete_idx.append(idx)\n",
    "            # 여기서 idx번째를 지우면 idx이후가 앞으로 밀려내려옴\n",
    "    # 동명이인일 경우 끝idx부터 지워야 제대로 작동\n",
    "    for i in range(len(delete_idx)-1, -1, -1):\n",
    "        del customer_list[delete_idx[i]]\n",
    "    if delete_flag:\n",
    "        print(name, '님', len(delete_idx), '명을 삭제하였습니다')\n",
    "    else:\n",
    "        print(name, '님이 데이터에 존재하지 않습니다')"
   ]
  },
  {
   "cell_type": "code",
   "execution_count": 581,
   "id": "8e5b2ef8",
   "metadata": {
    "ExecuteTime": {
     "end_time": "2024-11-19T08:26:13.489899Z",
     "start_time": "2024-11-19T08:26:12.698734Z"
    }
   },
   "outputs": [
    {
     "name": "stdout",
     "output_type": "stream",
     "text": [
      "삭제할 고객의 이름은?ㅇ\n",
      "ㅇ 님을 삭제하였습니다\n"
     ]
    }
   ],
   "source": [
    "# 위 함수 테스트\n",
    "fn3_delete_customer(customer_list)"
   ]
  },
  {
   "cell_type": "markdown",
   "id": "dcce09d3",
   "metadata": {},
   "source": [
    "## 4.  이름찾기"
   ]
  },
  {
   "cell_type": "code",
   "execution_count": 334,
   "id": "dffea2ae",
   "metadata": {
    "ExecuteTime": {
     "end_time": "2024-11-19T07:00:10.501640Z",
     "start_time": "2024-11-19T07:00:10.495641Z"
    }
   },
   "outputs": [],
   "source": [
    "# 4. 이름찾기 (동명이인이 있다고 할지 없다고 할지 정한대로 구현)\n",
    "def fn4_search_customer(customer_list):\n",
    "    '찾고자 하는 고객이름을 받아 찾는 고객 정보를 출력'\n",
    "    name = input('검색할 고객의 이름은? ')\n",
    "    search_result = False\n",
    "    for customer in customer_list:\n",
    "        if customer.name == name:\n",
    "            search_result = True\n",
    "            print(customer)\n",
    "    if search_result:\n",
    "        pass\n",
    "    else:\n",
    "        print('검색하신 {}님의 고객 데이터가 존재하지 않습니다.'.format(name))"
   ]
  },
  {
   "cell_type": "code",
   "execution_count": 566,
   "id": "f6282db8",
   "metadata": {
    "ExecuteTime": {
     "end_time": "2024-11-19T08:10:36.535799Z",
     "start_time": "2024-11-19T08:10:36.528800Z"
    }
   },
   "outputs": [],
   "source": [
    "# 4. 이름찾기 (동명이인 있음)\n",
    "def fn4_search_customer(customer_list):\n",
    "    name = input('검색할 고객이름 : ')\n",
    "    name_= False\n",
    "    for customer in customer_list:\n",
    "        if customer.name == name :\n",
    "            name_ = True\n",
    "            print(customer)\n",
    "    if name_ :\n",
    "        pass\n",
    "    else :\n",
    "        print('검색하신 {} 고객 정보가 없습니다'.format(name))"
   ]
  },
  {
   "cell_type": "code",
   "execution_count": 565,
   "id": "b3aadaef",
   "metadata": {
    "ExecuteTime": {
     "end_time": "2024-11-19T08:10:29.442874Z",
     "start_time": "2024-11-19T08:10:06.616620Z"
    }
   },
   "outputs": [
    {
     "name": "stdout",
     "output_type": "stream",
     "text": [
      "검색할 고객이름 :홍길동\n",
      "*****\t홍길동\t010-9999-9999  \thong@m.com     \t 30\t열심히\n",
      "*****\t홍길동\t010-8888-8888  \thong2@m.com    \t 31\tabc\n"
     ]
    }
   ],
   "source": [
    "# 위 함수 test\n",
    "fn4_search_customer(customer_list)"
   ]
  },
  {
   "cell_type": "code",
   "execution_count": 584,
   "id": "ecb35e97",
   "metadata": {
    "ExecuteTime": {
     "end_time": "2024-11-19T08:26:41.619336Z",
     "start_time": "2024-11-19T08:26:41.611526Z"
    }
   },
   "outputs": [],
   "source": [
    "# \n",
    "def fn4_search_customer(customer_list):\n",
    "    '찾고자 하는 고객이름을 받아 찾는 고객 정보를 출력'\n",
    "    name = input('검색할 고객의 이름은?')\n",
    "    search_result = []\n",
    "    for customer in customer_list:\n",
    "        if customer.name == name :\n",
    "            search_result.append(customer)\n",
    "    if len(search_result):\n",
    "        print('='*70)\n",
    "        print(\"{:^70}\".format(name+\"님 고객 정보\"))\n",
    "        print('-'*70)\n",
    "        print(\"{:^5}\\t{:^3}\\t{:^10}{:^15}\\t{:^3}\\t{}\".format(\"GRADE\",\n",
    "                        \"이름\", \"전화\", \"메일\", \"나이\", \"기타\"))\n",
    "        print('-'*70)\n",
    "        for customer in search_result:\n",
    "            print(customer)\n",
    "    else:\n",
    "        print('검색한 고객이 데이터에 존재하지 않습니다')"
   ]
  },
  {
   "cell_type": "code",
   "execution_count": 585,
   "id": "d94d7d38",
   "metadata": {
    "ExecuteTime": {
     "end_time": "2024-11-19T08:26:48.780981Z",
     "start_time": "2024-11-19T08:26:47.673096Z"
    }
   },
   "outputs": [
    {
     "name": "stdout",
     "output_type": "stream",
     "text": [
      "검색할 고객의 이름은?ㅇ\n",
      "검색한 고객이 데이터에 존재하지 않습니다\n"
     ]
    }
   ],
   "source": [
    "# 위 함수 테스트\n",
    "fn4_search_customer(customer_list)"
   ]
  },
  {
   "cell_type": "code",
   "execution_count": 586,
   "id": "23515d56",
   "metadata": {
    "ExecuteTime": {
     "end_time": "2024-11-19T08:26:59.632046Z",
     "start_time": "2024-11-19T08:26:59.625048Z"
    }
   },
   "outputs": [
    {
     "data": {
      "text/plain": [
       "['name', 'phone', 'email', 'age', 'grade', 'etc']"
      ]
     },
     "execution_count": 586,
     "metadata": {},
     "output_type": "execute_result"
    }
   ],
   "source": [
    "list(customer_list[0].__dict__.keys()) # csv 해더로 들어갈 예정"
   ]
  },
  {
   "cell_type": "markdown",
   "id": "cc96c3c1",
   "metadata": {},
   "source": [
    "## 5. 내보내기(CSV)"
   ]
  },
  {
   "cell_type": "code",
   "execution_count": 262,
   "id": "8e69d17e",
   "metadata": {
    "ExecuteTime": {
     "end_time": "2024-11-19T06:30:06.868369Z",
     "start_time": "2024-11-19T06:30:06.863370Z"
    }
   },
   "outputs": [],
   "source": [
    "# 5. 내보내기(CSV)\n",
    "def fn5_save_customer_csv(customer_list):\n",
    "    with open('data/ch09_customers.csv', 'w', encoding='utf-8', newline='') as f:\n",
    "        dict_writer = csv.DictWriter(f, fieldnames=fieldnames)\n",
    "        for customer in customer_list:\n",
    "            dict_writer.writerow(customer.as_dic())"
   ]
  },
  {
   "cell_type": "code",
   "execution_count": 587,
   "id": "4fa4b96f",
   "metadata": {
    "ExecuteTime": {
     "end_time": "2024-11-19T08:27:06.264467Z",
     "start_time": "2024-11-19T08:27:06.257228Z"
    }
   },
   "outputs": [],
   "source": [
    "#\n",
    "def fn5_save_customer_csv(customer_list):\n",
    "    '저장할 csv파일명을 입력받아 data폴더 밑에 customer_list의 내용을 csv파일로 출력(저장)'\n",
    "    import csv\n",
    "    customer_dict_list = []\n",
    "    for customer in customer_list:\n",
    "        customer_list_dict.append(customer.as_dic())\n",
    "    fieldnames = list(customer_list[0].__dict__.keys())\n",
    "    filename = input('저장할 CSV 파일 이름은 ?')\n",
    "    try :\n",
    "        with open('data/'+filename, 'w', newline='', encoding='UTF-8') as f:\n",
    "            dict_writer = csv.DictWriter(f, fieldnames=fieldnames)\n",
    "            dict_writer.writeheader()\n",
    "            dict_writer.writerows(customer_dict_list)\n",
    "    except Exception as e:\n",
    "        print('데이터 내보내기 예외 :', e)"
   ]
  },
  {
   "cell_type": "code",
   "execution_count": 4,
   "id": "5f295a7e",
   "metadata": {
    "ExecuteTime": {
     "end_time": "2025-01-13T01:04:50.253540Z",
     "start_time": "2025-01-13T01:04:50.249544Z"
    }
   },
   "outputs": [],
   "source": [
    "## 위 함수 테스트\n",
    "# fn5_save_customer_csv(customer_list)"
   ]
  },
  {
   "cell_type": "markdown",
   "id": "58315f41",
   "metadata": {},
   "source": [
    "## 9. 종료"
   ]
  },
  {
   "cell_type": "code",
   "execution_count": 567,
   "id": "4678d7cc",
   "metadata": {
    "ExecuteTime": {
     "end_time": "2024-11-19T08:19:18.675780Z",
     "start_time": "2024-11-19T08:19:18.669249Z"
    }
   },
   "outputs": [],
   "source": [
    "# 9. 종료 (종료하기 전 customer_list를 txt파일에 저장하고 종료)\n",
    "def fn9_save_customer_txt(customer_list):\n",
    "    lst = []\n",
    "    for customer in customer_list:\n",
    "        lst.append(customer.to_list_style() + '\\n')\n",
    "    with open('data/ch09_customers.txt', 'w', encoding='utf-8') as f:\n",
    "        f.writelines(lst)"
   ]
  },
  {
   "cell_type": "code",
   "execution_count": 589,
   "id": "2ea2572e",
   "metadata": {
    "ExecuteTime": {
     "end_time": "2024-11-19T08:33:08.356185Z",
     "start_time": "2024-11-19T08:33:08.351190Z"
    }
   },
   "outputs": [],
   "source": [
    "# 위 함수 테스트\n",
    "fn9_save_customer_txt(customer_list)"
   ]
  },
  {
   "cell_type": "code",
   "execution_count": 572,
   "id": "e0ece9fc",
   "metadata": {
    "ExecuteTime": {
     "end_time": "2024-11-19T08:22:00.539984Z",
     "start_time": "2024-11-19T08:21:46.083241Z"
    }
   },
   "outputs": [
    {
     "name": "stdout",
     "output_type": "stream",
     "text": [
      "*****\t홍길동\t010-9999-9999  \thong@m.com     \t 30\t열심히\n",
      "*****\t홍길동\t010-8888-8888  \thong2@m.com    \t 31\tabc\n",
      "   **\t유길동\t010-5432-2222  \tyu@hong.com    \t 20\t가칠해\n",
      "1:입력 | 2:전체출력 | 3:삭제 | 4:이름찾기 | 5:내보내기(CSV) | 9:종료 메뉴선택 : 1\n",
      "이름을 입력하세요 :홍\n",
      "전화번호를 입력하세요 :010\n",
      "메일을 입력하세요 :h@\n",
      "나이를 입력하세요20\n",
      "GRADE를 입력하세요 :2\n",
      "기타 내용을 입력하세요 :ㅇ\n",
      "1:입력 | 2:전체출력 | 3:삭제 | 4:이름찾기 | 5:내보내기(CSV) | 9:종료 메뉴선택 : 2\n",
      "==============================================================\n",
      "\t\t\t고객 정보\n",
      "--------------------------------------------------------------\n",
      "GRADE\t이름\t전화\t\t메일\t나이\t기타\t\n",
      "==============================================================\n",
      "*****\t홍길동\t010-9999-9999  \thong@m.com     \t 30\t열심히\n",
      "*****\t홍길동\t010-8888-8888  \thong2@m.com    \t 31\tabc\n",
      "   **\t유길동\t010-5432-2222  \tyu@hong.com    \t 20\t가칠해\n",
      "   **\t홍  \t010            \th@             \t 20\tㅇ\n",
      "==============================================================\n",
      "1:입력 | 2:전체출력 | 3:삭제 | 4:이름찾기 | 5:내보내기(CSV) | 9:종료 메뉴선택 : 9\n"
     ]
    }
   ],
   "source": [
    "def main():\n",
    "    global customer_list\n",
    "    customer_list = load_customers()  # ch09_customers.txt의 내용을 load\n",
    "    while True:\n",
    "        print(\"1:입력\",\"2:전체출력\",\"3:삭제\",\"4:이름찾기\",\"5:내보내기(CSV)\", \"9:종료\", sep=' | ', end=' ')\n",
    "        fn = int(input('메뉴선택 : '))\n",
    "        if fn == 1:\n",
    "            customer = fn1_insert_customer_info()  # 입력받은 내용으로 customer객체를 반환\n",
    "            customer_list.append(customer)\n",
    "        elif fn == 2:\n",
    "            fn2_print_customers(customer_list)\n",
    "        elif fn == 3:\n",
    "            fn3_delete_customer(customer_list)\n",
    "        elif fn == 4:\n",
    "            fn4_search_customer(customer_list)\n",
    "        elif fn == 5:\n",
    "            fn5_save_customer_csv(customer_list)\n",
    "        elif fn == 9:\n",
    "            fn9_save_customer_txt(customer_list)\n",
    "            break\n",
    "            \n",
    "if __name__ == '__main__':\n",
    "        main()"
   ]
  },
  {
   "cell_type": "code",
   "execution_count": 205,
   "id": "5b0716f6",
   "metadata": {
    "ExecuteTime": {
     "end_time": "2024-11-19T06:00:09.125409Z",
     "start_time": "2024-11-19T06:00:09.120411Z"
    }
   },
   "outputs": [],
   "source": [
    "# 1.다음중 Open 함수에 대해 잘못 설명한 것은? 3\n",
    "# ① 함수가 반환하는 것은 열린 파일 객체이다.\n",
    "# ② 파일을 열때 사용하는 모드는 읽기(r), 쓰기(w), 추가(a), 바이너리(b) 모드가 있다.\n",
    "# ③ 바이너리(b) 모드와 쓰기(w) 모드는 같이 사용할 수 없다. : 피클링에서만\n",
    "# ④ 파일의 인코딩은 encoding 속성을 이용해 설정할 수 있다."
   ]
  },
  {
   "cell_type": "code",
   "execution_count": 208,
   "id": "24322958",
   "metadata": {
    "ExecuteTime": {
     "end_time": "2024-11-19T06:00:14.779517Z",
     "start_time": "2024-11-19T06:00:14.775516Z"
    }
   },
   "outputs": [],
   "source": [
    "# 2.피클링(pickling)에 대해 잘못 설명한 것은? 4\n",
    "# ① 파이썬의 객체직렬화(Object Serialization) 방법이다.\n",
    "# ② pickle 모듈의 dump()와 load() 함수를 이용해 객체를 쓰고 읽는다.\n",
    "# ③ 파이썬 객체를 별도의 텍스트 변환 과정없이 파일에 직접 쓰고 읽는 것을 의미한다.\n",
    "# ④ 피클링하기 위한 모드는 쓰기모드('w') 여야 한다. : wb"
   ]
  },
  {
   "cell_type": "code",
   "execution_count": 207,
   "id": "a16b3614",
   "metadata": {
    "ExecuteTime": {
     "end_time": "2024-11-19T06:00:09.413857Z",
     "start_time": "2024-11-19T06:00:09.398229Z"
    }
   },
   "outputs": [],
   "source": [
    "# 3.다음중 파이썬의 입/출력 모듈에 대한 설명 중 잘못된 것은? 1\n",
    "# ① Pandas 패키지를 이용하면 리스트 데이터를 쉽게 파일에 쓰고 읽을수 있다. : 데이터프레임\n",
    "# ② json 모듈의 dump(), load() 함수를 이용해 JSON 데이터를 파일에 읽고 쓸 수 있다.\n",
    "# ③ h5py 모듈의 File 클래스를 이용해 HDF5 데이터를 파일에 읽고 쓸 수 있다.\n",
    "# ④ csv 모듈의 reader(), writer() 함수를 이용해 CSV 파일을 읽고 쓸 수 있다."
   ]
  },
  {
   "cell_type": "code",
   "execution_count": null,
   "id": "389daa89",
   "metadata": {},
   "outputs": [],
   "source": []
  }
 ],
 "metadata": {
  "kernelspec": {
   "display_name": "Python 3 (ipykernel)",
   "language": "python",
   "name": "python3"
  },
  "language_info": {
   "codemirror_mode": {
    "name": "ipython",
    "version": 3
   },
   "file_extension": ".py",
   "mimetype": "text/x-python",
   "name": "python",
   "nbconvert_exporter": "python",
   "pygments_lexer": "ipython3",
   "version": "3.10.9"
  },
  "toc": {
   "base_numbering": 1,
   "nav_menu": {},
   "number_sections": true,
   "sideBar": true,
   "skip_h1_title": false,
   "title_cell": "Table of Contents",
   "title_sidebar": "Contents",
   "toc_cell": false,
   "toc_position": {
    "height": "calc(100% - 180px)",
    "left": "10px",
    "top": "150px",
    "width": "165px"
   },
   "toc_section_display": true,
   "toc_window_display": true
  }
 },
 "nbformat": 4,
 "nbformat_minor": 5
}
