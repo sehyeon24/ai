{
 "cells": [
  {
   "cell_type": "code",
   "execution_count": 1,
   "id": "7a8ba9a8",
   "metadata": {
    "ExecuteTime": {
     "end_time": "2024-11-11T00:32:57.152142Z",
     "start_time": "2024-11-11T00:32:57.142772Z"
    }
   },
   "outputs": [
    {
     "data": {
      "text/html": [
       "\n",
       "<style>\n",
       "div.container{width:80% !important;}\n",
       "div.prompt {min-width:70px;}\n",
       "div#toc-header{margin-top:150px;}\n",
       "span.toc-item-num{display:none;}\n",
       "</style>\n"
      ],
      "text/plain": [
       "<IPython.core.display.HTML object>"
      ]
     },
     "metadata": {},
     "output_type": "display_data"
    }
   ],
   "source": [
    "from IPython.display import display, HTML\n",
    "display(HTML(\"\"\"\n",
    "<style>\n",
    "div.container{width:80% !important;}\n",
    "div.prompt {min-width:70px;}\n",
    "div#toc-header{margin-top:150px;}\n",
    "span.toc-item-num{display:none;}\n",
    "</style>\n",
    "\"\"\"))"
   ]
  },
  {
   "cell_type": "markdown",
   "id": "b55be565",
   "metadata": {},
   "source": [
    "<b><font color='red' size='6'>ch05. 함수</font></b>\n",
    " - 반복해서 사용할 코드를 묶어 놓고 그것에 이름을 붙인 것\n",
    " - 오버로딩 불가\n",
    " - 함수의 정의\n",
    " ```\n",
    " def 함수명([매개변수1, 매개변수2, ..]):\n",
    "     명령어1\n",
    "     명령어2\n",
    "     return 리턴할 값 (명령어)\n",
    "\n",
    " ```"
   ]
  },
  {
   "cell_type": "markdown",
   "id": "4350f0b7",
   "metadata": {},
   "source": [
    "# 1절. 함수의 정의 및 사용\n",
    "## 1.1 함수 정의하기"
   ]
  },
  {
   "cell_type": "code",
   "execution_count": 12,
   "id": "247654ac",
   "metadata": {
    "ExecuteTime": {
     "end_time": "2024-11-08T03:32:50.254720Z",
     "start_time": "2024-11-08T03:32:50.249006Z"
    }
   },
   "outputs": [],
   "source": [
    "def my_hello(x, msg):  # 함수 정의(매개변수 두 개)\n",
    "    for i in range(x):  # i가 0부터 x전까지 x번 반복\n",
    "        print(i, msg)"
   ]
  },
  {
   "cell_type": "code",
   "execution_count": 3,
   "id": "604e9aa2",
   "metadata": {
    "ExecuteTime": {
     "end_time": "2024-11-08T03:13:27.223900Z",
     "start_time": "2024-11-08T03:13:26.505980Z"
    }
   },
   "outputs": [
    {
     "ename": "TypeError",
     "evalue": "my_hello() missing 2 required positional arguments: 'x' and 'msg'",
     "output_type": "error",
     "traceback": [
      "\u001b[1;31m---------------------------------------------------------------------------\u001b[0m",
      "\u001b[1;31mTypeError\u001b[0m                                 Traceback (most recent call last)",
      "Cell \u001b[1;32mIn[3], line 1\u001b[0m\n\u001b[1;32m----> 1\u001b[0m \u001b[43mmy_hello\u001b[49m\u001b[43m(\u001b[49m\u001b[43m)\u001b[49m\n",
      "\u001b[1;31mTypeError\u001b[0m: my_hello() missing 2 required positional arguments: 'x' and 'msg'"
     ]
    }
   ],
   "source": [
    "my_hello()  # 함수 호출 시 매개변수(인자값)가 없으면 에러"
   ]
  },
  {
   "cell_type": "code",
   "execution_count": 13,
   "id": "e01d7e87",
   "metadata": {
    "ExecuteTime": {
     "end_time": "2024-11-08T03:33:28.885067Z",
     "start_time": "2024-11-08T03:33:28.880070Z"
    }
   },
   "outputs": [
    {
     "name": "stdout",
     "output_type": "stream",
     "text": [
      "0 Hello, python\n",
      "1 Hello, python\n",
      "2 Hello, python\n",
      "3 Hello, python\n",
      "4 Hello, python\n"
     ]
    }
   ],
   "source": [
    "my_hello(5, 'Hello, python')  # 함수 호출"
   ]
  },
  {
   "cell_type": "code",
   "execution_count": 14,
   "id": "f35f5c4e",
   "metadata": {
    "ExecuteTime": {
     "end_time": "2024-11-08T03:33:40.437198Z",
     "start_time": "2024-11-08T03:33:40.431178Z"
    }
   },
   "outputs": [
    {
     "data": {
      "text/plain": [
       "function"
      ]
     },
     "execution_count": 14,
     "metadata": {},
     "output_type": "execute_result"
    }
   ],
   "source": [
    "type(my_hello)  # 함수도 변수이므로 type()안에 함수도 가능"
   ]
  },
  {
   "cell_type": "code",
   "execution_count": 7,
   "id": "4e3eedd1",
   "metadata": {
    "ExecuteTime": {
     "end_time": "2024-11-08T03:16:32.663850Z",
     "start_time": "2024-11-08T03:16:32.656853Z"
    }
   },
   "outputs": [
    {
     "data": {
      "text/plain": [
       "int"
      ]
     },
     "execution_count": 7,
     "metadata": {},
     "output_type": "execute_result"
    }
   ],
   "source": [
    "my_hello = 10\n",
    "type(my_hello)"
   ]
  },
  {
   "cell_type": "code",
   "execution_count": 9,
   "id": "aaaab307",
   "metadata": {
    "ExecuteTime": {
     "end_time": "2024-11-08T03:17:02.007531Z",
     "start_time": "2024-11-08T03:17:01.985703Z"
    }
   },
   "outputs": [
    {
     "ename": "TypeError",
     "evalue": "'int' object is not callable",
     "output_type": "error",
     "traceback": [
      "\u001b[1;31m---------------------------------------------------------------------------\u001b[0m",
      "\u001b[1;31mTypeError\u001b[0m                                 Traceback (most recent call last)",
      "Cell \u001b[1;32mIn[9], line 1\u001b[0m\n\u001b[1;32m----> 1\u001b[0m \u001b[43mmy_hello\u001b[49m\u001b[43m(\u001b[49m\u001b[38;5;241;43m5\u001b[39;49m\u001b[43m,\u001b[49m\u001b[43m \u001b[49m\u001b[38;5;124;43m'\u001b[39;49m\u001b[38;5;124;43mHello, python\u001b[39;49m\u001b[38;5;124;43m'\u001b[39;49m\u001b[43m)\u001b[49m\n",
      "\u001b[1;31mTypeError\u001b[0m: 'int' object is not callable"
     ]
    }
   ],
   "source": [
    "my_hello(5, 'Hello, python')  # 함수 호출 에러"
   ]
  },
  {
   "cell_type": "code",
   "execution_count": 10,
   "id": "905e6c4c",
   "metadata": {
    "ExecuteTime": {
     "end_time": "2024-11-08T03:19:05.308336Z",
     "start_time": "2024-11-08T03:19:05.303339Z"
    }
   },
   "outputs": [],
   "source": [
    "del my_hello  # 변수를 삭제해도 함수는 사용불가(파이썬 내장함수만 사용가능)"
   ]
  },
  {
   "cell_type": "code",
   "execution_count": 11,
   "id": "04367546",
   "metadata": {
    "ExecuteTime": {
     "end_time": "2024-11-08T03:19:49.068121Z",
     "start_time": "2024-11-08T03:19:49.038997Z"
    }
   },
   "outputs": [
    {
     "ename": "NameError",
     "evalue": "name 'my_hello' is not defined",
     "output_type": "error",
     "traceback": [
      "\u001b[1;31m---------------------------------------------------------------------------\u001b[0m",
      "\u001b[1;31mNameError\u001b[0m                                 Traceback (most recent call last)",
      "Cell \u001b[1;32mIn[11], line 1\u001b[0m\n\u001b[1;32m----> 1\u001b[0m \u001b[43mmy_hello\u001b[49m()\n",
      "\u001b[1;31mNameError\u001b[0m: name 'my_hello' is not defined"
     ]
    }
   ],
   "source": [
    "my_hello()"
   ]
  },
  {
   "cell_type": "code",
   "execution_count": 15,
   "id": "041ebe94",
   "metadata": {
    "ExecuteTime": {
     "end_time": "2024-11-08T03:34:01.965540Z",
     "start_time": "2024-11-08T03:34:01.959540Z"
    }
   },
   "outputs": [],
   "source": [
    "def my_hello(x, msg):  # 함수 정의(매개변수 두 개)\n",
    "    for i in range(x):  # i가 0부터 x전까지 x번 반복\n",
    "        print(i, msg)"
   ]
  },
  {
   "cell_type": "code",
   "execution_count": 16,
   "id": "fbc7b5b2",
   "metadata": {
    "ExecuteTime": {
     "end_time": "2024-11-08T03:35:14.238059Z",
     "start_time": "2024-11-08T03:35:14.233060Z"
    }
   },
   "outputs": [],
   "source": [
    "def my_hello():  # 매개변수 없는 함수 // 위의 my_hello(x, msg)를 덮어씀\n",
    "    print('Hello, Python')\n",
    "    print('Hello, World')"
   ]
  },
  {
   "cell_type": "code",
   "execution_count": 17,
   "id": "ac975bbd",
   "metadata": {
    "ExecuteTime": {
     "end_time": "2024-11-08T03:35:24.476133Z",
     "start_time": "2024-11-08T03:35:24.438183Z"
    }
   },
   "outputs": [
    {
     "ename": "TypeError",
     "evalue": "my_hello() takes 0 positional arguments but 2 were given",
     "output_type": "error",
     "traceback": [
      "\u001b[1;31m---------------------------------------------------------------------------\u001b[0m",
      "\u001b[1;31mTypeError\u001b[0m                                 Traceback (most recent call last)",
      "Cell \u001b[1;32mIn[17], line 1\u001b[0m\n\u001b[1;32m----> 1\u001b[0m \u001b[43mmy_hello\u001b[49m\u001b[43m(\u001b[49m\u001b[38;5;241;43m3\u001b[39;49m\u001b[43m,\u001b[49m\u001b[43m \u001b[49m\u001b[38;5;124;43m'\u001b[39;49m\u001b[38;5;124;43mhello\u001b[39;49m\u001b[38;5;124;43m'\u001b[39;49m\u001b[43m)\u001b[49m\n",
      "\u001b[1;31mTypeError\u001b[0m: my_hello() takes 0 positional arguments but 2 were given"
     ]
    }
   ],
   "source": [
    "my_hello(3, 'hello')  # 에러"
   ]
  },
  {
   "cell_type": "code",
   "execution_count": 18,
   "id": "5cececc2",
   "metadata": {
    "ExecuteTime": {
     "end_time": "2024-11-08T03:35:32.171086Z",
     "start_time": "2024-11-08T03:35:32.166089Z"
    }
   },
   "outputs": [
    {
     "name": "stdout",
     "output_type": "stream",
     "text": [
      "Hello, Python\n",
      "Hello, World\n"
     ]
    }
   ],
   "source": [
    "my_hello()"
   ]
  },
  {
   "cell_type": "code",
   "execution_count": 19,
   "id": "85425977",
   "metadata": {
    "ExecuteTime": {
     "end_time": "2024-11-08T03:36:27.924426Z",
     "start_time": "2024-11-08T03:36:27.918650Z"
    }
   },
   "outputs": [
    {
     "data": {
      "text/plain": [
       "<function __main__.my_hello()>"
      ]
     },
     "execution_count": 19,
     "metadata": {},
     "output_type": "execute_result"
    }
   ],
   "source": [
    "my_hello"
   ]
  },
  {
   "cell_type": "code",
   "execution_count": 20,
   "id": "4d2f2dc6",
   "metadata": {
    "ExecuteTime": {
     "end_time": "2024-11-08T03:37:22.955136Z",
     "start_time": "2024-11-08T03:37:22.950016Z"
    }
   },
   "outputs": [
    {
     "data": {
      "text/plain": [
       "'__main__'"
      ]
     },
     "execution_count": 20,
     "metadata": {},
     "output_type": "execute_result"
    }
   ],
   "source": [
    "__name__  # 지금 실행하는 함수의 위치"
   ]
  },
  {
   "cell_type": "code",
   "execution_count": 22,
   "id": "64bab634",
   "metadata": {
    "ExecuteTime": {
     "end_time": "2024-11-08T03:38:52.930580Z",
     "start_time": "2024-11-08T03:38:52.925189Z"
    }
   },
   "outputs": [
    {
     "name": "stdout",
     "output_type": "stream",
     "text": [
      "Hello, Python\n",
      "Hello, World\n"
     ]
    }
   ],
   "source": [
    "if __name__ == '__main__':\n",
    "    my_hello()"
   ]
  },
  {
   "cell_type": "code",
   "execution_count": 1,
   "id": "ac5363aa",
   "metadata": {
    "ExecuteTime": {
     "end_time": "2024-11-08T03:57:52.919386Z",
     "start_time": "2024-11-08T03:57:52.888726Z"
    }
   },
   "outputs": [],
   "source": [
    "import a  # VSCode에서 생성한 a.py가 해석돼서 메모리 로드"
   ]
  },
  {
   "cell_type": "code",
   "execution_count": 3,
   "id": "c1032b8f",
   "metadata": {
    "ExecuteTime": {
     "end_time": "2024-11-08T04:00:19.197778Z",
     "start_time": "2024-11-08T04:00:19.193779Z"
    }
   },
   "outputs": [
    {
     "name": "stdout",
     "output_type": "stream",
     "text": [
      "모듈(*.py파일) 테스트입니다\n",
      "주말 잘 보내세요\n"
     ]
    }
   ],
   "source": [
    "a.test()"
   ]
  },
  {
   "cell_type": "code",
   "execution_count": 1,
   "id": "1b1791b7",
   "metadata": {
    "ExecuteTime": {
     "end_time": "2024-11-08T04:08:55.245123Z",
     "start_time": "2024-11-08T04:08:55.225568Z"
    }
   },
   "outputs": [],
   "source": [
    "from a import test  # a모듈 안의 test만 로드"
   ]
  },
  {
   "cell_type": "code",
   "execution_count": 2,
   "id": "ffa3f990",
   "metadata": {
    "ExecuteTime": {
     "end_time": "2024-11-08T04:08:57.139065Z",
     "start_time": "2024-11-08T04:08:57.132046Z"
    }
   },
   "outputs": [
    {
     "name": "stdout",
     "output_type": "stream",
     "text": [
      "모듈(*.py파일) 테스트입니다\n",
      "주말 잘 보내세요\n"
     ]
    }
   ],
   "source": [
    "test()"
   ]
  },
  {
   "cell_type": "markdown",
   "id": "9091f296",
   "metadata": {},
   "source": [
    "## 1.2 docstring"
   ]
  },
  {
   "cell_type": "code",
   "execution_count": 39,
   "id": "a2bdaa88",
   "metadata": {
    "ExecuteTime": {
     "end_time": "2024-11-08T06:28:26.367790Z",
     "start_time": "2024-11-08T06:28:26.362793Z"
    }
   },
   "outputs": [],
   "source": [
    "def my_function():\n",
    "    '''\n",
    "    함수의 첫 라인에 docstring을 포함할 수 있습니다.\n",
    "    docstring은 함수의 설명서를 달아주는 역할.\n",
    "    주석보다 많은 기능(함수 호출 시 shift+tab으로 docstring을 볼 수 있음)\n",
    "    '''\n",
    "    pass"
   ]
  },
  {
   "cell_type": "code",
   "execution_count": 11,
   "id": "c4b35334",
   "metadata": {
    "ExecuteTime": {
     "end_time": "2024-11-08T04:05:04.947341Z",
     "start_time": "2024-11-08T04:05:04.942342Z"
    }
   },
   "outputs": [],
   "source": [
    "my_function()  # ()안에 커서를 두고 shift+tab으로 확인"
   ]
  },
  {
   "cell_type": "code",
   "execution_count": 10,
   "id": "f756b00e",
   "metadata": {
    "ExecuteTime": {
     "end_time": "2024-11-08T04:04:53.228578Z",
     "start_time": "2024-11-08T04:04:53.223582Z"
    }
   },
   "outputs": [
    {
     "name": "stdout",
     "output_type": "stream",
     "text": [
      "\n",
      "    함수의 첫 라인에 docstring을 포함할 수 있습니다.\n",
      "    docstring은 함수의 설명서를 달아주는 역할.\n",
      "    주석보다 많은 기능(함수 호출 시 shit+tab으로 docstring을 볼 수 있음)\n",
      "    \n"
     ]
    }
   ],
   "source": [
    "print(my_function.__doc__)"
   ]
  },
  {
   "cell_type": "code",
   "execution_count": 7,
   "id": "f7e38177",
   "metadata": {
    "ExecuteTime": {
     "end_time": "2024-11-08T05:20:18.908551Z",
     "start_time": "2024-11-08T05:20:18.902686Z"
    }
   },
   "outputs": [],
   "source": [
    "def fibonacci(n):\n",
    "    \"\"\"\n",
    "    매개변수로 들어온 n값 미만의 피보나치 수열을 출력합니다.\n",
    "    ex. n = 10 : 0, 1, 1, 2, 3, 5, 8\n",
    "    \"\"\"\n",
    "    a, b = 0, 1\n",
    "    while a < n:\n",
    "        print(a, end=' ')\n",
    "        a, b = b, a+b\n",
    "    print()"
   ]
  },
  {
   "cell_type": "code",
   "execution_count": 8,
   "id": "1fae4ab8",
   "metadata": {
    "ExecuteTime": {
     "end_time": "2024-11-08T05:20:20.345746Z",
     "start_time": "2024-11-08T05:20:20.340749Z"
    }
   },
   "outputs": [
    {
     "name": "stdout",
     "output_type": "stream",
     "text": [
      "0 1 1 2 3 5 8 \n"
     ]
    }
   ],
   "source": [
    "fibonacci(10)"
   ]
  },
  {
   "cell_type": "markdown",
   "id": "c9dd5d48",
   "metadata": {},
   "source": [
    "## 1.3 지역변수(local var)와 전역변수(global var)\n",
    " - 지역변수 : 함수 안에서 만든 변수(함수를 수행하고 벗어나면 사용하지 못함(사라짐))\n",
    " - 전역변수 : 함수 밖에서 만든 변수(함수 안과 밖에서 사용 가능)"
   ]
  },
  {
   "cell_type": "code",
   "execution_count": 12,
   "id": "c0a343b4",
   "metadata": {
    "ExecuteTime": {
     "end_time": "2024-11-08T05:27:22.281227Z",
     "start_time": "2024-11-08T05:27:22.275229Z"
    }
   },
   "outputs": [
    {
     "name": "stdout",
     "output_type": "stream",
     "text": [
      "함수 안 : 100\n",
      "함수 밖 : 100\n"
     ]
    }
   ],
   "source": [
    "global_var = 100  # 전역변수\n",
    "def func1():\n",
    "    print('함수 안 :', global_var)\n",
    "func1()\n",
    "print('함수 밖 :', global_var)"
   ]
  },
  {
   "cell_type": "code",
   "execution_count": 16,
   "id": "5109081e",
   "metadata": {
    "ExecuteTime": {
     "end_time": "2024-11-08T05:29:49.306863Z",
     "start_time": "2024-11-08T05:29:49.282080Z"
    }
   },
   "outputs": [
    {
     "name": "stdout",
     "output_type": "stream",
     "text": [
      "함수 안: 200\n"
     ]
    },
    {
     "ename": "NameError",
     "evalue": "name 'local_var' is not defined",
     "output_type": "error",
     "traceback": [
      "\u001b[1;31m---------------------------------------------------------------------------\u001b[0m",
      "\u001b[1;31mNameError\u001b[0m                                 Traceback (most recent call last)",
      "Cell \u001b[1;32mIn[16], line 5\u001b[0m\n\u001b[0;32m      3\u001b[0m     \u001b[38;5;28mprint\u001b[39m(\u001b[38;5;124m'\u001b[39m\u001b[38;5;124m함수 안:\u001b[39m\u001b[38;5;124m'\u001b[39m, local_var)\n\u001b[0;32m      4\u001b[0m func2()\n\u001b[1;32m----> 5\u001b[0m \u001b[38;5;28mprint\u001b[39m(\u001b[38;5;124m'\u001b[39m\u001b[38;5;124m함수 밖 :\u001b[39m\u001b[38;5;124m'\u001b[39m, \u001b[43mlocal_var\u001b[49m)\n",
      "\u001b[1;31mNameError\u001b[0m: name 'local_var' is not defined"
     ]
    }
   ],
   "source": [
    "def func2():\n",
    "    local_var = 200  # 지역변수\n",
    "    print('함수 안:', local_var)\n",
    "func2()\n",
    "print('함수 밖 :', local_var)  # 에러"
   ]
  },
  {
   "cell_type": "code",
   "execution_count": 17,
   "id": "2a881730",
   "metadata": {
    "ExecuteTime": {
     "end_time": "2024-11-08T05:32:45.877503Z",
     "start_time": "2024-11-08T05:32:45.871395Z"
    }
   },
   "outputs": [
    {
     "name": "stdout",
     "output_type": "stream",
     "text": [
      "지역변수 g_var : 200\n",
      "전역변수 g_var : 100\n"
     ]
    }
   ],
   "source": [
    "g_var = 100  # 전역변수(변수 선언과 할당을 동시에)\n",
    "def func3():\n",
    "    g_var = 200  # 지역변수(변수 선언과 할당) : 전역변수와 이름이 같아도 무관\n",
    "    print('지역변수 g_var :', g_var)\n",
    "func3()\n",
    "print('전역변수 g_var :', g_var)"
   ]
  },
  {
   "cell_type": "code",
   "execution_count": 19,
   "id": "f142ef9f",
   "metadata": {
    "ExecuteTime": {
     "end_time": "2024-11-08T05:36:40.145940Z",
     "start_time": "2024-11-08T05:36:40.110014Z"
    }
   },
   "outputs": [
    {
     "ename": "UnboundLocalError",
     "evalue": "local variable 'g_var' referenced before assignment",
     "output_type": "error",
     "traceback": [
      "\u001b[1;31m---------------------------------------------------------------------------\u001b[0m",
      "\u001b[1;31mUnboundLocalError\u001b[0m                         Traceback (most recent call last)",
      "Cell \u001b[1;32mIn[19], line 6\u001b[0m\n\u001b[0;32m      4\u001b[0m     \u001b[38;5;28mprint\u001b[39m(\u001b[38;5;124m'\u001b[39m\u001b[38;5;124m함수 안 g_var :\u001b[39m\u001b[38;5;124m'\u001b[39m, g_var)  \u001b[38;5;66;03m# 전역변수 출력\u001b[39;00m\n\u001b[0;32m      5\u001b[0m     g_var \u001b[38;5;241m=\u001b[39m \u001b[38;5;241m200\u001b[39m  \u001b[38;5;66;03m# 지역변수 \u001b[39;00m\n\u001b[1;32m----> 6\u001b[0m \u001b[43mfunc3\u001b[49m\u001b[43m(\u001b[49m\u001b[43m)\u001b[49m\n",
      "Cell \u001b[1;32mIn[19], line 4\u001b[0m, in \u001b[0;36mfunc3\u001b[1;34m()\u001b[0m\n\u001b[0;32m      3\u001b[0m \u001b[38;5;28;01mdef\u001b[39;00m \u001b[38;5;21mfunc3\u001b[39m():\n\u001b[1;32m----> 4\u001b[0m     \u001b[38;5;28mprint\u001b[39m(\u001b[38;5;124m'\u001b[39m\u001b[38;5;124m함수 안 g_var :\u001b[39m\u001b[38;5;124m'\u001b[39m, \u001b[43mg_var\u001b[49m)  \u001b[38;5;66;03m# 전역변수 출력\u001b[39;00m\n\u001b[0;32m      5\u001b[0m     g_var \u001b[38;5;241m=\u001b[39m \u001b[38;5;241m200\u001b[39m\n",
      "\u001b[1;31mUnboundLocalError\u001b[0m: local variable 'g_var' referenced before assignment"
     ]
    }
   ],
   "source": [
    "# 렉시컬 특성 : 함수 밖 전역변수를 함수 안에서 사용하고자 할 때\n",
    "g_var = 100  # 전역변수\n",
    "def func3():\n",
    "    print('함수 안 g_var :', g_var)  # 에러\n",
    "    g_var = 200  # 지역변수 \n",
    "func3()"
   ]
  },
  {
   "cell_type": "code",
   "execution_count": 21,
   "id": "2aa0c04b",
   "metadata": {
    "ExecuteTime": {
     "end_time": "2024-11-08T05:41:34.881295Z",
     "start_time": "2024-11-08T05:41:34.866505Z"
    }
   },
   "outputs": [
    {
     "name": "stdout",
     "output_type": "stream",
     "text": [
      "함수 안 g_var : 100\n",
      "함수 밖 g_var : 200\n"
     ]
    }
   ],
   "source": [
    "# 렉시컬 특성 : 함수 밖 전역변수를 함수 안에서 사용하고자 할 때\n",
    "g_var = 100  # 전역변수\n",
    "def func3():\n",
    "    global g_var  # func3 함수 내에서의 g_var는 전역변수를 사용\n",
    "    print('함수 안 g_var :', g_var)\n",
    "    g_var = 200  # 지역변수 \n",
    "func3()\n",
    "print('함수 밖 g_var :', g_var)"
   ]
  },
  {
   "cell_type": "markdown",
   "id": "70844a1f",
   "metadata": {},
   "source": [
    "## 1.4 값에 의한 호출\n",
    " - 함수에 인수로 전달되는 변수가 스칼라변수(문자, 숫자, 논리형)일 때"
   ]
  },
  {
   "cell_type": "code",
   "execution_count": 23,
   "id": "be71058d",
   "metadata": {
    "ExecuteTime": {
     "end_time": "2024-11-08T05:47:28.262531Z",
     "start_time": "2024-11-08T05:47:28.256533Z"
    }
   },
   "outputs": [
    {
     "data": {
      "text/plain": [
       "1717362059248"
      ]
     },
     "execution_count": 23,
     "metadata": {},
     "output_type": "execute_result"
    }
   ],
   "source": [
    "foo = 'a'  # 전역변수\n",
    "id(foo)  # 주소"
   ]
  },
  {
   "cell_type": "code",
   "execution_count": 29,
   "id": "61a89878",
   "metadata": {
    "ExecuteTime": {
     "end_time": "2024-11-08T05:52:38.466332Z",
     "start_time": "2024-11-08T05:52:38.461333Z"
    }
   },
   "outputs": [
    {
     "name": "stdout",
     "output_type": "stream",
     "text": [
      "Before : a 의 주소는  1717362059248\n",
      "After : aaa 의 주소는  1717431506800\n"
     ]
    }
   ],
   "source": [
    "def func1(f):  # 매개변수는 지역변수\n",
    "    print('Before :', f, '의 주소는 ', id(f))\n",
    "    f = f*3  # aaa\n",
    "    print('After :', f, '의 주소는 ', id(f))\n",
    "func1(foo)"
   ]
  },
  {
   "cell_type": "code",
   "execution_count": 33,
   "id": "6672fee6",
   "metadata": {
    "ExecuteTime": {
     "end_time": "2024-11-08T05:57:17.704034Z",
     "start_time": "2024-11-08T05:57:17.698037Z"
    }
   },
   "outputs": [
    {
     "name": "stdout",
     "output_type": "stream",
     "text": [
      "foo = a 의 주소는 1717362059248\n"
     ]
    }
   ],
   "source": [
    "print('foo =', foo, '의 주소는 ', id(foo))"
   ]
  },
  {
   "cell_type": "markdown",
   "id": "cd1a90a8",
   "metadata": {},
   "source": [
    "## 1.5 참조에 의한 호출\n",
    " - 함수에 인수로 전돨되는 변수가 리스트, 튜플, 셋, 딕셔너리, 객체일 경우"
   ]
  },
  {
   "cell_type": "code",
   "execution_count": 34,
   "id": "cd411b50",
   "metadata": {
    "ExecuteTime": {
     "end_time": "2024-11-08T05:57:29.952909Z",
     "start_time": "2024-11-08T05:57:29.945909Z"
    }
   },
   "outputs": [
    {
     "data": {
      "text/plain": [
       "1717485968768"
      ]
     },
     "execution_count": 34,
     "metadata": {},
     "output_type": "execute_result"
    }
   ],
   "source": [
    "L = [1, 2, 3, 4, 5]\n",
    "id(L)  # L의 주소"
   ]
  },
  {
   "cell_type": "code",
   "execution_count": 37,
   "id": "2a1d7eec",
   "metadata": {
    "ExecuteTime": {
     "end_time": "2024-11-08T05:59:17.896051Z",
     "start_time": "2024-11-08T05:59:17.889053Z"
    }
   },
   "outputs": [
    {
     "name": "stdout",
     "output_type": "stream",
     "text": [
      "before : [1, 2, 3, 4, 5] 의 주소는  1717485968768\n",
      "after : [1, 2, 3, 4, 5, 6] 의 주소는  1717485968768\n"
     ]
    }
   ],
   "source": [
    "def func2(f):  # 매개변수는 지역변수\n",
    "    print('before :', f, '의 주소는 ', id(f))\n",
    "    f.append(6)\n",
    "    print('after :', f, '의 주소는 ', id(f))\n",
    "func2(L)"
   ]
  },
  {
   "cell_type": "code",
   "execution_count": 38,
   "id": "cc829e4c",
   "metadata": {
    "ExecuteTime": {
     "end_time": "2024-11-08T06:01:41.134612Z",
     "start_time": "2024-11-08T06:01:41.128615Z"
    }
   },
   "outputs": [
    {
     "name": "stdout",
     "output_type": "stream",
     "text": [
      "L = [1, 2, 3, 4, 5, 6] 의 주소는  1717485968768\n"
     ]
    }
   ],
   "source": [
    "print('L =', L, '의 주소는 ', id(L))"
   ]
  },
  {
   "cell_type": "markdown",
   "id": "58d3cc43",
   "metadata": {},
   "source": [
    "## 1.6 함수의 이름 변경\n",
    " - Python : 함수형언어,객체지향언어"
   ]
  },
  {
   "cell_type": "code",
   "execution_count": 40,
   "id": "83e5f02b",
   "metadata": {
    "ExecuteTime": {
     "end_time": "2024-11-08T06:28:36.439014Z",
     "start_time": "2024-11-08T06:28:36.434016Z"
    }
   },
   "outputs": [
    {
     "name": "stdout",
     "output_type": "stream",
     "text": [
      "0 1 1 2 3 5 8 13 \n"
     ]
    }
   ],
   "source": [
    "fibonacci(20)"
   ]
  },
  {
   "cell_type": "code",
   "execution_count": 41,
   "id": "d608b8f7",
   "metadata": {
    "ExecuteTime": {
     "end_time": "2024-11-08T06:29:26.878068Z",
     "start_time": "2024-11-08T06:29:26.873070Z"
    }
   },
   "outputs": [],
   "source": [
    "fibo = fibonacci  # fibonacci 함수이름을 fibo로도 사용가능"
   ]
  },
  {
   "cell_type": "code",
   "execution_count": 42,
   "id": "4cf1c901",
   "metadata": {
    "ExecuteTime": {
     "end_time": "2024-11-08T06:29:27.636535Z",
     "start_time": "2024-11-08T06:29:27.632268Z"
    }
   },
   "outputs": [
    {
     "name": "stdout",
     "output_type": "stream",
     "text": [
      "0 1 1 2 3 5 8 13 \n"
     ]
    }
   ],
   "source": [
    "fibo(20)"
   ]
  },
  {
   "cell_type": "code",
   "execution_count": 46,
   "id": "d1f7bdb8",
   "metadata": {
    "ExecuteTime": {
     "end_time": "2024-11-08T06:30:35.086557Z",
     "start_time": "2024-11-08T06:30:35.071822Z"
    }
   },
   "outputs": [
    {
     "name": "stdout",
     "output_type": "stream",
     "text": [
      "0 1 1 2 3 5 8 13 \n"
     ]
    }
   ],
   "source": [
    "import random\n",
    "temp = random.randint\n",
    "fibo(20)"
   ]
  },
  {
   "cell_type": "markdown",
   "id": "487cb821",
   "metadata": {},
   "source": [
    "# 2절. 함수의 실행결과를 반환하는 return"
   ]
  },
  {
   "cell_type": "code",
   "execution_count": 48,
   "id": "83804246",
   "metadata": {
    "ExecuteTime": {
     "end_time": "2024-11-08T06:35:01.550151Z",
     "start_time": "2024-11-08T06:35:01.543153Z"
    }
   },
   "outputs": [],
   "source": [
    "def fibonacci_print(n):  # return하지 않고 print\n",
    "    \"\"\"\n",
    "    매개변수로 들어온 n값 미만의 피보나치 수열을 출력합니다.\n",
    "    ex. n = 10 : 0, 1, 1, 2, 3, 5, 8\n",
    "    \"\"\"\n",
    "    a, b = 0, 1\n",
    "    while a < n:\n",
    "        print(a, end=' ')\n",
    "        a, b = b, a+b\n",
    "    print()\n",
    "def fibonacci(n):\n",
    "    \"\"\"\n",
    "    매개변수로 들어온 n값 미만의 피보나치 수열을 리스트로 return\n",
    "    \"\"\"\n",
    "    result = []\n",
    "    a, b = 0, 1\n",
    "    while a < n:  # a>=n이면 while문 멈춤\n",
    "        result.append(a)\n",
    "        a, b = b, a+b\n",
    "    return result"
   ]
  },
  {
   "cell_type": "code",
   "execution_count": 51,
   "id": "ae99e9bb",
   "metadata": {
    "ExecuteTime": {
     "end_time": "2024-11-08T06:36:35.962960Z",
     "start_time": "2024-11-08T06:36:35.957961Z"
    }
   },
   "outputs": [
    {
     "name": "stdout",
     "output_type": "stream",
     "text": [
      "0 1 1 2 3 5 8 \n",
      "None\n",
      "<class 'NoneType'>\n"
     ]
    }
   ],
   "source": [
    "x = fibonacci_print(10)\n",
    "print(x)  # return이 없는 함수를 할당 받으면 None(결측치)을 반환\n",
    "print(type(x))"
   ]
  },
  {
   "cell_type": "code",
   "execution_count": 54,
   "id": "3d8bc7c5",
   "metadata": {
    "ExecuteTime": {
     "end_time": "2024-11-08T06:37:49.714277Z",
     "start_time": "2024-11-08T06:37:49.710279Z"
    }
   },
   "outputs": [
    {
     "name": "stdout",
     "output_type": "stream",
     "text": [
      "[0, 1, 1, 2, 3, 5, 8]\n",
      "<class 'list'>\n"
     ]
    }
   ],
   "source": [
    "x = fibonacci(10)\n",
    "print(x)\n",
    "print(type(x))"
   ]
  },
  {
   "cell_type": "markdown",
   "id": "5456546a",
   "metadata": {},
   "source": [
    "### 여러 개 값 return"
   ]
  },
  {
   "cell_type": "code",
   "execution_count": 55,
   "id": "940a9f99",
   "metadata": {
    "ExecuteTime": {
     "end_time": "2024-11-08T06:39:47.600304Z",
     "start_time": "2024-11-08T06:39:47.596298Z"
    }
   },
   "outputs": [],
   "source": [
    "def swap(a, b):\n",
    "    '''\n",
    "    매개변수의 순서를 바꿔서 return\n",
    "    '''\n",
    "    return b, a  # 여러 개의 값이 아닌 튜플 하나(괄호 생략됨)"
   ]
  },
  {
   "cell_type": "code",
   "execution_count": 58,
   "id": "707294d9",
   "metadata": {
    "ExecuteTime": {
     "end_time": "2024-11-08T06:41:01.553439Z",
     "start_time": "2024-11-08T06:41:01.547442Z"
    }
   },
   "outputs": [
    {
     "name": "stdout",
     "output_type": "stream",
     "text": [
      "함수 실행 전 x, y =  5 10\n",
      "함수 실행 후 x, y =  10 5\n"
     ]
    }
   ],
   "source": [
    "x, y = 5, 10\n",
    "print('함수 실행 전 x, y = ', x, y)\n",
    "x, y = swap(x, y)\n",
    "print('함수 실행 후 x, y = ', x, y)"
   ]
  },
  {
   "cell_type": "code",
   "execution_count": 60,
   "id": "5d413f65",
   "metadata": {
    "ExecuteTime": {
     "end_time": "2024-11-08T06:41:28.511434Z",
     "start_time": "2024-11-08T06:41:28.507303Z"
    }
   },
   "outputs": [
    {
     "name": "stdout",
     "output_type": "stream",
     "text": [
      "<class 'tuple'>\n",
      "(20, 10)\n"
     ]
    }
   ],
   "source": [
    "a = swap(10, 20)\n",
    "print(type(a))\n",
    "print(a)"
   ]
  },
  {
   "cell_type": "markdown",
   "id": "ef3ec307",
   "metadata": {},
   "source": [
    "# 3절. 함수의 매개변수 ★\n",
    "## 3.1 기본값을 갖는 매개변수"
   ]
  },
  {
   "cell_type": "code",
   "execution_count": 62,
   "id": "e05e2ee9",
   "metadata": {
    "ExecuteTime": {
     "end_time": "2024-11-08T06:46:47.309658Z",
     "start_time": "2024-11-08T06:46:47.304645Z"
    }
   },
   "outputs": [],
   "source": [
    "# 기본값을 갖는 매개변수 사용 시 순서인수가 뒤에 와야 함\n",
    "# (순서인수,기본값을갖는매개변수)\n",
    "def make_url(ip, port=80):  # port의 값이 들어오지 않으면 기본값을 사용하도록 함\n",
    "    return \"http://{}:{}\".format(ip, port)"
   ]
  },
  {
   "cell_type": "code",
   "execution_count": 65,
   "id": "61d7b3c7",
   "metadata": {
    "ExecuteTime": {
     "end_time": "2024-11-08T06:50:13.916238Z",
     "start_time": "2024-11-08T06:50:13.911237Z"
    }
   },
   "outputs": [
    {
     "name": "stdout",
     "output_type": "stream",
     "text": [
      "http://localhost:8090\n",
      "http://localhost:80\n",
      "http://www.naver.com:9090\n"
     ]
    }
   ],
   "source": [
    "print(make_url('localhost', 8090))  # 입력하면 입력값대로\n",
    "print(make_url('localhost'))        # 입력하지 않으면 기본값대로\n",
    "print(make_url(port=9090, ip='www.naver.com'))  # 변수 순서 변경 시 매개변수 이름까지 출력"
   ]
  },
  {
   "cell_type": "markdown",
   "id": "c2970a9c",
   "metadata": {},
   "source": [
    "## 3.2 기본변수를 갖는 매개변수\n",
    " - 기본변수가 스칼라변수(문자, 숫자, 논리형)일 때\n",
    " - 기본변수가 리스트, 셋, 딕셔너리 또는 객체일 때"
   ]
  },
  {
   "cell_type": "code",
   "execution_count": 69,
   "id": "56e578dd",
   "metadata": {
    "ExecuteTime": {
     "end_time": "2024-11-08T06:56:32.871911Z",
     "start_time": "2024-11-08T06:56:32.866914Z"
    }
   },
   "outputs": [],
   "source": [
    "i = 5\n",
    "# 기본변수가 스칼라변수일 때 : arg의 기본값은 함수가 정의되는 시점\n",
    "def func2(arg = i):  # i는 이미 5로 정의되어 있어서 ↓\n",
    "    print('arg =', arg)"
   ]
  },
  {
   "cell_type": "code",
   "execution_count": 72,
   "id": "9efdc738",
   "metadata": {
    "ExecuteTime": {
     "end_time": "2024-11-08T06:57:06.423476Z",
     "start_time": "2024-11-08T06:57:06.418477Z"
    }
   },
   "outputs": [
    {
     "name": "stdout",
     "output_type": "stream",
     "text": [
      "arg = 5\n"
     ]
    }
   ],
   "source": [
    "i = 10  # i를 바꿔도 func2()는 변하지 않음\n",
    "func2()"
   ]
  },
  {
   "cell_type": "code",
   "execution_count": 76,
   "id": "c6e713f9",
   "metadata": {
    "ExecuteTime": {
     "end_time": "2024-11-08T07:17:48.062664Z",
     "start_time": "2024-11-08T07:17:48.056666Z"
    }
   },
   "outputs": [
    {
     "name": "stdout",
     "output_type": "stream",
     "text": [
      "[10]\n",
      "list_ : [10]\n"
     ]
    }
   ],
   "source": [
    "# 기본변수가 리스트, 셋, 딕셔너리 또는 객체일 때 : 실행되는 시점으로 \n",
    "list_ = []\n",
    "def func3(a, L=list_):\n",
    "    L.append(a)\n",
    "    return L\n",
    "print(func3(10))  # 빈 리스트에 10 추가\n",
    "print('list_ :', list_)"
   ]
  },
  {
   "cell_type": "code",
   "execution_count": 77,
   "id": "d06f2b06",
   "metadata": {
    "ExecuteTime": {
     "end_time": "2024-11-08T07:19:15.493552Z",
     "start_time": "2024-11-08T07:19:15.487159Z"
    }
   },
   "outputs": [
    {
     "name": "stdout",
     "output_type": "stream",
     "text": [
      "[10, 20]\n",
      "list_ : [10, 20]\n"
     ]
    }
   ],
   "source": [
    "print(func3(20))  # 10이 추가된 리스트에 20 추가\n",
    "print('list_ :', list_)"
   ]
  },
  {
   "cell_type": "code",
   "execution_count": 78,
   "id": "8699ecee",
   "metadata": {
    "ExecuteTime": {
     "end_time": "2024-11-08T07:20:07.267557Z",
     "start_time": "2024-11-08T07:20:07.262559Z"
    }
   },
   "outputs": [
    {
     "name": "stdout",
     "output_type": "stream",
     "text": [
      "[10, 20, 30]\n",
      "list_ : [10, 20, 30]\n"
     ]
    }
   ],
   "source": [
    "print(func3(30))  # 20이 추가된 리스트에 30 추가\n",
    "print('list_ :', list_)"
   ]
  },
  {
   "cell_type": "code",
   "execution_count": 81,
   "id": "c79ede49",
   "metadata": {
    "ExecuteTime": {
     "end_time": "2024-11-08T07:21:51.324980Z",
     "start_time": "2024-11-08T07:21:51.316979Z"
    }
   },
   "outputs": [
    {
     "name": "stdout",
     "output_type": "stream",
     "text": [
      "[10]\n"
     ]
    },
    {
     "data": {
      "text/plain": [
       "[1, 2, 3, 10]"
      ]
     },
     "execution_count": 81,
     "metadata": {},
     "output_type": "execute_result"
    }
   ],
   "source": [
    "def func3(a, L=[]):  # 기본값\n",
    "    L.append(a)\n",
    "    return L\n",
    "print(func3(10))\n",
    "func3(10, [1, 2, 3,])"
   ]
  },
  {
   "cell_type": "markdown",
   "id": "dd6eb8da",
   "metadata": {},
   "source": [
    "## 3.3 순서인수, 키워드인수\n",
    " - 순서인수 : 함수에 정의된 순서대로 전달방식(이 기본값일 경우)\n",
    " ```\n",
    " ex.\n",
    " def fun(a, b):\n",
    "     return a*10 + b\n",
    " fun(a, b)\n",
    " ```\n",
    " - 키워드인수 : 인수의 이름을 명시적으로 전달방식\n",
    " ```\n",
    " # 변수에 기본값이 있는 키워드인수는 함수 정의 시에는 순서인수->키워드인수 순서를 지켜야하지만\n",
    "   호출 시 변수명을 명시하며 순서를 바꿀 수 있음\n",
    " def function명(변수명1, 변수명2, ... 변수명n=기본값):\n",
    "     \n",
    " ex.\n",
    " def fun(a, b):\n",
    "     return a*10 + b\n",
    " fun(b=3, a=4)  # 호출 시\n",
    " ```\n",
    " - 함수 정의(선언) 시 순서인수와 키워드인수가 같이 올 때는 순서인수 -> 키워드인수 순으로"
   ]
  },
  {
   "cell_type": "code",
   "execution_count": 83,
   "id": "0d76be8a",
   "metadata": {
    "ExecuteTime": {
     "end_time": "2024-11-08T07:31:42.662075Z",
     "start_time": "2024-11-08T07:31:42.658076Z"
    }
   },
   "outputs": [],
   "source": [
    "def func4(a, L=None):\n",
    "    if L is None:  # L == None은 부적합\n",
    "        L = []\n",
    "    L.append(a)\n",
    "    return L"
   ]
  },
  {
   "cell_type": "code",
   "execution_count": 87,
   "id": "388100d2",
   "metadata": {
    "ExecuteTime": {
     "end_time": "2024-11-08T07:35:06.205459Z",
     "start_time": "2024-11-08T07:35:06.199460Z"
    }
   },
   "outputs": [
    {
     "name": "stdout",
     "output_type": "stream",
     "text": [
      "[10]\n",
      "[10, 10]\n",
      "[20]\n",
      "[20]\n"
     ]
    }
   ],
   "source": [
    "lst = []\n",
    "print(func4(10, lst))\n",
    "print(func4(L=lst, a=10))\n",
    "print(func4(20))\n",
    "print(func4(20, None))"
   ]
  },
  {
   "cell_type": "markdown",
   "id": "7b0620ed",
   "metadata": {},
   "source": [
    "## 3.4 튜플 매개변수를 이용한 가변인수 설정"
   ]
  },
  {
   "cell_type": "code",
   "execution_count": 88,
   "id": "7d0815d1",
   "metadata": {
    "ExecuteTime": {
     "end_time": "2024-11-08T07:37:47.204631Z",
     "start_time": "2024-11-08T07:37:47.199633Z"
    }
   },
   "outputs": [],
   "source": [
    "def add(a, b):\n",
    "    return a+b\n",
    "def add(a, b, c):\n",
    "    return a+b+c"
   ]
  },
  {
   "cell_type": "code",
   "execution_count": 92,
   "id": "17f94d0f",
   "metadata": {
    "ExecuteTime": {
     "end_time": "2024-11-08T07:38:45.097997Z",
     "start_time": "2024-11-08T07:38:45.076905Z"
    }
   },
   "outputs": [
    {
     "ename": "TypeError",
     "evalue": "add() missing 1 required positional argument: 'c'",
     "output_type": "error",
     "traceback": [
      "\u001b[1;31m---------------------------------------------------------------------------\u001b[0m",
      "\u001b[1;31mTypeError\u001b[0m                                 Traceback (most recent call last)",
      "Cell \u001b[1;32mIn[92], line 1\u001b[0m\n\u001b[1;32m----> 1\u001b[0m \u001b[43madd\u001b[49m\u001b[43m(\u001b[49m\u001b[38;5;241;43m1\u001b[39;49m\u001b[43m,\u001b[49m\u001b[43m \u001b[49m\u001b[38;5;241;43m2\u001b[39;49m\u001b[43m)\u001b[49m\n",
      "\u001b[1;31mTypeError\u001b[0m: add() missing 1 required positional argument: 'c'"
     ]
    }
   ],
   "source": [
    "add(1, 2)  # def add(a, b, c)가 add함수를 덮어썼으므로 에러"
   ]
  },
  {
   "cell_type": "code",
   "execution_count": 93,
   "id": "529c514b",
   "metadata": {
    "ExecuteTime": {
     "end_time": "2024-11-08T07:38:47.145913Z",
     "start_time": "2024-11-08T07:38:47.139913Z"
    }
   },
   "outputs": [
    {
     "data": {
      "text/plain": [
       "6"
      ]
     },
     "execution_count": 93,
     "metadata": {},
     "output_type": "execute_result"
    }
   ],
   "source": [
    "add(1, 2, 3)"
   ]
  },
  {
   "cell_type": "code",
   "execution_count": 105,
   "id": "60817508",
   "metadata": {
    "ExecuteTime": {
     "end_time": "2024-11-08T07:50:36.195160Z",
     "start_time": "2024-11-08T07:50:36.191159Z"
    }
   },
   "outputs": [],
   "source": [
    "# args 앞의 * : args가 튜플로 전달(되도록 함)\n",
    "def add(*args):\n",
    "    '전달받은 매개변수들의 합을 return, 매개변수가 없는 경우 0을 return'\n",
    "    # print(args)\n",
    "    # 함수에 return이 없으면 print()로 감싸지 않고 출력\n",
    "    # print()로 출력시 None이 같이 출력됨(return값이 없으므로)    \n",
    "    sum = 0  # 누적변수\n",
    "    for num in args:\n",
    "        sum += num\n",
    "    return sum"
   ]
  },
  {
   "cell_type": "code",
   "execution_count": 106,
   "id": "fc3bcd3b",
   "metadata": {
    "ExecuteTime": {
     "end_time": "2024-11-08T07:50:37.909225Z",
     "start_time": "2024-11-08T07:50:37.902387Z"
    }
   },
   "outputs": [
    {
     "data": {
      "text/plain": [
       "0"
      ]
     },
     "execution_count": 106,
     "metadata": {},
     "output_type": "execute_result"
    }
   ],
   "source": [
    "# def add(*args):\n",
    "#     '전달받은 매개변수들의 합을 return, 매개변수가 없는 경우 0을 return'\n",
    "    # print(args)\n",
    "add(1)\n",
    "add(1, 2)\n",
    "add(1, 2, 3, 4, 5)\n",
    "add()"
   ]
  },
  {
   "cell_type": "code",
   "execution_count": 107,
   "id": "83c72b47",
   "metadata": {
    "ExecuteTime": {
     "end_time": "2024-11-08T07:50:38.884436Z",
     "start_time": "2024-11-08T07:50:38.878438Z"
    }
   },
   "outputs": [
    {
     "name": "stdout",
     "output_type": "stream",
     "text": [
      "1\n",
      "3\n",
      "15\n",
      "0\n"
     ]
    }
   ],
   "source": [
    "# def add(*args):\n",
    "#     '전달받은 매개변수들의 합을 return, 매개변수가 없는 경우 0을 return' \n",
    "#     sum = 0  # 누적변수\n",
    "#     for num in args:\n",
    "#         sum += num\n",
    "#     return sum\n",
    "print(add(1))\n",
    "print(add(1, 2))\n",
    "print(add(1, 2, 3, 4, 5))\n",
    "print(add())"
   ]
  },
  {
   "cell_type": "code",
   "execution_count": 110,
   "id": "4c6f9a80",
   "metadata": {
    "ExecuteTime": {
     "end_time": "2024-11-08T07:53:12.875052Z",
     "start_time": "2024-11-08T07:53:12.868625Z"
    }
   },
   "outputs": [
    {
     "name": "stdout",
     "output_type": "stream",
     "text": [
      "Java-Oracle-Web-Python\n"
     ]
    }
   ],
   "source": [
    "print('Java', 'Oracle', 'Web', 'Python', sep='-')"
   ]
  },
  {
   "cell_type": "code",
   "execution_count": 113,
   "id": "f47a98d1",
   "metadata": {
    "ExecuteTime": {
     "end_time": "2024-11-08T07:55:20.699423Z",
     "start_time": "2024-11-08T07:55:20.692426Z"
    }
   },
   "outputs": [
    {
     "data": {
      "text/plain": [
       "'Java-Oracle-Web-Python'"
      ]
     },
     "execution_count": 113,
     "metadata": {},
     "output_type": "execute_result"
    }
   ],
   "source": [
    "# print와 유사한 함수 만들기\n",
    "subject = ('Java', 'Oracle', 'Web', 'Python')\n",
    "'-'.join(subject)"
   ]
  },
  {
   "cell_type": "code",
   "execution_count": 117,
   "id": "5c40b183",
   "metadata": {
    "ExecuteTime": {
     "end_time": "2024-11-08T07:58:26.854735Z",
     "start_time": "2024-11-08T07:58:26.849737Z"
    }
   },
   "outputs": [],
   "source": [
    "def concat(*subject, sep):  # 튜플 매개변수\n",
    "# def concat(*subject):\n",
    "    # print(subject)\n",
    "    return sep.join(subject)"
   ]
  },
  {
   "cell_type": "code",
   "execution_count": 118,
   "id": "11c59db0",
   "metadata": {
    "ExecuteTime": {
     "end_time": "2024-11-08T07:58:27.990981Z",
     "start_time": "2024-11-08T07:58:27.960915Z"
    }
   },
   "outputs": [
    {
     "ename": "TypeError",
     "evalue": "concat() missing 1 required keyword-only argument: 'sep'",
     "output_type": "error",
     "traceback": [
      "\u001b[1;31m---------------------------------------------------------------------------\u001b[0m",
      "\u001b[1;31mTypeError\u001b[0m                                 Traceback (most recent call last)",
      "Cell \u001b[1;32mIn[118], line 1\u001b[0m\n\u001b[1;32m----> 1\u001b[0m \u001b[43mconcat\u001b[49m\u001b[43m(\u001b[49m\u001b[38;5;124;43m'\u001b[39;49m\u001b[38;5;124;43mJava\u001b[39;49m\u001b[38;5;124;43m'\u001b[39;49m\u001b[43m,\u001b[49m\u001b[43m \u001b[49m\u001b[38;5;124;43m'\u001b[39;49m\u001b[38;5;124;43mOracle\u001b[39;49m\u001b[38;5;124;43m'\u001b[39;49m\u001b[43m,\u001b[49m\u001b[43m \u001b[49m\u001b[38;5;124;43m'\u001b[39;49m\u001b[38;5;124;43mWeb\u001b[39;49m\u001b[38;5;124;43m'\u001b[39;49m\u001b[43m,\u001b[49m\u001b[43m \u001b[49m\u001b[38;5;124;43m'\u001b[39;49m\u001b[38;5;124;43mPython\u001b[39;49m\u001b[38;5;124;43m'\u001b[39;49m\u001b[43m,\u001b[49m\u001b[43m \u001b[49m\u001b[38;5;124;43m'\u001b[39;49m\u001b[38;5;124;43m ~ \u001b[39;49m\u001b[38;5;124;43m'\u001b[39;49m\u001b[43m)\u001b[49m\n",
      "\u001b[1;31mTypeError\u001b[0m: concat() missing 1 required keyword-only argument: 'sep'"
     ]
    }
   ],
   "source": [
    "concat('Java', 'Oracle', 'Web', 'Python', ' ~ ')  # 에러"
   ]
  },
  {
   "cell_type": "code",
   "execution_count": 119,
   "id": "d6934bf2",
   "metadata": {
    "ExecuteTime": {
     "end_time": "2024-11-08T08:00:19.127314Z",
     "start_time": "2024-11-08T08:00:19.121315Z"
    }
   },
   "outputs": [
    {
     "data": {
      "text/plain": [
       "'Java ~ Oracle ~ Web ~ Python'"
      ]
     },
     "execution_count": 119,
     "metadata": {},
     "output_type": "execute_result"
    }
   ],
   "source": [
    "# 해결책1 : 파라미터이름을 지정해서 호출\n",
    "concat('Java', 'Oracle', 'Web', 'Python', sep=' ~ ')"
   ]
  },
  {
   "cell_type": "code",
   "execution_count": 132,
   "id": "97a8b1ed",
   "metadata": {
    "ExecuteTime": {
     "end_time": "2024-11-08T08:19:41.987673Z",
     "start_time": "2024-11-08T08:19:41.982627Z"
    }
   },
   "outputs": [],
   "source": [
    "# 해결책2 : 기본값을 갖는 키워드인수 사용\n",
    "def concat(*subject, sep=' '):  # 튜플인수 -> 키워드인수\n",
    "    return sep.join(subject)"
   ]
  },
  {
   "cell_type": "code",
   "execution_count": 133,
   "id": "2a1e5f54",
   "metadata": {
    "ExecuteTime": {
     "end_time": "2024-11-08T08:19:43.028613Z",
     "start_time": "2024-11-08T08:19:43.021617Z"
    }
   },
   "outputs": [
    {
     "data": {
      "text/plain": [
       "'Java Oracle Web Python'"
      ]
     },
     "execution_count": 133,
     "metadata": {},
     "output_type": "execute_result"
    }
   ],
   "source": [
    "concat('Java', 'Oracle', 'Web', 'Python')"
   ]
  },
  {
   "cell_type": "code",
   "execution_count": 134,
   "id": "72b1e066",
   "metadata": {
    "ExecuteTime": {
     "end_time": "2024-11-08T08:19:43.731556Z",
     "start_time": "2024-11-08T08:19:43.725547Z"
    }
   },
   "outputs": [
    {
     "data": {
      "text/plain": [
       "'Java Oracle Web Python ~'"
      ]
     },
     "execution_count": 134,
     "metadata": {},
     "output_type": "execute_result"
    }
   ],
   "source": [
    "concat('Java', 'Oracle', 'Web', 'Python', '~')"
   ]
  },
  {
   "cell_type": "code",
   "execution_count": 135,
   "id": "44480c4d",
   "metadata": {
    "ExecuteTime": {
     "end_time": "2024-11-08T08:19:44.475717Z",
     "start_time": "2024-11-08T08:19:44.469719Z"
    }
   },
   "outputs": [
    {
     "data": {
      "text/plain": [
       "'Java~Oracle~Web~Python'"
      ]
     },
     "execution_count": 135,
     "metadata": {},
     "output_type": "execute_result"
    }
   ],
   "source": [
    "concat('Java', 'Oracle', 'Web', 'Python', sep='~')"
   ]
  },
  {
   "cell_type": "code",
   "execution_count": 136,
   "id": "80db74e3",
   "metadata": {
    "ExecuteTime": {
     "end_time": "2024-11-08T08:19:45.234570Z",
     "start_time": "2024-11-08T08:19:45.229769Z"
    }
   },
   "outputs": [],
   "source": [
    "# 해결책3 : sep을 순서인수로 앞으로 선언\n",
    "def concat(sep, *subject):\n",
    "    return sep.join(subject)"
   ]
  },
  {
   "cell_type": "code",
   "execution_count": 137,
   "id": "dc886e7c",
   "metadata": {
    "ExecuteTime": {
     "end_time": "2024-11-08T08:19:45.900273Z",
     "start_time": "2024-11-08T08:19:45.884525Z"
    }
   },
   "outputs": [
    {
     "data": {
      "text/plain": [
       "'Java~Oracle'"
      ]
     },
     "execution_count": 137,
     "metadata": {},
     "output_type": "execute_result"
    }
   ],
   "source": [
    "concat('~', 'Java', 'Oracle')"
   ]
  },
  {
   "cell_type": "markdown",
   "id": "b603ec2e",
   "metadata": {},
   "source": [
    "## 3.5 딕셔너리 매개변수\n",
    " - 딕셔너리인수 : 여러 개의 키워드인수를 딕셔너리 형태로 받아 가변 키워드인수로 처리"
   ]
  },
  {
   "cell_type": "code",
   "execution_count": 145,
   "id": "6c772dcf",
   "metadata": {
    "ExecuteTime": {
     "end_time": "2024-11-08T08:25:06.874298Z",
     "start_time": "2024-11-08T08:25:06.868000Z"
    }
   },
   "outputs": [],
   "source": [
    "def func5(**args):  # args를 딕셔너리로 전달받음\n",
    "    print(args)\n",
    "    print(type(args))\n",
    "    for key, value in args.items():\n",
    "        print('{}:{}'.format(key, value))"
   ]
  },
  {
   "cell_type": "code",
   "execution_count": 146,
   "id": "7823addc",
   "metadata": {
    "ExecuteTime": {
     "end_time": "2024-11-08T08:25:09.528495Z",
     "start_time": "2024-11-08T08:25:09.522499Z"
    }
   },
   "outputs": [
    {
     "name": "stdout",
     "output_type": "stream",
     "text": [
      "{'name': '홍길동', 'age': 33}\n",
      "<class 'dict'>\n",
      "name:홍길동\n",
      "age:33\n"
     ]
    }
   ],
   "source": [
    "func5(name = '홍길동', age = 33)  # 에러"
   ]
  },
  {
   "cell_type": "code",
   "execution_count": 148,
   "id": "4f424e3b",
   "metadata": {
    "ExecuteTime": {
     "end_time": "2024-11-08T08:26:24.744469Z",
     "start_time": "2024-11-08T08:26:24.740470Z"
    }
   },
   "outputs": [
    {
     "name": "stdout",
     "output_type": "stream",
     "text": [
      "{'name': '김길동', 'address': '서울', 'tel': '010-9999-9999'}\n",
      "<class 'dict'>\n",
      "name:김길동\n",
      "address:서울\n",
      "tel:010-9999-9999\n"
     ]
    }
   ],
   "source": [
    "func5(name = '김길동', address = '서울', tel = '010-9999-9999')"
   ]
  },
  {
   "cell_type": "markdown",
   "id": "43d38626",
   "metadata": {},
   "source": [
    "## 3.6 함수 정의 시 매개변수의 순서\n",
    " 순서인수 > 튜플인수(*) > 키워드인수(기본값) > 딕셔너리인수(**)"
   ]
  },
  {
   "cell_type": "code",
   "execution_count": 149,
   "id": "538289e4",
   "metadata": {
    "ExecuteTime": {
     "end_time": "2024-11-08T08:30:40.553072Z",
     "start_time": "2024-11-08T08:30:40.547071Z"
    }
   },
   "outputs": [],
   "source": [
    "# 순서인수 -> 튜플인수 -> 딕셔너리 인수\n",
    "def func6(a, b, *c, **d):\n",
    "    print('순서인수 a =', a)\n",
    "    print('순서인수 b =', b)\n",
    "    print('튜플인수 c =', c)\n",
    "    print('딕셔너리 d =', d)"
   ]
  },
  {
   "cell_type": "code",
   "execution_count": 152,
   "id": "359975a7",
   "metadata": {
    "ExecuteTime": {
     "end_time": "2024-11-08T08:31:24.510276Z",
     "start_time": "2024-11-08T08:31:24.489609Z"
    }
   },
   "outputs": [
    {
     "name": "stdout",
     "output_type": "stream",
     "text": [
      "순서인수 a = 10\n",
      "순서인수 b = 20\n",
      "튜플인수 c = (1, 2, 3, 4, 5, 6, 7)\n",
      "딕셔너리 d = {'name': 'kim', 'age': 30}\n"
     ]
    }
   ],
   "source": [
    "func6(10,20, 1,2,3,4,5,6,7, name='kim', age=30)"
   ]
  },
  {
   "cell_type": "code",
   "execution_count": 153,
   "id": "d7660017",
   "metadata": {
    "ExecuteTime": {
     "end_time": "2024-11-08T08:34:02.399483Z",
     "start_time": "2024-11-08T08:34:02.393485Z"
    }
   },
   "outputs": [],
   "source": [
    "# 순서인수 -> 튜플인수 -> 키워드인수 -> 딕셔너리 인수\n",
    "def func7(a, b, c, *d, e=10, **f):\n",
    "    print('순서인수 a =', a)\n",
    "    print('순서인수 b =', b)\n",
    "    print('순서인수 c =', c)\n",
    "    print('튜플인수 d =', d)  # 생략가능(없으면 빈 튜플)\n",
    "    print('키워드 e =', e)    # 생략가능(없으면 기본값)\n",
    "    print('딕셔너리 f =', f)  # 생략가능(없으면 빈 딕셔너리):키워드인수로 입력"
   ]
  },
  {
   "cell_type": "code",
   "execution_count": 154,
   "id": "e0f0f622",
   "metadata": {
    "ExecuteTime": {
     "end_time": "2024-11-08T08:34:39.853293Z",
     "start_time": "2024-11-08T08:34:39.847297Z"
    }
   },
   "outputs": [
    {
     "name": "stdout",
     "output_type": "stream",
     "text": [
      "순서인수 a = 10\n",
      "순서인수 b = 20\n",
      "순서인수 c = 30\n",
      "튜플인수 d = ()\n",
      "키워드 e = 10\n",
      "딕셔너리 f = {}\n"
     ]
    }
   ],
   "source": [
    "func7(10,20,30,)"
   ]
  },
  {
   "cell_type": "code",
   "execution_count": 155,
   "id": "a0968f78",
   "metadata": {
    "ExecuteTime": {
     "end_time": "2024-11-08T08:35:28.188368Z",
     "start_time": "2024-11-08T08:35:28.182370Z"
    }
   },
   "outputs": [
    {
     "name": "stdout",
     "output_type": "stream",
     "text": [
      "순서인수 a = 10\n",
      "순서인수 b = 20\n",
      "순서인수 c = 30\n",
      "튜플인수 d = ()\n",
      "키워드 e = 100\n",
      "딕셔너리 f = {}\n"
     ]
    }
   ],
   "source": [
    "func7(10,20,30, e=100)"
   ]
  },
  {
   "cell_type": "code",
   "execution_count": 156,
   "id": "e2e51500",
   "metadata": {
    "ExecuteTime": {
     "end_time": "2024-11-08T08:37:45.452225Z",
     "start_time": "2024-11-08T08:37:45.446227Z"
    }
   },
   "outputs": [
    {
     "name": "stdout",
     "output_type": "stream",
     "text": [
      "순서인수 a = 10\n",
      "순서인수 b = 20\n",
      "순서인수 c = 30\n",
      "튜플인수 d = (1, 2, 3, 4, 5)\n",
      "키워드 e = 100\n",
      "딕셔너리 f = {'shape': 'rect', 'width': 20, 'height': 30}\n"
     ]
    }
   ],
   "source": [
    "func7(10,20,30, 1,2,3,4,5, e=100, shape='rect', width=20, height=30)"
   ]
  },
  {
   "cell_type": "markdown",
   "id": "731ae79d",
   "metadata": {},
   "source": [
    "## 3.7 인수의 언패킹\n",
    "### 튜플인수 언패킹\n"
   ]
  },
  {
   "cell_type": "code",
   "execution_count": 157,
   "id": "6fab322d",
   "metadata": {
    "ExecuteTime": {
     "end_time": "2024-11-08T08:43:46.641289Z",
     "start_time": "2024-11-08T08:43:46.636292Z"
    }
   },
   "outputs": [],
   "source": [
    "def add(*args):\n",
    "    sum = 0\n",
    "    for num in args:\n",
    "        sum += num\n",
    "    return sum"
   ]
  },
  {
   "cell_type": "code",
   "execution_count": 159,
   "id": "d5ad7fa9",
   "metadata": {
    "ExecuteTime": {
     "end_time": "2024-11-08T08:44:55.497427Z",
     "start_time": "2024-11-08T08:44:55.490850Z"
    }
   },
   "outputs": [
    {
     "data": {
      "text/plain": [
       "15"
      ]
     },
     "execution_count": 159,
     "metadata": {},
     "output_type": "execute_result"
    }
   ],
   "source": [
    "add(1, 2, 3, 4, 5)"
   ]
  },
  {
   "cell_type": "code",
   "execution_count": 163,
   "id": "c55734ea",
   "metadata": {
    "ExecuteTime": {
     "end_time": "2024-11-08T08:49:18.312487Z",
     "start_time": "2024-11-08T08:49:18.296862Z"
    }
   },
   "outputs": [
    {
     "data": {
      "text/plain": [
       "15"
      ]
     },
     "execution_count": 163,
     "metadata": {},
     "output_type": "execute_result"
    }
   ],
   "source": [
    "numbers = (1, 2, 3, 4, 5, 6, 7, 8)\n",
    "add(*numbers)  # 튜플 언패킹 add(numbers[0], numbers[1], numbers[2], ...)와 같음\n",
    "add(numbers[0], numbers[1], numbers[2], numbers[3], numbers[4])"
   ]
  },
  {
   "cell_type": "code",
   "execution_count": 164,
   "id": "9df21cae",
   "metadata": {
    "ExecuteTime": {
     "end_time": "2024-11-08T08:49:55.949431Z",
     "start_time": "2024-11-08T08:49:55.943439Z"
    }
   },
   "outputs": [
    {
     "data": {
      "text/plain": [
       "6"
      ]
     },
     "execution_count": 164,
     "metadata": {},
     "output_type": "execute_result"
    }
   ],
   "source": [
    "# 리스트도 언패킹 가능\n",
    "num_lst = [1, 2, 3]\n",
    "add(*num_lst)"
   ]
  },
  {
   "cell_type": "markdown",
   "id": "1ad29ba2",
   "metadata": {},
   "source": [
    "### 딕셔너리인수 언패킹"
   ]
  },
  {
   "cell_type": "code",
   "execution_count": 165,
   "id": "ac12c3b0",
   "metadata": {
    "ExecuteTime": {
     "end_time": "2024-11-08T08:51:49.052644Z",
     "start_time": "2024-11-08T08:51:49.046519Z"
    }
   },
   "outputs": [
    {
     "name": "stdout",
     "output_type": "stream",
     "text": [
      "('shape', 'rect')\n",
      "('height', 30)\n",
      "('width', 40)\n"
     ]
    }
   ],
   "source": [
    "def func8(**data):\n",
    "    for item in data.items():\n",
    "        print(item)\n",
    "func8(shape='rect', height=30, width=40)"
   ]
  },
  {
   "cell_type": "code",
   "execution_count": 167,
   "id": "ada97b2e",
   "metadata": {
    "ExecuteTime": {
     "end_time": "2024-11-08T08:54:20.067312Z",
     "start_time": "2024-11-08T08:54:20.060232Z"
    }
   },
   "outputs": [
    {
     "data": {
      "text/plain": [
       "{'shape': 'triangle', 'height': 40, 'width': 30}"
      ]
     },
     "execution_count": 167,
     "metadata": {},
     "output_type": "execute_result"
    }
   ],
   "source": [
    "info = {'shape':'triangle', 'height':40, 'width':30}\n",
    "info"
   ]
  },
  {
   "cell_type": "code",
   "execution_count": 168,
   "id": "fe13f917",
   "metadata": {
    "ExecuteTime": {
     "end_time": "2024-11-08T08:55:12.153076Z",
     "start_time": "2024-11-08T08:55:12.148800Z"
    }
   },
   "outputs": [
    {
     "name": "stdout",
     "output_type": "stream",
     "text": [
      "('shape', 'triangle')\n",
      "('height', 40)\n",
      "('width', 30)\n"
     ]
    }
   ],
   "source": [
    "func8(**info)  # 딕셔너리 언패킹"
   ]
  },
  {
   "cell_type": "markdown",
   "id": "6233eb07",
   "metadata": {},
   "source": [
    "# 4절. 람다식\n",
    " - return 한 줄짜리 작은 익명함수\n",
    " ## 4.1 람다식 연습"
   ]
  },
  {
   "cell_type": "code",
   "execution_count": 2,
   "id": "b4dbb4b6",
   "metadata": {
    "ExecuteTime": {
     "end_time": "2024-11-11T00:36:34.385998Z",
     "start_time": "2024-11-11T00:36:34.379974Z"
    }
   },
   "outputs": [
    {
     "data": {
      "text/plain": [
       "8"
      ]
     },
     "execution_count": 2,
     "metadata": {},
     "output_type": "execute_result"
    }
   ],
   "source": [
    "def add(a, b):\n",
    "    return a+b\n",
    "add(3, 5)"
   ]
  },
  {
   "cell_type": "code",
   "execution_count": 4,
   "id": "f8a307ba",
   "metadata": {
    "ExecuteTime": {
     "end_time": "2024-11-11T00:39:09.282309Z",
     "start_time": "2024-11-11T00:39:09.276309Z"
    }
   },
   "outputs": [
    {
     "data": {
      "text/plain": [
       "30"
      ]
     },
     "execution_count": 4,
     "metadata": {},
     "output_type": "execute_result"
    }
   ],
   "source": [
    "add2 = lambda a, b : a+b\n",
    "add2(10, 20)\n",
    "# add2 = add\n",
    "# add2(10, 20)"
   ]
  },
  {
   "cell_type": "code",
   "execution_count": 6,
   "id": "899ba6c4",
   "metadata": {
    "ExecuteTime": {
     "end_time": "2024-11-11T00:40:28.432762Z",
     "start_time": "2024-11-11T00:40:28.426764Z"
    }
   },
   "outputs": [
    {
     "name": "stdout",
     "output_type": "stream",
     "text": [
      "<class 'function'> <class 'function'>\n"
     ]
    }
   ],
   "source": [
    "print(type(add), type(add2))"
   ]
  },
  {
   "cell_type": "code",
   "execution_count": 7,
   "id": "81e187d9",
   "metadata": {
    "ExecuteTime": {
     "end_time": "2024-11-11T00:41:14.199377Z",
     "start_time": "2024-11-11T00:41:14.192382Z"
    }
   },
   "outputs": [
    {
     "data": {
      "text/plain": [
       "8"
      ]
     },
     "execution_count": 7,
     "metadata": {},
     "output_type": "execute_result"
    }
   ],
   "source": [
    "(lambda a, b : a+b)(3, 5)"
   ]
  },
  {
   "cell_type": "code",
   "execution_count": 12,
   "id": "ee38f554",
   "metadata": {
    "ExecuteTime": {
     "end_time": "2024-11-11T00:47:52.730015Z",
     "start_time": "2024-11-11T00:47:52.725017Z"
    }
   },
   "outputs": [],
   "source": [
    "# 매개변수 a와 b의 차이를 return(양수로)\n",
    "def diff(a, b):\n",
    "    if a >= b:\n",
    "        return a-b\n",
    "    else:\n",
    "        return b-a"
   ]
  },
  {
   "cell_type": "code",
   "execution_count": 13,
   "id": "c1a8b9ab",
   "metadata": {
    "ExecuteTime": {
     "end_time": "2024-11-11T00:47:54.609687Z",
     "start_time": "2024-11-11T00:47:54.595187Z"
    }
   },
   "outputs": [],
   "source": [
    "diff2 = lambda a, b : a-b if a >= b else b-a"
   ]
  },
  {
   "cell_type": "code",
   "execution_count": 14,
   "id": "3420df28",
   "metadata": {
    "ExecuteTime": {
     "end_time": "2024-11-11T00:47:55.546255Z",
     "start_time": "2024-11-11T00:47:55.539882Z"
    }
   },
   "outputs": [
    {
     "name": "stdout",
     "output_type": "stream",
     "text": [
      "2 2 2 2\n",
      "<class 'function'> <class 'function'>\n"
     ]
    }
   ],
   "source": [
    "print(diff(3, 5), diff(5, 3), diff2(3, 5), diff2(5, 3))\n",
    "print(type(diff), type(diff2))"
   ]
  },
  {
   "cell_type": "code",
   "execution_count": 15,
   "id": "3b074791",
   "metadata": {
    "ExecuteTime": {
     "end_time": "2024-11-11T00:50:49.947431Z",
     "start_time": "2024-11-11T00:50:49.942431Z"
    }
   },
   "outputs": [],
   "source": [
    "# 매개변수로 잔액을 받아 잔액이 음수면 'negative'라고 출력하고, 양수면 잔액을 출력하시오\n",
    "# return 타입이 같지 않아도 됨\n",
    "def get_balance(balance):  # balance : 지역변수\n",
    "    if balance >= 0:\n",
    "        return balance\n",
    "    else:\n",
    "        return 'negative'"
   ]
  },
  {
   "cell_type": "code",
   "execution_count": 18,
   "id": "9da04453",
   "metadata": {
    "ExecuteTime": {
     "end_time": "2024-11-11T00:51:45.953488Z",
     "start_time": "2024-11-11T00:51:45.946492Z"
    }
   },
   "outputs": [
    {
     "data": {
      "text/plain": [
       "100"
      ]
     },
     "execution_count": 18,
     "metadata": {},
     "output_type": "execute_result"
    }
   ],
   "source": [
    "get_balance = lambda balance : balance if balance >= 0 else 'negative'\n",
    "get_balance(100)"
   ]
  },
  {
   "cell_type": "code",
   "execution_count": 20,
   "id": "20be4b9f",
   "metadata": {
    "ExecuteTime": {
     "end_time": "2024-11-11T00:55:15.671074Z",
     "start_time": "2024-11-11T00:55:15.665077Z"
    }
   },
   "outputs": [
    {
     "data": {
      "text/plain": [
       "'negative'"
      ]
     },
     "execution_count": 20,
     "metadata": {},
     "output_type": "execute_result"
    }
   ],
   "source": [
    "balance = -500  # balance : 전역변수\n",
    "if balance >= 0:\n",
    "    result = balance\n",
    "else:\n",
    "    result = 'negative'\n",
    "result"
   ]
  },
  {
   "cell_type": "code",
   "execution_count": 27,
   "id": "26a11b79",
   "metadata": {
    "ExecuteTime": {
     "end_time": "2024-11-11T00:58:10.790481Z",
     "start_time": "2024-11-11T00:58:10.785481Z"
    }
   },
   "outputs": [
    {
     "data": {
      "text/plain": [
       "'negative'"
      ]
     },
     "execution_count": 27,
     "metadata": {},
     "output_type": "execute_result"
    }
   ],
   "source": [
    "balance = -500\n",
    "balance if balance >= 0 else 'negative'\n",
    "# balance >= 0 ? balance : 'negative' (자바 3항연산자)"
   ]
  },
  {
   "cell_type": "code",
   "execution_count": 34,
   "id": "9060e0cc",
   "metadata": {
    "ExecuteTime": {
     "end_time": "2024-11-11T01:02:35.676449Z",
     "start_time": "2024-11-11T01:02:35.669461Z"
    }
   },
   "outputs": [
    {
     "data": {
      "text/plain": [
       "(0, -1)"
      ]
     },
     "execution_count": 34,
     "metadata": {},
     "output_type": "execute_result"
    }
   ],
   "source": [
    "# 아래의 함수도 람다식으로 바꿀 수 있음\n",
    "# lst = [1, 2, 3]  리스트\n",
    "# lst.index(2)  # 2의 위치를 반환. 없는 데이터는 에러.(safe_index를 사용)\n",
    "# v = (1, 2, 3)  튜플\n",
    "# v.index(2)  # 2의 위치를 반환. 없는 데이터는 에러.\n",
    "v = (1, 2, 3)\n",
    "def safe_index(vector, item):\n",
    "    if item in vector:\n",
    "        return vector.index(item)\n",
    "    else:\n",
    "        return -1\n",
    "safe_index(v, 1), safe_index(v, 4)"
   ]
  },
  {
   "cell_type": "code",
   "execution_count": null,
   "id": "41e01ed4",
   "metadata": {},
   "outputs": [],
   "source": [
    "# 람다식이 필요 없을 때\n",
    "def safe_index(vector, item):\n",
    "    return vector.index(item) if item in vector else -1"
   ]
  },
  {
   "cell_type": "code",
   "execution_count": 39,
   "id": "aff478fb",
   "metadata": {
    "ExecuteTime": {
     "end_time": "2024-11-11T01:08:43.491820Z",
     "start_time": "2024-11-11T01:08:43.483823Z"
    }
   },
   "outputs": [
    {
     "data": {
      "text/plain": [
       "(0, -1)"
      ]
     },
     "execution_count": 39,
     "metadata": {},
     "output_type": "execute_result"
    }
   ],
   "source": [
    "safe_index = lambda vector, item : vector.index(item) if item in vector else -1\n",
    "safe_index([1, 2, 3, 4], 1), safe_index((1, 2, 3), 5)\n",
    "# 1의 index : 0               5의 index : -1(없음)"
   ]
  },
  {
   "cell_type": "code",
   "execution_count": 48,
   "id": "a809bfaa",
   "metadata": {
    "ExecuteTime": {
     "end_time": "2024-11-11T01:12:59.574999Z",
     "start_time": "2024-11-11T01:12:59.567896Z"
    }
   },
   "outputs": [
    {
     "data": {
      "text/plain": [
       "('짝수', '홀수')"
      ]
     },
     "execution_count": 48,
     "metadata": {},
     "output_type": "execute_result"
    }
   ],
   "source": [
    "# 매개변수로 들어온 값이 짝수면 '짝수'를, 홀수면 '홀수'를 return하는 lambda\n",
    "even_odd_chk = lambda num : '짝수' if num%2 == 0 else '홀수'\n",
    "even_odd_chk(2), even_odd_chk(-1)"
   ]
  },
  {
   "cell_type": "code",
   "execution_count": 52,
   "id": "ba918ec2",
   "metadata": {
    "ExecuteTime": {
     "end_time": "2024-11-11T01:15:35.053380Z",
     "start_time": "2024-11-11T01:15:35.046804Z"
    }
   },
   "outputs": [
    {
     "data": {
      "text/plain": [
       "('B등급', '재시험')"
      ]
     },
     "execution_count": 52,
     "metadata": {},
     "output_type": "execute_result"
    }
   ],
   "source": [
    "def levelChk(score):\n",
    "    if score >= 80:\n",
    "        return 'A등급'\n",
    "    elif score >= 60:\n",
    "        return 'B등급'\n",
    "    else:\n",
    "        return '재시험'\n",
    "levelChk(65), levelChk(-9)"
   ]
  },
  {
   "cell_type": "code",
   "execution_count": 59,
   "id": "f2667df8",
   "metadata": {
    "ExecuteTime": {
     "end_time": "2024-11-11T01:19:27.539491Z",
     "start_time": "2024-11-11T01:19:27.531583Z"
    }
   },
   "outputs": [
    {
     "data": {
      "text/plain": [
       "('A등급', '재시험')"
      ]
     },
     "execution_count": 59,
     "metadata": {},
     "output_type": "execute_result"
    }
   ],
   "source": [
    "levelChk = lambda score : 'A등급' if score >= 80 else('B등급' if score >= 60 else '재시험')\n",
    "levelChk(90), levelChk(55)"
   ]
  },
  {
   "cell_type": "code",
   "execution_count": 73,
   "id": "e88074c1",
   "metadata": {
    "ExecuteTime": {
     "end_time": "2024-11-11T02:03:12.566826Z",
     "start_time": "2024-11-11T02:03:12.557829Z"
    }
   },
   "outputs": [
    {
     "data": {
      "text/plain": [
       "('유효하지 않은 점수 등급', 'A', 'B', 'C', 'D', 'F')"
      ]
     },
     "execution_count": 73,
     "metadata": {},
     "output_type": "execute_result"
    }
   ],
   "source": [
    "def score_grade(score):\n",
    "    if 90 <= score <= 100:\n",
    "        return 'A'\n",
    "    elif 80 <= score < 90:\n",
    "        return 'B'\n",
    "    elif 70 <= score < 80:\n",
    "        return 'C'\n",
    "    elif 60 <= score < 70:\n",
    "        return 'D'\n",
    "    elif 0 <= score < 60:\n",
    "        return 'F'\n",
    "    else:\n",
    "        return '유효하지 않은 점수 등급'\n",
    "score_grade(101), score_grade(95), score_grade(85), score_grade(75), score_grade(65), score_grade(55)"
   ]
  },
  {
   "cell_type": "code",
   "execution_count": 75,
   "id": "a8920372",
   "metadata": {
    "ExecuteTime": {
     "end_time": "2024-11-11T02:05:08.507580Z",
     "start_time": "2024-11-11T02:05:08.491954Z"
    }
   },
   "outputs": [
    {
     "data": {
      "text/plain": [
       "('유효하지 않은 점수 등급', 'A', 'B ', 'C ', 'D ', 'F ')"
      ]
     },
     "execution_count": 75,
     "metadata": {},
     "output_type": "execute_result"
    }
   ],
   "source": [
    "score_grade = lambda score : 'A' if 90 <= score <= 100 \\\n",
    "                                    else 'B ' if 80 <= score < 90 \\\n",
    "                                    else 'C ' if 70 <= score < 80 \\\n",
    "                                    else 'D ' if 60 <= score < 70 \\\n",
    "                                    else 'F ' if 0 <= score < 60 \\\n",
    "                                    else '유효하지 않은 점수 등급'\n",
    "score_grade(101), score_grade(95), score_grade(85), score_grade(75), score_grade(65), score_grade(55)"
   ]
  },
  {
   "cell_type": "code",
   "execution_count": 91,
   "id": "3be84b04",
   "metadata": {
    "ExecuteTime": {
     "end_time": "2024-11-11T02:33:05.125937Z",
     "start_time": "2024-11-11T02:33:05.116554Z"
    }
   },
   "outputs": [
    {
     "name": "stdout",
     "output_type": "stream",
     "text": [
      "[12, 8, 20, 5.0, 100]\n",
      "[100, 102]\n"
     ]
    }
   ],
   "source": [
    "'''\n",
    "i = 10\n",
    "j = 20\n",
    "lst = [i, j]\n",
    "lst\n",
    "가능\n",
    "'''\n",
    "add = lambda a, b : a+b\n",
    "sub = lambda a, b : a-b\n",
    "mul = lambda a, b : a*b\n",
    "div = lambda a, b : a/b if b != 0 else '두 번째 인자가 0으로는 나눌 수 없습니다'\n",
    "add(3, 0), div(3, 0)\n",
    "\n",
    "# operations : list안이 function인 변수\n",
    "operations = [add, sub, mul, div]\n",
    "\n",
    "# 매개변수로 함수 list가 옴\n",
    "def act_operations(a, b, operations=operations):\n",
    "    result = []\n",
    "    for op in operations:\n",
    "        result.append(op(a, b))\n",
    "    return result\n",
    "operations.append(lambda a, b : a**b)\n",
    "# def pow(a, b):\n",
    "#     return a**b  # a의 b승  위 람다식과 같음\n",
    "print(act_operations(10, 2))\n",
    "print(act_operations(10, 2, [lambda a, b : a**b, lambda a, b : a*10+b]))"
   ]
  },
  {
   "cell_type": "code",
   "execution_count": 87,
   "id": "fe1ff9b1",
   "metadata": {
    "ExecuteTime": {
     "end_time": "2024-11-11T02:22:29.870377Z",
     "start_time": "2024-11-11T02:22:29.865529Z"
    }
   },
   "outputs": [
    {
     "name": "stdout",
     "output_type": "stream",
     "text": [
      "[1, 4, 9]\n",
      "[2]\n"
     ]
    }
   ],
   "source": [
    "# 리스트 컴프리헨션\n",
    "lst = [1, 2, 3]\n",
    "print([l**2 for l in lst])\n",
    "print([l for l in lst if l%2 == 0])"
   ]
  },
  {
   "cell_type": "code",
   "execution_count": 105,
   "id": "89642114",
   "metadata": {
    "ExecuteTime": {
     "end_time": "2024-11-11T02:41:42.286465Z",
     "start_time": "2024-11-11T02:41:42.279471Z"
    }
   },
   "outputs": [
    {
     "name": "stdout",
     "output_type": "stream",
     "text": [
      "[7, 25]\n",
      "[7, 3, 10, 2.5, 25]\n"
     ]
    }
   ],
   "source": [
    "# actact_operations의 함수를 리스트 컴프리헨션을 이용하여 람다식으로 구현\n",
    "operations = [add, sub, mul, div]\n",
    "def act_operations(a, b, operations=operations):\n",
    "    return [op(a, b) for op in operations]  # 리스트 컴프리헨션\n",
    "act_operations = lambda a, b, operations=operations : [op(a, b) for op in operations]  # 람다식\n",
    "\n",
    "print(act_operations(5, 2, [lambda a, b : a+b, lambda a, b : a**b]))\n",
    "\n",
    "operations.append(lambda a, b : a**b)  # 함수의 매개변수(인수)에 람다식 사용\n",
    "print(act_operations(5, 2))"
   ]
  },
  {
   "cell_type": "markdown",
   "id": "c959d65c",
   "metadata": {
    "ExecuteTime": {
     "end_time": "2024-11-11T02:45:38.310576Z",
     "start_time": "2024-11-11T02:45:38.305727Z"
    }
   },
   "source": [
    "## 4.2 함수의 매개변수(인수)에 람다식 사용"
   ]
  },
  {
   "cell_type": "code",
   "execution_count": null,
   "id": "e2b03b23",
   "metadata": {},
   "outputs": [],
   "source": [
    "map_template = lambda func, L=[] : [func(l) for l in L]"
   ]
  },
  {
   "cell_type": "code",
   "execution_count": 108,
   "id": "a9f70685",
   "metadata": {
    "ExecuteTime": {
     "end_time": "2024-11-11T02:54:19.785516Z",
     "start_time": "2024-11-11T02:54:19.780006Z"
    }
   },
   "outputs": [],
   "source": [
    "def map_template(func, L=[]):\n",
    "    result = []\n",
    "    for item in L:  # 매개변수로 받은 L의 item을 순차적으로\n",
    "        result.append(func(item))  # func을 적용해서 result에 append\n",
    "    return result"
   ]
  },
  {
   "cell_type": "code",
   "execution_count": 110,
   "id": "e59a8fed",
   "metadata": {
    "ExecuteTime": {
     "end_time": "2024-11-11T02:59:39.172773Z",
     "start_time": "2024-11-11T02:59:39.165774Z"
    }
   },
   "outputs": [
    {
     "data": {
      "text/plain": [
       "[2, 4, 6, 8, 10, 12, 14, 16]"
      ]
     },
     "execution_count": 110,
     "metadata": {},
     "output_type": "execute_result"
    }
   ],
   "source": [
    "list_data = [1, 2, 3, 4, 5, 6, 7, 8]\n",
    "# def x_2(x):\n",
    "#     return x*2\n",
    "# map_template(x_2, list_data)\n",
    "map_template(lambda x : x*2, list_data)"
   ]
  },
  {
   "cell_type": "code",
   "execution_count": 112,
   "id": "1abe461a",
   "metadata": {
    "ExecuteTime": {
     "end_time": "2024-11-11T03:01:41.674453Z",
     "start_time": "2024-11-11T03:01:41.668463Z"
    }
   },
   "outputs": [
    {
     "data": {
      "text/plain": [
       "[2, 4, 6, 8, 10, 12, 14, 16]"
      ]
     },
     "execution_count": 112,
     "metadata": {},
     "output_type": "execute_result"
    }
   ],
   "source": [
    "# 리스크 컴프리헨션\n",
    "[x*2 for x in list_data]"
   ]
  },
  {
   "cell_type": "code",
   "execution_count": 123,
   "id": "3c085e62",
   "metadata": {
    "ExecuteTime": {
     "end_time": "2024-11-11T03:06:45.129057Z",
     "start_time": "2024-11-11T03:06:45.123060Z"
    }
   },
   "outputs": [
    {
     "name": "stdout",
     "output_type": "stream",
     "text": [
      "<map object at 0x0000022B8AE84AF0>\n",
      "[2, 4, 6, 8, 10, 12, 14, 16]\n"
     ]
    }
   ],
   "source": [
    "# map : 내부적으로 list처럼 저장되어 있는 vector 타입(for문에 사용가능)\n",
    "print(map(lambda x : x*2, list_data))  \n",
    "print(list(map(lambda x : x*2, list_data)))"
   ]
  },
  {
   "cell_type": "code",
   "execution_count": 122,
   "id": "37bec7bd",
   "metadata": {
    "ExecuteTime": {
     "end_time": "2024-11-11T03:05:22.551457Z",
     "start_time": "2024-11-11T03:05:22.546366Z"
    }
   },
   "outputs": [
    {
     "name": "stdout",
     "output_type": "stream",
     "text": [
      "<enumerate object at 0x0000022B8AE8E300>\n",
      "[(0, 1), (1, 2), (2, 3), (3, 4), (4, 5), (5, 6), (6, 7), (7, 8)]\n"
     ]
    }
   ],
   "source": [
    "print(enumerate(list_data))\n",
    "print(list(enumerate(list_data)))"
   ]
  },
  {
   "cell_type": "code",
   "execution_count": 119,
   "id": "9cd0c983",
   "metadata": {
    "ExecuteTime": {
     "end_time": "2024-11-11T03:04:56.649811Z",
     "start_time": "2024-11-11T03:04:56.642816Z"
    }
   },
   "outputs": [
    {
     "name": "stdout",
     "output_type": "stream",
     "text": [
      "2 4 6 8 10 12 14 16 "
     ]
    }
   ],
   "source": [
    "for x in map(lambda x : x*2, list_data):\n",
    "    print(x, end=' ')"
   ]
  },
  {
   "cell_type": "code",
   "execution_count": 140,
   "id": "3e8afefc",
   "metadata": {
    "ExecuteTime": {
     "end_time": "2024-11-11T03:21:10.073391Z",
     "start_time": "2024-11-11T03:21:10.067393Z"
    }
   },
   "outputs": [],
   "source": [
    "def filter_template(func, L=[]):\n",
    "    result = []\n",
    "    for item in L:\n",
    "        if func(item):\n",
    "            result.append(item)\n",
    "    return result"
   ]
  },
  {
   "cell_type": "code",
   "execution_count": 126,
   "id": "d2e280b9",
   "metadata": {
    "ExecuteTime": {
     "end_time": "2024-11-11T03:14:12.336554Z",
     "start_time": "2024-11-11T03:14:12.327559Z"
    }
   },
   "outputs": [
    {
     "data": {
      "text/plain": [
       "[2, 4, 6, 8]"
      ]
     },
     "execution_count": 126,
     "metadata": {},
     "output_type": "execute_result"
    }
   ],
   "source": [
    "def evenChk(value):\n",
    "    return value%2 == 0\n",
    "#     if value%2 == 0:\n",
    "#         return True\n",
    "#     else:\n",
    "#         return False\n",
    "list_data = [1, 2, 3, 4, 5, 6, 7, 8]\n",
    "# filter_template(evenChk, list_data)\n",
    "filter_template(lambda x : x%2 == 0, L=list_data)"
   ]
  },
  {
   "cell_type": "code",
   "execution_count": 132,
   "id": "6d8804fd",
   "metadata": {
    "ExecuteTime": {
     "end_time": "2024-11-11T03:16:13.805463Z",
     "start_time": "2024-11-11T03:16:13.799465Z"
    }
   },
   "outputs": [
    {
     "name": "stdout",
     "output_type": "stream",
     "text": [
      "<filter object at 0x0000022B8ADBD2A0>\n",
      "[2, 4, 6, 8]\n",
      "2 4 6 8 "
     ]
    }
   ],
   "source": [
    "print(filter(lambda x : x%2 == 0, list_data))\n",
    "print(list(filter(lambda x : x%2 == 0, list_data)))\n",
    "# filter 함수 이용\n",
    "for item in filter(lambda x : x%2 == 0, list_data):\n",
    "    print(item, end=' ')"
   ]
  },
  {
   "cell_type": "code",
   "execution_count": 138,
   "id": "d9f98b10",
   "metadata": {
    "ExecuteTime": {
     "end_time": "2024-11-11T03:18:01.482153Z",
     "start_time": "2024-11-11T03:18:01.476156Z"
    }
   },
   "outputs": [
    {
     "name": "stdout",
     "output_type": "stream",
     "text": [
      "[1, 2, 3, 4, 5, 6, 7, 8]\n"
     ]
    },
    {
     "data": {
      "text/plain": [
       "[2, 4, 6, 8]"
      ]
     },
     "execution_count": 138,
     "metadata": {},
     "output_type": "execute_result"
    }
   ],
   "source": [
    "# 리스트 컴프리헨션 이용\n",
    "print([x for x in list_data])\n",
    "[x for x in list_data if x%2 == 0]"
   ]
  },
  {
   "cell_type": "code",
   "execution_count": 193,
   "id": "992512eb",
   "metadata": {
    "ExecuteTime": {
     "end_time": "2024-11-11T03:38:50.413959Z",
     "start_time": "2024-11-11T03:38:50.408963Z"
    }
   },
   "outputs": [],
   "source": [
    "# 예제1 : 다음 리스트에서 소수점이하가 0인 수만 추출하시오\n",
    "# 1. filter함수, 람다식 이용 / 2. filter_template 이용 / 3. 리스트 컴프리헨션 이용\n",
    "L = [1, 1.2, 1.5, 2, 3.0, 10.5, 100]\n",
    "\n",
    "# 정수인지 확인 (x가 실제 정수이면 에러)\n",
    "# x = 2.0\n",
    "# print(x.is_integer())\n",
    "\n",
    "# 결과 [1, 2, 3.0, 100]"
   ]
  },
  {
   "cell_type": "code",
   "execution_count": 194,
   "id": "71de6b90",
   "metadata": {
    "ExecuteTime": {
     "end_time": "2024-11-11T03:38:51.559342Z",
     "start_time": "2024-11-11T03:38:51.551343Z"
    }
   },
   "outputs": [
    {
     "name": "stdout",
     "output_type": "stream",
     "text": [
      "[1, 2, 3.0, 100]\n",
      "[1, 2, 3.0, 100]\n",
      "[1, 2, 3.0, 100]\n",
      "1 2 3.0 100 "
     ]
    }
   ],
   "source": [
    "# 1. filter함수, 람다식 이용\n",
    "print(list(filter(lambda x: x%1.0 == 0, L)))\n",
    "print(list(filter(lambda x: x == round(x), L)))\n",
    "print(list(filter(lambda x: x == x//1, L)))\n",
    "\n",
    "for item in filter(lambda x: x%1.0 == 0, L):\n",
    "    print(item, end=' ')"
   ]
  },
  {
   "cell_type": "code",
   "execution_count": 195,
   "id": "d8fce88f",
   "metadata": {
    "ExecuteTime": {
     "end_time": "2024-11-11T03:38:52.284413Z",
     "start_time": "2024-11-11T03:38:52.279411Z"
    }
   },
   "outputs": [
    {
     "name": "stdout",
     "output_type": "stream",
     "text": [
      "[1, 2, 3.0, 100]\n"
     ]
    }
   ],
   "source": [
    "# 2. filter_template 이용\n",
    "print(filter_template(lambda x: x%1.0 == 0, L))"
   ]
  },
  {
   "cell_type": "code",
   "execution_count": 196,
   "id": "31d9df55",
   "metadata": {
    "ExecuteTime": {
     "end_time": "2024-11-11T03:38:52.924611Z",
     "start_time": "2024-11-11T03:38:52.919614Z"
    }
   },
   "outputs": [
    {
     "name": "stdout",
     "output_type": "stream",
     "text": [
      "[1, 2, 3.0, 100]\n"
     ]
    }
   ],
   "source": [
    "# 3. 리스트 컴프리헨션 이용\n",
    "print([x for x in L if x%1.0 == 0])"
   ]
  },
  {
   "cell_type": "markdown",
   "id": "6553869e",
   "metadata": {},
   "source": [
    "**람다식은 함수가 실행할 문장이 한 문장의 return문일 경우만 사용 가능**<br>\n",
    "**람다식이 가장 많이 사용되는 곳은 함수의 인수로 전달될 때** 나 함수를 return할 때"
   ]
  },
  {
   "cell_type": "code",
   "execution_count": 204,
   "id": "e81da4e2",
   "metadata": {
    "ExecuteTime": {
     "end_time": "2024-11-11T03:44:46.525267Z",
     "start_time": "2024-11-11T03:44:46.518269Z"
    }
   },
   "outputs": [
    {
     "data": {
      "text/plain": [
       "[10, 6, 3, 1]"
      ]
     },
     "execution_count": 204,
     "metadata": {},
     "output_type": "execute_result"
    }
   ],
   "source": [
    "# 예제2 : 베스트셀러 list(딕셔너리 리스트)를 가격 순으로 sort\n",
    "p = [10, 3, 6, 1]\n",
    "p.sort(reverse=True)  # 내림차순 정렬\n",
    "p"
   ]
  },
  {
   "cell_type": "code",
   "execution_count": 210,
   "id": "539c2f73",
   "metadata": {
    "ExecuteTime": {
     "end_time": "2024-11-11T03:46:56.053513Z",
     "start_time": "2024-11-11T03:46:56.047699Z"
    }
   },
   "outputs": [
    {
     "data": {
      "text/plain": [
       "[(1, 'one'), (2, 'two'), (3, 'three'), (4, 'four')]"
      ]
     },
     "execution_count": 210,
     "metadata": {},
     "output_type": "execute_result"
    }
   ],
   "source": [
    "pairs = [(2, 'two'), (1, 'one'), (4, 'four'), (3, 'three')]  # 튜플인 리스트\n",
    "pairs.sort()  # 튜플의 0번 째로 정렬됨\n",
    "pairs"
   ]
  },
  {
   "cell_type": "code",
   "execution_count": 214,
   "id": "b926163e",
   "metadata": {
    "ExecuteTime": {
     "end_time": "2024-11-11T03:48:16.099912Z",
     "start_time": "2024-11-11T03:48:16.092915Z"
    }
   },
   "outputs": [
    {
     "data": {
      "text/plain": [
       "[(4, 'four'), (1, 'one'), (3, 'three'), (2, 'two')]"
      ]
     },
     "execution_count": 214,
     "metadata": {},
     "output_type": "execute_result"
    }
   ],
   "source": [
    "pairs.sort(key=lambda pair : pair[1])\n",
    "# pairs.sort(key=lambda pair : pair[1], reverse=True)  # z부터 정렬\n",
    "pairs  # 1번 째로 abc순으로 정렬"
   ]
  },
  {
   "cell_type": "code",
   "execution_count": 231,
   "id": "84ca2c63",
   "metadata": {
    "ExecuteTime": {
     "end_time": "2024-11-11T03:56:17.925245Z",
     "start_time": "2024-11-11T03:56:17.920138Z"
    }
   },
   "outputs": [],
   "source": [
    "students = [{'name' : '홍', 'score' : 99},\n",
    "            {'name' : '김', 'score' : 22},\n",
    "            {'name' : '이', 'score' : 77},\n",
    "            {'name' : '박', 'score' : 66}]"
   ]
  },
  {
   "cell_type": "code",
   "execution_count": 236,
   "id": "ce633b03",
   "metadata": {
    "ExecuteTime": {
     "end_time": "2024-11-11T03:56:37.303377Z",
     "start_time": "2024-11-11T03:56:37.296381Z"
    }
   },
   "outputs": [
    {
     "data": {
      "text/plain": [
       "[{'name': '김', 'score': 22},\n",
       " {'name': '박', 'score': 66},\n",
       " {'name': '이', 'score': 77},\n",
       " {'name': '홍', 'score': 99}]"
      ]
     },
     "execution_count": 236,
     "metadata": {},
     "output_type": "execute_result"
    }
   ],
   "source": [
    "# students를 이름 ㄱㄴㄷ순 정렬\n",
    "students.sort(key=lambda student : student['name'])\n",
    "students"
   ]
  },
  {
   "cell_type": "code",
   "execution_count": 238,
   "id": "da1213fb",
   "metadata": {
    "ExecuteTime": {
     "end_time": "2024-11-11T03:57:03.741202Z",
     "start_time": "2024-11-11T03:57:03.734905Z"
    }
   },
   "outputs": [
    {
     "data": {
      "text/plain": [
       "[{'name': '김', 'score': 22},\n",
       " {'name': '박', 'score': 66},\n",
       " {'name': '이', 'score': 77},\n",
       " {'name': '홍', 'score': 99}]"
      ]
     },
     "execution_count": 238,
     "metadata": {},
     "output_type": "execute_result"
    }
   ],
   "source": [
    "# students를 score순으로 오름차순 정렬\n",
    "students.sort(key=lambda data : data['score'])\n",
    "students"
   ]
  },
  {
   "cell_type": "code",
   "execution_count": 245,
   "id": "690181b3",
   "metadata": {
    "ExecuteTime": {
     "end_time": "2024-11-11T03:58:51.310870Z",
     "start_time": "2024-11-11T03:58:51.304389Z"
    }
   },
   "outputs": [
    {
     "data": {
      "text/plain": [
       "[{'name': '홍', 'score': 99},\n",
       " {'name': '이', 'score': 77},\n",
       " {'name': '박', 'score': 66},\n",
       " {'name': '김', 'score': 22}]"
      ]
     },
     "execution_count": 245,
     "metadata": {},
     "output_type": "execute_result"
    }
   ],
   "source": [
    "# students를 score순으로 내림차순 정렬\n",
    "# students.sort(key=lambda data : data['score'], reverse=True)\n",
    "students.sort(key=lambda data : data.get('score'), reverse=True)\n",
    "students"
   ]
  },
  {
   "cell_type": "code",
   "execution_count": 253,
   "id": "4ef56ce4",
   "metadata": {
    "ExecuteTime": {
     "end_time": "2024-11-11T04:07:41.577965Z",
     "start_time": "2024-11-11T04:07:41.572422Z"
    }
   },
   "outputs": [],
   "source": [
    "books = [{'no' : 1, 'title' : '소년이 온다', 'writer' : '한강', 'price' : '13,500'},\n",
    "         {'no' : 3, 'title' : '트럼프2.0시대', 'writer' : '박종훈', 'price' : '18,000'},\n",
    "         {'no' : 2, 'title' : '트렌트코리아2025', 'writer' : '김난도', 'price' : '9,100'},\n",
    "         {'no' : 4, 'title' : '가격잘못', 'writer' : '홍길동', 'price' : 'ㅁ'},\n",
    "         {'no' : 5, 'title' : '가격없음', 'writer' : '신길동', 'price' : 'None예정'}]"
   ]
  },
  {
   "cell_type": "code",
   "execution_count": 254,
   "id": "07990141",
   "metadata": {
    "ExecuteTime": {
     "end_time": "2024-11-11T04:07:42.303850Z",
     "start_time": "2024-11-11T04:07:42.295854Z"
    }
   },
   "outputs": [
    {
     "data": {
      "text/plain": [
       "[{'no': 1, 'title': '소년이 온다', 'writer': '한강', 'price': '13,500'},\n",
       " {'no': 2, 'title': '트렌트코리아2025', 'writer': '김난도', 'price': '9,100'},\n",
       " {'no': 3, 'title': '트럼프2.0시대', 'writer': '박종훈', 'price': '18,000'},\n",
       " {'no': 4, 'title': '가격잘못', 'writer': '홍길동', 'price': 'ㅁ'},\n",
       " {'no': 5, 'title': '가격없음', 'writer': '신길동', 'price': 'None예정'}]"
      ]
     },
     "execution_count": 254,
     "metadata": {},
     "output_type": "execute_result"
    }
   ],
   "source": [
    "# no순으로 정렬\n",
    "books.sort(key=lambda book : book['no'])\n",
    "books"
   ]
  },
  {
   "cell_type": "code",
   "execution_count": 255,
   "id": "10d9fbdd",
   "metadata": {
    "ExecuteTime": {
     "end_time": "2024-11-11T04:07:43.415445Z",
     "start_time": "2024-11-11T04:07:43.408958Z"
    }
   },
   "outputs": [
    {
     "data": {
      "text/plain": [
       "[{'no': 5, 'title': '가격없음', 'writer': '신길동', 'price': 'None예정'},\n",
       " {'no': 4, 'title': '가격잘못', 'writer': '홍길동', 'price': 'ㅁ'},\n",
       " {'no': 1, 'title': '소년이 온다', 'writer': '한강', 'price': '13,500'},\n",
       " {'no': 3, 'title': '트럼프2.0시대', 'writer': '박종훈', 'price': '18,000'},\n",
       " {'no': 2, 'title': '트렌트코리아2025', 'writer': '김난도', 'price': '9,100'}]"
      ]
     },
     "execution_count": 255,
     "metadata": {},
     "output_type": "execute_result"
    }
   ],
   "source": [
    "# title순으로 정렬\n",
    "books.sort(key=lambda book : book['title'])\n",
    "books"
   ]
  },
  {
   "cell_type": "code",
   "execution_count": 256,
   "id": "34492762",
   "metadata": {
    "ExecuteTime": {
     "end_time": "2024-11-11T04:07:44.135186Z",
     "start_time": "2024-11-11T04:07:44.128188Z"
    }
   },
   "outputs": [
    {
     "data": {
      "text/plain": [
       "[{'no': 2, 'title': '트렌트코리아2025', 'writer': '김난도', 'price': '9,100'},\n",
       " {'no': 3, 'title': '트럼프2.0시대', 'writer': '박종훈', 'price': '18,000'},\n",
       " {'no': 5, 'title': '가격없음', 'writer': '신길동', 'price': 'None예정'},\n",
       " {'no': 1, 'title': '소년이 온다', 'writer': '한강', 'price': '13,500'},\n",
       " {'no': 4, 'title': '가격잘못', 'writer': '홍길동', 'price': 'ㅁ'}]"
      ]
     },
     "execution_count": 256,
     "metadata": {},
     "output_type": "execute_result"
    }
   ],
   "source": [
    "# writer순으로 정렬\n",
    "books.sort(key=lambda book : book['writer'])\n",
    "books"
   ]
  },
  {
   "cell_type": "code",
   "execution_count": 258,
   "id": "57f00aeb",
   "metadata": {
    "ExecuteTime": {
     "end_time": "2024-11-11T04:08:36.935603Z",
     "start_time": "2024-11-11T04:08:36.929607Z"
    }
   },
   "outputs": [
    {
     "data": {
      "text/plain": [
       "[{'no': 4, 'title': '가격잘못', 'writer': '홍길동', 'price': 'ㅁ'},\n",
       " {'no': 5, 'title': '가격없음', 'writer': '신길동', 'price': 'None예정'},\n",
       " {'no': 2, 'title': '트렌트코리아2025', 'writer': '김난도', 'price': '9,100'},\n",
       " {'no': 3, 'title': '트럼프2.0시대', 'writer': '박종훈', 'price': '18,000'},\n",
       " {'no': 1, 'title': '소년이 온다', 'writer': '한강', 'price': '13,500'}]"
      ]
     },
     "execution_count": 258,
     "metadata": {},
     "output_type": "execute_result"
    }
   ],
   "source": [
    "# price 기준으로 정렬\n",
    "books.sort(key=lambda book : book['price'], reverse=True)\n",
    "books"
   ]
  },
  {
   "cell_type": "code",
   "execution_count": 263,
   "id": "be51398b",
   "metadata": {
    "ExecuteTime": {
     "end_time": "2024-11-11T05:11:14.404652Z",
     "start_time": "2024-11-11T05:11:14.397655Z"
    }
   },
   "outputs": [],
   "source": [
    "books = [{'no' : 1, 'title' : '소년이 온다', 'writer' : '한강', 'price' : '13,500'},\n",
    "         {'no' : 3, 'title' : '트럼프2.0시대', 'writer' : '박종훈', 'price' : '18,000'},\n",
    "         {'no' : 2, 'title' : '트렌트코리아2025', 'writer' : '김난도', 'price' : '9,100'},\n",
    "         {'no' : 4, 'title' : '가격잘못', 'writer' : '홍길동', 'price' : 'ㅁ'},\n",
    "         {'no' : 6, 'title' : '가격숫자', 'writer' : '신길동', 'price' : 9200},\n",
    "         {'no' : 5, 'title' : '가격없음', 'writer' : '이길동'}]"
   ]
  },
  {
   "cell_type": "code",
   "execution_count": 262,
   "id": "9b9ec097",
   "metadata": {
    "ExecuteTime": {
     "end_time": "2024-11-11T05:11:12.838942Z",
     "start_time": "2024-11-11T05:11:12.806136Z"
    }
   },
   "outputs": [
    {
     "ename": "KeyError",
     "evalue": "'price'",
     "output_type": "error",
     "traceback": [
      "\u001b[1;31m---------------------------------------------------------------------------\u001b[0m",
      "\u001b[1;31mKeyError\u001b[0m                                  Traceback (most recent call last)",
      "Cell \u001b[1;32mIn[262], line 1\u001b[0m\n\u001b[1;32m----> 1\u001b[0m \u001b[43mbooks\u001b[49m\u001b[38;5;241;43m.\u001b[39;49m\u001b[43msort\u001b[49m\u001b[43m(\u001b[49m\u001b[43mkey\u001b[49m\u001b[38;5;241;43m=\u001b[39;49m\u001b[38;5;28;43;01mlambda\u001b[39;49;00m\u001b[43m \u001b[49m\u001b[43mbook\u001b[49m\u001b[43m \u001b[49m\u001b[43m:\u001b[49m\u001b[43m \u001b[49m\u001b[43mbook\u001b[49m\u001b[43m[\u001b[49m\u001b[38;5;124;43m'\u001b[39;49m\u001b[38;5;124;43mprice\u001b[39;49m\u001b[38;5;124;43m'\u001b[39;49m\u001b[43m]\u001b[49m\u001b[43m)\u001b[49m\n\u001b[0;32m      2\u001b[0m books\n",
      "Cell \u001b[1;32mIn[262], line 1\u001b[0m, in \u001b[0;36m<lambda>\u001b[1;34m(book)\u001b[0m\n\u001b[1;32m----> 1\u001b[0m books\u001b[38;5;241m.\u001b[39msort(key\u001b[38;5;241m=\u001b[39m\u001b[38;5;28;01mlambda\u001b[39;00m book : \u001b[43mbook\u001b[49m\u001b[43m[\u001b[49m\u001b[38;5;124;43m'\u001b[39;49m\u001b[38;5;124;43mprice\u001b[39;49m\u001b[38;5;124;43m'\u001b[39;49m\u001b[43m]\u001b[49m)\n\u001b[0;32m      2\u001b[0m books\n",
      "\u001b[1;31mKeyError\u001b[0m: 'price'"
     ]
    }
   ],
   "source": [
    "books.sort(key=lambda book : book['price'])\n",
    "books"
   ]
  },
  {
   "cell_type": "code",
   "execution_count": 261,
   "id": "03cc7aa4",
   "metadata": {
    "ExecuteTime": {
     "end_time": "2024-11-11T05:11:11.588980Z",
     "start_time": "2024-11-11T05:11:11.583981Z"
    }
   },
   "outputs": [],
   "source": [
    "# sort : 정렬하고자 하는 값의 타입이 일치해야 함"
   ]
  },
  {
   "cell_type": "code",
   "execution_count": 290,
   "id": "d9c62946",
   "metadata": {
    "ExecuteTime": {
     "end_time": "2024-11-11T05:32:50.163155Z",
     "start_time": "2024-11-11T05:32:50.157157Z"
    }
   },
   "outputs": [],
   "source": [
    "# & : 논리연산, 비트연산, 집합연산이 모두 가능하므로, \n",
    "#     좌항이 False여도 우항이 숫자면 비트연산을 수행해야 하므로 우항을 수행함\n",
    "# and : 논리연산의 역할만 하여, 좌항이 False면 우항을 수행하지 않음\n",
    "def parse_int(price):\n",
    "    # print(type(price))\n",
    "    if isinstance(price, str) and price.replace(',', '').isdigit():\n",
    "                                # price가 str인지 and price가 숫자문자인지\n",
    "        return int(price.replace(',',''))\n",
    "    elif isinstance(price, int):\n",
    "        return price\n",
    "    else:\n",
    "        return 0"
   ]
  },
  {
   "cell_type": "code",
   "execution_count": 291,
   "id": "41ded65d",
   "metadata": {
    "ExecuteTime": {
     "end_time": "2024-11-11T05:32:50.501770Z",
     "start_time": "2024-11-11T05:32:50.487691Z"
    }
   },
   "outputs": [
    {
     "name": "stdout",
     "output_type": "stream",
     "text": [
      "0\n",
      "0\n",
      "9200\n",
      "13500\n"
     ]
    }
   ],
   "source": [
    "print(parse_int('ㅁ'))  # 0\n",
    "print(parse_int(None))  # 0\n",
    "print(parse_int(9200))  # 9200\n",
    "print(parse_int('13,500'))  # 13,500\n",
    "# 결과를 다 숫자(가격)로 return"
   ]
  },
  {
   "cell_type": "code",
   "execution_count": 438,
   "id": "050773ca",
   "metadata": {
    "ExecuteTime": {
     "end_time": "2024-11-11T06:59:44.468540Z",
     "start_time": "2024-11-11T06:59:44.452911Z"
    }
   },
   "outputs": [],
   "source": [
    "books = [{'no' : 1, 'title' : '소년이 온다', 'writer' : '한강', 'price' : '13,500'},\n",
    "         {'no' : 3, 'title' : '트럼프2.0시대', 'writer' : '박종훈', 'price' : '18,000'},\n",
    "         {'no' : 2, 'title' : '트렌트코리아2025', 'writer' : '김난도', 'price' : '9,100'},\n",
    "         {'no' : 4, 'title' : '가격잘못', 'writer' : '홍길동', 'price' : 'ㅁ'},\n",
    "         {'no' : 6, 'title' : '가격숫자', 'writer' : '신길동', 'price' : 9200},\n",
    "         {'no' : 5, 'title' : '가격없음', 'writer' : '이길동'}]"
   ]
  },
  {
   "cell_type": "code",
   "execution_count": 422,
   "id": "0a6af9dd",
   "metadata": {
    "ExecuteTime": {
     "end_time": "2024-11-11T06:56:30.992473Z",
     "start_time": "2024-11-11T06:56:30.984477Z"
    }
   },
   "outputs": [
    {
     "data": {
      "text/plain": [
       "[13500, 18000, 9100, 0, 9200, 0]"
      ]
     },
     "execution_count": 422,
     "metadata": {},
     "output_type": "execute_result"
    }
   ],
   "source": [
    "testFunc = lambda book : int(book.get('price').replace(',','')) \\\n",
    "            if isinstance(book.get('price'), str) \\\n",
    "                and book.get('price').replace(',', '').isdigit() \\\n",
    "            else (book.get('price') if isinstance(book.get('price'), int) \\\n",
    "                  else 0)\n",
    "\n",
    "[testFunc(book) for book in books]"
   ]
  },
  {
   "cell_type": "code",
   "execution_count": 442,
   "id": "a4a25fd7",
   "metadata": {
    "ExecuteTime": {
     "end_time": "2024-11-11T07:00:32.653986Z",
     "start_time": "2024-11-11T07:00:32.644015Z"
    }
   },
   "outputs": [
    {
     "data": {
      "text/plain": [
       "[{'no': 3, 'title': '트럼프2.0시대', 'writer': '박종훈', 'price': '18,000'},\n",
       " {'no': 1, 'title': '소년이 온다', 'writer': '한강', 'price': '13,500'},\n",
       " {'no': 6, 'title': '가격숫자', 'writer': '신길동', 'price': 9200},\n",
       " {'no': 2, 'title': '트렌트코리아2025', 'writer': '김난도', 'price': '9,100'},\n",
       " {'no': 4, 'title': '가격잘못', 'writer': '홍길동', 'price': 'ㅁ'},\n",
       " {'no': 5, 'title': '가격없음', 'writer': '이길동'}]"
      ]
     },
     "execution_count": 442,
     "metadata": {},
     "output_type": "execute_result"
    }
   ],
   "source": [
    "copyBooks = books.copy()\n",
    "copyBooks.sort(key=lambda book : int(book.get('price').replace(',','')) \\\n",
    "              if isinstance(book.get('price'), str) \\\n",
    "                  and book.get('price').replace(',', '').isdigit() \\\n",
    "               else (book.get('price') \\\n",
    "                     if isinstance(book.get('price'), int) else 0),\n",
    "               reverse=True\n",
    "              )\n",
    "copyBooks"
   ]
  },
  {
   "cell_type": "code",
   "execution_count": 424,
   "id": "a4f867e0",
   "metadata": {
    "ExecuteTime": {
     "end_time": "2024-11-11T06:56:32.280064Z",
     "start_time": "2024-11-11T06:56:32.274069Z"
    }
   },
   "outputs": [
    {
     "data": {
      "text/plain": [
       "\"\\n{'no': 3, 'title': '트럼프', 'writer': '박', 'price': '8,000'}를 매개변수로 받아\\n{'no': 3, 'title': '트럼프', 'writer': '박', 'price': 8000}로 return\\n\\n\""
      ]
     },
     "execution_count": 424,
     "metadata": {},
     "output_type": "execute_result"
    }
   ],
   "source": [
    "# map(func, books)\n",
    "'''\n",
    "{'no': 3, 'title': '트럼프', 'writer': '박', 'price': '8,000'}를 매개변수로 받아\n",
    "{'no': 3, 'title': '트럼프', 'writer': '박', 'price': 8000}로 return\n",
    "\n",
    "'''"
   ]
  },
  {
   "cell_type": "code",
   "execution_count": 425,
   "id": "5a0c7b7d",
   "metadata": {
    "ExecuteTime": {
     "end_time": "2024-11-11T06:56:35.063008Z",
     "start_time": "2024-11-11T06:56:35.056011Z"
    }
   },
   "outputs": [],
   "source": [
    "def price_parse_int(book):\n",
    "    # book.get('price')를 점수 가격으로 바꾸기(방법1)\n",
    "    if isinstance(book.get('price'), str) and book.get('price').replace(',', '').isdigit():\n",
    "        book['price'] = int(book['price'].replace(',', ''))\n",
    "    elif isinstance(book.get('price'), int):\n",
    "        pass\n",
    "    else:\n",
    "        book['price'] = 0\n",
    "    return book\n",
    "    # book2 복사본을 만들어 books.get('price')를 정수 가격으로 바꾸기(방법2)\n",
    "    # return book2"
   ]
  },
  {
   "cell_type": "code",
   "execution_count": 426,
   "id": "f57dde54",
   "metadata": {
    "ExecuteTime": {
     "end_time": "2024-11-11T06:56:35.583803Z",
     "start_time": "2024-11-11T06:56:35.568175Z"
    }
   },
   "outputs": [
    {
     "data": {
      "text/plain": [
       "{'no': 3, 'title': '트럼프', 'writer': '박', 'price': 0}"
      ]
     },
     "execution_count": 426,
     "metadata": {},
     "output_type": "execute_result"
    }
   ],
   "source": [
    "bookTemp = {'no': 3, 'title': '트럼프', 'writer': '박'}\n",
    "price_parse_int(bookTemp)"
   ]
  },
  {
   "cell_type": "code",
   "execution_count": 427,
   "id": "96f06b03",
   "metadata": {
    "ExecuteTime": {
     "end_time": "2024-11-11T06:56:35.900663Z",
     "start_time": "2024-11-11T06:56:35.885037Z"
    }
   },
   "outputs": [
    {
     "data": {
      "text/plain": [
       "{'no': 3, 'title': '트럼프', 'writer': '박', 'price': 0}"
      ]
     },
     "execution_count": 427,
     "metadata": {},
     "output_type": "execute_result"
    }
   ],
   "source": [
    "bookTemp"
   ]
  },
  {
   "cell_type": "code",
   "execution_count": 428,
   "id": "7f6b5103",
   "metadata": {
    "ExecuteTime": {
     "end_time": "2024-11-11T06:56:38.334559Z",
     "start_time": "2024-11-11T06:56:38.328528Z"
    }
   },
   "outputs": [],
   "source": [
    "def price_parse_int(book):\n",
    "    return {'no' : book.get('no'),\n",
    "             'title' : book.get('title'),\n",
    "             'writer' : book.get('writer'),\n",
    "             'price' : int(book['price'].replace(',', '')) \\\n",
    "                       if isinstance(book.get('price'), str) \\\n",
    "                           and book.get('price').replace(',', '').isdigit() \\\n",
    "                       else (book.get('price') if isinstance(book.get('price'), int) else 0)}"
   ]
  },
  {
   "cell_type": "code",
   "execution_count": 429,
   "id": "eef4146a",
   "metadata": {
    "ExecuteTime": {
     "end_time": "2024-11-11T06:56:38.522831Z",
     "start_time": "2024-11-11T06:56:38.507475Z"
    }
   },
   "outputs": [],
   "source": [
    "# 위를 람다식으로\n",
    "price_parse_in = lambda book : \\\n",
    "                    {'no' : book.get('no'),\n",
    "                     'title' : book.get('title'),\n",
    "                     'writer' : book.get('writer'),\n",
    "                     'price' : int(book['price'].replace(',', '')) \\\n",
    "                           if isinstance(book.get('price'), str) \\\n",
    "                               and book.get('price').replace(',', '').isdigit() \\\n",
    "                           else (book.get('price') if isinstance(book.get('price'), int) else 0)\n",
    "                    }"
   ]
  },
  {
   "cell_type": "code",
   "execution_count": 430,
   "id": "1dfe96ed",
   "metadata": {
    "ExecuteTime": {
     "end_time": "2024-11-11T06:56:38.817869Z",
     "start_time": "2024-11-11T06:56:38.801210Z"
    }
   },
   "outputs": [
    {
     "data": {
      "text/plain": [
       "{'no': 3, 'title': '트럼프', 'writer': '박', 'price': 0}"
      ]
     },
     "execution_count": 430,
     "metadata": {},
     "output_type": "execute_result"
    }
   ],
   "source": [
    "bookTemp = {'no': 3, 'title': '트럼프', 'writer': '박'}\n",
    "returnBook = price_parse_int(bookTemp)\n",
    "returnBook"
   ]
  },
  {
   "cell_type": "code",
   "execution_count": 431,
   "id": "a16d2384",
   "metadata": {
    "ExecuteTime": {
     "end_time": "2024-11-11T06:56:39.351635Z",
     "start_time": "2024-11-11T06:56:39.345638Z"
    }
   },
   "outputs": [
    {
     "data": {
      "text/plain": [
       "{'no': 3, 'title': '트럼프', 'writer': '박'}"
      ]
     },
     "execution_count": 431,
     "metadata": {},
     "output_type": "execute_result"
    }
   ],
   "source": [
    "bookTemp"
   ]
  },
  {
   "cell_type": "code",
   "execution_count": 440,
   "id": "ab140dc9",
   "metadata": {
    "ExecuteTime": {
     "end_time": "2024-11-11T07:00:09.925535Z",
     "start_time": "2024-11-11T07:00:09.919534Z"
    }
   },
   "outputs": [],
   "source": [
    "newBooks = list(map(lambda book : \\\n",
    "                    {'no' : book.get('no'),\n",
    "                     'title' : book.get('title'),\n",
    "                     'writer' : book.get('writer'),\n",
    "                     'price' : int(book['price'].replace(',', '')) \\\n",
    "                           if isinstance(book.get('price'), str) \\\n",
    "                               and book.get('price').replace(',', '').isdigit() \\\n",
    "                           else (book.get('price') if isinstance(book.get('price'), int) else 0)\n",
    "                    },\n",
    "                     books\n",
    "                ))"
   ]
  },
  {
   "cell_type": "code",
   "execution_count": 441,
   "id": "f30beaf3",
   "metadata": {
    "ExecuteTime": {
     "end_time": "2024-11-11T07:00:10.302021Z",
     "start_time": "2024-11-11T07:00:10.295025Z"
    }
   },
   "outputs": [
    {
     "data": {
      "text/plain": [
       "[{'no': 3, 'title': '트럼프2.0시대', 'writer': '박종훈', 'price': 18000},\n",
       " {'no': 1, 'title': '소년이 온다', 'writer': '한강', 'price': 13500},\n",
       " {'no': 6, 'title': '가격숫자', 'writer': '신길동', 'price': 9200},\n",
       " {'no': 2, 'title': '트렌트코리아2025', 'writer': '김난도', 'price': 9100},\n",
       " {'no': 4, 'title': '가격잘못', 'writer': '홍길동', 'price': 0},\n",
       " {'no': 5, 'title': '가격없음', 'writer': '이길동', 'price': 0}]"
      ]
     },
     "execution_count": 441,
     "metadata": {},
     "output_type": "execute_result"
    }
   ],
   "source": [
    "newBooks"
   ]
  },
  {
   "cell_type": "code",
   "execution_count": 492,
   "id": "eaac9d9f",
   "metadata": {
    "ExecuteTime": {
     "end_time": "2024-11-11T07:38:14.879762Z",
     "start_time": "2024-11-11T07:38:14.874761Z"
    }
   },
   "outputs": [
    {
     "data": {
      "text/plain": [
       "\"\\nmembers = [{'name' : '홍길동', 'birth' : '2000-01-01'},\\n           {'name' : '신길동', 'birth' : '1995-12-18'}]를\\nmembers = [{'name' : '홍길동', 'year' : 2000, 'month' : 1, 'day' : 1},\\n           {'name' : '신길동', 'year' : 1995, 'month' : 12, 'day' : 18}]로 바꾸기\\n\""
      ]
     },
     "execution_count": 492,
     "metadata": {},
     "output_type": "execute_result"
    }
   ],
   "source": [
    "# 예제3 : \n",
    "'''\n",
    "members1 = [{'name' : '홍길동', 'birth' : '2000-01-01'},\n",
    "           {'name' : '신길동', 'birth' : '1995-12-18'}]를\n",
    "members2 = [{'name' : '홍길동', 'year' : 2000, 'month' : 1, 'day' : 1},\n",
    "           {'name' : '신길동', 'year' : 1995, 'month' : 12, 'day' : 18}]로 바꾸기\n",
    "'''"
   ]
  },
  {
   "cell_type": "code",
   "execution_count": 554,
   "id": "ae9989ca",
   "metadata": {
    "ExecuteTime": {
     "end_time": "2024-11-11T07:58:52.437459Z",
     "start_time": "2024-11-11T07:58:52.431462Z"
    }
   },
   "outputs": [],
   "source": [
    "members1 = [{'name' : '홍길동', 'birth' : '2000-01-01'},\n",
    "           {'name' : '신길동', 'birth' : '1995-12-18'}]"
   ]
  },
  {
   "cell_type": "code",
   "execution_count": 494,
   "id": "ae6347b7",
   "metadata": {
    "ExecuteTime": {
     "end_time": "2024-11-11T07:38:15.302180Z",
     "start_time": "2024-11-11T07:38:15.269758Z"
    }
   },
   "outputs": [],
   "source": [
    "# '1995-01-01'을 받아 {'year' : 1995, 'month' : 1, 'day' : 1}을 return하는 함수\n",
    "def split_data(date):\n",
    "    split_data = date.split('-')\n",
    "    return {'year' : int(split_data[0]),\n",
    "             'month' : int(split_data[1]),\n",
    "             'day' : int(split_data[2])}"
   ]
  },
  {
   "cell_type": "code",
   "execution_count": 495,
   "id": "6146b4e2",
   "metadata": {
    "ExecuteTime": {
     "end_time": "2024-11-11T07:38:15.485906Z",
     "start_time": "2024-11-11T07:38:15.469237Z"
    }
   },
   "outputs": [
    {
     "data": {
      "text/plain": [
       "{'year': 2001, 'month': 1, 'day': 8}"
      ]
     },
     "execution_count": 495,
     "metadata": {},
     "output_type": "execute_result"
    }
   ],
   "source": [
    "split_data('2001-01-08')"
   ]
  },
  {
   "cell_type": "code",
   "execution_count": 501,
   "id": "2e68ddf3",
   "metadata": {
    "ExecuteTime": {
     "end_time": "2024-11-11T07:39:07.541514Z",
     "start_time": "2024-11-11T07:39:07.535221Z"
    }
   },
   "outputs": [],
   "source": [
    "def split_birth(member):  # 'name', 'birth'\n",
    "    return {\n",
    "        'name' : member.get('name'),\n",
    "        'year' : int(member.get('birth').split('-')[0]),\n",
    "        'month' : int(member.get('birth').split('-')[1]),\n",
    "        'day' : int(member.get('birth').split('-')[2])\n",
    "    }"
   ]
  },
  {
   "cell_type": "code",
   "execution_count": 502,
   "id": "e1fdbf54",
   "metadata": {
    "ExecuteTime": {
     "end_time": "2024-11-11T07:39:08.899963Z",
     "start_time": "2024-11-11T07:39:08.893966Z"
    }
   },
   "outputs": [],
   "source": [
    "split_birth = lambda member : {  # 람다식\n",
    "    'name' : member['name'],\n",
    "    'year' : int(member.get('birth').split('-')[0]),\n",
    "    'month' : int(member.get('birth').split('-')[1]),\n",
    "    'day' : int(member.get('birth').split('-')[2])\n",
    "}"
   ]
  },
  {
   "cell_type": "code",
   "execution_count": 503,
   "id": "904e36a7",
   "metadata": {
    "ExecuteTime": {
     "end_time": "2024-11-11T07:39:09.731989Z",
     "start_time": "2024-11-11T07:39:09.725989Z"
    }
   },
   "outputs": [
    {
     "data": {
      "text/plain": [
       "{'name': '홍길동', 'year': 1999, 'month': 12, 'day': 16}"
      ]
     },
     "execution_count": 503,
     "metadata": {},
     "output_type": "execute_result"
    }
   ],
   "source": [
    "split_birth({'name' : '홍길동', 'birth' : '1999-12-16'})"
   ]
  },
  {
   "cell_type": "code",
   "execution_count": 555,
   "id": "4aef3924",
   "metadata": {
    "ExecuteTime": {
     "end_time": "2024-11-11T07:59:04.560568Z",
     "start_time": "2024-11-11T07:59:04.552573Z"
    }
   },
   "outputs": [
    {
     "data": {
      "text/plain": [
       "[{'name': '홍길동', 'year': 2000, 'month': 1, 'day': 1},\n",
       " {'name': '신길동', 'year': 1995, 'month': 12, 'day': 18}]"
      ]
     },
     "execution_count": 555,
     "metadata": {},
     "output_type": "execute_result"
    }
   ],
   "source": [
    "members2 = list(map(lambda member : {  # 람다식\n",
    "    'name' : member['name'],\n",
    "    'year' : int(member.get('birth').split('-')[0]),\n",
    "    'month' : int(member.get('birth').split('-')[1]),\n",
    "    'day' : int(member.get('birth').split('-')[2])\n",
    "}, members1))\n",
    "members2"
   ]
  },
  {
   "cell_type": "code",
   "execution_count": 525,
   "id": "dd649ca0",
   "metadata": {
    "ExecuteTime": {
     "end_time": "2024-11-11T07:46:31.011378Z",
     "start_time": "2024-11-11T07:46:31.006379Z"
    }
   },
   "outputs": [],
   "source": [
    "def join_date(date):  # {'year': 1995, 'month': 12, 'day': 18} => '1995-12-18'\n",
    "    return '{year}-{month:02}-{day:02}'.format(**date)  # 딕셔너리 데이터 언패킹\n",
    "                # 빈 곳에 0 반드시 2자리        # year=date['year'], month=date['month'], day=date['day'])"
   ]
  },
  {
   "cell_type": "code",
   "execution_count": 526,
   "id": "e971ba96",
   "metadata": {
    "ExecuteTime": {
     "end_time": "2024-11-11T07:46:31.176773Z",
     "start_time": "2024-11-11T07:46:31.161776Z"
    }
   },
   "outputs": [
    {
     "data": {
      "text/plain": [
       "'1995-01-01'"
      ]
     },
     "execution_count": 526,
     "metadata": {},
     "output_type": "execute_result"
    }
   ],
   "source": [
    "join_date({'year': 1995, 'month': 1, 'day': 1})"
   ]
  },
  {
   "cell_type": "code",
   "execution_count": 550,
   "id": "461cc6b5",
   "metadata": {
    "ExecuteTime": {
     "end_time": "2024-11-11T07:55:15.182737Z",
     "start_time": "2024-11-11T07:55:15.177740Z"
    }
   },
   "outputs": [],
   "source": [
    "def join_birth(member):\n",
    "    name = member['name']\n",
    "    join_date = '{year}-{month:02}-{day:02}'.format(**member)  # 딕셔너리 데이터 언패킹\n",
    "    return {'name' : name,\n",
    "             'birth' : join_date}"
   ]
  },
  {
   "cell_type": "code",
   "execution_count": 551,
   "id": "e274f5cf",
   "metadata": {
    "ExecuteTime": {
     "end_time": "2024-11-11T07:55:15.525845Z",
     "start_time": "2024-11-11T07:55:15.510217Z"
    }
   },
   "outputs": [
    {
     "data": {
      "text/plain": [
       "{'name': ('kim',), 'birth': '1995-01-02'}"
      ]
     },
     "execution_count": 551,
     "metadata": {},
     "output_type": "execute_result"
    }
   ],
   "source": [
    "join_birth({'name' : 'kim', 'year' : 1995, 'month' : 1, 'day' : 2})"
   ]
  },
  {
   "cell_type": "code",
   "execution_count": 556,
   "id": "fb38d54f",
   "metadata": {
    "ExecuteTime": {
     "end_time": "2024-11-11T07:59:12.821080Z",
     "start_time": "2024-11-11T07:59:12.816079Z"
    }
   },
   "outputs": [
    {
     "data": {
      "text/plain": [
       "[{'name': ('홍길동',), 'birth': '2000-01-01'},\n",
       " {'name': ('신길동',), 'birth': '1995-12-18'}]"
      ]
     },
     "execution_count": 556,
     "metadata": {},
     "output_type": "execute_result"
    }
   ],
   "source": [
    "members1 = list(map(join_birth, members2))\n",
    "members1"
   ]
  },
  {
   "cell_type": "markdown",
   "id": "01497aac",
   "metadata": {},
   "source": [
    "## 4.3 return문에 람다식 사용"
   ]
  },
  {
   "cell_type": "code",
   "execution_count": 568,
   "id": "68194d1f",
   "metadata": {
    "ExecuteTime": {
     "end_time": "2024-11-11T08:18:43.297867Z",
     "start_time": "2024-11-11T08:18:43.291868Z"
    }
   },
   "outputs": [],
   "source": [
    "# 매개변수에 함수를 사용\n",
    "def apply(data, func=None):\n",
    "    # if func == None\n",
    "    if func is None:\n",
    "        return data\n",
    "    else:\n",
    "        return func(data)"
   ]
  },
  {
   "cell_type": "code",
   "execution_count": 569,
   "id": "72dc0bc9",
   "metadata": {
    "ExecuteTime": {
     "end_time": "2024-11-11T08:18:43.467367Z",
     "start_time": "2024-11-11T08:18:43.461371Z"
    }
   },
   "outputs": [
    {
     "name": "stdout",
     "output_type": "stream",
     "text": [
      "2\n",
      "8\n"
     ]
    }
   ],
   "source": [
    "print(apply(2))\n",
    "print(apply(2, lambda x : x**3))"
   ]
  },
  {
   "cell_type": "code",
   "execution_count": 571,
   "id": "19a1f13a",
   "metadata": {
    "ExecuteTime": {
     "end_time": "2024-11-11T08:28:05.479214Z",
     "start_time": "2024-11-11T08:28:05.471848Z"
    }
   },
   "outputs": [],
   "source": [
    "# 함수를 return\n",
    "'''\n",
    "make_box([2, 3]) => 2차원 2행 3열 list를 만드는 함수를 return\n",
    "    fun = make_box([2, 3])\n",
    "    fun(5) => [[5, 5, 5],\n",
    "               [5, 5, 5]]\n",
    "make_box((2,)) => 1차원 2열 list를 만드는 함수를 return (2,) 뒤에 , 꼭 써야함\n",
    "    fun = make_box([2])\n",
    "    fun(7) => [7,7]\n",
    "'''\n",
    "def make_box(shape):  # shape : [x], [x, y] : x열, x행y열\n",
    "    def box(init_value):\n",
    "        if len(shape) == 1:  # shape가 1차원인지\n",
    "            return [init_value]*shape[0]  # 1차원 list를 return\n",
    "        elif len(shape) == 2:  # shape가 2차원인지\n",
    "            return [[init_value]*shape[1]] * shape[0]\n",
    "    return box"
   ]
  },
  {
   "cell_type": "code",
   "execution_count": 576,
   "id": "9c6bcff9",
   "metadata": {
    "ExecuteTime": {
     "end_time": "2024-11-11T08:34:33.066239Z",
     "start_time": "2024-11-11T08:34:33.061244Z"
    }
   },
   "outputs": [],
   "source": [
    "def make_box(shape):\n",
    "    if len(shape) == 1:\n",
    "        return lambda init_value : [init_value]*shape[0]\n",
    "    elif len(shape) == 2:\n",
    "        return lambda init_value : [[init_value]*shape[1]] * shape[0]"
   ]
  },
  {
   "cell_type": "code",
   "execution_count": 577,
   "id": "8acdda13",
   "metadata": {
    "ExecuteTime": {
     "end_time": "2024-11-11T08:35:21.409253Z",
     "start_time": "2024-11-11T08:35:21.402258Z"
    }
   },
   "outputs": [
    {
     "data": {
      "text/plain": [
       "[5, 5, 5]"
      ]
     },
     "execution_count": 577,
     "metadata": {},
     "output_type": "execute_result"
    }
   ],
   "source": [
    "line_fun = make_box((3,))  # 3열짜리 1차원 list\n",
    "line_fun(5)"
   ]
  },
  {
   "cell_type": "code",
   "execution_count": 578,
   "id": "018ef073",
   "metadata": {
    "ExecuteTime": {
     "end_time": "2024-11-11T08:35:21.754578Z",
     "start_time": "2024-11-11T08:35:21.747581Z"
    }
   },
   "outputs": [
    {
     "data": {
      "text/plain": [
       "[[5, 5, 5], [5, 5, 5], [5, 5, 5], [5, 5, 5]]"
      ]
     },
     "execution_count": 578,
     "metadata": {},
     "output_type": "execute_result"
    }
   ],
   "source": [
    "box2d_fun = make_box( (4, 3))  # 4행 3열짜리 2차원 list\n",
    "box2d_fun(5)"
   ]
  },
  {
   "cell_type": "markdown",
   "id": "ab4792d6",
   "metadata": {},
   "source": [
    "# 5절. 파이썬 내장함수\n",
    " - import하지 않고 바로 사용 가능한 함수\n",
    " - 키워드처럼 간주되므로, 식별자로 사용하는 것을 피한다"
   ]
  },
  {
   "cell_type": "code",
   "execution_count": 582,
   "id": "a4af62ff",
   "metadata": {
    "ExecuteTime": {
     "end_time": "2024-11-11T08:39:54.760787Z",
     "start_time": "2024-11-11T08:39:54.753792Z"
    }
   },
   "outputs": [
    {
     "data": {
      "text/plain": [
       "6"
      ]
     },
     "execution_count": 582,
     "metadata": {},
     "output_type": "execute_result"
    }
   ],
   "source": [
    "int('6')\n",
    "# ('6.3'), (''), ('ㅁ') 에러"
   ]
  },
  {
   "cell_type": "code",
   "execution_count": 583,
   "id": "92e0f8d4",
   "metadata": {
    "ExecuteTime": {
     "end_time": "2024-11-11T08:40:14.886080Z",
     "start_time": "2024-11-11T08:40:14.615117Z"
    }
   },
   "outputs": [
    {
     "data": {
      "text/plain": [
       "{'__name__': '__main__',\n",
       " '__doc__': '\\nmake_box([2, 3]) => 2차원 2행 3열 list를 만드는 함수를 return\\n    fun = make_box([2, 3])\\n    fun(5) => [[5, 5, 5],\\n               [5, 5, 5]]\\nmake_box((2,)) => 1차원 2열 list를 만드는 함수를 return (2,) 뒤에 , 꼭 써야함\\n    fun = make_box([2])\\n    fun(7) => [7,7]\\n',\n",
       " '__package__': None,\n",
       " '__loader__': None,\n",
       " '__spec__': None,\n",
       " '__builtin__': <module 'builtins' (built-in)>,\n",
       " '__builtins__': <module 'builtins' (built-in)>,\n",
       " '_ih': ['',\n",
       "  'from IPython.display import display, HTML\\ndisplay(HTML(\"\"\"\\n<style>\\ndiv.container{width:80% !important;}\\ndiv.prompt {min-width:70px;}\\ndiv#toc-header{margin-top:150px;}\\nspan.toc-item-num{display:none;}\\n</style>\\n\"\"\"))',\n",
       "  'def add(a, b):\\n    return a+b\\nadd(3, 5)',\n",
       "  'add2 = add\\nadd2(10, 20)',\n",
       "  'add2 = lambda a, b : a+b\\nadd2(10, 20)',\n",
       "  'print(type(add), type(add2))',\n",
       "  'print(type(add), type(add2))',\n",
       "  '(lambda a, b : a+b)(3, 5)',\n",
       "  '# 매개변수 a와 b의 차이를 return(양수로)\\ndef diff(a, b):\\n    if a >= b:\\n        return a-b\\n    else:\\n        b-a',\n",
       "  'diff2 = lambda a, b : a-b if a >= b else b-a',\n",
       "  'print(diff(3, 5), diff(5, 3), diff2(3, 5), diff2(5, 3))\\nprint(type(diff), type(diff2))',\n",
       "  'print(diff(3, 5), diff(5, 3), diff2(3, 5), diff2(5, 3))\\nprint(type(diff), type(diff2))',\n",
       "  '# 매개변수 a와 b의 차이를 return(양수로)\\ndef diff(a, b):\\n    if a >= b:\\n        return a-b\\n    else:\\n        return b-a',\n",
       "  'diff2 = lambda a, b : a-b if a >= b else b-a',\n",
       "  'print(diff(3, 5), diff(5, 3), diff2(3, 5), diff2(5, 3))\\nprint(type(diff), type(diff2))',\n",
       "  \"# 매개변수로 잔액을 받아 잔액이 음수면 'negative'라고 출력하고, 양수면 잔액을 출력하시오\\n# return 타입이 같지 않아도 됨\\ndef get_balance(balance):\\n    if balance >= 0:\\n        return balance\\n    else:\\n        return 'negative'\",\n",
       "  'get_balance(-100)',\n",
       "  \"get_balance = lambda balance : balance if balance >= 0 else 'negative'\\nget_balance(-100)\",\n",
       "  \"get_balance = lambda balance : balance if balance >= 0 else 'negative'\\nget_balance(100)\",\n",
       "  \"balance = -500\\nif balance >= 0:\\n    result = balance\\nelse:\\n    result = 'negative'\\nresult\",\n",
       "  \"balance = -500  # balance : 전역변수\\nif balance >= 0:\\n    result = balance\\nelse:\\n    result = 'negative'\\nresult\",\n",
       "  \"result = balance if balance >= 0 else 'negative'\\n# 자바 3항연산자 : balance >= 0 ? balance : 'negative'\",\n",
       "  \"result = balance if balance >= 0 else 'negative'\\n# 자바 3항연산자 : balance >= 0 ? balance : 'negative'\",\n",
       "  \"balance if balance >= 0 else 'negative'\\n# 자바 3항연산자 : balance >= 0 ? balance : 'negative'\",\n",
       "  \"balance = -500\\nbalance if balance >= 0 else 'negative'\\n# 자바 3항연산자 : balance >= 0 ? balance : 'negative'\",\n",
       "  \"balance = 500\\nbalance if balance >= 0 else 'negative'\\n# 자바 3항연산자 : balance >= 0 ? balance : 'negative'\",\n",
       "  \"balance = -500\\nbalance if balance >= 0 else 'negative'\\n# 자바 3항연산자 : balance >= 0 ? balance : 'negative'\",\n",
       "  \"balance = -500\\nbalance if balance >= 0 else 'negative'\\n# balance >= 0 ? balance : 'negative' (자바 3항연산자)\",\n",
       "  '# 아래의 함수도 람다식으로 바꿀 수 있음\\nlst = [1, 2, 3]\\nlst.index(2)',\n",
       "  '# 아래의 함수도 람다식으로 바꿀 수 있음\\n# lst = [1, 2, 3]\\n# lst.index(2)  # 2의 위치를 반환. 없는 데이터는 에러.\\nv = (1, 2, 3)\\nv.index()',\n",
       "  '# 아래의 함수도 람다식으로 바꿀 수 있음\\n# lst = [1, 2, 3]\\n# lst.index(2)  # 2의 위치를 반환. 없는 데이터는 에러.\\nv = (1, 2, 3)\\nv.index(1)',\n",
       "  '# 아래의 함수도 람다식으로 바꿀 수 있음\\n# lst = [1, 2, 3]  리스트\\n# lst.index(2)  # 2의 위치를 반환. 없는 데이터는 에러.(safe_index를 사용)\\n# v = (1, 2, 3)  튜플\\n# v.index(2)  # 2의 위치를 반환. 없는 데이터는 에러.\\nv = (1, 2, 3)\\ndef safe_index(vector, item):\\n    if item in vector:\\n        return vector.index(item)\\n    else:\\n        return -1\\nsafe_index(v, 1)',\n",
       "  '# 아래의 함수도 람다식으로 바꿀 수 있음\\n# lst = [1, 2, 3]  리스트\\n# lst.index(2)  # 2의 위치를 반환. 없는 데이터는 에러.(safe_index를 사용)\\n# v = (1, 2, 3)  튜플\\n# v.index(2)  # 2의 위치를 반환. 없는 데이터는 에러.\\nv = (1, 2, 3)\\ndef safe_index(vector, item):\\n    if item in vector:\\n        return vector.index(item)\\n    else:\\n        return -1\\nsafe_index(v, 2)',\n",
       "  '# 아래의 함수도 람다식으로 바꿀 수 있음\\n# lst = [1, 2, 3]  리스트\\n# lst.index(2)  # 2의 위치를 반환. 없는 데이터는 에러.(safe_index를 사용)\\n# v = (1, 2, 3)  튜플\\n# v.index(2)  # 2의 위치를 반환. 없는 데이터는 에러.\\nv = (1, 2, 3)\\ndef safe_index(vector, item):\\n    if item in vector:\\n        return vector.index(item)\\n    else:\\n        return -1\\nsafe_index(v, 1), safe index(v, 4)',\n",
       "  '# 아래의 함수도 람다식으로 바꿀 수 있음\\n# lst = [1, 2, 3]  리스트\\n# lst.index(2)  # 2의 위치를 반환. 없는 데이터는 에러.(safe_index를 사용)\\n# v = (1, 2, 3)  튜플\\n# v.index(2)  # 2의 위치를 반환. 없는 데이터는 에러.\\nv = (1, 2, 3)\\ndef safe_index(vector, item):\\n    if item in vector:\\n        return vector.index(item)\\n    else:\\n        return -1\\nsafe_index(v, 1), safe_index(v, 4)',\n",
       "  'safe_index = lambda vector.index(item) : vector.index(item) if item in vector else -1',\n",
       "  'safe_index = lambda vector.index(item) : vector.index(item) if item in vector else -1\\nsafe_index(1)',\n",
       "  'safe_index = lambda vector, item : vector.index(item) if item in vector else -1',\n",
       "  'safe_index = lambda vector, item : vector.index(item) if item in vector else -1\\nsafe_index([1, 2, 3, 4], 1), safe_index((1, 2, 3), 5)',\n",
       "  'safe_index = lambda vector, item : vector.index(item) if item in vector else -1\\nsafe_index([1, 2, 3, 4], 1), safe_index((1, 2, 3), 5)\\n# 1의 index : 0               5의 index : -1(없음)',\n",
       "  \"# 매개변수로 들어온 값이 짝수면 '짝수'를, 홀수면 '홀수'를 return하는 lambda\\nnum = lambda input_num : '짝수' if input_num%2==0 else '홀수'\\nnum(5)\",\n",
       "  \"# 매개변수로 들어온 값이 짝수면 '짝수'를, 홀수면 '홀수'를 return하는 lambda\\nnum = lambda input_num : '짝수' if input_num%2==0 else '홀수'\\nnum(6)\",\n",
       "  \"# 매개변수로 들어온 값이 짝수면 '짝수'를, 홀수면 '홀수'를 return하는 lambda\\neven_odd_chk = lambda input_num : '짝수' if input_num%2==0 else '홀수'\\neven_odd_chk(6)\",\n",
       "  \"# 매개변수로 들어온 값이 짝수면 '짝수'를, 홀수면 '홀수'를 return하는 lambda\\neven_odd_chk = lambda num : '짝수' if num%2==0 else '홀수'\\neven_odd_chk(6)\",\n",
       "  \"# 매개변수로 들어온 값이 짝수면 '짝수'를, 홀수면 '홀수'를 return하는 lambda\\neven_odd_chk = lambda num : '짝수' if num%2==0 else '홀수'\\neven_odd_chk(0), even_odd_chk(1)\",\n",
       "  \"# 매개변수로 들어온 값이 짝수면 '짝수'를, 홀수면 '홀수'를 return하는 lambda\\neven_odd_chk = lambda num : '짝수' if num%2 == 0 else '홀수'\\neven_odd_chk(0), even_odd_chk(1)\",\n",
       "  \"# 매개변수로 들어온 값이 짝수면 '짝수'를, 홀수면 '홀수'를 return하는 lambda\\neven_odd_chk = lambda num : '짝수' if num%2 == 0 else '홀수'\\neven_odd_chk(0), even_odd_chk(-1)\",\n",
       "  \"# 매개변수로 들어온 값이 짝수면 '짝수'를, 홀수면 '홀수'를 return하는 lambda\\neven_odd_chk = lambda num : '짝수' if num%2 == 0 else '홀수'\\neven_odd_chk(2), even_odd_chk(-1)\",\n",
       "  \"# 매개변수로 들어온 값이 짝수면 '짝수'를, 홀수면 '홀수'를 return하는 lambda\\neven_odd_chk = lambda num : '짝수' if num%2 == 0 else '홀수'\\neven_odd_chk(2), even_odd_chk(-1)\",\n",
       "  \"def levelChk(score):\\n    if score >= 80:\\n        return 'A등급'\\n    elif socre >= 60:\\n        return 'B등급'\\n    else:\\n        return '재시험'\\nlevelChk(65)\",\n",
       "  \"def levelChk(score):\\n    if score >= 80:\\n        return 'A등급'\\n    elif socre >= 60:\\n        return 'B등급'\\n    else:\\n        return '재시험'\\nlevelChk(65)\",\n",
       "  \"def levelChk(score):\\n    if score >= 80:\\n        return 'A등급'\\n    elif score >= 60:\\n        return 'B등급'\\n    else:\\n        return '재시험'\\nlevelChk(65)\",\n",
       "  \"def levelChk(score):\\n    if score >= 80:\\n        return 'A등급'\\n    elif score >= 60:\\n        return 'B등급'\\n    else:\\n        return '재시험'\\nlevelChk(65), levelChk(-9)\",\n",
       "  \"levelChk = lambda score : 'A등급' if score >= 80 elif 'B등급' score >= 60 else '재시험'\",\n",
       "  \"levelChk = lambda score : 'A등급' if score >= 80 elif 'B등급' score >= 60 else '재시험'\",\n",
       "  \"levelChk = lambda score : 'A등급' if score >= 80 : 'B등급' if score >= 60 else '재시험'\",\n",
       "  \"levelChk = lambda score : 'A등급' if score >= 80 else('B등급' if score >= 60 else '재시험')\",\n",
       "  \"levelChk = lambda score : 'A등급' if score >= 80 else('B등급' if score >= 60 else '재시험')\\nlevelChk(65), levelChk(-9)\",\n",
       "  \"levelChk = lambda score : 'A등급' if score >= 80 else('B등급' if score >= 60 else '재시험')\\nlevelChk(90), levelChk(559)\",\n",
       "  \"levelChk = lambda score : 'A등급' if score >= 80 else('B등급' if score >= 60 else '재시험')\\nlevelChk(90), levelChk(55)\",\n",
       "  \"def score_grade(score):\\n    if 90 <= score <= 100:\\n        return 'A'\\n    elif 80 <= score < 90:\\n        return 'B'\\n    elif 70 <= score < 80:\\n        return 'C'\\n    elif 60 <= score < 70:\\n        return 'D'\\n    elif 0 <= score < 60:\\n        return 'F'\\n    else:\\n        return '유효하지 않은 점수 등급'\",\n",
       "  \"def score_grade(score):\\n    if 90 <= score <= 100:\\n        return 'A'\\n    elif 80 <= score < 90:\\n        return 'B'\\n    elif 70 <= score < 80:\\n        return 'C'\\n    elif 60 <= score < 70:\\n        return 'D'\\n    elif 0 <= score < 60:\\n        return 'F'\\n    else:\\n        return '유효하지 않은 점수 등급'\",\n",
       "  \"score_grade = lambda score : 'A' if 90 <= score <= 100 \\\\\\n                                    else 'B ' if 80 <= score < 90\\n                                    else 'C ' if 70 <= score < 80\\n                                    else 'B ' if 60 <= score < 70\\n                                    else 'B ' if 0 <= score < 60\\n                                    else '유효하지 않은 점수 등급'\",\n",
       "  \"score_grade = lambda score : 'A' if 90 <= score <= 100 \\\\\\n                                    else ()'B ' if 80 <= score < 90)\\n                                    else 'C ' if 70 <= score < 80\\n                                    else 'B ' if 60 <= score < 70\\n                                    else 'B ' if 0 <= score < 60\\n                                    else '유효하지 않은 점수 등급'\",\n",
       "  \"score_grade = lambda score : 'A' if 90 <= score <= 100 \\\\\\n                                    else ('B ' if 80 <= score < 90)\\n                                    else 'C ' if 70 <= score < 80\\n                                    else 'B ' if 60 <= score < 70\\n                                    else 'B ' if 0 <= score < 60\\n                                    else '유효하지 않은 점수 등급'\",\n",
       "  \"score_grade = lambda score : 'A' if 90 <= score <= 100 \\\\\\n                                    else 'B ' if 80 <= score < 90:\\n                                    else 'C ' if 70 <= score < 80:\\n                                    else 'B ' if 60 <= score < 70:\\n                                    else 'B ' if 0 <= score < 60:\\n                                    else '유효하지 않은 점수 등급'\",\n",
       "  \"score_grade = lambda score : 'A' if 90 <= score <= 100 \\\\\\n                                    else 'B ' if 80 <= score < 90 \\\\\\n                                    else 'C ' if 70 <= score < 80 \\\\\\n                                    else 'B ' if 60 <= score < 70 \\\\\\n                                    else 'B ' if 0 <= score < 60 \\\\\\n                                    else '유효하지 않은 점수 등급'\",\n",
       "  'score_grade(101)',\n",
       "  'score_grade(95)',\n",
       "  'score_grade(60)',\n",
       "  \"score_grade = lambda score : 'A' if 90 <= score <= 100 \\\\\\n                                    else 'B ' if 80 <= score < 90 \\\\\\n                                    else 'C ' if 70 <= score < 80 \\\\\\n                                    else 'D ' if 60 <= score < 70 \\\\\\n                                    else 'F ' if 0 <= score < 60 \\\\\\n                                    else '유효하지 않은 점수 등급'\",\n",
       "  'score_grade(60)',\n",
       "  'score_grade(101), score_grade(95), score_grade(85), score_grade(75), score_grade(65), score_grade(55)',\n",
       "  \"def score_grade(score):\\n    if 90 <= score <= 100:\\n        return 'A'\\n    elif 80 <= score < 90:\\n        return 'B'\\n    elif 70 <= score < 80:\\n        return 'C'\\n    elif 60 <= score < 70:\\n        return 'D'\\n    elif 0 <= score < 60:\\n        return 'F'\\n    else:\\n        return '유효하지 않은 점수 등급'\\nscore_grade(101), score_grade(95), score_grade(85), score_grade(75), score_grade(65), score_grade(55)\",\n",
       "  \"score_grade = lambda score : 'A' if 90 <= score <= 100 \\\\\\n                                    else 'B ' if 80 <= score < 90 \\\\\\n                                    else 'C ' if 70 <= score < 80 \\\\\\n                                    else 'D ' if 60 <= score < 70 \\\\\\n                                    else 'F ' if 0 <= score < 60 \\\\\\n                                    else '유효하지 않은 점수 등급'\",\n",
       "  \"score_grade = lambda score : 'A' if 90 <= score <= 100 \\\\\\n                                    else 'B ' if 80 <= score < 90 \\\\\\n                                    else 'C ' if 70 <= score < 80 \\\\\\n                                    else 'D ' if 60 <= score < 70 \\\\\\n                                    else 'F ' if 0 <= score < 60 \\\\\\n                                    else '유효하지 않은 점수 등급'\\nscore_grade(101), score_grade(95), score_grade(85), score_grade(75), score_grade(65), score_grade(55)\",\n",
       "  'add = lambda a, b : a+b\\nsub = lambda a, b : a-b\\nmul = lambda a, b : a*b\\ndiv = lambda a, b : a/b\\nadd(3, 0), div(3, 0)',\n",
       "  'add = lambda a, b : a+b\\nsub = lambda a, b : a-b\\nmul = lambda a, b : a*b\\ndiv = lambda a, b : a/b if b != 0\\nadd(3, 0), div(3, 0)',\n",
       "  \"add = lambda a, b : a+b\\nsub = lambda a, b : a-b\\nmul = lambda a, b : a*b\\ndiv = lambda a, b : a/b if b != 0 else '두 번째 인자가 0으로는 나눌 수 없습니다'\\nadd(3, 0), div(3, 0)\",\n",
       "  \"add = lambda a, b : a+b\\nsub = lambda a, b : a-b\\nmul = lambda a, b : a*b\\ndiv = lambda a, b : a/b if b != 0 else '두 번째 인자가 0으로는 나눌 수 없습니다'\\nadd(3, 0), div(3, 0)\\n\\ni = 10\\nj = 20\\nlst = [i, j]\\nlst\",\n",
       "  \"'''\\ni = 10\\nj = 20\\nlst = [i, j]\\nlst\\n가능\\n'''\\nadd = lambda a, b : a+b\\nsub = lambda a, b : a-b\\nmul = lambda a, b : a*b\\ndiv = lambda a, b : a/b if b != 0 else '두 번째 인자가 0으로는 나눌 수 없습니다'\\nadd(3, 0), div(3, 0)\\n\\n# operations : list안이 function인 변수\\noperations = [add, sub, mul, div]\\n\\n# 매개변수로 함수 list가 옴\\ndef act_operations(a, b, operations=operations):\\n    result = []\\n    for op in operations:\\n        result.append(op(a, b))\\n    return result\\n# def pow(a, b):\\n#     return a**b  # a의 b승\\noperations.append(lambda a, b : a**b)\\nprint(act_operations(10, 2))\",\n",
       "  '# 리스트 컴프리헨션\\nlst = [1, 2, 3]\\n[l for l in lst]',\n",
       "  '# 리스트 컴프리헨션\\nlst = [1, 2, 3]\\n[l*2 for l in lst]',\n",
       "  '# 리스트 컴프리헨션\\nlst = [1, 2, 3]\\nprint([l*2 for l in lst])',\n",
       "  '# 리스트 컴프리헨션\\nlst = [1, 2, 3]\\nprint([l**2 for l in lst])',\n",
       "  '# 리스트 컴프리헨션\\nlst = [1, 2, 3]\\nprint([l**2 for l in lst])\\nprint([l for l in lst if l%2 == 0])',\n",
       "  \"'''\\ni = 10\\nj = 20\\nlst = [i, j]\\nlst\\n가능\\n'''\\nadd = lambda a, b : a+b\\nsub = lambda a, b : a-b\\nmul = lambda a, b : a*b\\ndiv = lambda a, b : a/b if b != 0 else '두 번째 인자가 0으로는 나눌 수 없습니다'\\nadd(3, 0), div(3, 0)\\n\\n# operations : list안이 function인 변수\\noperations = [add, sub, mul, div]\\n\\n# 매개변수로 함수 list가 옴\\ndef act_operations(a, b, operations=operations):\\n    result = []\\n    for op in operations:\\n        result.append(op(a, b))\\n    return result\\noperations.append(lambda a, b : a**b)\\n# def pow(a, b):\\n#     return a**b  # a의 b승  위 람다식과 같음\\nprint(act_operations(10, 2))\",\n",
       "  '# 리스트 컴프리헨션\\nlst = [1, 2, 3]\\nprint([l**2 for l in lst])\\nprint([l for l in lst if l%2 == 0])',\n",
       "  '# actact_operations의 함수를 리스트 컴프리헨션을 이용하여 람다식으로 구현\\nprint([l.append(a, b) for l in operations])\\nact_operations = lambda a, b, operations=open',\n",
       "  '# actact_operations의 함수를 리스트 컴프리헨션을 이용하여 람다식으로 구현\\nprint([l.append(a, b) for l in operations])\\n# act_operations = lambda a, b, operations=open',\n",
       "  \"'''\\ni = 10\\nj = 20\\nlst = [i, j]\\nlst\\n가능\\n'''\\nadd = lambda a, b : a+b\\nsub = lambda a, b : a-b\\nmul = lambda a, b : a*b\\ndiv = lambda a, b : a/b if b != 0 else '두 번째 인자가 0으로는 나눌 수 없습니다'\\nadd(3, 0), div(3, 0)\\n\\n# operations : list안이 function인 변수\\noperations = [add, sub, mul, div]\\n\\n# 매개변수로 함수 list가 옴\\ndef act_operations(a, b, operations=operations):\\n    result = []\\n    for op in operations:\\n        result.append(op(a, b))\\n    return result\\noperations.append(lambda a, b : a**b)\\n# def pow(a, b):\\n#     return a**b  # a의 b승  위 람다식과 같음\\nprint(act_operations(10, 2))\\nprint(act_operations(10, 2, [lambda a, b : a**bm lambda a, b : a*10+b]))\",\n",
       "  \"'''\\ni = 10\\nj = 20\\nlst = [i, j]\\nlst\\n가능\\n'''\\nadd = lambda a, b : a+b\\nsub = lambda a, b : a-b\\nmul = lambda a, b : a*b\\ndiv = lambda a, b : a/b if b != 0 else '두 번째 인자가 0으로는 나눌 수 없습니다'\\nadd(3, 0), div(3, 0)\\n\\n# operations : list안이 function인 변수\\noperations = [add, sub, mul, div]\\n\\n# 매개변수로 함수 list가 옴\\ndef act_operations(a, b, operations=operations):\\n    result = []\\n    for op in operations:\\n        result.append(op(a, b))\\n    return result\\noperations.append(lambda a, b : a**b)\\n# def pow(a, b):\\n#     return a**b  # a의 b승  위 람다식과 같음\\nprint(act_operations(10, 2))\\nprint(act_operations(10, 2, [lambda a, b : a**b, lambda a, b : a*10+b]))\",\n",
       "  '# actact_operations의 함수를 리스트 컴프리헨션을 이용하여 람다식으로 구현\\nprint([a, b, operations=operations for 10, 20 in operations])\\n# act_operations = lambda a, b, operations=operations : ',\n",
       "  '# actact_operations의 함수를 리스트 컴프리헨션을 이용하여 람다식으로 구현\\nprint([a, b, operations=:operations for 10, 20 in operations])\\n# act_operations = lambda a, b, operations=operations : ',\n",
       "  '# actact_operations의 함수를 리스트 컴프리헨션을 이용하여 람다식으로 구현\\nprint([a, b, operations:=operations for 10, 20 in operations])\\n# act_operations = lambda a, b, operations=operations : ',\n",
       "  '# actact_operations의 함수를 리스트 컴프리헨션을 이용하여 람다식으로 구현\\nprint([a, b, operations==operations for 10, 20 in operations])\\n# act_operations = lambda a, b, operations=operations : ',\n",
       "  '# actact_operations의 함수를 리스트 컴프리헨션을 이용하여 람다식으로 구현\\nprint([a, b, operations==operations for a, b, operations==operations in operations])\\n# act_operations = lambda a, b, operations=operations : ',\n",
       "  '# actact_operations의 함수를 리스트 컴프리헨션을 이용하여 람다식으로 구현\\nprint([a, b, op for op in operations])\\n# act_operations = lambda a, b, operations=operations : ',\n",
       "  '# actact_operations의 함수를 리스트 컴프리헨션을 이용하여 람다식으로 구현\\nprint([(a, b, op) for op in operations])\\n# act_operations = lambda a, b, operations=operations : ',\n",
       "  '# actact_operations의 함수를 리스트 컴프리헨션을 이용하여 람다식으로 구현\\nprint([a, b, operations=operations for op in operations])\\n# act_operations = lambda a, b, operations=operations : ',\n",
       "  '# actact_operations의 함수를 리스트 컴프리헨션을 이용하여 람다식으로 구현\\nprint([a, b, operations==operations for op in operations])\\n# act_operations = lambda a, b, operations=operations : ',\n",
       "  '# actact_operations의 함수를 리스트 컴프리헨션을 이용하여 람다식으로 구현\\noperations = [add, sub, mul, div]\\ndef act_operations(a, b, operations=operations):\\n    return [op(a, b) for op in operations]\\nact_operations = lambda a, b, operations=operations : [op(a, b) for op in operations]\\nact_operations(5, 2, [lambda a, b : a+b, lambda a, b : a**b])',\n",
       "  '# actact_operations의 함수를 리스트 컴프리헨션을 이용하여 람다식으로 구현\\noperations = [add, sub, mul, div]\\ndef act_operations(a, b, operations=operations):\\n    return [op(a, b) for op in operations]\\nact_operations = lambda a, b, operations=operations : [op(a, b) for op in operations]\\nprint(act_operations(5, 2, [lambda a, b : a+b, lambda a, b : a**b]))\\nprint(act_operations(5, 2))',\n",
       "  '# actact_operations의 함수를 리스트 컴프리헨션을 이용하여 람다식으로 구현\\noperations = [add, sub, mul, div]\\ndef act_operations(a, b, operations=operations):\\n    return [op(a, b) for op in operations]\\nact_operations = lambda a, b, operations=operations : [op(a, b) for op in operations]\\nprint(act_operations(5, 2, [lambda a, b : a+b, lambda a, b : a**b]))\\nact_operations.append(lambda a, b : a**b)\\nprint(act_operations(5, 2))',\n",
       "  '# actact_operations의 함수를 리스트 컴프리헨션을 이용하여 람다식으로 구현\\noperations = [add, sub, mul, div]\\ndef act_operations(a, b, operations=operations):\\n    return [op(a, b) for op in operations]\\nact_operations = lambda a, b, operations=operations : [op(a, b) for op in operations]\\nprint(act_operations(5, 2, [lambda a, b : a+b, lambda a, b : a**b]))\\noperations.append(lambda a, b : a**b)\\nprint(act_operations(5, 2))',\n",
       "  '# actact_operations의 함수를 리스트 컴프리헨션을 이용하여 람다식으로 구현\\noperations = [add, sub, mul, div]\\ndef act_operations(a, b, operations=operations):\\n    return [op(a, b) for op in operations]\\nact_operations = lambda a, b, operations=operations : [op(a, b) for op in operations]\\n\\nprint(act_operations(5, 2, [lambda a, b : a+b, lambda a, b : a**b]))\\n\\noperations.append(lambda a, b : a**b)\\nprint(act_operations(5, 2))',\n",
       "  '## 4.2 함수의 매개변수',\n",
       "  'def map_template(func, L=[]):\\n    result = []\\n    for item in L:\\n        result.append(func(item))\\n    return result',\n",
       "  'def map_template(func, L=[]):\\n    result = []\\n    for item in L:  # 매개변수로 받은 L의 item을 순차적으로\\n        result.append(func(item))  # func을 적용해서 result에 append\\n    return result',\n",
       "  'list_data = [1, 2, 3, 4, 5, 6, 7, 8]\\ndef x_2(x):\\n    return x*2\\nmap_template(x_2, list_data)',\n",
       "  'list_data = [1, 2, 3, 4, 5, 6, 7, 8]\\n# def x_2(x):\\n#     return x*2\\n# map_template(x_2, list_data)\\nmap_template(lambda x : x*2, list_data)',\n",
       "  '# 리스크 컴프리헨션\\n[l*2 for l in list_data]',\n",
       "  '# 리스크 컴프리헨션\\n[x*2 for x in list_data]',\n",
       "  'map(lambda x : x*2, list_data)',\n",
       "  'list(map(lambda x : x*2, list_data))',\n",
       "  'print(map(lambda x : x*2, list_data))\\nprint(list(map(lambda x : x*2, list_data)))',\n",
       "  'enumerate(list_data)',\n",
       "  'list(enumerate(list_data))',\n",
       "  \"for x in map(lambds x : x*2, list_data):\\n    pritn(x, end=' ')\",\n",
       "  \"for x in map(lambda x : x*2, list_data):\\n    print(x, end=' ')\",\n",
       "  'print(list(enumerate(list_data))',\n",
       "  'print(list(enumerate(list_data)))',\n",
       "  'print(enumerate(list_data))\\nprint(list(enumerate(list_data)))',\n",
       "  '# map : 내부적으로 list처럼 저장되어 있는 vector 타입(for문에 사용가능)\\nprint(map(lambda x : x*2, list_data))  \\nprint(list(map(lambda x : x*2, list_data)))',\n",
       "  'def filter_template(func, L=[]):\\n    result = []\\n    for item in L:\\n        if func(item):\\n            result.append(item)\\n    return result',\n",
       "  'def evenChk(value):\\n    return value%2 == 0\\n#     if value%2 == 0:\\n#         return True\\n#     else:\\n#         return False\\nlist_data = [1, 2, 3, 4, 5, 6, 7, 8]\\n# filter_template(evenChk, list_data)\\nfilter_template(lambda x : x%2 == 0, L=list_data)',\n",
       "  'def evenChk(value):\\n    return value%2 == 0\\n#     if value%2 == 0:\\n#         return True\\n#     else:\\n#         return False\\nlist_data = [1, 2, 3, 4, 5, 6, 7, 8]\\n# filter_template(evenChk, list_data)\\nfilter_template(lambda x : x%2 == 0, L=list_data)',\n",
       "  'filter(lambda x : x%2 == 0, list_data)',\n",
       "  'print(filter(lambda x : x%2 == 0, list_data))\\nprint(list(filter(lambda x : x%2 == 0, list_data)))',\n",
       "  \"print(filter(lambda x : x%2 == 0, list_data))\\nprint(list(filter(lambda x : x%2 == 0, list_data)))\\nfor data in filter(lambda x : x%2 == 0, list_data):\\nprint(item, end=' ')\",\n",
       "  \"print(filter(lambda x : x%2 == 0, list_data))\\nprint(list(filter(lambda x : x%2 == 0, list_data)))\\nfor data in filter(lambda x : x%2 == 0, list_data):\\n    print(item, end=' ')\",\n",
       "  \"print(filter(lambda x : x%2 == 0, list_data))\\nprint(list(filter(lambda x : x%2 == 0, list_data)))\\nfor item in filter(lambda x : x%2 == 0, list_data):\\n    print(item, end=' ')\",\n",
       "  \"print(filter(lambda x : x%2 == 0, list_data))\\nprint(list(filter(lambda x : x%2 == 0, list_data)))\\n# filter 함수 이용\\nfor item in filter(lambda x : x%2 == 0, list_data):\\n    print(item, end=' ')\",\n",
       "  '# 리스트 컴프리헨션 이용\\n[x for x in list_data]',\n",
       "  '# 리스트 컴프리헨션 이용\\n[x for x in list_data]\\n[x%2 == 0 x in list_data]',\n",
       "  '# 리스트 컴프리헨션 이용\\n[x for x in list_data]\\n[x%2 == 0 for x in list_data]',\n",
       "  '# 리스트 컴프리헨션 이용\\n[x for x in list_data]\\n[x for x in list_data if x%2 == 0]',\n",
       "  '# 리스트 컴프리헨션 이용\\nprint([x for x in list_data])\\n[x for x in list_data if x%2 == 0]',\n",
       "  '# 리스트 컴프리헨션 이용\\nprint([x for x in list_data])\\n[x for x in list_data if x%2 == 0]',\n",
       "  '# quiz : 다음 리스트에서 소수점이하가 0인 수만 추출하시오\\n# 1. filter함수, 람다식 이용 / 2. filter_template 이용 / 3. 리스트 컴프리헨션 이용\\nL = [1, 1.2, 1.5, 2, 3.0, 10.5, 100]\\n\\n\\n# 결과 [1, 2, 3.0, 100]',\n",
       "  'def filter_template(func, L=[]):\\n    result = []\\n    for item in L:\\n        if func(item):\\n            result.append(item)\\n    return result',\n",
       "  'filter_template(lambda x, x%2==0, [1,2,3])',\n",
       "  \"# quiz : 다음 리스트에서 소수점이하가 0인 수만 추출하시오\\n# 1. filter함수, 람다식 이용 / 2. filter_template 이용 / 3. 리스트 컴프리헨션 이용\\nL = [1, 1.2, 1.5, 2, 3.0, 10.5, 100]\\n\\n# 1.\\nfor item in filter(lambda x : x.2f, L)\\n    print(item, end=' ')\\n\\n# 결과 [1, 2, 3.0, 100]\",\n",
       "  \"# quiz : 다음 리스트에서 소수점이하가 0인 수만 추출하시오\\n# 1. filter함수, 람다식 이용 / 2. filter_template 이용 / 3. 리스트 컴프리헨션 이용\\nL = [1, 1.2, 1.5, 2, 3.0, 10.5, 100]\\n\\n# 1.\\nfor item in filter(lambda x : x.2f, L)\\n    print('{:.2f}', item.format(x), end=' ')\\n\\n# 결과 [1, 2, 3.0, 100]\",\n",
       "  \"# quiz : 다음 리스트에서 소수점이하가 0인 수만 추출하시오\\n# 1. filter함수, 람다식 이용 / 2. filter_template 이용 / 3. 리스트 컴프리헨션 이용\\nL = [1, 1.2, 1.5, 2, 3.0, 10.5, 100]\\n\\n# 1.\\nfor item in filter(lambda x : x, L)\\n    print('{:.2f}', item.format(x), end=' ')\\n\\n# 결과 [1, 2, 3.0, 100]\",\n",
       "  \"# quiz : 다음 리스트에서 소수점이하가 0인 수만 추출하시오\\n# 1. filter함수, 람다식 이용 / 2. filter_template 이용 / 3. 리스트 컴프리헨션 이용\\nL = [1, 1.2, 1.5, 2, 3.0, 10.5, 100]\\n\\n# 1.\\nfor item in filter(lambda x : x, L):\\n    print('{:.2f}', item.format(x), end=' ')\\n\\n# 결과 [1, 2, 3.0, 100]\",\n",
       "  \"# quiz : 다음 리스트에서 소수점이하가 0인 수만 추출하시오\\n# 1. filter함수, 람다식 이용 / 2. filter_template 이용 / 3. 리스트 컴프리헨션 이용\\nL = [1, 1.2, 1.5, 2, 3.0, 10.5, 100]\\n\\n# 1.\\nfor item in filter(lambda x : x, L):\\n    print('{:.2f}', x.format(x), end=' ')\\n\\n# 결과 [1, 2, 3.0, 100]\",\n",
       "  \"# quiz : 다음 리스트에서 소수점이하가 0인 수만 추출하시오\\n# 1. filter함수, 람다식 이용 / 2. filter_template 이용 / 3. 리스트 컴프리헨션 이용\\nL = [1, 1.2, 1.5, 2, 3.0, 10.5, 100]\\n\\n# 1.\\nfor item in filter(lambda x : x, L):\\n    print('{:.2f}', x.format(item), end=' ')\\n\\n# 결과 [1, 2, 3.0, 100]\",\n",
       "  \"# quiz : 다음 리스트에서 소수점이하가 0인 수만 추출하시오\\n# 1. filter함수, 람다식 이용 / 2. filter_template 이용 / 3. 리스트 컴프리헨션 이용\\nL = [1, 1.2, 1.5, 2, 3.0, 10.5, 100]\\n\\n# 1.\\nfor item in filter(lambda x : x.2f, L):\\n    print(item, end=' ')\\n\\n# 결과 [1, 2, 3.0, 100]\",\n",
       "  \"# quiz : 다음 리스트에서 소수점이하가 0인 수만 추출하시오\\n# 1. filter함수, 람다식 이용 / 2. filter_template 이용 / 3. 리스트 컴프리헨션 이용\\nL = [1, 1.2, 1.5, 2, 3.0, 10.5, 100]\\n\\n# 1.\\nfor item in filter(lambda x : x.is_integer(), L):\\n    print(item, end=' ')\\n\\n# 결과 [1, 2, 3.0, 100]\",\n",
       "  \"# quiz : 다음 리스트에서 소수점이하가 0인 수만 추출하시오\\n# 1. filter함수, 람다식 이용 / 2. filter_template 이용 / 3. 리스트 컴프리헨션 이용\\nL = [1, 1.2, 1.5, 2, 3.0, 10.5, 100]\\n\\n# 1.\\nfor item in filter(lambda x : x.is_integer(), L):\\n    print(item, end=' ')\\n\\n# 결과 [1, 2, 3.0, 100]\",\n",
       "  \"# quiz : 다음 리스트에서 소수점이하가 0인 수만 추출하시오\\n# 1. filter함수, 람다식 이용 / 2. filter_template 이용 / 3. 리스트 컴프리헨션 이용\\nL = [1, 1.2, 1.5, 2, 3.0, 10.5, 100]\\n\\n# 1.\\nfor item in filter(lambda x : x.int(), L):\\n    print(item, end=' ')\\n\\n# 결과 [1, 2, 3.0, 100]\",\n",
       "  \"# quiz : 다음 리스트에서 소수점이하가 0인 수만 추출하시오\\n# 1. filter함수, 람다식 이용 / 2. filter_template 이용 / 3. 리스트 컴프리헨션 이용\\nL = [1, 1.2, 1.5, 2, 3.0, 10.5, 100]\\n\\n# 1.\\nfor item in filter(lambda x : x.is_int(), L):\\n    print(item, end=' ')\\n\\n# 결과 [1, 2, 3.0, 100]\",\n",
       "  \"# quiz : 다음 리스트에서 소수점이하가 0인 수만 추출하시오\\n# 1. filter함수, 람다식 이용 / 2. filter_template 이용 / 3. 리스트 컴프리헨션 이용\\nL = [1, 1.2, 1.5, 2, 3.0, 10.5, 100]\\n\\n# 1.\\nprint(list(filter(lambda x : x.int(), L)))\\nfor item in filter(lambda x : x.(), L):\\n    print(item, end=' ')\\n\\n# 결과 [1, 2, 3.0, 100]\",\n",
       "  \"# quiz : 다음 리스트에서 소수점이하가 0인 수만 추출하시오\\n# 1. filter함수, 람다식 이용 / 2. filter_template 이용 / 3. 리스트 컴프리헨션 이용\\nL = [1, 1.2, 1.5, 2, 3.0, 10.5, 100]\\n\\n# 1.\\nprint(list(filter(lambda x : x.int(), L)))\\nfor item in filter(lambda x : x.int(), L):\\n    print(item, end=' ')\\n\\n# 결과 [1, 2, 3.0, 100]\",\n",
       "  \"# quiz : 다음 리스트에서 소수점이하가 0인 수만 추출하시오\\n# 1. filter함수, 람다식 이용 / 2. filter_template 이용 / 3. 리스트 컴프리헨션 이용\\nL = [1, 1.2, 1.5, 2, 3.0, 10.5, 100]\\n\\n# 1.\\nprint(list(filter(lambda x : x.integer(), L)))\\nfor item in filter(lambda x : x.int(), L):\\n    print(item, end=' ')\\n\\n# 결과 [1, 2, 3.0, 100]\",\n",
       "  \"# quiz : 다음 리스트에서 소수점이하가 0인 수만 추출하시오\\n# 1. filter함수, 람다식 이용 / 2. filter_template 이용 / 3. 리스트 컴프리헨션 이용\\nL = [1, 1.2, 1.5, 2, 3.0, 10.5, 100]\\n\\n# 1.\\nprint(list(filter(lambda x : x.is_integer(), L)))\\nfor item in filter(lambda x : x.int(), L):\\n    print(item, end=' ')\\n\\n# 결과 [1, 2, 3.0, 100]\",\n",
       "  \"# quiz : 다음 리스트에서 소수점이하가 0인 수만 추출하시오\\n# 1. filter함수, 람다식 이용 / 2. filter_template 이용 / 3. 리스트 컴프리헨션 이용\\nL = [1, 1.2, 1.5, 2, 3.0, 10.5, 100]\\n\\n# 1.\\nprint(list(filter(lambda x : x.int(), L)))\\nfor item in filter(lambda x : x.int(), L):\\n    print(item, end=' ')\\n\\n# 결과 [1, 2, 3.0, 100]\",\n",
       "  \"# quiz : 다음 리스트에서 소수점이하가 0인 수만 추출하시오\\n# 1. filter함수, 람다식 이용 / 2. filter_template 이용 / 3. 리스트 컴프리헨션 이용\\nL = [1, 1.2, 1.5, 2, 3.0, 10.5, 100]\\n\\n# 1.\\nprint(list(filter(lambda x : int(x), L)))\\nfor item in filter(lambda x : x.int(), L):\\n    print(item, end=' ')\\n\\n# 결과 [1, 2, 3.0, 100]\",\n",
       "  \"# quiz : 다음 리스트에서 소수점이하가 0인 수만 추출하시오\\n# 1. filter함수, 람다식 이용 / 2. filter_template 이용 / 3. 리스트 컴프리헨션 이용\\nL = [1, 1.2, 1.5, 2, 3.0, 10.5, 100]\\n\\n# 1.\\nprint(list(filter(lambda x : int(x), L)))\\nfor item in filter(lambda x : int(x), L):\\n    print(item, end=' ')\\n\\n# 결과 [1, 2, 3.0, 100]\",\n",
       "  \"# quiz : 다음 리스트에서 소수점이하가 0인 수만 추출하시오\\n# 1. filter함수, 람다식 이용 / 2. filter_template 이용 / 3. 리스트 컴프리헨션 이용\\nL = [1, 1.2, 1.5, 2, 3.0, 10.5, 100]\\n\\n# 1.\\nprint(list(filter(lambda x : int(x), L)))\\n\\n# for item in filter(lambda x : int(x), L):\\n#     print(item, end=' ')\\n\\n# 결과 [1, 2, 3.0, 100]\",\n",
       "  \"# quiz : 다음 리스트에서 소수점이하가 0인 수만 추출하시오\\n# 1. filter함수, 람다식 이용 / 2. filter_template 이용 / 3. 리스트 컴프리헨션 이용\\nL = [1, 1.2, 1.5, 2, 3.0, 10.5, 100]\\n\\n# 1.\\nprint(list(filter(lambda x : int(x, ), L)))\\n\\n# for item in filter(lambda x : int(x), L):\\n#     print(item, end=' ')\\n\\n# 결과 [1, 2, 3.0, 100]\",\n",
       "  \"# quiz : 다음 리스트에서 소수점이하가 0인 수만 추출하시오\\n# 1. filter함수, 람다식 이용 / 2. filter_template 이용 / 3. 리스트 컴프리헨션 이용\\nL = [1, 1.2, 1.5, 2, 3.0, 10.5, 100]\\n\\n# 1.\\nprint(list(filter(lambda x : int(x), L)))\\n\\n# for item in filter(lambda x : int(x), L):\\n#     print(item, end=' ')\\n\\n# 결과 [1, 2, 3.0, 100]\",\n",
       "  \"# quiz : 다음 리스트에서 소수점이하가 0인 수만 추출하시오\\n# 1. filter함수, 람다식 이용 / 2. filter_template 이용 / 3. 리스트 컴프리헨션 이용\\nL = [1, 1.2, 1.5, 2, 3.0, 10.5, 100]\\n\\n# 1.\\nprint(list(filter(lambda x : int(x), L)))\\n\\nfor item in filter(lambda x : int(x), L):\\n    print(item, end=' ')\\n\\n# 결과 [1, 2, 3.0, 100]\",\n",
       "  \"# quiz : 다음 리스트에서 소수점이하가 0인 수만 추출하시오\\n# 1. filter함수, 람다식 이용 / 2. filter_template 이용 / 3. 리스트 컴프리헨션 이용\\nL = [1, 1.2, 1.5, 2, 3.0, 10.5, 100]\\n\\n# 1.\\nprint(list(filter(lambda x : int(x, .f), L)))\\n\\nfor item in filter(lambda x : int(x), L):\\n    print(item, end=' ')\\n\\n# 결과 [1, 2, 3.0, 100]\",\n",
       "  \"# quiz : 다음 리스트에서 소수점이하가 0인 수만 추출하시오\\n# 1. filter함수, 람다식 이용 / 2. filter_template 이용 / 3. 리스트 컴프리헨션 이용\\nL = [1, 1.2, 1.5, 2, 3.0, 10.5, 100]\\n\\n# 1.\\nprint(list(filter(lambda x : int(x, f), L)))\\n\\nfor item in filter(lambda x : int(x), L):\\n    print(item, end=' ')\\n\\n# 결과 [1, 2, 3.0, 100]\",\n",
       "  \"# quiz : 다음 리스트에서 소수점이하가 0인 수만 추출하시오\\n# 1. filter함수, 람다식 이용 / 2. filter_template 이용 / 3. 리스트 컴프리헨션 이용\\nL = [1, 1.2, 1.5, 2, 3.0, 10.5, 100]\\n\\n# 1.\\nprint(list(filter(lambda x : int(x), L)))\\n\\nfor item in filter(lambda x : int(x), L):\\n    print(item, end=' ')\\n\\n# 2.\\nfilter_template(lambda x : x%2 == 0, L=list_data)\\n    \\n# 결과 [1, 2, 3.0, 100]\",\n",
       "  \"# quiz : 다음 리스트에서 소수점이하가 0인 수만 추출하시오\\n# 1. filter함수, 람다식 이용 / 2. filter_template 이용 / 3. 리스트 컴프리헨션 이용\\nL = [1, 1.2, 1.5, 2, 3.0, 10.5, 100]\\n\\n# 1.\\nprint(list(filter(lambda x : int(x), L)))\\n\\nfor item in filter(lambda x : int(x), L):\\n    print(item, end=' ')\\n\\n# 2.\\nfilter_template(lambda x : x%2 == 0, L)\\n    \\n# 결과 [1, 2, 3.0, 100]\",\n",
       "  \"# quiz : 다음 리스트에서 소수점이하가 0인 수만 추출하시오\\n# 1. filter함수, 람다식 이용 / 2. filter_template 이용 / 3. 리스트 컴프리헨션 이용\\nL = [1, 1.2, 1.5, 2, 3.0, 10.5, 100]\\n\\n# 1.\\nprint(list(filter(lambda x : int(x), L)))\\n\\nfor item in filter(lambda x : int(x), L):\\n    print(item, end=' ')\\n\\n# 2.\\nfilter_template(lambda x : int(x), L)\\n    \\n# 결과 [1, 2, 3.0, 100]\",\n",
       "  \"# quiz : 다음 리스트에서 소수점이하가 0인 수만 추출하시오\\n# 1. filter함수, 람다식 이용 / 2. filter_template 이용 / 3. 리스트 컴프리헨션 이용\\nL = [1, 1.2, 1.5, 2, 3.0, 10.5, 100]\\n\\n# 1.\\nprint(list(filter(lambda x: int(x), L)))\\n\\nfor item in filter(lambda x: x/1.0, L):\\n    print(item, end=' ')\\n\\n# 2.\\nfilter_template(lambda x: int(x), L)\\n\\n# 결과 [1, 2, 3.0, 100]\",\n",
       "  \"# quiz : 다음 리스트에서 소수점이하가 0인 수만 추출하시오\\n# 1. filter함수, 람다식 이용 / 2. filter_template 이용 / 3. 리스트 컴프리헨션 이용\\nL = [1, 1.2, 1.5, 2, 3.0, 10.5, 100]\\n\\n# 1.\\nprint(list(filter(lambda x: x/1.0, L)))\\n\\nfor item in filter(lambda x: x/1.0, L):\\n    print(item, end=' ')\\n\\n# 2.\\nfilter_template(lambda x: int(x), L)\\n\\n# 결과 [1, 2, 3.0, 100]\",\n",
       "  \"# quiz : 다음 리스트에서 소수점이하가 0인 수만 추출하시오\\n# 1. filter함수, 람다식 이용 / 2. filter_template 이용 / 3. 리스트 컴프리헨션 이용\\nL = [1, 1.2, 1.5, 2, 3.0, 10.5, 100]\\n\\n# 1.\\nprint(list(filter(lambda x: x%1.0, L)))\\n\\nfor item in filter(lambda x: x%1.0, L):\\n    print(item, end=' ')\\n\\n# 2.\\nfilter_template(lambda x: x%1.0, L)\\n\\n# 3.\\n[x for x in L if x%1.0]\\n\\n# 결과 [1, 2, 3.0, 100]\",\n",
       "  \"# quiz : 다음 리스트에서 소수점이하가 0인 수만 추출하시오\\n# 1. filter함수, 람다식 이용 / 2. filter_template 이용 / 3. 리스트 컴프리헨션 이용\\nL = [1, 1.2, 1.5, 2, 3.0, 10.5, 100]\\n\\n# 1.\\nprint(list(filter(lambda x : x%1.0, L)))\\n\\nfor item in filter(lambda x : x%1.0, L):\\n    print(item, end=' ')\\n\\n# 2.\\nfilter_template(lambda x: x%1.0, L)\\n\\n# 3.\\n[x for x in L if x%1.0]\\n\\n# 결과 [1, 2, 3.0, 100]\",\n",
       "  \"# quiz : 다음 리스트에서 소수점이하가 0인 수만 추출하시오\\n# 1. filter함수, 람다식 이용 / 2. filter_template 이용 / 3. 리스트 컴프리헨션 이용\\nL = [1, 1.2, 1.5, 2, 3.0, 10.5, 100]\\n\\n# 1.\\nprint(list(filter(lambda x : x%1.0, L)))\\n\\nfor item in filter(lambda x : x%1.0, L):\\n    print(item, end=' ')\\n\\n# 2.\\nfilter_template(lambda x : x%1.0, L)\\n\\n# 3.\\n[x for x in L if x%1.0]\\n\\n# 결과 [1, 2, 3.0, 100]\",\n",
       "  \"# quiz : 다음 리스트에서 소수점이하가 0인 수만 추출하시오\\n# 1. filter함수, 람다식 이용 / 2. filter_template 이용 / 3. 리스트 컴프리헨션 이용\\nL = [1, 1.2, 1.5, 2, 3.0, 10.5, 100]\\n\\n# 1.\\nprint(filter(lambda x : x%1.0, L))\\n\\nfor item in filter(lambda x : x%1.0, L):\\n    print(item, end=' ')\\n\\n# 2.\\nfilter_template(lambda x : x%1.0, L)\\n\\n# 3.\\n[x for x in L if x%1.0]\\n\\n# 결과 [1, 2, 3.0, 100]\",\n",
       "  \"# quiz : 다음 리스트에서 소수점이하가 0인 수만 추출하시오\\n# 1. filter함수, 람다식 이용 / 2. filter_template 이용 / 3. 리스트 컴프리헨션 이용\\nL = [1, 1.2, 1.5, 2, 3.0, 10.5, 100]\\n\\n# 1.\\nprint(list(filter(lambda x : x%1.0, L)))\\n\\nfor item in filter(lambda x : x%1.0, L):\\n    print(item, end=' ')\\n\\n# 2.\\nfilter_template(lambda x : x%1.0, L)\\n\\n# 3.\\n[x for x in L if x%1.0]\\n\\n# 결과 [1, 2, 3.0, 100]\",\n",
       "  \"# quiz : 다음 리스트에서 소수점이하가 0인 수만 추출하시오\\n# 1. filter함수, 람다식 이용 / 2. filter_template 이용 / 3. 리스트 컴프리헨션 이용\\nL = [1, 1.2, 1.5, 2, 3.0, 10.5, 100]\\n\\n# 1.\\nprint(list(filter(lambda x: x%1.0, L)))\\n\\nfor item in filter(lambda x: x % 1.0, L):\\n    print(item, end=' ')\\n\\n# 2.\\nfilter_template(lambda x: x % 1.0, L)\\n\\n# 3.\\n[x for x in L if x % 1.0]\\n\\n# 결과 [1, 2, 3.0, 100]\",\n",
       "  \"# quiz : 다음 리스트에서 소수점이하가 0인 수만 추출하시오\\n# 1. filter함수, 람다식 이용 / 2. filter_template 이용 / 3. 리스트 컴프리헨션 이용\\nL = [1, 1.2, 1.5, 2, 3.0, 10.5, 100]\\n\\nx = 2.0\\n\\n# 1.\\nprint(list(filter(lambda x: x%1.0, L)))\\n\\nfor item in filter(lambda x: x % 1.0, L):\\n    print(item, end=' ')\\n\\n# 2.\\nfilter_template(lambda x: x % 1.0, L)\\n\\n# 3.\\n[x for x in L if x % 1.0]\\n\\n# 결과 [1, 2, 3.0, 100]\",\n",
       "  \"# quiz : 다음 리스트에서 소수점이하가 0인 수만 추출하시오\\n# 1. filter함수, 람다식 이용 / 2. filter_template 이용 / 3. 리스트 컴프리헨션 이용\\nL = [1, 1.2, 1.5, 2, 3.0, 10.5, 100]\\n\\n# 정수인지 확인\\nx = 2.0\\nprint(x.is_integer())\\n\\n\\n# 1.\\nprint(list(filter(lambda x: x%1.0, L)))\\n\\nfor item in filter(lambda x: x % 1.0, L):\\n    print(item, end=' ')\\n\\n# 2.\\nfilter_template(lambda x: x % 1.0, L)\\n\\n# 3.\\n[x for x in L if x % 1.0]\\n\\n# 결과 [1, 2, 3.0, 100]\",\n",
       "  \"# quiz : 다음 리스트에서 소수점이하가 0인 수만 추출하시오\\n# 1. filter함수, 람다식 이용 / 2. filter_template 이용 / 3. 리스트 컴프리헨션 이용\\nL = [1, 1.2, 1.5, 2, 3.0, 10.5, 100]\\n\\n# 정수인지 확인 (x가 실제 정수이면 에러)\\n# x = 2.0\\n# print(x.is_integer())\\n\\n\\n# 1.\\nprint(list(filter(lambda x: x%1.0, L)))\\n\\nfor item in filter(lambda x: x % 1.0, L):\\n    print(item, end=' ')\\n\\n# 2.\\nfilter_template(lambda x: x % 1.0, L)\\n\\n# 3.\\n[x for x in L if x % 1.0]\\n\\n# 결과 [1, 2, 3.0, 100]\",\n",
       "  \"# quiz : 다음 리스트에서 소수점이하가 0인 수만 추출하시오\\n# 1. filter함수, 람다식 이용 / 2. filter_template 이용 / 3. 리스트 컴프리헨션 이용\\nL = [1, 1.2, 1.5, 2, 3.0, 10.5, 100]\\n\\n# 정수인지 확인 (x가 실제 정수이면 에러)\\n# x = 2.0\\n# print(x.is_integer())\\n\\n# 1.\\nprint(list(filter(lambda x: x//1.0, L)))\\n\\nfor item in filter(lambda x: x % 1.0, L):\\n    print(item, end=' ')\\n\\n# 2.\\nfilter_template(lambda x: x % 1.0, L)\\n\\n# 3.\\n[x for x in L if x % 1.0]\\n\\n# 결과 [1, 2, 3.0, 100]\",\n",
       "  \"# quiz : 다음 리스트에서 소수점이하가 0인 수만 추출하시오\\n# 1. filter함수, 람다식 이용 / 2. filter_template 이용 / 3. 리스트 컴프리헨션 이용\\nL = [1, 1.2, 1.5, 2, 3.0, 10.5, 100]\\n\\n# 정수인지 확인 (x가 실제 정수이면 에러)\\n# x = 2.0\\n# print(x.is_integer())\\n\\n# 1.\\nprint(list(filter(lambda x: x%1.0, L)))\\n\\nfor item in filter(lambda x: x % 1.0, L):\\n    print(item, end=' ')\\n\\n# 2.\\nfilter_template(lambda x: x % 1.0, L)\\n\\n# 3.\\n[x for x in L if x % 1.0]\\n\\n# 결과 [1, 2, 3.0, 100]\",\n",
       "  \"# quiz : 다음 리스트에서 소수점이하가 0인 수만 추출하시오\\n# 1. filter함수, 람다식 이용 / 2. filter_template 이용 / 3. 리스트 컴프리헨션 이용\\nL = [1, 1.2, 1.5, 2, 3.0, 10.5, 100]\\n\\n# 정수인지 확인 (x가 실제 정수이면 에러)\\n# x = 2.0\\n# print(x.is_integer())\\n\\n# 1.\\nprint(list(filter(lambda x: x%1.0 == 0, L)))\\n\\nfor item in filter(lambda x: x % 1.0, L):\\n    print(item, end=' ')\\n\\n# 2.\\nfilter_template(lambda x: x % 1.0, L)\\n\\n# 3.\\n[x for x in L if x % 1.0]\\n\\n# 결과 [1, 2, 3.0, 100]\",\n",
       "  \"# quiz : 다음 리스트에서 소수점이하가 0인 수만 추출하시오\\n# 1. filter함수, 람다식 이용 / 2. filter_template 이용 / 3. 리스트 컴프리헨션 이용\\nL = [1, 1.2, 1.5, 2, 3.0, 10.5, 100]\\n\\n# 정수인지 확인 (x가 실제 정수이면 에러)\\n# x = 2.0\\n# print(x.is_integer())\\n\\n# 1.\\nprint(list(filter(lambda x: x%1.0 == 0, L)))\\nprint(list(filter(lambda x: x == round(x), L)))\\nprint(list(filter(lambda x: x == x//1, L)))\\n\\nfor item in filter(lambda x: x % 1.0, L):\\n    print(item, end=' ')\\n\\n# 2.\\nfilter_template(lambda x: x % 1.0, L)\\n\\n# 3.\\n[x for x in L if x % 1.0]\\n\\n# 결과 [1, 2, 3.0, 100]\",\n",
       "  \"# quiz : 다음 리스트에서 소수점이하가 0인 수만 추출하시오\\n# 1. filter함수, 람다식 이용 / 2. filter_template 이용 / 3. 리스트 컴프리헨션 이용\\nL = [1, 1.2, 1.5, 2, 3.0, 10.5, 100]\\n\\n# 정수인지 확인 (x가 실제 정수이면 에러)\\n# x = 2.0\\n# print(x.is_integer())\\n\\n# 1.\\nprint(list(filter(lambda x: x%1.0 == 0, L)))\\nprint(list(filter(lambda x: x == round(x), L)))\\nprint(list(filter(lambda x: x == x//1, L)))\\n\\nfor item in filter(lambda x: x%1.0 == 0, L):\\n    print(item, end=' ')\\n\\n# 2.\\nfilter_template(lambda x: x%1.0 == 0, L)\\n\\n# 3.\\n[x for x in L if x x%1.0 == 0]\\n\\n# 결과 [1, 2, 3.0, 100]\",\n",
       "  \"# quiz : 다음 리스트에서 소수점이하가 0인 수만 추출하시오\\n# 1. filter함수, 람다식 이용 / 2. filter_template 이용 / 3. 리스트 컴프리헨션 이용\\nL = [1, 1.2, 1.5, 2, 3.0, 10.5, 100]\\n\\n# 정수인지 확인 (x가 실제 정수이면 에러)\\n# x = 2.0\\n# print(x.is_integer())\\n\\n# 1.\\nprint(list(filter(lambda x: x%1.0 == 0, L)))\\nprint(list(filter(lambda x: x == round(x), L)))\\nprint(list(filter(lambda x: x == x//1, L)))\\n\\nfor item in filter(lambda x: x%1.0 == 0, L):\\n    print(item, end=' ')\\n\\n# 2.\\nfilter_template(lambda x: x%1.0 == 0, L)\\n\\n# 3.\\n[x for x in L if x%1.0 == 0]\\n\\n# 결과 [1, 2, 3.0, 100]\",\n",
       "  \"# quiz : 다음 리스트에서 소수점이하가 0인 수만 추출하시오\\n# 1. filter함수, 람다식 이용 / 2. filter_template 이용 / 3. 리스트 컴프리헨션 이용\\nL = [1, 1.2, 1.5, 2, 3.0, 10.5, 100]\\n\\n# 정수인지 확인 (x가 실제 정수이면 에러)\\n# x = 2.0\\n# print(x.is_integer())\\n\\n# 1.\\nprint(list(filter(lambda x: x%1.0 == 0, L)))\\nprint(list(filter(lambda x: x == round(x), L)))\\nprint(list(filter(lambda x: x == x//1, L)))\\n\\nfor item in filter(lambda x: x%1.0 == 0, L):\\n    print(item, end=' ')\\n\\n# 2.\\nprint(filter_template(lambda x: x%1.0 == 0, L))\\n\\n# 3.\\n[x for x in L if x%1.0 == 0]\\n\\n# 결과 [1, 2, 3.0, 100]\",\n",
       "  \"# quiz : 다음 리스트에서 소수점이하가 0인 수만 추출하시오\\n# 1. filter함수, 람다식 이용 / 2. filter_template 이용 / 3. 리스트 컴프리헨션 이용\\nL = [1, 1.2, 1.5, 2, 3.0, 10.5, 100]\\n\\n# 정수인지 확인 (x가 실제 정수이면 에러)\\n# x = 2.0\\n# print(x.is_integer())\\n\\n# 1.\\nprint(list(filter(lambda x: x%1.0 == 0, L)))\\nprint(list(filter(lambda x: x == round(x), L)))\\nprint(list(filter(lambda x: x == x//1, L)))\\n\\nfor item in filter(lambda x: x%1.0 == 0, L):\\n    print(item, end=' ')\\n\\n# 2.\\nprint(filter_template(lambda x: x%1.0 == 0, L))\\n\\n# 3.\\nprint([x for x in L if x%1.0 == 0])\\n\\n# 결과 [1, 2, 3.0, 100]\",\n",
       "  \"# quiz : 다음 리스트에서 소수점이하가 0인 수만 추출하시오\\n# 1. filter함수, 람다식 이용 / 2. filter_template 이용 / 3. 리스트 컴프리헨션 이용\\nL = [1, 1.2, 1.5, 2, 3.0, 10.5, 100]\\n\\n# 정수인지 확인 (x가 실제 정수이면 에러)\\n# x = 2.0\\n# print(x.is_integer())\\n\\n# 1.\\nprint(list(filter(lambda x: x%1.0 == 0, L)))\\nprint(list(filter(lambda x: x == round(x), L)))\\nprint(list(filter(lambda x: x == x//1, L)))\\n\\nfor item in filter(lambda x: x%1.0 == 0, L):\\n    print(item, end=' ')\\n\\n# 2\\nfilter_template(lambda x: x%1.0 == 0, L)\\n\\n# 3.\\nprint([x for x in L if x%1.0 == 0])\\n\\n# 결과 [1, 2, 3.0, 100]\",\n",
       "  \"# quiz : 다음 리스트에서 소수점이하가 0인 수만 추출하시오\\n# 1. filter함수, 람다식 이용 / 2. filter_template 이용 / 3. 리스트 컴프리헨션 이용\\nL = [1, 1.2, 1.5, 2, 3.0, 10.5, 100]\\n\\n# 정수인지 확인 (x가 실제 정수이면 에러)\\n# x = 2.0\\n# print(x.is_integer())\\n\\n# 1.\\nprint(list(filter(lambda x: x%1.0 == 0, L)))\\nprint(list(filter(lambda x: x == round(x), L)))\\nprint(list(filter(lambda x: x == x//1, L)))\\n\\nfor item in filter(lambda x: x%1.0 == 0, L):\\n    print(item, end=' ')\\n\\n# 2\\nprint(filter_template(lambda x: x%1.0 == 0, L))\\n\\n# 3.\\nprint([x for x in L if x%1.0 == 0])\\n\\n# 결과 [1, 2, 3.0, 100]\",\n",
       "  \"# quiz : 다음 리스트에서 소수점이하가 0인 수만 추출하시오\\n# 1. filter함수, 람다식 이용 / 2. filter_template 이용 / 3. 리스트 컴프리헨션 이용\\nL = [1, 1.2, 1.5, 2, 3.0, 10.5, 100]\\n\\n# 정수인지 확인 (x가 실제 정수이면 에러)\\n# x = 2.0\\n# print(x.is_integer())\\n\\n# 1.\\nprint(list(filter(lambda x: x%1.0 == 0, L)))\\nprint(list(filter(lambda x: x == round(x), L)))\\nprint(list(filter(lambda x: x == x//1, L)))\\n\\nfor item in filter(lambda x: x%1.0 == 0, L):\\n    print(item, end=' ')\\n\\n# 2\\nprint(filter_template(lambda x: x%1.0 == 0, L))\\nprint()\\n# 3.\\nprint([x for x in L if x%1.0 == 0])\\n\\n# 결과 [1, 2, 3.0, 100]\",\n",
       "  \"# quiz : 다음 리스트에서 소수점이하가 0인 수만 추출하시오\\n# 1. filter함수, 람다식 이용 / 2. filter_template 이용 / 3. 리스트 컴프리헨션 이용\\nL = [1, 1.2, 1.5, 2, 3.0, 10.5, 100]\\n\\n# 정수인지 확인 (x가 실제 정수이면 에러)\\n# x = 2.0\\n# print(x.is_integer())\\n\\n# 1.\\nprint(list(filter(lambda x: x%1.0 == 0, L)))\\nprint(list(filter(lambda x: x == round(x), L)))\\nprint(list(filter(lambda x: x == x//1, L)))\\n\\nfor item in filter(lambda x: x%1.0 == 0, L):\\n    print(item, end=' ')\\nprint()\\n# 2\\nprint(filter_template(lambda x: x%1.0 == 0, L))\\n\\n# 3.\\nprint([x for x in L if x%1.0 == 0])\\n\\n# 결과 [1, 2, 3.0, 100]\",\n",
       "  \"# quiz : 다음 리스트에서 소수점이하가 0인 수만 추출하시오\\n# 1. filter함수, 람다식 이용 / 2. filter_template 이용 / 3. 리스트 컴프리헨션 이용\\nL = [1, 1.2, 1.5, 2, 3.0, 10.5, 100]\\n\\n# 정수인지 확인 (x가 실제 정수이면 에러)\\n# x = 2.0\\n# print(x.is_integer())\\n\\n# 1.\\nprint(list(filter(lambda x: x%1.0 == 0, L)))\\nprint(list(filter(lambda x: x == round(x), L)))\\nprint(list(filter(lambda x: x == x//1, L)))\\n\\nfor item in filter(lambda x: x%1.0 == 0, L):\\n    print(item, end=' ')\\nprint()\\n\\n# 2\\nprint(filter_template(lambda x: x%1.0 == 0, L))\\n\\n# 3.\\nprint([x for x in L if x%1.0 == 0])\\n\\n# 결과 [1, 2, 3.0, 100]\",\n",
       "  '# quiz : 다음 리스트에서 소수점이하가 0인 수만 추출하시오\\n# 1. filter함수, 람다식 이용 / 2. filter_template 이용 / 3. 리스트 컴프리헨션 이용\\nL = [1, 1.2, 1.5, 2, 3.0, 10.5, 100]\\n\\n# 정수인지 확인 (x가 실제 정수이면 에러)\\n# x = 2.0\\n# print(x.is_integer())\\n\\n# 결과 [1, 2, 3.0, 100]',\n",
       "  \"# 1.\\nprint(list(filter(lambda x: x%1.0 == 0, L)))\\nprint(list(filter(lambda x: x == round(x), L)))\\nprint(list(filter(lambda x: x == x//1, L)))\\n\\nfor item in filter(lambda x: x%1.0 == 0, L):\\n    print(item, end=' ')\",\n",
       "  '# 2\\nprint(filter_template(lambda x: x%1.0 == 0, L))',\n",
       "  '# 3.\\nprint([x for x in L if x%1.0 == 0])',\n",
       "  '# 예제2 : 베스트셀러 list(딕셔너리 리스트)를 가격 순으로 sort',\n",
       "  '# 예제2 : 베스트셀러 list(딕셔너리 리스트)를 가격 순으로 sort\\np = [10, 3, 6, 1]\\np.sort()',\n",
       "  '# 예제2 : 베스트셀러 list(딕셔너리 리스트)를 가격 순으로 sort\\np = [10, 3, 6, 1]\\np.sort()\\np',\n",
       "  '# 예제2 : 베스트셀러 list(딕셔너리 리스트)를 가격 순으로 sort\\np = [10, 3, 6, 1]\\np',\n",
       "  '# 예제2 : 베스트셀러 list(딕셔너리 리스트)를 가격 순으로 sort\\np = [10, 3, 6, 1]\\np.sort()\\np',\n",
       "  '# 예제2 : 베스트셀러 list(딕셔너리 리스트)를 가격 순으로 sort\\np = [10, 3, 6, 1]\\np.sort(reverse=true)\\np',\n",
       "  '# 예제2 : 베스트셀러 list(딕셔너리 리스트)를 가격 순으로 sort\\np = [10, 3, 6, 1]\\np.sort(reverse=True)\\np',\n",
       "  '# 예제2 : 베스트셀러 list(딕셔너리 리스트)를 가격 순으로 sort\\np = [10, 3, 6, 1]\\np.sort(reverse=True)  # 내림차순 정렬\\np',\n",
       "  \"pairs = [(2, 'two'), (1, 'one'), (4, 'four'), (3, 'three')]  # 튜플인 리스트\\npairs.sor()\\nparis\",\n",
       "  \"pairs = [(2, 'two'), (1, 'one'), (4, 'four'), (3, 'three')]  # 튜플인 리스트\\npairs.sort()\\nparis\",\n",
       "  \"pairs = [(2, 'two'), (1, 'one'), (4, 'four'), (3, 'three')]  # 튜플인 리스트\\npairs.sort()\\npairs\",\n",
       "  \"pairs = [(2, 'two'), (1, 'one'), (4, 'four'), (3, 'three')]  # 튜플인 리스트\\n# pairs.sort()  # 튜플의 0번째로 정렬됨\\npairs.sort(1)\\npairs\",\n",
       "  \"pairs = [(2, 'two'), (1, 'one'), (4, 'four'), (3, 'three')]  # 튜플인 리스트\\n# pairs.sort()  # 튜플의 0번째로 정렬됨\\npairs.sort([1])\\npairs\",\n",
       "  \"pairs = [(2, 'two'), (1, 'one'), (4, 'four'), (3, 'three')]  # 튜플인 리스트\\npairs.sort()  # 튜플의 0번째로 정렬됨\\npairs\",\n",
       "  'pairs.sort(key=lambda pair : pair[1])',\n",
       "  'pairs.sort(key=lambda pair : pair[1], pairs)',\n",
       "  'pairs.sort(key=lambda pair : pair[1])\\npairs',\n",
       "  'pairs.sort(key=lambda pair : pair[1])\\n# pairs.sort(key=lambda pair : pair[1], reverse=True)  # z부터 정렬\\npairs  # 1번 째로 abc순으로 정렬',\n",
       "  \"students = [{'name' : '홍', 'score' : 99},\\n            {'name' : '김', 'score' : 22},\\n            {'name' : '이', 'score' : 77},\\n            {'name' : '박', 'score' : 66}]\\n# students를 이름 ㄱㄴㄷ순 정렬\\nstudents.sort(key=lambda student : student.item([idx]))\\n# students를 score순으로 오름차순 정렬\\n\\n# students를 score순으로 내림차순 정렬\",\n",
       "  \"students = [{'name' : '홍', 'score' : 99},\\n            {'name' : '김', 'score' : 22},\\n            {'name' : '이', 'score' : 77},\\n            {'name' : '박', 'score' : 66}]\\n# students를 이름 ㄱㄴㄷ순 정렬\\nstudents.sort(key=lambda student : student.item(1)))\\n# students를 score순으로 오름차순 정렬\\n\\n# students를 score순으로 내림차순 정렬\",\n",
       "  \"students = [{'name' : '홍', 'score' : 99},\\n            {'name' : '김', 'score' : 22},\\n            {'name' : '이', 'score' : 77},\\n            {'name' : '박', 'score' : 66}]\\n# students를 이름 ㄱㄴㄷ순 정렬\\nstudents.sort(key=lambda student : student.item(1))\\n# students를 score순으로 오름차순 정렬\\n\\n# students를 score순으로 내림차순 정렬\",\n",
       "  \"students = [{'name' : '홍', 'score' : 99},\\n            {'name' : '김', 'score' : 22},\\n            {'name' : '이', 'score' : 77},\\n            {'name' : '박', 'score' : 66}]\\n# students를 이름 ㄱㄴㄷ순 정렬\\nstudents.sort(key=lambda student : )\\n# students를 score순으로 오름차순 정렬\\nstudents.sort(key=lambda student : student.value(score))\\n# students를 score순으로 내림차순 정렬\",\n",
       "  \"students = [{'name' : '홍', 'score' : 99},\\n            {'name' : '김', 'score' : 22},\\n            {'name' : '이', 'score' : 77},\\n            {'name' : '박', 'score' : 66}]\\n# students를 이름 ㄱㄴㄷ순 정렬\\n# students.sort(key=lambda student : )\\n# students를 score순으로 오름차순 정렬\\nstudents.sort(key=lambda student : student.value(score))\\n# students를 score순으로 내림차순 정렬\",\n",
       "  \"students = [{'name' : '홍', 'score' : 99},\\n            {'name' : '김', 'score' : 22},\\n            {'name' : '이', 'score' : 77},\\n            {'name' : '박', 'score' : 66}]\\n# students를 이름 ㄱㄴㄷ순 정렬\\nstudents.sort(key=lambda student : student.value('name'))\\n# students를 score순으로 오름차순 정렬\\nstudents.sort(key=lambda student : student.value('score'))\\n# students를 score순으로 내림차순 정렬\",\n",
       "  \"students = [{'name' : '홍', 'score' : 99},\\n            {'name' : '김', 'score' : 22},\\n            {'name' : '이', 'score' : 77},\\n            {'name' : '박', 'score' : 66}]\\n# students를 이름 ㄱㄴㄷ순 정렬\\nstudents.sort(key=lambda student : student.value('name'))\\n# students를 score순으로 오름차순 정렬\\nstudents.sort(key=lambda student : student.value('score'))\\n# students를 score순으로 내림차순 정렬\\nstudents.sort(key=lambda student : student.value('score'), reverse=True)\",\n",
       "  \"students = [{'name' : '홍', 'score' : 99},\\n            {'name' : '김', 'score' : 22},\\n            {'name' : '이', 'score' : 77},\\n            {'name' : '박', 'score' : 66}]\\n# students를 이름 ㄱㄴㄷ순 정렬\\nstudents.sort(key=lambda student : student.item('name'))\\n# students를 score순으로 오름차순 정렬\\nstudents.sort(key=lambda student : student.value('score'))\\n# students를 score순으로 내림차순 정렬\\nstudents.sort(key=lambda student : student.value('score'), reverse=True)\",\n",
       "  \"students = [{'name' : '홍', 'score' : 99},\\n            {'name' : '김', 'score' : 22},\\n            {'name' : '이', 'score' : 77},\\n            {'name' : '박', 'score' : 66}]\\n# students를 이름 ㄱㄴㄷ순 정렬\\nstudents.sort(key=lambda student : student.value('name'))\\n# students를 score순으로 오름차순 정렬\\nstudents.sort(key=lambda student : student.value('score'))\\n# students를 score순으로 내림차순 정렬\\nstudents.sort(key=lambda student : student.value('score'), reverse=True)\",\n",
       "  \"students = [{'name' : '홍', 'score' : 99},\\n            {'name' : '김', 'score' : 22},\\n            {'name' : '이', 'score' : 77},\\n            {'name' : '박', 'score' : 66}]\\n# students를 이름 ㄱㄴㄷ순 정렬\\nstudents.sort(key=lambda student : student.['name'])\\n# students를 score순으로 오름차순 정렬\\nstudents.sort(key=lambda student : student.value('score'))\\n# students를 score순으로 내림차순 정렬\\nstudents.sort(key=lambda student : student.value('score'), reverse=True)\",\n",
       "  \"students = [{'name' : '홍', 'score' : 99},\\n            {'name' : '김', 'score' : 22},\\n            {'name' : '이', 'score' : 77},\\n            {'name' : '박', 'score' : 66}]\\n# students를 이름 ㄱㄴㄷ순 정렬\\nstudents.sort(key=lambda student : student['name'])\\n# students를 score순으로 오름차순 정렬\\nstudents.sort(key=lambda student : student.value('score'))\\n# students를 score순으로 내림차순 정렬\\nstudents.sort(key=lambda student : student.value('score'), reverse=True)\",\n",
       "  \"students = [{'name' : '홍', 'score' : 99},\\n            {'name' : '김', 'score' : 22},\\n            {'name' : '이', 'score' : 77},\\n            {'name' : '박', 'score' : 66}]\\n# students를 이름 ㄱㄴㄷ순 정렬\\nstudents.sort(key=lambda student : student['name'])\\n# students를 score순으로 오름차순 정렬\\nstudents.sort(key=lambda student : student['score'])\\n# students를 score순으로 내림차순 정렬\\nstudents.sort(key=lambda student : student.value('score'), reverse=True)\",\n",
       "  \"students = [{'name' : '홍', 'score' : 99},\\n            {'name' : '김', 'score' : 22},\\n            {'name' : '이', 'score' : 77},\\n            {'name' : '박', 'score' : 66}]\\n# students를 이름 ㄱㄴㄷ순 정렬\\nstudents.sort(key=lambda student : student['name'])\\n# students를 score순으로 오름차순 정렬\\nstudents.sort(key=lambda student : student['score'])\\n# students를 score순으로 내림차순 정렬\\nstudents.sort(key=lambda student : student['score'], reverse=True)\",\n",
       "  \"students = [{'name' : '홍', 'score' : 99},\\n            {'name' : '김', 'score' : 22},\\n            {'name' : '이', 'score' : 77},\\n            {'name' : '박', 'score' : 66}]\\n# students를 이름 ㄱㄴㄷ순 정렬\\nstudents.sort(key=lambda student : student['name'])\\nprint(students)\\n# students를 score순으로 오름차순 정렬\\nstudents.sort(key=lambda student : student['score'])\\n# students를 score순으로 내림차순 정렬\\nstudents.sort(key=lambda student : student['score'], reverse=True)\",\n",
       "  \"students = [{'name' : '홍', 'score' : 99},\\n            {'name' : '김', 'score' : 22},\\n            {'name' : '이', 'score' : 77},\\n            {'name' : '박', 'score' : 66}]\\n# students를 이름 ㄱㄴㄷ순 정렬\\nstudents.sort(key=lambda student : student['name'])\\nprint(students)\\n# students를 score순으로 오름차순 정렬\\nstudents.sort(key=lambda student : student['score'])\\nprint(students)\\n# students를 score순으로 내림차순 정렬\\nstudents.sort(key=lambda student : student['score'], reverse=True)\",\n",
       "  \"students = [{'name' : '홍', 'score' : 99},\\n            {'name' : '김', 'score' : 22},\\n            {'name' : '이', 'score' : 77},\\n            {'name' : '박', 'score' : 66}]\\n# students를 이름 ㄱㄴㄷ순 정렬\\nstudents.sort(key=lambda student : student['name'])\\nprint(students)\\n# students를 score순으로 오름차순 정렬\\nstudents.sort(key=lambda student : student['score'])\\nprint(students)\\n# students를 score순으로 내림차순 정렬\\nstudents.sort(key=lambda student : student['score'], reverse=True)\\nprint(students)\",\n",
       "  \"students = [{'name' : '홍', 'score' : 99},\\n            {'name' : '김', 'score' : 22},\\n            {'name' : '이', 'score' : 77},\\n            {'name' : '박', 'score' : 66}]\",\n",
       "  \"# students를 이름 ㄱㄴㄷ순 정렬\\nstudents.sort(key=lambda student : student['name'])\\nprint(students)\",\n",
       "  \"# students를 score순으로 오름차순 정렬\\nstudents.sort(key=lambda student : student['score'])\\nprint(students)\",\n",
       "  \"# students를 score순으로 내림차순 정렬\\nstudents.sort(key=lambda student : student['score'], reverse=True)\\nprint(students)\",\n",
       "  \"# students를 이름 ㄱㄴㄷ순 정렬\\nstudents.sort(key=lambda student : student['name'])\\nprint(students)\",\n",
       "  \"# students를 이름 ㄱㄴㄷ순 정렬\\nstudents.sort(key=lambda student : student['name'])\\nstudents\",\n",
       "  \"# students를 score순으로 오름차순 정렬\\nstudents.sort(key=lambda student : student['score'])\\nstudents\",\n",
       "  \"# students를 score순으로 오름차순 정렬\\nstudents.sort(key=lambda data : data['score'])\\nstudents\",\n",
       "  \"# students를 score순으로 내림차순 정렬\\nstudents.sort(key=lambda student : student['score'], reverse=True)\\nprint(students)\",\n",
       "  \"# students를 score순으로 내림차순 정렬\\nstudents.sort(key=lambda student : student['score'], reverse=True)\\nSTU\",\n",
       "  \"# students를 score순으로 내림차순 정렬\\nstudents.sort(key=lambda student : student['score'], reverse=True)\\nstudents\",\n",
       "  \"# students를 score순으로 내림차순 정렬\\nstudents.sort(key=lambda student : student['score'], reverse=True)\\nstudents\",\n",
       "  \"# students를 score순으로 내림차순 정렬\\nstudents.sort(key=lambda data : data['score'], reverse=True)\\nstudents.sort(key=lambda data : data.get('score'), reverse=True)\\nstudents\",\n",
       "  \"# students를 score순으로 내림차순 정렬\\n# students.sort(key=lambda data : data['score'], reverse=True)\\nstudents.sort(key=lambda data : data.get('score'), reverse=True)\\nstudents\",\n",
       "  \"# students를 score순으로 내림차순 정렬\\n# students.sort(key=lambda data : data['score'], reverse=True)\\nstudents.sort(key=lambda data : data.get('score'), reverse=True)\\nstudents\",\n",
       "  \"books = [{'no' : 1, 'title' : '소년이 온다', 'writer' : '한강', 'price' : '13,500'},\\n         {'no' : 3, 'title' : '트럼프2.0시대', 'writer' : '박종훈', 'price' : '18,000'},\\n         {'no' : 2, 'title' : '트렌트코리아2025', 'writer' : '김난도', 'price' : '18,100'},\\n         {'no' : 4, 'title' : '가격잘못', 'writer' : '홍길동', 'price' : 'ㅁ'},\\n         {'no' : 5, 'title' : '가격없음', 'writer' : '김난도', 'price' : 'None예정'}]\",\n",
       "  \"books.sort(key=lambda book : book['no'])\\nbooks\",\n",
       "  \"# title순으로 정렬\\nbooks.sort(key=lambda book : book['title'])\\nbooks\",\n",
       "  \"# writer순으로 정렬\\nbooks.sort(key=lambda book : book['writer'])\\nbooks\",\n",
       "  \"books = [{'no' : 1, 'title' : '소년이 온다', 'writer' : '한강', 'price' : '13,500'},\\n         {'no' : 3, 'title' : '트럼프2.0시대', 'writer' : '박종훈', 'price' : '18,000'},\\n         {'no' : 2, 'title' : '트렌트코리아2025', 'writer' : '김난도', 'price' : '9,100'},\\n         {'no' : 4, 'title' : '가격잘못', 'writer' : '홍길동', 'price' : 'ㅁ'},\\n         {'no' : 5, 'title' : '가격없음', 'writer' : '김난도', 'price' : 'None예정'}]\",\n",
       "  \"# no순으로 정렬\\nbooks.sort(key=lambda book : book['no'])\\nbooks\",\n",
       "  \"# title순으로 정렬\\nbooks.sort(key=lambda book : book['title'])\\nbooks\",\n",
       "  \"books = [{'no' : 1, 'title' : '소년이 온다', 'writer' : '한강', 'price' : '13,500'},\\n         {'no' : 3, 'title' : '트럼프2.0시대', 'writer' : '박종훈', 'price' : '18,000'},\\n         {'no' : 2, 'title' : '트렌트코리아2025', 'writer' : '김난도', 'price' : '9,100'},\\n         {'no' : 4, 'title' : '가격잘못', 'writer' : '홍길동', 'price' : 'ㅁ'},\\n         {'no' : 5, 'title' : '가격없음', 'writer' : '신길동', 'price' : 'None예정'}]\",\n",
       "  \"# no순으로 정렬\\nbooks.sort(key=lambda book : book['no'])\\nbooks\",\n",
       "  \"# title순으로 정렬\\nbooks.sort(key=lambda book : book['title'])\\nbooks\",\n",
       "  \"# writer순으로 정렬\\nbooks.sort(key=lambda book : book['writer'])\\nbooks\",\n",
       "  \"# price 기준으로 정렬\\nbooks.sort(key=lambda book : book['price'])\\nbooks\",\n",
       "  \"# price 기준으로 정렬\\nbooks.sort(key=lambda book : book['price'], reverse=True)\\nbooks\",\n",
       "  \"books = [{'no' : 1, 'title' : '소년이 온다', 'writer' : '한강', 'price' : '13,500'},\\n         {'no' : 3, 'title' : '트럼프2.0시대', 'writer' : '박종훈', 'price' : '18,000'},\\n         {'no' : 2, 'title' : '트렌트코리아2025', 'writer' : '김난도', 'price' : '9,100'},\\n         {'no' : 4, 'title' : '가격잘못', 'writer' : '홍길동', 'price' : 'ㅁ'},\\n         {'no' : 5, 'title' : '가격없음', 'writer' : '신길동'}]\",\n",
       "  '# sort : 정렬하고자 하는 값의 타입이 일치해야 함',\n",
       "  '# sort : 정렬하고자 하는 값의 타입이 일치해야 함',\n",
       "  \"books.sort(key=lambda book : book['price'])\\nbooks\",\n",
       "  \"books = [{'no' : 1, 'title' : '소년이 온다', 'writer' : '한강', 'price' : '13,500'},\\n         {'no' : 3, 'title' : '트럼프2.0시대', 'writer' : '박종훈', 'price' : '18,000'},\\n         {'no' : 2, 'title' : '트렌트코리아2025', 'writer' : '김난도', 'price' : '9,100'},\\n         {'no' : 4, 'title' : '가격잘못', 'writer' : '홍길동', 'price' : 'ㅁ'},\\n         {'no' : 6, 'title' : '가격없음', 'writer' : '신길동', 'price' : 9200},\\n         {'no' : 5, 'title' : '가격없음', 'writer' : '신길동'}]\",\n",
       "  \"def parse_int(price):\\n    return int(price.replace(',', ''))\\nparse_int('13,500')\",\n",
       "  \"def parse_int(price):\\n    print(type(price))\\nparse_int('13,500')\",\n",
       "  'def parse_int(price):\\n    print(type(price))',\n",
       "  \"parse_int('ㅁ'), parse_int(None), parse_int(9200), parse_int('13,500')\\n# 결과 0,         0,                9200,           13,500\\n# 결과를 다 숫자(가격)로 return\",\n",
       "  'def parse_int(price):\\n    # print(type(price))\\n    if isinstance(price, str):\\n        print(price)',\n",
       "  \"parse_int('ㅁ'), parse_int(None), parse_int(9200), parse_int('13,500')\\n# 결과 0,         0,                9200,           13,500\\n# 결과를 다 숫자(가격)로 return\",\n",
       "  \"parse_int('ㅁ'), parse_int(None), parse_int(9200), parse_int('13,500')\\n# 결과 0,         0,                9200,           13,500\\n# 결과를 다 숫자(가격)로 return\",\n",
       "  \"# & : 논리연산, 비트연산, 집합연산\\n# and : 논리연산\\ndef parse_int(price):\\n    # print(type(price))\\n    if isinstance(price, str) & price.replace(',', '').isdigit():  # price가 str인지 & price가 숫자문자인지\\n        print(price)\",\n",
       "  \"parse_int('ㅁ'), parse_int(None), parse_int(9200), parse_int('13,500')\\n# 결과 0,         0,                9200,           13,500\\n# 결과를 다 숫자(가격)로 return\",\n",
       "  \"# & : 논리연산, 비트연산, 집합연산\\n# and : 논리연산\\ndef parse_int(price):\\n    # print(type(price))\\n    if isinstance(price, str) and price.replace(',', '').isdigit():  # price가 str인지 & price가 숫자문자인지\\n        print(price)\",\n",
       "  \"parse_int('ㅁ'), parse_int(None), parse_int(9200), parse_int('13,500')\\n# 결과 0,         0,                9200,           13,500\\n# 결과를 다 숫자(가격)로 return\",\n",
       "  \"# & : 논리연산, 비트연산, 집합연산(처음이 False면 뒤를 비교하며 셋 중 하나의 연산을 수행함)\\n# and : 논리연산(처음이 False면 뒤를 수행하지 않음)\\ndef parse_int(price):\\n    # print(type(price))\\n    if isinstance(price, str) & price.replace(',', '').isdigit():  # price가 str인지 and price가 숫자문자인지\\n        print(price)\",\n",
       "  \"parse_int('ㅁ'), parse_int(None), parse_int(9200), parse_int('13,500')\\n# 결과 0,         0,                9200,           13,500\\n# 결과를 다 숫자(가격)로 return\",\n",
       "  \"# & : 논리연산, 비트연산, 집합연산이 모두 가능하므로, \\n#     좌항이 False여도 우항이 숫자면 비트연산을 수행해야 하므로 우항을 수행함\\n# and : 논리연산의 역할만 하여, 좌항이 False면 우항을 수행하지 않음\\ndef parse_int(price):\\n    # print(type(price))\\n    if isinstance(price, str) and price.replace(',', '').isdigit():  # price가 str인지 and price가 숫자문자인지\\n        print(price)\",\n",
       "  \"parse_int('ㅁ'), parse_int(None), parse_int(9200), parse_int('13,500')\\n# 결과 0,         0,                9200,           13,500\\n# 결과를 다 숫자(가격)로 return\",\n",
       "  \"# & : 논리연산, 비트연산, 집합연산이 모두 가능하므로, \\n#     좌항이 False여도 우항이 숫자면 비트연산을 수행해야 하므로 우항을 수행함\\n# and : 논리연산의 역할만 하여, 좌항이 False면 우항을 수행하지 않음\\ndef parse_int(price):\\n    # print(type(price))\\n    if isinstance(price, str) and price.replace(',', '').isdigit():  # price가 str인지 and price가 숫자문자인지\\n        return int(price.replace(',',''))\",\n",
       "  \"parse_int('ㅁ'), parse_int(None), parse_int(9200), parse_int('13,500')\\n# 결과 0,         0,                9200,           13,500\\n# 결과를 다 숫자(가격)로 return\",\n",
       "  \"print(parse_int('ㅁ'), parse_int(None), parse_int(9200), parse_int('13,500'))\\n# 결과 0,         0,                9200,           13,500\\n# 결과를 다 숫자(가격)로 return\",\n",
       "  \"print(parse_int('ㅁ'))\\nprint(parse_int(None)0\\nprint(parse_int(9200))\\nprint(parse_int('13,500'))\\n# 결과 0,         0,                9200,           13,500\\n# 결과를 다 숫자(가격)로 return\",\n",
       "  \"print(parse_int('ㅁ'))\\nprint(parse_int(None))\\nprint(parse_int(9200))\\nprint(parse_int('13,500'))\\n# 결과 0,         0,                9200,           13,500\\n# 결과를 다 숫자(가격)로 return\",\n",
       "  \"print(parse_int('ㅁ'))  # 0\\nprint(parse_int(None))  # 0\\nprint(parse_int(9200))  # 9200\\nprint(parse_int('13,500'))  # 13,500\\n# 결과 0,         0,                9200,           13,500\\n# 결과를 다 숫자(가격)로 return\",\n",
       "  \"# & : 논리연산, 비트연산, 집합연산이 모두 가능하므로, \\n#     좌항이 False여도 우항이 숫자면 비트연산을 수행해야 하므로 우항을 수행함\\n# and : 논리연산의 역할만 하여, 좌항이 False면 우항을 수행하지 않음\\ndef parse_int(price):\\n    # print(type(price))\\n    if isinstance(price, str) and price.replace(',', '').isdigit():  # price가 str인지 and price가 숫자문자인지\\n        return int(price.replace(',',''))\\n    elif isinstance(price, int)\\n        return price\\n    else:\\n        return 0\",\n",
       "  \"print(parse_int('ㅁ'))  # 0\\nprint(parse_int(None))  # 0\\nprint(parse_int(9200))  # 9200\\nprint(parse_int('13,500'))  # 13,500\\n# 결과를 다 숫자(가격)로 return\",\n",
       "  \"# & : 논리연산, 비트연산, 집합연산이 모두 가능하므로, \\n#     좌항이 False여도 우항이 숫자면 비트연산을 수행해야 하므로 우항을 수행함\\n# and : 논리연산의 역할만 하여, 좌항이 False면 우항을 수행하지 않음\\ndef parse_int(price):\\n    # print(type(price))\\n    if isinstance(price, str) and price.replace(',', '').isdigit():  # price가 str인지 and price가 숫자문자인지\\n        return int(price.replace(',',''))\\n    elif isinstance(price, int):\\n        return price\\n    else:\\n        return 0\",\n",
       "  \"print(parse_int('ㅁ'))  # 0\\nprint(parse_int(None))  # 0\\nprint(parse_int(9200))  # 9200\\nprint(parse_int('13,500'))  # 13,500\\n# 결과를 다 숫자(가격)로 return\",\n",
       "  \"# & : 논리연산, 비트연산, 집합연산이 모두 가능하므로, \\n#     좌항이 False여도 우항이 숫자면 비트연산을 수행해야 하므로 우항을 수행함\\n# and : 논리연산의 역할만 하여, 좌항이 False면 우항을 수행하지 않음\\ndef parse_int(price):\\n    # print(type(price))\\n    if isinstance(price, str) and price.replace(',', '').isdigit():\\n                                # price가 str인지 and price가 숫자문자인지\\n        return int(price.replace(',',''))\\n    elif isinstance(price, int):\\n        return price\\n    else:\\n        return 0\",\n",
       "  \"# & : 논리연산, 비트연산, 집합연산이 모두 가능하므로, \\n#     좌항이 False여도 우항이 숫자면 비트연산을 수행해야 하므로 우항을 수행함\\n# and : 논리연산의 역할만 하여, 좌항이 False면 우항을 수행하지 않음\\ndef parse_int(price):\\n    # print(type(price))\\n    if isinstance(price, str) and price.replace(',', '').isdigit():\\n                                # price가 str인지 and price가 숫자문자인지\\n        return int(price.replace(',',''))\\n    elif isinstance(price, int):\\n        return price\\n    else:\\n        return 0\",\n",
       "  \"print(parse_int('ㅁ'))  # 0\\nprint(parse_int(None))  # 0\\nprint(parse_int(9200))  # 9200\\nprint(parse_int('13,500'))  # 13,500\\n# 결과를 다 숫자(가격)로 return\",\n",
       "  \"testFunc = lambda book : book.get('price')\\n\\n[testFunc(book) for book in books]\",\n",
       "  \"testFunc = lambda book : int(book.get('price').replace(',','')) \\\\\\n            if isinstance(book.get('price'), str) \\\\\\n                and book.get('price').replace(',', '').isdigit()\\n\\n[testFunc(book) for book in books]\",\n",
       "  \"testFunc = lambda book : int(book.get('price').replace(',','')) \\\\\\n            if isinstance(book.get('price'), str) \\\\\\n                and book.get('price').replace(',', '').isdigit()\\n\\n[testFunc(book) for book in books]\",\n",
       "  \"testFunc = lambda book : int(book.get('price').replace(',','')) \\\\\\n            if isinstance(book.get('price'), str) \\\\\\n                and book.get('price').replace(',', '').isdigit() else ()\\n\\n[testFunc(book) for book in books]\",\n",
       "  \"testFunc = lambda book : int(book.get('price').replace(',','')) \\\\\\n            if isinstance(book.get('price'), str) \\\\\\n                and book.get('price').replace(',', '').isdigit() \\\\\\n            else (price if isinstance(book.get('price'), int) else 0)\\n\\n[testFunc(book) for book in books]\",\n",
       "  \"testFunc = lambda book : int(book.get('price').replace(',','')) \\\\\\n            if isinstance(book.get('price'), str) \\\\\\n                and book.get('price').replace(',', '').isdigit() \\\\\\n            else (price if isinstance(book.get('price'), int) else 0)\\n\\n[testFunc(book) for book in books]\",\n",
       "  \"testFunc = lambda book : int(book.get('price').replace(',','')) \\\\\\n            if isinstance(book.get('price'), str) \\\\\\n                and book.get('price').replace(',', '').isdigit() else 0)\\n\\n[testFunc(book) for book in books]\",\n",
       "  \"testFunc = lambda book : int(book.get('price').replace(',','')) \\\\\\n            if isinstance(book.get('price'), str) \\\\\\n                and book.get('price').replace(',', '').isdigit() else 0\\n\\n[testFunc(book) for book in books]\",\n",
       "  \"testFunc = lambda book : int(book.get('price').replace(',','')) \\\\\\n            if isinstance(book.get('price'), str) \\\\\\n                and book.get('price').replace(',', '').isdigit() \\\\\\n            else (0)\\n\\n[testFunc(book) for book in books]\",\n",
       "  \"testFunc = lambda book : int(book.get('price').replace(',','')) \\\\\\n            if isinstance(book.get('price'), str) \\\\\\n                and book.get('price').replace(',', '').isdigit() \\\\\\n            else (book.get('price') if isinstance(book.get('price'), int) else 0)\\n\\n[testFunc(book) for book in books]\",\n",
       "  \"testFunc = lambda book : int(book.get('price').replace(',','')) \\\\\\n            if isinstance(book.get('price'), str) \\\\\\n                and book.get('price').replace(',', '').isdigit() \\\\\\n            else (book.get('price') if isinstance(book.get('price'), int) \\\\\\n                  else 0)\\n\\n[testFunc(book) for book in books]\",\n",
       "  \"copyBook = books.copy()\\ncopyBooks.sort(key=lambda book : int(book.get('price')..replace(',','')) \\\\\\n              if isinstance(book.get('prce'), str) \\\\\\n                  and book.get('price').replce(',', '').isdigit() \\\\\\n               else (price if isinstance(book.get('price'), int) else 0)               \\n              )\",\n",
       "  \"copyBook = books.copy()\\ncopyBook.sort(key=lambda book : int(book.get('price')..replace(',','')) \\\\\\n              if isinstance(book.get('prce'), str) \\\\\\n                  and book.get('price').replce(',', '').isdigit() \\\\\\n               else (price if isinstance(book.get('price'), int) else 0)               \\n              )\",\n",
       "  \"copyBook = books.copy()\\ncopyBook.sort(key=lambda book : int(book.get('price').replace(',','')) \\\\\\n              if isinstance(book.get('prce'), str) \\\\\\n                  and book.get('price').replce(',', '').isdigit() \\\\\\n               else (price if isinstance(book.get('price'), int) else 0)               \\n              )\",\n",
       "  \"copyBooks = books.copy()\\ncopyBooks.sort(key=lambda book : int(book.get('price').replace(',','')) \\\\\\n              if isinstance(book.get('prce'), str) \\\\\\n                  and book.get('price').replce(',', '').isdigit() \\\\\\n               else (book.get('price') if isinstance(book.get('price'), int) else 0)               \\n              )\\ncopyBooks\",\n",
       "  \"copyBooks = books.copy()\\ncopyBooks.sort(key=lambda book : int(book.get('price').replace(',','')) \\\\\\n              if isinstance(book.get('prce'), str) \\\\\\n                  and book.get('price').replce(',', '').isdigit() \\\\\\n               else (book.get('price') \\\\\\n                     if isinstance(book.get('price'), int) else 0),\\n               reverse=True\\n              )\\ncopyBooks\",\n",
       "  \"books = [{'no' : 1, 'title' : '소년이 온다', 'writer' : '한강', 'price' : '13,500'},\\n         {'no' : 3, 'title' : '트럼프2.0시대', 'writer' : '박종훈', 'price' : '18,000'},\\n         {'no' : 2, 'title' : '트렌트코리아2025', 'writer' : '김난도', 'price' : '9,100'},\\n         {'no' : 4, 'title' : '가격잘못', 'writer' : '홍길동', 'price' : 'ㅁ'},\\n         {'no' : 6, 'title' : '가격숫자', 'writer' : '신길동', 'price' : 9200},\\n         {'no' : 5, 'title' : '가격없음', 'writer' : '이길동'}]\",\n",
       "  \"testFunc = lambda book : int(book.get('price').replace(',','')) \\\\\\n            if isinstance(book.get('price'), str) \\\\\\n                and book.get('price').replace(',', '').isdigit() \\\\\\n            else (book.get('price') if isinstance(book.get('price'), int) \\\\\\n                  else 0)\\n\\n[testFunc(book) for book in books]\",\n",
       "  \"copyBooks = books.copy()\\ncopyBooks.sort(key=lambda book : int(book.get('price').replace(',','')) \\\\\\n              if isinstance(book.get('prce'), str) \\\\\\n                  and book.get('price').replce(',', '').isdigit() \\\\\\n               else (book.get('price') \\\\\\n                     if isinstance(book.get('price'), int) else 0),\\n               reverse=True\\n              )\\ncopyBooks\",\n",
       "  \"books = [{'no' : 1, 'title' : '소년이 온다', 'writer' : '한강', 'price' : '13,500'},\\n         {'no' : 3, 'title' : '트럼프2.0시대', 'writer' : '박종훈', 'price' : '18,000'},\\n         {'no' : 2, 'title' : '트렌트코리아2025', 'writer' : '김난도', 'price' : '9,100'},\\n         {'no' : 4, 'title' : '가격잘못', 'writer' : '홍길동', 'price' : 'ㅁ'},\\n         {'no' : 6, 'title' : '가격숫자', 'writer' : '신길동', 'price' : 9200},\\n         {'no' : 5, 'title' : '가격없음', 'writer' : '이길동'}]\",\n",
       "  \"testFunc = lambda book : int(book.get('price').replace(',','')) \\\\\\n            if isinstance(book.get('price'), str) \\\\\\n                and book.get('price').replace(',', '').isdigit() \\\\\\n            else (book.get('price') if isinstance(book.get('price'), int) \\\\\\n                  else 0)\\n\\n[testFunc(book) for book in books]\",\n",
       "  \"copyBooks = books.copy()\\ncopyBooks.sort(key=lambda book : int(book.get('price').replace(',','')) \\\\\\n              if isinstance(book.get('prce'), str) \\\\\\n                  and book.get('price').replce(',', '').isdigit() \\\\\\n               else (book.get('price') \\\\\\n                     if isinstance(book.get('price'), int) else 0),\\n               reverse=True\\n              )\\ncopyBooks\",\n",
       "  \"copyBooks = books.copy()\\ncopyBooks.sort(key=lambda book : int(book.get('price').replace(',','')) \\\\\\n              if isinstance(book.get('prce'), str) \\\\\\n                  and book.get('price').replce(',', '').isdigit() \\\\\\n               else (book.get('price') \\\\\\n                     if isinstance(book.get('price'), int) else 0)\\n              )\\ncopyBooks\",\n",
       "  \"copyBooks = books.copy()\\ncopyBooks.sort(key=lambda book : int(book.get('price').replace(',','')) \\\\\\n              if isinstance(book.get('price'), str) \\\\\\n                  and book.get('price').replace(',', '').isdigit() \\\\\\n               else (book.get('price') \\\\\\n                     if isinstance(book.get('price'), int) else 0)\\n              )\\ncopyBooks\",\n",
       "  \"copyBooks = books.copy()\\ncopyBooks.sort(key=lambda book : int(book.get('price').replace(',','')) \\\\\\n              if isinstance(book.get('price'), str) \\\\\\n                  and book.get('price').replace(',', '').isdigit() \\\\\\n               else (book.get('price') \\\\\\n                     if isinstance(book.get('price'), int) else 0),\\n               reverse=True\\n              )\\ncopyBooks\",\n",
       "  \"copyBooks = books.copy()\\ncopyBooks.sort(key=lambda book : int(book.get('price').replace(',','')) \\\\\\n              if isinstance(book.get('price'), str) \\\\\\n                  and book.get('price').replace(',', '').isdigit() \\\\\\n               else (book.get('price') \\\\\\n                     if isinstance(book.get('price'), int) else 0),\\n               reverse=True\\n              )\\ncopyBooks\",\n",
       "  \"# map(func, books)\\n'''\\n{'no': 3, 'title': '트럼프', 'writer': '박', 'price': '8,000'}를 매개변수로 받아\\n{'no': 3, 'title': '트럼프', 'writer': '박', 'price': 8000}로 return\\n\\n'''\",\n",
       "  \"def price_parse_int(book):\\n    # book.get('price')를 점ㅈ수 가격으로 바꾸기(방법1)\\n    if isinstance(book.get('price'), str) and book.get('price').replace(',', '').isdigit():\\n        book['price'] = int(book['price'].replace(',', ''))\\n    elif isinstance(book.get('price'), int):\\n        pass\\n    else:\\n        book['price'] = 0\\n    return book\\n    # book2 복사본을 만들어 books.get('price')를 정수 가격으로 바꾸기(방법2)\\n    # return book2\",\n",
       "  \"price_parse_int({'no': 3, 'title': '트럼프', 'writer': '박', 'price': '8,000'})\",\n",
       "  \"price_parse_int({'no': 3, 'title': '트럼프', 'writer': '박', 'price': 8000})\",\n",
       "  \"price_parse_int({'no': 3, 'title': '트럼프', 'writer': '박', 'price': '8000'})\",\n",
       "  \"price_parse_int({'no': 3, 'title': '트럼프', 'writer': '박'})\",\n",
       "  \"price_parse_int({'no': 3, 'title': '트럼프', 'writer': '박', 'price' : ''})\",\n",
       "  \"price_parse_int({'no': 3, 'title': '트럼프', 'writer': '박', 'price' : '8,000'})\",\n",
       "  \"price_parse_int({'no': 3, 'title': '트럼프', 'writer': '박', 'price' : 8000})\",\n",
       "  \"bookTemp = {'no': 3, 'title': '트럼프', 'writer': '박', 'price' : 8000}\\nprice_parse_int(bookTemp)\",\n",
       "  'bookTemp',\n",
       "  \"def price_parse_int(book):\\n    # book.get('price')를 점수 가격으로 바꾸기(방법1)\\n    if isinstance(book.get('price'), str) and book.get('price').replace(',', '').isdigit():\\n        book['price'] = int(book['price'].replace(',', ''))\\n    elif isinstance(book.get('price'), int):\\n        pass\\n    else:\\n        book['price'] = 0\\n    return book\\n    # book2 복사본을 만들어 books.get('price')를 정수 가격으로 바꾸기(방법2)\\n    # return book2\",\n",
       "  \"bookTemp = {'no': 3, 'title': '트럼프', 'writer': '박', 'price' : 8000}\\nprice_parse_int(bookTemp)\",\n",
       "  'bookTemp',\n",
       "  \"def price_parse_int(book):\\n    # book.get('price')를 점수 가격으로 바꾸기(방법1)\\n    if isinstance(book.get('price'), str) and book.get('price').replace(',', '').isdigit():\\n        book['price'] = int(book['price'].replace(',', ''))\\n    elif isinstance(book.get('price'), int):\\n        pass\\n    else:\\n        book['price'] = 0\\n    return book\\n    # book2 복사본을 만들어 books.get('price')를 정수 가격으로 바꾸기(방법2)\\n    # return book2\",\n",
       "  \"bookTemp = {'no': 3, 'title': '트럼프', 'writer': '박', 'price' : 8000}\\nprice_parse_int(bookTemp)\",\n",
       "  'bookTemp',\n",
       "  \"def price_parse_int(book):\\n    return {'no' : book.get('no'),\\n             'title' : book.get('title'),\\n             'writer' : book.get('writer'),\\n             'price' : int(book['price'].replace(',' '')) \\\\\\n                       if isinstance(book.get('price'), str) \\\\\\n                           and book.get('price').replace(',', '').isdigit() \\\\\\n                       else (book.get('price') if isinstance(book.get('price'), int) else 0)}\\n    # book2 복사본을 만들어 books.get('price')를 정수 가격으로 바꾸기(방법2)\\n    # return book2\",\n",
       "  \"bookTemp = {'no': 3, 'title': '트럼프', 'writer': '박', 'price' : 8000}\\nprice_parse_int(bookTemp)\",\n",
       "  'bookTemp',\n",
       "  \"bookTemp = {'no': 3, 'title': '트럼프', 'writer': '박', 'price' : '8000'}\\nprice_parse_int(bookTemp)\",\n",
       "  \"bookTemp = {'no': 3, 'title': '트럼프', 'writer': '박', 'price' : ''}\\nprice_parse_int(bookTemp)\",\n",
       "  'bookTemp',\n",
       "  'bookTemp',\n",
       "  \"bookTemp = {'no': 3, 'title': '트럼프', 'writer': '박', 'price' : ''}\\nprice_parse_int(bookTemp)\",\n",
       "  'bookTemp',\n",
       "  \"def price_parse_int(book):\\n    # book.get('price')를 점수 가격으로 바꾸기(방법1)\\n    if isinstance(book.get('price'), str) and book.get('price').replace(',', '').isdigit():\\n        book['price'] = int(book['price'].replace(',', ''))\\n    elif isinstance(book.get('price'), int):\\n        pass\\n    else:\\n        book['price'] = 0\\n    return book\\n    # book2 복사본을 만들어 books.get('price')를 정수 가격으로 바꾸기(방법2)\\n    # return book2\",\n",
       "  \"def price_parse_int(book):\\n    return {'no' : book.get('no'),\\n             'title' : book.get('title'),\\n             'writer' : book.get('writer'),\\n             'price' : int(book['price'].replace(',' '')) \\\\\\n                       if isinstance(book.get('price'), str) \\\\\\n                           and book.get('price').replace(',', '').isdigit() \\\\\\n                       else (book.get('price') if isinstance(book.get('price'), int) else 0)}\\n    # book2 복사본을 만들어 books.get('price')를 정수 가격으로 바꾸기(방법2)\\n    # return book2\",\n",
       "  \"bookTemp = {'no': 3, 'title': '트럼프', 'writer': '박', 'price' : ''}\\nprice_parse_int(bookTemp)\",\n",
       "  'bookTemp',\n",
       "  \"bookTemp = {'no': 3, 'title': '트럼프', 'writer': '박'}\\nprice_parse_int(bookTemp)\",\n",
       "  'bookTemp',\n",
       "  \"def price_parse_int(book):\\n    return {'no' : book.get('no'),\\n             'title' : book.get('title'),\\n             'writer' : book.get('writer'),\\n             'price' : int(book['price'].replace(',' '')) \\\\\\n                       if isinstance(book.get('price'), str) \\\\\\n                           and book.get('price').replace(',', '').isdigit() \\\\\\n                       else (book.get('price') if isinstance(book.get('price'), int) else 0)}\",\n",
       "  \"bookTemp = {'no': 3, 'title': '트럼프', 'writer': '박'}\\nprice_parse_int(bookTemp)\",\n",
       "  'bookTemp',\n",
       "  \"def price_parse_int(book):\\n    # book.get('price')를 점수 가격으로 바꾸기(방법1)\\n    if isinstance(book.get('price'), str) and book.get('price').replace(',', '').isdigit():\\n        book['price'] = int(book['price'].replace(',', ''))\\n    elif isinstance(book.get('price'), int):\\n        pass\\n    else:\\n        book['price'] = 0\\n    return book\\n    # book2 복사본을 만들어 books.get('price')를 정수 가격으로 바꾸기(방법2)\\n    # return book2\",\n",
       "  \"bookTemp = {'no': 3, 'title': '트럼프', 'writer': '박'}\\nprice_parse_int(bookTemp)\",\n",
       "  'bookTemp',\n",
       "  \"def price_parse_int(book):\\n    return {'no' : book.get('no'),\\n             'title' : book.get('title'),\\n             'writer' : book.get('writer'),\\n             'price' : int(book['price'].replace(',' '')) \\\\\\n                       if isinstance(book.get('price'), str) \\\\\\n                           and book.get('price').replace(',', '').isdigit() \\\\\\n                       else (book.get('price') if isinstance(book.get('price'), int) else 0)}\",\n",
       "  \"bookTemp = {'no': 3, 'title': '트럼프', 'writer': '박'}\\nprice_parse_int(bookTemp)\",\n",
       "  'bookTemp',\n",
       "  \"def price_parse_int(book):\\n    # book.get('price')를 점수 가격으로 바꾸기(방법1)\\n    if isinstance(book.get('price'), str) and book.get('price').replace(',', '').isdigit():\\n        book['price'] = int(book['price'].replace(',', ''))\\n    elif isinstance(book.get('price'), int):\\n        pass\\n    else:\\n        book['price'] = 0\\n    return book\\n    # book2 복사본을 만들어 books.get('price')를 정수 가격으로 바꾸기(방법2)\\n    # return book2\",\n",
       "  \"bookTemp = {'no': 3, 'title': '트럼프', 'writer': '박'}\\nprice_parse_int(bookTemp)\",\n",
       "  'bookTemp',\n",
       "  \"bookTemp = {'no': 3, 'title': '트럼프', 'writer': '박'}\\nreturnBook = price_parse_int(bookTemp)\\nreturnBook\",\n",
       "  'bookTemp',\n",
       "  \"def price_parse_int(book):\\n    return {'no' : book.get('no'),\\n             'title' : book.get('title'),\\n             'writer' : book.get('writer'),\\n             'price' : int(book['price'].replace(',' '')) \\\\\\n                       if isinstance(book.get('price'), str) \\\\\\n                           and book.get('price').replace(',', '').isdigit() \\\\\\n                       else (book.get('price') if isinstance(book.get('price'), int) else 0)}\",\n",
       "  'bookTemp',\n",
       "  \"bookTemp = {'no': 3, 'title': '트럼프', 'writer': '박'}\\nreturnBook = price_parse_int(bookTemp)\\nreturnBook\",\n",
       "  'bookTemp',\n",
       "  \"def price_parse_int(book):\\n    # book.get('price')를 점수 가격으로 바꾸기(방법1)\\n    if isinstance(book.get('price'), str) and book.get('price').replace(',', '').isdigit():\\n        book['price'] = int(book['price'].replace(',', ''))\\n    elif isinstance(book.get('price'), int):\\n        pass\\n    else:\\n        book['price'] = 0\\n    return book\\n    # book2 복사본을 만들어 books.get('price')를 정수 가격으로 바꾸기(방법2)\\n    # return book2\",\n",
       "  \"bookTemp = {'no': 3, 'title': '트럼프', 'writer': '박'}\\nprice_parse_int(bookTemp)\",\n",
       "  'bookTemp',\n",
       "  \"def price_parse_int(book):\\n    return {'no' : book.get('no'),\\n             'title' : book.get('title'),\\n             'writer' : book.get('writer'),\\n             'price' : int(book['price'].replace(',' '')) \\\\\\n                       if isinstance(book.get('price'), str) \\\\\\n                           and book.get('price').replace(',', '').isdigit() \\\\\\n                       else (book.get('price') if isinstance(book.get('price'), int) else 0)}\",\n",
       "  \"bookTemp = {'no': 3, 'title': '트럼프', 'writer': '박'}\\nreturnBook = price_parse_int(bookTemp)\\nreturnBook\",\n",
       "  'bookTemp',\n",
       "  \"# 위를 람다식으로\\nprice_parse_in = lambda book : return {'no' : book.get('no'),\\n             'title' : book.get('title'),\\n             'writer' : book.get('writer'),\\n             'price' : int(book['price'].replace(',' '')) \\\\\\n                       if isinstance(book.get('price'), str) \\\\\\n                           and book.get('price').replace(',', '').isdigit() \\\\\\n                       else (book.get('price') if isinstance(book.get('price'), int) else 0)}\",\n",
       "  \"# 위를 람다식으로\\nprice_parse_in = lambda book : \\n    return {'no' : book.get('no'),\\n             'title' : book.get('title'),\\n             'writer' : book.get('writer'),\\n             'price' : int(book['price'].replace(',' '')) \\\\\\n                       if isinstance(book.get('price'), str) \\\\\\n                           and book.get('price').replace(',', '').isdigit() \\\\\\n                       else (book.get('price') if isinstance(book.get('price'), int) else 0)}\",\n",
       "  \"# 위를 람다식으로\\nprice_parse_in = lambda book : {'no' : book.get('no'),\\n             'title' : book.get('title'),\\n             'writer' : book.get('writer'),\\n             'price' : int(book['price'].replace(',' '')) \\\\\\n                       if isinstance(book.get('price'), str) \\\\\\n                           and book.get('price').replace(',', '').isdigit() \\\\\\n                       else (book.get('price') if isinstance(book.get('price'), int) else 0)}\",\n",
       "  \"# 위를 람다식으로\\nprice_parse_in = lambda book : {'no' : book.get('no'),\\n             'title' : book.get('title'),\\n             'writer' : book.get('writer'),\\n             'price' : int(book['price'].replace(',' '')) \\\\\\n                       if isinstance(book.get('price'), str) \\\\\\n                           and book.get('price').replace(',', '').isdigit() \\\\\\n                       else (book.get('price') if isinstance(book.get('price'), int) else 0)}\",\n",
       "  \"bookTemp = {'no': 3, 'title': '트럼프', 'writer': '박'}\\nreturnBook = price_parse_int(bookTemp)\\nreturnBook\",\n",
       "  'bookTemp',\n",
       "  \"# 위를 람다식으로\\nprice_parse_in = lambda book : \\\\\\n                    {'no' : book.get('no'),\\n                     'title' : book.get('title'),\\n                     'writer' : book.get('writer'),\\n                     'price' : int(book['price'].replace(',' '')) \\\\\\n                       if isinstance(book.get('price'), str) \\\\\\n                           and book.get('price').replace(',', '').isdigit() \\\\\\n                       else (book.get('price') if isinstance(book.get('price'), int) else 0)}\",\n",
       "  \"# 위를 람다식으로\\nprice_parse_in = lambda book : \\\\\\n                    {'no' : book.get('no'),\\n                     'title' : book.get('title'),\\n                     'writer' : book.get('writer'),\\n                     'price' : int(book['price'].replace(',' '')) \\\\\\n                       if isinstance(book.get('price'), str) \\\\\\n                           and book.get('price').replace(',', '').isdigit() \\\\\\n                       else (book.get('price') if isinstance(book.get('price'), int) else 0)}\",\n",
       "  \"bookTemp = {'no': 3, 'title': '트럼프', 'writer': '박'}\\nreturnBook = price_parse_int(bookTemp)\\nreturnBook\",\n",
       "  'bookTemp',\n",
       "  \"# 위를 람다식으로\\nprice_parse_in = lambda book : \\\\\\n                    {'no' : book.get('no'),\\n                     'title' : book.get('title'),\\n                     'writer' : book.get('writer'),\\n                     'price' : int(book['price'].replace(',' '')) \\\\\\n                           if isinstance(book.get('price'), str) \\\\\\n                               and book.get('price').replace(',', '').isdigit() \\\\\\n                           else (book.get('price') if isinstance(book.get('price'), int) else 0)}\",\n",
       "  \"newBooks = list(map(lambda book : \\\\\\n                    {'no' : book.get('no'),\\n                     'title' : book.get('title'),\\n                     'writer' : book.get('writer'),\\n                     'price' : int(book['price'].replace(',' '')) \\\\\\n                           if isinstance(book.get('price'), str) \\\\\\n                               and book.get('price').replace(',', '').isdigit() \\\\\\n                           else (book.get('price') if isinstance(book.get('price'), int) else 0)\\n                    },\\n                     books\\n                ))\",\n",
       "  \"# 위를 람다식으로\\nprice_parse_in = lambda book : \\\\\\n                    {'no' : book.get('no'),\\n                     'title' : book.get('title'),\\n                     'writer' : book.get('writer'),\\n                     'price' : int(book['price'].replace(',' '')) \\\\\\n                           if isinstance(book.get('price'), str) \\\\\\n                               and book.get('price').replace(',', '').isdigit() \\\\\\n                           else (book.get('price') if isinstance(book.get('price'), int) else 0)\\n                    }\",\n",
       "  \"newBooks = list(map(lambda book : \\\\\\n                    {'no' : book.get('no'),\\n                     'title' : book.get('title'),\\n                     'writer' : book.get('writer'),\\n                     'price' : int(book['price'].replace(',' '')) \\\\\\n                           if isinstance(book.get('price'), str) \\\\\\n                               and book.get('price').replace(',', '').isdigit() \\\\\\n                           else (book.get('price') if isinstance(book.get('price'), int) else 0)\\n                    },\\n                     books\\n                ))\",\n",
       "  \"newBooks = list(map(lambda book : {'no' : book.get('no'),\\n                     'title' : book.get('title'),\\n                     'writer' : book.get('writer'),\\n                     'price' : int(book['price'].replace(',' '')) \\\\\\n                           if isinstance(book.get('price'), str) \\\\\\n                               and book.get('price').replace(',', '').isdigit() \\\\\\n                           else (book.get('price') if isinstance(book.get('price'), int) else 0)\\n                    },\\n                     books\\n                ))\",\n",
       "  \"newBooks = list(map(lambda book : {'no' : book.get('no'),\\n                         'title' : book.get('title'),\\n                         'writer' : book.get('writer'),\\n                         'price' : int(book['price'].replace(',' '')) \\\\\\n                               if isinstance(book.get('price'), str) \\\\\\n                                   and book.get('price').replace(',', '').isdigit() \\\\\\n                               else (book.get('price') if isinstance(book.get('price'), int) else 0)\\n                    },\\n                     books\\n                ))\",\n",
       "  \"newBooks = list(map(lambda book : \\\\\\n                    {'no' : book.get('no'),\\n                     'title' : book.get('title'),\\n                     'writer' : book.get('writer'),\\n                     'price' : int(book['price'].replace(',' '')) \\\\\\n                           if isinstance(book.get('price'), str) \\\\\\n                               and book.get('price').replace(',', '').isdigit() \\\\\\n                           else (book.get('price') if isinstance(book.get('price'), int) else 0)\\n                    },\\n                     books\\n                ))\",\n",
       "  \"newBooks = list(map(lambda book : \\\\\\n                    {'no' : book.get('no'),\\n                     'title' : book.get('title'),\\n                     'writer' : book.get('writer'),\\n                     'price' : int(book['price'].replace(',' '')) \\\\\\n                           if isinstance(book.get('price'), str) \\\\\\n                               and book.get('price').replace(',', '').isdigit() \\\\\\n                           else (book.get('price') if isinstance(book.get('price'), int) else 0)\\n                    },\\n                     books\\n                ))\",\n",
       "  \"def price_parse_int(book):\\n    return {'no' : book.get('no'),\\n             'title' : book.get('title'),\\n             'writer' : book.get('writer'),\\n             'price' : int(book['price'].replace(',' '')) \\\\\\n                       if isinstance(book.get('price'), str) \\\\\\n                           and book.get('price').replace(',', '').isdigit() \\\\\\n                       else (book.get('price') if isinstance(book.get('price'), int) else 0)}\",\n",
       "  \"# 위를 람다식으로\\nprice_parse_in = lambda book : \\\\\\n                    {'no' : book.get('no'),\\n                     'title' : book.get('title'),\\n                     'writer' : book.get('writer'),\\n                     'price' : int(book['price'].replace(',' '')) \\\\\\n                           if isinstance(book.get('price'), str) \\\\\\n                               and book.get('price').replace(',', '').isdigit() \\\\\\n                           else (book.get('price') if isinstance(book.get('price'), int) else 0)\\n                    }\",\n",
       "  \"bookTemp = {'no': 3, 'title': '트럼프', 'writer': '박'}\\nreturnBook = price_parse_int(bookTemp)\\nreturnBook\",\n",
       "  'bookTemp',\n",
       "  \"newBooks = list(map(lambda book : \\\\\\n                    {'no' : book.get('no'),\\n                     'title' : book.get('title'),\\n                     'writer' : book.get('writer'),\\n                     'price' : int(book['price'].replace(',' '')) \\\\\\n                           if isinstance(book.get('price'), str) \\\\\\n                               and book.get('price').replace(',', '').isdigit() \\\\\\n                           else (book.get('price') if isinstance(book.get('price'), int) else 0)\\n                    },\\n                     books\\n                ))\",\n",
       "  \"# 위를 람다식으로\\nprice_parse_in = lambda book : \\\\\\n                    {'no' : book.get('no'),\\n                     'title' : book.get('title'),\\n                     'writer' : book.get('writer'),\\n                     'price' : int(book['price'].replace(',' '')) \\\\\\n                           if isinstance(book.get('price'), str) \\\\\\n                               and book.get('price').replace(',', '').isdigit() \\\\\\n                           else (book.get('price') if isinstance(book.get('price'), int) else 0)\\n                    }\",\n",
       "  \"bookTemp = {'no': 3, 'title': '트럼프', 'writer': '박'}\\nreturnBook = price_parse_int(bookTemp)\\nreturnBook\",\n",
       "  'bookTemp',\n",
       "  \"def price_parse_int(book):\\n    return {'no' : book.get('no'),\\n             'title' : book.get('title'),\\n             'writer' : book.get('writer'),\\n             'price' : int(book['price'].replace(',', '')) \\\\\\n                       if isinstance(book.get('price'), str) \\\\\\n                           and book.get('price').replace(',', '').isdigit() \\\\\\n                       else (book.get('price') if isinstance(book.get('price'), int) else 0)}\",\n",
       "  \"# 위를 람다식으로\\nprice_parse_in = lambda book : \\\\\\n                    {'no' : book.get('no'),\\n                     'title' : book.get('title'),\\n                     'writer' : book.get('writer'),\\n                     'price' : int(book['price'].replace(',' '')) \\\\\\n                           if isinstance(book.get('price'), str) \\\\\\n                               and book.get('price').replace(',', '').isdigit() \\\\\\n                           else (book.get('price') if isinstance(book.get('price'), int) else 0)\\n                    }\",\n",
       "  \"bookTemp = {'no': 3, 'title': '트럼프', 'writer': '박'}\\nreturnBook = price_parse_int(bookTemp)\\nreturnBook\",\n",
       "  'bookTemp',\n",
       "  \"# 위를 람다식으로\\nprice_parse_in = lambda book : \\\\\\n                    {'no' : book.get('no'),\\n                     'title' : book.get('title'),\\n                     'writer' : book.get('writer'),\\n                     'price' : int(book['price'].replace(',', '')) \\\\\\n                           if isinstance(book.get('price'), str) \\\\\\n                               and book.get('price').replace(',', '').isdigit() \\\\\\n                           else (book.get('price') if isinstance(book.get('price'), int) else 0)\\n                    }\",\n",
       "  \"bookTemp = {'no': 3, 'title': '트럼프', 'writer': '박'}\\nreturnBook = price_parse_int(bookTemp)\\nreturnBook\",\n",
       "  'bookTemp',\n",
       "  \"newBooks = list(map(lambda book : \\\\\\n                    {'no' : book.get('no'),\\n                     'title' : book.get('title'),\\n                     'writer' : book.get('writer'),\\n                     'price' : int(book['price'].replace(',', '')) \\\\\\n                           if isinstance(book.get('price'), str) \\\\\\n                               and book.get('price').replace(',', '').isdigit() \\\\\\n                           else (book.get('price') if isinstance(book.get('price'), int) else 0)\\n                    },\\n                     books\\n                ))\",\n",
       "  \"newBooks = list(map(lambda book : \\\\\\n                    {'no' : book.get('no'),\\n                     'title' : book.get('title'),\\n                     'writer' : book.get('writer'),\\n                     'price' : int(book['price'].replace(',', '')) \\\\\\n                           if isinstance(book.get('price'), str) \\\\\\n                               and book.get('price').replace(',', '').isdigit() \\\\\\n                           else (book.get('price') if isinstance(book.get('price'), int) else 0)\\n                    },\\n                     books\\n                ))\",\n",
       "  'newBooks',\n",
       "  \"def price_parse_int(book):\\n    return {'no' : book.get('no'),\\n             'title' : book.get('title'),\\n             'writer' : book.get('writer'),\\n             'price' : int(book['price'].replace(',', '')) \\\\\\n                       if isinstance(book.get('price'), str) \\\\\\n                           and book.get('price').replace(',', '').isdigit() \\\\\\n                       else (book.get('price') if isinstance(book.get('price'), int) else 0)}\",\n",
       "  \"# 위를 람다식으로\\nprice_parse_in = lambda book : \\\\\\n                    {'no' : book.get('no'),\\n                     'title' : book.get('title'),\\n                     'writer' : book.get('writer'),\\n                     'price' : int(book['price'].replace(',', '')) \\\\\\n                           if isinstance(book.get('price'), str) \\\\\\n                               and book.get('price').replace(',', '').isdigit() \\\\\\n                           else (book.get('price') if isinstance(book.get('price'), int) else 0)\\n                    }\",\n",
       "  \"bookTemp = {'no': 3, 'title': '트럼프', 'writer': '박'}\\nreturnBook = price_parse_int(bookTemp)\\nreturnBook\",\n",
       "  'bookTemp',\n",
       "  \"def price_parse_int(book):\\n    return {'no' : book.get('no'),\\n             'title' : book.get('title'),\\n             'writer' : book.get('writer'),\\n             'price' : int(book['price'].replace(',', '')) \\\\\\n                       if isinstance(book.get('price'), str) \\\\\\n                           and book.get('price').replace(',', '').isdigit() \\\\\\n                       else (book.get('price') if isinstance(book.get('price'), int) else 0)}\",\n",
       "  \"# 위를 람다식으로\\nprice_parse_in = lambda book : \\\\\\n                    {'no' : book.get('no'),\\n                     'title' : book.get('title'),\\n                     'writer' : book.get('writer'),\\n                     'price' : int(book['price'].replace(',', '')) \\\\\\n                           if isinstance(book.get('price'), str) \\\\\\n                               and book.get('price').replace(',', '').isdigit() \\\\\\n                           else (book.get('price') if isinstance(book.get('price'), int) else 0)\\n                    }\",\n",
       "  \"bookTemp = {'no': 3, 'title': '트럼프', 'writer': '박'}\\nreturnBook = price_parse_int(bookTemp)\\nreturnBook\",\n",
       "  'bookTemp',\n",
       "  \"newBooks = list(map(lambda book : \\\\\\n                    {'no' : book.get('no'),\\n                     'title' : book.get('title'),\\n                     'writer' : book.get('writer'),\\n                     'price' : int(book['price'].replace(',', '')) \\\\\\n                           if isinstance(book.get('price'), str) \\\\\\n                               and book.get('price').replace(',', '').isdigit() \\\\\\n                           else (book.get('price') if isinstance(book.get('price'), int) else 0)\\n                    },\\n                     books\\n                ))\",\n",
       "  'newBooks',\n",
       "  \"# 예제3 : \\n'''\\nmembers = [{'name' : '홍길동', 'birth' : '2000-01-01'},\\n           {'name' : '신길동', 'birth' : '1995-12-18'}]를\\nmembers = [{'name' : '홍길동', 'birth' : '2000-01-01', 'year' : 2000, 'month' : 1, 'day' : 1},\\n           {'name' : '신길동', 'birth' : '1995-12-18', 'year' : 1995, 'month' : 12, 'day' : 18}]로 바꿉니다\\n'''\",\n",
       "  \"books = [{'no' : 1, 'title' : '소년이 온다', 'writer' : '한강', 'price' : '13,500'},\\n         {'no' : 3, 'title' : '트럼프2.0시대', 'writer' : '박종훈', 'price' : '18,000'},\\n         {'no' : 2, 'title' : '트렌트코리아2025', 'writer' : '김난도', 'price' : '9,100'},\\n         {'no' : 4, 'title' : '가격잘못', 'writer' : '홍길동', 'price' : 'ㅁ'},\\n         {'no' : 6, 'title' : '가격숫자', 'writer' : '신길동', 'price' : 9200},\\n         {'no' : 5, 'title' : '가격없음', 'writer' : '이길동'}]\",\n",
       "  \"testFunc = lambda book : int(book.get('price').replace(',','')) \\\\\\n            if isinstance(book.get('price'), str) \\\\\\n                and book.get('price').replace(',', '').isdigit() \\\\\\n            else (book.get('price') if isinstance(book.get('price'), int) \\\\\\n                  else 0)\\n\\n[testFunc(book) for book in books]\",\n",
       "  \"copyBooks = books.copy()\\ncopyBooks.sort(key=lambda book : int(book.get('price').replace(',','')) \\\\\\n              if isinstance(book.get('price'), str) \\\\\\n                  and book.get('price').replace(',', '').isdigit() \\\\\\n               else (book.get('price') \\\\\\n                     if isinstance(book.get('price'), int) else 0),\\n               reverse=True\\n              )\\ncopyBooks\",\n",
       "  \"# map(func, books)\\n'''\\n{'no': 3, 'title': '트럼프', 'writer': '박', 'price': '8,000'}를 매개변수로 받아\\n{'no': 3, 'title': '트럼프', 'writer': '박', 'price': 8000}로 return\\n\\n'''\",\n",
       "  \"def price_parse_int(book):\\n    # book.get('price')를 점수 가격으로 바꾸기(방법1)\\n    if isinstance(book.get('price'), str) and book.get('price').replace(',', '').isdigit():\\n        book['price'] = int(book['price'].replace(',', ''))\\n    elif isinstance(book.get('price'), int):\\n        pass\\n    else:\\n        book['price'] = 0\\n    return book\\n    # book2 복사본을 만들어 books.get('price')를 정수 가격으로 바꾸기(방법2)\\n    # return book2\",\n",
       "  \"bookTemp = {'no': 3, 'title': '트럼프', 'writer': '박'}\\nprice_parse_int(bookTemp)\",\n",
       "  'bookTemp',\n",
       "  \"def price_parse_int(book):\\n    return {'no' : book.get('no'),\\n             'title' : book.get('title'),\\n             'writer' : book.get('writer'),\\n             'price' : int(book['price'].replace(',', '')) \\\\\\n                       if isinstance(book.get('price'), str) \\\\\\n                           and book.get('price').replace(',', '').isdigit() \\\\\\n                       else (book.get('price') if isinstance(book.get('price'), int) else 0)}\",\n",
       "  \"# 위를 람다식으로\\nprice_parse_in = lambda book : \\\\\\n                    {'no' : book.get('no'),\\n                     'title' : book.get('title'),\\n                     'writer' : book.get('writer'),\\n                     'price' : int(book['price'].replace(',', '')) \\\\\\n                           if isinstance(book.get('price'), str) \\\\\\n                               and book.get('price').replace(',', '').isdigit() \\\\\\n                           else (book.get('price') if isinstance(book.get('price'), int) else 0)\\n                    }\",\n",
       "  \"bookTemp = {'no': 3, 'title': '트럼프', 'writer': '박'}\\nreturnBook = price_parse_int(bookTemp)\\nreturnBook\",\n",
       "  'bookTemp',\n",
       "  \"newBooks = list(map(lambda book : \\\\\\n                    {'no' : book.get('no'),\\n                     'title' : book.get('title'),\\n                     'writer' : book.get('writer'),\\n                     'price' : int(book['price'].replace(',', '')) \\\\\\n                           if isinstance(book.get('price'), str) \\\\\\n                               and book.get('price').replace(',', '').isdigit() \\\\\\n                           else (book.get('price') if isinstance(book.get('price'), int) else 0)\\n                    },\\n                     books\\n                ))\",\n",
       "  'newBooks',\n",
       "  \"books = [{'no' : 1, 'title' : '소년이 온다', 'writer' : '한강', 'price' : '13,500'},\\n         {'no' : 3, 'title' : '트럼프2.0시대', 'writer' : '박종훈', 'price' : '18,000'},\\n         {'no' : 2, 'title' : '트렌트코리아2025', 'writer' : '김난도', 'price' : '9,100'},\\n         {'no' : 4, 'title' : '가격잘못', 'writer' : '홍길동', 'price' : 'ㅁ'},\\n         {'no' : 6, 'title' : '가격숫자', 'writer' : '신길동', 'price' : 9200},\\n         {'no' : 5, 'title' : '가격없음', 'writer' : '이길동'}]\",\n",
       "  \"copyBooks = books.copy()\\ncopyBooks.sort(key=lambda book : int(book.get('price').replace(',','')) \\\\\\n              if isinstance(book.get('price'), str) \\\\\\n                  and book.get('price').replace(',', '').isdigit() \\\\\\n               else (book.get('price') \\\\\\n                     if isinstance(book.get('price'), int) else 0),\\n               reverse=True\\n              )\\ncopyBooks\",\n",
       "  \"newBooks = list(map(lambda book : \\\\\\n                    {'no' : book.get('no'),\\n                     'title' : book.get('title'),\\n                     'writer' : book.get('writer'),\\n                     'price' : int(book['price'].replace(',', '')) \\\\\\n                           if isinstance(book.get('price'), str) \\\\\\n                               and book.get('price').replace(',', '').isdigit() \\\\\\n                           else (book.get('price') if isinstance(book.get('price'), int) else 0)\\n                    },\\n                     books\\n                ))\",\n",
       "  'newBooks',\n",
       "  \"books = [{'no' : 1, 'title' : '소년이 온다', 'writer' : '한강', 'price' : '13,500'},\\n         {'no' : 3, 'title' : '트럼프2.0시대', 'writer' : '박종훈', 'price' : '18,000'},\\n         {'no' : 2, 'title' : '트렌트코리아2025', 'writer' : '김난도', 'price' : '9,100'},\\n         {'no' : 4, 'title' : '가격잘못', 'writer' : '홍길동', 'price' : 'ㅁ'},\\n         {'no' : 6, 'title' : '가격숫자', 'writer' : '신길동', 'price' : 9200},\\n         {'no' : 5, 'title' : '가격없음', 'writer' : '이길동'}]\",\n",
       "  \"# copyBooks = books.copy()\\nbooks.sort(key=lambda book : int(book.get('price').replace(',','')) \\\\\\n              if isinstance(book.get('price'), str) \\\\\\n                  and book.get('price').replace(',', '').isdigit() \\\\\\n               else (book.get('price') \\\\\\n                     if isinstance(book.get('price'), int) else 0),\\n               reverse=True\\n              )\\nbooks\",\n",
       "  \"newBooks = list(map(lambda book : \\\\\\n                    {'no' : book.get('no'),\\n                     'title' : book.get('title'),\\n                     'writer' : book.get('writer'),\\n                     'price' : int(book['price'].replace(',', '')) \\\\\\n                           if isinstance(book.get('price'), str) \\\\\\n                               and book.get('price').replace(',', '').isdigit() \\\\\\n                           else (book.get('price') if isinstance(book.get('price'), int) else 0)\\n                    },\\n                     books\\n                ))\",\n",
       "  'newBooks',\n",
       "  \"copyBooks = books.copy()\\ncopyBooks.sort(key=lambda book : int(book.get('price').replace(',','')) \\\\\\n              if isinstance(book.get('price'), str) \\\\\\n                  and book.get('price').replace(',', '').isdigit() \\\\\\n               else (book.get('price') \\\\\\n                     if isinstance(book.get('price'), int) else 0),\\n               reverse=True\\n              )\\ncopyBooks\",\n",
       "  \"# 예제3 : \\n'''\\nmembers = [{'name' : '홍길동', 'birth' : '2000-01-01'},\\n           {'name' : '신길동', 'birth' : '1995-12-18'}]를\\nmembers = [{'name' : '홍길동', 'birth' : '2000-01-01', 'year' : 2000, 'month' : 1, 'day' : 1},\\n           {'name' : '신길동', 'birth' : '1995-12-18', 'year' : 1995, 'month' : 12, 'day' : 18}]로 바꾸기\\n'''\",\n",
       "  'splited_members = members[birth].split()\\nsplited_members',\n",
       "  \"members = [{'name' : '홍길동', 'birth' : '2000-01-01'},\\n           {'name' : '신길동', 'birth' : '1995-12-18'}]\",\n",
       "  'splited_members = members[birth].split()\\nsplited_members',\n",
       "  \"splited_members = members['birth'].split()\\nsplited_members\",\n",
       "  \"splited_members = members.get('birth').split()\\nsplited_members\",\n",
       "  \"splited_members = members.get('birth').split()\\nsplited_members\",\n",
       "  \"splited_members = members['birth'].split()\\nsplited_members\",\n",
       "  \"splited_members = list(members['birth'].split())\\nsplited_members\",\n",
       "  \"splited_members = isinstance(members['birth'].split(), str)\\nsplited_members\",\n",
       "  \"splited_members = members['birth'].split()\\nsplited_members\",\n",
       "  \"splited_members = members['birth'].split()\\nsplited_members\\nmembers\",\n",
       "  \"splited_members = members['birth'].split()\\n\\nmembers\",\n",
       "  'members',\n",
       "  \"# 예제3 : \\n'''\\nmembers = [{'name' : '홍길동', 'birth' : '2000-01-01'},\\n           {'name' : '신길동', 'birth' : '1995-12-18'}]를\\nmembers = [{'name' : '홍길동', 'year' : 2000, 'month' : 1, 'day' : 1},\\n           {'name' : '신길동', 'year' : 1995, 'month' : 12, 'day' : 18}]로 바꾸기\\n'''\",\n",
       "  'splited_members = members[1].split()\\nsplited_members',\n",
       "  \"members = [{'name' : '홍길동', 'birth' : '2000-01-01'},\\n           {'name' : '신길동', 'birth' : '1995-12-18'}]\",\n",
       "  'members',\n",
       "  \"# '1995-01-01'을 받아 {'year' : 1995, 'month' : 1, 'day' : 1}을 return하는 함수\\ndef split_data(date):\\n    split_data = date.split('-')\\n    return {'year' : split_data[0],\\n             'month' : split_data[1],\\n             'day' : split_data[2],}\",\n",
       "  \"split_data('2001-01-08')\",\n",
       "  \"# '1995-01-01'을 받아 {'year' : 1995, 'month' : 1, 'day' : 1}을 return하는 함수\\ndef split_data(date):\\n    split_data = date.split('-')\\n    return {'year' : int(split_data[0]),\\n             'month' : int(split_data[1]),\\n             'day' : int(split_data[2]),}\",\n",
       "  \"split_data('2001-01-08')\",\n",
       "  \"# '1995-01-01'을 받아 {'year' : 1995, 'month' : 1, 'day' : 1}을 return하는 함수\\ndef split_data(date):\\n    split_data = date.split('-')\\n    return {'year' : int(split_data[0]),\\n             'month' : int(split_data[1]),\\n             'day' : int(split_data[2])}\",\n",
       "  \"def split_birth(member):  # 'name', 'birth'\\n    return {\\n        'name' : member.get('name'),\\n        'year' : int(member.get('birth').split('-')[0]),\\n        'month' : int(member.get('birth').split('-')[1]),\\n        'day' : int(member.get('birth').split('-')[2])\\n    }\",\n",
       "  \"member = [{'name' : '홍길동', 'birth' : '2000-01-01'},\\n           {'name' : '신길동', 'birth' : '1995-12-18'}]\",\n",
       "  \"member = [{'name' : '홍길동', 'birth' : '2000-01-01'},\\n           {'name' : '신길동', 'birth' : '1995-12-18'}]\",\n",
       "  \"# '1995-01-01'을 받아 {'year' : 1995, 'month' : 1, 'day' : 1}을 return하는 함수\\ndef split_data(date):\\n    split_data = date.split('-')\\n    return {'year' : int(split_data[0]),\\n             'month' : int(split_data[1]),\\n             'day' : int(split_data[2])}\",\n",
       "  \"split_data('2001-01-08')\",\n",
       "  \"def split_birth(member):  # 'name', 'birth'\\n    return {\\n        'name' : member.get('name'),\\n        'year' : int(member.get('birth').split('-')[0]),\\n        'month' : int(member.get('birth').split('-')[1]),\\n        'day' : int(member.get('birth').split('-')[2])\\n    }\",\n",
       "  \"split_birth){'name' : '홍길동', 'birth' : '1999-12-16'}\",\n",
       "  \"split_birth({'name' : '홍길동', 'birth' : '1999-12-16'})\",\n",
       "  \"# 예제3 : \\n'''\\nmember = [{'name' : '홍길동', 'birth' : '2000-01-01'},\\n           {'name' : '신길동', 'birth' : '1995-12-18'}]를\\nmember = [{'name' : '홍길동', 'year' : 2000, 'month' : 1, 'day' : 1},\\n           {'name' : '신길동', 'year' : 1995, 'month' : 12, 'day' : 18}]로 바꾸기\\n'''\",\n",
       "  \"# 예제3 : \\n'''\\nmember = [{'name' : '홍길동', 'birth' : '2000-01-01'},\\n           {'name' : '신길동', 'birth' : '1995-12-18'}]를\\nmember = [{'name' : '홍길동', 'year' : 2000, 'month' : 1, 'day' : 1},\\n           {'name' : '신길동', 'year' : 1995, 'month' : 12, 'day' : 18}]로 바꾸기\\n'''\",\n",
       "  \"# 예제3 : \\n'''\\nmember = [{'name' : '홍길동', 'birth' : '2000-01-01'},\\n           {'name' : '신길동', 'birth' : '1995-12-18'}]를\\nmember = [{'name' : '홍길동', 'year' : 2000, 'month' : 1, 'day' : 1},\\n           {'name' : '신길동', 'year' : 1995, 'month' : 12, 'day' : 18}]로 바꾸기\\n'''\",\n",
       "  \"# 예제3 : \\n'''\\nmember = [{'name' : '홍길동', 'birth' : '2000-01-01'},\\n           {'name' : '신길동', 'birth' : '1995-12-18'}]를\\nmember = [{'name' : '홍길동', 'year' : 2000, 'month' : 1, 'day' : 1},\\n           {'name' : '신길동', 'year' : 1995, 'month' : 12, 'day' : 18}]로 바꾸기\\n'''\",\n",
       "  \"member = [{'name' : '홍길동', 'birth' : '2000-01-01'},\\n           {'name' : '신길동', 'birth' : '1995-12-18'}]\",\n",
       "  \"# '1995-01-01'을 받아 {'year' : 1995, 'month' : 1, 'day' : 1}을 return하는 함수\\ndef split_data(date):\\n    split_data = date.split('-')\\n    return {'year' : int(split_data[0]),\\n             'month' : int(split_data[1]),\\n             'day' : int(split_data[2])}\",\n",
       "  \"split_data('2001-01-08')\",\n",
       "  \"def split_birth(member):  # 'name', 'birth'\\n    return {\\n        'name' : member.get('name'),\\n        'year' : int(member.get('birth').split('-')[0]),\\n        'month' : int(member.get('birth').split('-')[1]),\\n        'day' : int(member.get('birth').split('-')[2])\\n    }\",\n",
       "  \"split_birth({'name' : '홍길동', 'birth' : '1999-12-16'})\",\n",
       "  \"split_birth = lambda member : {\\n    'name' : member.get('name'),\\n    'year' : int(member.get('birth').split('-')[0]),\\n    'month' : int(member.get('birth').split('-')[1]),\\n    'day' : int(member.get('birth').split('-')[2])\\n}\",\n",
       "  \"split_birth({'name' : '홍길동', 'birth' : '1999-12-16'})\",\n",
       "  \"split_birth = lambda member : {\\n    'name' : member['name'],\\n    'year' : int(member.get('birth').split('-')[0]),\\n    'month' : int(member.get('birth').split('-')[1]),\\n    'day' : int(member.get('birth').split('-')[2])\\n}\",\n",
       "  \"split_birth({'name' : '홍길동', 'birth' : '1999-12-16'})\",\n",
       "  \"members = list(map(lambda member : {  # 람다식\\n    'name' : member['name'],\\n    'year' : int(member.get('birth').split('-')[0]),\\n    'month' : int(member.get('birth').split('-')[1]),\\n    'day' : int(member.get('birth').split('-')[2])\\n}, members))\",\n",
       "  \"members = list(map(lambda member : {  # 람다식\\n    'name' : member['name'],\\n    'year' : int(member.get('birth').split('-')[0]),\\n    'month' : int(member.get('birth').split('-')[1]),\\n    'day' : int(member.get('birth').split('-')[2])\\n}, members))\\nmembers\",\n",
       "  \"member = list(map(lambda member : {  # 람다식\\n    'name' : member['name'],\\n    'year' : int(member.get('birth').split('-')[0]),\\n    'month' : int(member.get('birth').split('-')[1]),\\n    'day' : int(member.get('birth').split('-')[2])\\n}, member))\\nmember\",\n",
       "  \"members = list(map(lambda members : {  # 람다식\\n    'name' : members['name'],\\n    'year' : int(members.get('birth').split('-')[0]),\\n    'month' : int(members.get('birth').split('-')[1]),\\n    'day' : int(members.get('birth').split('-')[2])\\n}, members))\\nmembers\",\n",
       "  \"# 예제3 : \\n'''\\nmembers = [{'name' : '홍길동', 'birth' : '2000-01-01'},\\n           {'name' : '신길동', 'birth' : '1995-12-18'}]를\\nmembers = [{'name' : '홍길동', 'year' : 2000, 'month' : 1, 'day' : 1},\\n           {'name' : '신길동', 'year' : 1995, 'month' : 12, 'day' : 18}]로 바꾸기\\n'''\",\n",
       "  \"# 예제3 : \\n'''\\nmembers = [{'name' : '홍길동', 'birth' : '2000-01-01'},\\n           {'name' : '신길동', 'birth' : '1995-12-18'}]를\\nmembers = [{'name' : '홍길동', 'year' : 2000, 'month' : 1, 'day' : 1},\\n           {'name' : '신길동', 'year' : 1995, 'month' : 12, 'day' : 18}]로 바꾸기\\n'''\",\n",
       "  \"members = [{'name' : '홍길동', 'birth' : '2000-01-01'},\\n           {'name' : '신길동', 'birth' : '1995-12-18'}]\",\n",
       "  \"# '1995-01-01'을 받아 {'year' : 1995, 'month' : 1, 'day' : 1}을 return하는 함수\\ndef split_data(date):\\n    split_data = date.split('-')\\n    return {'year' : int(split_data[0]),\\n             'month' : int(split_data[1]),\\n             'day' : int(split_data[2])}\",\n",
       "  \"split_data('2001-01-08')\",\n",
       "  \"def split_birth(member):  # 'name', 'birth'\\n    return {\\n        'name' : members.get('name'),\\n        'year' : int(members.get('birth').split('-')[0]),\\n        'month' : int(members.get('birth').split('-')[1]),\\n        'day' : int(members.get('birth').split('-')[2])\\n    }\",\n",
       "  \"split_birth = lambda members : {  # 람다식\\n    'name' : members['name'],\\n    'year' : int(members.get('birth').split('-')[0]),\\n    'month' : int(members.get('birth').split('-')[1]),\\n    'day' : int(members.get('birth').split('-')[2])\\n}\",\n",
       "  \"split_birth({'name' : '홍길동', 'birth' : '1999-12-16'})\",\n",
       "  \"split_birth = lambda members : {  # 람다식\\n    'name' : members['name'],\\n    'year' : int(members.get('birth').split('-')[0]),\\n    'month' : int(members.get('birth').split('-')[1]),\\n    'day' : int(members.get('birth').split('-')[2])\\n}\",\n",
       "  \"split_birth({'name' : '홍길동', 'birth' : '1999-12-16'})\",\n",
       "  \"def split_birth(members):  # 'name', 'birth'\\n    return {\\n        'name' : members.get('name'),\\n        'year' : int(members.get('birth').split('-')[0]),\\n        'month' : int(members.get('birth').split('-')[1]),\\n        'day' : int(members.get('birth').split('-')[2])\\n    }\",\n",
       "  \"split_birth = lambda members : {  # 람다식\\n    'name' : members['name'],\\n    'year' : int(members.get('birth').split('-')[0]),\\n    'month' : int(members.get('birth').split('-')[1]),\\n    'day' : int(members.get('birth').split('-')[2])\\n}\",\n",
       "  \"split_birth({'name' : '홍길동', 'birth' : '1999-12-16'})\",\n",
       "  \"members = list(map(lambda members : {  # 람다식\\n    'name' : members['name'],\\n    'year' : int(members.get('birth').split('-')[0]),\\n    'month' : int(members.get('birth').split('-')[1]),\\n    'day' : int(members.get('birth').split('-')[2])\\n}, members))\\nmembers\",\n",
       "  \"def join_date(date):  # {'year': 1995, 'month': 12, 'day': 18} => '1995-12-18'\\n    '-'.join(date)    \",\n",
       "  \"join_date({'year': 1995, 'month': 12, 'day': 18})\",\n",
       "  \"def join_date(date):  # {'year': 1995, 'month': 12, 'day': 18} => '1995-12-18'\\n    return '-'.join(date)    \",\n",
       "  \"def join_date(date):  # {'year': 1995, 'month': 12, 'day': 18} => '1995-12-18'\\n    return '-'.join(date)    \",\n",
       "  \"join_date({'year': 1995, 'month': 12, 'day': 18})\",\n",
       "  \"def join_date(date):  # {'year': 1995, 'month': 12, 'day': 18} => '1995-12-18'\\n    return '-'.join(date).value()\",\n",
       "  \"def join_date(date):  # {'year': 1995, 'month': 12, 'day': 18} => '1995-12-18'\\n    return '-'.join(date).value()\",\n",
       "  \"join_date({'year': 1995, 'month': 12, 'day': 18})\",\n",
       "  \"def join_date(date):  # {'year': 1995, 'month': 12, 'day': 18} => '1995-12-18'\\n    return '-'.join(date).values()\",\n",
       "  \"join_date({'year': 1995, 'month': 12, 'day': 18})\",\n",
       "  \"def join_date(date):  # {'year': 1995, 'month': 12, 'day': 18} => '1995-12-18'\\n    return '-'.join(date.values())\",\n",
       "  \"join_date({'year': 1995, 'month': 12, 'day': 18})\",\n",
       "  \"def join_date(date):  # {'year': 1995, 'month': 12, 'day': 18} => '1995-12-18'\\n    return '{}-{}-{}'.format(date['year'], date['month'], date['day'])\",\n",
       "  \"join_date({'year': 1995, 'month': 12, 'day': 18})\",\n",
       "  \"def join_date(date):  # {'year': 1995, 'month': 12, 'day': 18} => '1995-12-18'\\n    return '{}-{:02}-{:02}'.format(date['year'], date['month'], date['day'])\",\n",
       "  \"join_date({'year': 1995, 'month': 12, 'day': 18})\",\n",
       "  \"join_date({'year': 1995, 'month': 1, 'day': 1})\",\n",
       "  \"def join_date(date):  # {'year': 1995, 'month': 12, 'day': 18} => '1995-12-18'\\n    return '{year}-{month:02}-{day:02}'.format(year=date['year'], month=date['month'], day=date['day'])\",\n",
       "  \"def join_date(date):  # {'year': 1995, 'month': 12, 'day': 18} => '1995-12-18'\\n    return '{year}-{month:02}-{day:02}'.format(year=date['year'], month=date['month'], day=date['day'])\",\n",
       "  \"join_date({'year': 1995, 'month': 1, 'day': 1})\",\n",
       "  \"def join_date(date):  # {'year': 1995, 'month': 12, 'day': 18} => '1995-12-18'\\n    return '{year}-{month:02}-{day:02}'.format(**date)\\n        # year=date['year'], month=date['month'], day=date['day'])\",\n",
       "  \"join_date({'year': 1995, 'month': 1, 'day': 1})\",\n",
       "  \"def join_birth(members):\\n    name = members['name'],\\n    del members['name']\\n    print(members)\",\n",
       "  \"join_birth({'name' : 'kim', 'year' : 1995, 'month' : 1, 'day' : 2})\",\n",
       "  \"def join_birth(members):\\n    name = members['name'],\\n    del members['name']\\n    # print(members)  # 빈 곳에 0 반드시 2자리\\n    join_date = '{year}-{month:02}-{day:02}'.format(**date)  # 딕셔너리 데이터 언패킹\\n    return {'name' : name,\\n             'birth' : join_date}\",\n",
       "  \"join_birth({'name' : 'kim', 'year' : 1995, 'month' : 1, 'day' : 2})\",\n",
       "  \"def join_birth(members):\\n    name = members['name'],\\n    del members['name']\\n    # print(members)  # 빈 곳에 0 반드시 2자리\\n    join_date = '{year}-{month:02}-{day:02}'.format(**member)  # 딕셔너리 데이터 언패킹\\n    return {'name' : name,\\n             'birth' : join_date}\",\n",
       "  \"join_birth({'name' : 'kim', 'year' : 1995, 'month' : 1, 'day' : 2})\",\n",
       "  'members = list(map(join_birth, members))\\nmembers',\n",
       "  \"def join_birth(members):\\n    name = members['name'],\\n    del members['name']\\n    # print(members)  # 빈 곳에 0 반드시 2자리\\n    join_date = '{year}-{month:02}-{day:02}'.format(**member)  # 딕셔너리 데이터 언패킹\\n    return {'name' : name,\\n             'birth' : join_date}\",\n",
       "  'members = list(map(join_birth, members))\\nmembers',\n",
       "  'member = list(map(join_birth, members))\\nmember',\n",
       "  \"def join_birth(members):\\n    name = members['name'],\\n    del members['name']\\n    # print(members)  # 빈 곳에 0 반드시 2자리\\n    join_date = '{year}-{month:02}-{day:02}'.format(**member)  # 딕셔너리 데이터 언패킹\\n    return {'name' : name,\\n             'birth' : join_date}\",\n",
       "  \"join_birth({'name' : 'kim', 'year' : 1995, 'month' : 1, 'day' : 2})\",\n",
       "  'member = list(map(join_birth, members))\\nmember',\n",
       "  'members = list(map(join_birth, members))\\nmembers',\n",
       "  \"def join_birth(members):\\n    name = members['name'],\\n    del members['name']\\n    # print(members)  # 빈 곳에 0 반드시 2자리\\n    join_date = '{year}-{month:02}-{day:02}'.format(**members)  # 딕셔너리 데이터 언패킹\\n    return {'name' : name,\\n             'birth' : join_date}\",\n",
       "  \"join_birth({'name' : 'kim', 'year' : 1995, 'month' : 1, 'day' : 2})\",\n",
       "  'members = list(map(join_birth, members))\\nmembers',\n",
       "  \"def join_birth(member):\\n    name = member['name'],\\n    del members['name']\\n    # print(members)  # 빈 곳에 0 반드시 2자리\\n    join_date = '{year}-{month:02}-{day:02}'.format(**member)  # 딕셔너리 데이터 언패킹\\n    return {'name' : name,\\n             'birth' : join_date}\",\n",
       "  \"join_birth({'name' : 'kim', 'year' : 1995, 'month' : 1, 'day' : 2})\",\n",
       "  'members = list(map(join_birth, members))\\nmembers',\n",
       "  \"def join_birth(member):\\n    name = members['name'],\\n    del members['name']\\n    # print(members)  # 빈 곳에 0 반드시 2자리\\n    join_date = '{year}-{month:02}-{day:02}'.format(**members)  # 딕셔너리 데이터 언패킹\\n    return {'name' : name,\\n             'birth' : join_date}\",\n",
       "  \"join_birth({'name' : 'kim', 'year' : 1995, 'month' : 1, 'day' : 2})\",\n",
       "  'members = list(map(join_birth, members))\\nmembers',\n",
       "  \"def join_birth(members):\\n    name = members['name'],\\n    del members['name']\\n    # print(members)  # 빈 곳에 0 반드시 2자리\\n    join_date = '{year}-{month:02}-{day:02}'.format(**members)  # 딕셔너리 데이터 언패킹\\n    return {'name' : name,\\n             'birth' : join_date}\",\n",
       "  \"join_birth({'name' : 'kim', 'year' : 1995, 'month' : 1, 'day' : 2})\",\n",
       "  'members = list(map(join_birth, members))\\nmembers',\n",
       "  'members',\n",
       "  \"members = [{'name' : '홍길동', 'birth' : '2000-01-01'},\\n           {'name' : '신길동', 'birth' : '1995-12-18'}]\",\n",
       "  \"members = list(map(lambda members : {  # 람다식\\n    'name' : members['name'],\\n    'year' : int(members.get('birth').split('-')[0]),\\n    'month' : int(members.get('birth').split('-')[1]),\\n    'day' : int(members.get('birth').split('-')[2])\\n}, members))\\nmembers\",\n",
       "  'members = list(map(join_birth, members))\\nmembers',\n",
       "  'members',\n",
       "  \"def apply(data, func=None):\\n    if func is None:  # if func == None\\n        print('func가 None')\\n    else:\\n        print('func가 None아님')\",\n",
       "  'apply(1)',\n",
       "  \"def apply(data, func=None):\\n    # if func == None\\n    if func is None:\\n        print('func가 None')\\n    else:\\n        print('func가 None아님')\",\n",
       "  'apply(1)',\n",
       "  \"def apply(data, func=None):\\n    # if func == None\\n    if func is None:\\n        return data\\n    else:\\n        print('func가 None아님')\",\n",
       "  'apply(1)',\n",
       "  'def apply(data, func=None):\\n    # if func == None\\n    if func is None:\\n        return data\\n    else:\\n        return func(data)',\n",
       "  'apply(1)',\n",
       "  'apply(1)',\n",
       "  'print(apply(2))\\nprint(apply(2, lambda x : x**3))',\n",
       "  '# 매개변수에 함수를 사용\\ndef apply(data, func=None):\\n    # if func == None\\n    if func is None:\\n        return data\\n    else:\\n        return func(data)',\n",
       "  'print(apply(2))\\nprint(apply(2, lambda x : x**3))',\n",
       "  '# 함수를 return',\n",
       "  \"# 함수를 return\\n'''\\nmake_box([2, 3]) => 2차원 2행 3열 list를 만드는 함수를 return\\n    fun = make_box([2, 3])\\n    fun(5) => [[5, 5, 5],\\n               [5, 5, 5]]\\nmake_box((2,)) => 1차원 2열 list를 만드는 함수를 return (2,) 뒤에 , 꼭 써야함\\n    fun = make_box([2])\\n    fun(7) => [7,7]\\n'''\\ndef make_box(shape):  # shape : [x], [x, y] : x열, x행y열\\n    def box(init_value):\\n        if len(shape) == 1:  # shape가 1차원인지\\n            return [init_value]*shape[0]  # 1차원 list를 return\\n        elif len(shape) == 2:  # shape가 2차원인지\\n            return [[init_value]*shape[1]] * shape[0]\\n    return box\",\n",
       "  'line_fun = make_box( (3,))  # 3열짜리 1차원 list\\nline_fun',\n",
       "  'line_fun = make_box((3,))  # 3열짜리 1차원 list\\nline_fun',\n",
       "  'line_fun = make_box((3,))  # 3열짜리 1차원 list\\nline_fun(5)',\n",
       "  'box2d_fun = make_box( (4, 3))\\nbox2d_fun(5)',\n",
       "  'def make_box(shape):\\n    if len(shape) == 1:\\n        return lambda init_value : [init_value]*shape[0]\\n    elif len(shape) == 2:\\n        return lambda init_value : [[init_value]*shape[1]] * shape[0]',\n",
       "  'line_fun = make_box((3,))  # 3열짜리 1차원 list\\nline_fun(5)',\n",
       "  'box2d_fun = make_box( (4, 3))  # 4행 3열짜리 2차원 list\\nbox2d_fun(5)',\n",
       "  \"int('6')\",\n",
       "  \"int('ㅁ')\\n# ('6.3'), ('') 에러\",\n",
       "  \"int('6')\\n# ('6.3'), ('') 에러\",\n",
       "  \"int('6')\\n# ('6.3'), (''), ('ㅁ') 에러\",\n",
       "  'globals()'],\n",
       " '_oh': {2: 8,\n",
       "  3: 30,\n",
       "  4: 30,\n",
       "  7: 8,\n",
       "  16: 'negative',\n",
       "  17: 'negative',\n",
       "  18: 100,\n",
       "  19: 'negative',\n",
       "  20: 'negative',\n",
       "  23: 'negative',\n",
       "  24: 'negative',\n",
       "  25: 500,\n",
       "  26: 'negative',\n",
       "  27: 'negative',\n",
       "  28: 1,\n",
       "  30: 0,\n",
       "  31: 0,\n",
       "  32: 1,\n",
       "  34: (0, -1),\n",
       "  38: (0, -1),\n",
       "  39: (0, -1),\n",
       "  40: '홀수',\n",
       "  41: '짝수',\n",
       "  42: '짝수',\n",
       "  43: '짝수',\n",
       "  44: ('짝수', '홀수'),\n",
       "  45: ('짝수', '홀수'),\n",
       "  46: ('짝수', '홀수'),\n",
       "  47: ('짝수', '홀수'),\n",
       "  48: ('짝수', '홀수'),\n",
       "  51: 'B등급',\n",
       "  52: ('B등급', '재시험'),\n",
       "  57: ('B등급', '재시험'),\n",
       "  58: ('A등급', 'A등급'),\n",
       "  59: ('A등급', '재시험'),\n",
       "  67: '유효하지 않은 점수 등급',\n",
       "  68: 'A',\n",
       "  69: 'B ',\n",
       "  71: 'D ',\n",
       "  72: ('유효하지 않은 점수 등급', 'A', 'B ', 'C ', 'D ', 'F '),\n",
       "  73: ('유효하지 않은 점수 등급', 'A', 'B', 'C', 'D', 'F'),\n",
       "  75: ('유효하지 않은 점수 등급', 'A', 'B ', 'C ', 'D ', 'F '),\n",
       "  78: (3, '두 번째 인자가 0으로는 나눌 수 없습니다'),\n",
       "  79: [10, 20],\n",
       "  81: [1, 2, 3],\n",
       "  82: [2, 4, 6],\n",
       "  101: [7, 25],\n",
       "  109: [2, 4, 6, 8, 10, 12, 14, 16],\n",
       "  110: [2, 4, 6, 8, 10, 12, 14, 16],\n",
       "  111: [2, 4, 6, 8, 10, 12, 14, 16],\n",
       "  112: [2, 4, 6, 8, 10, 12, 14, 16],\n",
       "  113: <map at 0x22b8adbd810>,\n",
       "  114: [2, 4, 6, 8, 10, 12, 14, 16],\n",
       "  116: <enumerate at 0x22b8ad70700>,\n",
       "  117: [(0, 1), (1, 2), (2, 3), (3, 4), (4, 5), (5, 6), (6, 7), (7, 8)],\n",
       "  125: [2, 4, 6, 8],\n",
       "  126: [2, 4, 6, 8],\n",
       "  127: <filter at 0x22b8adb96f0>,\n",
       "  133: [1, 2, 3, 4, 5, 6, 7, 8],\n",
       "  135: [False, True, False, True, False, True, False, True],\n",
       "  136: [2, 4, 6, 8],\n",
       "  137: [2, 4, 6, 8],\n",
       "  138: [2, 4, 6, 8],\n",
       "  166: [2, 4, 6, 8],\n",
       "  167: [2, 100],\n",
       "  168: [1, 1.2, 1.5, 2, 3.0, 10.5, 100],\n",
       "  169: [1, 1.2, 1.5, 2, 3.0, 10.5, 100],\n",
       "  170: [1, 1.2, 1.5, 2, 3.0, 10.5, 100],\n",
       "  171: [1.2, 1.5, 10.5],\n",
       "  172: [1.2, 1.5, 10.5],\n",
       "  173: [1.2, 1.5, 10.5],\n",
       "  174: [1.2, 1.5, 10.5],\n",
       "  175: [1.2, 1.5, 10.5],\n",
       "  176: [1.2, 1.5, 10.5],\n",
       "  177: [1.2, 1.5, 10.5],\n",
       "  178: [1.2, 1.5, 10.5],\n",
       "  179: [1.2, 1.5, 10.5],\n",
       "  180: [1.2, 1.5, 10.5],\n",
       "  181: [1.2, 1.5, 10.5],\n",
       "  182: [1.2, 1.5, 10.5],\n",
       "  183: [1.2, 1.5, 10.5],\n",
       "  185: [1, 2, 3.0, 100],\n",
       "  186: [1, 2, 3.0, 100],\n",
       "  199: [1, 3, 6, 10],\n",
       "  200: [10, 3, 6, 1],\n",
       "  201: [1, 3, 6, 10],\n",
       "  203: [10, 6, 3, 1],\n",
       "  204: [10, 6, 3, 1],\n",
       "  207: [(1, 'one'), (2, 'two'), (3, 'three'), (4, 'four')],\n",
       "  210: [(4, 'four'), (1, 'one'), (3, 'three'), (2, 'two')],\n",
       "  213: [(4, 'four'), (1, 'one'), (3, 'three'), (2, 'two')],\n",
       "  214: [(4, 'four'), (1, 'one'), (3, 'three'), (2, 'two')],\n",
       "  236: [{'name': '홍', 'score': 99},\n",
       "   {'name': '이', 'score': 77},\n",
       "   {'name': '박', 'score': 66},\n",
       "   {'name': '김', 'score': 22}],\n",
       "  237: [{'name': '홍', 'score': 99},\n",
       "   {'name': '이', 'score': 77},\n",
       "   {'name': '박', 'score': 66},\n",
       "   {'name': '김', 'score': 22}],\n",
       "  238: [{'name': '홍', 'score': 99},\n",
       "   {'name': '이', 'score': 77},\n",
       "   {'name': '박', 'score': 66},\n",
       "   {'name': '김', 'score': 22}],\n",
       "  241: [{'name': '홍', 'score': 99},\n",
       "   {'name': '이', 'score': 77},\n",
       "   {'name': '박', 'score': 66},\n",
       "   {'name': '김', 'score': 22}],\n",
       "  242: [{'name': '홍', 'score': 99},\n",
       "   {'name': '이', 'score': 77},\n",
       "   {'name': '박', 'score': 66},\n",
       "   {'name': '김', 'score': 22}],\n",
       "  243: [{'name': '홍', 'score': 99},\n",
       "   {'name': '이', 'score': 77},\n",
       "   {'name': '박', 'score': 66},\n",
       "   {'name': '김', 'score': 22}],\n",
       "  244: [{'name': '홍', 'score': 99},\n",
       "   {'name': '이', 'score': 77},\n",
       "   {'name': '박', 'score': 66},\n",
       "   {'name': '김', 'score': 22}],\n",
       "  245: [{'name': '홍', 'score': 99},\n",
       "   {'name': '이', 'score': 77},\n",
       "   {'name': '박', 'score': 66},\n",
       "   {'name': '김', 'score': 22}],\n",
       "  247: [{'no': 5, 'title': '가격없음', 'writer': '김난도', 'price': 'None예정'},\n",
       "   {'no': 2, 'title': '트렌트코리아2025', 'writer': '김난도', 'price': '18,100'},\n",
       "   {'no': 3, 'title': '트럼프2.0시대', 'writer': '박종훈', 'price': '18,000'},\n",
       "   {'no': 1, 'title': '소년이 온다', 'writer': '한강', 'price': '13,500'},\n",
       "   {'no': 4, 'title': '가격잘못', 'writer': '홍길동', 'price': 'ㅁ'}],\n",
       "  248: [{'no': 5, 'title': '가격없음', 'writer': '김난도', 'price': 'None예정'},\n",
       "   {'no': 2, 'title': '트렌트코리아2025', 'writer': '김난도', 'price': '18,100'},\n",
       "   {'no': 3, 'title': '트럼프2.0시대', 'writer': '박종훈', 'price': '18,000'},\n",
       "   {'no': 1, 'title': '소년이 온다', 'writer': '한강', 'price': '13,500'},\n",
       "   {'no': 4, 'title': '가격잘못', 'writer': '홍길동', 'price': 'ㅁ'}],\n",
       "  249: [{'no': 5, 'title': '가격없음', 'writer': '김난도', 'price': 'None예정'},\n",
       "   {'no': 2, 'title': '트렌트코리아2025', 'writer': '김난도', 'price': '18,100'},\n",
       "   {'no': 3, 'title': '트럼프2.0시대', 'writer': '박종훈', 'price': '18,000'},\n",
       "   {'no': 1, 'title': '소년이 온다', 'writer': '한강', 'price': '13,500'},\n",
       "   {'no': 4, 'title': '가격잘못', 'writer': '홍길동', 'price': 'ㅁ'}],\n",
       "  251: [{'no': 5, 'title': '가격없음', 'writer': '김난도', 'price': 'None예정'},\n",
       "   {'no': 4, 'title': '가격잘못', 'writer': '홍길동', 'price': 'ㅁ'},\n",
       "   {'no': 1, 'title': '소년이 온다', 'writer': '한강', 'price': '13,500'},\n",
       "   {'no': 3, 'title': '트럼프2.0시대', 'writer': '박종훈', 'price': '18,000'},\n",
       "   {'no': 2, 'title': '트렌트코리아2025', 'writer': '김난도', 'price': '9,100'}],\n",
       "  252: [{'no': 5, 'title': '가격없음', 'writer': '김난도', 'price': 'None예정'},\n",
       "   {'no': 4, 'title': '가격잘못', 'writer': '홍길동', 'price': 'ㅁ'},\n",
       "   {'no': 1, 'title': '소년이 온다', 'writer': '한강', 'price': '13,500'},\n",
       "   {'no': 3, 'title': '트럼프2.0시대', 'writer': '박종훈', 'price': '18,000'},\n",
       "   {'no': 2, 'title': '트렌트코리아2025', 'writer': '김난도', 'price': '9,100'}],\n",
       "  254: [{'no': 4, 'title': '가격잘못', 'writer': '홍길동', 'price': 'ㅁ'},\n",
       "   {'no': 5, 'title': '가격없음', 'writer': '신길동', 'price': 'None예정'},\n",
       "   {'no': 2, 'title': '트렌트코리아2025', 'writer': '김난도', 'price': '9,100'},\n",
       "   {'no': 3, 'title': '트럼프2.0시대', 'writer': '박종훈', 'price': '18,000'},\n",
       "   {'no': 1, 'title': '소년이 온다', 'writer': '한강', 'price': '13,500'}],\n",
       "  255: [{'no': 4, 'title': '가격잘못', 'writer': '홍길동', 'price': 'ㅁ'},\n",
       "   {'no': 5, 'title': '가격없음', 'writer': '신길동', 'price': 'None예정'},\n",
       "   {'no': 2, 'title': '트렌트코리아2025', 'writer': '김난도', 'price': '9,100'},\n",
       "   {'no': 3, 'title': '트럼프2.0시대', 'writer': '박종훈', 'price': '18,000'},\n",
       "   {'no': 1, 'title': '소년이 온다', 'writer': '한강', 'price': '13,500'}],\n",
       "  256: [{'no': 4, 'title': '가격잘못', 'writer': '홍길동', 'price': 'ㅁ'},\n",
       "   {'no': 5, 'title': '가격없음', 'writer': '신길동', 'price': 'None예정'},\n",
       "   {'no': 2, 'title': '트렌트코리아2025', 'writer': '김난도', 'price': '9,100'},\n",
       "   {'no': 3, 'title': '트럼프2.0시대', 'writer': '박종훈', 'price': '18,000'},\n",
       "   {'no': 1, 'title': '소년이 온다', 'writer': '한강', 'price': '13,500'}],\n",
       "  257: [{'no': 4, 'title': '가격잘못', 'writer': '홍길동', 'price': 'ㅁ'},\n",
       "   {'no': 5, 'title': '가격없음', 'writer': '신길동', 'price': 'None예정'},\n",
       "   {'no': 2, 'title': '트렌트코리아2025', 'writer': '김난도', 'price': '9,100'},\n",
       "   {'no': 3, 'title': '트럼프2.0시대', 'writer': '박종훈', 'price': '18,000'},\n",
       "   {'no': 1, 'title': '소년이 온다', 'writer': '한강', 'price': '13,500'}],\n",
       "  258: [{'no': 4, 'title': '가격잘못', 'writer': '홍길동', 'price': 'ㅁ'},\n",
       "   {'no': 5, 'title': '가격없음', 'writer': '신길동', 'price': 'None예정'},\n",
       "   {'no': 2, 'title': '트렌트코리아2025', 'writer': '김난도', 'price': '9,100'},\n",
       "   {'no': 3, 'title': '트럼프2.0시대', 'writer': '박종훈', 'price': '18,000'},\n",
       "   {'no': 1, 'title': '소년이 온다', 'writer': '한강', 'price': '13,500'}],\n",
       "  264: 13500,\n",
       "  267: (None, None, None, None),\n",
       "  269: (None, None, None, None),\n",
       "  270: (None, None, None, None),\n",
       "  274: (None, None, None, None),\n",
       "  278: (None, None, None, None),\n",
       "  280: (None, None, None, 13500),\n",
       "  292: ['13,500', '18,000', '9,100', 'ㅁ', 9200, None],\n",
       "  295: [13500, 18000, 9100, (), (), ()],\n",
       "  299: [13500, 18000, 9100, 0, 0, 0],\n",
       "  300: [13500, 18000, 9100, 0, 0, 0],\n",
       "  301: [13500, 18000, 9100, 0, 9200, 0],\n",
       "  302: [13500, 18000, 9100, 0, 9200, 0],\n",
       "  306: [{'no': 1, 'title': '소년이 온다', 'writer': '한강', 'price': '13,500'},\n",
       "   {'no': 3, 'title': '트럼프2.0시대', 'writer': '박종훈', 'price': '18,000'},\n",
       "   {'no': 2, 'title': '트렌트코리아2025', 'writer': '김난도', 'price': '9,100'},\n",
       "   {'no': 4, 'title': '가격잘못', 'writer': '홍길동', 'price': 'ㅁ'},\n",
       "   {'no': 5, 'title': '가격없음', 'writer': '신길동'},\n",
       "   {'no': 6, 'title': '가격없음', 'writer': '신길동', 'price': 9200}],\n",
       "  307: [{'no': 6, 'title': '가격없음', 'writer': '신길동', 'price': 9200},\n",
       "   {'no': 1, 'title': '소년이 온다', 'writer': '한강', 'price': '13,500'},\n",
       "   {'no': 3, 'title': '트럼프2.0시대', 'writer': '박종훈', 'price': '18,000'},\n",
       "   {'no': 2, 'title': '트렌트코리아2025', 'writer': '김난도', 'price': '9,100'},\n",
       "   {'no': 4, 'title': '가격잘못', 'writer': '홍길동', 'price': 'ㅁ'},\n",
       "   {'no': 5, 'title': '가격없음', 'writer': '신길동'}],\n",
       "  309: [13500, 18000, 9100, 0, 9200, 0],\n",
       "  310: [{'no': 6, 'title': '가격숫자', 'writer': '신길동', 'price': 9200},\n",
       "   {'no': 1, 'title': '소년이 온다', 'writer': '한강', 'price': '13,500'},\n",
       "   {'no': 3, 'title': '트럼프2.0시대', 'writer': '박종훈', 'price': '18,000'},\n",
       "   {'no': 2, 'title': '트렌트코리아2025', 'writer': '김난도', 'price': '9,100'},\n",
       "   {'no': 4, 'title': '가격잘못', 'writer': '홍길동', 'price': 'ㅁ'},\n",
       "   {'no': 5, 'title': '가격없음', 'writer': '이길동'}],\n",
       "  312: [13500, 18000, 9100, 0, 9200, 0],\n",
       "  313: [{'no': 6, 'title': '가격숫자', 'writer': '신길동', 'price': 9200},\n",
       "   {'no': 1, 'title': '소년이 온다', 'writer': '한강', 'price': '13,500'},\n",
       "   {'no': 3, 'title': '트럼프2.0시대', 'writer': '박종훈', 'price': '18,000'},\n",
       "   {'no': 2, 'title': '트렌트코리아2025', 'writer': '김난도', 'price': '9,100'},\n",
       "   {'no': 4, 'title': '가격잘못', 'writer': '홍길동', 'price': 'ㅁ'},\n",
       "   {'no': 5, 'title': '가격없음', 'writer': '이길동'}],\n",
       "  314: [{'no': 1, 'title': '소년이 온다', 'writer': '한강', 'price': '13,500'},\n",
       "   {'no': 3, 'title': '트럼프2.0시대', 'writer': '박종훈', 'price': '18,000'},\n",
       "   {'no': 2, 'title': '트렌트코리아2025', 'writer': '김난도', 'price': '9,100'},\n",
       "   {'no': 4, 'title': '가격잘못', 'writer': '홍길동', 'price': 'ㅁ'},\n",
       "   {'no': 5, 'title': '가격없음', 'writer': '이길동'},\n",
       "   {'no': 6, 'title': '가격숫자', 'writer': '신길동', 'price': 9200}],\n",
       "  315: [{'no': 4, 'title': '가격잘못', 'writer': '홍길동', 'price': 'ㅁ'},\n",
       "   {'no': 5, 'title': '가격없음', 'writer': '이길동'},\n",
       "   {'no': 2, 'title': '트렌트코리아2025', 'writer': '김난도', 'price': '9,100'},\n",
       "   {'no': 6, 'title': '가격숫자', 'writer': '신길동', 'price': 9200},\n",
       "   {'no': 1, 'title': '소년이 온다', 'writer': '한강', 'price': '13,500'},\n",
       "   {'no': 3, 'title': '트럼프2.0시대', 'writer': '박종훈', 'price': '18,000'}],\n",
       "  316: [{'no': 3, 'title': '트럼프2.0시대', 'writer': '박종훈', 'price': '18,000'},\n",
       "   {'no': 1, 'title': '소년이 온다', 'writer': '한강', 'price': '13,500'},\n",
       "   {'no': 6, 'title': '가격숫자', 'writer': '신길동', 'price': 9200},\n",
       "   {'no': 2, 'title': '트렌트코리아2025', 'writer': '김난도', 'price': '9,100'},\n",
       "   {'no': 4, 'title': '가격잘못', 'writer': '홍길동', 'price': 'ㅁ'},\n",
       "   {'no': 5, 'title': '가격없음', 'writer': '이길동'}],\n",
       "  317: [{'no': 3, 'title': '트럼프2.0시대', 'writer': '박종훈', 'price': '18,000'},\n",
       "   {'no': 1, 'title': '소년이 온다', 'writer': '한강', 'price': '13,500'},\n",
       "   {'no': 6, 'title': '가격숫자', 'writer': '신길동', 'price': 9200},\n",
       "   {'no': 2, 'title': '트렌트코리아2025', 'writer': '김난도', 'price': '9,100'},\n",
       "   {'no': 4, 'title': '가격잘못', 'writer': '홍길동', 'price': 'ㅁ'},\n",
       "   {'no': 5, 'title': '가격없음', 'writer': '이길동'}],\n",
       "  318: \"\\n{'no': 3, 'title': '트럼프', 'writer': '박', 'price': '8,000'}를 매개변수로 받아\\n{'no': 3, 'title': '트럼프', 'writer': '박', 'price': 8000}로 return\\n\\n\",\n",
       "  320: {'no': 3, 'title': '트럼프', 'writer': '박', 'price': 8000},\n",
       "  321: {'no': 3, 'title': '트럼프', 'writer': '박', 'price': 8000},\n",
       "  322: {'no': 3, 'title': '트럼프', 'writer': '박', 'price': 8000},\n",
       "  323: {'no': 3, 'title': '트럼프', 'writer': '박', 'price': 0},\n",
       "  324: {'no': 3, 'title': '트럼프', 'writer': '박', 'price': 0},\n",
       "  325: {'no': 3, 'title': '트럼프', 'writer': '박', 'price': 8000},\n",
       "  326: {'no': 3, 'title': '트럼프', 'writer': '박', 'price': 8000},\n",
       "  327: {'no': 3, 'title': '트럼프', 'writer': '박', 'price': 8000},\n",
       "  328: {'no': 3, 'title': '트럼프', 'writer': '박', 'price': 8000},\n",
       "  330: {'no': 3, 'title': '트럼프', 'writer': '박', 'price': 8000},\n",
       "  331: {'no': 3, 'title': '트럼프', 'writer': '박', 'price': 8000},\n",
       "  333: {'no': 3, 'title': '트럼프', 'writer': '박', 'price': 8000},\n",
       "  334: {'no': 3, 'title': '트럼프', 'writer': '박', 'price': 8000},\n",
       "  336: {'no': 3, 'title': '트럼프', 'writer': '박', 'price': 8000},\n",
       "  337: {'no': 3, 'title': '트럼프', 'writer': '박', 'price': 8000},\n",
       "  339: {'no': 3, 'title': '트럼프', 'writer': '박', 'price': 0},\n",
       "  340: {'no': 3, 'title': '트럼프', 'writer': '박', 'price': ''},\n",
       "  341: {'no': 3, 'title': '트럼프', 'writer': '박', 'price': ''},\n",
       "  342: {'no': 3, 'title': '트럼프', 'writer': '박', 'price': 0},\n",
       "  343: {'no': 3, 'title': '트럼프', 'writer': '박', 'price': ''},\n",
       "  346: {'no': 3, 'title': '트럼프', 'writer': '박', 'price': 0},\n",
       "  347: {'no': 3, 'title': '트럼프', 'writer': '박', 'price': ''},\n",
       "  348: {'no': 3, 'title': '트럼프', 'writer': '박', 'price': 0},\n",
       "  349: {'no': 3, 'title': '트럼프', 'writer': '박'},\n",
       "  351: {'no': 3, 'title': '트럼프', 'writer': '박', 'price': 0},\n",
       "  352: {'no': 3, 'title': '트럼프', 'writer': '박'},\n",
       "  354: {'no': 3, 'title': '트럼프', 'writer': '박', 'price': 0},\n",
       "  355: {'no': 3, 'title': '트럼프', 'writer': '박', 'price': 0},\n",
       "  357: {'no': 3, 'title': '트럼프', 'writer': '박', 'price': 0},\n",
       "  358: {'no': 3, 'title': '트럼프', 'writer': '박'},\n",
       "  360: {'no': 3, 'title': '트럼프', 'writer': '박', 'price': 0},\n",
       "  361: {'no': 3, 'title': '트럼프', 'writer': '박', 'price': 0},\n",
       "  362: {'no': 3, 'title': '트럼프', 'writer': '박', 'price': 0},\n",
       "  363: {'no': 3, 'title': '트럼프', 'writer': '박', 'price': 0},\n",
       "  365: {'no': 3, 'title': '트럼프', 'writer': '박', 'price': 0},\n",
       "  366: {'no': 3, 'title': '트럼프', 'writer': '박', 'price': 0},\n",
       "  367: {'no': 3, 'title': '트럼프', 'writer': '박'},\n",
       "  369: {'no': 3, 'title': '트럼프', 'writer': '박', 'price': 0},\n",
       "  370: {'no': 3, 'title': '트럼프', 'writer': '박', 'price': 0},\n",
       "  372: {'no': 3, 'title': '트럼프', 'writer': '박', 'price': 0},\n",
       "  373: {'no': 3, 'title': '트럼프', 'writer': '박'},\n",
       "  378: {'no': 3, 'title': '트럼프', 'writer': '박', 'price': 0},\n",
       "  379: {'no': 3, 'title': '트럼프', 'writer': '박'},\n",
       "  382: {'no': 3, 'title': '트럼프', 'writer': '박', 'price': 0},\n",
       "  383: {'no': 3, 'title': '트럼프', 'writer': '박'},\n",
       "  394: {'no': 3, 'title': '트럼프', 'writer': '박', 'price': 0},\n",
       "  395: {'no': 3, 'title': '트럼프', 'writer': '박'},\n",
       "  398: {'no': 3, 'title': '트럼프', 'writer': '박', 'price': 0},\n",
       "  399: {'no': 3, 'title': '트럼프', 'writer': '박'},\n",
       "  402: {'no': 3, 'title': '트럼프', 'writer': '박', 'price': 0},\n",
       "  403: {'no': 3, 'title': '트럼프', 'writer': '박'},\n",
       "  405: {'no': 3, 'title': '트럼프', 'writer': '박', 'price': 0},\n",
       "  406: {'no': 3, 'title': '트럼프', 'writer': '박'},\n",
       "  409: [{'no': 1, 'title': '소년이 온다', 'writer': '한강', 'price': 13500},\n",
       "   {'no': 3, 'title': '트럼프2.0시대', 'writer': '박종훈', 'price': 18000},\n",
       "   {'no': 2, 'title': '트렌트코리아2025', 'writer': '김난도', 'price': 9100},\n",
       "   {'no': 4, 'title': '가격잘못', 'writer': '홍길동', 'price': 0},\n",
       "   {'no': 6, 'title': '가격숫자', 'writer': '신길동', 'price': 9200},\n",
       "   {'no': 5, 'title': '가격없음', 'writer': '이길동', 'price': 0}],\n",
       "  412: {'no': 3, 'title': '트럼프', 'writer': '박', 'price': 0},\n",
       "  413: {'no': 3, 'title': '트럼프', 'writer': '박'},\n",
       "  416: {'no': 3, 'title': '트럼프', 'writer': '박', 'price': 0},\n",
       "  417: {'no': 3, 'title': '트럼프', 'writer': '박'},\n",
       "  419: [{'no': 1, 'title': '소년이 온다', 'writer': '한강', 'price': 13500},\n",
       "   {'no': 3, 'title': '트럼프2.0시대', 'writer': '박종훈', 'price': 18000},\n",
       "   {'no': 2, 'title': '트렌트코리아2025', 'writer': '김난도', 'price': 9100},\n",
       "   {'no': 4, 'title': '가격잘못', 'writer': '홍길동', 'price': 0},\n",
       "   {'no': 6, 'title': '가격숫자', 'writer': '신길동', 'price': 9200},\n",
       "   {'no': 5, 'title': '가격없음', 'writer': '이길동', 'price': 0}],\n",
       "  420: \"\\nmembers = [{'name' : '홍길동', 'birth' : '2000-01-01'},\\n           {'name' : '신길동', 'birth' : '1995-12-18'}]를\\nmembers = [{'name' : '홍길동', 'birth' : '2000-01-01', 'year' : 2000, 'month' : 1, 'day' : 1},\\n           {'name' : '신길동', 'birth' : '1995-12-18', 'year' : 1995, 'month' : 12, 'day' : 18}]로 바꿉니다\\n\",\n",
       "  422: [13500, 18000, 9100, 0, 9200, 0],\n",
       "  423: [{'no': 3, 'title': '트럼프2.0시대', 'writer': '박종훈', 'price': '18,000'},\n",
       "   {'no': 1, 'title': '소년이 온다', 'writer': '한강', 'price': '13,500'},\n",
       "   {'no': 6, 'title': '가격숫자', 'writer': '신길동', 'price': 9200},\n",
       "   {'no': 2, 'title': '트렌트코리아2025', 'writer': '김난도', 'price': '9,100'},\n",
       "   {'no': 4, 'title': '가격잘못', 'writer': '홍길동', 'price': 'ㅁ'},\n",
       "   {'no': 5, 'title': '가격없음', 'writer': '이길동'}],\n",
       "  424: \"\\n{'no': 3, 'title': '트럼프', 'writer': '박', 'price': '8,000'}를 매개변수로 받아\\n{'no': 3, 'title': '트럼프', 'writer': '박', 'price': 8000}로 return\\n\\n\",\n",
       "  426: {'no': 3, 'title': '트럼프', 'writer': '박', 'price': 0},\n",
       "  427: {'no': 3, 'title': '트럼프', 'writer': '박', 'price': 0},\n",
       "  430: {'no': 3, 'title': '트럼프', 'writer': '박', 'price': 0},\n",
       "  431: {'no': 3, 'title': '트럼프', 'writer': '박'},\n",
       "  433: [{'no': 1, 'title': '소년이 온다', 'writer': '한강', 'price': 13500},\n",
       "   {'no': 3, 'title': '트럼프2.0시대', 'writer': '박종훈', 'price': 18000},\n",
       "   {'no': 2, 'title': '트렌트코리아2025', 'writer': '김난도', 'price': 9100},\n",
       "   {'no': 4, 'title': '가격잘못', 'writer': '홍길동', 'price': 0},\n",
       "   {'no': 6, 'title': '가격숫자', 'writer': '신길동', 'price': 9200},\n",
       "   {'no': 5, 'title': '가격없음', 'writer': '이길동', 'price': 0}],\n",
       "  435: [{'no': 3, 'title': '트럼프2.0시대', 'writer': '박종훈', 'price': '18,000'},\n",
       "   {'no': 1, 'title': '소년이 온다', 'writer': '한강', 'price': '13,500'},\n",
       "   {'no': 6, 'title': '가격숫자', 'writer': '신길동', 'price': 9200},\n",
       "   {'no': 2, 'title': '트렌트코리아2025', 'writer': '김난도', 'price': '9,100'},\n",
       "   {'no': 4, 'title': '가격잘못', 'writer': '홍길동', 'price': 'ㅁ'},\n",
       "   {'no': 5, 'title': '가격없음', 'writer': '이길동'}],\n",
       "  437: [{'no': 1, 'title': '소년이 온다', 'writer': '한강', 'price': 13500},\n",
       "   {'no': 3, 'title': '트럼프2.0시대', 'writer': '박종훈', 'price': 18000},\n",
       "   {'no': 2, 'title': '트렌트코리아2025', 'writer': '김난도', 'price': 9100},\n",
       "   {'no': 4, 'title': '가격잘못', 'writer': '홍길동', 'price': 0},\n",
       "   {'no': 6, 'title': '가격숫자', 'writer': '신길동', 'price': 9200},\n",
       "   {'no': 5, 'title': '가격없음', 'writer': '이길동', 'price': 0}],\n",
       "  439: [{'no': 3, 'title': '트럼프2.0시대', 'writer': '박종훈', 'price': '18,000'},\n",
       "   {'no': 1, 'title': '소년이 온다', 'writer': '한강', 'price': '13,500'},\n",
       "   {'no': 6, 'title': '가격숫자', 'writer': '신길동', 'price': 9200},\n",
       "   {'no': 2, 'title': '트렌트코리아2025', 'writer': '김난도', 'price': '9,100'},\n",
       "   {'no': 4, 'title': '가격잘못', 'writer': '홍길동', 'price': 'ㅁ'},\n",
       "   {'no': 5, 'title': '가격없음', 'writer': '이길동'}],\n",
       "  441: [{'no': 3, 'title': '트럼프2.0시대', 'writer': '박종훈', 'price': 18000},\n",
       "   {'no': 1, 'title': '소년이 온다', 'writer': '한강', 'price': 13500},\n",
       "   {'no': 6, 'title': '가격숫자', 'writer': '신길동', 'price': 9200},\n",
       "   {'no': 2, 'title': '트렌트코리아2025', 'writer': '김난도', 'price': 9100},\n",
       "   {'no': 4, 'title': '가격잘못', 'writer': '홍길동', 'price': 0},\n",
       "   {'no': 5, 'title': '가격없음', 'writer': '이길동', 'price': 0}],\n",
       "  442: [{'no': 3, 'title': '트럼프2.0시대', 'writer': '박종훈', 'price': '18,000'},\n",
       "   {'no': 1, 'title': '소년이 온다', 'writer': '한강', 'price': '13,500'},\n",
       "   {'no': 6, 'title': '가격숫자', 'writer': '신길동', 'price': 9200},\n",
       "   {'no': 2, 'title': '트렌트코리아2025', 'writer': '김난도', 'price': '9,100'},\n",
       "   {'no': 4, 'title': '가격잘못', 'writer': '홍길동', 'price': 'ㅁ'},\n",
       "   {'no': 5, 'title': '가격없음', 'writer': '이길동'}],\n",
       "  443: \"\\nmembers = [{'name' : '홍길동', 'birth' : '2000-01-01'},\\n           {'name' : '신길동', 'birth' : '1995-12-18'}]를\\nmembers = [{'name' : '홍길동', 'birth' : '2000-01-01', 'year' : 2000, 'month' : 1, 'day' : 1},\\n           {'name' : '신길동', 'birth' : '1995-12-18', 'year' : 1995, 'month' : 12, 'day' : 18}]로 바꾸기\\n\",\n",
       "  456: [{'name': '홍길동', 'birth': '2000-01-01'},\n",
       "   {'name': '신길동', 'birth': '1995-12-18'}],\n",
       "  457: \"\\nmembers = [{'name' : '홍길동', 'birth' : '2000-01-01'},\\n           {'name' : '신길동', 'birth' : '1995-12-18'}]를\\nmembers = [{'name' : '홍길동', 'year' : 2000, 'month' : 1, 'day' : 1},\\n           {'name' : '신길동', 'year' : 1995, 'month' : 12, 'day' : 18}]로 바꾸기\\n\",\n",
       "  460: [{'name': '홍길동', 'birth': '2000-01-01'},\n",
       "   {'name': '신길동', 'birth': '1995-12-18'}],\n",
       "  462: {'year': '2001', 'month': '01', 'day': '08'},\n",
       "  464: {'year': 2001, 'month': 1, 'day': 8},\n",
       "  470: {'year': 2001, 'month': 1, 'day': 8},\n",
       "  473: {'name': '홍길동', 'year': 1999, 'month': 12, 'day': 16},\n",
       "  474: \"\\nmember = [{'name' : '홍길동', 'birth' : '2000-01-01'},\\n           {'name' : '신길동', 'birth' : '1995-12-18'}]를\\nmember = [{'name' : '홍길동', 'year' : 2000, 'month' : 1, 'day' : 1},\\n           {'name' : '신길동', 'year' : 1995, 'month' : 12, 'day' : 18}]로 바꾸기\\n\",\n",
       "  475: \"\\nmember = [{'name' : '홍길동', 'birth' : '2000-01-01'},\\n           {'name' : '신길동', 'birth' : '1995-12-18'}]를\\nmember = [{'name' : '홍길동', 'year' : 2000, 'month' : 1, 'day' : 1},\\n           {'name' : '신길동', 'year' : 1995, 'month' : 12, 'day' : 18}]로 바꾸기\\n\",\n",
       "  476: \"\\nmember = [{'name' : '홍길동', 'birth' : '2000-01-01'},\\n           {'name' : '신길동', 'birth' : '1995-12-18'}]를\\nmember = [{'name' : '홍길동', 'year' : 2000, 'month' : 1, 'day' : 1},\\n           {'name' : '신길동', 'year' : 1995, 'month' : 12, 'day' : 18}]로 바꾸기\\n\",\n",
       "  477: \"\\nmember = [{'name' : '홍길동', 'birth' : '2000-01-01'},\\n           {'name' : '신길동', 'birth' : '1995-12-18'}]를\\nmember = [{'name' : '홍길동', 'year' : 2000, 'month' : 1, 'day' : 1},\\n           {'name' : '신길동', 'year' : 1995, 'month' : 12, 'day' : 18}]로 바꾸기\\n\",\n",
       "  480: {'year': 2001, 'month': 1, 'day': 8},\n",
       "  482: {'name': '홍길동', 'year': 1999, 'month': 12, 'day': 16},\n",
       "  484: {'name': '홍길동', 'year': 1999, 'month': 12, 'day': 16},\n",
       "  486: {'name': '홍길동', 'year': 1999, 'month': 12, 'day': 16},\n",
       "  489: [{'name': '홍길동', 'year': 2000, 'month': 1, 'day': 1},\n",
       "   {'name': '신길동', 'year': 1995, 'month': 12, 'day': 18}],\n",
       "  491: \"\\nmembers = [{'name' : '홍길동', 'birth' : '2000-01-01'},\\n           {'name' : '신길동', 'birth' : '1995-12-18'}]를\\nmembers = [{'name' : '홍길동', 'year' : 2000, 'month' : 1, 'day' : 1},\\n           {'name' : '신길동', 'year' : 1995, 'month' : 12, 'day' : 18}]로 바꾸기\\n\",\n",
       "  492: \"\\nmembers = [{'name' : '홍길동', 'birth' : '2000-01-01'},\\n           {'name' : '신길동', 'birth' : '1995-12-18'}]를\\nmembers = [{'name' : '홍길동', 'year' : 2000, 'month' : 1, 'day' : 1},\\n           {'name' : '신길동', 'year' : 1995, 'month' : 12, 'day' : 18}]로 바꾸기\\n\",\n",
       "  495: {'year': 2001, 'month': 1, 'day': 8},\n",
       "  498: {'name': '홍길동', 'year': 1999, 'month': 12, 'day': 16},\n",
       "  500: {'name': '홍길동', 'year': 1999, 'month': 12, 'day': 16},\n",
       "  503: {'name': '홍길동', 'year': 1999, 'month': 12, 'day': 16},\n",
       "  504: [{'year': 2000, 'month': 1, 'day': 1},\n",
       "   {'name': '신길동', 'year': 1995, 'month': 12, 'day': 18}],\n",
       "  509: 'year-month-day',\n",
       "  518: '1995-12-18',\n",
       "  520: '1995-12-18',\n",
       "  521: '1995-01-01',\n",
       "  524: '1995-01-01',\n",
       "  526: '1995-01-01',\n",
       "  542: {'name': ('kim',), 'birth': '1995-01-02'},\n",
       "  551: {'name': ('kim',), 'birth': '1995-01-02'},\n",
       "  553: [{'year': 2000, 'month': 1, 'day': 1},\n",
       "   {'name': '신길동', 'year': 1995, 'month': 12, 'day': 18}],\n",
       "  555: [{'year': 2000, 'month': 1, 'day': 1},\n",
       "   {'year': 1995, 'month': 12, 'day': 18}],\n",
       "  556: [{'name': ('홍길동',), 'birth': '2000-01-01'},\n",
       "   {'name': ('신길동',), 'birth': '1995-12-18'}],\n",
       "  557: [{'name': ('홍길동',), 'birth': '2000-01-01'},\n",
       "   {'name': ('신길동',), 'birth': '1995-12-18'}],\n",
       "  563: 1,\n",
       "  565: 1,\n",
       "  566: 1,\n",
       "  572: <function __main__.make_box.<locals>.box(init_value)>,\n",
       "  573: <function __main__.make_box.<locals>.box(init_value)>,\n",
       "  574: [5, 5, 5],\n",
       "  575: [[5, 5, 5], [5, 5, 5], [5, 5, 5], [5, 5, 5]],\n",
       "  577: [5, 5, 5],\n",
       "  578: [[5, 5, 5], [5, 5, 5], [5, 5, 5], [5, 5, 5]],\n",
       "  579: 6,\n",
       "  581: 6,\n",
       "  582: 6},\n",
       " '_dh': [WindowsPath('D:/imsehyeon/source/07_python')],\n",
       " 'In': ['',\n",
       "  'from IPython.display import display, HTML\\ndisplay(HTML(\"\"\"\\n<style>\\ndiv.container{width:80% !important;}\\ndiv.prompt {min-width:70px;}\\ndiv#toc-header{margin-top:150px;}\\nspan.toc-item-num{display:none;}\\n</style>\\n\"\"\"))',\n",
       "  'def add(a, b):\\n    return a+b\\nadd(3, 5)',\n",
       "  'add2 = add\\nadd2(10, 20)',\n",
       "  'add2 = lambda a, b : a+b\\nadd2(10, 20)',\n",
       "  'print(type(add), type(add2))',\n",
       "  'print(type(add), type(add2))',\n",
       "  '(lambda a, b : a+b)(3, 5)',\n",
       "  '# 매개변수 a와 b의 차이를 return(양수로)\\ndef diff(a, b):\\n    if a >= b:\\n        return a-b\\n    else:\\n        b-a',\n",
       "  'diff2 = lambda a, b : a-b if a >= b else b-a',\n",
       "  'print(diff(3, 5), diff(5, 3), diff2(3, 5), diff2(5, 3))\\nprint(type(diff), type(diff2))',\n",
       "  'print(diff(3, 5), diff(5, 3), diff2(3, 5), diff2(5, 3))\\nprint(type(diff), type(diff2))',\n",
       "  '# 매개변수 a와 b의 차이를 return(양수로)\\ndef diff(a, b):\\n    if a >= b:\\n        return a-b\\n    else:\\n        return b-a',\n",
       "  'diff2 = lambda a, b : a-b if a >= b else b-a',\n",
       "  'print(diff(3, 5), diff(5, 3), diff2(3, 5), diff2(5, 3))\\nprint(type(diff), type(diff2))',\n",
       "  \"# 매개변수로 잔액을 받아 잔액이 음수면 'negative'라고 출력하고, 양수면 잔액을 출력하시오\\n# return 타입이 같지 않아도 됨\\ndef get_balance(balance):\\n    if balance >= 0:\\n        return balance\\n    else:\\n        return 'negative'\",\n",
       "  'get_balance(-100)',\n",
       "  \"get_balance = lambda balance : balance if balance >= 0 else 'negative'\\nget_balance(-100)\",\n",
       "  \"get_balance = lambda balance : balance if balance >= 0 else 'negative'\\nget_balance(100)\",\n",
       "  \"balance = -500\\nif balance >= 0:\\n    result = balance\\nelse:\\n    result = 'negative'\\nresult\",\n",
       "  \"balance = -500  # balance : 전역변수\\nif balance >= 0:\\n    result = balance\\nelse:\\n    result = 'negative'\\nresult\",\n",
       "  \"result = balance if balance >= 0 else 'negative'\\n# 자바 3항연산자 : balance >= 0 ? balance : 'negative'\",\n",
       "  \"result = balance if balance >= 0 else 'negative'\\n# 자바 3항연산자 : balance >= 0 ? balance : 'negative'\",\n",
       "  \"balance if balance >= 0 else 'negative'\\n# 자바 3항연산자 : balance >= 0 ? balance : 'negative'\",\n",
       "  \"balance = -500\\nbalance if balance >= 0 else 'negative'\\n# 자바 3항연산자 : balance >= 0 ? balance : 'negative'\",\n",
       "  \"balance = 500\\nbalance if balance >= 0 else 'negative'\\n# 자바 3항연산자 : balance >= 0 ? balance : 'negative'\",\n",
       "  \"balance = -500\\nbalance if balance >= 0 else 'negative'\\n# 자바 3항연산자 : balance >= 0 ? balance : 'negative'\",\n",
       "  \"balance = -500\\nbalance if balance >= 0 else 'negative'\\n# balance >= 0 ? balance : 'negative' (자바 3항연산자)\",\n",
       "  '# 아래의 함수도 람다식으로 바꿀 수 있음\\nlst = [1, 2, 3]\\nlst.index(2)',\n",
       "  '# 아래의 함수도 람다식으로 바꿀 수 있음\\n# lst = [1, 2, 3]\\n# lst.index(2)  # 2의 위치를 반환. 없는 데이터는 에러.\\nv = (1, 2, 3)\\nv.index()',\n",
       "  '# 아래의 함수도 람다식으로 바꿀 수 있음\\n# lst = [1, 2, 3]\\n# lst.index(2)  # 2의 위치를 반환. 없는 데이터는 에러.\\nv = (1, 2, 3)\\nv.index(1)',\n",
       "  '# 아래의 함수도 람다식으로 바꿀 수 있음\\n# lst = [1, 2, 3]  리스트\\n# lst.index(2)  # 2의 위치를 반환. 없는 데이터는 에러.(safe_index를 사용)\\n# v = (1, 2, 3)  튜플\\n# v.index(2)  # 2의 위치를 반환. 없는 데이터는 에러.\\nv = (1, 2, 3)\\ndef safe_index(vector, item):\\n    if item in vector:\\n        return vector.index(item)\\n    else:\\n        return -1\\nsafe_index(v, 1)',\n",
       "  '# 아래의 함수도 람다식으로 바꿀 수 있음\\n# lst = [1, 2, 3]  리스트\\n# lst.index(2)  # 2의 위치를 반환. 없는 데이터는 에러.(safe_index를 사용)\\n# v = (1, 2, 3)  튜플\\n# v.index(2)  # 2의 위치를 반환. 없는 데이터는 에러.\\nv = (1, 2, 3)\\ndef safe_index(vector, item):\\n    if item in vector:\\n        return vector.index(item)\\n    else:\\n        return -1\\nsafe_index(v, 2)',\n",
       "  '# 아래의 함수도 람다식으로 바꿀 수 있음\\n# lst = [1, 2, 3]  리스트\\n# lst.index(2)  # 2의 위치를 반환. 없는 데이터는 에러.(safe_index를 사용)\\n# v = (1, 2, 3)  튜플\\n# v.index(2)  # 2의 위치를 반환. 없는 데이터는 에러.\\nv = (1, 2, 3)\\ndef safe_index(vector, item):\\n    if item in vector:\\n        return vector.index(item)\\n    else:\\n        return -1\\nsafe_index(v, 1), safe index(v, 4)',\n",
       "  '# 아래의 함수도 람다식으로 바꿀 수 있음\\n# lst = [1, 2, 3]  리스트\\n# lst.index(2)  # 2의 위치를 반환. 없는 데이터는 에러.(safe_index를 사용)\\n# v = (1, 2, 3)  튜플\\n# v.index(2)  # 2의 위치를 반환. 없는 데이터는 에러.\\nv = (1, 2, 3)\\ndef safe_index(vector, item):\\n    if item in vector:\\n        return vector.index(item)\\n    else:\\n        return -1\\nsafe_index(v, 1), safe_index(v, 4)',\n",
       "  'safe_index = lambda vector.index(item) : vector.index(item) if item in vector else -1',\n",
       "  'safe_index = lambda vector.index(item) : vector.index(item) if item in vector else -1\\nsafe_index(1)',\n",
       "  'safe_index = lambda vector, item : vector.index(item) if item in vector else -1',\n",
       "  'safe_index = lambda vector, item : vector.index(item) if item in vector else -1\\nsafe_index([1, 2, 3, 4], 1), safe_index((1, 2, 3), 5)',\n",
       "  'safe_index = lambda vector, item : vector.index(item) if item in vector else -1\\nsafe_index([1, 2, 3, 4], 1), safe_index((1, 2, 3), 5)\\n# 1의 index : 0               5의 index : -1(없음)',\n",
       "  \"# 매개변수로 들어온 값이 짝수면 '짝수'를, 홀수면 '홀수'를 return하는 lambda\\nnum = lambda input_num : '짝수' if input_num%2==0 else '홀수'\\nnum(5)\",\n",
       "  \"# 매개변수로 들어온 값이 짝수면 '짝수'를, 홀수면 '홀수'를 return하는 lambda\\nnum = lambda input_num : '짝수' if input_num%2==0 else '홀수'\\nnum(6)\",\n",
       "  \"# 매개변수로 들어온 값이 짝수면 '짝수'를, 홀수면 '홀수'를 return하는 lambda\\neven_odd_chk = lambda input_num : '짝수' if input_num%2==0 else '홀수'\\neven_odd_chk(6)\",\n",
       "  \"# 매개변수로 들어온 값이 짝수면 '짝수'를, 홀수면 '홀수'를 return하는 lambda\\neven_odd_chk = lambda num : '짝수' if num%2==0 else '홀수'\\neven_odd_chk(6)\",\n",
       "  \"# 매개변수로 들어온 값이 짝수면 '짝수'를, 홀수면 '홀수'를 return하는 lambda\\neven_odd_chk = lambda num : '짝수' if num%2==0 else '홀수'\\neven_odd_chk(0), even_odd_chk(1)\",\n",
       "  \"# 매개변수로 들어온 값이 짝수면 '짝수'를, 홀수면 '홀수'를 return하는 lambda\\neven_odd_chk = lambda num : '짝수' if num%2 == 0 else '홀수'\\neven_odd_chk(0), even_odd_chk(1)\",\n",
       "  \"# 매개변수로 들어온 값이 짝수면 '짝수'를, 홀수면 '홀수'를 return하는 lambda\\neven_odd_chk = lambda num : '짝수' if num%2 == 0 else '홀수'\\neven_odd_chk(0), even_odd_chk(-1)\",\n",
       "  \"# 매개변수로 들어온 값이 짝수면 '짝수'를, 홀수면 '홀수'를 return하는 lambda\\neven_odd_chk = lambda num : '짝수' if num%2 == 0 else '홀수'\\neven_odd_chk(2), even_odd_chk(-1)\",\n",
       "  \"# 매개변수로 들어온 값이 짝수면 '짝수'를, 홀수면 '홀수'를 return하는 lambda\\neven_odd_chk = lambda num : '짝수' if num%2 == 0 else '홀수'\\neven_odd_chk(2), even_odd_chk(-1)\",\n",
       "  \"def levelChk(score):\\n    if score >= 80:\\n        return 'A등급'\\n    elif socre >= 60:\\n        return 'B등급'\\n    else:\\n        return '재시험'\\nlevelChk(65)\",\n",
       "  \"def levelChk(score):\\n    if score >= 80:\\n        return 'A등급'\\n    elif socre >= 60:\\n        return 'B등급'\\n    else:\\n        return '재시험'\\nlevelChk(65)\",\n",
       "  \"def levelChk(score):\\n    if score >= 80:\\n        return 'A등급'\\n    elif score >= 60:\\n        return 'B등급'\\n    else:\\n        return '재시험'\\nlevelChk(65)\",\n",
       "  \"def levelChk(score):\\n    if score >= 80:\\n        return 'A등급'\\n    elif score >= 60:\\n        return 'B등급'\\n    else:\\n        return '재시험'\\nlevelChk(65), levelChk(-9)\",\n",
       "  \"levelChk = lambda score : 'A등급' if score >= 80 elif 'B등급' score >= 60 else '재시험'\",\n",
       "  \"levelChk = lambda score : 'A등급' if score >= 80 elif 'B등급' score >= 60 else '재시험'\",\n",
       "  \"levelChk = lambda score : 'A등급' if score >= 80 : 'B등급' if score >= 60 else '재시험'\",\n",
       "  \"levelChk = lambda score : 'A등급' if score >= 80 else('B등급' if score >= 60 else '재시험')\",\n",
       "  \"levelChk = lambda score : 'A등급' if score >= 80 else('B등급' if score >= 60 else '재시험')\\nlevelChk(65), levelChk(-9)\",\n",
       "  \"levelChk = lambda score : 'A등급' if score >= 80 else('B등급' if score >= 60 else '재시험')\\nlevelChk(90), levelChk(559)\",\n",
       "  \"levelChk = lambda score : 'A등급' if score >= 80 else('B등급' if score >= 60 else '재시험')\\nlevelChk(90), levelChk(55)\",\n",
       "  \"def score_grade(score):\\n    if 90 <= score <= 100:\\n        return 'A'\\n    elif 80 <= score < 90:\\n        return 'B'\\n    elif 70 <= score < 80:\\n        return 'C'\\n    elif 60 <= score < 70:\\n        return 'D'\\n    elif 0 <= score < 60:\\n        return 'F'\\n    else:\\n        return '유효하지 않은 점수 등급'\",\n",
       "  \"def score_grade(score):\\n    if 90 <= score <= 100:\\n        return 'A'\\n    elif 80 <= score < 90:\\n        return 'B'\\n    elif 70 <= score < 80:\\n        return 'C'\\n    elif 60 <= score < 70:\\n        return 'D'\\n    elif 0 <= score < 60:\\n        return 'F'\\n    else:\\n        return '유효하지 않은 점수 등급'\",\n",
       "  \"score_grade = lambda score : 'A' if 90 <= score <= 100 \\\\\\n                                    else 'B ' if 80 <= score < 90\\n                                    else 'C ' if 70 <= score < 80\\n                                    else 'B ' if 60 <= score < 70\\n                                    else 'B ' if 0 <= score < 60\\n                                    else '유효하지 않은 점수 등급'\",\n",
       "  \"score_grade = lambda score : 'A' if 90 <= score <= 100 \\\\\\n                                    else ()'B ' if 80 <= score < 90)\\n                                    else 'C ' if 70 <= score < 80\\n                                    else 'B ' if 60 <= score < 70\\n                                    else 'B ' if 0 <= score < 60\\n                                    else '유효하지 않은 점수 등급'\",\n",
       "  \"score_grade = lambda score : 'A' if 90 <= score <= 100 \\\\\\n                                    else ('B ' if 80 <= score < 90)\\n                                    else 'C ' if 70 <= score < 80\\n                                    else 'B ' if 60 <= score < 70\\n                                    else 'B ' if 0 <= score < 60\\n                                    else '유효하지 않은 점수 등급'\",\n",
       "  \"score_grade = lambda score : 'A' if 90 <= score <= 100 \\\\\\n                                    else 'B ' if 80 <= score < 90:\\n                                    else 'C ' if 70 <= score < 80:\\n                                    else 'B ' if 60 <= score < 70:\\n                                    else 'B ' if 0 <= score < 60:\\n                                    else '유효하지 않은 점수 등급'\",\n",
       "  \"score_grade = lambda score : 'A' if 90 <= score <= 100 \\\\\\n                                    else 'B ' if 80 <= score < 90 \\\\\\n                                    else 'C ' if 70 <= score < 80 \\\\\\n                                    else 'B ' if 60 <= score < 70 \\\\\\n                                    else 'B ' if 0 <= score < 60 \\\\\\n                                    else '유효하지 않은 점수 등급'\",\n",
       "  'score_grade(101)',\n",
       "  'score_grade(95)',\n",
       "  'score_grade(60)',\n",
       "  \"score_grade = lambda score : 'A' if 90 <= score <= 100 \\\\\\n                                    else 'B ' if 80 <= score < 90 \\\\\\n                                    else 'C ' if 70 <= score < 80 \\\\\\n                                    else 'D ' if 60 <= score < 70 \\\\\\n                                    else 'F ' if 0 <= score < 60 \\\\\\n                                    else '유효하지 않은 점수 등급'\",\n",
       "  'score_grade(60)',\n",
       "  'score_grade(101), score_grade(95), score_grade(85), score_grade(75), score_grade(65), score_grade(55)',\n",
       "  \"def score_grade(score):\\n    if 90 <= score <= 100:\\n        return 'A'\\n    elif 80 <= score < 90:\\n        return 'B'\\n    elif 70 <= score < 80:\\n        return 'C'\\n    elif 60 <= score < 70:\\n        return 'D'\\n    elif 0 <= score < 60:\\n        return 'F'\\n    else:\\n        return '유효하지 않은 점수 등급'\\nscore_grade(101), score_grade(95), score_grade(85), score_grade(75), score_grade(65), score_grade(55)\",\n",
       "  \"score_grade = lambda score : 'A' if 90 <= score <= 100 \\\\\\n                                    else 'B ' if 80 <= score < 90 \\\\\\n                                    else 'C ' if 70 <= score < 80 \\\\\\n                                    else 'D ' if 60 <= score < 70 \\\\\\n                                    else 'F ' if 0 <= score < 60 \\\\\\n                                    else '유효하지 않은 점수 등급'\",\n",
       "  \"score_grade = lambda score : 'A' if 90 <= score <= 100 \\\\\\n                                    else 'B ' if 80 <= score < 90 \\\\\\n                                    else 'C ' if 70 <= score < 80 \\\\\\n                                    else 'D ' if 60 <= score < 70 \\\\\\n                                    else 'F ' if 0 <= score < 60 \\\\\\n                                    else '유효하지 않은 점수 등급'\\nscore_grade(101), score_grade(95), score_grade(85), score_grade(75), score_grade(65), score_grade(55)\",\n",
       "  'add = lambda a, b : a+b\\nsub = lambda a, b : a-b\\nmul = lambda a, b : a*b\\ndiv = lambda a, b : a/b\\nadd(3, 0), div(3, 0)',\n",
       "  'add = lambda a, b : a+b\\nsub = lambda a, b : a-b\\nmul = lambda a, b : a*b\\ndiv = lambda a, b : a/b if b != 0\\nadd(3, 0), div(3, 0)',\n",
       "  \"add = lambda a, b : a+b\\nsub = lambda a, b : a-b\\nmul = lambda a, b : a*b\\ndiv = lambda a, b : a/b if b != 0 else '두 번째 인자가 0으로는 나눌 수 없습니다'\\nadd(3, 0), div(3, 0)\",\n",
       "  \"add = lambda a, b : a+b\\nsub = lambda a, b : a-b\\nmul = lambda a, b : a*b\\ndiv = lambda a, b : a/b if b != 0 else '두 번째 인자가 0으로는 나눌 수 없습니다'\\nadd(3, 0), div(3, 0)\\n\\ni = 10\\nj = 20\\nlst = [i, j]\\nlst\",\n",
       "  \"'''\\ni = 10\\nj = 20\\nlst = [i, j]\\nlst\\n가능\\n'''\\nadd = lambda a, b : a+b\\nsub = lambda a, b : a-b\\nmul = lambda a, b : a*b\\ndiv = lambda a, b : a/b if b != 0 else '두 번째 인자가 0으로는 나눌 수 없습니다'\\nadd(3, 0), div(3, 0)\\n\\n# operations : list안이 function인 변수\\noperations = [add, sub, mul, div]\\n\\n# 매개변수로 함수 list가 옴\\ndef act_operations(a, b, operations=operations):\\n    result = []\\n    for op in operations:\\n        result.append(op(a, b))\\n    return result\\n# def pow(a, b):\\n#     return a**b  # a의 b승\\noperations.append(lambda a, b : a**b)\\nprint(act_operations(10, 2))\",\n",
       "  '# 리스트 컴프리헨션\\nlst = [1, 2, 3]\\n[l for l in lst]',\n",
       "  '# 리스트 컴프리헨션\\nlst = [1, 2, 3]\\n[l*2 for l in lst]',\n",
       "  '# 리스트 컴프리헨션\\nlst = [1, 2, 3]\\nprint([l*2 for l in lst])',\n",
       "  '# 리스트 컴프리헨션\\nlst = [1, 2, 3]\\nprint([l**2 for l in lst])',\n",
       "  '# 리스트 컴프리헨션\\nlst = [1, 2, 3]\\nprint([l**2 for l in lst])\\nprint([l for l in lst if l%2 == 0])',\n",
       "  \"'''\\ni = 10\\nj = 20\\nlst = [i, j]\\nlst\\n가능\\n'''\\nadd = lambda a, b : a+b\\nsub = lambda a, b : a-b\\nmul = lambda a, b : a*b\\ndiv = lambda a, b : a/b if b != 0 else '두 번째 인자가 0으로는 나눌 수 없습니다'\\nadd(3, 0), div(3, 0)\\n\\n# operations : list안이 function인 변수\\noperations = [add, sub, mul, div]\\n\\n# 매개변수로 함수 list가 옴\\ndef act_operations(a, b, operations=operations):\\n    result = []\\n    for op in operations:\\n        result.append(op(a, b))\\n    return result\\noperations.append(lambda a, b : a**b)\\n# def pow(a, b):\\n#     return a**b  # a의 b승  위 람다식과 같음\\nprint(act_operations(10, 2))\",\n",
       "  '# 리스트 컴프리헨션\\nlst = [1, 2, 3]\\nprint([l**2 for l in lst])\\nprint([l for l in lst if l%2 == 0])',\n",
       "  '# actact_operations의 함수를 리스트 컴프리헨션을 이용하여 람다식으로 구현\\nprint([l.append(a, b) for l in operations])\\nact_operations = lambda a, b, operations=open',\n",
       "  '# actact_operations의 함수를 리스트 컴프리헨션을 이용하여 람다식으로 구현\\nprint([l.append(a, b) for l in operations])\\n# act_operations = lambda a, b, operations=open',\n",
       "  \"'''\\ni = 10\\nj = 20\\nlst = [i, j]\\nlst\\n가능\\n'''\\nadd = lambda a, b : a+b\\nsub = lambda a, b : a-b\\nmul = lambda a, b : a*b\\ndiv = lambda a, b : a/b if b != 0 else '두 번째 인자가 0으로는 나눌 수 없습니다'\\nadd(3, 0), div(3, 0)\\n\\n# operations : list안이 function인 변수\\noperations = [add, sub, mul, div]\\n\\n# 매개변수로 함수 list가 옴\\ndef act_operations(a, b, operations=operations):\\n    result = []\\n    for op in operations:\\n        result.append(op(a, b))\\n    return result\\noperations.append(lambda a, b : a**b)\\n# def pow(a, b):\\n#     return a**b  # a의 b승  위 람다식과 같음\\nprint(act_operations(10, 2))\\nprint(act_operations(10, 2, [lambda a, b : a**bm lambda a, b : a*10+b]))\",\n",
       "  \"'''\\ni = 10\\nj = 20\\nlst = [i, j]\\nlst\\n가능\\n'''\\nadd = lambda a, b : a+b\\nsub = lambda a, b : a-b\\nmul = lambda a, b : a*b\\ndiv = lambda a, b : a/b if b != 0 else '두 번째 인자가 0으로는 나눌 수 없습니다'\\nadd(3, 0), div(3, 0)\\n\\n# operations : list안이 function인 변수\\noperations = [add, sub, mul, div]\\n\\n# 매개변수로 함수 list가 옴\\ndef act_operations(a, b, operations=operations):\\n    result = []\\n    for op in operations:\\n        result.append(op(a, b))\\n    return result\\noperations.append(lambda a, b : a**b)\\n# def pow(a, b):\\n#     return a**b  # a의 b승  위 람다식과 같음\\nprint(act_operations(10, 2))\\nprint(act_operations(10, 2, [lambda a, b : a**b, lambda a, b : a*10+b]))\",\n",
       "  '# actact_operations의 함수를 리스트 컴프리헨션을 이용하여 람다식으로 구현\\nprint([a, b, operations=operations for 10, 20 in operations])\\n# act_operations = lambda a, b, operations=operations : ',\n",
       "  '# actact_operations의 함수를 리스트 컴프리헨션을 이용하여 람다식으로 구현\\nprint([a, b, operations=:operations for 10, 20 in operations])\\n# act_operations = lambda a, b, operations=operations : ',\n",
       "  '# actact_operations의 함수를 리스트 컴프리헨션을 이용하여 람다식으로 구현\\nprint([a, b, operations:=operations for 10, 20 in operations])\\n# act_operations = lambda a, b, operations=operations : ',\n",
       "  '# actact_operations의 함수를 리스트 컴프리헨션을 이용하여 람다식으로 구현\\nprint([a, b, operations==operations for 10, 20 in operations])\\n# act_operations = lambda a, b, operations=operations : ',\n",
       "  '# actact_operations의 함수를 리스트 컴프리헨션을 이용하여 람다식으로 구현\\nprint([a, b, operations==operations for a, b, operations==operations in operations])\\n# act_operations = lambda a, b, operations=operations : ',\n",
       "  '# actact_operations의 함수를 리스트 컴프리헨션을 이용하여 람다식으로 구현\\nprint([a, b, op for op in operations])\\n# act_operations = lambda a, b, operations=operations : ',\n",
       "  '# actact_operations의 함수를 리스트 컴프리헨션을 이용하여 람다식으로 구현\\nprint([(a, b, op) for op in operations])\\n# act_operations = lambda a, b, operations=operations : ',\n",
       "  '# actact_operations의 함수를 리스트 컴프리헨션을 이용하여 람다식으로 구현\\nprint([a, b, operations=operations for op in operations])\\n# act_operations = lambda a, b, operations=operations : ',\n",
       "  '# actact_operations의 함수를 리스트 컴프리헨션을 이용하여 람다식으로 구현\\nprint([a, b, operations==operations for op in operations])\\n# act_operations = lambda a, b, operations=operations : ',\n",
       "  '# actact_operations의 함수를 리스트 컴프리헨션을 이용하여 람다식으로 구현\\noperations = [add, sub, mul, div]\\ndef act_operations(a, b, operations=operations):\\n    return [op(a, b) for op in operations]\\nact_operations = lambda a, b, operations=operations : [op(a, b) for op in operations]\\nact_operations(5, 2, [lambda a, b : a+b, lambda a, b : a**b])',\n",
       "  '# actact_operations의 함수를 리스트 컴프리헨션을 이용하여 람다식으로 구현\\noperations = [add, sub, mul, div]\\ndef act_operations(a, b, operations=operations):\\n    return [op(a, b) for op in operations]\\nact_operations = lambda a, b, operations=operations : [op(a, b) for op in operations]\\nprint(act_operations(5, 2, [lambda a, b : a+b, lambda a, b : a**b]))\\nprint(act_operations(5, 2))',\n",
       "  '# actact_operations의 함수를 리스트 컴프리헨션을 이용하여 람다식으로 구현\\noperations = [add, sub, mul, div]\\ndef act_operations(a, b, operations=operations):\\n    return [op(a, b) for op in operations]\\nact_operations = lambda a, b, operations=operations : [op(a, b) for op in operations]\\nprint(act_operations(5, 2, [lambda a, b : a+b, lambda a, b : a**b]))\\nact_operations.append(lambda a, b : a**b)\\nprint(act_operations(5, 2))',\n",
       "  '# actact_operations의 함수를 리스트 컴프리헨션을 이용하여 람다식으로 구현\\noperations = [add, sub, mul, div]\\ndef act_operations(a, b, operations=operations):\\n    return [op(a, b) for op in operations]\\nact_operations = lambda a, b, operations=operations : [op(a, b) for op in operations]\\nprint(act_operations(5, 2, [lambda a, b : a+b, lambda a, b : a**b]))\\noperations.append(lambda a, b : a**b)\\nprint(act_operations(5, 2))',\n",
       "  '# actact_operations의 함수를 리스트 컴프리헨션을 이용하여 람다식으로 구현\\noperations = [add, sub, mul, div]\\ndef act_operations(a, b, operations=operations):\\n    return [op(a, b) for op in operations]\\nact_operations = lambda a, b, operations=operations : [op(a, b) for op in operations]\\n\\nprint(act_operations(5, 2, [lambda a, b : a+b, lambda a, b : a**b]))\\n\\noperations.append(lambda a, b : a**b)\\nprint(act_operations(5, 2))',\n",
       "  '## 4.2 함수의 매개변수',\n",
       "  'def map_template(func, L=[]):\\n    result = []\\n    for item in L:\\n        result.append(func(item))\\n    return result',\n",
       "  'def map_template(func, L=[]):\\n    result = []\\n    for item in L:  # 매개변수로 받은 L의 item을 순차적으로\\n        result.append(func(item))  # func을 적용해서 result에 append\\n    return result',\n",
       "  'list_data = [1, 2, 3, 4, 5, 6, 7, 8]\\ndef x_2(x):\\n    return x*2\\nmap_template(x_2, list_data)',\n",
       "  'list_data = [1, 2, 3, 4, 5, 6, 7, 8]\\n# def x_2(x):\\n#     return x*2\\n# map_template(x_2, list_data)\\nmap_template(lambda x : x*2, list_data)',\n",
       "  '# 리스크 컴프리헨션\\n[l*2 for l in list_data]',\n",
       "  '# 리스크 컴프리헨션\\n[x*2 for x in list_data]',\n",
       "  'map(lambda x : x*2, list_data)',\n",
       "  'list(map(lambda x : x*2, list_data))',\n",
       "  'print(map(lambda x : x*2, list_data))\\nprint(list(map(lambda x : x*2, list_data)))',\n",
       "  'enumerate(list_data)',\n",
       "  'list(enumerate(list_data))',\n",
       "  \"for x in map(lambds x : x*2, list_data):\\n    pritn(x, end=' ')\",\n",
       "  \"for x in map(lambda x : x*2, list_data):\\n    print(x, end=' ')\",\n",
       "  'print(list(enumerate(list_data))',\n",
       "  'print(list(enumerate(list_data)))',\n",
       "  'print(enumerate(list_data))\\nprint(list(enumerate(list_data)))',\n",
       "  '# map : 내부적으로 list처럼 저장되어 있는 vector 타입(for문에 사용가능)\\nprint(map(lambda x : x*2, list_data))  \\nprint(list(map(lambda x : x*2, list_data)))',\n",
       "  'def filter_template(func, L=[]):\\n    result = []\\n    for item in L:\\n        if func(item):\\n            result.append(item)\\n    return result',\n",
       "  'def evenChk(value):\\n    return value%2 == 0\\n#     if value%2 == 0:\\n#         return True\\n#     else:\\n#         return False\\nlist_data = [1, 2, 3, 4, 5, 6, 7, 8]\\n# filter_template(evenChk, list_data)\\nfilter_template(lambda x : x%2 == 0, L=list_data)',\n",
       "  'def evenChk(value):\\n    return value%2 == 0\\n#     if value%2 == 0:\\n#         return True\\n#     else:\\n#         return False\\nlist_data = [1, 2, 3, 4, 5, 6, 7, 8]\\n# filter_template(evenChk, list_data)\\nfilter_template(lambda x : x%2 == 0, L=list_data)',\n",
       "  'filter(lambda x : x%2 == 0, list_data)',\n",
       "  'print(filter(lambda x : x%2 == 0, list_data))\\nprint(list(filter(lambda x : x%2 == 0, list_data)))',\n",
       "  \"print(filter(lambda x : x%2 == 0, list_data))\\nprint(list(filter(lambda x : x%2 == 0, list_data)))\\nfor data in filter(lambda x : x%2 == 0, list_data):\\nprint(item, end=' ')\",\n",
       "  \"print(filter(lambda x : x%2 == 0, list_data))\\nprint(list(filter(lambda x : x%2 == 0, list_data)))\\nfor data in filter(lambda x : x%2 == 0, list_data):\\n    print(item, end=' ')\",\n",
       "  \"print(filter(lambda x : x%2 == 0, list_data))\\nprint(list(filter(lambda x : x%2 == 0, list_data)))\\nfor item in filter(lambda x : x%2 == 0, list_data):\\n    print(item, end=' ')\",\n",
       "  \"print(filter(lambda x : x%2 == 0, list_data))\\nprint(list(filter(lambda x : x%2 == 0, list_data)))\\n# filter 함수 이용\\nfor item in filter(lambda x : x%2 == 0, list_data):\\n    print(item, end=' ')\",\n",
       "  '# 리스트 컴프리헨션 이용\\n[x for x in list_data]',\n",
       "  '# 리스트 컴프리헨션 이용\\n[x for x in list_data]\\n[x%2 == 0 x in list_data]',\n",
       "  '# 리스트 컴프리헨션 이용\\n[x for x in list_data]\\n[x%2 == 0 for x in list_data]',\n",
       "  '# 리스트 컴프리헨션 이용\\n[x for x in list_data]\\n[x for x in list_data if x%2 == 0]',\n",
       "  '# 리스트 컴프리헨션 이용\\nprint([x for x in list_data])\\n[x for x in list_data if x%2 == 0]',\n",
       "  '# 리스트 컴프리헨션 이용\\nprint([x for x in list_data])\\n[x for x in list_data if x%2 == 0]',\n",
       "  '# quiz : 다음 리스트에서 소수점이하가 0인 수만 추출하시오\\n# 1. filter함수, 람다식 이용 / 2. filter_template 이용 / 3. 리스트 컴프리헨션 이용\\nL = [1, 1.2, 1.5, 2, 3.0, 10.5, 100]\\n\\n\\n# 결과 [1, 2, 3.0, 100]',\n",
       "  'def filter_template(func, L=[]):\\n    result = []\\n    for item in L:\\n        if func(item):\\n            result.append(item)\\n    return result',\n",
       "  'filter_template(lambda x, x%2==0, [1,2,3])',\n",
       "  \"# quiz : 다음 리스트에서 소수점이하가 0인 수만 추출하시오\\n# 1. filter함수, 람다식 이용 / 2. filter_template 이용 / 3. 리스트 컴프리헨션 이용\\nL = [1, 1.2, 1.5, 2, 3.0, 10.5, 100]\\n\\n# 1.\\nfor item in filter(lambda x : x.2f, L)\\n    print(item, end=' ')\\n\\n# 결과 [1, 2, 3.0, 100]\",\n",
       "  \"# quiz : 다음 리스트에서 소수점이하가 0인 수만 추출하시오\\n# 1. filter함수, 람다식 이용 / 2. filter_template 이용 / 3. 리스트 컴프리헨션 이용\\nL = [1, 1.2, 1.5, 2, 3.0, 10.5, 100]\\n\\n# 1.\\nfor item in filter(lambda x : x.2f, L)\\n    print('{:.2f}', item.format(x), end=' ')\\n\\n# 결과 [1, 2, 3.0, 100]\",\n",
       "  \"# quiz : 다음 리스트에서 소수점이하가 0인 수만 추출하시오\\n# 1. filter함수, 람다식 이용 / 2. filter_template 이용 / 3. 리스트 컴프리헨션 이용\\nL = [1, 1.2, 1.5, 2, 3.0, 10.5, 100]\\n\\n# 1.\\nfor item in filter(lambda x : x, L)\\n    print('{:.2f}', item.format(x), end=' ')\\n\\n# 결과 [1, 2, 3.0, 100]\",\n",
       "  \"# quiz : 다음 리스트에서 소수점이하가 0인 수만 추출하시오\\n# 1. filter함수, 람다식 이용 / 2. filter_template 이용 / 3. 리스트 컴프리헨션 이용\\nL = [1, 1.2, 1.5, 2, 3.0, 10.5, 100]\\n\\n# 1.\\nfor item in filter(lambda x : x, L):\\n    print('{:.2f}', item.format(x), end=' ')\\n\\n# 결과 [1, 2, 3.0, 100]\",\n",
       "  \"# quiz : 다음 리스트에서 소수점이하가 0인 수만 추출하시오\\n# 1. filter함수, 람다식 이용 / 2. filter_template 이용 / 3. 리스트 컴프리헨션 이용\\nL = [1, 1.2, 1.5, 2, 3.0, 10.5, 100]\\n\\n# 1.\\nfor item in filter(lambda x : x, L):\\n    print('{:.2f}', x.format(x), end=' ')\\n\\n# 결과 [1, 2, 3.0, 100]\",\n",
       "  \"# quiz : 다음 리스트에서 소수점이하가 0인 수만 추출하시오\\n# 1. filter함수, 람다식 이용 / 2. filter_template 이용 / 3. 리스트 컴프리헨션 이용\\nL = [1, 1.2, 1.5, 2, 3.0, 10.5, 100]\\n\\n# 1.\\nfor item in filter(lambda x : x, L):\\n    print('{:.2f}', x.format(item), end=' ')\\n\\n# 결과 [1, 2, 3.0, 100]\",\n",
       "  \"# quiz : 다음 리스트에서 소수점이하가 0인 수만 추출하시오\\n# 1. filter함수, 람다식 이용 / 2. filter_template 이용 / 3. 리스트 컴프리헨션 이용\\nL = [1, 1.2, 1.5, 2, 3.0, 10.5, 100]\\n\\n# 1.\\nfor item in filter(lambda x : x.2f, L):\\n    print(item, end=' ')\\n\\n# 결과 [1, 2, 3.0, 100]\",\n",
       "  \"# quiz : 다음 리스트에서 소수점이하가 0인 수만 추출하시오\\n# 1. filter함수, 람다식 이용 / 2. filter_template 이용 / 3. 리스트 컴프리헨션 이용\\nL = [1, 1.2, 1.5, 2, 3.0, 10.5, 100]\\n\\n# 1.\\nfor item in filter(lambda x : x.is_integer(), L):\\n    print(item, end=' ')\\n\\n# 결과 [1, 2, 3.0, 100]\",\n",
       "  \"# quiz : 다음 리스트에서 소수점이하가 0인 수만 추출하시오\\n# 1. filter함수, 람다식 이용 / 2. filter_template 이용 / 3. 리스트 컴프리헨션 이용\\nL = [1, 1.2, 1.5, 2, 3.0, 10.5, 100]\\n\\n# 1.\\nfor item in filter(lambda x : x.is_integer(), L):\\n    print(item, end=' ')\\n\\n# 결과 [1, 2, 3.0, 100]\",\n",
       "  \"# quiz : 다음 리스트에서 소수점이하가 0인 수만 추출하시오\\n# 1. filter함수, 람다식 이용 / 2. filter_template 이용 / 3. 리스트 컴프리헨션 이용\\nL = [1, 1.2, 1.5, 2, 3.0, 10.5, 100]\\n\\n# 1.\\nfor item in filter(lambda x : x.int(), L):\\n    print(item, end=' ')\\n\\n# 결과 [1, 2, 3.0, 100]\",\n",
       "  \"# quiz : 다음 리스트에서 소수점이하가 0인 수만 추출하시오\\n# 1. filter함수, 람다식 이용 / 2. filter_template 이용 / 3. 리스트 컴프리헨션 이용\\nL = [1, 1.2, 1.5, 2, 3.0, 10.5, 100]\\n\\n# 1.\\nfor item in filter(lambda x : x.is_int(), L):\\n    print(item, end=' ')\\n\\n# 결과 [1, 2, 3.0, 100]\",\n",
       "  \"# quiz : 다음 리스트에서 소수점이하가 0인 수만 추출하시오\\n# 1. filter함수, 람다식 이용 / 2. filter_template 이용 / 3. 리스트 컴프리헨션 이용\\nL = [1, 1.2, 1.5, 2, 3.0, 10.5, 100]\\n\\n# 1.\\nprint(list(filter(lambda x : x.int(), L)))\\nfor item in filter(lambda x : x.(), L):\\n    print(item, end=' ')\\n\\n# 결과 [1, 2, 3.0, 100]\",\n",
       "  \"# quiz : 다음 리스트에서 소수점이하가 0인 수만 추출하시오\\n# 1. filter함수, 람다식 이용 / 2. filter_template 이용 / 3. 리스트 컴프리헨션 이용\\nL = [1, 1.2, 1.5, 2, 3.0, 10.5, 100]\\n\\n# 1.\\nprint(list(filter(lambda x : x.int(), L)))\\nfor item in filter(lambda x : x.int(), L):\\n    print(item, end=' ')\\n\\n# 결과 [1, 2, 3.0, 100]\",\n",
       "  \"# quiz : 다음 리스트에서 소수점이하가 0인 수만 추출하시오\\n# 1. filter함수, 람다식 이용 / 2. filter_template 이용 / 3. 리스트 컴프리헨션 이용\\nL = [1, 1.2, 1.5, 2, 3.0, 10.5, 100]\\n\\n# 1.\\nprint(list(filter(lambda x : x.integer(), L)))\\nfor item in filter(lambda x : x.int(), L):\\n    print(item, end=' ')\\n\\n# 결과 [1, 2, 3.0, 100]\",\n",
       "  \"# quiz : 다음 리스트에서 소수점이하가 0인 수만 추출하시오\\n# 1. filter함수, 람다식 이용 / 2. filter_template 이용 / 3. 리스트 컴프리헨션 이용\\nL = [1, 1.2, 1.5, 2, 3.0, 10.5, 100]\\n\\n# 1.\\nprint(list(filter(lambda x : x.is_integer(), L)))\\nfor item in filter(lambda x : x.int(), L):\\n    print(item, end=' ')\\n\\n# 결과 [1, 2, 3.0, 100]\",\n",
       "  \"# quiz : 다음 리스트에서 소수점이하가 0인 수만 추출하시오\\n# 1. filter함수, 람다식 이용 / 2. filter_template 이용 / 3. 리스트 컴프리헨션 이용\\nL = [1, 1.2, 1.5, 2, 3.0, 10.5, 100]\\n\\n# 1.\\nprint(list(filter(lambda x : x.int(), L)))\\nfor item in filter(lambda x : x.int(), L):\\n    print(item, end=' ')\\n\\n# 결과 [1, 2, 3.0, 100]\",\n",
       "  \"# quiz : 다음 리스트에서 소수점이하가 0인 수만 추출하시오\\n# 1. filter함수, 람다식 이용 / 2. filter_template 이용 / 3. 리스트 컴프리헨션 이용\\nL = [1, 1.2, 1.5, 2, 3.0, 10.5, 100]\\n\\n# 1.\\nprint(list(filter(lambda x : int(x), L)))\\nfor item in filter(lambda x : x.int(), L):\\n    print(item, end=' ')\\n\\n# 결과 [1, 2, 3.0, 100]\",\n",
       "  \"# quiz : 다음 리스트에서 소수점이하가 0인 수만 추출하시오\\n# 1. filter함수, 람다식 이용 / 2. filter_template 이용 / 3. 리스트 컴프리헨션 이용\\nL = [1, 1.2, 1.5, 2, 3.0, 10.5, 100]\\n\\n# 1.\\nprint(list(filter(lambda x : int(x), L)))\\nfor item in filter(lambda x : int(x), L):\\n    print(item, end=' ')\\n\\n# 결과 [1, 2, 3.0, 100]\",\n",
       "  \"# quiz : 다음 리스트에서 소수점이하가 0인 수만 추출하시오\\n# 1. filter함수, 람다식 이용 / 2. filter_template 이용 / 3. 리스트 컴프리헨션 이용\\nL = [1, 1.2, 1.5, 2, 3.0, 10.5, 100]\\n\\n# 1.\\nprint(list(filter(lambda x : int(x), L)))\\n\\n# for item in filter(lambda x : int(x), L):\\n#     print(item, end=' ')\\n\\n# 결과 [1, 2, 3.0, 100]\",\n",
       "  \"# quiz : 다음 리스트에서 소수점이하가 0인 수만 추출하시오\\n# 1. filter함수, 람다식 이용 / 2. filter_template 이용 / 3. 리스트 컴프리헨션 이용\\nL = [1, 1.2, 1.5, 2, 3.0, 10.5, 100]\\n\\n# 1.\\nprint(list(filter(lambda x : int(x, ), L)))\\n\\n# for item in filter(lambda x : int(x), L):\\n#     print(item, end=' ')\\n\\n# 결과 [1, 2, 3.0, 100]\",\n",
       "  \"# quiz : 다음 리스트에서 소수점이하가 0인 수만 추출하시오\\n# 1. filter함수, 람다식 이용 / 2. filter_template 이용 / 3. 리스트 컴프리헨션 이용\\nL = [1, 1.2, 1.5, 2, 3.0, 10.5, 100]\\n\\n# 1.\\nprint(list(filter(lambda x : int(x), L)))\\n\\n# for item in filter(lambda x : int(x), L):\\n#     print(item, end=' ')\\n\\n# 결과 [1, 2, 3.0, 100]\",\n",
       "  \"# quiz : 다음 리스트에서 소수점이하가 0인 수만 추출하시오\\n# 1. filter함수, 람다식 이용 / 2. filter_template 이용 / 3. 리스트 컴프리헨션 이용\\nL = [1, 1.2, 1.5, 2, 3.0, 10.5, 100]\\n\\n# 1.\\nprint(list(filter(lambda x : int(x), L)))\\n\\nfor item in filter(lambda x : int(x), L):\\n    print(item, end=' ')\\n\\n# 결과 [1, 2, 3.0, 100]\",\n",
       "  \"# quiz : 다음 리스트에서 소수점이하가 0인 수만 추출하시오\\n# 1. filter함수, 람다식 이용 / 2. filter_template 이용 / 3. 리스트 컴프리헨션 이용\\nL = [1, 1.2, 1.5, 2, 3.0, 10.5, 100]\\n\\n# 1.\\nprint(list(filter(lambda x : int(x, .f), L)))\\n\\nfor item in filter(lambda x : int(x), L):\\n    print(item, end=' ')\\n\\n# 결과 [1, 2, 3.0, 100]\",\n",
       "  \"# quiz : 다음 리스트에서 소수점이하가 0인 수만 추출하시오\\n# 1. filter함수, 람다식 이용 / 2. filter_template 이용 / 3. 리스트 컴프리헨션 이용\\nL = [1, 1.2, 1.5, 2, 3.0, 10.5, 100]\\n\\n# 1.\\nprint(list(filter(lambda x : int(x, f), L)))\\n\\nfor item in filter(lambda x : int(x), L):\\n    print(item, end=' ')\\n\\n# 결과 [1, 2, 3.0, 100]\",\n",
       "  \"# quiz : 다음 리스트에서 소수점이하가 0인 수만 추출하시오\\n# 1. filter함수, 람다식 이용 / 2. filter_template 이용 / 3. 리스트 컴프리헨션 이용\\nL = [1, 1.2, 1.5, 2, 3.0, 10.5, 100]\\n\\n# 1.\\nprint(list(filter(lambda x : int(x), L)))\\n\\nfor item in filter(lambda x : int(x), L):\\n    print(item, end=' ')\\n\\n# 2.\\nfilter_template(lambda x : x%2 == 0, L=list_data)\\n    \\n# 결과 [1, 2, 3.0, 100]\",\n",
       "  \"# quiz : 다음 리스트에서 소수점이하가 0인 수만 추출하시오\\n# 1. filter함수, 람다식 이용 / 2. filter_template 이용 / 3. 리스트 컴프리헨션 이용\\nL = [1, 1.2, 1.5, 2, 3.0, 10.5, 100]\\n\\n# 1.\\nprint(list(filter(lambda x : int(x), L)))\\n\\nfor item in filter(lambda x : int(x), L):\\n    print(item, end=' ')\\n\\n# 2.\\nfilter_template(lambda x : x%2 == 0, L)\\n    \\n# 결과 [1, 2, 3.0, 100]\",\n",
       "  \"# quiz : 다음 리스트에서 소수점이하가 0인 수만 추출하시오\\n# 1. filter함수, 람다식 이용 / 2. filter_template 이용 / 3. 리스트 컴프리헨션 이용\\nL = [1, 1.2, 1.5, 2, 3.0, 10.5, 100]\\n\\n# 1.\\nprint(list(filter(lambda x : int(x), L)))\\n\\nfor item in filter(lambda x : int(x), L):\\n    print(item, end=' ')\\n\\n# 2.\\nfilter_template(lambda x : int(x), L)\\n    \\n# 결과 [1, 2, 3.0, 100]\",\n",
       "  \"# quiz : 다음 리스트에서 소수점이하가 0인 수만 추출하시오\\n# 1. filter함수, 람다식 이용 / 2. filter_template 이용 / 3. 리스트 컴프리헨션 이용\\nL = [1, 1.2, 1.5, 2, 3.0, 10.5, 100]\\n\\n# 1.\\nprint(list(filter(lambda x: int(x), L)))\\n\\nfor item in filter(lambda x: x/1.0, L):\\n    print(item, end=' ')\\n\\n# 2.\\nfilter_template(lambda x: int(x), L)\\n\\n# 결과 [1, 2, 3.0, 100]\",\n",
       "  \"# quiz : 다음 리스트에서 소수점이하가 0인 수만 추출하시오\\n# 1. filter함수, 람다식 이용 / 2. filter_template 이용 / 3. 리스트 컴프리헨션 이용\\nL = [1, 1.2, 1.5, 2, 3.0, 10.5, 100]\\n\\n# 1.\\nprint(list(filter(lambda x: x/1.0, L)))\\n\\nfor item in filter(lambda x: x/1.0, L):\\n    print(item, end=' ')\\n\\n# 2.\\nfilter_template(lambda x: int(x), L)\\n\\n# 결과 [1, 2, 3.0, 100]\",\n",
       "  \"# quiz : 다음 리스트에서 소수점이하가 0인 수만 추출하시오\\n# 1. filter함수, 람다식 이용 / 2. filter_template 이용 / 3. 리스트 컴프리헨션 이용\\nL = [1, 1.2, 1.5, 2, 3.0, 10.5, 100]\\n\\n# 1.\\nprint(list(filter(lambda x: x%1.0, L)))\\n\\nfor item in filter(lambda x: x%1.0, L):\\n    print(item, end=' ')\\n\\n# 2.\\nfilter_template(lambda x: x%1.0, L)\\n\\n# 3.\\n[x for x in L if x%1.0]\\n\\n# 결과 [1, 2, 3.0, 100]\",\n",
       "  \"# quiz : 다음 리스트에서 소수점이하가 0인 수만 추출하시오\\n# 1. filter함수, 람다식 이용 / 2. filter_template 이용 / 3. 리스트 컴프리헨션 이용\\nL = [1, 1.2, 1.5, 2, 3.0, 10.5, 100]\\n\\n# 1.\\nprint(list(filter(lambda x : x%1.0, L)))\\n\\nfor item in filter(lambda x : x%1.0, L):\\n    print(item, end=' ')\\n\\n# 2.\\nfilter_template(lambda x: x%1.0, L)\\n\\n# 3.\\n[x for x in L if x%1.0]\\n\\n# 결과 [1, 2, 3.0, 100]\",\n",
       "  \"# quiz : 다음 리스트에서 소수점이하가 0인 수만 추출하시오\\n# 1. filter함수, 람다식 이용 / 2. filter_template 이용 / 3. 리스트 컴프리헨션 이용\\nL = [1, 1.2, 1.5, 2, 3.0, 10.5, 100]\\n\\n# 1.\\nprint(list(filter(lambda x : x%1.0, L)))\\n\\nfor item in filter(lambda x : x%1.0, L):\\n    print(item, end=' ')\\n\\n# 2.\\nfilter_template(lambda x : x%1.0, L)\\n\\n# 3.\\n[x for x in L if x%1.0]\\n\\n# 결과 [1, 2, 3.0, 100]\",\n",
       "  \"# quiz : 다음 리스트에서 소수점이하가 0인 수만 추출하시오\\n# 1. filter함수, 람다식 이용 / 2. filter_template 이용 / 3. 리스트 컴프리헨션 이용\\nL = [1, 1.2, 1.5, 2, 3.0, 10.5, 100]\\n\\n# 1.\\nprint(filter(lambda x : x%1.0, L))\\n\\nfor item in filter(lambda x : x%1.0, L):\\n    print(item, end=' ')\\n\\n# 2.\\nfilter_template(lambda x : x%1.0, L)\\n\\n# 3.\\n[x for x in L if x%1.0]\\n\\n# 결과 [1, 2, 3.0, 100]\",\n",
       "  \"# quiz : 다음 리스트에서 소수점이하가 0인 수만 추출하시오\\n# 1. filter함수, 람다식 이용 / 2. filter_template 이용 / 3. 리스트 컴프리헨션 이용\\nL = [1, 1.2, 1.5, 2, 3.0, 10.5, 100]\\n\\n# 1.\\nprint(list(filter(lambda x : x%1.0, L)))\\n\\nfor item in filter(lambda x : x%1.0, L):\\n    print(item, end=' ')\\n\\n# 2.\\nfilter_template(lambda x : x%1.0, L)\\n\\n# 3.\\n[x for x in L if x%1.0]\\n\\n# 결과 [1, 2, 3.0, 100]\",\n",
       "  \"# quiz : 다음 리스트에서 소수점이하가 0인 수만 추출하시오\\n# 1. filter함수, 람다식 이용 / 2. filter_template 이용 / 3. 리스트 컴프리헨션 이용\\nL = [1, 1.2, 1.5, 2, 3.0, 10.5, 100]\\n\\n# 1.\\nprint(list(filter(lambda x: x%1.0, L)))\\n\\nfor item in filter(lambda x: x % 1.0, L):\\n    print(item, end=' ')\\n\\n# 2.\\nfilter_template(lambda x: x % 1.0, L)\\n\\n# 3.\\n[x for x in L if x % 1.0]\\n\\n# 결과 [1, 2, 3.0, 100]\",\n",
       "  \"# quiz : 다음 리스트에서 소수점이하가 0인 수만 추출하시오\\n# 1. filter함수, 람다식 이용 / 2. filter_template 이용 / 3. 리스트 컴프리헨션 이용\\nL = [1, 1.2, 1.5, 2, 3.0, 10.5, 100]\\n\\nx = 2.0\\n\\n# 1.\\nprint(list(filter(lambda x: x%1.0, L)))\\n\\nfor item in filter(lambda x: x % 1.0, L):\\n    print(item, end=' ')\\n\\n# 2.\\nfilter_template(lambda x: x % 1.0, L)\\n\\n# 3.\\n[x for x in L if x % 1.0]\\n\\n# 결과 [1, 2, 3.0, 100]\",\n",
       "  \"# quiz : 다음 리스트에서 소수점이하가 0인 수만 추출하시오\\n# 1. filter함수, 람다식 이용 / 2. filter_template 이용 / 3. 리스트 컴프리헨션 이용\\nL = [1, 1.2, 1.5, 2, 3.0, 10.5, 100]\\n\\n# 정수인지 확인\\nx = 2.0\\nprint(x.is_integer())\\n\\n\\n# 1.\\nprint(list(filter(lambda x: x%1.0, L)))\\n\\nfor item in filter(lambda x: x % 1.0, L):\\n    print(item, end=' ')\\n\\n# 2.\\nfilter_template(lambda x: x % 1.0, L)\\n\\n# 3.\\n[x for x in L if x % 1.0]\\n\\n# 결과 [1, 2, 3.0, 100]\",\n",
       "  \"# quiz : 다음 리스트에서 소수점이하가 0인 수만 추출하시오\\n# 1. filter함수, 람다식 이용 / 2. filter_template 이용 / 3. 리스트 컴프리헨션 이용\\nL = [1, 1.2, 1.5, 2, 3.0, 10.5, 100]\\n\\n# 정수인지 확인 (x가 실제 정수이면 에러)\\n# x = 2.0\\n# print(x.is_integer())\\n\\n\\n# 1.\\nprint(list(filter(lambda x: x%1.0, L)))\\n\\nfor item in filter(lambda x: x % 1.0, L):\\n    print(item, end=' ')\\n\\n# 2.\\nfilter_template(lambda x: x % 1.0, L)\\n\\n# 3.\\n[x for x in L if x % 1.0]\\n\\n# 결과 [1, 2, 3.0, 100]\",\n",
       "  \"# quiz : 다음 리스트에서 소수점이하가 0인 수만 추출하시오\\n# 1. filter함수, 람다식 이용 / 2. filter_template 이용 / 3. 리스트 컴프리헨션 이용\\nL = [1, 1.2, 1.5, 2, 3.0, 10.5, 100]\\n\\n# 정수인지 확인 (x가 실제 정수이면 에러)\\n# x = 2.0\\n# print(x.is_integer())\\n\\n# 1.\\nprint(list(filter(lambda x: x//1.0, L)))\\n\\nfor item in filter(lambda x: x % 1.0, L):\\n    print(item, end=' ')\\n\\n# 2.\\nfilter_template(lambda x: x % 1.0, L)\\n\\n# 3.\\n[x for x in L if x % 1.0]\\n\\n# 결과 [1, 2, 3.0, 100]\",\n",
       "  \"# quiz : 다음 리스트에서 소수점이하가 0인 수만 추출하시오\\n# 1. filter함수, 람다식 이용 / 2. filter_template 이용 / 3. 리스트 컴프리헨션 이용\\nL = [1, 1.2, 1.5, 2, 3.0, 10.5, 100]\\n\\n# 정수인지 확인 (x가 실제 정수이면 에러)\\n# x = 2.0\\n# print(x.is_integer())\\n\\n# 1.\\nprint(list(filter(lambda x: x%1.0, L)))\\n\\nfor item in filter(lambda x: x % 1.0, L):\\n    print(item, end=' ')\\n\\n# 2.\\nfilter_template(lambda x: x % 1.0, L)\\n\\n# 3.\\n[x for x in L if x % 1.0]\\n\\n# 결과 [1, 2, 3.0, 100]\",\n",
       "  \"# quiz : 다음 리스트에서 소수점이하가 0인 수만 추출하시오\\n# 1. filter함수, 람다식 이용 / 2. filter_template 이용 / 3. 리스트 컴프리헨션 이용\\nL = [1, 1.2, 1.5, 2, 3.0, 10.5, 100]\\n\\n# 정수인지 확인 (x가 실제 정수이면 에러)\\n# x = 2.0\\n# print(x.is_integer())\\n\\n# 1.\\nprint(list(filter(lambda x: x%1.0 == 0, L)))\\n\\nfor item in filter(lambda x: x % 1.0, L):\\n    print(item, end=' ')\\n\\n# 2.\\nfilter_template(lambda x: x % 1.0, L)\\n\\n# 3.\\n[x for x in L if x % 1.0]\\n\\n# 결과 [1, 2, 3.0, 100]\",\n",
       "  \"# quiz : 다음 리스트에서 소수점이하가 0인 수만 추출하시오\\n# 1. filter함수, 람다식 이용 / 2. filter_template 이용 / 3. 리스트 컴프리헨션 이용\\nL = [1, 1.2, 1.5, 2, 3.0, 10.5, 100]\\n\\n# 정수인지 확인 (x가 실제 정수이면 에러)\\n# x = 2.0\\n# print(x.is_integer())\\n\\n# 1.\\nprint(list(filter(lambda x: x%1.0 == 0, L)))\\nprint(list(filter(lambda x: x == round(x), L)))\\nprint(list(filter(lambda x: x == x//1, L)))\\n\\nfor item in filter(lambda x: x % 1.0, L):\\n    print(item, end=' ')\\n\\n# 2.\\nfilter_template(lambda x: x % 1.0, L)\\n\\n# 3.\\n[x for x in L if x % 1.0]\\n\\n# 결과 [1, 2, 3.0, 100]\",\n",
       "  \"# quiz : 다음 리스트에서 소수점이하가 0인 수만 추출하시오\\n# 1. filter함수, 람다식 이용 / 2. filter_template 이용 / 3. 리스트 컴프리헨션 이용\\nL = [1, 1.2, 1.5, 2, 3.0, 10.5, 100]\\n\\n# 정수인지 확인 (x가 실제 정수이면 에러)\\n# x = 2.0\\n# print(x.is_integer())\\n\\n# 1.\\nprint(list(filter(lambda x: x%1.0 == 0, L)))\\nprint(list(filter(lambda x: x == round(x), L)))\\nprint(list(filter(lambda x: x == x//1, L)))\\n\\nfor item in filter(lambda x: x%1.0 == 0, L):\\n    print(item, end=' ')\\n\\n# 2.\\nfilter_template(lambda x: x%1.0 == 0, L)\\n\\n# 3.\\n[x for x in L if x x%1.0 == 0]\\n\\n# 결과 [1, 2, 3.0, 100]\",\n",
       "  \"# quiz : 다음 리스트에서 소수점이하가 0인 수만 추출하시오\\n# 1. filter함수, 람다식 이용 / 2. filter_template 이용 / 3. 리스트 컴프리헨션 이용\\nL = [1, 1.2, 1.5, 2, 3.0, 10.5, 100]\\n\\n# 정수인지 확인 (x가 실제 정수이면 에러)\\n# x = 2.0\\n# print(x.is_integer())\\n\\n# 1.\\nprint(list(filter(lambda x: x%1.0 == 0, L)))\\nprint(list(filter(lambda x: x == round(x), L)))\\nprint(list(filter(lambda x: x == x//1, L)))\\n\\nfor item in filter(lambda x: x%1.0 == 0, L):\\n    print(item, end=' ')\\n\\n# 2.\\nfilter_template(lambda x: x%1.0 == 0, L)\\n\\n# 3.\\n[x for x in L if x%1.0 == 0]\\n\\n# 결과 [1, 2, 3.0, 100]\",\n",
       "  \"# quiz : 다음 리스트에서 소수점이하가 0인 수만 추출하시오\\n# 1. filter함수, 람다식 이용 / 2. filter_template 이용 / 3. 리스트 컴프리헨션 이용\\nL = [1, 1.2, 1.5, 2, 3.0, 10.5, 100]\\n\\n# 정수인지 확인 (x가 실제 정수이면 에러)\\n# x = 2.0\\n# print(x.is_integer())\\n\\n# 1.\\nprint(list(filter(lambda x: x%1.0 == 0, L)))\\nprint(list(filter(lambda x: x == round(x), L)))\\nprint(list(filter(lambda x: x == x//1, L)))\\n\\nfor item in filter(lambda x: x%1.0 == 0, L):\\n    print(item, end=' ')\\n\\n# 2.\\nprint(filter_template(lambda x: x%1.0 == 0, L))\\n\\n# 3.\\n[x for x in L if x%1.0 == 0]\\n\\n# 결과 [1, 2, 3.0, 100]\",\n",
       "  \"# quiz : 다음 리스트에서 소수점이하가 0인 수만 추출하시오\\n# 1. filter함수, 람다식 이용 / 2. filter_template 이용 / 3. 리스트 컴프리헨션 이용\\nL = [1, 1.2, 1.5, 2, 3.0, 10.5, 100]\\n\\n# 정수인지 확인 (x가 실제 정수이면 에러)\\n# x = 2.0\\n# print(x.is_integer())\\n\\n# 1.\\nprint(list(filter(lambda x: x%1.0 == 0, L)))\\nprint(list(filter(lambda x: x == round(x), L)))\\nprint(list(filter(lambda x: x == x//1, L)))\\n\\nfor item in filter(lambda x: x%1.0 == 0, L):\\n    print(item, end=' ')\\n\\n# 2.\\nprint(filter_template(lambda x: x%1.0 == 0, L))\\n\\n# 3.\\nprint([x for x in L if x%1.0 == 0])\\n\\n# 결과 [1, 2, 3.0, 100]\",\n",
       "  \"# quiz : 다음 리스트에서 소수점이하가 0인 수만 추출하시오\\n# 1. filter함수, 람다식 이용 / 2. filter_template 이용 / 3. 리스트 컴프리헨션 이용\\nL = [1, 1.2, 1.5, 2, 3.0, 10.5, 100]\\n\\n# 정수인지 확인 (x가 실제 정수이면 에러)\\n# x = 2.0\\n# print(x.is_integer())\\n\\n# 1.\\nprint(list(filter(lambda x: x%1.0 == 0, L)))\\nprint(list(filter(lambda x: x == round(x), L)))\\nprint(list(filter(lambda x: x == x//1, L)))\\n\\nfor item in filter(lambda x: x%1.0 == 0, L):\\n    print(item, end=' ')\\n\\n# 2\\nfilter_template(lambda x: x%1.0 == 0, L)\\n\\n# 3.\\nprint([x for x in L if x%1.0 == 0])\\n\\n# 결과 [1, 2, 3.0, 100]\",\n",
       "  \"# quiz : 다음 리스트에서 소수점이하가 0인 수만 추출하시오\\n# 1. filter함수, 람다식 이용 / 2. filter_template 이용 / 3. 리스트 컴프리헨션 이용\\nL = [1, 1.2, 1.5, 2, 3.0, 10.5, 100]\\n\\n# 정수인지 확인 (x가 실제 정수이면 에러)\\n# x = 2.0\\n# print(x.is_integer())\\n\\n# 1.\\nprint(list(filter(lambda x: x%1.0 == 0, L)))\\nprint(list(filter(lambda x: x == round(x), L)))\\nprint(list(filter(lambda x: x == x//1, L)))\\n\\nfor item in filter(lambda x: x%1.0 == 0, L):\\n    print(item, end=' ')\\n\\n# 2\\nprint(filter_template(lambda x: x%1.0 == 0, L))\\n\\n# 3.\\nprint([x for x in L if x%1.0 == 0])\\n\\n# 결과 [1, 2, 3.0, 100]\",\n",
       "  \"# quiz : 다음 리스트에서 소수점이하가 0인 수만 추출하시오\\n# 1. filter함수, 람다식 이용 / 2. filter_template 이용 / 3. 리스트 컴프리헨션 이용\\nL = [1, 1.2, 1.5, 2, 3.0, 10.5, 100]\\n\\n# 정수인지 확인 (x가 실제 정수이면 에러)\\n# x = 2.0\\n# print(x.is_integer())\\n\\n# 1.\\nprint(list(filter(lambda x: x%1.0 == 0, L)))\\nprint(list(filter(lambda x: x == round(x), L)))\\nprint(list(filter(lambda x: x == x//1, L)))\\n\\nfor item in filter(lambda x: x%1.0 == 0, L):\\n    print(item, end=' ')\\n\\n# 2\\nprint(filter_template(lambda x: x%1.0 == 0, L))\\nprint()\\n# 3.\\nprint([x for x in L if x%1.0 == 0])\\n\\n# 결과 [1, 2, 3.0, 100]\",\n",
       "  \"# quiz : 다음 리스트에서 소수점이하가 0인 수만 추출하시오\\n# 1. filter함수, 람다식 이용 / 2. filter_template 이용 / 3. 리스트 컴프리헨션 이용\\nL = [1, 1.2, 1.5, 2, 3.0, 10.5, 100]\\n\\n# 정수인지 확인 (x가 실제 정수이면 에러)\\n# x = 2.0\\n# print(x.is_integer())\\n\\n# 1.\\nprint(list(filter(lambda x: x%1.0 == 0, L)))\\nprint(list(filter(lambda x: x == round(x), L)))\\nprint(list(filter(lambda x: x == x//1, L)))\\n\\nfor item in filter(lambda x: x%1.0 == 0, L):\\n    print(item, end=' ')\\nprint()\\n# 2\\nprint(filter_template(lambda x: x%1.0 == 0, L))\\n\\n# 3.\\nprint([x for x in L if x%1.0 == 0])\\n\\n# 결과 [1, 2, 3.0, 100]\",\n",
       "  \"# quiz : 다음 리스트에서 소수점이하가 0인 수만 추출하시오\\n# 1. filter함수, 람다식 이용 / 2. filter_template 이용 / 3. 리스트 컴프리헨션 이용\\nL = [1, 1.2, 1.5, 2, 3.0, 10.5, 100]\\n\\n# 정수인지 확인 (x가 실제 정수이면 에러)\\n# x = 2.0\\n# print(x.is_integer())\\n\\n# 1.\\nprint(list(filter(lambda x: x%1.0 == 0, L)))\\nprint(list(filter(lambda x: x == round(x), L)))\\nprint(list(filter(lambda x: x == x//1, L)))\\n\\nfor item in filter(lambda x: x%1.0 == 0, L):\\n    print(item, end=' ')\\nprint()\\n\\n# 2\\nprint(filter_template(lambda x: x%1.0 == 0, L))\\n\\n# 3.\\nprint([x for x in L if x%1.0 == 0])\\n\\n# 결과 [1, 2, 3.0, 100]\",\n",
       "  '# quiz : 다음 리스트에서 소수점이하가 0인 수만 추출하시오\\n# 1. filter함수, 람다식 이용 / 2. filter_template 이용 / 3. 리스트 컴프리헨션 이용\\nL = [1, 1.2, 1.5, 2, 3.0, 10.5, 100]\\n\\n# 정수인지 확인 (x가 실제 정수이면 에러)\\n# x = 2.0\\n# print(x.is_integer())\\n\\n# 결과 [1, 2, 3.0, 100]',\n",
       "  \"# 1.\\nprint(list(filter(lambda x: x%1.0 == 0, L)))\\nprint(list(filter(lambda x: x == round(x), L)))\\nprint(list(filter(lambda x: x == x//1, L)))\\n\\nfor item in filter(lambda x: x%1.0 == 0, L):\\n    print(item, end=' ')\",\n",
       "  '# 2\\nprint(filter_template(lambda x: x%1.0 == 0, L))',\n",
       "  '# 3.\\nprint([x for x in L if x%1.0 == 0])',\n",
       "  '# 예제2 : 베스트셀러 list(딕셔너리 리스트)를 가격 순으로 sort',\n",
       "  '# 예제2 : 베스트셀러 list(딕셔너리 리스트)를 가격 순으로 sort\\np = [10, 3, 6, 1]\\np.sort()',\n",
       "  '# 예제2 : 베스트셀러 list(딕셔너리 리스트)를 가격 순으로 sort\\np = [10, 3, 6, 1]\\np.sort()\\np',\n",
       "  '# 예제2 : 베스트셀러 list(딕셔너리 리스트)를 가격 순으로 sort\\np = [10, 3, 6, 1]\\np',\n",
       "  '# 예제2 : 베스트셀러 list(딕셔너리 리스트)를 가격 순으로 sort\\np = [10, 3, 6, 1]\\np.sort()\\np',\n",
       "  '# 예제2 : 베스트셀러 list(딕셔너리 리스트)를 가격 순으로 sort\\np = [10, 3, 6, 1]\\np.sort(reverse=true)\\np',\n",
       "  '# 예제2 : 베스트셀러 list(딕셔너리 리스트)를 가격 순으로 sort\\np = [10, 3, 6, 1]\\np.sort(reverse=True)\\np',\n",
       "  '# 예제2 : 베스트셀러 list(딕셔너리 리스트)를 가격 순으로 sort\\np = [10, 3, 6, 1]\\np.sort(reverse=True)  # 내림차순 정렬\\np',\n",
       "  \"pairs = [(2, 'two'), (1, 'one'), (4, 'four'), (3, 'three')]  # 튜플인 리스트\\npairs.sor()\\nparis\",\n",
       "  \"pairs = [(2, 'two'), (1, 'one'), (4, 'four'), (3, 'three')]  # 튜플인 리스트\\npairs.sort()\\nparis\",\n",
       "  \"pairs = [(2, 'two'), (1, 'one'), (4, 'four'), (3, 'three')]  # 튜플인 리스트\\npairs.sort()\\npairs\",\n",
       "  \"pairs = [(2, 'two'), (1, 'one'), (4, 'four'), (3, 'three')]  # 튜플인 리스트\\n# pairs.sort()  # 튜플의 0번째로 정렬됨\\npairs.sort(1)\\npairs\",\n",
       "  \"pairs = [(2, 'two'), (1, 'one'), (4, 'four'), (3, 'three')]  # 튜플인 리스트\\n# pairs.sort()  # 튜플의 0번째로 정렬됨\\npairs.sort([1])\\npairs\",\n",
       "  \"pairs = [(2, 'two'), (1, 'one'), (4, 'four'), (3, 'three')]  # 튜플인 리스트\\npairs.sort()  # 튜플의 0번째로 정렬됨\\npairs\",\n",
       "  'pairs.sort(key=lambda pair : pair[1])',\n",
       "  'pairs.sort(key=lambda pair : pair[1], pairs)',\n",
       "  'pairs.sort(key=lambda pair : pair[1])\\npairs',\n",
       "  'pairs.sort(key=lambda pair : pair[1])\\n# pairs.sort(key=lambda pair : pair[1], reverse=True)  # z부터 정렬\\npairs  # 1번 째로 abc순으로 정렬',\n",
       "  \"students = [{'name' : '홍', 'score' : 99},\\n            {'name' : '김', 'score' : 22},\\n            {'name' : '이', 'score' : 77},\\n            {'name' : '박', 'score' : 66}]\\n# students를 이름 ㄱㄴㄷ순 정렬\\nstudents.sort(key=lambda student : student.item([idx]))\\n# students를 score순으로 오름차순 정렬\\n\\n# students를 score순으로 내림차순 정렬\",\n",
       "  \"students = [{'name' : '홍', 'score' : 99},\\n            {'name' : '김', 'score' : 22},\\n            {'name' : '이', 'score' : 77},\\n            {'name' : '박', 'score' : 66}]\\n# students를 이름 ㄱㄴㄷ순 정렬\\nstudents.sort(key=lambda student : student.item(1)))\\n# students를 score순으로 오름차순 정렬\\n\\n# students를 score순으로 내림차순 정렬\",\n",
       "  \"students = [{'name' : '홍', 'score' : 99},\\n            {'name' : '김', 'score' : 22},\\n            {'name' : '이', 'score' : 77},\\n            {'name' : '박', 'score' : 66}]\\n# students를 이름 ㄱㄴㄷ순 정렬\\nstudents.sort(key=lambda student : student.item(1))\\n# students를 score순으로 오름차순 정렬\\n\\n# students를 score순으로 내림차순 정렬\",\n",
       "  \"students = [{'name' : '홍', 'score' : 99},\\n            {'name' : '김', 'score' : 22},\\n            {'name' : '이', 'score' : 77},\\n            {'name' : '박', 'score' : 66}]\\n# students를 이름 ㄱㄴㄷ순 정렬\\nstudents.sort(key=lambda student : )\\n# students를 score순으로 오름차순 정렬\\nstudents.sort(key=lambda student : student.value(score))\\n# students를 score순으로 내림차순 정렬\",\n",
       "  \"students = [{'name' : '홍', 'score' : 99},\\n            {'name' : '김', 'score' : 22},\\n            {'name' : '이', 'score' : 77},\\n            {'name' : '박', 'score' : 66}]\\n# students를 이름 ㄱㄴㄷ순 정렬\\n# students.sort(key=lambda student : )\\n# students를 score순으로 오름차순 정렬\\nstudents.sort(key=lambda student : student.value(score))\\n# students를 score순으로 내림차순 정렬\",\n",
       "  \"students = [{'name' : '홍', 'score' : 99},\\n            {'name' : '김', 'score' : 22},\\n            {'name' : '이', 'score' : 77},\\n            {'name' : '박', 'score' : 66}]\\n# students를 이름 ㄱㄴㄷ순 정렬\\nstudents.sort(key=lambda student : student.value('name'))\\n# students를 score순으로 오름차순 정렬\\nstudents.sort(key=lambda student : student.value('score'))\\n# students를 score순으로 내림차순 정렬\",\n",
       "  \"students = [{'name' : '홍', 'score' : 99},\\n            {'name' : '김', 'score' : 22},\\n            {'name' : '이', 'score' : 77},\\n            {'name' : '박', 'score' : 66}]\\n# students를 이름 ㄱㄴㄷ순 정렬\\nstudents.sort(key=lambda student : student.value('name'))\\n# students를 score순으로 오름차순 정렬\\nstudents.sort(key=lambda student : student.value('score'))\\n# students를 score순으로 내림차순 정렬\\nstudents.sort(key=lambda student : student.value('score'), reverse=True)\",\n",
       "  \"students = [{'name' : '홍', 'score' : 99},\\n            {'name' : '김', 'score' : 22},\\n            {'name' : '이', 'score' : 77},\\n            {'name' : '박', 'score' : 66}]\\n# students를 이름 ㄱㄴㄷ순 정렬\\nstudents.sort(key=lambda student : student.item('name'))\\n# students를 score순으로 오름차순 정렬\\nstudents.sort(key=lambda student : student.value('score'))\\n# students를 score순으로 내림차순 정렬\\nstudents.sort(key=lambda student : student.value('score'), reverse=True)\",\n",
       "  \"students = [{'name' : '홍', 'score' : 99},\\n            {'name' : '김', 'score' : 22},\\n            {'name' : '이', 'score' : 77},\\n            {'name' : '박', 'score' : 66}]\\n# students를 이름 ㄱㄴㄷ순 정렬\\nstudents.sort(key=lambda student : student.value('name'))\\n# students를 score순으로 오름차순 정렬\\nstudents.sort(key=lambda student : student.value('score'))\\n# students를 score순으로 내림차순 정렬\\nstudents.sort(key=lambda student : student.value('score'), reverse=True)\",\n",
       "  \"students = [{'name' : '홍', 'score' : 99},\\n            {'name' : '김', 'score' : 22},\\n            {'name' : '이', 'score' : 77},\\n            {'name' : '박', 'score' : 66}]\\n# students를 이름 ㄱㄴㄷ순 정렬\\nstudents.sort(key=lambda student : student.['name'])\\n# students를 score순으로 오름차순 정렬\\nstudents.sort(key=lambda student : student.value('score'))\\n# students를 score순으로 내림차순 정렬\\nstudents.sort(key=lambda student : student.value('score'), reverse=True)\",\n",
       "  \"students = [{'name' : '홍', 'score' : 99},\\n            {'name' : '김', 'score' : 22},\\n            {'name' : '이', 'score' : 77},\\n            {'name' : '박', 'score' : 66}]\\n# students를 이름 ㄱㄴㄷ순 정렬\\nstudents.sort(key=lambda student : student['name'])\\n# students를 score순으로 오름차순 정렬\\nstudents.sort(key=lambda student : student.value('score'))\\n# students를 score순으로 내림차순 정렬\\nstudents.sort(key=lambda student : student.value('score'), reverse=True)\",\n",
       "  \"students = [{'name' : '홍', 'score' : 99},\\n            {'name' : '김', 'score' : 22},\\n            {'name' : '이', 'score' : 77},\\n            {'name' : '박', 'score' : 66}]\\n# students를 이름 ㄱㄴㄷ순 정렬\\nstudents.sort(key=lambda student : student['name'])\\n# students를 score순으로 오름차순 정렬\\nstudents.sort(key=lambda student : student['score'])\\n# students를 score순으로 내림차순 정렬\\nstudents.sort(key=lambda student : student.value('score'), reverse=True)\",\n",
       "  \"students = [{'name' : '홍', 'score' : 99},\\n            {'name' : '김', 'score' : 22},\\n            {'name' : '이', 'score' : 77},\\n            {'name' : '박', 'score' : 66}]\\n# students를 이름 ㄱㄴㄷ순 정렬\\nstudents.sort(key=lambda student : student['name'])\\n# students를 score순으로 오름차순 정렬\\nstudents.sort(key=lambda student : student['score'])\\n# students를 score순으로 내림차순 정렬\\nstudents.sort(key=lambda student : student['score'], reverse=True)\",\n",
       "  \"students = [{'name' : '홍', 'score' : 99},\\n            {'name' : '김', 'score' : 22},\\n            {'name' : '이', 'score' : 77},\\n            {'name' : '박', 'score' : 66}]\\n# students를 이름 ㄱㄴㄷ순 정렬\\nstudents.sort(key=lambda student : student['name'])\\nprint(students)\\n# students를 score순으로 오름차순 정렬\\nstudents.sort(key=lambda student : student['score'])\\n# students를 score순으로 내림차순 정렬\\nstudents.sort(key=lambda student : student['score'], reverse=True)\",\n",
       "  \"students = [{'name' : '홍', 'score' : 99},\\n            {'name' : '김', 'score' : 22},\\n            {'name' : '이', 'score' : 77},\\n            {'name' : '박', 'score' : 66}]\\n# students를 이름 ㄱㄴㄷ순 정렬\\nstudents.sort(key=lambda student : student['name'])\\nprint(students)\\n# students를 score순으로 오름차순 정렬\\nstudents.sort(key=lambda student : student['score'])\\nprint(students)\\n# students를 score순으로 내림차순 정렬\\nstudents.sort(key=lambda student : student['score'], reverse=True)\",\n",
       "  \"students = [{'name' : '홍', 'score' : 99},\\n            {'name' : '김', 'score' : 22},\\n            {'name' : '이', 'score' : 77},\\n            {'name' : '박', 'score' : 66}]\\n# students를 이름 ㄱㄴㄷ순 정렬\\nstudents.sort(key=lambda student : student['name'])\\nprint(students)\\n# students를 score순으로 오름차순 정렬\\nstudents.sort(key=lambda student : student['score'])\\nprint(students)\\n# students를 score순으로 내림차순 정렬\\nstudents.sort(key=lambda student : student['score'], reverse=True)\\nprint(students)\",\n",
       "  \"students = [{'name' : '홍', 'score' : 99},\\n            {'name' : '김', 'score' : 22},\\n            {'name' : '이', 'score' : 77},\\n            {'name' : '박', 'score' : 66}]\",\n",
       "  \"# students를 이름 ㄱㄴㄷ순 정렬\\nstudents.sort(key=lambda student : student['name'])\\nprint(students)\",\n",
       "  \"# students를 score순으로 오름차순 정렬\\nstudents.sort(key=lambda student : student['score'])\\nprint(students)\",\n",
       "  \"# students를 score순으로 내림차순 정렬\\nstudents.sort(key=lambda student : student['score'], reverse=True)\\nprint(students)\",\n",
       "  \"# students를 이름 ㄱㄴㄷ순 정렬\\nstudents.sort(key=lambda student : student['name'])\\nprint(students)\",\n",
       "  \"# students를 이름 ㄱㄴㄷ순 정렬\\nstudents.sort(key=lambda student : student['name'])\\nstudents\",\n",
       "  \"# students를 score순으로 오름차순 정렬\\nstudents.sort(key=lambda student : student['score'])\\nstudents\",\n",
       "  \"# students를 score순으로 오름차순 정렬\\nstudents.sort(key=lambda data : data['score'])\\nstudents\",\n",
       "  \"# students를 score순으로 내림차순 정렬\\nstudents.sort(key=lambda student : student['score'], reverse=True)\\nprint(students)\",\n",
       "  \"# students를 score순으로 내림차순 정렬\\nstudents.sort(key=lambda student : student['score'], reverse=True)\\nSTU\",\n",
       "  \"# students를 score순으로 내림차순 정렬\\nstudents.sort(key=lambda student : student['score'], reverse=True)\\nstudents\",\n",
       "  \"# students를 score순으로 내림차순 정렬\\nstudents.sort(key=lambda student : student['score'], reverse=True)\\nstudents\",\n",
       "  \"# students를 score순으로 내림차순 정렬\\nstudents.sort(key=lambda data : data['score'], reverse=True)\\nstudents.sort(key=lambda data : data.get('score'), reverse=True)\\nstudents\",\n",
       "  \"# students를 score순으로 내림차순 정렬\\n# students.sort(key=lambda data : data['score'], reverse=True)\\nstudents.sort(key=lambda data : data.get('score'), reverse=True)\\nstudents\",\n",
       "  \"# students를 score순으로 내림차순 정렬\\n# students.sort(key=lambda data : data['score'], reverse=True)\\nstudents.sort(key=lambda data : data.get('score'), reverse=True)\\nstudents\",\n",
       "  \"books = [{'no' : 1, 'title' : '소년이 온다', 'writer' : '한강', 'price' : '13,500'},\\n         {'no' : 3, 'title' : '트럼프2.0시대', 'writer' : '박종훈', 'price' : '18,000'},\\n         {'no' : 2, 'title' : '트렌트코리아2025', 'writer' : '김난도', 'price' : '18,100'},\\n         {'no' : 4, 'title' : '가격잘못', 'writer' : '홍길동', 'price' : 'ㅁ'},\\n         {'no' : 5, 'title' : '가격없음', 'writer' : '김난도', 'price' : 'None예정'}]\",\n",
       "  \"books.sort(key=lambda book : book['no'])\\nbooks\",\n",
       "  \"# title순으로 정렬\\nbooks.sort(key=lambda book : book['title'])\\nbooks\",\n",
       "  \"# writer순으로 정렬\\nbooks.sort(key=lambda book : book['writer'])\\nbooks\",\n",
       "  \"books = [{'no' : 1, 'title' : '소년이 온다', 'writer' : '한강', 'price' : '13,500'},\\n         {'no' : 3, 'title' : '트럼프2.0시대', 'writer' : '박종훈', 'price' : '18,000'},\\n         {'no' : 2, 'title' : '트렌트코리아2025', 'writer' : '김난도', 'price' : '9,100'},\\n         {'no' : 4, 'title' : '가격잘못', 'writer' : '홍길동', 'price' : 'ㅁ'},\\n         {'no' : 5, 'title' : '가격없음', 'writer' : '김난도', 'price' : 'None예정'}]\",\n",
       "  \"# no순으로 정렬\\nbooks.sort(key=lambda book : book['no'])\\nbooks\",\n",
       "  \"# title순으로 정렬\\nbooks.sort(key=lambda book : book['title'])\\nbooks\",\n",
       "  \"books = [{'no' : 1, 'title' : '소년이 온다', 'writer' : '한강', 'price' : '13,500'},\\n         {'no' : 3, 'title' : '트럼프2.0시대', 'writer' : '박종훈', 'price' : '18,000'},\\n         {'no' : 2, 'title' : '트렌트코리아2025', 'writer' : '김난도', 'price' : '9,100'},\\n         {'no' : 4, 'title' : '가격잘못', 'writer' : '홍길동', 'price' : 'ㅁ'},\\n         {'no' : 5, 'title' : '가격없음', 'writer' : '신길동', 'price' : 'None예정'}]\",\n",
       "  \"# no순으로 정렬\\nbooks.sort(key=lambda book : book['no'])\\nbooks\",\n",
       "  \"# title순으로 정렬\\nbooks.sort(key=lambda book : book['title'])\\nbooks\",\n",
       "  \"# writer순으로 정렬\\nbooks.sort(key=lambda book : book['writer'])\\nbooks\",\n",
       "  \"# price 기준으로 정렬\\nbooks.sort(key=lambda book : book['price'])\\nbooks\",\n",
       "  \"# price 기준으로 정렬\\nbooks.sort(key=lambda book : book['price'], reverse=True)\\nbooks\",\n",
       "  \"books = [{'no' : 1, 'title' : '소년이 온다', 'writer' : '한강', 'price' : '13,500'},\\n         {'no' : 3, 'title' : '트럼프2.0시대', 'writer' : '박종훈', 'price' : '18,000'},\\n         {'no' : 2, 'title' : '트렌트코리아2025', 'writer' : '김난도', 'price' : '9,100'},\\n         {'no' : 4, 'title' : '가격잘못', 'writer' : '홍길동', 'price' : 'ㅁ'},\\n         {'no' : 5, 'title' : '가격없음', 'writer' : '신길동'}]\",\n",
       "  '# sort : 정렬하고자 하는 값의 타입이 일치해야 함',\n",
       "  '# sort : 정렬하고자 하는 값의 타입이 일치해야 함',\n",
       "  \"books.sort(key=lambda book : book['price'])\\nbooks\",\n",
       "  \"books = [{'no' : 1, 'title' : '소년이 온다', 'writer' : '한강', 'price' : '13,500'},\\n         {'no' : 3, 'title' : '트럼프2.0시대', 'writer' : '박종훈', 'price' : '18,000'},\\n         {'no' : 2, 'title' : '트렌트코리아2025', 'writer' : '김난도', 'price' : '9,100'},\\n         {'no' : 4, 'title' : '가격잘못', 'writer' : '홍길동', 'price' : 'ㅁ'},\\n         {'no' : 6, 'title' : '가격없음', 'writer' : '신길동', 'price' : 9200},\\n         {'no' : 5, 'title' : '가격없음', 'writer' : '신길동'}]\",\n",
       "  \"def parse_int(price):\\n    return int(price.replace(',', ''))\\nparse_int('13,500')\",\n",
       "  \"def parse_int(price):\\n    print(type(price))\\nparse_int('13,500')\",\n",
       "  'def parse_int(price):\\n    print(type(price))',\n",
       "  \"parse_int('ㅁ'), parse_int(None), parse_int(9200), parse_int('13,500')\\n# 결과 0,         0,                9200,           13,500\\n# 결과를 다 숫자(가격)로 return\",\n",
       "  'def parse_int(price):\\n    # print(type(price))\\n    if isinstance(price, str):\\n        print(price)',\n",
       "  \"parse_int('ㅁ'), parse_int(None), parse_int(9200), parse_int('13,500')\\n# 결과 0,         0,                9200,           13,500\\n# 결과를 다 숫자(가격)로 return\",\n",
       "  \"parse_int('ㅁ'), parse_int(None), parse_int(9200), parse_int('13,500')\\n# 결과 0,         0,                9200,           13,500\\n# 결과를 다 숫자(가격)로 return\",\n",
       "  \"# & : 논리연산, 비트연산, 집합연산\\n# and : 논리연산\\ndef parse_int(price):\\n    # print(type(price))\\n    if isinstance(price, str) & price.replace(',', '').isdigit():  # price가 str인지 & price가 숫자문자인지\\n        print(price)\",\n",
       "  \"parse_int('ㅁ'), parse_int(None), parse_int(9200), parse_int('13,500')\\n# 결과 0,         0,                9200,           13,500\\n# 결과를 다 숫자(가격)로 return\",\n",
       "  \"# & : 논리연산, 비트연산, 집합연산\\n# and : 논리연산\\ndef parse_int(price):\\n    # print(type(price))\\n    if isinstance(price, str) and price.replace(',', '').isdigit():  # price가 str인지 & price가 숫자문자인지\\n        print(price)\",\n",
       "  \"parse_int('ㅁ'), parse_int(None), parse_int(9200), parse_int('13,500')\\n# 결과 0,         0,                9200,           13,500\\n# 결과를 다 숫자(가격)로 return\",\n",
       "  \"# & : 논리연산, 비트연산, 집합연산(처음이 False면 뒤를 비교하며 셋 중 하나의 연산을 수행함)\\n# and : 논리연산(처음이 False면 뒤를 수행하지 않음)\\ndef parse_int(price):\\n    # print(type(price))\\n    if isinstance(price, str) & price.replace(',', '').isdigit():  # price가 str인지 and price가 숫자문자인지\\n        print(price)\",\n",
       "  \"parse_int('ㅁ'), parse_int(None), parse_int(9200), parse_int('13,500')\\n# 결과 0,         0,                9200,           13,500\\n# 결과를 다 숫자(가격)로 return\",\n",
       "  \"# & : 논리연산, 비트연산, 집합연산이 모두 가능하므로, \\n#     좌항이 False여도 우항이 숫자면 비트연산을 수행해야 하므로 우항을 수행함\\n# and : 논리연산의 역할만 하여, 좌항이 False면 우항을 수행하지 않음\\ndef parse_int(price):\\n    # print(type(price))\\n    if isinstance(price, str) and price.replace(',', '').isdigit():  # price가 str인지 and price가 숫자문자인지\\n        print(price)\",\n",
       "  \"parse_int('ㅁ'), parse_int(None), parse_int(9200), parse_int('13,500')\\n# 결과 0,         0,                9200,           13,500\\n# 결과를 다 숫자(가격)로 return\",\n",
       "  \"# & : 논리연산, 비트연산, 집합연산이 모두 가능하므로, \\n#     좌항이 False여도 우항이 숫자면 비트연산을 수행해야 하므로 우항을 수행함\\n# and : 논리연산의 역할만 하여, 좌항이 False면 우항을 수행하지 않음\\ndef parse_int(price):\\n    # print(type(price))\\n    if isinstance(price, str) and price.replace(',', '').isdigit():  # price가 str인지 and price가 숫자문자인지\\n        return int(price.replace(',',''))\",\n",
       "  \"parse_int('ㅁ'), parse_int(None), parse_int(9200), parse_int('13,500')\\n# 결과 0,         0,                9200,           13,500\\n# 결과를 다 숫자(가격)로 return\",\n",
       "  \"print(parse_int('ㅁ'), parse_int(None), parse_int(9200), parse_int('13,500'))\\n# 결과 0,         0,                9200,           13,500\\n# 결과를 다 숫자(가격)로 return\",\n",
       "  \"print(parse_int('ㅁ'))\\nprint(parse_int(None)0\\nprint(parse_int(9200))\\nprint(parse_int('13,500'))\\n# 결과 0,         0,                9200,           13,500\\n# 결과를 다 숫자(가격)로 return\",\n",
       "  \"print(parse_int('ㅁ'))\\nprint(parse_int(None))\\nprint(parse_int(9200))\\nprint(parse_int('13,500'))\\n# 결과 0,         0,                9200,           13,500\\n# 결과를 다 숫자(가격)로 return\",\n",
       "  \"print(parse_int('ㅁ'))  # 0\\nprint(parse_int(None))  # 0\\nprint(parse_int(9200))  # 9200\\nprint(parse_int('13,500'))  # 13,500\\n# 결과 0,         0,                9200,           13,500\\n# 결과를 다 숫자(가격)로 return\",\n",
       "  \"# & : 논리연산, 비트연산, 집합연산이 모두 가능하므로, \\n#     좌항이 False여도 우항이 숫자면 비트연산을 수행해야 하므로 우항을 수행함\\n# and : 논리연산의 역할만 하여, 좌항이 False면 우항을 수행하지 않음\\ndef parse_int(price):\\n    # print(type(price))\\n    if isinstance(price, str) and price.replace(',', '').isdigit():  # price가 str인지 and price가 숫자문자인지\\n        return int(price.replace(',',''))\\n    elif isinstance(price, int)\\n        return price\\n    else:\\n        return 0\",\n",
       "  \"print(parse_int('ㅁ'))  # 0\\nprint(parse_int(None))  # 0\\nprint(parse_int(9200))  # 9200\\nprint(parse_int('13,500'))  # 13,500\\n# 결과를 다 숫자(가격)로 return\",\n",
       "  \"# & : 논리연산, 비트연산, 집합연산이 모두 가능하므로, \\n#     좌항이 False여도 우항이 숫자면 비트연산을 수행해야 하므로 우항을 수행함\\n# and : 논리연산의 역할만 하여, 좌항이 False면 우항을 수행하지 않음\\ndef parse_int(price):\\n    # print(type(price))\\n    if isinstance(price, str) and price.replace(',', '').isdigit():  # price가 str인지 and price가 숫자문자인지\\n        return int(price.replace(',',''))\\n    elif isinstance(price, int):\\n        return price\\n    else:\\n        return 0\",\n",
       "  \"print(parse_int('ㅁ'))  # 0\\nprint(parse_int(None))  # 0\\nprint(parse_int(9200))  # 9200\\nprint(parse_int('13,500'))  # 13,500\\n# 결과를 다 숫자(가격)로 return\",\n",
       "  \"# & : 논리연산, 비트연산, 집합연산이 모두 가능하므로, \\n#     좌항이 False여도 우항이 숫자면 비트연산을 수행해야 하므로 우항을 수행함\\n# and : 논리연산의 역할만 하여, 좌항이 False면 우항을 수행하지 않음\\ndef parse_int(price):\\n    # print(type(price))\\n    if isinstance(price, str) and price.replace(',', '').isdigit():\\n                                # price가 str인지 and price가 숫자문자인지\\n        return int(price.replace(',',''))\\n    elif isinstance(price, int):\\n        return price\\n    else:\\n        return 0\",\n",
       "  \"# & : 논리연산, 비트연산, 집합연산이 모두 가능하므로, \\n#     좌항이 False여도 우항이 숫자면 비트연산을 수행해야 하므로 우항을 수행함\\n# and : 논리연산의 역할만 하여, 좌항이 False면 우항을 수행하지 않음\\ndef parse_int(price):\\n    # print(type(price))\\n    if isinstance(price, str) and price.replace(',', '').isdigit():\\n                                # price가 str인지 and price가 숫자문자인지\\n        return int(price.replace(',',''))\\n    elif isinstance(price, int):\\n        return price\\n    else:\\n        return 0\",\n",
       "  \"print(parse_int('ㅁ'))  # 0\\nprint(parse_int(None))  # 0\\nprint(parse_int(9200))  # 9200\\nprint(parse_int('13,500'))  # 13,500\\n# 결과를 다 숫자(가격)로 return\",\n",
       "  \"testFunc = lambda book : book.get('price')\\n\\n[testFunc(book) for book in books]\",\n",
       "  \"testFunc = lambda book : int(book.get('price').replace(',','')) \\\\\\n            if isinstance(book.get('price'), str) \\\\\\n                and book.get('price').replace(',', '').isdigit()\\n\\n[testFunc(book) for book in books]\",\n",
       "  \"testFunc = lambda book : int(book.get('price').replace(',','')) \\\\\\n            if isinstance(book.get('price'), str) \\\\\\n                and book.get('price').replace(',', '').isdigit()\\n\\n[testFunc(book) for book in books]\",\n",
       "  \"testFunc = lambda book : int(book.get('price').replace(',','')) \\\\\\n            if isinstance(book.get('price'), str) \\\\\\n                and book.get('price').replace(',', '').isdigit() else ()\\n\\n[testFunc(book) for book in books]\",\n",
       "  \"testFunc = lambda book : int(book.get('price').replace(',','')) \\\\\\n            if isinstance(book.get('price'), str) \\\\\\n                and book.get('price').replace(',', '').isdigit() \\\\\\n            else (price if isinstance(book.get('price'), int) else 0)\\n\\n[testFunc(book) for book in books]\",\n",
       "  \"testFunc = lambda book : int(book.get('price').replace(',','')) \\\\\\n            if isinstance(book.get('price'), str) \\\\\\n                and book.get('price').replace(',', '').isdigit() \\\\\\n            else (price if isinstance(book.get('price'), int) else 0)\\n\\n[testFunc(book) for book in books]\",\n",
       "  \"testFunc = lambda book : int(book.get('price').replace(',','')) \\\\\\n            if isinstance(book.get('price'), str) \\\\\\n                and book.get('price').replace(',', '').isdigit() else 0)\\n\\n[testFunc(book) for book in books]\",\n",
       "  \"testFunc = lambda book : int(book.get('price').replace(',','')) \\\\\\n            if isinstance(book.get('price'), str) \\\\\\n                and book.get('price').replace(',', '').isdigit() else 0\\n\\n[testFunc(book) for book in books]\",\n",
       "  \"testFunc = lambda book : int(book.get('price').replace(',','')) \\\\\\n            if isinstance(book.get('price'), str) \\\\\\n                and book.get('price').replace(',', '').isdigit() \\\\\\n            else (0)\\n\\n[testFunc(book) for book in books]\",\n",
       "  \"testFunc = lambda book : int(book.get('price').replace(',','')) \\\\\\n            if isinstance(book.get('price'), str) \\\\\\n                and book.get('price').replace(',', '').isdigit() \\\\\\n            else (book.get('price') if isinstance(book.get('price'), int) else 0)\\n\\n[testFunc(book) for book in books]\",\n",
       "  \"testFunc = lambda book : int(book.get('price').replace(',','')) \\\\\\n            if isinstance(book.get('price'), str) \\\\\\n                and book.get('price').replace(',', '').isdigit() \\\\\\n            else (book.get('price') if isinstance(book.get('price'), int) \\\\\\n                  else 0)\\n\\n[testFunc(book) for book in books]\",\n",
       "  \"copyBook = books.copy()\\ncopyBooks.sort(key=lambda book : int(book.get('price')..replace(',','')) \\\\\\n              if isinstance(book.get('prce'), str) \\\\\\n                  and book.get('price').replce(',', '').isdigit() \\\\\\n               else (price if isinstance(book.get('price'), int) else 0)               \\n              )\",\n",
       "  \"copyBook = books.copy()\\ncopyBook.sort(key=lambda book : int(book.get('price')..replace(',','')) \\\\\\n              if isinstance(book.get('prce'), str) \\\\\\n                  and book.get('price').replce(',', '').isdigit() \\\\\\n               else (price if isinstance(book.get('price'), int) else 0)               \\n              )\",\n",
       "  \"copyBook = books.copy()\\ncopyBook.sort(key=lambda book : int(book.get('price').replace(',','')) \\\\\\n              if isinstance(book.get('prce'), str) \\\\\\n                  and book.get('price').replce(',', '').isdigit() \\\\\\n               else (price if isinstance(book.get('price'), int) else 0)               \\n              )\",\n",
       "  \"copyBooks = books.copy()\\ncopyBooks.sort(key=lambda book : int(book.get('price').replace(',','')) \\\\\\n              if isinstance(book.get('prce'), str) \\\\\\n                  and book.get('price').replce(',', '').isdigit() \\\\\\n               else (book.get('price') if isinstance(book.get('price'), int) else 0)               \\n              )\\ncopyBooks\",\n",
       "  \"copyBooks = books.copy()\\ncopyBooks.sort(key=lambda book : int(book.get('price').replace(',','')) \\\\\\n              if isinstance(book.get('prce'), str) \\\\\\n                  and book.get('price').replce(',', '').isdigit() \\\\\\n               else (book.get('price') \\\\\\n                     if isinstance(book.get('price'), int) else 0),\\n               reverse=True\\n              )\\ncopyBooks\",\n",
       "  \"books = [{'no' : 1, 'title' : '소년이 온다', 'writer' : '한강', 'price' : '13,500'},\\n         {'no' : 3, 'title' : '트럼프2.0시대', 'writer' : '박종훈', 'price' : '18,000'},\\n         {'no' : 2, 'title' : '트렌트코리아2025', 'writer' : '김난도', 'price' : '9,100'},\\n         {'no' : 4, 'title' : '가격잘못', 'writer' : '홍길동', 'price' : 'ㅁ'},\\n         {'no' : 6, 'title' : '가격숫자', 'writer' : '신길동', 'price' : 9200},\\n         {'no' : 5, 'title' : '가격없음', 'writer' : '이길동'}]\",\n",
       "  \"testFunc = lambda book : int(book.get('price').replace(',','')) \\\\\\n            if isinstance(book.get('price'), str) \\\\\\n                and book.get('price').replace(',', '').isdigit() \\\\\\n            else (book.get('price') if isinstance(book.get('price'), int) \\\\\\n                  else 0)\\n\\n[testFunc(book) for book in books]\",\n",
       "  \"copyBooks = books.copy()\\ncopyBooks.sort(key=lambda book : int(book.get('price').replace(',','')) \\\\\\n              if isinstance(book.get('prce'), str) \\\\\\n                  and book.get('price').replce(',', '').isdigit() \\\\\\n               else (book.get('price') \\\\\\n                     if isinstance(book.get('price'), int) else 0),\\n               reverse=True\\n              )\\ncopyBooks\",\n",
       "  \"books = [{'no' : 1, 'title' : '소년이 온다', 'writer' : '한강', 'price' : '13,500'},\\n         {'no' : 3, 'title' : '트럼프2.0시대', 'writer' : '박종훈', 'price' : '18,000'},\\n         {'no' : 2, 'title' : '트렌트코리아2025', 'writer' : '김난도', 'price' : '9,100'},\\n         {'no' : 4, 'title' : '가격잘못', 'writer' : '홍길동', 'price' : 'ㅁ'},\\n         {'no' : 6, 'title' : '가격숫자', 'writer' : '신길동', 'price' : 9200},\\n         {'no' : 5, 'title' : '가격없음', 'writer' : '이길동'}]\",\n",
       "  \"testFunc = lambda book : int(book.get('price').replace(',','')) \\\\\\n            if isinstance(book.get('price'), str) \\\\\\n                and book.get('price').replace(',', '').isdigit() \\\\\\n            else (book.get('price') if isinstance(book.get('price'), int) \\\\\\n                  else 0)\\n\\n[testFunc(book) for book in books]\",\n",
       "  \"copyBooks = books.copy()\\ncopyBooks.sort(key=lambda book : int(book.get('price').replace(',','')) \\\\\\n              if isinstance(book.get('prce'), str) \\\\\\n                  and book.get('price').replce(',', '').isdigit() \\\\\\n               else (book.get('price') \\\\\\n                     if isinstance(book.get('price'), int) else 0),\\n               reverse=True\\n              )\\ncopyBooks\",\n",
       "  \"copyBooks = books.copy()\\ncopyBooks.sort(key=lambda book : int(book.get('price').replace(',','')) \\\\\\n              if isinstance(book.get('prce'), str) \\\\\\n                  and book.get('price').replce(',', '').isdigit() \\\\\\n               else (book.get('price') \\\\\\n                     if isinstance(book.get('price'), int) else 0)\\n              )\\ncopyBooks\",\n",
       "  \"copyBooks = books.copy()\\ncopyBooks.sort(key=lambda book : int(book.get('price').replace(',','')) \\\\\\n              if isinstance(book.get('price'), str) \\\\\\n                  and book.get('price').replace(',', '').isdigit() \\\\\\n               else (book.get('price') \\\\\\n                     if isinstance(book.get('price'), int) else 0)\\n              )\\ncopyBooks\",\n",
       "  \"copyBooks = books.copy()\\ncopyBooks.sort(key=lambda book : int(book.get('price').replace(',','')) \\\\\\n              if isinstance(book.get('price'), str) \\\\\\n                  and book.get('price').replace(',', '').isdigit() \\\\\\n               else (book.get('price') \\\\\\n                     if isinstance(book.get('price'), int) else 0),\\n               reverse=True\\n              )\\ncopyBooks\",\n",
       "  \"copyBooks = books.copy()\\ncopyBooks.sort(key=lambda book : int(book.get('price').replace(',','')) \\\\\\n              if isinstance(book.get('price'), str) \\\\\\n                  and book.get('price').replace(',', '').isdigit() \\\\\\n               else (book.get('price') \\\\\\n                     if isinstance(book.get('price'), int) else 0),\\n               reverse=True\\n              )\\ncopyBooks\",\n",
       "  \"# map(func, books)\\n'''\\n{'no': 3, 'title': '트럼프', 'writer': '박', 'price': '8,000'}를 매개변수로 받아\\n{'no': 3, 'title': '트럼프', 'writer': '박', 'price': 8000}로 return\\n\\n'''\",\n",
       "  \"def price_parse_int(book):\\n    # book.get('price')를 점ㅈ수 가격으로 바꾸기(방법1)\\n    if isinstance(book.get('price'), str) and book.get('price').replace(',', '').isdigit():\\n        book['price'] = int(book['price'].replace(',', ''))\\n    elif isinstance(book.get('price'), int):\\n        pass\\n    else:\\n        book['price'] = 0\\n    return book\\n    # book2 복사본을 만들어 books.get('price')를 정수 가격으로 바꾸기(방법2)\\n    # return book2\",\n",
       "  \"price_parse_int({'no': 3, 'title': '트럼프', 'writer': '박', 'price': '8,000'})\",\n",
       "  \"price_parse_int({'no': 3, 'title': '트럼프', 'writer': '박', 'price': 8000})\",\n",
       "  \"price_parse_int({'no': 3, 'title': '트럼프', 'writer': '박', 'price': '8000'})\",\n",
       "  \"price_parse_int({'no': 3, 'title': '트럼프', 'writer': '박'})\",\n",
       "  \"price_parse_int({'no': 3, 'title': '트럼프', 'writer': '박', 'price' : ''})\",\n",
       "  \"price_parse_int({'no': 3, 'title': '트럼프', 'writer': '박', 'price' : '8,000'})\",\n",
       "  \"price_parse_int({'no': 3, 'title': '트럼프', 'writer': '박', 'price' : 8000})\",\n",
       "  \"bookTemp = {'no': 3, 'title': '트럼프', 'writer': '박', 'price' : 8000}\\nprice_parse_int(bookTemp)\",\n",
       "  'bookTemp',\n",
       "  \"def price_parse_int(book):\\n    # book.get('price')를 점수 가격으로 바꾸기(방법1)\\n    if isinstance(book.get('price'), str) and book.get('price').replace(',', '').isdigit():\\n        book['price'] = int(book['price'].replace(',', ''))\\n    elif isinstance(book.get('price'), int):\\n        pass\\n    else:\\n        book['price'] = 0\\n    return book\\n    # book2 복사본을 만들어 books.get('price')를 정수 가격으로 바꾸기(방법2)\\n    # return book2\",\n",
       "  \"bookTemp = {'no': 3, 'title': '트럼프', 'writer': '박', 'price' : 8000}\\nprice_parse_int(bookTemp)\",\n",
       "  'bookTemp',\n",
       "  \"def price_parse_int(book):\\n    # book.get('price')를 점수 가격으로 바꾸기(방법1)\\n    if isinstance(book.get('price'), str) and book.get('price').replace(',', '').isdigit():\\n        book['price'] = int(book['price'].replace(',', ''))\\n    elif isinstance(book.get('price'), int):\\n        pass\\n    else:\\n        book['price'] = 0\\n    return book\\n    # book2 복사본을 만들어 books.get('price')를 정수 가격으로 바꾸기(방법2)\\n    # return book2\",\n",
       "  \"bookTemp = {'no': 3, 'title': '트럼프', 'writer': '박', 'price' : 8000}\\nprice_parse_int(bookTemp)\",\n",
       "  'bookTemp',\n",
       "  \"def price_parse_int(book):\\n    return {'no' : book.get('no'),\\n             'title' : book.get('title'),\\n             'writer' : book.get('writer'),\\n             'price' : int(book['price'].replace(',' '')) \\\\\\n                       if isinstance(book.get('price'), str) \\\\\\n                           and book.get('price').replace(',', '').isdigit() \\\\\\n                       else (book.get('price') if isinstance(book.get('price'), int) else 0)}\\n    # book2 복사본을 만들어 books.get('price')를 정수 가격으로 바꾸기(방법2)\\n    # return book2\",\n",
       "  \"bookTemp = {'no': 3, 'title': '트럼프', 'writer': '박', 'price' : 8000}\\nprice_parse_int(bookTemp)\",\n",
       "  'bookTemp',\n",
       "  \"bookTemp = {'no': 3, 'title': '트럼프', 'writer': '박', 'price' : '8000'}\\nprice_parse_int(bookTemp)\",\n",
       "  \"bookTemp = {'no': 3, 'title': '트럼프', 'writer': '박', 'price' : ''}\\nprice_parse_int(bookTemp)\",\n",
       "  'bookTemp',\n",
       "  'bookTemp',\n",
       "  \"bookTemp = {'no': 3, 'title': '트럼프', 'writer': '박', 'price' : ''}\\nprice_parse_int(bookTemp)\",\n",
       "  'bookTemp',\n",
       "  \"def price_parse_int(book):\\n    # book.get('price')를 점수 가격으로 바꾸기(방법1)\\n    if isinstance(book.get('price'), str) and book.get('price').replace(',', '').isdigit():\\n        book['price'] = int(book['price'].replace(',', ''))\\n    elif isinstance(book.get('price'), int):\\n        pass\\n    else:\\n        book['price'] = 0\\n    return book\\n    # book2 복사본을 만들어 books.get('price')를 정수 가격으로 바꾸기(방법2)\\n    # return book2\",\n",
       "  \"def price_parse_int(book):\\n    return {'no' : book.get('no'),\\n             'title' : book.get('title'),\\n             'writer' : book.get('writer'),\\n             'price' : int(book['price'].replace(',' '')) \\\\\\n                       if isinstance(book.get('price'), str) \\\\\\n                           and book.get('price').replace(',', '').isdigit() \\\\\\n                       else (book.get('price') if isinstance(book.get('price'), int) else 0)}\\n    # book2 복사본을 만들어 books.get('price')를 정수 가격으로 바꾸기(방법2)\\n    # return book2\",\n",
       "  \"bookTemp = {'no': 3, 'title': '트럼프', 'writer': '박', 'price' : ''}\\nprice_parse_int(bookTemp)\",\n",
       "  'bookTemp',\n",
       "  \"bookTemp = {'no': 3, 'title': '트럼프', 'writer': '박'}\\nprice_parse_int(bookTemp)\",\n",
       "  'bookTemp',\n",
       "  \"def price_parse_int(book):\\n    return {'no' : book.get('no'),\\n             'title' : book.get('title'),\\n             'writer' : book.get('writer'),\\n             'price' : int(book['price'].replace(',' '')) \\\\\\n                       if isinstance(book.get('price'), str) \\\\\\n                           and book.get('price').replace(',', '').isdigit() \\\\\\n                       else (book.get('price') if isinstance(book.get('price'), int) else 0)}\",\n",
       "  \"bookTemp = {'no': 3, 'title': '트럼프', 'writer': '박'}\\nprice_parse_int(bookTemp)\",\n",
       "  'bookTemp',\n",
       "  \"def price_parse_int(book):\\n    # book.get('price')를 점수 가격으로 바꾸기(방법1)\\n    if isinstance(book.get('price'), str) and book.get('price').replace(',', '').isdigit():\\n        book['price'] = int(book['price'].replace(',', ''))\\n    elif isinstance(book.get('price'), int):\\n        pass\\n    else:\\n        book['price'] = 0\\n    return book\\n    # book2 복사본을 만들어 books.get('price')를 정수 가격으로 바꾸기(방법2)\\n    # return book2\",\n",
       "  \"bookTemp = {'no': 3, 'title': '트럼프', 'writer': '박'}\\nprice_parse_int(bookTemp)\",\n",
       "  'bookTemp',\n",
       "  \"def price_parse_int(book):\\n    return {'no' : book.get('no'),\\n             'title' : book.get('title'),\\n             'writer' : book.get('writer'),\\n             'price' : int(book['price'].replace(',' '')) \\\\\\n                       if isinstance(book.get('price'), str) \\\\\\n                           and book.get('price').replace(',', '').isdigit() \\\\\\n                       else (book.get('price') if isinstance(book.get('price'), int) else 0)}\",\n",
       "  \"bookTemp = {'no': 3, 'title': '트럼프', 'writer': '박'}\\nprice_parse_int(bookTemp)\",\n",
       "  'bookTemp',\n",
       "  \"def price_parse_int(book):\\n    # book.get('price')를 점수 가격으로 바꾸기(방법1)\\n    if isinstance(book.get('price'), str) and book.get('price').replace(',', '').isdigit():\\n        book['price'] = int(book['price'].replace(',', ''))\\n    elif isinstance(book.get('price'), int):\\n        pass\\n    else:\\n        book['price'] = 0\\n    return book\\n    # book2 복사본을 만들어 books.get('price')를 정수 가격으로 바꾸기(방법2)\\n    # return book2\",\n",
       "  \"bookTemp = {'no': 3, 'title': '트럼프', 'writer': '박'}\\nprice_parse_int(bookTemp)\",\n",
       "  'bookTemp',\n",
       "  \"bookTemp = {'no': 3, 'title': '트럼프', 'writer': '박'}\\nreturnBook = price_parse_int(bookTemp)\\nreturnBook\",\n",
       "  'bookTemp',\n",
       "  \"def price_parse_int(book):\\n    return {'no' : book.get('no'),\\n             'title' : book.get('title'),\\n             'writer' : book.get('writer'),\\n             'price' : int(book['price'].replace(',' '')) \\\\\\n                       if isinstance(book.get('price'), str) \\\\\\n                           and book.get('price').replace(',', '').isdigit() \\\\\\n                       else (book.get('price') if isinstance(book.get('price'), int) else 0)}\",\n",
       "  'bookTemp',\n",
       "  \"bookTemp = {'no': 3, 'title': '트럼프', 'writer': '박'}\\nreturnBook = price_parse_int(bookTemp)\\nreturnBook\",\n",
       "  'bookTemp',\n",
       "  \"def price_parse_int(book):\\n    # book.get('price')를 점수 가격으로 바꾸기(방법1)\\n    if isinstance(book.get('price'), str) and book.get('price').replace(',', '').isdigit():\\n        book['price'] = int(book['price'].replace(',', ''))\\n    elif isinstance(book.get('price'), int):\\n        pass\\n    else:\\n        book['price'] = 0\\n    return book\\n    # book2 복사본을 만들어 books.get('price')를 정수 가격으로 바꾸기(방법2)\\n    # return book2\",\n",
       "  \"bookTemp = {'no': 3, 'title': '트럼프', 'writer': '박'}\\nprice_parse_int(bookTemp)\",\n",
       "  'bookTemp',\n",
       "  \"def price_parse_int(book):\\n    return {'no' : book.get('no'),\\n             'title' : book.get('title'),\\n             'writer' : book.get('writer'),\\n             'price' : int(book['price'].replace(',' '')) \\\\\\n                       if isinstance(book.get('price'), str) \\\\\\n                           and book.get('price').replace(',', '').isdigit() \\\\\\n                       else (book.get('price') if isinstance(book.get('price'), int) else 0)}\",\n",
       "  \"bookTemp = {'no': 3, 'title': '트럼프', 'writer': '박'}\\nreturnBook = price_parse_int(bookTemp)\\nreturnBook\",\n",
       "  'bookTemp',\n",
       "  \"# 위를 람다식으로\\nprice_parse_in = lambda book : return {'no' : book.get('no'),\\n             'title' : book.get('title'),\\n             'writer' : book.get('writer'),\\n             'price' : int(book['price'].replace(',' '')) \\\\\\n                       if isinstance(book.get('price'), str) \\\\\\n                           and book.get('price').replace(',', '').isdigit() \\\\\\n                       else (book.get('price') if isinstance(book.get('price'), int) else 0)}\",\n",
       "  \"# 위를 람다식으로\\nprice_parse_in = lambda book : \\n    return {'no' : book.get('no'),\\n             'title' : book.get('title'),\\n             'writer' : book.get('writer'),\\n             'price' : int(book['price'].replace(',' '')) \\\\\\n                       if isinstance(book.get('price'), str) \\\\\\n                           and book.get('price').replace(',', '').isdigit() \\\\\\n                       else (book.get('price') if isinstance(book.get('price'), int) else 0)}\",\n",
       "  \"# 위를 람다식으로\\nprice_parse_in = lambda book : {'no' : book.get('no'),\\n             'title' : book.get('title'),\\n             'writer' : book.get('writer'),\\n             'price' : int(book['price'].replace(',' '')) \\\\\\n                       if isinstance(book.get('price'), str) \\\\\\n                           and book.get('price').replace(',', '').isdigit() \\\\\\n                       else (book.get('price') if isinstance(book.get('price'), int) else 0)}\",\n",
       "  \"# 위를 람다식으로\\nprice_parse_in = lambda book : {'no' : book.get('no'),\\n             'title' : book.get('title'),\\n             'writer' : book.get('writer'),\\n             'price' : int(book['price'].replace(',' '')) \\\\\\n                       if isinstance(book.get('price'), str) \\\\\\n                           and book.get('price').replace(',', '').isdigit() \\\\\\n                       else (book.get('price') if isinstance(book.get('price'), int) else 0)}\",\n",
       "  \"bookTemp = {'no': 3, 'title': '트럼프', 'writer': '박'}\\nreturnBook = price_parse_int(bookTemp)\\nreturnBook\",\n",
       "  'bookTemp',\n",
       "  \"# 위를 람다식으로\\nprice_parse_in = lambda book : \\\\\\n                    {'no' : book.get('no'),\\n                     'title' : book.get('title'),\\n                     'writer' : book.get('writer'),\\n                     'price' : int(book['price'].replace(',' '')) \\\\\\n                       if isinstance(book.get('price'), str) \\\\\\n                           and book.get('price').replace(',', '').isdigit() \\\\\\n                       else (book.get('price') if isinstance(book.get('price'), int) else 0)}\",\n",
       "  \"# 위를 람다식으로\\nprice_parse_in = lambda book : \\\\\\n                    {'no' : book.get('no'),\\n                     'title' : book.get('title'),\\n                     'writer' : book.get('writer'),\\n                     'price' : int(book['price'].replace(',' '')) \\\\\\n                       if isinstance(book.get('price'), str) \\\\\\n                           and book.get('price').replace(',', '').isdigit() \\\\\\n                       else (book.get('price') if isinstance(book.get('price'), int) else 0)}\",\n",
       "  \"bookTemp = {'no': 3, 'title': '트럼프', 'writer': '박'}\\nreturnBook = price_parse_int(bookTemp)\\nreturnBook\",\n",
       "  'bookTemp',\n",
       "  \"# 위를 람다식으로\\nprice_parse_in = lambda book : \\\\\\n                    {'no' : book.get('no'),\\n                     'title' : book.get('title'),\\n                     'writer' : book.get('writer'),\\n                     'price' : int(book['price'].replace(',' '')) \\\\\\n                           if isinstance(book.get('price'), str) \\\\\\n                               and book.get('price').replace(',', '').isdigit() \\\\\\n                           else (book.get('price') if isinstance(book.get('price'), int) else 0)}\",\n",
       "  \"newBooks = list(map(lambda book : \\\\\\n                    {'no' : book.get('no'),\\n                     'title' : book.get('title'),\\n                     'writer' : book.get('writer'),\\n                     'price' : int(book['price'].replace(',' '')) \\\\\\n                           if isinstance(book.get('price'), str) \\\\\\n                               and book.get('price').replace(',', '').isdigit() \\\\\\n                           else (book.get('price') if isinstance(book.get('price'), int) else 0)\\n                    },\\n                     books\\n                ))\",\n",
       "  \"# 위를 람다식으로\\nprice_parse_in = lambda book : \\\\\\n                    {'no' : book.get('no'),\\n                     'title' : book.get('title'),\\n                     'writer' : book.get('writer'),\\n                     'price' : int(book['price'].replace(',' '')) \\\\\\n                           if isinstance(book.get('price'), str) \\\\\\n                               and book.get('price').replace(',', '').isdigit() \\\\\\n                           else (book.get('price') if isinstance(book.get('price'), int) else 0)\\n                    }\",\n",
       "  \"newBooks = list(map(lambda book : \\\\\\n                    {'no' : book.get('no'),\\n                     'title' : book.get('title'),\\n                     'writer' : book.get('writer'),\\n                     'price' : int(book['price'].replace(',' '')) \\\\\\n                           if isinstance(book.get('price'), str) \\\\\\n                               and book.get('price').replace(',', '').isdigit() \\\\\\n                           else (book.get('price') if isinstance(book.get('price'), int) else 0)\\n                    },\\n                     books\\n                ))\",\n",
       "  \"newBooks = list(map(lambda book : {'no' : book.get('no'),\\n                     'title' : book.get('title'),\\n                     'writer' : book.get('writer'),\\n                     'price' : int(book['price'].replace(',' '')) \\\\\\n                           if isinstance(book.get('price'), str) \\\\\\n                               and book.get('price').replace(',', '').isdigit() \\\\\\n                           else (book.get('price') if isinstance(book.get('price'), int) else 0)\\n                    },\\n                     books\\n                ))\",\n",
       "  \"newBooks = list(map(lambda book : {'no' : book.get('no'),\\n                         'title' : book.get('title'),\\n                         'writer' : book.get('writer'),\\n                         'price' : int(book['price'].replace(',' '')) \\\\\\n                               if isinstance(book.get('price'), str) \\\\\\n                                   and book.get('price').replace(',', '').isdigit() \\\\\\n                               else (book.get('price') if isinstance(book.get('price'), int) else 0)\\n                    },\\n                     books\\n                ))\",\n",
       "  \"newBooks = list(map(lambda book : \\\\\\n                    {'no' : book.get('no'),\\n                     'title' : book.get('title'),\\n                     'writer' : book.get('writer'),\\n                     'price' : int(book['price'].replace(',' '')) \\\\\\n                           if isinstance(book.get('price'), str) \\\\\\n                               and book.get('price').replace(',', '').isdigit() \\\\\\n                           else (book.get('price') if isinstance(book.get('price'), int) else 0)\\n                    },\\n                     books\\n                ))\",\n",
       "  \"newBooks = list(map(lambda book : \\\\\\n                    {'no' : book.get('no'),\\n                     'title' : book.get('title'),\\n                     'writer' : book.get('writer'),\\n                     'price' : int(book['price'].replace(',' '')) \\\\\\n                           if isinstance(book.get('price'), str) \\\\\\n                               and book.get('price').replace(',', '').isdigit() \\\\\\n                           else (book.get('price') if isinstance(book.get('price'), int) else 0)\\n                    },\\n                     books\\n                ))\",\n",
       "  \"def price_parse_int(book):\\n    return {'no' : book.get('no'),\\n             'title' : book.get('title'),\\n             'writer' : book.get('writer'),\\n             'price' : int(book['price'].replace(',' '')) \\\\\\n                       if isinstance(book.get('price'), str) \\\\\\n                           and book.get('price').replace(',', '').isdigit() \\\\\\n                       else (book.get('price') if isinstance(book.get('price'), int) else 0)}\",\n",
       "  \"# 위를 람다식으로\\nprice_parse_in = lambda book : \\\\\\n                    {'no' : book.get('no'),\\n                     'title' : book.get('title'),\\n                     'writer' : book.get('writer'),\\n                     'price' : int(book['price'].replace(',' '')) \\\\\\n                           if isinstance(book.get('price'), str) \\\\\\n                               and book.get('price').replace(',', '').isdigit() \\\\\\n                           else (book.get('price') if isinstance(book.get('price'), int) else 0)\\n                    }\",\n",
       "  \"bookTemp = {'no': 3, 'title': '트럼프', 'writer': '박'}\\nreturnBook = price_parse_int(bookTemp)\\nreturnBook\",\n",
       "  'bookTemp',\n",
       "  \"newBooks = list(map(lambda book : \\\\\\n                    {'no' : book.get('no'),\\n                     'title' : book.get('title'),\\n                     'writer' : book.get('writer'),\\n                     'price' : int(book['price'].replace(',' '')) \\\\\\n                           if isinstance(book.get('price'), str) \\\\\\n                               and book.get('price').replace(',', '').isdigit() \\\\\\n                           else (book.get('price') if isinstance(book.get('price'), int) else 0)\\n                    },\\n                     books\\n                ))\",\n",
       "  \"# 위를 람다식으로\\nprice_parse_in = lambda book : \\\\\\n                    {'no' : book.get('no'),\\n                     'title' : book.get('title'),\\n                     'writer' : book.get('writer'),\\n                     'price' : int(book['price'].replace(',' '')) \\\\\\n                           if isinstance(book.get('price'), str) \\\\\\n                               and book.get('price').replace(',', '').isdigit() \\\\\\n                           else (book.get('price') if isinstance(book.get('price'), int) else 0)\\n                    }\",\n",
       "  \"bookTemp = {'no': 3, 'title': '트럼프', 'writer': '박'}\\nreturnBook = price_parse_int(bookTemp)\\nreturnBook\",\n",
       "  'bookTemp',\n",
       "  \"def price_parse_int(book):\\n    return {'no' : book.get('no'),\\n             'title' : book.get('title'),\\n             'writer' : book.get('writer'),\\n             'price' : int(book['price'].replace(',', '')) \\\\\\n                       if isinstance(book.get('price'), str) \\\\\\n                           and book.get('price').replace(',', '').isdigit() \\\\\\n                       else (book.get('price') if isinstance(book.get('price'), int) else 0)}\",\n",
       "  \"# 위를 람다식으로\\nprice_parse_in = lambda book : \\\\\\n                    {'no' : book.get('no'),\\n                     'title' : book.get('title'),\\n                     'writer' : book.get('writer'),\\n                     'price' : int(book['price'].replace(',' '')) \\\\\\n                           if isinstance(book.get('price'), str) \\\\\\n                               and book.get('price').replace(',', '').isdigit() \\\\\\n                           else (book.get('price') if isinstance(book.get('price'), int) else 0)\\n                    }\",\n",
       "  \"bookTemp = {'no': 3, 'title': '트럼프', 'writer': '박'}\\nreturnBook = price_parse_int(bookTemp)\\nreturnBook\",\n",
       "  'bookTemp',\n",
       "  \"# 위를 람다식으로\\nprice_parse_in = lambda book : \\\\\\n                    {'no' : book.get('no'),\\n                     'title' : book.get('title'),\\n                     'writer' : book.get('writer'),\\n                     'price' : int(book['price'].replace(',', '')) \\\\\\n                           if isinstance(book.get('price'), str) \\\\\\n                               and book.get('price').replace(',', '').isdigit() \\\\\\n                           else (book.get('price') if isinstance(book.get('price'), int) else 0)\\n                    }\",\n",
       "  \"bookTemp = {'no': 3, 'title': '트럼프', 'writer': '박'}\\nreturnBook = price_parse_int(bookTemp)\\nreturnBook\",\n",
       "  'bookTemp',\n",
       "  \"newBooks = list(map(lambda book : \\\\\\n                    {'no' : book.get('no'),\\n                     'title' : book.get('title'),\\n                     'writer' : book.get('writer'),\\n                     'price' : int(book['price'].replace(',', '')) \\\\\\n                           if isinstance(book.get('price'), str) \\\\\\n                               and book.get('price').replace(',', '').isdigit() \\\\\\n                           else (book.get('price') if isinstance(book.get('price'), int) else 0)\\n                    },\\n                     books\\n                ))\",\n",
       "  \"newBooks = list(map(lambda book : \\\\\\n                    {'no' : book.get('no'),\\n                     'title' : book.get('title'),\\n                     'writer' : book.get('writer'),\\n                     'price' : int(book['price'].replace(',', '')) \\\\\\n                           if isinstance(book.get('price'), str) \\\\\\n                               and book.get('price').replace(',', '').isdigit() \\\\\\n                           else (book.get('price') if isinstance(book.get('price'), int) else 0)\\n                    },\\n                     books\\n                ))\",\n",
       "  'newBooks',\n",
       "  \"def price_parse_int(book):\\n    return {'no' : book.get('no'),\\n             'title' : book.get('title'),\\n             'writer' : book.get('writer'),\\n             'price' : int(book['price'].replace(',', '')) \\\\\\n                       if isinstance(book.get('price'), str) \\\\\\n                           and book.get('price').replace(',', '').isdigit() \\\\\\n                       else (book.get('price') if isinstance(book.get('price'), int) else 0)}\",\n",
       "  \"# 위를 람다식으로\\nprice_parse_in = lambda book : \\\\\\n                    {'no' : book.get('no'),\\n                     'title' : book.get('title'),\\n                     'writer' : book.get('writer'),\\n                     'price' : int(book['price'].replace(',', '')) \\\\\\n                           if isinstance(book.get('price'), str) \\\\\\n                               and book.get('price').replace(',', '').isdigit() \\\\\\n                           else (book.get('price') if isinstance(book.get('price'), int) else 0)\\n                    }\",\n",
       "  \"bookTemp = {'no': 3, 'title': '트럼프', 'writer': '박'}\\nreturnBook = price_parse_int(bookTemp)\\nreturnBook\",\n",
       "  'bookTemp',\n",
       "  \"def price_parse_int(book):\\n    return {'no' : book.get('no'),\\n             'title' : book.get('title'),\\n             'writer' : book.get('writer'),\\n             'price' : int(book['price'].replace(',', '')) \\\\\\n                       if isinstance(book.get('price'), str) \\\\\\n                           and book.get('price').replace(',', '').isdigit() \\\\\\n                       else (book.get('price') if isinstance(book.get('price'), int) else 0)}\",\n",
       "  \"# 위를 람다식으로\\nprice_parse_in = lambda book : \\\\\\n                    {'no' : book.get('no'),\\n                     'title' : book.get('title'),\\n                     'writer' : book.get('writer'),\\n                     'price' : int(book['price'].replace(',', '')) \\\\\\n                           if isinstance(book.get('price'), str) \\\\\\n                               and book.get('price').replace(',', '').isdigit() \\\\\\n                           else (book.get('price') if isinstance(book.get('price'), int) else 0)\\n                    }\",\n",
       "  \"bookTemp = {'no': 3, 'title': '트럼프', 'writer': '박'}\\nreturnBook = price_parse_int(bookTemp)\\nreturnBook\",\n",
       "  'bookTemp',\n",
       "  \"newBooks = list(map(lambda book : \\\\\\n                    {'no' : book.get('no'),\\n                     'title' : book.get('title'),\\n                     'writer' : book.get('writer'),\\n                     'price' : int(book['price'].replace(',', '')) \\\\\\n                           if isinstance(book.get('price'), str) \\\\\\n                               and book.get('price').replace(',', '').isdigit() \\\\\\n                           else (book.get('price') if isinstance(book.get('price'), int) else 0)\\n                    },\\n                     books\\n                ))\",\n",
       "  'newBooks',\n",
       "  \"# 예제3 : \\n'''\\nmembers = [{'name' : '홍길동', 'birth' : '2000-01-01'},\\n           {'name' : '신길동', 'birth' : '1995-12-18'}]를\\nmembers = [{'name' : '홍길동', 'birth' : '2000-01-01', 'year' : 2000, 'month' : 1, 'day' : 1},\\n           {'name' : '신길동', 'birth' : '1995-12-18', 'year' : 1995, 'month' : 12, 'day' : 18}]로 바꿉니다\\n'''\",\n",
       "  \"books = [{'no' : 1, 'title' : '소년이 온다', 'writer' : '한강', 'price' : '13,500'},\\n         {'no' : 3, 'title' : '트럼프2.0시대', 'writer' : '박종훈', 'price' : '18,000'},\\n         {'no' : 2, 'title' : '트렌트코리아2025', 'writer' : '김난도', 'price' : '9,100'},\\n         {'no' : 4, 'title' : '가격잘못', 'writer' : '홍길동', 'price' : 'ㅁ'},\\n         {'no' : 6, 'title' : '가격숫자', 'writer' : '신길동', 'price' : 9200},\\n         {'no' : 5, 'title' : '가격없음', 'writer' : '이길동'}]\",\n",
       "  \"testFunc = lambda book : int(book.get('price').replace(',','')) \\\\\\n            if isinstance(book.get('price'), str) \\\\\\n                and book.get('price').replace(',', '').isdigit() \\\\\\n            else (book.get('price') if isinstance(book.get('price'), int) \\\\\\n                  else 0)\\n\\n[testFunc(book) for book in books]\",\n",
       "  \"copyBooks = books.copy()\\ncopyBooks.sort(key=lambda book : int(book.get('price').replace(',','')) \\\\\\n              if isinstance(book.get('price'), str) \\\\\\n                  and book.get('price').replace(',', '').isdigit() \\\\\\n               else (book.get('price') \\\\\\n                     if isinstance(book.get('price'), int) else 0),\\n               reverse=True\\n              )\\ncopyBooks\",\n",
       "  \"# map(func, books)\\n'''\\n{'no': 3, 'title': '트럼프', 'writer': '박', 'price': '8,000'}를 매개변수로 받아\\n{'no': 3, 'title': '트럼프', 'writer': '박', 'price': 8000}로 return\\n\\n'''\",\n",
       "  \"def price_parse_int(book):\\n    # book.get('price')를 점수 가격으로 바꾸기(방법1)\\n    if isinstance(book.get('price'), str) and book.get('price').replace(',', '').isdigit():\\n        book['price'] = int(book['price'].replace(',', ''))\\n    elif isinstance(book.get('price'), int):\\n        pass\\n    else:\\n        book['price'] = 0\\n    return book\\n    # book2 복사본을 만들어 books.get('price')를 정수 가격으로 바꾸기(방법2)\\n    # return book2\",\n",
       "  \"bookTemp = {'no': 3, 'title': '트럼프', 'writer': '박'}\\nprice_parse_int(bookTemp)\",\n",
       "  'bookTemp',\n",
       "  \"def price_parse_int(book):\\n    return {'no' : book.get('no'),\\n             'title' : book.get('title'),\\n             'writer' : book.get('writer'),\\n             'price' : int(book['price'].replace(',', '')) \\\\\\n                       if isinstance(book.get('price'), str) \\\\\\n                           and book.get('price').replace(',', '').isdigit() \\\\\\n                       else (book.get('price') if isinstance(book.get('price'), int) else 0)}\",\n",
       "  \"# 위를 람다식으로\\nprice_parse_in = lambda book : \\\\\\n                    {'no' : book.get('no'),\\n                     'title' : book.get('title'),\\n                     'writer' : book.get('writer'),\\n                     'price' : int(book['price'].replace(',', '')) \\\\\\n                           if isinstance(book.get('price'), str) \\\\\\n                               and book.get('price').replace(',', '').isdigit() \\\\\\n                           else (book.get('price') if isinstance(book.get('price'), int) else 0)\\n                    }\",\n",
       "  \"bookTemp = {'no': 3, 'title': '트럼프', 'writer': '박'}\\nreturnBook = price_parse_int(bookTemp)\\nreturnBook\",\n",
       "  'bookTemp',\n",
       "  \"newBooks = list(map(lambda book : \\\\\\n                    {'no' : book.get('no'),\\n                     'title' : book.get('title'),\\n                     'writer' : book.get('writer'),\\n                     'price' : int(book['price'].replace(',', '')) \\\\\\n                           if isinstance(book.get('price'), str) \\\\\\n                               and book.get('price').replace(',', '').isdigit() \\\\\\n                           else (book.get('price') if isinstance(book.get('price'), int) else 0)\\n                    },\\n                     books\\n                ))\",\n",
       "  'newBooks',\n",
       "  \"books = [{'no' : 1, 'title' : '소년이 온다', 'writer' : '한강', 'price' : '13,500'},\\n         {'no' : 3, 'title' : '트럼프2.0시대', 'writer' : '박종훈', 'price' : '18,000'},\\n         {'no' : 2, 'title' : '트렌트코리아2025', 'writer' : '김난도', 'price' : '9,100'},\\n         {'no' : 4, 'title' : '가격잘못', 'writer' : '홍길동', 'price' : 'ㅁ'},\\n         {'no' : 6, 'title' : '가격숫자', 'writer' : '신길동', 'price' : 9200},\\n         {'no' : 5, 'title' : '가격없음', 'writer' : '이길동'}]\",\n",
       "  \"copyBooks = books.copy()\\ncopyBooks.sort(key=lambda book : int(book.get('price').replace(',','')) \\\\\\n              if isinstance(book.get('price'), str) \\\\\\n                  and book.get('price').replace(',', '').isdigit() \\\\\\n               else (book.get('price') \\\\\\n                     if isinstance(book.get('price'), int) else 0),\\n               reverse=True\\n              )\\ncopyBooks\",\n",
       "  \"newBooks = list(map(lambda book : \\\\\\n                    {'no' : book.get('no'),\\n                     'title' : book.get('title'),\\n                     'writer' : book.get('writer'),\\n                     'price' : int(book['price'].replace(',', '')) \\\\\\n                           if isinstance(book.get('price'), str) \\\\\\n                               and book.get('price').replace(',', '').isdigit() \\\\\\n                           else (book.get('price') if isinstance(book.get('price'), int) else 0)\\n                    },\\n                     books\\n                ))\",\n",
       "  'newBooks',\n",
       "  \"books = [{'no' : 1, 'title' : '소년이 온다', 'writer' : '한강', 'price' : '13,500'},\\n         {'no' : 3, 'title' : '트럼프2.0시대', 'writer' : '박종훈', 'price' : '18,000'},\\n         {'no' : 2, 'title' : '트렌트코리아2025', 'writer' : '김난도', 'price' : '9,100'},\\n         {'no' : 4, 'title' : '가격잘못', 'writer' : '홍길동', 'price' : 'ㅁ'},\\n         {'no' : 6, 'title' : '가격숫자', 'writer' : '신길동', 'price' : 9200},\\n         {'no' : 5, 'title' : '가격없음', 'writer' : '이길동'}]\",\n",
       "  \"# copyBooks = books.copy()\\nbooks.sort(key=lambda book : int(book.get('price').replace(',','')) \\\\\\n              if isinstance(book.get('price'), str) \\\\\\n                  and book.get('price').replace(',', '').isdigit() \\\\\\n               else (book.get('price') \\\\\\n                     if isinstance(book.get('price'), int) else 0),\\n               reverse=True\\n              )\\nbooks\",\n",
       "  \"newBooks = list(map(lambda book : \\\\\\n                    {'no' : book.get('no'),\\n                     'title' : book.get('title'),\\n                     'writer' : book.get('writer'),\\n                     'price' : int(book['price'].replace(',', '')) \\\\\\n                           if isinstance(book.get('price'), str) \\\\\\n                               and book.get('price').replace(',', '').isdigit() \\\\\\n                           else (book.get('price') if isinstance(book.get('price'), int) else 0)\\n                    },\\n                     books\\n                ))\",\n",
       "  'newBooks',\n",
       "  \"copyBooks = books.copy()\\ncopyBooks.sort(key=lambda book : int(book.get('price').replace(',','')) \\\\\\n              if isinstance(book.get('price'), str) \\\\\\n                  and book.get('price').replace(',', '').isdigit() \\\\\\n               else (book.get('price') \\\\\\n                     if isinstance(book.get('price'), int) else 0),\\n               reverse=True\\n              )\\ncopyBooks\",\n",
       "  \"# 예제3 : \\n'''\\nmembers = [{'name' : '홍길동', 'birth' : '2000-01-01'},\\n           {'name' : '신길동', 'birth' : '1995-12-18'}]를\\nmembers = [{'name' : '홍길동', 'birth' : '2000-01-01', 'year' : 2000, 'month' : 1, 'day' : 1},\\n           {'name' : '신길동', 'birth' : '1995-12-18', 'year' : 1995, 'month' : 12, 'day' : 18}]로 바꾸기\\n'''\",\n",
       "  'splited_members = members[birth].split()\\nsplited_members',\n",
       "  \"members = [{'name' : '홍길동', 'birth' : '2000-01-01'},\\n           {'name' : '신길동', 'birth' : '1995-12-18'}]\",\n",
       "  'splited_members = members[birth].split()\\nsplited_members',\n",
       "  \"splited_members = members['birth'].split()\\nsplited_members\",\n",
       "  \"splited_members = members.get('birth').split()\\nsplited_members\",\n",
       "  \"splited_members = members.get('birth').split()\\nsplited_members\",\n",
       "  \"splited_members = members['birth'].split()\\nsplited_members\",\n",
       "  \"splited_members = list(members['birth'].split())\\nsplited_members\",\n",
       "  \"splited_members = isinstance(members['birth'].split(), str)\\nsplited_members\",\n",
       "  \"splited_members = members['birth'].split()\\nsplited_members\",\n",
       "  \"splited_members = members['birth'].split()\\nsplited_members\\nmembers\",\n",
       "  \"splited_members = members['birth'].split()\\n\\nmembers\",\n",
       "  'members',\n",
       "  \"# 예제3 : \\n'''\\nmembers = [{'name' : '홍길동', 'birth' : '2000-01-01'},\\n           {'name' : '신길동', 'birth' : '1995-12-18'}]를\\nmembers = [{'name' : '홍길동', 'year' : 2000, 'month' : 1, 'day' : 1},\\n           {'name' : '신길동', 'year' : 1995, 'month' : 12, 'day' : 18}]로 바꾸기\\n'''\",\n",
       "  'splited_members = members[1].split()\\nsplited_members',\n",
       "  \"members = [{'name' : '홍길동', 'birth' : '2000-01-01'},\\n           {'name' : '신길동', 'birth' : '1995-12-18'}]\",\n",
       "  'members',\n",
       "  \"# '1995-01-01'을 받아 {'year' : 1995, 'month' : 1, 'day' : 1}을 return하는 함수\\ndef split_data(date):\\n    split_data = date.split('-')\\n    return {'year' : split_data[0],\\n             'month' : split_data[1],\\n             'day' : split_data[2],}\",\n",
       "  \"split_data('2001-01-08')\",\n",
       "  \"# '1995-01-01'을 받아 {'year' : 1995, 'month' : 1, 'day' : 1}을 return하는 함수\\ndef split_data(date):\\n    split_data = date.split('-')\\n    return {'year' : int(split_data[0]),\\n             'month' : int(split_data[1]),\\n             'day' : int(split_data[2]),}\",\n",
       "  \"split_data('2001-01-08')\",\n",
       "  \"# '1995-01-01'을 받아 {'year' : 1995, 'month' : 1, 'day' : 1}을 return하는 함수\\ndef split_data(date):\\n    split_data = date.split('-')\\n    return {'year' : int(split_data[0]),\\n             'month' : int(split_data[1]),\\n             'day' : int(split_data[2])}\",\n",
       "  \"def split_birth(member):  # 'name', 'birth'\\n    return {\\n        'name' : member.get('name'),\\n        'year' : int(member.get('birth').split('-')[0]),\\n        'month' : int(member.get('birth').split('-')[1]),\\n        'day' : int(member.get('birth').split('-')[2])\\n    }\",\n",
       "  \"member = [{'name' : '홍길동', 'birth' : '2000-01-01'},\\n           {'name' : '신길동', 'birth' : '1995-12-18'}]\",\n",
       "  \"member = [{'name' : '홍길동', 'birth' : '2000-01-01'},\\n           {'name' : '신길동', 'birth' : '1995-12-18'}]\",\n",
       "  \"# '1995-01-01'을 받아 {'year' : 1995, 'month' : 1, 'day' : 1}을 return하는 함수\\ndef split_data(date):\\n    split_data = date.split('-')\\n    return {'year' : int(split_data[0]),\\n             'month' : int(split_data[1]),\\n             'day' : int(split_data[2])}\",\n",
       "  \"split_data('2001-01-08')\",\n",
       "  \"def split_birth(member):  # 'name', 'birth'\\n    return {\\n        'name' : member.get('name'),\\n        'year' : int(member.get('birth').split('-')[0]),\\n        'month' : int(member.get('birth').split('-')[1]),\\n        'day' : int(member.get('birth').split('-')[2])\\n    }\",\n",
       "  \"split_birth){'name' : '홍길동', 'birth' : '1999-12-16'}\",\n",
       "  \"split_birth({'name' : '홍길동', 'birth' : '1999-12-16'})\",\n",
       "  \"# 예제3 : \\n'''\\nmember = [{'name' : '홍길동', 'birth' : '2000-01-01'},\\n           {'name' : '신길동', 'birth' : '1995-12-18'}]를\\nmember = [{'name' : '홍길동', 'year' : 2000, 'month' : 1, 'day' : 1},\\n           {'name' : '신길동', 'year' : 1995, 'month' : 12, 'day' : 18}]로 바꾸기\\n'''\",\n",
       "  \"# 예제3 : \\n'''\\nmember = [{'name' : '홍길동', 'birth' : '2000-01-01'},\\n           {'name' : '신길동', 'birth' : '1995-12-18'}]를\\nmember = [{'name' : '홍길동', 'year' : 2000, 'month' : 1, 'day' : 1},\\n           {'name' : '신길동', 'year' : 1995, 'month' : 12, 'day' : 18}]로 바꾸기\\n'''\",\n",
       "  \"# 예제3 : \\n'''\\nmember = [{'name' : '홍길동', 'birth' : '2000-01-01'},\\n           {'name' : '신길동', 'birth' : '1995-12-18'}]를\\nmember = [{'name' : '홍길동', 'year' : 2000, 'month' : 1, 'day' : 1},\\n           {'name' : '신길동', 'year' : 1995, 'month' : 12, 'day' : 18}]로 바꾸기\\n'''\",\n",
       "  \"# 예제3 : \\n'''\\nmember = [{'name' : '홍길동', 'birth' : '2000-01-01'},\\n           {'name' : '신길동', 'birth' : '1995-12-18'}]를\\nmember = [{'name' : '홍길동', 'year' : 2000, 'month' : 1, 'day' : 1},\\n           {'name' : '신길동', 'year' : 1995, 'month' : 12, 'day' : 18}]로 바꾸기\\n'''\",\n",
       "  \"member = [{'name' : '홍길동', 'birth' : '2000-01-01'},\\n           {'name' : '신길동', 'birth' : '1995-12-18'}]\",\n",
       "  \"# '1995-01-01'을 받아 {'year' : 1995, 'month' : 1, 'day' : 1}을 return하는 함수\\ndef split_data(date):\\n    split_data = date.split('-')\\n    return {'year' : int(split_data[0]),\\n             'month' : int(split_data[1]),\\n             'day' : int(split_data[2])}\",\n",
       "  \"split_data('2001-01-08')\",\n",
       "  \"def split_birth(member):  # 'name', 'birth'\\n    return {\\n        'name' : member.get('name'),\\n        'year' : int(member.get('birth').split('-')[0]),\\n        'month' : int(member.get('birth').split('-')[1]),\\n        'day' : int(member.get('birth').split('-')[2])\\n    }\",\n",
       "  \"split_birth({'name' : '홍길동', 'birth' : '1999-12-16'})\",\n",
       "  \"split_birth = lambda member : {\\n    'name' : member.get('name'),\\n    'year' : int(member.get('birth').split('-')[0]),\\n    'month' : int(member.get('birth').split('-')[1]),\\n    'day' : int(member.get('birth').split('-')[2])\\n}\",\n",
       "  \"split_birth({'name' : '홍길동', 'birth' : '1999-12-16'})\",\n",
       "  \"split_birth = lambda member : {\\n    'name' : member['name'],\\n    'year' : int(member.get('birth').split('-')[0]),\\n    'month' : int(member.get('birth').split('-')[1]),\\n    'day' : int(member.get('birth').split('-')[2])\\n}\",\n",
       "  \"split_birth({'name' : '홍길동', 'birth' : '1999-12-16'})\",\n",
       "  \"members = list(map(lambda member : {  # 람다식\\n    'name' : member['name'],\\n    'year' : int(member.get('birth').split('-')[0]),\\n    'month' : int(member.get('birth').split('-')[1]),\\n    'day' : int(member.get('birth').split('-')[2])\\n}, members))\",\n",
       "  \"members = list(map(lambda member : {  # 람다식\\n    'name' : member['name'],\\n    'year' : int(member.get('birth').split('-')[0]),\\n    'month' : int(member.get('birth').split('-')[1]),\\n    'day' : int(member.get('birth').split('-')[2])\\n}, members))\\nmembers\",\n",
       "  \"member = list(map(lambda member : {  # 람다식\\n    'name' : member['name'],\\n    'year' : int(member.get('birth').split('-')[0]),\\n    'month' : int(member.get('birth').split('-')[1]),\\n    'day' : int(member.get('birth').split('-')[2])\\n}, member))\\nmember\",\n",
       "  \"members = list(map(lambda members : {  # 람다식\\n    'name' : members['name'],\\n    'year' : int(members.get('birth').split('-')[0]),\\n    'month' : int(members.get('birth').split('-')[1]),\\n    'day' : int(members.get('birth').split('-')[2])\\n}, members))\\nmembers\",\n",
       "  \"# 예제3 : \\n'''\\nmembers = [{'name' : '홍길동', 'birth' : '2000-01-01'},\\n           {'name' : '신길동', 'birth' : '1995-12-18'}]를\\nmembers = [{'name' : '홍길동', 'year' : 2000, 'month' : 1, 'day' : 1},\\n           {'name' : '신길동', 'year' : 1995, 'month' : 12, 'day' : 18}]로 바꾸기\\n'''\",\n",
       "  \"# 예제3 : \\n'''\\nmembers = [{'name' : '홍길동', 'birth' : '2000-01-01'},\\n           {'name' : '신길동', 'birth' : '1995-12-18'}]를\\nmembers = [{'name' : '홍길동', 'year' : 2000, 'month' : 1, 'day' : 1},\\n           {'name' : '신길동', 'year' : 1995, 'month' : 12, 'day' : 18}]로 바꾸기\\n'''\",\n",
       "  \"members = [{'name' : '홍길동', 'birth' : '2000-01-01'},\\n           {'name' : '신길동', 'birth' : '1995-12-18'}]\",\n",
       "  \"# '1995-01-01'을 받아 {'year' : 1995, 'month' : 1, 'day' : 1}을 return하는 함수\\ndef split_data(date):\\n    split_data = date.split('-')\\n    return {'year' : int(split_data[0]),\\n             'month' : int(split_data[1]),\\n             'day' : int(split_data[2])}\",\n",
       "  \"split_data('2001-01-08')\",\n",
       "  \"def split_birth(member):  # 'name', 'birth'\\n    return {\\n        'name' : members.get('name'),\\n        'year' : int(members.get('birth').split('-')[0]),\\n        'month' : int(members.get('birth').split('-')[1]),\\n        'day' : int(members.get('birth').split('-')[2])\\n    }\",\n",
       "  \"split_birth = lambda members : {  # 람다식\\n    'name' : members['name'],\\n    'year' : int(members.get('birth').split('-')[0]),\\n    'month' : int(members.get('birth').split('-')[1]),\\n    'day' : int(members.get('birth').split('-')[2])\\n}\",\n",
       "  \"split_birth({'name' : '홍길동', 'birth' : '1999-12-16'})\",\n",
       "  \"split_birth = lambda members : {  # 람다식\\n    'name' : members['name'],\\n    'year' : int(members.get('birth').split('-')[0]),\\n    'month' : int(members.get('birth').split('-')[1]),\\n    'day' : int(members.get('birth').split('-')[2])\\n}\",\n",
       "  \"split_birth({'name' : '홍길동', 'birth' : '1999-12-16'})\",\n",
       "  \"def split_birth(members):  # 'name', 'birth'\\n    return {\\n        'name' : members.get('name'),\\n        'year' : int(members.get('birth').split('-')[0]),\\n        'month' : int(members.get('birth').split('-')[1]),\\n        'day' : int(members.get('birth').split('-')[2])\\n    }\",\n",
       "  \"split_birth = lambda members : {  # 람다식\\n    'name' : members['name'],\\n    'year' : int(members.get('birth').split('-')[0]),\\n    'month' : int(members.get('birth').split('-')[1]),\\n    'day' : int(members.get('birth').split('-')[2])\\n}\",\n",
       "  \"split_birth({'name' : '홍길동', 'birth' : '1999-12-16'})\",\n",
       "  \"members = list(map(lambda members : {  # 람다식\\n    'name' : members['name'],\\n    'year' : int(members.get('birth').split('-')[0]),\\n    'month' : int(members.get('birth').split('-')[1]),\\n    'day' : int(members.get('birth').split('-')[2])\\n}, members))\\nmembers\",\n",
       "  \"def join_date(date):  # {'year': 1995, 'month': 12, 'day': 18} => '1995-12-18'\\n    '-'.join(date)    \",\n",
       "  \"join_date({'year': 1995, 'month': 12, 'day': 18})\",\n",
       "  \"def join_date(date):  # {'year': 1995, 'month': 12, 'day': 18} => '1995-12-18'\\n    return '-'.join(date)    \",\n",
       "  \"def join_date(date):  # {'year': 1995, 'month': 12, 'day': 18} => '1995-12-18'\\n    return '-'.join(date)    \",\n",
       "  \"join_date({'year': 1995, 'month': 12, 'day': 18})\",\n",
       "  \"def join_date(date):  # {'year': 1995, 'month': 12, 'day': 18} => '1995-12-18'\\n    return '-'.join(date).value()\",\n",
       "  \"def join_date(date):  # {'year': 1995, 'month': 12, 'day': 18} => '1995-12-18'\\n    return '-'.join(date).value()\",\n",
       "  \"join_date({'year': 1995, 'month': 12, 'day': 18})\",\n",
       "  \"def join_date(date):  # {'year': 1995, 'month': 12, 'day': 18} => '1995-12-18'\\n    return '-'.join(date).values()\",\n",
       "  \"join_date({'year': 1995, 'month': 12, 'day': 18})\",\n",
       "  \"def join_date(date):  # {'year': 1995, 'month': 12, 'day': 18} => '1995-12-18'\\n    return '-'.join(date.values())\",\n",
       "  \"join_date({'year': 1995, 'month': 12, 'day': 18})\",\n",
       "  \"def join_date(date):  # {'year': 1995, 'month': 12, 'day': 18} => '1995-12-18'\\n    return '{}-{}-{}'.format(date['year'], date['month'], date['day'])\",\n",
       "  \"join_date({'year': 1995, 'month': 12, 'day': 18})\",\n",
       "  \"def join_date(date):  # {'year': 1995, 'month': 12, 'day': 18} => '1995-12-18'\\n    return '{}-{:02}-{:02}'.format(date['year'], date['month'], date['day'])\",\n",
       "  \"join_date({'year': 1995, 'month': 12, 'day': 18})\",\n",
       "  \"join_date({'year': 1995, 'month': 1, 'day': 1})\",\n",
       "  \"def join_date(date):  # {'year': 1995, 'month': 12, 'day': 18} => '1995-12-18'\\n    return '{year}-{month:02}-{day:02}'.format(year=date['year'], month=date['month'], day=date['day'])\",\n",
       "  \"def join_date(date):  # {'year': 1995, 'month': 12, 'day': 18} => '1995-12-18'\\n    return '{year}-{month:02}-{day:02}'.format(year=date['year'], month=date['month'], day=date['day'])\",\n",
       "  \"join_date({'year': 1995, 'month': 1, 'day': 1})\",\n",
       "  \"def join_date(date):  # {'year': 1995, 'month': 12, 'day': 18} => '1995-12-18'\\n    return '{year}-{month:02}-{day:02}'.format(**date)\\n        # year=date['year'], month=date['month'], day=date['day'])\",\n",
       "  \"join_date({'year': 1995, 'month': 1, 'day': 1})\",\n",
       "  \"def join_birth(members):\\n    name = members['name'],\\n    del members['name']\\n    print(members)\",\n",
       "  \"join_birth({'name' : 'kim', 'year' : 1995, 'month' : 1, 'day' : 2})\",\n",
       "  \"def join_birth(members):\\n    name = members['name'],\\n    del members['name']\\n    # print(members)  # 빈 곳에 0 반드시 2자리\\n    join_date = '{year}-{month:02}-{day:02}'.format(**date)  # 딕셔너리 데이터 언패킹\\n    return {'name' : name,\\n             'birth' : join_date}\",\n",
       "  \"join_birth({'name' : 'kim', 'year' : 1995, 'month' : 1, 'day' : 2})\",\n",
       "  \"def join_birth(members):\\n    name = members['name'],\\n    del members['name']\\n    # print(members)  # 빈 곳에 0 반드시 2자리\\n    join_date = '{year}-{month:02}-{day:02}'.format(**member)  # 딕셔너리 데이터 언패킹\\n    return {'name' : name,\\n             'birth' : join_date}\",\n",
       "  \"join_birth({'name' : 'kim', 'year' : 1995, 'month' : 1, 'day' : 2})\",\n",
       "  'members = list(map(join_birth, members))\\nmembers',\n",
       "  \"def join_birth(members):\\n    name = members['name'],\\n    del members['name']\\n    # print(members)  # 빈 곳에 0 반드시 2자리\\n    join_date = '{year}-{month:02}-{day:02}'.format(**member)  # 딕셔너리 데이터 언패킹\\n    return {'name' : name,\\n             'birth' : join_date}\",\n",
       "  'members = list(map(join_birth, members))\\nmembers',\n",
       "  'member = list(map(join_birth, members))\\nmember',\n",
       "  \"def join_birth(members):\\n    name = members['name'],\\n    del members['name']\\n    # print(members)  # 빈 곳에 0 반드시 2자리\\n    join_date = '{year}-{month:02}-{day:02}'.format(**member)  # 딕셔너리 데이터 언패킹\\n    return {'name' : name,\\n             'birth' : join_date}\",\n",
       "  \"join_birth({'name' : 'kim', 'year' : 1995, 'month' : 1, 'day' : 2})\",\n",
       "  'member = list(map(join_birth, members))\\nmember',\n",
       "  'members = list(map(join_birth, members))\\nmembers',\n",
       "  \"def join_birth(members):\\n    name = members['name'],\\n    del members['name']\\n    # print(members)  # 빈 곳에 0 반드시 2자리\\n    join_date = '{year}-{month:02}-{day:02}'.format(**members)  # 딕셔너리 데이터 언패킹\\n    return {'name' : name,\\n             'birth' : join_date}\",\n",
       "  \"join_birth({'name' : 'kim', 'year' : 1995, 'month' : 1, 'day' : 2})\",\n",
       "  'members = list(map(join_birth, members))\\nmembers',\n",
       "  \"def join_birth(member):\\n    name = member['name'],\\n    del members['name']\\n    # print(members)  # 빈 곳에 0 반드시 2자리\\n    join_date = '{year}-{month:02}-{day:02}'.format(**member)  # 딕셔너리 데이터 언패킹\\n    return {'name' : name,\\n             'birth' : join_date}\",\n",
       "  \"join_birth({'name' : 'kim', 'year' : 1995, 'month' : 1, 'day' : 2})\",\n",
       "  'members = list(map(join_birth, members))\\nmembers',\n",
       "  \"def join_birth(member):\\n    name = members['name'],\\n    del members['name']\\n    # print(members)  # 빈 곳에 0 반드시 2자리\\n    join_date = '{year}-{month:02}-{day:02}'.format(**members)  # 딕셔너리 데이터 언패킹\\n    return {'name' : name,\\n             'birth' : join_date}\",\n",
       "  \"join_birth({'name' : 'kim', 'year' : 1995, 'month' : 1, 'day' : 2})\",\n",
       "  'members = list(map(join_birth, members))\\nmembers',\n",
       "  \"def join_birth(members):\\n    name = members['name'],\\n    del members['name']\\n    # print(members)  # 빈 곳에 0 반드시 2자리\\n    join_date = '{year}-{month:02}-{day:02}'.format(**members)  # 딕셔너리 데이터 언패킹\\n    return {'name' : name,\\n             'birth' : join_date}\",\n",
       "  \"join_birth({'name' : 'kim', 'year' : 1995, 'month' : 1, 'day' : 2})\",\n",
       "  'members = list(map(join_birth, members))\\nmembers',\n",
       "  'members',\n",
       "  \"members = [{'name' : '홍길동', 'birth' : '2000-01-01'},\\n           {'name' : '신길동', 'birth' : '1995-12-18'}]\",\n",
       "  \"members = list(map(lambda members : {  # 람다식\\n    'name' : members['name'],\\n    'year' : int(members.get('birth').split('-')[0]),\\n    'month' : int(members.get('birth').split('-')[1]),\\n    'day' : int(members.get('birth').split('-')[2])\\n}, members))\\nmembers\",\n",
       "  'members = list(map(join_birth, members))\\nmembers',\n",
       "  'members',\n",
       "  \"def apply(data, func=None):\\n    if func is None:  # if func == None\\n        print('func가 None')\\n    else:\\n        print('func가 None아님')\",\n",
       "  'apply(1)',\n",
       "  \"def apply(data, func=None):\\n    # if func == None\\n    if func is None:\\n        print('func가 None')\\n    else:\\n        print('func가 None아님')\",\n",
       "  'apply(1)',\n",
       "  \"def apply(data, func=None):\\n    # if func == None\\n    if func is None:\\n        return data\\n    else:\\n        print('func가 None아님')\",\n",
       "  'apply(1)',\n",
       "  'def apply(data, func=None):\\n    # if func == None\\n    if func is None:\\n        return data\\n    else:\\n        return func(data)',\n",
       "  'apply(1)',\n",
       "  'apply(1)',\n",
       "  'print(apply(2))\\nprint(apply(2, lambda x : x**3))',\n",
       "  '# 매개변수에 함수를 사용\\ndef apply(data, func=None):\\n    # if func == None\\n    if func is None:\\n        return data\\n    else:\\n        return func(data)',\n",
       "  'print(apply(2))\\nprint(apply(2, lambda x : x**3))',\n",
       "  '# 함수를 return',\n",
       "  \"# 함수를 return\\n'''\\nmake_box([2, 3]) => 2차원 2행 3열 list를 만드는 함수를 return\\n    fun = make_box([2, 3])\\n    fun(5) => [[5, 5, 5],\\n               [5, 5, 5]]\\nmake_box((2,)) => 1차원 2열 list를 만드는 함수를 return (2,) 뒤에 , 꼭 써야함\\n    fun = make_box([2])\\n    fun(7) => [7,7]\\n'''\\ndef make_box(shape):  # shape : [x], [x, y] : x열, x행y열\\n    def box(init_value):\\n        if len(shape) == 1:  # shape가 1차원인지\\n            return [init_value]*shape[0]  # 1차원 list를 return\\n        elif len(shape) == 2:  # shape가 2차원인지\\n            return [[init_value]*shape[1]] * shape[0]\\n    return box\",\n",
       "  'line_fun = make_box( (3,))  # 3열짜리 1차원 list\\nline_fun',\n",
       "  'line_fun = make_box((3,))  # 3열짜리 1차원 list\\nline_fun',\n",
       "  'line_fun = make_box((3,))  # 3열짜리 1차원 list\\nline_fun(5)',\n",
       "  'box2d_fun = make_box( (4, 3))\\nbox2d_fun(5)',\n",
       "  'def make_box(shape):\\n    if len(shape) == 1:\\n        return lambda init_value : [init_value]*shape[0]\\n    elif len(shape) == 2:\\n        return lambda init_value : [[init_value]*shape[1]] * shape[0]',\n",
       "  'line_fun = make_box((3,))  # 3열짜리 1차원 list\\nline_fun(5)',\n",
       "  'box2d_fun = make_box( (4, 3))  # 4행 3열짜리 2차원 list\\nbox2d_fun(5)',\n",
       "  \"int('6')\",\n",
       "  \"int('ㅁ')\\n# ('6.3'), ('') 에러\",\n",
       "  \"int('6')\\n# ('6.3'), ('') 에러\",\n",
       "  \"int('6')\\n# ('6.3'), (''), ('ㅁ') 에러\",\n",
       "  'globals()'],\n",
       " 'Out': {2: 8,\n",
       "  3: 30,\n",
       "  4: 30,\n",
       "  7: 8,\n",
       "  16: 'negative',\n",
       "  17: 'negative',\n",
       "  18: 100,\n",
       "  19: 'negative',\n",
       "  20: 'negative',\n",
       "  23: 'negative',\n",
       "  24: 'negative',\n",
       "  25: 500,\n",
       "  26: 'negative',\n",
       "  27: 'negative',\n",
       "  28: 1,\n",
       "  30: 0,\n",
       "  31: 0,\n",
       "  32: 1,\n",
       "  34: (0, -1),\n",
       "  38: (0, -1),\n",
       "  39: (0, -1),\n",
       "  40: '홀수',\n",
       "  41: '짝수',\n",
       "  42: '짝수',\n",
       "  43: '짝수',\n",
       "  44: ('짝수', '홀수'),\n",
       "  45: ('짝수', '홀수'),\n",
       "  46: ('짝수', '홀수'),\n",
       "  47: ('짝수', '홀수'),\n",
       "  48: ('짝수', '홀수'),\n",
       "  51: 'B등급',\n",
       "  52: ('B등급', '재시험'),\n",
       "  57: ('B등급', '재시험'),\n",
       "  58: ('A등급', 'A등급'),\n",
       "  59: ('A등급', '재시험'),\n",
       "  67: '유효하지 않은 점수 등급',\n",
       "  68: 'A',\n",
       "  69: 'B ',\n",
       "  71: 'D ',\n",
       "  72: ('유효하지 않은 점수 등급', 'A', 'B ', 'C ', 'D ', 'F '),\n",
       "  73: ('유효하지 않은 점수 등급', 'A', 'B', 'C', 'D', 'F'),\n",
       "  75: ('유효하지 않은 점수 등급', 'A', 'B ', 'C ', 'D ', 'F '),\n",
       "  78: (3, '두 번째 인자가 0으로는 나눌 수 없습니다'),\n",
       "  79: [10, 20],\n",
       "  81: [1, 2, 3],\n",
       "  82: [2, 4, 6],\n",
       "  101: [7, 25],\n",
       "  109: [2, 4, 6, 8, 10, 12, 14, 16],\n",
       "  110: [2, 4, 6, 8, 10, 12, 14, 16],\n",
       "  111: [2, 4, 6, 8, 10, 12, 14, 16],\n",
       "  112: [2, 4, 6, 8, 10, 12, 14, 16],\n",
       "  113: <map at 0x22b8adbd810>,\n",
       "  114: [2, 4, 6, 8, 10, 12, 14, 16],\n",
       "  116: <enumerate at 0x22b8ad70700>,\n",
       "  117: [(0, 1), (1, 2), (2, 3), (3, 4), (4, 5), (5, 6), (6, 7), (7, 8)],\n",
       "  125: [2, 4, 6, 8],\n",
       "  126: [2, 4, 6, 8],\n",
       "  127: <filter at 0x22b8adb96f0>,\n",
       "  133: [1, 2, 3, 4, 5, 6, 7, 8],\n",
       "  135: [False, True, False, True, False, True, False, True],\n",
       "  136: [2, 4, 6, 8],\n",
       "  137: [2, 4, 6, 8],\n",
       "  138: [2, 4, 6, 8],\n",
       "  166: [2, 4, 6, 8],\n",
       "  167: [2, 100],\n",
       "  168: [1, 1.2, 1.5, 2, 3.0, 10.5, 100],\n",
       "  169: [1, 1.2, 1.5, 2, 3.0, 10.5, 100],\n",
       "  170: [1, 1.2, 1.5, 2, 3.0, 10.5, 100],\n",
       "  171: [1.2, 1.5, 10.5],\n",
       "  172: [1.2, 1.5, 10.5],\n",
       "  173: [1.2, 1.5, 10.5],\n",
       "  174: [1.2, 1.5, 10.5],\n",
       "  175: [1.2, 1.5, 10.5],\n",
       "  176: [1.2, 1.5, 10.5],\n",
       "  177: [1.2, 1.5, 10.5],\n",
       "  178: [1.2, 1.5, 10.5],\n",
       "  179: [1.2, 1.5, 10.5],\n",
       "  180: [1.2, 1.5, 10.5],\n",
       "  181: [1.2, 1.5, 10.5],\n",
       "  182: [1.2, 1.5, 10.5],\n",
       "  183: [1.2, 1.5, 10.5],\n",
       "  185: [1, 2, 3.0, 100],\n",
       "  186: [1, 2, 3.0, 100],\n",
       "  199: [1, 3, 6, 10],\n",
       "  200: [10, 3, 6, 1],\n",
       "  201: [1, 3, 6, 10],\n",
       "  203: [10, 6, 3, 1],\n",
       "  204: [10, 6, 3, 1],\n",
       "  207: [(1, 'one'), (2, 'two'), (3, 'three'), (4, 'four')],\n",
       "  210: [(4, 'four'), (1, 'one'), (3, 'three'), (2, 'two')],\n",
       "  213: [(4, 'four'), (1, 'one'), (3, 'three'), (2, 'two')],\n",
       "  214: [(4, 'four'), (1, 'one'), (3, 'three'), (2, 'two')],\n",
       "  236: [{'name': '홍', 'score': 99},\n",
       "   {'name': '이', 'score': 77},\n",
       "   {'name': '박', 'score': 66},\n",
       "   {'name': '김', 'score': 22}],\n",
       "  237: [{'name': '홍', 'score': 99},\n",
       "   {'name': '이', 'score': 77},\n",
       "   {'name': '박', 'score': 66},\n",
       "   {'name': '김', 'score': 22}],\n",
       "  238: [{'name': '홍', 'score': 99},\n",
       "   {'name': '이', 'score': 77},\n",
       "   {'name': '박', 'score': 66},\n",
       "   {'name': '김', 'score': 22}],\n",
       "  241: [{'name': '홍', 'score': 99},\n",
       "   {'name': '이', 'score': 77},\n",
       "   {'name': '박', 'score': 66},\n",
       "   {'name': '김', 'score': 22}],\n",
       "  242: [{'name': '홍', 'score': 99},\n",
       "   {'name': '이', 'score': 77},\n",
       "   {'name': '박', 'score': 66},\n",
       "   {'name': '김', 'score': 22}],\n",
       "  243: [{'name': '홍', 'score': 99},\n",
       "   {'name': '이', 'score': 77},\n",
       "   {'name': '박', 'score': 66},\n",
       "   {'name': '김', 'score': 22}],\n",
       "  244: [{'name': '홍', 'score': 99},\n",
       "   {'name': '이', 'score': 77},\n",
       "   {'name': '박', 'score': 66},\n",
       "   {'name': '김', 'score': 22}],\n",
       "  245: [{'name': '홍', 'score': 99},\n",
       "   {'name': '이', 'score': 77},\n",
       "   {'name': '박', 'score': 66},\n",
       "   {'name': '김', 'score': 22}],\n",
       "  247: [{'no': 5, 'title': '가격없음', 'writer': '김난도', 'price': 'None예정'},\n",
       "   {'no': 2, 'title': '트렌트코리아2025', 'writer': '김난도', 'price': '18,100'},\n",
       "   {'no': 3, 'title': '트럼프2.0시대', 'writer': '박종훈', 'price': '18,000'},\n",
       "   {'no': 1, 'title': '소년이 온다', 'writer': '한강', 'price': '13,500'},\n",
       "   {'no': 4, 'title': '가격잘못', 'writer': '홍길동', 'price': 'ㅁ'}],\n",
       "  248: [{'no': 5, 'title': '가격없음', 'writer': '김난도', 'price': 'None예정'},\n",
       "   {'no': 2, 'title': '트렌트코리아2025', 'writer': '김난도', 'price': '18,100'},\n",
       "   {'no': 3, 'title': '트럼프2.0시대', 'writer': '박종훈', 'price': '18,000'},\n",
       "   {'no': 1, 'title': '소년이 온다', 'writer': '한강', 'price': '13,500'},\n",
       "   {'no': 4, 'title': '가격잘못', 'writer': '홍길동', 'price': 'ㅁ'}],\n",
       "  249: [{'no': 5, 'title': '가격없음', 'writer': '김난도', 'price': 'None예정'},\n",
       "   {'no': 2, 'title': '트렌트코리아2025', 'writer': '김난도', 'price': '18,100'},\n",
       "   {'no': 3, 'title': '트럼프2.0시대', 'writer': '박종훈', 'price': '18,000'},\n",
       "   {'no': 1, 'title': '소년이 온다', 'writer': '한강', 'price': '13,500'},\n",
       "   {'no': 4, 'title': '가격잘못', 'writer': '홍길동', 'price': 'ㅁ'}],\n",
       "  251: [{'no': 5, 'title': '가격없음', 'writer': '김난도', 'price': 'None예정'},\n",
       "   {'no': 4, 'title': '가격잘못', 'writer': '홍길동', 'price': 'ㅁ'},\n",
       "   {'no': 1, 'title': '소년이 온다', 'writer': '한강', 'price': '13,500'},\n",
       "   {'no': 3, 'title': '트럼프2.0시대', 'writer': '박종훈', 'price': '18,000'},\n",
       "   {'no': 2, 'title': '트렌트코리아2025', 'writer': '김난도', 'price': '9,100'}],\n",
       "  252: [{'no': 5, 'title': '가격없음', 'writer': '김난도', 'price': 'None예정'},\n",
       "   {'no': 4, 'title': '가격잘못', 'writer': '홍길동', 'price': 'ㅁ'},\n",
       "   {'no': 1, 'title': '소년이 온다', 'writer': '한강', 'price': '13,500'},\n",
       "   {'no': 3, 'title': '트럼프2.0시대', 'writer': '박종훈', 'price': '18,000'},\n",
       "   {'no': 2, 'title': '트렌트코리아2025', 'writer': '김난도', 'price': '9,100'}],\n",
       "  254: [{'no': 4, 'title': '가격잘못', 'writer': '홍길동', 'price': 'ㅁ'},\n",
       "   {'no': 5, 'title': '가격없음', 'writer': '신길동', 'price': 'None예정'},\n",
       "   {'no': 2, 'title': '트렌트코리아2025', 'writer': '김난도', 'price': '9,100'},\n",
       "   {'no': 3, 'title': '트럼프2.0시대', 'writer': '박종훈', 'price': '18,000'},\n",
       "   {'no': 1, 'title': '소년이 온다', 'writer': '한강', 'price': '13,500'}],\n",
       "  255: [{'no': 4, 'title': '가격잘못', 'writer': '홍길동', 'price': 'ㅁ'},\n",
       "   {'no': 5, 'title': '가격없음', 'writer': '신길동', 'price': 'None예정'},\n",
       "   {'no': 2, 'title': '트렌트코리아2025', 'writer': '김난도', 'price': '9,100'},\n",
       "   {'no': 3, 'title': '트럼프2.0시대', 'writer': '박종훈', 'price': '18,000'},\n",
       "   {'no': 1, 'title': '소년이 온다', 'writer': '한강', 'price': '13,500'}],\n",
       "  256: [{'no': 4, 'title': '가격잘못', 'writer': '홍길동', 'price': 'ㅁ'},\n",
       "   {'no': 5, 'title': '가격없음', 'writer': '신길동', 'price': 'None예정'},\n",
       "   {'no': 2, 'title': '트렌트코리아2025', 'writer': '김난도', 'price': '9,100'},\n",
       "   {'no': 3, 'title': '트럼프2.0시대', 'writer': '박종훈', 'price': '18,000'},\n",
       "   {'no': 1, 'title': '소년이 온다', 'writer': '한강', 'price': '13,500'}],\n",
       "  257: [{'no': 4, 'title': '가격잘못', 'writer': '홍길동', 'price': 'ㅁ'},\n",
       "   {'no': 5, 'title': '가격없음', 'writer': '신길동', 'price': 'None예정'},\n",
       "   {'no': 2, 'title': '트렌트코리아2025', 'writer': '김난도', 'price': '9,100'},\n",
       "   {'no': 3, 'title': '트럼프2.0시대', 'writer': '박종훈', 'price': '18,000'},\n",
       "   {'no': 1, 'title': '소년이 온다', 'writer': '한강', 'price': '13,500'}],\n",
       "  258: [{'no': 4, 'title': '가격잘못', 'writer': '홍길동', 'price': 'ㅁ'},\n",
       "   {'no': 5, 'title': '가격없음', 'writer': '신길동', 'price': 'None예정'},\n",
       "   {'no': 2, 'title': '트렌트코리아2025', 'writer': '김난도', 'price': '9,100'},\n",
       "   {'no': 3, 'title': '트럼프2.0시대', 'writer': '박종훈', 'price': '18,000'},\n",
       "   {'no': 1, 'title': '소년이 온다', 'writer': '한강', 'price': '13,500'}],\n",
       "  264: 13500,\n",
       "  267: (None, None, None, None),\n",
       "  269: (None, None, None, None),\n",
       "  270: (None, None, None, None),\n",
       "  274: (None, None, None, None),\n",
       "  278: (None, None, None, None),\n",
       "  280: (None, None, None, 13500),\n",
       "  292: ['13,500', '18,000', '9,100', 'ㅁ', 9200, None],\n",
       "  295: [13500, 18000, 9100, (), (), ()],\n",
       "  299: [13500, 18000, 9100, 0, 0, 0],\n",
       "  300: [13500, 18000, 9100, 0, 0, 0],\n",
       "  301: [13500, 18000, 9100, 0, 9200, 0],\n",
       "  302: [13500, 18000, 9100, 0, 9200, 0],\n",
       "  306: [{'no': 1, 'title': '소년이 온다', 'writer': '한강', 'price': '13,500'},\n",
       "   {'no': 3, 'title': '트럼프2.0시대', 'writer': '박종훈', 'price': '18,000'},\n",
       "   {'no': 2, 'title': '트렌트코리아2025', 'writer': '김난도', 'price': '9,100'},\n",
       "   {'no': 4, 'title': '가격잘못', 'writer': '홍길동', 'price': 'ㅁ'},\n",
       "   {'no': 5, 'title': '가격없음', 'writer': '신길동'},\n",
       "   {'no': 6, 'title': '가격없음', 'writer': '신길동', 'price': 9200}],\n",
       "  307: [{'no': 6, 'title': '가격없음', 'writer': '신길동', 'price': 9200},\n",
       "   {'no': 1, 'title': '소년이 온다', 'writer': '한강', 'price': '13,500'},\n",
       "   {'no': 3, 'title': '트럼프2.0시대', 'writer': '박종훈', 'price': '18,000'},\n",
       "   {'no': 2, 'title': '트렌트코리아2025', 'writer': '김난도', 'price': '9,100'},\n",
       "   {'no': 4, 'title': '가격잘못', 'writer': '홍길동', 'price': 'ㅁ'},\n",
       "   {'no': 5, 'title': '가격없음', 'writer': '신길동'}],\n",
       "  309: [13500, 18000, 9100, 0, 9200, 0],\n",
       "  310: [{'no': 6, 'title': '가격숫자', 'writer': '신길동', 'price': 9200},\n",
       "   {'no': 1, 'title': '소년이 온다', 'writer': '한강', 'price': '13,500'},\n",
       "   {'no': 3, 'title': '트럼프2.0시대', 'writer': '박종훈', 'price': '18,000'},\n",
       "   {'no': 2, 'title': '트렌트코리아2025', 'writer': '김난도', 'price': '9,100'},\n",
       "   {'no': 4, 'title': '가격잘못', 'writer': '홍길동', 'price': 'ㅁ'},\n",
       "   {'no': 5, 'title': '가격없음', 'writer': '이길동'}],\n",
       "  312: [13500, 18000, 9100, 0, 9200, 0],\n",
       "  313: [{'no': 6, 'title': '가격숫자', 'writer': '신길동', 'price': 9200},\n",
       "   {'no': 1, 'title': '소년이 온다', 'writer': '한강', 'price': '13,500'},\n",
       "   {'no': 3, 'title': '트럼프2.0시대', 'writer': '박종훈', 'price': '18,000'},\n",
       "   {'no': 2, 'title': '트렌트코리아2025', 'writer': '김난도', 'price': '9,100'},\n",
       "   {'no': 4, 'title': '가격잘못', 'writer': '홍길동', 'price': 'ㅁ'},\n",
       "   {'no': 5, 'title': '가격없음', 'writer': '이길동'}],\n",
       "  314: [{'no': 1, 'title': '소년이 온다', 'writer': '한강', 'price': '13,500'},\n",
       "   {'no': 3, 'title': '트럼프2.0시대', 'writer': '박종훈', 'price': '18,000'},\n",
       "   {'no': 2, 'title': '트렌트코리아2025', 'writer': '김난도', 'price': '9,100'},\n",
       "   {'no': 4, 'title': '가격잘못', 'writer': '홍길동', 'price': 'ㅁ'},\n",
       "   {'no': 5, 'title': '가격없음', 'writer': '이길동'},\n",
       "   {'no': 6, 'title': '가격숫자', 'writer': '신길동', 'price': 9200}],\n",
       "  315: [{'no': 4, 'title': '가격잘못', 'writer': '홍길동', 'price': 'ㅁ'},\n",
       "   {'no': 5, 'title': '가격없음', 'writer': '이길동'},\n",
       "   {'no': 2, 'title': '트렌트코리아2025', 'writer': '김난도', 'price': '9,100'},\n",
       "   {'no': 6, 'title': '가격숫자', 'writer': '신길동', 'price': 9200},\n",
       "   {'no': 1, 'title': '소년이 온다', 'writer': '한강', 'price': '13,500'},\n",
       "   {'no': 3, 'title': '트럼프2.0시대', 'writer': '박종훈', 'price': '18,000'}],\n",
       "  316: [{'no': 3, 'title': '트럼프2.0시대', 'writer': '박종훈', 'price': '18,000'},\n",
       "   {'no': 1, 'title': '소년이 온다', 'writer': '한강', 'price': '13,500'},\n",
       "   {'no': 6, 'title': '가격숫자', 'writer': '신길동', 'price': 9200},\n",
       "   {'no': 2, 'title': '트렌트코리아2025', 'writer': '김난도', 'price': '9,100'},\n",
       "   {'no': 4, 'title': '가격잘못', 'writer': '홍길동', 'price': 'ㅁ'},\n",
       "   {'no': 5, 'title': '가격없음', 'writer': '이길동'}],\n",
       "  317: [{'no': 3, 'title': '트럼프2.0시대', 'writer': '박종훈', 'price': '18,000'},\n",
       "   {'no': 1, 'title': '소년이 온다', 'writer': '한강', 'price': '13,500'},\n",
       "   {'no': 6, 'title': '가격숫자', 'writer': '신길동', 'price': 9200},\n",
       "   {'no': 2, 'title': '트렌트코리아2025', 'writer': '김난도', 'price': '9,100'},\n",
       "   {'no': 4, 'title': '가격잘못', 'writer': '홍길동', 'price': 'ㅁ'},\n",
       "   {'no': 5, 'title': '가격없음', 'writer': '이길동'}],\n",
       "  318: \"\\n{'no': 3, 'title': '트럼프', 'writer': '박', 'price': '8,000'}를 매개변수로 받아\\n{'no': 3, 'title': '트럼프', 'writer': '박', 'price': 8000}로 return\\n\\n\",\n",
       "  320: {'no': 3, 'title': '트럼프', 'writer': '박', 'price': 8000},\n",
       "  321: {'no': 3, 'title': '트럼프', 'writer': '박', 'price': 8000},\n",
       "  322: {'no': 3, 'title': '트럼프', 'writer': '박', 'price': 8000},\n",
       "  323: {'no': 3, 'title': '트럼프', 'writer': '박', 'price': 0},\n",
       "  324: {'no': 3, 'title': '트럼프', 'writer': '박', 'price': 0},\n",
       "  325: {'no': 3, 'title': '트럼프', 'writer': '박', 'price': 8000},\n",
       "  326: {'no': 3, 'title': '트럼프', 'writer': '박', 'price': 8000},\n",
       "  327: {'no': 3, 'title': '트럼프', 'writer': '박', 'price': 8000},\n",
       "  328: {'no': 3, 'title': '트럼프', 'writer': '박', 'price': 8000},\n",
       "  330: {'no': 3, 'title': '트럼프', 'writer': '박', 'price': 8000},\n",
       "  331: {'no': 3, 'title': '트럼프', 'writer': '박', 'price': 8000},\n",
       "  333: {'no': 3, 'title': '트럼프', 'writer': '박', 'price': 8000},\n",
       "  334: {'no': 3, 'title': '트럼프', 'writer': '박', 'price': 8000},\n",
       "  336: {'no': 3, 'title': '트럼프', 'writer': '박', 'price': 8000},\n",
       "  337: {'no': 3, 'title': '트럼프', 'writer': '박', 'price': 8000},\n",
       "  339: {'no': 3, 'title': '트럼프', 'writer': '박', 'price': 0},\n",
       "  340: {'no': 3, 'title': '트럼프', 'writer': '박', 'price': ''},\n",
       "  341: {'no': 3, 'title': '트럼프', 'writer': '박', 'price': ''},\n",
       "  342: {'no': 3, 'title': '트럼프', 'writer': '박', 'price': 0},\n",
       "  343: {'no': 3, 'title': '트럼프', 'writer': '박', 'price': ''},\n",
       "  346: {'no': 3, 'title': '트럼프', 'writer': '박', 'price': 0},\n",
       "  347: {'no': 3, 'title': '트럼프', 'writer': '박', 'price': ''},\n",
       "  348: {'no': 3, 'title': '트럼프', 'writer': '박', 'price': 0},\n",
       "  349: {'no': 3, 'title': '트럼프', 'writer': '박'},\n",
       "  351: {'no': 3, 'title': '트럼프', 'writer': '박', 'price': 0},\n",
       "  352: {'no': 3, 'title': '트럼프', 'writer': '박'},\n",
       "  354: {'no': 3, 'title': '트럼프', 'writer': '박', 'price': 0},\n",
       "  355: {'no': 3, 'title': '트럼프', 'writer': '박', 'price': 0},\n",
       "  357: {'no': 3, 'title': '트럼프', 'writer': '박', 'price': 0},\n",
       "  358: {'no': 3, 'title': '트럼프', 'writer': '박'},\n",
       "  360: {'no': 3, 'title': '트럼프', 'writer': '박', 'price': 0},\n",
       "  361: {'no': 3, 'title': '트럼프', 'writer': '박', 'price': 0},\n",
       "  362: {'no': 3, 'title': '트럼프', 'writer': '박', 'price': 0},\n",
       "  363: {'no': 3, 'title': '트럼프', 'writer': '박', 'price': 0},\n",
       "  365: {'no': 3, 'title': '트럼프', 'writer': '박', 'price': 0},\n",
       "  366: {'no': 3, 'title': '트럼프', 'writer': '박', 'price': 0},\n",
       "  367: {'no': 3, 'title': '트럼프', 'writer': '박'},\n",
       "  369: {'no': 3, 'title': '트럼프', 'writer': '박', 'price': 0},\n",
       "  370: {'no': 3, 'title': '트럼프', 'writer': '박', 'price': 0},\n",
       "  372: {'no': 3, 'title': '트럼프', 'writer': '박', 'price': 0},\n",
       "  373: {'no': 3, 'title': '트럼프', 'writer': '박'},\n",
       "  378: {'no': 3, 'title': '트럼프', 'writer': '박', 'price': 0},\n",
       "  379: {'no': 3, 'title': '트럼프', 'writer': '박'},\n",
       "  382: {'no': 3, 'title': '트럼프', 'writer': '박', 'price': 0},\n",
       "  383: {'no': 3, 'title': '트럼프', 'writer': '박'},\n",
       "  394: {'no': 3, 'title': '트럼프', 'writer': '박', 'price': 0},\n",
       "  395: {'no': 3, 'title': '트럼프', 'writer': '박'},\n",
       "  398: {'no': 3, 'title': '트럼프', 'writer': '박', 'price': 0},\n",
       "  399: {'no': 3, 'title': '트럼프', 'writer': '박'},\n",
       "  402: {'no': 3, 'title': '트럼프', 'writer': '박', 'price': 0},\n",
       "  403: {'no': 3, 'title': '트럼프', 'writer': '박'},\n",
       "  405: {'no': 3, 'title': '트럼프', 'writer': '박', 'price': 0},\n",
       "  406: {'no': 3, 'title': '트럼프', 'writer': '박'},\n",
       "  409: [{'no': 1, 'title': '소년이 온다', 'writer': '한강', 'price': 13500},\n",
       "   {'no': 3, 'title': '트럼프2.0시대', 'writer': '박종훈', 'price': 18000},\n",
       "   {'no': 2, 'title': '트렌트코리아2025', 'writer': '김난도', 'price': 9100},\n",
       "   {'no': 4, 'title': '가격잘못', 'writer': '홍길동', 'price': 0},\n",
       "   {'no': 6, 'title': '가격숫자', 'writer': '신길동', 'price': 9200},\n",
       "   {'no': 5, 'title': '가격없음', 'writer': '이길동', 'price': 0}],\n",
       "  412: {'no': 3, 'title': '트럼프', 'writer': '박', 'price': 0},\n",
       "  413: {'no': 3, 'title': '트럼프', 'writer': '박'},\n",
       "  416: {'no': 3, 'title': '트럼프', 'writer': '박', 'price': 0},\n",
       "  417: {'no': 3, 'title': '트럼프', 'writer': '박'},\n",
       "  419: [{'no': 1, 'title': '소년이 온다', 'writer': '한강', 'price': 13500},\n",
       "   {'no': 3, 'title': '트럼프2.0시대', 'writer': '박종훈', 'price': 18000},\n",
       "   {'no': 2, 'title': '트렌트코리아2025', 'writer': '김난도', 'price': 9100},\n",
       "   {'no': 4, 'title': '가격잘못', 'writer': '홍길동', 'price': 0},\n",
       "   {'no': 6, 'title': '가격숫자', 'writer': '신길동', 'price': 9200},\n",
       "   {'no': 5, 'title': '가격없음', 'writer': '이길동', 'price': 0}],\n",
       "  420: \"\\nmembers = [{'name' : '홍길동', 'birth' : '2000-01-01'},\\n           {'name' : '신길동', 'birth' : '1995-12-18'}]를\\nmembers = [{'name' : '홍길동', 'birth' : '2000-01-01', 'year' : 2000, 'month' : 1, 'day' : 1},\\n           {'name' : '신길동', 'birth' : '1995-12-18', 'year' : 1995, 'month' : 12, 'day' : 18}]로 바꿉니다\\n\",\n",
       "  422: [13500, 18000, 9100, 0, 9200, 0],\n",
       "  423: [{'no': 3, 'title': '트럼프2.0시대', 'writer': '박종훈', 'price': '18,000'},\n",
       "   {'no': 1, 'title': '소년이 온다', 'writer': '한강', 'price': '13,500'},\n",
       "   {'no': 6, 'title': '가격숫자', 'writer': '신길동', 'price': 9200},\n",
       "   {'no': 2, 'title': '트렌트코리아2025', 'writer': '김난도', 'price': '9,100'},\n",
       "   {'no': 4, 'title': '가격잘못', 'writer': '홍길동', 'price': 'ㅁ'},\n",
       "   {'no': 5, 'title': '가격없음', 'writer': '이길동'}],\n",
       "  424: \"\\n{'no': 3, 'title': '트럼프', 'writer': '박', 'price': '8,000'}를 매개변수로 받아\\n{'no': 3, 'title': '트럼프', 'writer': '박', 'price': 8000}로 return\\n\\n\",\n",
       "  426: {'no': 3, 'title': '트럼프', 'writer': '박', 'price': 0},\n",
       "  427: {'no': 3, 'title': '트럼프', 'writer': '박', 'price': 0},\n",
       "  430: {'no': 3, 'title': '트럼프', 'writer': '박', 'price': 0},\n",
       "  431: {'no': 3, 'title': '트럼프', 'writer': '박'},\n",
       "  433: [{'no': 1, 'title': '소년이 온다', 'writer': '한강', 'price': 13500},\n",
       "   {'no': 3, 'title': '트럼프2.0시대', 'writer': '박종훈', 'price': 18000},\n",
       "   {'no': 2, 'title': '트렌트코리아2025', 'writer': '김난도', 'price': 9100},\n",
       "   {'no': 4, 'title': '가격잘못', 'writer': '홍길동', 'price': 0},\n",
       "   {'no': 6, 'title': '가격숫자', 'writer': '신길동', 'price': 9200},\n",
       "   {'no': 5, 'title': '가격없음', 'writer': '이길동', 'price': 0}],\n",
       "  435: [{'no': 3, 'title': '트럼프2.0시대', 'writer': '박종훈', 'price': '18,000'},\n",
       "   {'no': 1, 'title': '소년이 온다', 'writer': '한강', 'price': '13,500'},\n",
       "   {'no': 6, 'title': '가격숫자', 'writer': '신길동', 'price': 9200},\n",
       "   {'no': 2, 'title': '트렌트코리아2025', 'writer': '김난도', 'price': '9,100'},\n",
       "   {'no': 4, 'title': '가격잘못', 'writer': '홍길동', 'price': 'ㅁ'},\n",
       "   {'no': 5, 'title': '가격없음', 'writer': '이길동'}],\n",
       "  437: [{'no': 1, 'title': '소년이 온다', 'writer': '한강', 'price': 13500},\n",
       "   {'no': 3, 'title': '트럼프2.0시대', 'writer': '박종훈', 'price': 18000},\n",
       "   {'no': 2, 'title': '트렌트코리아2025', 'writer': '김난도', 'price': 9100},\n",
       "   {'no': 4, 'title': '가격잘못', 'writer': '홍길동', 'price': 0},\n",
       "   {'no': 6, 'title': '가격숫자', 'writer': '신길동', 'price': 9200},\n",
       "   {'no': 5, 'title': '가격없음', 'writer': '이길동', 'price': 0}],\n",
       "  439: [{'no': 3, 'title': '트럼프2.0시대', 'writer': '박종훈', 'price': '18,000'},\n",
       "   {'no': 1, 'title': '소년이 온다', 'writer': '한강', 'price': '13,500'},\n",
       "   {'no': 6, 'title': '가격숫자', 'writer': '신길동', 'price': 9200},\n",
       "   {'no': 2, 'title': '트렌트코리아2025', 'writer': '김난도', 'price': '9,100'},\n",
       "   {'no': 4, 'title': '가격잘못', 'writer': '홍길동', 'price': 'ㅁ'},\n",
       "   {'no': 5, 'title': '가격없음', 'writer': '이길동'}],\n",
       "  441: [{'no': 3, 'title': '트럼프2.0시대', 'writer': '박종훈', 'price': 18000},\n",
       "   {'no': 1, 'title': '소년이 온다', 'writer': '한강', 'price': 13500},\n",
       "   {'no': 6, 'title': '가격숫자', 'writer': '신길동', 'price': 9200},\n",
       "   {'no': 2, 'title': '트렌트코리아2025', 'writer': '김난도', 'price': 9100},\n",
       "   {'no': 4, 'title': '가격잘못', 'writer': '홍길동', 'price': 0},\n",
       "   {'no': 5, 'title': '가격없음', 'writer': '이길동', 'price': 0}],\n",
       "  442: [{'no': 3, 'title': '트럼프2.0시대', 'writer': '박종훈', 'price': '18,000'},\n",
       "   {'no': 1, 'title': '소년이 온다', 'writer': '한강', 'price': '13,500'},\n",
       "   {'no': 6, 'title': '가격숫자', 'writer': '신길동', 'price': 9200},\n",
       "   {'no': 2, 'title': '트렌트코리아2025', 'writer': '김난도', 'price': '9,100'},\n",
       "   {'no': 4, 'title': '가격잘못', 'writer': '홍길동', 'price': 'ㅁ'},\n",
       "   {'no': 5, 'title': '가격없음', 'writer': '이길동'}],\n",
       "  443: \"\\nmembers = [{'name' : '홍길동', 'birth' : '2000-01-01'},\\n           {'name' : '신길동', 'birth' : '1995-12-18'}]를\\nmembers = [{'name' : '홍길동', 'birth' : '2000-01-01', 'year' : 2000, 'month' : 1, 'day' : 1},\\n           {'name' : '신길동', 'birth' : '1995-12-18', 'year' : 1995, 'month' : 12, 'day' : 18}]로 바꾸기\\n\",\n",
       "  456: [{'name': '홍길동', 'birth': '2000-01-01'},\n",
       "   {'name': '신길동', 'birth': '1995-12-18'}],\n",
       "  457: \"\\nmembers = [{'name' : '홍길동', 'birth' : '2000-01-01'},\\n           {'name' : '신길동', 'birth' : '1995-12-18'}]를\\nmembers = [{'name' : '홍길동', 'year' : 2000, 'month' : 1, 'day' : 1},\\n           {'name' : '신길동', 'year' : 1995, 'month' : 12, 'day' : 18}]로 바꾸기\\n\",\n",
       "  460: [{'name': '홍길동', 'birth': '2000-01-01'},\n",
       "   {'name': '신길동', 'birth': '1995-12-18'}],\n",
       "  462: {'year': '2001', 'month': '01', 'day': '08'},\n",
       "  464: {'year': 2001, 'month': 1, 'day': 8},\n",
       "  470: {'year': 2001, 'month': 1, 'day': 8},\n",
       "  473: {'name': '홍길동', 'year': 1999, 'month': 12, 'day': 16},\n",
       "  474: \"\\nmember = [{'name' : '홍길동', 'birth' : '2000-01-01'},\\n           {'name' : '신길동', 'birth' : '1995-12-18'}]를\\nmember = [{'name' : '홍길동', 'year' : 2000, 'month' : 1, 'day' : 1},\\n           {'name' : '신길동', 'year' : 1995, 'month' : 12, 'day' : 18}]로 바꾸기\\n\",\n",
       "  475: \"\\nmember = [{'name' : '홍길동', 'birth' : '2000-01-01'},\\n           {'name' : '신길동', 'birth' : '1995-12-18'}]를\\nmember = [{'name' : '홍길동', 'year' : 2000, 'month' : 1, 'day' : 1},\\n           {'name' : '신길동', 'year' : 1995, 'month' : 12, 'day' : 18}]로 바꾸기\\n\",\n",
       "  476: \"\\nmember = [{'name' : '홍길동', 'birth' : '2000-01-01'},\\n           {'name' : '신길동', 'birth' : '1995-12-18'}]를\\nmember = [{'name' : '홍길동', 'year' : 2000, 'month' : 1, 'day' : 1},\\n           {'name' : '신길동', 'year' : 1995, 'month' : 12, 'day' : 18}]로 바꾸기\\n\",\n",
       "  477: \"\\nmember = [{'name' : '홍길동', 'birth' : '2000-01-01'},\\n           {'name' : '신길동', 'birth' : '1995-12-18'}]를\\nmember = [{'name' : '홍길동', 'year' : 2000, 'month' : 1, 'day' : 1},\\n           {'name' : '신길동', 'year' : 1995, 'month' : 12, 'day' : 18}]로 바꾸기\\n\",\n",
       "  480: {'year': 2001, 'month': 1, 'day': 8},\n",
       "  482: {'name': '홍길동', 'year': 1999, 'month': 12, 'day': 16},\n",
       "  484: {'name': '홍길동', 'year': 1999, 'month': 12, 'day': 16},\n",
       "  486: {'name': '홍길동', 'year': 1999, 'month': 12, 'day': 16},\n",
       "  489: [{'name': '홍길동', 'year': 2000, 'month': 1, 'day': 1},\n",
       "   {'name': '신길동', 'year': 1995, 'month': 12, 'day': 18}],\n",
       "  491: \"\\nmembers = [{'name' : '홍길동', 'birth' : '2000-01-01'},\\n           {'name' : '신길동', 'birth' : '1995-12-18'}]를\\nmembers = [{'name' : '홍길동', 'year' : 2000, 'month' : 1, 'day' : 1},\\n           {'name' : '신길동', 'year' : 1995, 'month' : 12, 'day' : 18}]로 바꾸기\\n\",\n",
       "  492: \"\\nmembers = [{'name' : '홍길동', 'birth' : '2000-01-01'},\\n           {'name' : '신길동', 'birth' : '1995-12-18'}]를\\nmembers = [{'name' : '홍길동', 'year' : 2000, 'month' : 1, 'day' : 1},\\n           {'name' : '신길동', 'year' : 1995, 'month' : 12, 'day' : 18}]로 바꾸기\\n\",\n",
       "  495: {'year': 2001, 'month': 1, 'day': 8},\n",
       "  498: {'name': '홍길동', 'year': 1999, 'month': 12, 'day': 16},\n",
       "  500: {'name': '홍길동', 'year': 1999, 'month': 12, 'day': 16},\n",
       "  503: {'name': '홍길동', 'year': 1999, 'month': 12, 'day': 16},\n",
       "  504: [{'year': 2000, 'month': 1, 'day': 1},\n",
       "   {'name': '신길동', 'year': 1995, 'month': 12, 'day': 18}],\n",
       "  509: 'year-month-day',\n",
       "  518: '1995-12-18',\n",
       "  520: '1995-12-18',\n",
       "  521: '1995-01-01',\n",
       "  524: '1995-01-01',\n",
       "  526: '1995-01-01',\n",
       "  542: {'name': ('kim',), 'birth': '1995-01-02'},\n",
       "  551: {'name': ('kim',), 'birth': '1995-01-02'},\n",
       "  553: [{'year': 2000, 'month': 1, 'day': 1},\n",
       "   {'name': '신길동', 'year': 1995, 'month': 12, 'day': 18}],\n",
       "  555: [{'year': 2000, 'month': 1, 'day': 1},\n",
       "   {'year': 1995, 'month': 12, 'day': 18}],\n",
       "  556: [{'name': ('홍길동',), 'birth': '2000-01-01'},\n",
       "   {'name': ('신길동',), 'birth': '1995-12-18'}],\n",
       "  557: [{'name': ('홍길동',), 'birth': '2000-01-01'},\n",
       "   {'name': ('신길동',), 'birth': '1995-12-18'}],\n",
       "  563: 1,\n",
       "  565: 1,\n",
       "  566: 1,\n",
       "  572: <function __main__.make_box.<locals>.box(init_value)>,\n",
       "  573: <function __main__.make_box.<locals>.box(init_value)>,\n",
       "  574: [5, 5, 5],\n",
       "  575: [[5, 5, 5], [5, 5, 5], [5, 5, 5], [5, 5, 5]],\n",
       "  577: [5, 5, 5],\n",
       "  578: [[5, 5, 5], [5, 5, 5], [5, 5, 5], [5, 5, 5]],\n",
       "  579: 6,\n",
       "  581: 6,\n",
       "  582: 6},\n",
       " 'get_ipython': <bound method InteractiveShell.get_ipython of <ipykernel.zmqshell.ZMQInteractiveShell object at 0x0000022B87F11A20>>,\n",
       " 'exit': <IPython.core.autocall.ZMQExitAutocall at 0x22b87f137f0>,\n",
       " 'quit': <IPython.core.autocall.ZMQExitAutocall at 0x22b87f137f0>,\n",
       " 'open': <function io.open(file, mode='r', buffering=-1, encoding=None, errors=None, newline=None, closefd=True, opener=None)>,\n",
       " '_': 6,\n",
       " '__': 6,\n",
       " '___': 6,\n",
       " 'json': <module 'json' from 'C:\\\\Users\\\\4545\\\\anaconda3\\\\lib\\\\json\\\\__init__.py'>,\n",
       " 'yapf_reformat': <function __main__.yapf_reformat(cell_text)>,\n",
       " 'autopep8': <module 'autopep8' from 'C:\\\\Users\\\\4545\\\\anaconda3\\\\lib\\\\site-packages\\\\autopep8.py'>,\n",
       " '_i': \"int('6')\\n# ('6.3'), (''), ('ㅁ') 에러\",\n",
       " '_ii': \"int('6')\\n# ('6.3'), ('') 에러\",\n",
       " '_iii': \"int('ㅁ')\\n# ('6.3'), ('') 에러\",\n",
       " '_i1': 'from IPython.display import display, HTML\\ndisplay(HTML(\"\"\"\\n<style>\\ndiv.container{width:80% !important;}\\ndiv.prompt {min-width:70px;}\\ndiv#toc-header{margin-top:150px;}\\nspan.toc-item-num{display:none;}\\n</style>\\n\"\"\"))',\n",
       " 'display': <function IPython.core.display_functions.display(*objs, include=None, exclude=None, metadata=None, transient=None, display_id=None, raw=False, clear=False, **kwargs)>,\n",
       " 'HTML': IPython.core.display.HTML,\n",
       " '_i2': 'def add(a, b):\\n    return a+b\\nadd(3, 5)',\n",
       " 'add': <function __main__.<lambda>(a, b)>,\n",
       " '_2': 8,\n",
       " '_i3': 'add2 = add\\nadd2(10, 20)',\n",
       " 'add2': <function __main__.<lambda>(a, b)>,\n",
       " '_3': 30,\n",
       " '_i4': 'add2 = lambda a, b : a+b\\nadd2(10, 20)',\n",
       " '_4': 30,\n",
       " '_i5': 'print(type(add), type(add2))',\n",
       " '_i6': 'print(type(add), type(add2))',\n",
       " '_i7': '(lambda a, b : a+b)(3, 5)',\n",
       " '_7': 8,\n",
       " '_i8': '# 매개변수 a와 b의 차이를 return(양수로)\\ndef diff(a, b):\\n    if a >= b:\\n        return a-b\\n    else:\\n        b-a',\n",
       " 'diff': <function __main__.diff(a, b)>,\n",
       " '_i9': 'diff2 = lambda a, b : a-b if a >= b else b-a',\n",
       " 'diff2': <function __main__.<lambda>(a, b)>,\n",
       " '_i10': 'print(diff(3, 5), diff(5, 3), diff2(3, 5), diff2(5, 3))\\nprint(type(diff), type(diff2))',\n",
       " '_i11': 'print(diff(3, 5), diff(5, 3), diff2(3, 5), diff2(5, 3))\\nprint(type(diff), type(diff2))',\n",
       " '_i12': '# 매개변수 a와 b의 차이를 return(양수로)\\ndef diff(a, b):\\n    if a >= b:\\n        return a-b\\n    else:\\n        return b-a',\n",
       " '_i13': 'diff2 = lambda a, b : a-b if a >= b else b-a',\n",
       " '_i14': 'print(diff(3, 5), diff(5, 3), diff2(3, 5), diff2(5, 3))\\nprint(type(diff), type(diff2))',\n",
       " '_i15': \"# 매개변수로 잔액을 받아 잔액이 음수면 'negative'라고 출력하고, 양수면 잔액을 출력하시오\\n# return 타입이 같지 않아도 됨\\ndef get_balance(balance):\\n    if balance >= 0:\\n        return balance\\n    else:\\n        return 'negative'\",\n",
       " 'get_balance': <function __main__.<lambda>(balance)>,\n",
       " '_i16': 'get_balance(-100)',\n",
       " '_16': 'negative',\n",
       " '_i17': \"get_balance = lambda balance : balance if balance >= 0 else 'negative'\\nget_balance(-100)\",\n",
       " '_17': 'negative',\n",
       " '_i18': \"get_balance = lambda balance : balance if balance >= 0 else 'negative'\\nget_balance(100)\",\n",
       " '_18': 100,\n",
       " '_i19': \"balance = -500\\nif balance >= 0:\\n    result = balance\\nelse:\\n    result = 'negative'\\nresult\",\n",
       " 'balance': -500,\n",
       " 'result': 'negative',\n",
       " '_19': 'negative',\n",
       " '_i20': \"balance = -500  # balance : 전역변수\\nif balance >= 0:\\n    result = balance\\nelse:\\n    result = 'negative'\\nresult\",\n",
       " '_20': 'negative',\n",
       " '_i21': \"result = balance if balance >= 0 else 'negative'\\n# 자바 3항연산자 : balance >= 0 ? balance : 'negative'\",\n",
       " '_i22': \"result = balance if balance >= 0 else 'negative'\\n# 자바 3항연산자 : balance >= 0 ? balance : 'negative'\",\n",
       " '_i23': \"balance if balance >= 0 else 'negative'\\n# 자바 3항연산자 : balance >= 0 ? balance : 'negative'\",\n",
       " '_23': 'negative',\n",
       " '_i24': \"balance = -500\\nbalance if balance >= 0 else 'negative'\\n# 자바 3항연산자 : balance >= 0 ? balance : 'negative'\",\n",
       " '_24': 'negative',\n",
       " '_i25': \"balance = 500\\nbalance if balance >= 0 else 'negative'\\n# 자바 3항연산자 : balance >= 0 ? balance : 'negative'\",\n",
       " '_25': 500,\n",
       " '_i26': \"balance = -500\\nbalance if balance >= 0 else 'negative'\\n# 자바 3항연산자 : balance >= 0 ? balance : 'negative'\",\n",
       " '_26': 'negative',\n",
       " '_i27': \"balance = -500\\nbalance if balance >= 0 else 'negative'\\n# balance >= 0 ? balance : 'negative' (자바 3항연산자)\",\n",
       " '_27': 'negative',\n",
       " '_i28': '# 아래의 함수도 람다식으로 바꿀 수 있음\\nlst = [1, 2, 3]\\nlst.index(2)',\n",
       " 'lst': [1, 2, 3],\n",
       " '_28': 1,\n",
       " '_i29': '# 아래의 함수도 람다식으로 바꿀 수 있음\\n# lst = [1, 2, 3]\\n# lst.index(2)  # 2의 위치를 반환. 없는 데이터는 에러.\\nv = (1, 2, 3)\\nv.index()',\n",
       " 'v': (1, 2, 3),\n",
       " '_i30': '# 아래의 함수도 람다식으로 바꿀 수 있음\\n# lst = [1, 2, 3]\\n# lst.index(2)  # 2의 위치를 반환. 없는 데이터는 에러.\\nv = (1, 2, 3)\\nv.index(1)',\n",
       " '_30': 0,\n",
       " '_i31': '# 아래의 함수도 람다식으로 바꿀 수 있음\\n# lst = [1, 2, 3]  리스트\\n# lst.index(2)  # 2의 위치를 반환. 없는 데이터는 에러.(safe_index를 사용)\\n# v = (1, 2, 3)  튜플\\n# v.index(2)  # 2의 위치를 반환. 없는 데이터는 에러.\\nv = (1, 2, 3)\\ndef safe_index(vector, item):\\n    if item in vector:\\n        return vector.index(item)\\n    else:\\n        return -1\\nsafe_index(v, 1)',\n",
       " 'safe_index': <function __main__.<lambda>(vector, item)>,\n",
       " '_31': 0,\n",
       " '_i32': '# 아래의 함수도 람다식으로 바꿀 수 있음\\n# lst = [1, 2, 3]  리스트\\n# lst.index(2)  # 2의 위치를 반환. 없는 데이터는 에러.(safe_index를 사용)\\n# v = (1, 2, 3)  튜플\\n# v.index(2)  # 2의 위치를 반환. 없는 데이터는 에러.\\nv = (1, 2, 3)\\ndef safe_index(vector, item):\\n    if item in vector:\\n        return vector.index(item)\\n    else:\\n        return -1\\nsafe_index(v, 2)',\n",
       " '_32': 1,\n",
       " '_i33': '# 아래의 함수도 람다식으로 바꿀 수 있음\\n# lst = [1, 2, 3]  리스트\\n# lst.index(2)  # 2의 위치를 반환. 없는 데이터는 에러.(safe_index를 사용)\\n# v = (1, 2, 3)  튜플\\n# v.index(2)  # 2의 위치를 반환. 없는 데이터는 에러.\\nv = (1, 2, 3)\\ndef safe_index(vector, item):\\n    if item in vector:\\n        return vector.index(item)\\n    else:\\n        return -1\\nsafe_index(v, 1), safe index(v, 4)',\n",
       " '_i34': '# 아래의 함수도 람다식으로 바꿀 수 있음\\n# lst = [1, 2, 3]  리스트\\n# lst.index(2)  # 2의 위치를 반환. 없는 데이터는 에러.(safe_index를 사용)\\n# v = (1, 2, 3)  튜플\\n# v.index(2)  # 2의 위치를 반환. 없는 데이터는 에러.\\nv = (1, 2, 3)\\ndef safe_index(vector, item):\\n    if item in vector:\\n        return vector.index(item)\\n    else:\\n        return -1\\nsafe_index(v, 1), safe_index(v, 4)',\n",
       " '_34': (0, -1),\n",
       " '_i35': 'safe_index = lambda vector.index(item) : vector.index(item) if item in vector else -1',\n",
       " '_i36': 'safe_index = lambda vector.index(item) : vector.index(item) if item in vector else -1\\nsafe_index(1)',\n",
       " '_i37': 'safe_index = lambda vector, item : vector.index(item) if item in vector else -1',\n",
       " '_i38': 'safe_index = lambda vector, item : vector.index(item) if item in vector else -1\\nsafe_index([1, 2, 3, 4], 1), safe_index((1, 2, 3), 5)',\n",
       " '_38': (0, -1),\n",
       " '_i39': 'safe_index = lambda vector, item : vector.index(item) if item in vector else -1\\nsafe_index([1, 2, 3, 4], 1), safe_index((1, 2, 3), 5)\\n# 1의 index : 0               5의 index : -1(없음)',\n",
       " '_39': (0, -1),\n",
       " '_i40': \"# 매개변수로 들어온 값이 짝수면 '짝수'를, 홀수면 '홀수'를 return하는 lambda\\nnum = lambda input_num : '짝수' if input_num%2==0 else '홀수'\\nnum(5)\",\n",
       " 'num': <function __main__.<lambda>(input_num)>,\n",
       " '_40': '홀수',\n",
       " '_i41': \"# 매개변수로 들어온 값이 짝수면 '짝수'를, 홀수면 '홀수'를 return하는 lambda\\nnum = lambda input_num : '짝수' if input_num%2==0 else '홀수'\\nnum(6)\",\n",
       " '_41': '짝수',\n",
       " '_i42': \"# 매개변수로 들어온 값이 짝수면 '짝수'를, 홀수면 '홀수'를 return하는 lambda\\neven_odd_chk = lambda input_num : '짝수' if input_num%2==0 else '홀수'\\neven_odd_chk(6)\",\n",
       " 'even_odd_chk': <function __main__.<lambda>(num)>,\n",
       " '_42': '짝수',\n",
       " '_i43': \"# 매개변수로 들어온 값이 짝수면 '짝수'를, 홀수면 '홀수'를 return하는 lambda\\neven_odd_chk = lambda num : '짝수' if num%2==0 else '홀수'\\neven_odd_chk(6)\",\n",
       " '_43': '짝수',\n",
       " '_i44': \"# 매개변수로 들어온 값이 짝수면 '짝수'를, 홀수면 '홀수'를 return하는 lambda\\neven_odd_chk = lambda num : '짝수' if num%2==0 else '홀수'\\neven_odd_chk(0), even_odd_chk(1)\",\n",
       " '_44': ('짝수', '홀수'),\n",
       " '_i45': \"# 매개변수로 들어온 값이 짝수면 '짝수'를, 홀수면 '홀수'를 return하는 lambda\\neven_odd_chk = lambda num : '짝수' if num%2 == 0 else '홀수'\\neven_odd_chk(0), even_odd_chk(1)\",\n",
       " '_45': ('짝수', '홀수'),\n",
       " '_i46': \"# 매개변수로 들어온 값이 짝수면 '짝수'를, 홀수면 '홀수'를 return하는 lambda\\neven_odd_chk = lambda num : '짝수' if num%2 == 0 else '홀수'\\neven_odd_chk(0), even_odd_chk(-1)\",\n",
       " '_46': ('짝수', '홀수'),\n",
       " '_i47': \"# 매개변수로 들어온 값이 짝수면 '짝수'를, 홀수면 '홀수'를 return하는 lambda\\neven_odd_chk = lambda num : '짝수' if num%2 == 0 else '홀수'\\neven_odd_chk(2), even_odd_chk(-1)\",\n",
       " '_47': ('짝수', '홀수'),\n",
       " '_i48': \"# 매개변수로 들어온 값이 짝수면 '짝수'를, 홀수면 '홀수'를 return하는 lambda\\neven_odd_chk = lambda num : '짝수' if num%2 == 0 else '홀수'\\neven_odd_chk(2), even_odd_chk(-1)\",\n",
       " '_48': ('짝수', '홀수'),\n",
       " '_i49': \"def levelChk(score):\\n    if score >= 80:\\n        return 'A등급'\\n    elif socre >= 60:\\n        return 'B등급'\\n    else:\\n        return '재시험'\\nlevelChk(65)\",\n",
       " 'levelChk': <function __main__.<lambda>(score)>,\n",
       " '_i50': \"def levelChk(score):\\n    if score >= 80:\\n        return 'A등급'\\n    elif socre >= 60:\\n        return 'B등급'\\n    else:\\n        return '재시험'\\nlevelChk(65)\",\n",
       " '_i51': \"def levelChk(score):\\n    if score >= 80:\\n        return 'A등급'\\n    elif score >= 60:\\n        return 'B등급'\\n    else:\\n        return '재시험'\\nlevelChk(65)\",\n",
       " '_51': 'B등급',\n",
       " '_i52': \"def levelChk(score):\\n    if score >= 80:\\n        return 'A등급'\\n    elif score >= 60:\\n        return 'B등급'\\n    else:\\n        return '재시험'\\nlevelChk(65), levelChk(-9)\",\n",
       " '_52': ('B등급', '재시험'),\n",
       " '_i53': \"levelChk = lambda score : 'A등급' if score >= 80 elif 'B등급' score >= 60 else '재시험'\",\n",
       " '_i54': \"levelChk = lambda score : 'A등급' if score >= 80 elif 'B등급' score >= 60 else '재시험'\",\n",
       " '_i55': \"levelChk = lambda score : 'A등급' if score >= 80 : 'B등급' if score >= 60 else '재시험'\",\n",
       " '_i56': \"levelChk = lambda score : 'A등급' if score >= 80 else('B등급' if score >= 60 else '재시험')\",\n",
       " '_i57': \"levelChk = lambda score : 'A등급' if score >= 80 else('B등급' if score >= 60 else '재시험')\\nlevelChk(65), levelChk(-9)\",\n",
       " '_57': ('B등급', '재시험'),\n",
       " '_i58': \"levelChk = lambda score : 'A등급' if score >= 80 else('B등급' if score >= 60 else '재시험')\\nlevelChk(90), levelChk(559)\",\n",
       " '_58': ('A등급', 'A등급'),\n",
       " '_i59': \"levelChk = lambda score : 'A등급' if score >= 80 else('B등급' if score >= 60 else '재시험')\\nlevelChk(90), levelChk(55)\",\n",
       " '_59': ('A등급', '재시험'),\n",
       " '_i60': \"def score_grade(score):\\n    if 90 <= score <= 100:\\n        return 'A'\\n    elif 80 <= score < 90:\\n        return 'B'\\n    elif 70 <= score < 80:\\n        return 'C'\\n    elif 60 <= score < 70:\\n        return 'D'\\n    elif 0 <= score < 60:\\n        return 'F'\\n    else:\\n        return '유효하지 않은 점수 등급'\",\n",
       " 'score_grade': <function __main__.<lambda>(score)>,\n",
       " '_i61': \"def score_grade(score):\\n    if 90 <= score <= 100:\\n        return 'A'\\n    elif 80 <= score < 90:\\n        return 'B'\\n    elif 70 <= score < 80:\\n        return 'C'\\n    elif 60 <= score < 70:\\n        return 'D'\\n    elif 0 <= score < 60:\\n        return 'F'\\n    else:\\n        return '유효하지 않은 점수 등급'\",\n",
       " '_i62': \"score_grade = lambda score : 'A' if 90 <= score <= 100 \\\\\\n                                    else 'B ' if 80 <= score < 90\\n                                    else 'C ' if 70 <= score < 80\\n                                    else 'B ' if 60 <= score < 70\\n                                    else 'B ' if 0 <= score < 60\\n                                    else '유효하지 않은 점수 등급'\",\n",
       " '_i63': \"score_grade = lambda score : 'A' if 90 <= score <= 100 \\\\\\n                                    else ()'B ' if 80 <= score < 90)\\n                                    else 'C ' if 70 <= score < 80\\n                                    else 'B ' if 60 <= score < 70\\n                                    else 'B ' if 0 <= score < 60\\n                                    else '유효하지 않은 점수 등급'\",\n",
       " '_i64': \"score_grade = lambda score : 'A' if 90 <= score <= 100 \\\\\\n                                    else ('B ' if 80 <= score < 90)\\n                                    else 'C ' if 70 <= score < 80\\n                                    else 'B ' if 60 <= score < 70\\n                                    else 'B ' if 0 <= score < 60\\n                                    else '유효하지 않은 점수 등급'\",\n",
       " '_i65': \"score_grade = lambda score : 'A' if 90 <= score <= 100 \\\\\\n                                    else 'B ' if 80 <= score < 90:\\n                                    else 'C ' if 70 <= score < 80:\\n                                    else 'B ' if 60 <= score < 70:\\n                                    else 'B ' if 0 <= score < 60:\\n                                    else '유효하지 않은 점수 등급'\",\n",
       " '_i66': \"score_grade = lambda score : 'A' if 90 <= score <= 100 \\\\\\n                                    else 'B ' if 80 <= score < 90 \\\\\\n                                    else 'C ' if 70 <= score < 80 \\\\\\n                                    else 'B ' if 60 <= score < 70 \\\\\\n                                    else 'B ' if 0 <= score < 60 \\\\\\n                                    else '유효하지 않은 점수 등급'\",\n",
       " '_i67': 'score_grade(101)',\n",
       " '_67': '유효하지 않은 점수 등급',\n",
       " '_i68': 'score_grade(95)',\n",
       " '_68': 'A',\n",
       " '_i69': 'score_grade(60)',\n",
       " '_69': 'B ',\n",
       " '_i70': \"score_grade = lambda score : 'A' if 90 <= score <= 100 \\\\\\n                                    else 'B ' if 80 <= score < 90 \\\\\\n                                    else 'C ' if 70 <= score < 80 \\\\\\n                                    else 'D ' if 60 <= score < 70 \\\\\\n                                    else 'F ' if 0 <= score < 60 \\\\\\n                                    else '유효하지 않은 점수 등급'\",\n",
       " '_i71': 'score_grade(60)',\n",
       " '_71': 'D ',\n",
       " '_i72': 'score_grade(101), score_grade(95), score_grade(85), score_grade(75), score_grade(65), score_grade(55)',\n",
       " '_72': ('유효하지 않은 점수 등급', 'A', 'B ', 'C ', 'D ', 'F '),\n",
       " '_i73': \"def score_grade(score):\\n    if 90 <= score <= 100:\\n        return 'A'\\n    elif 80 <= score < 90:\\n        return 'B'\\n    elif 70 <= score < 80:\\n        return 'C'\\n    elif 60 <= score < 70:\\n        return 'D'\\n    elif 0 <= score < 60:\\n        return 'F'\\n    else:\\n        return '유효하지 않은 점수 등급'\\nscore_grade(101), score_grade(95), score_grade(85), score_grade(75), score_grade(65), score_grade(55)\",\n",
       " '_73': ('유효하지 않은 점수 등급', 'A', 'B', 'C', 'D', 'F'),\n",
       " '_i74': \"score_grade = lambda score : 'A' if 90 <= score <= 100 \\\\\\n                                    else 'B ' if 80 <= score < 90 \\\\\\n                                    else 'C ' if 70 <= score < 80 \\\\\\n                                    else 'D ' if 60 <= score < 70 \\\\\\n                                    else 'F ' if 0 <= score < 60 \\\\\\n                                    else '유효하지 않은 점수 등급'\",\n",
       " '_i75': \"score_grade = lambda score : 'A' if 90 <= score <= 100 \\\\\\n                                    else 'B ' if 80 <= score < 90 \\\\\\n                                    else 'C ' if 70 <= score < 80 \\\\\\n                                    else 'D ' if 60 <= score < 70 \\\\\\n                                    else 'F ' if 0 <= score < 60 \\\\\\n                                    else '유효하지 않은 점수 등급'\\nscore_grade(101), score_grade(95), score_grade(85), score_grade(75), score_grade(65), score_grade(55)\",\n",
       " '_75': ('유효하지 않은 점수 등급', 'A', 'B ', 'C ', 'D ', 'F '),\n",
       " '_i76': 'add = lambda a, b : a+b\\nsub = lambda a, b : a-b\\nmul = lambda a, b : a*b\\ndiv = lambda a, b : a/b\\nadd(3, 0), div(3, 0)',\n",
       " 'sub': <function __main__.<lambda>(a, b)>,\n",
       " 'mul': <function __main__.<lambda>(a, b)>,\n",
       " 'div': <function __main__.<lambda>(a, b)>,\n",
       " '_i77': 'add = lambda a, b : a+b\\nsub = lambda a, b : a-b\\nmul = lambda a, b : a*b\\ndiv = lambda a, b : a/b if b != 0\\nadd(3, 0), div(3, 0)',\n",
       " '_i78': \"add = lambda a, b : a+b\\nsub = lambda a, b : a-b\\nmul = lambda a, b : a*b\\ndiv = lambda a, b : a/b if b != 0 else '두 번째 인자가 0으로는 나눌 수 없습니다'\\nadd(3, 0), div(3, 0)\",\n",
       " '_78': (3, '두 번째 인자가 0으로는 나눌 수 없습니다'),\n",
       " '_i79': \"add = lambda a, b : a+b\\nsub = lambda a, b : a-b\\nmul = lambda a, b : a*b\\ndiv = lambda a, b : a/b if b != 0 else '두 번째 인자가 0으로는 나눌 수 없습니다'\\nadd(3, 0), div(3, 0)\\n\\ni = 10\\nj = 20\\nlst = [i, j]\\nlst\",\n",
       " 'i': 10,\n",
       " 'j': 20,\n",
       " '_79': [10, 20],\n",
       " '_i80': \"'''\\ni = 10\\nj = 20\\nlst = [i, j]\\nlst\\n가능\\n'''\\nadd = lambda a, b : a+b\\nsub = lambda a, b : a-b\\nmul = lambda a, b : a*b\\ndiv = lambda a, b : a/b if b != 0 else '두 번째 인자가 0으로는 나눌 수 없습니다'\\nadd(3, 0), div(3, 0)\\n\\n# operations : list안이 function인 변수\\noperations = [add, sub, mul, div]\\n\\n# 매개변수로 함수 list가 옴\\ndef act_operations(a, b, operations=operations):\\n    result = []\\n    for op in operations:\\n        result.append(op(a, b))\\n    return result\\n# def pow(a, b):\\n#     return a**b  # a의 b승\\noperations.append(lambda a, b : a**b)\\nprint(act_operations(10, 2))\",\n",
       " 'operations': [<function __main__.<lambda>(a, b)>,\n",
       "  <function __main__.<lambda>(a, b)>,\n",
       "  <function __main__.<lambda>(a, b)>,\n",
       "  <function __main__.<lambda>(a, b)>,\n",
       "  <function __main__.<lambda>(a, b)>],\n",
       " 'act_operations': <function __main__.<lambda>(a, b, operations=[<function <lambda> at 0x0000022B8AD264D0>, <function <lambda> at 0x0000022B8AD276D0>, <function <lambda> at 0x0000022B8AD245E0>, <function <lambda> at 0x0000022B8AD269E0>, <function <lambda> at 0x0000022B8AED5000>])>,\n",
       " '_i81': '# 리스트 컴프리헨션\\nlst = [1, 2, 3]\\n[l for l in lst]',\n",
       " '_81': [1, 2, 3],\n",
       " '_i82': '# 리스트 컴프리헨션\\nlst = [1, 2, 3]\\n[l*2 for l in lst]',\n",
       " '_82': [2, 4, 6],\n",
       " '_i83': '# 리스트 컴프리헨션\\nlst = [1, 2, 3]\\nprint([l*2 for l in lst])',\n",
       " '_i84': '# 리스트 컴프리헨션\\nlst = [1, 2, 3]\\nprint([l**2 for l in lst])',\n",
       " '_i85': '# 리스트 컴프리헨션\\nlst = [1, 2, 3]\\nprint([l**2 for l in lst])\\nprint([l for l in lst if l%2 == 0])',\n",
       " '_i86': \"'''\\ni = 10\\nj = 20\\nlst = [i, j]\\nlst\\n가능\\n'''\\nadd = lambda a, b : a+b\\nsub = lambda a, b : a-b\\nmul = lambda a, b : a*b\\ndiv = lambda a, b : a/b if b != 0 else '두 번째 인자가 0으로는 나눌 수 없습니다'\\nadd(3, 0), div(3, 0)\\n\\n# operations : list안이 function인 변수\\noperations = [add, sub, mul, div]\\n\\n# 매개변수로 함수 list가 옴\\ndef act_operations(a, b, operations=operations):\\n    result = []\\n    for op in operations:\\n        result.append(op(a, b))\\n    return result\\noperations.append(lambda a, b : a**b)\\n# def pow(a, b):\\n#     return a**b  # a의 b승  위 람다식과 같음\\nprint(act_operations(10, 2))\",\n",
       " '_i87': '# 리스트 컴프리헨션\\nlst = [1, 2, 3]\\nprint([l**2 for l in lst])\\nprint([l for l in lst if l%2 == 0])',\n",
       " '_i88': '# actact_operations의 함수를 리스트 컴프리헨션을 이용하여 람다식으로 구현\\nprint([l.append(a, b) for l in operations])\\nact_operations = lambda a, b, operations=open',\n",
       " '_i89': '# actact_operations의 함수를 리스트 컴프리헨션을 이용하여 람다식으로 구현\\nprint([l.append(a, b) for l in operations])\\n# act_operations = lambda a, b, operations=open',\n",
       " '_i90': \"'''\\ni = 10\\nj = 20\\nlst = [i, j]\\nlst\\n가능\\n'''\\nadd = lambda a, b : a+b\\nsub = lambda a, b : a-b\\nmul = lambda a, b : a*b\\ndiv = lambda a, b : a/b if b != 0 else '두 번째 인자가 0으로는 나눌 수 없습니다'\\nadd(3, 0), div(3, 0)\\n\\n# operations : list안이 function인 변수\\noperations = [add, sub, mul, div]\\n\\n# 매개변수로 함수 list가 옴\\ndef act_operations(a, b, operations=operations):\\n    result = []\\n    for op in operations:\\n        result.append(op(a, b))\\n    return result\\noperations.append(lambda a, b : a**b)\\n# def pow(a, b):\\n#     return a**b  # a의 b승  위 람다식과 같음\\nprint(act_operations(10, 2))\\nprint(act_operations(10, 2, [lambda a, b : a**bm lambda a, b : a*10+b]))\",\n",
       " '_i91': \"'''\\ni = 10\\nj = 20\\nlst = [i, j]\\nlst\\n가능\\n'''\\nadd = lambda a, b : a+b\\nsub = lambda a, b : a-b\\nmul = lambda a, b : a*b\\ndiv = lambda a, b : a/b if b != 0 else '두 번째 인자가 0으로는 나눌 수 없습니다'\\nadd(3, 0), div(3, 0)\\n\\n# operations : list안이 function인 변수\\noperations = [add, sub, mul, div]\\n\\n# 매개변수로 함수 list가 옴\\ndef act_operations(a, b, operations=operations):\\n    result = []\\n    for op in operations:\\n        result.append(op(a, b))\\n    return result\\noperations.append(lambda a, b : a**b)\\n# def pow(a, b):\\n#     return a**b  # a의 b승  위 람다식과 같음\\nprint(act_operations(10, 2))\\nprint(act_operations(10, 2, [lambda a, b : a**b, lambda a, b : a*10+b]))\",\n",
       " '_i92': '# actact_operations의 함수를 리스트 컴프리헨션을 이용하여 람다식으로 구현\\nprint([a, b, operations=operations for 10, 20 in operations])\\n# act_operations = lambda a, b, operations=operations : ',\n",
       " '_i93': '# actact_operations의 함수를 리스트 컴프리헨션을 이용하여 람다식으로 구현\\nprint([a, b, operations=:operations for 10, 20 in operations])\\n# act_operations = lambda a, b, operations=operations : ',\n",
       " '_i94': '# actact_operations의 함수를 리스트 컴프리헨션을 이용하여 람다식으로 구현\\nprint([a, b, operations:=operations for 10, 20 in operations])\\n# act_operations = lambda a, b, operations=operations : ',\n",
       " '_i95': '# actact_operations의 함수를 리스트 컴프리헨션을 이용하여 람다식으로 구현\\nprint([a, b, operations==operations for 10, 20 in operations])\\n# act_operations = lambda a, b, operations=operations : ',\n",
       " '_i96': '# actact_operations의 함수를 리스트 컴프리헨션을 이용하여 람다식으로 구현\\nprint([a, b, operations==operations for a, b, operations==operations in operations])\\n# act_operations = lambda a, b, operations=operations : ',\n",
       " '_i97': '# actact_operations의 함수를 리스트 컴프리헨션을 이용하여 람다식으로 구현\\nprint([a, b, op for op in operations])\\n# act_operations = lambda a, b, operations=operations : ',\n",
       " '_i98': '# actact_operations의 함수를 리스트 컴프리헨션을 이용하여 람다식으로 구현\\nprint([(a, b, op) for op in operations])\\n# act_operations = lambda a, b, operations=operations : ',\n",
       " '_i99': '# actact_operations의 함수를 리스트 컴프리헨션을 이용하여 람다식으로 구현\\nprint([a, b, operations=operations for op in operations])\\n# act_operations = lambda a, b, operations=operations : ',\n",
       " '_i100': '# actact_operations의 함수를 리스트 컴프리헨션을 이용하여 람다식으로 구현\\nprint([a, b, operations==operations for op in operations])\\n# act_operations = lambda a, b, operations=operations : ',\n",
       " '_i101': '# actact_operations의 함수를 리스트 컴프리헨션을 이용하여 람다식으로 구현\\noperations = [add, sub, mul, div]\\ndef act_operations(a, b, operations=operations):\\n    return [op(a, b) for op in operations]\\nact_operations = lambda a, b, operations=operations : [op(a, b) for op in operations]\\nact_operations(5, 2, [lambda a, b : a+b, lambda a, b : a**b])',\n",
       " '_101': [7, 25],\n",
       " '_i102': '# actact_operations의 함수를 리스트 컴프리헨션을 이용하여 람다식으로 구현\\noperations = [add, sub, mul, div]\\ndef act_operations(a, b, operations=operations):\\n    return [op(a, b) for op in operations]\\nact_operations = lambda a, b, operations=operations : [op(a, b) for op in operations]\\nprint(act_operations(5, 2, [lambda a, b : a+b, lambda a, b : a**b]))\\nprint(act_operations(5, 2))',\n",
       " '_i103': '# actact_operations의 함수를 리스트 컴프리헨션을 이용하여 람다식으로 구현\\noperations = [add, sub, mul, div]\\ndef act_operations(a, b, operations=operations):\\n    return [op(a, b) for op in operations]\\nact_operations = lambda a, b, operations=operations : [op(a, b) for op in operations]\\nprint(act_operations(5, 2, [lambda a, b : a+b, lambda a, b : a**b]))\\nact_operations.append(lambda a, b : a**b)\\nprint(act_operations(5, 2))',\n",
       " '_i104': '# actact_operations의 함수를 리스트 컴프리헨션을 이용하여 람다식으로 구현\\noperations = [add, sub, mul, div]\\ndef act_operations(a, b, operations=operations):\\n    return [op(a, b) for op in operations]\\nact_operations = lambda a, b, operations=operations : [op(a, b) for op in operations]\\nprint(act_operations(5, 2, [lambda a, b : a+b, lambda a, b : a**b]))\\noperations.append(lambda a, b : a**b)\\nprint(act_operations(5, 2))',\n",
       " '_i105': '# actact_operations의 함수를 리스트 컴프리헨션을 이용하여 람다식으로 구현\\noperations = [add, sub, mul, div]\\ndef act_operations(a, b, operations=operations):\\n    return [op(a, b) for op in operations]\\nact_operations = lambda a, b, operations=operations : [op(a, b) for op in operations]\\n\\nprint(act_operations(5, 2, [lambda a, b : a+b, lambda a, b : a**b]))\\n\\noperations.append(lambda a, b : a**b)\\nprint(act_operations(5, 2))',\n",
       " '_i106': '## 4.2 함수의 매개변수',\n",
       " '_i107': 'def map_template(func, L=[]):\\n    result = []\\n    for item in L:\\n        result.append(func(item))\\n    return result',\n",
       " 'map_template': <function __main__.map_template(func, L=[])>,\n",
       " '_i108': 'def map_template(func, L=[]):\\n    result = []\\n    for item in L:  # 매개변수로 받은 L의 item을 순차적으로\\n        result.append(func(item))  # func을 적용해서 result에 append\\n    return result',\n",
       " '_i109': 'list_data = [1, 2, 3, 4, 5, 6, 7, 8]\\ndef x_2(x):\\n    return x*2\\nmap_template(x_2, list_data)',\n",
       " 'list_data': [1, 2, 3, 4, 5, 6, 7, 8],\n",
       " 'x_2': <function __main__.x_2(x)>,\n",
       " '_109': [2, 4, 6, 8, 10, 12, 14, 16],\n",
       " '_i110': 'list_data = [1, 2, 3, 4, 5, 6, 7, 8]\\n# def x_2(x):\\n#     return x*2\\n# map_template(x_2, list_data)\\nmap_template(lambda x : x*2, list_data)',\n",
       " '_110': [2, 4, 6, 8, 10, 12, 14, 16],\n",
       " '_i111': '# 리스크 컴프리헨션\\n[l*2 for l in list_data]',\n",
       " '_111': [2, 4, 6, 8, 10, 12, 14, 16],\n",
       " '_i112': '# 리스크 컴프리헨션\\n[x*2 for x in list_data]',\n",
       " '_112': [2, 4, 6, 8, 10, 12, 14, 16],\n",
       " '_i113': 'map(lambda x : x*2, list_data)',\n",
       " '_113': <map at 0x22b8adbd810>,\n",
       " '_i114': 'list(map(lambda x : x*2, list_data))',\n",
       " '_114': [2, 4, 6, 8, 10, 12, 14, 16],\n",
       " '_i115': 'print(map(lambda x : x*2, list_data))\\nprint(list(map(lambda x : x*2, list_data)))',\n",
       " '_i116': 'enumerate(list_data)',\n",
       " '_116': <enumerate at 0x22b8ad70700>,\n",
       " '_i117': 'list(enumerate(list_data))',\n",
       " '_117': [(0, 1), (1, 2), (2, 3), (3, 4), (4, 5), (5, 6), (6, 7), (7, 8)],\n",
       " '_i118': \"for x in map(lambds x : x*2, list_data):\\n    pritn(x, end=' ')\",\n",
       " '_i119': \"for x in map(lambda x : x*2, list_data):\\n    print(x, end=' ')\",\n",
       " 'x': 2.0,\n",
       " '_i120': 'print(list(enumerate(list_data))',\n",
       " '_i121': 'print(list(enumerate(list_data)))',\n",
       " '_i122': 'print(enumerate(list_data))\\nprint(list(enumerate(list_data)))',\n",
       " '_i123': '# map : 내부적으로 list처럼 저장되어 있는 vector 타입(for문에 사용가능)\\nprint(map(lambda x : x*2, list_data))  \\nprint(list(map(lambda x : x*2, list_data)))',\n",
       " '_i124': 'def filter_template(func, L=[]):\\n    result = []\\n    for item in L:\\n        if func(item):\\n            result.append(item)\\n    return result',\n",
       " 'filter_template': <function __main__.filter_template(func, L=[])>,\n",
       " '_i125': 'def evenChk(value):\\n    return value%2 == 0\\n#     if value%2 == 0:\\n#         return True\\n#     else:\\n#         return False\\nlist_data = [1, 2, 3, 4, 5, 6, 7, 8]\\n# filter_template(evenChk, list_data)\\nfilter_template(lambda x : x%2 == 0, L=list_data)',\n",
       " 'evenChk': <function __main__.evenChk(value)>,\n",
       " '_125': [2, 4, 6, 8],\n",
       " '_i126': 'def evenChk(value):\\n    return value%2 == 0\\n#     if value%2 == 0:\\n#         return True\\n#     else:\\n#         return False\\nlist_data = [1, 2, 3, 4, 5, 6, 7, 8]\\n# filter_template(evenChk, list_data)\\nfilter_template(lambda x : x%2 == 0, L=list_data)',\n",
       " '_126': [2, 4, 6, 8],\n",
       " '_i127': 'filter(lambda x : x%2 == 0, list_data)',\n",
       " '_127': <filter at 0x22b8adb96f0>,\n",
       " '_i128': 'print(filter(lambda x : x%2 == 0, list_data))\\nprint(list(filter(lambda x : x%2 == 0, list_data)))',\n",
       " '_i129': \"print(filter(lambda x : x%2 == 0, list_data))\\nprint(list(filter(lambda x : x%2 == 0, list_data)))\\nfor data in filter(lambda x : x%2 == 0, list_data):\\nprint(item, end=' ')\",\n",
       " '_i130': \"print(filter(lambda x : x%2 == 0, list_data))\\nprint(list(filter(lambda x : x%2 == 0, list_data)))\\nfor data in filter(lambda x : x%2 == 0, list_data):\\n    print(item, end=' ')\",\n",
       " 'data': 2,\n",
       " '_i131': \"print(filter(lambda x : x%2 == 0, list_data))\\nprint(list(filter(lambda x : x%2 == 0, list_data)))\\nfor item in filter(lambda x : x%2 == 0, list_data):\\n    print(item, end=' ')\",\n",
       " 'item': 100,\n",
       " '_i132': \"print(filter(lambda x : x%2 == 0, list_data))\\nprint(list(filter(lambda x : x%2 == 0, list_data)))\\n# filter 함수 이용\\nfor item in filter(lambda x : x%2 == 0, list_data):\\n    print(item, end=' ')\",\n",
       " '_i133': '# 리스트 컴프리헨션 이용\\n[x for x in list_data]',\n",
       " '_133': [1, 2, 3, 4, 5, 6, 7, 8],\n",
       " '_i134': '# 리스트 컴프리헨션 이용\\n[x for x in list_data]\\n[x%2 == 0 x in list_data]',\n",
       " '_i135': '# 리스트 컴프리헨션 이용\\n[x for x in list_data]\\n[x%2 == 0 for x in list_data]',\n",
       " '_135': [False, True, False, True, False, True, False, True],\n",
       " '_i136': '# 리스트 컴프리헨션 이용\\n[x for x in list_data]\\n[x for x in list_data if x%2 == 0]',\n",
       " '_136': [2, 4, 6, 8],\n",
       " '_i137': '# 리스트 컴프리헨션 이용\\nprint([x for x in list_data])\\n[x for x in list_data if x%2 == 0]',\n",
       " '_137': [2, 4, 6, 8],\n",
       " '_i138': '# 리스트 컴프리헨션 이용\\nprint([x for x in list_data])\\n[x for x in list_data if x%2 == 0]',\n",
       " '_138': [2, 4, 6, 8],\n",
       " '_i139': '# quiz : 다음 리스트에서 소수점이하가 0인 수만 추출하시오\\n# 1. filter함수, 람다식 이용 / 2. filter_template 이용 / 3. 리스트 컴프리헨션 이용\\nL = [1, 1.2, 1.5, 2, 3.0, 10.5, 100]\\n\\n\\n# 결과 [1, 2, 3.0, 100]',\n",
       " 'L': [1, 1.2, 1.5, 2, 3.0, 10.5, 100],\n",
       " '_i140': 'def filter_template(func, L=[]):\\n    result = []\\n    for item in L:\\n        if func(item):\\n            result.append(item)\\n    return result',\n",
       " '_i141': 'filter_template(lambda x, x%2==0, [1,2,3])',\n",
       " '_i142': \"# quiz : 다음 리스트에서 소수점이하가 0인 수만 추출하시오\\n# 1. filter함수, 람다식 이용 / 2. filter_template 이용 / 3. 리스트 컴프리헨션 이용\\nL = [1, 1.2, 1.5, 2, 3.0, 10.5, 100]\\n\\n# 1.\\nfor item in filter(lambda x : x.2f, L)\\n    print(item, end=' ')\\n\\n# 결과 [1, 2, 3.0, 100]\",\n",
       " '_i143': \"# quiz : 다음 리스트에서 소수점이하가 0인 수만 추출하시오\\n# 1. filter함수, 람다식 이용 / 2. filter_template 이용 / 3. 리스트 컴프리헨션 이용\\nL = [1, 1.2, 1.5, 2, 3.0, 10.5, 100]\\n\\n# 1.\\nfor item in filter(lambda x : x.2f, L)\\n    print('{:.2f}', item.format(x), end=' ')\\n\\n# 결과 [1, 2, 3.0, 100]\",\n",
       " '_i144': \"# quiz : 다음 리스트에서 소수점이하가 0인 수만 추출하시오\\n# 1. filter함수, 람다식 이용 / 2. filter_template 이용 / 3. 리스트 컴프리헨션 이용\\nL = [1, 1.2, 1.5, 2, 3.0, 10.5, 100]\\n\\n# 1.\\nfor item in filter(lambda x : x, L)\\n    print('{:.2f}', item.format(x), end=' ')\\n\\n# 결과 [1, 2, 3.0, 100]\",\n",
       " '_i145': \"# quiz : 다음 리스트에서 소수점이하가 0인 수만 추출하시오\\n# 1. filter함수, 람다식 이용 / 2. filter_template 이용 / 3. 리스트 컴프리헨션 이용\\nL = [1, 1.2, 1.5, 2, 3.0, 10.5, 100]\\n\\n# 1.\\nfor item in filter(lambda x : x, L):\\n    print('{:.2f}', item.format(x), end=' ')\\n\\n# 결과 [1, 2, 3.0, 100]\",\n",
       " '_i146': \"# quiz : 다음 리스트에서 소수점이하가 0인 수만 추출하시오\\n# 1. filter함수, 람다식 이용 / 2. filter_template 이용 / 3. 리스트 컴프리헨션 이용\\nL = [1, 1.2, 1.5, 2, 3.0, 10.5, 100]\\n\\n# 1.\\nfor item in filter(lambda x : x, L):\\n    print('{:.2f}', x.format(x), end=' ')\\n\\n# 결과 [1, 2, 3.0, 100]\",\n",
       " '_i147': \"# quiz : 다음 리스트에서 소수점이하가 0인 수만 추출하시오\\n# 1. filter함수, 람다식 이용 / 2. filter_template 이용 / 3. 리스트 컴프리헨션 이용\\nL = [1, 1.2, 1.5, 2, 3.0, 10.5, 100]\\n\\n# 1.\\nfor item in filter(lambda x : x, L):\\n    print('{:.2f}', x.format(item), end=' ')\\n\\n# 결과 [1, 2, 3.0, 100]\",\n",
       " '_i148': \"# quiz : 다음 리스트에서 소수점이하가 0인 수만 추출하시오\\n# 1. filter함수, 람다식 이용 / 2. filter_template 이용 / 3. 리스트 컴프리헨션 이용\\nL = [1, 1.2, 1.5, 2, 3.0, 10.5, 100]\\n\\n# 1.\\nfor item in filter(lambda x : x.2f, L):\\n    print(item, end=' ')\\n\\n# 결과 [1, 2, 3.0, 100]\",\n",
       " '_i149': \"# quiz : 다음 리스트에서 소수점이하가 0인 수만 추출하시오\\n# 1. filter함수, 람다식 이용 / 2. filter_template 이용 / 3. 리스트 컴프리헨션 이용\\nL = [1, 1.2, 1.5, 2, 3.0, 10.5, 100]\\n\\n# 1.\\nfor item in filter(lambda x : x.is_integer(), L):\\n    print(item, end=' ')\\n\\n# 결과 [1, 2, 3.0, 100]\",\n",
       " '_i150': \"# quiz : 다음 리스트에서 소수점이하가 0인 수만 추출하시오\\n# 1. filter함수, 람다식 이용 / 2. filter_template 이용 / 3. 리스트 컴프리헨션 이용\\nL = [1, 1.2, 1.5, 2, 3.0, 10.5, 100]\\n\\n# 1.\\nfor item in filter(lambda x : x.is_integer(), L):\\n    print(item, end=' ')\\n\\n# 결과 [1, 2, 3.0, 100]\",\n",
       " '_i151': \"# quiz : 다음 리스트에서 소수점이하가 0인 수만 추출하시오\\n# 1. filter함수, 람다식 이용 / 2. filter_template 이용 / 3. 리스트 컴프리헨션 이용\\nL = [1, 1.2, 1.5, 2, 3.0, 10.5, 100]\\n\\n# 1.\\nfor item in filter(lambda x : x.int(), L):\\n    print(item, end=' ')\\n\\n# 결과 [1, 2, 3.0, 100]\",\n",
       " '_i152': \"# quiz : 다음 리스트에서 소수점이하가 0인 수만 추출하시오\\n# 1. filter함수, 람다식 이용 / 2. filter_template 이용 / 3. 리스트 컴프리헨션 이용\\nL = [1, 1.2, 1.5, 2, 3.0, 10.5, 100]\\n\\n# 1.\\nfor item in filter(lambda x : x.is_int(), L):\\n    print(item, end=' ')\\n\\n# 결과 [1, 2, 3.0, 100]\",\n",
       " '_i153': \"# quiz : 다음 리스트에서 소수점이하가 0인 수만 추출하시오\\n# 1. filter함수, 람다식 이용 / 2. filter_template 이용 / 3. 리스트 컴프리헨션 이용\\nL = [1, 1.2, 1.5, 2, 3.0, 10.5, 100]\\n\\n# 1.\\nprint(list(filter(lambda x : x.int(), L)))\\nfor item in filter(lambda x : x.(), L):\\n    print(item, end=' ')\\n\\n# 결과 [1, 2, 3.0, 100]\",\n",
       " '_i154': \"# quiz : 다음 리스트에서 소수점이하가 0인 수만 추출하시오\\n# 1. filter함수, 람다식 이용 / 2. filter_template 이용 / 3. 리스트 컴프리헨션 이용\\nL = [1, 1.2, 1.5, 2, 3.0, 10.5, 100]\\n\\n# 1.\\nprint(list(filter(lambda x : x.int(), L)))\\nfor item in filter(lambda x : x.int(), L):\\n    print(item, end=' ')\\n\\n# 결과 [1, 2, 3.0, 100]\",\n",
       " '_i155': \"# quiz : 다음 리스트에서 소수점이하가 0인 수만 추출하시오\\n# 1. filter함수, 람다식 이용 / 2. filter_template 이용 / 3. 리스트 컴프리헨션 이용\\nL = [1, 1.2, 1.5, 2, 3.0, 10.5, 100]\\n\\n# 1.\\nprint(list(filter(lambda x : x.integer(), L)))\\nfor item in filter(lambda x : x.int(), L):\\n    print(item, end=' ')\\n\\n# 결과 [1, 2, 3.0, 100]\",\n",
       " '_i156': \"# quiz : 다음 리스트에서 소수점이하가 0인 수만 추출하시오\\n# 1. filter함수, 람다식 이용 / 2. filter_template 이용 / 3. 리스트 컴프리헨션 이용\\nL = [1, 1.2, 1.5, 2, 3.0, 10.5, 100]\\n\\n# 1.\\nprint(list(filter(lambda x : x.is_integer(), L)))\\nfor item in filter(lambda x : x.int(), L):\\n    print(item, end=' ')\\n\\n# 결과 [1, 2, 3.0, 100]\",\n",
       " '_i157': \"# quiz : 다음 리스트에서 소수점이하가 0인 수만 추출하시오\\n# 1. filter함수, 람다식 이용 / 2. filter_template 이용 / 3. 리스트 컴프리헨션 이용\\nL = [1, 1.2, 1.5, 2, 3.0, 10.5, 100]\\n\\n# 1.\\nprint(list(filter(lambda x : x.int(), L)))\\nfor item in filter(lambda x : x.int(), L):\\n    print(item, end=' ')\\n\\n# 결과 [1, 2, 3.0, 100]\",\n",
       " '_i158': \"# quiz : 다음 리스트에서 소수점이하가 0인 수만 추출하시오\\n# 1. filter함수, 람다식 이용 / 2. filter_template 이용 / 3. 리스트 컴프리헨션 이용\\nL = [1, 1.2, 1.5, 2, 3.0, 10.5, 100]\\n\\n# 1.\\nprint(list(filter(lambda x : int(x), L)))\\nfor item in filter(lambda x : x.int(), L):\\n    print(item, end=' ')\\n\\n# 결과 [1, 2, 3.0, 100]\",\n",
       " '_i159': \"# quiz : 다음 리스트에서 소수점이하가 0인 수만 추출하시오\\n# 1. filter함수, 람다식 이용 / 2. filter_template 이용 / 3. 리스트 컴프리헨션 이용\\nL = [1, 1.2, 1.5, 2, 3.0, 10.5, 100]\\n\\n# 1.\\nprint(list(filter(lambda x : int(x), L)))\\nfor item in filter(lambda x : int(x), L):\\n    print(item, end=' ')\\n\\n# 결과 [1, 2, 3.0, 100]\",\n",
       " '_i160': \"# quiz : 다음 리스트에서 소수점이하가 0인 수만 추출하시오\\n# 1. filter함수, 람다식 이용 / 2. filter_template 이용 / 3. 리스트 컴프리헨션 이용\\nL = [1, 1.2, 1.5, 2, 3.0, 10.5, 100]\\n\\n# 1.\\nprint(list(filter(lambda x : int(x), L)))\\n\\n# for item in filter(lambda x : int(x), L):\\n#     print(item, end=' ')\\n\\n# 결과 [1, 2, 3.0, 100]\",\n",
       " '_i161': \"# quiz : 다음 리스트에서 소수점이하가 0인 수만 추출하시오\\n# 1. filter함수, 람다식 이용 / 2. filter_template 이용 / 3. 리스트 컴프리헨션 이용\\nL = [1, 1.2, 1.5, 2, 3.0, 10.5, 100]\\n\\n# 1.\\nprint(list(filter(lambda x : int(x, ), L)))\\n\\n# for item in filter(lambda x : int(x), L):\\n#     print(item, end=' ')\\n\\n# 결과 [1, 2, 3.0, 100]\",\n",
       " '_i162': \"# quiz : 다음 리스트에서 소수점이하가 0인 수만 추출하시오\\n# 1. filter함수, 람다식 이용 / 2. filter_template 이용 / 3. 리스트 컴프리헨션 이용\\nL = [1, 1.2, 1.5, 2, 3.0, 10.5, 100]\\n\\n# 1.\\nprint(list(filter(lambda x : int(x), L)))\\n\\n# for item in filter(lambda x : int(x), L):\\n#     print(item, end=' ')\\n\\n# 결과 [1, 2, 3.0, 100]\",\n",
       " '_i163': \"# quiz : 다음 리스트에서 소수점이하가 0인 수만 추출하시오\\n# 1. filter함수, 람다식 이용 / 2. filter_template 이용 / 3. 리스트 컴프리헨션 이용\\nL = [1, 1.2, 1.5, 2, 3.0, 10.5, 100]\\n\\n# 1.\\nprint(list(filter(lambda x : int(x), L)))\\n\\nfor item in filter(lambda x : int(x), L):\\n    print(item, end=' ')\\n\\n# 결과 [1, 2, 3.0, 100]\",\n",
       " '_i164': \"# quiz : 다음 리스트에서 소수점이하가 0인 수만 추출하시오\\n# 1. filter함수, 람다식 이용 / 2. filter_template 이용 / 3. 리스트 컴프리헨션 이용\\nL = [1, 1.2, 1.5, 2, 3.0, 10.5, 100]\\n\\n# 1.\\nprint(list(filter(lambda x : int(x, .f), L)))\\n\\nfor item in filter(lambda x : int(x), L):\\n    print(item, end=' ')\\n\\n# 결과 [1, 2, 3.0, 100]\",\n",
       " '_i165': \"# quiz : 다음 리스트에서 소수점이하가 0인 수만 추출하시오\\n# 1. filter함수, 람다식 이용 / 2. filter_template 이용 / 3. 리스트 컴프리헨션 이용\\nL = [1, 1.2, 1.5, 2, 3.0, 10.5, 100]\\n\\n# 1.\\nprint(list(filter(lambda x : int(x, f), L)))\\n\\nfor item in filter(lambda x : int(x), L):\\n    print(item, end=' ')\\n\\n# 결과 [1, 2, 3.0, 100]\",\n",
       " '_i166': \"# quiz : 다음 리스트에서 소수점이하가 0인 수만 추출하시오\\n# 1. filter함수, 람다식 이용 / 2. filter_template 이용 / 3. 리스트 컴프리헨션 이용\\nL = [1, 1.2, 1.5, 2, 3.0, 10.5, 100]\\n\\n# 1.\\nprint(list(filter(lambda x : int(x), L)))\\n\\nfor item in filter(lambda x : int(x), L):\\n    print(item, end=' ')\\n\\n# 2.\\nfilter_template(lambda x : x%2 == 0, L=list_data)\\n    \\n# 결과 [1, 2, 3.0, 100]\",\n",
       " '_166': [2, 4, 6, 8],\n",
       " '_i167': \"# quiz : 다음 리스트에서 소수점이하가 0인 수만 추출하시오\\n# 1. filter함수, 람다식 이용 / 2. filter_template 이용 / 3. 리스트 컴프리헨션 이용\\nL = [1, 1.2, 1.5, 2, 3.0, 10.5, 100]\\n\\n# 1.\\nprint(list(filter(lambda x : int(x), L)))\\n\\nfor item in filter(lambda x : int(x), L):\\n    print(item, end=' ')\\n\\n# 2.\\nfilter_template(lambda x : x%2 == 0, L)\\n    \\n# 결과 [1, 2, 3.0, 100]\",\n",
       " '_167': [2, 100],\n",
       " '_i168': \"# quiz : 다음 리스트에서 소수점이하가 0인 수만 추출하시오\\n# 1. filter함수, 람다식 이용 / 2. filter_template 이용 / 3. 리스트 컴프리헨션 이용\\nL = [1, 1.2, 1.5, 2, 3.0, 10.5, 100]\\n\\n# 1.\\nprint(list(filter(lambda x : int(x), L)))\\n\\nfor item in filter(lambda x : int(x), L):\\n    print(item, end=' ')\\n\\n# 2.\\nfilter_template(lambda x : int(x), L)\\n    \\n# 결과 [1, 2, 3.0, 100]\",\n",
       " '_168': [1, 1.2, 1.5, 2, 3.0, 10.5, 100],\n",
       " '_i169': \"# quiz : 다음 리스트에서 소수점이하가 0인 수만 추출하시오\\n# 1. filter함수, 람다식 이용 / 2. filter_template 이용 / 3. 리스트 컴프리헨션 이용\\nL = [1, 1.2, 1.5, 2, 3.0, 10.5, 100]\\n\\n# 1.\\nprint(list(filter(lambda x: int(x), L)))\\n\\nfor item in filter(lambda x: x/1.0, L):\\n    print(item, end=' ')\\n\\n# 2.\\nfilter_template(lambda x: int(x), L)\\n\\n# 결과 [1, 2, 3.0, 100]\",\n",
       " '_169': [1, 1.2, 1.5, 2, 3.0, 10.5, 100],\n",
       " '_i170': \"# quiz : 다음 리스트에서 소수점이하가 0인 수만 추출하시오\\n# 1. filter함수, 람다식 이용 / 2. filter_template 이용 / 3. 리스트 컴프리헨션 이용\\nL = [1, 1.2, 1.5, 2, 3.0, 10.5, 100]\\n\\n# 1.\\nprint(list(filter(lambda x: x/1.0, L)))\\n\\nfor item in filter(lambda x: x/1.0, L):\\n    print(item, end=' ')\\n\\n# 2.\\nfilter_template(lambda x: int(x), L)\\n\\n# 결과 [1, 2, 3.0, 100]\",\n",
       " '_170': [1, 1.2, 1.5, 2, 3.0, 10.5, 100],\n",
       " '_i171': \"# quiz : 다음 리스트에서 소수점이하가 0인 수만 추출하시오\\n# 1. filter함수, 람다식 이용 / 2. filter_template 이용 / 3. 리스트 컴프리헨션 이용\\nL = [1, 1.2, 1.5, 2, 3.0, 10.5, 100]\\n\\n# 1.\\nprint(list(filter(lambda x: x%1.0, L)))\\n\\nfor item in filter(lambda x: x%1.0, L):\\n    print(item, end=' ')\\n\\n# 2.\\nfilter_template(lambda x: x%1.0, L)\\n\\n# 3.\\n[x for x in L if x%1.0]\\n\\n# 결과 [1, 2, 3.0, 100]\",\n",
       " '_171': [1.2, 1.5, 10.5],\n",
       " '_i172': \"# quiz : 다음 리스트에서 소수점이하가 0인 수만 추출하시오\\n# 1. filter함수, 람다식 이용 / 2. filter_template 이용 / 3. 리스트 컴프리헨션 이용\\nL = [1, 1.2, 1.5, 2, 3.0, 10.5, 100]\\n\\n# 1.\\nprint(list(filter(lambda x : x%1.0, L)))\\n\\nfor item in filter(lambda x : x%1.0, L):\\n    print(item, end=' ')\\n\\n# 2.\\nfilter_template(lambda x: x%1.0, L)\\n\\n# 3.\\n[x for x in L if x%1.0]\\n\\n# 결과 [1, 2, 3.0, 100]\",\n",
       " '_172': [1.2, 1.5, 10.5],\n",
       " '_i173': \"# quiz : 다음 리스트에서 소수점이하가 0인 수만 추출하시오\\n# 1. filter함수, 람다식 이용 / 2. filter_template 이용 / 3. 리스트 컴프리헨션 이용\\nL = [1, 1.2, 1.5, 2, 3.0, 10.5, 100]\\n\\n# 1.\\nprint(list(filter(lambda x : x%1.0, L)))\\n\\nfor item in filter(lambda x : x%1.0, L):\\n    print(item, end=' ')\\n\\n# 2.\\nfilter_template(lambda x : x%1.0, L)\\n\\n# 3.\\n[x for x in L if x%1.0]\\n\\n# 결과 [1, 2, 3.0, 100]\",\n",
       " '_173': [1.2, 1.5, 10.5],\n",
       " '_i174': \"# quiz : 다음 리스트에서 소수점이하가 0인 수만 추출하시오\\n# 1. filter함수, 람다식 이용 / 2. filter_template 이용 / 3. 리스트 컴프리헨션 이용\\nL = [1, 1.2, 1.5, 2, 3.0, 10.5, 100]\\n\\n# 1.\\nprint(filter(lambda x : x%1.0, L))\\n\\nfor item in filter(lambda x : x%1.0, L):\\n    print(item, end=' ')\\n\\n# 2.\\nfilter_template(lambda x : x%1.0, L)\\n\\n# 3.\\n[x for x in L if x%1.0]\\n\\n# 결과 [1, 2, 3.0, 100]\",\n",
       " '_174': [1.2, 1.5, 10.5],\n",
       " '_i175': \"# quiz : 다음 리스트에서 소수점이하가 0인 수만 추출하시오\\n# 1. filter함수, 람다식 이용 / 2. filter_template 이용 / 3. 리스트 컴프리헨션 이용\\nL = [1, 1.2, 1.5, 2, 3.0, 10.5, 100]\\n\\n# 1.\\nprint(list(filter(lambda x : x%1.0, L)))\\n\\nfor item in filter(lambda x : x%1.0, L):\\n    print(item, end=' ')\\n\\n# 2.\\nfilter_template(lambda x : x%1.0, L)\\n\\n# 3.\\n[x for x in L if x%1.0]\\n\\n# 결과 [1, 2, 3.0, 100]\",\n",
       " '_175': [1.2, 1.5, 10.5],\n",
       " '_i176': \"# quiz : 다음 리스트에서 소수점이하가 0인 수만 추출하시오\\n# 1. filter함수, 람다식 이용 / 2. filter_template 이용 / 3. 리스트 컴프리헨션 이용\\nL = [1, 1.2, 1.5, 2, 3.0, 10.5, 100]\\n\\n# 1.\\nprint(list(filter(lambda x: x%1.0, L)))\\n\\nfor item in filter(lambda x: x % 1.0, L):\\n    print(item, end=' ')\\n\\n# 2.\\nfilter_template(lambda x: x % 1.0, L)\\n\\n# 3.\\n[x for x in L if x % 1.0]\\n\\n# 결과 [1, 2, 3.0, 100]\",\n",
       " '_176': [1.2, 1.5, 10.5],\n",
       " '_i177': \"# quiz : 다음 리스트에서 소수점이하가 0인 수만 추출하시오\\n# 1. filter함수, 람다식 이용 / 2. filter_template 이용 / 3. 리스트 컴프리헨션 이용\\nL = [1, 1.2, 1.5, 2, 3.0, 10.5, 100]\\n\\nx = 2.0\\n\\n# 1.\\nprint(list(filter(lambda x: x%1.0, L)))\\n\\nfor item in filter(lambda x: x % 1.0, L):\\n    print(item, end=' ')\\n\\n# 2.\\nfilter_template(lambda x: x % 1.0, L)\\n\\n# 3.\\n[x for x in L if x % 1.0]\\n\\n# 결과 [1, 2, 3.0, 100]\",\n",
       " '_177': [1.2, 1.5, 10.5],\n",
       " '_i178': \"# quiz : 다음 리스트에서 소수점이하가 0인 수만 추출하시오\\n# 1. filter함수, 람다식 이용 / 2. filter_template 이용 / 3. 리스트 컴프리헨션 이용\\nL = [1, 1.2, 1.5, 2, 3.0, 10.5, 100]\\n\\n# 정수인지 확인\\nx = 2.0\\nprint(x.is_integer())\\n\\n\\n# 1.\\nprint(list(filter(lambda x: x%1.0, L)))\\n\\nfor item in filter(lambda x: x % 1.0, L):\\n    print(item, end=' ')\\n\\n# 2.\\nfilter_template(lambda x: x % 1.0, L)\\n\\n# 3.\\n[x for x in L if x % 1.0]\\n\\n# 결과 [1, 2, 3.0, 100]\",\n",
       " '_178': [1.2, 1.5, 10.5],\n",
       " '_i179': \"# quiz : 다음 리스트에서 소수점이하가 0인 수만 추출하시오\\n# 1. filter함수, 람다식 이용 / 2. filter_template 이용 / 3. 리스트 컴프리헨션 이용\\nL = [1, 1.2, 1.5, 2, 3.0, 10.5, 100]\\n\\n# 정수인지 확인 (x가 실제 정수이면 에러)\\n# x = 2.0\\n# print(x.is_integer())\\n\\n\\n# 1.\\nprint(list(filter(lambda x: x%1.0, L)))\\n\\nfor item in filter(lambda x: x % 1.0, L):\\n    print(item, end=' ')\\n\\n# 2.\\nfilter_template(lambda x: x % 1.0, L)\\n\\n# 3.\\n[x for x in L if x % 1.0]\\n\\n# 결과 [1, 2, 3.0, 100]\",\n",
       " '_179': [1.2, 1.5, 10.5],\n",
       " '_i180': \"# quiz : 다음 리스트에서 소수점이하가 0인 수만 추출하시오\\n# 1. filter함수, 람다식 이용 / 2. filter_template 이용 / 3. 리스트 컴프리헨션 이용\\nL = [1, 1.2, 1.5, 2, 3.0, 10.5, 100]\\n\\n# 정수인지 확인 (x가 실제 정수이면 에러)\\n# x = 2.0\\n# print(x.is_integer())\\n\\n# 1.\\nprint(list(filter(lambda x: x//1.0, L)))\\n\\nfor item in filter(lambda x: x % 1.0, L):\\n    print(item, end=' ')\\n\\n# 2.\\nfilter_template(lambda x: x % 1.0, L)\\n\\n# 3.\\n[x for x in L if x % 1.0]\\n\\n# 결과 [1, 2, 3.0, 100]\",\n",
       " '_180': [1.2, 1.5, 10.5],\n",
       " '_i181': \"# quiz : 다음 리스트에서 소수점이하가 0인 수만 추출하시오\\n# 1. filter함수, 람다식 이용 / 2. filter_template 이용 / 3. 리스트 컴프리헨션 이용\\nL = [1, 1.2, 1.5, 2, 3.0, 10.5, 100]\\n\\n# 정수인지 확인 (x가 실제 정수이면 에러)\\n# x = 2.0\\n# print(x.is_integer())\\n\\n# 1.\\nprint(list(filter(lambda x: x%1.0, L)))\\n\\nfor item in filter(lambda x: x % 1.0, L):\\n    print(item, end=' ')\\n\\n# 2.\\nfilter_template(lambda x: x % 1.0, L)\\n\\n# 3.\\n[x for x in L if x % 1.0]\\n\\n# 결과 [1, 2, 3.0, 100]\",\n",
       " '_181': [1.2, 1.5, 10.5],\n",
       " '_i182': \"# quiz : 다음 리스트에서 소수점이하가 0인 수만 추출하시오\\n# 1. filter함수, 람다식 이용 / 2. filter_template 이용 / 3. 리스트 컴프리헨션 이용\\nL = [1, 1.2, 1.5, 2, 3.0, 10.5, 100]\\n\\n# 정수인지 확인 (x가 실제 정수이면 에러)\\n# x = 2.0\\n# print(x.is_integer())\\n\\n# 1.\\nprint(list(filter(lambda x: x%1.0 == 0, L)))\\n\\nfor item in filter(lambda x: x % 1.0, L):\\n    print(item, end=' ')\\n\\n# 2.\\nfilter_template(lambda x: x % 1.0, L)\\n\\n# 3.\\n[x for x in L if x % 1.0]\\n\\n# 결과 [1, 2, 3.0, 100]\",\n",
       " '_182': [1.2, 1.5, 10.5],\n",
       " '_i183': \"# quiz : 다음 리스트에서 소수점이하가 0인 수만 추출하시오\\n# 1. filter함수, 람다식 이용 / 2. filter_template 이용 / 3. 리스트 컴프리헨션 이용\\nL = [1, 1.2, 1.5, 2, 3.0, 10.5, 100]\\n\\n# 정수인지 확인 (x가 실제 정수이면 에러)\\n# x = 2.0\\n# print(x.is_integer())\\n\\n# 1.\\nprint(list(filter(lambda x: x%1.0 == 0, L)))\\nprint(list(filter(lambda x: x == round(x), L)))\\nprint(list(filter(lambda x: x == x//1, L)))\\n\\nfor item in filter(lambda x: x % 1.0, L):\\n    print(item, end=' ')\\n\\n# 2.\\nfilter_template(lambda x: x % 1.0, L)\\n\\n# 3.\\n[x for x in L if x % 1.0]\\n\\n# 결과 [1, 2, 3.0, 100]\",\n",
       " '_183': [1.2, 1.5, 10.5],\n",
       " '_i184': \"# quiz : 다음 리스트에서 소수점이하가 0인 수만 추출하시오\\n# 1. filter함수, 람다식 이용 / 2. filter_template 이용 / 3. 리스트 컴프리헨션 이용\\nL = [1, 1.2, 1.5, 2, 3.0, 10.5, 100]\\n\\n# 정수인지 확인 (x가 실제 정수이면 에러)\\n# x = 2.0\\n# print(x.is_integer())\\n\\n# 1.\\nprint(list(filter(lambda x: x%1.0 == 0, L)))\\nprint(list(filter(lambda x: x == round(x), L)))\\nprint(list(filter(lambda x: x == x//1, L)))\\n\\nfor item in filter(lambda x: x%1.0 == 0, L):\\n    print(item, end=' ')\\n\\n# 2.\\nfilter_template(lambda x: x%1.0 == 0, L)\\n\\n# 3.\\n[x for x in L if x x%1.0 == 0]\\n\\n# 결과 [1, 2, 3.0, 100]\",\n",
       " '_i185': \"# quiz : 다음 리스트에서 소수점이하가 0인 수만 추출하시오\\n# 1. filter함수, 람다식 이용 / 2. filter_template 이용 / 3. 리스트 컴프리헨션 이용\\nL = [1, 1.2, 1.5, 2, 3.0, 10.5, 100]\\n\\n# 정수인지 확인 (x가 실제 정수이면 에러)\\n# x = 2.0\\n# print(x.is_integer())\\n\\n# 1.\\nprint(list(filter(lambda x: x%1.0 == 0, L)))\\nprint(list(filter(lambda x: x == round(x), L)))\\nprint(list(filter(lambda x: x == x//1, L)))\\n\\nfor item in filter(lambda x: x%1.0 == 0, L):\\n    print(item, end=' ')\\n\\n# 2.\\nfilter_template(lambda x: x%1.0 == 0, L)\\n\\n# 3.\\n[x for x in L if x%1.0 == 0]\\n\\n# 결과 [1, 2, 3.0, 100]\",\n",
       " '_185': [1, 2, 3.0, 100],\n",
       " '_i186': \"# quiz : 다음 리스트에서 소수점이하가 0인 수만 추출하시오\\n# 1. filter함수, 람다식 이용 / 2. filter_template 이용 / 3. 리스트 컴프리헨션 이용\\nL = [1, 1.2, 1.5, 2, 3.0, 10.5, 100]\\n\\n# 정수인지 확인 (x가 실제 정수이면 에러)\\n# x = 2.0\\n# print(x.is_integer())\\n\\n# 1.\\nprint(list(filter(lambda x: x%1.0 == 0, L)))\\nprint(list(filter(lambda x: x == round(x), L)))\\nprint(list(filter(lambda x: x == x//1, L)))\\n\\nfor item in filter(lambda x: x%1.0 == 0, L):\\n    print(item, end=' ')\\n\\n# 2.\\nprint(filter_template(lambda x: x%1.0 == 0, L))\\n\\n# 3.\\n[x for x in L if x%1.0 == 0]\\n\\n# 결과 [1, 2, 3.0, 100]\",\n",
       " '_186': [1, 2, 3.0, 100],\n",
       " '_i187': \"# quiz : 다음 리스트에서 소수점이하가 0인 수만 추출하시오\\n# 1. filter함수, 람다식 이용 / 2. filter_template 이용 / 3. 리스트 컴프리헨션 이용\\nL = [1, 1.2, 1.5, 2, 3.0, 10.5, 100]\\n\\n# 정수인지 확인 (x가 실제 정수이면 에러)\\n# x = 2.0\\n# print(x.is_integer())\\n\\n# 1.\\nprint(list(filter(lambda x: x%1.0 == 0, L)))\\nprint(list(filter(lambda x: x == round(x), L)))\\nprint(list(filter(lambda x: x == x//1, L)))\\n\\nfor item in filter(lambda x: x%1.0 == 0, L):\\n    print(item, end=' ')\\n\\n# 2.\\nprint(filter_template(lambda x: x%1.0 == 0, L))\\n\\n# 3.\\nprint([x for x in L if x%1.0 == 0])\\n\\n# 결과 [1, 2, 3.0, 100]\",\n",
       " '_i188': \"# quiz : 다음 리스트에서 소수점이하가 0인 수만 추출하시오\\n# 1. filter함수, 람다식 이용 / 2. filter_template 이용 / 3. 리스트 컴프리헨션 이용\\nL = [1, 1.2, 1.5, 2, 3.0, 10.5, 100]\\n\\n# 정수인지 확인 (x가 실제 정수이면 에러)\\n# x = 2.0\\n# print(x.is_integer())\\n\\n# 1.\\nprint(list(filter(lambda x: x%1.0 == 0, L)))\\nprint(list(filter(lambda x: x == round(x), L)))\\nprint(list(filter(lambda x: x == x//1, L)))\\n\\nfor item in filter(lambda x: x%1.0 == 0, L):\\n    print(item, end=' ')\\n\\n# 2\\nfilter_template(lambda x: x%1.0 == 0, L)\\n\\n# 3.\\nprint([x for x in L if x%1.0 == 0])\\n\\n# 결과 [1, 2, 3.0, 100]\",\n",
       " '_i189': \"# quiz : 다음 리스트에서 소수점이하가 0인 수만 추출하시오\\n# 1. filter함수, 람다식 이용 / 2. filter_template 이용 / 3. 리스트 컴프리헨션 이용\\nL = [1, 1.2, 1.5, 2, 3.0, 10.5, 100]\\n\\n# 정수인지 확인 (x가 실제 정수이면 에러)\\n# x = 2.0\\n# print(x.is_integer())\\n\\n# 1.\\nprint(list(filter(lambda x: x%1.0 == 0, L)))\\nprint(list(filter(lambda x: x == round(x), L)))\\nprint(list(filter(lambda x: x == x//1, L)))\\n\\nfor item in filter(lambda x: x%1.0 == 0, L):\\n    print(item, end=' ')\\n\\n# 2\\nprint(filter_template(lambda x: x%1.0 == 0, L))\\n\\n# 3.\\nprint([x for x in L if x%1.0 == 0])\\n\\n# 결과 [1, 2, 3.0, 100]\",\n",
       " '_i190': \"# quiz : 다음 리스트에서 소수점이하가 0인 수만 추출하시오\\n# 1. filter함수, 람다식 이용 / 2. filter_template 이용 / 3. 리스트 컴프리헨션 이용\\nL = [1, 1.2, 1.5, 2, 3.0, 10.5, 100]\\n\\n# 정수인지 확인 (x가 실제 정수이면 에러)\\n# x = 2.0\\n# print(x.is_integer())\\n\\n# 1.\\nprint(list(filter(lambda x: x%1.0 == 0, L)))\\nprint(list(filter(lambda x: x == round(x), L)))\\nprint(list(filter(lambda x: x == x//1, L)))\\n\\nfor item in filter(lambda x: x%1.0 == 0, L):\\n    print(item, end=' ')\\n\\n# 2\\nprint(filter_template(lambda x: x%1.0 == 0, L))\\nprint()\\n# 3.\\nprint([x for x in L if x%1.0 == 0])\\n\\n# 결과 [1, 2, 3.0, 100]\",\n",
       " '_i191': \"# quiz : 다음 리스트에서 소수점이하가 0인 수만 추출하시오\\n# 1. filter함수, 람다식 이용 / 2. filter_template 이용 / 3. 리스트 컴프리헨션 이용\\nL = [1, 1.2, 1.5, 2, 3.0, 10.5, 100]\\n\\n# 정수인지 확인 (x가 실제 정수이면 에러)\\n# x = 2.0\\n# print(x.is_integer())\\n\\n# 1.\\nprint(list(filter(lambda x: x%1.0 == 0, L)))\\nprint(list(filter(lambda x: x == round(x), L)))\\nprint(list(filter(lambda x: x == x//1, L)))\\n\\nfor item in filter(lambda x: x%1.0 == 0, L):\\n    print(item, end=' ')\\nprint()\\n# 2\\nprint(filter_template(lambda x: x%1.0 == 0, L))\\n\\n# 3.\\nprint([x for x in L if x%1.0 == 0])\\n\\n# 결과 [1, 2, 3.0, 100]\",\n",
       " '_i192': \"# quiz : 다음 리스트에서 소수점이하가 0인 수만 추출하시오\\n# 1. filter함수, 람다식 이용 / 2. filter_template 이용 / 3. 리스트 컴프리헨션 이용\\nL = [1, 1.2, 1.5, 2, 3.0, 10.5, 100]\\n\\n# 정수인지 확인 (x가 실제 정수이면 에러)\\n# x = 2.0\\n# print(x.is_integer())\\n\\n# 1.\\nprint(list(filter(lambda x: x%1.0 == 0, L)))\\nprint(list(filter(lambda x: x == round(x), L)))\\nprint(list(filter(lambda x: x == x//1, L)))\\n\\nfor item in filter(lambda x: x%1.0 == 0, L):\\n    print(item, end=' ')\\nprint()\\n\\n# 2\\nprint(filter_template(lambda x: x%1.0 == 0, L))\\n\\n# 3.\\nprint([x for x in L if x%1.0 == 0])\\n\\n# 결과 [1, 2, 3.0, 100]\",\n",
       " '_i193': '# quiz : 다음 리스트에서 소수점이하가 0인 수만 추출하시오\\n# 1. filter함수, 람다식 이용 / 2. filter_template 이용 / 3. 리스트 컴프리헨션 이용\\nL = [1, 1.2, 1.5, 2, 3.0, 10.5, 100]\\n\\n# 정수인지 확인 (x가 실제 정수이면 에러)\\n# x = 2.0\\n# print(x.is_integer())\\n\\n# 결과 [1, 2, 3.0, 100]',\n",
       " '_i194': \"# 1.\\nprint(list(filter(lambda x: x%1.0 == 0, L)))\\nprint(list(filter(lambda x: x == round(x), L)))\\nprint(list(filter(lambda x: x == x//1, L)))\\n\\nfor item in filter(lambda x: x%1.0 == 0, L):\\n    print(item, end=' ')\",\n",
       " '_i195': '# 2\\nprint(filter_template(lambda x: x%1.0 == 0, L))',\n",
       " '_i196': '# 3.\\nprint([x for x in L if x%1.0 == 0])',\n",
       " '_i197': '# 예제2 : 베스트셀러 list(딕셔너리 리스트)를 가격 순으로 sort',\n",
       " '_i198': '# 예제2 : 베스트셀러 list(딕셔너리 리스트)를 가격 순으로 sort\\np = [10, 3, 6, 1]\\np.sort()',\n",
       " 'p': [10, 6, 3, 1],\n",
       " '_i199': '# 예제2 : 베스트셀러 list(딕셔너리 리스트)를 가격 순으로 sort\\np = [10, 3, 6, 1]\\np.sort()\\np',\n",
       " '_199': [1, 3, 6, 10],\n",
       " '_i200': '# 예제2 : 베스트셀러 list(딕셔너리 리스트)를 가격 순으로 sort\\np = [10, 3, 6, 1]\\np',\n",
       " '_200': [10, 3, 6, 1],\n",
       " '_i201': '# 예제2 : 베스트셀러 list(딕셔너리 리스트)를 가격 순으로 sort\\np = [10, 3, 6, 1]\\np.sort()\\np',\n",
       " '_201': [1, 3, 6, 10],\n",
       " '_i202': '# 예제2 : 베스트셀러 list(딕셔너리 리스트)를 가격 순으로 sort\\np = [10, 3, 6, 1]\\np.sort(reverse=true)\\np',\n",
       " '_i203': '# 예제2 : 베스트셀러 list(딕셔너리 리스트)를 가격 순으로 sort\\np = [10, 3, 6, 1]\\np.sort(reverse=True)\\np',\n",
       " '_203': [10, 6, 3, 1],\n",
       " '_i204': '# 예제2 : 베스트셀러 list(딕셔너리 리스트)를 가격 순으로 sort\\np = [10, 3, 6, 1]\\np.sort(reverse=True)  # 내림차순 정렬\\np',\n",
       " '_204': [10, 6, 3, 1],\n",
       " '_i205': \"pairs = [(2, 'two'), (1, 'one'), (4, 'four'), (3, 'three')]  # 튜플인 리스트\\npairs.sor()\\nparis\",\n",
       " 'pairs': [(4, 'four'), (1, 'one'), (3, 'three'), (2, 'two')],\n",
       " '_i206': \"pairs = [(2, 'two'), (1, 'one'), (4, 'four'), (3, 'three')]  # 튜플인 리스트\\npairs.sort()\\nparis\",\n",
       " '_i207': \"pairs = [(2, 'two'), (1, 'one'), (4, 'four'), (3, 'three')]  # 튜플인 리스트\\npairs.sort()\\npairs\",\n",
       " '_207': [(1, 'one'), (2, 'two'), (3, 'three'), (4, 'four')],\n",
       " '_i208': \"pairs = [(2, 'two'), (1, 'one'), (4, 'four'), (3, 'three')]  # 튜플인 리스트\\n# pairs.sort()  # 튜플의 0번째로 정렬됨\\npairs.sort(1)\\npairs\",\n",
       " '_i209': \"pairs = [(2, 'two'), (1, 'one'), (4, 'four'), (3, 'three')]  # 튜플인 리스트\\n# pairs.sort()  # 튜플의 0번째로 정렬됨\\npairs.sort([1])\\npairs\",\n",
       " '_i210': \"pairs = [(2, 'two'), (1, 'one'), (4, 'four'), (3, 'three')]  # 튜플인 리스트\\npairs.sort()  # 튜플의 0번째로 정렬됨\\npairs\",\n",
       " '_210': [(4, 'four'), (1, 'one'), (3, 'three'), (2, 'two')],\n",
       " '_i211': 'pairs.sort(key=lambda pair : pair[1])',\n",
       " '_i212': 'pairs.sort(key=lambda pair : pair[1], pairs)',\n",
       " '_i213': 'pairs.sort(key=lambda pair : pair[1])\\npairs',\n",
       " '_213': [(4, 'four'), (1, 'one'), (3, 'three'), (2, 'two')],\n",
       " '_i214': 'pairs.sort(key=lambda pair : pair[1])\\n# pairs.sort(key=lambda pair : pair[1], reverse=True)  # z부터 정렬\\npairs  # 1번 째로 abc순으로 정렬',\n",
       " '_214': [(4, 'four'), (1, 'one'), (3, 'three'), (2, 'two')],\n",
       " '_i215': \"students = [{'name' : '홍', 'score' : 99},\\n            {'name' : '김', 'score' : 22},\\n            {'name' : '이', 'score' : 77},\\n            {'name' : '박', 'score' : 66}]\\n# students를 이름 ㄱㄴㄷ순 정렬\\nstudents.sort(key=lambda student : student.item([idx]))\\n# students를 score순으로 오름차순 정렬\\n\\n# students를 score순으로 내림차순 정렬\",\n",
       " 'students': [{'name': '홍', 'score': 99},\n",
       "  {'name': '이', 'score': 77},\n",
       "  {'name': '박', 'score': 66},\n",
       "  {'name': '김', 'score': 22}],\n",
       " '_i216': \"students = [{'name' : '홍', 'score' : 99},\\n            {'name' : '김', 'score' : 22},\\n            {'name' : '이', 'score' : 77},\\n            {'name' : '박', 'score' : 66}]\\n# students를 이름 ㄱㄴㄷ순 정렬\\nstudents.sort(key=lambda student : student.item(1)))\\n# students를 score순으로 오름차순 정렬\\n\\n# students를 score순으로 내림차순 정렬\",\n",
       " '_i217': \"students = [{'name' : '홍', 'score' : 99},\\n            {'name' : '김', 'score' : 22},\\n            {'name' : '이', 'score' : 77},\\n            {'name' : '박', 'score' : 66}]\\n# students를 이름 ㄱㄴㄷ순 정렬\\nstudents.sort(key=lambda student : student.item(1))\\n# students를 score순으로 오름차순 정렬\\n\\n# students를 score순으로 내림차순 정렬\",\n",
       " '_i218': \"students = [{'name' : '홍', 'score' : 99},\\n            {'name' : '김', 'score' : 22},\\n            {'name' : '이', 'score' : 77},\\n            {'name' : '박', 'score' : 66}]\\n# students를 이름 ㄱㄴㄷ순 정렬\\nstudents.sort(key=lambda student : )\\n# students를 score순으로 오름차순 정렬\\nstudents.sort(key=lambda student : student.value(score))\\n# students를 score순으로 내림차순 정렬\",\n",
       " '_i219': \"students = [{'name' : '홍', 'score' : 99},\\n            {'name' : '김', 'score' : 22},\\n            {'name' : '이', 'score' : 77},\\n            {'name' : '박', 'score' : 66}]\\n# students를 이름 ㄱㄴㄷ순 정렬\\n# students.sort(key=lambda student : )\\n# students를 score순으로 오름차순 정렬\\nstudents.sort(key=lambda student : student.value(score))\\n# students를 score순으로 내림차순 정렬\",\n",
       " '_i220': \"students = [{'name' : '홍', 'score' : 99},\\n            {'name' : '김', 'score' : 22},\\n            {'name' : '이', 'score' : 77},\\n            {'name' : '박', 'score' : 66}]\\n# students를 이름 ㄱㄴㄷ순 정렬\\nstudents.sort(key=lambda student : student.value('name'))\\n# students를 score순으로 오름차순 정렬\\nstudents.sort(key=lambda student : student.value('score'))\\n# students를 score순으로 내림차순 정렬\",\n",
       " '_i221': \"students = [{'name' : '홍', 'score' : 99},\\n            {'name' : '김', 'score' : 22},\\n            {'name' : '이', 'score' : 77},\\n            {'name' : '박', 'score' : 66}]\\n# students를 이름 ㄱㄴㄷ순 정렬\\nstudents.sort(key=lambda student : student.value('name'))\\n# students를 score순으로 오름차순 정렬\\nstudents.sort(key=lambda student : student.value('score'))\\n# students를 score순으로 내림차순 정렬\\nstudents.sort(key=lambda student : student.value('score'), reverse=True)\",\n",
       " '_i222': \"students = [{'name' : '홍', 'score' : 99},\\n            {'name' : '김', 'score' : 22},\\n            {'name' : '이', 'score' : 77},\\n            {'name' : '박', 'score' : 66}]\\n# students를 이름 ㄱㄴㄷ순 정렬\\nstudents.sort(key=lambda student : student.item('name'))\\n# students를 score순으로 오름차순 정렬\\nstudents.sort(key=lambda student : student.value('score'))\\n# students를 score순으로 내림차순 정렬\\nstudents.sort(key=lambda student : student.value('score'), reverse=True)\",\n",
       " '_i223': \"students = [{'name' : '홍', 'score' : 99},\\n            {'name' : '김', 'score' : 22},\\n            {'name' : '이', 'score' : 77},\\n            {'name' : '박', 'score' : 66}]\\n# students를 이름 ㄱㄴㄷ순 정렬\\nstudents.sort(key=lambda student : student.value('name'))\\n# students를 score순으로 오름차순 정렬\\nstudents.sort(key=lambda student : student.value('score'))\\n# students를 score순으로 내림차순 정렬\\nstudents.sort(key=lambda student : student.value('score'), reverse=True)\",\n",
       " '_i224': \"students = [{'name' : '홍', 'score' : 99},\\n            {'name' : '김', 'score' : 22},\\n            {'name' : '이', 'score' : 77},\\n            {'name' : '박', 'score' : 66}]\\n# students를 이름 ㄱㄴㄷ순 정렬\\nstudents.sort(key=lambda student : student.['name'])\\n# students를 score순으로 오름차순 정렬\\nstudents.sort(key=lambda student : student.value('score'))\\n# students를 score순으로 내림차순 정렬\\nstudents.sort(key=lambda student : student.value('score'), reverse=True)\",\n",
       " '_i225': \"students = [{'name' : '홍', 'score' : 99},\\n            {'name' : '김', 'score' : 22},\\n            {'name' : '이', 'score' : 77},\\n            {'name' : '박', 'score' : 66}]\\n# students를 이름 ㄱㄴㄷ순 정렬\\nstudents.sort(key=lambda student : student['name'])\\n# students를 score순으로 오름차순 정렬\\nstudents.sort(key=lambda student : student.value('score'))\\n# students를 score순으로 내림차순 정렬\\nstudents.sort(key=lambda student : student.value('score'), reverse=True)\",\n",
       " '_i226': \"students = [{'name' : '홍', 'score' : 99},\\n            {'name' : '김', 'score' : 22},\\n            {'name' : '이', 'score' : 77},\\n            {'name' : '박', 'score' : 66}]\\n# students를 이름 ㄱㄴㄷ순 정렬\\nstudents.sort(key=lambda student : student['name'])\\n# students를 score순으로 오름차순 정렬\\nstudents.sort(key=lambda student : student['score'])\\n# students를 score순으로 내림차순 정렬\\nstudents.sort(key=lambda student : student.value('score'), reverse=True)\",\n",
       " '_i227': \"students = [{'name' : '홍', 'score' : 99},\\n            {'name' : '김', 'score' : 22},\\n            {'name' : '이', 'score' : 77},\\n            {'name' : '박', 'score' : 66}]\\n# students를 이름 ㄱㄴㄷ순 정렬\\nstudents.sort(key=lambda student : student['name'])\\n# students를 score순으로 오름차순 정렬\\nstudents.sort(key=lambda student : student['score'])\\n# students를 score순으로 내림차순 정렬\\nstudents.sort(key=lambda student : student['score'], reverse=True)\",\n",
       " '_i228': \"students = [{'name' : '홍', 'score' : 99},\\n            {'name' : '김', 'score' : 22},\\n            {'name' : '이', 'score' : 77},\\n            {'name' : '박', 'score' : 66}]\\n# students를 이름 ㄱㄴㄷ순 정렬\\nstudents.sort(key=lambda student : student['name'])\\nprint(students)\\n# students를 score순으로 오름차순 정렬\\nstudents.sort(key=lambda student : student['score'])\\n# students를 score순으로 내림차순 정렬\\nstudents.sort(key=lambda student : student['score'], reverse=True)\",\n",
       " '_i229': \"students = [{'name' : '홍', 'score' : 99},\\n            {'name' : '김', 'score' : 22},\\n            {'name' : '이', 'score' : 77},\\n            {'name' : '박', 'score' : 66}]\\n# students를 이름 ㄱㄴㄷ순 정렬\\nstudents.sort(key=lambda student : student['name'])\\nprint(students)\\n# students를 score순으로 오름차순 정렬\\nstudents.sort(key=lambda student : student['score'])\\nprint(students)\\n# students를 score순으로 내림차순 정렬\\nstudents.sort(key=lambda student : student['score'], reverse=True)\",\n",
       " '_i230': \"students = [{'name' : '홍', 'score' : 99},\\n            {'name' : '김', 'score' : 22},\\n            {'name' : '이', 'score' : 77},\\n            {'name' : '박', 'score' : 66}]\\n# students를 이름 ㄱㄴㄷ순 정렬\\nstudents.sort(key=lambda student : student['name'])\\nprint(students)\\n# students를 score순으로 오름차순 정렬\\nstudents.sort(key=lambda student : student['score'])\\nprint(students)\\n# students를 score순으로 내림차순 정렬\\nstudents.sort(key=lambda student : student['score'], reverse=True)\\nprint(students)\",\n",
       " '_i231': \"students = [{'name' : '홍', 'score' : 99},\\n            {'name' : '김', 'score' : 22},\\n            {'name' : '이', 'score' : 77},\\n            {'name' : '박', 'score' : 66}]\",\n",
       " '_i232': \"            \\n# students를 이름 ㄱㄴㄷ순 정렬\\nstudents.sort(key=lambda student : student['name'])\\nprint(students)\",\n",
       " '_i233': \"# students를 score순으로 오름차순 정렬\\nstudents.sort(key=lambda student : student['score'])\\nprint(students)\",\n",
       " '_i234': \"# students를 score순으로 내림차순 정렬\\nstudents.sort(key=lambda student : student['score'], reverse=True)\\nprint(students)\",\n",
       " '_i235': \"# students를 이름 ㄱㄴㄷ순 정렬\\nstudents.sort(key=lambda student : student['name'])\\nprint(students)\",\n",
       " '_i236': \"# students를 이름 ㄱㄴㄷ순 정렬\\nstudents.sort(key=lambda student : student['name'])\\nstudents\",\n",
       " '_236': [{'name': '홍', 'score': 99},\n",
       "  {'name': '이', 'score': 77},\n",
       "  {'name': '박', 'score': 66},\n",
       "  {'name': '김', 'score': 22}],\n",
       " '_i237': \"# students를 score순으로 오름차순 정렬\\nstudents.sort(key=lambda student : student['score'])\\nstudents\",\n",
       " '_237': [{'name': '홍', 'score': 99},\n",
       "  {'name': '이', 'score': 77},\n",
       "  {'name': '박', 'score': 66},\n",
       "  {'name': '김', 'score': 22}],\n",
       " '_i238': \"# students를 score순으로 오름차순 정렬\\nstudents.sort(key=lambda data : data['score'])\\nstudents\",\n",
       " '_238': [{'name': '홍', 'score': 99},\n",
       "  {'name': '이', 'score': 77},\n",
       "  {'name': '박', 'score': 66},\n",
       "  {'name': '김', 'score': 22}],\n",
       " '_i239': \"# students를 score순으로 내림차순 정렬\\nstudents.sort(key=lambda student : student['score'], reverse=True)\\nprint(students)\",\n",
       " '_i240': \"# students를 score순으로 내림차순 정렬\\nstudents.sort(key=lambda student : student['score'], reverse=True)\\nSTU\",\n",
       " '_i241': \"# students를 score순으로 내림차순 정렬\\nstudents.sort(key=lambda student : student['score'], reverse=True)\\nstudents\",\n",
       " '_241': [{'name': '홍', 'score': 99},\n",
       "  {'name': '이', 'score': 77},\n",
       "  {'name': '박', 'score': 66},\n",
       "  {'name': '김', 'score': 22}],\n",
       " '_i242': \"# students를 score순으로 내림차순 정렬\\nstudents.sort(key=lambda student : student['score'], reverse=True)\\nstudents\",\n",
       " '_242': [{'name': '홍', 'score': 99},\n",
       "  {'name': '이', 'score': 77},\n",
       "  {'name': '박', 'score': 66},\n",
       "  {'name': '김', 'score': 22}],\n",
       " '_i243': \"# students를 score순으로 내림차순 정렬\\nstudents.sort(key=lambda data : data['score'], reverse=True)\\nstudents.sort(key=lambda data : data.get('score'), reverse=True)\\nstudents\",\n",
       " '_243': [{'name': '홍', 'score': 99},\n",
       "  {'name': '이', 'score': 77},\n",
       "  {'name': '박', 'score': 66},\n",
       "  {'name': '김', 'score': 22}],\n",
       " '_i244': \"# students를 score순으로 내림차순 정렬\\n# students.sort(key=lambda data : data['score'], reverse=True)\\nstudents.sort(key=lambda data : data.get('score'), reverse=True)\\nstudents\",\n",
       " '_244': [{'name': '홍', 'score': 99},\n",
       "  {'name': '이', 'score': 77},\n",
       "  {'name': '박', 'score': 66},\n",
       "  {'name': '김', 'score': 22}],\n",
       " '_i245': \"# students를 score순으로 내림차순 정렬\\n# students.sort(key=lambda data : data['score'], reverse=True)\\nstudents.sort(key=lambda data : data.get('score'), reverse=True)\\nstudents\",\n",
       " '_245': [{'name': '홍', 'score': 99},\n",
       "  {'name': '이', 'score': 77},\n",
       "  {'name': '박', 'score': 66},\n",
       "  {'name': '김', 'score': 22}],\n",
       " '_i246': \"books = [{'no' : 1, 'title' : '소년이 온다', 'writer' : '한강', 'price' : '13,500'},\\n         {'no' : 3, 'title' : '트럼프2.0시대', 'writer' : '박종훈', 'price' : '18,000'},\\n         {'no' : 2, 'title' : '트렌트코리아2025', 'writer' : '김난도', 'price' : '18,100'},\\n         {'no' : 4, 'title' : '가격잘못', 'writer' : '홍길동', 'price' : 'ㅁ'},\\n         {'no' : 5, 'title' : '가격없음', 'writer' : '김난도', 'price' : 'None예정'}]\",\n",
       " 'books': [{'no': 3, 'title': '트럼프2.0시대', 'writer': '박종훈', 'price': '18,000'},\n",
       "  {'no': 1, 'title': '소년이 온다', 'writer': '한강', 'price': '13,500'},\n",
       "  {'no': 6, 'title': '가격숫자', 'writer': '신길동', 'price': 9200},\n",
       "  {'no': 2, 'title': '트렌트코리아2025', 'writer': '김난도', 'price': '9,100'},\n",
       "  {'no': 4, 'title': '가격잘못', 'writer': '홍길동', 'price': 'ㅁ'},\n",
       "  {'no': 5, 'title': '가격없음', 'writer': '이길동'}],\n",
       " '_i247': \"books.sort(key=lambda book : book['no'])\\nbooks\",\n",
       " '_247': [{'no': 5, 'title': '가격없음', 'writer': '김난도', 'price': 'None예정'},\n",
       "  {'no': 2, 'title': '트렌트코리아2025', 'writer': '김난도', 'price': '18,100'},\n",
       "  {'no': 3, 'title': '트럼프2.0시대', 'writer': '박종훈', 'price': '18,000'},\n",
       "  {'no': 1, 'title': '소년이 온다', 'writer': '한강', 'price': '13,500'},\n",
       "  {'no': 4, 'title': '가격잘못', 'writer': '홍길동', 'price': 'ㅁ'}],\n",
       " '_i248': \"# title순으로 정렬\\nbooks.sort(key=lambda book : book['title'])\\nbooks\",\n",
       " '_248': [{'no': 5, 'title': '가격없음', 'writer': '김난도', 'price': 'None예정'},\n",
       "  {'no': 2, 'title': '트렌트코리아2025', 'writer': '김난도', 'price': '18,100'},\n",
       "  {'no': 3, 'title': '트럼프2.0시대', 'writer': '박종훈', 'price': '18,000'},\n",
       "  {'no': 1, 'title': '소년이 온다', 'writer': '한강', 'price': '13,500'},\n",
       "  {'no': 4, 'title': '가격잘못', 'writer': '홍길동', 'price': 'ㅁ'}],\n",
       " '_i249': \"# writer순으로 정렬\\nbooks.sort(key=lambda book : book['writer'])\\nbooks\",\n",
       " '_249': [{'no': 5, 'title': '가격없음', 'writer': '김난도', 'price': 'None예정'},\n",
       "  {'no': 2, 'title': '트렌트코리아2025', 'writer': '김난도', 'price': '18,100'},\n",
       "  {'no': 3, 'title': '트럼프2.0시대', 'writer': '박종훈', 'price': '18,000'},\n",
       "  {'no': 1, 'title': '소년이 온다', 'writer': '한강', 'price': '13,500'},\n",
       "  {'no': 4, 'title': '가격잘못', 'writer': '홍길동', 'price': 'ㅁ'}],\n",
       " '_i250': \"books = [{'no' : 1, 'title' : '소년이 온다', 'writer' : '한강', 'price' : '13,500'},\\n         {'no' : 3, 'title' : '트럼프2.0시대', 'writer' : '박종훈', 'price' : '18,000'},\\n         {'no' : 2, 'title' : '트렌트코리아2025', 'writer' : '김난도', 'price' : '9,100'},\\n         {'no' : 4, 'title' : '가격잘못', 'writer' : '홍길동', 'price' : 'ㅁ'},\\n         {'no' : 5, 'title' : '가격없음', 'writer' : '김난도', 'price' : 'None예정'}]\",\n",
       " '_i251': \"# no순으로 정렬\\nbooks.sort(key=lambda book : book['no'])\\nbooks\",\n",
       " '_251': [{'no': 5, 'title': '가격없음', 'writer': '김난도', 'price': 'None예정'},\n",
       "  {'no': 4, 'title': '가격잘못', 'writer': '홍길동', 'price': 'ㅁ'},\n",
       "  {'no': 1, 'title': '소년이 온다', 'writer': '한강', 'price': '13,500'},\n",
       "  {'no': 3, 'title': '트럼프2.0시대', 'writer': '박종훈', 'price': '18,000'},\n",
       "  {'no': 2, 'title': '트렌트코리아2025', 'writer': '김난도', 'price': '9,100'}],\n",
       " '_i252': \"# title순으로 정렬\\nbooks.sort(key=lambda book : book['title'])\\nbooks\",\n",
       " '_252': [{'no': 5, 'title': '가격없음', 'writer': '김난도', 'price': 'None예정'},\n",
       "  {'no': 4, 'title': '가격잘못', 'writer': '홍길동', 'price': 'ㅁ'},\n",
       "  {'no': 1, 'title': '소년이 온다', 'writer': '한강', 'price': '13,500'},\n",
       "  {'no': 3, 'title': '트럼프2.0시대', 'writer': '박종훈', 'price': '18,000'},\n",
       "  {'no': 2, 'title': '트렌트코리아2025', 'writer': '김난도', 'price': '9,100'}],\n",
       " '_i253': \"books = [{'no' : 1, 'title' : '소년이 온다', 'writer' : '한강', 'price' : '13,500'},\\n         {'no' : 3, 'title' : '트럼프2.0시대', 'writer' : '박종훈', 'price' : '18,000'},\\n         {'no' : 2, 'title' : '트렌트코리아2025', 'writer' : '김난도', 'price' : '9,100'},\\n         {'no' : 4, 'title' : '가격잘못', 'writer' : '홍길동', 'price' : 'ㅁ'},\\n         {'no' : 5, 'title' : '가격없음', 'writer' : '신길동', 'price' : 'None예정'}]\",\n",
       " '_i254': \"# no순으로 정렬\\nbooks.sort(key=lambda book : book['no'])\\nbooks\",\n",
       " '_254': [{'no': 4, 'title': '가격잘못', 'writer': '홍길동', 'price': 'ㅁ'},\n",
       "  {'no': 5, 'title': '가격없음', 'writer': '신길동', 'price': 'None예정'},\n",
       "  {'no': 2, 'title': '트렌트코리아2025', 'writer': '김난도', 'price': '9,100'},\n",
       "  {'no': 3, 'title': '트럼프2.0시대', 'writer': '박종훈', 'price': '18,000'},\n",
       "  {'no': 1, 'title': '소년이 온다', 'writer': '한강', 'price': '13,500'}],\n",
       " '_i255': \"# title순으로 정렬\\nbooks.sort(key=lambda book : book['title'])\\nbooks\",\n",
       " '_255': [{'no': 4, 'title': '가격잘못', 'writer': '홍길동', 'price': 'ㅁ'},\n",
       "  {'no': 5, 'title': '가격없음', 'writer': '신길동', 'price': 'None예정'},\n",
       "  {'no': 2, 'title': '트렌트코리아2025', 'writer': '김난도', 'price': '9,100'},\n",
       "  {'no': 3, 'title': '트럼프2.0시대', 'writer': '박종훈', 'price': '18,000'},\n",
       "  {'no': 1, 'title': '소년이 온다', 'writer': '한강', 'price': '13,500'}],\n",
       " '_i256': \"# writer순으로 정렬\\nbooks.sort(key=lambda book : book['writer'])\\nbooks\",\n",
       " '_256': [{'no': 4, 'title': '가격잘못', 'writer': '홍길동', 'price': 'ㅁ'},\n",
       "  {'no': 5, 'title': '가격없음', 'writer': '신길동', 'price': 'None예정'},\n",
       "  {'no': 2, 'title': '트렌트코리아2025', 'writer': '김난도', 'price': '9,100'},\n",
       "  {'no': 3, 'title': '트럼프2.0시대', 'writer': '박종훈', 'price': '18,000'},\n",
       "  {'no': 1, 'title': '소년이 온다', 'writer': '한강', 'price': '13,500'}],\n",
       " '_i257': \"# price 기준으로 정렬\\nbooks.sort(key=lambda book : book['price'])\\nbooks\",\n",
       " '_257': [{'no': 4, 'title': '가격잘못', 'writer': '홍길동', 'price': 'ㅁ'},\n",
       "  {'no': 5, 'title': '가격없음', 'writer': '신길동', 'price': 'None예정'},\n",
       "  {'no': 2, 'title': '트렌트코리아2025', 'writer': '김난도', 'price': '9,100'},\n",
       "  {'no': 3, 'title': '트럼프2.0시대', 'writer': '박종훈', 'price': '18,000'},\n",
       "  {'no': 1, 'title': '소년이 온다', 'writer': '한강', 'price': '13,500'}],\n",
       " '_i258': \"# price 기준으로 정렬\\nbooks.sort(key=lambda book : book['price'], reverse=True)\\nbooks\",\n",
       " '_258': [{'no': 4, 'title': '가격잘못', 'writer': '홍길동', 'price': 'ㅁ'},\n",
       "  {'no': 5, 'title': '가격없음', 'writer': '신길동', 'price': 'None예정'},\n",
       "  {'no': 2, 'title': '트렌트코리아2025', 'writer': '김난도', 'price': '9,100'},\n",
       "  {'no': 3, 'title': '트럼프2.0시대', 'writer': '박종훈', 'price': '18,000'},\n",
       "  {'no': 1, 'title': '소년이 온다', 'writer': '한강', 'price': '13,500'}],\n",
       " '_i259': \"books = [{'no' : 1, 'title' : '소년이 온다', 'writer' : '한강', 'price' : '13,500'},\\n         {'no' : 3, 'title' : '트럼프2.0시대', 'writer' : '박종훈', 'price' : '18,000'},\\n         {'no' : 2, 'title' : '트렌트코리아2025', 'writer' : '김난도', 'price' : '9,100'},\\n         {'no' : 4, 'title' : '가격잘못', 'writer' : '홍길동', 'price' : 'ㅁ'},\\n         {'no' : 5, 'title' : '가격없음', 'writer' : '신길동'}]\",\n",
       " '_i260': '# sort : 정렬하고자 하는 값의 타입이 일치해야 함',\n",
       " '_i261': '# sort : 정렬하고자 하는 값의 타입이 일치해야 함',\n",
       " '_i262': \"books.sort(key=lambda book : book['price'])\\nbooks\",\n",
       " '_i263': \"books = [{'no' : 1, 'title' : '소년이 온다', 'writer' : '한강', 'price' : '13,500'},\\n         {'no' : 3, 'title' : '트럼프2.0시대', 'writer' : '박종훈', 'price' : '18,000'},\\n         {'no' : 2, 'title' : '트렌트코리아2025', 'writer' : '김난도', 'price' : '9,100'},\\n         {'no' : 4, 'title' : '가격잘못', 'writer' : '홍길동', 'price' : 'ㅁ'},\\n         {'no' : 6, 'title' : '가격없음', 'writer' : '신길동', 'price' : 9200},\\n         {'no' : 5, 'title' : '가격없음', 'writer' : '신길동'}]\",\n",
       " '_i264': \"def parse_int(price):\\n    return int(price.replace(',', ''))\\nparse_int('13,500')\",\n",
       " 'parse_int': <function __main__.parse_int(price)>,\n",
       " '_264': 13500,\n",
       " '_i265': \"def parse_int(price):\\n    print(type(price))\\nparse_int('13,500')\",\n",
       " '_i266': 'def parse_int(price):\\n    print(type(price))',\n",
       " '_i267': \"parse_int('ㅁ'), parse_int(None), parse_int(9200), parse_int('13,500')\\n# 결과 0,         0,                9200,           13,500\\n# 결과를 다 숫자(가격)로 return\",\n",
       " '_267': (None, None, None, None),\n",
       " '_i268': 'def parse_int(price):\\n    # print(type(price))\\n    if isinstance(price, str):\\n        print(price)',\n",
       " '_i269': \"parse_int('ㅁ'), parse_int(None), parse_int(9200), parse_int('13,500')\\n# 결과 0,         0,                9200,           13,500\\n# 결과를 다 숫자(가격)로 return\",\n",
       " '_269': (None, None, None, None),\n",
       " '_i270': \"parse_int('ㅁ'), parse_int(None), parse_int(9200), parse_int('13,500')\\n# 결과 0,         0,                9200,           13,500\\n# 결과를 다 숫자(가격)로 return\",\n",
       " '_270': (None, None, None, None),\n",
       " '_i271': \"# & : 논리연산, 비트연산, 집합연산\\n# and : 논리연산\\ndef parse_int(price):\\n    # print(type(price))\\n    if isinstance(price, str) & price.replace(',', '').isdigit():  # price가 str인지 & price가 숫자문자인지\\n        print(price)\",\n",
       " '_i272': \"parse_int('ㅁ'), parse_int(None), parse_int(9200), parse_int('13,500')\\n# 결과 0,         0,                9200,           13,500\\n# 결과를 다 숫자(가격)로 return\",\n",
       " '_i273': \"# & : 논리연산, 비트연산, 집합연산\\n# and : 논리연산\\ndef parse_int(price):\\n    # print(type(price))\\n    if isinstance(price, str) and price.replace(',', '').isdigit():  # price가 str인지 & price가 숫자문자인지\\n        print(price)\",\n",
       " '_i274': \"parse_int('ㅁ'), parse_int(None), parse_int(9200), parse_int('13,500')\\n# 결과 0,         0,                9200,           13,500\\n# 결과를 다 숫자(가격)로 return\",\n",
       " '_274': (None, None, None, None),\n",
       " '_i275': \"# & : 논리연산, 비트연산, 집합연산(처음이 False면 뒤를 비교하며 셋 중 하나의 연산을 수행함)\\n# and : 논리연산(처음이 False면 뒤를 수행하지 않음)\\ndef parse_int(price):\\n    # print(type(price))\\n    if isinstance(price, str) & price.replace(',', '').isdigit():  # price가 str인지 and price가 숫자문자인지\\n        print(price)\",\n",
       " '_i276': \"parse_int('ㅁ'), parse_int(None), parse_int(9200), parse_int('13,500')\\n# 결과 0,         0,                9200,           13,500\\n# 결과를 다 숫자(가격)로 return\",\n",
       " '_i277': \"# & : 논리연산, 비트연산, 집합연산이 모두 가능하므로, \\n#     좌항이 False여도 우항이 숫자면 비트연산을 수행해야 하므로 우항을 수행함\\n# and : 논리연산의 역할만 하여, 좌항이 False면 우항을 수행하지 않음\\ndef parse_int(price):\\n    # print(type(price))\\n    if isinstance(price, str) and price.replace(',', '').isdigit():  # price가 str인지 and price가 숫자문자인지\\n        print(price)\",\n",
       " '_i278': \"parse_int('ㅁ'), parse_int(None), parse_int(9200), parse_int('13,500')\\n# 결과 0,         0,                9200,           13,500\\n# 결과를 다 숫자(가격)로 return\",\n",
       " '_278': (None, None, None, None),\n",
       " '_i279': \"# & : 논리연산, 비트연산, 집합연산이 모두 가능하므로, \\n#     좌항이 False여도 우항이 숫자면 비트연산을 수행해야 하므로 우항을 수행함\\n# and : 논리연산의 역할만 하여, 좌항이 False면 우항을 수행하지 않음\\ndef parse_int(price):\\n    # print(type(price))\\n    if isinstance(price, str) and price.replace(',', '').isdigit():  # price가 str인지 and price가 숫자문자인지\\n        return int(price.replace(',',''))\",\n",
       " '_i280': \"parse_int('ㅁ'), parse_int(None), parse_int(9200), parse_int('13,500')\\n# 결과 0,         0,                9200,           13,500\\n# 결과를 다 숫자(가격)로 return\",\n",
       " '_280': (None, None, None, 13500),\n",
       " '_i281': \"print(parse_int('ㅁ'), parse_int(None), parse_int(9200), parse_int('13,500'))\\n# 결과 0,         0,                9200,           13,500\\n# 결과를 다 숫자(가격)로 return\",\n",
       " '_i282': \"print(parse_int('ㅁ'))\\nprint(parse_int(None)0\\nprint(parse_int(9200))\\nprint(parse_int('13,500'))\\n# 결과 0,         0,                9200,           13,500\\n# 결과를 다 숫자(가격)로 return\",\n",
       " '_i283': \"print(parse_int('ㅁ'))\\nprint(parse_int(None))\\nprint(parse_int(9200))\\nprint(parse_int('13,500'))\\n# 결과 0,         0,                9200,           13,500\\n# 결과를 다 숫자(가격)로 return\",\n",
       " '_i284': \"print(parse_int('ㅁ'))  # 0\\nprint(parse_int(None))  # 0\\nprint(parse_int(9200))  # 9200\\nprint(parse_int('13,500'))  # 13,500\\n# 결과 0,         0,                9200,           13,500\\n# 결과를 다 숫자(가격)로 return\",\n",
       " '_i285': \"# & : 논리연산, 비트연산, 집합연산이 모두 가능하므로, \\n#     좌항이 False여도 우항이 숫자면 비트연산을 수행해야 하므로 우항을 수행함\\n# and : 논리연산의 역할만 하여, 좌항이 False면 우항을 수행하지 않음\\ndef parse_int(price):\\n    # print(type(price))\\n    if isinstance(price, str) and price.replace(',', '').isdigit():  # price가 str인지 and price가 숫자문자인지\\n        return int(price.replace(',',''))\\n    elif isinstance(price, int)\\n        return price\\n    else:\\n        return 0\",\n",
       " '_i286': \"print(parse_int('ㅁ'))  # 0\\nprint(parse_int(None))  # 0\\nprint(parse_int(9200))  # 9200\\nprint(parse_int('13,500'))  # 13,500\\n# 결과를 다 숫자(가격)로 return\",\n",
       " '_i287': \"# & : 논리연산, 비트연산, 집합연산이 모두 가능하므로, \\n#     좌항이 False여도 우항이 숫자면 비트연산을 수행해야 하므로 우항을 수행함\\n# and : 논리연산의 역할만 하여, 좌항이 False면 우항을 수행하지 않음\\ndef parse_int(price):\\n    # print(type(price))\\n    if isinstance(price, str) and price.replace(',', '').isdigit():  # price가 str인지 and price가 숫자문자인지\\n        return int(price.replace(',',''))\\n    elif isinstance(price, int):\\n        return price\\n    else:\\n        return 0\",\n",
       " '_i288': \"print(parse_int('ㅁ'))  # 0\\nprint(parse_int(None))  # 0\\nprint(parse_int(9200))  # 9200\\nprint(parse_int('13,500'))  # 13,500\\n# 결과를 다 숫자(가격)로 return\",\n",
       " '_i289': \"# & : 논리연산, 비트연산, 집합연산이 모두 가능하므로, \\n#     좌항이 False여도 우항이 숫자면 비트연산을 수행해야 하므로 우항을 수행함\\n# and : 논리연산의 역할만 하여, 좌항이 False면 우항을 수행하지 않음\\ndef parse_int(price):\\n    # print(type(price))\\n    if isinstance(price, str) and price.replace(',', '').isdigit():\\n                                # price가 str인지 and price가 숫자문자인지\\n        return int(price.replace(',',''))\\n    elif isinstance(price, int):\\n        return price\\n    else:\\n        return 0\",\n",
       " '_i290': \"# & : 논리연산, 비트연산, 집합연산이 모두 가능하므로, \\n#     좌항이 False여도 우항이 숫자면 비트연산을 수행해야 하므로 우항을 수행함\\n# and : 논리연산의 역할만 하여, 좌항이 False면 우항을 수행하지 않음\\ndef parse_int(price):\\n    # print(type(price))\\n    if isinstance(price, str) and price.replace(',', '').isdigit():\\n                                # price가 str인지 and price가 숫자문자인지\\n        return int(price.replace(',',''))\\n    elif isinstance(price, int):\\n        return price\\n    else:\\n        return 0\",\n",
       " '_i291': \"print(parse_int('ㅁ'))  # 0\\nprint(parse_int(None))  # 0\\nprint(parse_int(9200))  # 9200\\nprint(parse_int('13,500'))  # 13,500\\n# 결과를 다 숫자(가격)로 return\",\n",
       " '_i292': \"testFunc = lambda book : book.get('price')\\n\\n[testFunc(book) for book in books]\",\n",
       " 'testFunc': <function __main__.<lambda>(book)>,\n",
       " '_292': ['13,500', '18,000', '9,100', 'ㅁ', 9200, None],\n",
       " '_i293': \"testFunc = lambda book : int(book.get('price').replace(',','')) \\\\\\n            if isinstance(book.get('price'), str) \\\\\\n                and book.get('price').replace(',', '').isdigit()\\n\\n[testFunc(book) for book in books]\",\n",
       " '_i294': \"testFunc = lambda book : int(book.get('price').replace(',','')) \\\\\\n            if isinstance(book.get('price'), str) \\\\\\n                and book.get('price').replace(',', '').isdigit()\\n\\n[testFunc(book) for book in books]\",\n",
       " '_i295': \"testFunc = lambda book : int(book.get('price').replace(',','')) \\\\\\n            if isinstance(book.get('price'), str) \\\\\\n                and book.get('price').replace(',', '').isdigit() else ()\\n\\n[testFunc(book) for book in books]\",\n",
       " '_295': [13500, 18000, 9100, (), (), ()],\n",
       " '_i296': \"testFunc = lambda book : int(book.get('price').replace(',','')) \\\\\\n            if isinstance(book.get('price'), str) \\\\\\n                and book.get('price').replace(',', '').isdigit() \\\\\\n            else (price if isinstance(book.get('price'), int) else 0)\\n\\n[testFunc(book) for book in books]\",\n",
       " '_i297': \"testFunc = lambda book : int(book.get('price').replace(',','')) \\\\\\n            if isinstance(book.get('price'), str) \\\\\\n                and book.get('price').replace(',', '').isdigit() \\\\\\n            else (price if isinstance(book.get('price'), int) else 0)\\n\\n[testFunc(book) for book in books]\",\n",
       " '_i298': \"testFunc = lambda book : int(book.get('price').replace(',','')) \\\\\\n            if isinstance(book.get('price'), str) \\\\\\n                and book.get('price').replace(',', '').isdigit() else 0)\\n\\n[testFunc(book) for book in books]\",\n",
       " '_i299': \"testFunc = lambda book : int(book.get('price').replace(',','')) \\\\\\n            if isinstance(book.get('price'), str) \\\\\\n                and book.get('price').replace(',', '').isdigit() else 0\\n\\n[testFunc(book) for book in books]\",\n",
       " '_299': [13500, 18000, 9100, 0, 0, 0],\n",
       " '_i300': \"testFunc = lambda book : int(book.get('price').replace(',','')) \\\\\\n            if isinstance(book.get('price'), str) \\\\\\n                and book.get('price').replace(',', '').isdigit() \\\\\\n            else (0)\\n\\n[testFunc(book) for book in books]\",\n",
       " '_300': [13500, 18000, 9100, 0, 0, 0],\n",
       " '_i301': \"testFunc = lambda book : int(book.get('price').replace(',','')) \\\\\\n            if isinstance(book.get('price'), str) \\\\\\n                and book.get('price').replace(',', '').isdigit() \\\\\\n            else (book.get('price') if isinstance(book.get('price'), int) else 0)\\n\\n[testFunc(book) for book in books]\",\n",
       " '_301': [13500, 18000, 9100, 0, 9200, 0],\n",
       " '_i302': \"testFunc = lambda book : int(book.get('price').replace(',','')) \\\\\\n            if isinstance(book.get('price'), str) \\\\\\n                and book.get('price').replace(',', '').isdigit() \\\\\\n            else (book.get('price') if isinstance(book.get('price'), int) \\\\\\n                  else 0)\\n\\n[testFunc(book) for book in books]\",\n",
       " '_302': [13500, 18000, 9100, 0, 9200, 0],\n",
       " '_i303': \"copyBook = books.copy()\\ncopyBooks.sort(key=lambda book : int(book.get('price')..replace(',','')) \\\\\\n              if isinstance(book.get('prce'), str) \\\\\\n                  and book.get('price').replce(',', '').isdigit() \\\\\\n               else (price if isinstance(book.get('price'), int) else 0)               \\n              )\",\n",
       " '_i304': \"copyBook = books.copy()\\ncopyBook.sort(key=lambda book : int(book.get('price')..replace(',','')) \\\\\\n              if isinstance(book.get('prce'), str) \\\\\\n                  and book.get('price').replce(',', '').isdigit() \\\\\\n               else (price if isinstance(book.get('price'), int) else 0)               \\n              )\",\n",
       " '_i305': \"copyBook = books.copy()\\ncopyBook.sort(key=lambda book : int(book.get('price').replace(',','')) \\\\\\n              if isinstance(book.get('prce'), str) \\\\\\n                  and book.get('price').replce(',', '').isdigit() \\\\\\n               else (price if isinstance(book.get('price'), int) else 0)               \\n              )\",\n",
       " 'copyBook': [{'no': 1, 'title': '소년이 온다', 'writer': '한강', 'price': '13,500'},\n",
       "  {'no': 3, 'title': '트럼프2.0시대', 'writer': '박종훈', 'price': '18,000'},\n",
       "  {'no': 2, 'title': '트렌트코리아2025', 'writer': '김난도', 'price': '9,100'},\n",
       "  {'no': 4, 'title': '가격잘못', 'writer': '홍길동', 'price': 'ㅁ'},\n",
       "  {'no': 6, 'title': '가격없음', 'writer': '신길동', 'price': 9200},\n",
       "  {'no': 5, 'title': '가격없음', 'writer': '신길동'}],\n",
       " '_i306': \"copyBooks = books.copy()\\ncopyBooks.sort(key=lambda book : int(book.get('price').replace(',','')) \\\\\\n              if isinstance(book.get('prce'), str) \\\\\\n                  and book.get('price').replce(',', '').isdigit() \\\\\\n               else (book.get('price') if isinstance(book.get('price'), int) else 0)               \\n              )\\ncopyBooks\",\n",
       " 'copyBooks': [{'no': 3,\n",
       "   'title': '트럼프2.0시대',\n",
       "   'writer': '박종훈',\n",
       "   'price': '18,000'},\n",
       "  {'no': 1, 'title': '소년이 온다', 'writer': '한강', 'price': '13,500'},\n",
       "  {'no': 6, 'title': '가격숫자', 'writer': '신길동', 'price': 9200},\n",
       "  {'no': 2, 'title': '트렌트코리아2025', 'writer': '김난도', 'price': '9,100'},\n",
       "  {'no': 4, 'title': '가격잘못', 'writer': '홍길동', 'price': 'ㅁ'},\n",
       "  {'no': 5, 'title': '가격없음', 'writer': '이길동'}],\n",
       " '_306': [{'no': 1, 'title': '소년이 온다', 'writer': '한강', 'price': '13,500'},\n",
       "  {'no': 3, 'title': '트럼프2.0시대', 'writer': '박종훈', 'price': '18,000'},\n",
       "  {'no': 2, 'title': '트렌트코리아2025', 'writer': '김난도', 'price': '9,100'},\n",
       "  {'no': 4, 'title': '가격잘못', 'writer': '홍길동', 'price': 'ㅁ'},\n",
       "  {'no': 5, 'title': '가격없음', 'writer': '신길동'},\n",
       "  {'no': 6, 'title': '가격없음', 'writer': '신길동', 'price': 9200}],\n",
       " '_i307': \"copyBooks = books.copy()\\ncopyBooks.sort(key=lambda book : int(book.get('price').replace(',','')) \\\\\\n              if isinstance(book.get('prce'), str) \\\\\\n                  and book.get('price').replce(',', '').isdigit() \\\\\\n               else (book.get('price') \\\\\\n                     if isinstance(book.get('price'), int) else 0),\\n               reverse=True\\n              )\\ncopyBooks\",\n",
       " '_307': [{'no': 6, 'title': '가격없음', 'writer': '신길동', 'price': 9200},\n",
       "  {'no': 1, 'title': '소년이 온다', 'writer': '한강', 'price': '13,500'},\n",
       "  {'no': 3, 'title': '트럼프2.0시대', 'writer': '박종훈', 'price': '18,000'},\n",
       "  {'no': 2, 'title': '트렌트코리아2025', 'writer': '김난도', 'price': '9,100'},\n",
       "  {'no': 4, 'title': '가격잘못', 'writer': '홍길동', 'price': 'ㅁ'},\n",
       "  {'no': 5, 'title': '가격없음', 'writer': '신길동'}],\n",
       " '_i308': \"books = [{'no' : 1, 'title' : '소년이 온다', 'writer' : '한강', 'price' : '13,500'},\\n         {'no' : 3, 'title' : '트럼프2.0시대', 'writer' : '박종훈', 'price' : '18,000'},\\n         {'no' : 2, 'title' : '트렌트코리아2025', 'writer' : '김난도', 'price' : '9,100'},\\n         {'no' : 4, 'title' : '가격잘못', 'writer' : '홍길동', 'price' : 'ㅁ'},\\n         {'no' : 6, 'title' : '가격숫자', 'writer' : '신길동', 'price' : 9200},\\n         {'no' : 5, 'title' : '가격없음', 'writer' : '이길동'}]\",\n",
       " '_i309': \"testFunc = lambda book : int(book.get('price').replace(',','')) \\\\\\n            if isinstance(book.get('price'), str) \\\\\\n                and book.get('price').replace(',', '').isdigit() \\\\\\n            else (book.get('price') if isinstance(book.get('price'), int) \\\\\\n                  else 0)\\n\\n[testFunc(book) for book in books]\",\n",
       " '_309': [13500, 18000, 9100, 0, 9200, 0],\n",
       " '_i310': \"copyBooks = books.copy()\\ncopyBooks.sort(key=lambda book : int(book.get('price').replace(',','')) \\\\\\n              if isinstance(book.get('prce'), str) \\\\\\n                  and book.get('price').replce(',', '').isdigit() \\\\\\n               else (book.get('price') \\\\\\n                     if isinstance(book.get('price'), int) else 0),\\n               reverse=True\\n              )\\ncopyBooks\",\n",
       " '_310': [{'no': 6, 'title': '가격숫자', 'writer': '신길동', 'price': 9200},\n",
       "  {'no': 1, 'title': '소년이 온다', 'writer': '한강', 'price': '13,500'},\n",
       "  {'no': 3, 'title': '트럼프2.0시대', 'writer': '박종훈', 'price': '18,000'},\n",
       "  {'no': 2, 'title': '트렌트코리아2025', 'writer': '김난도', 'price': '9,100'},\n",
       "  {'no': 4, 'title': '가격잘못', 'writer': '홍길동', 'price': 'ㅁ'},\n",
       "  {'no': 5, 'title': '가격없음', 'writer': '이길동'}],\n",
       " '_i311': \"books = [{'no' : 1, 'title' : '소년이 온다', 'writer' : '한강', 'price' : '13,500'},\\n         {'no' : 3, 'title' : '트럼프2.0시대', 'writer' : '박종훈', 'price' : '18,000'},\\n         {'no' : 2, 'title' : '트렌트코리아2025', 'writer' : '김난도', 'price' : '9,100'},\\n         {'no' : 4, 'title' : '가격잘못', 'writer' : '홍길동', 'price' : 'ㅁ'},\\n         {'no' : 6, 'title' : '가격숫자', 'writer' : '신길동', 'price' : 9200},\\n         {'no' : 5, 'title' : '가격없음', 'writer' : '이길동'}]\",\n",
       " '_i312': \"testFunc = lambda book : int(book.get('price').replace(',','')) \\\\\\n            if isinstance(book.get('price'), str) \\\\\\n                and book.get('price').replace(',', '').isdigit() \\\\\\n            else (book.get('price') if isinstance(book.get('price'), int) \\\\\\n                  else 0)\\n\\n[testFunc(book) for book in books]\",\n",
       " '_312': [13500, 18000, 9100, 0, 9200, 0],\n",
       " '_i313': \"copyBooks = books.copy()\\ncopyBooks.sort(key=lambda book : int(book.get('price').replace(',','')) \\\\\\n              if isinstance(book.get('prce'), str) \\\\\\n                  and book.get('price').replce(',', '').isdigit() \\\\\\n               else (book.get('price') \\\\\\n                     if isinstance(book.get('price'), int) else 0),\\n               reverse=True\\n              )\\ncopyBooks\",\n",
       " '_313': [{'no': 6, 'title': '가격숫자', 'writer': '신길동', 'price': 9200},\n",
       "  {'no': 1, 'title': '소년이 온다', 'writer': '한강', 'price': '13,500'},\n",
       "  {'no': 3, 'title': '트럼프2.0시대', 'writer': '박종훈', 'price': '18,000'},\n",
       "  {'no': 2, 'title': '트렌트코리아2025', 'writer': '김난도', 'price': '9,100'},\n",
       "  {'no': 4, 'title': '가격잘못', 'writer': '홍길동', 'price': 'ㅁ'},\n",
       "  {'no': 5, 'title': '가격없음', 'writer': '이길동'}],\n",
       " '_i314': \"copyBooks = books.copy()\\ncopyBooks.sort(key=lambda book : int(book.get('price').replace(',','')) \\\\\\n              if isinstance(book.get('prce'), str) \\\\\\n                  and book.get('price').replce(',', '').isdigit() \\\\\\n               else (book.get('price') \\\\\\n                     if isinstance(book.get('price'), int) else 0)\\n              )\\ncopyBooks\",\n",
       " '_314': [{'no': 1, 'title': '소년이 온다', 'writer': '한강', 'price': '13,500'},\n",
       "  {'no': 3, 'title': '트럼프2.0시대', 'writer': '박종훈', 'price': '18,000'},\n",
       "  {'no': 2, 'title': '트렌트코리아2025', 'writer': '김난도', 'price': '9,100'},\n",
       "  {'no': 4, 'title': '가격잘못', 'writer': '홍길동', 'price': 'ㅁ'},\n",
       "  {'no': 5, 'title': '가격없음', 'writer': '이길동'},\n",
       "  {'no': 6, 'title': '가격숫자', 'writer': '신길동', 'price': 9200}],\n",
       " '_i315': \"copyBooks = books.copy()\\ncopyBooks.sort(key=lambda book : int(book.get('price').replace(',','')) \\\\\\n              if isinstance(book.get('price'), str) \\\\\\n                  and book.get('price').replace(',', '').isdigit() \\\\\\n               else (book.get('price') \\\\\\n                     if isinstance(book.get('price'), int) else 0)\\n              )\\ncopyBooks\",\n",
       " '_315': [{'no': 4, 'title': '가격잘못', 'writer': '홍길동', 'price': 'ㅁ'},\n",
       "  {'no': 5, 'title': '가격없음', 'writer': '이길동'},\n",
       "  {'no': 2, 'title': '트렌트코리아2025', 'writer': '김난도', 'price': '9,100'},\n",
       "  {'no': 6, 'title': '가격숫자', 'writer': '신길동', 'price': 9200},\n",
       "  {'no': 1, 'title': '소년이 온다', 'writer': '한강', 'price': '13,500'},\n",
       "  {'no': 3, 'title': '트럼프2.0시대', 'writer': '박종훈', 'price': '18,000'}],\n",
       " '_i316': \"copyBooks = books.copy()\\ncopyBooks.sort(key=lambda book : int(book.get('price').replace(',','')) \\\\\\n              if isinstance(book.get('price'), str) \\\\\\n                  and book.get('price').replace(',', '').isdigit() \\\\\\n               else (book.get('price') \\\\\\n                     if isinstance(book.get('price'), int) else 0),\\n               reverse=True\\n              )\\ncopyBooks\",\n",
       " '_316': [{'no': 3, 'title': '트럼프2.0시대', 'writer': '박종훈', 'price': '18,000'},\n",
       "  {'no': 1, 'title': '소년이 온다', 'writer': '한강', 'price': '13,500'},\n",
       "  {'no': 6, 'title': '가격숫자', 'writer': '신길동', 'price': 9200},\n",
       "  {'no': 2, 'title': '트렌트코리아2025', 'writer': '김난도', 'price': '9,100'},\n",
       "  {'no': 4, 'title': '가격잘못', 'writer': '홍길동', 'price': 'ㅁ'},\n",
       "  {'no': 5, 'title': '가격없음', 'writer': '이길동'}],\n",
       " '_i317': \"copyBooks = books.copy()\\ncopyBooks.sort(key=lambda book : int(book.get('price').replace(',','')) \\\\\\n              if isinstance(book.get('price'), str) \\\\\\n                  and book.get('price').replace(',', '').isdigit() \\\\\\n               else (book.get('price') \\\\\\n                     if isinstance(book.get('price'), int) else 0),\\n               reverse=True\\n              )\\ncopyBooks\",\n",
       " '_317': [{'no': 3, 'title': '트럼프2.0시대', 'writer': '박종훈', 'price': '18,000'},\n",
       "  {'no': 1, 'title': '소년이 온다', 'writer': '한강', 'price': '13,500'},\n",
       "  {'no': 6, 'title': '가격숫자', 'writer': '신길동', 'price': 9200},\n",
       "  {'no': 2, 'title': '트렌트코리아2025', 'writer': '김난도', 'price': '9,100'},\n",
       "  {'no': 4, 'title': '가격잘못', 'writer': '홍길동', 'price': 'ㅁ'},\n",
       "  {'no': 5, 'title': '가격없음', 'writer': '이길동'}],\n",
       " '_i318': \"# map(func, books)\\n'''\\n{'no': 3, 'title': '트럼프', 'writer': '박', 'price': '8,000'}를 매개변수로 받아\\n{'no': 3, 'title': '트럼프', 'writer': '박', 'price': 8000}로 return\\n\\n'''\",\n",
       " '_318': \"\\n{'no': 3, 'title': '트럼프', 'writer': '박', 'price': '8,000'}를 매개변수로 받아\\n{'no': 3, 'title': '트럼프', 'writer': '박', 'price': 8000}로 return\\n\\n\",\n",
       " '_i319': \"def price_parse_int(book):\\n    # book.get('price')를 점ㅈ수 가격으로 바꾸기(방법1)\\n    if isinstance(book.get('price'), str) and book.get('price').replace(',', '').isdigit():\\n        book['price'] = int(book['price'].replace(',', ''))\\n    elif isinstance(book.get('price'), int):\\n        pass\\n    else:\\n        book['price'] = 0\\n    return book\\n    # book2 복사본을 만들어 books.get('price')를 정수 가격으로 바꾸기(방법2)\\n    # return book2\",\n",
       " 'price_parse_int': <function __main__.price_parse_int(book)>,\n",
       " '_i320': \"price_parse_int({'no': 3, 'title': '트럼프', 'writer': '박', 'price': '8,000'})\",\n",
       " '_320': {'no': 3, 'title': '트럼프', 'writer': '박', 'price': 8000},\n",
       " '_i321': \"price_parse_int({'no': 3, 'title': '트럼프', 'writer': '박', 'price': 8000})\",\n",
       " '_321': {'no': 3, 'title': '트럼프', 'writer': '박', 'price': 8000},\n",
       " '_i322': \"price_parse_int({'no': 3, 'title': '트럼프', 'writer': '박', 'price': '8000'})\",\n",
       " '_322': {'no': 3, 'title': '트럼프', 'writer': '박', 'price': 8000},\n",
       " '_i323': \"price_parse_int({'no': 3, 'title': '트럼프', 'writer': '박'})\",\n",
       " '_323': {'no': 3, 'title': '트럼프', 'writer': '박', 'price': 0},\n",
       " '_i324': \"price_parse_int({'no': 3, 'title': '트럼프', 'writer': '박', 'price' : ''})\",\n",
       " '_324': {'no': 3, 'title': '트럼프', 'writer': '박', 'price': 0},\n",
       " '_i325': \"price_parse_int({'no': 3, 'title': '트럼프', 'writer': '박', 'price' : '8,000'})\",\n",
       " '_325': {'no': 3, 'title': '트럼프', 'writer': '박', 'price': 8000},\n",
       " '_i326': \"price_parse_int({'no': 3, 'title': '트럼프', 'writer': '박', 'price' : 8000})\",\n",
       " '_326': {'no': 3, 'title': '트럼프', 'writer': '박', 'price': 8000},\n",
       " '_i327': \"bookTemp = {'no': 3, 'title': '트럼프', 'writer': '박', 'price' : 8000}\\nprice_parse_int(bookTemp)\",\n",
       " 'bookTemp': {'no': 3, 'title': '트럼프', 'writer': '박'},\n",
       " '_327': {'no': 3, 'title': '트럼프', 'writer': '박', 'price': 8000},\n",
       " '_i328': 'bookTemp',\n",
       " '_328': {'no': 3, 'title': '트럼프', 'writer': '박', 'price': 8000},\n",
       " '_i329': \"def price_parse_int(book):\\n    # book.get('price')를 점수 가격으로 바꾸기(방법1)\\n    if isinstance(book.get('price'), str) and book.get('price').replace(',', '').isdigit():\\n        book['price'] = int(book['price'].replace(',', ''))\\n    elif isinstance(book.get('price'), int):\\n        pass\\n    else:\\n        book['price'] = 0\\n    return book\\n    # book2 복사본을 만들어 books.get('price')를 정수 가격으로 바꾸기(방법2)\\n    # return book2\",\n",
       " '_i330': \"bookTemp = {'no': 3, 'title': '트럼프', 'writer': '박', 'price' : 8000}\\nprice_parse_int(bookTemp)\",\n",
       " '_330': {'no': 3, 'title': '트럼프', 'writer': '박', 'price': 8000},\n",
       " '_i331': 'bookTemp',\n",
       " '_331': {'no': 3, 'title': '트럼프', 'writer': '박', 'price': 8000},\n",
       " '_i332': \"def price_parse_int(book):\\n    # book.get('price')를 점수 가격으로 바꾸기(방법1)\\n    if isinstance(book.get('price'), str) and book.get('price').replace(',', '').isdigit():\\n        book['price'] = int(book['price'].replace(',', ''))\\n    elif isinstance(book.get('price'), int):\\n        pass\\n    else:\\n        book['price'] = 0\\n    return book\\n    # book2 복사본을 만들어 books.get('price')를 정수 가격으로 바꾸기(방법2)\\n    # return book2\",\n",
       " '_i333': \"bookTemp = {'no': 3, 'title': '트럼프', 'writer': '박', 'price' : 8000}\\nprice_parse_int(bookTemp)\",\n",
       " '_333': {'no': 3, 'title': '트럼프', 'writer': '박', 'price': 8000},\n",
       " '_i334': 'bookTemp',\n",
       " '_334': {'no': 3, 'title': '트럼프', 'writer': '박', 'price': 8000},\n",
       " '_i335': \"def price_parse_int(book):\\n    return {'no' : book.get('no'),\\n             'title' : book.get('title'),\\n             'writer' : book.get('writer'),\\n             'price' : int(book['price'].replace(',' '')) \\\\\\n                       if isinstance(book.get('price'), str) \\\\\\n                           and book.get('price').replace(',', '').isdigit() \\\\\\n                       else (book.get('price') if isinstance(book.get('price'), int) else 0)}\\n    # book2 복사본을 만들어 books.get('price')를 정수 가격으로 바꾸기(방법2)\\n    # return book2\",\n",
       " '_i336': \"bookTemp = {'no': 3, 'title': '트럼프', 'writer': '박', 'price' : 8000}\\nprice_parse_int(bookTemp)\",\n",
       " '_336': {'no': 3, 'title': '트럼프', 'writer': '박', 'price': 8000},\n",
       " '_i337': 'bookTemp',\n",
       " '_337': {'no': 3, 'title': '트럼프', 'writer': '박', 'price': 8000},\n",
       " '_i338': \"bookTemp = {'no': 3, 'title': '트럼프', 'writer': '박', 'price' : '8000'}\\nprice_parse_int(bookTemp)\",\n",
       " '_i339': \"bookTemp = {'no': 3, 'title': '트럼프', 'writer': '박', 'price' : ''}\\nprice_parse_int(bookTemp)\",\n",
       " '_339': {'no': 3, 'title': '트럼프', 'writer': '박', 'price': 0},\n",
       " '_i340': 'bookTemp',\n",
       " '_340': {'no': 3, 'title': '트럼프', 'writer': '박', 'price': ''},\n",
       " '_i341': 'bookTemp',\n",
       " '_341': {'no': 3, 'title': '트럼프', 'writer': '박', 'price': ''},\n",
       " '_i342': \"bookTemp = {'no': 3, 'title': '트럼프', 'writer': '박', 'price' : ''}\\nprice_parse_int(bookTemp)\",\n",
       " '_342': {'no': 3, 'title': '트럼프', 'writer': '박', 'price': 0},\n",
       " '_i343': 'bookTemp',\n",
       " '_343': {'no': 3, 'title': '트럼프', 'writer': '박', 'price': ''},\n",
       " '_i344': \"def price_parse_int(book):\\n    # book.get('price')를 점수 가격으로 바꾸기(방법1)\\n    if isinstance(book.get('price'), str) and book.get('price').replace(',', '').isdigit():\\n        book['price'] = int(book['price'].replace(',', ''))\\n    elif isinstance(book.get('price'), int):\\n        pass\\n    else:\\n        book['price'] = 0\\n    return book\\n    # book2 복사본을 만들어 books.get('price')를 정수 가격으로 바꾸기(방법2)\\n    # return book2\",\n",
       " '_i345': \"def price_parse_int(book):\\n    return {'no' : book.get('no'),\\n             'title' : book.get('title'),\\n             'writer' : book.get('writer'),\\n             'price' : int(book['price'].replace(',' '')) \\\\\\n                       if isinstance(book.get('price'), str) \\\\\\n                           and book.get('price').replace(',', '').isdigit() \\\\\\n                       else (book.get('price') if isinstance(book.get('price'), int) else 0)}\\n    # book2 복사본을 만들어 books.get('price')를 정수 가격으로 바꾸기(방법2)\\n    # return book2\",\n",
       " '_i346': \"bookTemp = {'no': 3, 'title': '트럼프', 'writer': '박', 'price' : ''}\\nprice_parse_int(bookTemp)\",\n",
       " '_346': {'no': 3, 'title': '트럼프', 'writer': '박', 'price': 0},\n",
       " '_i347': 'bookTemp',\n",
       " '_347': {'no': 3, 'title': '트럼프', 'writer': '박', 'price': ''},\n",
       " '_i348': \"bookTemp = {'no': 3, 'title': '트럼프', 'writer': '박'}\\nprice_parse_int(bookTemp)\",\n",
       " '_348': {'no': 3, 'title': '트럼프', 'writer': '박', 'price': 0},\n",
       " '_i349': 'bookTemp',\n",
       " '_349': {'no': 3, 'title': '트럼프', 'writer': '박'},\n",
       " '_i350': \"def price_parse_int(book):\\n    return {'no' : book.get('no'),\\n             'title' : book.get('title'),\\n             'writer' : book.get('writer'),\\n             'price' : int(book['price'].replace(',' '')) \\\\\\n                       if isinstance(book.get('price'), str) \\\\\\n                           and book.get('price').replace(',', '').isdigit() \\\\\\n                       else (book.get('price') if isinstance(book.get('price'), int) else 0)}\",\n",
       " '_i351': \"bookTemp = {'no': 3, 'title': '트럼프', 'writer': '박'}\\nprice_parse_int(bookTemp)\",\n",
       " '_351': {'no': 3, 'title': '트럼프', 'writer': '박', 'price': 0},\n",
       " '_i352': 'bookTemp',\n",
       " '_352': {'no': 3, 'title': '트럼프', 'writer': '박'},\n",
       " '_i353': \"def price_parse_int(book):\\n    # book.get('price')를 점수 가격으로 바꾸기(방법1)\\n    if isinstance(book.get('price'), str) and book.get('price').replace(',', '').isdigit():\\n        book['price'] = int(book['price'].replace(',', ''))\\n    elif isinstance(book.get('price'), int):\\n        pass\\n    else:\\n        book['price'] = 0\\n    return book\\n    # book2 복사본을 만들어 books.get('price')를 정수 가격으로 바꾸기(방법2)\\n    # return book2\",\n",
       " '_i354': \"bookTemp = {'no': 3, 'title': '트럼프', 'writer': '박'}\\nprice_parse_int(bookTemp)\",\n",
       " '_354': {'no': 3, 'title': '트럼프', 'writer': '박', 'price': 0},\n",
       " '_i355': 'bookTemp',\n",
       " '_355': {'no': 3, 'title': '트럼프', 'writer': '박', 'price': 0},\n",
       " '_i356': \"def price_parse_int(book):\\n    return {'no' : book.get('no'),\\n             'title' : book.get('title'),\\n             'writer' : book.get('writer'),\\n             'price' : int(book['price'].replace(',' '')) \\\\\\n                       if isinstance(book.get('price'), str) \\\\\\n                           and book.get('price').replace(',', '').isdigit() \\\\\\n                       else (book.get('price') if isinstance(book.get('price'), int) else 0)}\",\n",
       " '_i357': \"bookTemp = {'no': 3, 'title': '트럼프', 'writer': '박'}\\nprice_parse_int(bookTemp)\",\n",
       " '_357': {'no': 3, 'title': '트럼프', 'writer': '박', 'price': 0},\n",
       " '_i358': 'bookTemp',\n",
       " '_358': {'no': 3, 'title': '트럼프', 'writer': '박'},\n",
       " '_i359': \"def price_parse_int(book):\\n    # book.get('price')를 점수 가격으로 바꾸기(방법1)\\n    if isinstance(book.get('price'), str) and book.get('price').replace(',', '').isdigit():\\n        book['price'] = int(book['price'].replace(',', ''))\\n    elif isinstance(book.get('price'), int):\\n        pass\\n    else:\\n        book['price'] = 0\\n    return book\\n    # book2 복사본을 만들어 books.get('price')를 정수 가격으로 바꾸기(방법2)\\n    # return book2\",\n",
       " '_i360': \"bookTemp = {'no': 3, 'title': '트럼프', 'writer': '박'}\\nprice_parse_int(bookTemp)\",\n",
       " '_360': {'no': 3, 'title': '트럼프', 'writer': '박', 'price': 0},\n",
       " '_i361': 'bookTemp',\n",
       " '_361': {'no': 3, 'title': '트럼프', 'writer': '박', 'price': 0},\n",
       " '_i362': \"bookTemp = {'no': 3, 'title': '트럼프', 'writer': '박'}\\nreturnBook = price_parse_int(bookTemp)\\nreturnBook\",\n",
       " 'returnBook': {'no': 3, 'title': '트럼프', 'writer': '박', 'price': 0},\n",
       " '_362': {'no': 3, 'title': '트럼프', 'writer': '박', 'price': 0},\n",
       " '_i363': 'bookTemp',\n",
       " '_363': {'no': 3, 'title': '트럼프', 'writer': '박', 'price': 0},\n",
       " '_i364': \"def price_parse_int(book):\\n    return {'no' : book.get('no'),\\n             'title' : book.get('title'),\\n             'writer' : book.get('writer'),\\n             'price' : int(book['price'].replace(',' '')) \\\\\\n                       if isinstance(book.get('price'), str) \\\\\\n                           and book.get('price').replace(',', '').isdigit() \\\\\\n                       else (book.get('price') if isinstance(book.get('price'), int) else 0)}\",\n",
       " '_i365': 'bookTemp',\n",
       " '_365': {'no': 3, 'title': '트럼프', 'writer': '박', 'price': 0},\n",
       " '_i366': \"bookTemp = {'no': 3, 'title': '트럼프', 'writer': '박'}\\nreturnBook = price_parse_int(bookTemp)\\nreturnBook\",\n",
       " '_366': {'no': 3, 'title': '트럼프', 'writer': '박', 'price': 0},\n",
       " '_i367': 'bookTemp',\n",
       " '_367': {'no': 3, 'title': '트럼프', 'writer': '박'},\n",
       " '_i368': \"def price_parse_int(book):\\n    # book.get('price')를 점수 가격으로 바꾸기(방법1)\\n    if isinstance(book.get('price'), str) and book.get('price').replace(',', '').isdigit():\\n        book['price'] = int(book['price'].replace(',', ''))\\n    elif isinstance(book.get('price'), int):\\n        pass\\n    else:\\n        book['price'] = 0\\n    return book\\n    # book2 복사본을 만들어 books.get('price')를 정수 가격으로 바꾸기(방법2)\\n    # return book2\",\n",
       " '_i369': \"bookTemp = {'no': 3, 'title': '트럼프', 'writer': '박'}\\nprice_parse_int(bookTemp)\",\n",
       " '_369': {'no': 3, 'title': '트럼프', 'writer': '박', 'price': 0},\n",
       " '_i370': 'bookTemp',\n",
       " '_370': {'no': 3, 'title': '트럼프', 'writer': '박', 'price': 0},\n",
       " '_i371': \"def price_parse_int(book):\\n    return {'no' : book.get('no'),\\n             'title' : book.get('title'),\\n             'writer' : book.get('writer'),\\n             'price' : int(book['price'].replace(',' '')) \\\\\\n                       if isinstance(book.get('price'), str) \\\\\\n                           and book.get('price').replace(',', '').isdigit() \\\\\\n                       else (book.get('price') if isinstance(book.get('price'), int) else 0)}\",\n",
       " '_i372': \"bookTemp = {'no': 3, 'title': '트럼프', 'writer': '박'}\\nreturnBook = price_parse_int(bookTemp)\\nreturnBook\",\n",
       " '_372': {'no': 3, 'title': '트럼프', 'writer': '박', 'price': 0},\n",
       " '_i373': 'bookTemp',\n",
       " '_373': {'no': 3, 'title': '트럼프', 'writer': '박'},\n",
       " '_i374': \"# 위를 람다식으로\\nprice_parse_in = lambda book : return {'no' : book.get('no'),\\n             'title' : book.get('title'),\\n             'writer' : book.get('writer'),\\n             'price' : int(book['price'].replace(',' '')) \\\\\\n                       if isinstance(book.get('price'), str) \\\\\\n                           and book.get('price').replace(',', '').isdigit() \\\\\\n                       else (book.get('price') if isinstance(book.get('price'), int) else 0)}\",\n",
       " '_i375': \"# 위를 람다식으로\\nprice_parse_in = lambda book : \\n    return {'no' : book.get('no'),\\n             'title' : book.get('title'),\\n             'writer' : book.get('writer'),\\n             'price' : int(book['price'].replace(',' '')) \\\\\\n                       if isinstance(book.get('price'), str) \\\\\\n                           and book.get('price').replace(',', '').isdigit() \\\\\\n                       else (book.get('price') if isinstance(book.get('price'), int) else 0)}\",\n",
       " '_i376': \"# 위를 람다식으로\\nprice_parse_in = lambda book : {'no' : book.get('no'),\\n             'title' : book.get('title'),\\n             'writer' : book.get('writer'),\\n             'price' : int(book['price'].replace(',' '')) \\\\\\n                       if isinstance(book.get('price'), str) \\\\\\n                           and book.get('price').replace(',', '').isdigit() \\\\\\n                       else (book.get('price') if isinstance(book.get('price'), int) else 0)}\",\n",
       " 'price_parse_in': <function __main__.<lambda>(book)>,\n",
       " '_i377': \"# 위를 람다식으로\\nprice_parse_in = lambda book : {'no' : book.get('no'),\\n             'title' : book.get('title'),\\n             'writer' : book.get('writer'),\\n             'price' : int(book['price'].replace(',' '')) \\\\\\n                       if isinstance(book.get('price'), str) \\\\\\n                           and book.get('price').replace(',', '').isdigit() \\\\\\n                       else (book.get('price') if isinstance(book.get('price'), int) else 0)}\",\n",
       " '_i378': \"bookTemp = {'no': 3, 'title': '트럼프', 'writer': '박'}\\nreturnBook = price_parse_int(bookTemp)\\nreturnBook\",\n",
       " '_378': {'no': 3, 'title': '트럼프', 'writer': '박', 'price': 0},\n",
       " '_i379': 'bookTemp',\n",
       " '_379': {'no': 3, 'title': '트럼프', 'writer': '박'},\n",
       " '_i380': \"# 위를 람다식으로\\nprice_parse_in = lambda book : \\\\\\n                    {'no' : book.get('no'),\\n                     'title' : book.get('title'),\\n                     'writer' : book.get('writer'),\\n                     'price' : int(book['price'].replace(',' '')) \\\\\\n                       if isinstance(book.get('price'), str) \\\\\\n                           and book.get('price').replace(',', '').isdigit() \\\\\\n                       else (book.get('price') if isinstance(book.get('price'), int) else 0)}\",\n",
       " '_i381': \"# 위를 람다식으로\\nprice_parse_in = lambda book : \\\\\\n                    {'no' : book.get('no'),\\n                     'title' : book.get('title'),\\n                     'writer' : book.get('writer'),\\n                     'price' : int(book['price'].replace(',' '')) \\\\\\n                       if isinstance(book.get('price'), str) \\\\\\n                           and book.get('price').replace(',', '').isdigit() \\\\\\n                       else (book.get('price') if isinstance(book.get('price'), int) else 0)}\",\n",
       " '_i382': \"bookTemp = {'no': 3, 'title': '트럼프', 'writer': '박'}\\nreturnBook = price_parse_int(bookTemp)\\nreturnBook\",\n",
       " '_382': {'no': 3, 'title': '트럼프', 'writer': '박', 'price': 0},\n",
       " '_i383': 'bookTemp',\n",
       " '_383': {'no': 3, 'title': '트럼프', 'writer': '박'},\n",
       " '_i384': \"# 위를 람다식으로\\nprice_parse_in = lambda book : \\\\\\n                    {'no' : book.get('no'),\\n                     'title' : book.get('title'),\\n                     'writer' : book.get('writer'),\\n                     'price' : int(book['price'].replace(',' '')) \\\\\\n                           if isinstance(book.get('price'), str) \\\\\\n                               and book.get('price').replace(',', '').isdigit() \\\\\\n                           else (book.get('price') if isinstance(book.get('price'), int) else 0)}\",\n",
       " '_i385': \"newBooks = list(map(lambda book : \\\\\\n                    {'no' : book.get('no'),\\n                     'title' : book.get('title'),\\n                     'writer' : book.get('writer'),\\n                     'price' : int(book['price'].replace(',' '')) \\\\\\n                           if isinstance(book.get('price'), str) \\\\\\n                               and book.get('price').replace(',', '').isdigit() \\\\\\n                           else (book.get('price') if isinstance(book.get('price'), int) else 0)\\n                    },\\n                     books\\n                ))\",\n",
       " '_i386': \"# 위를 람다식으로\\nprice_parse_in = lambda book : \\\\\\n                    {'no' : book.get('no'),\\n                     'title' : book.get('title'),\\n                     'writer' : book.get('writer'),\\n                     'price' : int(book['price'].replace(',' '')) \\\\\\n                           if isinstance(book.get('price'), str) \\\\\\n                               and book.get('price').replace(',', '').isdigit() \\\\\\n                           else (book.get('price') if isinstance(book.get('price'), int) else 0)\\n                    }\",\n",
       " '_i387': \"newBooks = list(map(lambda book : \\\\\\n                    {'no' : book.get('no'),\\n                     'title' : book.get('title'),\\n                     'writer' : book.get('writer'),\\n                     'price' : int(book['price'].replace(',' '')) \\\\\\n                           if isinstance(book.get('price'), str) \\\\\\n                               and book.get('price').replace(',', '').isdigit() \\\\\\n                           else (book.get('price') if isinstance(book.get('price'), int) else 0)\\n                    },\\n                     books\\n                ))\",\n",
       " '_i388': \"newBooks = list(map(lambda book : {'no' : book.get('no'),\\n                     'title' : book.get('title'),\\n                     'writer' : book.get('writer'),\\n                     'price' : int(book['price'].replace(',' '')) \\\\\\n                           if isinstance(book.get('price'), str) \\\\\\n                               and book.get('price').replace(',', '').isdigit() \\\\\\n                           else (book.get('price') if isinstance(book.get('price'), int) else 0)\\n                    },\\n                     books\\n                ))\",\n",
       " '_i389': \"newBooks = list(map(lambda book : {'no' : book.get('no'),\\n                         'title' : book.get('title'),\\n                         'writer' : book.get('writer'),\\n                         'price' : int(book['price'].replace(',' '')) \\\\\\n                               if isinstance(book.get('price'), str) \\\\\\n                                   and book.get('price').replace(',', '').isdigit() \\\\\\n                               else (book.get('price') if isinstance(book.get('price'), int) else 0)\\n                    },\\n                     books\\n                ))\",\n",
       " '_i390': \"newBooks = list(map(lambda book : \\\\\\n                    {'no' : book.get('no'),\\n                     'title' : book.get('title'),\\n                     'writer' : book.get('writer'),\\n                     'price' : int(book['price'].replace(',' '')) \\\\\\n                           if isinstance(book.get('price'), str) \\\\\\n                               and book.get('price').replace(',', '').isdigit() \\\\\\n                           else (book.get('price') if isinstance(book.get('price'), int) else 0)\\n                    },\\n                     books\\n                ))\",\n",
       " '_i391': \"newBooks = list(map(lambda book : \\\\\\n                    {'no' : book.get('no'),\\n                     'title' : book.get('title'),\\n                     'writer' : book.get('writer'),\\n                     'price' : int(book['price'].replace(',' '')) \\\\\\n                           if isinstance(book.get('price'), str) \\\\\\n                               and book.get('price').replace(',', '').isdigit() \\\\\\n                           else (book.get('price') if isinstance(book.get('price'), int) else 0)\\n                    },\\n                     books\\n                ))\",\n",
       " '_i392': \"def price_parse_int(book):\\n    return {'no' : book.get('no'),\\n             'title' : book.get('title'),\\n             'writer' : book.get('writer'),\\n             'price' : int(book['price'].replace(',' '')) \\\\\\n                       if isinstance(book.get('price'), str) \\\\\\n                           and book.get('price').replace(',', '').isdigit() \\\\\\n                       else (book.get('price') if isinstance(book.get('price'), int) else 0)}\",\n",
       " '_i393': \"# 위를 람다식으로\\nprice_parse_in = lambda book : \\\\\\n                    {'no' : book.get('no'),\\n                     'title' : book.get('title'),\\n                     'writer' : book.get('writer'),\\n                     'price' : int(book['price'].replace(',' '')) \\\\\\n                           if isinstance(book.get('price'), str) \\\\\\n                               and book.get('price').replace(',', '').isdigit() \\\\\\n                           else (book.get('price') if isinstance(book.get('price'), int) else 0)\\n                    }\",\n",
       " '_i394': \"bookTemp = {'no': 3, 'title': '트럼프', 'writer': '박'}\\nreturnBook = price_parse_int(bookTemp)\\nreturnBook\",\n",
       " '_394': {'no': 3, 'title': '트럼프', 'writer': '박', 'price': 0},\n",
       " '_i395': 'bookTemp',\n",
       " '_395': {'no': 3, 'title': '트럼프', 'writer': '박'},\n",
       " '_i396': \"newBooks = list(map(lambda book : \\\\\\n                    {'no' : book.get('no'),\\n                     'title' : book.get('title'),\\n                     'writer' : book.get('writer'),\\n                     'price' : int(book['price'].replace(',' '')) \\\\\\n                           if isinstance(book.get('price'), str) \\\\\\n                               and book.get('price').replace(',', '').isdigit() \\\\\\n                           else (book.get('price') if isinstance(book.get('price'), int) else 0)\\n                    },\\n                     books\\n                ))\",\n",
       " '_i397': \"# 위를 람다식으로\\nprice_parse_in = lambda book : \\\\\\n                    {'no' : book.get('no'),\\n                     'title' : book.get('title'),\\n                     'writer' : book.get('writer'),\\n                     'price' : int(book['price'].replace(',' '')) \\\\\\n                           if isinstance(book.get('price'), str) \\\\\\n                               and book.get('price').replace(',', '').isdigit() \\\\\\n                           else (book.get('price') if isinstance(book.get('price'), int) else 0)\\n                    }\",\n",
       " '_i398': \"bookTemp = {'no': 3, 'title': '트럼프', 'writer': '박'}\\nreturnBook = price_parse_int(bookTemp)\\nreturnBook\",\n",
       " '_398': {'no': 3, 'title': '트럼프', 'writer': '박', 'price': 0},\n",
       " '_i399': 'bookTemp',\n",
       " '_399': {'no': 3, 'title': '트럼프', 'writer': '박'},\n",
       " '_i400': \"def price_parse_int(book):\\n    return {'no' : book.get('no'),\\n             'title' : book.get('title'),\\n             'writer' : book.get('writer'),\\n             'price' : int(book['price'].replace(',', '')) \\\\\\n                       if isinstance(book.get('price'), str) \\\\\\n                           and book.get('price').replace(',', '').isdigit() \\\\\\n                       else (book.get('price') if isinstance(book.get('price'), int) else 0)}\",\n",
       " '_i401': \"# 위를 람다식으로\\nprice_parse_in = lambda book : \\\\\\n                    {'no' : book.get('no'),\\n                     'title' : book.get('title'),\\n                     'writer' : book.get('writer'),\\n                     'price' : int(book['price'].replace(',' '')) \\\\\\n                           if isinstance(book.get('price'), str) \\\\\\n                               and book.get('price').replace(',', '').isdigit() \\\\\\n                           else (book.get('price') if isinstance(book.get('price'), int) else 0)\\n                    }\",\n",
       " '_i402': \"bookTemp = {'no': 3, 'title': '트럼프', 'writer': '박'}\\nreturnBook = price_parse_int(bookTemp)\\nreturnBook\",\n",
       " '_402': {'no': 3, 'title': '트럼프', 'writer': '박', 'price': 0},\n",
       " '_i403': 'bookTemp',\n",
       " '_403': {'no': 3, 'title': '트럼프', 'writer': '박'},\n",
       " '_i404': \"# 위를 람다식으로\\nprice_parse_in = lambda book : \\\\\\n                    {'no' : book.get('no'),\\n                     'title' : book.get('title'),\\n                     'writer' : book.get('writer'),\\n                     'price' : int(book['price'].replace(',', '')) \\\\\\n                           if isinstance(book.get('price'), str) \\\\\\n                               and book.get('price').replace(',', '').isdigit() \\\\\\n                           else (book.get('price') if isinstance(book.get('price'), int) else 0)\\n                    }\",\n",
       " '_i405': \"bookTemp = {'no': 3, 'title': '트럼프', 'writer': '박'}\\nreturnBook = price_parse_int(bookTemp)\\nreturnBook\",\n",
       " '_405': {'no': 3, 'title': '트럼프', 'writer': '박', 'price': 0},\n",
       " '_i406': 'bookTemp',\n",
       " '_406': {'no': 3, 'title': '트럼프', 'writer': '박'},\n",
       " '_i407': \"newBooks = list(map(lambda book : \\\\\\n                    {'no' : book.get('no'),\\n                     'title' : book.get('title'),\\n                     'writer' : book.get('writer'),\\n                     'price' : int(book['price'].replace(',', '')) \\\\\\n                           if isinstance(book.get('price'), str) \\\\\\n                               and book.get('price').replace(',', '').isdigit() \\\\\\n                           else (book.get('price') if isinstance(book.get('price'), int) else 0)\\n                    },\\n                     books\\n                ))\",\n",
       " 'newBooks': [{'no': 3, 'title': '트럼프2.0시대', 'writer': '박종훈', 'price': 18000},\n",
       "  {'no': 1, 'title': '소년이 온다', 'writer': '한강', 'price': 13500},\n",
       "  {'no': 6, 'title': '가격숫자', 'writer': '신길동', 'price': 9200},\n",
       "  {'no': 2, 'title': '트렌트코리아2025', 'writer': '김난도', 'price': 9100},\n",
       "  {'no': 4, 'title': '가격잘못', 'writer': '홍길동', 'price': 0},\n",
       "  {'no': 5, 'title': '가격없음', 'writer': '이길동', 'price': 0}],\n",
       " '_i408': \"newBooks = list(map(lambda book : \\\\\\n                    {'no' : book.get('no'),\\n                     'title' : book.get('title'),\\n                     'writer' : book.get('writer'),\\n                     'price' : int(book['price'].replace(',', '')) \\\\\\n                           if isinstance(book.get('price'), str) \\\\\\n                               and book.get('price').replace(',', '').isdigit() \\\\\\n                           else (book.get('price') if isinstance(book.get('price'), int) else 0)\\n                    },\\n                     books\\n                ))\",\n",
       " '_i409': 'newBooks',\n",
       " '_409': [{'no': 1, 'title': '소년이 온다', 'writer': '한강', 'price': 13500},\n",
       "  {'no': 3, 'title': '트럼프2.0시대', 'writer': '박종훈', 'price': 18000},\n",
       "  {'no': 2, 'title': '트렌트코리아2025', 'writer': '김난도', 'price': 9100},\n",
       "  {'no': 4, 'title': '가격잘못', 'writer': '홍길동', 'price': 0},\n",
       "  {'no': 6, 'title': '가격숫자', 'writer': '신길동', 'price': 9200},\n",
       "  {'no': 5, 'title': '가격없음', 'writer': '이길동', 'price': 0}],\n",
       " '_i410': \"def price_parse_int(book):\\n    return {'no' : book.get('no'),\\n             'title' : book.get('title'),\\n             'writer' : book.get('writer'),\\n             'price' : int(book['price'].replace(',', '')) \\\\\\n                       if isinstance(book.get('price'), str) \\\\\\n                           and book.get('price').replace(',', '').isdigit() \\\\\\n                       else (book.get('price') if isinstance(book.get('price'), int) else 0)}\",\n",
       " '_i411': \"# 위를 람다식으로\\nprice_parse_in = lambda book : \\\\\\n                    {'no' : book.get('no'),\\n                     'title' : book.get('title'),\\n                     'writer' : book.get('writer'),\\n                     'price' : int(book['price'].replace(',', '')) \\\\\\n                           if isinstance(book.get('price'), str) \\\\\\n                               and book.get('price').replace(',', '').isdigit() \\\\\\n                           else (book.get('price') if isinstance(book.get('price'), int) else 0)\\n                    }\",\n",
       " '_i412': \"bookTemp = {'no': 3, 'title': '트럼프', 'writer': '박'}\\nreturnBook = price_parse_int(bookTemp)\\nreturnBook\",\n",
       " '_412': {'no': 3, 'title': '트럼프', 'writer': '박', 'price': 0},\n",
       " '_i413': 'bookTemp',\n",
       " '_413': {'no': 3, 'title': '트럼프', 'writer': '박'},\n",
       " '_i414': \"def price_parse_int(book):\\n    return {'no' : book.get('no'),\\n             'title' : book.get('title'),\\n             'writer' : book.get('writer'),\\n             'price' : int(book['price'].replace(',', '')) \\\\\\n                       if isinstance(book.get('price'), str) \\\\\\n                           and book.get('price').replace(',', '').isdigit() \\\\\\n                       else (book.get('price') if isinstance(book.get('price'), int) else 0)}\",\n",
       " '_i415': \"# 위를 람다식으로\\nprice_parse_in = lambda book : \\\\\\n                    {'no' : book.get('no'),\\n                     'title' : book.get('title'),\\n                     'writer' : book.get('writer'),\\n                     'price' : int(book['price'].replace(',', '')) \\\\\\n                           if isinstance(book.get('price'), str) \\\\\\n                               and book.get('price').replace(',', '').isdigit() \\\\\\n                           else (book.get('price') if isinstance(book.get('price'), int) else 0)\\n                    }\",\n",
       " '_i416': \"bookTemp = {'no': 3, 'title': '트럼프', 'writer': '박'}\\nreturnBook = price_parse_int(bookTemp)\\nreturnBook\",\n",
       " '_416': {'no': 3, 'title': '트럼프', 'writer': '박', 'price': 0},\n",
       " '_i417': 'bookTemp',\n",
       " '_417': {'no': 3, 'title': '트럼프', 'writer': '박'},\n",
       " '_i418': \"newBooks = list(map(lambda book : \\\\\\n                    {'no' : book.get('no'),\\n                     'title' : book.get('title'),\\n                     'writer' : book.get('writer'),\\n                     'price' : int(book['price'].replace(',', '')) \\\\\\n                           if isinstance(book.get('price'), str) \\\\\\n                               and book.get('price').replace(',', '').isdigit() \\\\\\n                           else (book.get('price') if isinstance(book.get('price'), int) else 0)\\n                    },\\n                     books\\n                ))\",\n",
       " '_i419': 'newBooks',\n",
       " '_419': [{'no': 1, 'title': '소년이 온다', 'writer': '한강', 'price': 13500},\n",
       "  {'no': 3, 'title': '트럼프2.0시대', 'writer': '박종훈', 'price': 18000},\n",
       "  {'no': 2, 'title': '트렌트코리아2025', 'writer': '김난도', 'price': 9100},\n",
       "  {'no': 4, 'title': '가격잘못', 'writer': '홍길동', 'price': 0},\n",
       "  {'no': 6, 'title': '가격숫자', 'writer': '신길동', 'price': 9200},\n",
       "  {'no': 5, 'title': '가격없음', 'writer': '이길동', 'price': 0}],\n",
       " '_i420': \"# 예제3 : \\n'''\\nmembers = [{'name' : '홍길동', 'birth' : '2000-01-01'},\\n           {'name' : '신길동', 'birth' : '1995-12-18'}]를\\nmembers = [{'name' : '홍길동', 'birth' : '2000-01-01', 'year' : 2000, 'month' : 1, 'day' : 1},\\n           {'name' : '신길동', 'birth' : '1995-12-18', 'year' : 1995, 'month' : 12, 'day' : 18}]로 바꿉니다\\n'''\",\n",
       " '_420': \"\\nmembers = [{'name' : '홍길동', 'birth' : '2000-01-01'},\\n           {'name' : '신길동', 'birth' : '1995-12-18'}]를\\nmembers = [{'name' : '홍길동', 'birth' : '2000-01-01', 'year' : 2000, 'month' : 1, 'day' : 1},\\n           {'name' : '신길동', 'birth' : '1995-12-18', 'year' : 1995, 'month' : 12, 'day' : 18}]로 바꿉니다\\n\",\n",
       " '_i421': \"books = [{'no' : 1, 'title' : '소년이 온다', 'writer' : '한강', 'price' : '13,500'},\\n         {'no' : 3, 'title' : '트럼프2.0시대', 'writer' : '박종훈', 'price' : '18,000'},\\n         {'no' : 2, 'title' : '트렌트코리아2025', 'writer' : '김난도', 'price' : '9,100'},\\n         {'no' : 4, 'title' : '가격잘못', 'writer' : '홍길동', 'price' : 'ㅁ'},\\n         {'no' : 6, 'title' : '가격숫자', 'writer' : '신길동', 'price' : 9200},\\n         {'no' : 5, 'title' : '가격없음', 'writer' : '이길동'}]\",\n",
       " '_i422': \"testFunc = lambda book : int(book.get('price').replace(',','')) \\\\\\n            if isinstance(book.get('price'), str) \\\\\\n                and book.get('price').replace(',', '').isdigit() \\\\\\n            else (book.get('price') if isinstance(book.get('price'), int) \\\\\\n                  else 0)\\n\\n[testFunc(book) for book in books]\",\n",
       " '_422': [13500, 18000, 9100, 0, 9200, 0],\n",
       " '_i423': \"copyBooks = books.copy()\\ncopyBooks.sort(key=lambda book : int(book.get('price').replace(',','')) \\\\\\n              if isinstance(book.get('price'), str) \\\\\\n                  and book.get('price').replace(',', '').isdigit() \\\\\\n               else (book.get('price') \\\\\\n                     if isinstance(book.get('price'), int) else 0),\\n               reverse=True\\n              )\\ncopyBooks\",\n",
       " '_423': [{'no': 3, 'title': '트럼프2.0시대', 'writer': '박종훈', 'price': '18,000'},\n",
       "  {'no': 1, 'title': '소년이 온다', 'writer': '한강', 'price': '13,500'},\n",
       "  {'no': 6, 'title': '가격숫자', 'writer': '신길동', 'price': 9200},\n",
       "  {'no': 2, 'title': '트렌트코리아2025', 'writer': '김난도', 'price': '9,100'},\n",
       "  {'no': 4, 'title': '가격잘못', 'writer': '홍길동', 'price': 'ㅁ'},\n",
       "  {'no': 5, 'title': '가격없음', 'writer': '이길동'}],\n",
       " '_i424': \"# map(func, books)\\n'''\\n{'no': 3, 'title': '트럼프', 'writer': '박', 'price': '8,000'}를 매개변수로 받아\\n{'no': 3, 'title': '트럼프', 'writer': '박', 'price': 8000}로 return\\n\\n'''\",\n",
       " '_424': \"\\n{'no': 3, 'title': '트럼프', 'writer': '박', 'price': '8,000'}를 매개변수로 받아\\n{'no': 3, 'title': '트럼프', 'writer': '박', 'price': 8000}로 return\\n\\n\",\n",
       " '_i425': \"def price_parse_int(book):\\n    # book.get('price')를 점수 가격으로 바꾸기(방법1)\\n    if isinstance(book.get('price'), str) and book.get('price').replace(',', '').isdigit():\\n        book['price'] = int(book['price'].replace(',', ''))\\n    elif isinstance(book.get('price'), int):\\n        pass\\n    else:\\n        book['price'] = 0\\n    return book\\n    # book2 복사본을 만들어 books.get('price')를 정수 가격으로 바꾸기(방법2)\\n    # return book2\",\n",
       " '_i426': \"bookTemp = {'no': 3, 'title': '트럼프', 'writer': '박'}\\nprice_parse_int(bookTemp)\",\n",
       " '_426': {'no': 3, 'title': '트럼프', 'writer': '박', 'price': 0},\n",
       " '_i427': 'bookTemp',\n",
       " '_427': {'no': 3, 'title': '트럼프', 'writer': '박', 'price': 0},\n",
       " '_i428': \"def price_parse_int(book):\\n    return {'no' : book.get('no'),\\n             'title' : book.get('title'),\\n             'writer' : book.get('writer'),\\n             'price' : int(book['price'].replace(',', '')) \\\\\\n                       if isinstance(book.get('price'), str) \\\\\\n                           and book.get('price').replace(',', '').isdigit() \\\\\\n                       else (book.get('price') if isinstance(book.get('price'), int) else 0)}\",\n",
       " '_i429': \"# 위를 람다식으로\\nprice_parse_in = lambda book : \\\\\\n                    {'no' : book.get('no'),\\n                     'title' : book.get('title'),\\n                     'writer' : book.get('writer'),\\n                     'price' : int(book['price'].replace(',', '')) \\\\\\n                           if isinstance(book.get('price'), str) \\\\\\n                               and book.get('price').replace(',', '').isdigit() \\\\\\n                           else (book.get('price') if isinstance(book.get('price'), int) else 0)\\n                    }\",\n",
       " '_i430': \"bookTemp = {'no': 3, 'title': '트럼프', 'writer': '박'}\\nreturnBook = price_parse_int(bookTemp)\\nreturnBook\",\n",
       " '_430': {'no': 3, 'title': '트럼프', 'writer': '박', 'price': 0},\n",
       " '_i431': 'bookTemp',\n",
       " '_431': {'no': 3, 'title': '트럼프', 'writer': '박'},\n",
       " '_i432': \"newBooks = list(map(lambda book : \\\\\\n                    {'no' : book.get('no'),\\n                     'title' : book.get('title'),\\n                     'writer' : book.get('writer'),\\n                     'price' : int(book['price'].replace(',', '')) \\\\\\n                           if isinstance(book.get('price'), str) \\\\\\n                               and book.get('price').replace(',', '').isdigit() \\\\\\n                           else (book.get('price') if isinstance(book.get('price'), int) else 0)\\n                    },\\n                     books\\n                ))\",\n",
       " '_i433': 'newBooks',\n",
       " '_433': [{'no': 1, 'title': '소년이 온다', 'writer': '한강', 'price': 13500},\n",
       "  {'no': 3, 'title': '트럼프2.0시대', 'writer': '박종훈', 'price': 18000},\n",
       "  {'no': 2, 'title': '트렌트코리아2025', 'writer': '김난도', 'price': 9100},\n",
       "  {'no': 4, 'title': '가격잘못', 'writer': '홍길동', 'price': 0},\n",
       "  {'no': 6, 'title': '가격숫자', 'writer': '신길동', 'price': 9200},\n",
       "  {'no': 5, 'title': '가격없음', 'writer': '이길동', 'price': 0}],\n",
       " '_i434': \"books = [{'no' : 1, 'title' : '소년이 온다', 'writer' : '한강', 'price' : '13,500'},\\n         {'no' : 3, 'title' : '트럼프2.0시대', 'writer' : '박종훈', 'price' : '18,000'},\\n         {'no' : 2, 'title' : '트렌트코리아2025', 'writer' : '김난도', 'price' : '9,100'},\\n         {'no' : 4, 'title' : '가격잘못', 'writer' : '홍길동', 'price' : 'ㅁ'},\\n         {'no' : 6, 'title' : '가격숫자', 'writer' : '신길동', 'price' : 9200},\\n         {'no' : 5, 'title' : '가격없음', 'writer' : '이길동'}]\",\n",
       " '_i435': \"copyBooks = books.copy()\\ncopyBooks.sort(key=lambda book : int(book.get('price').replace(',','')) \\\\\\n              if isinstance(book.get('price'), str) \\\\\\n                  and book.get('price').replace(',', '').isdigit() \\\\\\n               else (book.get('price') \\\\\\n                     if isinstance(book.get('price'), int) else 0),\\n               reverse=True\\n              )\\ncopyBooks\",\n",
       " '_435': [{'no': 3, 'title': '트럼프2.0시대', 'writer': '박종훈', 'price': '18,000'},\n",
       "  {'no': 1, 'title': '소년이 온다', 'writer': '한강', 'price': '13,500'},\n",
       "  {'no': 6, 'title': '가격숫자', 'writer': '신길동', 'price': 9200},\n",
       "  {'no': 2, 'title': '트렌트코리아2025', 'writer': '김난도', 'price': '9,100'},\n",
       "  {'no': 4, 'title': '가격잘못', 'writer': '홍길동', 'price': 'ㅁ'},\n",
       "  {'no': 5, 'title': '가격없음', 'writer': '이길동'}],\n",
       " '_i436': \"newBooks = list(map(lambda book : \\\\\\n                    {'no' : book.get('no'),\\n                     'title' : book.get('title'),\\n                     'writer' : book.get('writer'),\\n                     'price' : int(book['price'].replace(',', '')) \\\\\\n                           if isinstance(book.get('price'), str) \\\\\\n                               and book.get('price').replace(',', '').isdigit() \\\\\\n                           else (book.get('price') if isinstance(book.get('price'), int) else 0)\\n                    },\\n                     books\\n                ))\",\n",
       " '_i437': 'newBooks',\n",
       " '_437': [{'no': 1, 'title': '소년이 온다', 'writer': '한강', 'price': 13500},\n",
       "  {'no': 3, 'title': '트럼프2.0시대', 'writer': '박종훈', 'price': 18000},\n",
       "  {'no': 2, 'title': '트렌트코리아2025', 'writer': '김난도', 'price': 9100},\n",
       "  {'no': 4, 'title': '가격잘못', 'writer': '홍길동', 'price': 0},\n",
       "  {'no': 6, 'title': '가격숫자', 'writer': '신길동', 'price': 9200},\n",
       "  {'no': 5, 'title': '가격없음', 'writer': '이길동', 'price': 0}],\n",
       " '_i438': \"books = [{'no' : 1, 'title' : '소년이 온다', 'writer' : '한강', 'price' : '13,500'},\\n         {'no' : 3, 'title' : '트럼프2.0시대', 'writer' : '박종훈', 'price' : '18,000'},\\n         {'no' : 2, 'title' : '트렌트코리아2025', 'writer' : '김난도', 'price' : '9,100'},\\n         {'no' : 4, 'title' : '가격잘못', 'writer' : '홍길동', 'price' : 'ㅁ'},\\n         {'no' : 6, 'title' : '가격숫자', 'writer' : '신길동', 'price' : 9200},\\n         {'no' : 5, 'title' : '가격없음', 'writer' : '이길동'}]\",\n",
       " '_i439': \"# copyBooks = books.copy()\\nbooks.sort(key=lambda book : int(book.get('price').replace(',','')) \\\\\\n              if isinstance(book.get('price'), str) \\\\\\n                  and book.get('price').replace(',', '').isdigit() \\\\\\n               else (book.get('price') \\\\\\n                     if isinstance(book.get('price'), int) else 0),\\n               reverse=True\\n              )\\nbooks\",\n",
       " '_439': [{'no': 3, 'title': '트럼프2.0시대', 'writer': '박종훈', 'price': '18,000'},\n",
       "  {'no': 1, 'title': '소년이 온다', 'writer': '한강', 'price': '13,500'},\n",
       "  {'no': 6, 'title': '가격숫자', 'writer': '신길동', 'price': 9200},\n",
       "  {'no': 2, 'title': '트렌트코리아2025', 'writer': '김난도', 'price': '9,100'},\n",
       "  {'no': 4, 'title': '가격잘못', 'writer': '홍길동', 'price': 'ㅁ'},\n",
       "  {'no': 5, 'title': '가격없음', 'writer': '이길동'}],\n",
       " '_i440': \"newBooks = list(map(lambda book : \\\\\\n                    {'no' : book.get('no'),\\n                     'title' : book.get('title'),\\n                     'writer' : book.get('writer'),\\n                     'price' : int(book['price'].replace(',', '')) \\\\\\n                           if isinstance(book.get('price'), str) \\\\\\n                               and book.get('price').replace(',', '').isdigit() \\\\\\n                           else (book.get('price') if isinstance(book.get('price'), int) else 0)\\n                    },\\n                     books\\n                ))\",\n",
       " '_i441': 'newBooks',\n",
       " '_441': [{'no': 3, 'title': '트럼프2.0시대', 'writer': '박종훈', 'price': 18000},\n",
       "  {'no': 1, 'title': '소년이 온다', 'writer': '한강', 'price': 13500},\n",
       "  {'no': 6, 'title': '가격숫자', 'writer': '신길동', 'price': 9200},\n",
       "  {'no': 2, 'title': '트렌트코리아2025', 'writer': '김난도', 'price': 9100},\n",
       "  {'no': 4, 'title': '가격잘못', 'writer': '홍길동', 'price': 0},\n",
       "  {'no': 5, 'title': '가격없음', 'writer': '이길동', 'price': 0}],\n",
       " '_i442': \"copyBooks = books.copy()\\ncopyBooks.sort(key=lambda book : int(book.get('price').replace(',','')) \\\\\\n              if isinstance(book.get('price'), str) \\\\\\n                  and book.get('price').replace(',', '').isdigit() \\\\\\n               else (book.get('price') \\\\\\n                     if isinstance(book.get('price'), int) else 0),\\n               reverse=True\\n              )\\ncopyBooks\",\n",
       " '_442': [{'no': 3, 'title': '트럼프2.0시대', 'writer': '박종훈', 'price': '18,000'},\n",
       "  {'no': 1, 'title': '소년이 온다', 'writer': '한강', 'price': '13,500'},\n",
       "  {'no': 6, 'title': '가격숫자', 'writer': '신길동', 'price': 9200},\n",
       "  {'no': 2, 'title': '트렌트코리아2025', 'writer': '김난도', 'price': '9,100'},\n",
       "  {'no': 4, 'title': '가격잘못', 'writer': '홍길동', 'price': 'ㅁ'},\n",
       "  {'no': 5, 'title': '가격없음', 'writer': '이길동'}],\n",
       " '_i443': \"# 예제3 : \\n'''\\nmembers = [{'name' : '홍길동', 'birth' : '2000-01-01'},\\n           {'name' : '신길동', 'birth' : '1995-12-18'}]를\\nmembers = [{'name' : '홍길동', 'birth' : '2000-01-01', 'year' : 2000, 'month' : 1, 'day' : 1},\\n           {'name' : '신길동', 'birth' : '1995-12-18', 'year' : 1995, 'month' : 12, 'day' : 18}]로 바꾸기\\n'''\",\n",
       " '_443': \"\\nmembers = [{'name' : '홍길동', 'birth' : '2000-01-01'},\\n           {'name' : '신길동', 'birth' : '1995-12-18'}]를\\nmembers = [{'name' : '홍길동', 'birth' : '2000-01-01', 'year' : 2000, 'month' : 1, 'day' : 1},\\n           {'name' : '신길동', 'birth' : '1995-12-18', 'year' : 1995, 'month' : 12, 'day' : 18}]로 바꾸기\\n\",\n",
       " '_i444': 'splited_members = members[birth].split()\\nsplited_members',\n",
       " '_i445': \"members = [{'name' : '홍길동', 'birth' : '2000-01-01'},\\n           {'name' : '신길동', 'birth' : '1995-12-18'}]\",\n",
       " 'members': [{'name': ('홍길동',), 'birth': '2000-01-01'},\n",
       "  {'name': ('신길동',), 'birth': '1995-12-18'}],\n",
       " '_i446': 'splited_members = members[birth].split()\\nsplited_members',\n",
       " '_i447': \"splited_members = members['birth'].split()\\nsplited_members\",\n",
       " '_i448': \"splited_members = members.get('birth').split()\\nsplited_members\",\n",
       " '_i449': \"splited_members = members.get('birth').split()\\nsplited_members\",\n",
       " '_i450': \"splited_members = members['birth'].split()\\nsplited_members\",\n",
       " '_i451': \"splited_members = list(members['birth'].split())\\nsplited_members\",\n",
       " '_i452': \"splited_members = isinstance(members['birth'].split(), str)\\nsplited_members\",\n",
       " '_i453': \"splited_members = members['birth'].split()\\nsplited_members\",\n",
       " '_i454': \"splited_members = members['birth'].split()\\nsplited_members\\nmembers\",\n",
       " '_i455': \"splited_members = members['birth'].split()\\n\\nmembers\",\n",
       " '_i456': 'members',\n",
       " '_456': [{'name': '홍길동', 'birth': '2000-01-01'},\n",
       "  {'name': '신길동', 'birth': '1995-12-18'}],\n",
       " '_i457': \"# 예제3 : \\n'''\\nmembers = [{'name' : '홍길동', 'birth' : '2000-01-01'},\\n           {'name' : '신길동', 'birth' : '1995-12-18'}]를\\nmembers = [{'name' : '홍길동', 'year' : 2000, 'month' : 1, 'day' : 1},\\n           {'name' : '신길동', 'year' : 1995, 'month' : 12, 'day' : 18}]로 바꾸기\\n'''\",\n",
       " '_457': \"\\nmembers = [{'name' : '홍길동', 'birth' : '2000-01-01'},\\n           {'name' : '신길동', 'birth' : '1995-12-18'}]를\\nmembers = [{'name' : '홍길동', 'year' : 2000, 'month' : 1, 'day' : 1},\\n           {'name' : '신길동', 'year' : 1995, 'month' : 12, 'day' : 18}]로 바꾸기\\n\",\n",
       " '_i458': 'splited_members = members[1].split()\\nsplited_members',\n",
       " '_i459': \"members = [{'name' : '홍길동', 'birth' : '2000-01-01'},\\n           {'name' : '신길동', 'birth' : '1995-12-18'}]\",\n",
       " '_i460': 'members',\n",
       " '_460': [{'name': '홍길동', 'birth': '2000-01-01'},\n",
       "  {'name': '신길동', 'birth': '1995-12-18'}],\n",
       " '_i461': \"# '1995-01-01'을 받아 {'year' : 1995, 'month' : 1, 'day' : 1}을 return하는 함수\\ndef split_data(date):\\n    split_data = date.split('-')\\n    return {'year' : split_data[0],\\n             'month' : split_data[1],\\n             'day' : split_data[2],}\",\n",
       " 'split_data': <function __main__.split_data(date)>,\n",
       " '_i462': \"split_data('2001-01-08')\",\n",
       " '_462': {'year': '2001', 'month': '01', 'day': '08'},\n",
       " '_i463': \"# '1995-01-01'을 받아 {'year' : 1995, 'month' : 1, 'day' : 1}을 return하는 함수\\ndef split_data(date):\\n    split_data = date.split('-')\\n    return {'year' : int(split_data[0]),\\n             'month' : int(split_data[1]),\\n             'day' : int(split_data[2]),}\",\n",
       " '_i464': \"split_data('2001-01-08')\",\n",
       " '_464': {'year': 2001, 'month': 1, 'day': 8},\n",
       " '_i465': \"# '1995-01-01'을 받아 {'year' : 1995, 'month' : 1, 'day' : 1}을 return하는 함수\\ndef split_data(date):\\n    split_data = date.split('-')\\n    return {'year' : int(split_data[0]),\\n             'month' : int(split_data[1]),\\n             'day' : int(split_data[2])}\",\n",
       " '_i466': \"def split_birth(member):  # 'name', 'birth'\\n    return {\\n        'name' : member.get('name'),\\n        'year' : int(member.get('birth').split('-')[0]),\\n        'month' : int(member.get('birth').split('-')[1]),\\n        'day' : int(member.get('birth').split('-')[2])\\n    }\",\n",
       " 'split_birth': <function __main__.<lambda>(members)>,\n",
       " '_i467': \"member = [{'name' : '홍길동', 'birth' : '2000-01-01'},\\n           {'name' : '신길동', 'birth' : '1995-12-18'}]\",\n",
       " 'member': [{'name': '홍길동', 'year': 2000, 'month': 1, 'day': 1},\n",
       "  {'name': '신길동', 'year': 1995, 'month': 12, 'day': 18}],\n",
       " '_i468': \"member = [{'name' : '홍길동', 'birth' : '2000-01-01'},\\n           {'name' : '신길동', 'birth' : '1995-12-18'}]\",\n",
       " '_i469': \"# '1995-01-01'을 받아 {'year' : 1995, 'month' : 1, 'day' : 1}을 return하는 함수\\ndef split_data(date):\\n    split_data = date.split('-')\\n    return {'year' : int(split_data[0]),\\n             'month' : int(split_data[1]),\\n             'day' : int(split_data[2])}\",\n",
       " '_i470': \"split_data('2001-01-08')\",\n",
       " '_470': {'year': 2001, 'month': 1, 'day': 8},\n",
       " '_i471': \"def split_birth(member):  # 'name', 'birth'\\n    return {\\n        'name' : member.get('name'),\\n        'year' : int(member.get('birth').split('-')[0]),\\n        'month' : int(member.get('birth').split('-')[1]),\\n        'day' : int(member.get('birth').split('-')[2])\\n    }\",\n",
       " '_i472': \"split_birth){'name' : '홍길동', 'birth' : '1999-12-16'}\",\n",
       " '_i473': \"split_birth({'name' : '홍길동', 'birth' : '1999-12-16'})\",\n",
       " '_473': {'name': '홍길동', 'year': 1999, 'month': 12, 'day': 16},\n",
       " '_i474': \"# 예제3 : \\n'''\\nmember = [{'name' : '홍길동', 'birth' : '2000-01-01'},\\n           {'name' : '신길동', 'birth' : '1995-12-18'}]를\\nmember = [{'name' : '홍길동', 'year' : 2000, 'month' : 1, 'day' : 1},\\n           {'name' : '신길동', 'year' : 1995, 'month' : 12, 'day' : 18}]로 바꾸기\\n'''\",\n",
       " '_474': \"\\nmember = [{'name' : '홍길동', 'birth' : '2000-01-01'},\\n           {'name' : '신길동', 'birth' : '1995-12-18'}]를\\nmember = [{'name' : '홍길동', 'year' : 2000, 'month' : 1, 'day' : 1},\\n           {'name' : '신길동', 'year' : 1995, 'month' : 12, 'day' : 18}]로 바꾸기\\n\",\n",
       " '_i475': \"# 예제3 : \\n'''\\nmember = [{'name' : '홍길동', 'birth' : '2000-01-01'},\\n           {'name' : '신길동', 'birth' : '1995-12-18'}]를\\nmember = [{'name' : '홍길동', 'year' : 2000, 'month' : 1, 'day' : 1},\\n           {'name' : '신길동', 'year' : 1995, 'month' : 12, 'day' : 18}]로 바꾸기\\n'''\",\n",
       " '_475': \"\\nmember = [{'name' : '홍길동', 'birth' : '2000-01-01'},\\n           {'name' : '신길동', 'birth' : '1995-12-18'}]를\\nmember = [{'name' : '홍길동', 'year' : 2000, 'month' : 1, 'day' : 1},\\n           {'name' : '신길동', 'year' : 1995, 'month' : 12, 'day' : 18}]로 바꾸기\\n\",\n",
       " '_i476': \"# 예제3 : \\n'''\\nmember = [{'name' : '홍길동', 'birth' : '2000-01-01'},\\n           {'name' : '신길동', 'birth' : '1995-12-18'}]를\\nmember = [{'name' : '홍길동', 'year' : 2000, 'month' : 1, 'day' : 1},\\n           {'name' : '신길동', 'year' : 1995, 'month' : 12, 'day' : 18}]로 바꾸기\\n'''\",\n",
       " '_476': \"\\nmember = [{'name' : '홍길동', 'birth' : '2000-01-01'},\\n           {'name' : '신길동', 'birth' : '1995-12-18'}]를\\nmember = [{'name' : '홍길동', 'year' : 2000, 'month' : 1, 'day' : 1},\\n           {'name' : '신길동', 'year' : 1995, 'month' : 12, 'day' : 18}]로 바꾸기\\n\",\n",
       " '_i477': \"# 예제3 : \\n'''\\nmember = [{'name' : '홍길동', 'birth' : '2000-01-01'},\\n           {'name' : '신길동', 'birth' : '1995-12-18'}]를\\nmember = [{'name' : '홍길동', 'year' : 2000, 'month' : 1, 'day' : 1},\\n           {'name' : '신길동', 'year' : 1995, 'month' : 12, 'day' : 18}]로 바꾸기\\n'''\",\n",
       " '_477': \"\\nmember = [{'name' : '홍길동', 'birth' : '2000-01-01'},\\n           {'name' : '신길동', 'birth' : '1995-12-18'}]를\\nmember = [{'name' : '홍길동', 'year' : 2000, 'month' : 1, 'day' : 1},\\n           {'name' : '신길동', 'year' : 1995, 'month' : 12, 'day' : 18}]로 바꾸기\\n\",\n",
       " '_i478': \"member = [{'name' : '홍길동', 'birth' : '2000-01-01'},\\n           {'name' : '신길동', 'birth' : '1995-12-18'}]\",\n",
       " '_i479': \"# '1995-01-01'을 받아 {'year' : 1995, 'month' : 1, 'day' : 1}을 return하는 함수\\ndef split_data(date):\\n    split_data = date.split('-')\\n    return {'year' : int(split_data[0]),\\n             'month' : int(split_data[1]),\\n             'day' : int(split_data[2])}\",\n",
       " '_i480': \"split_data('2001-01-08')\",\n",
       " '_480': {'year': 2001, 'month': 1, 'day': 8},\n",
       " '_i481': \"def split_birth(member):  # 'name', 'birth'\\n    return {\\n        'name' : member.get('name'),\\n        'year' : int(member.get('birth').split('-')[0]),\\n        'month' : int(member.get('birth').split('-')[1]),\\n        'day' : int(member.get('birth').split('-')[2])\\n    }\",\n",
       " '_i482': \"split_birth({'name' : '홍길동', 'birth' : '1999-12-16'})\",\n",
       " '_482': {'name': '홍길동', 'year': 1999, 'month': 12, 'day': 16},\n",
       " '_i483': \"split_birth = lambda member : {\\n    'name' : member.get('name'),\\n    'year' : int(member.get('birth').split('-')[0]),\\n    'month' : int(member.get('birth').split('-')[1]),\\n    'day' : int(member.get('birth').split('-')[2])\\n}\",\n",
       " '_i484': \"split_birth({'name' : '홍길동', 'birth' : '1999-12-16'})\",\n",
       " '_484': {'name': '홍길동', 'year': 1999, 'month': 12, 'day': 16},\n",
       " '_i485': \"split_birth = lambda member : {\\n    'name' : member['name'],\\n    'year' : int(member.get('birth').split('-')[0]),\\n    'month' : int(member.get('birth').split('-')[1]),\\n    'day' : int(member.get('birth').split('-')[2])\\n}\",\n",
       " '_i486': \"split_birth({'name' : '홍길동', 'birth' : '1999-12-16'})\",\n",
       " '_486': {'name': '홍길동', 'year': 1999, 'month': 12, 'day': 16},\n",
       " '_i487': \"members = list(map(lambda member : {  # 람다식\\n    'name' : member['name'],\\n    'year' : int(member.get('birth').split('-')[0]),\\n    'month' : int(member.get('birth').split('-')[1]),\\n    'day' : int(member.get('birth').split('-')[2])\\n}, members))\",\n",
       " '_i488': \"members = list(map(lambda member : {  # 람다식\\n    'name' : member['name'],\\n    'year' : int(member.get('birth').split('-')[0]),\\n    'month' : int(member.get('birth').split('-')[1]),\\n    'day' : int(member.get('birth').split('-')[2])\\n}, members))\\nmembers\",\n",
       " '_i489': \"member = list(map(lambda member : {  # 람다식\\n    'name' : member['name'],\\n    'year' : int(member.get('birth').split('-')[0]),\\n    'month' : int(member.get('birth').split('-')[1]),\\n    'day' : int(member.get('birth').split('-')[2])\\n}, member))\\nmember\",\n",
       " '_489': [{'name': '홍길동', 'year': 2000, 'month': 1, 'day': 1},\n",
       "  {'name': '신길동', 'year': 1995, 'month': 12, 'day': 18}],\n",
       " '_i490': \"members = list(map(lambda members : {  # 람다식\\n    'name' : members['name'],\\n    'year' : int(members.get('birth').split('-')[0]),\\n    'month' : int(members.get('birth').split('-')[1]),\\n    'day' : int(members.get('birth').split('-')[2])\\n}, members))\\nmembers\",\n",
       " '_i491': \"# 예제3 : \\n'''\\nmembers = [{'name' : '홍길동', 'birth' : '2000-01-01'},\\n           {'name' : '신길동', 'birth' : '1995-12-18'}]를\\nmembers = [{'name' : '홍길동', 'year' : 2000, 'month' : 1, 'day' : 1},\\n           {'name' : '신길동', 'year' : 1995, 'month' : 12, 'day' : 18}]로 바꾸기\\n'''\",\n",
       " '_491': \"\\nmembers = [{'name' : '홍길동', 'birth' : '2000-01-01'},\\n           {'name' : '신길동', 'birth' : '1995-12-18'}]를\\nmembers = [{'name' : '홍길동', 'year' : 2000, 'month' : 1, 'day' : 1},\\n           {'name' : '신길동', 'year' : 1995, 'month' : 12, 'day' : 18}]로 바꾸기\\n\",\n",
       " '_i492': \"# 예제3 : \\n'''\\nmembers = [{'name' : '홍길동', 'birth' : '2000-01-01'},\\n           {'name' : '신길동', 'birth' : '1995-12-18'}]를\\nmembers = [{'name' : '홍길동', 'year' : 2000, 'month' : 1, 'day' : 1},\\n           {'name' : '신길동', 'year' : 1995, 'month' : 12, 'day' : 18}]로 바꾸기\\n'''\",\n",
       " '_492': \"\\nmembers = [{'name' : '홍길동', 'birth' : '2000-01-01'},\\n           {'name' : '신길동', 'birth' : '1995-12-18'}]를\\nmembers = [{'name' : '홍길동', 'year' : 2000, 'month' : 1, 'day' : 1},\\n           {'name' : '신길동', 'year' : 1995, 'month' : 12, 'day' : 18}]로 바꾸기\\n\",\n",
       " '_i493': \"members = [{'name' : '홍길동', 'birth' : '2000-01-01'},\\n           {'name' : '신길동', 'birth' : '1995-12-18'}]\",\n",
       " '_i494': \"# '1995-01-01'을 받아 {'year' : 1995, 'month' : 1, 'day' : 1}을 return하는 함수\\ndef split_data(date):\\n    split_data = date.split('-')\\n    return {'year' : int(split_data[0]),\\n             'month' : int(split_data[1]),\\n             'day' : int(split_data[2])}\",\n",
       " '_i495': \"split_data('2001-01-08')\",\n",
       " '_495': {'year': 2001, 'month': 1, 'day': 8},\n",
       " '_i496': \"def split_birth(member):  # 'name', 'birth'\\n    return {\\n        'name' : members.get('name'),\\n        'year' : int(members.get('birth').split('-')[0]),\\n        'month' : int(members.get('birth').split('-')[1]),\\n        'day' : int(members.get('birth').split('-')[2])\\n    }\",\n",
       " '_i497': \"split_birth = lambda members : {  # 람다식\\n    'name' : members['name'],\\n    'year' : int(members.get('birth').split('-')[0]),\\n    'month' : int(members.get('birth').split('-')[1]),\\n    'day' : int(members.get('birth').split('-')[2])\\n}\",\n",
       " '_i498': \"split_birth({'name' : '홍길동', 'birth' : '1999-12-16'})\",\n",
       " '_498': {'name': '홍길동', 'year': 1999, 'month': 12, 'day': 16},\n",
       " '_i499': \"split_birth = lambda members : {  # 람다식\\n    'name' : members['name'],\\n    'year' : int(members.get('birth').split('-')[0]),\\n    'month' : int(members.get('birth').split('-')[1]),\\n    'day' : int(members.get('birth').split('-')[2])\\n}\",\n",
       " '_i500': \"split_birth({'name' : '홍길동', 'birth' : '1999-12-16'})\",\n",
       " '_500': {'name': '홍길동', 'year': 1999, 'month': 12, 'day': 16},\n",
       " '_i501': \"def split_birth(members):  # 'name', 'birth'\\n    return {\\n        'name' : members.get('name'),\\n        'year' : int(members.get('birth').split('-')[0]),\\n        'month' : int(members.get('birth').split('-')[1]),\\n        'day' : int(members.get('birth').split('-')[2])\\n    }\",\n",
       " '_i502': \"split_birth = lambda members : {  # 람다식\\n    'name' : members['name'],\\n    'year' : int(members.get('birth').split('-')[0]),\\n    'month' : int(members.get('birth').split('-')[1]),\\n    'day' : int(members.get('birth').split('-')[2])\\n}\",\n",
       " '_i503': \"split_birth({'name' : '홍길동', 'birth' : '1999-12-16'})\",\n",
       " '_503': {'name': '홍길동', 'year': 1999, 'month': 12, 'day': 16},\n",
       " '_i504': \"members = list(map(lambda members : {  # 람다식\\n    'name' : members['name'],\\n    'year' : int(members.get('birth').split('-')[0]),\\n    'month' : int(members.get('birth').split('-')[1]),\\n    'day' : int(members.get('birth').split('-')[2])\\n}, members))\\nmembers\",\n",
       " '_504': [{'year': 2000, 'month': 1, 'day': 1},\n",
       "  {'name': '신길동', 'year': 1995, 'month': 12, 'day': 18}],\n",
       " '_i505': \"def join_date(date):  # {'year': 1995, 'month': 12, 'day': 18} => '1995-12-18'\\n    '-'.join(date)    \",\n",
       " 'join_date': <function __main__.join_date(date)>,\n",
       " '_i506': \"join_date({'year': 1995, 'month': 12, 'day': 18})\",\n",
       " '_i507': \"def join_date(date):  # {'year': 1995, 'month': 12, 'day': 18} => '1995-12-18'\\n    return '-'.join(date)    \",\n",
       " '_i508': \"def join_date(date):  # {'year': 1995, 'month': 12, 'day': 18} => '1995-12-18'\\n    return '-'.join(date)    \",\n",
       " '_i509': \"join_date({'year': 1995, 'month': 12, 'day': 18})\",\n",
       " '_509': 'year-month-day',\n",
       " '_i510': \"def join_date(date):  # {'year': 1995, 'month': 12, 'day': 18} => '1995-12-18'\\n    return '-'.join(date).value()\",\n",
       " '_i511': \"def join_date(date):  # {'year': 1995, 'month': 12, 'day': 18} => '1995-12-18'\\n    return '-'.join(date).value()\",\n",
       " '_i512': \"join_date({'year': 1995, 'month': 12, 'day': 18})\",\n",
       " '_i513': \"def join_date(date):  # {'year': 1995, 'month': 12, 'day': 18} => '1995-12-18'\\n    return '-'.join(date).values()\",\n",
       " '_i514': \"join_date({'year': 1995, 'month': 12, 'day': 18})\",\n",
       " '_i515': \"def join_date(date):  # {'year': 1995, 'month': 12, 'day': 18} => '1995-12-18'\\n    return '-'.join(date.values())\",\n",
       " '_i516': \"join_date({'year': 1995, 'month': 12, 'day': 18})\",\n",
       " '_i517': \"def join_date(date):  # {'year': 1995, 'month': 12, 'day': 18} => '1995-12-18'\\n    return '{}-{}-{}'.format(date['year'], date['month'], date['day'])\",\n",
       " '_i518': \"join_date({'year': 1995, 'month': 12, 'day': 18})\",\n",
       " '_518': '1995-12-18',\n",
       " '_i519': \"def join_date(date):  # {'year': 1995, 'month': 12, 'day': 18} => '1995-12-18'\\n    return '{}-{:02}-{:02}'.format(date['year'], date['month'], date['day'])\",\n",
       " '_i520': \"join_date({'year': 1995, 'month': 12, 'day': 18})\",\n",
       " '_520': '1995-12-18',\n",
       " '_i521': \"join_date({'year': 1995, 'month': 1, 'day': 1})\",\n",
       " '_521': '1995-01-01',\n",
       " '_i522': \"def join_date(date):  # {'year': 1995, 'month': 12, 'day': 18} => '1995-12-18'\\n    return '{year}-{month:02}-{day:02}'.format(year=date['year'], month=date['month'], day=date['day'])\",\n",
       " '_i523': \"def join_date(date):  # {'year': 1995, 'month': 12, 'day': 18} => '1995-12-18'\\n    return '{year}-{month:02}-{day:02}'.format(year=date['year'], month=date['month'], day=date['day'])\",\n",
       " '_i524': \"join_date({'year': 1995, 'month': 1, 'day': 1})\",\n",
       " '_524': '1995-01-01',\n",
       " '_i525': \"def join_date(date):  # {'year': 1995, 'month': 12, 'day': 18} => '1995-12-18'\\n    return '{year}-{month:02}-{day:02}'.format(**date)\\n        # year=date['year'], month=date['month'], day=date['day'])\",\n",
       " '_i526': \"join_date({'year': 1995, 'month': 1, 'day': 1})\",\n",
       " '_526': '1995-01-01',\n",
       " '_i527': \"def join_birth(members):\\n    name = members['name'],\\n    del members['name']\\n    print(members)\",\n",
       " 'join_birth': <function __main__.join_birth(members)>,\n",
       " '_i528': \"join_birth({'name' : 'kim', 'year' : 1995, 'month' : 1, 'day' : 2})\",\n",
       " '_i529': \"def join_birth(members):\\n    name = members['name'],\\n    del members['name']\\n    # print(members)  # 빈 곳에 0 반드시 2자리\\n    join_date = '{year}-{month:02}-{day:02}'.format(**date)  # 딕셔너리 데이터 언패킹\\n    return {'name' : name,\\n             'birth' : join_date}\",\n",
       " '_i530': \"join_birth({'name' : 'kim', 'year' : 1995, 'month' : 1, 'day' : 2})\",\n",
       " '_i531': \"def join_birth(members):\\n    name = members['name'],\\n    del members['name']\\n    # print(members)  # 빈 곳에 0 반드시 2자리\\n    join_date = '{year}-{month:02}-{day:02}'.format(**member)  # 딕셔너리 데이터 언패킹\\n    return {'name' : name,\\n             'birth' : join_date}\",\n",
       " '_i532': \"join_birth({'name' : 'kim', 'year' : 1995, 'month' : 1, 'day' : 2})\",\n",
       " '_i533': 'members = list(map(join_birth, members))\\nmembers',\n",
       " '_i534': \"def join_birth(members):\\n    name = members['name'],\\n    del members['name']\\n    # print(members)  # 빈 곳에 0 반드시 2자리\\n    join_date = '{year}-{month:02}-{day:02}'.format(**member)  # 딕셔너리 데이터 언패킹\\n    return {'name' : name,\\n             'birth' : join_date}\",\n",
       " '_i535': 'members = list(map(join_birth, members))\\nmembers',\n",
       " '_i536': 'member = list(map(join_birth, members))\\nmember',\n",
       " '_i537': \"def join_birth(members):\\n    name = members['name'],\\n    del members['name']\\n    # print(members)  # 빈 곳에 0 반드시 2자리\\n    join_date = '{year}-{month:02}-{day:02}'.format(**member)  # 딕셔너리 데이터 언패킹\\n    return {'name' : name,\\n             'birth' : join_date}\",\n",
       " '_i538': \"join_birth({'name' : 'kim', 'year' : 1995, 'month' : 1, 'day' : 2})\",\n",
       " '_i539': 'member = list(map(join_birth, members))\\nmember',\n",
       " '_i540': 'members = list(map(join_birth, members))\\nmembers',\n",
       " '_i541': \"def join_birth(members):\\n    name = members['name'],\\n    del members['name']\\n    # print(members)  # 빈 곳에 0 반드시 2자리\\n    join_date = '{year}-{month:02}-{day:02}'.format(**members)  # 딕셔너리 데이터 언패킹\\n    return {'name' : name,\\n             'birth' : join_date}\",\n",
       " '_i542': \"join_birth({'name' : 'kim', 'year' : 1995, 'month' : 1, 'day' : 2})\",\n",
       " '_542': {'name': ('kim',), 'birth': '1995-01-02'},\n",
       " '_i543': 'members = list(map(join_birth, members))\\nmembers',\n",
       " '_i544': \"def join_birth(member):\\n    name = member['name'],\\n    del members['name']\\n    # print(members)  # 빈 곳에 0 반드시 2자리\\n    join_date = '{year}-{month:02}-{day:02}'.format(**member)  # 딕셔너리 데이터 언패킹\\n    return {'name' : name,\\n             'birth' : join_date}\",\n",
       " '_i545': \"join_birth({'name' : 'kim', 'year' : 1995, 'month' : 1, 'day' : 2})\",\n",
       " '_i546': 'members = list(map(join_birth, members))\\nmembers',\n",
       " '_i547': \"def join_birth(member):\\n    name = members['name'],\\n    del members['name']\\n    # print(members)  # 빈 곳에 0 반드시 2자리\\n    join_date = '{year}-{month:02}-{day:02}'.format(**members)  # 딕셔너리 데이터 언패킹\\n    return {'name' : name,\\n             'birth' : join_date}\",\n",
       " '_i548': \"join_birth({'name' : 'kim', 'year' : 1995, 'month' : 1, 'day' : 2})\",\n",
       " '_i549': 'members = list(map(join_birth, members))\\nmembers',\n",
       " '_i550': \"def join_birth(members):\\n    name = members['name'],\\n    del members['name']\\n    # print(members)  # 빈 곳에 0 반드시 2자리\\n    join_date = '{year}-{month:02}-{day:02}'.format(**members)  # 딕셔너리 데이터 언패킹\\n    return {'name' : name,\\n             'birth' : join_date}\",\n",
       " '_i551': \"join_birth({'name' : 'kim', 'year' : 1995, 'month' : 1, 'day' : 2})\",\n",
       " '_551': {'name': ('kim',), 'birth': '1995-01-02'},\n",
       " '_i552': 'members = list(map(join_birth, members))\\nmembers',\n",
       " '_i553': 'members',\n",
       " '_553': [{'year': 2000, 'month': 1, 'day': 1},\n",
       "  {'name': '신길동', 'year': 1995, 'month': 12, 'day': 18}],\n",
       " '_i554': \"members = [{'name' : '홍길동', 'birth' : '2000-01-01'},\\n           {'name' : '신길동', 'birth' : '1995-12-18'}]\",\n",
       " '_i555': \"members = list(map(lambda members : {  # 람다식\\n    'name' : members['name'],\\n    'year' : int(members.get('birth').split('-')[0]),\\n    'month' : int(members.get('birth').split('-')[1]),\\n    'day' : int(members.get('birth').split('-')[2])\\n}, members))\\nmembers\",\n",
       " '_555': [{'year': 2000, 'month': 1, 'day': 1},\n",
       "  {'year': 1995, 'month': 12, 'day': 18}],\n",
       " '_i556': 'members = list(map(join_birth, members))\\nmembers',\n",
       " '_556': [{'name': ('홍길동',), 'birth': '2000-01-01'},\n",
       "  {'name': ('신길동',), 'birth': '1995-12-18'}],\n",
       " '_i557': 'members',\n",
       " '_557': [{'name': ('홍길동',), 'birth': '2000-01-01'},\n",
       "  {'name': ('신길동',), 'birth': '1995-12-18'}],\n",
       " '_i558': \"def apply(data, func=None):\\n    if func is None:  # if func == None\\n        print('func가 None')\\n    else:\\n        print('func가 None아님')\",\n",
       " 'apply': <function __main__.apply(data, func=None)>,\n",
       " '_i559': 'apply(1)',\n",
       " '_i560': \"def apply(data, func=None):\\n    # if func == None\\n    if func is None:\\n        print('func가 None')\\n    else:\\n        print('func가 None아님')\",\n",
       " '_i561': 'apply(1)',\n",
       " '_i562': \"def apply(data, func=None):\\n    # if func == None\\n    if func is None:\\n        return data\\n    else:\\n        print('func가 None아님')\",\n",
       " '_i563': 'apply(1)',\n",
       " '_563': 1,\n",
       " '_i564': 'def apply(data, func=None):\\n    # if func == None\\n    if func is None:\\n        return data\\n    else:\\n        return func(data)',\n",
       " '_i565': 'apply(1)',\n",
       " '_565': 1,\n",
       " '_i566': 'apply(1)',\n",
       " '_566': 1,\n",
       " '_i567': 'print(apply(2))\\nprint(apply(2, lambda x : x**3))',\n",
       " '_i568': '# 매개변수에 함수를 사용\\ndef apply(data, func=None):\\n    # if func == None\\n    if func is None:\\n        return data\\n    else:\\n        return func(data)',\n",
       " '_i569': 'print(apply(2))\\nprint(apply(2, lambda x : x**3))',\n",
       " '_i570': '# 함수를 return',\n",
       " '_i571': \"# 함수를 return\\n'''\\nmake_box([2, 3]) => 2차원 2행 3열 list를 만드는 함수를 return\\n    fun = make_box([2, 3])\\n    fun(5) => [[5, 5, 5],\\n               [5, 5, 5]]\\nmake_box((2,)) => 1차원 2열 list를 만드는 함수를 return (2,) 뒤에 , 꼭 써야함\\n    fun = make_box([2])\\n    fun(7) => [7,7]\\n'''\\ndef make_box(shape):  # shape : [x], [x, y] : x열, x행y열\\n    def box(init_value):\\n        if len(shape) == 1:  # shape가 1차원인지\\n            return [init_value]*shape[0]  # 1차원 list를 return\\n        elif len(shape) == 2:  # shape가 2차원인지\\n            return [[init_value]*shape[1]] * shape[0]\\n    return box\",\n",
       " 'make_box': <function __main__.make_box(shape)>,\n",
       " '_i572': 'line_fun = make_box( (3,))  # 3열짜리 1차원 list\\nline_fun',\n",
       " 'line_fun': <function __main__.make_box.<locals>.<lambda>(init_value)>,\n",
       " '_572': <function __main__.make_box.<locals>.box(init_value)>,\n",
       " '_i573': 'line_fun = make_box((3,))  # 3열짜리 1차원 list\\nline_fun',\n",
       " '_573': <function __main__.make_box.<locals>.box(init_value)>,\n",
       " '_i574': 'line_fun = make_box((3,))  # 3열짜리 1차원 list\\nline_fun(5)',\n",
       " '_574': [5, 5, 5],\n",
       " '_i575': 'box2d_fun = make_box( (4, 3))\\nbox2d_fun(5)',\n",
       " 'box2d_fun': <function __main__.make_box.<locals>.<lambda>(init_value)>,\n",
       " '_575': [[5, 5, 5], [5, 5, 5], [5, 5, 5], [5, 5, 5]],\n",
       " '_i576': 'def make_box(shape):\\n    if len(shape) == 1:\\n        return lambda init_value : [init_value]*shape[0]\\n    elif len(shape) == 2:\\n        return lambda init_value : [[init_value]*shape[1]] * shape[0]',\n",
       " '_i577': 'line_fun = make_box((3,))  # 3열짜리 1차원 list\\nline_fun(5)',\n",
       " '_577': [5, 5, 5],\n",
       " '_i578': 'box2d_fun = make_box( (4, 3))  # 4행 3열짜리 2차원 list\\nbox2d_fun(5)',\n",
       " '_578': [[5, 5, 5], [5, 5, 5], [5, 5, 5], [5, 5, 5]],\n",
       " '_i579': \"int('6')\",\n",
       " '_579': 6,\n",
       " '_i580': \"int('ㅁ')\\n# ('6.3'), ('') 에러\",\n",
       " '_i581': \"int('6')\\n# ('6.3'), ('') 에러\",\n",
       " '_581': 6,\n",
       " '_i582': \"int('6')\\n# ('6.3'), (''), ('ㅁ') 에러\",\n",
       " '_582': 6,\n",
       " '_i583': 'globals()'}"
      ]
     },
     "execution_count": 583,
     "metadata": {},
     "output_type": "execute_result"
    }
   ],
   "source": [
    "globals()  # 전역변수 리스트"
   ]
  },
  {
   "cell_type": "code",
   "execution_count": 585,
   "id": "6987da4c",
   "metadata": {
    "ExecuteTime": {
     "end_time": "2024-11-11T08:43:12.086721Z",
     "start_time": "2024-11-11T08:43:12.081723Z"
    }
   },
   "outputs": [],
   "source": [
    "# abc(7) => [0, 1, 2, 3, 4, 5, 6]\n",
    "def abc(n):\n",
    "    L = []\n",
    "    for i in range(n):\n",
    "        L.append(i)\n",
    "    print(locals())  # 지역변수들을 출력\n",
    "    return L"
   ]
  },
  {
   "cell_type": "code",
   "execution_count": 586,
   "id": "37187343",
   "metadata": {
    "ExecuteTime": {
     "end_time": "2024-11-11T08:43:15.918963Z",
     "start_time": "2024-11-11T08:43:15.911783Z"
    }
   },
   "outputs": [
    {
     "name": "stdout",
     "output_type": "stream",
     "text": [
      "{'n': 7, 'L': [0, 1, 2, 3, 4, 5, 6], 'i': 6}\n"
     ]
    },
    {
     "data": {
      "text/plain": [
       "[0, 1, 2, 3, 4, 5, 6]"
      ]
     },
     "execution_count": 586,
     "metadata": {},
     "output_type": "execute_result"
    }
   ],
   "source": [
    "abc(7)"
   ]
  },
  {
   "cell_type": "code",
   "execution_count": 588,
   "id": "985dcc9e",
   "metadata": {
    "ExecuteTime": {
     "end_time": "2024-11-11T08:44:33.589378Z",
     "start_time": "2024-11-11T08:44:33.583382Z"
    }
   },
   "outputs": [
    {
     "data": {
      "text/plain": [
       "True"
      ]
     },
     "execution_count": 588,
     "metadata": {},
     "output_type": "execute_result"
    }
   ],
   "source": [
    "isinstance(3.5, float)"
   ]
  },
  {
   "cell_type": "code",
   "execution_count": 589,
   "id": "e47e1828",
   "metadata": {
    "ExecuteTime": {
     "end_time": "2024-11-11T08:50:53.554757Z",
     "start_time": "2024-11-11T08:50:53.547580Z"
    }
   },
   "outputs": [],
   "source": [
    "class Person:\n",
    "    def __init__(self, name, age):  # self:this와 유사\n",
    "        self.name = name\n",
    "        self.age  = age\n",
    "    def print_info(self):\n",
    "        # 객체의 정보를 출력하는 함수\n",
    "        print('이름은 {}, 나이는 {}살'.format(self.name, self.age))"
   ]
  },
  {
   "cell_type": "code",
   "execution_count": 592,
   "id": "00ffe6e0",
   "metadata": {
    "ExecuteTime": {
     "end_time": "2024-11-11T08:52:12.295885Z",
     "start_time": "2024-11-11T08:52:12.291885Z"
    }
   },
   "outputs": [
    {
     "name": "stdout",
     "output_type": "stream",
     "text": [
      "이름은 홍길동, 나이는 30살\n"
     ]
    }
   ],
   "source": [
    "p = Person('홍길동', 30)  # 객체 생성\n",
    "p.print_info()"
   ]
  },
  {
   "cell_type": "code",
   "execution_count": 594,
   "id": "feba7b3e",
   "metadata": {
    "ExecuteTime": {
     "end_time": "2024-11-11T08:52:25.792822Z",
     "start_time": "2024-11-11T08:52:25.786823Z"
    }
   },
   "outputs": [
    {
     "data": {
      "text/plain": [
       "('홍길동', 30)"
      ]
     },
     "execution_count": 594,
     "metadata": {},
     "output_type": "execute_result"
    }
   ],
   "source": [
    "p.name, p.age"
   ]
  },
  {
   "cell_type": "code",
   "execution_count": 597,
   "id": "95997653",
   "metadata": {
    "ExecuteTime": {
     "end_time": "2024-11-11T08:52:50.161728Z",
     "start_time": "2024-11-11T08:52:50.155731Z"
    }
   },
   "outputs": [
    {
     "data": {
      "text/plain": [
       "True"
      ]
     },
     "execution_count": 597,
     "metadata": {},
     "output_type": "execute_result"
    }
   ],
   "source": [
    "isinstance(p, Person)  # (객체변수, 객체타입)"
   ]
  },
  {
   "cell_type": "code",
   "execution_count": 599,
   "id": "48210864",
   "metadata": {
    "ExecuteTime": {
     "end_time": "2024-11-11T08:53:31.176814Z",
     "start_time": "2024-11-11T08:53:31.170817Z"
    }
   },
   "outputs": [
    {
     "data": {
      "text/plain": [
       "['__annotations__',\n",
       " '__class__',\n",
       " '__delattr__',\n",
       " '__dict__',\n",
       " '__dir__',\n",
       " '__doc__',\n",
       " '__eq__',\n",
       " '__format__',\n",
       " '__ge__',\n",
       " '__getattribute__',\n",
       " '__gt__',\n",
       " '__hash__',\n",
       " '__init__',\n",
       " '__init_subclass__',\n",
       " '__le__',\n",
       " '__lt__',\n",
       " '__module__',\n",
       " '__ne__',\n",
       " '__new__',\n",
       " '__reduce__',\n",
       " '__reduce_ex__',\n",
       " '__repr__',\n",
       " '__setattr__',\n",
       " '__sizeof__',\n",
       " '__str__',\n",
       " '__subclasshook__',\n",
       " '__weakref__',\n",
       " 'print_info']"
      ]
     },
     "execution_count": 599,
     "metadata": {},
     "output_type": "execute_result"
    }
   ],
   "source": [
    "dir(Person)  # Person클래스 객체가 호출 가능한 함수"
   ]
  },
  {
   "cell_type": "code",
   "execution_count": 601,
   "id": "fce7a5b3",
   "metadata": {
    "ExecuteTime": {
     "end_time": "2024-11-11T08:54:07.579128Z",
     "start_time": "2024-11-11T08:54:07.571131Z"
    }
   },
   "outputs": [
    {
     "data": {
      "text/plain": [
       "['__add__',\n",
       " '__class__',\n",
       " '__contains__',\n",
       " '__delattr__',\n",
       " '__dir__',\n",
       " '__doc__',\n",
       " '__eq__',\n",
       " '__format__',\n",
       " '__ge__',\n",
       " '__getattribute__',\n",
       " '__getitem__',\n",
       " '__getnewargs__',\n",
       " '__gt__',\n",
       " '__hash__',\n",
       " '__init__',\n",
       " '__init_subclass__',\n",
       " '__iter__',\n",
       " '__le__',\n",
       " '__len__',\n",
       " '__lt__',\n",
       " '__mod__',\n",
       " '__mul__',\n",
       " '__ne__',\n",
       " '__new__',\n",
       " '__reduce__',\n",
       " '__reduce_ex__',\n",
       " '__repr__',\n",
       " '__rmod__',\n",
       " '__rmul__',\n",
       " '__setattr__',\n",
       " '__sizeof__',\n",
       " '__str__',\n",
       " '__subclasshook__',\n",
       " 'capitalize',\n",
       " 'casefold',\n",
       " 'center',\n",
       " 'count',\n",
       " 'encode',\n",
       " 'endswith',\n",
       " 'expandtabs',\n",
       " 'find',\n",
       " 'format',\n",
       " 'format_map',\n",
       " 'index',\n",
       " 'isalnum',\n",
       " 'isalpha',\n",
       " 'isascii',\n",
       " 'isdecimal',\n",
       " 'isdigit',\n",
       " 'isidentifier',\n",
       " 'islower',\n",
       " 'isnumeric',\n",
       " 'isprintable',\n",
       " 'isspace',\n",
       " 'istitle',\n",
       " 'isupper',\n",
       " 'join',\n",
       " 'ljust',\n",
       " 'lower',\n",
       " 'lstrip',\n",
       " 'maketrans',\n",
       " 'partition',\n",
       " 'removeprefix',\n",
       " 'removesuffix',\n",
       " 'replace',\n",
       " 'rfind',\n",
       " 'rindex',\n",
       " 'rjust',\n",
       " 'rpartition',\n",
       " 'rsplit',\n",
       " 'rstrip',\n",
       " 'split',\n",
       " 'splitlines',\n",
       " 'startswith',\n",
       " 'strip',\n",
       " 'swapcase',\n",
       " 'title',\n",
       " 'translate',\n",
       " 'upper',\n",
       " 'zfill']"
      ]
     },
     "execution_count": 601,
     "metadata": {},
     "output_type": "execute_result"
    }
   ],
   "source": [
    "dir(str)  # str형태가 호출 가능한 함수"
   ]
  },
  {
   "cell_type": "code",
   "execution_count": 602,
   "id": "ba68e98d",
   "metadata": {
    "ExecuteTime": {
     "end_time": "2024-11-11T08:54:51.042789Z",
     "start_time": "2024-11-11T08:54:51.035708Z"
    }
   },
   "outputs": [
    {
     "data": {
      "text/plain": [
       "False"
      ]
     },
     "execution_count": 602,
     "metadata": {},
     "output_type": "execute_result"
    }
   ],
   "source": [
    "all([True, True, True, False])  # all : 모든 요소가 True인지 여부"
   ]
  },
  {
   "cell_type": "code",
   "execution_count": 603,
   "id": "3ae126b8",
   "metadata": {
    "ExecuteTime": {
     "end_time": "2024-11-11T08:55:23.257443Z",
     "start_time": "2024-11-11T08:55:23.250446Z"
    }
   },
   "outputs": [
    {
     "data": {
      "text/plain": [
       "4"
      ]
     },
     "execution_count": 603,
     "metadata": {},
     "output_type": "execute_result"
    }
   ],
   "source": [
    "round(3.5)  # 반올림"
   ]
  },
  {
   "cell_type": "code",
   "execution_count": 606,
   "id": "84efaee8",
   "metadata": {
    "ExecuteTime": {
     "end_time": "2024-11-11T08:56:41.489381Z",
     "start_time": "2024-11-11T08:56:41.481287Z"
    }
   },
   "outputs": [
    {
     "data": {
      "text/plain": [
       "(4.0, 4.0, 3.0)"
      ]
     },
     "execution_count": 606,
     "metadata": {},
     "output_type": "execute_result"
    }
   ],
   "source": [
    "import numpy        # 올림         # 버림\n",
    "numpy.round(3.5), numpy.ceil(3.1), numpy.floor(3.2)"
   ]
  },
  {
   "cell_type": "code",
   "execution_count": null,
   "id": "a6ba6e8e",
   "metadata": {},
   "outputs": [],
   "source": []
  },
  {
   "cell_type": "code",
   "execution_count": null,
   "id": "70c2421d",
   "metadata": {},
   "outputs": [],
   "source": []
  },
  {
   "cell_type": "code",
   "execution_count": null,
   "id": "59138ba0",
   "metadata": {},
   "outputs": [],
   "source": []
  },
  {
   "cell_type": "code",
   "execution_count": null,
   "id": "38380f65",
   "metadata": {},
   "outputs": [],
   "source": []
  },
  {
   "cell_type": "code",
   "execution_count": null,
   "id": "105ef875",
   "metadata": {},
   "outputs": [],
   "source": []
  },
  {
   "cell_type": "code",
   "execution_count": null,
   "id": "3ab1539a",
   "metadata": {},
   "outputs": [],
   "source": []
  },
  {
   "cell_type": "code",
   "execution_count": null,
   "id": "4e1dd809",
   "metadata": {},
   "outputs": [],
   "source": []
  },
  {
   "cell_type": "code",
   "execution_count": null,
   "id": "c5454b89",
   "metadata": {},
   "outputs": [],
   "source": []
  },
  {
   "cell_type": "code",
   "execution_count": null,
   "id": "34591060",
   "metadata": {},
   "outputs": [],
   "source": []
  },
  {
   "cell_type": "code",
   "execution_count": null,
   "id": "88c4c82e",
   "metadata": {},
   "outputs": [],
   "source": []
  },
  {
   "cell_type": "code",
   "execution_count": null,
   "id": "fa51f230",
   "metadata": {},
   "outputs": [],
   "source": []
  },
  {
   "cell_type": "code",
   "execution_count": null,
   "id": "bdd4b0e3",
   "metadata": {},
   "outputs": [],
   "source": []
  },
  {
   "cell_type": "code",
   "execution_count": null,
   "id": "1f27dca5",
   "metadata": {},
   "outputs": [],
   "source": []
  },
  {
   "cell_type": "code",
   "execution_count": null,
   "id": "bde4331f",
   "metadata": {},
   "outputs": [],
   "source": []
  },
  {
   "cell_type": "code",
   "execution_count": null,
   "id": "4d62ef62",
   "metadata": {},
   "outputs": [],
   "source": []
  },
  {
   "cell_type": "code",
   "execution_count": null,
   "id": "10a144cf",
   "metadata": {},
   "outputs": [],
   "source": []
  },
  {
   "cell_type": "code",
   "execution_count": null,
   "id": "5de1f2ea",
   "metadata": {},
   "outputs": [],
   "source": []
  },
  {
   "cell_type": "code",
   "execution_count": null,
   "id": "f4924d26",
   "metadata": {},
   "outputs": [],
   "source": []
  },
  {
   "cell_type": "code",
   "execution_count": null,
   "id": "30b05248",
   "metadata": {},
   "outputs": [],
   "source": []
  },
  {
   "cell_type": "code",
   "execution_count": null,
   "id": "320bbcd8",
   "metadata": {},
   "outputs": [],
   "source": []
  },
  {
   "cell_type": "code",
   "execution_count": null,
   "id": "7a18d537",
   "metadata": {},
   "outputs": [],
   "source": []
  }
 ],
 "metadata": {
  "kernelspec": {
   "display_name": "Python 3 (ipykernel)",
   "language": "python",
   "name": "python3"
  },
  "language_info": {
   "codemirror_mode": {
    "name": "ipython",
    "version": 3
   },
   "file_extension": ".py",
   "mimetype": "text/x-python",
   "name": "python",
   "nbconvert_exporter": "python",
   "pygments_lexer": "ipython3",
   "version": "3.10.9"
  },
  "toc": {
   "base_numbering": 1,
   "nav_menu": {},
   "number_sections": true,
   "sideBar": true,
   "skip_h1_title": false,
   "title_cell": "Table of Contents",
   "title_sidebar": "Contents",
   "toc_cell": false,
   "toc_position": {
    "height": "calc(100% - 180px)",
    "left": "10px",
    "top": "150px",
    "width": "165px"
   },
   "toc_section_display": true,
   "toc_window_display": true
  }
 },
 "nbformat": 4,
 "nbformat_minor": 5
}
