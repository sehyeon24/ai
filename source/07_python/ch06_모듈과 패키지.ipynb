{
 "cells": [
  {
   "cell_type": "code",
   "execution_count": 1,
   "id": "fb38c0de",
   "metadata": {
    "ExecuteTime": {
     "end_time": "2024-11-28T09:09:18.200357Z",
     "start_time": "2024-11-28T09:09:18.189179Z"
    }
   },
   "outputs": [
    {
     "data": {
      "text/html": [
       "\n",
       "<style>\n",
       "div.container{width:80% !important;}\n",
       "div.prompt {min-width:70px;}\n",
       "div#toc-header{margin-top:150px;}\n",
       "span.toc-item-num{display:none;}\n",
       "</style>\n"
      ],
      "text/plain": [
       "<IPython.core.display.HTML object>"
      ]
     },
     "metadata": {},
     "output_type": "display_data"
    }
   ],
   "source": [
    "from IPython.display import display, HTML\n",
    "display(HTML(\"\"\"\n",
    "<style>\n",
    "div.container{width:80% !important;}\n",
    "div.prompt {min-width:70px;}\n",
    "div#toc-header{margin-top:150px;}\n",
    "span.toc-item-num{display:none;}\n",
    "</style>\n",
    "\"\"\"))"
   ]
  },
  {
   "cell_type": "markdown",
   "id": "a5f30d19",
   "metadata": {},
   "source": [
    "<b><font color='red' size='6'>ch06. 모듈과 패키지</font></b>"
   ]
  },
  {
   "cell_type": "markdown",
   "id": "360ccc01",
   "metadata": {},
   "source": [
    "# 1절. 파이썬 표준 모듈 사용\n",
    " - 모듈 : 함수, 변수, 클래스 등을 담고 있는 파이썬 코드 파일(*.py)\n",
    " - 파이썬 표준 모듈 200여개는 파이썬 인터프리터와 함게 install됨\n",
    " - anaconda는 1500개 이상의 패키지 install(정확한 갯수는 버전마다 상이)"
   ]
  },
  {
   "cell_type": "code",
   "execution_count": 3,
   "id": "88c36e54",
   "metadata": {
    "ExecuteTime": {
     "end_time": "2024-11-12T03:49:20.934682Z",
     "start_time": "2024-11-12T03:49:20.928685Z"
    }
   },
   "outputs": [
    {
     "data": {
      "text/plain": [
       "'Tue Nov 12 12:49:20 2024'"
      ]
     },
     "execution_count": 3,
     "metadata": {},
     "output_type": "execute_result"
    }
   ],
   "source": [
    "# 사용법\n",
    "# 1. import 모듈명 : 모듈 안의 함수, 변수, 클래스를 모듈명.함수명(), ..으로 사용\n",
    "import time  # time모듈 안의 함수, 변수, 클래스가 모두 메모리에서 로드됨\n",
    "time.ctime()  # 현재시점, 현재시간"
   ]
  },
  {
   "cell_type": "code",
   "execution_count": 4,
   "id": "2f266aca",
   "metadata": {
    "ExecuteTime": {
     "end_time": "2024-11-12T03:49:24.350326Z",
     "start_time": "2024-11-12T03:49:24.343628Z"
    }
   },
   "outputs": [
    {
     "data": {
      "text/plain": [
       "1731383364.3456268"
      ]
     },
     "execution_count": 4,
     "metadata": {},
     "output_type": "execute_result"
    }
   ],
   "source": [
    "time.time()  # 1970.1.1부터의 밀리세컨"
   ]
  },
  {
   "cell_type": "code",
   "execution_count": 5,
   "id": "b9b8ef57",
   "metadata": {
    "ExecuteTime": {
     "end_time": "2024-11-12T03:51:07.804203Z",
     "start_time": "2024-11-12T03:51:07.800204Z"
    }
   },
   "outputs": [],
   "source": [
    "del time  # time모듈을 메모리에서 언로드"
   ]
  },
  {
   "cell_type": "code",
   "execution_count": 6,
   "id": "fc3e20c3",
   "metadata": {
    "ExecuteTime": {
     "end_time": "2024-11-12T03:51:19.202207Z",
     "start_time": "2024-11-12T03:51:18.478812Z"
    }
   },
   "outputs": [
    {
     "ename": "NameError",
     "evalue": "name 'time' is not defined",
     "output_type": "error",
     "traceback": [
      "\u001b[1;31m---------------------------------------------------------------------------\u001b[0m",
      "\u001b[1;31mNameError\u001b[0m                                 Traceback (most recent call last)",
      "Cell \u001b[1;32mIn[6], line 1\u001b[0m\n\u001b[1;32m----> 1\u001b[0m \u001b[43mtime\u001b[49m\u001b[38;5;241m.\u001b[39mctime()\n",
      "\u001b[1;31mNameError\u001b[0m: name 'time' is not defined"
     ]
    }
   ],
   "source": [
    "time.ctime()"
   ]
  },
  {
   "cell_type": "code",
   "execution_count": 11,
   "id": "df789021",
   "metadata": {
    "ExecuteTime": {
     "end_time": "2024-11-12T03:57:13.627064Z",
     "start_time": "2024-11-12T03:57:13.621067Z"
    }
   },
   "outputs": [
    {
     "data": {
      "text/plain": [
       "'Tue Nov 12 12:57:13 2024'"
      ]
     },
     "execution_count": 11,
     "metadata": {},
     "output_type": "execute_result"
    }
   ],
   "source": [
    "# 2. from 모듈명(A) import 함수명|변수명|클래스명(B) : A 모듈 안의 B만 메모리에서 로드\n",
    "#    from 패키지명(A) import 모듈명(B) : A 패키지 안의 B 모듈을 메모리에서 로드\n",
    "#    from 패키지(A).모듈명(B) import 함수명|변수명|클래스명(C) : from A.B import C\n",
    "#                                           : A 패키지 안의 B 모듈 안의 특정 C 함수를 메모리에서 로드\n",
    "from time import ctime, time  # time 패키지 안의 ctime과 time 모듈만 사용\n",
    "ctime()\n",
    "# from 뒤에는 ,(콤마) 사용 불가"
   ]
  },
  {
   "cell_type": "code",
   "execution_count": 12,
   "id": "b7a9eed8",
   "metadata": {
    "ExecuteTime": {
     "end_time": "2024-11-12T03:57:13.793408Z",
     "start_time": "2024-11-12T03:57:13.777780Z"
    }
   },
   "outputs": [
    {
     "data": {
      "text/plain": [
       "1731383833.7777805"
      ]
     },
     "execution_count": 12,
     "metadata": {},
     "output_type": "execute_result"
    }
   ],
   "source": [
    "time()"
   ]
  },
  {
   "cell_type": "code",
   "execution_count": 13,
   "id": "3f86ffea",
   "metadata": {
    "ExecuteTime": {
     "end_time": "2024-11-12T03:57:13.943505Z",
     "start_time": "2024-11-12T03:57:13.927879Z"
    }
   },
   "outputs": [],
   "source": [
    "del ctime\n",
    "del time"
   ]
  },
  {
   "cell_type": "code",
   "execution_count": 15,
   "id": "81189483",
   "metadata": {
    "ExecuteTime": {
     "end_time": "2024-11-12T03:59:09.384322Z",
     "start_time": "2024-11-12T03:59:09.379323Z"
    }
   },
   "outputs": [
    {
     "data": {
      "text/plain": [
       "'Tue Nov 12 12:59:09 2024'"
      ]
     },
     "execution_count": 15,
     "metadata": {},
     "output_type": "execute_result"
    }
   ],
   "source": [
    "# 3. import 모듈명 as 별칭 : 모듈을 메모리에서 로드하고 별칭으로 사용\n",
    "import time as t\n",
    "t.ctime()"
   ]
  },
  {
   "cell_type": "code",
   "execution_count": 17,
   "id": "02f94ddf",
   "metadata": {
    "ExecuteTime": {
     "end_time": "2024-11-12T03:59:21.569671Z",
     "start_time": "2024-11-12T03:59:21.562673Z"
    }
   },
   "outputs": [
    {
     "data": {
      "text/plain": [
       "1731383961.5646732"
      ]
     },
     "execution_count": 17,
     "metadata": {},
     "output_type": "execute_result"
    }
   ],
   "source": [
    "t.time()"
   ]
  },
  {
   "cell_type": "code",
   "execution_count": 18,
   "id": "7ff90763",
   "metadata": {
    "ExecuteTime": {
     "end_time": "2024-11-12T03:59:49.655791Z",
     "start_time": "2024-11-12T03:59:49.650794Z"
    }
   },
   "outputs": [],
   "source": [
    "del t  # 별칭을 설정했으므로 별칭으로 언로드"
   ]
  },
  {
   "cell_type": "code",
   "execution_count": 20,
   "id": "1729a569",
   "metadata": {
    "ExecuteTime": {
     "end_time": "2024-11-12T04:02:26.840218Z",
     "start_time": "2024-11-12T04:02:26.834220Z"
    }
   },
   "outputs": [
    {
     "data": {
      "text/plain": [
       "'Tue Nov 12 13:02:26 2024'"
      ]
     },
     "execution_count": 20,
     "metadata": {},
     "output_type": "execute_result"
    }
   ],
   "source": [
    "# 4. from 모듈명 import 함수명|변수명|클래스명 as 별칭\n",
    "#    from 패키지명 import 모듈명 as 별칭\n",
    "#    from 패키지명.모듈명 import 함수명|변수명|클래스명 as 별칭\n",
    "from time import ctime as ct\n",
    "# from time import ctime as ct, time as t 가능\n",
    "ct()"
   ]
  },
  {
   "cell_type": "code",
   "execution_count": 23,
   "id": "0e5d1a66",
   "metadata": {
    "ExecuteTime": {
     "end_time": "2024-11-12T04:09:32.283868Z",
     "start_time": "2024-11-12T04:09:32.278158Z"
    }
   },
   "outputs": [
    {
     "data": {
      "text/plain": [
       "'\\nimport A             - A 모듈을 메모리에서 가져옴\\nimport A as B        - A 모듈을 B 이름으로 가져옴\\nfrom A import B      - A 모듈 안의 B 함수(클래스|변수)만 가져옴\\nfrom A import B as C - A 모듈 안의 B 함수를 C 이름으로 가져옴\\n\\nimport 패키지명 (이 형식으로 사용불가)\\nfrom A import B        - A 패키지 안의 B 모듈을 가져옴\\nfrom A.B import C      - A 패키지 안의 B 모듈 안의 C 함수만 가져옴\\nfrom A import B as C   - A 패키지 안의 B 모듈을 C 이름으로 가져옴\\nfrom A.B import C as D - A 패티지 안의 B 모듈 안의 C 함수를 D 이름으로 가져옴\\n'"
      ]
     },
     "execution_count": 23,
     "metadata": {},
     "output_type": "execute_result"
    }
   ],
   "source": [
    "'''\n",
    "import A             - A 모듈을 메모리에서 가져옴\n",
    "import A as B        - A 모듈을 B 이름으로 가져옴\n",
    "from A import B      - A 모듈 안의 B 함수(클래스|변수)만 가져옴\n",
    "from A import B as C - A 모듈 안의 B 함수를 C 이름으로 가져옴\n",
    "\n",
    "import 패키지명 (이 형식으로 사용불가)\n",
    "from A import B        - A 패키지 안의 B 모듈을 가져옴\n",
    "from A.B import C      - A 패키지 안의 B 모듈 안의 C 함수만 가져옴\n",
    "from A import B as C   - A 패키지 안의 B 모듈을 C 이름으로 가져옴\n",
    "from A.B import C as D - A 패티지 안의 B 모듈 안의 C 함수를 D 이름으로 가져옴\n",
    "'''"
   ]
  },
  {
   "cell_type": "code",
   "execution_count": 25,
   "id": "e3aa1db4",
   "metadata": {
    "ExecuteTime": {
     "end_time": "2024-11-12T04:10:30.348731Z",
     "start_time": "2024-11-12T04:10:30.341734Z"
    }
   },
   "outputs": [
    {
     "data": {
      "text/plain": [
       "['_STRUCT_TM_ITEMS',\n",
       " '__doc__',\n",
       " '__loader__',\n",
       " '__name__',\n",
       " '__package__',\n",
       " '__spec__',\n",
       " 'altzone',\n",
       " 'asctime',\n",
       " 'ctime',\n",
       " 'daylight',\n",
       " 'get_clock_info',\n",
       " 'gmtime',\n",
       " 'localtime',\n",
       " 'mktime',\n",
       " 'monotonic',\n",
       " 'monotonic_ns',\n",
       " 'perf_counter',\n",
       " 'perf_counter_ns',\n",
       " 'process_time',\n",
       " 'process_time_ns',\n",
       " 'sleep',\n",
       " 'strftime',\n",
       " 'strptime',\n",
       " 'struct_time',\n",
       " 'thread_time',\n",
       " 'thread_time_ns',\n",
       " 'time',\n",
       " 'time_ns',\n",
       " 'timezone',\n",
       " 'tzname']"
      ]
     },
     "execution_count": 25,
     "metadata": {},
     "output_type": "execute_result"
    }
   ],
   "source": [
    "import time\n",
    "dir(time)  # time내의 함수, 변수, 클래스 등이 list로 출력됨"
   ]
  },
  {
   "cell_type": "markdown",
   "id": "cb0a09c3",
   "metadata": {},
   "source": [
    "# 2절. 사용자 정의 모듈\n",
    " - 함수나 클래스 등을 파이썬 파일에 저장해서 모듈을 만들고 재사용할 수 있음\n",
    " - 모듈을 가져오는 순서(import) (1)표준모듈 (2)sys.path 변수에 저장된 경로 "
   ]
  },
  {
   "cell_type": "code",
   "execution_count": 27,
   "id": "eea3cc2b",
   "metadata": {
    "ExecuteTime": {
     "end_time": "2024-11-12T05:18:40.815597Z",
     "start_time": "2024-11-12T05:18:40.807868Z"
    }
   },
   "outputs": [
    {
     "data": {
      "text/plain": [
       "['D:\\\\imsehyeon\\\\source\\\\07_python',\n",
       " 'C:\\\\Users\\\\4545\\\\anaconda3\\\\python310.zip',\n",
       " 'C:\\\\Users\\\\4545\\\\anaconda3\\\\DLLs',\n",
       " 'C:\\\\Users\\\\4545\\\\anaconda3\\\\lib',\n",
       " 'C:\\\\Users\\\\4545\\\\anaconda3',\n",
       " '',\n",
       " 'C:\\\\Users\\\\4545\\\\anaconda3\\\\lib\\\\site-packages',\n",
       " 'C:\\\\Users\\\\4545\\\\anaconda3\\\\lib\\\\site-packages\\\\win32',\n",
       " 'C:\\\\Users\\\\4545\\\\anaconda3\\\\lib\\\\site-packages\\\\win32\\\\lib',\n",
       " 'C:\\\\Users\\\\4545\\\\anaconda3\\\\lib\\\\site-packages\\\\Pythonwin']"
      ]
     },
     "execution_count": 27,
     "metadata": {},
     "output_type": "execute_result"
    }
   ],
   "source": [
    "import sys\n",
    "# dir(sys)\n",
    "sys.path"
   ]
  },
  {
   "cell_type": "code",
   "execution_count": 30,
   "id": "95c4232f",
   "metadata": {
    "ExecuteTime": {
     "end_time": "2024-11-12T05:54:20.099559Z",
     "start_time": "2024-11-12T05:54:20.093028Z"
    }
   },
   "outputs": [
    {
     "data": {
      "text/plain": [
       "True"
      ]
     },
     "execution_count": 30,
     "metadata": {},
     "output_type": "execute_result"
    }
   ],
   "source": [
    "'D:/imsehyeon/source/pylib'\n",
    "r'D:\\imsehyeon\\source\\pylib' == 'D:\\\\imsehyeon\\\\source\\\\pylib'"
   ]
  },
  {
   "cell_type": "code",
   "execution_count": 1,
   "id": "5131be12",
   "metadata": {
    "ExecuteTime": {
     "end_time": "2024-11-12T07:46:33.050623Z",
     "start_time": "2024-11-12T07:46:33.040501Z"
    }
   },
   "outputs": [
    {
     "data": {
      "text/plain": [
       "['D:\\\\imsehyeon\\\\source\\\\07_python',\n",
       " 'C:\\\\Users\\\\4545\\\\anaconda3\\\\python310.zip',\n",
       " 'C:\\\\Users\\\\4545\\\\anaconda3\\\\DLLs',\n",
       " 'C:\\\\Users\\\\4545\\\\anaconda3\\\\lib',\n",
       " 'C:\\\\Users\\\\4545\\\\anaconda3',\n",
       " '',\n",
       " 'C:\\\\Users\\\\4545\\\\anaconda3\\\\lib\\\\site-packages',\n",
       " 'C:\\\\Users\\\\4545\\\\anaconda3\\\\lib\\\\site-packages\\\\win32',\n",
       " 'C:\\\\Users\\\\4545\\\\anaconda3\\\\lib\\\\site-packages\\\\win32\\\\lib',\n",
       " 'C:\\\\Users\\\\4545\\\\anaconda3\\\\lib\\\\site-packages\\\\Pythonwin',\n",
       " 'D:\\\\imsehyeon\\\\source\\\\pylib']"
      ]
     },
     "execution_count": 1,
     "metadata": {},
     "output_type": "execute_result"
    }
   ],
   "source": [
    "# 사용자 정의 모듈을 저장할 폴더 : D:\\imsehyeon\\source\\pylib\n",
    "import sys\n",
    "sys.path.append(r'D:\\imsehyeon\\source\\pylib')\n",
    "sys.path"
   ]
  },
  {
   "cell_type": "code",
   "execution_count": 32,
   "id": "1663dd21",
   "metadata": {
    "ExecuteTime": {
     "end_time": "2024-11-12T05:56:21.485861Z",
     "start_time": "2024-11-12T05:56:21.476148Z"
    }
   },
   "outputs": [],
   "source": [
    "# 1. import 모듈명\n",
    "import fibonacci"
   ]
  },
  {
   "cell_type": "code",
   "execution_count": 33,
   "id": "c9c92891",
   "metadata": {
    "ExecuteTime": {
     "end_time": "2024-11-12T05:56:30.763225Z",
     "start_time": "2024-11-12T05:56:30.755594Z"
    }
   },
   "outputs": [
    {
     "name": "stdout",
     "output_type": "stream",
     "text": [
      "0 1 1 2 3 5 8 13 21 34 55 89 \n"
     ]
    }
   ],
   "source": [
    "fibonacci.fibo_print(100)"
   ]
  },
  {
   "cell_type": "code",
   "execution_count": 34,
   "id": "ff2f529d",
   "metadata": {
    "ExecuteTime": {
     "end_time": "2024-11-12T05:56:39.194165Z",
     "start_time": "2024-11-12T05:56:39.187169Z"
    }
   },
   "outputs": [
    {
     "data": {
      "text/plain": [
       "[0, 1, 1, 2, 3, 5, 8, 13, 21, 34, 55, 89]"
      ]
     },
     "execution_count": 34,
     "metadata": {},
     "output_type": "execute_result"
    }
   ],
   "source": [
    "fibonacci.fibo_return(100)"
   ]
  },
  {
   "cell_type": "code",
   "execution_count": 36,
   "id": "4eb8f293",
   "metadata": {
    "ExecuteTime": {
     "end_time": "2024-11-12T05:58:20.764285Z",
     "start_time": "2024-11-12T05:58:20.634175Z"
    }
   },
   "outputs": [
    {
     "name": "stdout",
     "output_type": "stream",
     "text": [
      "1. print_test : 0 1 1 2 3 5 8 13 21 34 55 89 144 \n",
      "2. return된 list test : [0, 1, 1, 2, 3, 5, 8, 13, 21, 34, 55, 89, 144]\n"
     ]
    }
   ],
   "source": [
    "# 터미널에서 실행한 것과 같음\n",
    "! python d:/imsehyeon/source/pylib/fibonacci.py 200"
   ]
  },
  {
   "cell_type": "code",
   "execution_count": 37,
   "id": "9fc2d218",
   "metadata": {
    "ExecuteTime": {
     "end_time": "2024-11-12T05:59:09.343476Z",
     "start_time": "2024-11-12T05:59:09.338482Z"
    }
   },
   "outputs": [],
   "source": [
    "del fibonacci"
   ]
  },
  {
   "cell_type": "code",
   "execution_count": 38,
   "id": "0fa2c35c",
   "metadata": {
    "ExecuteTime": {
     "end_time": "2024-11-12T06:00:22.936583Z",
     "start_time": "2024-11-12T06:00:22.930586Z"
    }
   },
   "outputs": [
    {
     "name": "stdout",
     "output_type": "stream",
     "text": [
      "0 1 1 2 3 5 8 13 21 34 55 89 \n"
     ]
    }
   ],
   "source": [
    "# 2. from A import B\n",
    "from fibonacci import fibo_print, fibo_return\n",
    "fibo_print(100)"
   ]
  },
  {
   "cell_type": "code",
   "execution_count": 39,
   "id": "9c7bce10",
   "metadata": {
    "ExecuteTime": {
     "end_time": "2024-11-12T06:00:30.720562Z",
     "start_time": "2024-11-12T06:00:30.714566Z"
    }
   },
   "outputs": [
    {
     "data": {
      "text/plain": [
       "[0, 1, 1, 2, 3, 5, 8, 13, 21, 34, 55, 89, 144]"
      ]
     },
     "execution_count": 39,
     "metadata": {},
     "output_type": "execute_result"
    }
   ],
   "source": [
    "fibo_return(200)"
   ]
  },
  {
   "cell_type": "code",
   "execution_count": 40,
   "id": "a6892cf8",
   "metadata": {
    "ExecuteTime": {
     "end_time": "2024-11-12T06:00:44.525692Z",
     "start_time": "2024-11-12T06:00:44.521694Z"
    }
   },
   "outputs": [],
   "source": [
    "del fibo_print\n",
    "del fibo_return"
   ]
  },
  {
   "cell_type": "code",
   "execution_count": 46,
   "id": "fe29d42b",
   "metadata": {
    "ExecuteTime": {
     "end_time": "2024-11-12T06:13:57.719552Z",
     "start_time": "2024-11-12T06:13:57.715451Z"
    }
   },
   "outputs": [
    {
     "name": "stdout",
     "output_type": "stream",
     "text": [
      "0 1 1 2 3 5 8 13 21 34 55 89 \n"
     ]
    }
   ],
   "source": [
    "# 3. import 모듈명 as 별칭\n",
    "import fibonacci as f\n",
    "f.fibo_print(100)"
   ]
  },
  {
   "cell_type": "code",
   "execution_count": 47,
   "id": "9ec7daca",
   "metadata": {
    "ExecuteTime": {
     "end_time": "2024-11-12T06:13:58.194143Z",
     "start_time": "2024-11-12T06:13:58.187155Z"
    }
   },
   "outputs": [
    {
     "data": {
      "text/plain": [
       "[0, 1, 1, 2, 3, 5, 8, 13, 21, 34, 55, 89]"
      ]
     },
     "execution_count": 47,
     "metadata": {},
     "output_type": "execute_result"
    }
   ],
   "source": [
    "f.fibo_return(100)"
   ]
  },
  {
   "cell_type": "code",
   "execution_count": 48,
   "id": "2184db33",
   "metadata": {
    "ExecuteTime": {
     "end_time": "2024-11-12T06:13:58.831409Z",
     "start_time": "2024-11-12T06:13:58.826410Z"
    }
   },
   "outputs": [],
   "source": [
    "del f  # import된 모듈을 unload"
   ]
  },
  {
   "cell_type": "code",
   "execution_count": 49,
   "id": "81194b77",
   "metadata": {
    "ExecuteTime": {
     "end_time": "2024-11-12T06:15:02.047407Z",
     "start_time": "2024-11-12T06:15:02.042408Z"
    }
   },
   "outputs": [],
   "source": [
    "# 4. from 모듈명 import 함수명 as 별칭\n",
    "from fibonacci import fibo_print as fibo_p"
   ]
  },
  {
   "cell_type": "code",
   "execution_count": 50,
   "id": "17505637",
   "metadata": {
    "ExecuteTime": {
     "end_time": "2024-11-12T06:15:02.402945Z",
     "start_time": "2024-11-12T06:15:02.386304Z"
    }
   },
   "outputs": [
    {
     "name": "stdout",
     "output_type": "stream",
     "text": [
      "0 1 1 2 3 5 8 13 21 34 55 89 \n"
     ]
    }
   ],
   "source": [
    "fibo_p(100)"
   ]
  },
  {
   "cell_type": "code",
   "execution_count": 51,
   "id": "66321de9",
   "metadata": {
    "ExecuteTime": {
     "end_time": "2024-11-12T06:35:10.005337Z",
     "start_time": "2024-11-12T06:35:09.975468Z"
    }
   },
   "outputs": [
    {
     "name": "stdout",
     "output_type": "stream",
     "text": [
      "3.141592\n"
     ]
    }
   ],
   "source": [
    "import info\n",
    "print(info.PI)"
   ]
  },
  {
   "cell_type": "code",
   "execution_count": 52,
   "id": "e8850728",
   "metadata": {
    "ExecuteTime": {
     "end_time": "2024-11-12T06:39:21.322255Z",
     "start_time": "2024-11-12T06:39:21.317257Z"
    }
   },
   "outputs": [],
   "source": [
    "obj = info.Cal(10, 5)"
   ]
  },
  {
   "cell_type": "code",
   "execution_count": 54,
   "id": "ea5304ce",
   "metadata": {
    "ExecuteTime": {
     "end_time": "2024-11-12T06:39:54.620962Z",
     "start_time": "2024-11-12T06:39:54.614968Z"
    }
   },
   "outputs": [
    {
     "name": "stdout",
     "output_type": "stream",
     "text": [
      "True\n",
      "add test : 15\n",
      "sub test : 5\n"
     ]
    }
   ],
   "source": [
    "print(isinstance(obj, info.Cal))\n",
    "print('add test :', obj.add())\n",
    "print('sub test :', obj.sub())"
   ]
  },
  {
   "cell_type": "code",
   "execution_count": 55,
   "id": "8c4b8ec5",
   "metadata": {
    "ExecuteTime": {
     "end_time": "2024-11-12T06:40:32.586084Z",
     "start_time": "2024-11-12T06:40:32.581083Z"
    }
   },
   "outputs": [],
   "source": [
    "del info"
   ]
  },
  {
   "cell_type": "code",
   "execution_count": 56,
   "id": "b0c180de",
   "metadata": {
    "ExecuteTime": {
     "end_time": "2024-11-12T06:40:44.434348Z",
     "start_time": "2024-11-12T06:40:44.428506Z"
    }
   },
   "outputs": [],
   "source": [
    "import info as i\n",
    "obj = i.Cal(10, 5)"
   ]
  },
  {
   "cell_type": "code",
   "execution_count": 57,
   "id": "01f89f4a",
   "metadata": {
    "ExecuteTime": {
     "end_time": "2024-11-12T06:41:27.184548Z",
     "start_time": "2024-11-12T06:41:27.180034Z"
    }
   },
   "outputs": [],
   "source": [
    "del i"
   ]
  },
  {
   "cell_type": "code",
   "execution_count": 58,
   "id": "b5d09514",
   "metadata": {
    "ExecuteTime": {
     "end_time": "2024-11-12T06:41:36.593151Z",
     "start_time": "2024-11-12T06:41:36.588151Z"
    }
   },
   "outputs": [],
   "source": [
    "from info import Cal"
   ]
  },
  {
   "cell_type": "code",
   "execution_count": 60,
   "id": "a78d17b4",
   "metadata": {
    "ExecuteTime": {
     "end_time": "2024-11-12T06:42:38.825583Z",
     "start_time": "2024-11-12T06:42:38.819587Z"
    }
   },
   "outputs": [
    {
     "name": "stdout",
     "output_type": "stream",
     "text": [
      "obj.num1 : 10\n",
      "obj.num2 : 5\n",
      "add test : 15\n",
      "sub test : 5\n"
     ]
    }
   ],
   "source": [
    "obj = Cal(10, 5)\n",
    "print('obj.num1 :', obj.num1)\n",
    "print('obj.num2 :', obj.num2)\n",
    "print('add test :', obj.add())\n",
    "print('sub test :', obj.sub())"
   ]
  },
  {
   "cell_type": "code",
   "execution_count": 61,
   "id": "685d1e3e",
   "metadata": {
    "ExecuteTime": {
     "end_time": "2024-11-12T06:43:47.297985Z",
     "start_time": "2024-11-12T06:43:47.291989Z"
    }
   },
   "outputs": [
    {
     "name": "stdout",
     "output_type": "stream",
     "text": [
      "obj.num1 : 10\n",
      "obj.num2 : 5\n",
      "add test : 15\n",
      "sub test : 5\n"
     ]
    }
   ],
   "source": [
    "from info import Cal as Calculate\n",
    "obj = Calculate(10, 5)\n",
    "print('obj.num1 :', obj.num1)\n",
    "print('obj.num2 :', obj.num2)\n",
    "print('add test :', obj.add())\n",
    "print('sub test :', obj.sub())"
   ]
  },
  {
   "cell_type": "markdown",
   "id": "86aecc8e",
   "metadata": {},
   "source": [
    "# 3절. 패키지\n",
    " - 모듈들이 들어있는 폴더"
   ]
  },
  {
   "cell_type": "code",
   "execution_count": 2,
   "id": "46e7184e",
   "metadata": {
    "ExecuteTime": {
     "end_time": "2024-11-12T07:21:10.767753Z",
     "start_time": "2024-11-12T07:21:10.757751Z"
    }
   },
   "outputs": [
    {
     "name": "stdout",
     "output_type": "stream",
     "text": [
      "sample_pac 패키지를 로드했는지 확인하는 print입니다\n"
     ]
    }
   ],
   "source": [
    "# 상위 패키지를 import 한다고 하위 패키지가 import 되지 않습니다\n",
    "import sample_pac"
   ]
  },
  {
   "cell_type": "code",
   "execution_count": 5,
   "id": "b5ec20ed",
   "metadata": {
    "ExecuteTime": {
     "end_time": "2024-11-12T07:22:37.150706Z",
     "start_time": "2024-11-12T07:22:37.142238Z"
    }
   },
   "outputs": [
    {
     "name": "stdout",
     "output_type": "stream",
     "text": [
      "sample_pac 패키지 안의 ab 패키지가 로드되었습니다\n"
     ]
    }
   ],
   "source": [
    "import sample_pac.ab"
   ]
  },
  {
   "cell_type": "code",
   "execution_count": 6,
   "id": "11c6e5b2",
   "metadata": {
    "ExecuteTime": {
     "end_time": "2024-11-12T07:22:37.811601Z",
     "start_time": "2024-11-12T07:22:37.805602Z"
    }
   },
   "outputs": [
    {
     "name": "stdout",
     "output_type": "stream",
     "text": [
      "sample_pac 패키지 안의 cd 패키지가 로드되었습니다\n"
     ]
    }
   ],
   "source": [
    "from sample_pac import cd"
   ]
  },
  {
   "cell_type": "code",
   "execution_count": 3,
   "id": "2df4f0ff",
   "metadata": {
    "ExecuteTime": {
     "end_time": "2024-11-12T07:21:24.258924Z",
     "start_time": "2024-11-12T07:21:24.253926Z"
    }
   },
   "outputs": [
    {
     "name": "stdout",
     "output_type": "stream",
     "text": [
      "D:\\imsehyeon\\source\\pylib\\sample_pac\\__init__.py\n"
     ]
    }
   ],
   "source": [
    "print(sample_pac.__file__)  # sample_pac 파일 경로"
   ]
  },
  {
   "cell_type": "code",
   "execution_count": 4,
   "id": "3ed837d5",
   "metadata": {
    "ExecuteTime": {
     "end_time": "2024-11-12T07:21:52.036853Z",
     "start_time": "2024-11-12T07:21:52.030408Z"
    }
   },
   "outputs": [
    {
     "name": "stdout",
     "output_type": "stream",
     "text": [
      "['D:\\\\imsehyeon\\\\source\\\\pylib\\\\sample_pac']\n"
     ]
    }
   ],
   "source": [
    "print(sample_pac.__path__)  # sample_pac import 경로"
   ]
  },
  {
   "cell_type": "code",
   "execution_count": 7,
   "id": "dc725ee5",
   "metadata": {
    "ExecuteTime": {
     "end_time": "2024-11-12T07:22:51.434175Z",
     "start_time": "2024-11-12T07:22:51.430075Z"
    }
   },
   "outputs": [],
   "source": [
    "del sample_pac.ab\n",
    "del cd"
   ]
  },
  {
   "cell_type": "code",
   "execution_count": 2,
   "id": "25c3c427",
   "metadata": {
    "ExecuteTime": {
     "end_time": "2024-11-12T07:41:30.578089Z",
     "start_time": "2024-11-12T07:41:30.562939Z"
    }
   },
   "outputs": [
    {
     "name": "stdout",
     "output_type": "stream",
     "text": [
      "sample_pac 패키지를 로드했는지 확인하는 print입니다\n",
      "sample_pac 패키지 안의 ab 패키지가 로드되었습니다\n"
     ]
    }
   ],
   "source": [
    "from sample_pac.ab import *  # __init__.py안의 __all__속성인 a.py만 로드"
   ]
  },
  {
   "cell_type": "code",
   "execution_count": 3,
   "id": "fbb1a855",
   "metadata": {
    "ExecuteTime": {
     "end_time": "2024-11-12T07:41:32.287344Z",
     "start_time": "2024-11-12T07:41:32.282346Z"
    }
   },
   "outputs": [
    {
     "name": "stdout",
     "output_type": "stream",
     "text": [
      "sample_pac/ab/a모듈 안의 hello\n"
     ]
    }
   ],
   "source": [
    "a.hello()"
   ]
  },
  {
   "cell_type": "code",
   "execution_count": 4,
   "id": "fc29749e",
   "metadata": {
    "ExecuteTime": {
     "end_time": "2024-11-12T07:41:41.689124Z",
     "start_time": "2024-11-12T07:41:41.683127Z"
    }
   },
   "outputs": [
    {
     "name": "stdout",
     "output_type": "stream",
     "text": [
      "sample_pac/ab/b모듈 안의 world\n"
     ]
    }
   ],
   "source": [
    "from sample_pac.ab import b\n",
    "b.world()"
   ]
  },
  {
   "cell_type": "code",
   "execution_count": 5,
   "id": "51e2ebf2",
   "metadata": {
    "ExecuteTime": {
     "end_time": "2024-11-12T07:41:50.598851Z",
     "start_time": "2024-11-12T07:41:50.594853Z"
    }
   },
   "outputs": [
    {
     "name": "stdout",
     "output_type": "stream",
     "text": [
      "sample_pac/ab/b모듈 안의 world\n"
     ]
    }
   ],
   "source": [
    "from sample_pac.ab.b import world\n",
    "world()"
   ]
  },
  {
   "cell_type": "code",
   "execution_count": 6,
   "id": "a2c441a5",
   "metadata": {
    "ExecuteTime": {
     "end_time": "2024-11-12T07:44:28.951814Z",
     "start_time": "2024-11-12T07:44:28.947815Z"
    }
   },
   "outputs": [],
   "source": [
    "del a"
   ]
  },
  {
   "cell_type": "code",
   "execution_count": 2,
   "id": "1c005d0b",
   "metadata": {
    "ExecuteTime": {
     "end_time": "2024-11-12T07:46:38.087753Z",
     "start_time": "2024-11-12T07:46:38.074352Z"
    }
   },
   "outputs": [
    {
     "name": "stdout",
     "output_type": "stream",
     "text": [
      "sample_pac 패키지를 로드했는지 확인하는 print입니다\n",
      "sample_pac 패키지 안의 cd 패키지가 로드되었습니다\n",
      "sample_pac 패키지 안의 ab 패키지가 로드되었습니다\n"
     ]
    }
   ],
   "source": [
    "import sample_pac.cd.c as c\n",
    "# from sample_pac.cd import c\n",
    "# cd패키지는 ab패키지 일부를 참조(cd패키지 아래의 c는 ab 패키지의 일부인 a를 참조)"
   ]
  },
  {
   "cell_type": "code",
   "execution_count": 3,
   "id": "a1a25333",
   "metadata": {
    "ExecuteTime": {
     "end_time": "2024-11-12T07:48:20.701132Z",
     "start_time": "2024-11-12T07:48:20.696134Z"
    }
   },
   "outputs": [
    {
     "name": "stdout",
     "output_type": "stream",
     "text": [
      "sample_pac/cd안의 c모듈 안의 nice\n",
      "sample_pac/ab/a모듈 안의 hello\n"
     ]
    }
   ],
   "source": [
    "c.nice()"
   ]
  },
  {
   "cell_type": "code",
   "execution_count": 5,
   "id": "36b7eca4",
   "metadata": {
    "ExecuteTime": {
     "end_time": "2024-11-12T07:48:34.077465Z",
     "start_time": "2024-11-12T07:48:34.072952Z"
    }
   },
   "outputs": [
    {
     "name": "stdout",
     "output_type": "stream",
     "text": [
      "sample_pac/ab/a모듈 안의 hello\n"
     ]
    }
   ],
   "source": [
    "c.a.hello()"
   ]
  },
  {
   "cell_type": "markdown",
   "id": "1838cfe2",
   "metadata": {},
   "source": [
    "# 4절. 패키지 설치 및 삭제(파이썬 표준 라이브러리)\n",
    " - 프롬프트 창에서\n",
    " - 패키지 설치 : pip install 패키지명[==버전] / conda install 패키지명[==버전](최신버전 자동 설치)\n",
    " - 패키지 확인 : pip show 패키지명 / conda list 패키지명\n",
    " - 패키지 삭제 : pip uninstall 패키지명 / conda remove 패키지명"
   ]
  },
  {
   "cell_type": "code",
   "execution_count": 10,
   "id": "4ea04077",
   "metadata": {
    "ExecuteTime": {
     "end_time": "2024-11-12T08:21:26.297773Z",
     "start_time": "2024-11-12T08:21:26.286355Z"
    }
   },
   "outputs": [],
   "source": [
    "import objgraph  # 메모리 사용량을 출력하는 함수"
   ]
  },
  {
   "cell_type": "code",
   "execution_count": 11,
   "id": "4efd41d1",
   "metadata": {
    "ExecuteTime": {
     "end_time": "2024-11-12T08:21:52.981884Z",
     "start_time": "2024-11-12T08:21:52.832218Z"
    }
   },
   "outputs": [
    {
     "name": "stdout",
     "output_type": "stream",
     "text": [
      "dict          34305\n",
      "list          28062\n",
      "function      18954\n",
      "Token         16782\n",
      "tuple         13207\n",
      "Operator      10461\n",
      "Name          9417\n",
      "PythonNode    6698\n",
      "ReferenceType 5506\n",
      "DFAPlan       5418\n"
     ]
    }
   ],
   "source": [
    "objgraph.show_most_common_types()  # 메모리 사용량 출력"
   ]
  },
  {
   "cell_type": "code",
   "execution_count": 19,
   "id": "c67341ee",
   "metadata": {
    "ExecuteTime": {
     "end_time": "2024-11-12T08:29:03.332916Z",
     "start_time": "2024-11-12T08:29:03.050403Z"
    }
   },
   "outputs": [],
   "source": [
    "l = [2]\n",
    "for i in range(1000000):\n",
    "    l.append('aaaa')\n",
    "    l.append('bbbb')"
   ]
  },
  {
   "cell_type": "code",
   "execution_count": 21,
   "id": "40cbfd23",
   "metadata": {
    "ExecuteTime": {
     "end_time": "2024-11-12T08:33:32.311959Z",
     "start_time": "2024-11-12T08:33:32.135266Z"
    }
   },
   "outputs": [
    {
     "name": "stdout",
     "output_type": "stream",
     "text": [
      "list          37770\n",
      "dict          35534\n",
      "function      18978\n",
      "Operator      18253\n",
      "Token         16782\n",
      "tuple         14893\n",
      "Name          14888\n",
      "PythonNode    13423\n",
      "ReferenceType 5521\n",
      "DFAPlan       5418\n"
     ]
    }
   ],
   "source": [
    "objgraph.show_most_common_types()  # 메모리 사용량 출력"
   ]
  },
  {
   "cell_type": "code",
   "execution_count": 17,
   "id": "0bd6a776",
   "metadata": {
    "ExecuteTime": {
     "end_time": "2024-11-12T08:24:46.482326Z",
     "start_time": "2024-11-12T08:24:46.476320Z"
    }
   },
   "outputs": [
    {
     "data": {
      "text/plain": [
       "['D:\\\\imsehyeon\\\\source\\\\07_python',\n",
       " 'C:\\\\Users\\\\4545\\\\anaconda3\\\\python310.zip',\n",
       " 'C:\\\\Users\\\\4545\\\\anaconda3\\\\DLLs',\n",
       " 'C:\\\\Users\\\\4545\\\\anaconda3\\\\lib',\n",
       " 'C:\\\\Users\\\\4545\\\\anaconda3',\n",
       " '',\n",
       " 'C:\\\\Users\\\\4545\\\\anaconda3\\\\lib\\\\site-packages',\n",
       " 'C:\\\\Users\\\\4545\\\\anaconda3\\\\lib\\\\site-packages\\\\win32',\n",
       " 'C:\\\\Users\\\\4545\\\\anaconda3\\\\lib\\\\site-packages\\\\win32\\\\lib',\n",
       " 'C:\\\\Users\\\\4545\\\\anaconda3\\\\lib\\\\site-packages\\\\Pythonwin',\n",
       " 'D:\\\\imsehyeon\\\\source\\\\pylib']"
      ]
     },
     "execution_count": 17,
     "metadata": {},
     "output_type": "execute_result"
    }
   ],
   "source": [
    "import sys\n",
    "sys.path"
   ]
  },
  {
   "cell_type": "markdown",
   "id": "4b993071",
   "metadata": {},
   "source": [
    "# 5절. 연습문제"
   ]
  },
  {
   "cell_type": "code",
   "execution_count": 6,
   "id": "5938d27c",
   "metadata": {
    "ExecuteTime": {
     "end_time": "2024-11-12T07:52:18.060935Z",
     "start_time": "2024-11-12T07:52:18.055936Z"
    }
   },
   "outputs": [],
   "source": [
    "# 1. 파이썬의 모듈과 패키지에 대해 잘못 설명한 것은? 3\n",
    "# ① 모듈은 파일 단위로 작성하며 확장자가 .py인 파이썬 파일이다.\n",
    "# ② 패키지는 모듈들의 모음이며 디렉토리 단위로 존재한다.\n",
    "# ③ 파이썬의 표준 라이브러리는 import하지 않고 사용할 수 있다.\n",
    "# ④ 일부 모듈 세트는 특정 플랫폼(환경)에서만 사용할 수 있다."
   ]
  },
  {
   "cell_type": "code",
   "execution_count": 7,
   "id": "e9e9a112",
   "metadata": {
    "ExecuteTime": {
     "end_time": "2024-11-12T07:55:07.929171Z",
     "start_time": "2024-11-12T07:55:07.926172Z"
    }
   },
   "outputs": [],
   "source": [
    "# 2. 다음 중 모듈의 import와 import후 사용 방법이 잘못된 것은? 4\n",
    "# ① import time\n",
    "#    time.ctime()\n",
    "# ② import time as t\n",
    "#    t.ctime()\n",
    "# ③ from time import ctime\n",
    "#    ctime()\n",
    "# ④ from time import ctime as ct\n",
    "#    ctime()"
   ]
  },
  {
   "cell_type": "code",
   "execution_count": 8,
   "id": "8744eb7a",
   "metadata": {
    "ExecuteTime": {
     "end_time": "2024-11-12T07:55:54.209791Z",
     "start_time": "2024-11-12T07:55:54.204793Z"
    }
   },
   "outputs": [],
   "source": [
    "# 3. 파이썬이 디렉토리를 패키지에 포함하도록 처리하기 위해 필요한 파일은? __init__.py"
   ]
  },
  {
   "cell_type": "code",
   "execution_count": null,
   "id": "822de166",
   "metadata": {},
   "outputs": [],
   "source": [
    "# 4. import *을 이용하면 패키지에 있는 서브 모듈을 찾아서 모두 가져옵니다.\n",
    "#    그렇기 때문에 패키지 작성자가 패키지의 명시적 색인을 제공하기 위해 사용하는 속성의 이름은 무엇인가요?\n",
    "#  __all__"
   ]
  },
  {
   "cell_type": "code",
   "execution_count": null,
   "id": "ead22dd0",
   "metadata": {},
   "outputs": [],
   "source": [
    "# 5. 다음 중 파이썬 패키지를 설치하는 방법이 아닌 것은? 1\n",
    "# ① python -m pip install --upgrade pip\n",
    "# ② pip install 패키지명\n",
    "# ③ conda install 패키지명\n",
    "# ④ pip install 휠(whl)파일경로"
   ]
  }
 ],
 "metadata": {
  "kernelspec": {
   "display_name": "Python 3 (ipykernel)",
   "language": "python",
   "name": "python3"
  },
  "language_info": {
   "codemirror_mode": {
    "name": "ipython",
    "version": 3
   },
   "file_extension": ".py",
   "mimetype": "text/x-python",
   "name": "python",
   "nbconvert_exporter": "python",
   "pygments_lexer": "ipython3",
   "version": "3.10.9"
  },
  "toc": {
   "base_numbering": 1,
   "nav_menu": {},
   "number_sections": true,
   "sideBar": true,
   "skip_h1_title": false,
   "title_cell": "Table of Contents",
   "title_sidebar": "Contents",
   "toc_cell": false,
   "toc_position": {
    "height": "calc(100% - 180px)",
    "left": "10px",
    "top": "150px",
    "width": "165px"
   },
   "toc_section_display": true,
   "toc_window_display": true
  }
 },
 "nbformat": 4,
 "nbformat_minor": 5
}
