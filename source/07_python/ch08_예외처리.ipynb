{
 "cells": [
  {
   "cell_type": "code",
   "execution_count": 1,
   "id": "d252a05d",
   "metadata": {
    "ExecuteTime": {
     "end_time": "2024-11-28T09:13:06.581349Z",
     "start_time": "2024-11-28T09:13:06.570903Z"
    }
   },
   "outputs": [
    {
     "data": {
      "text/html": [
       "\n",
       "<style>\n",
       "div.container{width:80% !important;}\n",
       "div.prompt {min-width:70px;}\n",
       "div#toc-header{margin-top:150px;}\n",
       "span.toc-item-num{display:none;}\n",
       "div.CodeMirror {font-family:Consolas}\n",
       "div.input {font-family:Consolas}\n",
       "</style>\n"
      ],
      "text/plain": [
       "<IPython.core.display.HTML object>"
      ]
     },
     "metadata": {},
     "output_type": "display_data"
    }
   ],
   "source": [
    "from IPython.display import display, HTML\n",
    "display(HTML(\"\"\"\n",
    "<style>\n",
    "div.container{width:80% !important;}\n",
    "div.prompt {min-width:70px;}\n",
    "div#toc-header{margin-top:150px;}\n",
    "span.toc-item-num{display:none;}\n",
    "div.CodeMirror {font-family:Consolas}\n",
    "div.input {font-family:Consolas}\n",
    "</style>\n",
    "\"\"\"))"
   ]
  },
  {
   "cell_type": "markdown",
   "id": "de81c375",
   "metadata": {},
   "source": [
    "<b><font color='red' size='6'>ch08. 예외 처리</font></b>"
   ]
  },
  {
   "cell_type": "markdown",
   "id": "0727ef56",
   "metadata": {},
   "source": [
    "# 1절. 예외처리\n",
    " - 예외가 날 가능성이 있는 부분에 대해 미리 예상하고, 그에 대한 처리를 프로그래밍하는 것\n",
    "     ( 이유 : 좀 더 안정적으로 실행할 수 있도록 함)\n",
    "     ```\n",
    "     ex. 파일을 다룰 때, 파일이 없거나 쓰기 금지로 인한 오류 발생 가능성\n",
    "     ex. 데이터베이스 프로그래밍 시 제약조건 등에 의한 CRUD 명령 수행 오류. DBMS 서버 오류\n",
    "     ex. 네트워크 프로그래밍 시 네트워크 연결 실패 오류\n",
    "     ex. 웹 프로그래밍 작성 시 웹 서버 오류\n",
    "     ex. 리스트나 튜플의 인덱스를 버서난 참조로 인한 오류\n",
    "     ex. 웹크롤링 시 \n",
    "         try:\n",
    "             데이터 수집코드\n",
    "         except:\n",
    "             오류 발생 시 대신 실행할 코드\n",
    "     ```"
   ]
  },
  {
   "cell_type": "code",
   "execution_count": 4,
   "id": "f7ad93d6",
   "metadata": {
    "ExecuteTime": {
     "end_time": "2024-11-15T07:58:16.756924Z",
     "start_time": "2024-11-15T07:58:11.360551Z"
    }
   },
   "outputs": [
    {
     "name": "stdout",
     "output_type": "stream",
     "text": [
      "파일명?0.txt\n"
     ]
    },
    {
     "ename": "FileNotFoundError",
     "evalue": "[Errno 2] No such file or directory: 'data/0.txt'",
     "output_type": "error",
     "traceback": [
      "\u001b[1;31m---------------------------------------------------------------------------\u001b[0m",
      "\u001b[1;31mFileNotFoundError\u001b[0m                         Traceback (most recent call last)",
      "Cell \u001b[1;32mIn[4], line 2\u001b[0m\n\u001b[0;32m      1\u001b[0m filename \u001b[38;5;241m=\u001b[39m \u001b[38;5;28minput\u001b[39m(\u001b[38;5;124m'\u001b[39m\u001b[38;5;124m파일명?\u001b[39m\u001b[38;5;124m'\u001b[39m)  \u001b[38;5;66;03m# ch08.txt\u001b[39;00m\n\u001b[1;32m----> 2\u001b[0m f \u001b[38;5;241m=\u001b[39m \u001b[38;5;28;43mopen\u001b[39;49m\u001b[43m(\u001b[49m\u001b[38;5;124;43m'\u001b[39;49m\u001b[38;5;124;43mdata/\u001b[39;49m\u001b[38;5;124;43m'\u001b[39;49m\u001b[43m \u001b[49m\u001b[38;5;241;43m+\u001b[39;49m\u001b[43m \u001b[49m\u001b[43mfilename\u001b[49m\u001b[43m,\u001b[49m\u001b[43m \u001b[49m\u001b[38;5;124;43m'\u001b[39;49m\u001b[38;5;124;43mr\u001b[39;49m\u001b[38;5;124;43m'\u001b[39;49m\u001b[43m)\u001b[49m  \u001b[38;5;66;03m# 읽기전용으로 파일을 열기(읽기전용 stream 객체 생성)\u001b[39;00m\n\u001b[0;32m      3\u001b[0m \u001b[38;5;28mprint\u001b[39m(f\u001b[38;5;241m.\u001b[39mread())\n",
      "File \u001b[1;32m~\\anaconda3\\lib\\site-packages\\IPython\\core\\interactiveshell.py:282\u001b[0m, in \u001b[0;36m_modified_open\u001b[1;34m(file, *args, **kwargs)\u001b[0m\n\u001b[0;32m    275\u001b[0m \u001b[38;5;28;01mif\u001b[39;00m file \u001b[38;5;129;01min\u001b[39;00m {\u001b[38;5;241m0\u001b[39m, \u001b[38;5;241m1\u001b[39m, \u001b[38;5;241m2\u001b[39m}:\n\u001b[0;32m    276\u001b[0m     \u001b[38;5;28;01mraise\u001b[39;00m \u001b[38;5;167;01mValueError\u001b[39;00m(\n\u001b[0;32m    277\u001b[0m         \u001b[38;5;124mf\u001b[39m\u001b[38;5;124m\"\u001b[39m\u001b[38;5;124mIPython won\u001b[39m\u001b[38;5;124m'\u001b[39m\u001b[38;5;124mt let you open fd=\u001b[39m\u001b[38;5;132;01m{\u001b[39;00mfile\u001b[38;5;132;01m}\u001b[39;00m\u001b[38;5;124m by default \u001b[39m\u001b[38;5;124m\"\u001b[39m\n\u001b[0;32m    278\u001b[0m         \u001b[38;5;124m\"\u001b[39m\u001b[38;5;124mas it is likely to crash IPython. If you know what you are doing, \u001b[39m\u001b[38;5;124m\"\u001b[39m\n\u001b[0;32m    279\u001b[0m         \u001b[38;5;124m\"\u001b[39m\u001b[38;5;124myou can use builtins\u001b[39m\u001b[38;5;124m'\u001b[39m\u001b[38;5;124m open.\u001b[39m\u001b[38;5;124m\"\u001b[39m\n\u001b[0;32m    280\u001b[0m     )\n\u001b[1;32m--> 282\u001b[0m \u001b[38;5;28;01mreturn\u001b[39;00m io_open(file, \u001b[38;5;241m*\u001b[39margs, \u001b[38;5;241m*\u001b[39m\u001b[38;5;241m*\u001b[39mkwargs)\n",
      "\u001b[1;31mFileNotFoundError\u001b[0m: [Errno 2] No such file or directory: 'data/0.txt'"
     ]
    }
   ],
   "source": [
    "filename = input('파일명?')  # ch08.txt\n",
    "f = open('data/' + filename, 'r')  # 읽기전용으로 파일을 열기(읽기전용 stream 객체 생성)\n",
    "print(f.read())"
   ]
  },
  {
   "cell_type": "code",
   "execution_count": 5,
   "id": "5fa8a4ac",
   "metadata": {
    "ExecuteTime": {
     "end_time": "2024-11-15T08:00:07.422835Z",
     "start_time": "2024-11-15T08:00:07.399687Z"
    }
   },
   "outputs": [
    {
     "ename": "ZeroDivisionError",
     "evalue": "division by zero",
     "output_type": "error",
     "traceback": [
      "\u001b[1;31m---------------------------------------------------------------------------\u001b[0m",
      "\u001b[1;31mZeroDivisionError\u001b[0m                         Traceback (most recent call last)",
      "Cell \u001b[1;32mIn[5], line 1\u001b[0m\n\u001b[1;32m----> 1\u001b[0m \u001b[38;5;241;43m4\u001b[39;49m\u001b[43m \u001b[49m\u001b[38;5;241;43m/\u001b[39;49m\u001b[43m \u001b[49m\u001b[38;5;241;43m0\u001b[39;49m\n",
      "\u001b[1;31mZeroDivisionError\u001b[0m: division by zero"
     ]
    }
   ],
   "source": [
    "4 / 0"
   ]
  },
  {
   "cell_type": "code",
   "execution_count": 6,
   "id": "9fbf16f9",
   "metadata": {
    "ExecuteTime": {
     "end_time": "2024-11-15T08:00:29.904015Z",
     "start_time": "2024-11-15T08:00:29.870982Z"
    }
   },
   "outputs": [
    {
     "ename": "IndexError",
     "evalue": "list index out of range",
     "output_type": "error",
     "traceback": [
      "\u001b[1;31m---------------------------------------------------------------------------\u001b[0m",
      "\u001b[1;31mIndexError\u001b[0m                                Traceback (most recent call last)",
      "Cell \u001b[1;32mIn[6], line 2\u001b[0m\n\u001b[0;32m      1\u001b[0m a \u001b[38;5;241m=\u001b[39m [\u001b[38;5;241m1\u001b[39m, \u001b[38;5;241m2\u001b[39m, \u001b[38;5;241m3\u001b[39m]\n\u001b[1;32m----> 2\u001b[0m \u001b[43ma\u001b[49m\u001b[43m[\u001b[49m\u001b[38;5;241;43m3\u001b[39;49m\u001b[43m]\u001b[49m\n",
      "\u001b[1;31mIndexError\u001b[0m: list index out of range"
     ]
    }
   ],
   "source": [
    "a = [1, 2, 3]\n",
    "a[3]"
   ]
  },
  {
   "cell_type": "markdown",
   "id": "c7bbb76f",
   "metadata": {},
   "source": [
    "# 2절. try ~ except로 예외처리\n",
    "## 2.1 try ~ except\n",
    "```\n",
    "try:\n",
    "    예외가 발생할 가능성이 있는 명령어들\n",
    "    ..\n",
    "except:\n",
    "    예외가 발생했을 경우 실행할 명령어\n",
    "```"
   ]
  },
  {
   "cell_type": "code",
   "execution_count": 13,
   "id": "66a61a4e",
   "metadata": {
    "ExecuteTime": {
     "end_time": "2024-11-15T08:19:28.022446Z",
     "start_time": "2024-11-15T08:19:27.069210Z"
    }
   },
   "outputs": [
    {
     "name": "stdout",
     "output_type": "stream",
     "text": [
      "정수를 입력하세요2\n",
      "입력한 정수는 2\n",
      "100을 입력한 정수로 나누면 50.00\n"
     ]
    }
   ],
   "source": [
    "# 100을 입력받은 정수값으로 나눠 출력\n",
    "x = int(input('정수를 입력하세요'))\n",
    "print('입력한 정수는 {}'.format(x))\n",
    "print('100을 입력한 정수로 나누면 {:.2f}'.format(100/x))\n",
    "# ValueError : 수를 입력하지 않았을 경우 예외 타입\n",
    "# ZeroDivisionError : 0을 입력했을 경우 예외 타입"
   ]
  },
  {
   "cell_type": "code",
   "execution_count": 14,
   "id": "910be1d2",
   "metadata": {
    "ExecuteTime": {
     "end_time": "2024-11-15T08:19:30.229984Z",
     "start_time": "2024-11-15T08:19:29.715902Z"
    }
   },
   "outputs": [
    {
     "name": "stdout",
     "output_type": "stream",
     "text": [
      "정수를 입력하세요20\n",
      "입력한 정수는 20\n",
      "100을 입력한 정수로 나누면 5.00\n"
     ]
    }
   ],
   "source": [
    "# 100을 입력받은 정수값으로 나눠 출력\n",
    "# ValueError : 수를 입력하지 않았을 경우 예외 타입\n",
    "# ZeroDivisionError : 0을 입력했을 경우 예외 타입\n",
    "try:\n",
    "    x = int(input('100을 나눌 정수를 입력하세요'))\n",
    "    print('입력한 정수는 {}'.format(x))\n",
    "    print('100을 입력한 정수로 나누면 {:.2f}'.format(100/x))\n",
    "except:\n",
    "    print('유효한 점수가 아닙니다')"
   ]
  },
  {
   "cell_type": "code",
   "execution_count": 1,
   "id": "0f4a4dfc",
   "metadata": {
    "ExecuteTime": {
     "end_time": "2024-11-15T08:26:21.530223Z",
     "start_time": "2024-11-15T08:26:18.536572Z"
    }
   },
   "outputs": [
    {
     "name": "stdout",
     "output_type": "stream",
     "text": [
      "100을 나눌 정수를 입력하세요ㅁ\n",
      "유효한 점수가 아닙니다. 다시 입력하세요.\n",
      "100을 나눌 정수를 입력하세요0\n",
      "입력한 정수는 0\n",
      "유효한 점수가 아닙니다. 다시 입력하세요.\n",
      "100을 나눌 정수를 입력하세요10\n",
      "입력한 정수는 10\n",
      "100을 입력한 정수로 나누면 10.000\n"
     ]
    }
   ],
   "source": [
    "# 100을 나눌 유효한 정수를 입력할 때까지 입력받아 \n",
    "# 유효한 정수를 입력하면 입력한 정수와 100을 입력한 수로 나눈 결과를 출력\n",
    "# ValueError : 수를 입력하지 않았을 경우 예외 타입\n",
    "# ZeroDivisionError : 0을 입력했을 경우 예외 타입\n",
    "while True:\n",
    "    try:\n",
    "        x = int(input('100을 나눌 정수를 입력하세요'))\n",
    "        print('입력한 정수는 {}'.format(x))\n",
    "        print('100을 입력한 정수로 나누면 {:.3f}'.format(100/x))\n",
    "        break\n",
    "    except:\n",
    "        print('유효한 점수가 아닙니다. 다시 입력하세요.')"
   ]
  },
  {
   "cell_type": "markdown",
   "id": "21e4ab32",
   "metadata": {},
   "source": [
    "## 2.2 예외를 지정한 처리\n",
    "```\n",
    "try:\n",
    "    예외가 발생할 수도 있는 문장들\n",
    "except 예외타입1:\n",
    "    해당 예외가 발생할 경우 실행할 문장\n",
    "except 예외타입2: (최상위 예외타입이 아래에 있어야 함.)\n",
    "    해당 예외가 발생할 경우 실행할 문장\n",
    "...    \n",
    "```"
   ]
  },
  {
   "cell_type": "code",
   "execution_count": 6,
   "id": "5b7f5253",
   "metadata": {
    "ExecuteTime": {
     "end_time": "2024-11-15T08:36:50.044301Z",
     "start_time": "2024-11-15T08:36:44.291518Z"
    }
   },
   "outputs": [
    {
     "name": "stdout",
     "output_type": "stream",
     "text": [
      "100을 나눌 정수를 입력하세요|\n",
      "정수가 아닙니다. 다시 입력하세요.\n",
      "100을 나눌 정수를 입력하세요10\n",
      "입력한 정수는 10\n",
      "100을 입력한 정수로 나누면 10.000\n"
     ]
    }
   ],
   "source": [
    "# 100을 나눌 유효한 정수를 입력할 때까지 입력받아 \n",
    "# 유효한 정수를 입력하면 입력한 정수와 100을 입력한 수로 나눈 결과를 출력\n",
    "# ValueError : 수를 입력하지 않았을 경우 예외 타입\n",
    "# ZeroDivisionError : 0을 입력했을 경우 예외 타입\n",
    "while True:\n",
    "    try:\n",
    "        x = int(input('100을 나눌 정수를 입력하세요'))\n",
    "        print('입력한 정수는 {}'.format(x))\n",
    "        print('100을 입력한 정수로 나누면 {:.3f}'.format(100/x))\n",
    "        break\n",
    "    except ValueError:\n",
    "        print('정수가 아닙니다. 다시 입력하세요.')\n",
    "    except ZeroDivisionError:\n",
    "        print('0으로 나눌 수 없습니다. 다시 입력하세요.')\n",
    "    except Exception:  # 그 외 모든 예외\n",
    "        print('다시 시도하세요.')"
   ]
  },
  {
   "cell_type": "code",
   "execution_count": 8,
   "id": "e530fca2",
   "metadata": {
    "ExecuteTime": {
     "end_time": "2024-11-15T08:38:47.411357Z",
     "start_time": "2024-11-15T08:38:46.626514Z"
    }
   },
   "outputs": [
    {
     "name": "stdout",
     "output_type": "stream",
     "text": [
      "100을 나눌 정수를 입력하세요 >10\n",
      "입력한 정수는 10\n",
      "100을 입력한 정수로 나누면 10.000\n"
     ]
    }
   ],
   "source": [
    "# 100을 나눌 유효한 정수를 입력할 때까지 입력받아\n",
    "# 유효한 정수를 입력하면 입력한 정수와 100을 입력한 수로 나눈 결과를 출력\n",
    "# ValueError : 수를 입력하지 않았을 경우 예외 타입\n",
    "# ZeroDivisionError : 0을 입력했을 경우 예외 타입\n",
    "while True:\n",
    "    try:\n",
    "        x = int(input('100을 나눌 정수를 입력하세요 >'))\n",
    "        print('입력한 정수는 {}'.format(x))\n",
    "        print('100을 입력한 정수로 나누면 {:.3f}'.format(100 / x))\n",
    "        break\n",
    "    except (ValueError, ZeroDivisionError):\n",
    "        print('정수가 아닙니다. 다시 입력하세요.')\n",
    "    except Exception:  # 그 외 모든 예외\n",
    "        print('다시 시도하세요.')"
   ]
  },
  {
   "cell_type": "markdown",
   "id": "3c84f5e9",
   "metadata": {},
   "source": [
    "## 2.3 예외인수(e)\n",
    "```\n",
    "자바\n",
    "try{\n",
    "    예외가 발생할 수도 있는 문장;\n",
    "}catch(예외타입 e){\n",
    "    System.out.print(e.getMessage());\n",
    "}\n",
    "\n",
    "파이썬\n",
    "try:\n",
    "    예외가 발생할 수도 있는 문장들\n",
    "except 예외타입 as e:\n",
    "    print(e)  # 튜플형태로 예외메세지가 출력됨\n",
    "    print(e.args[0]  # 에러메세지만 출력됨\n",
    "```"
   ]
  },
  {
   "cell_type": "code",
   "execution_count": 10,
   "id": "d5f4d919",
   "metadata": {
    "ExecuteTime": {
     "end_time": "2024-11-15T08:49:10.573758Z",
     "start_time": "2024-11-15T08:49:07.549281Z"
    }
   },
   "outputs": [
    {
     "name": "stdout",
     "output_type": "stream",
     "text": [
      "100을 나눌 정수를 입력하세요 >ㅁ\n",
      "예외 유형 : <class 'ValueError'>\n",
      "예외메세지 : invalid literal for int() with base 10: 'ㅁ'\n",
      "예외메세지 : (\"invalid literal for int() with base 10: 'ㅁ'\",)\n",
      "예외메세지 : invalid literal for int() with base 10: 'ㅁ'\n",
      "모든 예외객체 e는 Exception 타입인지 여부 : True\n",
      "100을 나눌 정수를 입력하세요 >0\n",
      "입력한 정수는 0\n",
      "예외 유형 : <class 'ZeroDivisionError'>\n",
      "예외메세지 : division by zero\n",
      "예외메세지 : ('division by zero',)\n",
      "예외메세지 : division by zero\n",
      "모든 예외객체 e는 Exception 타입인지 여부 : True\n",
      "100을 나눌 정수를 입력하세요 >10\n",
      "입력한 정수는 10\n",
      "100을 입력한 정수로 나누면 10.000\n"
     ]
    }
   ],
   "source": [
    "# 100을 나눌 유효한 정수를 입력할 때까지 입력받아\n",
    "# 유효한 정수를 입력하면 입력한 정수와 100을 입력한 수로 나눈 결과를 출력\n",
    "# ValueError : 수를 입력하지 않았을 경우 예외 타입\n",
    "# ZeroDivisionError : 0을 입력했을 경우 예외 타입\n",
    "while True:\n",
    "    try:\n",
    "        x = int(input('100을 나눌 정수를 입력하세요 >'))\n",
    "        print('입력한 정수는 {}'.format(x))\n",
    "        print('100을 입력한 정수로 나누면 {:.3f}'.format(100 / x))\n",
    "        break\n",
    "    except (ValueError, ZeroDivisionError) as e:\n",
    "        print('예외 유형 :', type(e))\n",
    "        print('예외메세지 :', e)  # ★ __str__()가 내부적으로 호출됨\n",
    "        print('예외메세지 :', e.args)\n",
    "        print('예외메세지 :', e.args[0])  # 예외메세지가 있는 곳\n",
    "        print('모든 예외객체 e는 Exception 타입인지 여부 :', isinstance(e, Exception))\n",
    "    except Exception:  # 그 외 모든 예외\n",
    "        print('다시 시도하세요.')"
   ]
  },
  {
   "cell_type": "code",
   "execution_count": 12,
   "id": "ec99b36a",
   "metadata": {
    "ExecuteTime": {
     "end_time": "2024-11-15T08:50:00.921792Z",
     "start_time": "2024-11-15T08:50:00.916795Z"
    }
   },
   "outputs": [
    {
     "name": "stdout",
     "output_type": "stream",
     "text": [
      "list index out of range\n"
     ]
    }
   ],
   "source": [
    "# IndexError\n",
    "try:\n",
    "    a = [1, 2, 3]\n",
    "    a[3]\n",
    "except IndexError as e:\n",
    "    print(e)"
   ]
  },
  {
   "cell_type": "markdown",
   "id": "2e35f0d8",
   "metadata": {
    "ExecuteTime": {
     "end_time": "2024-11-15T08:53:47.697741Z",
     "start_time": "2024-11-15T08:53:47.690516Z"
    }
   },
   "source": [
    "```\n",
    "try:\n",
    "    ~\n",
    "except [예외타입 [as e]]:\n",
    "    ~\n",
    "[else:\n",
    "    ~]\n",
    "finally:\n",
    "    ~\n",
    "try절을 수행하다가 예외가 발생되면 except 절을 실행하고 finally 절도 수행함    \n",
    "try절을 수행하다가 예외가 발생안되면, else절을 수행하고, finally 블록 수행\n",
    "```"
   ]
  },
  {
   "cell_type": "code",
   "execution_count": 17,
   "id": "aeb28222",
   "metadata": {
    "ExecuteTime": {
     "end_time": "2024-11-15T08:57:11.038539Z",
     "start_time": "2024-11-15T08:57:11.032541Z"
    }
   },
   "outputs": [
    {
     "name": "stdout",
     "output_type": "stream",
     "text": [
      "Hello\n"
     ]
    }
   ],
   "source": [
    "# FileNotFoundError\n",
    "try:\n",
    "    f = open('data/ch08.txt', 'r')\n",
    "    data = f.read()  # 읽기전용\n",
    "    print(data)\n",
    "except FileNotFoundError as e:\n",
    "    print('해당 파일이 없습니다')\n",
    "    print(e)\n",
    "finally:\n",
    "    f.close()"
   ]
  },
  {
   "cell_type": "code",
   "execution_count": null,
   "id": "7eb3dcbb",
   "metadata": {},
   "outputs": [],
   "source": [
    "# FileNotFoundError\n",
    "try:\n",
    "    f = open('data/ch08.txt', 'r')\n",
    "except FileNotFoundError as e:\n",
    "    print('해당 파일이 없습니다')\n",
    "    print(e)\n",
    "else:\n",
    "    data = f.read()  # 읽기전용\n",
    "    print(data)\n",
    "finally:\n",
    "    f.close()"
   ]
  },
  {
   "cell_type": "code",
   "execution_count": 2,
   "id": "9e55ae2f",
   "metadata": {
    "ExecuteTime": {
     "end_time": "2024-11-18T00:40:37.471376Z",
     "start_time": "2024-11-18T00:40:37.461073Z"
    }
   },
   "outputs": [
    {
     "name": "stdout",
     "output_type": "stream",
     "text": [
      "Hello\n"
     ]
    }
   ],
   "source": [
    "try:\n",
    "    f = open('data/ch08.txt', 'r')\n",
    "except FileNotFoundError as e:\n",
    "    print('해당 파일이 없습니다')\n",
    "    print(e)\n",
    "else:\n",
    "    data = f.read()  # 읽기전용\n",
    "    print(data)\n",
    "finally:\n",
    "    f.close()"
   ]
  },
  {
   "cell_type": "markdown",
   "id": "105974e4",
   "metadata": {},
   "source": [
    "# 3절. raise\n",
    " - 강제 예외 발생"
   ]
  },
  {
   "cell_type": "code",
   "execution_count": 3,
   "id": "33389abb",
   "metadata": {
    "ExecuteTime": {
     "end_time": "2024-11-18T00:45:57.694542Z",
     "start_time": "2024-11-18T00:45:56.988572Z"
    }
   },
   "outputs": [
    {
     "ename": "NameError",
     "evalue": "예외가 발생했습니다",
     "output_type": "error",
     "traceback": [
      "\u001b[1;31m---------------------------------------------------------------------------\u001b[0m",
      "\u001b[1;31mNameError\u001b[0m                                 Traceback (most recent call last)",
      "Cell \u001b[1;32mIn[3], line 1\u001b[0m\n\u001b[1;32m----> 1\u001b[0m \u001b[38;5;28;01mraise\u001b[39;00m \u001b[38;5;167;01mNameError\u001b[39;00m(\u001b[38;5;124m'\u001b[39m\u001b[38;5;124m예외가 발생했습니다\u001b[39m\u001b[38;5;124m'\u001b[39m)\n",
      "\u001b[1;31mNameError\u001b[0m: 예외가 발생했습니다"
     ]
    }
   ],
   "source": [
    "raise NameError('예외가 발생했습니다')"
   ]
  },
  {
   "cell_type": "code",
   "execution_count": 12,
   "id": "44777620",
   "metadata": {
    "ExecuteTime": {
     "end_time": "2024-11-18T01:04:14.564192Z",
     "start_time": "2024-11-18T01:04:14.560261Z"
    }
   },
   "outputs": [],
   "source": [
    "# 사용자 정의 예외 : Exception 클래스 또는 그 하위 클래스를 상속받아 구현\n",
    "class LengthZeroError(Exception):\n",
    "    '길이가 0일 때 발생하는 예외'\n",
    "    # pass\n",
    "    def __init__(self, message):\n",
    "        # Exception.__init__(self, message)\n",
    "        super().__init__(message)  # 상위 클래스의 생성자에서 예외 메세지 세팅"
   ]
  },
  {
   "cell_type": "code",
   "execution_count": 13,
   "id": "ee168f03",
   "metadata": {
    "ExecuteTime": {
     "end_time": "2024-11-18T01:06:55.059911Z",
     "start_time": "2024-11-18T01:06:55.054910Z"
    }
   },
   "outputs": [],
   "source": [
    "def insert(*data):  # 튜플 매개변수\n",
    "    if len(data) == 0:\n",
    "        raise LengthZeroError('매개변수 길이가 0이면 예외예요(사용자 정의 예외)')\n",
    "    for item in data:\n",
    "        print(item, end=' ')\n",
    "    print('등을 입력하셨습니다')"
   ]
  },
  {
   "cell_type": "code",
   "execution_count": 14,
   "id": "992d58de",
   "metadata": {
    "ExecuteTime": {
     "end_time": "2024-11-18T01:07:42.531314Z",
     "start_time": "2024-11-18T01:07:42.526295Z"
    }
   },
   "outputs": [
    {
     "name": "stdout",
     "output_type": "stream",
     "text": [
      "매개변수 길이가 0이면 예외예요(사용자 정의 예외)\n",
      "무조건 실행 - DONE\n"
     ]
    }
   ],
   "source": [
    "data = ()\n",
    "try:\n",
    "    insert(*data)  # 튜플이나 리스트 언패킹\n",
    "except LengthZeroError as e:\n",
    "    print(e)\n",
    "else:\n",
    "    print('정상 실행')\n",
    "finally:\n",
    "    print('무조건 실행 - DONE')"
   ]
  },
  {
   "cell_type": "code",
   "execution_count": null,
   "id": "6a490dbc",
   "metadata": {},
   "outputs": [],
   "source": [
    "insert(1, 2, 3, 4)"
   ]
  },
  {
   "cell_type": "markdown",
   "id": "97a6e9d6",
   "metadata": {},
   "source": [
    "# 4절. 추상클래스\n",
    " - python은 추상클래스를 생성할 수 없으나, raise를 이용해서 추상클래스를 흉내냄\n",
    " - 추상클래스 : 추상메소드가 1개 이상 포함된 객체를 생성할 수 없는 클래스\n",
    "              추상메소드는 상속받은 클래스에서 구현해야 함"
   ]
  },
  {
   "cell_type": "code",
   "execution_count": 15,
   "id": "fa6a9c7f",
   "metadata": {
    "ExecuteTime": {
     "end_time": "2024-11-18T01:13:30.953731Z",
     "start_time": "2024-11-18T01:13:30.947873Z"
    }
   },
   "outputs": [],
   "source": [
    "class Shape:\n",
    "    def __init__(self):\n",
    "        raise NotImplementedError('추상클래스 역할')\n",
    "    def calc_area(self):\n",
    "        raise NotImplementedError('추상메소드 역할')"
   ]
  },
  {
   "cell_type": "code",
   "execution_count": 16,
   "id": "b62fd94a",
   "metadata": {
    "ExecuteTime": {
     "end_time": "2024-11-18T01:13:46.583371Z",
     "start_time": "2024-11-18T01:13:46.538401Z"
    }
   },
   "outputs": [
    {
     "ename": "NotImplementedError",
     "evalue": "추상클래스 역할",
     "output_type": "error",
     "traceback": [
      "\u001b[1;31m---------------------------------------------------------------------------\u001b[0m",
      "\u001b[1;31mNotImplementedError\u001b[0m                       Traceback (most recent call last)",
      "Cell \u001b[1;32mIn[16], line 1\u001b[0m\n\u001b[1;32m----> 1\u001b[0m s \u001b[38;5;241m=\u001b[39m \u001b[43mShape\u001b[49m\u001b[43m(\u001b[49m\u001b[43m)\u001b[49m\n",
      "Cell \u001b[1;32mIn[15], line 3\u001b[0m, in \u001b[0;36mShape.__init__\u001b[1;34m(self)\u001b[0m\n\u001b[0;32m      2\u001b[0m \u001b[38;5;28;01mdef\u001b[39;00m \u001b[38;5;21m__init__\u001b[39m(\u001b[38;5;28mself\u001b[39m):\n\u001b[1;32m----> 3\u001b[0m     \u001b[38;5;28;01mraise\u001b[39;00m \u001b[38;5;167;01mNotImplementedError\u001b[39;00m(\u001b[38;5;124m'\u001b[39m\u001b[38;5;124m추상클래스 역할\u001b[39m\u001b[38;5;124m'\u001b[39m)\n",
      "\u001b[1;31mNotImplementedError\u001b[0m: 추상클래스 역할"
     ]
    }
   ],
   "source": [
    "s = Shape()"
   ]
  },
  {
   "cell_type": "code",
   "execution_count": 17,
   "id": "f0240816",
   "metadata": {
    "ExecuteTime": {
     "end_time": "2024-11-18T01:17:44.515531Z",
     "start_time": "2024-11-18T01:17:44.352593Z"
    }
   },
   "outputs": [],
   "source": [
    "import numpy as np  # numpy라는 패키지를 np라는 이름으로 메모리 로드"
   ]
  },
  {
   "cell_type": "code",
   "execution_count": 18,
   "id": "44afe5a8",
   "metadata": {
    "ExecuteTime": {
     "end_time": "2024-11-18T01:18:47.750371Z",
     "start_time": "2024-11-18T01:18:47.744373Z"
    }
   },
   "outputs": [],
   "source": [
    "class Circle(Shape):\n",
    "    def __init__(self, radius):\n",
    "        self.radius = radius\n",
    "    def calc_area(self):\n",
    "        '원의 넓이를 return하는 함수'\n",
    "        return np.pi * self.radius * self.radius\n",
    "                    # (self.radius **2)"
   ]
  },
  {
   "cell_type": "code",
   "execution_count": 19,
   "id": "00ad15bd",
   "metadata": {
    "ExecuteTime": {
     "end_time": "2024-11-18T01:19:20.981358Z",
     "start_time": "2024-11-18T01:19:20.975358Z"
    }
   },
   "outputs": [
    {
     "data": {
      "text/plain": [
       "78.53981633974483"
      ]
     },
     "execution_count": 19,
     "metadata": {},
     "output_type": "execute_result"
    }
   ],
   "source": [
    "myCircle = Circle(5)\n",
    "myCircle.calc_area()"
   ]
  },
  {
   "cell_type": "markdown",
   "id": "5247df7c",
   "metadata": {},
   "source": [
    "# 5절. 파일 정리 작업"
   ]
  },
  {
   "cell_type": "code",
   "execution_count": 20,
   "id": "6e6c07a2",
   "metadata": {
    "ExecuteTime": {
     "end_time": "2024-11-18T01:36:58.245327Z",
     "start_time": "2024-11-18T01:36:58.238610Z"
    }
   },
   "outputs": [
    {
     "name": "stdout",
     "output_type": "stream",
     "text": [
      "['Hello\\n', 'World']\n"
     ]
    }
   ],
   "source": [
    "try:\n",
    "    f = open('data/ch08.txt', 'r')\n",
    "    lines = f.readlines()  # 한 줄 한 줄 모든 줄을 한 번에 읽어 list로 return\n",
    "    print(lines)\n",
    "except FileNotFoundError as e:\n",
    "    print(e)\n",
    "finally:\n",
    "    f.close()  # 가장 중요함"
   ]
  },
  {
   "cell_type": "code",
   "execution_count": 21,
   "id": "5aaf6b7c",
   "metadata": {
    "ExecuteTime": {
     "end_time": "2024-11-18T01:38:57.259311Z",
     "start_time": "2024-11-18T01:38:57.254809Z"
    }
   },
   "outputs": [],
   "source": [
    "# with절 이후에는 자동적으로 close() 실행"
   ]
  },
  {
   "cell_type": "code",
   "execution_count": 22,
   "id": "4294d1f0",
   "metadata": {
    "ExecuteTime": {
     "end_time": "2024-11-18T01:42:30.418351Z",
     "start_time": "2024-11-18T01:42:30.403898Z"
    }
   },
   "outputs": [
    {
     "name": "stdout",
     "output_type": "stream",
     "text": [
      "['Hello\\n', 'World']\n"
     ]
    }
   ],
   "source": [
    "try:\n",
    "    with open('data/ch08.txt') as f:\n",
    "        lines = f.readlines()\n",
    "    print(lines)\n",
    "except FileNotFoundError as e:\n",
    "    print(e)"
   ]
  },
  {
   "cell_type": "markdown",
   "id": "53d531d3",
   "metadata": {},
   "source": [
    "# 6절. 연습문제\n",
    "## 실습형"
   ]
  },
  {
   "cell_type": "code",
   "execution_count": 1,
   "id": "0b4cb72e",
   "metadata": {
    "ExecuteTime": {
     "end_time": "2024-11-18T01:54:01.885226Z",
     "start_time": "2024-11-18T01:54:01.872377Z"
    }
   },
   "outputs": [],
   "source": [
    "# 1. 숫자 두 개를 입력받아 나눗셈 연산을 하는 프로그램을 작성하세요.\n",
    "# - 두 숫자는 정수 또는 실수일 수 있으며, 0으로 나눌 수 없습니다.\n",
    "# - 올바른 두 수를 입력하고 나눗셈 연산 결과를 출력한 후 종료해야 합니다."
   ]
  },
  {
   "cell_type": "code",
   "execution_count": 3,
   "id": "0b5b97e2",
   "metadata": {
    "ExecuteTime": {
     "end_time": "2024-11-18T01:57:38.699603Z",
     "start_time": "2024-11-18T01:57:37.442283Z"
    }
   },
   "outputs": [
    {
     "name": "stdout",
     "output_type": "stream",
     "text": [
      "첫 번째 숫자를 입력하세요 :3.5\n",
      "두 번째 숫자를 입력하세요 :2\n",
      "입력한 수는 3.5와 2.0입니다.\n",
      "3.5을 2.0로 나누면 1.75입니다\n"
     ]
    }
   ],
   "source": [
    "while True:\n",
    "    try:\n",
    "        num1 = float(input('첫 번째 숫자를 입력하세요 :'))\n",
    "        num2 = float(input('두 번째 숫자를 입력하세요 :'))\n",
    "        result = num1/num2\n",
    "        print('입력한 수는 {:.1f}와 {:.1f}입니다.'.format(num1, num2))\n",
    "        print('{:.1f}을 {:.1f}로 나누면 {:.2f}입니다'.format(num1, num2, result))\n",
    "        break\n",
    "    except:\n",
    "        print('유효한 숫자가 아닙니다. 다시 시도하세요.')"
   ]
  },
  {
   "cell_type": "code",
   "execution_count": 4,
   "id": "c5aa145f",
   "metadata": {
    "ExecuteTime": {
     "end_time": "2024-11-18T02:36:54.604528Z",
     "start_time": "2024-11-18T02:36:54.588790Z"
    }
   },
   "outputs": [],
   "source": [
    "# 2. 1번 코드의 예외처리를 예외에 따라 다르게 처리하세요.\n",
    "# - 숫자로 바꿀 수 없을 경우 ValueError가 발생합니다.\n",
    "# - 0으로 나누려고 할 때 ZeroDivisionError가 발생합니다"
   ]
  },
  {
   "cell_type": "code",
   "execution_count": 2,
   "id": "23d0d5c2",
   "metadata": {
    "ExecuteTime": {
     "end_time": "2024-11-18T01:57:29.519501Z",
     "start_time": "2024-11-18T01:57:25.899463Z"
    }
   },
   "outputs": [
    {
     "name": "stdout",
     "output_type": "stream",
     "text": [
      "첫 번째 숫자를 입력하세요 :3.5\n",
      "두 번째 숫자를 입력하세요 :2\n",
      "입력한 수는 3.5와 2.0입니다.\n",
      "3.5을 2.0로 나누면 1.75입니다\n"
     ]
    }
   ],
   "source": [
    "while True:\n",
    "    try:\n",
    "        num1 = float(input('첫 번째 숫자를 입력하세요 :'))\n",
    "        num2 = float(input('두 번째 숫자를 입력하세요 :'))\n",
    "        result = num1/num2\n",
    "        print('입력한 수는 {:.1f}와 {:.1f}입니다.'.format(num1, num2))\n",
    "        print('{:.1f}을 {:.1f}로 나누면 {}입니다'.format(num1, num2, result))\n",
    "        break\n",
    "    except ValueError:\n",
    "        print('유효한 숫자가 아닙니다. 다시 시도하세요.')\n",
    "    except ZeroDivisionError:\n",
    "        print('0으로 나눌 수 없습니다. 다시 시도하세요.')"
   ]
  },
  {
   "cell_type": "markdown",
   "id": "ec32de47",
   "metadata": {},
   "source": [
    "## 문제풀이형"
   ]
  },
  {
   "cell_type": "code",
   "execution_count": 4,
   "id": "214912af",
   "metadata": {
    "ExecuteTime": {
     "end_time": "2024-11-19T00:42:55.975478Z",
     "start_time": "2024-11-19T00:42:55.971020Z"
    }
   },
   "outputs": [],
   "source": [
    "# 1. 다음 중 예외처리에 대해 잘못 설명한 것은? 3\n",
    "# ① try 블록은 예외가 발생할 가능성이 있는 문장을 작성한다.\n",
    "# ② 예외가 발생하면 except 블록이 실행된다.\n",
    "# ③ 상위 예외처리를 위한 except 블록은 하위 예외처리 except 블록에 비해 먼저 선언되어야 한다.\n",
    "# ④ finally 블록은 예외의 발생 유/무와 상관없이 실행된다."
   ]
  },
  {
   "cell_type": "code",
   "execution_count": 5,
   "id": "da01f61c",
   "metadata": {
    "ExecuteTime": {
     "end_time": "2024-11-19T00:42:56.263879Z",
     "start_time": "2024-11-19T00:42:56.258881Z"
    }
   },
   "outputs": [],
   "source": [
    "# 2. 다음 중 예외처리에 대한 설명 중 잘못된 것은? 2\n",
    "# ① raise는 강제로 예외를 발생시킬 때 사용한다.\n",
    "# ② catch 절은 예외를 처리하기 위해 사용하는 구문이다.\n",
    "# ③ 다른 예외를 하나의 예외처리 구문으로 처리할 수 있다.\n",
    "# ④ else절은 예외가 발생하지 않을 경우 실행된다."
   ]
  },
  {
   "cell_type": "code",
   "execution_count": 6,
   "id": "4ffded9b",
   "metadata": {
    "ExecuteTime": {
     "end_time": "2024-11-19T00:42:56.608687Z",
     "start_time": "2024-11-19T00:42:56.593058Z"
    }
   },
   "outputs": [],
   "source": [
    "# 3. 다음 중 except 절을 잘못 사용한 것은? 4\n",
    "# ① except:\n",
    "# ② except Exception:\n",
    "# ③ except Exception as e:\n",
    "# ④ except Exception e:"
   ]
  },
  {
   "cell_type": "code",
   "execution_count": 7,
   "id": "45635267",
   "metadata": {
    "ExecuteTime": {
     "end_time": "2024-11-19T00:42:57.335827Z",
     "start_time": "2024-11-19T00:42:57.330827Z"
    }
   },
   "outputs": [],
   "source": [
    "# 4. 다음 중 예외처리에 사용하지 않는 구문은? 3\n",
    "# ① try\n",
    "# ② except\n",
    "# ③ with\n",
    "# ④ finally"
   ]
  },
  {
   "cell_type": "code",
   "execution_count": null,
   "id": "9a707700",
   "metadata": {},
   "outputs": [],
   "source": []
  }
 ],
 "metadata": {
  "kernelspec": {
   "display_name": "Python 3 (ipykernel)",
   "language": "python",
   "name": "python3"
  },
  "language_info": {
   "codemirror_mode": {
    "name": "ipython",
    "version": 3
   },
   "file_extension": ".py",
   "mimetype": "text/x-python",
   "name": "python",
   "nbconvert_exporter": "python",
   "pygments_lexer": "ipython3",
   "version": "3.10.9"
  },
  "toc": {
   "base_numbering": 1,
   "nav_menu": {},
   "number_sections": true,
   "sideBar": true,
   "skip_h1_title": false,
   "title_cell": "Table of Contents",
   "title_sidebar": "Contents",
   "toc_cell": false,
   "toc_position": {
    "height": "calc(100% - 180px)",
    "left": "10px",
    "top": "150px",
    "width": "165px"
   },
   "toc_section_display": true,
   "toc_window_display": true
  }
 },
 "nbformat": 4,
 "nbformat_minor": 5
}
