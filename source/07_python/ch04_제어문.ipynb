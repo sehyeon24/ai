{
 "cells": [
  {
   "cell_type": "code",
   "execution_count": 5,
   "id": "01a81a0a",
   "metadata": {
    "ExecuteTime": {
     "end_time": "2024-11-07T08:49:34.902259Z",
     "start_time": "2024-11-07T08:49:34.892264Z"
    }
   },
   "outputs": [
    {
     "data": {
      "text/html": [
       "\n",
       "<style>\n",
       "div.container{width:80% !important;}\n",
       "div.prompt {min-width:70px;}\n",
       "div#toc-header{margin-top:150px;}\n",
       "span.toc-item-num{display:none;}\n",
       "</style>\n"
      ],
      "text/plain": [
       "<IPython.core.display.HTML object>"
      ]
     },
     "metadata": {},
     "output_type": "display_data"
    }
   ],
   "source": [
    "from IPython.display import display, HTML\n",
    "display(HTML(\"\"\"\n",
    "<style>\n",
    "div.container{width:80% !important;}\n",
    "div.prompt {min-width:70px;}\n",
    "div#toc-header{margin-top:150px;}\n",
    "span.toc-item-num{display:none;}\n",
    "</style>\n",
    "\"\"\"))"
   ]
  },
  {
   "cell_type": "markdown",
   "id": "38237b18",
   "metadata": {},
   "source": [
    "<b><font color=\"red\" size=\"6\">ch04. 제어문</font></b>\n",
    " - if문, for-in문, while문, 중첩가능, 중첩루프탈출"
   ]
  },
  {
   "cell_type": "markdown",
   "id": "663fa271",
   "metadata": {},
   "source": [
    "# 1절. 조건문(if)"
   ]
  },
  {
   "cell_type": "code",
   "execution_count": 6,
   "id": "61eb01f1",
   "metadata": {
    "ExecuteTime": {
     "end_time": "2024-11-07T08:49:39.268514Z",
     "start_time": "2024-11-07T08:49:36.938787Z"
    }
   },
   "outputs": [
    {
     "name": "stdout",
     "output_type": "stream",
     "text": [
      "Enter your score >90\n",
      "참 잘했어요\n",
      "다음에도 기대할게요\n"
     ]
    }
   ],
   "source": [
    "score = int(input('Enter your score >'))\n",
    "if score >= 90:\n",
    "    # if문이 참일 때 두 줄 전부 출력(들여쓰기 정렬)\n",
    "    print('참 잘했어요')\n",
    "    print('다음에도 기대할게요')\n",
    "elif score >= 60:\n",
    "    print('분발하실거죠?')\n",
    "    print('그래도 고생했어요')\n",
    "else:\n",
    "    print('재시험 응시해야 합니다')\n",
    "    print('화이팅')"
   ]
  },
  {
   "cell_type": "code",
   "execution_count": 7,
   "id": "1aba1fce",
   "metadata": {
    "ExecuteTime": {
     "end_time": "2024-11-07T08:49:41.067563Z",
     "start_time": "2024-11-07T08:49:39.826991Z"
    }
   },
   "outputs": [
    {
     "name": "stdout",
     "output_type": "stream",
     "text": [
      "Enter your score >50\n",
      "입력하신 점수는 50점이고, F등급입니다\n"
     ]
    }
   ],
   "source": [
    "# 점수를 입력받아 학점 출력하기(A, B, C, D, F, 유효하지 않은 점수)\n",
    "score = int(input('Enter your score >'))\n",
    "if 90 <= score <= 100:  # if (90 <= score) & (score <= 100)처럼 할 필요 없음\n",
    "    grade = 'A'\n",
    "elif 80 <= score < 90:\n",
    "    grade = 'B'\n",
    "elif 70 <= score < 80:\n",
    "    grade = 'C'\n",
    "elif 60 <= score < 70:\n",
    "    grade = 'D'\n",
    "elif 0 <= score < 60:\n",
    "    grade = 'F'\n",
    "else:\n",
    "    grade = '유효하지 않은 점수'\n",
    "print('입력하신 점수는 {}점이고, {}등급입니다'.format(score, grade))"
   ]
  },
  {
   "cell_type": "markdown",
   "id": "7ee01ede",
   "metadata": {},
   "source": [
    "# 2절. 반복문\n",
    "## 2.1 for-in문\n",
    "```\n",
    "for 임시변수 in 나열가능한자료:\n",
    "    반복할문장1\n",
    "    반복할문장2\n",
    "else:\n",
    "    나열가능한자료를 전부 소요해 for블록을 다 수행한 후, 최종 한 번만 실행할 문장(else:선택사항)\n",
    "    for문 안에 break가 있을 경우, else블록은 수행되지 않음\n",
    "```"
   ]
  },
  {
   "cell_type": "code",
   "execution_count": 8,
   "id": "5994bd5a",
   "metadata": {
    "ExecuteTime": {
     "end_time": "2024-11-07T08:49:41.832731Z",
     "start_time": "2024-11-07T08:49:41.826732Z"
    }
   },
   "outputs": [
    {
     "name": "stdout",
     "output_type": "stream",
     "text": [
      "1\t3\t5\t7\t9\t\n",
      "DONE\n",
      "END\n"
     ]
    }
   ],
   "source": [
    "for i in range(1, 10, 2):  # 1부터 10앞 까지 2씩 전진\n",
    "    print(i, end='\\t')\n",
    "else:\n",
    "    print('\\nDONE')\n",
    "print('END')"
   ]
  },
  {
   "cell_type": "code",
   "execution_count": 9,
   "id": "582e060e",
   "metadata": {
    "ExecuteTime": {
     "end_time": "2024-11-07T08:49:42.257871Z",
     "start_time": "2024-11-07T08:49:42.244536Z"
    }
   },
   "outputs": [
    {
     "name": "stdout",
     "output_type": "stream",
     "text": [
      "1\t3\tEND\n"
     ]
    }
   ],
   "source": [
    "for i in range(1, 10, 2):\n",
    "    if i == 5:\n",
    "        break\n",
    "    print(i, end='\\t')\n",
    "else:\n",
    "    print('\\nDONE')\n",
    "print('END')"
   ]
  },
  {
   "cell_type": "code",
   "execution_count": 10,
   "id": "2ffa3c5e",
   "metadata": {
    "ExecuteTime": {
     "end_time": "2024-11-07T08:49:44.505152Z",
     "start_time": "2024-11-07T08:49:44.499151Z"
    }
   },
   "outputs": [
    {
     "name": "stdout",
     "output_type": "stream",
     "text": [
      "1~100까지 짝수의 합은, 2550\n"
     ]
    }
   ],
   "source": [
    "# 1~100까지 짝수의 합을 계산하고 출력하시오(for문)\n",
    "sum = 0  # 누적변수\n",
    "for i in range(0, 101):\n",
    "    if i%2 == 0:\n",
    "        sum += i\n",
    "else:\n",
    "    pass\n",
    "print('1~100까지 짝수의 합은,', sum)"
   ]
  },
  {
   "cell_type": "markdown",
   "id": "ff6afc8d",
   "metadata": {},
   "source": [
    "## 2.2 while문\n",
    "```\n",
    "while 조건:\n",
    "    조건이 참일 경우 반복할 문장1\n",
    "    조건이 참일 경우 반복할 문장2 ...\n",
    "else:\n",
    "    조건이 거짓일 경우 한 번 실행할 문장(else:선택사항)\n",
    "```"
   ]
  },
  {
   "cell_type": "code",
   "execution_count": 11,
   "id": "7ba6eab7",
   "metadata": {
    "ExecuteTime": {
     "end_time": "2024-11-07T08:49:45.225283Z",
     "start_time": "2024-11-07T08:49:45.218676Z"
    }
   },
   "outputs": [
    {
     "name": "stdout",
     "output_type": "stream",
     "text": [
      "1~100까지 짝수의 합은, 2550\n"
     ]
    }
   ],
   "source": [
    "# 1~100까지 짝수의 합을 계산하고 출력하시오(while문)\n",
    "i = 1\n",
    "sum = 0  # 누적변수\n",
    "while i <= 100:\n",
    "    if i%2 == 0:\n",
    "        sum += i\n",
    "    i += 1  # i ++, -- 증감연산자가 파이썬에서는 없음\n",
    "else:\n",
    "    pass\n",
    "print('1~100까지 짝수의 합은,',sum)"
   ]
  },
  {
   "cell_type": "code",
   "execution_count": 12,
   "id": "0d7e931f",
   "metadata": {
    "ExecuteTime": {
     "end_time": "2024-11-07T08:49:52.483090Z",
     "start_time": "2024-11-07T08:49:48.026771Z"
    }
   },
   "outputs": [
    {
     "name": "stdout",
     "output_type": "stream",
     "text": [
      "첫 번째 정수를 입력하세요50\n",
      "두 번째 정수를 입력하세요1\n",
      "1~50까지 홀수들의 합은 625입니다\n"
     ]
    }
   ],
   "source": [
    "# ex1. 사용자에게 두 정수를 입력받아, 작은 수부터 큰 수까지 홀수의 합을 누적해서 출력하시오\n",
    "first = int(input('첫 번째 정수를 입력하세요'))\n",
    "second = int(input('두 번째 정수를 입력하세요'))\n",
    "if first >= second:\n",
    "    max = first\n",
    "    min = second\n",
    "else:\n",
    "    max = second\n",
    "    min = first\n",
    "sum = 0  # 누적변수    \n",
    "\n",
    "# for문 이용\n",
    "# for i in range(min, max+1):  # min부터 max까지 누적\n",
    "#     if i%2 != 0:  #if (i%2 == 1) | (i%2 == -1):\n",
    "#         sum += i\n",
    "\n",
    "# while문 이용\n",
    "i = min\n",
    "while i <= max:\n",
    "    if i%2 != 0:\n",
    "        sum += i\n",
    "    i += 1\n",
    "print('{}~{}까지 홀수들의 합은 {}입니다'.format(min, max, sum))"
   ]
  },
  {
   "cell_type": "code",
   "execution_count": 13,
   "id": "ee2d2d2a",
   "metadata": {
    "ExecuteTime": {
     "end_time": "2024-11-07T08:49:54.885736Z",
     "start_time": "2024-11-07T08:49:54.874738Z"
    }
   },
   "outputs": [
    {
     "name": "stdout",
     "output_type": "stream",
     "text": [
      "6개 로또번호는 7번 추출함\n",
      "정렬 전 로또번호 : [37, 36, 10, 32, 44, 23]\n",
      "0번째 까지 : [10]\n",
      "1번째 까지 : [10, 23]\n",
      "2번째 까지 : [10, 23, 32]\n",
      "3번째 까지 : [10, 23, 32, 36]\n",
      "4번째 까지 : [10, 23, 32, 36, 37]\n",
      "정렬 후 로또번호 : [10, 23, 32, 36, 37, 44]\n"
     ]
    }
   ],
   "source": [
    "# ex2. 로또 번호 6개를 추출 후 정렬하여 출력하시오 (list이용)\n",
    "import random  # random이라는 모듈을 가져옴\n",
    "# random.seed(7)  # seed값이 같으면 랜덤 수가 같아짐\n",
    "# print(random.randint(1, 45))  # 1부터 45까지 사이에서 무작위로 추출\n",
    "\n",
    "lotto_lst = []\n",
    "cnt = 0  # 로또 번호 추출 횟수 변수\n",
    "while len(lotto_lst) < 6:  # 첫 수를 뽑고 5까지는 append, 6개가되면 append하지 않음\n",
    "    temp = random.randint(1, 45)  # 임의의 수를 temp변수에 할당\n",
    "    cnt += 1  # cnt ++ (랜덤 수를 몇 번 추출했는지)\n",
    "    for no in lotto_lst:\n",
    "        if no == temp:\n",
    "            break\n",
    "    else:\n",
    "        lotto_lst.append(temp)\n",
    "    # temp = random.randint(1, 45)  # 임의의 수를 temp변수에 할당\n",
    "    # cnt += 1  # cnt ++\n",
    "    # if temp in lotto_lst:\n",
    "    #          pass\n",
    "    # else:\n",
    "    #     lotto_lst.append(temp)\n",
    "print('6개 로또번호는 {}번 추출함'.format(cnt))        \n",
    "print('정렬 전 로또번호 :', lotto_lst)\n",
    "\n",
    "# 정렬 알고리즘(중첩for문)\n",
    "for i in range(len(lotto_lst) - 1):\n",
    "    for j in range(i + 1, len(lotto_lst)):\n",
    "        if lotto_lst[i] > lotto_lst[j]:\n",
    "            lotto_lst[i], lotto_lst[j] = lotto_lst[j], lotto_lst[i]\n",
    "    print('{}번째 까지 : {}'.format(i, lotto_lst[:i+1]))\n",
    "print('정렬 후 로또번호 :', lotto_lst)"
   ]
  },
  {
   "cell_type": "code",
   "execution_count": 14,
   "id": "e413f25c",
   "metadata": {
    "ExecuteTime": {
     "end_time": "2024-11-07T08:49:55.456782Z",
     "start_time": "2024-11-07T08:49:55.450782Z"
    }
   },
   "outputs": [
    {
     "data": {
      "text/plain": [
       "set"
      ]
     },
     "execution_count": 14,
     "metadata": {},
     "output_type": "execute_result"
    }
   ],
   "source": [
    "lotto = set()\n",
    "type(lotto)"
   ]
  },
  {
   "cell_type": "code",
   "execution_count": 15,
   "id": "f5f7a866",
   "metadata": {
    "ExecuteTime": {
     "end_time": "2024-11-07T08:49:56.158551Z",
     "start_time": "2024-11-07T08:49:55.858664Z"
    }
   },
   "outputs": [
    {
     "name": "stdout",
     "output_type": "stream",
     "text": [
      "6개 로또번호는 6번 추출함\n",
      "정렬 전 로또번호 : {1, 37, 8, 19, 27, 29}\n",
      "정렬 후 로또번호 : [1, 8, 19, 27, 29, 37]\n",
      "정렬 후 로또번호 : [1, 8, 19, 27, 29, 37]\n"
     ]
    }
   ],
   "source": [
    "# ex2. 로또 번호 6개를 추출 후 정렬하여 출력하시오 (set이용)\n",
    "import random  # random이라는 모듈을 가져옴\n",
    "# random.seed(7)  # seed값이 같으면 랜덤 수가 같아짐\n",
    "# print(random.randint(1, 45))  # 1부터 45까지 사이에서 무작위로 추출\n",
    "lotto_set = set()\n",
    "cnt = 0  # 로또 번호 추출 횟수 변수\n",
    "while len(lotto_set) < 6:  # 첫 수를 뽑고 5까지는 append, 6개가되면 append하지 않음\n",
    "    lotto_set.add(random.randint(1, 45))\n",
    "    cnt += 1\n",
    "print('6개 로또번호는 {}번 추출함'.format(cnt))        \n",
    "print('정렬 전 로또번호 :', lotto_set)\n",
    "\n",
    "# 방법1\n",
    "lotto_lst = list(lotto_set)\n",
    "lotto_lst.sort()\n",
    "print('정렬 후 로또번호 :', lotto_lst)\n",
    "\n",
    "# 방법2\n",
    "print('정렬 후 로또번호 :', sorted(list(lotto_set)))"
   ]
  },
  {
   "cell_type": "code",
   "execution_count": 16,
   "id": "70f5f4ca",
   "metadata": {
    "ExecuteTime": {
     "end_time": "2024-11-07T08:49:57.384801Z",
     "start_time": "2024-11-07T08:49:57.378803Z"
    }
   },
   "outputs": [
    {
     "data": {
      "text/plain": [
       "[12, 18, 22, 26, 29, 38]"
      ]
     },
     "execution_count": 16,
     "metadata": {},
     "output_type": "execute_result"
    }
   ],
   "source": [
    "# ex2. 1~45 중에 랜덤한 6개 수 뽑기\n",
    "# sample 중복X\n",
    "sorted(random.sample(range(1, 46), 6))"
   ]
  },
  {
   "cell_type": "markdown",
   "id": "62f7658f",
   "metadata": {},
   "source": [
    "## 2.3 break, continue"
   ]
  },
  {
   "cell_type": "code",
   "execution_count": 17,
   "id": "5035adbe",
   "metadata": {
    "ExecuteTime": {
     "end_time": "2024-11-07T08:49:58.383486Z",
     "start_time": "2024-11-07T08:49:58.202441Z"
    }
   },
   "outputs": [
    {
     "name": "stdout",
     "output_type": "stream",
     "text": [
      "1 2 3 4 6 7 8 9 10 DONE\n"
     ]
    }
   ],
   "source": [
    "num = 0\n",
    "while num < 10:  # 1부터 10까지\n",
    "    num += 1  # 1씩 증가\n",
    "    if num == 5:\n",
    "        # break  # 반복문을 아예 빠져나옴\n",
    "        continue  # 반복문을 빠져나오지 않고 조건문으로 올라감\n",
    "    print(num, end=' ')\n",
    "print('DONE')"
   ]
  },
  {
   "cell_type": "markdown",
   "id": "839fd959",
   "metadata": {},
   "source": [
    "# 연습문제"
   ]
  },
  {
   "cell_type": "code",
   "execution_count": 18,
   "id": "70e78469",
   "metadata": {
    "ExecuteTime": {
     "end_time": "2024-11-07T08:50:06.683002Z",
     "start_time": "2024-11-07T08:50:00.898412Z"
    }
   },
   "outputs": [
    {
     "name": "stdout",
     "output_type": "stream",
     "text": [
      "컴퓨터가 발생한 임의의 수 : 67\n",
      "1~100 사이의 수를 맞춰 보세요 :50\n",
      "UP ↑\n",
      "1~100 사이의 수를 맞춰 보세요 :90\n",
      "DOWN ↓\n",
      "1~100 사이의 수를 맞춰 보세요 :-5\n",
      "수의 범위를 벗어났습니다\n",
      "1~100 사이의 수를 맞춰 보세요 :67\n",
      "축하 축하 맞추셨습니다.\n",
      "DONE\n"
     ]
    }
   ],
   "source": [
    "# 숫자 찾기 게임\n",
    "'''\n",
    "1~100 사이의 정수를 맞추는 프로그램\n",
    "(프로그램 안에서 random수가 만들어지고 그 random 수 맞추기)\n",
    "1단계 : 숫자를 못 맞추면 UP/DOWN을 출력하고, 맞추면 메세지를 출력하고 끝남\n",
    "2단계 : 숫자를 못 맞추면 MIN~MAX를 조정하고, 맞추면 메세지를 출력하고 끝남\n",
    "min = 1, max = 100\n",
    "DOWN에서 min값 조정\n",
    "UP에서 max값 조정\n",
    "3단계 : 2단계의 기회를 5회로 제한. 5회의 기회 초과 시 실패 메세지를 출력하고 끝남\n",
    "while문 -> for문\n",
    "(2단계와 3단계 연습문제)\n",
    "'''\n",
    "\n",
    "# 1단계 : 숫자를 못 맞추면 UP/DOWN을 출력하고, 맞추면 메세지를 출력하고 끝남\n",
    "randomNum = random.randint(1, 100)\n",
    "print('컴퓨터가 발생한 임의의 수 :', randomNum)\n",
    "inputNum = 0  # 사용자가 맞출 수가 저장될 변수\n",
    "while True:  # True 사용 시 break 사용\n",
    "    inputNum = int(input('1~100 사이의 수를 맞춰 보세요 :'))\n",
    "    if (inputNum < 1) | (inputNum > 100):\n",
    "        print('수의 범위를 벗어났습니다')\n",
    "    elif randomNum < inputNum:\n",
    "        print('DOWN ↓')\n",
    "    elif randomNum > inputNum:\n",
    "        print('UP ↑')\n",
    "    else:\n",
    "        print('축하 축하 맞추셨습니다.')\n",
    "        break\n",
    "print('DONE')    \n",
    "# while randomNum != inputNum:\n",
    "#     inputNum = int(input('1~100 사이의 수를 맞춰 보세요 :'))\n",
    "#     if (inputNum < 1) | (inputNum > 100):\n",
    "#         print('수의 범위를 벗어났습니다')\n",
    "#     elif randomNum < inputNum:\n",
    "#         print('DOWN↓')\n",
    "#     elif randomNum > inputNum:\n",
    "#         print('UP↑')\n",
    "#     else:\n",
    "#         print('축하 축하 맞추셨습니다.')\n",
    "# print('DONE')        "
   ]
  },
  {
   "cell_type": "markdown",
   "id": "6e4b0dac",
   "metadata": {},
   "source": [
    "# 3절. 중첩루프\n",
    "(반복문 안 반복문)"
   ]
  },
  {
   "cell_type": "code",
   "execution_count": 19,
   "id": "a877e0aa",
   "metadata": {
    "ExecuteTime": {
     "end_time": "2024-11-07T08:50:08.233890Z",
     "start_time": "2024-11-07T08:50:08.225894Z"
    }
   },
   "outputs": [
    {
     "name": "stdout",
     "output_type": "stream",
     "text": [
      "  2단  \t  3단  \t  4단  \t  5단  \t  6단  \t  7단  \t  8단  \t  9단  \t\n",
      "2x1= 2\t3x1= 3\t4x1= 4\t5x1= 5\t6x1= 6\t7x1= 7\t8x1= 8\t9x1= 9\t\n",
      "2x2= 4\t3x2= 6\t4x2= 8\t5x2=10\t6x2=12\t7x2=14\t8x2=16\t9x2=18\t\n",
      "2x3= 6\t3x3= 9\t4x3=12\t5x3=15\t6x3=18\t7x3=21\t8x3=24\t9x3=27\t\n",
      "2x4= 8\t3x4=12\t4x4=16\t5x4=20\t6x4=24\t7x4=28\t8x4=32\t9x4=36\t\n",
      "2x5=10\t3x5=15\t4x5=20\t5x5=25\t6x5=30\t7x5=35\t8x5=40\t9x5=45\t\n",
      "2x6=12\t3x6=18\t4x6=24\t5x6=30\t6x6=36\t7x6=42\t8x6=48\t9x6=54\t\n",
      "2x7=14\t3x7=21\t4x7=28\t5x7=35\t6x7=42\t7x7=49\t8x7=56\t9x7=63\t\n",
      "2x8=16\t3x8=24\t4x8=32\t5x8=40\t6x8=48\t7x8=56\t8x8=64\t9x8=72\t\n",
      "2x9=18\t3x9=27\t4x9=36\t5x9=45\t6x9=54\t7x9=63\t8x9=72\t9x9=81\t\n"
     ]
    }
   ],
   "source": [
    "# 2~9단 구구단 출력\n",
    "for i in range(2, 10):\n",
    "    print('{:^6}'.format(str(i) + '단'), end='\\t')  # 6공간 차지\n",
    "print()  # 개행\n",
    "for i in range(1, 10):  # 1부터 9까지\n",
    "    for j in range(2, 10):  # 2단부터 9단까지\n",
    "        print('{}x{}={:2}'.format(j, i, i*j), end='\\t')  # 곱한 값이 2자리일 수 있으므로 2자리 차지\n",
    "    print()  # 개행"
   ]
  },
  {
   "cell_type": "code",
   "execution_count": 20,
   "id": "cf143168",
   "metadata": {
    "ExecuteTime": {
     "end_time": "2024-11-07T08:50:08.623983Z",
     "start_time": "2024-11-07T08:50:08.608358Z"
    }
   },
   "outputs": [
    {
     "name": "stdout",
     "output_type": "stream",
     "text": [
      "0:1\t1:2\t2:3\t\n",
      "\n",
      "데이터만 출력\n",
      "1\t2\t3\t"
     ]
    }
   ],
   "source": [
    "# 1차원\n",
    "lst = [1, 2, 3]\n",
    "for i in range(len(lst)):\n",
    "    print('{}:{}'.format(i, lst[i]), end='\\t')\n",
    "\n",
    "print()  # 개행\n",
    "print('\\n데이터만 출력')\n",
    "for l in lst:\n",
    "    print(l, end='\\t')"
   ]
  },
  {
   "cell_type": "code",
   "execution_count": 21,
   "id": "dbae76ac",
   "metadata": {
    "ExecuteTime": {
     "end_time": "2024-11-07T08:50:10.377808Z",
     "start_time": "2024-11-07T08:50:10.370618Z"
    }
   },
   "outputs": [
    {
     "name": "stdout",
     "output_type": "stream",
     "text": [
      "0행 0열 : 1\t0행 1열 : 2\t0행 2열 : 3\t0행 3열 : 4\t\n",
      "1행 0열 : 5\t1행 1열 : 6\t1행 2열 : 7\t1행 3열 : 8\t\n",
      "2행 0열 : 1\t2행 1열 : 2\t2행 2열 : 3\t2행 3열 : 4\t\n",
      "\n",
      "데이터만 출력\n",
      "1\t2\t3\t4\t\n",
      "5\t6\t7\t8\t\n",
      "1\t2\t3\t4\t\n"
     ]
    }
   ],
   "source": [
    "# 2차원\n",
    "lst_2d = [[1, 2, 3, 4],\n",
    "          [5, 6, 7, 8],\n",
    "          [1, 2, 3, 4],]  # 논리적으로 3행 4열\n",
    "# lst_2d[0][0]  # 0행0열\n",
    "for i in range(len(lst_2d)):\n",
    "    for j in range(len(lst_2d[i])):\n",
    "        print('{}행 {}열 : {}'.format(i, j, lst_2d[i][j]), end='\\t')  # i번째 행 j번째 열\n",
    "    print()  # 개행\n",
    "    \n",
    "print()      # 개행\n",
    "print('데이터만 출력')\n",
    "for row in lst_2d:\n",
    "    for data in row:  # row:행 하나\n",
    "        print(data, end='\\t')\n",
    "    print()  # 개행"
   ]
  },
  {
   "cell_type": "code",
   "execution_count": 22,
   "id": "1bda855e",
   "metadata": {
    "ExecuteTime": {
     "end_time": "2024-11-07T08:50:10.642446Z",
     "start_time": "2024-11-07T08:50:10.634238Z"
    }
   },
   "outputs": [
    {
     "name": "stdout",
     "output_type": "stream",
     "text": [
      "0면 0행 0열 : 1\t\t0면 0행 1열 : 2\t\t0면 0행 2열 : 3\t\t0면 0행 3열 : 4\t\t\n",
      "0면 1행 0열 : 5\t\t0면 1행 1열 : 6\t\t0면 1행 2열 : 7\t\t0면 1행 3열 : 8\t\t\n",
      "0면 2행 0열 : 1\t\t0면 2행 1열 : 2\t\t0면 2행 2열 : 3\t\t0면 2행 3열 : 4\t\t\n",
      "---------------------------------------------------------------------------------------\n",
      "1면 0행 0열 : 1\t\t1면 0행 1열 : 2\t\t1면 0행 2열 : 3\t\t1면 0행 3열 : 4\t\t\n",
      "1면 1행 0열 : 5\t\t1면 1행 1열 : 6\t\t1면 1행 2열 : 7\t\t1면 1행 3열 : 8\t\t\n",
      "1면 2행 0열 : 1\t\t1면 2행 1열 : 2\t\t1면 2행 2열 : 3\t\t1면 2행 3열 : 4\t\t\n",
      "---------------------------------------------------------------------------------------\n"
     ]
    }
   ],
   "source": [
    "# 3차원\n",
    "lst_3d = [\n",
    "    [[1, 2, 3, 4],\n",
    "     [5, 6, 7, 8],\n",
    "     [1, 2, 3, 4],],\n",
    "    [[1, 2, 3, 4],\n",
    "     [5, 6, 7, 8],\n",
    "     [1, 2, 3, 4],],  # 논리적으로 2면 3행 4열\n",
    "]\n",
    "for i in range(len(lst_3d)):  # i면\n",
    "    for j in range(len(lst_3d[i])):  # j행\n",
    "        for k in range(len(lst_3d[i][j])):  # k열\n",
    "            print('{}면 {}행 {}열 : {}'.format(i, j, k, lst_3d[i][j][k]), end='\\t\\t')\n",
    "        print()  # 개행\n",
    "    print('---------------------------------------------------------------------------------------')  # 면끼리 분할"
   ]
  },
  {
   "cell_type": "code",
   "execution_count": 23,
   "id": "5256556c",
   "metadata": {
    "ExecuteTime": {
     "end_time": "2024-11-07T08:50:11.113054Z",
     "start_time": "2024-11-07T08:50:11.095505Z"
    }
   },
   "outputs": [
    {
     "name": "stdout",
     "output_type": "stream",
     "text": [
      "데이터만\n",
      "1\t2\t3\t4\t\n",
      "5\t6\t7\t8\t\n",
      "1\t2\t3\t4\t\n",
      "-------------------------\n",
      "1\t2\t3\t4\t\n",
      "5\t6\t7\t8\t\n",
      "1\t2\t3\t4\t\n",
      "-------------------------\n"
     ]
    }
   ],
   "source": [
    "print('데이터만')    \n",
    "for face in lst_3d:  # 3차원\n",
    "    for row in face:  # 2차원\n",
    "        for data in row:  # 1차원\n",
    "            print(data, end='\\t')\n",
    "        print()  # 개행\n",
    "    print('-------------------------')"
   ]
  },
  {
   "cell_type": "code",
   "execution_count": 24,
   "id": "420dee93",
   "metadata": {
    "ExecuteTime": {
     "end_time": "2024-11-07T08:50:11.491387Z",
     "start_time": "2024-11-07T08:50:11.459003Z"
    }
   },
   "outputs": [
    {
     "data": {
      "text/plain": [
       "[[1, 2, 3, 4], [5, 6, 7, 8], [1, 2, 3, 4]]"
      ]
     },
     "execution_count": 24,
     "metadata": {},
     "output_type": "execute_result"
    }
   ],
   "source": [
    "lst_3d[0]  # 0면 = 2차원(lst_2d)"
   ]
  },
  {
   "cell_type": "code",
   "execution_count": 25,
   "id": "c8c66113",
   "metadata": {
    "ExecuteTime": {
     "end_time": "2024-11-07T08:50:11.840909Z",
     "start_time": "2024-11-07T08:50:11.825284Z"
    }
   },
   "outputs": [
    {
     "data": {
      "text/plain": [
       "[1, 2, 3, 4]"
      ]
     },
     "execution_count": 25,
     "metadata": {},
     "output_type": "execute_result"
    }
   ],
   "source": [
    "lst_3d[0][0]  # 0면0행 = 1차원(lst)"
   ]
  },
  {
   "cell_type": "markdown",
   "id": "fa7b2ccb",
   "metadata": {},
   "source": [
    "# 4절. 중첩루프 탈출"
   ]
  },
  {
   "cell_type": "code",
   "execution_count": 26,
   "id": "793f546f",
   "metadata": {
    "ExecuteTime": {
     "end_time": "2024-11-07T08:50:13.840418Z",
     "start_time": "2024-11-07T08:50:13.834420Z"
    }
   },
   "outputs": [
    {
     "name": "stdout",
     "output_type": "stream",
     "text": [
      "0 1\n",
      "0 2\n",
      "2 1\n",
      "DONE\n"
     ]
    }
   ],
   "source": [
    "for a in range(0, 3):      # a <= 0, 1, 2만 수행\n",
    "    for b in range(1, 3):  # b <= 1, 2만 수행\n",
    "        if a == b:\n",
    "            break  # break를 만나면 안쪽 반복문 탈출\n",
    "        print(a, b)\n",
    "    # break를 만나면 오는 곳\n",
    "print('DONE')\n",
    "# a가 0일 때 b는 1\n",
    "# a가 0일 때 b는 2\n",
    "# a가 1일 때 b가 1이므로 break를 수행하고 a가 2일 때로 넘어감\n",
    "# a가 2일 때 b는 1\n",
    "# a가 2일 때 b가 2이므로 break를 수행"
   ]
  },
  {
   "cell_type": "code",
   "execution_count": 27,
   "id": "79525118",
   "metadata": {
    "ExecuteTime": {
     "end_time": "2024-11-07T08:50:14.040226Z",
     "start_time": "2024-11-07T08:50:14.034228Z"
    }
   },
   "outputs": [
    {
     "name": "stdout",
     "output_type": "stream",
     "text": [
      "0 1\n",
      "0 2\n",
      "DONE\n"
     ]
    }
   ],
   "source": [
    "# 중첩 루프 탈출 : 방법1. 플래그 변수 이용\n",
    "flag = False  # break를 만나면 True로 바뀜\n",
    "for a in range(0, 3):      # a <= 0, 1, 2만 수행\n",
    "    for b in range(1, 3):  # b <= 1, 2만 수행\n",
    "        if a == b:\n",
    "            flag = True\n",
    "            break  # break를 만나면 안쪽 반복문 탈출\n",
    "        print(a, b)\n",
    "    if flag:\n",
    "        break\n",
    "print('DONE')\n",
    "# a와 b가 같을 때 전체 for문을 빠져나옴"
   ]
  },
  {
   "cell_type": "code",
   "execution_count": 28,
   "id": "b3e9fdc2",
   "metadata": {
    "ExecuteTime": {
     "end_time": "2024-11-07T08:50:14.224498Z",
     "start_time": "2024-11-07T08:50:14.208870Z"
    }
   },
   "outputs": [],
   "source": [
    "# 중첩 루프 탈출 : 방법2. Exception 이용"
   ]
  },
  {
   "cell_type": "code",
   "execution_count": 29,
   "id": "7b1bf4bb",
   "metadata": {
    "ExecuteTime": {
     "end_time": "2024-11-07T08:50:14.624507Z",
     "start_time": "2024-11-07T08:50:14.608879Z"
    }
   },
   "outputs": [],
   "source": [
    "# Exception을 상속받은 BreakOutLoopException 클래스 생성\n",
    "class BreakOutLoopException(Exception):\n",
    "    pass"
   ]
  },
  {
   "cell_type": "code",
   "execution_count": 30,
   "id": "b2768845",
   "metadata": {
    "ExecuteTime": {
     "end_time": "2024-11-07T08:50:15.008059Z",
     "start_time": "2024-11-07T08:50:14.995280Z"
    }
   },
   "outputs": [
    {
     "name": "stdout",
     "output_type": "stream",
     "text": [
      "0 1\n",
      "0 2\n",
      "DONE\n"
     ]
    }
   ],
   "source": [
    "try:\n",
    "    for a in range(0, 3):      # a <= 0, 1, 2만 수행\n",
    "        for b in range(1, 3):  # b <= 1, 2만 수행\n",
    "            if a == b:\n",
    "                flag = True\n",
    "                raise BreakOutLoopException  # 강제 예외 발생:except절로 떨어짐\n",
    "            print(a, b)\n",
    "except BreakOutLoopException:  # Exception으로만도 사용 가능        \n",
    "    print('DONE')"
   ]
  },
  {
   "cell_type": "markdown",
   "id": "431f9bc7",
   "metadata": {},
   "source": [
    "# 연습문제"
   ]
  },
  {
   "cell_type": "code",
   "execution_count": 35,
   "id": "776da431",
   "metadata": {
    "ExecuteTime": {
     "end_time": "2024-11-07T08:52:31.800570Z",
     "start_time": "2024-11-07T08:52:31.793574Z"
    }
   },
   "outputs": [
    {
     "ename": "SyntaxError",
     "evalue": "invalid syntax (831229523.py, line 4)",
     "output_type": "error",
     "traceback": [
      "\u001b[1;36m  Cell \u001b[1;32mIn[35], line 4\u001b[1;36m\u001b[0m\n\u001b[1;33m    while:\u001b[0m\n\u001b[1;37m         ^\u001b[0m\n\u001b[1;31mSyntaxError\u001b[0m\u001b[1;31m:\u001b[0m invalid syntax\n"
     ]
    }
   ],
   "source": [
    "# 1. 양의 정수를 입력 받아 홀수인지 짝수인지를 판별하는 프로그램을 작성하세요. \n",
    "#    양의 정수가 아니면 숫자를 다시 입력 받아야 합니다.\n",
    "num = int(input('정수를 입력하세요 >'))\n",
    "while:\n",
    "    if num >= 0:\n",
    "        print(num)\n",
    "    else:\n",
    "        continue    "
   ]
  },
  {
   "cell_type": "code",
   "execution_count": 55,
   "id": "ea8427ef",
   "metadata": {
    "ExecuteTime": {
     "end_time": "2024-11-07T08:59:40.598384Z",
     "start_time": "2024-11-07T08:59:40.572709Z"
    }
   },
   "outputs": [
    {
     "ename": "TypeError",
     "evalue": "string indices must be integers",
     "output_type": "error",
     "traceback": [
      "\u001b[1;31m---------------------------------------------------------------------------\u001b[0m",
      "\u001b[1;31mTypeError\u001b[0m                                 Traceback (most recent call last)",
      "Cell \u001b[1;32mIn[55], line 12\u001b[0m\n\u001b[0;32m     10\u001b[0m \u001b[38;5;28;01mfor\u001b[39;00m i \u001b[38;5;129;01min\u001b[39;00m star1:\n\u001b[0;32m     11\u001b[0m     \u001b[38;5;28;01mfor\u001b[39;00m j \u001b[38;5;129;01min\u001b[39;00m star1:\n\u001b[1;32m---> 12\u001b[0m         \u001b[38;5;28mprint\u001b[39m(i, \u001b[43mj\u001b[49m\u001b[43m[\u001b[49m\u001b[43mi\u001b[49m\u001b[43m]\u001b[49m)\n",
      "\u001b[1;31mTypeError\u001b[0m: string indices must be integers"
     ]
    }
   ],
   "source": [
    "# 2. 중첩for문을 이용하여 아래 패턴의 별을 출력하는 프로그램을 작성하세요.\n",
    "# (1)   (2)\n",
    "# *****  *\n",
    "# *****  ** \n",
    "# *****  ***\n",
    "# *****  ****\n",
    "# *****  *****\n",
    "star = ['*', '*', '*', '*', '*']\n",
    "star1 = ['*****']\n",
    "for i in star1:\n",
    "    for j in star1:\n",
    "        print(i, j)"
   ]
  },
  {
   "cell_type": "code",
   "execution_count": null,
   "id": "932fd91a",
   "metadata": {
    "ExecuteTime": {
     "start_time": "2024-11-07T08:45:50.072Z"
    }
   },
   "outputs": [],
   "source": [
    "# 3. 다음 코드는 1부터 30까지(30포함) 자연수 중에서 3의 배수의 총 합을 출력하는 프로그램입니다.\n",
    "# 빈칸의 코드를 완성하시오.\n",
    "# sum = 0\n",
    "# for i in ___________:\n",
    "#    if _____________:\n",
    "#       sum = sum + i\n",
    "#    else:\n",
    "#       pass\n",
    "# print(sum)"
   ]
  },
  {
   "cell_type": "code",
   "execution_count": null,
   "id": "3b902372",
   "metadata": {
    "ExecuteTime": {
     "start_time": "2024-11-07T08:45:50.075Z"
    }
   },
   "outputs": [],
   "source": [
    "# 4. 다음 코드의 실행결과가 “1 3 5 7 9”가 되도록 빈칸을 완성하시오\n",
    "# num = 0\n",
    "# ________ num <= 10:\n",
    "#    if num%2 == 1:\n",
    "#       print(num, end=‘ ’)\n",
    "#    num += 1"
   ]
  },
  {
   "cell_type": "code",
   "execution_count": null,
   "id": "fac292ef",
   "metadata": {
    "ExecuteTime": {
     "start_time": "2024-11-07T08:45:50.076Z"
    }
   },
   "outputs": [],
   "source": [
    "# 5. 다음 2차원 리스트의 모든 값을 출력하는 코드입니다. 빈칸을 완성하시오.\n",
    "# list2d = [ [1,2,3],[4,5,6,7],[8,9]]\n",
    "# for row in list2d:\n",
    "#    _______________:\n",
    "#       print(data, end=‘ ’)\n",
    "# print()\n",
    "# 결과 :\n",
    "# 1 2 3\n",
    "# 4 5 6 7\n",
    "# 8 9"
   ]
  },
  {
   "cell_type": "code",
   "execution_count": null,
   "id": "70bdebc5",
   "metadata": {
    "ExecuteTime": {
     "start_time": "2024-11-07T08:45:50.079Z"
    }
   },
   "outputs": [],
   "source": [
    "# 6. 다음 빈칸에 들어갈 함수 이름은?\n",
    "# colors = {\"red\":'apple', \"yellow\":'banana'}\n",
    "# for i, v in _______________(colors.________ ()):\n",
    "#    print(i, v)\n",
    "# 0 apple\n",
    "# 1 banana"
   ]
  },
  {
   "cell_type": "code",
   "execution_count": null,
   "id": "e0c38c39",
   "metadata": {
    "ExecuteTime": {
     "start_time": "2024-11-07T08:45:50.081Z"
    }
   },
   "outputs": [],
   "source": [
    "# 7. 다음 코드의 실행결과는?\n",
    "for i in range(0, 2):\n",
    "    for j in range(0,2):\n",
    "        if i==j:\n",
    "            break\n",
    "        print(I, j)"
   ]
  },
  {
   "cell_type": "code",
   "execution_count": null,
   "id": "0b56ed03",
   "metadata": {
    "ExecuteTime": {
     "start_time": "2024-11-07T08:45:50.083Z"
    }
   },
   "outputs": [],
   "source": [
    "# 8. 다음 코드의 실행 결과로 출력될 수 없는 것은?\n",
    "for i in range(0, 2):\n",
    "    for j in range(0,2):\n",
    "        print(I, j)\n",
    "        if i==j:\n",
    "            break\n",
    "# ① 0 0 ② 0 1 ③ 1 0 ④ 1 1"
   ]
  },
  {
   "cell_type": "code",
   "execution_count": null,
   "id": "2cc3db06",
   "metadata": {
    "ExecuteTime": {
     "start_time": "2024-11-07T08:45:50.085Z"
    }
   },
   "outputs": [],
   "source": [
    "# 9. 다음 코드의 실행결과는?\n",
    "L = [3, 4, 5, 6, 7, 8, 9, 10]\n",
    "for i, data in enumerate(L):\n",
    "    if (i%2 == 0):\n",
    "        print(data, end=‘ ’)"
   ]
  }
 ],
 "metadata": {
  "kernelspec": {
   "display_name": "Python 3 (ipykernel)",
   "language": "python",
   "name": "python3"
  },
  "language_info": {
   "codemirror_mode": {
    "name": "ipython",
    "version": 3
   },
   "file_extension": ".py",
   "mimetype": "text/x-python",
   "name": "python",
   "nbconvert_exporter": "python",
   "pygments_lexer": "ipython3",
   "version": "3.10.9"
  },
  "toc": {
   "base_numbering": 1,
   "nav_menu": {},
   "number_sections": true,
   "sideBar": true,
   "skip_h1_title": false,
   "title_cell": "Table of Contents",
   "title_sidebar": "Contents",
   "toc_cell": false,
   "toc_position": {
    "height": "calc(100% - 180px)",
    "left": "10px",
    "top": "150px",
    "width": "165px"
   },
   "toc_section_display": true,
   "toc_window_display": true
  }
 },
 "nbformat": 4,
 "nbformat_minor": 5
}
