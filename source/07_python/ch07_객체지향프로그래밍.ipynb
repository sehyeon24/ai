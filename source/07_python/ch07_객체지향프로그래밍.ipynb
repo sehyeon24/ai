{
 "cells": [
  {
   "cell_type": "code",
   "execution_count": 1,
   "id": "d7a9de71",
   "metadata": {
    "ExecuteTime": {
     "end_time": "2024-11-28T09:10:14.384119Z",
     "start_time": "2024-11-28T09:10:14.373253Z"
    }
   },
   "outputs": [
    {
     "data": {
      "text/html": [
       "\n",
       "<style>\n",
       "div.container{width:80% !important;}\n",
       "div.prompt {min-width:70px;}\n",
       "div#toc-header{margin-top:150px;}\n",
       "span.toc-item-num{display:none;}\n",
       "div.CodeMirror {font-family:Consolas}\n",
       "div.input {font-family:Consolas}\n",
       "</style>\n"
      ],
      "text/plain": [
       "<IPython.core.display.HTML object>"
      ]
     },
     "metadata": {},
     "output_type": "display_data"
    }
   ],
   "source": [
    "from IPython.display import display, HTML\n",
    "display(HTML(\"\"\"\n",
    "<style>\n",
    "div.container{width:80% !important;}\n",
    "div.prompt {min-width:70px;}\n",
    "div#toc-header{margin-top:150px;}\n",
    "span.toc-item-num{display:none;}\n",
    "div.CodeMirror {font-family:Consolas}\n",
    "div.input {font-family:Consolas}\n",
    "</style>\n",
    "\"\"\"))"
   ]
  },
  {
   "cell_type": "markdown",
   "id": "c69bb5e2",
   "metadata": {},
   "source": [
    "<b><font color='red' size='6'>ch07. 객체지향 프로그래밍</font></b>"
   ]
  },
  {
   "cell_type": "markdown",
   "id": "cba92141",
   "metadata": {},
   "source": [
    "# 1절. 객체와 클래스\n",
    "```\n",
    "class 클래스명(상속받을 클래스명):\n",
    "    변수나 함수들을\n",
    "    (instance, static, class)\n",
    "```    "
   ]
  },
  {
   "cell_type": "code",
   "execution_count": 2,
   "id": "a74c9798",
   "metadata": {
    "ExecuteTime": {
     "end_time": "2025-01-13T01:06:56.966173Z",
     "start_time": "2025-01-13T01:06:56.961399Z"
    }
   },
   "outputs": [],
   "source": [
    "class Person:\n",
    "    '''\n",
    "    Person에 대해 설명하는 독스트링\n",
    "    class Person{\n",
    "        // public String toString(){}\n",
    "    }\n",
    "    p = new Person\n",
    "    System.out.print(p)\n",
    "    '''\n",
    "    pass\n",
    "p = Person()"
   ]
  },
  {
   "cell_type": "code",
   "execution_count": 3,
   "id": "a320ecd4",
   "metadata": {
    "ExecuteTime": {
     "end_time": "2025-01-13T01:06:57.446146Z",
     "start_time": "2025-01-13T01:06:57.430520Z"
    }
   },
   "outputs": [
    {
     "data": {
      "text/plain": [
       "__main__.Person"
      ]
     },
     "execution_count": 3,
     "metadata": {},
     "output_type": "execute_result"
    }
   ],
   "source": [
    "type(p)"
   ]
  },
  {
   "cell_type": "code",
   "execution_count": 4,
   "id": "e9788a94",
   "metadata": {
    "ExecuteTime": {
     "end_time": "2025-01-13T01:06:57.629603Z",
     "start_time": "2025-01-13T01:06:57.613977Z"
    }
   },
   "outputs": [
    {
     "name": "stdout",
     "output_type": "stream",
     "text": [
      "<__main__.Person object at 0x0000029F7B578B50>\n"
     ]
    }
   ],
   "source": [
    "print(p)  # 타입, 최상위상속, 주소"
   ]
  },
  {
   "cell_type": "code",
   "execution_count": 5,
   "id": "722f1b6b",
   "metadata": {
    "ExecuteTime": {
     "end_time": "2025-01-13T01:06:57.779626Z",
     "start_time": "2025-01-13T01:06:57.763881Z"
    }
   },
   "outputs": [
    {
     "data": {
      "text/plain": [
       "True"
      ]
     },
     "execution_count": 5,
     "metadata": {},
     "output_type": "execute_result"
    }
   ],
   "source": [
    "isinstance(p, Person)  # p가 Person타입의 instance인지 여부"
   ]
  },
  {
   "cell_type": "code",
   "execution_count": 6,
   "id": "b0396fa9",
   "metadata": {
    "ExecuteTime": {
     "end_time": "2025-01-13T01:06:57.929602Z",
     "start_time": "2025-01-13T01:06:57.914015Z"
    }
   },
   "outputs": [
    {
     "name": "stdout",
     "output_type": "stream",
     "text": [
      "\n",
      "    Person에 대해 설명하는 독스트링\n",
      "    class Person{\n",
      "        // public String toString(){}\n",
      "    }\n",
      "    p = new Person\n",
      "    System.out.print(p)\n",
      "    \n"
     ]
    }
   ],
   "source": [
    "print(p.__doc__)  # 독스트링"
   ]
  },
  {
   "cell_type": "markdown",
   "id": "6fbe893e",
   "metadata": {},
   "source": [
    "# 2절. 변수와 메소드(함수)\n",
    " - 클래스변수 vs. 인스턴스변수 vs. static변수\n",
    " - 클래스메소드 vs. 인스턴스메소드 vs. static메소드"
   ]
  },
  {
   "cell_type": "code",
   "execution_count": 7,
   "id": "395f36fd",
   "metadata": {
    "ExecuteTime": {
     "end_time": "2025-01-13T01:06:58.262978Z",
     "start_time": "2025-01-13T01:06:58.247545Z"
    }
   },
   "outputs": [
    {
     "name": "stdout",
     "output_type": "stream",
     "text": [
      "홍길동 남자\n",
      "<class '__main__.Person'>\n"
     ]
    }
   ],
   "source": [
    "# 위에 같은 이름의 클래스가 있어도 덮어 씌워져서 에러나지 않음\n",
    "\n",
    "# 클래스 변수 추가 : 클래스 내부에 선언되며, \n",
    "# 생성된 모든 인스턴스에서 동일한 값을 가진다.\n",
    "# 클래스명.클래스변수를 수정하면 모든 인스턴스에 반영될 수 있음\n",
    "# 인스턴스.클래스변수로 수정하면 해당 인스턴스에만 반영됨\n",
    "class Person:\n",
    "    name = '홍길동'\n",
    "    gender = '남자'\n",
    "print(Person.name, Person.gender)\n",
    "print(Person)"
   ]
  },
  {
   "cell_type": "code",
   "execution_count": 8,
   "id": "00ba3c58",
   "metadata": {
    "ExecuteTime": {
     "end_time": "2025-01-13T01:06:58.966310Z",
     "start_time": "2025-01-13T01:06:58.960899Z"
    }
   },
   "outputs": [
    {
     "name": "stdout",
     "output_type": "stream",
     "text": [
      "클래스 영역 변수 : 홍길동 남자\n",
      "p1객체의 변수 : 홍길동 남자\n",
      "p2객체의 변수 : 홍길동 남자\n"
     ]
    }
   ],
   "source": [
    "p1 = Person()  # p1객체 생성\n",
    "p2 = Person()\n",
    "print('클래스 영역 변수 :', Person.name, Person.gender)\n",
    "print('p1객체의 변수 :', p1.name, p1.gender)\n",
    "print('p2객체의 변수 :', p2.name, p2.gender)"
   ]
  },
  {
   "cell_type": "code",
   "execution_count": 9,
   "id": "e685a593",
   "metadata": {
    "ExecuteTime": {
     "end_time": "2025-01-13T01:06:59.918051Z",
     "start_time": "2025-01-13T01:06:59.913053Z"
    }
   },
   "outputs": [
    {
     "name": "stdout",
     "output_type": "stream",
     "text": [
      "클래스 영역 변수 : 홍길동 남자\n",
      "p1객체의 변수 : 이순신 남자\n",
      "p2객체의 변수 : 홍길동 남자\n"
     ]
    }
   ],
   "source": [
    "p1.name = '이순신'\n",
    "print('클래스 영역 변수 :', Person.name, Person.gender)\n",
    "print('p1객체의 변수 :', p1.name, p1.gender)\n",
    "print('p2객체의 변수 :', p2.name, p2.gender)"
   ]
  },
  {
   "cell_type": "code",
   "execution_count": 10,
   "id": "0a0a09a3",
   "metadata": {
    "ExecuteTime": {
     "end_time": "2025-01-13T01:07:01.061780Z",
     "start_time": "2025-01-13T01:07:01.056779Z"
    }
   },
   "outputs": [
    {
     "name": "stdout",
     "output_type": "stream",
     "text": [
      "클래스 영역 변수 : 유관순 여자\n",
      "p1객체의 변수 : 이순신 여자\n",
      "p2객체의 변수 : 유관순 여자\n"
     ]
    }
   ],
   "source": [
    "Person.name = '유관순'\n",
    "Person.gender = '여자'\n",
    "print('클래스 영역 변수 :', Person.name, Person.gender)\n",
    "print('p1객체의 변수 :', p1.name, p1.gender)\n",
    "print('p2객체의 변수 :', p2.name, p2.gender)"
   ]
  },
  {
   "cell_type": "code",
   "execution_count": 11,
   "id": "d5adec33",
   "metadata": {
    "ExecuteTime": {
     "end_time": "2025-01-13T01:07:02.374111Z",
     "start_time": "2025-01-13T01:07:02.369114Z"
    }
   },
   "outputs": [],
   "source": [
    "# 메소드 추가\n",
    "class Person:\n",
    "    name = '홍길동'\n",
    "    gender = '남자'\n",
    "    def print_info():  # 메소드\n",
    "        print('Person 메소드')\n",
    "        print('{}은 {}입니다'.format(Person.name, Person.gender))"
   ]
  },
  {
   "cell_type": "code",
   "execution_count": 12,
   "id": "4b198e76",
   "metadata": {
    "ExecuteTime": {
     "end_time": "2025-01-13T01:07:02.596331Z",
     "start_time": "2025-01-13T01:07:02.584210Z"
    }
   },
   "outputs": [
    {
     "name": "stdout",
     "output_type": "stream",
     "text": [
      "홍길동 남자\n",
      "Person 메소드\n",
      "홍길동은 남자입니다\n"
     ]
    }
   ],
   "source": [
    "print(Person.name, Person.gender)\n",
    "Person.print_info()"
   ]
  },
  {
   "cell_type": "code",
   "execution_count": 13,
   "id": "9616bc69",
   "metadata": {
    "ExecuteTime": {
     "end_time": "2025-01-13T01:07:03.135212Z",
     "start_time": "2025-01-13T01:07:03.128215Z"
    }
   },
   "outputs": [
    {
     "name": "stdout",
     "output_type": "stream",
     "text": [
      "클래스 변수 영역 : 홍길동 남자\n",
      "객체 영역 : 유관순 여자\n"
     ]
    }
   ],
   "source": [
    "p1 = Person()\n",
    "p1.name = '유관순'\n",
    "p1.gender = '여자'\n",
    "print('클래스 변수 영역 :', Person.name, Person.gender)\n",
    "print('객체 영역 :', p1.name, p1.gender)\n",
    "# p1.print_info()"
   ]
  },
  {
   "cell_type": "code",
   "execution_count": 29,
   "id": "bf00660c",
   "metadata": {
    "ExecuteTime": {
     "end_time": "2024-11-15T01:31:09.193450Z",
     "start_time": "2024-11-15T01:31:09.188451Z"
    }
   },
   "outputs": [],
   "source": [
    "# 에러나는 이유는 인스턴스 메소드도 아니고, 클래스 메소드도 아니고, staticmethod도 아님\n",
    "# staticmethod처럼 실행은 가능"
   ]
  },
  {
   "cell_type": "markdown",
   "id": "46394929",
   "metadata": {},
   "source": [
    "※ 인스턴스 메소드 & 클래스 메소드 & static 메소드\n",
    "- 인스턴스 메소드 : 첫 번째 인자(디폴트 매개변수)에 self를 꼭 명시. 객체를 통해서만 호출할 메소드가 됨.\n",
    "- 클래스 메소드 : 메소드(함수) 위에 @classmethod 선언한 메소드. 첫 번째 인자(디폴트 매개변수)에 cls(clz) 꼭 명시.\n",
    "- static 메소드 : 메소드(함수) 위에 @staticmethod 선언한 메소드. 디폴트 인자(매개변수)를 넣지 않음."
   ]
  },
  {
   "cell_type": "code",
   "execution_count": 30,
   "id": "abdfe57d",
   "metadata": {
    "ExecuteTime": {
     "end_time": "2024-11-15T01:40:19.971293Z",
     "start_time": "2024-11-15T01:40:19.965296Z"
    }
   },
   "outputs": [],
   "source": [
    "# 인스턴스 메소드(객체가 호출할 수 있는 함수)\n",
    "class Person:\n",
    "    name = '홍길동'\n",
    "    gender = '남자'\n",
    "    age = 30\n",
    "    # 인스턴스 메소드 선언 시 첫 번째 인자에 self를 넣고 선언.\n",
    "    # 실제 호출 시에는 매개변수에 self를 쓰지 않음. self의 의미는 자바에서의 this\n",
    "    def print_info(self):  # self는 객체를 의미\n",
    "        print('인스턴스 정보 : {}은/는 {}살이고, 성별은 {}입니다'.format(self.name, self.age, self.gender))\n",
    "        print('클래스 정보 : {}은/는 {}살이고, 성별은 {}입니다'.format(Person.name, Person.age, Person.gender))"
   ]
  },
  {
   "cell_type": "code",
   "execution_count": 14,
   "id": "7305b82b",
   "metadata": {
    "ExecuteTime": {
     "end_time": "2025-01-13T01:07:12.755921Z",
     "start_time": "2025-01-13T01:07:12.751922Z"
    }
   },
   "outputs": [],
   "source": [
    "# Person.print_info()  # 에러"
   ]
  },
  {
   "cell_type": "code",
   "execution_count": 33,
   "id": "53be1175",
   "metadata": {
    "ExecuteTime": {
     "end_time": "2024-11-15T01:42:07.561335Z",
     "start_time": "2024-11-15T01:42:07.556336Z"
    }
   },
   "outputs": [
    {
     "name": "stdout",
     "output_type": "stream",
     "text": [
      "홍길동 남자 30\n",
      "인스턴스 정보 : 신사임당은/는 30살이고, 성별은 남자입니다\n",
      "클래스 정보 : 홍길동은/는 30살이고, 성별은 남자입니다\n"
     ]
    }
   ],
   "source": [
    "print(Person.name, Person.gender, Person.age)\n",
    "p1 = Person()\n",
    "p2 = Person()\n",
    "p1.name = '신사임당'\n",
    "p1.print_info()"
   ]
  },
  {
   "cell_type": "code",
   "execution_count": 35,
   "id": "4d2d223f",
   "metadata": {
    "ExecuteTime": {
     "end_time": "2024-11-15T01:43:09.753667Z",
     "start_time": "2024-11-15T01:43:09.748667Z"
    }
   },
   "outputs": [
    {
     "name": "stdout",
     "output_type": "stream",
     "text": [
      "인스턴스 정보 : 신사임당은/는 30살이고, 성별은 남자입니다\n",
      "클래스 정보 : 홍길동은/는 30살이고, 성별은 남자입니다\n"
     ]
    }
   ],
   "source": [
    "Person.print_info(p1)  # 이렇게는 거의 사용하지 않음"
   ]
  },
  {
   "cell_type": "code",
   "execution_count": 37,
   "id": "e2e98186",
   "metadata": {
    "ExecuteTime": {
     "end_time": "2024-11-15T01:44:23.904013Z",
     "start_time": "2024-11-15T01:44:23.898015Z"
    }
   },
   "outputs": [
    {
     "name": "stdout",
     "output_type": "stream",
     "text": [
      "인스턴스 정보 : 홍길동은/는 30살이고, 성별은 남자입니다\n",
      "클래스 정보 : 홍길동은/는 30살이고, 성별은 남자입니다\n"
     ]
    }
   ],
   "source": [
    "p2.print_info()"
   ]
  },
  {
   "cell_type": "code",
   "execution_count": 38,
   "id": "d56faa56",
   "metadata": {
    "ExecuteTime": {
     "end_time": "2024-11-15T01:45:20.679374Z",
     "start_time": "2024-11-15T01:45:20.674375Z"
    }
   },
   "outputs": [],
   "source": [
    "# 객체의 변수를 추가\n",
    "p1.address = '서울시'\n",
    "p1.nickname = '곰돌이 푸'"
   ]
  },
  {
   "cell_type": "code",
   "execution_count": 41,
   "id": "9c7f2d05",
   "metadata": {
    "ExecuteTime": {
     "end_time": "2024-11-15T01:46:28.112201Z",
     "start_time": "2024-11-15T01:46:28.106276Z"
    }
   },
   "outputs": [
    {
     "name": "stdout",
     "output_type": "stream",
     "text": [
      "신사임당 남자 30 서울시 곰돌이 푸\n",
      "홍길동 남자 30\n"
     ]
    }
   ],
   "source": [
    "print(p1.name, p1.gender, p1.age, p1.address, p1.nickname)\n",
    "print(p2.name, p2.gender, p2.age)"
   ]
  },
  {
   "cell_type": "code",
   "execution_count": 42,
   "id": "79f492c1",
   "metadata": {
    "ExecuteTime": {
     "end_time": "2024-11-15T01:46:32.358113Z",
     "start_time": "2024-11-15T01:46:32.353073Z"
    }
   },
   "outputs": [
    {
     "name": "stdout",
     "output_type": "stream",
     "text": [
      "인스턴스 정보 : 신사임당은/는 30살이고, 성별은 남자입니다\n",
      "클래스 정보 : 홍길동은/는 30살이고, 성별은 남자입니다\n"
     ]
    }
   ],
   "source": [
    "p1.print_info()  # 추가된 변수는 메소드에 출력되지 않음 / 상속받아 오버라이드 후 사용해야 함"
   ]
  },
  {
   "cell_type": "code",
   "execution_count": 63,
   "id": "d337d3a5",
   "metadata": {
    "ExecuteTime": {
     "end_time": "2024-11-15T02:10:22.781526Z",
     "start_time": "2024-11-15T02:10:22.773527Z"
    }
   },
   "outputs": [],
   "source": [
    "# 3가지 메소드를 전부 사용하기\n",
    "class Person:\n",
    "    name = '홍길동'\n",
    "    gender = '남자'\n",
    "    def print_info(self):  # 변수.print_info()로 호출  # 매개변수가 없는 메소드\n",
    "        print('일반 (인스턴스=객체) 메소드 - {}은/는 {}입니다'.format(self.name, self.gender))\n",
    "    def change_info(self, name, gender='남자'):  # 변수.change_info('변경하고자 하는 정보')로 호출\n",
    "        self.name = name                        # 매개변수가 있는 메소드\n",
    "        self.gender = gender\n",
    "        print('일반(인스턴스) 메소드를 통해 {}로 이름 변경 완료'.format(self.name))\n",
    "    # 변수.change_info(name만) 변경을 원할 경우\n",
    "    # def change_info(self, name):  # 덮어씌워짐\n",
    "    #    self.name = name\n",
    "    # 인스턴스 변수는 오버라이드 불가로 기본값을 갖는 메소드로 지정해야 함\n",
    "    # def change_info(self, name, gender='남자')\n",
    "    #    self.name = name\n",
    "    #    self.gender = gender  # 생략 시 변경되지 않음\n",
    "    @classmethod\n",
    "    def do_(clz):  # clz == Person (변수 예약어 사용 불가로 class는 사용불가). 클래스 변수를 이용한 로직이 있을 때 사용\n",
    "        clz.name = '신사임당'  # class영역의 class변수가 class메소드로 인해 바뀜\n",
    "        clz.gender = '여자'\n",
    "        print('클래스 메소드 - {}은/는 {}로 클래스 변수 변경'.format(clz.name, clz.gender))\n",
    "    @staticmethod\n",
    "    def that_():  # 매개변수를 쓰지 않음. 클래스 변수를 이용하는 경우보다는 로직이 우선일 경우\n",
    "        Person.name = '신길동'\n",
    "        Person.gender = '남자'\n",
    "        print('static 메소드 - {}은/는 {}입니다'.format(Person.name, Person.gender))"
   ]
  },
  {
   "cell_type": "code",
   "execution_count": 52,
   "id": "5a9f5165",
   "metadata": {
    "ExecuteTime": {
     "end_time": "2024-11-15T02:05:30.565137Z",
     "start_time": "2024-11-15T02:05:30.559138Z"
    }
   },
   "outputs": [
    {
     "name": "stdout",
     "output_type": "stream",
     "text": [
      "클래스 메소드 - 신사임당은/는 여자로 클래스 변수 변경\n",
      "static 메소드 - 신사임당은/는 여자입니다\n"
     ]
    }
   ],
   "source": [
    "Person.do_()\n",
    "Person.that_()"
   ]
  },
  {
   "cell_type": "code",
   "execution_count": 64,
   "id": "4c31936a",
   "metadata": {
    "ExecuteTime": {
     "end_time": "2024-11-15T02:10:46.474988Z",
     "start_time": "2024-11-15T02:10:46.468989Z"
    }
   },
   "outputs": [
    {
     "name": "stdout",
     "output_type": "stream",
     "text": [
      "일반 (인스턴스=객체) 메소드 - 홍길동은/는 남자입니다\n",
      "일반(인스턴스) 메소드를 통해 이순신로 이름 변경 완료\n",
      "일반 (인스턴스=객체) 메소드 - 이순신은/는 남자입니다\n"
     ]
    }
   ],
   "source": [
    "# class 재실행 후\n",
    "# 객체 생성\n",
    "p1 = Person()\n",
    "p1.print_info()\n",
    "p1.change_info('이순신', '남자')\n",
    "p1.print_info()"
   ]
  },
  {
   "cell_type": "code",
   "execution_count": 66,
   "id": "be451ca5",
   "metadata": {
    "ExecuteTime": {
     "end_time": "2024-11-15T02:11:14.048775Z",
     "start_time": "2024-11-15T02:11:14.043778Z"
    }
   },
   "outputs": [
    {
     "name": "stdout",
     "output_type": "stream",
     "text": [
      "클래스 메소드 - 신사임당은/는 여자로 클래스 변수 변경\n",
      "일반 (인스턴스=객체) 메소드 - 이순신은/는 남자입니다\n"
     ]
    }
   ],
   "source": [
    "Person.do_()  # 클래스 변수 수정\n",
    "p1.print_info()"
   ]
  },
  {
   "cell_type": "code",
   "execution_count": 67,
   "id": "3af8b233",
   "metadata": {
    "ExecuteTime": {
     "end_time": "2024-11-15T02:11:16.873177Z",
     "start_time": "2024-11-15T02:11:16.867307Z"
    }
   },
   "outputs": [
    {
     "name": "stdout",
     "output_type": "stream",
     "text": [
      "일반 (인스턴스=객체) 메소드 - 신사임당은/는 여자입니다\n"
     ]
    }
   ],
   "source": [
    "p2 = Person()\n",
    "p2.print_info()"
   ]
  },
  {
   "cell_type": "code",
   "execution_count": 68,
   "id": "66b89545",
   "metadata": {
    "ExecuteTime": {
     "end_time": "2024-11-15T02:11:48.593780Z",
     "start_time": "2024-11-15T02:11:48.588708Z"
    }
   },
   "outputs": [
    {
     "name": "stdout",
     "output_type": "stream",
     "text": [
      "static 메소드 - 신길동은/는 남자입니다\n"
     ]
    }
   ],
   "source": [
    "Person.that_()  # 클래스 변수 수정"
   ]
  },
  {
   "cell_type": "code",
   "execution_count": 69,
   "id": "bd4b122b",
   "metadata": {
    "ExecuteTime": {
     "end_time": "2024-11-15T02:12:01.586108Z",
     "start_time": "2024-11-15T02:12:01.557761Z"
    }
   },
   "outputs": [
    {
     "name": "stdout",
     "output_type": "stream",
     "text": [
      "일반 (인스턴스=객체) 메소드 - 신길동은/는 남자입니다\n"
     ]
    }
   ],
   "source": [
    "p2.print_info()"
   ]
  },
  {
   "cell_type": "code",
   "execution_count": 71,
   "id": "b687fade",
   "metadata": {
    "ExecuteTime": {
     "end_time": "2024-11-15T02:12:24.513128Z",
     "start_time": "2024-11-15T02:12:24.507130Z"
    }
   },
   "outputs": [
    {
     "name": "stdout",
     "output_type": "stream",
     "text": [
      "클래스 메소드 - 신사임당은/는 여자로 클래스 변수 변경\n",
      "일반 (인스턴스=객체) 메소드 - 신사임당은/는 여자입니다\n"
     ]
    }
   ],
   "source": [
    "Person.do_()\n",
    "p2.print_info()"
   ]
  },
  {
   "cell_type": "code",
   "execution_count": 72,
   "id": "286dbea1",
   "metadata": {
    "ExecuteTime": {
     "end_time": "2024-11-15T02:12:49.447765Z",
     "start_time": "2024-11-15T02:12:49.444765Z"
    }
   },
   "outputs": [],
   "source": [
    "p2.age = 30"
   ]
  },
  {
   "cell_type": "code",
   "execution_count": 73,
   "id": "7dc8b790",
   "metadata": {
    "ExecuteTime": {
     "end_time": "2024-11-15T02:12:55.808194Z",
     "start_time": "2024-11-15T02:12:55.803195Z"
    }
   },
   "outputs": [
    {
     "name": "stdout",
     "output_type": "stream",
     "text": [
      "일반 (인스턴스=객체) 메소드 - 이순신은/는 남자입니다\n",
      "일반 (인스턴스=객체) 메소드 - 신사임당은/는 여자입니다\n"
     ]
    }
   ],
   "source": [
    "p1.print_info()\n",
    "p2.print_info()"
   ]
  },
  {
   "cell_type": "markdown",
   "id": "25b170d8",
   "metadata": {},
   "source": [
    "# 3절. 생성자(__init__())와 소멸자(__del__())\n",
    "```\n",
    "생성자 : __init__(self, 매개변수...) 객체가 생성될 때 1회 자동 실행\n",
    "        생성 시 필요한 코드(인스턴스 변수 초기화)를 포함\n",
    "소멸자 : __del__(self) 객체가 소멸될 때 자동 실행\n",
    "        소멸 시 필요한 코드를 포함\n",
    "        인스턴스 객체의 레퍼런스 카운트가 0이 될 때 실행(객체를 참조하는 수가 0일 때)\n",
    "```"
   ]
  },
  {
   "cell_type": "code",
   "execution_count": 1,
   "id": "982b8f49",
   "metadata": {
    "ExecuteTime": {
     "end_time": "2024-11-15T02:57:20.593950Z",
     "start_time": "2024-11-15T02:57:20.576011Z"
    }
   },
   "outputs": [],
   "source": [
    "class Person:\n",
    "    # 생성자를 이용한 인스턴스 변수 초기화\n",
    "    def __init__(self, name='홍길동', gender='남자'):\n",
    "        self.name = name  # 인스턴스 변수\n",
    "        self.gender = gender\n",
    "        print('Person 객체를 생성합니다')\n",
    "        \n",
    "    def __del__(self):\n",
    "        print('Person 객체를 소멸합니다')\n",
    "        \n",
    "    def print_info(self):\n",
    "        print('{}은/는 {}입니다'.format(self.name, self.gender))\n",
    "        \n",
    "    def __str__(self):  # print(p1)이 가능하도록\n",
    "        return '%s은/는 %s' % (self.name, self.gender)"
   ]
  },
  {
   "cell_type": "code",
   "execution_count": 2,
   "id": "340c112d",
   "metadata": {
    "ExecuteTime": {
     "end_time": "2024-11-15T02:57:20.622325Z",
     "start_time": "2024-11-15T02:57:20.595335Z"
    }
   },
   "outputs": [
    {
     "name": "stdout",
     "output_type": "stream",
     "text": [
      "Person 객체를 생성합니다\n",
      "Person 객체를 생성합니다\n",
      "Person 객체를 생성합니다\n",
      "Person 객체를 생성합니다\n",
      "Person 객체를 생성합니다\n"
     ]
    }
   ],
   "source": [
    "p1 = Person('홍길동', '남자')  # 순서인수대로\n",
    "p2 = Person(gender='여자', name='홍길숙')\n",
    "p3 = Person('신길동')  # 성별은 기본값 '남자'로 생성\n",
    "p4 = Person(gender='여자')  # 이름은 기본값 '홍길동'으로 생성\n",
    "p5 = Person()"
   ]
  },
  {
   "cell_type": "code",
   "execution_count": 3,
   "id": "9a53677a",
   "metadata": {
    "ExecuteTime": {
     "end_time": "2024-11-15T02:57:21.633936Z",
     "start_time": "2024-11-15T02:57:21.628940Z"
    }
   },
   "outputs": [
    {
     "name": "stdout",
     "output_type": "stream",
     "text": [
      "홍길동은/는 남자입니다\n",
      "홍길숙은/는 여자입니다\n",
      "신길동은/는 남자입니다\n",
      "홍길동은/는 여자입니다\n",
      "홍길동은/는 남자입니다\n"
     ]
    }
   ],
   "source": [
    "p1.print_info()\n",
    "p2.print_info()\n",
    "p3.print_info()\n",
    "p4.print_info()\n",
    "p5.print_info()"
   ]
  },
  {
   "cell_type": "code",
   "execution_count": 4,
   "id": "bf5f7431",
   "metadata": {
    "ExecuteTime": {
     "end_time": "2024-11-15T02:57:24.178462Z",
     "start_time": "2024-11-15T02:57:24.172463Z"
    }
   },
   "outputs": [
    {
     "name": "stdout",
     "output_type": "stream",
     "text": [
      "p1 =  홍길동은/는 남자\n",
      "p2 =  홍길숙은/는 여자\n",
      "p3 =  신길동은/는 남자\n",
      "p4 =  홍길동은/는 여자\n",
      "p5 =  홍길동은/는 남자\n"
     ]
    }
   ],
   "source": [
    "print('p1 = ', p1)  # p1.__str__() 자동 호출\n",
    "print('p2 = ', p2)\n",
    "print('p3 = ', p3)\n",
    "print('p4 = ', p4)\n",
    "print('p5 = ', p5)"
   ]
  },
  {
   "cell_type": "code",
   "execution_count": 5,
   "id": "72baa9d2",
   "metadata": {
    "ExecuteTime": {
     "end_time": "2024-11-15T02:57:24.766764Z",
     "start_time": "2024-11-15T02:57:24.756769Z"
    }
   },
   "outputs": [
    {
     "data": {
      "text/plain": [
       "(1682129428128, 1682129425680, 1682129424624, 1682129433696, 1682129435232)"
      ]
     },
     "execution_count": 5,
     "metadata": {},
     "output_type": "execute_result"
    }
   ],
   "source": [
    "id(p1), id(p2), id(p3), id(p4), id(p5)"
   ]
  },
  {
   "cell_type": "code",
   "execution_count": 6,
   "id": "bf14de79",
   "metadata": {
    "ExecuteTime": {
     "end_time": "2024-11-15T02:57:27.767739Z",
     "start_time": "2024-11-15T02:57:27.763742Z"
    }
   },
   "outputs": [
    {
     "name": "stdout",
     "output_type": "stream",
     "text": [
      "Person 객체를 소멸합니다\n"
     ]
    }
   ],
   "source": [
    "del p5"
   ]
  },
  {
   "cell_type": "code",
   "execution_count": 7,
   "id": "4d85b167",
   "metadata": {
    "ExecuteTime": {
     "end_time": "2024-11-15T02:57:28.280835Z",
     "start_time": "2024-11-15T02:57:28.276836Z"
    }
   },
   "outputs": [
    {
     "name": "stdout",
     "output_type": "stream",
     "text": [
      "Person 객체를 소멸합니다\n",
      "Person 객체를 소멸합니다\n",
      "Person 객체를 소멸합니다\n"
     ]
    }
   ],
   "source": [
    "del p2, p3, p4"
   ]
  },
  {
   "cell_type": "code",
   "execution_count": 8,
   "id": "cae4670b",
   "metadata": {
    "ExecuteTime": {
     "end_time": "2024-11-15T02:57:28.738724Z",
     "start_time": "2024-11-15T02:57:28.723099Z"
    }
   },
   "outputs": [
    {
     "name": "stdout",
     "output_type": "stream",
     "text": [
      "홍길동은/는 남자\n"
     ]
    }
   ],
   "source": [
    "print(p1)"
   ]
  },
  {
   "cell_type": "code",
   "execution_count": 9,
   "id": "8d7e5935",
   "metadata": {
    "ExecuteTime": {
     "end_time": "2024-11-15T02:57:29.937321Z",
     "start_time": "2024-11-15T02:57:29.932323Z"
    }
   },
   "outputs": [],
   "source": [
    "p2 = p1"
   ]
  },
  {
   "cell_type": "code",
   "execution_count": 10,
   "id": "3890b967",
   "metadata": {
    "ExecuteTime": {
     "end_time": "2024-11-15T02:57:31.273423Z",
     "start_time": "2024-11-15T02:57:31.268426Z"
    }
   },
   "outputs": [
    {
     "data": {
      "text/plain": [
       "(1682129428128, 1682129428128)"
      ]
     },
     "execution_count": 10,
     "metadata": {},
     "output_type": "execute_result"
    }
   ],
   "source": [
    "id(p1), id(p2)  # 한 객체를 두 인스턴스 변수가 참조(객체의 주소가 같음. 객체의 레퍼런스 카운트가 2)"
   ]
  },
  {
   "cell_type": "code",
   "execution_count": 11,
   "id": "10533b6e",
   "metadata": {
    "ExecuteTime": {
     "end_time": "2024-11-15T02:57:33.256771Z",
     "start_time": "2024-11-15T02:57:33.252259Z"
    }
   },
   "outputs": [],
   "source": [
    "del p1  # 객체 레퍼런스 카운트가 1이어서 소멸자 생성 안 함"
   ]
  },
  {
   "cell_type": "code",
   "execution_count": 12,
   "id": "eb9de1fe",
   "metadata": {
    "ExecuteTime": {
     "end_time": "2024-11-15T02:57:33.729119Z",
     "start_time": "2024-11-15T02:57:33.724118Z"
    }
   },
   "outputs": [
    {
     "name": "stdout",
     "output_type": "stream",
     "text": [
      "Person 객체를 소멸합니다\n"
     ]
    }
   ],
   "source": [
    "del p2  # 객체 레퍼런스 카운트가 0이 되었으므로 소멸자 생성"
   ]
  },
  {
   "cell_type": "markdown",
   "id": "ff733272",
   "metadata": {},
   "source": [
    "# 4절. static 변수\n",
    " - 변수의 종류 : \n",
    "     * 인스턴스변수 : 생성자를 통함\n",
    "     * 클래스변수 : 클래스 내 선언\n",
    "     * static변수 : 클래스 내에 선언한 변수 중 변수명 앞에 __(under score 2개)를 붙임\n",
    "         - 변수명 앞에 __를 붙이면, 클래스명._클래스명__static변수명으로 참조함\n",
    "         - 클래스 변수는 클래스나 인스턴스에서 바로 접근 가능.\n",
    "         - 반면, __로 시작하는 변수는 바로 접근 불가하고, 클래스명._클래스명__static변수명으로 접근해야 하므로 \n",
    "             외부에서 실수로 접근하거나 변경하는 것을 방지할 수 있음\n",
    "         - static 변수는 클래스 내부에서만 접근하도록 하려는 의도를 전달하는 용도로 쓰임"
   ]
  },
  {
   "cell_type": "code",
   "execution_count": 13,
   "id": "eced0db7",
   "metadata": {
    "ExecuteTime": {
     "end_time": "2024-11-15T03:06:33.318622Z",
     "start_time": "2024-11-15T03:06:33.311625Z"
    }
   },
   "outputs": [
    {
     "data": {
      "text/plain": [
       "'홍길동'"
      ]
     },
     "execution_count": 13,
     "metadata": {},
     "output_type": "execute_result"
    }
   ],
   "source": [
    "class Person:\n",
    "    name = '홍길동'\n",
    "    __count = 0\n",
    "p = Person()\n",
    "p.name"
   ]
  },
  {
   "cell_type": "code",
   "execution_count": 15,
   "id": "80dc182b",
   "metadata": {
    "ExecuteTime": {
     "end_time": "2025-01-13T01:07:33.875510Z",
     "start_time": "2025-01-13T01:07:33.871511Z"
    }
   },
   "outputs": [],
   "source": [
    "# p.__count  # 바로 acceess 불가"
   ]
  },
  {
   "cell_type": "code",
   "execution_count": 16,
   "id": "7cba36d2",
   "metadata": {
    "ExecuteTime": {
     "end_time": "2024-11-15T03:07:53.882967Z",
     "start_time": "2024-11-15T03:07:53.877967Z"
    }
   },
   "outputs": [
    {
     "data": {
      "text/plain": [
       "0"
      ]
     },
     "execution_count": 16,
     "metadata": {},
     "output_type": "execute_result"
    }
   ],
   "source": [
    "Person._Person__count  # 클래스명._클래스명__static변수명으로 접근"
   ]
  },
  {
   "cell_type": "markdown",
   "id": "e500e131",
   "metadata": {},
   "source": [
    "# 5절. 상속과 재정의"
   ]
  },
  {
   "cell_type": "code",
   "execution_count": 17,
   "id": "29365984",
   "metadata": {
    "ExecuteTime": {
     "end_time": "2024-11-15T03:17:09.625669Z",
     "start_time": "2024-11-15T03:17:09.616672Z"
    }
   },
   "outputs": [
    {
     "name": "stdout",
     "output_type": "stream",
     "text": [
      "두 수를 초기화\n",
      "num1은 2, num2는 2\n"
     ]
    }
   ],
   "source": [
    "class Cal:\n",
    "    def __init__(self, num1=1, num2=2):\n",
    "        print('두 수를 초기화')\n",
    "        self.num1 = num1\n",
    "        self.num2 = num2\n",
    "        \n",
    "    def add(self):  # 매개변수 없이 실행\n",
    "        return self.num1 + self.num2\n",
    "    \n",
    "    def sub(self):\n",
    "        return self.num1 - self.num2 if self.num1 > self.num2 else self.num2 - self.num1  # 조건식\n",
    "#         if self.num1 > self.num2:\n",
    "#             return self.num1 - self.num2\n",
    "#         else:\n",
    "#             return self.num2 - self.num1\n",
    "\n",
    "    def __str__(self):\n",
    "        return 'num1은 %d, num2는 %d' % (self.num1, self.num2)\n",
    "    \n",
    "class Cal_inheri(Cal):  # Cal로부터 상속받는 클래스\n",
    "    def mul(self):\n",
    "        return self.num1 * self.num2\n",
    "obj = Cal_inheri(2, 2)\n",
    "print(obj)"
   ]
  },
  {
   "cell_type": "code",
   "execution_count": 21,
   "id": "00c2acf5",
   "metadata": {
    "ExecuteTime": {
     "end_time": "2024-11-15T03:18:02.358104Z",
     "start_time": "2024-11-15T03:18:02.353117Z"
    }
   },
   "outputs": [
    {
     "name": "stdout",
     "output_type": "stream",
     "text": [
      "4\n",
      "0\n",
      "4\n"
     ]
    }
   ],
   "source": [
    "print(obj.add())\n",
    "print(obj.sub())\n",
    "print(obj.mul())"
   ]
  },
  {
   "cell_type": "code",
   "execution_count": 25,
   "id": "98b713b1",
   "metadata": {
    "ExecuteTime": {
     "end_time": "2024-11-15T03:36:30.597231Z",
     "start_time": "2024-11-15T03:36:30.590233Z"
    }
   },
   "outputs": [],
   "source": [
    "class Person:\n",
    "    '(독스트링)Person은 이름과 성별 멤버변수가 있고, ~~ ...'\n",
    "    def __init__(self, name, gender):\n",
    "        print('Person 객체 생성합니다')\n",
    "        self.name = name\n",
    "        self.gender = gender\n",
    "    def __del__(self):\n",
    "        print('Person 객체 소멸됩니다')\n",
    "    def print_info(self):\n",
    "        '(독스트링)객체 이름과 성별을 출력합니다'\n",
    "        print('{}님의 성별은 {}입니다'.format(self.name, self.gender))\n",
    "    def __str__(self):\n",
    "        return '{}님의 성별은 {}입니다'.format(self.name, self.gender)"
   ]
  },
  {
   "cell_type": "markdown",
   "id": "e20f9ca2",
   "metadata": {},
   "source": [
    "## super() 이용"
   ]
  },
  {
   "cell_type": "code",
   "execution_count": 28,
   "id": "a579f196",
   "metadata": {
    "ExecuteTime": {
     "end_time": "2024-11-15T03:50:30.566026Z",
     "start_time": "2024-11-15T03:50:30.559133Z"
    }
   },
   "outputs": [],
   "source": [
    "class Student(Person):\n",
    "    '(독스트링)name과 gender(상속받음)에 major변수를 갖는 Student 타입'\n",
    "    def __init__(self, name, gender, major):\n",
    "        # 1. 이렇게 하지 않고\n",
    "        # self.name = name\n",
    "        # self.gender = gender\n",
    "        # self.major = major        \n",
    "        # 2. 부모클래스의 생성자를 호출해서 name과 gender \n",
    "        # Person.__init__(self, name, gender)\n",
    "        super().__init__(name, gender)\n",
    "        self.major = major\n",
    "    def __del__(self):  # Person의 del을 없앰\n",
    "        pass\n",
    "    def print_info(self):  # 재정의(override)\n",
    "        # print('{}은/는의 성별은 {}입니다.\\n 전공은 {}입니다.'.format(self.name, self.gender, self.major))\n",
    "        super().print_info()  # 상위클래스인 Person의 print_info()를 먼저 실행(호출) 후\n",
    "        print('전공은 {}입니다'.format(self.major))\n",
    "    def __str__(self):\n",
    "        # return Person.__str__(self) + '그리고 전공은 {}입니다'.format(self.major)\n",
    "        return super().__str__() + ' 그리고 전공은 {}입니다'.format(self.major)"
   ]
  },
  {
   "cell_type": "code",
   "execution_count": 29,
   "id": "20537b9d",
   "metadata": {
    "ExecuteTime": {
     "end_time": "2024-11-15T03:50:31.724182Z",
     "start_time": "2024-11-15T03:50:31.718185Z"
    }
   },
   "outputs": [
    {
     "name": "stdout",
     "output_type": "stream",
     "text": [
      "Person 객체 생성합니다\n",
      "홍길동님의 성별은 남자입니다 그리고 전공은 AI 빅데이터입니다\n"
     ]
    }
   ],
   "source": [
    "# 객체 생성\n",
    "s1 = Student('홍길동', '남자', 'AI 빅데이터')\n",
    "print(s1)"
   ]
  },
  {
   "cell_type": "code",
   "execution_count": 30,
   "id": "7a6bb4ae",
   "metadata": {
    "ExecuteTime": {
     "end_time": "2024-11-15T03:50:39.972841Z",
     "start_time": "2024-11-15T03:50:39.966843Z"
    }
   },
   "outputs": [
    {
     "name": "stdout",
     "output_type": "stream",
     "text": [
      "홍길동님의 성별은 남자입니다\n",
      "전공은 AI 빅데이터입니다\n"
     ]
    }
   ],
   "source": [
    "s1.print_info()"
   ]
  },
  {
   "cell_type": "code",
   "execution_count": 32,
   "id": "5b57db8f",
   "metadata": {
    "ExecuteTime": {
     "end_time": "2024-11-15T03:51:22.212113Z",
     "start_time": "2024-11-15T03:51:22.206532Z"
    }
   },
   "outputs": [
    {
     "name": "stdout",
     "output_type": "stream",
     "text": [
      "True\n",
      "True\n"
     ]
    }
   ],
   "source": [
    "print(isinstance(s1, Student))\n",
    "print(isinstance(s1, Person))"
   ]
  },
  {
   "cell_type": "markdown",
   "id": "d2a25174",
   "metadata": {},
   "source": [
    "## 상속과 static 변수 활용"
   ]
  },
  {
   "cell_type": "code",
   "execution_count": 44,
   "id": "76daaeb2",
   "metadata": {
    "ExecuteTime": {
     "end_time": "2024-11-15T05:26:12.983893Z",
     "start_time": "2024-11-15T05:26:12.972891Z"
    }
   },
   "outputs": [],
   "source": [
    "class Person:\n",
    "    '(독스트링)Person = name, gender'\n",
    "    def __init__(self, name, gender):\n",
    "        self.name = name\n",
    "        self.gender = gender\n",
    "    def print_info(self):  # 추상메소드 흉내\n",
    "        raise Exception('이 메소드는 반드시 구현되어야 합니다')  # 예외 강제 발생\n",
    "    def __str__(self):\n",
    "        return '{}님은 {}'.format(self.name, self.gender)\n",
    "class Student(Person):\n",
    "    '''\n",
    "    (독스트링)name과 gender(상속)에 major변수를 갖는 Student 타입\n",
    "    객체 생성마다 몇 번째 객체인지 저장(static 변수)하는 변수\n",
    "    '''\n",
    "    __count = 0  # static 변수(객체 갯수가 저장될 변수)\n",
    "    # 변수명 앞에 __붙으면, '클래스명._클래스명__static변수명'으로 사용(외부,내부 관계없이)\n",
    "    def __init__(self, name, gender, major):\n",
    "        Student._Student__count += 1  # __count += 1은 불가(static변수이므로)\n",
    "        # Person.__init__(self, name, gender) 상위클래스 이용\n",
    "        super().__init__(name, gender)\n",
    "        self.major = major\n",
    "    def __del__(self):\n",
    "        Student._Student__count -= 1\n",
    "        # 객체가 생성될 때마다 __count 1 증가\n",
    "        # 객체가 소멸될 때마다 __count 1 감소\n",
    "    def print_info(self):  # 재정의(오버라이드)\n",
    "        print('{}님의 성별은 {}이고, 전공은 {}입니다 - 이상 {}번 째 인스턴스(객체변수)입니다.'\\\n",
    "              .format(self.name, self.gender, self.major, Student._Student__count))\n",
    "    def __str__(self):\n",
    "        # return Person.__str__(self)\n",
    "        return super().__str__() + ', 전공은 {}입니다'.format(self.major)\n",
    "    @classmethod\n",
    "    def get_count(cls):\n",
    "        # return cls._Student__count\n",
    "        return Student._Student__count    "
   ]
  },
  {
   "cell_type": "code",
   "execution_count": 45,
   "id": "e8e6b61d",
   "metadata": {
    "ExecuteTime": {
     "end_time": "2024-11-15T05:26:13.236794Z",
     "start_time": "2024-11-15T05:26:13.224712Z"
    }
   },
   "outputs": [
    {
     "name": "stdout",
     "output_type": "stream",
     "text": [
      "홍길동님은 남자\n"
     ]
    }
   ],
   "source": [
    "p = Person('홍길동', '남자')\n",
    "print(p)"
   ]
  },
  {
   "cell_type": "code",
   "execution_count": 16,
   "id": "1acc1f81",
   "metadata": {
    "ExecuteTime": {
     "end_time": "2025-01-13T01:07:46.243528Z",
     "start_time": "2025-01-13T01:07:46.239529Z"
    }
   },
   "outputs": [],
   "source": [
    "# p.print_info()  # 에러 : 강제 예외 발생"
   ]
  },
  {
   "cell_type": "code",
   "execution_count": 47,
   "id": "b45ff435",
   "metadata": {
    "ExecuteTime": {
     "end_time": "2024-11-15T05:26:15.475446Z",
     "start_time": "2024-11-15T05:26:15.468299Z"
    }
   },
   "outputs": [
    {
     "name": "stdout",
     "output_type": "stream",
     "text": [
      "홍학생님은 남자, 전공은 AI 빅데이터입니다\n",
      "객체의 갯수 : 1\n",
      "객체의 갯수 : 1\n"
     ]
    }
   ],
   "source": [
    "s1 = Student('홍학생', '남자', 'AI 빅데이터')\n",
    "print(s1)\n",
    "print('객체의 갯수 :', Student.get_count())  # == s1.get_count()\n",
    "print('객체의 갯수 :', Student._Student__count)"
   ]
  },
  {
   "cell_type": "code",
   "execution_count": 48,
   "id": "17f38a70",
   "metadata": {
    "ExecuteTime": {
     "end_time": "2024-11-15T05:26:16.872247Z",
     "start_time": "2024-11-15T05:26:16.868165Z"
    }
   },
   "outputs": [
    {
     "name": "stdout",
     "output_type": "stream",
     "text": [
      "홍학생님의 성별은 남자이고, 전공은 AI 빅데이터입니다 - 이상 1번 째 인스턴스(객체변수)입니다.\n"
     ]
    }
   ],
   "source": [
    "s1.print_info()"
   ]
  },
  {
   "cell_type": "code",
   "execution_count": 49,
   "id": "a4f327f3",
   "metadata": {
    "ExecuteTime": {
     "end_time": "2024-11-15T05:26:19.346356Z",
     "start_time": "2024-11-15T05:26:19.341359Z"
    }
   },
   "outputs": [
    {
     "name": "stdout",
     "output_type": "stream",
     "text": [
      "신길숙님의 성별은 여자이고, 전공은 통계학입니다 - 이상 2번 째 인스턴스(객체변수)입니다.\n",
      "객체 갯수 : 2\n"
     ]
    }
   ],
   "source": [
    "s2 = Student('신길숙', '여자', '통계학')\n",
    "s2.print_info()\n",
    "print('객체 갯수 :', Student.get_count())"
   ]
  },
  {
   "cell_type": "code",
   "execution_count": 50,
   "id": "772c3dc4",
   "metadata": {
    "ExecuteTime": {
     "end_time": "2024-11-15T05:26:20.403259Z",
     "start_time": "2024-11-15T05:26:20.396261Z"
    }
   },
   "outputs": [
    {
     "data": {
      "text/plain": [
       "{'name': '신길숙', 'gender': '여자', 'major': '통계학'}"
      ]
     },
     "execution_count": 50,
     "metadata": {},
     "output_type": "execute_result"
    }
   ],
   "source": [
    "s2.__dict__  # 클래스의 멤버 변수들을 딕셔너리 형태로 출력"
   ]
  },
  {
   "cell_type": "code",
   "execution_count": 51,
   "id": "c3b30384",
   "metadata": {
    "ExecuteTime": {
     "end_time": "2024-11-15T05:26:21.017197Z",
     "start_time": "2024-11-15T05:26:21.013197Z"
    }
   },
   "outputs": [
    {
     "name": "stdout",
     "output_type": "stream",
     "text": [
      "객체 갯수 : 1\n"
     ]
    }
   ],
   "source": [
    "del s1\n",
    "print('객체 갯수 :', Student.get_count())"
   ]
  },
  {
   "cell_type": "code",
   "execution_count": null,
   "id": "e8c3a655",
   "metadata": {},
   "outputs": [],
   "source": [
    "isinstance(s2, Student), "
   ]
  },
  {
   "cell_type": "code",
   "execution_count": 52,
   "id": "1f84c127",
   "metadata": {
    "ExecuteTime": {
     "end_time": "2024-11-15T05:32:38.007369Z",
     "start_time": "2024-11-15T05:32:38.000977Z"
    }
   },
   "outputs": [],
   "source": [
    "class Product:\n",
    "    __count = 100\n",
    "    def __init__(self, name, price):\n",
    "        Product._Product__count += 1\n",
    "        self.serialno = Product._Product__count\n",
    "        self.name = name\n",
    "        self.price = price\n",
    "    def __str__(self):\n",
    "        return 'serialNo : {}\\n 상품명 : {}\\n 가격 : {}'.format(self.serialno, self.name, self.price)"
   ]
  },
  {
   "cell_type": "code",
   "execution_count": 53,
   "id": "50758a1a",
   "metadata": {
    "ExecuteTime": {
     "end_time": "2024-11-15T05:33:47.582355Z",
     "start_time": "2024-11-15T05:33:47.576359Z"
    }
   },
   "outputs": [],
   "source": [
    "p1 = Product('새우깡', 1600)\n",
    "p2 = Product('양파깡', 1800)\n",
    "p3 = Product('페레로로쉐', 10000)"
   ]
  },
  {
   "cell_type": "code",
   "execution_count": 55,
   "id": "31f77286",
   "metadata": {
    "ExecuteTime": {
     "end_time": "2024-11-15T05:34:39.157139Z",
     "start_time": "2024-11-15T05:34:39.152249Z"
    }
   },
   "outputs": [
    {
     "name": "stdout",
     "output_type": "stream",
     "text": [
      "serialNo : 101\n",
      " 상품명 : 새우깡\n",
      " 가격 : 1600\n",
      "serialNo : 102\n",
      " 상품명 : 양파깡\n",
      " 가격 : 1800\n",
      "serialNo : 103\n",
      " 상품명 : 페레로로쉐\n",
      " 가격 : 10000\n"
     ]
    }
   ],
   "source": [
    "print(p1)\n",
    "print(p2)\n",
    "print(p3)"
   ]
  },
  {
   "cell_type": "code",
   "execution_count": 56,
   "id": "3b0e952c",
   "metadata": {
    "ExecuteTime": {
     "end_time": "2024-11-15T05:34:59.388875Z",
     "start_time": "2024-11-15T05:34:59.383878Z"
    }
   },
   "outputs": [
    {
     "name": "stdout",
     "output_type": "stream",
     "text": [
      "생성된 최종 serialNo : 103\n"
     ]
    }
   ],
   "source": [
    "print('생성된 최종 serialNo :', Product._Product__count)"
   ]
  },
  {
   "cell_type": "markdown",
   "id": "f9b68ac9",
   "metadata": {},
   "source": [
    "# 6절. 연습문제"
   ]
  },
  {
   "cell_type": "code",
   "execution_count": 89,
   "id": "0f55891b",
   "metadata": {
    "ExecuteTime": {
     "end_time": "2024-11-15T06:21:58.268162Z",
     "start_time": "2024-11-15T06:21:58.255405Z"
    }
   },
   "outputs": [],
   "source": [
    "# 1. 다음 조건을 만족하는 클래스를 작성하세요\n",
    "# 도형(Shape)클래스와 삼각형(Triangle) 클래스를 만들어야 합니다.\n",
    "# 도형(Shape)클래스\n",
    "# - 생성자를 통해 x, y좌표를 초기화할 수 있습니다. x, y좌표의 기본값은 0, 0입니다.\n",
    "# - x, y좌표를 이동시킬 수 있는 move 함수가 있습니다.\n",
    "# - x, y좌표값 정보를 문자열로 리턴하는 __str__ 함수가 있습니다\n",
    "# - 도형의 면적을 구하는 함수(calc_area)가 있습니다. 다만 도형 클래스의 calc_area()는\n",
    "#   구현되어 있지 않아 호출하면 오류가 발생합니다(파이썬은 추상메소드가 없음. 추상메소드 역할을 구현)\n",
    "# - 정적메소드(staticmethod)를 하나 이상 구현합니다.\n",
    "# ‘삼각형(Triangle)클래스는 도형(Shape)클래스이다’관계가 성립해야 합니다\n",
    "# - 생성자를 통해, width, height, x, y좌표를 초기화하고 x, y 좌표의 기본값은 0, 0입니다\n",
    "# - 삼각형의 면적을 구하는 메소드 calc_area를 재정의합니다\n",
    "# - 삼각형의 정보를 문자열로 반환하는 __str__() 함수가 있습니다.\n",
    "# - 삼각형 객체가 몇 개가 만들어져 있는지 정보를 저장하는 클래스 변수를 추가하고 \n",
    "#   생성자에서 객체를 만들 때마다 증가시키고 소멸자에서 객체를 소멸시킬 때마다 감소합니다.\n",
    "class Shape:\n",
    "    def __init__(self, x=0, y=0):\n",
    "        self.x = x\n",
    "        self.y = y    \n",
    "    def move(self, x, y):\n",
    "        pass\n",
    "    def __str__(self):\n",
    "        return 'x : {}, y : {}'.format(self.x, self.y)\n",
    "    def calc_area(self):\n",
    "        raise Exception('이 메소드는 반드시 구현되어야 합니다')\n",
    "    def print_info(self):\n",
    "        print('x의 좌표값 : {}, y의 좌표값 :{}'.format(self.x, self.y))\n",
    "    \n",
    "class Triangle(Shape):\n",
    "    __count = 0\n",
    "    def __init__(self, width, height, x=0, y=0):\n",
    "        Triangle._Triangle__count += 1\n",
    "        super().__init__(x, y)\n",
    "        self.width = width\n",
    "        self.height = height\n",
    "    def __del__(self):\n",
    "        Triangle._Triangle__count -= 1\n",
    "    def print_info(self):\n",
    "        super().print_info\n",
    "        print('width : {}, height : {}'.format(self.width, self.height))\n",
    "    def __str__(self):\n",
    "        return super().__str__() + 'width : {}, height : {}, 객체의 갯수 : {}'\\\n",
    "                    .format(self.width, self.height, Triangle._Triangle__count)\n",
    "    @classmethod\n",
    "    def get_count(cls):\n",
    "        return Triangle._Triangle__count"
   ]
  },
  {
   "cell_type": "code",
   "execution_count": 90,
   "id": "f35aa571",
   "metadata": {
    "ExecuteTime": {
     "end_time": "2024-11-15T06:21:58.463298Z",
     "start_time": "2024-11-15T06:21:58.455512Z"
    }
   },
   "outputs": [
    {
     "name": "stdout",
     "output_type": "stream",
     "text": [
      "x : 1, y : 2\n",
      "x의 좌표값 : 1, y의 좌표값 :2\n"
     ]
    }
   ],
   "source": [
    "s = Shape(1, 2)\n",
    "print(s)\n",
    "s.print_info()\n",
    "# s.calc_area()"
   ]
  },
  {
   "cell_type": "code",
   "execution_count": 91,
   "id": "f72da19f",
   "metadata": {
    "ExecuteTime": {
     "end_time": "2024-11-15T06:21:58.973456Z",
     "start_time": "2024-11-15T06:21:58.967458Z"
    }
   },
   "outputs": [
    {
     "name": "stdout",
     "output_type": "stream",
     "text": [
      "x : 1, y : 2width : 10, height : 20, 객체의 갯수 : 1\n",
      "1\n"
     ]
    }
   ],
   "source": [
    "t = Triangle(10, 20, 1, 2)\n",
    "print(t.__str__())\n",
    "print(Triangle.get_count())"
   ]
  },
  {
   "cell_type": "code",
   "execution_count": 92,
   "id": "13fbe383",
   "metadata": {
    "ExecuteTime": {
     "end_time": "2024-11-15T07:14:43.193905Z",
     "start_time": "2024-11-15T07:14:43.186908Z"
    }
   },
   "outputs": [
    {
     "data": {
      "text/plain": [
       "'\\nclass Shape:\\n    def __init__(self, x=0, y=0):\\n        self.x = x\\n        self.y = y\\n    def __str__(self):\\n        return \"x좌표값:{}, y좌표값:{}\".format(self.x, self.y)\\n    def move(self, x, y):\\n        self.x += x\\n        self.y += y\\n    def calc_area(self): # 추상메소드 흉내(파이썬에서는 추상메소드는 없음)\\n        raise Exception(\"이 메소드는 반드시 구현되어야 합니다\")\\n    @staticmethod\\n    def staticmethod_():\\n        print(\"도형 클래스 staticmethod 호출\")\\n'"
      ]
     },
     "execution_count": 92,
     "metadata": {},
     "output_type": "execute_result"
    }
   ],
   "source": [
    "# 1.\n",
    "'''\n",
    "class Shape:\n",
    "    def __init__(self, x=0, y=0):\n",
    "        self.x = x\n",
    "        self.y = y\n",
    "    def __str__(self):\n",
    "        return \"x좌표값:{}, y좌표값:{}\".format(self.x, self.y)\n",
    "    def move(self, x, y):\n",
    "        self.x += x\n",
    "        self.y += y\n",
    "    def calc_area(self): # 추상메소드 흉내(파이썬에서는 추상메소드는 없음)\n",
    "        raise Exception(\"이 메소드는 반드시 구현되어야 합니다\")\n",
    "    @staticmethod\n",
    "    def staticmethod_():\n",
    "        print(\"도형 클래스 staticmethod 호출\")\n",
    "'''        "
   ]
  },
  {
   "cell_type": "code",
   "execution_count": 93,
   "id": "820ccb0e",
   "metadata": {
    "ExecuteTime": {
     "end_time": "2024-11-15T07:14:44.208080Z",
     "start_time": "2024-11-15T07:14:44.202083Z"
    }
   },
   "outputs": [
    {
     "data": {
      "text/plain": [
       "'\\ns = Shape(2,2)\\nprint(s)\\ns.move(10,5)\\nprint(s)\\n# s.calc_area() # 추상메소드역할을 하도록 하여 에러남\\n'"
      ]
     },
     "execution_count": 93,
     "metadata": {},
     "output_type": "execute_result"
    }
   ],
   "source": [
    "'''\n",
    "s = Shape(2,2)\n",
    "print(s)\n",
    "s.move(10,5)\n",
    "print(s)\n",
    "# s.calc_area() # 추상메소드역할을 하도록 하여 에러남\n",
    "'''"
   ]
  },
  {
   "cell_type": "code",
   "execution_count": 94,
   "id": "9ccfa409",
   "metadata": {
    "ExecuteTime": {
     "end_time": "2024-11-15T07:14:44.517413Z",
     "start_time": "2024-11-15T07:14:44.484685Z"
    }
   },
   "outputs": [
    {
     "data": {
      "text/plain": [
       "'\\nShape.staticmethod_()\\n'"
      ]
     },
     "execution_count": 94,
     "metadata": {},
     "output_type": "execute_result"
    }
   ],
   "source": [
    "'''\n",
    "Shape.staticmethod_()\n",
    "'''"
   ]
  },
  {
   "cell_type": "code",
   "execution_count": 95,
   "id": "1a18dd36",
   "metadata": {
    "ExecuteTime": {
     "end_time": "2024-11-15T07:14:44.700360Z",
     "start_time": "2024-11-15T07:14:44.684735Z"
    }
   },
   "outputs": [
    {
     "data": {
      "text/plain": [
       "'\\nclass Triangle(Shape):\\n    __count = 0\\n    def __init__(self, width, height, x=0, y=0):\\n        Triangle._Triangle__count += 1\\n        # Shape.__init__(self, x, y)\\n        super().__init__(x, y)\\n        self.width = width\\n        self.height = height    \\n    def __del__(self):\\n        Triangle._Triangle__count -= 1        \\n    def __str__(self):\\n        return super().__str__() +             \", width:{}, height:{}, area:{}\".            format(self.width, self.height, self.calc_area())    \\n    def calc_area(self):\\n        return (self.width*self.height)/2    \\n    @classmethod\\n    def get_count(cls):\\n        # return cls._Triangle__count\\n        # return cls.__count\\n        return Triangle._Triangle__count\\n'"
      ]
     },
     "execution_count": 95,
     "metadata": {},
     "output_type": "execute_result"
    }
   ],
   "source": [
    "'''\n",
    "class Triangle(Shape):\n",
    "    __count = 0\n",
    "    def __init__(self, width, height, x=0, y=0):\n",
    "        Triangle._Triangle__count += 1\n",
    "        # Shape.__init__(self, x, y)\n",
    "        super().__init__(x, y)\n",
    "        self.width = width\n",
    "        self.height = height    \n",
    "    def __del__(self):\n",
    "        Triangle._Triangle__count -= 1        \n",
    "    def __str__(self):\n",
    "        return super().__str__() + \\\n",
    "            \", width:{}, height:{}, area:{}\".\\\n",
    "            format(self.width, self.height, self.calc_area())    \n",
    "    def calc_area(self):\n",
    "        return (self.width*self.height)/2    \n",
    "    @classmethod\n",
    "    def get_count(cls):\n",
    "        # return cls._Triangle__count\n",
    "        # return cls.__count\n",
    "        return Triangle._Triangle__count\n",
    "'''"
   ]
  },
  {
   "cell_type": "code",
   "execution_count": 100,
   "id": "86fdad67",
   "metadata": {
    "ExecuteTime": {
     "end_time": "2024-11-15T07:18:07.877075Z",
     "start_time": "2024-11-15T07:18:07.871078Z"
    }
   },
   "outputs": [
    {
     "data": {
      "text/plain": [
       "'\\nt1 = Triangle(4, 3, y=10)\\nt2 = Triangle(10, 20)\\nt3 = Triangle(3, 4, x=1, y=2)\\nt4 = Triangle(3, 4, y=11, x=12)\\nt5 = Triangle(10, 5, 5)\\nprint(t1)\\nprint(t2)\\nprint(t3)\\nprint(t4)\\nprint(t5)\\n'"
      ]
     },
     "execution_count": 100,
     "metadata": {},
     "output_type": "execute_result"
    }
   ],
   "source": [
    "'''\n",
    "t1 = Triangle(4, 3, y=10)  # y만\n",
    "t2 = Triangle(10, 20)  # w, h만\n",
    "t3 = Triangle(3, 4, x=1, y=2)  # 순서인수\n",
    "t4 = Triangle(3, 4, y=11, x=12)  # 순서인수 변경 시 변수이름 명시\n",
    "t5 = Triangle(10, 5, 5)  # x만\n",
    "print(t1)\n",
    "print(t2)\n",
    "print(t3)\n",
    "print(t4)\n",
    "print(t5)\n",
    "'''"
   ]
  },
  {
   "cell_type": "code",
   "execution_count": 97,
   "id": "3d0f1eb7",
   "metadata": {
    "ExecuteTime": {
     "end_time": "2024-11-15T07:14:45.687427Z",
     "start_time": "2024-11-15T07:14:45.682505Z"
    }
   },
   "outputs": [
    {
     "data": {
      "text/plain": [
       "\"\\nprint('Triangle 객체 갯수 :', Triangle.get_count())\\n\""
      ]
     },
     "execution_count": 97,
     "metadata": {},
     "output_type": "execute_result"
    }
   ],
   "source": [
    "'''\n",
    "print('Triangle 객체 갯수 :', Triangle.get_count())\n",
    "'''"
   ]
  },
  {
   "cell_type": "code",
   "execution_count": 98,
   "id": "c14d7b1e",
   "metadata": {
    "ExecuteTime": {
     "end_time": "2024-11-15T07:14:46.018254Z",
     "start_time": "2024-11-15T07:14:46.005478Z"
    }
   },
   "outputs": [
    {
     "data": {
      "text/plain": [
       "\"\\nprint('이동 전 t1 :', t1)\\nt1.move(50,50)\\nprint('이동 후 t1 :', t1)\\n\""
      ]
     },
     "execution_count": 98,
     "metadata": {},
     "output_type": "execute_result"
    }
   ],
   "source": [
    "'''\n",
    "print('이동 전 t1 :', t1)\n",
    "t1.move(50,50)\n",
    "print('이동 후 t1 :', t1)\n",
    "'''"
   ]
  },
  {
   "cell_type": "code",
   "execution_count": 99,
   "id": "74dfccaf",
   "metadata": {
    "ExecuteTime": {
     "end_time": "2024-11-15T07:14:46.411596Z",
     "start_time": "2024-11-15T07:14:46.380349Z"
    }
   },
   "outputs": [
    {
     "data": {
      "text/plain": [
       "'\\ndel t2, t3, t4\\nTriangle.get_count()\\n'"
      ]
     },
     "execution_count": 99,
     "metadata": {},
     "output_type": "execute_result"
    }
   ],
   "source": [
    "'''\n",
    "del t2, t3, t4\n",
    "Triangle.get_count()\n",
    "'''"
   ]
  },
  {
   "cell_type": "code",
   "execution_count": 58,
   "id": "480efe4d",
   "metadata": {
    "ExecuteTime": {
     "end_time": "2024-11-15T06:10:39.985380Z",
     "start_time": "2024-11-15T06:10:39.981380Z"
    }
   },
   "outputs": [],
   "source": [
    "# 1. 다음 중 올바른 클래스 정의는? 1\n",
    "# ① class Person:\n",
    "# ② class Person():\n",
    "# ③ p1 = Person()\n",
    "# ④ def Person:"
   ]
  },
  {
   "cell_type": "code",
   "execution_count": 59,
   "id": "4c6b5fd1",
   "metadata": {
    "ExecuteTime": {
     "end_time": "2024-11-15T06:10:40.247883Z",
     "start_time": "2024-11-15T06:10:40.244887Z"
    }
   },
   "outputs": [],
   "source": [
    "# 2. 다음 중 Person클래스의 객체를 생성하는 올바른 방법은? 2\n",
    "# ① p1 = Person\n",
    "# ② p1 = Person()\n",
    "# ③ Person.p1\n",
    "# ④ p1 = Person.init.()"
   ]
  },
  {
   "cell_type": "code",
   "execution_count": 60,
   "id": "073895ec",
   "metadata": {
    "ExecuteTime": {
     "end_time": "2024-11-15T06:10:40.672458Z",
     "start_time": "2024-11-15T06:10:40.656833Z"
    }
   },
   "outputs": [],
   "source": [
    "# 3. 다음 중 인스턴스 메소드를 선언하는 가장 올바른 방법은? 4\n",
    "# ① def print_info():\n",
    "# ② @instancemethod d\n",
    "#   ef print_info():\n",
    "# ③ @method\n",
    "#   def print_info():\n",
    "# ④ def print_info(self):"
   ]
  },
  {
   "cell_type": "code",
   "execution_count": 61,
   "id": "b2229dfb",
   "metadata": {
    "ExecuteTime": {
     "end_time": "2024-11-15T06:10:41.072478Z",
     "start_time": "2024-11-15T06:10:41.056853Z"
    }
   },
   "outputs": [],
   "source": [
    "# 4. 다음 중 생성자와 소멸자에 대해 잘못 설명한 것은? 1\n",
    "# ① 생성자는 중복(Overloading) 정의해서 사용할 수 있다.\n",
    "# ② 소멸자는 객체 참조 수가 0이 되면 실행된다.\n",
    "# ③ 생성자의 원형은 __init__(self)이다.\n",
    "# ④ 생성자는 객체의 변수(또는 속성)를 초기화 하는데 사용한다."
   ]
  },
  {
   "cell_type": "code",
   "execution_count": 62,
   "id": "a9d06a32",
   "metadata": {
    "ExecuteTime": {
     "end_time": "2024-11-15T06:10:42.240649Z",
     "start_time": "2024-11-15T06:10:42.235850Z"
    }
   },
   "outputs": [],
   "source": [
    "# 5. 다음 중 'Student is a Person'을 클래스 상속으로 바르게 표현한 것은? 2\n",
    "# ① class Person(Student):\n",
    "# ② class Student(Person):\n",
    "# ③ class Person is Student:\n",
    "# ④ class Student: Person:"
   ]
  },
  {
   "cell_type": "code",
   "execution_count": 63,
   "id": "6a4b72ba",
   "metadata": {
    "ExecuteTime": {
     "end_time": "2024-11-15T06:10:42.415272Z",
     "start_time": "2024-11-15T06:10:42.412274Z"
    }
   },
   "outputs": [],
   "source": [
    "# 6. 다음 중 상속과 재정의(Overriding)에 대해 잘못 설명한 것은? 3\n",
    "# ① 부모클래스의 메소드를 자식클래스에서 정의하는 것을 '재정의'라고 한다.\n",
    "# ② 메소드의 재정의는 상속을 전제로 한다.\n",
    "# ③ 재정의는 메소드의 이름은 같고, 매개변수의 수는 다르게 정의해야 한다.\n",
    "# ④ super()를 이용하면 부모의 멤버를 호출할 수 있다."
   ]
  },
  {
   "cell_type": "code",
   "execution_count": 64,
   "id": "fff0ce70",
   "metadata": {
    "ExecuteTime": {
     "end_time": "2024-11-15T06:10:42.588954Z",
     "start_time": "2024-11-15T06:10:42.573327Z"
    }
   },
   "outputs": [],
   "source": [
    "# 7. 다음 클래스의 메소드를 호출하는 방법 중 잘못된 것은? 2\n",
    "# class SomeClass:\n",
    "#     def method_a(self):\n",
    "#         print('method_a')\n",
    "#     \n",
    "#     @classmethod\n",
    "#     def method_b(cls):\n",
    "#         print('method_b')\n",
    "# obj = SomeClass()\n",
    "# ① obj.method_a()\n",
    "# ② obj.method_b()  # 클래스메소드는 객체.method명 할 수 없음\n",
    "# ③ SomeClass.method_a()\n",
    "# ④ SomeClass.method_b()"
   ]
  },
  {
   "cell_type": "code",
   "execution_count": 65,
   "id": "5de0ccc7",
   "metadata": {
    "ExecuteTime": {
     "end_time": "2024-11-15T06:10:43.022966Z",
     "start_time": "2024-11-15T06:10:42.990158Z"
    }
   },
   "outputs": [],
   "source": [
    "# 8. 두 클래스와 코드의 실행결과가 다음과 같이 출력되도록 해야 한다면 빈 칸에 넣을 수 없는 것은? 3\n",
    "# class Super:\n",
    "#     def do_(self, a):\n",
    "#         print('super.do_')\n",
    "# class Sub(Super):\n",
    "#     def do_(self, a):\n",
    "#         ________________\n",
    "#         print('sub.do_')\n",
    "# s1 = Sub()\n",
    "# s1.do_(10)\n",
    "# super.do_\n",
    "# sub.do_\n",
    "# ① Super.do_(self, a)\n",
    "# ② super().do_(a)\n",
    "# ③ super.do_(a)"
   ]
  },
  {
   "cell_type": "code",
   "execution_count": 66,
   "id": "be11097d",
   "metadata": {
    "ExecuteTime": {
     "end_time": "2024-11-15T06:10:43.888570Z",
     "start_time": "2024-11-15T06:10:43.883573Z"
    }
   },
   "outputs": [],
   "source": [
    "# 9. 다음 중 파이썬의 특별한 용도로 정의되어 있는 속성과 메소드에 대한 설명 중 잘못된 것은? 2\n",
    "# ① __dict__ 속성을 이용하면 클래스의 멤버를 확인할 수 있다.\n",
    "# ② __str__() 메소드는 print()함수의 인자로 객체를 전달할 때 호출되는 메소드이다. 이 메소드는 매개변수를 가질 수 없다.\n",
    "# ③ __doc__ 속성은 독스트링을 갖는다.\n",
    "# ④ __init__() 메소드는 생성자를 정의할 때 사용한다."
   ]
  }
 ],
 "metadata": {
  "kernelspec": {
   "display_name": "Python 3 (ipykernel)",
   "language": "python",
   "name": "python3"
  },
  "language_info": {
   "codemirror_mode": {
    "name": "ipython",
    "version": 3
   },
   "file_extension": ".py",
   "mimetype": "text/x-python",
   "name": "python",
   "nbconvert_exporter": "python",
   "pygments_lexer": "ipython3",
   "version": "3.10.9"
  },
  "toc": {
   "base_numbering": 1,
   "nav_menu": {},
   "number_sections": true,
   "sideBar": true,
   "skip_h1_title": false,
   "title_cell": "Table of Contents",
   "title_sidebar": "Contents",
   "toc_cell": false,
   "toc_position": {
    "height": "calc(100% - 180px)",
    "left": "10px",
    "top": "150px",
    "width": "165px"
   },
   "toc_section_display": true,
   "toc_window_display": true
  }
 },
 "nbformat": 4,
 "nbformat_minor": 5
}
