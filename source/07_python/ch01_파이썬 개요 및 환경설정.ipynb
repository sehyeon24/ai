{
 "cells": [
  {
   "cell_type": "code",
   "execution_count": 2,
   "id": "fc6932a6",
   "metadata": {
    "ExecuteTime": {
     "end_time": "2024-11-04T07:14:23.143079Z",
     "start_time": "2024-11-04T07:14:23.132084Z"
    }
   },
   "outputs": [
    {
     "data": {
      "text/html": [
       "\n",
       "<style>\n",
       "div.container{width:80% !important;}\n",
       "div.prompt {min-width:70px;}\n",
       "div#toc-header{margin-top:150px;}\n",
       "span.toc-item-num{\n",
       "display:none;\n",
       "}\n",
       "</style>\n"
      ],
      "text/plain": [
       "<IPython.core.display.HTML object>"
      ]
     },
     "metadata": {},
     "output_type": "display_data"
    }
   ],
   "source": [
    "from IPython.display import display, HTML\n",
    "display(HTML(\"\"\"\n",
    "<style>\n",
    "div.container{width:80% !important;}\n",
    "div.prompt {min-width:70px;}\n",
    "div#toc-header{margin-top:150px;}\n",
    "span.toc-item-num{display:none;}\n",
    "</style>\n",
    "\"\"\"))"
   ]
  },
  {
   "cell_type": "code",
   "execution_count": null,
   "id": "7b4131d8",
   "metadata": {},
   "outputs": [],
   "source": [
    "import tensorflow as tf\n",
    "print(tf.__version__)\n",
    "tf.config.list_physical_devices('GPU')"
   ]
  },
  {
   "cell_type": "markdown",
   "id": "8b7b651f",
   "metadata": {},
   "source": [
    "<b><font size=\"6\" color=\"red\">ch01. 파이썬 개요 및 환경 설정</font></b>"
   ]
  },
  {
   "cell_type": "markdown",
   "id": "61bf4a87",
   "metadata": {},
   "source": [
    "# 1. 주피터 노트북 사용법\n",
    "- #+spacebar:큰제목(h1), ##+spacebar:h2\n",
    "- shift + Enter : 포커스된 셀이 실행되고, 커서가 다음 셀로 이동\n",
    "- alt + Enter : 포커스된 셀이 실행되고, 다음 셀이 생성된 후 다음 셀로 이동\n",
    "- ctrl + Enter : 포커스된 셀이 실행되고, 포커스 이동이 없음"
   ]
  },
  {
   "cell_type": "code",
   "execution_count": null,
   "id": "947f5104",
   "metadata": {
    "code_folding": []
   },
   "outputs": [],
   "source": [
    "# 셀 하나하나에 파이썬 실행 소스 입력 -> 실행 (#:주석)"
   ]
  },
  {
   "cell_type": "code",
   "execution_count": null,
   "id": "90c8be0f",
   "metadata": {},
   "outputs": [],
   "source": [
    "print(\"Hello, World\")\n",
    "# print : 화면에 출력"
   ]
  },
  {
   "cell_type": "code",
   "execution_count": null,
   "id": "59cbcbfe",
   "metadata": {
    "code_folding": []
   },
   "outputs": [],
   "source": [
    "a = 1   # 숫자\n",
    "b = \"2\" # 문자\n",
    "print(str(a) + b)\n",
    "print(a + int(b))\n",
    "# 맨 마지막은 print 생략 가능, print가 없으면 맨 마지막만 출력됨.\n",
    "# view 메뉴 > Show line Numbers 선택(Toggle Line Numbers)"
   ]
  },
  {
   "cell_type": "code",
   "execution_count": null,
   "id": "7f9dd828",
   "metadata": {
    "code_folding": []
   },
   "outputs": [],
   "source": [
    "# i가 range만큼까지 for문 수행\n",
    "# for i in range(1000000000000000000) :\n",
    "#     print(i)\n",
    "# 주석 : 블록지정 + ctrl + /\n",
    "# stop 기능\n",
    "# kernel 메뉴의 다양한 restart 기능"
   ]
  },
  {
   "cell_type": "code",
   "execution_count": 1,
   "id": "5a86b6b4",
   "metadata": {},
   "outputs": [
    {
     "data": {
      "text/plain": [
       "10"
      ]
     },
     "execution_count": 1,
     "metadata": {},
     "output_type": "execute_result"
    }
   ],
   "source": [
    "print = 10\n",
    "print\n",
    "# 함수가 아닌 변수가 됨"
   ]
  },
  {
   "cell_type": "code",
   "execution_count": 7,
   "id": "e995cae1",
   "metadata": {},
   "outputs": [],
   "source": [
    "# print('Hello, World')\n",
    "# 에러(실수로 할당된 print변수를 삭제해야 함)\n",
    "# 방법1. 변수 삭제\n",
    "del print\n",
    "# 방법2. kernel 재시작"
   ]
  },
  {
   "cell_type": "code",
   "execution_count": 8,
   "id": "13d5f12f",
   "metadata": {},
   "outputs": [
    {
     "name": "stdout",
     "output_type": "stream",
     "text": [
      "Hello, World\n"
     ]
    }
   ],
   "source": [
    "print('Hello, World')"
   ]
  },
  {
   "cell_type": "markdown",
   "id": "d8b77a56",
   "metadata": {},
   "source": [
    "# 2. ESC키 누르고 (핫키)\n",
    "- dd : 셀 삭제\n",
    "- a : 윗셀 추가\n",
    "- b : 아랫셀 추가\n",
    "- m : 마크다운셀(문서셀)로 변경\n",
    "- y : 코드셀(소스셀)로 변경\n",
    "- h : 핫키 안내\n",
    "- o : 실행결과 접기"
   ]
  },
  {
   "cell_type": "markdown",
   "id": "6dd8d5bc",
   "metadata": {},
   "source": [
    "# 3. 마크다운이란?\n",
    "- 코드와 함께 `문서화`를 할 수 있습니다.\n",
    "- 다양한 문서화 문법이 있습니다."
   ]
  },
  {
   "cell_type": "code",
   "execution_count": 1,
   "id": "35b4f782",
   "metadata": {
    "ExecuteTime": {
     "end_time": "2024-11-04T06:57:25.521314Z",
     "start_time": "2024-11-04T06:57:25.469412Z"
    }
   },
   "outputs": [
    {
     "name": "stdout",
     "output_type": "stream",
     "text": [
      " D 드라이브의 볼륨: 새 볼륨\n",
      " 볼륨 일련 번호: EC0C-568F\n",
      "\n",
      " D:\\imsehyeon\\source\\07_python 디렉터리\n",
      "\n",
      "2024-11-04  오후 03:57    <DIR>          .\n",
      "2024-11-04  오후 03:57    <DIR>          ..\n",
      "2024-11-04  오후 02:33    <DIR>          .ipynb_checkpoints\n",
      "2024-11-04  오후 03:57             5,380 ch01_파이썬 개요 및 환경설정.ipynb\n",
      "               1개 파일               5,380 바이트\n",
      "               3개 디렉터리  235,590,848,512 바이트 남음\n"
     ]
    }
   ],
   "source": [
    "# 주피터 노트북에서 cmd명령어(프롬프트 창에서 실행할 명령어)를 실행\n",
    "! dir"
   ]
  }
 ],
 "metadata": {
  "kernelspec": {
   "display_name": "Python 3 (ipykernel)",
   "language": "python",
   "name": "python3"
  },
  "language_info": {
   "codemirror_mode": {
    "name": "ipython",
    "version": 3
   },
   "file_extension": ".py",
   "mimetype": "text/x-python",
   "name": "python",
   "nbconvert_exporter": "python",
   "pygments_lexer": "ipython3",
   "version": "3.10.9"
  },
  "toc": {
   "base_numbering": 1,
   "nav_menu": {},
   "number_sections": true,
   "sideBar": true,
   "skip_h1_title": false,
   "title_cell": "Table of Contents",
   "title_sidebar": "Contents",
   "toc_cell": false,
   "toc_position": {
    "height": "calc(100% - 180px)",
    "left": "10px",
    "top": "150px",
    "width": "223.457px"
   },
   "toc_section_display": true,
   "toc_window_display": true
  }
 },
 "nbformat": 4,
 "nbformat_minor": 5
}
