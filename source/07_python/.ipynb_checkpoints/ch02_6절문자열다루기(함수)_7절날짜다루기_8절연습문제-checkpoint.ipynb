{
 "cells": [
  {
   "cell_type": "code",
   "execution_count": 1,
   "id": "c26d2615",
   "metadata": {
    "ExecuteTime": {
     "end_time": "2024-11-05T07:33:59.858705Z",
     "start_time": "2024-11-05T07:33:59.847836Z"
    }
   },
   "outputs": [
    {
     "data": {
      "text/html": [
       "\n",
       "<style>\n",
       "div.container{width:80% !important;}\n",
       "div.prompt {min-width:70px;}\n",
       "div#toc-header{margin-top:150px;}\n",
       "span.toc-item-num{display:none;}\n",
       "</style>\n"
      ],
      "text/plain": [
       "<IPython.core.display.HTML object>"
      ]
     },
     "metadata": {},
     "output_type": "display_data"
    }
   ],
   "source": [
    "from IPython.display import display, HTML\n",
    "display(HTML(\"\"\"\n",
    "<style>\n",
    "div.container{width:80% !important;}\n",
    "div.prompt {min-width:70px;}\n",
    "div#toc-header{margin-top:150px;}\n",
    "span.toc-item-num{display:none;}\n",
    "</style>\n",
    "\"\"\"))"
   ]
  },
  {
   "cell_type": "markdown",
   "id": "ef9fb74e",
   "metadata": {
    "ExecuteTime": {
     "end_time": "2024-11-05T07:34:10.931120Z",
     "start_time": "2024-11-05T07:34:10.925123Z"
    }
   },
   "source": [
    "<b><font size=\"6\" color=\"red\">ch02. 자료형과 연산자</font></b>"
   ]
  },
  {
   "cell_type": "markdown",
   "id": "714e8974",
   "metadata": {},
   "source": [
    "# 6절. 문자열 다루기\n",
    "- 문자열슬라이싱변수[from:to(stop):by(step)]\n",
    "- len(문자열변수)\n",
    "- upper() : 대문자로\n",
    "- lower() : 소문자로\n",
    "- title() : 각 어절의 앞글자만 대문자로\n",
    "- capitalize() : 첫 문자만 대문자로\n",
    "- count('찾을문자열') : '찾을문자열'이 몇 개 들어오는지 갯수를 반환\n",
    "- find('찾을문자열') : '찾을문자열'이 왼쪽부터 시작해 몇 번째에 있는지 index를 반환(자바indexOf)\n",
    "- rfind('찾을문자열') : '찾을문자열'이 오른쪽부터 시작해 몇 번째에 있는지 index를 반환(자바lastIndexOf)\n",
    "                        (찾을 문자열이 없으면 -1을 반환)\n",
    "    cf. index('찾을문자열') : '찾을문자열'이 왼쪽부터 시작해 몇 번째에 있는지 index를 반환\n",
    "                              (찾을 문자열이 없으면 오류)\n",
    "- startswith('특정문자열') : '특정문자열'로 시작하는지 여부를 반환                            \n",
    "- endswith('특정문자열') : '특정문자열'로 끝나는지 여부를 반환     \n",
    "- strip() : 좌우 공백제거(trim)\n",
    "- rstrip() : 오른쪽 공백제거\n",
    "- lstrip() : 왼쪽 공백제거\n",
    "- split() : 문자열을 공백이나 다른 문자 기준으로 나눠 리스트로 반환\n",
    "- isdigit() : 문자열이 숫자문자열인지 여부를 반환\n",
    "- islower() : 문자열이 소문자인지 여부를 반환\n",
    "- isupper() : 문자열이 대문자인지 여부를 반환\n",
    "- replace(oldStr, newStr) : oldStr을 newStr로 변경"
   ]
  },
  {
   "cell_type": "code",
   "execution_count": 3,
   "id": "e928b05f",
   "metadata": {
    "ExecuteTime": {
     "end_time": "2024-11-05T07:53:21.043507Z",
     "start_time": "2024-11-05T07:53:21.037508Z"
    }
   },
   "outputs": [
    {
     "data": {
      "text/plain": [
       "('python is easy. python is smart. python', 39)"
      ]
     },
     "execution_count": 3,
     "metadata": {},
     "output_type": "execute_result"
    }
   ],
   "source": [
    "temp = \"python is easy. python is smart. python\"\n",
    "temp, len(temp)"
   ]
  },
  {
   "cell_type": "code",
   "execution_count": 4,
   "id": "628c678d",
   "metadata": {
    "ExecuteTime": {
     "end_time": "2024-11-05T07:54:42.007307Z",
     "start_time": "2024-11-05T07:54:42.002310Z"
    }
   },
   "outputs": [
    {
     "name": "stdout",
     "output_type": "stream",
     "text": [
      "첫 번째 글자는 p이고, 마지막 글자는 n입니다\n"
     ]
    }
   ],
   "source": [
    "print('첫 번째 글자는 {}이고, 마지막 글자는 {}입니다'.format(temp[0], temp[-1]))"
   ]
  },
  {
   "cell_type": "code",
   "execution_count": 5,
   "id": "ef3fb724",
   "metadata": {
    "ExecuteTime": {
     "end_time": "2024-11-05T07:55:37.622442Z",
     "start_time": "2024-11-05T07:55:37.617444Z"
    }
   },
   "outputs": [
    {
     "name": "stdout",
     "output_type": "stream",
     "text": [
      "전화번호 끝자리 : 2132\n"
     ]
    }
   ],
   "source": [
    "tel = \"010-7894-2132\"\n",
    "print('전화번호 끝자리 :', tel[-4:])  # -4째 자리부터 끝까지"
   ]
  },
  {
   "cell_type": "code",
   "execution_count": 32,
   "id": "eca6bf65",
   "metadata": {
    "ExecuteTime": {
     "end_time": "2024-11-05T08:24:30.356619Z",
     "start_time": "2024-11-05T08:24:30.345745Z"
    }
   },
   "outputs": [
    {
     "name": "stdout",
     "output_type": "stream",
     "text": [
      "대문자로 : PYTHON IS EASY. PYTHON IS SMART. PYTHON\n",
      "소문자로 : python is easy. python is smart. python\n",
      "title() : Python Is Easy. Python Is Smart. Python\n",
      "capitalize() : Python is easy. python is smart. python\n",
      "python이 몇 번 나오는지 : 2 0\n",
      "대소문자 구분없이 python이 몇 번 나오는지 : 3\n",
      "대소문자 구분없이 python이 몇 번 나오는지 : 3\n",
      "대소문자 구분없이 python이 몇 번 나오는지 : 3\n",
      "python이 나오는 첫 index 위치 : 0 번 index\n",
      "python이 나오는 마지막 index 위치 : 33 번 index\n",
      "Java가 나오는 첫 index 위치 : -1\n",
      "python이 나오는 첫 index 위치 : 0\n",
      "python으로 시작하는 문자열인지 여부 : False\n",
      "python으로 끝나는 문자열인지 여부 : True\n",
      "python 대신 R로 변경 : R is easy. pyTHon is SMART. R\n",
      "python 대신 R로 변경 : R is easy. R is SMART. R\n"
     ]
    }
   ],
   "source": [
    "temp = \"python is easy. pyTHon is SMART. python\"\n",
    "#       012345678901234567890123456789012345678\n",
    "print('대문자로 :', temp.upper())\n",
    "print('소문자로 :', temp.lower())\n",
    "print('title() :', temp.title())\n",
    "print('capitalize() :', temp.capitalize())\n",
    "print('python이 몇 번 나오는지 :', temp.count('python'), temp.count('Python'))  # 대소문자 구분\n",
    "print('대소문자 구분없이 python이 몇 번 나오는지 :', temp.upper().count('PYTHON'))\n",
    "print('대소문자 구분없이 python이 몇 번 나오는지 :', temp.lower().count('python'))\n",
    "print('대소문자 구분없이 python이 몇 번 나오는지 :', temp.title().count('Python'))\n",
    "print('python이 나오는 첫 index 위치 :', temp.find('python'), '번 index')  # 대소문자 구분 X\n",
    "print('python이 나오는 마지막 index 위치 :', temp.rfind('python'), '번 index')\n",
    "print('Java가 나오는 첫 index 위치 :', temp.find('Java'))\n",
    "print('python이 나오는 첫 index 위치 :', temp.index('python'))\n",
    "# print('Java가 나오는 첫 index 위치 :', temp.index('Java')) 에러\n",
    "print('python으로 시작하는 문자열인지 여부 :', temp.startswith('Python'))  # 대소문자 구분\n",
    "print('python으로 끝나는 문자열인지 여부 :', temp.endswith('python'))\n",
    "print('python 대신 R로 변경 :', temp.replace('python', 'R'))  # 대소문자 구분\n",
    "print('python 대신 R로 변경 :', temp.replace('python', 'R').replace('pyTHon', 'R'))"
   ]
  },
  {
   "cell_type": "code",
   "execution_count": 48,
   "id": "84eab94e",
   "metadata": {
    "ExecuteTime": {
     "end_time": "2024-11-05T08:32:45.332682Z",
     "start_time": "2024-11-05T08:32:45.325454Z"
    }
   },
   "outputs": [
    {
     "name": "stdout",
     "output_type": "stream",
     "text": [
      "strip() : python is easy\n",
      "strip() : [python is easy]\n",
      "lstrip() : [python is easy    ]\n",
      "rstrip() : [    python is easy]\n",
      "isdigit() : False\n",
      "isdigit() : False\n",
      "isdigit() : True\n",
      "대문자인지 : False\n",
      "소문자인지 : True\n"
     ]
    }
   ],
   "source": [
    "temp = '    python is easy    '\n",
    "notdigit = '1,234'\n",
    "print('strip() :', temp.strip())\n",
    "print('strip() : [{}]'.format(temp.strip()))\n",
    "print('lstrip() : [{}]'.format(temp.lstrip()))\n",
    "print('rstrip() : [{}]'.format(temp.rstrip()))\n",
    "print('isdigit() :', temp.isdigit())\n",
    "print('isdigit() : {}'.format(notdigit.isdigit()))\n",
    "print('isdigit() : {}'.format(notdigit.replace(',', '').isdigit()))\n",
    "print('대문자인지 : {}'.format(temp.isupper()))  # 대소문자 섞여있으면 False\n",
    "print('소문자인지 : {}'.format(temp.islower()))  # 대소문자 섞여있으면 False"
   ]
  },
  {
   "cell_type": "code",
   "execution_count": 49,
   "id": "b4c06d0e",
   "metadata": {
    "ExecuteTime": {
     "end_time": "2024-11-05T08:35:49.480907Z",
     "start_time": "2024-11-05T08:35:49.475270Z"
    }
   },
   "outputs": [
    {
     "name": "stdout",
     "output_type": "stream",
     "text": [
      "space 단위로 temp(문자열)를 분리(list로 반환) : ['홍길동', '김길동', '신길똥', '유길뚱']\n"
     ]
    }
   ],
   "source": [
    "# split()\n",
    "temp = '    홍길동    김길동 신길똥 유길뚱'  # space 크기는 구분 X\n",
    "print('space 단위로 temp(문자열)를 분리(list로 반환) :', temp.split())"
   ]
  },
  {
   "cell_type": "code",
   "execution_count": 52,
   "id": "445a9656",
   "metadata": {
    "ExecuteTime": {
     "end_time": "2024-11-05T08:40:01.406621Z",
     "start_time": "2024-11-05T08:40:01.400620Z"
    }
   },
   "outputs": [
    {
     "name": "stdout",
     "output_type": "stream",
     "text": [
      "- 단위로 date를 분리(list로 반환)합니다\n",
      "년 : 2024\n",
      "월 : 11\n",
      "일 : 05\n"
     ]
    }
   ],
   "source": [
    "# split\n",
    "date = '2024-11-05'\n",
    "print('- 단위로 date를 분리(list로 반환)합니다')\n",
    "date_list = date.split('-')\n",
    "date_list\n",
    "print('년 :', date_list[0])\n",
    "print('월 :', date_list[1])\n",
    "print('일 :', date_list[2])"
   ]
  },
  {
   "cell_type": "code",
   "execution_count": 68,
   "id": "d0d7f5f2",
   "metadata": {
    "ExecuteTime": {
     "end_time": "2024-11-05T08:49:16.010627Z",
     "start_time": "2024-11-05T08:49:16.003630Z"
    }
   },
   "outputs": [
    {
     "name": "stdout",
     "output_type": "stream",
     "text": [
      "원본 temp : Java - Oracle - 웹표준 - JSP - PYTHON\n",
      "분리된 temp : ['Java', 'Oracle', '웹표준', 'JSP', 'PYTHON']\n",
      "joined_temp : Java/Oracle/웹표준/JSP/PYTHON\n",
      "Java/Oracle/웹표준/JSP/PYTHON\n"
     ]
    }
   ],
   "source": [
    "# ' - '을 '/'로 바꾸기 (replace 대신)\n",
    "temp = 'Java - Oracle - 웹표준 - JSP - PYTHON'\n",
    "print('원본 temp :', temp)\n",
    "splited_temp = temp.split(' - ')\n",
    "print('분리된 temp :', splited_temp)\n",
    "joined_temp = '/'.join(splited_temp)\n",
    "print('joined_temp :', joined_temp)\n",
    "print(temp.replace(' - ', '/'))"
   ]
  },
  {
   "cell_type": "code",
   "execution_count": 69,
   "id": "58e96b4b",
   "metadata": {
    "ExecuteTime": {
     "end_time": "2024-11-05T08:50:35.153839Z",
     "start_time": "2024-11-05T08:50:35.147227Z"
    }
   },
   "outputs": [
    {
     "name": "stdout",
     "output_type": "stream",
     "text": [
      "A\n",
      "B\n",
      "C\n"
     ]
    }
   ],
   "source": [
    "str_ = 'ABC'  # ['A', 'B', 'C'] list\n",
    "for s in str_:\n",
    "    print(s)"
   ]
  },
  {
   "cell_type": "code",
   "execution_count": 70,
   "id": "634e0a54",
   "metadata": {
    "ExecuteTime": {
     "end_time": "2024-11-05T08:51:31.800914Z",
     "start_time": "2024-11-05T08:51:31.795916Z"
    }
   },
   "outputs": [
    {
     "name": "stdout",
     "output_type": "stream",
     "text": [
      "A\n",
      "B\n",
      "C\n"
     ]
    }
   ],
   "source": [
    "str_list = ['A', 'B', 'C']\n",
    "for s in str_list:\n",
    "    print(s)"
   ]
  },
  {
   "cell_type": "code",
   "execution_count": 72,
   "id": "652fecab",
   "metadata": {
    "ExecuteTime": {
     "end_time": "2024-11-05T08:52:23.425539Z",
     "start_time": "2024-11-05T08:52:23.417867Z"
    }
   },
   "outputs": [
    {
     "data": {
      "text/plain": [
       "['__add__',\n",
       " '__class__',\n",
       " '__contains__',\n",
       " '__delattr__',\n",
       " '__dir__',\n",
       " '__doc__',\n",
       " '__eq__',\n",
       " '__format__',\n",
       " '__ge__',\n",
       " '__getattribute__',\n",
       " '__getitem__',\n",
       " '__getnewargs__',\n",
       " '__gt__',\n",
       " '__hash__',\n",
       " '__init__',\n",
       " '__init_subclass__',\n",
       " '__iter__',\n",
       " '__le__',\n",
       " '__len__',\n",
       " '__lt__',\n",
       " '__mod__',\n",
       " '__mul__',\n",
       " '__ne__',\n",
       " '__new__',\n",
       " '__reduce__',\n",
       " '__reduce_ex__',\n",
       " '__repr__',\n",
       " '__rmod__',\n",
       " '__rmul__',\n",
       " '__setattr__',\n",
       " '__sizeof__',\n",
       " '__str__',\n",
       " '__subclasshook__',\n",
       " 'capitalize',\n",
       " 'casefold',\n",
       " 'center',\n",
       " 'count',\n",
       " 'encode',\n",
       " 'endswith',\n",
       " 'expandtabs',\n",
       " 'find',\n",
       " 'format',\n",
       " 'format_map',\n",
       " 'index',\n",
       " 'isalnum',\n",
       " 'isalpha',\n",
       " 'isascii',\n",
       " 'isdecimal',\n",
       " 'isdigit',\n",
       " 'isidentifier',\n",
       " 'islower',\n",
       " 'isnumeric',\n",
       " 'isprintable',\n",
       " 'isspace',\n",
       " 'istitle',\n",
       " 'isupper',\n",
       " 'join',\n",
       " 'ljust',\n",
       " 'lower',\n",
       " 'lstrip',\n",
       " 'maketrans',\n",
       " 'partition',\n",
       " 'removeprefix',\n",
       " 'removesuffix',\n",
       " 'replace',\n",
       " 'rfind',\n",
       " 'rindex',\n",
       " 'rjust',\n",
       " 'rpartition',\n",
       " 'rsplit',\n",
       " 'rstrip',\n",
       " 'split',\n",
       " 'splitlines',\n",
       " 'startswith',\n",
       " 'strip',\n",
       " 'swapcase',\n",
       " 'title',\n",
       " 'translate',\n",
       " 'upper',\n",
       " 'zfill']"
      ]
     },
     "execution_count": 72,
     "metadata": {},
     "output_type": "execute_result"
    }
   ],
   "source": [
    "# 문자열을 다룰 수 있는 함수들 목록\n",
    "dir(str)  # str:타입"
   ]
  },
  {
   "cell_type": "code",
   "execution_count": null,
   "id": "c74285d8",
   "metadata": {},
   "outputs": [],
   "source": []
  }
 ],
 "metadata": {
  "kernelspec": {
   "display_name": "Python 3 (ipykernel)",
   "language": "python",
   "name": "python3"
  },
  "language_info": {
   "codemirror_mode": {
    "name": "ipython",
    "version": 3
   },
   "file_extension": ".py",
   "mimetype": "text/x-python",
   "name": "python",
   "nbconvert_exporter": "python",
   "pygments_lexer": "ipython3",
   "version": "3.10.9"
  },
  "toc": {
   "base_numbering": 1,
   "nav_menu": {},
   "number_sections": true,
   "sideBar": true,
   "skip_h1_title": false,
   "title_cell": "Table of Contents",
   "title_sidebar": "Contents",
   "toc_cell": false,
   "toc_position": {
    "height": "calc(100% - 180px)",
    "left": "10px",
    "top": "150px",
    "width": "165px"
   },
   "toc_section_display": true,
   "toc_window_display": true
  }
 },
 "nbformat": 4,
 "nbformat_minor": 5
}
