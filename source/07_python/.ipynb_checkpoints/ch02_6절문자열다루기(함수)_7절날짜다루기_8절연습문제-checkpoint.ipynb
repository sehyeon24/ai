{
 "cells": [
  {
   "cell_type": "code",
   "execution_count": 1,
   "id": "c26d2615",
   "metadata": {
    "ExecuteTime": {
     "end_time": "2024-11-06T02:38:44.445421Z",
     "start_time": "2024-11-06T02:38:44.433701Z"
    }
   },
   "outputs": [
    {
     "data": {
      "text/html": [
       "\n",
       "<style>\n",
       "div.container{width:80% !important;}\n",
       "div.prompt {min-width:70px;}\n",
       "div#toc-header{margin-top:150px;}\n",
       "span.toc-item-num{display:none;}\n",
       "</style>\n"
      ],
      "text/plain": [
       "<IPython.core.display.HTML object>"
      ]
     },
     "metadata": {},
     "output_type": "display_data"
    }
   ],
   "source": [
    "from IPython.display import display, HTML\n",
    "display(HTML(\"\"\"\n",
    "<style>\n",
    "div.container{width:80% !important;}\n",
    "div.prompt {min-width:70px;}\n",
    "div#toc-header{margin-top:150px;}\n",
    "span.toc-item-num{display:none;}\n",
    "</style>\n",
    "\"\"\"))"
   ]
  },
  {
   "cell_type": "markdown",
   "id": "ef9fb74e",
   "metadata": {
    "ExecuteTime": {
     "end_time": "2024-11-05T07:34:10.931120Z",
     "start_time": "2024-11-05T07:34:10.925123Z"
    }
   },
   "source": [
    "<b><font size=\"6\" color=\"red\">ch02. 자료형과 연산자</font></b>"
   ]
  },
  {
   "cell_type": "markdown",
   "id": "714e8974",
   "metadata": {},
   "source": [
    "# 6절. 문자열 다루기\n",
    "- 문자열슬라이싱변수[from:to(stop):by(step)]\n",
    "- len(문자열변수)\n",
    "- upper() : 대문자로\n",
    "- lower() : 소문자로\n",
    "- title() : 각 어절의 앞글자만 대문자로\n",
    "- capitalize() : 첫 문자만 대문자로\n",
    "- count('찾을문자열') : '찾을문자열'이 몇 개 들어오는지 갯수를 반환\n",
    "- find('찾을문자열') : '찾을문자열'이 왼쪽부터 시작해 몇 번째에 있는지 index를 반환(자바indexOf)\n",
    "- rfind('찾을문자열') : '찾을문자열'이 오른쪽부터 시작해 몇 번째에 있는지 index를 반환(자바lastIndexOf)\n",
    "                        (찾을 문자열이 없으면 -1을 반환)\n",
    "    cf. index('찾을문자열') : '찾을문자열'이 왼쪽부터 시작해 몇 번째에 있는지 index를 반환\n",
    "                              (찾을 문자열이 없으면 오류)\n",
    "- startswith('특정문자열') : '특정문자열'로 시작하는지 여부를 반환                            \n",
    "- endswith('특정문자열') : '특정문자열'로 끝나는지 여부를 반환     \n",
    "- strip() : 좌우 공백제거(trim)\n",
    "- rstrip() : 오른쪽 공백제거\n",
    "- lstrip() : 왼쪽 공백제거\n",
    "- split() : 문자열을 공백이나 다른 문자 기준으로 나눠 리스트로 반환\n",
    "- isdigit() : 문자열이 숫자문자열인지 여부를 반환\n",
    "- islower() : 문자열이 소문자인지 여부를 반환\n",
    "- isupper() : 문자열이 대문자인지 여부를 반환\n",
    "- replace(oldStr, newStr) : oldStr을 newStr로 변경"
   ]
  },
  {
   "cell_type": "code",
   "execution_count": 2,
   "id": "e928b05f",
   "metadata": {
    "ExecuteTime": {
     "end_time": "2024-11-06T02:38:44.454413Z",
     "start_time": "2024-11-06T02:38:44.448416Z"
    }
   },
   "outputs": [
    {
     "data": {
      "text/plain": [
       "('python is easy. python is smart. python', 39)"
      ]
     },
     "execution_count": 2,
     "metadata": {},
     "output_type": "execute_result"
    }
   ],
   "source": [
    "temp = \"python is easy. python is smart. python\"\n",
    "temp, len(temp)"
   ]
  },
  {
   "cell_type": "code",
   "execution_count": 3,
   "id": "628c678d",
   "metadata": {
    "ExecuteTime": {
     "end_time": "2024-11-06T02:38:44.465019Z",
     "start_time": "2024-11-06T02:38:44.456413Z"
    }
   },
   "outputs": [
    {
     "name": "stdout",
     "output_type": "stream",
     "text": [
      "첫 번째 글자는 p이고, 마지막 글자는 n입니다\n"
     ]
    }
   ],
   "source": [
    "print('첫 번째 글자는 {}이고, 마지막 글자는 {}입니다'.format(temp[0], temp[-1]))"
   ]
  },
  {
   "cell_type": "code",
   "execution_count": 1,
   "id": "ef3fb724",
   "metadata": {
    "ExecuteTime": {
     "end_time": "2024-11-06T02:42:20.974523Z",
     "start_time": "2024-11-06T02:42:20.967526Z"
    }
   },
   "outputs": [
    {
     "name": "stdout",
     "output_type": "stream",
     "text": [
      "전화번호 끝자리 : 2132\n"
     ]
    }
   ],
   "source": [
    "tel = \"010-7894-2132\"\n",
    "print('전화번호 끝자리 :', tel[-4:])  # -4째 자리부터 끝까지"
   ]
  },
  {
   "cell_type": "code",
   "execution_count": 5,
   "id": "eca6bf65",
   "metadata": {
    "ExecuteTime": {
     "end_time": "2024-11-06T02:38:44.507937Z",
     "start_time": "2024-11-06T02:38:44.480837Z"
    }
   },
   "outputs": [
    {
     "name": "stdout",
     "output_type": "stream",
     "text": [
      "대문자로 : PYTHON IS EASY. PYTHON IS SMART. PYTHON\n",
      "소문자로 : python is easy. python is smart. python\n",
      "title() : Python Is Easy. Python Is Smart. Python\n",
      "capitalize() : Python is easy. python is smart. python\n",
      "python이 몇 번 나오는지 : 2 0\n",
      "대소문자 구분없이 python이 몇 번 나오는지 : 3\n",
      "대소문자 구분없이 python이 몇 번 나오는지 : 3\n",
      "대소문자 구분없이 python이 몇 번 나오는지 : 3\n",
      "python이 나오는 첫 index 위치 : 0 번 index\n",
      "python이 나오는 마지막 index 위치 : 33 번 index\n",
      "Java가 나오는 첫 index 위치 : -1\n",
      "python이 나오는 첫 index 위치 : 0\n",
      "python으로 시작하는 문자열인지 여부 : False\n",
      "python으로 끝나는 문자열인지 여부 : True\n",
      "python 대신 R로 변경 : R is easy. pyTHon is SMART. R\n",
      "python 대신 R로 변경 : R is easy. R is SMART. R\n"
     ]
    }
   ],
   "source": [
    "temp = \"python is easy. pyTHon is SMART. python\"\n",
    "#       012345678901234567890123456789012345678\n",
    "print('대문자로 :', temp.upper())\n",
    "print('소문자로 :', temp.lower())\n",
    "print('title() :', temp.title())\n",
    "print('capitalize() :', temp.capitalize())\n",
    "print('python이 몇 번 나오는지 :', temp.count('python'), temp.count('Python'))  # 대소문자 구분\n",
    "print('대소문자 구분없이 python이 몇 번 나오는지 :', temp.upper().count('PYTHON'))\n",
    "print('대소문자 구분없이 python이 몇 번 나오는지 :', temp.lower().count('python'))\n",
    "print('대소문자 구분없이 python이 몇 번 나오는지 :', temp.title().count('Python'))\n",
    "print('python이 나오는 첫 index 위치 :', temp.find('python'), '번 index')  # 대소문자 구분 X\n",
    "print('python이 나오는 마지막 index 위치 :', temp.rfind('python'), '번 index')\n",
    "print('Java가 나오는 첫 index 위치 :', temp.find('Java'))\n",
    "print('python이 나오는 첫 index 위치 :', temp.index('python'))\n",
    "# print('Java가 나오는 첫 index 위치 :', temp.index('Java')) 에러\n",
    "print('python으로 시작하는 문자열인지 여부 :', temp.startswith('Python'))  # 대소문자 구분\n",
    "print('python으로 끝나는 문자열인지 여부 :', temp.endswith('python'))\n",
    "print('python 대신 R로 변경 :', temp.replace('python', 'R'))  # 대소문자 구분\n",
    "print('python 대신 R로 변경 :', temp.replace('python', 'R').replace('pyTHon', 'R'))"
   ]
  },
  {
   "cell_type": "code",
   "execution_count": 6,
   "id": "84eab94e",
   "metadata": {
    "ExecuteTime": {
     "end_time": "2024-11-06T02:38:44.520931Z",
     "start_time": "2024-11-06T02:38:44.511935Z"
    }
   },
   "outputs": [
    {
     "name": "stdout",
     "output_type": "stream",
     "text": [
      "strip() : python is easy\n",
      "strip() : [python is easy]\n",
      "lstrip() : [python is easy    ]\n",
      "rstrip() : [    python is easy]\n",
      "isdigit() : False\n",
      "isdigit() : False\n",
      "isdigit() : True\n",
      "대문자인지 : False\n",
      "소문자인지 : True\n"
     ]
    }
   ],
   "source": [
    "temp = '    python is easy    '\n",
    "notdigit = '1,234'\n",
    "print('strip() :', temp.strip())\n",
    "print('strip() : [{}]'.format(temp.strip()))\n",
    "print('lstrip() : [{}]'.format(temp.lstrip()))\n",
    "print('rstrip() : [{}]'.format(temp.rstrip()))\n",
    "print('isdigit() :', temp.isdigit())\n",
    "print('isdigit() : {}'.format(notdigit.isdigit()))\n",
    "print('isdigit() : {}'.format(notdigit.replace(',', '').isdigit()))\n",
    "print('대문자인지 : {}'.format(temp.isupper()))  # 대소문자 섞여있으면 False\n",
    "print('소문자인지 : {}'.format(temp.islower()))  # 대소문자 섞여있으면 False"
   ]
  },
  {
   "cell_type": "code",
   "execution_count": 7,
   "id": "b4c06d0e",
   "metadata": {
    "ExecuteTime": {
     "end_time": "2024-11-06T02:38:44.529674Z",
     "start_time": "2024-11-06T02:38:44.522931Z"
    }
   },
   "outputs": [
    {
     "name": "stdout",
     "output_type": "stream",
     "text": [
      "space 단위로 temp(문자열)를 분리(list로 반환) : ['홍길동', '김길동', '신길똥', '유길뚱']\n"
     ]
    }
   ],
   "source": [
    "# split()\n",
    "temp = '    홍길동    김길동 신길똥 유길뚱'  # space 크기는 구분 X\n",
    "print('space 단위로 temp(문자열)를 분리(list로 반환) :', temp.split())"
   ]
  },
  {
   "cell_type": "code",
   "execution_count": 8,
   "id": "445a9656",
   "metadata": {
    "ExecuteTime": {
     "end_time": "2024-11-06T02:38:44.537672Z",
     "start_time": "2024-11-06T02:38:44.532673Z"
    }
   },
   "outputs": [
    {
     "name": "stdout",
     "output_type": "stream",
     "text": [
      "- 단위로 date를 분리(list로 반환)합니다\n",
      "년 : 2024\n",
      "월 : 11\n",
      "일 : 05\n"
     ]
    }
   ],
   "source": [
    "# split\n",
    "date = '2024-11-05'\n",
    "print('- 단위로 date를 분리(list로 반환)합니다')\n",
    "date_list = date.split('-')\n",
    "date_list\n",
    "print('년 :', date_list[0])\n",
    "print('월 :', date_list[1])\n",
    "print('일 :', date_list[2])"
   ]
  },
  {
   "cell_type": "code",
   "execution_count": 9,
   "id": "d0d7f5f2",
   "metadata": {
    "ExecuteTime": {
     "end_time": "2024-11-06T02:38:44.551678Z",
     "start_time": "2024-11-06T02:38:44.540671Z"
    }
   },
   "outputs": [
    {
     "name": "stdout",
     "output_type": "stream",
     "text": [
      "원본 temp : Java - Oracle - 웹표준 - JSP - PYTHON\n",
      "분리된 temp : ['Java', 'Oracle', '웹표준', 'JSP', 'PYTHON']\n",
      "joined_temp : Java/Oracle/웹표준/JSP/PYTHON\n",
      "Java/Oracle/웹표준/JSP/PYTHON\n"
     ]
    }
   ],
   "source": [
    "# ' - '을 '/'로 바꾸기 (replace 대신)\n",
    "temp = 'Java - Oracle - 웹표준 - JSP - PYTHON'\n",
    "print('원본 temp :', temp)\n",
    "splited_temp = temp.split(' - ')\n",
    "print('분리된 temp :', splited_temp)\n",
    "joined_temp = '/'.join(splited_temp)\n",
    "print('joined_temp :', joined_temp)\n",
    "print(temp.replace(' - ', '/'))"
   ]
  },
  {
   "cell_type": "code",
   "execution_count": 10,
   "id": "58e96b4b",
   "metadata": {
    "ExecuteTime": {
     "end_time": "2024-11-06T02:38:44.561396Z",
     "start_time": "2024-11-06T02:38:44.554677Z"
    }
   },
   "outputs": [
    {
     "name": "stdout",
     "output_type": "stream",
     "text": [
      "A\n",
      "B\n",
      "C\n"
     ]
    }
   ],
   "source": [
    "str_ = 'ABC'  # ['A', 'B', 'C'] list\n",
    "for s in str_:\n",
    "    print(s)"
   ]
  },
  {
   "cell_type": "code",
   "execution_count": 11,
   "id": "634e0a54",
   "metadata": {
    "ExecuteTime": {
     "end_time": "2024-11-06T02:38:44.569394Z",
     "start_time": "2024-11-06T02:38:44.563396Z"
    }
   },
   "outputs": [
    {
     "name": "stdout",
     "output_type": "stream",
     "text": [
      "A\n",
      "B\n",
      "C\n"
     ]
    }
   ],
   "source": [
    "str_list = ['A', 'B', 'C']\n",
    "for s in str_list:\n",
    "    print(s)"
   ]
  },
  {
   "cell_type": "code",
   "execution_count": 12,
   "id": "652fecab",
   "metadata": {
    "ExecuteTime": {
     "end_time": "2024-11-06T02:38:44.583573Z",
     "start_time": "2024-11-06T02:38:44.574576Z"
    }
   },
   "outputs": [
    {
     "data": {
      "text/plain": [
       "['__add__',\n",
       " '__class__',\n",
       " '__contains__',\n",
       " '__delattr__',\n",
       " '__dir__',\n",
       " '__doc__',\n",
       " '__eq__',\n",
       " '__format__',\n",
       " '__ge__',\n",
       " '__getattribute__',\n",
       " '__getitem__',\n",
       " '__getnewargs__',\n",
       " '__gt__',\n",
       " '__hash__',\n",
       " '__init__',\n",
       " '__init_subclass__',\n",
       " '__iter__',\n",
       " '__le__',\n",
       " '__len__',\n",
       " '__lt__',\n",
       " '__mod__',\n",
       " '__mul__',\n",
       " '__ne__',\n",
       " '__new__',\n",
       " '__reduce__',\n",
       " '__reduce_ex__',\n",
       " '__repr__',\n",
       " '__rmod__',\n",
       " '__rmul__',\n",
       " '__setattr__',\n",
       " '__sizeof__',\n",
       " '__str__',\n",
       " '__subclasshook__',\n",
       " 'capitalize',\n",
       " 'casefold',\n",
       " 'center',\n",
       " 'count',\n",
       " 'encode',\n",
       " 'endswith',\n",
       " 'expandtabs',\n",
       " 'find',\n",
       " 'format',\n",
       " 'format_map',\n",
       " 'index',\n",
       " 'isalnum',\n",
       " 'isalpha',\n",
       " 'isascii',\n",
       " 'isdecimal',\n",
       " 'isdigit',\n",
       " 'isidentifier',\n",
       " 'islower',\n",
       " 'isnumeric',\n",
       " 'isprintable',\n",
       " 'isspace',\n",
       " 'istitle',\n",
       " 'isupper',\n",
       " 'join',\n",
       " 'ljust',\n",
       " 'lower',\n",
       " 'lstrip',\n",
       " 'maketrans',\n",
       " 'partition',\n",
       " 'removeprefix',\n",
       " 'removesuffix',\n",
       " 'replace',\n",
       " 'rfind',\n",
       " 'rindex',\n",
       " 'rjust',\n",
       " 'rpartition',\n",
       " 'rsplit',\n",
       " 'rstrip',\n",
       " 'split',\n",
       " 'splitlines',\n",
       " 'startswith',\n",
       " 'strip',\n",
       " 'swapcase',\n",
       " 'title',\n",
       " 'translate',\n",
       " 'upper',\n",
       " 'zfill']"
      ]
     },
     "execution_count": 12,
     "metadata": {},
     "output_type": "execute_result"
    }
   ],
   "source": [
    "# 문자열을 다룰 수 있는 함수들 목록\n",
    "dir(str)  # str:타입"
   ]
  },
  {
   "cell_type": "markdown",
   "id": "7ac21c91",
   "metadata": {},
   "source": [
    "# 7절. 시간, 날짜 다루기"
   ]
  },
  {
   "cell_type": "code",
   "execution_count": 13,
   "id": "07bd4e98",
   "metadata": {
    "ExecuteTime": {
     "end_time": "2024-11-06T02:38:44.590570Z",
     "start_time": "2024-11-06T02:38:44.585571Z"
    }
   },
   "outputs": [],
   "source": [
    "# 맨 위에 한 번에 import\n",
    "# datetime모듈(~.py)안의 datetime, date, time을 import\n",
    "from datetime import datetime, date, time"
   ]
  },
  {
   "cell_type": "markdown",
   "id": "62b26b4c",
   "metadata": {},
   "source": [
    "## 7.1 시간과 날짜"
   ]
  },
  {
   "cell_type": "code",
   "execution_count": 14,
   "id": "d0a86244",
   "metadata": {
    "ExecuteTime": {
     "end_time": "2024-11-06T02:38:44.598439Z",
     "start_time": "2024-11-06T02:38:44.594439Z"
    }
   },
   "outputs": [],
   "source": [
    "# from datetime import datetime  # datetime모듈(~.py) 안의 datetime만 import"
   ]
  },
  {
   "cell_type": "code",
   "execution_count": 15,
   "id": "ed03d930",
   "metadata": {
    "ExecuteTime": {
     "end_time": "2024-11-06T02:38:44.607436Z",
     "start_time": "2024-11-06T02:38:44.601438Z"
    }
   },
   "outputs": [
    {
     "data": {
      "text/plain": [
       "datetime.datetime(2025, 3, 7, 18, 0)"
      ]
     },
     "execution_count": 15,
     "metadata": {},
     "output_type": "execute_result"
    }
   ],
   "source": [
    "# 특정 시점을 갖는 datetime 객체 생성\n",
    "thatday = datetime(2025, 3, 7, 18, 0)  # 초 생략 시(00초)\n",
    "thatday"
   ]
  },
  {
   "cell_type": "code",
   "execution_count": 16,
   "id": "4c744bd5",
   "metadata": {
    "ExecuteTime": {
     "end_time": "2024-11-06T02:38:44.623530Z",
     "start_time": "2024-11-06T02:38:44.607905Z"
    }
   },
   "outputs": [
    {
     "name": "stdout",
     "output_type": "stream",
     "text": [
      "2025-03-07 18:00:00\n",
      "2025년 03월 07일 PM 06시 00분\n",
      "25년03월07일 18시00분00초\n"
     ]
    }
   ],
   "source": [
    "print(thatday)\n",
    "print(thatday.strftime(\"%Y년 %m월 %d일 %p %I시 %M분\"))  # H시:24시간 / I시:12시간\n",
    "print(\"{:%y년%m월%d일 %H시%M분%S초}\".format(thatday))"
   ]
  },
  {
   "cell_type": "code",
   "execution_count": 17,
   "id": "d6d0bf5c",
   "metadata": {
    "ExecuteTime": {
     "end_time": "2024-11-06T02:38:44.641255Z",
     "start_time": "2024-11-06T02:38:44.626581Z"
    }
   },
   "outputs": [
    {
     "name": "stdout",
     "output_type": "stream",
     "text": [
      "Wed Nov  6 11:38:44 2024\n",
      "2024-11-06 11:38:44.629164\n",
      "2024년 11월 06일 AM 11시 38분\n",
      "24년11월06일 11시38분44초\n"
     ]
    }
   ],
   "source": [
    "# 지금을 저장하는 datetime 객체 생성\n",
    "now  = datetime.now()  # static함수\n",
    "print(now.ctime())  # 사람이 읽기 쉬운 형태로 \n",
    "print(now)\n",
    "print(now.strftime(\"%Y년 %m월 %d일 %p %I시 %M분\"))  # H시:24시간 / I시:12시간\n",
    "print(\"{:%y년%m월%d일 %H시%M분%S초}\".format(now))"
   ]
  },
  {
   "cell_type": "markdown",
   "id": "a902641a",
   "metadata": {},
   "source": [
    "## 7.2 날짜"
   ]
  },
  {
   "cell_type": "code",
   "execution_count": 18,
   "id": "7174f0df",
   "metadata": {
    "ExecuteTime": {
     "end_time": "2024-11-06T02:38:44.657414Z",
     "start_time": "2024-11-06T02:38:44.641790Z"
    }
   },
   "outputs": [
    {
     "data": {
      "text/plain": [
       "datetime.date(2025, 3, 7)"
      ]
     },
     "execution_count": 18,
     "metadata": {},
     "output_type": "execute_result"
    }
   ],
   "source": [
    "# 특정한 날짜를 갖는 date 객체 생성\n",
    "# from datetime import date\n",
    "someday = date(2025, 3, 7)\n",
    "someday"
   ]
  },
  {
   "cell_type": "code",
   "execution_count": 19,
   "id": "86492d4b",
   "metadata": {
    "ExecuteTime": {
     "end_time": "2024-11-06T02:38:44.675412Z",
     "start_time": "2024-11-06T02:38:44.659935Z"
    }
   },
   "outputs": [
    {
     "name": "stdout",
     "output_type": "stream",
     "text": [
      "2025-03-07\n",
      "2025년03월07일 00시00분\n",
      "2025년03월07일 00시00분\n"
     ]
    }
   ],
   "source": [
    "print(someday)\n",
    "print(someday.strftime(\"%Y년%m월%d일 %H시%M분\"))  # 시간 생략 시(00시 00분 00초)\n",
    "print(\"{:%Y년%m월%d일 %H시%M분}\".format(someday))"
   ]
  },
  {
   "cell_type": "code",
   "execution_count": 20,
   "id": "4c0ed3f1",
   "metadata": {
    "ExecuteTime": {
     "end_time": "2024-11-06T02:38:44.691942Z",
     "start_time": "2024-11-06T02:38:44.677410Z"
    }
   },
   "outputs": [
    {
     "data": {
      "text/plain": [
       "datetime.date(2024, 11, 6)"
      ]
     },
     "execution_count": 20,
     "metadata": {},
     "output_type": "execute_result"
    }
   ],
   "source": [
    "# 오늘을 갖는 date 객체 생성\n",
    "today = date.today()\n",
    "today"
   ]
  },
  {
   "cell_type": "code",
   "execution_count": 21,
   "id": "81bbffbb",
   "metadata": {
    "ExecuteTime": {
     "end_time": "2024-11-06T02:38:44.700584Z",
     "start_time": "2024-11-06T02:38:44.693940Z"
    }
   },
   "outputs": [
    {
     "name": "stdout",
     "output_type": "stream",
     "text": [
      "2024-11-06\n",
      "2024년11월06일 00시00분\n",
      "2024년11월06일 00시00분\n"
     ]
    }
   ],
   "source": [
    "print(today)\n",
    "print(today.strftime(\"%Y년%m월%d일 %H시%M분\"))  # 시간 생략 시(00시 00분 00초)\n",
    "print(\"{:%Y년%m월%d일 %H시%M분}\".format(today))"
   ]
  },
  {
   "cell_type": "markdown",
   "id": "0ed5d9ea",
   "metadata": {},
   "source": [
    "## 7.3 시간\n"
   ]
  },
  {
   "cell_type": "code",
   "execution_count": 22,
   "id": "2b7b8a60",
   "metadata": {
    "ExecuteTime": {
     "end_time": "2024-11-06T02:38:44.712785Z",
     "start_time": "2024-11-06T02:38:44.700584Z"
    }
   },
   "outputs": [
    {
     "data": {
      "text/plain": [
       "datetime.time(13, 12)"
      ]
     },
     "execution_count": 22,
     "metadata": {},
     "output_type": "execute_result"
    }
   ],
   "source": [
    "# 특정한 시간을 저장하는 time 객체 생성\n",
    "t = time(13, 12)\n",
    "t"
   ]
  },
  {
   "cell_type": "code",
   "execution_count": 23,
   "id": "fa90e5db",
   "metadata": {
    "ExecuteTime": {
     "end_time": "2024-11-06T02:38:44.725426Z",
     "start_time": "2024-11-06T02:38:44.712785Z"
    }
   },
   "outputs": [
    {
     "name": "stdout",
     "output_type": "stream",
     "text": [
      "13:12:00\n",
      "1900년01월01일 PM 01시12분00초\n",
      "00년01월01일 13시12분00초\n"
     ]
    }
   ],
   "source": [
    "print(t)\n",
    "print(t.strftime(\"%Y년%m월%d일 %p %I시%M분%S초\"))\n",
    "print(\"{:%y년%m월%d일 %H시%M분%S초}\".format(t))"
   ]
  },
  {
   "cell_type": "code",
   "execution_count": 24,
   "id": "d4bb5b75",
   "metadata": {
    "ExecuteTime": {
     "end_time": "2024-11-06T02:38:44.735421Z",
     "start_time": "2024-11-06T02:38:44.727423Z"
    }
   },
   "outputs": [
    {
     "data": {
      "text/plain": [
       "(2024, 11, 6, 11, 38, 44, 730422)"
      ]
     },
     "execution_count": 24,
     "metadata": {},
     "output_type": "execute_result"
    }
   ],
   "source": [
    "# 현재 시간을 저장하는 time 객체 생성\n",
    "now = datetime.now()  # 현재 날짜와 현재 시간을 저장\n",
    "now.year, now.month, now.day, now.hour, now.minute, now.second, now.microsecond"
   ]
  },
  {
   "cell_type": "code",
   "execution_count": 25,
   "id": "41c27e35",
   "metadata": {
    "ExecuteTime": {
     "end_time": "2024-11-06T02:38:44.746528Z",
     "start_time": "2024-11-06T02:38:44.737421Z"
    }
   },
   "outputs": [
    {
     "name": "stdout",
     "output_type": "stream",
     "text": [
      "11:38:44.741778\n",
      "1900년01월01일 AM 11시38분44초\n",
      "00년01월01일 11시38분44초\n"
     ]
    }
   ],
   "source": [
    "now = datetime.now()\n",
    "now_time = time(now.hour, now.minute, now.second, now.microsecond)\n",
    "print(now_time)\n",
    "print(now_time.strftime(\"%Y년%m월%d일 %p %I시%M분%S초\"))\n",
    "print(\"{:%y년%m월%d일 %H시%M분%S초}\".format(now_time))"
   ]
  },
  {
   "cell_type": "markdown",
   "id": "5e0c1faf",
   "metadata": {},
   "source": [
    "# 8절. 연습문제"
   ]
  },
  {
   "cell_type": "code",
   "execution_count": 2,
   "id": "17bb0a8f",
   "metadata": {
    "ExecuteTime": {
     "end_time": "2024-11-06T02:42:25.883011Z",
     "start_time": "2024-11-06T02:42:25.859147Z"
    }
   },
   "outputs": [
    {
     "name": "stdout",
     "output_type": "stream",
     "text": [
      "홍길동님의 나이는 26살입니다\n"
     ]
    },
    {
     "data": {
      "text/plain": [
       "\"\\nname = '홍길동'\\nage = 23\\nprint('{}님의 나이는 {}살입니다'.format(name, age))\\nprint('{0}님의 나이는 {1}살입니다'.format(name, age))\\nprint('%s님의 나이는 %d살입니다'% (name, age))\\nprint(f'{name}님의 나이는 {age}살입니다')\\n\""
      ]
     },
     "execution_count": 2,
     "metadata": {},
     "output_type": "execute_result"
    }
   ],
   "source": [
    "# 1. 이름과 나이 변수를 다음 형식으로 출력하도록 format() 함수를 이용해 형식화하세요\n",
    "# [출력형식 : 홍길동님의 나이는 23살입니다]\n",
    "name = \"홍길동\"\n",
    "age = 26\n",
    "print(\"{}님의 나이는 {}살입니다\".format(name, age))\n",
    "\n",
    "'''\n",
    "name = '홍길동'\n",
    "age = 23\n",
    "print('{}님의 나이는 {}살입니다'.format(name, age))\n",
    "print('{0}님의 나이는 {1}살입니다'.format(name, age))\n",
    "print('%s님의 나이는 %d살입니다'% (name, age))\n",
    "print(f'{name}님의 나이는 {age}살입니다')\n",
    "'''"
   ]
  },
  {
   "cell_type": "code",
   "execution_count": 3,
   "id": "0c2ec65e",
   "metadata": {
    "ExecuteTime": {
     "end_time": "2024-11-06T02:42:51.042837Z",
     "start_time": "2024-11-06T02:42:28.463544Z"
    }
   },
   "outputs": [
    {
     "name": "stdout",
     "output_type": "stream",
     "text": [
      "첫 번째 숫자를 입력하세요.1\n",
      "두 번째 숫자를 입력하세요.2\n",
      "3\n",
      "-1\n",
      "2\n",
      "0.5\n",
      "0\n",
      "1\n"
     ]
    },
    {
     "data": {
      "text/plain": [
       "\"\\nnum1 = int(input('첫번째 수'))\\nnum2 = int(input('두번째 수'))\\nprint('num1 + num2 = ', (num1+num2))\\nprint('num1 - num2 = ', (num1-num2))\\nprint('num1 * num2 = ', (num1*num2))\\nprint('num1 / num2 = ', (num1/num2))\\nprint('num1 // num2 = ', (num1//num2))\\nprint('num1 % num2 = ', (num1%num2))\\n\""
      ]
     },
     "execution_count": 3,
     "metadata": {},
     "output_type": "execute_result"
    }
   ],
   "source": [
    "# 2. 두 정수를 입력받아 두 수의 덧셈, 뺄셈, 곱셈, 나눗셈, 몫, 나머지를 출력하세요\n",
    "first = input('첫 번째 숫자를 입력하세요.')\n",
    "second = input('두 번째 숫자를 입력하세요.')\n",
    "print(int(first) + int(second))\n",
    "print(int(first) - int(second))\n",
    "print( int(first) * int(second))\n",
    "print(int(first) / int(second))\n",
    "print(int(first) // int(second))\n",
    "print(int(first) % int(second))\n",
    "\n",
    "'''\n",
    "num1 = int(input('첫번째 수'))\n",
    "num2 = int(input('두번째 수'))\n",
    "print('num1 + num2 = ', (num1+num2))\n",
    "print('num1 - num2 = ', (num1-num2))\n",
    "print('num1 * num2 = ', (num1*num2))\n",
    "print('num1 / num2 = ', (num1/num2))\n",
    "print('num1 // num2 = ', (num1//num2))\n",
    "print('num1 % num2 = ', (num1%num2))\n",
    "'''"
   ]
  },
  {
   "cell_type": "code",
   "execution_count": 6,
   "id": "d4de7c18",
   "metadata": {
    "ExecuteTime": {
     "end_time": "2024-11-06T02:42:55.967156Z",
     "start_time": "2024-11-06T02:42:55.959082Z"
    }
   },
   "outputs": [
    {
     "name": "stdout",
     "output_type": "stream",
     "text": [
      "Hello World\n",
      "['Hello', 'World']\n",
      "World Hello\n"
     ]
    },
    {
     "data": {
      "text/plain": [
       "\"\\nstr = 'Hello world'\\nprint(str[-5:],str[:5])\\nsplited_str = str.split()\\nprint(splited_str[1], splited_str[0])\\n\\n\\nprint(splited_str[::-1])\\nprint(' '.join(splited_str[::-1]))\\n\""
      ]
     },
     "execution_count": 6,
     "metadata": {},
     "output_type": "execute_result"
    }
   ],
   "source": [
    "# 3. 문자열의 분리하기와 합치기 기능을 이용하여 ‘Hello World’가 할당된 변수를 이용하여 'World Hello’로 출력하세요\n",
    "temp = \"Hello World\"\n",
    "print(temp)\n",
    "splited_temp = temp.split()\n",
    "print(splited_temp)\n",
    "print(splited_temp[-1], splited_temp[0])\n",
    "\n",
    "'''\n",
    "str = 'Hello world'\n",
    "print(str[-5:],str[:5])\n",
    "splited_str = str.split()\n",
    "print(splited_str[1], splited_str[0])\n",
    "\n",
    "\n",
    "print(splited_str[::-1])\n",
    "print(' '.join(splited_str[::-1]))\n",
    "'''"
   ]
  },
  {
   "cell_type": "code",
   "execution_count": 7,
   "id": "d66df9a5",
   "metadata": {
    "ExecuteTime": {
     "end_time": "2024-11-06T02:42:57.246357Z",
     "start_time": "2024-11-06T02:42:57.238359Z"
    }
   },
   "outputs": [
    {
     "name": "stdout",
     "output_type": "stream",
     "text": [
      "bcdefa\n"
     ]
    },
    {
     "data": {
      "text/plain": [
       "\"\\nx = 'abcdef'\\nprint(x[1:]+x[0])\\nprint(x[1:],x[0], sep='')\\n\""
      ]
     },
     "execution_count": 7,
     "metadata": {},
     "output_type": "execute_result"
    }
   ],
   "source": [
    "# 4. x = 'abcdef＇를 이용하여 ‘bcdefa’로 출력하세요(문자 슬라이싱이용)\n",
    "x = 'abcdef'\n",
    "print(x[1:]+x[0])\n",
    "\n",
    "'''\n",
    "x = 'abcdef'\n",
    "print(x[1:]+x[0])\n",
    "print(x[1:],x[0], sep='')\n",
    "'''"
   ]
  },
  {
   "cell_type": "code",
   "execution_count": 8,
   "id": "f06c2af5",
   "metadata": {
    "ExecuteTime": {
     "end_time": "2024-11-06T02:42:59.037513Z",
     "start_time": "2024-11-06T02:42:59.030514Z"
    }
   },
   "outputs": [
    {
     "name": "stdout",
     "output_type": "stream",
     "text": [
      "fedcba\n"
     ]
    },
    {
     "data": {
      "text/plain": [
       "\"\\nx = 'abcedf'\\nprint(x[::-1])\\n\""
      ]
     },
     "execution_count": 8,
     "metadata": {},
     "output_type": "execute_result"
    }
   ],
   "source": [
    "# 5. x = ‘abcdef’를 이용하여 ‘fedcba’로 출력하세요\n",
    "x = 'abcdef'\n",
    "print(x[::-1])\n",
    "\n",
    "'''\n",
    "x = 'abcedf'\n",
    "print(x[::-1])\n",
    "'''"
   ]
  },
  {
   "cell_type": "code",
   "execution_count": 9,
   "id": "c71471e5",
   "metadata": {
    "ExecuteTime": {
     "end_time": "2024-11-06T02:43:08.695449Z",
     "start_time": "2024-11-06T02:43:01.095020Z"
    }
   },
   "outputs": [
    {
     "name": "stdout",
     "output_type": "stream",
     "text": [
      "섭씨 온도를 입력하세요1\n",
      "섭씨 1도는 화씨온도로 바꾸면 33.80도 입니다\n"
     ]
    }
   ],
   "source": [
    "# 6. 오늘의 온도를 섭씨온도로 입력받아 화씨 온도로 변환하는 프로그램을 작성하세요.\n",
    "# 화씨 온도는 소수점이 있을 경우만 두번째 자리까지 출력되고,\n",
    "#소수점이하 값이 없는 경우 소수점을 출력하지 않도록 합니다\n",
    "# (다음은 섭씨와 화씨의 변환 공식입니다. C는 섭씨, F는 화씨)\n",
    "# C = (F-32) / 1.8\n",
    "# F = (C*1.8) + 32 \n",
    "c = int(input('섭씨 온도를 입력하세요'))\n",
    "f = (c*1.8)+32\n",
    "print(\"섭씨 {}도는 화씨온도로 바꾸면 {:.2f}도 입니다\".format(c, f))"
   ]
  },
  {
   "cell_type": "code",
   "execution_count": null,
   "id": "f73840eb",
   "metadata": {},
   "outputs": [],
   "source": []
  },
  {
   "cell_type": "code",
   "execution_count": 10,
   "id": "1c0a9d2f",
   "metadata": {
    "ExecuteTime": {
     "end_time": "2024-11-06T02:43:08.703582Z",
     "start_time": "2024-11-06T02:43:08.698074Z"
    },
    "code_folding": []
   },
   "outputs": [],
   "source": [
    "# 7. 다음 중 변수 선언으로 잘못된 것을 모두 고르시오?\n",
    "# ① for ●\n",
    "# ② 10th ●\n",
    "# ③ Student.name ●\n",
    "# ④ _1234 "
   ]
  },
  {
   "cell_type": "code",
   "execution_count": 11,
   "id": "6f9a76f6",
   "metadata": {
    "ExecuteTime": {
     "end_time": "2024-11-06T02:43:15.204674Z",
     "start_time": "2024-11-06T02:43:15.197677Z"
    }
   },
   "outputs": [
    {
     "name": "stdout",
     "output_type": "stream",
     "text": [
      "SeounSeoul\n",
      "Seou n Seoul\n"
     ]
    }
   ],
   "source": [
    "# 8. 다음의 코드의 실행결과는?\n",
    "text = \"Seoul A001 - programming with python\"\n",
    "print(text[:4]+text[-1]+text.split()[0])\n",
    "print(text[:4], text[-1], text.split()[0])"
   ]
  },
  {
   "cell_type": "code",
   "execution_count": 12,
   "id": "67845f93",
   "metadata": {
    "ExecuteTime": {
     "end_time": "2024-11-06T02:43:16.035982Z",
     "start_time": "2024-11-06T02:43:16.029985Z"
    }
   },
   "outputs": [
    {
     "name": "stdout",
     "output_type": "stream",
     "text": [
      "4.0\n"
     ]
    }
   ],
   "source": [
    "# 9. 다음 중 파이썬 3.x 버전에서 연산식과 그 결과의 출력이 잘못된 것은?\n",
    "# ① 수식 8//2 결과 4 \n",
    "# ② 수식 8/2 결과 4 ●\n",
    "# ③ 수식 8 **2 결과 64\n",
    "a, b = 8, 2\n",
    "print(a / b)"
   ]
  },
  {
   "cell_type": "code",
   "execution_count": 14,
   "id": "0896b2f3",
   "metadata": {
    "ExecuteTime": {
     "end_time": "2024-11-06T02:43:25.109699Z",
     "start_time": "2024-11-06T02:43:25.070136Z"
    }
   },
   "outputs": [
    {
     "ename": "TypeError",
     "evalue": "unsupported operand type(s) for +: 'int' and 'str'",
     "output_type": "error",
     "traceback": [
      "\u001b[1;31m---------------------------------------------------------------------------\u001b[0m",
      "\u001b[1;31mTypeError\u001b[0m                                 Traceback (most recent call last)",
      "Cell \u001b[1;32mIn[14], line 4\u001b[0m\n\u001b[0;32m      2\u001b[0m x \u001b[38;5;241m=\u001b[39m \u001b[38;5;241m5\u001b[39m\n\u001b[0;32m      3\u001b[0m y \u001b[38;5;241m=\u001b[39m \u001b[38;5;124m\"\u001b[39m\u001b[38;5;124mJohn\u001b[39m\u001b[38;5;124m\"\u001b[39m\n\u001b[1;32m----> 4\u001b[0m \u001b[38;5;28mprint\u001b[39m(\u001b[43mx\u001b[49m\u001b[43m \u001b[49m\u001b[38;5;241;43m+\u001b[39;49m\u001b[43m \u001b[49m\u001b[43my\u001b[49m)\n",
      "\u001b[1;31mTypeError\u001b[0m: unsupported operand type(s) for +: 'int' and 'str'"
     ]
    }
   ],
   "source": [
    "# 10. 아래 프로그램의 결과는? 에러\n",
    "x = 5\n",
    "y = \"John\"\n",
    "print(x + y)"
   ]
  },
  {
   "cell_type": "code",
   "execution_count": 15,
   "id": "21a7eec7",
   "metadata": {
    "ExecuteTime": {
     "end_time": "2024-11-06T02:43:28.732920Z",
     "start_time": "2024-11-06T02:43:28.726921Z"
    }
   },
   "outputs": [
    {
     "name": "stdout",
     "output_type": "stream",
     "text": [
      "나라\n"
     ]
    },
    {
     "data": {
      "text/plain": [
       "'\\nstr_ = \"우리 나라 대한 민국\"\\nstr_.split()[1]\\n'"
      ]
     },
     "execution_count": 15,
     "metadata": {},
     "output_type": "execute_result"
    }
   ],
   "source": [
    "# 11. split()함수를 이용하여 str_의 값 중 ＂나라＂를 출력하는 프로그램을 완성하시오\n",
    "str_ = \"우리 나라 대한 민국\"\n",
    "splited_str_ = str_.split()\n",
    "print(splited_str_[1])\n",
    "\n",
    "'''\n",
    "str_ = \"우리 나라 대한 민국\"\n",
    "str_.split()[1]\n",
    "'''"
   ]
  }
 ],
 "metadata": {
  "kernelspec": {
   "display_name": "Python 3 (ipykernel)",
   "language": "python",
   "name": "python3"
  },
  "language_info": {
   "codemirror_mode": {
    "name": "ipython",
    "version": 3
   },
   "file_extension": ".py",
   "mimetype": "text/x-python",
   "name": "python",
   "nbconvert_exporter": "python",
   "pygments_lexer": "ipython3",
   "version": "3.10.9"
  },
  "toc": {
   "base_numbering": 1,
   "nav_menu": {},
   "number_sections": true,
   "sideBar": true,
   "skip_h1_title": false,
   "title_cell": "Table of Contents",
   "title_sidebar": "Contents",
   "toc_cell": false,
   "toc_position": {
    "height": "calc(100% - 180px)",
    "left": "10px",
    "top": "150px",
    "width": "165px"
   },
   "toc_section_display": true,
   "toc_window_display": true
  }
 },
 "nbformat": 4,
 "nbformat_minor": 5
}
