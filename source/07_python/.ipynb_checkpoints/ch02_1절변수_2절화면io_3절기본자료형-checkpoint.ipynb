{
 "cells": [
  {
   "cell_type": "code",
   "execution_count": 29,
   "id": "a59f8eca",
   "metadata": {
    "ExecuteTime": {
     "end_time": "2024-11-04T08:01:09.349902Z",
     "start_time": "2024-11-04T08:01:09.335573Z"
    }
   },
   "outputs": [
    {
     "data": {
      "text/html": [
       "\n",
       "<style>\n",
       "div.container{width:80% !important;}\n",
       "div.prompt {min-width:70px;}\n",
       "div#toc-header{margin-top:150px;}\n",
       "span.toc-item-num{display:none;}\n",
       "</style>\n"
      ],
      "text/plain": [
       "<IPython.core.display.HTML object>"
      ]
     },
     "metadata": {},
     "output_type": "display_data"
    }
   ],
   "source": [
    "from IPython.display import display, HTML\n",
    "display(HTML(\"\"\"\n",
    "<style>\n",
    "div.container{width:80% !important;}\n",
    "div.prompt {min-width:70px;}\n",
    "div#toc-header{margin-top:150px;}\n",
    "span.toc-item-num{display:none;}\n",
    "</style>\n",
    "\"\"\"))"
   ]
  },
  {
   "cell_type": "markdown",
   "id": "ee560f3b",
   "metadata": {},
   "source": [
    "<b><font size=\"6\" color=\"red\">ch02. 자료형과 연산자</font></b>"
   ]
  },
  {
   "cell_type": "markdown",
   "id": "6ed1848d",
   "metadata": {},
   "source": [
    "# 1절. 변수"
   ]
  },
  {
   "cell_type": "markdown",
   "id": "f881ddd7",
   "metadata": {},
   "source": [
    "## 1.1 변수 선언\n",
    "- 파이썬은 변수 선언을 위한 타입이 없고, 별도의 선언 과정도 없음"
   ]
  },
  {
   "cell_type": "markdown",
   "id": "3b5d8350",
   "metadata": {},
   "source": [
    "## 1.2 변수 할당\n",
    "- 할당연산자를 이용해 변수값을 할당하면 타입이 셋팅됨\n",
    "- 파이썬에서의 모든 변수는 객체"
   ]
  },
  {
   "cell_type": "code",
   "execution_count": 36,
   "id": "850e4060",
   "metadata": {
    "ExecuteTime": {
     "end_time": "2024-11-04T08:01:51.518958Z",
     "start_time": "2024-11-04T08:01:51.514030Z"
    }
   },
   "outputs": [
    {
     "name": "stdout",
     "output_type": "stream",
     "text": [
      "계산된 넓이는 78.5\n"
     ]
    }
   ],
   "source": [
    "r = 5\n",
    "area = 3.14 * r * r\n",
    "print('계산된 넓이는', area)"
   ]
  },
  {
   "cell_type": "code",
   "execution_count": 37,
   "id": "4ecc5ff7",
   "metadata": {
    "ExecuteTime": {
     "end_time": "2024-11-04T08:01:53.758520Z",
     "start_time": "2024-11-04T08:01:53.753522Z"
    }
   },
   "outputs": [],
   "source": [
    "import numpy as np  # numpy라는 패키지(폴더)를 np라는 이름으로 사용"
   ]
  },
  {
   "cell_type": "code",
   "execution_count": 38,
   "id": "3a79632c",
   "metadata": {
    "ExecuteTime": {
     "end_time": "2024-11-04T08:01:55.063160Z",
     "start_time": "2024-11-04T08:01:55.057164Z"
    }
   },
   "outputs": [
    {
     "name": "stdout",
     "output_type": "stream",
     "text": [
      "78.53981633974483\n"
     ]
    }
   ],
   "source": [
    "area = np.pi * r * r  # pi : pi값(3.14)\n",
    "print(area)"
   ]
  },
  {
   "cell_type": "code",
   "execution_count": 39,
   "id": "ececac91",
   "metadata": {
    "ExecuteTime": {
     "end_time": "2024-11-04T08:01:58.944123Z",
     "start_time": "2024-11-04T08:01:58.938126Z"
    }
   },
   "outputs": [
    {
     "name": "stdout",
     "output_type": "stream",
     "text": [
      "area의 주소 : 2011297357648\n",
      "area의 타입 : <class 'float'>\n"
     ]
    }
   ],
   "source": [
    "print('area의 주소 :', id(area))  # id(area) : area변수(객체)의 주소값\n",
    "print('area의 타입 :', type(area))"
   ]
  },
  {
   "cell_type": "code",
   "execution_count": 40,
   "id": "8b1f3cb9",
   "metadata": {
    "ExecuteTime": {
     "end_time": "2024-11-04T08:02:01.344137Z",
     "start_time": "2024-11-04T08:02:01.338141Z"
    }
   },
   "outputs": [
    {
     "data": {
      "text/plain": [
       "False"
      ]
     },
     "execution_count": 40,
     "metadata": {},
     "output_type": "execute_result"
    }
   ],
   "source": [
    "area.is_integer()"
   ]
  },
  {
   "cell_type": "code",
   "execution_count": 41,
   "id": "a07b0204",
   "metadata": {
    "ExecuteTime": {
     "end_time": "2024-11-04T08:02:03.654077Z",
     "start_time": "2024-11-04T08:02:03.636444Z"
    }
   },
   "outputs": [],
   "source": [
    "area = 10\n",
    "# 위의 area는 사라지고 새로운 area가 생성됨"
   ]
  },
  {
   "cell_type": "code",
   "execution_count": 42,
   "id": "2ddec286",
   "metadata": {
    "ExecuteTime": {
     "end_time": "2024-11-04T08:02:05.807227Z",
     "start_time": "2024-11-04T08:02:05.802227Z"
    }
   },
   "outputs": [
    {
     "name": "stdout",
     "output_type": "stream",
     "text": [
      "area의 주소 : 2011170865680\n",
      "area의 타입 : <class 'int'>\n"
     ]
    }
   ],
   "source": [
    "print('area의 주소 :', id(area))  # id(area) : area변수(객체)의 주소값\n",
    "print('area의 타입 :', type(area))"
   ]
  },
  {
   "cell_type": "code",
   "execution_count": 43,
   "id": "e05654cb",
   "metadata": {
    "ExecuteTime": {
     "end_time": "2024-11-04T08:02:07.768214Z",
     "start_time": "2024-11-04T08:02:07.762217Z"
    }
   },
   "outputs": [
    {
     "name": "stdout",
     "output_type": "stream",
     "text": [
      "area의 주소 : 2011301648624\n",
      "area의 타입 : <class 'str'>\n"
     ]
    }
   ],
   "source": [
    "area = '파이썬'\n",
    "print('area의 주소 :', id(area))  # id(area) : area변수(객체)의 주소값\n",
    "print('area의 타입 :', type(area))"
   ]
  },
  {
   "cell_type": "markdown",
   "id": "8c620fad",
   "metadata": {},
   "source": [
    "## 1.3 변수 이름 규칙\n",
    "- 문자로 시작\n",
    "- 문자(특수문자는 _를 제외하고는 안됨), 숫자, _로 변수명 작성\n",
    "- 함수명은 변수이름으로 가능하나 피함. 써야한다면 int_식으로 _를 붙여서 사용하는 것이 일반적\n",
    "- 파이썬 예약어(if, while, ...)는 변수이름 사용 불가.\n",
    "- 한글 변수는 꼭 필요시만 사용"
   ]
  },
  {
   "cell_type": "code",
   "execution_count": 44,
   "id": "161b8774",
   "metadata": {
    "ExecuteTime": {
     "end_time": "2024-11-04T08:02:09.695931Z",
     "start_time": "2024-11-04T08:02:09.689941Z"
    }
   },
   "outputs": [
    {
     "data": {
      "text/plain": [
       "'홍길동'"
      ]
     },
     "execution_count": 44,
     "metadata": {},
     "output_type": "execute_result"
    }
   ],
   "source": [
    "이름 = \"홍길동\"\n",
    "이름"
   ]
  },
  {
   "cell_type": "code",
   "execution_count": 45,
   "id": "5d95b991",
   "metadata": {
    "ExecuteTime": {
     "end_time": "2024-11-04T08:02:12.126835Z",
     "start_time": "2024-11-04T08:02:12.121837Z"
    }
   },
   "outputs": [
    {
     "name": "stdout",
     "output_type": "stream",
     "text": [
      "홍길동\n"
     ]
    }
   ],
   "source": [
    "print(이름)"
   ]
  },
  {
   "cell_type": "code",
   "execution_count": 17,
   "id": "00f6b2c0",
   "metadata": {
    "ExecuteTime": {
     "end_time": "2024-11-04T07:50:19.405348Z",
     "start_time": "2024-11-04T07:50:19.399350Z"
    }
   },
   "outputs": [
    {
     "ename": "SyntaxError",
     "evalue": "invalid syntax (2630263448.py, line 1)",
     "output_type": "error",
     "traceback": [
      "\u001b[1;36m  Cell \u001b[1;32mIn[17], line 1\u001b[1;36m\u001b[0m\n\u001b[1;33m    if = 5\u001b[0m\n\u001b[1;37m       ^\u001b[0m\n\u001b[1;31mSyntaxError\u001b[0m\u001b[1;31m:\u001b[0m invalid syntax\n"
     ]
    }
   ],
   "source": [
    "if = 5  # 에러 SyntaxError: invalid syntax"
   ]
  },
  {
   "cell_type": "code",
   "execution_count": 18,
   "id": "7e03860e",
   "metadata": {
    "ExecuteTime": {
     "end_time": "2024-11-04T07:51:16.778650Z",
     "start_time": "2024-11-04T07:51:16.743751Z"
    }
   },
   "outputs": [
    {
     "ename": "NameError",
     "evalue": "name 'member' is not defined",
     "output_type": "error",
     "traceback": [
      "\u001b[1;31m---------------------------------------------------------------------------\u001b[0m",
      "\u001b[1;31mNameError\u001b[0m                                 Traceback (most recent call last)",
      "Cell \u001b[1;32mIn[18], line 1\u001b[0m\n\u001b[1;32m----> 1\u001b[0m \u001b[43mmember\u001b[49m\u001b[38;5;241m.\u001b[39mname \u001b[38;5;241m=\u001b[39m \u001b[38;5;241m5\u001b[39m\n",
      "\u001b[1;31mNameError\u001b[0m: name 'member' is not defined"
     ]
    }
   ],
   "source": [
    "# member.name = 5  # 에러:변수에 .은 사용불가(R에서는 .을 변수명에 사용가능)\n",
    "# member_name = 5  # 스멜표기법\n",
    "# memberName = 5   #카멜표기법"
   ]
  },
  {
   "cell_type": "code",
   "execution_count": 47,
   "id": "0210318d",
   "metadata": {
    "ExecuteTime": {
     "end_time": "2024-11-04T08:02:23.864366Z",
     "start_time": "2024-11-04T08:02:23.841841Z"
    }
   },
   "outputs": [
    {
     "ename": "TypeError",
     "evalue": "'int' object is not callable",
     "output_type": "error",
     "traceback": [
      "\u001b[1;31m---------------------------------------------------------------------------\u001b[0m",
      "\u001b[1;31mTypeError\u001b[0m                                 Traceback (most recent call last)",
      "Cell \u001b[1;32mIn[47], line 2\u001b[0m\n\u001b[0;32m      1\u001b[0m \u001b[38;5;28mprint\u001b[39m \u001b[38;5;241m=\u001b[39m \u001b[38;5;241m5\u001b[39m\n\u001b[1;32m----> 2\u001b[0m \u001b[38;5;28;43mprint\u001b[39;49m\u001b[43m(\u001b[49m\u001b[43m이름\u001b[49m\u001b[43m)\u001b[49m\n",
      "\u001b[1;31mTypeError\u001b[0m: 'int' object is not callable"
     ]
    }
   ],
   "source": [
    "print = 5\n",
    "print(이름)"
   ]
  },
  {
   "cell_type": "code",
   "execution_count": 48,
   "id": "9043e356",
   "metadata": {
    "ExecuteTime": {
     "end_time": "2024-11-04T08:02:25.210600Z",
     "start_time": "2024-11-04T08:02:25.200414Z"
    }
   },
   "outputs": [
    {
     "name": "stdout",
     "output_type": "stream",
     "text": [
      "홍길동\n"
     ]
    }
   ],
   "source": [
    "del print  # print변수 삭제\n",
    "print_ = 5\n",
    "print(이름)"
   ]
  },
  {
   "cell_type": "code",
   "execution_count": 49,
   "id": "74453824",
   "metadata": {
    "ExecuteTime": {
     "end_time": "2024-11-04T08:02:26.654408Z",
     "start_time": "2024-11-04T08:02:26.648412Z"
    }
   },
   "outputs": [
    {
     "name": "stdout",
     "output_type": "stream",
     "text": [
      "5\n"
     ]
    }
   ],
   "source": [
    "print(print_)"
   ]
  },
  {
   "cell_type": "code",
   "execution_count": 50,
   "id": "9796b3a1",
   "metadata": {
    "ExecuteTime": {
     "end_time": "2024-11-04T08:02:29.616865Z",
     "start_time": "2024-11-04T08:02:29.609866Z"
    }
   },
   "outputs": [
    {
     "data": {
      "text/plain": [
       "complex"
      ]
     },
     "execution_count": 50,
     "metadata": {},
     "output_type": "execute_result"
    }
   ],
   "source": [
    "# 숫자 : 정수, 실수, 복소수\n",
    "i = 3 + 3j  # 복소수\n",
    "type(i)"
   ]
  },
  {
   "cell_type": "code",
   "execution_count": 51,
   "id": "3d56a754",
   "metadata": {
    "ExecuteTime": {
     "end_time": "2024-11-04T08:02:30.967398Z",
     "start_time": "2024-11-04T08:02:30.960837Z"
    }
   },
   "outputs": [
    {
     "data": {
      "text/plain": [
       "True"
      ]
     },
     "execution_count": 51,
     "metadata": {},
     "output_type": "execute_result"
    }
   ],
   "source": [
    "isinstance(i, complex)  # i변수(객체)가 complex타입인지 여부"
   ]
  },
  {
   "cell_type": "markdown",
   "id": "b8fe9f19",
   "metadata": {},
   "source": [
    "## 1.4 도움말"
   ]
  },
  {
   "cell_type": "code",
   "execution_count": 26,
   "id": "bfe8d8ec",
   "metadata": {
    "ExecuteTime": {
     "end_time": "2024-11-04T07:58:58.348612Z",
     "start_time": "2024-11-04T07:58:58.323621Z"
    }
   },
   "outputs": [
    {
     "name": "stdout",
     "output_type": "stream",
     "text": [
      "Help on int object:\n",
      "\n",
      "class int(object)\n",
      " |  int([x]) -> integer\n",
      " |  int(x, base=10) -> integer\n",
      " |  \n",
      " |  Convert a number or string to an integer, or return 0 if no arguments\n",
      " |  are given.  If x is a number, return x.__int__().  For floating point\n",
      " |  numbers, this truncates towards zero.\n",
      " |  \n",
      " |  If x is not a number or if base is given, then x must be a string,\n",
      " |  bytes, or bytearray instance representing an integer literal in the\n",
      " |  given base.  The literal can be preceded by '+' or '-' and be surrounded\n",
      " |  by whitespace.  The base defaults to 10.  Valid bases are 0 and 2-36.\n",
      " |  Base 0 means to interpret the base from the string as an integer literal.\n",
      " |  >>> int('0b100', base=0)\n",
      " |  4\n",
      " |  \n",
      " |  Built-in subclasses:\n",
      " |      bool\n",
      " |  \n",
      " |  Methods defined here:\n",
      " |  \n",
      " |  __abs__(self, /)\n",
      " |      abs(self)\n",
      " |  \n",
      " |  __add__(self, value, /)\n",
      " |      Return self+value.\n",
      " |  \n",
      " |  __and__(self, value, /)\n",
      " |      Return self&value.\n",
      " |  \n",
      " |  __bool__(self, /)\n",
      " |      True if self else False\n",
      " |  \n",
      " |  __ceil__(...)\n",
      " |      Ceiling of an Integral returns itself.\n",
      " |  \n",
      " |  __divmod__(self, value, /)\n",
      " |      Return divmod(self, value).\n",
      " |  \n",
      " |  __eq__(self, value, /)\n",
      " |      Return self==value.\n",
      " |  \n",
      " |  __float__(self, /)\n",
      " |      float(self)\n",
      " |  \n",
      " |  __floor__(...)\n",
      " |      Flooring an Integral returns itself.\n",
      " |  \n",
      " |  __floordiv__(self, value, /)\n",
      " |      Return self//value.\n",
      " |  \n",
      " |  __format__(self, format_spec, /)\n",
      " |      Default object formatter.\n",
      " |  \n",
      " |  __ge__(self, value, /)\n",
      " |      Return self>=value.\n",
      " |  \n",
      " |  __getattribute__(self, name, /)\n",
      " |      Return getattr(self, name).\n",
      " |  \n",
      " |  __getnewargs__(self, /)\n",
      " |  \n",
      " |  __gt__(self, value, /)\n",
      " |      Return self>value.\n",
      " |  \n",
      " |  __hash__(self, /)\n",
      " |      Return hash(self).\n",
      " |  \n",
      " |  __index__(self, /)\n",
      " |      Return self converted to an integer, if self is suitable for use as an index into a list.\n",
      " |  \n",
      " |  __int__(self, /)\n",
      " |      int(self)\n",
      " |  \n",
      " |  __invert__(self, /)\n",
      " |      ~self\n",
      " |  \n",
      " |  __le__(self, value, /)\n",
      " |      Return self<=value.\n",
      " |  \n",
      " |  __lshift__(self, value, /)\n",
      " |      Return self<<value.\n",
      " |  \n",
      " |  __lt__(self, value, /)\n",
      " |      Return self<value.\n",
      " |  \n",
      " |  __mod__(self, value, /)\n",
      " |      Return self%value.\n",
      " |  \n",
      " |  __mul__(self, value, /)\n",
      " |      Return self*value.\n",
      " |  \n",
      " |  __ne__(self, value, /)\n",
      " |      Return self!=value.\n",
      " |  \n",
      " |  __neg__(self, /)\n",
      " |      -self\n",
      " |  \n",
      " |  __or__(self, value, /)\n",
      " |      Return self|value.\n",
      " |  \n",
      " |  __pos__(self, /)\n",
      " |      +self\n",
      " |  \n",
      " |  __pow__(self, value, mod=None, /)\n",
      " |      Return pow(self, value, mod).\n",
      " |  \n",
      " |  __radd__(self, value, /)\n",
      " |      Return value+self.\n",
      " |  \n",
      " |  __rand__(self, value, /)\n",
      " |      Return value&self.\n",
      " |  \n",
      " |  __rdivmod__(self, value, /)\n",
      " |      Return divmod(value, self).\n",
      " |  \n",
      " |  __repr__(self, /)\n",
      " |      Return repr(self).\n",
      " |  \n",
      " |  __rfloordiv__(self, value, /)\n",
      " |      Return value//self.\n",
      " |  \n",
      " |  __rlshift__(self, value, /)\n",
      " |      Return value<<self.\n",
      " |  \n",
      " |  __rmod__(self, value, /)\n",
      " |      Return value%self.\n",
      " |  \n",
      " |  __rmul__(self, value, /)\n",
      " |      Return value*self.\n",
      " |  \n",
      " |  __ror__(self, value, /)\n",
      " |      Return value|self.\n",
      " |  \n",
      " |  __round__(...)\n",
      " |      Rounding an Integral returns itself.\n",
      " |      \n",
      " |      Rounding with an ndigits argument also returns an integer.\n",
      " |  \n",
      " |  __rpow__(self, value, mod=None, /)\n",
      " |      Return pow(value, self, mod).\n",
      " |  \n",
      " |  __rrshift__(self, value, /)\n",
      " |      Return value>>self.\n",
      " |  \n",
      " |  __rshift__(self, value, /)\n",
      " |      Return self>>value.\n",
      " |  \n",
      " |  __rsub__(self, value, /)\n",
      " |      Return value-self.\n",
      " |  \n",
      " |  __rtruediv__(self, value, /)\n",
      " |      Return value/self.\n",
      " |  \n",
      " |  __rxor__(self, value, /)\n",
      " |      Return value^self.\n",
      " |  \n",
      " |  __sizeof__(self, /)\n",
      " |      Returns size in memory, in bytes.\n",
      " |  \n",
      " |  __sub__(self, value, /)\n",
      " |      Return self-value.\n",
      " |  \n",
      " |  __truediv__(self, value, /)\n",
      " |      Return self/value.\n",
      " |  \n",
      " |  __trunc__(...)\n",
      " |      Truncating an Integral returns itself.\n",
      " |  \n",
      " |  __xor__(self, value, /)\n",
      " |      Return self^value.\n",
      " |  \n",
      " |  as_integer_ratio(self, /)\n",
      " |      Return integer ratio.\n",
      " |      \n",
      " |      Return a pair of integers, whose ratio is exactly equal to the original int\n",
      " |      and with a positive denominator.\n",
      " |      \n",
      " |      >>> (10).as_integer_ratio()\n",
      " |      (10, 1)\n",
      " |      >>> (-10).as_integer_ratio()\n",
      " |      (-10, 1)\n",
      " |      >>> (0).as_integer_ratio()\n",
      " |      (0, 1)\n",
      " |  \n",
      " |  bit_count(self, /)\n",
      " |      Number of ones in the binary representation of the absolute value of self.\n",
      " |      \n",
      " |      Also known as the population count.\n",
      " |      \n",
      " |      >>> bin(13)\n",
      " |      '0b1101'\n",
      " |      >>> (13).bit_count()\n",
      " |      3\n",
      " |  \n",
      " |  bit_length(self, /)\n",
      " |      Number of bits necessary to represent self in binary.\n",
      " |      \n",
      " |      >>> bin(37)\n",
      " |      '0b100101'\n",
      " |      >>> (37).bit_length()\n",
      " |      6\n",
      " |  \n",
      " |  conjugate(...)\n",
      " |      Returns self, the complex conjugate of any int.\n",
      " |  \n",
      " |  to_bytes(self, /, length, byteorder, *, signed=False)\n",
      " |      Return an array of bytes representing an integer.\n",
      " |      \n",
      " |      length\n",
      " |        Length of bytes object to use.  An OverflowError is raised if the\n",
      " |        integer is not representable with the given number of bytes.\n",
      " |      byteorder\n",
      " |        The byte order used to represent the integer.  If byteorder is 'big',\n",
      " |        the most significant byte is at the beginning of the byte array.  If\n",
      " |        byteorder is 'little', the most significant byte is at the end of the\n",
      " |        byte array.  To request the native byte order of the host system, use\n",
      " |        `sys.byteorder' as the byte order value.\n",
      " |      signed\n",
      " |        Determines whether two's complement is used to represent the integer.\n",
      " |        If signed is False and a negative integer is given, an OverflowError\n",
      " |        is raised.\n",
      " |  \n",
      " |  ----------------------------------------------------------------------\n",
      " |  Class methods defined here:\n",
      " |  \n",
      " |  from_bytes(bytes, byteorder, *, signed=False) from builtins.type\n",
      " |      Return the integer represented by the given array of bytes.\n",
      " |      \n",
      " |      bytes\n",
      " |        Holds the array of bytes to convert.  The argument must either\n",
      " |        support the buffer protocol or be an iterable object producing bytes.\n",
      " |        Bytes and bytearray are examples of built-in objects that support the\n",
      " |        buffer protocol.\n",
      " |      byteorder\n",
      " |        The byte order used to represent the integer.  If byteorder is 'big',\n",
      " |        the most significant byte is at the beginning of the byte array.  If\n",
      " |        byteorder is 'little', the most significant byte is at the end of the\n",
      " |        byte array.  To request the native byte order of the host system, use\n",
      " |        `sys.byteorder' as the byte order value.\n",
      " |      signed\n",
      " |        Indicates whether two's complement is used to represent the integer.\n",
      " |  \n",
      " |  ----------------------------------------------------------------------\n",
      " |  Static methods defined here:\n",
      " |  \n",
      " |  __new__(*args, **kwargs) from builtins.type\n",
      " |      Create and return a new object.  See help(type) for accurate signature.\n",
      " |  \n",
      " |  ----------------------------------------------------------------------\n",
      " |  Data descriptors defined here:\n",
      " |  \n",
      " |  denominator\n",
      " |      the denominator of a rational number in lowest terms\n",
      " |  \n",
      " |  imag\n",
      " |      the imaginary part of a complex number\n",
      " |  \n",
      " |  numerator\n",
      " |      the numerator of a rational number in lowest terms\n",
      " |  \n",
      " |  real\n",
      " |      the real part of a complex number\n",
      "\n"
     ]
    }
   ],
   "source": [
    "help(print)"
   ]
  },
  {
   "cell_type": "code",
   "execution_count": 27,
   "id": "cbd1a859",
   "metadata": {
    "ExecuteTime": {
     "end_time": "2024-11-04T07:59:49.732426Z",
     "start_time": "2024-11-04T07:59:30.138545Z"
    }
   },
   "outputs": [
    {
     "name": "stdout",
     "output_type": "stream",
     "text": [
      "\n",
      "Welcome to Python 3.10's help utility!\n",
      "\n",
      "If this is your first time using Python, you should definitely check out\n",
      "the tutorial on the internet at https://docs.python.org/3.10/tutorial/.\n",
      "\n",
      "Enter the name of any module, keyword, or topic to get help on writing\n",
      "Python programs and using Python modules.  To quit this help utility and\n",
      "return to the interpreter, just type \"quit\".\n",
      "\n",
      "To get a list of available modules, keywords, symbols, or topics, type\n",
      "\"modules\", \"keywords\", \"symbols\", or \"topics\".  Each module also comes\n",
      "with a one-line summary of what it does; to list the modules whose name\n",
      "or summary contain a given string such as \"spam\", type \"modules spam\".\n",
      "\n",
      "help> print\n",
      "Help on built-in function print in module builtins:\n",
      "\n",
      "print(...)\n",
      "    print(value, ..., sep=' ', end='\\n', file=sys.stdout, flush=False)\n",
      "    \n",
      "    Prints the values to a stream, or to sys.stdout by default.\n",
      "    Optional keyword arguments:\n",
      "    file:  a file-like object (stream); defaults to the current sys.stdout.\n",
      "    sep:   string inserted between values, default a space.\n",
      "    end:   string appended after the last value, default a newline.\n",
      "    flush: whether to forcibly flush the stream.\n",
      "\n",
      "help> q\n",
      "\n",
      "You are now leaving help and returning to the Python interpreter.\n",
      "If you want to ask for help on a particular object directly from the\n",
      "interpreter, you can type \"help(object)\".  Executing \"help('string')\"\n",
      "has the same effect as typing a particular string at the help> prompt.\n"
     ]
    }
   ],
   "source": [
    "help()"
   ]
  },
  {
   "cell_type": "code",
   "execution_count": 52,
   "id": "5f18083b",
   "metadata": {
    "ExecuteTime": {
     "end_time": "2024-11-04T08:02:33.966594Z",
     "start_time": "2024-11-04T08:02:33.961596Z"
    }
   },
   "outputs": [
    {
     "name": "stdout",
     "output_type": "stream",
     "text": [
      "\n"
     ]
    }
   ],
   "source": [
    "# 도움말 기능 : shift+tab\n",
    "print()"
   ]
  },
  {
   "cell_type": "code",
   "execution_count": 56,
   "id": "eaf72435",
   "metadata": {
    "ExecuteTime": {
     "end_time": "2024-11-04T08:15:26.287051Z",
     "start_time": "2024-11-04T08:15:26.282051Z"
    }
   },
   "outputs": [],
   "source": [
    "#function add(x, y){}  # javascript\n",
    "\n",
    "# def 함수 생성\n",
    "def add(x, y=0):\n",
    "    '''\n",
    "    매개변수 2개를 받아 두 자리 숫자로 만들어요\n",
    "    x = 10의 자리수가 됨\n",
    "    y = 1의 자리수가 됨(default값 0)\n",
    "    사용법 : add(2, 3) => 23\n",
    "    '''\n",
    "    return x*10 + y"
   ]
  },
  {
   "cell_type": "code",
   "execution_count": 57,
   "id": "3fe994c7",
   "metadata": {
    "ExecuteTime": {
     "end_time": "2024-11-04T08:15:28.081002Z",
     "start_time": "2024-11-04T08:15:28.074002Z"
    }
   },
   "outputs": [
    {
     "data": {
      "text/plain": [
       "54"
      ]
     },
     "execution_count": 57,
     "metadata": {},
     "output_type": "execute_result"
    }
   ],
   "source": [
    "add(5, 4)"
   ]
  },
  {
   "cell_type": "code",
   "execution_count": 58,
   "id": "57b8d9bb",
   "metadata": {
    "ExecuteTime": {
     "end_time": "2024-11-04T08:15:29.504988Z",
     "start_time": "2024-11-04T08:15:29.498990Z"
    }
   },
   "outputs": [
    {
     "data": {
      "text/plain": [
       "50"
      ]
     },
     "execution_count": 58,
     "metadata": {},
     "output_type": "execute_result"
    }
   ],
   "source": [
    "add(5)"
   ]
  },
  {
   "cell_type": "code",
   "execution_count": 59,
   "id": "94e500fc",
   "metadata": {
    "ExecuteTime": {
     "end_time": "2024-11-04T08:16:02.702920Z",
     "start_time": "2024-11-04T08:16:02.697919Z"
    }
   },
   "outputs": [],
   "source": [
    "a = add  # 함수형언어는 변수에 함수 할당 가능. a랑 add는 같은 함수"
   ]
  },
  {
   "cell_type": "code",
   "execution_count": 60,
   "id": "63357f0a",
   "metadata": {
    "ExecuteTime": {
     "end_time": "2024-11-04T08:17:00.287365Z",
     "start_time": "2024-11-04T08:17:00.282366Z"
    }
   },
   "outputs": [
    {
     "data": {
      "text/plain": [
       "54"
      ]
     },
     "execution_count": 60,
     "metadata": {},
     "output_type": "execute_result"
    }
   ],
   "source": [
    "a(5, 4)"
   ]
  },
  {
   "cell_type": "code",
   "execution_count": 61,
   "id": "d70526ef",
   "metadata": {
    "ExecuteTime": {
     "end_time": "2024-11-04T08:17:09.215292Z",
     "start_time": "2024-11-04T08:17:09.209296Z"
    }
   },
   "outputs": [
    {
     "data": {
      "text/plain": [
       "50"
      ]
     },
     "execution_count": 61,
     "metadata": {},
     "output_type": "execute_result"
    }
   ],
   "source": [
    "a(5)"
   ]
  },
  {
   "cell_type": "markdown",
   "id": "4f3f68ac",
   "metadata": {},
   "source": [
    "## 1.5 다중 변수 선언"
   ]
  },
  {
   "cell_type": "code",
   "execution_count": 62,
   "id": "8bc7cd32",
   "metadata": {
    "ExecuteTime": {
     "end_time": "2024-11-04T08:18:13.381927Z",
     "start_time": "2024-11-04T08:18:13.377928Z"
    }
   },
   "outputs": [],
   "source": [
    "a = 10\n",
    "b = 20"
   ]
  },
  {
   "cell_type": "code",
   "execution_count": 63,
   "id": "f172ac7d",
   "metadata": {
    "ExecuteTime": {
     "end_time": "2024-11-04T08:18:57.148498Z",
     "start_time": "2024-11-04T08:18:57.144497Z"
    }
   },
   "outputs": [],
   "source": [
    "a, b = 10, 20  # 동시에 다중 변수 선언"
   ]
  },
  {
   "cell_type": "code",
   "execution_count": 64,
   "id": "3e17470d",
   "metadata": {
    "ExecuteTime": {
     "end_time": "2024-11-04T08:19:02.495110Z",
     "start_time": "2024-11-04T08:19:02.489187Z"
    }
   },
   "outputs": [
    {
     "data": {
      "text/plain": [
       "(10, 20)"
      ]
     },
     "execution_count": 64,
     "metadata": {},
     "output_type": "execute_result"
    }
   ],
   "source": [
    "a, b"
   ]
  },
  {
   "cell_type": "code",
   "execution_count": 65,
   "id": "0b10a6b6",
   "metadata": {
    "ExecuteTime": {
     "end_time": "2024-11-04T08:19:33.757112Z",
     "start_time": "2024-11-04T08:19:33.753112Z"
    }
   },
   "outputs": [],
   "source": [
    "a, b = b, a+b  # 다중 변수 할당시 순차적 할당이 아닌 일괄 동시 할당"
   ]
  },
  {
   "cell_type": "code",
   "execution_count": 66,
   "id": "f400c064",
   "metadata": {
    "ExecuteTime": {
     "end_time": "2024-11-04T08:19:39.582802Z",
     "start_time": "2024-11-04T08:19:39.576803Z"
    }
   },
   "outputs": [
    {
     "data": {
      "text/plain": [
       "(20, 30)"
      ]
     },
     "execution_count": 66,
     "metadata": {},
     "output_type": "execute_result"
    }
   ],
   "source": [
    "a, b"
   ]
  },
  {
   "cell_type": "markdown",
   "id": "5dee466e",
   "metadata": {},
   "source": [
    "# 2절. 화면 i/o"
   ]
  },
  {
   "cell_type": "code",
   "execution_count": 69,
   "id": "24e120f9",
   "metadata": {
    "ExecuteTime": {
     "end_time": "2024-11-04T08:22:58.375995Z",
     "start_time": "2024-11-04T08:22:34.918360Z"
    }
   },
   "outputs": [
    {
     "name": "stdout",
     "output_type": "stream",
     "text": [
      "10\n"
     ]
    },
    {
     "data": {
      "text/plain": [
       "'10'"
      ]
     },
     "execution_count": 69,
     "metadata": {},
     "output_type": "execute_result"
    }
   ],
   "source": [
    "# input() : 사용자로부터 값을 입력받기 위한 함수. 입력값은 문자열\n",
    "first = input()\n",
    "first"
   ]
  },
  {
   "cell_type": "code",
   "execution_count": 71,
   "id": "9e20d535",
   "metadata": {
    "ExecuteTime": {
     "end_time": "2024-11-04T08:23:47.341817Z",
     "start_time": "2024-11-04T08:23:43.414951Z"
    }
   },
   "outputs": [
    {
     "name": "stdout",
     "output_type": "stream",
     "text": [
      "첫 번째 숫자는?10\n",
      "두 번째 숫자는?50\n"
     ]
    }
   ],
   "source": [
    "first = input('첫 번째 숫자는?')\n",
    "second = input('두 번째 숫자는?')"
   ]
  },
  {
   "cell_type": "code",
   "execution_count": 78,
   "id": "780f622e",
   "metadata": {
    "ExecuteTime": {
     "end_time": "2024-11-04T08:25:36.035011Z",
     "start_time": "2024-11-04T08:25:36.029009Z"
    }
   },
   "outputs": [
    {
     "name": "stdout",
     "output_type": "stream",
     "text": [
      "두 수의 합은 1050\n"
     ]
    }
   ],
   "source": [
    "print('두 수의 합은', first + second)  # 문자열+문자열"
   ]
  },
  {
   "cell_type": "code",
   "execution_count": 79,
   "id": "ef2d6a86",
   "metadata": {
    "ExecuteTime": {
     "end_time": "2024-11-04T08:25:37.587229Z",
     "start_time": "2024-11-04T08:25:37.581234Z"
    }
   },
   "outputs": [
    {
     "name": "stdout",
     "output_type": "stream",
     "text": [
      "두 수의 합은 60\n"
     ]
    }
   ],
   "source": [
    "print('두 수의 합은', int(first) + int(second))"
   ]
  },
  {
   "cell_type": "code",
   "execution_count": 80,
   "id": "4049010f",
   "metadata": {
    "ExecuteTime": {
     "end_time": "2024-11-04T08:25:50.707520Z",
     "start_time": "2024-11-04T08:25:50.701522Z"
    }
   },
   "outputs": [
    {
     "data": {
      "text/plain": [
       "60"
      ]
     },
     "execution_count": 80,
     "metadata": {},
     "output_type": "execute_result"
    }
   ],
   "source": [
    "int(first) + int(second)"
   ]
  },
  {
   "cell_type": "code",
   "execution_count": 81,
   "id": "a21dcd80",
   "metadata": {
    "ExecuteTime": {
     "end_time": "2024-11-04T08:26:38.985682Z",
     "start_time": "2024-11-04T08:26:38.980684Z"
    }
   },
   "outputs": [],
   "source": [
    "sum = int(first) + int(second)"
   ]
  },
  {
   "cell_type": "code",
   "execution_count": 82,
   "id": "69a7d4c1",
   "metadata": {
    "ExecuteTime": {
     "end_time": "2024-11-04T08:26:48.425476Z",
     "start_time": "2024-11-04T08:26:48.420479Z"
    }
   },
   "outputs": [
    {
     "name": "stdout",
     "output_type": "stream",
     "text": [
      "합 60\n"
     ]
    }
   ],
   "source": [
    "print('합', sum)"
   ]
  },
  {
   "cell_type": "code",
   "execution_count": 91,
   "id": "85baf04e",
   "metadata": {
    "ExecuteTime": {
     "end_time": "2024-11-04T08:31:38.015296Z",
     "start_time": "2024-11-04T08:31:38.010698Z"
    }
   },
   "outputs": [
    {
     "name": "stdout",
     "output_type": "stream",
     "text": [
      "합 / 60 / Hello / World \t\tHello ~ Python\n"
     ]
    }
   ],
   "source": [
    "# shift+tab+tab으로 도움말 보기\n",
    "print('합', sum, 'Hello', 'World', sep=' / ', end=' \\t\\t')\n",
    "print('Hello', 'Python', sep=' ~ ')"
   ]
  },
  {
   "cell_type": "code",
   "execution_count": 95,
   "id": "9dcc6926",
   "metadata": {
    "ExecuteTime": {
     "end_time": "2024-11-04T08:34:38.583327Z",
     "start_time": "2024-11-04T08:34:38.576340Z"
    }
   },
   "outputs": [
    {
     "name": "stdout",
     "output_type": "stream",
     "text": [
      "hello world Hello python\n"
     ]
    }
   ],
   "source": [
    "import sys\n",
    "print('hello', 'world', 'Hello', 'python', file=sys.stdout)"
   ]
  },
  {
   "cell_type": "markdown",
   "id": "ca6f43bf",
   "metadata": {},
   "source": [
    "# 3절. 기본 자료형\n",
    "- 프로그래밍 언어들은 변수가 가져야 할 값의 형식과 범위에 따라 값의 유형을 정해 놓고 사용\n",
    "- 자료형에 따라 값의 크기와 저장방식이 달라짐\n",
    "- 자료형에 따라 수행할 수 있는 명령어들이 달라짐\n",
    "\n",
    "    * `숫자` - int(정수), float(실수), complex(복소수)\n",
    "    * `문자` - str(문자와 문자열을 구분하지 않음)('', \"\" 둘 다 사용 가능)\n",
    "    * `논리` - bool(boolean)"
   ]
  },
  {
   "cell_type": "markdown",
   "id": "af3098ca",
   "metadata": {},
   "source": [
    "## 3.1 숫자형"
   ]
  },
  {
   "cell_type": "code",
   "execution_count": 96,
   "id": "8284dd31",
   "metadata": {
    "ExecuteTime": {
     "end_time": "2024-11-04T08:43:28.187021Z",
     "start_time": "2024-11-04T08:43:28.173571Z"
    }
   },
   "outputs": [
    {
     "name": "stdout",
     "output_type": "stream",
     "text": [
      "9223372036854775807\n"
     ]
    }
   ],
   "source": [
    "import sys\n",
    "print(sys.maxsize)  # 시스템이 저장할 수 있는 정수의 최대값 : 2^63-1"
   ]
  },
  {
   "cell_type": "code",
   "execution_count": 98,
   "id": "2affc030",
   "metadata": {
    "ExecuteTime": {
     "end_time": "2024-11-04T08:45:17.785366Z",
     "start_time": "2024-11-04T08:45:17.779367Z"
    }
   },
   "outputs": [
    {
     "name": "stdout",
     "output_type": "stream",
     "text": [
      "i값: 9223372036854775907\n",
      "<class 'int'>\n"
     ]
    }
   ],
   "source": [
    "i = sys.maxsize + 100\n",
    "print('i값:', i)\n",
    "print(type(i))\n",
    "# 수의 제한이 없음"
   ]
  },
  {
   "cell_type": "code",
   "execution_count": 99,
   "id": "6c6d8e01",
   "metadata": {
    "ExecuteTime": {
     "end_time": "2024-11-04T08:46:11.704996Z",
     "start_time": "2024-11-04T08:46:11.698018Z"
    }
   },
   "outputs": [
    {
     "data": {
      "text/plain": [
       "1.5"
      ]
     },
     "execution_count": 99,
     "metadata": {},
     "output_type": "execute_result"
    }
   ],
   "source": [
    "f = 3/2  # 정수/정수는 무조건 실수\n",
    "f"
   ]
  },
  {
   "cell_type": "code",
   "execution_count": 100,
   "id": "4e4af04e",
   "metadata": {
    "ExecuteTime": {
     "end_time": "2024-11-04T08:46:36.471813Z",
     "start_time": "2024-11-04T08:46:36.466063Z"
    }
   },
   "outputs": [
    {
     "data": {
      "text/plain": [
       "1.0"
      ]
     },
     "execution_count": 100,
     "metadata": {},
     "output_type": "execute_result"
    }
   ],
   "source": [
    "f = 3/3\n",
    "f"
   ]
  },
  {
   "cell_type": "code",
   "execution_count": 103,
   "id": "673f4bb7",
   "metadata": {
    "ExecuteTime": {
     "end_time": "2024-11-04T08:48:38.982838Z",
     "start_time": "2024-11-04T08:48:38.977833Z"
    }
   },
   "outputs": [
    {
     "name": "stdout",
     "output_type": "stream",
     "text": [
      "1\n",
      "1\n"
     ]
    }
   ],
   "source": [
    "# 자바처럼 정수/정수의 결과 : 정수로\n",
    "f = int(3/2)  # int() : int로 형변환\n",
    "print(f)\n",
    "f = 3//2  # 몫연산자\n",
    "print(f)"
   ]
  },
  {
   "cell_type": "code",
   "execution_count": 104,
   "id": "96e01f05",
   "metadata": {
    "ExecuteTime": {
     "end_time": "2024-11-04T08:49:51.988871Z",
     "start_time": "2024-11-04T08:49:51.984935Z"
    }
   },
   "outputs": [
    {
     "name": "stdout",
     "output_type": "stream",
     "text": [
      "(-1+0j)\n"
     ]
    }
   ],
   "source": [
    "c = 1j  # 수학시간 1i\n",
    "print(c**2)  # c의 제곱"
   ]
  },
  {
   "cell_type": "code",
   "execution_count": 107,
   "id": "8565ea69",
   "metadata": {
    "ExecuteTime": {
     "end_time": "2024-11-04T08:53:01.059939Z",
     "start_time": "2024-11-04T08:53:01.054983Z"
    }
   },
   "outputs": [
    {
     "name": "stdout",
     "output_type": "stream",
     "text": [
      "지수형은 실수형으로 저장 : 1120000000000.0\n",
      "지수형 표현으로 할당시 실수형으로 저장 :  1.12e-12\n"
     ]
    }
   ],
   "source": [
    "f = 1.12e12  # 1.12*10의 12승(1120000000000)\n",
    "print('지수형은 실수형으로 저장 :', f)\n",
    "f = 1.12e-12  # 1.12*10의 -12승\n",
    "print('지수형 표현으로 할당시 실수형으로 저장 : ', f)"
   ]
  },
  {
   "cell_type": "markdown",
   "id": "04122ac9",
   "metadata": {},
   "source": [
    "## 3.2 문자형"
   ]
  },
  {
   "cell_type": "code",
   "execution_count": 109,
   "id": "ad4a3743",
   "metadata": {
    "ExecuteTime": {
     "end_time": "2024-11-04T08:54:49.195221Z",
     "start_time": "2024-11-04T08:54:49.190221Z"
    }
   },
   "outputs": [
    {
     "name": "stdout",
     "output_type": "stream",
     "text": [
      "홍길동'짱' 서울시 관악구 '신림'동\n"
     ]
    }
   ],
   "source": [
    "name = '홍길동\\'짱\\'' # 홍길동'짱'\n",
    "address = \"서울시 관악구 '신림'동\"\n",
    "print(name, address)"
   ]
  },
  {
   "cell_type": "code",
   "execution_count": 111,
   "id": "497a025c",
   "metadata": {
    "ExecuteTime": {
     "end_time": "2024-11-04T08:56:44.002063Z",
     "start_time": "2024-11-04T08:56:43.997063Z"
    }
   },
   "outputs": [
    {
     "name": "stdout",
     "output_type": "stream",
     "text": [
      "여러 줄 내용 저장\n",
      "줄 바꿈 문자를 쓰면 당연히 여러 줄\n",
      "줄 바꿈은 가독성 떨어짐\n"
     ]
    }
   ],
   "source": [
    "text = '여러 줄 내용 저장\\n줄 바꿈 문자를 쓰면 당연히 여러 줄\\n줄 바꿈은 가독성 떨어짐'\n",
    "print(text)"
   ]
  },
  {
   "cell_type": "code",
   "execution_count": 112,
   "id": "66ea18fc",
   "metadata": {
    "ExecuteTime": {
     "end_time": "2024-11-04T08:57:42.266384Z",
     "start_time": "2024-11-04T08:57:42.260389Z"
    }
   },
   "outputs": [
    {
     "name": "stdout",
     "output_type": "stream",
     "text": [
      "여러 줄 내용 저장\n",
      "줄 바꿈 문자를 쓰지 않고 따옴표 3개로 처리\n",
      "이처럼 쓰는 경우가 더 많음\n",
      "\n"
     ]
    }
   ],
   "source": [
    "text = '''여러 줄 내용 저장\n",
    "줄 바꿈 문자를 쓰지 않고 따옴표 3개로 처리\n",
    "이처럼 쓰는 경우가 더 많음\n",
    "'''\n",
    "print(text)"
   ]
  },
  {
   "cell_type": "code",
   "execution_count": null,
   "id": "a7943f0e",
   "metadata": {},
   "outputs": [],
   "source": []
  }
 ],
 "metadata": {
  "kernelspec": {
   "display_name": "Python 3 (ipykernel)",
   "language": "python",
   "name": "python3"
  },
  "language_info": {
   "codemirror_mode": {
    "name": "ipython",
    "version": 3
   },
   "file_extension": ".py",
   "mimetype": "text/x-python",
   "name": "python",
   "nbconvert_exporter": "python",
   "pygments_lexer": "ipython3",
   "version": "3.10.9"
  },
  "toc": {
   "base_numbering": 1,
   "nav_menu": {},
   "number_sections": true,
   "sideBar": true,
   "skip_h1_title": false,
   "title_cell": "Table of Contents",
   "title_sidebar": "Contents",
   "toc_cell": false,
   "toc_position": {
    "height": "calc(100% - 180px)",
    "left": "10px",
    "top": "150px",
    "width": "165px"
   },
   "toc_section_display": true,
   "toc_window_display": true
  }
 },
 "nbformat": 4,
 "nbformat_minor": 5
}
