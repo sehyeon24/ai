{
 "cells": [
  {
   "cell_type": "code",
   "execution_count": 1,
   "id": "7a8ba9a8",
   "metadata": {
    "ExecuteTime": {
     "end_time": "2024-11-08T03:00:10.693937Z",
     "start_time": "2024-11-08T03:00:10.682505Z"
    }
   },
   "outputs": [
    {
     "data": {
      "text/html": [
       "\n",
       "<style>\n",
       "div.container{width:80% !important;}\n",
       "div.prompt {min-width:70px;}\n",
       "div#toc-header{margin-top:150px;}\n",
       "span.toc-item-num{display:none;}\n",
       "</style>\n"
      ],
      "text/plain": [
       "<IPython.core.display.HTML object>"
      ]
     },
     "metadata": {},
     "output_type": "display_data"
    }
   ],
   "source": [
    "from IPython.display import display, HTML\n",
    "display(HTML(\"\"\"\n",
    "<style>\n",
    "div.container{width:80% !important;}\n",
    "div.prompt {min-width:70px;}\n",
    "div#toc-header{margin-top:150px;}\n",
    "span.toc-item-num{display:none;}\n",
    "</style>\n",
    "\"\"\"))"
   ]
  },
  {
   "cell_type": "markdown",
   "id": "b55be565",
   "metadata": {},
   "source": [
    "<b><font color='red' size='6'>ch05. 함수</font></b>\n",
    " - 반복해서 사용할 코드를 묶어 놓고 그것에 이름을 붙인 것\n",
    " - 오버로딩 불가\n",
    " - 함수의 정의\n",
    " ```\n",
    " def 함수명([매개변수1, 매개변수2, ..]):\n",
    "     명령어1\n",
    "     명령어2\n",
    "     return 리턴할 값 (명령어)\n",
    "\n",
    " ```"
   ]
  },
  {
   "cell_type": "markdown",
   "id": "4350f0b7",
   "metadata": {},
   "source": [
    "# 1절. 함수의 정의 및 사용\n",
    "## 1.1 함수 정의하기"
   ]
  },
  {
   "cell_type": "code",
   "execution_count": 12,
   "id": "247654ac",
   "metadata": {
    "ExecuteTime": {
     "end_time": "2024-11-08T03:32:50.254720Z",
     "start_time": "2024-11-08T03:32:50.249006Z"
    }
   },
   "outputs": [],
   "source": [
    "def my_hello(x, msg):  # 함수 정의(매개변수 두 개)\n",
    "    for i in range(x):  # i가 0부터 x전까지 x번 반복\n",
    "        print(i, msg)"
   ]
  },
  {
   "cell_type": "code",
   "execution_count": 3,
   "id": "604e9aa2",
   "metadata": {
    "ExecuteTime": {
     "end_time": "2024-11-08T03:13:27.223900Z",
     "start_time": "2024-11-08T03:13:26.505980Z"
    }
   },
   "outputs": [
    {
     "ename": "TypeError",
     "evalue": "my_hello() missing 2 required positional arguments: 'x' and 'msg'",
     "output_type": "error",
     "traceback": [
      "\u001b[1;31m---------------------------------------------------------------------------\u001b[0m",
      "\u001b[1;31mTypeError\u001b[0m                                 Traceback (most recent call last)",
      "Cell \u001b[1;32mIn[3], line 1\u001b[0m\n\u001b[1;32m----> 1\u001b[0m \u001b[43mmy_hello\u001b[49m\u001b[43m(\u001b[49m\u001b[43m)\u001b[49m\n",
      "\u001b[1;31mTypeError\u001b[0m: my_hello() missing 2 required positional arguments: 'x' and 'msg'"
     ]
    }
   ],
   "source": [
    "my_hello()  # 함수 호출 시 매개변수(인자값)가 없으면 에러"
   ]
  },
  {
   "cell_type": "code",
   "execution_count": 13,
   "id": "e01d7e87",
   "metadata": {
    "ExecuteTime": {
     "end_time": "2024-11-08T03:33:28.885067Z",
     "start_time": "2024-11-08T03:33:28.880070Z"
    }
   },
   "outputs": [
    {
     "name": "stdout",
     "output_type": "stream",
     "text": [
      "0 Hello, python\n",
      "1 Hello, python\n",
      "2 Hello, python\n",
      "3 Hello, python\n",
      "4 Hello, python\n"
     ]
    }
   ],
   "source": [
    "my_hello(5, 'Hello, python')  # 함수 호출"
   ]
  },
  {
   "cell_type": "code",
   "execution_count": 14,
   "id": "f35f5c4e",
   "metadata": {
    "ExecuteTime": {
     "end_time": "2024-11-08T03:33:40.437198Z",
     "start_time": "2024-11-08T03:33:40.431178Z"
    }
   },
   "outputs": [
    {
     "data": {
      "text/plain": [
       "function"
      ]
     },
     "execution_count": 14,
     "metadata": {},
     "output_type": "execute_result"
    }
   ],
   "source": [
    "type(my_hello)  # 함수도 변수이므로 type()안에 함수도 가능"
   ]
  },
  {
   "cell_type": "code",
   "execution_count": 7,
   "id": "4e3eedd1",
   "metadata": {
    "ExecuteTime": {
     "end_time": "2024-11-08T03:16:32.663850Z",
     "start_time": "2024-11-08T03:16:32.656853Z"
    }
   },
   "outputs": [
    {
     "data": {
      "text/plain": [
       "int"
      ]
     },
     "execution_count": 7,
     "metadata": {},
     "output_type": "execute_result"
    }
   ],
   "source": [
    "my_hello = 10\n",
    "type(my_hello)"
   ]
  },
  {
   "cell_type": "code",
   "execution_count": 9,
   "id": "aaaab307",
   "metadata": {
    "ExecuteTime": {
     "end_time": "2024-11-08T03:17:02.007531Z",
     "start_time": "2024-11-08T03:17:01.985703Z"
    }
   },
   "outputs": [
    {
     "ename": "TypeError",
     "evalue": "'int' object is not callable",
     "output_type": "error",
     "traceback": [
      "\u001b[1;31m---------------------------------------------------------------------------\u001b[0m",
      "\u001b[1;31mTypeError\u001b[0m                                 Traceback (most recent call last)",
      "Cell \u001b[1;32mIn[9], line 1\u001b[0m\n\u001b[1;32m----> 1\u001b[0m \u001b[43mmy_hello\u001b[49m\u001b[43m(\u001b[49m\u001b[38;5;241;43m5\u001b[39;49m\u001b[43m,\u001b[49m\u001b[43m \u001b[49m\u001b[38;5;124;43m'\u001b[39;49m\u001b[38;5;124;43mHello, python\u001b[39;49m\u001b[38;5;124;43m'\u001b[39;49m\u001b[43m)\u001b[49m\n",
      "\u001b[1;31mTypeError\u001b[0m: 'int' object is not callable"
     ]
    }
   ],
   "source": [
    "my_hello(5, 'Hello, python')  # 함수 호출 에러"
   ]
  },
  {
   "cell_type": "code",
   "execution_count": 10,
   "id": "905e6c4c",
   "metadata": {
    "ExecuteTime": {
     "end_time": "2024-11-08T03:19:05.308336Z",
     "start_time": "2024-11-08T03:19:05.303339Z"
    }
   },
   "outputs": [],
   "source": [
    "del my_hello  # 변수를 삭제해도 함수는 사용불가(파이썬 내장함수만 사용가능)"
   ]
  },
  {
   "cell_type": "code",
   "execution_count": 11,
   "id": "04367546",
   "metadata": {
    "ExecuteTime": {
     "end_time": "2024-11-08T03:19:49.068121Z",
     "start_time": "2024-11-08T03:19:49.038997Z"
    }
   },
   "outputs": [
    {
     "ename": "NameError",
     "evalue": "name 'my_hello' is not defined",
     "output_type": "error",
     "traceback": [
      "\u001b[1;31m---------------------------------------------------------------------------\u001b[0m",
      "\u001b[1;31mNameError\u001b[0m                                 Traceback (most recent call last)",
      "Cell \u001b[1;32mIn[11], line 1\u001b[0m\n\u001b[1;32m----> 1\u001b[0m \u001b[43mmy_hello\u001b[49m()\n",
      "\u001b[1;31mNameError\u001b[0m: name 'my_hello' is not defined"
     ]
    }
   ],
   "source": [
    "my_hello()"
   ]
  },
  {
   "cell_type": "code",
   "execution_count": 15,
   "id": "041ebe94",
   "metadata": {
    "ExecuteTime": {
     "end_time": "2024-11-08T03:34:01.965540Z",
     "start_time": "2024-11-08T03:34:01.959540Z"
    }
   },
   "outputs": [],
   "source": [
    "def my_hello(x, msg):  # 함수 정의(매개변수 두 개)\n",
    "    for i in range(x):  # i가 0부터 x전까지 x번 반복\n",
    "        print(i, msg)"
   ]
  },
  {
   "cell_type": "code",
   "execution_count": 16,
   "id": "fbc7b5b2",
   "metadata": {
    "ExecuteTime": {
     "end_time": "2024-11-08T03:35:14.238059Z",
     "start_time": "2024-11-08T03:35:14.233060Z"
    }
   },
   "outputs": [],
   "source": [
    "def my_hello():  # 매개변수 없는 함수 // 위의 my_hello(x, msg)를 덮어씀\n",
    "    print('Hello, Python')\n",
    "    print('Hello, World')"
   ]
  },
  {
   "cell_type": "code",
   "execution_count": 17,
   "id": "ac975bbd",
   "metadata": {
    "ExecuteTime": {
     "end_time": "2024-11-08T03:35:24.476133Z",
     "start_time": "2024-11-08T03:35:24.438183Z"
    }
   },
   "outputs": [
    {
     "ename": "TypeError",
     "evalue": "my_hello() takes 0 positional arguments but 2 were given",
     "output_type": "error",
     "traceback": [
      "\u001b[1;31m---------------------------------------------------------------------------\u001b[0m",
      "\u001b[1;31mTypeError\u001b[0m                                 Traceback (most recent call last)",
      "Cell \u001b[1;32mIn[17], line 1\u001b[0m\n\u001b[1;32m----> 1\u001b[0m \u001b[43mmy_hello\u001b[49m\u001b[43m(\u001b[49m\u001b[38;5;241;43m3\u001b[39;49m\u001b[43m,\u001b[49m\u001b[43m \u001b[49m\u001b[38;5;124;43m'\u001b[39;49m\u001b[38;5;124;43mhello\u001b[39;49m\u001b[38;5;124;43m'\u001b[39;49m\u001b[43m)\u001b[49m\n",
      "\u001b[1;31mTypeError\u001b[0m: my_hello() takes 0 positional arguments but 2 were given"
     ]
    }
   ],
   "source": [
    "my_hello(3, 'hello')  # 에러"
   ]
  },
  {
   "cell_type": "code",
   "execution_count": 18,
   "id": "5cececc2",
   "metadata": {
    "ExecuteTime": {
     "end_time": "2024-11-08T03:35:32.171086Z",
     "start_time": "2024-11-08T03:35:32.166089Z"
    }
   },
   "outputs": [
    {
     "name": "stdout",
     "output_type": "stream",
     "text": [
      "Hello, Python\n",
      "Hello, World\n"
     ]
    }
   ],
   "source": [
    "my_hello()"
   ]
  },
  {
   "cell_type": "code",
   "execution_count": 19,
   "id": "85425977",
   "metadata": {
    "ExecuteTime": {
     "end_time": "2024-11-08T03:36:27.924426Z",
     "start_time": "2024-11-08T03:36:27.918650Z"
    }
   },
   "outputs": [
    {
     "data": {
      "text/plain": [
       "<function __main__.my_hello()>"
      ]
     },
     "execution_count": 19,
     "metadata": {},
     "output_type": "execute_result"
    }
   ],
   "source": [
    "my_hello"
   ]
  },
  {
   "cell_type": "code",
   "execution_count": 20,
   "id": "4d2f2dc6",
   "metadata": {
    "ExecuteTime": {
     "end_time": "2024-11-08T03:37:22.955136Z",
     "start_time": "2024-11-08T03:37:22.950016Z"
    }
   },
   "outputs": [
    {
     "data": {
      "text/plain": [
       "'__main__'"
      ]
     },
     "execution_count": 20,
     "metadata": {},
     "output_type": "execute_result"
    }
   ],
   "source": [
    "__name__  # 지금 실행하는 함수의 위치"
   ]
  },
  {
   "cell_type": "code",
   "execution_count": 22,
   "id": "64bab634",
   "metadata": {
    "ExecuteTime": {
     "end_time": "2024-11-08T03:38:52.930580Z",
     "start_time": "2024-11-08T03:38:52.925189Z"
    }
   },
   "outputs": [
    {
     "name": "stdout",
     "output_type": "stream",
     "text": [
      "Hello, Python\n",
      "Hello, World\n"
     ]
    }
   ],
   "source": [
    "if __name__ == '__main__':\n",
    "    my_hello()"
   ]
  },
  {
   "cell_type": "code",
   "execution_count": 1,
   "id": "ac5363aa",
   "metadata": {
    "ExecuteTime": {
     "end_time": "2024-11-08T03:57:52.919386Z",
     "start_time": "2024-11-08T03:57:52.888726Z"
    }
   },
   "outputs": [],
   "source": [
    "import a  # VSCode에서 생성한 a.py가 해석돼서 메모리 로드"
   ]
  },
  {
   "cell_type": "code",
   "execution_count": 3,
   "id": "c1032b8f",
   "metadata": {
    "ExecuteTime": {
     "end_time": "2024-11-08T04:00:19.197778Z",
     "start_time": "2024-11-08T04:00:19.193779Z"
    }
   },
   "outputs": [
    {
     "name": "stdout",
     "output_type": "stream",
     "text": [
      "모듈(*.py파일) 테스트입니다\n",
      "주말 잘 보내세요\n"
     ]
    }
   ],
   "source": [
    "a.test()"
   ]
  },
  {
   "cell_type": "code",
   "execution_count": 1,
   "id": "1b1791b7",
   "metadata": {
    "ExecuteTime": {
     "end_time": "2024-11-08T04:08:55.245123Z",
     "start_time": "2024-11-08T04:08:55.225568Z"
    }
   },
   "outputs": [],
   "source": [
    "from a import test  # a모듈 안의 test만 로드"
   ]
  },
  {
   "cell_type": "code",
   "execution_count": 2,
   "id": "ffa3f990",
   "metadata": {
    "ExecuteTime": {
     "end_time": "2024-11-08T04:08:57.139065Z",
     "start_time": "2024-11-08T04:08:57.132046Z"
    }
   },
   "outputs": [
    {
     "name": "stdout",
     "output_type": "stream",
     "text": [
      "모듈(*.py파일) 테스트입니다\n",
      "주말 잘 보내세요\n"
     ]
    }
   ],
   "source": [
    "test()"
   ]
  },
  {
   "cell_type": "markdown",
   "id": "9091f296",
   "metadata": {},
   "source": [
    "## 1.2 docstring"
   ]
  },
  {
   "cell_type": "code",
   "execution_count": 39,
   "id": "a2bdaa88",
   "metadata": {
    "ExecuteTime": {
     "end_time": "2024-11-08T06:28:26.367790Z",
     "start_time": "2024-11-08T06:28:26.362793Z"
    }
   },
   "outputs": [],
   "source": [
    "def my_function():\n",
    "    '''\n",
    "    함수의 첫 라인에 docstring을 포함할 수 있습니다.\n",
    "    docstring은 함수의 설명서를 달아주는 역할.\n",
    "    주석보다 많은 기능(함수 호출 시 shift+tab으로 docstring을 볼 수 있음)\n",
    "    '''\n",
    "    pass"
   ]
  },
  {
   "cell_type": "code",
   "execution_count": 11,
   "id": "c4b35334",
   "metadata": {
    "ExecuteTime": {
     "end_time": "2024-11-08T04:05:04.947341Z",
     "start_time": "2024-11-08T04:05:04.942342Z"
    }
   },
   "outputs": [],
   "source": [
    "my_function()  # ()안에 커서를 두고 shift+tab으로 확인"
   ]
  },
  {
   "cell_type": "code",
   "execution_count": 10,
   "id": "f756b00e",
   "metadata": {
    "ExecuteTime": {
     "end_time": "2024-11-08T04:04:53.228578Z",
     "start_time": "2024-11-08T04:04:53.223582Z"
    }
   },
   "outputs": [
    {
     "name": "stdout",
     "output_type": "stream",
     "text": [
      "\n",
      "    함수의 첫 라인에 docstring을 포함할 수 있습니다.\n",
      "    docstring은 함수의 설명서를 달아주는 역할.\n",
      "    주석보다 많은 기능(함수 호출 시 shit+tab으로 docstring을 볼 수 있음)\n",
      "    \n"
     ]
    }
   ],
   "source": [
    "print(my_function.__doc__)"
   ]
  },
  {
   "cell_type": "code",
   "execution_count": 7,
   "id": "f7e38177",
   "metadata": {
    "ExecuteTime": {
     "end_time": "2024-11-08T05:20:18.908551Z",
     "start_time": "2024-11-08T05:20:18.902686Z"
    }
   },
   "outputs": [],
   "source": [
    "def fibonacci(n):\n",
    "    \"\"\"\n",
    "    매개변수로 들어온 n값 미만의 피보나치 수열을 출력합니다.\n",
    "    ex. n = 10 : 0, 1, 1, 2, 3, 5, 8\n",
    "    \"\"\"\n",
    "    a, b = 0, 1\n",
    "    while a < n:\n",
    "        print(a, end=' ')\n",
    "        a, b = b, a+b\n",
    "    print()"
   ]
  },
  {
   "cell_type": "code",
   "execution_count": 8,
   "id": "1fae4ab8",
   "metadata": {
    "ExecuteTime": {
     "end_time": "2024-11-08T05:20:20.345746Z",
     "start_time": "2024-11-08T05:20:20.340749Z"
    }
   },
   "outputs": [
    {
     "name": "stdout",
     "output_type": "stream",
     "text": [
      "0 1 1 2 3 5 8 \n"
     ]
    }
   ],
   "source": [
    "fibonacci(10)"
   ]
  },
  {
   "cell_type": "markdown",
   "id": "c9dd5d48",
   "metadata": {},
   "source": [
    "## 1.3 지역변수(local var)와 전역변수(global var)\n",
    " - 지역변수 : 함수 안에서 만든 변수(함수를 수행하고 벗어나면 사용하지 못함(사라짐))\n",
    " - 전역변수 : 함수 밖에서 만든 변수(함수 안과 밖에서 사용 가능)"
   ]
  },
  {
   "cell_type": "code",
   "execution_count": 12,
   "id": "c0a343b4",
   "metadata": {
    "ExecuteTime": {
     "end_time": "2024-11-08T05:27:22.281227Z",
     "start_time": "2024-11-08T05:27:22.275229Z"
    }
   },
   "outputs": [
    {
     "name": "stdout",
     "output_type": "stream",
     "text": [
      "함수 안 : 100\n",
      "함수 밖 : 100\n"
     ]
    }
   ],
   "source": [
    "global_var = 100  # 전역변수\n",
    "def func1():\n",
    "    print('함수 안 :', global_var)\n",
    "func1()\n",
    "print('함수 밖 :', global_var)"
   ]
  },
  {
   "cell_type": "code",
   "execution_count": 16,
   "id": "5109081e",
   "metadata": {
    "ExecuteTime": {
     "end_time": "2024-11-08T05:29:49.306863Z",
     "start_time": "2024-11-08T05:29:49.282080Z"
    }
   },
   "outputs": [
    {
     "name": "stdout",
     "output_type": "stream",
     "text": [
      "함수 안: 200\n"
     ]
    },
    {
     "ename": "NameError",
     "evalue": "name 'local_var' is not defined",
     "output_type": "error",
     "traceback": [
      "\u001b[1;31m---------------------------------------------------------------------------\u001b[0m",
      "\u001b[1;31mNameError\u001b[0m                                 Traceback (most recent call last)",
      "Cell \u001b[1;32mIn[16], line 5\u001b[0m\n\u001b[0;32m      3\u001b[0m     \u001b[38;5;28mprint\u001b[39m(\u001b[38;5;124m'\u001b[39m\u001b[38;5;124m함수 안:\u001b[39m\u001b[38;5;124m'\u001b[39m, local_var)\n\u001b[0;32m      4\u001b[0m func2()\n\u001b[1;32m----> 5\u001b[0m \u001b[38;5;28mprint\u001b[39m(\u001b[38;5;124m'\u001b[39m\u001b[38;5;124m함수 밖 :\u001b[39m\u001b[38;5;124m'\u001b[39m, \u001b[43mlocal_var\u001b[49m)\n",
      "\u001b[1;31mNameError\u001b[0m: name 'local_var' is not defined"
     ]
    }
   ],
   "source": [
    "def func2():\n",
    "    local_var = 200  # 지역변수\n",
    "    print('함수 안:', local_var)\n",
    "func2()\n",
    "print('함수 밖 :', local_var)  # 에러"
   ]
  },
  {
   "cell_type": "code",
   "execution_count": 17,
   "id": "2a881730",
   "metadata": {
    "ExecuteTime": {
     "end_time": "2024-11-08T05:32:45.877503Z",
     "start_time": "2024-11-08T05:32:45.871395Z"
    }
   },
   "outputs": [
    {
     "name": "stdout",
     "output_type": "stream",
     "text": [
      "지역변수 g_var : 200\n",
      "전역변수 g_var : 100\n"
     ]
    }
   ],
   "source": [
    "g_var = 100  # 전역변수(변수 선언과 할당을 동시에)\n",
    "def func3():\n",
    "    g_var = 200  # 지역변수(변수 선언과 할당) : 전역변수와 이름이 같아도 무관\n",
    "    print('지역변수 g_var :', g_var)\n",
    "func3()\n",
    "print('전역변수 g_var :', g_var)"
   ]
  },
  {
   "cell_type": "code",
   "execution_count": 19,
   "id": "f142ef9f",
   "metadata": {
    "ExecuteTime": {
     "end_time": "2024-11-08T05:36:40.145940Z",
     "start_time": "2024-11-08T05:36:40.110014Z"
    }
   },
   "outputs": [
    {
     "ename": "UnboundLocalError",
     "evalue": "local variable 'g_var' referenced before assignment",
     "output_type": "error",
     "traceback": [
      "\u001b[1;31m---------------------------------------------------------------------------\u001b[0m",
      "\u001b[1;31mUnboundLocalError\u001b[0m                         Traceback (most recent call last)",
      "Cell \u001b[1;32mIn[19], line 6\u001b[0m\n\u001b[0;32m      4\u001b[0m     \u001b[38;5;28mprint\u001b[39m(\u001b[38;5;124m'\u001b[39m\u001b[38;5;124m함수 안 g_var :\u001b[39m\u001b[38;5;124m'\u001b[39m, g_var)  \u001b[38;5;66;03m# 전역변수 출력\u001b[39;00m\n\u001b[0;32m      5\u001b[0m     g_var \u001b[38;5;241m=\u001b[39m \u001b[38;5;241m200\u001b[39m  \u001b[38;5;66;03m# 지역변수 \u001b[39;00m\n\u001b[1;32m----> 6\u001b[0m \u001b[43mfunc3\u001b[49m\u001b[43m(\u001b[49m\u001b[43m)\u001b[49m\n",
      "Cell \u001b[1;32mIn[19], line 4\u001b[0m, in \u001b[0;36mfunc3\u001b[1;34m()\u001b[0m\n\u001b[0;32m      3\u001b[0m \u001b[38;5;28;01mdef\u001b[39;00m \u001b[38;5;21mfunc3\u001b[39m():\n\u001b[1;32m----> 4\u001b[0m     \u001b[38;5;28mprint\u001b[39m(\u001b[38;5;124m'\u001b[39m\u001b[38;5;124m함수 안 g_var :\u001b[39m\u001b[38;5;124m'\u001b[39m, \u001b[43mg_var\u001b[49m)  \u001b[38;5;66;03m# 전역변수 출력\u001b[39;00m\n\u001b[0;32m      5\u001b[0m     g_var \u001b[38;5;241m=\u001b[39m \u001b[38;5;241m200\u001b[39m\n",
      "\u001b[1;31mUnboundLocalError\u001b[0m: local variable 'g_var' referenced before assignment"
     ]
    }
   ],
   "source": [
    "# 렉시컬 특성 : 함수 밖 전역변수를 함수 안에서 사용하고자 할 때\n",
    "g_var = 100  # 전역변수\n",
    "def func3():\n",
    "    print('함수 안 g_var :', g_var)  # 에러\n",
    "    g_var = 200  # 지역변수 \n",
    "func3()"
   ]
  },
  {
   "cell_type": "code",
   "execution_count": 21,
   "id": "2aa0c04b",
   "metadata": {
    "ExecuteTime": {
     "end_time": "2024-11-08T05:41:34.881295Z",
     "start_time": "2024-11-08T05:41:34.866505Z"
    }
   },
   "outputs": [
    {
     "name": "stdout",
     "output_type": "stream",
     "text": [
      "함수 안 g_var : 100\n",
      "함수 밖 g_var : 200\n"
     ]
    }
   ],
   "source": [
    "# 렉시컬 특성 : 함수 밖 전역변수를 함수 안에서 사용하고자 할 때\n",
    "g_var = 100  # 전역변수\n",
    "def func3():\n",
    "    global g_var  # func3 함수 내에서의 g_var는 전역변수를 사용\n",
    "    print('함수 안 g_var :', g_var)\n",
    "    g_var = 200  # 지역변수 \n",
    "func3()\n",
    "print('함수 밖 g_var :', g_var)"
   ]
  },
  {
   "cell_type": "markdown",
   "id": "70844a1f",
   "metadata": {},
   "source": [
    "## 1.4 값에 의한 호출\n",
    " - 함수에 인수로 전달되는 변수가 스칼라변수(문자, 숫자, 논리형)일 때"
   ]
  },
  {
   "cell_type": "code",
   "execution_count": 23,
   "id": "be71058d",
   "metadata": {
    "ExecuteTime": {
     "end_time": "2024-11-08T05:47:28.262531Z",
     "start_time": "2024-11-08T05:47:28.256533Z"
    }
   },
   "outputs": [
    {
     "data": {
      "text/plain": [
       "1717362059248"
      ]
     },
     "execution_count": 23,
     "metadata": {},
     "output_type": "execute_result"
    }
   ],
   "source": [
    "foo = 'a'  # 전역변수\n",
    "id(foo)  # 주소"
   ]
  },
  {
   "cell_type": "code",
   "execution_count": 29,
   "id": "61a89878",
   "metadata": {
    "ExecuteTime": {
     "end_time": "2024-11-08T05:52:38.466332Z",
     "start_time": "2024-11-08T05:52:38.461333Z"
    }
   },
   "outputs": [
    {
     "name": "stdout",
     "output_type": "stream",
     "text": [
      "Before : a 의 주소는  1717362059248\n",
      "After : aaa 의 주소는  1717431506800\n"
     ]
    }
   ],
   "source": [
    "def func1(f):  # 매개변수는 지역변수\n",
    "    print('Before :', f, '의 주소는 ', id(f))\n",
    "    f = f*3  # aaa\n",
    "    print('After :', f, '의 주소는 ', id(f))\n",
    "func1(foo)"
   ]
  },
  {
   "cell_type": "code",
   "execution_count": 33,
   "id": "6672fee6",
   "metadata": {
    "ExecuteTime": {
     "end_time": "2024-11-08T05:57:17.704034Z",
     "start_time": "2024-11-08T05:57:17.698037Z"
    }
   },
   "outputs": [
    {
     "name": "stdout",
     "output_type": "stream",
     "text": [
      "foo = a 의 주소는 1717362059248\n"
     ]
    }
   ],
   "source": [
    "print('foo =', foo, '의 주소는 ', id(foo))"
   ]
  },
  {
   "cell_type": "markdown",
   "id": "cd1a90a8",
   "metadata": {},
   "source": [
    "## 1.5 참조에 의한 호출\n",
    " - 함수에 인수로 전돨되는 변수가 리스트, 튜플, 셋, 딕셔너리, 객체일 경우"
   ]
  },
  {
   "cell_type": "code",
   "execution_count": 34,
   "id": "cd411b50",
   "metadata": {
    "ExecuteTime": {
     "end_time": "2024-11-08T05:57:29.952909Z",
     "start_time": "2024-11-08T05:57:29.945909Z"
    }
   },
   "outputs": [
    {
     "data": {
      "text/plain": [
       "1717485968768"
      ]
     },
     "execution_count": 34,
     "metadata": {},
     "output_type": "execute_result"
    }
   ],
   "source": [
    "L = [1, 2, 3, 4, 5]\n",
    "id(L)  # L의 주소"
   ]
  },
  {
   "cell_type": "code",
   "execution_count": 37,
   "id": "2a1d7eec",
   "metadata": {
    "ExecuteTime": {
     "end_time": "2024-11-08T05:59:17.896051Z",
     "start_time": "2024-11-08T05:59:17.889053Z"
    }
   },
   "outputs": [
    {
     "name": "stdout",
     "output_type": "stream",
     "text": [
      "before : [1, 2, 3, 4, 5] 의 주소는  1717485968768\n",
      "after : [1, 2, 3, 4, 5, 6] 의 주소는  1717485968768\n"
     ]
    }
   ],
   "source": [
    "def func2(f):  # 매개변수는 지역변수\n",
    "    print('before :', f, '의 주소는 ', id(f))\n",
    "    f.append(6)\n",
    "    print('after :', f, '의 주소는 ', id(f))\n",
    "func2(L)"
   ]
  },
  {
   "cell_type": "code",
   "execution_count": 38,
   "id": "cc829e4c",
   "metadata": {
    "ExecuteTime": {
     "end_time": "2024-11-08T06:01:41.134612Z",
     "start_time": "2024-11-08T06:01:41.128615Z"
    }
   },
   "outputs": [
    {
     "name": "stdout",
     "output_type": "stream",
     "text": [
      "L = [1, 2, 3, 4, 5, 6] 의 주소는  1717485968768\n"
     ]
    }
   ],
   "source": [
    "print('L =', L, '의 주소는 ', id(L))"
   ]
  },
  {
   "cell_type": "markdown",
   "id": "58d3cc43",
   "metadata": {},
   "source": [
    "## 1.6 함수의 이름 변경\n",
    " - Python : 함수형언어,객체지향언어"
   ]
  },
  {
   "cell_type": "code",
   "execution_count": 40,
   "id": "83e5f02b",
   "metadata": {
    "ExecuteTime": {
     "end_time": "2024-11-08T06:28:36.439014Z",
     "start_time": "2024-11-08T06:28:36.434016Z"
    }
   },
   "outputs": [
    {
     "name": "stdout",
     "output_type": "stream",
     "text": [
      "0 1 1 2 3 5 8 13 \n"
     ]
    }
   ],
   "source": [
    "fibonacci(20)"
   ]
  },
  {
   "cell_type": "code",
   "execution_count": 41,
   "id": "d608b8f7",
   "metadata": {
    "ExecuteTime": {
     "end_time": "2024-11-08T06:29:26.878068Z",
     "start_time": "2024-11-08T06:29:26.873070Z"
    }
   },
   "outputs": [],
   "source": [
    "fibo = fibonacci  # fibonacci 함수이름을 fibo로도 사용가능"
   ]
  },
  {
   "cell_type": "code",
   "execution_count": 42,
   "id": "4cf1c901",
   "metadata": {
    "ExecuteTime": {
     "end_time": "2024-11-08T06:29:27.636535Z",
     "start_time": "2024-11-08T06:29:27.632268Z"
    }
   },
   "outputs": [
    {
     "name": "stdout",
     "output_type": "stream",
     "text": [
      "0 1 1 2 3 5 8 13 \n"
     ]
    }
   ],
   "source": [
    "fibo(20)"
   ]
  },
  {
   "cell_type": "code",
   "execution_count": 46,
   "id": "d1f7bdb8",
   "metadata": {
    "ExecuteTime": {
     "end_time": "2024-11-08T06:30:35.086557Z",
     "start_time": "2024-11-08T06:30:35.071822Z"
    }
   },
   "outputs": [
    {
     "name": "stdout",
     "output_type": "stream",
     "text": [
      "0 1 1 2 3 5 8 13 \n"
     ]
    }
   ],
   "source": [
    "import random\n",
    "temp = random.randint\n",
    "fibo(20)"
   ]
  },
  {
   "cell_type": "markdown",
   "id": "487cb821",
   "metadata": {},
   "source": [
    "# 2절. 함수의 실행결과를 반환하는 return"
   ]
  },
  {
   "cell_type": "code",
   "execution_count": 48,
   "id": "83804246",
   "metadata": {
    "ExecuteTime": {
     "end_time": "2024-11-08T06:35:01.550151Z",
     "start_time": "2024-11-08T06:35:01.543153Z"
    }
   },
   "outputs": [],
   "source": [
    "def fibonacci_print(n):  # return하지 않고 print\n",
    "    \"\"\"\n",
    "    매개변수로 들어온 n값 미만의 피보나치 수열을 출력합니다.\n",
    "    ex. n = 10 : 0, 1, 1, 2, 3, 5, 8\n",
    "    \"\"\"\n",
    "    a, b = 0, 1\n",
    "    while a < n:\n",
    "        print(a, end=' ')\n",
    "        a, b = b, a+b\n",
    "    print()\n",
    "def fibonacci(n):\n",
    "    \"\"\"\n",
    "    매개변수로 들어온 n값 미만의 피보나치 수열을 리스트로 return\n",
    "    \"\"\"\n",
    "    result = []\n",
    "    a, b = 0, 1\n",
    "    while a < n:  # a>=n이면 while문 멈춤\n",
    "        result.append(a)\n",
    "        a, b = b, a+b\n",
    "    return result"
   ]
  },
  {
   "cell_type": "code",
   "execution_count": 51,
   "id": "ae99e9bb",
   "metadata": {
    "ExecuteTime": {
     "end_time": "2024-11-08T06:36:35.962960Z",
     "start_time": "2024-11-08T06:36:35.957961Z"
    }
   },
   "outputs": [
    {
     "name": "stdout",
     "output_type": "stream",
     "text": [
      "0 1 1 2 3 5 8 \n",
      "None\n",
      "<class 'NoneType'>\n"
     ]
    }
   ],
   "source": [
    "x = fibonacci_print(10)\n",
    "print(x)  # return이 없는 함수를 할당 받으면 None(결측치)을 반환\n",
    "print(type(x))"
   ]
  },
  {
   "cell_type": "code",
   "execution_count": 54,
   "id": "3d8bc7c5",
   "metadata": {
    "ExecuteTime": {
     "end_time": "2024-11-08T06:37:49.714277Z",
     "start_time": "2024-11-08T06:37:49.710279Z"
    }
   },
   "outputs": [
    {
     "name": "stdout",
     "output_type": "stream",
     "text": [
      "[0, 1, 1, 2, 3, 5, 8]\n",
      "<class 'list'>\n"
     ]
    }
   ],
   "source": [
    "x = fibonacci(10)\n",
    "print(x)\n",
    "print(type(x))"
   ]
  },
  {
   "cell_type": "markdown",
   "id": "5456546a",
   "metadata": {},
   "source": [
    "### 여러 개 값 return"
   ]
  },
  {
   "cell_type": "code",
   "execution_count": 55,
   "id": "940a9f99",
   "metadata": {
    "ExecuteTime": {
     "end_time": "2024-11-08T06:39:47.600304Z",
     "start_time": "2024-11-08T06:39:47.596298Z"
    }
   },
   "outputs": [],
   "source": [
    "def swap(a, b):\n",
    "    '''\n",
    "    매개변수의 순서를 바꿔서 return\n",
    "    '''\n",
    "    return b, a  # 여러 개의 값이 아닌 튜플 하나(괄호 생략됨)"
   ]
  },
  {
   "cell_type": "code",
   "execution_count": 58,
   "id": "707294d9",
   "metadata": {
    "ExecuteTime": {
     "end_time": "2024-11-08T06:41:01.553439Z",
     "start_time": "2024-11-08T06:41:01.547442Z"
    }
   },
   "outputs": [
    {
     "name": "stdout",
     "output_type": "stream",
     "text": [
      "함수 실행 전 x, y =  5 10\n",
      "함수 실행 후 x, y =  10 5\n"
     ]
    }
   ],
   "source": [
    "x, y = 5, 10\n",
    "print('함수 실행 전 x, y = ', x, y)\n",
    "x, y = swap(x, y)\n",
    "print('함수 실행 후 x, y = ', x, y)"
   ]
  },
  {
   "cell_type": "code",
   "execution_count": 60,
   "id": "5d413f65",
   "metadata": {
    "ExecuteTime": {
     "end_time": "2024-11-08T06:41:28.511434Z",
     "start_time": "2024-11-08T06:41:28.507303Z"
    }
   },
   "outputs": [
    {
     "name": "stdout",
     "output_type": "stream",
     "text": [
      "<class 'tuple'>\n",
      "(20, 10)\n"
     ]
    }
   ],
   "source": [
    "a = swap(10, 20)\n",
    "print(type(a))\n",
    "print(a)"
   ]
  },
  {
   "cell_type": "markdown",
   "id": "ef3ec307",
   "metadata": {},
   "source": [
    "# 3절. 함수의 매개변수 ★\n",
    "## 3.1 기본값을 갖는 매개변수"
   ]
  },
  {
   "cell_type": "code",
   "execution_count": 62,
   "id": "e05e2ee9",
   "metadata": {
    "ExecuteTime": {
     "end_time": "2024-11-08T06:46:47.309658Z",
     "start_time": "2024-11-08T06:46:47.304645Z"
    }
   },
   "outputs": [],
   "source": [
    "# 기본값을 갖는 매개변수 사용 시 순서인수가 뒤에 와야 함\n",
    "# (순서인수,기본값을갖는매개변수)\n",
    "def make_url(ip, port=80):  # port의 값이 들어오지 않으면 기본값을 사용하도록 함\n",
    "    return \"http://{}:{}\".format(ip, port)"
   ]
  },
  {
   "cell_type": "code",
   "execution_count": 65,
   "id": "61d7b3c7",
   "metadata": {
    "ExecuteTime": {
     "end_time": "2024-11-08T06:50:13.916238Z",
     "start_time": "2024-11-08T06:50:13.911237Z"
    }
   },
   "outputs": [
    {
     "name": "stdout",
     "output_type": "stream",
     "text": [
      "http://localhost:8090\n",
      "http://localhost:80\n",
      "http://www.naver.com:9090\n"
     ]
    }
   ],
   "source": [
    "print(make_url('localhost', 8090))  # 입력하면 입력값대로\n",
    "print(make_url('localhost'))        # 입력하지 않으면 기본값대로\n",
    "print(make_url(port=9090, ip='www.naver.com'))  # 변수 순서 변경 시 매개변수 이름까지 출력"
   ]
  },
  {
   "cell_type": "markdown",
   "id": "c2970a9c",
   "metadata": {},
   "source": [
    "## 3.2 기본변수를 갖는 매개변수\n",
    " - 기본변수가 스칼라변수(문자, 숫자, 논리형)일 때\n",
    " - 기본변수가 리스트, 셋, 딕셔너리 또는 객체일 때"
   ]
  },
  {
   "cell_type": "code",
   "execution_count": 69,
   "id": "56e578dd",
   "metadata": {
    "ExecuteTime": {
     "end_time": "2024-11-08T06:56:32.871911Z",
     "start_time": "2024-11-08T06:56:32.866914Z"
    }
   },
   "outputs": [],
   "source": [
    "i = 5\n",
    "# 기본변수가 스칼라변수일 때 : arg의 기본값은 함수가 정의되는 시점\n",
    "def func2(arg = i):  # i는 이미 5로 정의되어 있어서 ↓\n",
    "    print('arg =', arg)"
   ]
  },
  {
   "cell_type": "code",
   "execution_count": 72,
   "id": "9efdc738",
   "metadata": {
    "ExecuteTime": {
     "end_time": "2024-11-08T06:57:06.423476Z",
     "start_time": "2024-11-08T06:57:06.418477Z"
    }
   },
   "outputs": [
    {
     "name": "stdout",
     "output_type": "stream",
     "text": [
      "arg = 5\n"
     ]
    }
   ],
   "source": [
    "i = 10  # i를 바꿔도 func2()는 변하지 않음\n",
    "func2()"
   ]
  },
  {
   "cell_type": "code",
   "execution_count": 76,
   "id": "c6e713f9",
   "metadata": {
    "ExecuteTime": {
     "end_time": "2024-11-08T07:17:48.062664Z",
     "start_time": "2024-11-08T07:17:48.056666Z"
    }
   },
   "outputs": [
    {
     "name": "stdout",
     "output_type": "stream",
     "text": [
      "[10]\n",
      "list_ : [10]\n"
     ]
    }
   ],
   "source": [
    "# 기본변수가 리스트, 셋, 딕셔너리 또는 객체일 때 : 실행되는 시점으로 \n",
    "list_ = []\n",
    "def func3(a, L=list_):\n",
    "    L.append(a)\n",
    "    return L\n",
    "print(func3(10))  # 빈 리스트에 10 추가\n",
    "print('list_ :', list_)"
   ]
  },
  {
   "cell_type": "code",
   "execution_count": 77,
   "id": "d06f2b06",
   "metadata": {
    "ExecuteTime": {
     "end_time": "2024-11-08T07:19:15.493552Z",
     "start_time": "2024-11-08T07:19:15.487159Z"
    }
   },
   "outputs": [
    {
     "name": "stdout",
     "output_type": "stream",
     "text": [
      "[10, 20]\n",
      "list_ : [10, 20]\n"
     ]
    }
   ],
   "source": [
    "print(func3(20))  # 10이 추가된 리스트에 20 추가\n",
    "print('list_ :', list_)"
   ]
  },
  {
   "cell_type": "code",
   "execution_count": 78,
   "id": "8699ecee",
   "metadata": {
    "ExecuteTime": {
     "end_time": "2024-11-08T07:20:07.267557Z",
     "start_time": "2024-11-08T07:20:07.262559Z"
    }
   },
   "outputs": [
    {
     "name": "stdout",
     "output_type": "stream",
     "text": [
      "[10, 20, 30]\n",
      "list_ : [10, 20, 30]\n"
     ]
    }
   ],
   "source": [
    "print(func3(30))  # 20이 추가된 리스트에 30 추가\n",
    "print('list_ :', list_)"
   ]
  },
  {
   "cell_type": "code",
   "execution_count": 81,
   "id": "c79ede49",
   "metadata": {
    "ExecuteTime": {
     "end_time": "2024-11-08T07:21:51.324980Z",
     "start_time": "2024-11-08T07:21:51.316979Z"
    }
   },
   "outputs": [
    {
     "name": "stdout",
     "output_type": "stream",
     "text": [
      "[10]\n"
     ]
    },
    {
     "data": {
      "text/plain": [
       "[1, 2, 3, 10]"
      ]
     },
     "execution_count": 81,
     "metadata": {},
     "output_type": "execute_result"
    }
   ],
   "source": [
    "def func3(a, L=[]):  # 기본값\n",
    "    L.append(a)\n",
    "    return L\n",
    "print(func3(10))\n",
    "func3(10, [1, 2, 3,])"
   ]
  },
  {
   "cell_type": "markdown",
   "id": "dd6eb8da",
   "metadata": {},
   "source": [
    "## 3.3 순서인수, 키워드인수\n",
    " - 순서인수 : 함수에 정의된 순서대로 전달방식(이 기본값일 경우)\n",
    " ```\n",
    " ex.\n",
    " def fun(a, b):\n",
    "     return a*10 + b\n",
    " fun(a, b)\n",
    " ```\n",
    " - 키워드인수 : 인수의 이름을 명시적으로 전달방식\n",
    " ```\n",
    " # 변수에 기본값이 있는 키워드인수는 함수 정의 시에는 순서인수->키워드인수 순서를 지켜야하지만\n",
    "   호출 시 변수명을 명시하며 순서를 바꿀 수 있음\n",
    " def function명(변수명1, 변수명2, ... 변수명n=기본값):\n",
    "     \n",
    " ex.\n",
    " def fun(a, b):\n",
    "     return a*10 + b\n",
    " fun(b=3, a=4)  # 호출 시\n",
    " ```\n",
    " - 함수 정의(선언) 시 순서인수와 키워드인수가 같이 올 때는 순서인수 -> 키워드인수 순으로"
   ]
  },
  {
   "cell_type": "code",
   "execution_count": 83,
   "id": "0d76be8a",
   "metadata": {
    "ExecuteTime": {
     "end_time": "2024-11-08T07:31:42.662075Z",
     "start_time": "2024-11-08T07:31:42.658076Z"
    }
   },
   "outputs": [],
   "source": [
    "def func4(a, L=None):\n",
    "    if L is None:  # L == None은 부적합\n",
    "        L = []\n",
    "    L.append(a)\n",
    "    return L"
   ]
  },
  {
   "cell_type": "code",
   "execution_count": 87,
   "id": "388100d2",
   "metadata": {
    "ExecuteTime": {
     "end_time": "2024-11-08T07:35:06.205459Z",
     "start_time": "2024-11-08T07:35:06.199460Z"
    }
   },
   "outputs": [
    {
     "name": "stdout",
     "output_type": "stream",
     "text": [
      "[10]\n",
      "[10, 10]\n",
      "[20]\n",
      "[20]\n"
     ]
    }
   ],
   "source": [
    "lst = []\n",
    "print(func4(10, lst))\n",
    "print(func4(L=lst, a=10))\n",
    "print(func4(20))\n",
    "print(func4(20, None))"
   ]
  },
  {
   "cell_type": "markdown",
   "id": "7b0620ed",
   "metadata": {},
   "source": [
    "## 3.4 튜플 매개변수를 이용한 가변인수 설정"
   ]
  },
  {
   "cell_type": "code",
   "execution_count": 88,
   "id": "7d0815d1",
   "metadata": {
    "ExecuteTime": {
     "end_time": "2024-11-08T07:37:47.204631Z",
     "start_time": "2024-11-08T07:37:47.199633Z"
    }
   },
   "outputs": [],
   "source": [
    "def add(a, b):\n",
    "    return a+b\n",
    "def add(a, b, c):\n",
    "    return a+b+c"
   ]
  },
  {
   "cell_type": "code",
   "execution_count": 92,
   "id": "17f94d0f",
   "metadata": {
    "ExecuteTime": {
     "end_time": "2024-11-08T07:38:45.097997Z",
     "start_time": "2024-11-08T07:38:45.076905Z"
    }
   },
   "outputs": [
    {
     "ename": "TypeError",
     "evalue": "add() missing 1 required positional argument: 'c'",
     "output_type": "error",
     "traceback": [
      "\u001b[1;31m---------------------------------------------------------------------------\u001b[0m",
      "\u001b[1;31mTypeError\u001b[0m                                 Traceback (most recent call last)",
      "Cell \u001b[1;32mIn[92], line 1\u001b[0m\n\u001b[1;32m----> 1\u001b[0m \u001b[43madd\u001b[49m\u001b[43m(\u001b[49m\u001b[38;5;241;43m1\u001b[39;49m\u001b[43m,\u001b[49m\u001b[43m \u001b[49m\u001b[38;5;241;43m2\u001b[39;49m\u001b[43m)\u001b[49m\n",
      "\u001b[1;31mTypeError\u001b[0m: add() missing 1 required positional argument: 'c'"
     ]
    }
   ],
   "source": [
    "add(1, 2)  # def add(a, b, c)가 add함수를 덮어썼으므로 에러"
   ]
  },
  {
   "cell_type": "code",
   "execution_count": 93,
   "id": "529c514b",
   "metadata": {
    "ExecuteTime": {
     "end_time": "2024-11-08T07:38:47.145913Z",
     "start_time": "2024-11-08T07:38:47.139913Z"
    }
   },
   "outputs": [
    {
     "data": {
      "text/plain": [
       "6"
      ]
     },
     "execution_count": 93,
     "metadata": {},
     "output_type": "execute_result"
    }
   ],
   "source": [
    "add(1, 2, 3)"
   ]
  },
  {
   "cell_type": "code",
   "execution_count": 105,
   "id": "60817508",
   "metadata": {
    "ExecuteTime": {
     "end_time": "2024-11-08T07:50:36.195160Z",
     "start_time": "2024-11-08T07:50:36.191159Z"
    }
   },
   "outputs": [],
   "source": [
    "# args 앞의 * : args가 튜플로 전달(되도록 함)\n",
    "def add(*args):\n",
    "    '전달받은 매개변수들의 합을 return, 매개변수가 없는 경우 0을 return'\n",
    "    # print(args)\n",
    "    # 함수에 return이 없으면 print()로 감싸지 않고 출력\n",
    "    # print()로 출력시 None이 같이 출력됨(return값이 없으므로)    \n",
    "    sum = 0  # 누적변수\n",
    "    for num in args:\n",
    "        sum += num\n",
    "    return sum"
   ]
  },
  {
   "cell_type": "code",
   "execution_count": 106,
   "id": "fc3bcd3b",
   "metadata": {
    "ExecuteTime": {
     "end_time": "2024-11-08T07:50:37.909225Z",
     "start_time": "2024-11-08T07:50:37.902387Z"
    }
   },
   "outputs": [
    {
     "data": {
      "text/plain": [
       "0"
      ]
     },
     "execution_count": 106,
     "metadata": {},
     "output_type": "execute_result"
    }
   ],
   "source": [
    "# def add(*args):\n",
    "#     '전달받은 매개변수들의 합을 return, 매개변수가 없는 경우 0을 return'\n",
    "    # print(args)\n",
    "add(1)\n",
    "add(1, 2)\n",
    "add(1, 2, 3, 4, 5)\n",
    "add()"
   ]
  },
  {
   "cell_type": "code",
   "execution_count": 107,
   "id": "83c72b47",
   "metadata": {
    "ExecuteTime": {
     "end_time": "2024-11-08T07:50:38.884436Z",
     "start_time": "2024-11-08T07:50:38.878438Z"
    }
   },
   "outputs": [
    {
     "name": "stdout",
     "output_type": "stream",
     "text": [
      "1\n",
      "3\n",
      "15\n",
      "0\n"
     ]
    }
   ],
   "source": [
    "# def add(*args):\n",
    "#     '전달받은 매개변수들의 합을 return, 매개변수가 없는 경우 0을 return' \n",
    "#     sum = 0  # 누적변수\n",
    "#     for num in args:\n",
    "#         sum += num\n",
    "#     return sum\n",
    "print(add(1))\n",
    "print(add(1, 2))\n",
    "print(add(1, 2, 3, 4, 5))\n",
    "print(add())"
   ]
  },
  {
   "cell_type": "code",
   "execution_count": 110,
   "id": "4c6f9a80",
   "metadata": {
    "ExecuteTime": {
     "end_time": "2024-11-08T07:53:12.875052Z",
     "start_time": "2024-11-08T07:53:12.868625Z"
    }
   },
   "outputs": [
    {
     "name": "stdout",
     "output_type": "stream",
     "text": [
      "Java-Oracle-Web-Python\n"
     ]
    }
   ],
   "source": [
    "print('Java', 'Oracle', 'Web', 'Python', sep='-')"
   ]
  },
  {
   "cell_type": "code",
   "execution_count": 113,
   "id": "f47a98d1",
   "metadata": {
    "ExecuteTime": {
     "end_time": "2024-11-08T07:55:20.699423Z",
     "start_time": "2024-11-08T07:55:20.692426Z"
    }
   },
   "outputs": [
    {
     "data": {
      "text/plain": [
       "'Java-Oracle-Web-Python'"
      ]
     },
     "execution_count": 113,
     "metadata": {},
     "output_type": "execute_result"
    }
   ],
   "source": [
    "# print와 유사한 함수 만들기\n",
    "subject = ('Java', 'Oracle', 'Web', 'Python')\n",
    "'-'.join(subject)"
   ]
  },
  {
   "cell_type": "code",
   "execution_count": 117,
   "id": "5c40b183",
   "metadata": {
    "ExecuteTime": {
     "end_time": "2024-11-08T07:58:26.854735Z",
     "start_time": "2024-11-08T07:58:26.849737Z"
    }
   },
   "outputs": [],
   "source": [
    "def concat(*subject, sep):  # 튜플 매개변수\n",
    "# def concat(*subject):\n",
    "    # print(subject)\n",
    "    return sep.join(subject)"
   ]
  },
  {
   "cell_type": "code",
   "execution_count": 118,
   "id": "11c59db0",
   "metadata": {
    "ExecuteTime": {
     "end_time": "2024-11-08T07:58:27.990981Z",
     "start_time": "2024-11-08T07:58:27.960915Z"
    }
   },
   "outputs": [
    {
     "ename": "TypeError",
     "evalue": "concat() missing 1 required keyword-only argument: 'sep'",
     "output_type": "error",
     "traceback": [
      "\u001b[1;31m---------------------------------------------------------------------------\u001b[0m",
      "\u001b[1;31mTypeError\u001b[0m                                 Traceback (most recent call last)",
      "Cell \u001b[1;32mIn[118], line 1\u001b[0m\n\u001b[1;32m----> 1\u001b[0m \u001b[43mconcat\u001b[49m\u001b[43m(\u001b[49m\u001b[38;5;124;43m'\u001b[39;49m\u001b[38;5;124;43mJava\u001b[39;49m\u001b[38;5;124;43m'\u001b[39;49m\u001b[43m,\u001b[49m\u001b[43m \u001b[49m\u001b[38;5;124;43m'\u001b[39;49m\u001b[38;5;124;43mOracle\u001b[39;49m\u001b[38;5;124;43m'\u001b[39;49m\u001b[43m,\u001b[49m\u001b[43m \u001b[49m\u001b[38;5;124;43m'\u001b[39;49m\u001b[38;5;124;43mWeb\u001b[39;49m\u001b[38;5;124;43m'\u001b[39;49m\u001b[43m,\u001b[49m\u001b[43m \u001b[49m\u001b[38;5;124;43m'\u001b[39;49m\u001b[38;5;124;43mPython\u001b[39;49m\u001b[38;5;124;43m'\u001b[39;49m\u001b[43m,\u001b[49m\u001b[43m \u001b[49m\u001b[38;5;124;43m'\u001b[39;49m\u001b[38;5;124;43m ~ \u001b[39;49m\u001b[38;5;124;43m'\u001b[39;49m\u001b[43m)\u001b[49m\n",
      "\u001b[1;31mTypeError\u001b[0m: concat() missing 1 required keyword-only argument: 'sep'"
     ]
    }
   ],
   "source": [
    "concat('Java', 'Oracle', 'Web', 'Python', ' ~ ')  # 에러"
   ]
  },
  {
   "cell_type": "code",
   "execution_count": 119,
   "id": "d6934bf2",
   "metadata": {
    "ExecuteTime": {
     "end_time": "2024-11-08T08:00:19.127314Z",
     "start_time": "2024-11-08T08:00:19.121315Z"
    }
   },
   "outputs": [
    {
     "data": {
      "text/plain": [
       "'Java ~ Oracle ~ Web ~ Python'"
      ]
     },
     "execution_count": 119,
     "metadata": {},
     "output_type": "execute_result"
    }
   ],
   "source": [
    "# 해결책1 : 파라미터이름을 지정해서 호출\n",
    "concat('Java', 'Oracle', 'Web', 'Python', sep=' ~ ')"
   ]
  },
  {
   "cell_type": "code",
   "execution_count": 132,
   "id": "97a8b1ed",
   "metadata": {
    "ExecuteTime": {
     "end_time": "2024-11-08T08:19:41.987673Z",
     "start_time": "2024-11-08T08:19:41.982627Z"
    }
   },
   "outputs": [],
   "source": [
    "# 해결책2 : 기본값을 갖는 키워드인수 사용\n",
    "def concat(*subject, sep=' '):  # 튜플인수 -> 키워드인수\n",
    "    return sep.join(subject)"
   ]
  },
  {
   "cell_type": "code",
   "execution_count": 133,
   "id": "2a1e5f54",
   "metadata": {
    "ExecuteTime": {
     "end_time": "2024-11-08T08:19:43.028613Z",
     "start_time": "2024-11-08T08:19:43.021617Z"
    }
   },
   "outputs": [
    {
     "data": {
      "text/plain": [
       "'Java Oracle Web Python'"
      ]
     },
     "execution_count": 133,
     "metadata": {},
     "output_type": "execute_result"
    }
   ],
   "source": [
    "concat('Java', 'Oracle', 'Web', 'Python')"
   ]
  },
  {
   "cell_type": "code",
   "execution_count": 134,
   "id": "72b1e066",
   "metadata": {
    "ExecuteTime": {
     "end_time": "2024-11-08T08:19:43.731556Z",
     "start_time": "2024-11-08T08:19:43.725547Z"
    }
   },
   "outputs": [
    {
     "data": {
      "text/plain": [
       "'Java Oracle Web Python ~'"
      ]
     },
     "execution_count": 134,
     "metadata": {},
     "output_type": "execute_result"
    }
   ],
   "source": [
    "concat('Java', 'Oracle', 'Web', 'Python', '~')"
   ]
  },
  {
   "cell_type": "code",
   "execution_count": 135,
   "id": "44480c4d",
   "metadata": {
    "ExecuteTime": {
     "end_time": "2024-11-08T08:19:44.475717Z",
     "start_time": "2024-11-08T08:19:44.469719Z"
    }
   },
   "outputs": [
    {
     "data": {
      "text/plain": [
       "'Java~Oracle~Web~Python'"
      ]
     },
     "execution_count": 135,
     "metadata": {},
     "output_type": "execute_result"
    }
   ],
   "source": [
    "concat('Java', 'Oracle', 'Web', 'Python', sep='~')"
   ]
  },
  {
   "cell_type": "code",
   "execution_count": 136,
   "id": "80db74e3",
   "metadata": {
    "ExecuteTime": {
     "end_time": "2024-11-08T08:19:45.234570Z",
     "start_time": "2024-11-08T08:19:45.229769Z"
    }
   },
   "outputs": [],
   "source": [
    "# 해결책3 : sep을 순서인수로 앞으로 선언\n",
    "def concat(sep, *subject):\n",
    "    return sep.join(subject)"
   ]
  },
  {
   "cell_type": "code",
   "execution_count": 137,
   "id": "dc886e7c",
   "metadata": {
    "ExecuteTime": {
     "end_time": "2024-11-08T08:19:45.900273Z",
     "start_time": "2024-11-08T08:19:45.884525Z"
    }
   },
   "outputs": [
    {
     "data": {
      "text/plain": [
       "'Java~Oracle'"
      ]
     },
     "execution_count": 137,
     "metadata": {},
     "output_type": "execute_result"
    }
   ],
   "source": [
    "concat('~', 'Java', 'Oracle')"
   ]
  },
  {
   "cell_type": "markdown",
   "id": "b603ec2e",
   "metadata": {},
   "source": [
    "## 3.5 딕셔너리 매개변수\n",
    " - 딕셔너리인수 : 여러 개의 키워드인수를 딕셔너리 형태로 받아 가변 키워드인수로 처리"
   ]
  },
  {
   "cell_type": "code",
   "execution_count": 145,
   "id": "6c772dcf",
   "metadata": {
    "ExecuteTime": {
     "end_time": "2024-11-08T08:25:06.874298Z",
     "start_time": "2024-11-08T08:25:06.868000Z"
    }
   },
   "outputs": [],
   "source": [
    "def func5(**args):  # args를 딕셔너리로 전달받음\n",
    "    print(args)\n",
    "    print(type(args))\n",
    "    for key, value in args.items():\n",
    "        print('{}:{}'.format(key, value))"
   ]
  },
  {
   "cell_type": "code",
   "execution_count": 146,
   "id": "7823addc",
   "metadata": {
    "ExecuteTime": {
     "end_time": "2024-11-08T08:25:09.528495Z",
     "start_time": "2024-11-08T08:25:09.522499Z"
    }
   },
   "outputs": [
    {
     "name": "stdout",
     "output_type": "stream",
     "text": [
      "{'name': '홍길동', 'age': 33}\n",
      "<class 'dict'>\n",
      "name:홍길동\n",
      "age:33\n"
     ]
    }
   ],
   "source": [
    "func5(name = '홍길동', age = 33)  # 에러"
   ]
  },
  {
   "cell_type": "code",
   "execution_count": 148,
   "id": "4f424e3b",
   "metadata": {
    "ExecuteTime": {
     "end_time": "2024-11-08T08:26:24.744469Z",
     "start_time": "2024-11-08T08:26:24.740470Z"
    }
   },
   "outputs": [
    {
     "name": "stdout",
     "output_type": "stream",
     "text": [
      "{'name': '김길동', 'address': '서울', 'tel': '010-9999-9999'}\n",
      "<class 'dict'>\n",
      "name:김길동\n",
      "address:서울\n",
      "tel:010-9999-9999\n"
     ]
    }
   ],
   "source": [
    "func5(name = '김길동', address = '서울', tel = '010-9999-9999')"
   ]
  },
  {
   "cell_type": "markdown",
   "id": "43d38626",
   "metadata": {},
   "source": [
    "## 3.6 함수 정의 시 매개변수의 순서\n",
    " 순서인수 > 튜플인수(*) > 키워드인수(기본값) > 딕셔너리인수(**)"
   ]
  },
  {
   "cell_type": "code",
   "execution_count": 149,
   "id": "538289e4",
   "metadata": {
    "ExecuteTime": {
     "end_time": "2024-11-08T08:30:40.553072Z",
     "start_time": "2024-11-08T08:30:40.547071Z"
    }
   },
   "outputs": [],
   "source": [
    "# 순서인수 -> 튜플인수 -> 딕셔너리 인수\n",
    "def func6(a, b, *c, **d):\n",
    "    print('순서인수 a =', a)\n",
    "    print('순서인수 b =', b)\n",
    "    print('튜플인수 c =', c)\n",
    "    print('딕셔너리 d =', d)"
   ]
  },
  {
   "cell_type": "code",
   "execution_count": 152,
   "id": "359975a7",
   "metadata": {
    "ExecuteTime": {
     "end_time": "2024-11-08T08:31:24.510276Z",
     "start_time": "2024-11-08T08:31:24.489609Z"
    }
   },
   "outputs": [
    {
     "name": "stdout",
     "output_type": "stream",
     "text": [
      "순서인수 a = 10\n",
      "순서인수 b = 20\n",
      "튜플인수 c = (1, 2, 3, 4, 5, 6, 7)\n",
      "딕셔너리 d = {'name': 'kim', 'age': 30}\n"
     ]
    }
   ],
   "source": [
    "func6(10,20, 1,2,3,4,5,6,7, name='kim', age=30)"
   ]
  },
  {
   "cell_type": "code",
   "execution_count": 153,
   "id": "d7660017",
   "metadata": {
    "ExecuteTime": {
     "end_time": "2024-11-08T08:34:02.399483Z",
     "start_time": "2024-11-08T08:34:02.393485Z"
    }
   },
   "outputs": [],
   "source": [
    "# 순서인수 -> 튜플인수 -> 키워드인수 -> 딕셔너리 인수\n",
    "def func7(a, b, c, *d, e=10, **f):\n",
    "    print('순서인수 a =', a)\n",
    "    print('순서인수 b =', b)\n",
    "    print('순서인수 c =', c)\n",
    "    print('튜플인수 d =', d)  # 생략가능(없으면 빈 튜플)\n",
    "    print('키워드 e =', e)    # 생략가능(없으면 기본값)\n",
    "    print('딕셔너리 f =', f)  # 생략가능(없으면 빈 딕셔너리):키워드인수로 입력"
   ]
  },
  {
   "cell_type": "code",
   "execution_count": 154,
   "id": "e0f0f622",
   "metadata": {
    "ExecuteTime": {
     "end_time": "2024-11-08T08:34:39.853293Z",
     "start_time": "2024-11-08T08:34:39.847297Z"
    }
   },
   "outputs": [
    {
     "name": "stdout",
     "output_type": "stream",
     "text": [
      "순서인수 a = 10\n",
      "순서인수 b = 20\n",
      "순서인수 c = 30\n",
      "튜플인수 d = ()\n",
      "키워드 e = 10\n",
      "딕셔너리 f = {}\n"
     ]
    }
   ],
   "source": [
    "func7(10,20,30,)"
   ]
  },
  {
   "cell_type": "code",
   "execution_count": 155,
   "id": "a0968f78",
   "metadata": {
    "ExecuteTime": {
     "end_time": "2024-11-08T08:35:28.188368Z",
     "start_time": "2024-11-08T08:35:28.182370Z"
    }
   },
   "outputs": [
    {
     "name": "stdout",
     "output_type": "stream",
     "text": [
      "순서인수 a = 10\n",
      "순서인수 b = 20\n",
      "순서인수 c = 30\n",
      "튜플인수 d = ()\n",
      "키워드 e = 100\n",
      "딕셔너리 f = {}\n"
     ]
    }
   ],
   "source": [
    "func7(10,20,30, e=100)"
   ]
  },
  {
   "cell_type": "code",
   "execution_count": 156,
   "id": "e2e51500",
   "metadata": {
    "ExecuteTime": {
     "end_time": "2024-11-08T08:37:45.452225Z",
     "start_time": "2024-11-08T08:37:45.446227Z"
    }
   },
   "outputs": [
    {
     "name": "stdout",
     "output_type": "stream",
     "text": [
      "순서인수 a = 10\n",
      "순서인수 b = 20\n",
      "순서인수 c = 30\n",
      "튜플인수 d = (1, 2, 3, 4, 5)\n",
      "키워드 e = 100\n",
      "딕셔너리 f = {'shape': 'rect', 'width': 20, 'height': 30}\n"
     ]
    }
   ],
   "source": [
    "func7(10,20,30, 1,2,3,4,5, e=100, shape='rect', width=20, height=30)"
   ]
  },
  {
   "cell_type": "markdown",
   "id": "731ae79d",
   "metadata": {},
   "source": [
    "## 3.7 인수의 언패킹\n",
    "### 튜플인수 언패킹\n"
   ]
  },
  {
   "cell_type": "code",
   "execution_count": 157,
   "id": "6fab322d",
   "metadata": {
    "ExecuteTime": {
     "end_time": "2024-11-08T08:43:46.641289Z",
     "start_time": "2024-11-08T08:43:46.636292Z"
    }
   },
   "outputs": [],
   "source": [
    "def add(*args):\n",
    "    sum = 0\n",
    "    for num in args:\n",
    "        sum += num\n",
    "    return sum"
   ]
  },
  {
   "cell_type": "code",
   "execution_count": 159,
   "id": "d5ad7fa9",
   "metadata": {
    "ExecuteTime": {
     "end_time": "2024-11-08T08:44:55.497427Z",
     "start_time": "2024-11-08T08:44:55.490850Z"
    }
   },
   "outputs": [
    {
     "data": {
      "text/plain": [
       "15"
      ]
     },
     "execution_count": 159,
     "metadata": {},
     "output_type": "execute_result"
    }
   ],
   "source": [
    "add(1, 2, 3, 4, 5)"
   ]
  },
  {
   "cell_type": "code",
   "execution_count": 163,
   "id": "c55734ea",
   "metadata": {
    "ExecuteTime": {
     "end_time": "2024-11-08T08:49:18.312487Z",
     "start_time": "2024-11-08T08:49:18.296862Z"
    }
   },
   "outputs": [
    {
     "data": {
      "text/plain": [
       "15"
      ]
     },
     "execution_count": 163,
     "metadata": {},
     "output_type": "execute_result"
    }
   ],
   "source": [
    "numbers = (1, 2, 3, 4, 5, 6, 7, 8)\n",
    "add(*numbers)  # 튜플 언패킹 add(numbers[0], numbers[1], numbers[2], ...)와 같음\n",
    "add(numbers[0], numbers[1], numbers[2], numbers[3], numbers[4])"
   ]
  },
  {
   "cell_type": "code",
   "execution_count": 164,
   "id": "9df21cae",
   "metadata": {
    "ExecuteTime": {
     "end_time": "2024-11-08T08:49:55.949431Z",
     "start_time": "2024-11-08T08:49:55.943439Z"
    }
   },
   "outputs": [
    {
     "data": {
      "text/plain": [
       "6"
      ]
     },
     "execution_count": 164,
     "metadata": {},
     "output_type": "execute_result"
    }
   ],
   "source": [
    "# 리스트도 언패킹 가능\n",
    "num_lst = [1, 2, 3]\n",
    "add(*num_lst)"
   ]
  },
  {
   "cell_type": "markdown",
   "id": "1ad29ba2",
   "metadata": {},
   "source": [
    "### 딕셔너리인수 언패킹"
   ]
  },
  {
   "cell_type": "code",
   "execution_count": 165,
   "id": "ac12c3b0",
   "metadata": {
    "ExecuteTime": {
     "end_time": "2024-11-08T08:51:49.052644Z",
     "start_time": "2024-11-08T08:51:49.046519Z"
    }
   },
   "outputs": [
    {
     "name": "stdout",
     "output_type": "stream",
     "text": [
      "('shape', 'rect')\n",
      "('height', 30)\n",
      "('width', 40)\n"
     ]
    }
   ],
   "source": [
    "def func8(**data):\n",
    "    for item in data.items():\n",
    "        print(item)\n",
    "func8(shape='rect', height=30, width=40)"
   ]
  },
  {
   "cell_type": "code",
   "execution_count": 167,
   "id": "ada97b2e",
   "metadata": {
    "ExecuteTime": {
     "end_time": "2024-11-08T08:54:20.067312Z",
     "start_time": "2024-11-08T08:54:20.060232Z"
    }
   },
   "outputs": [
    {
     "data": {
      "text/plain": [
       "{'shape': 'triangle', 'height': 40, 'width': 30}"
      ]
     },
     "execution_count": 167,
     "metadata": {},
     "output_type": "execute_result"
    }
   ],
   "source": [
    "info = {'shape':'triangle', 'height':40, 'width':30}\n",
    "info"
   ]
  },
  {
   "cell_type": "code",
   "execution_count": 168,
   "id": "fe13f917",
   "metadata": {
    "ExecuteTime": {
     "end_time": "2024-11-08T08:55:12.153076Z",
     "start_time": "2024-11-08T08:55:12.148800Z"
    }
   },
   "outputs": [
    {
     "name": "stdout",
     "output_type": "stream",
     "text": [
      "('shape', 'triangle')\n",
      "('height', 40)\n",
      "('width', 30)\n"
     ]
    }
   ],
   "source": [
    "func8(**info)  # 딕셔너리 언패킹"
   ]
  },
  {
   "cell_type": "code",
   "execution_count": null,
   "id": "e706b2ec",
   "metadata": {},
   "outputs": [],
   "source": []
  },
  {
   "cell_type": "code",
   "execution_count": null,
   "id": "f8a307ba",
   "metadata": {},
   "outputs": [],
   "source": []
  },
  {
   "cell_type": "code",
   "execution_count": null,
   "id": "f4924d26",
   "metadata": {},
   "outputs": [],
   "source": []
  },
  {
   "cell_type": "code",
   "execution_count": null,
   "id": "30b05248",
   "metadata": {},
   "outputs": [],
   "source": []
  },
  {
   "cell_type": "code",
   "execution_count": null,
   "id": "320bbcd8",
   "metadata": {},
   "outputs": [],
   "source": []
  },
  {
   "cell_type": "code",
   "execution_count": null,
   "id": "7a18d537",
   "metadata": {},
   "outputs": [],
   "source": []
  }
 ],
 "metadata": {
  "kernelspec": {
   "display_name": "Python 3 (ipykernel)",
   "language": "python",
   "name": "python3"
  },
  "language_info": {
   "codemirror_mode": {
    "name": "ipython",
    "version": 3
   },
   "file_extension": ".py",
   "mimetype": "text/x-python",
   "name": "python",
   "nbconvert_exporter": "python",
   "pygments_lexer": "ipython3",
   "version": "3.10.9"
  },
  "toc": {
   "base_numbering": 1,
   "nav_menu": {},
   "number_sections": true,
   "sideBar": true,
   "skip_h1_title": false,
   "title_cell": "Table of Contents",
   "title_sidebar": "Contents",
   "toc_cell": false,
   "toc_position": {
    "height": "calc(100% - 180px)",
    "left": "10px",
    "top": "150px",
    "width": "165px"
   },
   "toc_section_display": true,
   "toc_window_display": true
  }
 },
 "nbformat": 4,
 "nbformat_minor": 5
}
