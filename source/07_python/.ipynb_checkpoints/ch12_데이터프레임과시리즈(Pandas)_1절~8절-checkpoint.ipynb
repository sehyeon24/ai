{
 "cells": [
  {
   "cell_type": "code",
   "execution_count": 3,
   "id": "1544282e",
   "metadata": {
    "ExecuteTime": {
     "end_time": "2024-11-25T03:20:01.268865Z",
     "start_time": "2024-11-25T03:20:01.262096Z"
    }
   },
   "outputs": [
    {
     "data": {
      "text/html": [
       "\n",
       "<style>\n",
       "div.container{width:80% !important;}\n",
       "div.prompt {min-width:70px;}\n",
       "div#toc-header{margin-top:150px;}\n",
       "span.toc-item-num{display:none;}\n",
       "div.CodeMirror {font-family:Consolas}\n",
       "div.input {font-family:Consolas}\n",
       "</style>\n"
      ],
      "text/plain": [
       "<IPython.core.display.HTML object>"
      ]
     },
     "metadata": {},
     "output_type": "display_data"
    }
   ],
   "source": [
    "from IPython.display import display, HTML\n",
    "display(HTML(\"\"\"\n",
    "<style>\n",
    "div.container{width:80% !important;}\n",
    "div.prompt {min-width:70px;}\n",
    "div#toc-header{margin-top:150px;}\n",
    "span.toc-item-num{display:none;}\n",
    "div.CodeMirror {font-family:Consolas}\n",
    "div.input {font-family:Consolas}\n",
    "</style>\n",
    "\"\"\"))"
   ]
  },
  {
   "cell_type": "markdown",
   "id": "4484767c",
   "metadata": {},
   "source": [
    "<b><font color='red' size='6'>ch12. 데이터 프레임(2차원)과 시리즈(1차원)(Pandas)</font></b>\n",
    " - pip install pandas"
   ]
  },
  {
   "cell_type": "markdown",
   "id": "b7073f1f",
   "metadata": {},
   "source": [
    "# 1절. 판다스 패키지\n",
    " - 데이터 분석을 위해 반드시 알아야 할 패키지. 넘파이를 기반으로 하며, 다른 많은 라이브러리와 잘 통합되도록 설계되어 있음.\n",
    " - 1차원 구조를 갖는 시리즈, 2차원 구조를 갖는 데이터 프레임을 제공\n",
    " - 판다스 장점 : 데이터 프레임 생성, 파일io, 레이블링, 부분 데이터 추출,\n",
    "               크기변경(열이나 열삽입, 삭제), 데이터 분할, 병합,\n",
    "               데이터 정렬, 결측치 처리, 피벗과 언피벗에 용이함\n",
    " - https://pypi.org/project/pandas/ (package index)\n",
    " - https://pandas.pydata.org/docs/reference/index.html#api (API reference)"
   ]
  },
  {
   "cell_type": "code",
   "execution_count": 1,
   "id": "0ca6f561",
   "metadata": {
    "ExecuteTime": {
     "end_time": "2024-11-25T03:51:36.438691Z",
     "start_time": "2024-11-25T03:51:35.726590Z"
    }
   },
   "outputs": [
    {
     "data": {
      "text/plain": [
       "'1.5.3'"
      ]
     },
     "execution_count": 1,
     "metadata": {},
     "output_type": "execute_result"
    }
   ],
   "source": [
    "import pandas as pd\n",
    "pd.__version__"
   ]
  },
  {
   "cell_type": "code",
   "execution_count": 6,
   "id": "744d01de",
   "metadata": {
    "ExecuteTime": {
     "end_time": "2024-11-25T03:54:48.647852Z",
     "start_time": "2024-11-25T03:54:48.618027Z"
    }
   },
   "outputs": [
    {
     "data": {
      "text/html": [
       "<div>\n",
       "<style scoped>\n",
       "    .dataframe tbody tr th:only-of-type {\n",
       "        vertical-align: middle;\n",
       "    }\n",
       "\n",
       "    .dataframe tbody tr th {\n",
       "        vertical-align: top;\n",
       "    }\n",
       "\n",
       "    .dataframe thead th {\n",
       "        text-align: right;\n",
       "    }\n",
       "</style>\n",
       "<table border=\"1\" class=\"dataframe\">\n",
       "  <thead>\n",
       "    <tr style=\"text-align: right;\">\n",
       "      <th></th>\n",
       "      <th>name</th>\n",
       "      <th>age</th>\n",
       "      <th>email</th>\n",
       "      <th>address</th>\n",
       "    </tr>\n",
       "  </thead>\n",
       "  <tbody>\n",
       "    <tr>\n",
       "      <th>0</th>\n",
       "      <td>홍길동</td>\n",
       "      <td>20</td>\n",
       "      <td>h@h.com</td>\n",
       "      <td>서울</td>\n",
       "    </tr>\n",
       "    <tr>\n",
       "      <th>1</th>\n",
       "      <td>김길동</td>\n",
       "      <td>30</td>\n",
       "      <td>k@h.com</td>\n",
       "      <td>부산</td>\n",
       "    </tr>\n",
       "    <tr>\n",
       "      <th>2</th>\n",
       "      <td>신길동</td>\n",
       "      <td>40</td>\n",
       "      <td>s@h.com</td>\n",
       "      <td>안양</td>\n",
       "    </tr>\n",
       "  </tbody>\n",
       "</table>\n",
       "</div>"
      ],
      "text/plain": [
       "  name  age    email address\n",
       "0  홍길동   20  h@h.com      서울\n",
       "1  김길동   30  k@h.com      부산\n",
       "2  신길동   40  s@h.com      안양"
      ]
     },
     "metadata": {},
     "output_type": "display_data"
    },
    {
     "name": "stdout",
     "output_type": "stream",
     "text": [
      "<class 'pandas.core.frame.DataFrame'>\n"
     ]
    }
   ],
   "source": [
    "data = pd.read_json('data/ch09_member1.json', encoding='cp949')  # encoding 기본값 : utf-8\n",
    "display(data)\n",
    "print(type(data))"
   ]
  },
  {
   "cell_type": "code",
   "execution_count": 10,
   "id": "992662ed",
   "metadata": {
    "ExecuteTime": {
     "end_time": "2024-11-25T03:57:45.894565Z",
     "start_time": "2024-11-25T03:57:45.879700Z"
    }
   },
   "outputs": [
    {
     "data": {
      "text/html": [
       "<div>\n",
       "<style scoped>\n",
       "    .dataframe tbody tr th:only-of-type {\n",
       "        vertical-align: middle;\n",
       "    }\n",
       "\n",
       "    .dataframe tbody tr th {\n",
       "        vertical-align: top;\n",
       "    }\n",
       "\n",
       "    .dataframe thead th {\n",
       "        text-align: right;\n",
       "    }\n",
       "</style>\n",
       "<table border=\"1\" class=\"dataframe\">\n",
       "  <thead>\n",
       "    <tr style=\"text-align: right;\">\n",
       "      <th></th>\n",
       "      <th>name</th>\n",
       "      <th>age</th>\n",
       "      <th>email</th>\n",
       "      <th>address</th>\n",
       "    </tr>\n",
       "  </thead>\n",
       "  <tbody>\n",
       "    <tr>\n",
       "      <th>0</th>\n",
       "      <td>홍길동</td>\n",
       "      <td>20</td>\n",
       "      <td>h@hong.com</td>\n",
       "      <td>서울</td>\n",
       "    </tr>\n",
       "    <tr>\n",
       "      <th>1</th>\n",
       "      <td>신길동</td>\n",
       "      <td>25</td>\n",
       "      <td>s@hong.com</td>\n",
       "      <td>부산</td>\n",
       "    </tr>\n",
       "    <tr>\n",
       "      <th>2</th>\n",
       "      <td>김길동</td>\n",
       "      <td>35</td>\n",
       "      <td>k@hong.com</td>\n",
       "      <td>인천</td>\n",
       "    </tr>\n",
       "  </tbody>\n",
       "</table>\n",
       "</div>"
      ],
      "text/plain": [
       "  name  age       email address\n",
       "0  홍길동   20  h@hong.com      서울\n",
       "1  신길동   25  s@hong.com      부산\n",
       "2  김길동   35  k@hong.com      인천"
      ]
     },
     "execution_count": 10,
     "metadata": {},
     "output_type": "execute_result"
    }
   ],
   "source": [
    "member4 = pd.read_csv('data/ch09_member4.csv')\n",
    "member4.head()  # head()매개변수X : 최초 상위 5행 가져오기"
   ]
  },
  {
   "cell_type": "code",
   "execution_count": 13,
   "id": "c781c26c",
   "metadata": {
    "ExecuteTime": {
     "end_time": "2024-11-25T04:01:53.340475Z",
     "start_time": "2024-11-25T04:01:53.326078Z"
    }
   },
   "outputs": [
    {
     "data": {
      "text/html": [
       "<div>\n",
       "<style scoped>\n",
       "    .dataframe tbody tr th:only-of-type {\n",
       "        vertical-align: middle;\n",
       "    }\n",
       "\n",
       "    .dataframe tbody tr th {\n",
       "        vertical-align: top;\n",
       "    }\n",
       "\n",
       "    .dataframe thead th {\n",
       "        text-align: right;\n",
       "    }\n",
       "</style>\n",
       "<table border=\"1\" class=\"dataframe\">\n",
       "  <thead>\n",
       "    <tr style=\"text-align: right;\">\n",
       "      <th></th>\n",
       "      <th>name</th>\n",
       "      <th>age</th>\n",
       "      <th>email</th>\n",
       "      <th>address</th>\n",
       "    </tr>\n",
       "  </thead>\n",
       "  <tbody>\n",
       "    <tr>\n",
       "      <th>0</th>\n",
       "      <td>홍길동</td>\n",
       "      <td>20</td>\n",
       "      <td>kildong@hong.com</td>\n",
       "      <td>서울시 관악구</td>\n",
       "    </tr>\n",
       "    <tr>\n",
       "      <th>1</th>\n",
       "      <td>김길동</td>\n",
       "      <td>40</td>\n",
       "      <td>kimdong@hong.com</td>\n",
       "      <td>서울시 영등포구</td>\n",
       "    </tr>\n",
       "    <tr>\n",
       "      <th>2</th>\n",
       "      <td>신길동</td>\n",
       "      <td>30</td>\n",
       "      <td>sindong@hong.com</td>\n",
       "      <td>서울시 동작구</td>\n",
       "    </tr>\n",
       "  </tbody>\n",
       "</table>\n",
       "</div>"
      ],
      "text/plain": [
       "  name  age             email   address\n",
       "0  홍길동   20  kildong@hong.com   서울시 관악구\n",
       "1  김길동   40  kimdong@hong.com  서울시 영등포구\n",
       "2  신길동   30  sindong@hong.com   서울시 동작구"
      ]
     },
     "execution_count": 13,
     "metadata": {},
     "output_type": "execute_result"
    }
   ],
   "source": [
    "member1 = pd.read_csv('data/ch09_member1.csv', header=None,\n",
    "                     names=['name', 'age', 'email', 'address'])  # header 열 이름 지정\n",
    "member1"
   ]
  },
  {
   "cell_type": "code",
   "execution_count": 14,
   "id": "02c2c06c",
   "metadata": {
    "ExecuteTime": {
     "end_time": "2024-11-25T04:03:33.711917Z",
     "start_time": "2024-11-25T04:03:33.348501Z"
    }
   },
   "outputs": [
    {
     "data": {
      "text/html": [
       "<div>\n",
       "<style scoped>\n",
       "    .dataframe tbody tr th:only-of-type {\n",
       "        vertical-align: middle;\n",
       "    }\n",
       "\n",
       "    .dataframe tbody tr th {\n",
       "        vertical-align: top;\n",
       "    }\n",
       "\n",
       "    .dataframe thead th {\n",
       "        text-align: right;\n",
       "    }\n",
       "</style>\n",
       "<table border=\"1\" class=\"dataframe\">\n",
       "  <thead>\n",
       "    <tr style=\"text-align: right;\">\n",
       "      <th></th>\n",
       "      <th>sepal_length</th>\n",
       "      <th>sepal_width</th>\n",
       "      <th>petal_length</th>\n",
       "      <th>petal_width</th>\n",
       "      <th>species</th>\n",
       "    </tr>\n",
       "  </thead>\n",
       "  <tbody>\n",
       "    <tr>\n",
       "      <th>0</th>\n",
       "      <td>5.1</td>\n",
       "      <td>3.5</td>\n",
       "      <td>1.4</td>\n",
       "      <td>0.2</td>\n",
       "      <td>setosa</td>\n",
       "    </tr>\n",
       "    <tr>\n",
       "      <th>1</th>\n",
       "      <td>4.9</td>\n",
       "      <td>3.0</td>\n",
       "      <td>1.4</td>\n",
       "      <td>0.2</td>\n",
       "      <td>setosa</td>\n",
       "    </tr>\n",
       "    <tr>\n",
       "      <th>2</th>\n",
       "      <td>4.7</td>\n",
       "      <td>3.2</td>\n",
       "      <td>1.3</td>\n",
       "      <td>0.2</td>\n",
       "      <td>setosa</td>\n",
       "    </tr>\n",
       "    <tr>\n",
       "      <th>3</th>\n",
       "      <td>4.6</td>\n",
       "      <td>3.1</td>\n",
       "      <td>1.5</td>\n",
       "      <td>0.2</td>\n",
       "      <td>setosa</td>\n",
       "    </tr>\n",
       "    <tr>\n",
       "      <th>4</th>\n",
       "      <td>5.0</td>\n",
       "      <td>3.6</td>\n",
       "      <td>1.4</td>\n",
       "      <td>0.2</td>\n",
       "      <td>setosa</td>\n",
       "    </tr>\n",
       "    <tr>\n",
       "      <th>...</th>\n",
       "      <td>...</td>\n",
       "      <td>...</td>\n",
       "      <td>...</td>\n",
       "      <td>...</td>\n",
       "      <td>...</td>\n",
       "    </tr>\n",
       "    <tr>\n",
       "      <th>145</th>\n",
       "      <td>6.7</td>\n",
       "      <td>3.0</td>\n",
       "      <td>5.2</td>\n",
       "      <td>2.3</td>\n",
       "      <td>virginica</td>\n",
       "    </tr>\n",
       "    <tr>\n",
       "      <th>146</th>\n",
       "      <td>6.3</td>\n",
       "      <td>2.5</td>\n",
       "      <td>5.0</td>\n",
       "      <td>1.9</td>\n",
       "      <td>virginica</td>\n",
       "    </tr>\n",
       "    <tr>\n",
       "      <th>147</th>\n",
       "      <td>6.5</td>\n",
       "      <td>3.0</td>\n",
       "      <td>5.2</td>\n",
       "      <td>2.0</td>\n",
       "      <td>virginica</td>\n",
       "    </tr>\n",
       "    <tr>\n",
       "      <th>148</th>\n",
       "      <td>6.2</td>\n",
       "      <td>3.4</td>\n",
       "      <td>5.4</td>\n",
       "      <td>2.3</td>\n",
       "      <td>virginica</td>\n",
       "    </tr>\n",
       "    <tr>\n",
       "      <th>149</th>\n",
       "      <td>5.9</td>\n",
       "      <td>3.0</td>\n",
       "      <td>5.1</td>\n",
       "      <td>1.8</td>\n",
       "      <td>virginica</td>\n",
       "    </tr>\n",
       "  </tbody>\n",
       "</table>\n",
       "<p>150 rows × 5 columns</p>\n",
       "</div>"
      ],
      "text/plain": [
       "     sepal_length  sepal_width  petal_length  petal_width    species\n",
       "0             5.1          3.5           1.4          0.2     setosa\n",
       "1             4.9          3.0           1.4          0.2     setosa\n",
       "2             4.7          3.2           1.3          0.2     setosa\n",
       "3             4.6          3.1           1.5          0.2     setosa\n",
       "4             5.0          3.6           1.4          0.2     setosa\n",
       "..            ...          ...           ...          ...        ...\n",
       "145           6.7          3.0           5.2          2.3  virginica\n",
       "146           6.3          2.5           5.0          1.9  virginica\n",
       "147           6.5          3.0           5.2          2.0  virginica\n",
       "148           6.2          3.4           5.4          2.3  virginica\n",
       "149           5.9          3.0           5.1          1.8  virginica\n",
       "\n",
       "[150 rows x 5 columns]"
      ]
     },
     "execution_count": 14,
     "metadata": {},
     "output_type": "execute_result"
    }
   ],
   "source": [
    "iris = pd.read_hdf('data/ch09_iris2.hdf5', key='iris')\n",
    "iris"
   ]
  },
  {
   "cell_type": "markdown",
   "id": "ecafcf2e",
   "metadata": {},
   "source": [
    "# 2절. 데이터 프레임 만들기\n",
    "## 2.1 딕셔너리를 이용해서 데이터 프레임 만들기"
   ]
  },
  {
   "cell_type": "code",
   "execution_count": 29,
   "id": "3922aefd",
   "metadata": {
    "ExecuteTime": {
     "end_time": "2024-11-25T05:28:36.033989Z",
     "start_time": "2024-11-25T05:28:36.023990Z"
    }
   },
   "outputs": [
    {
     "data": {
      "text/html": [
       "<div>\n",
       "<style scoped>\n",
       "    .dataframe tbody tr th:only-of-type {\n",
       "        vertical-align: middle;\n",
       "    }\n",
       "\n",
       "    .dataframe tbody tr th {\n",
       "        vertical-align: top;\n",
       "    }\n",
       "\n",
       "    .dataframe thead th {\n",
       "        text-align: right;\n",
       "    }\n",
       "</style>\n",
       "<table border=\"1\" class=\"dataframe\">\n",
       "  <thead>\n",
       "    <tr style=\"text-align: right;\">\n",
       "      <th></th>\n",
       "      <th>kor</th>\n",
       "      <th>mat</th>\n",
       "    </tr>\n",
       "  </thead>\n",
       "  <tbody>\n",
       "    <tr>\n",
       "      <th>0</th>\n",
       "      <td>100</td>\n",
       "      <td>95</td>\n",
       "    </tr>\n",
       "    <tr>\n",
       "      <th>1</th>\n",
       "      <td>90</td>\n",
       "      <td>99</td>\n",
       "    </tr>\n",
       "  </tbody>\n",
       "</table>\n",
       "</div>"
      ],
      "text/plain": [
       "   kor  mat\n",
       "0  100   95\n",
       "1   90   99"
      ]
     },
     "execution_count": 29,
     "metadata": {},
     "output_type": "execute_result"
    }
   ],
   "source": [
    "# value가 list인 딕셔너리를 데이터프레임으로 변환\n",
    "d = {'kor' : [100, 90], 'mat' : [95, 99]}\n",
    "df = pd.DataFrame(data = d)\n",
    "df"
   ]
  },
  {
   "cell_type": "code",
   "execution_count": 30,
   "id": "fd788ef1",
   "metadata": {
    "ExecuteTime": {
     "end_time": "2024-11-25T05:28:36.458641Z",
     "start_time": "2024-11-25T05:28:36.442040Z"
    }
   },
   "outputs": [
    {
     "data": {
      "text/html": [
       "<div>\n",
       "<style scoped>\n",
       "    .dataframe tbody tr th:only-of-type {\n",
       "        vertical-align: middle;\n",
       "    }\n",
       "\n",
       "    .dataframe tbody tr th {\n",
       "        vertical-align: top;\n",
       "    }\n",
       "\n",
       "    .dataframe thead th {\n",
       "        text-align: right;\n",
       "    }\n",
       "</style>\n",
       "<table border=\"1\" class=\"dataframe\">\n",
       "  <thead>\n",
       "    <tr style=\"text-align: right;\">\n",
       "      <th></th>\n",
       "      <th>kor</th>\n",
       "      <th>mat</th>\n",
       "    </tr>\n",
       "  </thead>\n",
       "  <tbody>\n",
       "    <tr>\n",
       "      <th>0</th>\n",
       "      <td>100</td>\n",
       "      <td>99</td>\n",
       "    </tr>\n",
       "  </tbody>\n",
       "</table>\n",
       "</div>"
      ],
      "text/plain": [
       "   kor  mat\n",
       "0  100   99"
      ]
     },
     "execution_count": 30,
     "metadata": {},
     "output_type": "execute_result"
    }
   ],
   "source": [
    "# d = {'kor' : 100, 'mat' : 99} 에러\n",
    "d = [{'kor' : 100, 'mat' : 99}]  # list로 감싸줘야 함\n",
    "pd.DataFrame(d)"
   ]
  },
  {
   "cell_type": "code",
   "execution_count": 31,
   "id": "7445e2df",
   "metadata": {
    "ExecuteTime": {
     "end_time": "2024-11-25T05:28:37.183065Z",
     "start_time": "2024-11-25T05:28:37.167044Z"
    }
   },
   "outputs": [
    {
     "data": {
      "text/plain": [
       "{'kor': {0: 100, 1: 90}, 'mat': {0: 95, 1: 99}}"
      ]
     },
     "execution_count": 31,
     "metadata": {},
     "output_type": "execute_result"
    }
   ],
   "source": [
    "df.to_dict()  # 데이터 프레임을 딕셔너리로"
   ]
  },
  {
   "cell_type": "code",
   "execution_count": 32,
   "id": "eb34485a",
   "metadata": {
    "ExecuteTime": {
     "end_time": "2024-11-25T05:28:37.471907Z",
     "start_time": "2024-11-25T05:28:37.456282Z"
    }
   },
   "outputs": [
    {
     "data": {
      "text/plain": [
       "array([[100,  95],\n",
       "       [ 90,  99]], dtype=int64)"
      ]
     },
     "execution_count": 32,
     "metadata": {},
     "output_type": "execute_result"
    }
   ],
   "source": [
    "df.to_numpy()  # 데이터 프레임을 넘파이 배열로"
   ]
  },
  {
   "cell_type": "code",
   "execution_count": 42,
   "id": "58447292",
   "metadata": {
    "ExecuteTime": {
     "end_time": "2024-11-25T05:30:02.440904Z",
     "start_time": "2024-11-25T05:30:02.430166Z"
    }
   },
   "outputs": [
    {
     "data": {
      "text/html": [
       "<div>\n",
       "<style scoped>\n",
       "    .dataframe tbody tr th:only-of-type {\n",
       "        vertical-align: middle;\n",
       "    }\n",
       "\n",
       "    .dataframe tbody tr th {\n",
       "        vertical-align: top;\n",
       "    }\n",
       "\n",
       "    .dataframe thead th {\n",
       "        text-align: right;\n",
       "    }\n",
       "</style>\n",
       "<table border=\"1\" class=\"dataframe\">\n",
       "  <thead>\n",
       "    <tr style=\"text-align: right;\">\n",
       "      <th></th>\n",
       "      <th>kor</th>\n",
       "      <th>mat</th>\n",
       "    </tr>\n",
       "  </thead>\n",
       "  <tbody>\n",
       "    <tr>\n",
       "      <th>0</th>\n",
       "      <td>100</td>\n",
       "      <td>95</td>\n",
       "    </tr>\n",
       "    <tr>\n",
       "      <th>1</th>\n",
       "      <td>90</td>\n",
       "      <td>99</td>\n",
       "    </tr>\n",
       "  </tbody>\n",
       "</table>\n",
       "</div>"
      ],
      "text/plain": [
       "   kor  mat\n",
       "0  100   95\n",
       "1   90   99"
      ]
     },
     "execution_count": 42,
     "metadata": {},
     "output_type": "execute_result"
    }
   ],
   "source": [
    "# 딕셔너리 리스트를 데이터프레임으로\n",
    "d = [{'kor' : 100, 'mat' : 95}, {'kor' : 90, 'mat' : 99}]\n",
    "df = pd.DataFrame(data = d)\n",
    "df"
   ]
  },
  {
   "cell_type": "code",
   "execution_count": 43,
   "id": "f6d6ec36",
   "metadata": {
    "ExecuteTime": {
     "end_time": "2024-11-25T05:30:03.692548Z",
     "start_time": "2024-11-25T05:30:03.686316Z"
    }
   },
   "outputs": [
    {
     "data": {
      "text/plain": [
       "kor    int64\n",
       "mat    int64\n",
       "dtype: object"
      ]
     },
     "execution_count": 43,
     "metadata": {},
     "output_type": "execute_result"
    }
   ],
   "source": [
    "df.dtypes"
   ]
  },
  {
   "cell_type": "code",
   "execution_count": 44,
   "id": "fa60e821",
   "metadata": {
    "ExecuteTime": {
     "end_time": "2024-11-25T05:30:04.776323Z",
     "start_time": "2024-11-25T05:30:04.765440Z"
    }
   },
   "outputs": [
    {
     "name": "stdout",
     "output_type": "stream",
     "text": [
      "<class 'pandas.core.frame.DataFrame'>\n",
      "RangeIndex: 2 entries, 0 to 1\n",
      "Data columns (total 2 columns):\n",
      " #   Column  Non-Null Count  Dtype\n",
      "---  ------  --------------  -----\n",
      " 0   kor     2 non-null      int64\n",
      " 1   mat     2 non-null      int64\n",
      "dtypes: int64(2)\n",
      "memory usage: 160.0 bytes\n"
     ]
    }
   ],
   "source": [
    "df.info()  # ★ 사용 빈도 높음"
   ]
  },
  {
   "cell_type": "code",
   "execution_count": 45,
   "id": "792d066e",
   "metadata": {
    "ExecuteTime": {
     "end_time": "2024-11-25T05:30:07.771830Z",
     "start_time": "2024-11-25T05:30:07.765828Z"
    }
   },
   "outputs": [
    {
     "data": {
      "text/plain": [
       "{'kor': dtype('int64'), 'mat': dtype('int64')}"
      ]
     },
     "execution_count": 45,
     "metadata": {},
     "output_type": "execute_result"
    }
   ],
   "source": [
    "df.dtypes.to_dict()"
   ]
  },
  {
   "cell_type": "code",
   "execution_count": 46,
   "id": "764192ff",
   "metadata": {
    "ExecuteTime": {
     "end_time": "2024-11-25T05:30:07.922811Z",
     "start_time": "2024-11-25T05:30:07.890291Z"
    }
   },
   "outputs": [
    {
     "data": {
      "text/plain": [
       "0    100\n",
       "1     90\n",
       "Name: kor, dtype: int64"
      ]
     },
     "execution_count": 46,
     "metadata": {},
     "output_type": "execute_result"
    }
   ],
   "source": [
    "df['kor']"
   ]
  },
  {
   "cell_type": "code",
   "execution_count": 47,
   "id": "543f6546",
   "metadata": {
    "ExecuteTime": {
     "end_time": "2024-11-25T05:30:08.072701Z",
     "start_time": "2024-11-25T05:30:08.040450Z"
    }
   },
   "outputs": [
    {
     "data": {
      "text/plain": [
       "dtype('int64')"
      ]
     },
     "execution_count": 47,
     "metadata": {},
     "output_type": "execute_result"
    }
   ],
   "source": [
    "df['kor'].dtype"
   ]
  },
  {
   "cell_type": "code",
   "execution_count": 49,
   "id": "df2a967f",
   "metadata": {
    "ExecuteTime": {
     "end_time": "2024-11-25T05:30:22.165649Z",
     "start_time": "2024-11-25T05:30:22.157653Z"
    }
   },
   "outputs": [
    {
     "data": {
      "text/plain": [
       "0    100.0\n",
       "1     90.0\n",
       "Name: kor, dtype: float64"
      ]
     },
     "execution_count": 49,
     "metadata": {},
     "output_type": "execute_result"
    }
   ],
   "source": [
    "import numpy as np\n",
    "df['kor'].astype(np.float64)"
   ]
  },
  {
   "cell_type": "code",
   "execution_count": 50,
   "id": "8b18ded5",
   "metadata": {
    "ExecuteTime": {
     "end_time": "2024-11-25T05:32:51.690984Z",
     "start_time": "2024-11-25T05:32:51.662554Z"
    }
   },
   "outputs": [
    {
     "data": {
      "text/html": [
       "<div>\n",
       "<style scoped>\n",
       "    .dataframe tbody tr th:only-of-type {\n",
       "        vertical-align: middle;\n",
       "    }\n",
       "\n",
       "    .dataframe tbody tr th {\n",
       "        vertical-align: top;\n",
       "    }\n",
       "\n",
       "    .dataframe thead th {\n",
       "        text-align: right;\n",
       "    }\n",
       "</style>\n",
       "<table border=\"1\" class=\"dataframe\">\n",
       "  <thead>\n",
       "    <tr style=\"text-align: right;\">\n",
       "      <th></th>\n",
       "      <th>kor</th>\n",
       "      <th>mat</th>\n",
       "      <th>eng</th>\n",
       "    </tr>\n",
       "  </thead>\n",
       "  <tbody>\n",
       "    <tr>\n",
       "      <th>0</th>\n",
       "      <td>100</td>\n",
       "      <td>100.0</td>\n",
       "      <td>NaN</td>\n",
       "    </tr>\n",
       "    <tr>\n",
       "      <th>1</th>\n",
       "      <td>90</td>\n",
       "      <td>99.0</td>\n",
       "      <td>NaN</td>\n",
       "    </tr>\n",
       "    <tr>\n",
       "      <th>2</th>\n",
       "      <td>83</td>\n",
       "      <td>NaN</td>\n",
       "      <td>85.0</td>\n",
       "    </tr>\n",
       "  </tbody>\n",
       "</table>\n",
       "</div>"
      ],
      "text/plain": [
       "   kor    mat   eng\n",
       "0  100  100.0   NaN\n",
       "1   90   99.0   NaN\n",
       "2   83    NaN  85.0"
      ]
     },
     "execution_count": 50,
     "metadata": {},
     "output_type": "execute_result"
    }
   ],
   "source": [
    "d = [{'kor' : 100, 'mat' : 100}, {'kor' : 90, 'mat' : 99}, {'kor' : 83, 'eng' : 85}]\n",
    "df = pd.DataFrame(data = d)\n",
    "df\n",
    "# 결측치의 타입은 숫자일 경우 float"
   ]
  },
  {
   "cell_type": "code",
   "execution_count": 51,
   "id": "8421969d",
   "metadata": {
    "ExecuteTime": {
     "end_time": "2024-11-25T05:34:29.792779Z",
     "start_time": "2024-11-25T05:34:29.787387Z"
    }
   },
   "outputs": [
    {
     "data": {
      "text/plain": [
       "float"
      ]
     },
     "execution_count": 51,
     "metadata": {},
     "output_type": "execute_result"
    }
   ],
   "source": [
    "type(np.nan)"
   ]
  },
  {
   "cell_type": "code",
   "execution_count": 52,
   "id": "02ac0e4f",
   "metadata": {
    "ExecuteTime": {
     "end_time": "2024-11-25T05:34:45.110151Z",
     "start_time": "2024-11-25T05:34:44.971378Z"
    }
   },
   "outputs": [
    {
     "ename": "IntCastingNaNError",
     "evalue": "Cannot convert non-finite values (NA or inf) to integer",
     "output_type": "error",
     "traceback": [
      "\u001b[1;31m---------------------------------------------------------------------------\u001b[0m",
      "\u001b[1;31mIntCastingNaNError\u001b[0m                        Traceback (most recent call last)",
      "Cell \u001b[1;32mIn[52], line 1\u001b[0m\n\u001b[1;32m----> 1\u001b[0m \u001b[43mdf\u001b[49m\u001b[43m[\u001b[49m\u001b[38;5;124;43m'\u001b[39;49m\u001b[38;5;124;43mmat\u001b[39;49m\u001b[38;5;124;43m'\u001b[39;49m\u001b[43m]\u001b[49m\u001b[38;5;241;43m.\u001b[39;49m\u001b[43mastype\u001b[49m\u001b[43m(\u001b[49m\u001b[43mnp\u001b[49m\u001b[38;5;241;43m.\u001b[39;49m\u001b[43mint32\u001b[49m\u001b[43m)\u001b[49m\n",
      "File \u001b[1;32m~\\anaconda3\\lib\\site-packages\\pandas\\core\\generic.py:6240\u001b[0m, in \u001b[0;36mNDFrame.astype\u001b[1;34m(self, dtype, copy, errors)\u001b[0m\n\u001b[0;32m   6233\u001b[0m     results \u001b[38;5;241m=\u001b[39m [\n\u001b[0;32m   6234\u001b[0m         \u001b[38;5;28mself\u001b[39m\u001b[38;5;241m.\u001b[39miloc[:, i]\u001b[38;5;241m.\u001b[39mastype(dtype, copy\u001b[38;5;241m=\u001b[39mcopy)\n\u001b[0;32m   6235\u001b[0m         \u001b[38;5;28;01mfor\u001b[39;00m i \u001b[38;5;129;01min\u001b[39;00m \u001b[38;5;28mrange\u001b[39m(\u001b[38;5;28mlen\u001b[39m(\u001b[38;5;28mself\u001b[39m\u001b[38;5;241m.\u001b[39mcolumns))\n\u001b[0;32m   6236\u001b[0m     ]\n\u001b[0;32m   6238\u001b[0m \u001b[38;5;28;01melse\u001b[39;00m:\n\u001b[0;32m   6239\u001b[0m     \u001b[38;5;66;03m# else, only a single dtype is given\u001b[39;00m\n\u001b[1;32m-> 6240\u001b[0m     new_data \u001b[38;5;241m=\u001b[39m \u001b[38;5;28;43mself\u001b[39;49m\u001b[38;5;241;43m.\u001b[39;49m\u001b[43m_mgr\u001b[49m\u001b[38;5;241;43m.\u001b[39;49m\u001b[43mastype\u001b[49m\u001b[43m(\u001b[49m\u001b[43mdtype\u001b[49m\u001b[38;5;241;43m=\u001b[39;49m\u001b[43mdtype\u001b[49m\u001b[43m,\u001b[49m\u001b[43m \u001b[49m\u001b[43mcopy\u001b[49m\u001b[38;5;241;43m=\u001b[39;49m\u001b[43mcopy\u001b[49m\u001b[43m,\u001b[49m\u001b[43m \u001b[49m\u001b[43merrors\u001b[49m\u001b[38;5;241;43m=\u001b[39;49m\u001b[43merrors\u001b[49m\u001b[43m)\u001b[49m\n\u001b[0;32m   6241\u001b[0m     \u001b[38;5;28;01mreturn\u001b[39;00m \u001b[38;5;28mself\u001b[39m\u001b[38;5;241m.\u001b[39m_constructor(new_data)\u001b[38;5;241m.\u001b[39m__finalize__(\u001b[38;5;28mself\u001b[39m, method\u001b[38;5;241m=\u001b[39m\u001b[38;5;124m\"\u001b[39m\u001b[38;5;124mastype\u001b[39m\u001b[38;5;124m\"\u001b[39m)\n\u001b[0;32m   6243\u001b[0m \u001b[38;5;66;03m# GH 33113: handle empty frame or series\u001b[39;00m\n",
      "File \u001b[1;32m~\\anaconda3\\lib\\site-packages\\pandas\\core\\internals\\managers.py:448\u001b[0m, in \u001b[0;36mBaseBlockManager.astype\u001b[1;34m(self, dtype, copy, errors)\u001b[0m\n\u001b[0;32m    447\u001b[0m \u001b[38;5;28;01mdef\u001b[39;00m \u001b[38;5;21mastype\u001b[39m(\u001b[38;5;28mself\u001b[39m: T, dtype, copy: \u001b[38;5;28mbool\u001b[39m \u001b[38;5;241m=\u001b[39m \u001b[38;5;28;01mFalse\u001b[39;00m, errors: \u001b[38;5;28mstr\u001b[39m \u001b[38;5;241m=\u001b[39m \u001b[38;5;124m\"\u001b[39m\u001b[38;5;124mraise\u001b[39m\u001b[38;5;124m\"\u001b[39m) \u001b[38;5;241m-\u001b[39m\u001b[38;5;241m>\u001b[39m T:\n\u001b[1;32m--> 448\u001b[0m     \u001b[38;5;28;01mreturn\u001b[39;00m \u001b[38;5;28;43mself\u001b[39;49m\u001b[38;5;241;43m.\u001b[39;49m\u001b[43mapply\u001b[49m\u001b[43m(\u001b[49m\u001b[38;5;124;43m\"\u001b[39;49m\u001b[38;5;124;43mastype\u001b[39;49m\u001b[38;5;124;43m\"\u001b[39;49m\u001b[43m,\u001b[49m\u001b[43m \u001b[49m\u001b[43mdtype\u001b[49m\u001b[38;5;241;43m=\u001b[39;49m\u001b[43mdtype\u001b[49m\u001b[43m,\u001b[49m\u001b[43m \u001b[49m\u001b[43mcopy\u001b[49m\u001b[38;5;241;43m=\u001b[39;49m\u001b[43mcopy\u001b[49m\u001b[43m,\u001b[49m\u001b[43m \u001b[49m\u001b[43merrors\u001b[49m\u001b[38;5;241;43m=\u001b[39;49m\u001b[43merrors\u001b[49m\u001b[43m)\u001b[49m\n",
      "File \u001b[1;32m~\\anaconda3\\lib\\site-packages\\pandas\\core\\internals\\managers.py:352\u001b[0m, in \u001b[0;36mBaseBlockManager.apply\u001b[1;34m(self, f, align_keys, ignore_failures, **kwargs)\u001b[0m\n\u001b[0;32m    350\u001b[0m         applied \u001b[38;5;241m=\u001b[39m b\u001b[38;5;241m.\u001b[39mapply(f, \u001b[38;5;241m*\u001b[39m\u001b[38;5;241m*\u001b[39mkwargs)\n\u001b[0;32m    351\u001b[0m     \u001b[38;5;28;01melse\u001b[39;00m:\n\u001b[1;32m--> 352\u001b[0m         applied \u001b[38;5;241m=\u001b[39m \u001b[38;5;28mgetattr\u001b[39m(b, f)(\u001b[38;5;241m*\u001b[39m\u001b[38;5;241m*\u001b[39mkwargs)\n\u001b[0;32m    353\u001b[0m \u001b[38;5;28;01mexcept\u001b[39;00m (\u001b[38;5;167;01mTypeError\u001b[39;00m, \u001b[38;5;167;01mNotImplementedError\u001b[39;00m):\n\u001b[0;32m    354\u001b[0m     \u001b[38;5;28;01mif\u001b[39;00m \u001b[38;5;129;01mnot\u001b[39;00m ignore_failures:\n",
      "File \u001b[1;32m~\\anaconda3\\lib\\site-packages\\pandas\\core\\internals\\blocks.py:526\u001b[0m, in \u001b[0;36mBlock.astype\u001b[1;34m(self, dtype, copy, errors)\u001b[0m\n\u001b[0;32m    508\u001b[0m \u001b[38;5;124;03m\"\"\"\u001b[39;00m\n\u001b[0;32m    509\u001b[0m \u001b[38;5;124;03mCoerce to the new dtype.\u001b[39;00m\n\u001b[0;32m    510\u001b[0m \n\u001b[1;32m   (...)\u001b[0m\n\u001b[0;32m    522\u001b[0m \u001b[38;5;124;03mBlock\u001b[39;00m\n\u001b[0;32m    523\u001b[0m \u001b[38;5;124;03m\"\"\"\u001b[39;00m\n\u001b[0;32m    524\u001b[0m values \u001b[38;5;241m=\u001b[39m \u001b[38;5;28mself\u001b[39m\u001b[38;5;241m.\u001b[39mvalues\n\u001b[1;32m--> 526\u001b[0m new_values \u001b[38;5;241m=\u001b[39m \u001b[43mastype_array_safe\u001b[49m\u001b[43m(\u001b[49m\u001b[43mvalues\u001b[49m\u001b[43m,\u001b[49m\u001b[43m \u001b[49m\u001b[43mdtype\u001b[49m\u001b[43m,\u001b[49m\u001b[43m \u001b[49m\u001b[43mcopy\u001b[49m\u001b[38;5;241;43m=\u001b[39;49m\u001b[43mcopy\u001b[49m\u001b[43m,\u001b[49m\u001b[43m \u001b[49m\u001b[43merrors\u001b[49m\u001b[38;5;241;43m=\u001b[39;49m\u001b[43merrors\u001b[49m\u001b[43m)\u001b[49m\n\u001b[0;32m    528\u001b[0m new_values \u001b[38;5;241m=\u001b[39m maybe_coerce_values(new_values)\n\u001b[0;32m    529\u001b[0m newb \u001b[38;5;241m=\u001b[39m \u001b[38;5;28mself\u001b[39m\u001b[38;5;241m.\u001b[39mmake_block(new_values)\n",
      "File \u001b[1;32m~\\anaconda3\\lib\\site-packages\\pandas\\core\\dtypes\\astype.py:299\u001b[0m, in \u001b[0;36mastype_array_safe\u001b[1;34m(values, dtype, copy, errors)\u001b[0m\n\u001b[0;32m    296\u001b[0m     \u001b[38;5;28;01mreturn\u001b[39;00m values\u001b[38;5;241m.\u001b[39mcopy()\n\u001b[0;32m    298\u001b[0m \u001b[38;5;28;01mtry\u001b[39;00m:\n\u001b[1;32m--> 299\u001b[0m     new_values \u001b[38;5;241m=\u001b[39m \u001b[43mastype_array\u001b[49m\u001b[43m(\u001b[49m\u001b[43mvalues\u001b[49m\u001b[43m,\u001b[49m\u001b[43m \u001b[49m\u001b[43mdtype\u001b[49m\u001b[43m,\u001b[49m\u001b[43m \u001b[49m\u001b[43mcopy\u001b[49m\u001b[38;5;241;43m=\u001b[39;49m\u001b[43mcopy\u001b[49m\u001b[43m)\u001b[49m\n\u001b[0;32m    300\u001b[0m \u001b[38;5;28;01mexcept\u001b[39;00m (\u001b[38;5;167;01mValueError\u001b[39;00m, \u001b[38;5;167;01mTypeError\u001b[39;00m):\n\u001b[0;32m    301\u001b[0m     \u001b[38;5;66;03m# e.g. astype_nansafe can fail on object-dtype of strings\u001b[39;00m\n\u001b[0;32m    302\u001b[0m     \u001b[38;5;66;03m#  trying to convert to float\u001b[39;00m\n\u001b[0;32m    303\u001b[0m     \u001b[38;5;28;01mif\u001b[39;00m errors \u001b[38;5;241m==\u001b[39m \u001b[38;5;124m\"\u001b[39m\u001b[38;5;124mignore\u001b[39m\u001b[38;5;124m\"\u001b[39m:\n",
      "File \u001b[1;32m~\\anaconda3\\lib\\site-packages\\pandas\\core\\dtypes\\astype.py:230\u001b[0m, in \u001b[0;36mastype_array\u001b[1;34m(values, dtype, copy)\u001b[0m\n\u001b[0;32m    227\u001b[0m     values \u001b[38;5;241m=\u001b[39m values\u001b[38;5;241m.\u001b[39mastype(dtype, copy\u001b[38;5;241m=\u001b[39mcopy)\n\u001b[0;32m    229\u001b[0m \u001b[38;5;28;01melse\u001b[39;00m:\n\u001b[1;32m--> 230\u001b[0m     values \u001b[38;5;241m=\u001b[39m \u001b[43mastype_nansafe\u001b[49m\u001b[43m(\u001b[49m\u001b[43mvalues\u001b[49m\u001b[43m,\u001b[49m\u001b[43m \u001b[49m\u001b[43mdtype\u001b[49m\u001b[43m,\u001b[49m\u001b[43m \u001b[49m\u001b[43mcopy\u001b[49m\u001b[38;5;241;43m=\u001b[39;49m\u001b[43mcopy\u001b[49m\u001b[43m)\u001b[49m\n\u001b[0;32m    232\u001b[0m \u001b[38;5;66;03m# in pandas we don't store numpy str dtypes, so convert to object\u001b[39;00m\n\u001b[0;32m    233\u001b[0m \u001b[38;5;28;01mif\u001b[39;00m \u001b[38;5;28misinstance\u001b[39m(dtype, np\u001b[38;5;241m.\u001b[39mdtype) \u001b[38;5;129;01mand\u001b[39;00m \u001b[38;5;28missubclass\u001b[39m(values\u001b[38;5;241m.\u001b[39mdtype\u001b[38;5;241m.\u001b[39mtype, \u001b[38;5;28mstr\u001b[39m):\n",
      "File \u001b[1;32m~\\anaconda3\\lib\\site-packages\\pandas\\core\\dtypes\\astype.py:140\u001b[0m, in \u001b[0;36mastype_nansafe\u001b[1;34m(arr, dtype, copy, skipna)\u001b[0m\n\u001b[0;32m    137\u001b[0m     \u001b[38;5;28;01mraise\u001b[39;00m \u001b[38;5;167;01mTypeError\u001b[39;00m(\u001b[38;5;124mf\u001b[39m\u001b[38;5;124m\"\u001b[39m\u001b[38;5;124mcannot astype a timedelta from [\u001b[39m\u001b[38;5;132;01m{\u001b[39;00marr\u001b[38;5;241m.\u001b[39mdtype\u001b[38;5;132;01m}\u001b[39;00m\u001b[38;5;124m] to [\u001b[39m\u001b[38;5;132;01m{\u001b[39;00mdtype\u001b[38;5;132;01m}\u001b[39;00m\u001b[38;5;124m]\u001b[39m\u001b[38;5;124m\"\u001b[39m)\n\u001b[0;32m    139\u001b[0m \u001b[38;5;28;01melif\u001b[39;00m np\u001b[38;5;241m.\u001b[39missubdtype(arr\u001b[38;5;241m.\u001b[39mdtype, np\u001b[38;5;241m.\u001b[39mfloating) \u001b[38;5;129;01mand\u001b[39;00m is_integer_dtype(dtype):\n\u001b[1;32m--> 140\u001b[0m     \u001b[38;5;28;01mreturn\u001b[39;00m \u001b[43m_astype_float_to_int_nansafe\u001b[49m\u001b[43m(\u001b[49m\u001b[43marr\u001b[49m\u001b[43m,\u001b[49m\u001b[43m \u001b[49m\u001b[43mdtype\u001b[49m\u001b[43m,\u001b[49m\u001b[43m \u001b[49m\u001b[43mcopy\u001b[49m\u001b[43m)\u001b[49m\n\u001b[0;32m    142\u001b[0m \u001b[38;5;28;01melif\u001b[39;00m is_object_dtype(arr\u001b[38;5;241m.\u001b[39mdtype):\n\u001b[0;32m    143\u001b[0m \n\u001b[0;32m    144\u001b[0m     \u001b[38;5;66;03m# if we have a datetime/timedelta array of objects\u001b[39;00m\n\u001b[0;32m    145\u001b[0m     \u001b[38;5;66;03m# then coerce to a proper dtype and recall astype_nansafe\u001b[39;00m\n\u001b[0;32m    147\u001b[0m     \u001b[38;5;28;01mif\u001b[39;00m is_datetime64_dtype(dtype):\n",
      "File \u001b[1;32m~\\anaconda3\\lib\\site-packages\\pandas\\core\\dtypes\\astype.py:182\u001b[0m, in \u001b[0;36m_astype_float_to_int_nansafe\u001b[1;34m(values, dtype, copy)\u001b[0m\n\u001b[0;32m    178\u001b[0m \u001b[38;5;124;03m\"\"\"\u001b[39;00m\n\u001b[0;32m    179\u001b[0m \u001b[38;5;124;03mastype with a check preventing converting NaN to an meaningless integer value.\u001b[39;00m\n\u001b[0;32m    180\u001b[0m \u001b[38;5;124;03m\"\"\"\u001b[39;00m\n\u001b[0;32m    181\u001b[0m \u001b[38;5;28;01mif\u001b[39;00m \u001b[38;5;129;01mnot\u001b[39;00m np\u001b[38;5;241m.\u001b[39misfinite(values)\u001b[38;5;241m.\u001b[39mall():\n\u001b[1;32m--> 182\u001b[0m     \u001b[38;5;28;01mraise\u001b[39;00m IntCastingNaNError(\n\u001b[0;32m    183\u001b[0m         \u001b[38;5;124m\"\u001b[39m\u001b[38;5;124mCannot convert non-finite values (NA or inf) to integer\u001b[39m\u001b[38;5;124m\"\u001b[39m\n\u001b[0;32m    184\u001b[0m     )\n\u001b[0;32m    185\u001b[0m \u001b[38;5;28;01mif\u001b[39;00m dtype\u001b[38;5;241m.\u001b[39mkind \u001b[38;5;241m==\u001b[39m \u001b[38;5;124m\"\u001b[39m\u001b[38;5;124mu\u001b[39m\u001b[38;5;124m\"\u001b[39m:\n\u001b[0;32m    186\u001b[0m     \u001b[38;5;66;03m# GH#45151\u001b[39;00m\n\u001b[0;32m    187\u001b[0m     \u001b[38;5;28;01mif\u001b[39;00m \u001b[38;5;129;01mnot\u001b[39;00m (values \u001b[38;5;241m>\u001b[39m\u001b[38;5;241m=\u001b[39m \u001b[38;5;241m0\u001b[39m)\u001b[38;5;241m.\u001b[39mall():\n",
      "\u001b[1;31mIntCastingNaNError\u001b[0m: Cannot convert non-finite values (NA or inf) to integer"
     ]
    }
   ],
   "source": [
    "# 결측치는 int로 형변환 불가(결측치를 대체값으로 치환 후 변환)\n",
    "# df['mat'].astype(np.int32) 에러"
   ]
  },
  {
   "cell_type": "markdown",
   "id": "267f299f",
   "metadata": {},
   "source": [
    "## 2.2 리스트를 이용해서 데이터 프레임 만들기"
   ]
  },
  {
   "cell_type": "code",
   "execution_count": 53,
   "id": "ec522b0f",
   "metadata": {
    "ExecuteTime": {
     "end_time": "2024-11-25T05:37:36.325603Z",
     "start_time": "2024-11-25T05:37:36.313780Z"
    }
   },
   "outputs": [
    {
     "data": {
      "text/html": [
       "<div>\n",
       "<style scoped>\n",
       "    .dataframe tbody tr th:only-of-type {\n",
       "        vertical-align: middle;\n",
       "    }\n",
       "\n",
       "    .dataframe tbody tr th {\n",
       "        vertical-align: top;\n",
       "    }\n",
       "\n",
       "    .dataframe thead th {\n",
       "        text-align: right;\n",
       "    }\n",
       "</style>\n",
       "<table border=\"1\" class=\"dataframe\">\n",
       "  <thead>\n",
       "    <tr style=\"text-align: right;\">\n",
       "      <th></th>\n",
       "      <th>kor</th>\n",
       "      <th>mat</th>\n",
       "    </tr>\n",
       "  </thead>\n",
       "  <tbody>\n",
       "    <tr>\n",
       "      <th>0</th>\n",
       "      <td>100</td>\n",
       "      <td>100</td>\n",
       "    </tr>\n",
       "    <tr>\n",
       "      <th>1</th>\n",
       "      <td>90</td>\n",
       "      <td>95</td>\n",
       "    </tr>\n",
       "    <tr>\n",
       "      <th>2</th>\n",
       "      <td>95</td>\n",
       "      <td>94</td>\n",
       "    </tr>\n",
       "    <tr>\n",
       "      <th>3</th>\n",
       "      <td>90</td>\n",
       "      <td>64</td>\n",
       "    </tr>\n",
       "    <tr>\n",
       "      <th>4</th>\n",
       "      <td>65</td>\n",
       "      <td>85</td>\n",
       "    </tr>\n",
       "  </tbody>\n",
       "</table>\n",
       "</div>"
      ],
      "text/plain": [
       "   kor  mat\n",
       "0  100  100\n",
       "1   90   95\n",
       "2   95   94\n",
       "3   90   64\n",
       "4   65   85"
      ]
     },
     "execution_count": 53,
     "metadata": {},
     "output_type": "execute_result"
    }
   ],
   "source": [
    "kor = [100, 90, 95, 90, 65]\n",
    "mat = [100, 95, 94, 64, 85]\n",
    "df = pd.DataFrame({'kor' : kor, 'mat' : mat})\n",
    "df"
   ]
  },
  {
   "cell_type": "code",
   "execution_count": 55,
   "id": "f8bcd2b7",
   "metadata": {
    "ExecuteTime": {
     "end_time": "2024-11-25T05:38:47.568364Z",
     "start_time": "2024-11-25T05:38:47.561364Z"
    }
   },
   "outputs": [
    {
     "data": {
      "text/plain": [
       "array([[100, 100],\n",
       "       [ 90,  95],\n",
       "       [ 95,  94],\n",
       "       [ 90,  64],\n",
       "       [ 65,  85]])"
      ]
     },
     "execution_count": 55,
     "metadata": {},
     "output_type": "execute_result"
    }
   ],
   "source": [
    "np.c_[kor, mat]"
   ]
  },
  {
   "cell_type": "code",
   "execution_count": 59,
   "id": "d8a8217e",
   "metadata": {
    "ExecuteTime": {
     "end_time": "2024-11-25T05:39:55.406249Z",
     "start_time": "2024-11-25T05:39:55.395253Z"
    }
   },
   "outputs": [
    {
     "data": {
      "text/html": [
       "<div>\n",
       "<style scoped>\n",
       "    .dataframe tbody tr th:only-of-type {\n",
       "        vertical-align: middle;\n",
       "    }\n",
       "\n",
       "    .dataframe tbody tr th {\n",
       "        vertical-align: top;\n",
       "    }\n",
       "\n",
       "    .dataframe thead th {\n",
       "        text-align: right;\n",
       "    }\n",
       "</style>\n",
       "<table border=\"1\" class=\"dataframe\">\n",
       "  <thead>\n",
       "    <tr style=\"text-align: right;\">\n",
       "      <th></th>\n",
       "      <th>국어</th>\n",
       "      <th>수학</th>\n",
       "    </tr>\n",
       "  </thead>\n",
       "  <tbody>\n",
       "    <tr>\n",
       "      <th>0</th>\n",
       "      <td>100</td>\n",
       "      <td>100</td>\n",
       "    </tr>\n",
       "    <tr>\n",
       "      <th>1</th>\n",
       "      <td>90</td>\n",
       "      <td>95</td>\n",
       "    </tr>\n",
       "    <tr>\n",
       "      <th>2</th>\n",
       "      <td>95</td>\n",
       "      <td>94</td>\n",
       "    </tr>\n",
       "    <tr>\n",
       "      <th>3</th>\n",
       "      <td>90</td>\n",
       "      <td>64</td>\n",
       "    </tr>\n",
       "    <tr>\n",
       "      <th>4</th>\n",
       "      <td>65</td>\n",
       "      <td>85</td>\n",
       "    </tr>\n",
       "  </tbody>\n",
       "</table>\n",
       "</div>"
      ],
      "text/plain": [
       "    국어   수학\n",
       "0  100  100\n",
       "1   90   95\n",
       "2   95   94\n",
       "3   90   64\n",
       "4   65   85"
      ]
     },
     "execution_count": 59,
     "metadata": {},
     "output_type": "execute_result"
    }
   ],
   "source": [
    "df = pd.DataFrame(np.c_[kor, mat], columns=['국어', '수학'])\n",
    "df"
   ]
  },
  {
   "cell_type": "code",
   "execution_count": 62,
   "id": "ef4f415e",
   "metadata": {
    "ExecuteTime": {
     "end_time": "2024-11-25T05:41:20.683140Z",
     "start_time": "2024-11-25T05:41:20.671926Z"
    }
   },
   "outputs": [
    {
     "data": {
      "text/html": [
       "<div>\n",
       "<style scoped>\n",
       "    .dataframe tbody tr th:only-of-type {\n",
       "        vertical-align: middle;\n",
       "    }\n",
       "\n",
       "    .dataframe tbody tr th {\n",
       "        vertical-align: top;\n",
       "    }\n",
       "\n",
       "    .dataframe thead th {\n",
       "        text-align: right;\n",
       "    }\n",
       "</style>\n",
       "<table border=\"1\" class=\"dataframe\">\n",
       "  <thead>\n",
       "    <tr style=\"text-align: right;\">\n",
       "      <th></th>\n",
       "      <th>kor</th>\n",
       "      <th>mat</th>\n",
       "    </tr>\n",
       "  </thead>\n",
       "  <tbody>\n",
       "    <tr>\n",
       "      <th>0</th>\n",
       "      <td>100</td>\n",
       "      <td>90</td>\n",
       "    </tr>\n",
       "    <tr>\n",
       "      <th>1</th>\n",
       "      <td>10</td>\n",
       "      <td>20</td>\n",
       "    </tr>\n",
       "  </tbody>\n",
       "</table>\n",
       "</div>"
      ],
      "text/plain": [
       "   kor  mat\n",
       "0  100   90\n",
       "1   10   20"
      ]
     },
     "execution_count": 62,
     "metadata": {},
     "output_type": "execute_result"
    }
   ],
   "source": [
    "l = [[100, 90], [10, 20]]  # 행으로 삽입됨\n",
    "df = pd.DataFrame(l, columns=['kor', 'mat'])\n",
    "df"
   ]
  },
  {
   "cell_type": "code",
   "execution_count": 63,
   "id": "f9d1ffe6",
   "metadata": {
    "ExecuteTime": {
     "end_time": "2024-11-25T05:48:09.199974Z",
     "start_time": "2024-11-25T05:48:09.157530Z"
    }
   },
   "outputs": [
    {
     "name": "stdout",
     "output_type": "stream",
     "text": [
      " D 드라이브의 볼륨: 새 볼륨\n",
      " 볼륨 일련 번호: EC0C-568F\n",
      "\n",
      " D:\\imsehyeon\\Downloads\\shareData\\상가정보 디렉터리\n",
      "\n",
      "2024-11-18  오후 04:13    <DIR>          .\n",
      "2024-11-18  오후 04:13    <DIR>          ..\n",
      "2024-10-23  오후 05:58             1,011 [필독]파일열람방법.txt\n",
      "2024-10-23  오후 06:19        53,454,658 소상공인시장진흥공단_상가(상권)정보_강원_202409.csv\n",
      "2024-10-23  오후 06:19       301,935,950 소상공인시장진흥공단_상가(상권)정보_경기_202409.csv\n",
      "2024-10-23  오후 06:20        86,291,699 소상공인시장진흥공단_상가(상권)정보_경남_202409.csv\n",
      "2024-10-23  오후 06:20        70,952,897 소상공인시장진흥공단_상가(상권)정보_경북_202409.csv\n",
      "2024-10-23  오후 06:20        36,458,714 소상공인시장진흥공단_상가(상권)정보_광주_202409.csv\n",
      "2024-10-23  오후 06:20        57,391,847 소상공인시장진흥공단_상가(상권)정보_대구_202409.csv\n",
      "2024-10-23  오후 06:20        36,638,904 소상공인시장진흥공단_상가(상권)정보_대전_202409.csv\n",
      "2024-10-23  오후 06:20        78,253,942 소상공인시장진흥공단_상가(상권)정보_부산_202409.csv\n",
      "2024-10-23  오후 06:18       254,255,270 소상공인시장진흥공단_상가(상권)정보_서울_202409.csv\n",
      "2024-10-23  오후 06:18         8,277,492 소상공인시장진흥공단_상가(상권)정보_세종_202409.csv\n",
      "2024-10-23  오후 06:18        26,299,042 소상공인시장진흥공단_상가(상권)정보_울산_202409.csv\n",
      "2024-10-23  오후 06:18        61,674,577 소상공인시장진흥공단_상가(상권)정보_인천_202409.csv\n",
      "2024-10-23  오후 06:19        49,328,950 소상공인시장진흥공단_상가(상권)정보_전남_202409.csv\n",
      "2024-10-23  오후 06:19        51,861,004 소상공인시장진흥공단_상가(상권)정보_전북_202409.csv\n",
      "2024-10-23  오후 06:19        30,450,901 소상공인시장진흥공단_상가(상권)정보_제주_202409.csv\n",
      "2024-10-23  오후 06:19        58,318,672 소상공인시장진흥공단_상가(상권)정보_충남_202409.csv\n",
      "2024-10-23  오후 06:19        44,415,648 소상공인시장진흥공단_상가(상권)정보_충북_202409.csv\n",
      "              18개 파일       1,306,261,178 바이트\n",
      "               2개 디렉터리  233,157,648,384 바이트 남음\n"
     ]
    }
   ],
   "source": [
    "%ls D:\\imsehyeon\\Downloads\\shareData\\상가정보"
   ]
  },
  {
   "cell_type": "code",
   "execution_count": 65,
   "id": "0df5ee98",
   "metadata": {
    "ExecuteTime": {
     "end_time": "2024-11-25T05:53:18.101088Z",
     "start_time": "2024-11-25T05:53:18.083417Z"
    }
   },
   "outputs": [
    {
     "data": {
      "text/plain": [
       "(30, 39)"
      ]
     },
     "execution_count": 65,
     "metadata": {},
     "output_type": "execute_result"
    }
   ],
   "source": [
    "df = pd.read_csv(r'D:\\imsehyeon\\Downloads\\shareData\\상가정보\\소상공인시장진흥공단_상가(상권)정보_세종_202409.csv',\n",
    "                encoding='utf-8', sep=',',   # 기본값 생략가능\n",
    "                low_memory=False,  # 데이터 용량이 클 경우만 기입(형식이 맞지 않을 때의 에러를 대비해서)\n",
    "                nrows=30)  # (총 13,221개 중)처음 30행만 가져오기\n",
    "df.shape"
   ]
  },
  {
   "cell_type": "code",
   "execution_count": 68,
   "id": "6c466745",
   "metadata": {
    "ExecuteTime": {
     "end_time": "2024-11-25T05:55:42.099159Z",
     "start_time": "2024-11-25T05:55:42.076483Z"
    }
   },
   "outputs": [
    {
     "data": {
      "text/html": [
       "<div>\n",
       "<style scoped>\n",
       "    .dataframe tbody tr th:only-of-type {\n",
       "        vertical-align: middle;\n",
       "    }\n",
       "\n",
       "    .dataframe tbody tr th {\n",
       "        vertical-align: top;\n",
       "    }\n",
       "\n",
       "    .dataframe thead th {\n",
       "        text-align: right;\n",
       "    }\n",
       "</style>\n",
       "<table border=\"1\" class=\"dataframe\">\n",
       "  <thead>\n",
       "    <tr style=\"text-align: right;\">\n",
       "      <th></th>\n",
       "      <th>상가업소번호</th>\n",
       "      <th>상호명</th>\n",
       "      <th>지점명</th>\n",
       "      <th>상권업종대분류코드</th>\n",
       "      <th>상권업종대분류명</th>\n",
       "      <th>상권업종중분류코드</th>\n",
       "      <th>상권업종중분류명</th>\n",
       "      <th>상권업종소분류코드</th>\n",
       "      <th>상권업종소분류명</th>\n",
       "      <th>표준산업분류코드</th>\n",
       "      <th>...</th>\n",
       "      <th>건물관리번호</th>\n",
       "      <th>건물명</th>\n",
       "      <th>도로명주소</th>\n",
       "      <th>구우편번호</th>\n",
       "      <th>신우편번호</th>\n",
       "      <th>동정보</th>\n",
       "      <th>층정보</th>\n",
       "      <th>호정보</th>\n",
       "      <th>경도</th>\n",
       "      <th>위도</th>\n",
       "    </tr>\n",
       "  </thead>\n",
       "  <tbody>\n",
       "    <tr>\n",
       "      <th>0</th>\n",
       "      <td>MA0101202210A0084499</td>\n",
       "      <td>베트남쌀국수퍼짱</td>\n",
       "      <td>NaN</td>\n",
       "      <td>I2</td>\n",
       "      <td>음식</td>\n",
       "      <td>I205</td>\n",
       "      <td>동남아시아</td>\n",
       "      <td>I20501</td>\n",
       "      <td>베트남식 전문</td>\n",
       "      <td>I56194</td>\n",
       "      <td>...</td>\n",
       "      <td>3611010700103610086000001</td>\n",
       "      <td>모닝시티2</td>\n",
       "      <td>세종특별자치시 세종특별자치시 한누리대로 311</td>\n",
       "      <td>339003.0</td>\n",
       "      <td>30123</td>\n",
       "      <td>NaN</td>\n",
       "      <td>1.0</td>\n",
       "      <td>NaN</td>\n",
       "      <td>127.25584</td>\n",
       "      <td>36.492065</td>\n",
       "    </tr>\n",
       "  </tbody>\n",
       "</table>\n",
       "<p>1 rows × 39 columns</p>\n",
       "</div>"
      ],
      "text/plain": [
       "                 상가업소번호       상호명  지점명 상권업종대분류코드 상권업종대분류명 상권업종중분류코드 상권업종중분류명  \\\n",
       "0  MA0101202210A0084499  베트남쌀국수퍼짱  NaN        I2       음식      I205    동남아시아   \n",
       "\n",
       "  상권업종소분류코드 상권업종소분류명 표준산업분류코드  ...                     건물관리번호    건물명  \\\n",
       "0    I20501  베트남식 전문   I56194  ...  3611010700103610086000001  모닝시티2   \n",
       "\n",
       "                       도로명주소     구우편번호  신우편번호  동정보  층정보  호정보         경도  \\\n",
       "0  세종특별자치시 세종특별자치시 한누리대로 311  339003.0  30123  NaN  1.0  NaN  127.25584   \n",
       "\n",
       "          위도  \n",
       "0  36.492065  \n",
       "\n",
       "[1 rows x 39 columns]"
      ]
     },
     "execution_count": 68,
     "metadata": {},
     "output_type": "execute_result"
    }
   ],
   "source": [
    "df.head(1)  # head(1) 상위 1행만 출력"
   ]
  },
  {
   "cell_type": "code",
   "execution_count": 67,
   "id": "c2c1e835",
   "metadata": {
    "ExecuteTime": {
     "end_time": "2024-11-25T05:54:42.306538Z",
     "start_time": "2024-11-25T05:54:42.256767Z"
    }
   },
   "outputs": [
    {
     "data": {
      "text/html": [
       "<div>\n",
       "<style scoped>\n",
       "    .dataframe tbody tr th:only-of-type {\n",
       "        vertical-align: middle;\n",
       "    }\n",
       "\n",
       "    .dataframe tbody tr th {\n",
       "        vertical-align: top;\n",
       "    }\n",
       "\n",
       "    .dataframe thead th {\n",
       "        text-align: right;\n",
       "    }\n",
       "</style>\n",
       "<table border=\"1\" class=\"dataframe\">\n",
       "  <thead>\n",
       "    <tr style=\"text-align: right;\">\n",
       "      <th></th>\n",
       "      <th>0</th>\n",
       "      <th>1</th>\n",
       "      <th>2</th>\n",
       "      <th>3</th>\n",
       "      <th>4</th>\n",
       "      <th>5</th>\n",
       "      <th>6</th>\n",
       "      <th>7</th>\n",
       "      <th>8</th>\n",
       "      <th>9</th>\n",
       "      <th>...</th>\n",
       "      <th>20</th>\n",
       "      <th>21</th>\n",
       "      <th>22</th>\n",
       "      <th>23</th>\n",
       "      <th>24</th>\n",
       "      <th>25</th>\n",
       "      <th>26</th>\n",
       "      <th>27</th>\n",
       "      <th>28</th>\n",
       "      <th>29</th>\n",
       "    </tr>\n",
       "  </thead>\n",
       "  <tbody>\n",
       "    <tr>\n",
       "      <th>상가업소번호</th>\n",
       "      <td>MA0101202210A0084499</td>\n",
       "      <td>MA010120220805434190</td>\n",
       "      <td>MA010120220805432469</td>\n",
       "      <td>MA010120220805435562</td>\n",
       "      <td>MA010120220805437826</td>\n",
       "      <td>MA010120220805437034</td>\n",
       "      <td>MA010120220805436870</td>\n",
       "      <td>MA010120220805439448</td>\n",
       "      <td>MA010120220805447501</td>\n",
       "      <td>MA010120220805445058</td>\n",
       "      <td>...</td>\n",
       "      <td>MA010120220805444812</td>\n",
       "      <td>MA010120220805443708</td>\n",
       "      <td>MA010120220805442296</td>\n",
       "      <td>MA010120220805440526</td>\n",
       "      <td>MA010120220805443477</td>\n",
       "      <td>MA010120220805457023</td>\n",
       "      <td>MA010120220805461877</td>\n",
       "      <td>MA010120220805457615</td>\n",
       "      <td>MA010120220805459636</td>\n",
       "      <td>MA010120220805452812</td>\n",
       "    </tr>\n",
       "    <tr>\n",
       "      <th>상호명</th>\n",
       "      <td>베트남쌀국수퍼짱</td>\n",
       "      <td>더함인테리어컨설팅</td>\n",
       "      <td>모더니엘살롱</td>\n",
       "      <td>카이젠교육</td>\n",
       "      <td>가재세탁</td>\n",
       "      <td>세종마취과</td>\n",
       "      <td>세종유도관</td>\n",
       "      <td>세종종합법률사무소</td>\n",
       "      <td>로엘라</td>\n",
       "      <td>딥핑크</td>\n",
       "      <td>...</td>\n",
       "      <td>부동산땅집go공인중개사사무소</td>\n",
       "      <td>머슬케어필라테스</td>\n",
       "      <td>천지연가든</td>\n",
       "      <td>아르드뽀에스테틱</td>\n",
       "      <td>쿠헤어</td>\n",
       "      <td>세종하이엔드학원</td>\n",
       "      <td>캐치업세종</td>\n",
       "      <td>인성세무회계사무소</td>\n",
       "      <td>모던제이</td>\n",
       "      <td>엘리시아헤어살롱</td>\n",
       "    </tr>\n",
       "    <tr>\n",
       "      <th>지점명</th>\n",
       "      <td>NaN</td>\n",
       "      <td>NaN</td>\n",
       "      <td>NaN</td>\n",
       "      <td>NaN</td>\n",
       "      <td>NaN</td>\n",
       "      <td>NaN</td>\n",
       "      <td>NaN</td>\n",
       "      <td>NaN</td>\n",
       "      <td>NaN</td>\n",
       "      <td>NaN</td>\n",
       "      <td>...</td>\n",
       "      <td>NaN</td>\n",
       "      <td>NaN</td>\n",
       "      <td>NaN</td>\n",
       "      <td>NaN</td>\n",
       "      <td>NaN</td>\n",
       "      <td>NaN</td>\n",
       "      <td>NaN</td>\n",
       "      <td>NaN</td>\n",
       "      <td>NaN</td>\n",
       "      <td>NaN</td>\n",
       "    </tr>\n",
       "    <tr>\n",
       "      <th>상권업종대분류코드</th>\n",
       "      <td>I2</td>\n",
       "      <td>M1</td>\n",
       "      <td>S2</td>\n",
       "      <td>P1</td>\n",
       "      <td>S2</td>\n",
       "      <td>Q1</td>\n",
       "      <td>P1</td>\n",
       "      <td>M1</td>\n",
       "      <td>I2</td>\n",
       "      <td>G2</td>\n",
       "      <td>...</td>\n",
       "      <td>L1</td>\n",
       "      <td>P1</td>\n",
       "      <td>I2</td>\n",
       "      <td>S2</td>\n",
       "      <td>S2</td>\n",
       "      <td>P1</td>\n",
       "      <td>G2</td>\n",
       "      <td>M1</td>\n",
       "      <td>G2</td>\n",
       "      <td>S2</td>\n",
       "    </tr>\n",
       "    <tr>\n",
       "      <th>상권업종대분류명</th>\n",
       "      <td>음식</td>\n",
       "      <td>과학·기술</td>\n",
       "      <td>수리·개인</td>\n",
       "      <td>교육</td>\n",
       "      <td>수리·개인</td>\n",
       "      <td>보건의료</td>\n",
       "      <td>교육</td>\n",
       "      <td>과학·기술</td>\n",
       "      <td>음식</td>\n",
       "      <td>소매</td>\n",
       "      <td>...</td>\n",
       "      <td>부동산</td>\n",
       "      <td>교육</td>\n",
       "      <td>음식</td>\n",
       "      <td>수리·개인</td>\n",
       "      <td>수리·개인</td>\n",
       "      <td>교육</td>\n",
       "      <td>소매</td>\n",
       "      <td>과학·기술</td>\n",
       "      <td>소매</td>\n",
       "      <td>수리·개인</td>\n",
       "    </tr>\n",
       "    <tr>\n",
       "      <th>상권업종중분류코드</th>\n",
       "      <td>I205</td>\n",
       "      <td>M112</td>\n",
       "      <td>S207</td>\n",
       "      <td>P105</td>\n",
       "      <td>S209</td>\n",
       "      <td>Q102</td>\n",
       "      <td>P106</td>\n",
       "      <td>M103</td>\n",
       "      <td>I201</td>\n",
       "      <td>G204</td>\n",
       "      <td>...</td>\n",
       "      <td>L102</td>\n",
       "      <td>P106</td>\n",
       "      <td>I201</td>\n",
       "      <td>S207</td>\n",
       "      <td>S207</td>\n",
       "      <td>P105</td>\n",
       "      <td>G215</td>\n",
       "      <td>M104</td>\n",
       "      <td>G209</td>\n",
       "      <td>S207</td>\n",
       "    </tr>\n",
       "    <tr>\n",
       "      <th>상권업종중분류명</th>\n",
       "      <td>동남아시아</td>\n",
       "      <td>전문 디자인</td>\n",
       "      <td>이용·미용</td>\n",
       "      <td>일반 교육</td>\n",
       "      <td>세탁</td>\n",
       "      <td>의원</td>\n",
       "      <td>기타 교육</td>\n",
       "      <td>법무관련</td>\n",
       "      <td>한식</td>\n",
       "      <td>종합 소매</td>\n",
       "      <td>...</td>\n",
       "      <td>부동산 서비스</td>\n",
       "      <td>기타 교육</td>\n",
       "      <td>한식</td>\n",
       "      <td>이용·미용</td>\n",
       "      <td>이용·미용</td>\n",
       "      <td>일반 교육</td>\n",
       "      <td>의약·화장품 소매</td>\n",
       "      <td>회계·세무</td>\n",
       "      <td>섬유·의복·신발 소매</td>\n",
       "      <td>이용·미용</td>\n",
       "    </tr>\n",
       "    <tr>\n",
       "      <th>상권업종소분류코드</th>\n",
       "      <td>I20501</td>\n",
       "      <td>M11201</td>\n",
       "      <td>S20701</td>\n",
       "      <td>P10501</td>\n",
       "      <td>S20901</td>\n",
       "      <td>Q10209</td>\n",
       "      <td>P10601</td>\n",
       "      <td>M10301</td>\n",
       "      <td>I20101</td>\n",
       "      <td>G20499</td>\n",
       "      <td>...</td>\n",
       "      <td>L10203</td>\n",
       "      <td>P10603</td>\n",
       "      <td>I20101</td>\n",
       "      <td>S20702</td>\n",
       "      <td>S20701</td>\n",
       "      <td>P10501</td>\n",
       "      <td>G21503</td>\n",
       "      <td>M10401</td>\n",
       "      <td>G20911</td>\n",
       "      <td>S20701</td>\n",
       "    </tr>\n",
       "    <tr>\n",
       "      <th>상권업종소분류명</th>\n",
       "      <td>베트남식 전문</td>\n",
       "      <td>인테리어 디자인업</td>\n",
       "      <td>미용실</td>\n",
       "      <td>입시·교과학원</td>\n",
       "      <td>세탁소</td>\n",
       "      <td>기타 의원</td>\n",
       "      <td>태권도/무술학원</td>\n",
       "      <td>변호사</td>\n",
       "      <td>백반/한정식</td>\n",
       "      <td>그 외 기타 종합 소매업</td>\n",
       "      <td>...</td>\n",
       "      <td>부동산 중개/대리업</td>\n",
       "      <td>요가/필라테스 학원</td>\n",
       "      <td>백반/한정식</td>\n",
       "      <td>피부 관리실</td>\n",
       "      <td>미용실</td>\n",
       "      <td>입시·교과학원</td>\n",
       "      <td>화장품 소매업</td>\n",
       "      <td>공인회계사</td>\n",
       "      <td>가방 소매업</td>\n",
       "      <td>미용실</td>\n",
       "    </tr>\n",
       "    <tr>\n",
       "      <th>표준산업분류코드</th>\n",
       "      <td>I56194</td>\n",
       "      <td>M73201</td>\n",
       "      <td>S96112</td>\n",
       "      <td>P85501</td>\n",
       "      <td>S96912</td>\n",
       "      <td>Q86201</td>\n",
       "      <td>P85611</td>\n",
       "      <td>M71101</td>\n",
       "      <td>I56111</td>\n",
       "      <td>G47190</td>\n",
       "      <td>...</td>\n",
       "      <td>L68221</td>\n",
       "      <td>P85612</td>\n",
       "      <td>I56111</td>\n",
       "      <td>S96113</td>\n",
       "      <td>S96112</td>\n",
       "      <td>P85501</td>\n",
       "      <td>G47813</td>\n",
       "      <td>M71201</td>\n",
       "      <td>G47440</td>\n",
       "      <td>S96112</td>\n",
       "    </tr>\n",
       "    <tr>\n",
       "      <th>표준산업분류명</th>\n",
       "      <td>김밥 및 기타 간이 음식점업</td>\n",
       "      <td>인테리어 디자인업</td>\n",
       "      <td>두발 미용업</td>\n",
       "      <td>일반 교과학원</td>\n",
       "      <td>가정용 세탁업</td>\n",
       "      <td>일반의원</td>\n",
       "      <td>태권도 및 무술 교육기관</td>\n",
       "      <td>변호사업</td>\n",
       "      <td>한식 일반 음식점업</td>\n",
       "      <td>그 외 기타 종합 소매업</td>\n",
       "      <td>...</td>\n",
       "      <td>부동산 중개 및 대리업</td>\n",
       "      <td>기타 스포츠 교육기관</td>\n",
       "      <td>한식 일반 음식점업</td>\n",
       "      <td>피부 미용업</td>\n",
       "      <td>두발 미용업</td>\n",
       "      <td>일반 교과학원</td>\n",
       "      <td>화장품; 비누 및 방향제 소매업</td>\n",
       "      <td>공인회계사업</td>\n",
       "      <td>가방 및 기타 가죽제품 소매업</td>\n",
       "      <td>두발 미용업</td>\n",
       "    </tr>\n",
       "    <tr>\n",
       "      <th>시도코드</th>\n",
       "      <td>36</td>\n",
       "      <td>36</td>\n",
       "      <td>36</td>\n",
       "      <td>36</td>\n",
       "      <td>36</td>\n",
       "      <td>36</td>\n",
       "      <td>36</td>\n",
       "      <td>36</td>\n",
       "      <td>36</td>\n",
       "      <td>36</td>\n",
       "      <td>...</td>\n",
       "      <td>36</td>\n",
       "      <td>36</td>\n",
       "      <td>36</td>\n",
       "      <td>36</td>\n",
       "      <td>36</td>\n",
       "      <td>36</td>\n",
       "      <td>36</td>\n",
       "      <td>36</td>\n",
       "      <td>36</td>\n",
       "      <td>36</td>\n",
       "    </tr>\n",
       "    <tr>\n",
       "      <th>시도명</th>\n",
       "      <td>세종특별자치시</td>\n",
       "      <td>세종특별자치시</td>\n",
       "      <td>세종특별자치시</td>\n",
       "      <td>세종특별자치시</td>\n",
       "      <td>세종특별자치시</td>\n",
       "      <td>세종특별자치시</td>\n",
       "      <td>세종특별자치시</td>\n",
       "      <td>세종특별자치시</td>\n",
       "      <td>세종특별자치시</td>\n",
       "      <td>세종특별자치시</td>\n",
       "      <td>...</td>\n",
       "      <td>세종특별자치시</td>\n",
       "      <td>세종특별자치시</td>\n",
       "      <td>세종특별자치시</td>\n",
       "      <td>세종특별자치시</td>\n",
       "      <td>세종특별자치시</td>\n",
       "      <td>세종특별자치시</td>\n",
       "      <td>세종특별자치시</td>\n",
       "      <td>세종특별자치시</td>\n",
       "      <td>세종특별자치시</td>\n",
       "      <td>세종특별자치시</td>\n",
       "    </tr>\n",
       "    <tr>\n",
       "      <th>시군구코드</th>\n",
       "      <td>36110</td>\n",
       "      <td>36110</td>\n",
       "      <td>36110</td>\n",
       "      <td>36110</td>\n",
       "      <td>36110</td>\n",
       "      <td>36110</td>\n",
       "      <td>36110</td>\n",
       "      <td>36110</td>\n",
       "      <td>36110</td>\n",
       "      <td>36110</td>\n",
       "      <td>...</td>\n",
       "      <td>36110</td>\n",
       "      <td>36110</td>\n",
       "      <td>36110</td>\n",
       "      <td>36110</td>\n",
       "      <td>36110</td>\n",
       "      <td>36110</td>\n",
       "      <td>36110</td>\n",
       "      <td>36110</td>\n",
       "      <td>36110</td>\n",
       "      <td>36110</td>\n",
       "    </tr>\n",
       "    <tr>\n",
       "      <th>시군구명</th>\n",
       "      <td>세종특별자치시</td>\n",
       "      <td>세종특별자치시</td>\n",
       "      <td>세종특별자치시</td>\n",
       "      <td>세종특별자치시</td>\n",
       "      <td>세종특별자치시</td>\n",
       "      <td>세종특별자치시</td>\n",
       "      <td>세종특별자치시</td>\n",
       "      <td>세종특별자치시</td>\n",
       "      <td>세종특별자치시</td>\n",
       "      <td>세종특별자치시</td>\n",
       "      <td>...</td>\n",
       "      <td>세종특별자치시</td>\n",
       "      <td>세종특별자치시</td>\n",
       "      <td>세종특별자치시</td>\n",
       "      <td>세종특별자치시</td>\n",
       "      <td>세종특별자치시</td>\n",
       "      <td>세종특별자치시</td>\n",
       "      <td>세종특별자치시</td>\n",
       "      <td>세종특별자치시</td>\n",
       "      <td>세종특별자치시</td>\n",
       "      <td>세종특별자치시</td>\n",
       "    </tr>\n",
       "    <tr>\n",
       "      <th>행정동코드</th>\n",
       "      <td>36110518</td>\n",
       "      <td>36110360</td>\n",
       "      <td>36110518</td>\n",
       "      <td>36110560</td>\n",
       "      <td>36110540</td>\n",
       "      <td>36110250</td>\n",
       "      <td>36110560</td>\n",
       "      <td>36110518</td>\n",
       "      <td>36110250</td>\n",
       "      <td>36110515</td>\n",
       "      <td>...</td>\n",
       "      <td>36110250</td>\n",
       "      <td>36110518</td>\n",
       "      <td>36110360</td>\n",
       "      <td>36110518</td>\n",
       "      <td>36110250</td>\n",
       "      <td>36110518</td>\n",
       "      <td>36110518</td>\n",
       "      <td>36110560</td>\n",
       "      <td>36110370</td>\n",
       "      <td>36110525</td>\n",
       "    </tr>\n",
       "    <tr>\n",
       "      <th>행정동명</th>\n",
       "      <td>나성동</td>\n",
       "      <td>연서면</td>\n",
       "      <td>나성동</td>\n",
       "      <td>보람동</td>\n",
       "      <td>종촌동</td>\n",
       "      <td>조치원읍</td>\n",
       "      <td>보람동</td>\n",
       "      <td>나성동</td>\n",
       "      <td>조치원읍</td>\n",
       "      <td>새롬동</td>\n",
       "      <td>...</td>\n",
       "      <td>조치원읍</td>\n",
       "      <td>나성동</td>\n",
       "      <td>연서면</td>\n",
       "      <td>나성동</td>\n",
       "      <td>조치원읍</td>\n",
       "      <td>나성동</td>\n",
       "      <td>나성동</td>\n",
       "      <td>보람동</td>\n",
       "      <td>전의면</td>\n",
       "      <td>해밀동</td>\n",
       "    </tr>\n",
       "    <tr>\n",
       "      <th>법정동코드</th>\n",
       "      <td>3611010700</td>\n",
       "      <td>3611036033</td>\n",
       "      <td>3611010700</td>\n",
       "      <td>3611010300</td>\n",
       "      <td>3611011100</td>\n",
       "      <td>3611025027</td>\n",
       "      <td>3611010300</td>\n",
       "      <td>3611010700</td>\n",
       "      <td>3611025021</td>\n",
       "      <td>3611010800</td>\n",
       "      <td>...</td>\n",
       "      <td>3611025029</td>\n",
       "      <td>3611010700</td>\n",
       "      <td>3611036023</td>\n",
       "      <td>3611010700</td>\n",
       "      <td>3611025025</td>\n",
       "      <td>3611010700</td>\n",
       "      <td>3611010700</td>\n",
       "      <td>3611010300</td>\n",
       "      <td>3611037023</td>\n",
       "      <td>3611011600</td>\n",
       "    </tr>\n",
       "    <tr>\n",
       "      <th>법정동명</th>\n",
       "      <td>나성동</td>\n",
       "      <td>연서면</td>\n",
       "      <td>나성동</td>\n",
       "      <td>보람동</td>\n",
       "      <td>종촌동</td>\n",
       "      <td>조치원읍</td>\n",
       "      <td>보람동</td>\n",
       "      <td>나성동</td>\n",
       "      <td>조치원읍</td>\n",
       "      <td>새롬동</td>\n",
       "      <td>...</td>\n",
       "      <td>조치원읍</td>\n",
       "      <td>나성동</td>\n",
       "      <td>연서면</td>\n",
       "      <td>나성동</td>\n",
       "      <td>조치원읍</td>\n",
       "      <td>나성동</td>\n",
       "      <td>나성동</td>\n",
       "      <td>보람동</td>\n",
       "      <td>전의면</td>\n",
       "      <td>해밀동</td>\n",
       "    </tr>\n",
       "    <tr>\n",
       "      <th>지번코드</th>\n",
       "      <td>3611010700107320000</td>\n",
       "      <td>3611036033106370003</td>\n",
       "      <td>3611010700107640000</td>\n",
       "      <td>3611010300107600000</td>\n",
       "      <td>3611011100106790000</td>\n",
       "      <td>3611025027101190012</td>\n",
       "      <td>3611010300107570000</td>\n",
       "      <td>3611010700108090000</td>\n",
       "      <td>3611025021100010022</td>\n",
       "      <td>3611010800105840000</td>\n",
       "      <td>...</td>\n",
       "      <td>3611025029100010023</td>\n",
       "      <td>3611010700107880000</td>\n",
       "      <td>3611036023105860014</td>\n",
       "      <td>3611010700107500000</td>\n",
       "      <td>3611025025100340001</td>\n",
       "      <td>3611010700107460000</td>\n",
       "      <td>3611010700107950000</td>\n",
       "      <td>3611010300107220000</td>\n",
       "      <td>3611037023101020000</td>\n",
       "      <td>3611011600200080000</td>\n",
       "    </tr>\n",
       "    <tr>\n",
       "      <th>대지구분코드</th>\n",
       "      <td>1</td>\n",
       "      <td>1</td>\n",
       "      <td>1</td>\n",
       "      <td>1</td>\n",
       "      <td>1</td>\n",
       "      <td>1</td>\n",
       "      <td>1</td>\n",
       "      <td>1</td>\n",
       "      <td>1</td>\n",
       "      <td>1</td>\n",
       "      <td>...</td>\n",
       "      <td>1</td>\n",
       "      <td>1</td>\n",
       "      <td>1</td>\n",
       "      <td>1</td>\n",
       "      <td>1</td>\n",
       "      <td>1</td>\n",
       "      <td>1</td>\n",
       "      <td>1</td>\n",
       "      <td>1</td>\n",
       "      <td>2</td>\n",
       "    </tr>\n",
       "    <tr>\n",
       "      <th>대지구분명</th>\n",
       "      <td>대지</td>\n",
       "      <td>대지</td>\n",
       "      <td>대지</td>\n",
       "      <td>대지</td>\n",
       "      <td>대지</td>\n",
       "      <td>대지</td>\n",
       "      <td>대지</td>\n",
       "      <td>대지</td>\n",
       "      <td>대지</td>\n",
       "      <td>대지</td>\n",
       "      <td>...</td>\n",
       "      <td>대지</td>\n",
       "      <td>대지</td>\n",
       "      <td>대지</td>\n",
       "      <td>대지</td>\n",
       "      <td>대지</td>\n",
       "      <td>대지</td>\n",
       "      <td>대지</td>\n",
       "      <td>대지</td>\n",
       "      <td>대지</td>\n",
       "      <td>산</td>\n",
       "    </tr>\n",
       "    <tr>\n",
       "      <th>지번본번지</th>\n",
       "      <td>732</td>\n",
       "      <td>637</td>\n",
       "      <td>764</td>\n",
       "      <td>760</td>\n",
       "      <td>679</td>\n",
       "      <td>119</td>\n",
       "      <td>757</td>\n",
       "      <td>809</td>\n",
       "      <td>1</td>\n",
       "      <td>584</td>\n",
       "      <td>...</td>\n",
       "      <td>1</td>\n",
       "      <td>788</td>\n",
       "      <td>586</td>\n",
       "      <td>750</td>\n",
       "      <td>34</td>\n",
       "      <td>746</td>\n",
       "      <td>795</td>\n",
       "      <td>722</td>\n",
       "      <td>102</td>\n",
       "      <td>8</td>\n",
       "    </tr>\n",
       "    <tr>\n",
       "      <th>지번부번지</th>\n",
       "      <td>NaN</td>\n",
       "      <td>3.0</td>\n",
       "      <td>NaN</td>\n",
       "      <td>NaN</td>\n",
       "      <td>NaN</td>\n",
       "      <td>12.0</td>\n",
       "      <td>NaN</td>\n",
       "      <td>NaN</td>\n",
       "      <td>22.0</td>\n",
       "      <td>NaN</td>\n",
       "      <td>...</td>\n",
       "      <td>23.0</td>\n",
       "      <td>NaN</td>\n",
       "      <td>14.0</td>\n",
       "      <td>NaN</td>\n",
       "      <td>1.0</td>\n",
       "      <td>NaN</td>\n",
       "      <td>NaN</td>\n",
       "      <td>NaN</td>\n",
       "      <td>NaN</td>\n",
       "      <td>NaN</td>\n",
       "    </tr>\n",
       "    <tr>\n",
       "      <th>지번주소</th>\n",
       "      <td>세종특별자치시 세종특별자치시 나성동 732</td>\n",
       "      <td>세종특별자치시 세종특별자치시 연서면 봉암리 637-3</td>\n",
       "      <td>세종특별자치시 세종특별자치시 나성동 764</td>\n",
       "      <td>세종특별자치시 세종특별자치시 보람동 760</td>\n",
       "      <td>세종특별자치시 세종특별자치시 종촌동 679</td>\n",
       "      <td>세종특별자치시 세종특별자치시 조치원읍 남리 119-12</td>\n",
       "      <td>세종특별자치시 세종특별자치시 보람동 757</td>\n",
       "      <td>세종특별자치시 세종특별자치시 나성동 809</td>\n",
       "      <td>세종특별자치시 세종특별자치시 조치원읍 원리 1-22</td>\n",
       "      <td>세종특별자치시 세종특별자치시 새롬동 584</td>\n",
       "      <td>...</td>\n",
       "      <td>세종특별자치시 세종특별자치시 조치원읍 신흥리 1-23</td>\n",
       "      <td>세종특별자치시 세종특별자치시 나성동 788</td>\n",
       "      <td>세종특별자치시 세종특별자치시 연서면 성제리 586-14</td>\n",
       "      <td>세종특별자치시 세종특별자치시 나성동 750</td>\n",
       "      <td>세종특별자치시 세종특별자치시 조치원읍 정리 34-1</td>\n",
       "      <td>세종특별자치시 세종특별자치시 나성동 746</td>\n",
       "      <td>세종특별자치시 세종특별자치시 나성동 795</td>\n",
       "      <td>세종특별자치시 세종특별자치시 보람동 722</td>\n",
       "      <td>세종특별자치시 세종특별자치시 전의면 서정리 102</td>\n",
       "      <td>세종특별자치시 세종특별자치시 해밀동 산8</td>\n",
       "    </tr>\n",
       "    <tr>\n",
       "      <th>도로명코드</th>\n",
       "      <td>361102000002</td>\n",
       "      <td>361103258005</td>\n",
       "      <td>361102000002</td>\n",
       "      <td>361103350790</td>\n",
       "      <td>361103258082</td>\n",
       "      <td>361104574263</td>\n",
       "      <td>361103350790</td>\n",
       "      <td>361103351279</td>\n",
       "      <td>361104574472</td>\n",
       "      <td>361103351283</td>\n",
       "      <td>...</td>\n",
       "      <td>361104574352</td>\n",
       "      <td>361103351278</td>\n",
       "      <td>361103258027</td>\n",
       "      <td>361102000002</td>\n",
       "      <td>361104574272</td>\n",
       "      <td>361102000002</td>\n",
       "      <td>361103351277</td>\n",
       "      <td>361102000002</td>\n",
       "      <td>361104574061</td>\n",
       "      <td>361103352828</td>\n",
       "    </tr>\n",
       "    <tr>\n",
       "      <th>도로명</th>\n",
       "      <td>세종특별자치시 세종특별자치시 한누리대로</td>\n",
       "      <td>세종특별자치시 세종특별자치시 연서면 당산로</td>\n",
       "      <td>세종특별자치시 세종특별자치시 한누리대로</td>\n",
       "      <td>세종특별자치시 세종특별자치시 남세종로</td>\n",
       "      <td>세종특별자치시 세종특별자치시 도움3로</td>\n",
       "      <td>세종특별자치시 세종특별자치시 조치원읍 새내1길</td>\n",
       "      <td>세종특별자치시 세종특별자치시 남세종로</td>\n",
       "      <td>세종특별자치시 세종특별자치시 나성북로</td>\n",
       "      <td>세종특별자치시 세종특별자치시 조치원읍 조치원7길</td>\n",
       "      <td>세종특별자치시 세종특별자치시 새롬중앙로</td>\n",
       "      <td>...</td>\n",
       "      <td>세종특별자치시 세종특별자치시 조치원읍 신흥샛터길</td>\n",
       "      <td>세종특별자치시 세종특별자치시 나성북1로</td>\n",
       "      <td>세종특별자치시 세종특별자치시 연서면 월하천로</td>\n",
       "      <td>세종특별자치시 세종특별자치시 한누리대로</td>\n",
       "      <td>세종특별자치시 세종특별자치시 조치원읍 새내8길</td>\n",
       "      <td>세종특별자치시 세종특별자치시 한누리대로</td>\n",
       "      <td>세종특별자치시 세종특별자치시 나성로</td>\n",
       "      <td>세종특별자치시 세종특별자치시 한누리대로</td>\n",
       "      <td>세종특별자치시 세종특별자치시 전의면 내서길</td>\n",
       "      <td>세종특별자치시 세종특별자치시 해밀3로</td>\n",
       "    </tr>\n",
       "    <tr>\n",
       "      <th>건물본번지</th>\n",
       "      <td>311</td>\n",
       "      <td>294</td>\n",
       "      <td>288</td>\n",
       "      <td>450</td>\n",
       "      <td>159</td>\n",
       "      <td>17</td>\n",
       "      <td>462</td>\n",
       "      <td>30</td>\n",
       "      <td>12</td>\n",
       "      <td>55</td>\n",
       "      <td>...</td>\n",
       "      <td>43</td>\n",
       "      <td>12</td>\n",
       "      <td>3</td>\n",
       "      <td>227</td>\n",
       "      <td>17</td>\n",
       "      <td>249</td>\n",
       "      <td>125</td>\n",
       "      <td>2150</td>\n",
       "      <td>37</td>\n",
       "      <td>32</td>\n",
       "    </tr>\n",
       "    <tr>\n",
       "      <th>건물부번지</th>\n",
       "      <td>NaN</td>\n",
       "      <td>NaN</td>\n",
       "      <td>NaN</td>\n",
       "      <td>NaN</td>\n",
       "      <td>NaN</td>\n",
       "      <td>NaN</td>\n",
       "      <td>NaN</td>\n",
       "      <td>NaN</td>\n",
       "      <td>NaN</td>\n",
       "      <td>NaN</td>\n",
       "      <td>...</td>\n",
       "      <td>NaN</td>\n",
       "      <td>NaN</td>\n",
       "      <td>NaN</td>\n",
       "      <td>NaN</td>\n",
       "      <td>NaN</td>\n",
       "      <td>NaN</td>\n",
       "      <td>16.0</td>\n",
       "      <td>NaN</td>\n",
       "      <td>NaN</td>\n",
       "      <td>NaN</td>\n",
       "    </tr>\n",
       "    <tr>\n",
       "      <th>건물관리번호</th>\n",
       "      <td>3611010700103610086000001</td>\n",
       "      <td>3611036033106370003000001</td>\n",
       "      <td>3611010700103610069000001</td>\n",
       "      <td>3611010300106290005000003</td>\n",
       "      <td>3611011100200060000000001</td>\n",
       "      <td>3611025027101190012000001</td>\n",
       "      <td>3611010300107000076000001</td>\n",
       "      <td>3611010700103610050000001</td>\n",
       "      <td>4473025021100010022036496</td>\n",
       "      <td>3611010800200100000000001</td>\n",
       "      <td>...</td>\n",
       "      <td>4473025029100010023039769</td>\n",
       "      <td>3611010700103610079000001</td>\n",
       "      <td>4473032023105860014019442</td>\n",
       "      <td>3611010700104550001000001</td>\n",
       "      <td>4473025025100330004042223</td>\n",
       "      <td>3611010800100740004000001</td>\n",
       "      <td>3611010700103610037000001</td>\n",
       "      <td>3611010300106640010000001</td>\n",
       "      <td>4473035023101020000003387</td>\n",
       "      <td>3611011600103200005000001</td>\n",
       "    </tr>\n",
       "    <tr>\n",
       "      <th>건물명</th>\n",
       "      <td>모닝시티2</td>\n",
       "      <td>NaN</td>\n",
       "      <td>갤러리밸류시티</td>\n",
       "      <td>보람빌딩</td>\n",
       "      <td>가재마을3단지</td>\n",
       "      <td>NaN</td>\n",
       "      <td>위너스타워</td>\n",
       "      <td>퍼스트원</td>\n",
       "      <td>NaN</td>\n",
       "      <td>행운빌딩</td>\n",
       "      <td>...</td>\n",
       "      <td>NaN</td>\n",
       "      <td>메가타워2</td>\n",
       "      <td>NaN</td>\n",
       "      <td>세종마루</td>\n",
       "      <td>NaN</td>\n",
       "      <td>에스제이타워</td>\n",
       "      <td>스타타워</td>\n",
       "      <td>스마트허브Ⅰ</td>\n",
       "      <td>NaN</td>\n",
       "      <td>해밀마을1단지</td>\n",
       "    </tr>\n",
       "    <tr>\n",
       "      <th>도로명주소</th>\n",
       "      <td>세종특별자치시 세종특별자치시 한누리대로 311</td>\n",
       "      <td>세종특별자치시 세종특별자치시 연서면 당산로 294</td>\n",
       "      <td>세종특별자치시 세종특별자치시 한누리대로 288</td>\n",
       "      <td>세종특별자치시 세종특별자치시 남세종로 450</td>\n",
       "      <td>세종특별자치시 세종특별자치시 도움3로 159</td>\n",
       "      <td>세종특별자치시 세종특별자치시 조치원읍 새내1길 17</td>\n",
       "      <td>세종특별자치시 세종특별자치시 남세종로 462</td>\n",
       "      <td>세종특별자치시 세종특별자치시 나성북로 30</td>\n",
       "      <td>세종특별자치시 세종특별자치시 조치원읍 조치원7길 12</td>\n",
       "      <td>세종특별자치시 세종특별자치시 새롬중앙로 55</td>\n",
       "      <td>...</td>\n",
       "      <td>세종특별자치시 세종특별자치시 조치원읍 신흥샛터길 43</td>\n",
       "      <td>세종특별자치시 세종특별자치시 나성북1로 12</td>\n",
       "      <td>세종특별자치시 세종특별자치시 연서면 월하천로 3</td>\n",
       "      <td>세종특별자치시 세종특별자치시 한누리대로 227</td>\n",
       "      <td>세종특별자치시 세종특별자치시 조치원읍 새내8길 17</td>\n",
       "      <td>세종특별자치시 세종특별자치시 한누리대로 249</td>\n",
       "      <td>세종특별자치시 세종특별자치시 나성로 125-16</td>\n",
       "      <td>세종특별자치시 세종특별자치시 한누리대로 2150</td>\n",
       "      <td>세종특별자치시 세종특별자치시 전의면 내서길 37</td>\n",
       "      <td>세종특별자치시 세종특별자치시 해밀3로 32</td>\n",
       "    </tr>\n",
       "    <tr>\n",
       "      <th>구우편번호</th>\n",
       "      <td>339003.0</td>\n",
       "      <td>339813.0</td>\n",
       "      <td>339003.0</td>\n",
       "      <td>339008.0</td>\n",
       "      <td>339013.0</td>\n",
       "      <td>339802.0</td>\n",
       "      <td>339008.0</td>\n",
       "      <td>339003.0</td>\n",
       "      <td>339883.0</td>\n",
       "      <td>339009.0</td>\n",
       "      <td>...</td>\n",
       "      <td>339807.0</td>\n",
       "      <td>339003.0</td>\n",
       "      <td>339814.0</td>\n",
       "      <td>339003.0</td>\n",
       "      <td>339882.0</td>\n",
       "      <td>339003.0</td>\n",
       "      <td>339003.0</td>\n",
       "      <td>339008.0</td>\n",
       "      <td>339851.0</td>\n",
       "      <td>NaN</td>\n",
       "    </tr>\n",
       "    <tr>\n",
       "      <th>신우편번호</th>\n",
       "      <td>30123</td>\n",
       "      <td>30047</td>\n",
       "      <td>30128</td>\n",
       "      <td>30150</td>\n",
       "      <td>30064</td>\n",
       "      <td>30028</td>\n",
       "      <td>30150</td>\n",
       "      <td>30128</td>\n",
       "      <td>30024</td>\n",
       "      <td>30126</td>\n",
       "      <td>...</td>\n",
       "      <td>30029</td>\n",
       "      <td>30128</td>\n",
       "      <td>30043</td>\n",
       "      <td>30127</td>\n",
       "      <td>30027</td>\n",
       "      <td>30127</td>\n",
       "      <td>30128</td>\n",
       "      <td>30151</td>\n",
       "      <td>30004</td>\n",
       "      <td>30092</td>\n",
       "    </tr>\n",
       "    <tr>\n",
       "      <th>동정보</th>\n",
       "      <td>NaN</td>\n",
       "      <td>NaN</td>\n",
       "      <td>NaN</td>\n",
       "      <td>NaN</td>\n",
       "      <td>NaN</td>\n",
       "      <td>NaN</td>\n",
       "      <td>NaN</td>\n",
       "      <td>NaN</td>\n",
       "      <td>NaN</td>\n",
       "      <td>NaN</td>\n",
       "      <td>...</td>\n",
       "      <td>NaN</td>\n",
       "      <td>NaN</td>\n",
       "      <td>NaN</td>\n",
       "      <td>NaN</td>\n",
       "      <td>NaN</td>\n",
       "      <td>NaN</td>\n",
       "      <td>NaN</td>\n",
       "      <td>NaN</td>\n",
       "      <td>NaN</td>\n",
       "      <td>NaN</td>\n",
       "    </tr>\n",
       "    <tr>\n",
       "      <th>층정보</th>\n",
       "      <td>1.0</td>\n",
       "      <td>NaN</td>\n",
       "      <td>2.0</td>\n",
       "      <td>7.0</td>\n",
       "      <td>1.0</td>\n",
       "      <td>NaN</td>\n",
       "      <td>NaN</td>\n",
       "      <td>3.0</td>\n",
       "      <td>NaN</td>\n",
       "      <td>1.0</td>\n",
       "      <td>...</td>\n",
       "      <td>NaN</td>\n",
       "      <td>5.0</td>\n",
       "      <td>NaN</td>\n",
       "      <td>2.0</td>\n",
       "      <td>1.0</td>\n",
       "      <td>NaN</td>\n",
       "      <td>NaN</td>\n",
       "      <td>5.0</td>\n",
       "      <td>NaN</td>\n",
       "      <td>1.0</td>\n",
       "    </tr>\n",
       "    <tr>\n",
       "      <th>호정보</th>\n",
       "      <td>NaN</td>\n",
       "      <td>NaN</td>\n",
       "      <td>NaN</td>\n",
       "      <td>NaN</td>\n",
       "      <td>NaN</td>\n",
       "      <td>NaN</td>\n",
       "      <td>NaN</td>\n",
       "      <td>NaN</td>\n",
       "      <td>NaN</td>\n",
       "      <td>NaN</td>\n",
       "      <td>...</td>\n",
       "      <td>NaN</td>\n",
       "      <td>NaN</td>\n",
       "      <td>NaN</td>\n",
       "      <td>NaN</td>\n",
       "      <td>NaN</td>\n",
       "      <td>NaN</td>\n",
       "      <td>NaN</td>\n",
       "      <td>NaN</td>\n",
       "      <td>NaN</td>\n",
       "      <td>NaN</td>\n",
       "    </tr>\n",
       "    <tr>\n",
       "      <th>경도</th>\n",
       "      <td>127.25584</td>\n",
       "      <td>127.278712</td>\n",
       "      <td>127.2571</td>\n",
       "      <td>127.290106</td>\n",
       "      <td>127.243749</td>\n",
       "      <td>127.298363</td>\n",
       "      <td>127.288827</td>\n",
       "      <td>127.260244</td>\n",
       "      <td>127.300701</td>\n",
       "      <td>127.250343</td>\n",
       "      <td>...</td>\n",
       "      <td>127.295235</td>\n",
       "      <td>127.257625</td>\n",
       "      <td>127.26488</td>\n",
       "      <td>127.25851</td>\n",
       "      <td>127.29927</td>\n",
       "      <td>127.257457</td>\n",
       "      <td>127.257757</td>\n",
       "      <td>127.287328</td>\n",
       "      <td>127.192993</td>\n",
       "      <td>127.267243</td>\n",
       "    </tr>\n",
       "    <tr>\n",
       "      <th>위도</th>\n",
       "      <td>36.492065</td>\n",
       "      <td>36.559184</td>\n",
       "      <td>36.489928</td>\n",
       "      <td>36.477413</td>\n",
       "      <td>36.50393</td>\n",
       "      <td>36.596179</td>\n",
       "      <td>36.476855</td>\n",
       "      <td>36.489064</td>\n",
       "      <td>36.602104</td>\n",
       "      <td>36.485749</td>\n",
       "      <td>...</td>\n",
       "      <td>36.597233</td>\n",
       "      <td>36.490995</td>\n",
       "      <td>36.588912</td>\n",
       "      <td>36.484854</td>\n",
       "      <td>36.599645</td>\n",
       "      <td>36.486425</td>\n",
       "      <td>36.490094</td>\n",
       "      <td>36.478505</td>\n",
       "      <td>36.689317</td>\n",
       "      <td>36.529284</td>\n",
       "    </tr>\n",
       "  </tbody>\n",
       "</table>\n",
       "<p>39 rows × 30 columns</p>\n",
       "</div>"
      ],
      "text/plain": [
       "                                  0                              1   \\\n",
       "상가업소번호          MA0101202210A0084499           MA010120220805434190   \n",
       "상호명                         베트남쌀국수퍼짱                      더함인테리어컨설팅   \n",
       "지점명                              NaN                            NaN   \n",
       "상권업종대분류코드                         I2                             M1   \n",
       "상권업종대분류명                          음식                          과학·기술   \n",
       "상권업종중분류코드                       I205                           M112   \n",
       "상권업종중분류명                       동남아시아                         전문 디자인   \n",
       "상권업종소분류코드                     I20501                         M11201   \n",
       "상권업종소분류명                     베트남식 전문                      인테리어 디자인업   \n",
       "표준산업분류코드                      I56194                         M73201   \n",
       "표준산업분류명              김밥 및 기타 간이 음식점업                      인테리어 디자인업   \n",
       "시도코드                              36                             36   \n",
       "시도명                          세종특별자치시                        세종특별자치시   \n",
       "시군구코드                          36110                          36110   \n",
       "시군구명                         세종특별자치시                        세종특별자치시   \n",
       "행정동코드                       36110518                       36110360   \n",
       "행정동명                             나성동                            연서면   \n",
       "법정동코드                     3611010700                     3611036033   \n",
       "법정동명                             나성동                            연서면   \n",
       "지번코드             3611010700107320000            3611036033106370003   \n",
       "대지구분코드                             1                              1   \n",
       "대지구분명                             대지                             대지   \n",
       "지번본번지                            732                            637   \n",
       "지번부번지                            NaN                            3.0   \n",
       "지번주소         세종특별자치시 세종특별자치시 나성동 732  세종특별자치시 세종특별자치시 연서면 봉암리 637-3   \n",
       "도로명코드                   361102000002                   361103258005   \n",
       "도로명            세종특별자치시 세종특별자치시 한누리대로        세종특별자치시 세종특별자치시 연서면 당산로   \n",
       "건물본번지                            311                            294   \n",
       "건물부번지                            NaN                            NaN   \n",
       "건물관리번호     3611010700103610086000001      3611036033106370003000001   \n",
       "건물명                            모닝시티2                            NaN   \n",
       "도로명주소      세종특별자치시 세종특별자치시 한누리대로 311    세종특별자치시 세종특별자치시 연서면 당산로 294   \n",
       "구우편번호                       339003.0                       339813.0   \n",
       "신우편번호                          30123                          30047   \n",
       "동정보                              NaN                            NaN   \n",
       "층정보                              1.0                            NaN   \n",
       "호정보                              NaN                            NaN   \n",
       "경도                         127.25584                     127.278712   \n",
       "위도                         36.492065                      36.559184   \n",
       "\n",
       "                                  2                          3   \\\n",
       "상가업소번호          MA010120220805432469       MA010120220805435562   \n",
       "상호명                           모더니엘살롱                      카이젠교육   \n",
       "지점명                              NaN                        NaN   \n",
       "상권업종대분류코드                         S2                         P1   \n",
       "상권업종대분류명                       수리·개인                         교육   \n",
       "상권업종중분류코드                       S207                       P105   \n",
       "상권업종중분류명                       이용·미용                      일반 교육   \n",
       "상권업종소분류코드                     S20701                     P10501   \n",
       "상권업종소분류명                         미용실                    입시·교과학원   \n",
       "표준산업분류코드                      S96112                     P85501   \n",
       "표준산업분류명                       두발 미용업                    일반 교과학원   \n",
       "시도코드                              36                         36   \n",
       "시도명                          세종특별자치시                    세종특별자치시   \n",
       "시군구코드                          36110                      36110   \n",
       "시군구명                         세종특별자치시                    세종특별자치시   \n",
       "행정동코드                       36110518                   36110560   \n",
       "행정동명                             나성동                        보람동   \n",
       "법정동코드                     3611010700                 3611010300   \n",
       "법정동명                             나성동                        보람동   \n",
       "지번코드             3611010700107640000        3611010300107600000   \n",
       "대지구분코드                             1                          1   \n",
       "대지구분명                             대지                         대지   \n",
       "지번본번지                            764                        760   \n",
       "지번부번지                            NaN                        NaN   \n",
       "지번주소         세종특별자치시 세종특별자치시 나성동 764    세종특별자치시 세종특별자치시 보람동 760   \n",
       "도로명코드                   361102000002               361103350790   \n",
       "도로명            세종특별자치시 세종특별자치시 한누리대로       세종특별자치시 세종특별자치시 남세종로   \n",
       "건물본번지                            288                        450   \n",
       "건물부번지                            NaN                        NaN   \n",
       "건물관리번호     3611010700103610069000001  3611010300106290005000003   \n",
       "건물명                          갤러리밸류시티                       보람빌딩   \n",
       "도로명주소      세종특별자치시 세종특별자치시 한누리대로 288   세종특별자치시 세종특별자치시 남세종로 450   \n",
       "구우편번호                       339003.0                   339008.0   \n",
       "신우편번호                          30128                      30150   \n",
       "동정보                              NaN                        NaN   \n",
       "층정보                              2.0                        7.0   \n",
       "호정보                              NaN                        NaN   \n",
       "경도                          127.2571                 127.290106   \n",
       "위도                         36.489928                  36.477413   \n",
       "\n",
       "                                  4                               5   \\\n",
       "상가업소번호          MA010120220805437826            MA010120220805437034   \n",
       "상호명                             가재세탁                           세종마취과   \n",
       "지점명                              NaN                             NaN   \n",
       "상권업종대분류코드                         S2                              Q1   \n",
       "상권업종대분류명                       수리·개인                            보건의료   \n",
       "상권업종중분류코드                       S209                            Q102   \n",
       "상권업종중분류명                          세탁                              의원   \n",
       "상권업종소분류코드                     S20901                          Q10209   \n",
       "상권업종소분류명                         세탁소                           기타 의원   \n",
       "표준산업분류코드                      S96912                          Q86201   \n",
       "표준산업분류명                      가정용 세탁업                            일반의원   \n",
       "시도코드                              36                              36   \n",
       "시도명                          세종특별자치시                         세종특별자치시   \n",
       "시군구코드                          36110                           36110   \n",
       "시군구명                         세종특별자치시                         세종특별자치시   \n",
       "행정동코드                       36110540                        36110250   \n",
       "행정동명                             종촌동                            조치원읍   \n",
       "법정동코드                     3611011100                      3611025027   \n",
       "법정동명                             종촌동                            조치원읍   \n",
       "지번코드             3611011100106790000             3611025027101190012   \n",
       "대지구분코드                             1                               1   \n",
       "대지구분명                             대지                              대지   \n",
       "지번본번지                            679                             119   \n",
       "지번부번지                            NaN                            12.0   \n",
       "지번주소         세종특별자치시 세종특별자치시 종촌동 679  세종특별자치시 세종특별자치시 조치원읍 남리 119-12   \n",
       "도로명코드                   361103258082                    361104574263   \n",
       "도로명             세종특별자치시 세종특별자치시 도움3로       세종특별자치시 세종특별자치시 조치원읍 새내1길   \n",
       "건물본번지                            159                              17   \n",
       "건물부번지                            NaN                             NaN   \n",
       "건물관리번호     3611011100200060000000001       3611025027101190012000001   \n",
       "건물명                          가재마을3단지                             NaN   \n",
       "도로명주소       세종특별자치시 세종특별자치시 도움3로 159    세종특별자치시 세종특별자치시 조치원읍 새내1길 17   \n",
       "구우편번호                       339013.0                        339802.0   \n",
       "신우편번호                          30064                           30028   \n",
       "동정보                              NaN                             NaN   \n",
       "층정보                              1.0                             NaN   \n",
       "호정보                              NaN                             NaN   \n",
       "경도                        127.243749                      127.298363   \n",
       "위도                          36.50393                       36.596179   \n",
       "\n",
       "                                  6                          7   \\\n",
       "상가업소번호          MA010120220805436870       MA010120220805439448   \n",
       "상호명                            세종유도관                  세종종합법률사무소   \n",
       "지점명                              NaN                        NaN   \n",
       "상권업종대분류코드                         P1                         M1   \n",
       "상권업종대분류명                          교육                      과학·기술   \n",
       "상권업종중분류코드                       P106                       M103   \n",
       "상권업종중분류명                       기타 교육                      법무관련    \n",
       "상권업종소분류코드                     P10601                     M10301   \n",
       "상권업종소분류명                    태권도/무술학원                        변호사   \n",
       "표준산업분류코드                      P85611                     M71101   \n",
       "표준산업분류명                태권도 및 무술 교육기관                       변호사업   \n",
       "시도코드                              36                         36   \n",
       "시도명                          세종특별자치시                    세종특별자치시   \n",
       "시군구코드                          36110                      36110   \n",
       "시군구명                         세종특별자치시                    세종특별자치시   \n",
       "행정동코드                       36110560                   36110518   \n",
       "행정동명                             보람동                        나성동   \n",
       "법정동코드                     3611010300                 3611010700   \n",
       "법정동명                             보람동                        나성동   \n",
       "지번코드             3611010300107570000        3611010700108090000   \n",
       "대지구분코드                             1                          1   \n",
       "대지구분명                             대지                         대지   \n",
       "지번본번지                            757                        809   \n",
       "지번부번지                            NaN                        NaN   \n",
       "지번주소         세종특별자치시 세종특별자치시 보람동 757    세종특별자치시 세종특별자치시 나성동 809   \n",
       "도로명코드                   361103350790               361103351279   \n",
       "도로명             세종특별자치시 세종특별자치시 남세종로       세종특별자치시 세종특별자치시 나성북로   \n",
       "건물본번지                            462                         30   \n",
       "건물부번지                            NaN                        NaN   \n",
       "건물관리번호     3611010300107000076000001  3611010700103610050000001   \n",
       "건물명                            위너스타워                       퍼스트원   \n",
       "도로명주소       세종특별자치시 세종특별자치시 남세종로 462    세종특별자치시 세종특별자치시 나성북로 30   \n",
       "구우편번호                       339008.0                   339003.0   \n",
       "신우편번호                          30150                      30128   \n",
       "동정보                              NaN                        NaN   \n",
       "층정보                              NaN                        3.0   \n",
       "호정보                              NaN                        NaN   \n",
       "경도                        127.288827                 127.260244   \n",
       "위도                         36.476855                  36.489064   \n",
       "\n",
       "                                      8                          9   ...  \\\n",
       "상가업소번호              MA010120220805447501       MA010120220805445058  ...   \n",
       "상호명                                  로엘라                        딥핑크  ...   \n",
       "지점명                                  NaN                        NaN  ...   \n",
       "상권업종대분류코드                             I2                         G2  ...   \n",
       "상권업종대분류명                              음식                         소매  ...   \n",
       "상권업종중분류코드                           I201                       G204  ...   \n",
       "상권업종중분류명                              한식                      종합 소매  ...   \n",
       "상권업종소분류코드                         I20101                     G20499  ...   \n",
       "상권업종소분류명                          백반/한정식              그 외 기타 종합 소매업  ...   \n",
       "표준산업분류코드                          I56111                     G47190  ...   \n",
       "표준산업분류명                       한식 일반 음식점업              그 외 기타 종합 소매업  ...   \n",
       "시도코드                                  36                         36  ...   \n",
       "시도명                              세종특별자치시                    세종특별자치시  ...   \n",
       "시군구코드                              36110                      36110  ...   \n",
       "시군구명                             세종특별자치시                    세종특별자치시  ...   \n",
       "행정동코드                           36110250                   36110515  ...   \n",
       "행정동명                                조치원읍                        새롬동  ...   \n",
       "법정동코드                         3611025021                 3611010800  ...   \n",
       "법정동명                                조치원읍                        새롬동  ...   \n",
       "지번코드                 3611025021100010022        3611010800105840000  ...   \n",
       "대지구분코드                                 1                          1  ...   \n",
       "대지구분명                                 대지                         대지  ...   \n",
       "지번본번지                                  1                        584  ...   \n",
       "지번부번지                               22.0                        NaN  ...   \n",
       "지번주소        세종특별자치시 세종특별자치시 조치원읍 원리 1-22    세종특별자치시 세종특별자치시 새롬동 584  ...   \n",
       "도로명코드                       361104574472               361103351283  ...   \n",
       "도로명           세종특별자치시 세종특별자치시 조치원읍 조치원7길      세종특별자치시 세종특별자치시 새롬중앙로  ...   \n",
       "건물본번지                                 12                         55  ...   \n",
       "건물부번지                                NaN                        NaN  ...   \n",
       "건물관리번호         4473025021100010022036496  3611010800200100000000001  ...   \n",
       "건물명                                  NaN                       행운빌딩  ...   \n",
       "도로명주소      세종특별자치시 세종특별자치시 조치원읍 조치원7길 12   세종특별자치시 세종특별자치시 새롬중앙로 55  ...   \n",
       "구우편번호                           339883.0                   339009.0  ...   \n",
       "신우편번호                              30024                      30126  ...   \n",
       "동정보                                  NaN                        NaN  ...   \n",
       "층정보                                  NaN                        1.0  ...   \n",
       "호정보                                  NaN                        NaN  ...   \n",
       "경도                            127.300701                 127.250343  ...   \n",
       "위도                             36.602104                  36.485749  ...   \n",
       "\n",
       "                                      20                         21  \\\n",
       "상가업소번호              MA010120220805444812       MA010120220805443708   \n",
       "상호명                      부동산땅집go공인중개사사무소                   머슬케어필라테스   \n",
       "지점명                                  NaN                        NaN   \n",
       "상권업종대분류코드                             L1                         P1   \n",
       "상권업종대분류명                             부동산                         교육   \n",
       "상권업종중분류코드                           L102                       P106   \n",
       "상권업종중분류명                         부동산 서비스                      기타 교육   \n",
       "상권업종소분류코드                         L10203                     P10603   \n",
       "상권업종소분류명                      부동산 중개/대리업                 요가/필라테스 학원   \n",
       "표준산업분류코드                          L68221                     P85612   \n",
       "표준산업분류명                     부동산 중개 및 대리업                기타 스포츠 교육기관   \n",
       "시도코드                                  36                         36   \n",
       "시도명                              세종특별자치시                    세종특별자치시   \n",
       "시군구코드                              36110                      36110   \n",
       "시군구명                             세종특별자치시                    세종특별자치시   \n",
       "행정동코드                           36110250                   36110518   \n",
       "행정동명                                조치원읍                        나성동   \n",
       "법정동코드                         3611025029                 3611010700   \n",
       "법정동명                                조치원읍                        나성동   \n",
       "지번코드                 3611025029100010023        3611010700107880000   \n",
       "대지구분코드                                 1                          1   \n",
       "대지구분명                                 대지                         대지   \n",
       "지번본번지                                  1                        788   \n",
       "지번부번지                               23.0                        NaN   \n",
       "지번주소       세종특별자치시 세종특별자치시 조치원읍 신흥리 1-23    세종특별자치시 세종특별자치시 나성동 788   \n",
       "도로명코드                       361104574352               361103351278   \n",
       "도로명           세종특별자치시 세종특별자치시 조치원읍 신흥샛터길      세종특별자치시 세종특별자치시 나성북1로   \n",
       "건물본번지                                 43                         12   \n",
       "건물부번지                                NaN                        NaN   \n",
       "건물관리번호         4473025029100010023039769  3611010700103610079000001   \n",
       "건물명                                  NaN                      메가타워2   \n",
       "도로명주소      세종특별자치시 세종특별자치시 조치원읍 신흥샛터길 43   세종특별자치시 세종특별자치시 나성북1로 12   \n",
       "구우편번호                           339807.0                   339003.0   \n",
       "신우편번호                              30029                      30128   \n",
       "동정보                                  NaN                        NaN   \n",
       "층정보                                  NaN                        5.0   \n",
       "호정보                                  NaN                        NaN   \n",
       "경도                            127.295235                 127.257625   \n",
       "위도                             36.597233                  36.490995   \n",
       "\n",
       "                                       22                         23  \\\n",
       "상가업소번호               MA010120220805442296       MA010120220805440526   \n",
       "상호명                                 천지연가든                   아르드뽀에스테틱   \n",
       "지점명                                   NaN                        NaN   \n",
       "상권업종대분류코드                              I2                         S2   \n",
       "상권업종대분류명                               음식                      수리·개인   \n",
       "상권업종중분류코드                            I201                       S207   \n",
       "상권업종중분류명                               한식                      이용·미용   \n",
       "상권업종소분류코드                          I20101                     S20702   \n",
       "상권업종소분류명                           백반/한정식                     피부 관리실   \n",
       "표준산업분류코드                           I56111                     S96113   \n",
       "표준산업분류명                        한식 일반 음식점업                     피부 미용업   \n",
       "시도코드                                   36                         36   \n",
       "시도명                               세종특별자치시                    세종특별자치시   \n",
       "시군구코드                               36110                      36110   \n",
       "시군구명                              세종특별자치시                    세종특별자치시   \n",
       "행정동코드                            36110360                   36110518   \n",
       "행정동명                                  연서면                        나성동   \n",
       "법정동코드                          3611036023                 3611010700   \n",
       "법정동명                                  연서면                        나성동   \n",
       "지번코드                  3611036023105860014        3611010700107500000   \n",
       "대지구분코드                                  1                          1   \n",
       "대지구분명                                  대지                         대지   \n",
       "지번본번지                                 586                        750   \n",
       "지번부번지                                14.0                        NaN   \n",
       "지번주소       세종특별자치시 세종특별자치시 연서면 성제리 586-14    세종특별자치시 세종특별자치시 나성동 750   \n",
       "도로명코드                        361103258027               361102000002   \n",
       "도로명              세종특별자치시 세종특별자치시 연서면 월하천로      세종특별자치시 세종특별자치시 한누리대로   \n",
       "건물본번지                                   3                        227   \n",
       "건물부번지                                 NaN                        NaN   \n",
       "건물관리번호          4473032023105860014019442  3611010700104550001000001   \n",
       "건물명                                   NaN                       세종마루   \n",
       "도로명주소          세종특별자치시 세종특별자치시 연서면 월하천로 3  세종특별자치시 세종특별자치시 한누리대로 227   \n",
       "구우편번호                            339814.0                   339003.0   \n",
       "신우편번호                               30043                      30127   \n",
       "동정보                                   NaN                        NaN   \n",
       "층정보                                   NaN                        2.0   \n",
       "호정보                                   NaN                        NaN   \n",
       "경도                              127.26488                  127.25851   \n",
       "위도                              36.588912                  36.484854   \n",
       "\n",
       "                                     24                         25  \\\n",
       "상가업소번호             MA010120220805443477       MA010120220805457023   \n",
       "상호명                                 쿠헤어                   세종하이엔드학원   \n",
       "지점명                                 NaN                        NaN   \n",
       "상권업종대분류코드                            S2                         P1   \n",
       "상권업종대분류명                          수리·개인                         교육   \n",
       "상권업종중분류코드                          S207                       P105   \n",
       "상권업종중분류명                          이용·미용                      일반 교육   \n",
       "상권업종소분류코드                        S20701                     P10501   \n",
       "상권업종소분류명                            미용실                    입시·교과학원   \n",
       "표준산업분류코드                         S96112                     P85501   \n",
       "표준산업분류명                          두발 미용업                    일반 교과학원   \n",
       "시도코드                                 36                         36   \n",
       "시도명                             세종특별자치시                    세종특별자치시   \n",
       "시군구코드                             36110                      36110   \n",
       "시군구명                            세종특별자치시                    세종특별자치시   \n",
       "행정동코드                          36110250                   36110518   \n",
       "행정동명                               조치원읍                        나성동   \n",
       "법정동코드                        3611025025                 3611010700   \n",
       "법정동명                               조치원읍                        나성동   \n",
       "지번코드                3611025025100340001        3611010700107460000   \n",
       "대지구분코드                                1                          1   \n",
       "대지구분명                                대지                         대지   \n",
       "지번본번지                                34                        746   \n",
       "지번부번지                               1.0                        NaN   \n",
       "지번주소       세종특별자치시 세종특별자치시 조치원읍 정리 34-1    세종특별자치시 세종특별자치시 나성동 746   \n",
       "도로명코드                      361104574272               361102000002   \n",
       "도로명           세종특별자치시 세종특별자치시 조치원읍 새내8길      세종특별자치시 세종특별자치시 한누리대로   \n",
       "건물본번지                                17                        249   \n",
       "건물부번지                               NaN                        NaN   \n",
       "건물관리번호        4473025025100330004042223  3611010800100740004000001   \n",
       "건물명                                 NaN                     에스제이타워   \n",
       "도로명주소      세종특별자치시 세종특별자치시 조치원읍 새내8길 17  세종특별자치시 세종특별자치시 한누리대로 249   \n",
       "구우편번호                          339882.0                   339003.0   \n",
       "신우편번호                             30027                      30127   \n",
       "동정보                                 NaN                        NaN   \n",
       "층정보                                 1.0                        NaN   \n",
       "호정보                                 NaN                        NaN   \n",
       "경도                            127.29927                 127.257457   \n",
       "위도                            36.599645                  36.486425   \n",
       "\n",
       "                                   26                          27  \\\n",
       "상가업소번호           MA010120220805461877        MA010120220805457615   \n",
       "상호명                             캐치업세종                   인성세무회계사무소   \n",
       "지점명                               NaN                         NaN   \n",
       "상권업종대분류코드                          G2                          M1   \n",
       "상권업종대분류명                           소매                       과학·기술   \n",
       "상권업종중분류코드                        G215                        M104   \n",
       "상권업종중분류명                    의약·화장품 소매                       회계·세무   \n",
       "상권업종소분류코드                      G21503                      M10401   \n",
       "상권업종소분류명                      화장품 소매업                       공인회계사   \n",
       "표준산업분류코드                       G47813                      M71201   \n",
       "표준산업분류명             화장품; 비누 및 방향제 소매업                      공인회계사업   \n",
       "시도코드                               36                          36   \n",
       "시도명                           세종특별자치시                     세종특별자치시   \n",
       "시군구코드                           36110                       36110   \n",
       "시군구명                          세종특별자치시                     세종특별자치시   \n",
       "행정동코드                        36110518                    36110560   \n",
       "행정동명                              나성동                         보람동   \n",
       "법정동코드                      3611010700                  3611010300   \n",
       "법정동명                              나성동                         보람동   \n",
       "지번코드              3611010700107950000         3611010300107220000   \n",
       "대지구분코드                              1                           1   \n",
       "대지구분명                              대지                          대지   \n",
       "지번본번지                             795                         722   \n",
       "지번부번지                             NaN                         NaN   \n",
       "지번주소          세종특별자치시 세종특별자치시 나성동 795     세종특별자치시 세종특별자치시 보람동 722   \n",
       "도로명코드                    361103351277                361102000002   \n",
       "도로명               세종특별자치시 세종특별자치시 나성로       세종특별자치시 세종특별자치시 한누리대로   \n",
       "건물본번지                             125                        2150   \n",
       "건물부번지                            16.0                         NaN   \n",
       "건물관리번호      3611010700103610037000001   3611010300106640010000001   \n",
       "건물명                              스타타워                      스마트허브Ⅰ   \n",
       "도로명주소      세종특별자치시 세종특별자치시 나성로 125-16  세종특별자치시 세종특별자치시 한누리대로 2150   \n",
       "구우편번호                        339003.0                    339008.0   \n",
       "신우편번호                           30128                       30151   \n",
       "동정보                               NaN                         NaN   \n",
       "층정보                               NaN                         5.0   \n",
       "호정보                               NaN                         NaN   \n",
       "경도                         127.257757                  127.287328   \n",
       "위도                          36.490094                   36.478505   \n",
       "\n",
       "                                    28                         29  \n",
       "상가업소번호            MA010120220805459636       MA010120220805452812  \n",
       "상호명                               모던제이                   엘리시아헤어살롱  \n",
       "지점명                                NaN                        NaN  \n",
       "상권업종대분류코드                           G2                         S2  \n",
       "상권업종대분류명                            소매                      수리·개인  \n",
       "상권업종중분류코드                         G209                       S207  \n",
       "상권업종중분류명                   섬유·의복·신발 소매                      이용·미용  \n",
       "상권업종소분류코드                       G20911                     S20701  \n",
       "상권업종소분류명                        가방 소매업                        미용실  \n",
       "표준산업분류코드                        G47440                     S96112  \n",
       "표준산업분류명               가방 및 기타 가죽제품 소매업                     두발 미용업  \n",
       "시도코드                                36                         36  \n",
       "시도명                            세종특별자치시                    세종특별자치시  \n",
       "시군구코드                            36110                      36110  \n",
       "시군구명                           세종특별자치시                    세종특별자치시  \n",
       "행정동코드                         36110370                   36110525  \n",
       "행정동명                               전의면                        해밀동  \n",
       "법정동코드                       3611037023                 3611011600  \n",
       "법정동명                               전의면                        해밀동  \n",
       "지번코드               3611037023101020000        3611011600200080000  \n",
       "대지구분코드                               1                          2  \n",
       "대지구분명                               대지                          산  \n",
       "지번본번지                              102                          8  \n",
       "지번부번지                              NaN                        NaN  \n",
       "지번주소       세종특별자치시 세종특별자치시 전의면 서정리 102     세종특별자치시 세종특별자치시 해밀동 산8  \n",
       "도로명코드                     361104574061               361103352828  \n",
       "도로명            세종특별자치시 세종특별자치시 전의면 내서길       세종특별자치시 세종특별자치시 해밀3로  \n",
       "건물본번지                               37                         32  \n",
       "건물부번지                              NaN                        NaN  \n",
       "건물관리번호       4473035023101020000003387  3611011600103200005000001  \n",
       "건물명                                NaN                    해밀마을1단지  \n",
       "도로명주소       세종특별자치시 세종특별자치시 전의면 내서길 37    세종특별자치시 세종특별자치시 해밀3로 32  \n",
       "구우편번호                         339851.0                        NaN  \n",
       "신우편번호                            30004                      30092  \n",
       "동정보                                NaN                        NaN  \n",
       "층정보                                NaN                        1.0  \n",
       "호정보                                NaN                        NaN  \n",
       "경도                          127.192993                 127.267243  \n",
       "위도                           36.689317                  36.529284  \n",
       "\n",
       "[39 rows x 30 columns]"
      ]
     },
     "execution_count": 67,
     "metadata": {},
     "output_type": "execute_result"
    }
   ],
   "source": [
    "df.T  # 전치행렬"
   ]
  },
  {
   "cell_type": "code",
   "execution_count": 69,
   "id": "b6347cf0",
   "metadata": {
    "ExecuteTime": {
     "end_time": "2024-11-25T05:57:40.007267Z",
     "start_time": "2024-11-25T05:57:39.975085Z"
    }
   },
   "outputs": [
    {
     "data": {
      "text/html": [
       "<div>\n",
       "<style scoped>\n",
       "    .dataframe tbody tr th:only-of-type {\n",
       "        vertical-align: middle;\n",
       "    }\n",
       "\n",
       "    .dataframe tbody tr th {\n",
       "        vertical-align: top;\n",
       "    }\n",
       "\n",
       "    .dataframe thead th {\n",
       "        text-align: right;\n",
       "    }\n",
       "</style>\n",
       "<table border=\"1\" class=\"dataframe\">\n",
       "  <thead>\n",
       "    <tr style=\"text-align: right;\">\n",
       "      <th></th>\n",
       "      <th>상가업소번호</th>\n",
       "      <th>상호명</th>\n",
       "      <th>지점명</th>\n",
       "      <th>상권업종대분류코드</th>\n",
       "      <th>상권업종대분류명</th>\n",
       "      <th>상권업종중분류코드</th>\n",
       "      <th>상권업종중분류명</th>\n",
       "      <th>상권업종소분류코드</th>\n",
       "      <th>상권업종소분류명</th>\n",
       "      <th>표준산업분류코드</th>\n",
       "      <th>표준산업분류명</th>\n",
       "      <th>시도코드</th>\n",
       "      <th>시도명</th>\n",
       "      <th>시군구코드</th>\n",
       "      <th>시군구명</th>\n",
       "      <th>행정동코드</th>\n",
       "      <th>행정동명</th>\n",
       "      <th>법정동코드</th>\n",
       "      <th>법정동명</th>\n",
       "      <th>지번코드</th>\n",
       "      <th>대지구분코드</th>\n",
       "      <th>대지구분명</th>\n",
       "      <th>지번본번지</th>\n",
       "      <th>지번부번지</th>\n",
       "      <th>지번주소</th>\n",
       "      <th>도로명코드</th>\n",
       "      <th>도로명</th>\n",
       "      <th>건물본번지</th>\n",
       "      <th>건물부번지</th>\n",
       "      <th>건물관리번호</th>\n",
       "      <th>건물명</th>\n",
       "      <th>도로명주소</th>\n",
       "      <th>구우편번호</th>\n",
       "      <th>신우편번호</th>\n",
       "      <th>동정보</th>\n",
       "      <th>층정보</th>\n",
       "      <th>호정보</th>\n",
       "      <th>경도</th>\n",
       "      <th>위도</th>\n",
       "    </tr>\n",
       "  </thead>\n",
       "  <tbody>\n",
       "    <tr>\n",
       "      <th>0</th>\n",
       "      <td>MA0101202210A0084499</td>\n",
       "      <td>베트남쌀국수퍼짱</td>\n",
       "      <td>NaN</td>\n",
       "      <td>I2</td>\n",
       "      <td>음식</td>\n",
       "      <td>I205</td>\n",
       "      <td>동남아시아</td>\n",
       "      <td>I20501</td>\n",
       "      <td>베트남식 전문</td>\n",
       "      <td>I56194</td>\n",
       "      <td>김밥 및 기타 간이 음식점업</td>\n",
       "      <td>36</td>\n",
       "      <td>세종특별자치시</td>\n",
       "      <td>36110</td>\n",
       "      <td>세종특별자치시</td>\n",
       "      <td>36110518</td>\n",
       "      <td>나성동</td>\n",
       "      <td>3611010700</td>\n",
       "      <td>나성동</td>\n",
       "      <td>3611010700107320000</td>\n",
       "      <td>1</td>\n",
       "      <td>대지</td>\n",
       "      <td>732</td>\n",
       "      <td>NaN</td>\n",
       "      <td>세종특별자치시 세종특별자치시 나성동 732</td>\n",
       "      <td>361102000002</td>\n",
       "      <td>세종특별자치시 세종특별자치시 한누리대로</td>\n",
       "      <td>311</td>\n",
       "      <td>NaN</td>\n",
       "      <td>3611010700103610086000001</td>\n",
       "      <td>모닝시티2</td>\n",
       "      <td>세종특별자치시 세종특별자치시 한누리대로 311</td>\n",
       "      <td>339003.0</td>\n",
       "      <td>30123</td>\n",
       "      <td>NaN</td>\n",
       "      <td>1.0</td>\n",
       "      <td>NaN</td>\n",
       "      <td>127.25584</td>\n",
       "      <td>36.492065</td>\n",
       "    </tr>\n",
       "  </tbody>\n",
       "</table>\n",
       "</div>"
      ],
      "text/plain": [
       "                 상가업소번호       상호명  지점명 상권업종대분류코드 상권업종대분류명 상권업종중분류코드 상권업종중분류명  \\\n",
       "0  MA0101202210A0084499  베트남쌀국수퍼짱  NaN        I2       음식      I205    동남아시아   \n",
       "\n",
       "  상권업종소분류코드 상권업종소분류명 표준산업분류코드          표준산업분류명  시도코드      시도명  시군구코드     시군구명  \\\n",
       "0    I20501  베트남식 전문   I56194  김밥 및 기타 간이 음식점업    36  세종특별자치시  36110  세종특별자치시   \n",
       "\n",
       "      행정동코드 행정동명       법정동코드 법정동명                 지번코드  대지구분코드 대지구분명  지번본번지  \\\n",
       "0  36110518  나성동  3611010700  나성동  3611010700107320000       1    대지    732   \n",
       "\n",
       "   지번부번지                     지번주소         도로명코드                    도로명  건물본번지  \\\n",
       "0    NaN  세종특별자치시 세종특별자치시 나성동 732  361102000002  세종특별자치시 세종특별자치시 한누리대로    311   \n",
       "\n",
       "   건물부번지                     건물관리번호    건물명                      도로명주소  \\\n",
       "0    NaN  3611010700103610086000001  모닝시티2  세종특별자치시 세종특별자치시 한누리대로 311   \n",
       "\n",
       "      구우편번호  신우편번호  동정보  층정보  호정보         경도         위도  \n",
       "0  339003.0  30123  NaN  1.0  NaN  127.25584  36.492065  "
      ]
     },
     "execution_count": 69,
     "metadata": {},
     "output_type": "execute_result"
    }
   ],
   "source": [
    "# 판다스 디스플레이 옵션 사용\n",
    "pd.options.display.max_columns = 39  # 39열까지 display 가능\n",
    "pd.options.display.max_rows = 40     # 40행까지 display 가능\n",
    "df.head(1)"
   ]
  },
  {
   "cell_type": "code",
   "execution_count": 70,
   "id": "51410c3b",
   "metadata": {
    "ExecuteTime": {
     "end_time": "2024-11-25T05:58:17.059667Z",
     "start_time": "2024-11-25T05:58:17.046590Z"
    }
   },
   "outputs": [
    {
     "data": {
      "text/html": [
       "<div>\n",
       "<style scoped>\n",
       "    .dataframe tbody tr th:only-of-type {\n",
       "        vertical-align: middle;\n",
       "    }\n",
       "\n",
       "    .dataframe tbody tr th {\n",
       "        vertical-align: top;\n",
       "    }\n",
       "\n",
       "    .dataframe thead th {\n",
       "        text-align: right;\n",
       "    }\n",
       "</style>\n",
       "<table border=\"1\" class=\"dataframe\">\n",
       "  <thead>\n",
       "    <tr style=\"text-align: right;\">\n",
       "      <th></th>\n",
       "      <th>0</th>\n",
       "    </tr>\n",
       "  </thead>\n",
       "  <tbody>\n",
       "    <tr>\n",
       "      <th>상가업소번호</th>\n",
       "      <td>MA0101202210A0084499</td>\n",
       "    </tr>\n",
       "    <tr>\n",
       "      <th>상호명</th>\n",
       "      <td>베트남쌀국수퍼짱</td>\n",
       "    </tr>\n",
       "    <tr>\n",
       "      <th>지점명</th>\n",
       "      <td>NaN</td>\n",
       "    </tr>\n",
       "    <tr>\n",
       "      <th>상권업종대분류코드</th>\n",
       "      <td>I2</td>\n",
       "    </tr>\n",
       "    <tr>\n",
       "      <th>상권업종대분류명</th>\n",
       "      <td>음식</td>\n",
       "    </tr>\n",
       "    <tr>\n",
       "      <th>상권업종중분류코드</th>\n",
       "      <td>I205</td>\n",
       "    </tr>\n",
       "    <tr>\n",
       "      <th>상권업종중분류명</th>\n",
       "      <td>동남아시아</td>\n",
       "    </tr>\n",
       "    <tr>\n",
       "      <th>상권업종소분류코드</th>\n",
       "      <td>I20501</td>\n",
       "    </tr>\n",
       "    <tr>\n",
       "      <th>상권업종소분류명</th>\n",
       "      <td>베트남식 전문</td>\n",
       "    </tr>\n",
       "    <tr>\n",
       "      <th>표준산업분류코드</th>\n",
       "      <td>I56194</td>\n",
       "    </tr>\n",
       "    <tr>\n",
       "      <th>표준산업분류명</th>\n",
       "      <td>김밥 및 기타 간이 음식점업</td>\n",
       "    </tr>\n",
       "    <tr>\n",
       "      <th>시도코드</th>\n",
       "      <td>36</td>\n",
       "    </tr>\n",
       "    <tr>\n",
       "      <th>시도명</th>\n",
       "      <td>세종특별자치시</td>\n",
       "    </tr>\n",
       "    <tr>\n",
       "      <th>시군구코드</th>\n",
       "      <td>36110</td>\n",
       "    </tr>\n",
       "    <tr>\n",
       "      <th>시군구명</th>\n",
       "      <td>세종특별자치시</td>\n",
       "    </tr>\n",
       "    <tr>\n",
       "      <th>행정동코드</th>\n",
       "      <td>36110518</td>\n",
       "    </tr>\n",
       "    <tr>\n",
       "      <th>행정동명</th>\n",
       "      <td>나성동</td>\n",
       "    </tr>\n",
       "    <tr>\n",
       "      <th>법정동코드</th>\n",
       "      <td>3611010700</td>\n",
       "    </tr>\n",
       "    <tr>\n",
       "      <th>법정동명</th>\n",
       "      <td>나성동</td>\n",
       "    </tr>\n",
       "    <tr>\n",
       "      <th>지번코드</th>\n",
       "      <td>3611010700107320000</td>\n",
       "    </tr>\n",
       "    <tr>\n",
       "      <th>대지구분코드</th>\n",
       "      <td>1</td>\n",
       "    </tr>\n",
       "    <tr>\n",
       "      <th>대지구분명</th>\n",
       "      <td>대지</td>\n",
       "    </tr>\n",
       "    <tr>\n",
       "      <th>지번본번지</th>\n",
       "      <td>732</td>\n",
       "    </tr>\n",
       "    <tr>\n",
       "      <th>지번부번지</th>\n",
       "      <td>NaN</td>\n",
       "    </tr>\n",
       "    <tr>\n",
       "      <th>지번주소</th>\n",
       "      <td>세종특별자치시 세종특별자치시 나성동 732</td>\n",
       "    </tr>\n",
       "    <tr>\n",
       "      <th>도로명코드</th>\n",
       "      <td>361102000002</td>\n",
       "    </tr>\n",
       "    <tr>\n",
       "      <th>도로명</th>\n",
       "      <td>세종특별자치시 세종특별자치시 한누리대로</td>\n",
       "    </tr>\n",
       "    <tr>\n",
       "      <th>건물본번지</th>\n",
       "      <td>311</td>\n",
       "    </tr>\n",
       "    <tr>\n",
       "      <th>건물부번지</th>\n",
       "      <td>NaN</td>\n",
       "    </tr>\n",
       "    <tr>\n",
       "      <th>건물관리번호</th>\n",
       "      <td>3611010700103610086000001</td>\n",
       "    </tr>\n",
       "    <tr>\n",
       "      <th>건물명</th>\n",
       "      <td>모닝시티2</td>\n",
       "    </tr>\n",
       "    <tr>\n",
       "      <th>도로명주소</th>\n",
       "      <td>세종특별자치시 세종특별자치시 한누리대로 311</td>\n",
       "    </tr>\n",
       "    <tr>\n",
       "      <th>구우편번호</th>\n",
       "      <td>339003.0</td>\n",
       "    </tr>\n",
       "    <tr>\n",
       "      <th>신우편번호</th>\n",
       "      <td>30123</td>\n",
       "    </tr>\n",
       "    <tr>\n",
       "      <th>동정보</th>\n",
       "      <td>NaN</td>\n",
       "    </tr>\n",
       "    <tr>\n",
       "      <th>층정보</th>\n",
       "      <td>1.0</td>\n",
       "    </tr>\n",
       "    <tr>\n",
       "      <th>호정보</th>\n",
       "      <td>NaN</td>\n",
       "    </tr>\n",
       "    <tr>\n",
       "      <th>경도</th>\n",
       "      <td>127.25584</td>\n",
       "    </tr>\n",
       "    <tr>\n",
       "      <th>위도</th>\n",
       "      <td>36.492065</td>\n",
       "    </tr>\n",
       "  </tbody>\n",
       "</table>\n",
       "</div>"
      ],
      "text/plain": [
       "                                   0\n",
       "상가업소번호          MA0101202210A0084499\n",
       "상호명                         베트남쌀국수퍼짱\n",
       "지점명                              NaN\n",
       "상권업종대분류코드                         I2\n",
       "상권업종대분류명                          음식\n",
       "상권업종중분류코드                       I205\n",
       "상권업종중분류명                       동남아시아\n",
       "상권업종소분류코드                     I20501\n",
       "상권업종소분류명                     베트남식 전문\n",
       "표준산업분류코드                      I56194\n",
       "표준산업분류명              김밥 및 기타 간이 음식점업\n",
       "시도코드                              36\n",
       "시도명                          세종특별자치시\n",
       "시군구코드                          36110\n",
       "시군구명                         세종특별자치시\n",
       "행정동코드                       36110518\n",
       "행정동명                             나성동\n",
       "법정동코드                     3611010700\n",
       "법정동명                             나성동\n",
       "지번코드             3611010700107320000\n",
       "대지구분코드                             1\n",
       "대지구분명                             대지\n",
       "지번본번지                            732\n",
       "지번부번지                            NaN\n",
       "지번주소         세종특별자치시 세종특별자치시 나성동 732\n",
       "도로명코드                   361102000002\n",
       "도로명            세종특별자치시 세종특별자치시 한누리대로\n",
       "건물본번지                            311\n",
       "건물부번지                            NaN\n",
       "건물관리번호     3611010700103610086000001\n",
       "건물명                            모닝시티2\n",
       "도로명주소      세종특별자치시 세종특별자치시 한누리대로 311\n",
       "구우편번호                       339003.0\n",
       "신우편번호                          30123\n",
       "동정보                              NaN\n",
       "층정보                              1.0\n",
       "호정보                              NaN\n",
       "경도                         127.25584\n",
       "위도                         36.492065"
      ]
     },
     "execution_count": 70,
     "metadata": {},
     "output_type": "execute_result"
    }
   ],
   "source": [
    "df.head(1).T"
   ]
  },
  {
   "cell_type": "markdown",
   "id": "ce971729",
   "metadata": {},
   "source": [
    "## 2.3 read_csv"
   ]
  },
  {
   "cell_type": "code",
   "execution_count": 72,
   "id": "5ef688f2",
   "metadata": {
    "ExecuteTime": {
     "end_time": "2024-11-25T06:26:46.726868Z",
     "start_time": "2024-11-25T06:26:46.712411Z"
    }
   },
   "outputs": [
    {
     "data": {
      "text/html": [
       "<div>\n",
       "<style scoped>\n",
       "    .dataframe tbody tr th:only-of-type {\n",
       "        vertical-align: middle;\n",
       "    }\n",
       "\n",
       "    .dataframe tbody tr th {\n",
       "        vertical-align: top;\n",
       "    }\n",
       "\n",
       "    .dataframe thead th {\n",
       "        text-align: right;\n",
       "    }\n",
       "</style>\n",
       "<table border=\"1\" class=\"dataframe\">\n",
       "  <thead>\n",
       "    <tr style=\"text-align: right;\">\n",
       "      <th></th>\n",
       "      <th>Name</th>\n",
       "      <th>Age</th>\n",
       "      <th>Email</th>\n",
       "      <th>Address</th>\n",
       "      <th>Birth</th>\n",
       "    </tr>\n",
       "  </thead>\n",
       "  <tbody>\n",
       "    <tr>\n",
       "      <th>0</th>\n",
       "      <td>홍길동</td>\n",
       "      <td>20</td>\n",
       "      <td>hong@hong.com</td>\n",
       "      <td>서울시 강동구</td>\n",
       "      <td>1999-01-01</td>\n",
       "    </tr>\n",
       "    <tr>\n",
       "      <th>1</th>\n",
       "      <td>홍길서</td>\n",
       "      <td>30</td>\n",
       "      <td>seo@hong.com</td>\n",
       "      <td>서울시 중구</td>\n",
       "      <td>1999-12-01</td>\n",
       "    </tr>\n",
       "    <tr>\n",
       "      <th>2</th>\n",
       "      <td>홍길남</td>\n",
       "      <td>21</td>\n",
       "      <td>nam@hong.com</td>\n",
       "      <td>서울시 강동구</td>\n",
       "      <td>1999-11-01</td>\n",
       "    </tr>\n",
       "    <tr>\n",
       "      <th>3</th>\n",
       "      <td>홍길북</td>\n",
       "      <td>22</td>\n",
       "      <td>buk@hong.com</td>\n",
       "      <td>서울시 관악구</td>\n",
       "      <td>1999-05-01</td>\n",
       "    </tr>\n",
       "    <tr>\n",
       "      <th>4</th>\n",
       "      <td>홍길중</td>\n",
       "      <td>23</td>\n",
       "      <td>mid@hong.com</td>\n",
       "      <td>부산시 중구</td>\n",
       "      <td>1999-01-30</td>\n",
       "    </tr>\n",
       "    <tr>\n",
       "      <th>5</th>\n",
       "      <td>#홍길뜽</td>\n",
       "      <td>24</td>\n",
       "      <td>non@not.com</td>\n",
       "      <td>없는구</td>\n",
       "      <td>2000-01-01</td>\n",
       "    </tr>\n",
       "  </tbody>\n",
       "</table>\n",
       "</div>"
      ],
      "text/plain": [
       "   Name  Age          Email  Address       Birth\n",
       "0   홍길동   20  hong@hong.com  서울시 강동구  1999-01-01\n",
       "1   홍길서   30   seo@hong.com   서울시 중구  1999-12-01\n",
       "2   홍길남   21   nam@hong.com  서울시 강동구  1999-11-01\n",
       "3   홍길북   22   buk@hong.com  서울시 관악구  1999-05-01\n",
       "4   홍길중   23   mid@hong.com   부산시 중구  1999-01-30\n",
       "5  #홍길뜽   24    non@not.com      없는구  2000-01-01"
      ]
     },
     "execution_count": 72,
     "metadata": {},
     "output_type": "execute_result"
    }
   ],
   "source": [
    "# (1) CSV 파일 불러오기(기본값)\n",
    "member = pd.read_csv('data/ch12_member.csv', \n",
    "                     # encoding='utf-8', sep=',',  # 기본값 생략 가능\n",
    "                    )\n",
    "member"
   ]
  },
  {
   "cell_type": "code",
   "execution_count": 73,
   "id": "c43dbc71",
   "metadata": {
    "ExecuteTime": {
     "end_time": "2024-11-25T06:27:29.347017Z",
     "start_time": "2024-11-25T06:27:29.336018Z"
    }
   },
   "outputs": [
    {
     "name": "stdout",
     "output_type": "stream",
     "text": [
      "<class 'pandas.core.frame.DataFrame'>\n",
      "RangeIndex: 6 entries, 0 to 5\n",
      "Data columns (total 5 columns):\n",
      " #   Column   Non-Null Count  Dtype \n",
      "---  ------   --------------  ----- \n",
      " 0   Name     6 non-null      object\n",
      " 1   Age      6 non-null      int64 \n",
      " 2   Email    6 non-null      object\n",
      " 3   Address  6 non-null      object\n",
      " 4   Birth    6 non-null      object\n",
      "dtypes: int64(1), object(4)\n",
      "memory usage: 368.0+ bytes\n"
     ]
    }
   ],
   "source": [
    "member.info()"
   ]
  },
  {
   "cell_type": "code",
   "execution_count": 75,
   "id": "63d352a6",
   "metadata": {
    "ExecuteTime": {
     "end_time": "2024-11-25T06:29:51.980066Z",
     "start_time": "2024-11-25T06:29:51.967072Z"
    }
   },
   "outputs": [
    {
     "name": "stdout",
     "output_type": "stream",
     "text": [
      "<class 'pandas.core.frame.DataFrame'>\n",
      "RangeIndex: 6 entries, 0 to 5\n",
      "Data columns (total 5 columns):\n",
      " #   Column   Non-Null Count  Dtype         \n",
      "---  ------   --------------  -----         \n",
      " 0   Name     6 non-null      object        \n",
      " 1   Age      6 non-null      int64         \n",
      " 2   Email    6 non-null      object        \n",
      " 3   Address  6 non-null      object        \n",
      " 4   Birth    6 non-null      datetime64[ns]\n",
      "dtypes: datetime64[ns](1), int64(1), object(3)\n",
      "memory usage: 368.0+ bytes\n"
     ]
    }
   ],
   "source": [
    "# 문자로 읽어들인 Birth를 datetime형으로 바꾸기\n",
    "# 형변환은 astype()을 쓰지만 datetime형으로 변환할 때는 to_datetime()함수를 사용\n",
    "member['Birth'] = pd.to_datetime(member['Birth'])\n",
    "member.info()"
   ]
  },
  {
   "cell_type": "code",
   "execution_count": 78,
   "id": "593a8653",
   "metadata": {
    "ExecuteTime": {
     "end_time": "2024-11-25T06:31:27.349785Z",
     "start_time": "2024-11-25T06:31:27.340788Z"
    }
   },
   "outputs": [
    {
     "data": {
      "text/plain": [
       "Name               object\n",
       "Age                 int16\n",
       "Email              object\n",
       "Address            object\n",
       "Birth      datetime64[ns]\n",
       "dtype: object"
      ]
     },
     "execution_count": 78,
     "metadata": {},
     "output_type": "execute_result"
    }
   ],
   "source": [
    "import numpy as np\n",
    "member['Age'] = member['Age'].astype(np.int16)\n",
    "member.dtypes"
   ]
  },
  {
   "cell_type": "code",
   "execution_count": 80,
   "id": "9371df56",
   "metadata": {
    "ExecuteTime": {
     "end_time": "2024-11-25T06:33:35.258247Z",
     "start_time": "2024-11-25T06:33:35.244930Z"
    }
   },
   "outputs": [
    {
     "data": {
      "text/html": [
       "<div>\n",
       "<style scoped>\n",
       "    .dataframe tbody tr th:only-of-type {\n",
       "        vertical-align: middle;\n",
       "    }\n",
       "\n",
       "    .dataframe tbody tr th {\n",
       "        vertical-align: top;\n",
       "    }\n",
       "\n",
       "    .dataframe thead th {\n",
       "        text-align: right;\n",
       "    }\n",
       "</style>\n",
       "<table border=\"1\" class=\"dataframe\">\n",
       "  <thead>\n",
       "    <tr style=\"text-align: right;\">\n",
       "      <th></th>\n",
       "      <th>Name</th>\n",
       "      <th>Age</th>\n",
       "      <th>Email</th>\n",
       "      <th>Address</th>\n",
       "      <th>Birth</th>\n",
       "    </tr>\n",
       "  </thead>\n",
       "  <tbody>\n",
       "    <tr>\n",
       "      <th>0</th>\n",
       "      <td>홍길서</td>\n",
       "      <td>30</td>\n",
       "      <td>seo@hong.com</td>\n",
       "      <td>서울시 중구</td>\n",
       "      <td>1999-12-01</td>\n",
       "    </tr>\n",
       "    <tr>\n",
       "      <th>1</th>\n",
       "      <td>홍길남</td>\n",
       "      <td>21</td>\n",
       "      <td>nam@hong.com</td>\n",
       "      <td>서울시 강동구</td>\n",
       "      <td>1999-11-01</td>\n",
       "    </tr>\n",
       "    <tr>\n",
       "      <th>2</th>\n",
       "      <td>홍길북</td>\n",
       "      <td>22</td>\n",
       "      <td>buk@hong.com</td>\n",
       "      <td>서울시 관악구</td>\n",
       "      <td>1999-05-01</td>\n",
       "    </tr>\n",
       "    <tr>\n",
       "      <th>3</th>\n",
       "      <td>홍길중</td>\n",
       "      <td>23</td>\n",
       "      <td>mid@hong.com</td>\n",
       "      <td>부산시 중구</td>\n",
       "      <td>1999-01-30</td>\n",
       "    </tr>\n",
       "  </tbody>\n",
       "</table>\n",
       "</div>"
      ],
      "text/plain": [
       "  Name  Age         Email  Address       Birth\n",
       "0  홍길서   30  seo@hong.com   서울시 중구  1999-12-01\n",
       "1  홍길남   21  nam@hong.com  서울시 강동구  1999-11-01\n",
       "2  홍길북   22  buk@hong.com  서울시 관악구  1999-05-01\n",
       "3  홍길중   23  mid@hong.com   부산시 중구  1999-01-30"
      ]
     },
     "execution_count": 80,
     "metadata": {},
     "output_type": "execute_result"
    }
   ],
   "source": [
    "# (2) 특정행을 제외하고 csv파일 읽어오기\n",
    "member = pd.read_csv('data/ch12_membercp949.csv', encoding='cp949',\n",
    "                    skiprows=[1, 6])  # 1부터 시작 : 1, 6번째 행을 제외하고 읽어오기\n",
    "member"
   ]
  },
  {
   "cell_type": "code",
   "execution_count": 83,
   "id": "168eeb01",
   "metadata": {
    "ExecuteTime": {
     "end_time": "2024-11-25T06:36:05.265396Z",
     "start_time": "2024-11-25T06:36:05.251458Z"
    }
   },
   "outputs": [
    {
     "data": {
      "text/html": [
       "<div>\n",
       "<style scoped>\n",
       "    .dataframe tbody tr th:only-of-type {\n",
       "        vertical-align: middle;\n",
       "    }\n",
       "\n",
       "    .dataframe tbody tr th {\n",
       "        vertical-align: top;\n",
       "    }\n",
       "\n",
       "    .dataframe thead th {\n",
       "        text-align: right;\n",
       "    }\n",
       "</style>\n",
       "<table border=\"1\" class=\"dataframe\">\n",
       "  <thead>\n",
       "    <tr style=\"text-align: right;\">\n",
       "      <th></th>\n",
       "      <th>Name</th>\n",
       "      <th>Age</th>\n",
       "      <th>Email</th>\n",
       "      <th>Address</th>\n",
       "      <th>Birth</th>\n",
       "    </tr>\n",
       "  </thead>\n",
       "  <tbody>\n",
       "    <tr>\n",
       "      <th>0</th>\n",
       "      <td>홍길동</td>\n",
       "      <td>20</td>\n",
       "      <td>hong@hong.com</td>\n",
       "      <td>서울시 강동구</td>\n",
       "      <td>1999-01-01</td>\n",
       "    </tr>\n",
       "    <tr>\n",
       "      <th>1</th>\n",
       "      <td>홍길서</td>\n",
       "      <td>30</td>\n",
       "      <td>seo@hong.com</td>\n",
       "      <td>서울시 중구</td>\n",
       "      <td>1999-12-01</td>\n",
       "    </tr>\n",
       "    <tr>\n",
       "      <th>2</th>\n",
       "      <td>홍길남</td>\n",
       "      <td>21</td>\n",
       "      <td>nam@hong.com</td>\n",
       "      <td>서울시 강동구</td>\n",
       "      <td>1999-11-01</td>\n",
       "    </tr>\n",
       "    <tr>\n",
       "      <th>3</th>\n",
       "      <td>홍길북</td>\n",
       "      <td>22</td>\n",
       "      <td>buk@hong.com</td>\n",
       "      <td>서울시 관악구</td>\n",
       "      <td>1999-05-01</td>\n",
       "    </tr>\n",
       "    <tr>\n",
       "      <th>4</th>\n",
       "      <td>홍길중</td>\n",
       "      <td>23</td>\n",
       "      <td>mid@hong.com</td>\n",
       "      <td>부산시 중구</td>\n",
       "      <td>1999-01-30</td>\n",
       "    </tr>\n",
       "  </tbody>\n",
       "</table>\n",
       "</div>"
      ],
      "text/plain": [
       "  Name  Age          Email  Address       Birth\n",
       "0  홍길동   20  hong@hong.com  서울시 강동구  1999-01-01\n",
       "1  홍길서   30   seo@hong.com   서울시 중구  1999-12-01\n",
       "2  홍길남   21   nam@hong.com  서울시 강동구  1999-11-01\n",
       "3  홍길북   22   buk@hong.com  서울시 관악구  1999-05-01\n",
       "4  홍길중   23   mid@hong.com   부산시 중구  1999-01-30"
      ]
     },
     "execution_count": 83,
     "metadata": {},
     "output_type": "execute_result"
    }
   ],
   "source": [
    "# (3) 상위 몇 행만 csv 파일 읽어오기\n",
    "member_df = pd.read_csv('data/ch12_membersep.csv', sep='|', nrows=5)  # 상위 5행만 읽어오기\n",
    "member_df"
   ]
  },
  {
   "cell_type": "code",
   "execution_count": 86,
   "id": "83a6235e",
   "metadata": {
    "ExecuteTime": {
     "end_time": "2024-11-25T06:39:32.536988Z",
     "start_time": "2024-11-25T06:39:32.521075Z"
    }
   },
   "outputs": [
    {
     "name": "stdout",
     "output_type": "stream",
     "text": [
      "<class 'pandas.core.frame.DataFrame'>\n",
      "RangeIndex: 5 entries, 0 to 4\n",
      "Data columns (total 5 columns):\n",
      " #   Column   Non-Null Count  Dtype         \n",
      "---  ------   --------------  -----         \n",
      " 0   Name     5 non-null      object        \n",
      " 1   Age      5 non-null      int64         \n",
      " 2   Email    5 non-null      object        \n",
      " 3   Address  5 non-null      object        \n",
      " 4   Birth    5 non-null      datetime64[ns]\n",
      "dtypes: datetime64[ns](1), int64(1), object(3)\n",
      "memory usage: 328.0+ bytes\n"
     ]
    }
   ],
   "source": [
    "# (4) 주석제외, datetime형 필드를 지정하여 읽어오기\n",
    "member_df = pd.read_csv('data/ch12_membertab.csv', sep='\\t',\n",
    "                       comment='#',  # #이 있는 데이터는 제외하고 읽어오기 (주석처리)\n",
    "                       parse_dates=['Birth'])  # datetime형으로 읽어올 필드 지정\n",
    "member_df.info()"
   ]
  },
  {
   "cell_type": "markdown",
   "id": "43b136fe",
   "metadata": {},
   "source": [
    "## iris 데이터 가져오기 방법1 : sklearn(머신러닝 패키지)\n",
    "## iris 데이터 가져오기 방법2 : statsmodels(R데이터 가져오기)\n",
    "## iris 데이터 가져오기 방법3 : seaborn(시각화 패키지)"
   ]
  },
  {
   "cell_type": "markdown",
   "id": "5ef728e8",
   "metadata": {},
   "source": [
    "## 2.4 sklearn.datasets 모듈 데이터(iris)를 데이터 프레임으로 변환"
   ]
  },
  {
   "cell_type": "code",
   "execution_count": 87,
   "id": "cfcedb9f",
   "metadata": {
    "ExecuteTime": {
     "end_time": "2024-11-25T06:52:45.049917Z",
     "start_time": "2024-11-25T06:52:44.794795Z"
    }
   },
   "outputs": [
    {
     "data": {
      "text/plain": [
       "{'data': array([[5.1, 3.5, 1.4, 0.2],\n",
       "        [4.9, 3. , 1.4, 0.2],\n",
       "        [4.7, 3.2, 1.3, 0.2],\n",
       "        [4.6, 3.1, 1.5, 0.2],\n",
       "        [5. , 3.6, 1.4, 0.2],\n",
       "        [5.4, 3.9, 1.7, 0.4],\n",
       "        [4.6, 3.4, 1.4, 0.3],\n",
       "        [5. , 3.4, 1.5, 0.2],\n",
       "        [4.4, 2.9, 1.4, 0.2],\n",
       "        [4.9, 3.1, 1.5, 0.1],\n",
       "        [5.4, 3.7, 1.5, 0.2],\n",
       "        [4.8, 3.4, 1.6, 0.2],\n",
       "        [4.8, 3. , 1.4, 0.1],\n",
       "        [4.3, 3. , 1.1, 0.1],\n",
       "        [5.8, 4. , 1.2, 0.2],\n",
       "        [5.7, 4.4, 1.5, 0.4],\n",
       "        [5.4, 3.9, 1.3, 0.4],\n",
       "        [5.1, 3.5, 1.4, 0.3],\n",
       "        [5.7, 3.8, 1.7, 0.3],\n",
       "        [5.1, 3.8, 1.5, 0.3],\n",
       "        [5.4, 3.4, 1.7, 0.2],\n",
       "        [5.1, 3.7, 1.5, 0.4],\n",
       "        [4.6, 3.6, 1. , 0.2],\n",
       "        [5.1, 3.3, 1.7, 0.5],\n",
       "        [4.8, 3.4, 1.9, 0.2],\n",
       "        [5. , 3. , 1.6, 0.2],\n",
       "        [5. , 3.4, 1.6, 0.4],\n",
       "        [5.2, 3.5, 1.5, 0.2],\n",
       "        [5.2, 3.4, 1.4, 0.2],\n",
       "        [4.7, 3.2, 1.6, 0.2],\n",
       "        [4.8, 3.1, 1.6, 0.2],\n",
       "        [5.4, 3.4, 1.5, 0.4],\n",
       "        [5.2, 4.1, 1.5, 0.1],\n",
       "        [5.5, 4.2, 1.4, 0.2],\n",
       "        [4.9, 3.1, 1.5, 0.2],\n",
       "        [5. , 3.2, 1.2, 0.2],\n",
       "        [5.5, 3.5, 1.3, 0.2],\n",
       "        [4.9, 3.6, 1.4, 0.1],\n",
       "        [4.4, 3. , 1.3, 0.2],\n",
       "        [5.1, 3.4, 1.5, 0.2],\n",
       "        [5. , 3.5, 1.3, 0.3],\n",
       "        [4.5, 2.3, 1.3, 0.3],\n",
       "        [4.4, 3.2, 1.3, 0.2],\n",
       "        [5. , 3.5, 1.6, 0.6],\n",
       "        [5.1, 3.8, 1.9, 0.4],\n",
       "        [4.8, 3. , 1.4, 0.3],\n",
       "        [5.1, 3.8, 1.6, 0.2],\n",
       "        [4.6, 3.2, 1.4, 0.2],\n",
       "        [5.3, 3.7, 1.5, 0.2],\n",
       "        [5. , 3.3, 1.4, 0.2],\n",
       "        [7. , 3.2, 4.7, 1.4],\n",
       "        [6.4, 3.2, 4.5, 1.5],\n",
       "        [6.9, 3.1, 4.9, 1.5],\n",
       "        [5.5, 2.3, 4. , 1.3],\n",
       "        [6.5, 2.8, 4.6, 1.5],\n",
       "        [5.7, 2.8, 4.5, 1.3],\n",
       "        [6.3, 3.3, 4.7, 1.6],\n",
       "        [4.9, 2.4, 3.3, 1. ],\n",
       "        [6.6, 2.9, 4.6, 1.3],\n",
       "        [5.2, 2.7, 3.9, 1.4],\n",
       "        [5. , 2. , 3.5, 1. ],\n",
       "        [5.9, 3. , 4.2, 1.5],\n",
       "        [6. , 2.2, 4. , 1. ],\n",
       "        [6.1, 2.9, 4.7, 1.4],\n",
       "        [5.6, 2.9, 3.6, 1.3],\n",
       "        [6.7, 3.1, 4.4, 1.4],\n",
       "        [5.6, 3. , 4.5, 1.5],\n",
       "        [5.8, 2.7, 4.1, 1. ],\n",
       "        [6.2, 2.2, 4.5, 1.5],\n",
       "        [5.6, 2.5, 3.9, 1.1],\n",
       "        [5.9, 3.2, 4.8, 1.8],\n",
       "        [6.1, 2.8, 4. , 1.3],\n",
       "        [6.3, 2.5, 4.9, 1.5],\n",
       "        [6.1, 2.8, 4.7, 1.2],\n",
       "        [6.4, 2.9, 4.3, 1.3],\n",
       "        [6.6, 3. , 4.4, 1.4],\n",
       "        [6.8, 2.8, 4.8, 1.4],\n",
       "        [6.7, 3. , 5. , 1.7],\n",
       "        [6. , 2.9, 4.5, 1.5],\n",
       "        [5.7, 2.6, 3.5, 1. ],\n",
       "        [5.5, 2.4, 3.8, 1.1],\n",
       "        [5.5, 2.4, 3.7, 1. ],\n",
       "        [5.8, 2.7, 3.9, 1.2],\n",
       "        [6. , 2.7, 5.1, 1.6],\n",
       "        [5.4, 3. , 4.5, 1.5],\n",
       "        [6. , 3.4, 4.5, 1.6],\n",
       "        [6.7, 3.1, 4.7, 1.5],\n",
       "        [6.3, 2.3, 4.4, 1.3],\n",
       "        [5.6, 3. , 4.1, 1.3],\n",
       "        [5.5, 2.5, 4. , 1.3],\n",
       "        [5.5, 2.6, 4.4, 1.2],\n",
       "        [6.1, 3. , 4.6, 1.4],\n",
       "        [5.8, 2.6, 4. , 1.2],\n",
       "        [5. , 2.3, 3.3, 1. ],\n",
       "        [5.6, 2.7, 4.2, 1.3],\n",
       "        [5.7, 3. , 4.2, 1.2],\n",
       "        [5.7, 2.9, 4.2, 1.3],\n",
       "        [6.2, 2.9, 4.3, 1.3],\n",
       "        [5.1, 2.5, 3. , 1.1],\n",
       "        [5.7, 2.8, 4.1, 1.3],\n",
       "        [6.3, 3.3, 6. , 2.5],\n",
       "        [5.8, 2.7, 5.1, 1.9],\n",
       "        [7.1, 3. , 5.9, 2.1],\n",
       "        [6.3, 2.9, 5.6, 1.8],\n",
       "        [6.5, 3. , 5.8, 2.2],\n",
       "        [7.6, 3. , 6.6, 2.1],\n",
       "        [4.9, 2.5, 4.5, 1.7],\n",
       "        [7.3, 2.9, 6.3, 1.8],\n",
       "        [6.7, 2.5, 5.8, 1.8],\n",
       "        [7.2, 3.6, 6.1, 2.5],\n",
       "        [6.5, 3.2, 5.1, 2. ],\n",
       "        [6.4, 2.7, 5.3, 1.9],\n",
       "        [6.8, 3. , 5.5, 2.1],\n",
       "        [5.7, 2.5, 5. , 2. ],\n",
       "        [5.8, 2.8, 5.1, 2.4],\n",
       "        [6.4, 3.2, 5.3, 2.3],\n",
       "        [6.5, 3. , 5.5, 1.8],\n",
       "        [7.7, 3.8, 6.7, 2.2],\n",
       "        [7.7, 2.6, 6.9, 2.3],\n",
       "        [6. , 2.2, 5. , 1.5],\n",
       "        [6.9, 3.2, 5.7, 2.3],\n",
       "        [5.6, 2.8, 4.9, 2. ],\n",
       "        [7.7, 2.8, 6.7, 2. ],\n",
       "        [6.3, 2.7, 4.9, 1.8],\n",
       "        [6.7, 3.3, 5.7, 2.1],\n",
       "        [7.2, 3.2, 6. , 1.8],\n",
       "        [6.2, 2.8, 4.8, 1.8],\n",
       "        [6.1, 3. , 4.9, 1.8],\n",
       "        [6.4, 2.8, 5.6, 2.1],\n",
       "        [7.2, 3. , 5.8, 1.6],\n",
       "        [7.4, 2.8, 6.1, 1.9],\n",
       "        [7.9, 3.8, 6.4, 2. ],\n",
       "        [6.4, 2.8, 5.6, 2.2],\n",
       "        [6.3, 2.8, 5.1, 1.5],\n",
       "        [6.1, 2.6, 5.6, 1.4],\n",
       "        [7.7, 3. , 6.1, 2.3],\n",
       "        [6.3, 3.4, 5.6, 2.4],\n",
       "        [6.4, 3.1, 5.5, 1.8],\n",
       "        [6. , 3. , 4.8, 1.8],\n",
       "        [6.9, 3.1, 5.4, 2.1],\n",
       "        [6.7, 3.1, 5.6, 2.4],\n",
       "        [6.9, 3.1, 5.1, 2.3],\n",
       "        [5.8, 2.7, 5.1, 1.9],\n",
       "        [6.8, 3.2, 5.9, 2.3],\n",
       "        [6.7, 3.3, 5.7, 2.5],\n",
       "        [6.7, 3. , 5.2, 2.3],\n",
       "        [6.3, 2.5, 5. , 1.9],\n",
       "        [6.5, 3. , 5.2, 2. ],\n",
       "        [6.2, 3.4, 5.4, 2.3],\n",
       "        [5.9, 3. , 5.1, 1.8]]),\n",
       " 'target': array([0, 0, 0, 0, 0, 0, 0, 0, 0, 0, 0, 0, 0, 0, 0, 0, 0, 0, 0, 0, 0, 0,\n",
       "        0, 0, 0, 0, 0, 0, 0, 0, 0, 0, 0, 0, 0, 0, 0, 0, 0, 0, 0, 0, 0, 0,\n",
       "        0, 0, 0, 0, 0, 0, 1, 1, 1, 1, 1, 1, 1, 1, 1, 1, 1, 1, 1, 1, 1, 1,\n",
       "        1, 1, 1, 1, 1, 1, 1, 1, 1, 1, 1, 1, 1, 1, 1, 1, 1, 1, 1, 1, 1, 1,\n",
       "        1, 1, 1, 1, 1, 1, 1, 1, 1, 1, 1, 1, 2, 2, 2, 2, 2, 2, 2, 2, 2, 2,\n",
       "        2, 2, 2, 2, 2, 2, 2, 2, 2, 2, 2, 2, 2, 2, 2, 2, 2, 2, 2, 2, 2, 2,\n",
       "        2, 2, 2, 2, 2, 2, 2, 2, 2, 2, 2, 2, 2, 2, 2, 2, 2, 2]),\n",
       " 'frame': None,\n",
       " 'target_names': array(['setosa', 'versicolor', 'virginica'], dtype='<U10'),\n",
       " 'DESCR': '.. _iris_dataset:\\n\\nIris plants dataset\\n--------------------\\n\\n**Data Set Characteristics:**\\n\\n    :Number of Instances: 150 (50 in each of three classes)\\n    :Number of Attributes: 4 numeric, predictive attributes and the class\\n    :Attribute Information:\\n        - sepal length in cm\\n        - sepal width in cm\\n        - petal length in cm\\n        - petal width in cm\\n        - class:\\n                - Iris-Setosa\\n                - Iris-Versicolour\\n                - Iris-Virginica\\n                \\n    :Summary Statistics:\\n\\n    ============== ==== ==== ======= ===== ====================\\n                    Min  Max   Mean    SD   Class Correlation\\n    ============== ==== ==== ======= ===== ====================\\n    sepal length:   4.3  7.9   5.84   0.83    0.7826\\n    sepal width:    2.0  4.4   3.05   0.43   -0.4194\\n    petal length:   1.0  6.9   3.76   1.76    0.9490  (high!)\\n    petal width:    0.1  2.5   1.20   0.76    0.9565  (high!)\\n    ============== ==== ==== ======= ===== ====================\\n\\n    :Missing Attribute Values: None\\n    :Class Distribution: 33.3% for each of 3 classes.\\n    :Creator: R.A. Fisher\\n    :Donor: Michael Marshall (MARSHALL%PLU@io.arc.nasa.gov)\\n    :Date: July, 1988\\n\\nThe famous Iris database, first used by Sir R.A. Fisher. The dataset is taken\\nfrom Fisher\\'s paper. Note that it\\'s the same as in R, but not as in the UCI\\nMachine Learning Repository, which has two wrong data points.\\n\\nThis is perhaps the best known database to be found in the\\npattern recognition literature.  Fisher\\'s paper is a classic in the field and\\nis referenced frequently to this day.  (See Duda & Hart, for example.)  The\\ndata set contains 3 classes of 50 instances each, where each class refers to a\\ntype of iris plant.  One class is linearly separable from the other 2; the\\nlatter are NOT linearly separable from each other.\\n\\n.. topic:: References\\n\\n   - Fisher, R.A. \"The use of multiple measurements in taxonomic problems\"\\n     Annual Eugenics, 7, Part II, 179-188 (1936); also in \"Contributions to\\n     Mathematical Statistics\" (John Wiley, NY, 1950).\\n   - Duda, R.O., & Hart, P.E. (1973) Pattern Classification and Scene Analysis.\\n     (Q327.D83) John Wiley & Sons.  ISBN 0-471-22361-1.  See page 218.\\n   - Dasarathy, B.V. (1980) \"Nosing Around the Neighborhood: A New System\\n     Structure and Classification Rule for Recognition in Partially Exposed\\n     Environments\".  IEEE Transactions on Pattern Analysis and Machine\\n     Intelligence, Vol. PAMI-2, No. 1, 67-71.\\n   - Gates, G.W. (1972) \"The Reduced Nearest Neighbor Rule\".  IEEE Transactions\\n     on Information Theory, May 1972, 431-433.\\n   - See also: 1988 MLC Proceedings, 54-64.  Cheeseman et al\"s AUTOCLASS II\\n     conceptual clustering system finds 3 classes in the data.\\n   - Many, many more ...',\n",
       " 'feature_names': ['sepal length (cm)',\n",
       "  'sepal width (cm)',\n",
       "  'petal length (cm)',\n",
       "  'petal width (cm)'],\n",
       " 'filename': 'iris.csv',\n",
       " 'data_module': 'sklearn.datasets.data'}"
      ]
     },
     "execution_count": 87,
     "metadata": {},
     "output_type": "execute_result"
    }
   ],
   "source": [
    "from sklearn import datasets\n",
    "# import sklearn.datasets as datasets\n",
    "# sklearn 패키지는 머신러닝을 공부하기 위한, 학습 데이터셋들을 제공\n",
    "# sklearn 패키지에서 제공되는 데이터셋들은 딕셔너리 형식으로 제공\n",
    "iris = datasets.load_iris()\n",
    "iris  # 딕셔너리 형태"
   ]
  },
  {
   "cell_type": "code",
   "execution_count": 89,
   "id": "71616958",
   "metadata": {
    "ExecuteTime": {
     "end_time": "2024-11-25T06:54:55.405383Z",
     "start_time": "2024-11-25T06:54:55.400383Z"
    }
   },
   "outputs": [
    {
     "name": "stdout",
     "output_type": "stream",
     "text": [
      ".. _iris_dataset:\n",
      "\n",
      "Iris plants dataset\n",
      "--------------------\n",
      "\n",
      "**Data Set Characteristics:**\n",
      "\n",
      "    :Number of Instances: 150 (50 in each of three classes)\n",
      "    :Number of Attributes: 4 numeric, predictive attributes and the class\n",
      "    :Attribute Information:\n",
      "        - sepal length in cm\n",
      "        - sepal width in cm\n",
      "        - petal length in cm\n",
      "        - petal width in cm\n",
      "        - class:\n",
      "                - Iris-Setosa\n",
      "                - Iris-Versicolour\n",
      "                - Iris-Virginica\n",
      "                \n",
      "    :Summary Statistics:\n",
      "\n",
      "    ============== ==== ==== ======= ===== ====================\n",
      "                    Min  Max   Mean    SD   Class Correlation\n",
      "    ============== ==== ==== ======= ===== ====================\n",
      "    sepal length:   4.3  7.9   5.84   0.83    0.7826\n",
      "    sepal width:    2.0  4.4   3.05   0.43   -0.4194\n",
      "    petal length:   1.0  6.9   3.76   1.76    0.9490  (high!)\n",
      "    petal width:    0.1  2.5   1.20   0.76    0.9565  (high!)\n",
      "    ============== ==== ==== ======= ===== ====================\n",
      "\n",
      "    :Missing Attribute Values: None\n",
      "    :Class Distribution: 33.3% for each of 3 classes.\n",
      "    :Creator: R.A. Fisher\n",
      "    :Donor: Michael Marshall (MARSHALL%PLU@io.arc.nasa.gov)\n",
      "    :Date: July, 1988\n",
      "\n",
      "The famous Iris database, first used by Sir R.A. Fisher. The dataset is taken\n",
      "from Fisher's paper. Note that it's the same as in R, but not as in the UCI\n",
      "Machine Learning Repository, which has two wrong data points.\n",
      "\n",
      "This is perhaps the best known database to be found in the\n",
      "pattern recognition literature.  Fisher's paper is a classic in the field and\n",
      "is referenced frequently to this day.  (See Duda & Hart, for example.)  The\n",
      "data set contains 3 classes of 50 instances each, where each class refers to a\n",
      "type of iris plant.  One class is linearly separable from the other 2; the\n",
      "latter are NOT linearly separable from each other.\n",
      "\n",
      ".. topic:: References\n",
      "\n",
      "   - Fisher, R.A. \"The use of multiple measurements in taxonomic problems\"\n",
      "     Annual Eugenics, 7, Part II, 179-188 (1936); also in \"Contributions to\n",
      "     Mathematical Statistics\" (John Wiley, NY, 1950).\n",
      "   - Duda, R.O., & Hart, P.E. (1973) Pattern Classification and Scene Analysis.\n",
      "     (Q327.D83) John Wiley & Sons.  ISBN 0-471-22361-1.  See page 218.\n",
      "   - Dasarathy, B.V. (1980) \"Nosing Around the Neighborhood: A New System\n",
      "     Structure and Classification Rule for Recognition in Partially Exposed\n",
      "     Environments\".  IEEE Transactions on Pattern Analysis and Machine\n",
      "     Intelligence, Vol. PAMI-2, No. 1, 67-71.\n",
      "   - Gates, G.W. (1972) \"The Reduced Nearest Neighbor Rule\".  IEEE Transactions\n",
      "     on Information Theory, May 1972, 431-433.\n",
      "   - See also: 1988 MLC Proceedings, 54-64.  Cheeseman et al\"s AUTOCLASS II\n",
      "     conceptual clustering system finds 3 classes in the data.\n",
      "   - Many, many more ...\n"
     ]
    }
   ],
   "source": [
    "print(iris.DESCR)  # iris 데이터 셋에 대한 설명"
   ]
  },
  {
   "cell_type": "code",
   "execution_count": 92,
   "id": "fd0494ad",
   "metadata": {
    "ExecuteTime": {
     "end_time": "2024-11-25T06:58:05.127786Z",
     "start_time": "2024-11-25T06:58:05.120790Z"
    }
   },
   "outputs": [
    {
     "data": {
      "text/plain": [
       "array([[5.1, 3.5, 1.4, 0.2],\n",
       "       [4.9, 3. , 1.4, 0.2],\n",
       "       [4.7, 3.2, 1.3, 0.2]])"
      ]
     },
     "execution_count": 92,
     "metadata": {},
     "output_type": "execute_result"
    }
   ],
   "source": [
    "iris.data  # 독립변수\n",
    "iris['data'][:3]"
   ]
  },
  {
   "cell_type": "code",
   "execution_count": 93,
   "id": "1c2498a0",
   "metadata": {
    "ExecuteTime": {
     "end_time": "2024-11-25T06:59:09.853973Z",
     "start_time": "2024-11-25T06:59:09.846974Z"
    }
   },
   "outputs": [
    {
     "data": {
      "text/plain": [
       "['sepal length (cm)',\n",
       " 'sepal width (cm)',\n",
       " 'petal length (cm)',\n",
       " 'petal width (cm)']"
      ]
     },
     "execution_count": 93,
     "metadata": {},
     "output_type": "execute_result"
    }
   ],
   "source": [
    "iris.feature_names  # 독립변수의 열이름\n",
    "iris['feature_names']"
   ]
  },
  {
   "cell_type": "code",
   "execution_count": 97,
   "id": "b0aab7ad",
   "metadata": {
    "ExecuteTime": {
     "end_time": "2024-11-25T07:02:07.020476Z",
     "start_time": "2024-11-25T07:02:07.012608Z"
    }
   },
   "outputs": [
    {
     "data": {
      "text/plain": [
       "['sepal_length', 'sepal_width', 'petal_length', 'petal_width']"
      ]
     },
     "execution_count": 97,
     "metadata": {},
     "output_type": "execute_result"
    }
   ],
   "source": [
    "# 데이터 프레임에서 열이름\n",
    "[col[:-4].strip().replace(' ', '_') for col in iris.feature_names]\n",
    "# 뒤에서 4자리 제외.앞뒤 공백 제거.' '를 '_'로 변경"
   ]
  },
  {
   "cell_type": "code",
   "execution_count": 98,
   "id": "94f163b2",
   "metadata": {
    "ExecuteTime": {
     "end_time": "2024-11-25T07:13:12.629749Z",
     "start_time": "2024-11-25T07:13:12.622752Z"
    }
   },
   "outputs": [
    {
     "data": {
      "text/plain": [
       "[17, 16, 17, 16]"
      ]
     },
     "execution_count": 98,
     "metadata": {},
     "output_type": "execute_result"
    }
   ],
   "source": [
    "[len(col) for col in iris.feature_names]"
   ]
  },
  {
   "cell_type": "code",
   "execution_count": 100,
   "id": "6c9e45d8",
   "metadata": {
    "ExecuteTime": {
     "end_time": "2024-11-25T07:14:16.995791Z",
     "start_time": "2024-11-25T07:14:16.989792Z"
    }
   },
   "outputs": [
    {
     "data": {
      "text/plain": [
       "['sepal_length', 'sepal_width', 'petal_length', 'petal_width']"
      ]
     },
     "execution_count": 100,
     "metadata": {},
     "output_type": "execute_result"
    }
   ],
   "source": [
    "[col[:12].strip().replace(' ', '_') for col in iris.feature_names]"
   ]
  },
  {
   "cell_type": "code",
   "execution_count": 103,
   "id": "6e06bcca",
   "metadata": {
    "ExecuteTime": {
     "end_time": "2024-11-25T07:15:16.116419Z",
     "start_time": "2024-11-25T07:15:16.110418Z"
    }
   },
   "outputs": [
    {
     "data": {
      "text/plain": [
       "array([0, 0, 0, 0, 0, 0, 0, 0, 0, 0, 0, 0, 0, 0, 0, 0, 0, 0, 0, 0, 0, 0,\n",
       "       0, 0, 0, 0, 0, 0, 0, 0, 0, 0, 0, 0, 0, 0, 0, 0, 0, 0, 0, 0, 0, 0,\n",
       "       0, 0, 0, 0, 0, 0, 1, 1, 1, 1, 1, 1, 1, 1, 1, 1, 1, 1, 1, 1, 1, 1,\n",
       "       1, 1, 1, 1, 1, 1, 1, 1, 1, 1, 1, 1, 1, 1, 1, 1, 1, 1, 1, 1, 1, 1,\n",
       "       1, 1, 1, 1, 1, 1, 1, 1, 1, 1, 1, 1, 2, 2, 2, 2, 2, 2, 2, 2, 2, 2,\n",
       "       2, 2, 2, 2, 2, 2, 2, 2, 2, 2, 2, 2, 2, 2, 2, 2, 2, 2, 2, 2, 2, 2,\n",
       "       2, 2, 2, 2, 2, 2, 2, 2, 2, 2, 2, 2, 2, 2, 2, 2, 2, 2])"
      ]
     },
     "execution_count": 103,
     "metadata": {},
     "output_type": "execute_result"
    }
   ],
   "source": [
    "iris.target\n",
    "iris['target']"
   ]
  },
  {
   "cell_type": "code",
   "execution_count": 104,
   "id": "5ca40d95",
   "metadata": {
    "ExecuteTime": {
     "end_time": "2024-11-25T07:15:34.700215Z",
     "start_time": "2024-11-25T07:15:34.693218Z"
    }
   },
   "outputs": [
    {
     "data": {
      "text/plain": [
       "array(['setosa', 'versicolor', 'virginica'], dtype='<U10')"
      ]
     },
     "execution_count": 104,
     "metadata": {},
     "output_type": "execute_result"
    }
   ],
   "source": [
    "iris.target_names\n",
    "iris['target_names']"
   ]
  },
  {
   "cell_type": "code",
   "execution_count": 110,
   "id": "71b315bb",
   "metadata": {
    "ExecuteTime": {
     "end_time": "2024-11-25T07:18:03.269345Z",
     "start_time": "2024-11-25T07:18:03.260350Z"
    },
    "collapsed": true
   },
   "outputs": [
    {
     "data": {
      "text/plain": [
       "array([['setosa'],\n",
       "       ['setosa'],\n",
       "       ['setosa'],\n",
       "       ['setosa'],\n",
       "       ['setosa'],\n",
       "       ['setosa'],\n",
       "       ['setosa'],\n",
       "       ['setosa'],\n",
       "       ['setosa'],\n",
       "       ['setosa'],\n",
       "       ['setosa'],\n",
       "       ['setosa'],\n",
       "       ['setosa'],\n",
       "       ['setosa'],\n",
       "       ['setosa'],\n",
       "       ['setosa'],\n",
       "       ['setosa'],\n",
       "       ['setosa'],\n",
       "       ['setosa'],\n",
       "       ['setosa'],\n",
       "       ['setosa'],\n",
       "       ['setosa'],\n",
       "       ['setosa'],\n",
       "       ['setosa'],\n",
       "       ['setosa'],\n",
       "       ['setosa'],\n",
       "       ['setosa'],\n",
       "       ['setosa'],\n",
       "       ['setosa'],\n",
       "       ['setosa'],\n",
       "       ['setosa'],\n",
       "       ['setosa'],\n",
       "       ['setosa'],\n",
       "       ['setosa'],\n",
       "       ['setosa'],\n",
       "       ['setosa'],\n",
       "       ['setosa'],\n",
       "       ['setosa'],\n",
       "       ['setosa'],\n",
       "       ['setosa'],\n",
       "       ['setosa'],\n",
       "       ['setosa'],\n",
       "       ['setosa'],\n",
       "       ['setosa'],\n",
       "       ['setosa'],\n",
       "       ['setosa'],\n",
       "       ['setosa'],\n",
       "       ['setosa'],\n",
       "       ['setosa'],\n",
       "       ['setosa'],\n",
       "       ['versicolor'],\n",
       "       ['versicolor'],\n",
       "       ['versicolor'],\n",
       "       ['versicolor'],\n",
       "       ['versicolor'],\n",
       "       ['versicolor'],\n",
       "       ['versicolor'],\n",
       "       ['versicolor'],\n",
       "       ['versicolor'],\n",
       "       ['versicolor'],\n",
       "       ['versicolor'],\n",
       "       ['versicolor'],\n",
       "       ['versicolor'],\n",
       "       ['versicolor'],\n",
       "       ['versicolor'],\n",
       "       ['versicolor'],\n",
       "       ['versicolor'],\n",
       "       ['versicolor'],\n",
       "       ['versicolor'],\n",
       "       ['versicolor'],\n",
       "       ['versicolor'],\n",
       "       ['versicolor'],\n",
       "       ['versicolor'],\n",
       "       ['versicolor'],\n",
       "       ['versicolor'],\n",
       "       ['versicolor'],\n",
       "       ['versicolor'],\n",
       "       ['versicolor'],\n",
       "       ['versicolor'],\n",
       "       ['versicolor'],\n",
       "       ['versicolor'],\n",
       "       ['versicolor'],\n",
       "       ['versicolor'],\n",
       "       ['versicolor'],\n",
       "       ['versicolor'],\n",
       "       ['versicolor'],\n",
       "       ['versicolor'],\n",
       "       ['versicolor'],\n",
       "       ['versicolor'],\n",
       "       ['versicolor'],\n",
       "       ['versicolor'],\n",
       "       ['versicolor'],\n",
       "       ['versicolor'],\n",
       "       ['versicolor'],\n",
       "       ['versicolor'],\n",
       "       ['versicolor'],\n",
       "       ['versicolor'],\n",
       "       ['versicolor'],\n",
       "       ['versicolor'],\n",
       "       ['versicolor'],\n",
       "       ['virginica'],\n",
       "       ['virginica'],\n",
       "       ['virginica'],\n",
       "       ['virginica'],\n",
       "       ['virginica'],\n",
       "       ['virginica'],\n",
       "       ['virginica'],\n",
       "       ['virginica'],\n",
       "       ['virginica'],\n",
       "       ['virginica'],\n",
       "       ['virginica'],\n",
       "       ['virginica'],\n",
       "       ['virginica'],\n",
       "       ['virginica'],\n",
       "       ['virginica'],\n",
       "       ['virginica'],\n",
       "       ['virginica'],\n",
       "       ['virginica'],\n",
       "       ['virginica'],\n",
       "       ['virginica'],\n",
       "       ['virginica'],\n",
       "       ['virginica'],\n",
       "       ['virginica'],\n",
       "       ['virginica'],\n",
       "       ['virginica'],\n",
       "       ['virginica'],\n",
       "       ['virginica'],\n",
       "       ['virginica'],\n",
       "       ['virginica'],\n",
       "       ['virginica'],\n",
       "       ['virginica'],\n",
       "       ['virginica'],\n",
       "       ['virginica'],\n",
       "       ['virginica'],\n",
       "       ['virginica'],\n",
       "       ['virginica'],\n",
       "       ['virginica'],\n",
       "       ['virginica'],\n",
       "       ['virginica'],\n",
       "       ['virginica'],\n",
       "       ['virginica'],\n",
       "       ['virginica'],\n",
       "       ['virginica'],\n",
       "       ['virginica'],\n",
       "       ['virginica'],\n",
       "       ['virginica'],\n",
       "       ['virginica'],\n",
       "       ['virginica'],\n",
       "       ['virginica'],\n",
       "       ['virginica']], dtype='<U10')"
      ]
     },
     "execution_count": 110,
     "metadata": {},
     "output_type": "execute_result"
    }
   ],
   "source": [
    "# 데이터 프레임의 가장 오른쪽 열(종속변수)\n",
    "iris.target_names[iris.target]\n",
    "iris['target_names'][iris['target']]"
   ]
  },
  {
   "cell_type": "code",
   "execution_count": 113,
   "id": "4f700c9d",
   "metadata": {
    "ExecuteTime": {
     "end_time": "2024-11-25T07:20:13.762999Z",
     "start_time": "2024-11-25T07:20:13.756001Z"
    }
   },
   "outputs": [
    {
     "name": "stdout",
     "output_type": "stream",
     "text": [
      "[[5.1 3.5 1.4 0.2]\n",
      " [4.9 3.  1.4 0.2]\n",
      " [4.7 3.2 1.3 0.2]\n",
      " [4.6 3.1 1.5 0.2]\n",
      " [5.  3.6 1.4 0.2]]\n",
      "[['setosa']\n",
      " ['setosa']\n",
      " ['setosa']\n",
      " ['setosa']\n",
      " ['setosa']]\n"
     ]
    }
   ],
   "source": [
    "# 독립변수\n",
    "data = iris.data\n",
    "print(data[:5])\n",
    "# 종속변수\n",
    "target = iris.target_names[iris.target].reshape(-1, 1)  # 맨 오른쪽 한 열로 들어가기 때문에(나머지 계산, 열1)\n",
    "print(target[:5])"
   ]
  },
  {
   "cell_type": "code",
   "execution_count": 114,
   "id": "2a262c8a",
   "metadata": {
    "ExecuteTime": {
     "end_time": "2024-11-25T07:21:31.408646Z",
     "start_time": "2024-11-25T07:21:31.402336Z"
    }
   },
   "outputs": [
    {
     "name": "stdout",
     "output_type": "stream",
     "text": [
      "독립변수 차원 :  (150, 4)\n",
      "종속변수 차원 :  (150, 1)\n"
     ]
    }
   ],
   "source": [
    "print('독립변수 차원 : ', data.shape)\n",
    "print('종속변수 차원 : ', target.shape)"
   ]
  },
  {
   "cell_type": "code",
   "execution_count": 115,
   "id": "f3c0f4f5",
   "metadata": {
    "ExecuteTime": {
     "end_time": "2024-11-25T07:21:58.998308Z",
     "start_time": "2024-11-25T07:21:58.986268Z"
    }
   },
   "outputs": [
    {
     "data": {
      "text/plain": [
       "array([['5.1', '3.5', '1.4', '0.2', 'setosa'],\n",
       "       ['4.9', '3.0', '1.4', '0.2', 'setosa'],\n",
       "       ['4.7', '3.2', '1.3', '0.2', 'setosa'],\n",
       "       ['4.6', '3.1', '1.5', '0.2', 'setosa'],\n",
       "       ['5.0', '3.6', '1.4', '0.2', 'setosa'],\n",
       "       ['5.4', '3.9', '1.7', '0.4', 'setosa'],\n",
       "       ['4.6', '3.4', '1.4', '0.3', 'setosa'],\n",
       "       ['5.0', '3.4', '1.5', '0.2', 'setosa'],\n",
       "       ['4.4', '2.9', '1.4', '0.2', 'setosa'],\n",
       "       ['4.9', '3.1', '1.5', '0.1', 'setosa'],\n",
       "       ['5.4', '3.7', '1.5', '0.2', 'setosa'],\n",
       "       ['4.8', '3.4', '1.6', '0.2', 'setosa'],\n",
       "       ['4.8', '3.0', '1.4', '0.1', 'setosa'],\n",
       "       ['4.3', '3.0', '1.1', '0.1', 'setosa'],\n",
       "       ['5.8', '4.0', '1.2', '0.2', 'setosa'],\n",
       "       ['5.7', '4.4', '1.5', '0.4', 'setosa'],\n",
       "       ['5.4', '3.9', '1.3', '0.4', 'setosa'],\n",
       "       ['5.1', '3.5', '1.4', '0.3', 'setosa'],\n",
       "       ['5.7', '3.8', '1.7', '0.3', 'setosa'],\n",
       "       ['5.1', '3.8', '1.5', '0.3', 'setosa'],\n",
       "       ['5.4', '3.4', '1.7', '0.2', 'setosa'],\n",
       "       ['5.1', '3.7', '1.5', '0.4', 'setosa'],\n",
       "       ['4.6', '3.6', '1.0', '0.2', 'setosa'],\n",
       "       ['5.1', '3.3', '1.7', '0.5', 'setosa'],\n",
       "       ['4.8', '3.4', '1.9', '0.2', 'setosa'],\n",
       "       ['5.0', '3.0', '1.6', '0.2', 'setosa'],\n",
       "       ['5.0', '3.4', '1.6', '0.4', 'setosa'],\n",
       "       ['5.2', '3.5', '1.5', '0.2', 'setosa'],\n",
       "       ['5.2', '3.4', '1.4', '0.2', 'setosa'],\n",
       "       ['4.7', '3.2', '1.6', '0.2', 'setosa'],\n",
       "       ['4.8', '3.1', '1.6', '0.2', 'setosa'],\n",
       "       ['5.4', '3.4', '1.5', '0.4', 'setosa'],\n",
       "       ['5.2', '4.1', '1.5', '0.1', 'setosa'],\n",
       "       ['5.5', '4.2', '1.4', '0.2', 'setosa'],\n",
       "       ['4.9', '3.1', '1.5', '0.2', 'setosa'],\n",
       "       ['5.0', '3.2', '1.2', '0.2', 'setosa'],\n",
       "       ['5.5', '3.5', '1.3', '0.2', 'setosa'],\n",
       "       ['4.9', '3.6', '1.4', '0.1', 'setosa'],\n",
       "       ['4.4', '3.0', '1.3', '0.2', 'setosa'],\n",
       "       ['5.1', '3.4', '1.5', '0.2', 'setosa'],\n",
       "       ['5.0', '3.5', '1.3', '0.3', 'setosa'],\n",
       "       ['4.5', '2.3', '1.3', '0.3', 'setosa'],\n",
       "       ['4.4', '3.2', '1.3', '0.2', 'setosa'],\n",
       "       ['5.0', '3.5', '1.6', '0.6', 'setosa'],\n",
       "       ['5.1', '3.8', '1.9', '0.4', 'setosa'],\n",
       "       ['4.8', '3.0', '1.4', '0.3', 'setosa'],\n",
       "       ['5.1', '3.8', '1.6', '0.2', 'setosa'],\n",
       "       ['4.6', '3.2', '1.4', '0.2', 'setosa'],\n",
       "       ['5.3', '3.7', '1.5', '0.2', 'setosa'],\n",
       "       ['5.0', '3.3', '1.4', '0.2', 'setosa'],\n",
       "       ['7.0', '3.2', '4.7', '1.4', 'versicolor'],\n",
       "       ['6.4', '3.2', '4.5', '1.5', 'versicolor'],\n",
       "       ['6.9', '3.1', '4.9', '1.5', 'versicolor'],\n",
       "       ['5.5', '2.3', '4.0', '1.3', 'versicolor'],\n",
       "       ['6.5', '2.8', '4.6', '1.5', 'versicolor'],\n",
       "       ['5.7', '2.8', '4.5', '1.3', 'versicolor'],\n",
       "       ['6.3', '3.3', '4.7', '1.6', 'versicolor'],\n",
       "       ['4.9', '2.4', '3.3', '1.0', 'versicolor'],\n",
       "       ['6.6', '2.9', '4.6', '1.3', 'versicolor'],\n",
       "       ['5.2', '2.7', '3.9', '1.4', 'versicolor'],\n",
       "       ['5.0', '2.0', '3.5', '1.0', 'versicolor'],\n",
       "       ['5.9', '3.0', '4.2', '1.5', 'versicolor'],\n",
       "       ['6.0', '2.2', '4.0', '1.0', 'versicolor'],\n",
       "       ['6.1', '2.9', '4.7', '1.4', 'versicolor'],\n",
       "       ['5.6', '2.9', '3.6', '1.3', 'versicolor'],\n",
       "       ['6.7', '3.1', '4.4', '1.4', 'versicolor'],\n",
       "       ['5.6', '3.0', '4.5', '1.5', 'versicolor'],\n",
       "       ['5.8', '2.7', '4.1', '1.0', 'versicolor'],\n",
       "       ['6.2', '2.2', '4.5', '1.5', 'versicolor'],\n",
       "       ['5.6', '2.5', '3.9', '1.1', 'versicolor'],\n",
       "       ['5.9', '3.2', '4.8', '1.8', 'versicolor'],\n",
       "       ['6.1', '2.8', '4.0', '1.3', 'versicolor'],\n",
       "       ['6.3', '2.5', '4.9', '1.5', 'versicolor'],\n",
       "       ['6.1', '2.8', '4.7', '1.2', 'versicolor'],\n",
       "       ['6.4', '2.9', '4.3', '1.3', 'versicolor'],\n",
       "       ['6.6', '3.0', '4.4', '1.4', 'versicolor'],\n",
       "       ['6.8', '2.8', '4.8', '1.4', 'versicolor'],\n",
       "       ['6.7', '3.0', '5.0', '1.7', 'versicolor'],\n",
       "       ['6.0', '2.9', '4.5', '1.5', 'versicolor'],\n",
       "       ['5.7', '2.6', '3.5', '1.0', 'versicolor'],\n",
       "       ['5.5', '2.4', '3.8', '1.1', 'versicolor'],\n",
       "       ['5.5', '2.4', '3.7', '1.0', 'versicolor'],\n",
       "       ['5.8', '2.7', '3.9', '1.2', 'versicolor'],\n",
       "       ['6.0', '2.7', '5.1', '1.6', 'versicolor'],\n",
       "       ['5.4', '3.0', '4.5', '1.5', 'versicolor'],\n",
       "       ['6.0', '3.4', '4.5', '1.6', 'versicolor'],\n",
       "       ['6.7', '3.1', '4.7', '1.5', 'versicolor'],\n",
       "       ['6.3', '2.3', '4.4', '1.3', 'versicolor'],\n",
       "       ['5.6', '3.0', '4.1', '1.3', 'versicolor'],\n",
       "       ['5.5', '2.5', '4.0', '1.3', 'versicolor'],\n",
       "       ['5.5', '2.6', '4.4', '1.2', 'versicolor'],\n",
       "       ['6.1', '3.0', '4.6', '1.4', 'versicolor'],\n",
       "       ['5.8', '2.6', '4.0', '1.2', 'versicolor'],\n",
       "       ['5.0', '2.3', '3.3', '1.0', 'versicolor'],\n",
       "       ['5.6', '2.7', '4.2', '1.3', 'versicolor'],\n",
       "       ['5.7', '3.0', '4.2', '1.2', 'versicolor'],\n",
       "       ['5.7', '2.9', '4.2', '1.3', 'versicolor'],\n",
       "       ['6.2', '2.9', '4.3', '1.3', 'versicolor'],\n",
       "       ['5.1', '2.5', '3.0', '1.1', 'versicolor'],\n",
       "       ['5.7', '2.8', '4.1', '1.3', 'versicolor'],\n",
       "       ['6.3', '3.3', '6.0', '2.5', 'virginica'],\n",
       "       ['5.8', '2.7', '5.1', '1.9', 'virginica'],\n",
       "       ['7.1', '3.0', '5.9', '2.1', 'virginica'],\n",
       "       ['6.3', '2.9', '5.6', '1.8', 'virginica'],\n",
       "       ['6.5', '3.0', '5.8', '2.2', 'virginica'],\n",
       "       ['7.6', '3.0', '6.6', '2.1', 'virginica'],\n",
       "       ['4.9', '2.5', '4.5', '1.7', 'virginica'],\n",
       "       ['7.3', '2.9', '6.3', '1.8', 'virginica'],\n",
       "       ['6.7', '2.5', '5.8', '1.8', 'virginica'],\n",
       "       ['7.2', '3.6', '6.1', '2.5', 'virginica'],\n",
       "       ['6.5', '3.2', '5.1', '2.0', 'virginica'],\n",
       "       ['6.4', '2.7', '5.3', '1.9', 'virginica'],\n",
       "       ['6.8', '3.0', '5.5', '2.1', 'virginica'],\n",
       "       ['5.7', '2.5', '5.0', '2.0', 'virginica'],\n",
       "       ['5.8', '2.8', '5.1', '2.4', 'virginica'],\n",
       "       ['6.4', '3.2', '5.3', '2.3', 'virginica'],\n",
       "       ['6.5', '3.0', '5.5', '1.8', 'virginica'],\n",
       "       ['7.7', '3.8', '6.7', '2.2', 'virginica'],\n",
       "       ['7.7', '2.6', '6.9', '2.3', 'virginica'],\n",
       "       ['6.0', '2.2', '5.0', '1.5', 'virginica'],\n",
       "       ['6.9', '3.2', '5.7', '2.3', 'virginica'],\n",
       "       ['5.6', '2.8', '4.9', '2.0', 'virginica'],\n",
       "       ['7.7', '2.8', '6.7', '2.0', 'virginica'],\n",
       "       ['6.3', '2.7', '4.9', '1.8', 'virginica'],\n",
       "       ['6.7', '3.3', '5.7', '2.1', 'virginica'],\n",
       "       ['7.2', '3.2', '6.0', '1.8', 'virginica'],\n",
       "       ['6.2', '2.8', '4.8', '1.8', 'virginica'],\n",
       "       ['6.1', '3.0', '4.9', '1.8', 'virginica'],\n",
       "       ['6.4', '2.8', '5.6', '2.1', 'virginica'],\n",
       "       ['7.2', '3.0', '5.8', '1.6', 'virginica'],\n",
       "       ['7.4', '2.8', '6.1', '1.9', 'virginica'],\n",
       "       ['7.9', '3.8', '6.4', '2.0', 'virginica'],\n",
       "       ['6.4', '2.8', '5.6', '2.2', 'virginica'],\n",
       "       ['6.3', '2.8', '5.1', '1.5', 'virginica'],\n",
       "       ['6.1', '2.6', '5.6', '1.4', 'virginica'],\n",
       "       ['7.7', '3.0', '6.1', '2.3', 'virginica'],\n",
       "       ['6.3', '3.4', '5.6', '2.4', 'virginica'],\n",
       "       ['6.4', '3.1', '5.5', '1.8', 'virginica'],\n",
       "       ['6.0', '3.0', '4.8', '1.8', 'virginica'],\n",
       "       ['6.9', '3.1', '5.4', '2.1', 'virginica'],\n",
       "       ['6.7', '3.1', '5.6', '2.4', 'virginica'],\n",
       "       ['6.9', '3.1', '5.1', '2.3', 'virginica'],\n",
       "       ['5.8', '2.7', '5.1', '1.9', 'virginica'],\n",
       "       ['6.8', '3.2', '5.9', '2.3', 'virginica'],\n",
       "       ['6.7', '3.3', '5.7', '2.5', 'virginica'],\n",
       "       ['6.7', '3.0', '5.2', '2.3', 'virginica'],\n",
       "       ['6.3', '2.5', '5.0', '1.9', 'virginica'],\n",
       "       ['6.5', '3.0', '5.2', '2.0', 'virginica'],\n",
       "       ['6.2', '3.4', '5.4', '2.3', 'virginica'],\n",
       "       ['5.9', '3.0', '5.1', '1.8', 'virginica']], dtype='<U32')"
      ]
     },
     "execution_count": 115,
     "metadata": {},
     "output_type": "execute_result"
    }
   ],
   "source": [
    "np.hstack((data, target))"
   ]
  },
  {
   "cell_type": "code",
   "execution_count": 119,
   "id": "359fd7ec",
   "metadata": {
    "ExecuteTime": {
     "end_time": "2024-11-25T07:24:10.146499Z",
     "start_time": "2024-11-25T07:24:10.128794Z"
    }
   },
   "outputs": [
    {
     "data": {
      "text/html": [
       "<div>\n",
       "<style scoped>\n",
       "    .dataframe tbody tr th:only-of-type {\n",
       "        vertical-align: middle;\n",
       "    }\n",
       "\n",
       "    .dataframe tbody tr th {\n",
       "        vertical-align: top;\n",
       "    }\n",
       "\n",
       "    .dataframe thead th {\n",
       "        text-align: right;\n",
       "    }\n",
       "</style>\n",
       "<table border=\"1\" class=\"dataframe\">\n",
       "  <thead>\n",
       "    <tr style=\"text-align: right;\">\n",
       "      <th></th>\n",
       "      <th>sepal_length</th>\n",
       "      <th>sepal_width</th>\n",
       "      <th>petal_length</th>\n",
       "      <th>petal_width</th>\n",
       "      <th>spacies</th>\n",
       "    </tr>\n",
       "  </thead>\n",
       "  <tbody>\n",
       "    <tr>\n",
       "      <th>0</th>\n",
       "      <td>5.1</td>\n",
       "      <td>3.5</td>\n",
       "      <td>1.4</td>\n",
       "      <td>0.2</td>\n",
       "      <td>setosa</td>\n",
       "    </tr>\n",
       "    <tr>\n",
       "      <th>1</th>\n",
       "      <td>4.9</td>\n",
       "      <td>3.0</td>\n",
       "      <td>1.4</td>\n",
       "      <td>0.2</td>\n",
       "      <td>setosa</td>\n",
       "    </tr>\n",
       "    <tr>\n",
       "      <th>2</th>\n",
       "      <td>4.7</td>\n",
       "      <td>3.2</td>\n",
       "      <td>1.3</td>\n",
       "      <td>0.2</td>\n",
       "      <td>setosa</td>\n",
       "    </tr>\n",
       "    <tr>\n",
       "      <th>3</th>\n",
       "      <td>4.6</td>\n",
       "      <td>3.1</td>\n",
       "      <td>1.5</td>\n",
       "      <td>0.2</td>\n",
       "      <td>setosa</td>\n",
       "    </tr>\n",
       "    <tr>\n",
       "      <th>4</th>\n",
       "      <td>5.0</td>\n",
       "      <td>3.6</td>\n",
       "      <td>1.4</td>\n",
       "      <td>0.2</td>\n",
       "      <td>setosa</td>\n",
       "    </tr>\n",
       "    <tr>\n",
       "      <th>...</th>\n",
       "      <td>...</td>\n",
       "      <td>...</td>\n",
       "      <td>...</td>\n",
       "      <td>...</td>\n",
       "      <td>...</td>\n",
       "    </tr>\n",
       "    <tr>\n",
       "      <th>145</th>\n",
       "      <td>6.7</td>\n",
       "      <td>3.0</td>\n",
       "      <td>5.2</td>\n",
       "      <td>2.3</td>\n",
       "      <td>virginica</td>\n",
       "    </tr>\n",
       "    <tr>\n",
       "      <th>146</th>\n",
       "      <td>6.3</td>\n",
       "      <td>2.5</td>\n",
       "      <td>5.0</td>\n",
       "      <td>1.9</td>\n",
       "      <td>virginica</td>\n",
       "    </tr>\n",
       "    <tr>\n",
       "      <th>147</th>\n",
       "      <td>6.5</td>\n",
       "      <td>3.0</td>\n",
       "      <td>5.2</td>\n",
       "      <td>2.0</td>\n",
       "      <td>virginica</td>\n",
       "    </tr>\n",
       "    <tr>\n",
       "      <th>148</th>\n",
       "      <td>6.2</td>\n",
       "      <td>3.4</td>\n",
       "      <td>5.4</td>\n",
       "      <td>2.3</td>\n",
       "      <td>virginica</td>\n",
       "    </tr>\n",
       "    <tr>\n",
       "      <th>149</th>\n",
       "      <td>5.9</td>\n",
       "      <td>3.0</td>\n",
       "      <td>5.1</td>\n",
       "      <td>1.8</td>\n",
       "      <td>virginica</td>\n",
       "    </tr>\n",
       "  </tbody>\n",
       "</table>\n",
       "<p>150 rows × 5 columns</p>\n",
       "</div>"
      ],
      "text/plain": [
       "    sepal_length sepal_width petal_length petal_width    spacies\n",
       "0            5.1         3.5          1.4         0.2     setosa\n",
       "1            4.9         3.0          1.4         0.2     setosa\n",
       "2            4.7         3.2          1.3         0.2     setosa\n",
       "3            4.6         3.1          1.5         0.2     setosa\n",
       "4            5.0         3.6          1.4         0.2     setosa\n",
       "..           ...         ...          ...         ...        ...\n",
       "145          6.7         3.0          5.2         2.3  virginica\n",
       "146          6.3         2.5          5.0         1.9  virginica\n",
       "147          6.5         3.0          5.2         2.0  virginica\n",
       "148          6.2         3.4          5.4         2.3  virginica\n",
       "149          5.9         3.0          5.1         1.8  virginica\n",
       "\n",
       "[150 rows x 5 columns]"
      ]
     },
     "execution_count": 119,
     "metadata": {},
     "output_type": "execute_result"
    }
   ],
   "source": [
    "# ⓐ 독립변수와 종속변수를 stack한 후, 데이터프레임으로 완성\n",
    "pd.DataFrame(np.hstack((data, target)), \n",
    "             columns=[col[:12].strip().replace(' ', '_') for col in iris.feature_names]+\n",
    "                      ['spacies'])"
   ]
  },
  {
   "cell_type": "code",
   "execution_count": 122,
   "id": "7dd6a0aa",
   "metadata": {
    "ExecuteTime": {
     "end_time": "2024-11-25T07:25:45.893767Z",
     "start_time": "2024-11-25T07:25:45.881185Z"
    }
   },
   "outputs": [
    {
     "data": {
      "text/html": [
       "<div>\n",
       "<style scoped>\n",
       "    .dataframe tbody tr th:only-of-type {\n",
       "        vertical-align: middle;\n",
       "    }\n",
       "\n",
       "    .dataframe tbody tr th {\n",
       "        vertical-align: top;\n",
       "    }\n",
       "\n",
       "    .dataframe thead th {\n",
       "        text-align: right;\n",
       "    }\n",
       "</style>\n",
       "<table border=\"1\" class=\"dataframe\">\n",
       "  <thead>\n",
       "    <tr style=\"text-align: right;\">\n",
       "      <th></th>\n",
       "      <th>sepal length (cm)</th>\n",
       "      <th>sepal width (cm)</th>\n",
       "      <th>petal length (cm)</th>\n",
       "      <th>petal width (cm)</th>\n",
       "      <th>spacies</th>\n",
       "    </tr>\n",
       "  </thead>\n",
       "  <tbody>\n",
       "    <tr>\n",
       "      <th>0</th>\n",
       "      <td>5.1</td>\n",
       "      <td>3.5</td>\n",
       "      <td>1.4</td>\n",
       "      <td>0.2</td>\n",
       "      <td>setosa</td>\n",
       "    </tr>\n",
       "    <tr>\n",
       "      <th>1</th>\n",
       "      <td>4.9</td>\n",
       "      <td>3.0</td>\n",
       "      <td>1.4</td>\n",
       "      <td>0.2</td>\n",
       "      <td>setosa</td>\n",
       "    </tr>\n",
       "    <tr>\n",
       "      <th>2</th>\n",
       "      <td>4.7</td>\n",
       "      <td>3.2</td>\n",
       "      <td>1.3</td>\n",
       "      <td>0.2</td>\n",
       "      <td>setosa</td>\n",
       "    </tr>\n",
       "    <tr>\n",
       "      <th>3</th>\n",
       "      <td>4.6</td>\n",
       "      <td>3.1</td>\n",
       "      <td>1.5</td>\n",
       "      <td>0.2</td>\n",
       "      <td>setosa</td>\n",
       "    </tr>\n",
       "    <tr>\n",
       "      <th>4</th>\n",
       "      <td>5.0</td>\n",
       "      <td>3.6</td>\n",
       "      <td>1.4</td>\n",
       "      <td>0.2</td>\n",
       "      <td>setosa</td>\n",
       "    </tr>\n",
       "  </tbody>\n",
       "</table>\n",
       "</div>"
      ],
      "text/plain": [
       "  sepal length (cm) sepal width (cm) petal length (cm) petal width (cm)  \\\n",
       "0               5.1              3.5               1.4              0.2   \n",
       "1               4.9              3.0               1.4              0.2   \n",
       "2               4.7              3.2               1.3              0.2   \n",
       "3               4.6              3.1               1.5              0.2   \n",
       "4               5.0              3.6               1.4              0.2   \n",
       "\n",
       "  spacies  \n",
       "0  setosa  \n",
       "1  setosa  \n",
       "2  setosa  \n",
       "3  setosa  \n",
       "4  setosa  "
      ]
     },
     "execution_count": 122,
     "metadata": {},
     "output_type": "execute_result"
    }
   ],
   "source": [
    "df = pd.DataFrame(np.hstack((data, target)), \n",
    "             columns=iris.feature_names + ['spacies'])\n",
    "df.head()"
   ]
  },
  {
   "cell_type": "code",
   "execution_count": 124,
   "id": "2fa3fc0f",
   "metadata": {
    "ExecuteTime": {
     "end_time": "2024-11-25T07:26:00.208582Z",
     "start_time": "2024-11-25T07:26:00.199850Z"
    }
   },
   "outputs": [
    {
     "data": {
      "text/plain": [
       "0         setosa\n",
       "1         setosa\n",
       "2         setosa\n",
       "3         setosa\n",
       "4         setosa\n",
       "         ...    \n",
       "145    virginica\n",
       "146    virginica\n",
       "147    virginica\n",
       "148    virginica\n",
       "149    virginica\n",
       "Name: spacies, Length: 150, dtype: object"
      ]
     },
     "execution_count": 124,
     "metadata": {},
     "output_type": "execute_result"
    }
   ],
   "source": [
    "df.spacies  # df['spacies']"
   ]
  },
  {
   "cell_type": "code",
   "execution_count": 125,
   "id": "13438cbb",
   "metadata": {
    "ExecuteTime": {
     "end_time": "2024-11-25T07:26:37.992471Z",
     "start_time": "2024-11-25T07:26:37.983771Z"
    }
   },
   "outputs": [
    {
     "data": {
      "text/plain": [
       "0      5.1\n",
       "1      4.9\n",
       "2      4.7\n",
       "3      4.6\n",
       "4      5.0\n",
       "      ... \n",
       "145    6.7\n",
       "146    6.3\n",
       "147    6.5\n",
       "148    6.2\n",
       "149    5.9\n",
       "Name: sepal length (cm), Length: 150, dtype: object"
      ]
     },
     "execution_count": 125,
     "metadata": {},
     "output_type": "execute_result"
    }
   ],
   "source": [
    "df['sepal length (cm)']\n",
    "# df.sepal length (cm) 에러 : 열 이름에 space나 특수문자의 경우 . 열접근이 불가"
   ]
  },
  {
   "cell_type": "code",
   "execution_count": 127,
   "id": "45435027",
   "metadata": {
    "ExecuteTime": {
     "end_time": "2024-11-25T07:31:04.356078Z",
     "start_time": "2024-11-25T07:31:04.342470Z"
    }
   },
   "outputs": [
    {
     "data": {
      "text/html": [
       "<div>\n",
       "<style scoped>\n",
       "    .dataframe tbody tr th:only-of-type {\n",
       "        vertical-align: middle;\n",
       "    }\n",
       "\n",
       "    .dataframe tbody tr th {\n",
       "        vertical-align: top;\n",
       "    }\n",
       "\n",
       "    .dataframe thead th {\n",
       "        text-align: right;\n",
       "    }\n",
       "</style>\n",
       "<table border=\"1\" class=\"dataframe\">\n",
       "  <thead>\n",
       "    <tr style=\"text-align: right;\">\n",
       "      <th></th>\n",
       "      <th>sepal length (cm)</th>\n",
       "      <th>sepal width (cm)</th>\n",
       "      <th>petal length (cm)</th>\n",
       "      <th>petal width (cm)</th>\n",
       "    </tr>\n",
       "  </thead>\n",
       "  <tbody>\n",
       "    <tr>\n",
       "      <th>0</th>\n",
       "      <td>5.1</td>\n",
       "      <td>3.5</td>\n",
       "      <td>1.4</td>\n",
       "      <td>0.2</td>\n",
       "    </tr>\n",
       "  </tbody>\n",
       "</table>\n",
       "</div>"
      ],
      "text/plain": [
       "   sepal length (cm)  sepal width (cm)  petal length (cm)  petal width (cm)\n",
       "0                5.1               3.5                1.4               0.2"
      ]
     },
     "execution_count": 127,
     "metadata": {},
     "output_type": "execute_result"
    }
   ],
   "source": [
    "# ⓑ 독립변수,종속변수를 따로 데이터프레임을 만들어 두 데이터프레임을 연결\n",
    "# X : 독립변수 데이터프레임\n",
    "X = pd.DataFrame(iris.data, columns=iris.feature_names)\n",
    "X.head(1)"
   ]
  },
  {
   "cell_type": "code",
   "execution_count": 128,
   "id": "4bc80b64",
   "metadata": {
    "ExecuteTime": {
     "end_time": "2024-11-25T07:32:36.097866Z",
     "start_time": "2024-11-25T07:32:36.093865Z"
    }
   },
   "outputs": [],
   "source": [
    "X.columns = [col[:12].strip().replace(' ', '_') for col in iris.feature_names]"
   ]
  },
  {
   "cell_type": "code",
   "execution_count": 129,
   "id": "f6388002",
   "metadata": {
    "ExecuteTime": {
     "end_time": "2024-11-25T07:32:41.567417Z",
     "start_time": "2024-11-25T07:32:41.561420Z"
    }
   },
   "outputs": [
    {
     "data": {
      "text/plain": [
       "Index(['sepal_length', 'sepal_width', 'petal_length', 'petal_width'], dtype='object')"
      ]
     },
     "execution_count": 129,
     "metadata": {},
     "output_type": "execute_result"
    }
   ],
   "source": [
    "X.columns"
   ]
  },
  {
   "cell_type": "code",
   "execution_count": 130,
   "id": "9853097d",
   "metadata": {
    "ExecuteTime": {
     "end_time": "2024-11-25T07:33:07.576416Z",
     "start_time": "2024-11-25T07:33:07.564420Z"
    }
   },
   "outputs": [
    {
     "data": {
      "text/html": [
       "<div>\n",
       "<style scoped>\n",
       "    .dataframe tbody tr th:only-of-type {\n",
       "        vertical-align: middle;\n",
       "    }\n",
       "\n",
       "    .dataframe tbody tr th {\n",
       "        vertical-align: top;\n",
       "    }\n",
       "\n",
       "    .dataframe thead th {\n",
       "        text-align: right;\n",
       "    }\n",
       "</style>\n",
       "<table border=\"1\" class=\"dataframe\">\n",
       "  <thead>\n",
       "    <tr style=\"text-align: right;\">\n",
       "      <th></th>\n",
       "      <th>sepal_length</th>\n",
       "      <th>sepal_width</th>\n",
       "      <th>petal_length</th>\n",
       "      <th>petal_width</th>\n",
       "    </tr>\n",
       "  </thead>\n",
       "  <tbody>\n",
       "    <tr>\n",
       "      <th>0</th>\n",
       "      <td>5.1</td>\n",
       "      <td>3.5</td>\n",
       "      <td>1.4</td>\n",
       "      <td>0.2</td>\n",
       "    </tr>\n",
       "  </tbody>\n",
       "</table>\n",
       "</div>"
      ],
      "text/plain": [
       "   sepal_length  sepal_width  petal_length  petal_width\n",
       "0           5.1          3.5           1.4          0.2"
      ]
     },
     "execution_count": 130,
     "metadata": {},
     "output_type": "execute_result"
    }
   ],
   "source": [
    "X.head(1)"
   ]
  },
  {
   "cell_type": "code",
   "execution_count": 131,
   "id": "6156e1ef",
   "metadata": {
    "ExecuteTime": {
     "end_time": "2024-11-25T07:35:02.903811Z",
     "start_time": "2024-11-25T07:35:02.882100Z"
    }
   },
   "outputs": [
    {
     "data": {
      "text/html": [
       "<div>\n",
       "<style scoped>\n",
       "    .dataframe tbody tr th:only-of-type {\n",
       "        vertical-align: middle;\n",
       "    }\n",
       "\n",
       "    .dataframe tbody tr th {\n",
       "        vertical-align: top;\n",
       "    }\n",
       "\n",
       "    .dataframe thead th {\n",
       "        text-align: right;\n",
       "    }\n",
       "</style>\n",
       "<table border=\"1\" class=\"dataframe\">\n",
       "  <thead>\n",
       "    <tr style=\"text-align: right;\">\n",
       "      <th></th>\n",
       "      <th>spacies</th>\n",
       "    </tr>\n",
       "  </thead>\n",
       "  <tbody>\n",
       "    <tr>\n",
       "      <th>0</th>\n",
       "      <td>setosa</td>\n",
       "    </tr>\n",
       "    <tr>\n",
       "      <th>1</th>\n",
       "      <td>setosa</td>\n",
       "    </tr>\n",
       "    <tr>\n",
       "      <th>2</th>\n",
       "      <td>setosa</td>\n",
       "    </tr>\n",
       "    <tr>\n",
       "      <th>3</th>\n",
       "      <td>setosa</td>\n",
       "    </tr>\n",
       "    <tr>\n",
       "      <th>4</th>\n",
       "      <td>setosa</td>\n",
       "    </tr>\n",
       "    <tr>\n",
       "      <th>...</th>\n",
       "      <td>...</td>\n",
       "    </tr>\n",
       "    <tr>\n",
       "      <th>145</th>\n",
       "      <td>virginica</td>\n",
       "    </tr>\n",
       "    <tr>\n",
       "      <th>146</th>\n",
       "      <td>virginica</td>\n",
       "    </tr>\n",
       "    <tr>\n",
       "      <th>147</th>\n",
       "      <td>virginica</td>\n",
       "    </tr>\n",
       "    <tr>\n",
       "      <th>148</th>\n",
       "      <td>virginica</td>\n",
       "    </tr>\n",
       "    <tr>\n",
       "      <th>149</th>\n",
       "      <td>virginica</td>\n",
       "    </tr>\n",
       "  </tbody>\n",
       "</table>\n",
       "<p>150 rows × 1 columns</p>\n",
       "</div>"
      ],
      "text/plain": [
       "       spacies\n",
       "0       setosa\n",
       "1       setosa\n",
       "2       setosa\n",
       "3       setosa\n",
       "4       setosa\n",
       "..         ...\n",
       "145  virginica\n",
       "146  virginica\n",
       "147  virginica\n",
       "148  virginica\n",
       "149  virginica\n",
       "\n",
       "[150 rows x 1 columns]"
      ]
     },
     "execution_count": 131,
     "metadata": {},
     "output_type": "execute_result"
    }
   ],
   "source": [
    "# y : 종속변수 데이터프레임\n",
    "y = pd.DataFrame(iris.target_names[iris.target], columns=['spacies'])\n",
    "y"
   ]
  },
  {
   "cell_type": "code",
   "execution_count": 133,
   "id": "1cc9b521",
   "metadata": {
    "ExecuteTime": {
     "end_time": "2024-11-25T07:36:17.944304Z",
     "start_time": "2024-11-25T07:36:17.939307Z"
    }
   },
   "outputs": [
    {
     "name": "stdout",
     "output_type": "stream",
     "text": [
      "RangeIndex(start=0, stop=150, step=1)\n",
      "RangeIndex(start=0, stop=150, step=1)\n"
     ]
    }
   ],
   "source": [
    "print(X.index)  # index : 행 이름\n",
    "print(y.index)"
   ]
  },
  {
   "cell_type": "code",
   "execution_count": 135,
   "id": "afd92e09",
   "metadata": {
    "ExecuteTime": {
     "end_time": "2024-11-25T07:38:18.821127Z",
     "start_time": "2024-11-25T07:38:18.801491Z"
    }
   },
   "outputs": [
    {
     "data": {
      "text/html": [
       "<div>\n",
       "<style scoped>\n",
       "    .dataframe tbody tr th:only-of-type {\n",
       "        vertical-align: middle;\n",
       "    }\n",
       "\n",
       "    .dataframe tbody tr th {\n",
       "        vertical-align: top;\n",
       "    }\n",
       "\n",
       "    .dataframe thead th {\n",
       "        text-align: right;\n",
       "    }\n",
       "</style>\n",
       "<table border=\"1\" class=\"dataframe\">\n",
       "  <thead>\n",
       "    <tr style=\"text-align: right;\">\n",
       "      <th></th>\n",
       "      <th>sepal_length</th>\n",
       "      <th>sepal_width</th>\n",
       "      <th>petal_length</th>\n",
       "      <th>petal_width</th>\n",
       "      <th>spacies</th>\n",
       "    </tr>\n",
       "  </thead>\n",
       "  <tbody>\n",
       "    <tr>\n",
       "      <th>0</th>\n",
       "      <td>5.1</td>\n",
       "      <td>3.5</td>\n",
       "      <td>1.4</td>\n",
       "      <td>0.2</td>\n",
       "      <td>setosa</td>\n",
       "    </tr>\n",
       "    <tr>\n",
       "      <th>1</th>\n",
       "      <td>4.9</td>\n",
       "      <td>3.0</td>\n",
       "      <td>1.4</td>\n",
       "      <td>0.2</td>\n",
       "      <td>setosa</td>\n",
       "    </tr>\n",
       "    <tr>\n",
       "      <th>2</th>\n",
       "      <td>4.7</td>\n",
       "      <td>3.2</td>\n",
       "      <td>1.3</td>\n",
       "      <td>0.2</td>\n",
       "      <td>setosa</td>\n",
       "    </tr>\n",
       "    <tr>\n",
       "      <th>3</th>\n",
       "      <td>4.6</td>\n",
       "      <td>3.1</td>\n",
       "      <td>1.5</td>\n",
       "      <td>0.2</td>\n",
       "      <td>setosa</td>\n",
       "    </tr>\n",
       "    <tr>\n",
       "      <th>4</th>\n",
       "      <td>5.0</td>\n",
       "      <td>3.6</td>\n",
       "      <td>1.4</td>\n",
       "      <td>0.2</td>\n",
       "      <td>setosa</td>\n",
       "    </tr>\n",
       "    <tr>\n",
       "      <th>...</th>\n",
       "      <td>...</td>\n",
       "      <td>...</td>\n",
       "      <td>...</td>\n",
       "      <td>...</td>\n",
       "      <td>...</td>\n",
       "    </tr>\n",
       "    <tr>\n",
       "      <th>145</th>\n",
       "      <td>6.7</td>\n",
       "      <td>3.0</td>\n",
       "      <td>5.2</td>\n",
       "      <td>2.3</td>\n",
       "      <td>virginica</td>\n",
       "    </tr>\n",
       "    <tr>\n",
       "      <th>146</th>\n",
       "      <td>6.3</td>\n",
       "      <td>2.5</td>\n",
       "      <td>5.0</td>\n",
       "      <td>1.9</td>\n",
       "      <td>virginica</td>\n",
       "    </tr>\n",
       "    <tr>\n",
       "      <th>147</th>\n",
       "      <td>6.5</td>\n",
       "      <td>3.0</td>\n",
       "      <td>5.2</td>\n",
       "      <td>2.0</td>\n",
       "      <td>virginica</td>\n",
       "    </tr>\n",
       "    <tr>\n",
       "      <th>148</th>\n",
       "      <td>6.2</td>\n",
       "      <td>3.4</td>\n",
       "      <td>5.4</td>\n",
       "      <td>2.3</td>\n",
       "      <td>virginica</td>\n",
       "    </tr>\n",
       "    <tr>\n",
       "      <th>149</th>\n",
       "      <td>5.9</td>\n",
       "      <td>3.0</td>\n",
       "      <td>5.1</td>\n",
       "      <td>1.8</td>\n",
       "      <td>virginica</td>\n",
       "    </tr>\n",
       "  </tbody>\n",
       "</table>\n",
       "<p>150 rows × 5 columns</p>\n",
       "</div>"
      ],
      "text/plain": [
       "     sepal_length  sepal_width  petal_length  petal_width    spacies\n",
       "0             5.1          3.5           1.4          0.2     setosa\n",
       "1             4.9          3.0           1.4          0.2     setosa\n",
       "2             4.7          3.2           1.3          0.2     setosa\n",
       "3             4.6          3.1           1.5          0.2     setosa\n",
       "4             5.0          3.6           1.4          0.2     setosa\n",
       "..            ...          ...           ...          ...        ...\n",
       "145           6.7          3.0           5.2          2.3  virginica\n",
       "146           6.3          2.5           5.0          1.9  virginica\n",
       "147           6.5          3.0           5.2          2.0  virginica\n",
       "148           6.2          3.4           5.4          2.3  virginica\n",
       "149           5.9          3.0           5.1          1.8  virginica\n",
       "\n",
       "[150 rows x 5 columns]"
      ]
     },
     "execution_count": 135,
     "metadata": {},
     "output_type": "execute_result"
    }
   ],
   "source": [
    "# 데이터프레임 연결하기 (열로 연결)\n",
    "iris_df = pd.concat( [X, y], axis=1)\n",
    "iris_df"
   ]
  },
  {
   "cell_type": "code",
   "execution_count": 136,
   "id": "e84db436",
   "metadata": {
    "ExecuteTime": {
     "end_time": "2024-11-25T07:39:21.220535Z",
     "start_time": "2024-11-25T07:39:21.209116Z"
    }
   },
   "outputs": [
    {
     "name": "stdout",
     "output_type": "stream",
     "text": [
      "<class 'pandas.core.frame.DataFrame'>\n",
      "RangeIndex: 150 entries, 0 to 149\n",
      "Data columns (total 5 columns):\n",
      " #   Column        Non-Null Count  Dtype  \n",
      "---  ------        --------------  -----  \n",
      " 0   sepal_length  150 non-null    float64\n",
      " 1   sepal_width   150 non-null    float64\n",
      " 2   petal_length  150 non-null    float64\n",
      " 3   petal_width   150 non-null    float64\n",
      " 4   spacies       150 non-null    object \n",
      "dtypes: float64(4), object(1)\n",
      "memory usage: 6.0+ KB\n"
     ]
    }
   ],
   "source": [
    "iris_df.info()"
   ]
  },
  {
   "cell_type": "markdown",
   "id": "0142a6ae",
   "metadata": {},
   "source": [
    "## 2.5 statsmodels 패키지의 iris"
   ]
  },
  {
   "cell_type": "code",
   "execution_count": 137,
   "id": "8a8afb2e",
   "metadata": {
    "ExecuteTime": {
     "end_time": "2024-11-25T07:46:24.996327Z",
     "start_time": "2024-11-25T07:46:22.653308Z"
    }
   },
   "outputs": [
    {
     "data": {
      "text/plain": [
       "<class 'statsmodels.datasets.utils.Dataset'>"
      ]
     },
     "execution_count": 137,
     "metadata": {},
     "output_type": "execute_result"
    }
   ],
   "source": [
    "# iris 데이터 가져오기 방법2 : R 데이터 가져오기\n",
    "import statsmodels.api as sm\n",
    "iris_data = sm.datasets.get_rdataset('iris',\n",
    "                                    package='datasets',\n",
    "                                    cache=True)\n",
    "iris_data"
   ]
  },
  {
   "cell_type": "code",
   "execution_count": 139,
   "id": "c7d7b48f",
   "metadata": {
    "ExecuteTime": {
     "end_time": "2024-11-25T07:47:39.333048Z",
     "start_time": "2024-11-25T07:47:39.318052Z"
    }
   },
   "outputs": [
    {
     "data": {
      "text/html": [
       "<div>\n",
       "<style scoped>\n",
       "    .dataframe tbody tr th:only-of-type {\n",
       "        vertical-align: middle;\n",
       "    }\n",
       "\n",
       "    .dataframe tbody tr th {\n",
       "        vertical-align: top;\n",
       "    }\n",
       "\n",
       "    .dataframe thead th {\n",
       "        text-align: right;\n",
       "    }\n",
       "</style>\n",
       "<table border=\"1\" class=\"dataframe\">\n",
       "  <thead>\n",
       "    <tr style=\"text-align: right;\">\n",
       "      <th></th>\n",
       "      <th>Sepal.Length</th>\n",
       "      <th>Sepal.Width</th>\n",
       "      <th>Petal.Length</th>\n",
       "      <th>Petal.Width</th>\n",
       "      <th>Species</th>\n",
       "    </tr>\n",
       "  </thead>\n",
       "  <tbody>\n",
       "    <tr>\n",
       "      <th>0</th>\n",
       "      <td>5.1</td>\n",
       "      <td>3.5</td>\n",
       "      <td>1.4</td>\n",
       "      <td>0.2</td>\n",
       "      <td>setosa</td>\n",
       "    </tr>\n",
       "    <tr>\n",
       "      <th>1</th>\n",
       "      <td>4.9</td>\n",
       "      <td>3.0</td>\n",
       "      <td>1.4</td>\n",
       "      <td>0.2</td>\n",
       "      <td>setosa</td>\n",
       "    </tr>\n",
       "    <tr>\n",
       "      <th>2</th>\n",
       "      <td>4.7</td>\n",
       "      <td>3.2</td>\n",
       "      <td>1.3</td>\n",
       "      <td>0.2</td>\n",
       "      <td>setosa</td>\n",
       "    </tr>\n",
       "    <tr>\n",
       "      <th>3</th>\n",
       "      <td>4.6</td>\n",
       "      <td>3.1</td>\n",
       "      <td>1.5</td>\n",
       "      <td>0.2</td>\n",
       "      <td>setosa</td>\n",
       "    </tr>\n",
       "    <tr>\n",
       "      <th>4</th>\n",
       "      <td>5.0</td>\n",
       "      <td>3.6</td>\n",
       "      <td>1.4</td>\n",
       "      <td>0.2</td>\n",
       "      <td>setosa</td>\n",
       "    </tr>\n",
       "  </tbody>\n",
       "</table>\n",
       "</div>"
      ],
      "text/plain": [
       "   Sepal.Length  Sepal.Width  Petal.Length  Petal.Width Species\n",
       "0           5.1          3.5           1.4          0.2  setosa\n",
       "1           4.9          3.0           1.4          0.2  setosa\n",
       "2           4.7          3.2           1.3          0.2  setosa\n",
       "3           4.6          3.1           1.5          0.2  setosa\n",
       "4           5.0          3.6           1.4          0.2  setosa"
      ]
     },
     "execution_count": 139,
     "metadata": {},
     "output_type": "execute_result"
    }
   ],
   "source": [
    "iris = iris_data.data\n",
    "iris.head()"
   ]
  },
  {
   "cell_type": "code",
   "execution_count": 141,
   "id": "a34cc5c3",
   "metadata": {
    "ExecuteTime": {
     "end_time": "2024-11-25T07:48:07.724640Z",
     "start_time": "2024-11-25T07:48:07.621261Z"
    }
   },
   "outputs": [
    {
     "ename": "AttributeError",
     "evalue": "'DataFrame' object has no attribute 'Sepal'",
     "output_type": "error",
     "traceback": [
      "\u001b[1;31m---------------------------------------------------------------------------\u001b[0m",
      "\u001b[1;31mAttributeError\u001b[0m                            Traceback (most recent call last)",
      "Cell \u001b[1;32mIn[141], line 2\u001b[0m\n\u001b[0;32m      1\u001b[0m iris[\u001b[38;5;124m'\u001b[39m\u001b[38;5;124mSepal.Length\u001b[39m\u001b[38;5;124m'\u001b[39m]\n\u001b[1;32m----> 2\u001b[0m \u001b[43miris\u001b[49m\u001b[38;5;241;43m.\u001b[39;49m\u001b[43mSepal\u001b[49m\u001b[38;5;241m.\u001b[39mLength\n",
      "File \u001b[1;32m~\\anaconda3\\lib\\site-packages\\pandas\\core\\generic.py:5902\u001b[0m, in \u001b[0;36mNDFrame.__getattr__\u001b[1;34m(self, name)\u001b[0m\n\u001b[0;32m   5895\u001b[0m \u001b[38;5;28;01mif\u001b[39;00m (\n\u001b[0;32m   5896\u001b[0m     name \u001b[38;5;129;01mnot\u001b[39;00m \u001b[38;5;129;01min\u001b[39;00m \u001b[38;5;28mself\u001b[39m\u001b[38;5;241m.\u001b[39m_internal_names_set\n\u001b[0;32m   5897\u001b[0m     \u001b[38;5;129;01mand\u001b[39;00m name \u001b[38;5;129;01mnot\u001b[39;00m \u001b[38;5;129;01min\u001b[39;00m \u001b[38;5;28mself\u001b[39m\u001b[38;5;241m.\u001b[39m_metadata\n\u001b[0;32m   5898\u001b[0m     \u001b[38;5;129;01mand\u001b[39;00m name \u001b[38;5;129;01mnot\u001b[39;00m \u001b[38;5;129;01min\u001b[39;00m \u001b[38;5;28mself\u001b[39m\u001b[38;5;241m.\u001b[39m_accessors\n\u001b[0;32m   5899\u001b[0m     \u001b[38;5;129;01mand\u001b[39;00m \u001b[38;5;28mself\u001b[39m\u001b[38;5;241m.\u001b[39m_info_axis\u001b[38;5;241m.\u001b[39m_can_hold_identifiers_and_holds_name(name)\n\u001b[0;32m   5900\u001b[0m ):\n\u001b[0;32m   5901\u001b[0m     \u001b[38;5;28;01mreturn\u001b[39;00m \u001b[38;5;28mself\u001b[39m[name]\n\u001b[1;32m-> 5902\u001b[0m \u001b[38;5;28;01mreturn\u001b[39;00m \u001b[38;5;28;43mobject\u001b[39;49m\u001b[38;5;241;43m.\u001b[39;49m\u001b[38;5;21;43m__getattribute__\u001b[39;49m\u001b[43m(\u001b[49m\u001b[38;5;28;43mself\u001b[39;49m\u001b[43m,\u001b[49m\u001b[43m \u001b[49m\u001b[43mname\u001b[49m\u001b[43m)\u001b[49m\n",
      "\u001b[1;31mAttributeError\u001b[0m: 'DataFrame' object has no attribute 'Sepal'"
     ]
    }
   ],
   "source": [
    "iris['Sepal.Length']\n",
    "# iris.Sepal.Length  # 에러 : 열 이름에 .이 있으면 iris.Sepal.Length로 접근 불가"
   ]
  },
  {
   "cell_type": "code",
   "execution_count": 144,
   "id": "755e4bcc",
   "metadata": {
    "ExecuteTime": {
     "end_time": "2024-11-25T07:51:13.258161Z",
     "start_time": "2024-11-25T07:51:13.250527Z"
    }
   },
   "outputs": [
    {
     "data": {
      "text/plain": [
       "['sepal_length', 'sepal_width', 'petal_length', 'petal_width', 'species']"
      ]
     },
     "execution_count": 144,
     "metadata": {},
     "output_type": "execute_result"
    }
   ],
   "source": [
    "[col.lower().replace('.', '_') for col in iris.columns]"
   ]
  },
  {
   "cell_type": "code",
   "execution_count": 145,
   "id": "0a7d3d6d",
   "metadata": {
    "ExecuteTime": {
     "end_time": "2024-11-25T07:51:49.863365Z",
     "start_time": "2024-11-25T07:51:49.849934Z"
    }
   },
   "outputs": [
    {
     "data": {
      "text/html": [
       "<div>\n",
       "<style scoped>\n",
       "    .dataframe tbody tr th:only-of-type {\n",
       "        vertical-align: middle;\n",
       "    }\n",
       "\n",
       "    .dataframe tbody tr th {\n",
       "        vertical-align: top;\n",
       "    }\n",
       "\n",
       "    .dataframe thead th {\n",
       "        text-align: right;\n",
       "    }\n",
       "</style>\n",
       "<table border=\"1\" class=\"dataframe\">\n",
       "  <thead>\n",
       "    <tr style=\"text-align: right;\">\n",
       "      <th></th>\n",
       "      <th>SepalLength</th>\n",
       "      <th>SepalWidth</th>\n",
       "      <th>PetalLength</th>\n",
       "      <th>PetalWidth</th>\n",
       "      <th>Species</th>\n",
       "    </tr>\n",
       "  </thead>\n",
       "  <tbody>\n",
       "    <tr>\n",
       "      <th>0</th>\n",
       "      <td>5.1</td>\n",
       "      <td>3.5</td>\n",
       "      <td>1.4</td>\n",
       "      <td>0.2</td>\n",
       "      <td>setosa</td>\n",
       "    </tr>\n",
       "  </tbody>\n",
       "</table>\n",
       "</div>"
      ],
      "text/plain": [
       "   SepalLength  SepalWidth  PetalLength  PetalWidth Species\n",
       "0          5.1         3.5          1.4         0.2  setosa"
      ]
     },
     "execution_count": 145,
     "metadata": {},
     "output_type": "execute_result"
    }
   ],
   "source": [
    "iris.columns = [col.replace('.', '') for col in iris.columns]\n",
    "iris.head(1)"
   ]
  },
  {
   "cell_type": "markdown",
   "id": "d941d8c1",
   "metadata": {},
   "source": [
    "## 2.6 seaborn 패키지의 iris"
   ]
  },
  {
   "cell_type": "code",
   "execution_count": 146,
   "id": "fb6529a2",
   "metadata": {
    "ExecuteTime": {
     "end_time": "2024-11-25T07:54:51.596243Z",
     "start_time": "2024-11-25T07:54:50.264723Z"
    }
   },
   "outputs": [
    {
     "data": {
      "text/html": [
       "<div>\n",
       "<style scoped>\n",
       "    .dataframe tbody tr th:only-of-type {\n",
       "        vertical-align: middle;\n",
       "    }\n",
       "\n",
       "    .dataframe tbody tr th {\n",
       "        vertical-align: top;\n",
       "    }\n",
       "\n",
       "    .dataframe thead th {\n",
       "        text-align: right;\n",
       "    }\n",
       "</style>\n",
       "<table border=\"1\" class=\"dataframe\">\n",
       "  <thead>\n",
       "    <tr style=\"text-align: right;\">\n",
       "      <th></th>\n",
       "      <th>sepal_length</th>\n",
       "      <th>sepal_width</th>\n",
       "      <th>petal_length</th>\n",
       "      <th>petal_width</th>\n",
       "      <th>species</th>\n",
       "    </tr>\n",
       "  </thead>\n",
       "  <tbody>\n",
       "    <tr>\n",
       "      <th>0</th>\n",
       "      <td>5.1</td>\n",
       "      <td>3.5</td>\n",
       "      <td>1.4</td>\n",
       "      <td>0.2</td>\n",
       "      <td>setosa</td>\n",
       "    </tr>\n",
       "  </tbody>\n",
       "</table>\n",
       "</div>"
      ],
      "text/plain": [
       "   sepal_length  sepal_width  petal_length  petal_width species\n",
       "0           5.1          3.5           1.4          0.2  setosa"
      ]
     },
     "execution_count": 146,
     "metadata": {},
     "output_type": "execute_result"
    }
   ],
   "source": [
    "# iris 데이터 가져오기 방법3 : seaborn\n",
    "import seaborn as sns\n",
    "iris = sns.load_dataset('iris')\n",
    "iris.head(1)"
   ]
  },
  {
   "cell_type": "code",
   "execution_count": 148,
   "id": "9f429649",
   "metadata": {
    "ExecuteTime": {
     "end_time": "2024-11-25T07:59:04.400740Z",
     "start_time": "2024-11-25T07:59:04.392745Z"
    }
   },
   "outputs": [],
   "source": [
    "# 데이터 프레임을 파일로 출력하기\n",
    "iris.to_csv('data/ch12_iris.csv',  # 4k\n",
    "           sep=',', mode='w', encoding='utf-8',  # 기본값 생략 가능\n",
    "           index=False)  # 행 이름이 생략돼서 파일 출력"
   ]
  },
  {
   "cell_type": "code",
   "execution_count": 149,
   "id": "4a3b1d05",
   "metadata": {
    "ExecuteTime": {
     "end_time": "2024-11-25T08:01:33.726152Z",
     "start_time": "2024-11-25T08:01:33.718181Z"
    }
   },
   "outputs": [],
   "source": [
    "iris.to_csv('data/ch12_iris.csv.gz',  # 1k\n",
    "           index=False,\n",
    "           compression='infer')"
   ]
  },
  {
   "cell_type": "code",
   "execution_count": 150,
   "id": "d901790f",
   "metadata": {
    "ExecuteTime": {
     "end_time": "2024-11-25T08:03:04.756516Z",
     "start_time": "2024-11-25T08:03:04.740517Z"
    }
   },
   "outputs": [
    {
     "data": {
      "text/html": [
       "<div>\n",
       "<style scoped>\n",
       "    .dataframe tbody tr th:only-of-type {\n",
       "        vertical-align: middle;\n",
       "    }\n",
       "\n",
       "    .dataframe tbody tr th {\n",
       "        vertical-align: top;\n",
       "    }\n",
       "\n",
       "    .dataframe thead th {\n",
       "        text-align: right;\n",
       "    }\n",
       "</style>\n",
       "<table border=\"1\" class=\"dataframe\">\n",
       "  <thead>\n",
       "    <tr style=\"text-align: right;\">\n",
       "      <th></th>\n",
       "      <th>sepal_length</th>\n",
       "      <th>sepal_width</th>\n",
       "      <th>petal_length</th>\n",
       "      <th>petal_width</th>\n",
       "      <th>species</th>\n",
       "    </tr>\n",
       "  </thead>\n",
       "  <tbody>\n",
       "    <tr>\n",
       "      <th>0</th>\n",
       "      <td>5.1</td>\n",
       "      <td>3.5</td>\n",
       "      <td>1.4</td>\n",
       "      <td>0.2</td>\n",
       "      <td>setosa</td>\n",
       "    </tr>\n",
       "  </tbody>\n",
       "</table>\n",
       "</div>"
      ],
      "text/plain": [
       "   sepal_length  sepal_width  petal_length  petal_width species\n",
       "0           5.1          3.5           1.4          0.2  setosa"
      ]
     },
     "execution_count": 150,
     "metadata": {},
     "output_type": "execute_result"
    }
   ],
   "source": [
    "read_iris = pd.read_csv('data/ch12_iris.csv.gz', compression='infer')\n",
    "read_iris.head(1)"
   ]
  },
  {
   "cell_type": "markdown",
   "id": "9a774d2a",
   "metadata": {},
   "source": [
    "# 3절. 이름(열, 행) 지정하기\n",
    "## 3.1 열이름 지정하기"
   ]
  },
  {
   "cell_type": "code",
   "execution_count": 152,
   "id": "5858cc0e",
   "metadata": {
    "ExecuteTime": {
     "end_time": "2024-11-25T08:18:42.090540Z",
     "start_time": "2024-11-25T08:18:42.076858Z"
    }
   },
   "outputs": [
    {
     "data": {
      "text/html": [
       "<div>\n",
       "<style scoped>\n",
       "    .dataframe tbody tr th:only-of-type {\n",
       "        vertical-align: middle;\n",
       "    }\n",
       "\n",
       "    .dataframe tbody tr th {\n",
       "        vertical-align: top;\n",
       "    }\n",
       "\n",
       "    .dataframe thead th {\n",
       "        text-align: right;\n",
       "    }\n",
       "</style>\n",
       "<table border=\"1\" class=\"dataframe\">\n",
       "  <thead>\n",
       "    <tr style=\"text-align: right;\">\n",
       "      <th></th>\n",
       "      <th>Name</th>\n",
       "      <th>Age</th>\n",
       "      <th>Email</th>\n",
       "      <th>Address</th>\n",
       "      <th>Birth</th>\n",
       "    </tr>\n",
       "  </thead>\n",
       "  <tbody>\n",
       "    <tr>\n",
       "      <th>0</th>\n",
       "      <td>홍길동</td>\n",
       "      <td>20</td>\n",
       "      <td>hong@hong.com</td>\n",
       "      <td>서울시 강동구</td>\n",
       "      <td>1999-01-01</td>\n",
       "    </tr>\n",
       "    <tr>\n",
       "      <th>1</th>\n",
       "      <td>홍길서</td>\n",
       "      <td>30</td>\n",
       "      <td>seo@hong.com</td>\n",
       "      <td>서울시 중구</td>\n",
       "      <td>1999-12-01</td>\n",
       "    </tr>\n",
       "    <tr>\n",
       "      <th>2</th>\n",
       "      <td>홍길남</td>\n",
       "      <td>21</td>\n",
       "      <td>nam@hong.com</td>\n",
       "      <td>서울시 강동구</td>\n",
       "      <td>1999-11-01</td>\n",
       "    </tr>\n",
       "    <tr>\n",
       "      <th>3</th>\n",
       "      <td>홍길북</td>\n",
       "      <td>22</td>\n",
       "      <td>buk@hong.com</td>\n",
       "      <td>서울시 관악구</td>\n",
       "      <td>1999-05-01</td>\n",
       "    </tr>\n",
       "    <tr>\n",
       "      <th>4</th>\n",
       "      <td>홍길중</td>\n",
       "      <td>23</td>\n",
       "      <td>mid@hong.com</td>\n",
       "      <td>부산시 중구</td>\n",
       "      <td>1999-01-30</td>\n",
       "    </tr>\n",
       "  </tbody>\n",
       "</table>\n",
       "</div>"
      ],
      "text/plain": [
       "  Name  Age          Email  Address       Birth\n",
       "0  홍길동   20  hong@hong.com  서울시 강동구  1999-01-01\n",
       "1  홍길서   30   seo@hong.com   서울시 중구  1999-12-01\n",
       "2  홍길남   21   nam@hong.com  서울시 강동구  1999-11-01\n",
       "3  홍길북   22   buk@hong.com  서울시 관악구  1999-05-01\n",
       "4  홍길중   23   mid@hong.com   부산시 중구  1999-01-30"
      ]
     },
     "execution_count": 152,
     "metadata": {},
     "output_type": "execute_result"
    }
   ],
   "source": [
    "member = pd.read_csv('data/ch12_member.csv', comment='#')  # '#' 제외하고(주석처리)\n",
    "member"
   ]
  },
  {
   "cell_type": "code",
   "execution_count": 153,
   "id": "d1b0ff8d",
   "metadata": {
    "ExecuteTime": {
     "end_time": "2024-11-25T08:19:50.426008Z",
     "start_time": "2024-11-25T08:19:50.419011Z"
    }
   },
   "outputs": [
    {
     "data": {
      "text/plain": [
       "Index(['Name', 'Age', 'Email', 'Address', 'Birth'], dtype='object')"
      ]
     },
     "execution_count": 153,
     "metadata": {},
     "output_type": "execute_result"
    }
   ],
   "source": [
    "member.columns"
   ]
  },
  {
   "cell_type": "code",
   "execution_count": 155,
   "id": "dad85a3e",
   "metadata": {
    "ExecuteTime": {
     "end_time": "2024-11-25T08:21:08.782715Z",
     "start_time": "2024-11-25T08:21:08.770305Z"
    }
   },
   "outputs": [
    {
     "data": {
      "text/html": [
       "<div>\n",
       "<style scoped>\n",
       "    .dataframe tbody tr th:only-of-type {\n",
       "        vertical-align: middle;\n",
       "    }\n",
       "\n",
       "    .dataframe tbody tr th {\n",
       "        vertical-align: top;\n",
       "    }\n",
       "\n",
       "    .dataframe thead th {\n",
       "        text-align: right;\n",
       "    }\n",
       "</style>\n",
       "<table border=\"1\" class=\"dataframe\">\n",
       "  <thead>\n",
       "    <tr style=\"text-align: right;\">\n",
       "      <th></th>\n",
       "      <th>이름</th>\n",
       "      <th>나이</th>\n",
       "      <th>메일</th>\n",
       "      <th>주소</th>\n",
       "      <th>생년월일</th>\n",
       "    </tr>\n",
       "  </thead>\n",
       "  <tbody>\n",
       "    <tr>\n",
       "      <th>0</th>\n",
       "      <td>홍길동</td>\n",
       "      <td>20</td>\n",
       "      <td>hong@hong.com</td>\n",
       "      <td>서울시 강동구</td>\n",
       "      <td>1999-01-01</td>\n",
       "    </tr>\n",
       "    <tr>\n",
       "      <th>1</th>\n",
       "      <td>홍길서</td>\n",
       "      <td>30</td>\n",
       "      <td>seo@hong.com</td>\n",
       "      <td>서울시 중구</td>\n",
       "      <td>1999-12-01</td>\n",
       "    </tr>\n",
       "    <tr>\n",
       "      <th>2</th>\n",
       "      <td>홍길남</td>\n",
       "      <td>21</td>\n",
       "      <td>nam@hong.com</td>\n",
       "      <td>서울시 강동구</td>\n",
       "      <td>1999-11-01</td>\n",
       "    </tr>\n",
       "    <tr>\n",
       "      <th>3</th>\n",
       "      <td>홍길북</td>\n",
       "      <td>22</td>\n",
       "      <td>buk@hong.com</td>\n",
       "      <td>서울시 관악구</td>\n",
       "      <td>1999-05-01</td>\n",
       "    </tr>\n",
       "    <tr>\n",
       "      <th>4</th>\n",
       "      <td>홍길중</td>\n",
       "      <td>23</td>\n",
       "      <td>mid@hong.com</td>\n",
       "      <td>부산시 중구</td>\n",
       "      <td>1999-01-30</td>\n",
       "    </tr>\n",
       "  </tbody>\n",
       "</table>\n",
       "</div>"
      ],
      "text/plain": [
       "    이름  나이             메일       주소        생년월일\n",
       "0  홍길동  20  hong@hong.com  서울시 강동구  1999-01-01\n",
       "1  홍길서  30   seo@hong.com   서울시 중구  1999-12-01\n",
       "2  홍길남  21   nam@hong.com  서울시 강동구  1999-11-01\n",
       "3  홍길북  22   buk@hong.com  서울시 관악구  1999-05-01\n",
       "4  홍길중  23   mid@hong.com   부산시 중구  1999-01-30"
      ]
     },
     "execution_count": 155,
     "metadata": {},
     "output_type": "execute_result"
    }
   ],
   "source": [
    "member.columns = ['이름', '나이', '메일', '주소', '생년월일']\n",
    "member"
   ]
  },
  {
   "cell_type": "markdown",
   "id": "68e3b608",
   "metadata": {},
   "source": [
    "## 3.2 행이름 지정하기"
   ]
  },
  {
   "cell_type": "code",
   "execution_count": 156,
   "id": "7d686cd8",
   "metadata": {
    "ExecuteTime": {
     "end_time": "2024-11-25T08:21:49.217287Z",
     "start_time": "2024-11-25T08:21:49.210982Z"
    }
   },
   "outputs": [
    {
     "data": {
      "text/plain": [
       "RangeIndex(start=0, stop=5, step=1)"
      ]
     },
     "execution_count": 156,
     "metadata": {},
     "output_type": "execute_result"
    }
   ],
   "source": [
    "member.index"
   ]
  },
  {
   "cell_type": "code",
   "execution_count": 157,
   "id": "a136395a",
   "metadata": {
    "ExecuteTime": {
     "end_time": "2024-11-25T08:22:11.821464Z",
     "start_time": "2024-11-25T08:22:11.810116Z"
    }
   },
   "outputs": [
    {
     "data": {
      "text/html": [
       "<div>\n",
       "<style scoped>\n",
       "    .dataframe tbody tr th:only-of-type {\n",
       "        vertical-align: middle;\n",
       "    }\n",
       "\n",
       "    .dataframe tbody tr th {\n",
       "        vertical-align: top;\n",
       "    }\n",
       "\n",
       "    .dataframe thead th {\n",
       "        text-align: right;\n",
       "    }\n",
       "</style>\n",
       "<table border=\"1\" class=\"dataframe\">\n",
       "  <thead>\n",
       "    <tr style=\"text-align: right;\">\n",
       "      <th></th>\n",
       "      <th>이름</th>\n",
       "      <th>나이</th>\n",
       "      <th>메일</th>\n",
       "      <th>주소</th>\n",
       "      <th>생년월일</th>\n",
       "    </tr>\n",
       "  </thead>\n",
       "  <tbody>\n",
       "    <tr>\n",
       "      <th>10</th>\n",
       "      <td>홍길동</td>\n",
       "      <td>20</td>\n",
       "      <td>hong@hong.com</td>\n",
       "      <td>서울시 강동구</td>\n",
       "      <td>1999-01-01</td>\n",
       "    </tr>\n",
       "    <tr>\n",
       "      <th>11</th>\n",
       "      <td>홍길서</td>\n",
       "      <td>30</td>\n",
       "      <td>seo@hong.com</td>\n",
       "      <td>서울시 중구</td>\n",
       "      <td>1999-12-01</td>\n",
       "    </tr>\n",
       "    <tr>\n",
       "      <th>12</th>\n",
       "      <td>홍길남</td>\n",
       "      <td>21</td>\n",
       "      <td>nam@hong.com</td>\n",
       "      <td>서울시 강동구</td>\n",
       "      <td>1999-11-01</td>\n",
       "    </tr>\n",
       "    <tr>\n",
       "      <th>13</th>\n",
       "      <td>홍길북</td>\n",
       "      <td>22</td>\n",
       "      <td>buk@hong.com</td>\n",
       "      <td>서울시 관악구</td>\n",
       "      <td>1999-05-01</td>\n",
       "    </tr>\n",
       "    <tr>\n",
       "      <th>14</th>\n",
       "      <td>홍길중</td>\n",
       "      <td>23</td>\n",
       "      <td>mid@hong.com</td>\n",
       "      <td>부산시 중구</td>\n",
       "      <td>1999-01-30</td>\n",
       "    </tr>\n",
       "  </tbody>\n",
       "</table>\n",
       "</div>"
      ],
      "text/plain": [
       "     이름  나이             메일       주소        생년월일\n",
       "10  홍길동  20  hong@hong.com  서울시 강동구  1999-01-01\n",
       "11  홍길서  30   seo@hong.com   서울시 중구  1999-12-01\n",
       "12  홍길남  21   nam@hong.com  서울시 강동구  1999-11-01\n",
       "13  홍길북  22   buk@hong.com  서울시 관악구  1999-05-01\n",
       "14  홍길중  23   mid@hong.com   부산시 중구  1999-01-30"
      ]
     },
     "execution_count": 157,
     "metadata": {},
     "output_type": "execute_result"
    }
   ],
   "source": [
    "member.index = range(10, 15)\n",
    "member"
   ]
  },
  {
   "cell_type": "code",
   "execution_count": 158,
   "id": "b7c8d155",
   "metadata": {
    "ExecuteTime": {
     "end_time": "2024-11-25T08:22:47.165698Z",
     "start_time": "2024-11-25T08:22:47.153649Z"
    }
   },
   "outputs": [
    {
     "data": {
      "text/html": [
       "<div>\n",
       "<style scoped>\n",
       "    .dataframe tbody tr th:only-of-type {\n",
       "        vertical-align: middle;\n",
       "    }\n",
       "\n",
       "    .dataframe tbody tr th {\n",
       "        vertical-align: top;\n",
       "    }\n",
       "\n",
       "    .dataframe thead th {\n",
       "        text-align: right;\n",
       "    }\n",
       "</style>\n",
       "<table border=\"1\" class=\"dataframe\">\n",
       "  <thead>\n",
       "    <tr style=\"text-align: right;\">\n",
       "      <th></th>\n",
       "      <th>이름</th>\n",
       "      <th>나이</th>\n",
       "      <th>메일</th>\n",
       "      <th>주소</th>\n",
       "      <th>생년월일</th>\n",
       "    </tr>\n",
       "  </thead>\n",
       "  <tbody>\n",
       "    <tr>\n",
       "      <th>동</th>\n",
       "      <td>홍길동</td>\n",
       "      <td>20</td>\n",
       "      <td>hong@hong.com</td>\n",
       "      <td>서울시 강동구</td>\n",
       "      <td>1999-01-01</td>\n",
       "    </tr>\n",
       "    <tr>\n",
       "      <th>서</th>\n",
       "      <td>홍길서</td>\n",
       "      <td>30</td>\n",
       "      <td>seo@hong.com</td>\n",
       "      <td>서울시 중구</td>\n",
       "      <td>1999-12-01</td>\n",
       "    </tr>\n",
       "    <tr>\n",
       "      <th>남</th>\n",
       "      <td>홍길남</td>\n",
       "      <td>21</td>\n",
       "      <td>nam@hong.com</td>\n",
       "      <td>서울시 강동구</td>\n",
       "      <td>1999-11-01</td>\n",
       "    </tr>\n",
       "    <tr>\n",
       "      <th>북</th>\n",
       "      <td>홍길북</td>\n",
       "      <td>22</td>\n",
       "      <td>buk@hong.com</td>\n",
       "      <td>서울시 관악구</td>\n",
       "      <td>1999-05-01</td>\n",
       "    </tr>\n",
       "    <tr>\n",
       "      <th>중</th>\n",
       "      <td>홍길중</td>\n",
       "      <td>23</td>\n",
       "      <td>mid@hong.com</td>\n",
       "      <td>부산시 중구</td>\n",
       "      <td>1999-01-30</td>\n",
       "    </tr>\n",
       "  </tbody>\n",
       "</table>\n",
       "</div>"
      ],
      "text/plain": [
       "    이름  나이             메일       주소        생년월일\n",
       "동  홍길동  20  hong@hong.com  서울시 강동구  1999-01-01\n",
       "서  홍길서  30   seo@hong.com   서울시 중구  1999-12-01\n",
       "남  홍길남  21   nam@hong.com  서울시 강동구  1999-11-01\n",
       "북  홍길북  22   buk@hong.com  서울시 관악구  1999-05-01\n",
       "중  홍길중  23   mid@hong.com   부산시 중구  1999-01-30"
      ]
     },
     "execution_count": 158,
     "metadata": {},
     "output_type": "execute_result"
    }
   ],
   "source": [
    "member.index = ['동', '서', '남', '북', '중']\n",
    "member"
   ]
  },
  {
   "cell_type": "code",
   "execution_count": 161,
   "id": "26d10ff2",
   "metadata": {
    "ExecuteTime": {
     "end_time": "2024-11-25T08:26:34.101573Z",
     "start_time": "2024-11-25T08:26:34.095581Z"
    }
   },
   "outputs": [
    {
     "data": {
      "text/plain": [
       "'홍길서'"
      ]
     },
     "execution_count": 161,
     "metadata": {},
     "output_type": "execute_result"
    }
   ],
   "source": [
    "member['이름']['서']"
   ]
  },
  {
   "cell_type": "code",
   "execution_count": 162,
   "id": "286ac035",
   "metadata": {
    "ExecuteTime": {
     "end_time": "2024-11-25T08:27:12.736455Z",
     "start_time": "2024-11-25T08:27:12.729306Z"
    }
   },
   "outputs": [
    {
     "data": {
      "text/plain": [
       "'홍길서'"
      ]
     },
     "execution_count": 162,
     "metadata": {},
     "output_type": "execute_result"
    }
   ],
   "source": [
    "member.loc['서', '이름']  # log : 행이름과 열이름으로 데이터 프레임의 부분 데이터 조회"
   ]
  },
  {
   "cell_type": "code",
   "execution_count": 164,
   "id": "4f99244a",
   "metadata": {
    "ExecuteTime": {
     "end_time": "2024-11-25T08:33:10.330193Z",
     "start_time": "2024-11-25T08:33:10.317204Z"
    }
   },
   "outputs": [
    {
     "data": {
      "text/html": [
       "<div>\n",
       "<style scoped>\n",
       "    .dataframe tbody tr th:only-of-type {\n",
       "        vertical-align: middle;\n",
       "    }\n",
       "\n",
       "    .dataframe tbody tr th {\n",
       "        vertical-align: top;\n",
       "    }\n",
       "\n",
       "    .dataframe thead th {\n",
       "        text-align: right;\n",
       "    }\n",
       "</style>\n",
       "<table border=\"1\" class=\"dataframe\">\n",
       "  <thead>\n",
       "    <tr style=\"text-align: right;\">\n",
       "      <th></th>\n",
       "      <th>나이</th>\n",
       "      <th>메일</th>\n",
       "      <th>주소</th>\n",
       "      <th>생년월일</th>\n",
       "    </tr>\n",
       "    <tr>\n",
       "      <th>이름</th>\n",
       "      <th></th>\n",
       "      <th></th>\n",
       "      <th></th>\n",
       "      <th></th>\n",
       "    </tr>\n",
       "  </thead>\n",
       "  <tbody>\n",
       "    <tr>\n",
       "      <th>홍길동</th>\n",
       "      <td>20</td>\n",
       "      <td>hong@hong.com</td>\n",
       "      <td>서울시 강동구</td>\n",
       "      <td>1999-01-01</td>\n",
       "    </tr>\n",
       "    <tr>\n",
       "      <th>홍길서</th>\n",
       "      <td>30</td>\n",
       "      <td>seo@hong.com</td>\n",
       "      <td>서울시 중구</td>\n",
       "      <td>1999-12-01</td>\n",
       "    </tr>\n",
       "    <tr>\n",
       "      <th>홍길남</th>\n",
       "      <td>21</td>\n",
       "      <td>nam@hong.com</td>\n",
       "      <td>서울시 강동구</td>\n",
       "      <td>1999-11-01</td>\n",
       "    </tr>\n",
       "    <tr>\n",
       "      <th>홍길북</th>\n",
       "      <td>22</td>\n",
       "      <td>buk@hong.com</td>\n",
       "      <td>서울시 관악구</td>\n",
       "      <td>1999-05-01</td>\n",
       "    </tr>\n",
       "    <tr>\n",
       "      <th>홍길중</th>\n",
       "      <td>23</td>\n",
       "      <td>mid@hong.com</td>\n",
       "      <td>부산시 중구</td>\n",
       "      <td>1999-01-30</td>\n",
       "    </tr>\n",
       "  </tbody>\n",
       "</table>\n",
       "</div>"
      ],
      "text/plain": [
       "     나이             메일       주소        생년월일\n",
       "이름                                         \n",
       "홍길동  20  hong@hong.com  서울시 강동구  1999-01-01\n",
       "홍길서  30   seo@hong.com   서울시 중구  1999-12-01\n",
       "홍길남  21   nam@hong.com  서울시 강동구  1999-11-01\n",
       "홍길북  22   buk@hong.com  서울시 관악구  1999-05-01\n",
       "홍길중  23   mid@hong.com   부산시 중구  1999-01-30"
      ]
     },
     "execution_count": 164,
     "metadata": {},
     "output_type": "execute_result"
    }
   ],
   "source": [
    "# 이름을 행이름으로 (실행결과가 출력돼서 나오면 return될 뿐, member는 바뀌지 않음)\n",
    "# member를 수정하려면 (1) 할당 (2) inplace 매개변수에 True\n",
    "member1 = member.set_index('이름')\n",
    "member1"
   ]
  },
  {
   "cell_type": "code",
   "execution_count": 166,
   "id": "0ed2530c",
   "metadata": {
    "ExecuteTime": {
     "end_time": "2024-11-25T08:33:45.617459Z",
     "start_time": "2024-11-25T08:33:45.612461Z"
    }
   },
   "outputs": [],
   "source": [
    "member.set_index('이름', inplace=True)"
   ]
  },
  {
   "cell_type": "code",
   "execution_count": 167,
   "id": "a8046136",
   "metadata": {
    "ExecuteTime": {
     "end_time": "2024-11-25T08:33:54.238161Z",
     "start_time": "2024-11-25T08:33:54.227471Z"
    }
   },
   "outputs": [
    {
     "data": {
      "text/html": [
       "<div>\n",
       "<style scoped>\n",
       "    .dataframe tbody tr th:only-of-type {\n",
       "        vertical-align: middle;\n",
       "    }\n",
       "\n",
       "    .dataframe tbody tr th {\n",
       "        vertical-align: top;\n",
       "    }\n",
       "\n",
       "    .dataframe thead th {\n",
       "        text-align: right;\n",
       "    }\n",
       "</style>\n",
       "<table border=\"1\" class=\"dataframe\">\n",
       "  <thead>\n",
       "    <tr style=\"text-align: right;\">\n",
       "      <th></th>\n",
       "      <th>나이</th>\n",
       "      <th>메일</th>\n",
       "      <th>주소</th>\n",
       "      <th>생년월일</th>\n",
       "    </tr>\n",
       "    <tr>\n",
       "      <th>이름</th>\n",
       "      <th></th>\n",
       "      <th></th>\n",
       "      <th></th>\n",
       "      <th></th>\n",
       "    </tr>\n",
       "  </thead>\n",
       "  <tbody>\n",
       "    <tr>\n",
       "      <th>홍길동</th>\n",
       "      <td>20</td>\n",
       "      <td>hong@hong.com</td>\n",
       "      <td>서울시 강동구</td>\n",
       "      <td>1999-01-01</td>\n",
       "    </tr>\n",
       "    <tr>\n",
       "      <th>홍길서</th>\n",
       "      <td>30</td>\n",
       "      <td>seo@hong.com</td>\n",
       "      <td>서울시 중구</td>\n",
       "      <td>1999-12-01</td>\n",
       "    </tr>\n",
       "    <tr>\n",
       "      <th>홍길남</th>\n",
       "      <td>21</td>\n",
       "      <td>nam@hong.com</td>\n",
       "      <td>서울시 강동구</td>\n",
       "      <td>1999-11-01</td>\n",
       "    </tr>\n",
       "    <tr>\n",
       "      <th>홍길북</th>\n",
       "      <td>22</td>\n",
       "      <td>buk@hong.com</td>\n",
       "      <td>서울시 관악구</td>\n",
       "      <td>1999-05-01</td>\n",
       "    </tr>\n",
       "    <tr>\n",
       "      <th>홍길중</th>\n",
       "      <td>23</td>\n",
       "      <td>mid@hong.com</td>\n",
       "      <td>부산시 중구</td>\n",
       "      <td>1999-01-30</td>\n",
       "    </tr>\n",
       "  </tbody>\n",
       "</table>\n",
       "</div>"
      ],
      "text/plain": [
       "     나이             메일       주소        생년월일\n",
       "이름                                         \n",
       "홍길동  20  hong@hong.com  서울시 강동구  1999-01-01\n",
       "홍길서  30   seo@hong.com   서울시 중구  1999-12-01\n",
       "홍길남  21   nam@hong.com  서울시 강동구  1999-11-01\n",
       "홍길북  22   buk@hong.com  서울시 관악구  1999-05-01\n",
       "홍길중  23   mid@hong.com   부산시 중구  1999-01-30"
      ]
     },
     "execution_count": 167,
     "metadata": {},
     "output_type": "execute_result"
    }
   ],
   "source": [
    "member"
   ]
  },
  {
   "cell_type": "code",
   "execution_count": 168,
   "id": "0b835019",
   "metadata": {
    "ExecuteTime": {
     "end_time": "2024-11-25T08:35:30.897812Z",
     "start_time": "2024-11-25T08:35:30.890814Z"
    }
   },
   "outputs": [
    {
     "data": {
      "text/plain": [
       "Index(['홍길동', '홍길서', '홍길남', '홍길북', '홍길중'], dtype='object', name='이름')"
      ]
     },
     "execution_count": 168,
     "metadata": {},
     "output_type": "execute_result"
    }
   ],
   "source": [
    "member.index"
   ]
  },
  {
   "cell_type": "code",
   "execution_count": 169,
   "id": "96ab688b",
   "metadata": {
    "ExecuteTime": {
     "end_time": "2024-11-25T08:36:43.095485Z",
     "start_time": "2024-11-25T08:36:43.081887Z"
    }
   },
   "outputs": [
    {
     "data": {
      "text/html": [
       "<div>\n",
       "<style scoped>\n",
       "    .dataframe tbody tr th:only-of-type {\n",
       "        vertical-align: middle;\n",
       "    }\n",
       "\n",
       "    .dataframe tbody tr th {\n",
       "        vertical-align: top;\n",
       "    }\n",
       "\n",
       "    .dataframe thead th {\n",
       "        text-align: right;\n",
       "    }\n",
       "</style>\n",
       "<table border=\"1\" class=\"dataframe\">\n",
       "  <thead>\n",
       "    <tr style=\"text-align: right;\">\n",
       "      <th></th>\n",
       "      <th>이름</th>\n",
       "      <th>나이</th>\n",
       "      <th>메일</th>\n",
       "      <th>주소</th>\n",
       "      <th>생년월일</th>\n",
       "    </tr>\n",
       "  </thead>\n",
       "  <tbody>\n",
       "    <tr>\n",
       "      <th>0</th>\n",
       "      <td>홍길동</td>\n",
       "      <td>20</td>\n",
       "      <td>hong@hong.com</td>\n",
       "      <td>서울시 강동구</td>\n",
       "      <td>1999-01-01</td>\n",
       "    </tr>\n",
       "    <tr>\n",
       "      <th>1</th>\n",
       "      <td>홍길서</td>\n",
       "      <td>30</td>\n",
       "      <td>seo@hong.com</td>\n",
       "      <td>서울시 중구</td>\n",
       "      <td>1999-12-01</td>\n",
       "    </tr>\n",
       "    <tr>\n",
       "      <th>2</th>\n",
       "      <td>홍길남</td>\n",
       "      <td>21</td>\n",
       "      <td>nam@hong.com</td>\n",
       "      <td>서울시 강동구</td>\n",
       "      <td>1999-11-01</td>\n",
       "    </tr>\n",
       "    <tr>\n",
       "      <th>3</th>\n",
       "      <td>홍길북</td>\n",
       "      <td>22</td>\n",
       "      <td>buk@hong.com</td>\n",
       "      <td>서울시 관악구</td>\n",
       "      <td>1999-05-01</td>\n",
       "    </tr>\n",
       "    <tr>\n",
       "      <th>4</th>\n",
       "      <td>홍길중</td>\n",
       "      <td>23</td>\n",
       "      <td>mid@hong.com</td>\n",
       "      <td>부산시 중구</td>\n",
       "      <td>1999-01-30</td>\n",
       "    </tr>\n",
       "  </tbody>\n",
       "</table>\n",
       "</div>"
      ],
      "text/plain": [
       "    이름  나이             메일       주소        생년월일\n",
       "0  홍길동  20  hong@hong.com  서울시 강동구  1999-01-01\n",
       "1  홍길서  30   seo@hong.com   서울시 중구  1999-12-01\n",
       "2  홍길남  21   nam@hong.com  서울시 강동구  1999-11-01\n",
       "3  홍길북  22   buk@hong.com  서울시 관악구  1999-05-01\n",
       "4  홍길중  23   mid@hong.com   부산시 중구  1999-01-30"
      ]
     },
     "execution_count": 169,
     "metadata": {},
     "output_type": "execute_result"
    }
   ],
   "source": [
    "# 인덱스를 컬럼에 편입시키기\n",
    "member.reset_index()"
   ]
  },
  {
   "cell_type": "code",
   "execution_count": 170,
   "id": "1bd4ba86",
   "metadata": {
    "ExecuteTime": {
     "end_time": "2024-11-25T08:36:56.845637Z",
     "start_time": "2024-11-25T08:36:56.833867Z"
    }
   },
   "outputs": [
    {
     "data": {
      "text/html": [
       "<div>\n",
       "<style scoped>\n",
       "    .dataframe tbody tr th:only-of-type {\n",
       "        vertical-align: middle;\n",
       "    }\n",
       "\n",
       "    .dataframe tbody tr th {\n",
       "        vertical-align: top;\n",
       "    }\n",
       "\n",
       "    .dataframe thead th {\n",
       "        text-align: right;\n",
       "    }\n",
       "</style>\n",
       "<table border=\"1\" class=\"dataframe\">\n",
       "  <thead>\n",
       "    <tr style=\"text-align: right;\">\n",
       "      <th></th>\n",
       "      <th>나이</th>\n",
       "      <th>메일</th>\n",
       "      <th>주소</th>\n",
       "      <th>생년월일</th>\n",
       "    </tr>\n",
       "    <tr>\n",
       "      <th>이름</th>\n",
       "      <th></th>\n",
       "      <th></th>\n",
       "      <th></th>\n",
       "      <th></th>\n",
       "    </tr>\n",
       "  </thead>\n",
       "  <tbody>\n",
       "    <tr>\n",
       "      <th>홍길동</th>\n",
       "      <td>20</td>\n",
       "      <td>hong@hong.com</td>\n",
       "      <td>서울시 강동구</td>\n",
       "      <td>1999-01-01</td>\n",
       "    </tr>\n",
       "    <tr>\n",
       "      <th>홍길서</th>\n",
       "      <td>30</td>\n",
       "      <td>seo@hong.com</td>\n",
       "      <td>서울시 중구</td>\n",
       "      <td>1999-12-01</td>\n",
       "    </tr>\n",
       "    <tr>\n",
       "      <th>홍길남</th>\n",
       "      <td>21</td>\n",
       "      <td>nam@hong.com</td>\n",
       "      <td>서울시 강동구</td>\n",
       "      <td>1999-11-01</td>\n",
       "    </tr>\n",
       "    <tr>\n",
       "      <th>홍길북</th>\n",
       "      <td>22</td>\n",
       "      <td>buk@hong.com</td>\n",
       "      <td>서울시 관악구</td>\n",
       "      <td>1999-05-01</td>\n",
       "    </tr>\n",
       "    <tr>\n",
       "      <th>홍길중</th>\n",
       "      <td>23</td>\n",
       "      <td>mid@hong.com</td>\n",
       "      <td>부산시 중구</td>\n",
       "      <td>1999-01-30</td>\n",
       "    </tr>\n",
       "  </tbody>\n",
       "</table>\n",
       "</div>"
      ],
      "text/plain": [
       "     나이             메일       주소        생년월일\n",
       "이름                                         \n",
       "홍길동  20  hong@hong.com  서울시 강동구  1999-01-01\n",
       "홍길서  30   seo@hong.com   서울시 중구  1999-12-01\n",
       "홍길남  21   nam@hong.com  서울시 강동구  1999-11-01\n",
       "홍길북  22   buk@hong.com  서울시 관악구  1999-05-01\n",
       "홍길중  23   mid@hong.com   부산시 중구  1999-01-30"
      ]
     },
     "execution_count": 170,
     "metadata": {},
     "output_type": "execute_result"
    }
   ],
   "source": [
    "member"
   ]
  },
  {
   "cell_type": "code",
   "execution_count": 171,
   "id": "f3e26a65",
   "metadata": {
    "ExecuteTime": {
     "end_time": "2024-11-25T08:37:34.511468Z",
     "start_time": "2024-11-25T08:37:34.506472Z"
    }
   },
   "outputs": [],
   "source": [
    "member.reset_index(inplace=True)"
   ]
  },
  {
   "cell_type": "code",
   "execution_count": 172,
   "id": "9da670bc",
   "metadata": {
    "ExecuteTime": {
     "end_time": "2024-11-25T08:37:37.414480Z",
     "start_time": "2024-11-25T08:37:37.402109Z"
    }
   },
   "outputs": [
    {
     "data": {
      "text/html": [
       "<div>\n",
       "<style scoped>\n",
       "    .dataframe tbody tr th:only-of-type {\n",
       "        vertical-align: middle;\n",
       "    }\n",
       "\n",
       "    .dataframe tbody tr th {\n",
       "        vertical-align: top;\n",
       "    }\n",
       "\n",
       "    .dataframe thead th {\n",
       "        text-align: right;\n",
       "    }\n",
       "</style>\n",
       "<table border=\"1\" class=\"dataframe\">\n",
       "  <thead>\n",
       "    <tr style=\"text-align: right;\">\n",
       "      <th></th>\n",
       "      <th>이름</th>\n",
       "      <th>나이</th>\n",
       "      <th>메일</th>\n",
       "      <th>주소</th>\n",
       "      <th>생년월일</th>\n",
       "    </tr>\n",
       "  </thead>\n",
       "  <tbody>\n",
       "    <tr>\n",
       "      <th>0</th>\n",
       "      <td>홍길동</td>\n",
       "      <td>20</td>\n",
       "      <td>hong@hong.com</td>\n",
       "      <td>서울시 강동구</td>\n",
       "      <td>1999-01-01</td>\n",
       "    </tr>\n",
       "    <tr>\n",
       "      <th>1</th>\n",
       "      <td>홍길서</td>\n",
       "      <td>30</td>\n",
       "      <td>seo@hong.com</td>\n",
       "      <td>서울시 중구</td>\n",
       "      <td>1999-12-01</td>\n",
       "    </tr>\n",
       "    <tr>\n",
       "      <th>2</th>\n",
       "      <td>홍길남</td>\n",
       "      <td>21</td>\n",
       "      <td>nam@hong.com</td>\n",
       "      <td>서울시 강동구</td>\n",
       "      <td>1999-11-01</td>\n",
       "    </tr>\n",
       "    <tr>\n",
       "      <th>3</th>\n",
       "      <td>홍길북</td>\n",
       "      <td>22</td>\n",
       "      <td>buk@hong.com</td>\n",
       "      <td>서울시 관악구</td>\n",
       "      <td>1999-05-01</td>\n",
       "    </tr>\n",
       "    <tr>\n",
       "      <th>4</th>\n",
       "      <td>홍길중</td>\n",
       "      <td>23</td>\n",
       "      <td>mid@hong.com</td>\n",
       "      <td>부산시 중구</td>\n",
       "      <td>1999-01-30</td>\n",
       "    </tr>\n",
       "  </tbody>\n",
       "</table>\n",
       "</div>"
      ],
      "text/plain": [
       "    이름  나이             메일       주소        생년월일\n",
       "0  홍길동  20  hong@hong.com  서울시 강동구  1999-01-01\n",
       "1  홍길서  30   seo@hong.com   서울시 중구  1999-12-01\n",
       "2  홍길남  21   nam@hong.com  서울시 강동구  1999-11-01\n",
       "3  홍길북  22   buk@hong.com  서울시 관악구  1999-05-01\n",
       "4  홍길중  23   mid@hong.com   부산시 중구  1999-01-30"
      ]
     },
     "execution_count": 172,
     "metadata": {},
     "output_type": "execute_result"
    }
   ],
   "source": [
    "member"
   ]
  },
  {
   "cell_type": "code",
   "execution_count": 175,
   "id": "7871187e",
   "metadata": {
    "ExecuteTime": {
     "end_time": "2024-11-25T08:42:15.798368Z",
     "start_time": "2024-11-25T08:42:15.780262Z"
    }
   },
   "outputs": [
    {
     "data": {
      "text/html": [
       "<div>\n",
       "<style scoped>\n",
       "    .dataframe tbody tr th:only-of-type {\n",
       "        vertical-align: middle;\n",
       "    }\n",
       "\n",
       "    .dataframe tbody tr th {\n",
       "        vertical-align: top;\n",
       "    }\n",
       "\n",
       "    .dataframe thead th {\n",
       "        text-align: right;\n",
       "    }\n",
       "</style>\n",
       "<table border=\"1\" class=\"dataframe\">\n",
       "  <thead>\n",
       "    <tr style=\"text-align: right;\">\n",
       "      <th></th>\n",
       "      <th>이름</th>\n",
       "      <th>나이</th>\n",
       "      <th>메일</th>\n",
       "      <th>주소</th>\n",
       "      <th>생년월일</th>\n",
       "    </tr>\n",
       "  </thead>\n",
       "  <tbody>\n",
       "    <tr>\n",
       "      <th>0</th>\n",
       "      <td>홍길동</td>\n",
       "      <td>20</td>\n",
       "      <td>hong@hong.com</td>\n",
       "      <td>서울시 강동구</td>\n",
       "      <td>1999-01-01</td>\n",
       "    </tr>\n",
       "    <tr>\n",
       "      <th>11</th>\n",
       "      <td>홍길서</td>\n",
       "      <td>30</td>\n",
       "      <td>seo@hong.com</td>\n",
       "      <td>서울시 중구</td>\n",
       "      <td>1999-12-01</td>\n",
       "    </tr>\n",
       "    <tr>\n",
       "      <th>3</th>\n",
       "      <td>홍길남</td>\n",
       "      <td>21</td>\n",
       "      <td>nam@hong.com</td>\n",
       "      <td>서울시 강동구</td>\n",
       "      <td>1999-11-01</td>\n",
       "    </tr>\n",
       "    <tr>\n",
       "      <th>4</th>\n",
       "      <td>홍길북</td>\n",
       "      <td>22</td>\n",
       "      <td>buk@hong.com</td>\n",
       "      <td>서울시 관악구</td>\n",
       "      <td>1999-05-01</td>\n",
       "    </tr>\n",
       "    <tr>\n",
       "      <th>5</th>\n",
       "      <td>홍길중</td>\n",
       "      <td>23</td>\n",
       "      <td>mid@hong.com</td>\n",
       "      <td>부산시 중구</td>\n",
       "      <td>1999-01-30</td>\n",
       "    </tr>\n",
       "  </tbody>\n",
       "</table>\n",
       "</div>"
      ],
      "text/plain": [
       "     이름  나이             메일       주소        생년월일\n",
       "0   홍길동  20  hong@hong.com  서울시 강동구  1999-01-01\n",
       "11  홍길서  30   seo@hong.com   서울시 중구  1999-12-01\n",
       "3   홍길남  21   nam@hong.com  서울시 강동구  1999-11-01\n",
       "4   홍길북  22   buk@hong.com  서울시 관악구  1999-05-01\n",
       "5   홍길중  23   mid@hong.com   부산시 중구  1999-01-30"
      ]
     },
     "execution_count": 175,
     "metadata": {},
     "output_type": "execute_result"
    }
   ],
   "source": [
    "member.index = [0, 11, 3, 4, 5]\n",
    "member"
   ]
  },
  {
   "cell_type": "code",
   "execution_count": 177,
   "id": "d9f11513",
   "metadata": {
    "ExecuteTime": {
     "end_time": "2024-11-25T08:43:40.610073Z",
     "start_time": "2024-11-25T08:43:40.599227Z"
    }
   },
   "outputs": [
    {
     "data": {
      "text/html": [
       "<div>\n",
       "<style scoped>\n",
       "    .dataframe tbody tr th:only-of-type {\n",
       "        vertical-align: middle;\n",
       "    }\n",
       "\n",
       "    .dataframe tbody tr th {\n",
       "        vertical-align: top;\n",
       "    }\n",
       "\n",
       "    .dataframe thead th {\n",
       "        text-align: right;\n",
       "    }\n",
       "</style>\n",
       "<table border=\"1\" class=\"dataframe\">\n",
       "  <thead>\n",
       "    <tr style=\"text-align: right;\">\n",
       "      <th></th>\n",
       "      <th>이름</th>\n",
       "      <th>나이</th>\n",
       "      <th>메일</th>\n",
       "      <th>주소</th>\n",
       "      <th>생년월일</th>\n",
       "    </tr>\n",
       "  </thead>\n",
       "  <tbody>\n",
       "    <tr>\n",
       "      <th>0</th>\n",
       "      <td>홍길동</td>\n",
       "      <td>20</td>\n",
       "      <td>hong@hong.com</td>\n",
       "      <td>서울시 강동구</td>\n",
       "      <td>1999-01-01</td>\n",
       "    </tr>\n",
       "    <tr>\n",
       "      <th>1</th>\n",
       "      <td>홍길서</td>\n",
       "      <td>30</td>\n",
       "      <td>seo@hong.com</td>\n",
       "      <td>서울시 중구</td>\n",
       "      <td>1999-12-01</td>\n",
       "    </tr>\n",
       "    <tr>\n",
       "      <th>2</th>\n",
       "      <td>홍길남</td>\n",
       "      <td>21</td>\n",
       "      <td>nam@hong.com</td>\n",
       "      <td>서울시 강동구</td>\n",
       "      <td>1999-11-01</td>\n",
       "    </tr>\n",
       "    <tr>\n",
       "      <th>3</th>\n",
       "      <td>홍길북</td>\n",
       "      <td>22</td>\n",
       "      <td>buk@hong.com</td>\n",
       "      <td>서울시 관악구</td>\n",
       "      <td>1999-05-01</td>\n",
       "    </tr>\n",
       "    <tr>\n",
       "      <th>4</th>\n",
       "      <td>홍길중</td>\n",
       "      <td>23</td>\n",
       "      <td>mid@hong.com</td>\n",
       "      <td>부산시 중구</td>\n",
       "      <td>1999-01-30</td>\n",
       "    </tr>\n",
       "  </tbody>\n",
       "</table>\n",
       "</div>"
      ],
      "text/plain": [
       "    이름  나이             메일       주소        생년월일\n",
       "0  홍길동  20  hong@hong.com  서울시 강동구  1999-01-01\n",
       "1  홍길서  30   seo@hong.com   서울시 중구  1999-12-01\n",
       "2  홍길남  21   nam@hong.com  서울시 강동구  1999-11-01\n",
       "3  홍길북  22   buk@hong.com  서울시 관악구  1999-05-01\n",
       "4  홍길중  23   mid@hong.com   부산시 중구  1999-01-30"
      ]
     },
     "execution_count": 177,
     "metadata": {},
     "output_type": "execute_result"
    }
   ],
   "source": [
    "# 기존 index를 새로운 열에 편입시키지 않고, 완전히 제거 후 숫자 index로 초기화\n",
    "member.reset_index(drop=True, inplace=True)\n",
    "member"
   ]
  },
  {
   "cell_type": "code",
   "execution_count": 179,
   "id": "9e055e4f",
   "metadata": {
    "ExecuteTime": {
     "end_time": "2024-11-25T08:44:32.788801Z",
     "start_time": "2024-11-25T08:44:32.782803Z"
    }
   },
   "outputs": [
    {
     "data": {
      "text/plain": [
       "'1999-11-01'"
      ]
     },
     "execution_count": 179,
     "metadata": {},
     "output_type": "execute_result"
    }
   ],
   "source": [
    "member.loc[2, '생년월일']"
   ]
  },
  {
   "cell_type": "code",
   "execution_count": 180,
   "id": "5fdae0c1",
   "metadata": {
    "ExecuteTime": {
     "end_time": "2024-11-25T08:45:08.818771Z",
     "start_time": "2024-11-25T08:45:08.807154Z"
    }
   },
   "outputs": [
    {
     "name": "stdout",
     "output_type": "stream",
     "text": [
      "<class 'pandas.core.frame.DataFrame'>\n",
      "RangeIndex: 5 entries, 0 to 4\n",
      "Data columns (total 5 columns):\n",
      " #   Column  Non-Null Count  Dtype \n",
      "---  ------  --------------  ----- \n",
      " 0   이름      5 non-null      object\n",
      " 1   나이      5 non-null      int64 \n",
      " 2   메일      5 non-null      object\n",
      " 3   주소      5 non-null      object\n",
      " 4   생년월일    5 non-null      object\n",
      "dtypes: int64(1), object(4)\n",
      "memory usage: 328.0+ bytes\n"
     ]
    }
   ],
   "source": [
    "member.info()"
   ]
  },
  {
   "cell_type": "code",
   "execution_count": 181,
   "id": "7dddffc1",
   "metadata": {
    "ExecuteTime": {
     "end_time": "2024-11-25T08:45:56.309535Z",
     "start_time": "2024-11-25T08:45:56.293494Z"
    }
   },
   "outputs": [
    {
     "name": "stdout",
     "output_type": "stream",
     "text": [
      "<class 'pandas.core.frame.DataFrame'>\n",
      "RangeIndex: 5 entries, 0 to 4\n",
      "Data columns (total 5 columns):\n",
      " #   Column   Non-Null Count  Dtype         \n",
      "---  ------   --------------  -----         \n",
      " 0   Name     5 non-null      object        \n",
      " 1   Age      5 non-null      int64         \n",
      " 2   Email    5 non-null      object        \n",
      " 3   Address  5 non-null      object        \n",
      " 4   Birth    5 non-null      datetime64[ns]\n",
      "dtypes: datetime64[ns](1), int64(1), object(3)\n",
      "memory usage: 328.0+ bytes\n"
     ]
    }
   ],
   "source": [
    "member = pd.read_csv('data/ch12_member.csv', comment='#', parse_dates=['Birth'])\n",
    "member.info()"
   ]
  },
  {
   "cell_type": "code",
   "execution_count": 184,
   "id": "888740eb",
   "metadata": {
    "ExecuteTime": {
     "end_time": "2024-11-25T08:47:32.139292Z",
     "start_time": "2024-11-25T08:47:32.132295Z"
    }
   },
   "outputs": [
    {
     "data": {
      "text/plain": [
       "Timestamp('1999-01-01 00:00:00')"
      ]
     },
     "execution_count": 184,
     "metadata": {},
     "output_type": "execute_result"
    }
   ],
   "source": [
    "member.loc[0, 'Birth']"
   ]
  },
  {
   "cell_type": "code",
   "execution_count": 186,
   "id": "2399431c",
   "metadata": {
    "ExecuteTime": {
     "end_time": "2024-11-25T08:47:44.685463Z",
     "start_time": "2024-11-25T08:47:44.677468Z"
    }
   },
   "outputs": [
    {
     "data": {
      "text/plain": [
       "0    1999\n",
       "1    1999\n",
       "2    1999\n",
       "3    1999\n",
       "4    1999\n",
       "Name: Birth, dtype: int64"
      ]
     },
     "execution_count": 186,
     "metadata": {},
     "output_type": "execute_result"
    }
   ],
   "source": [
    "# 시리즈.dt : datetime열에서 날짜 및 시간에 관련된 정보를 추출하기 위해 사용\n",
    "member['Birth'].dt.year"
   ]
  },
  {
   "cell_type": "code",
   "execution_count": 187,
   "id": "0ba50793",
   "metadata": {
    "ExecuteTime": {
     "end_time": "2024-11-25T08:48:46.002916Z",
     "start_time": "2024-11-25T08:48:45.995919Z"
    }
   },
   "outputs": [
    {
     "data": {
      "text/plain": [
       "0     1\n",
       "1    12\n",
       "2    11\n",
       "3     5\n",
       "4     1\n",
       "Name: Birth, dtype: int64"
      ]
     },
     "execution_count": 187,
     "metadata": {},
     "output_type": "execute_result"
    }
   ],
   "source": [
    "member['Birth'].dt.month"
   ]
  },
  {
   "cell_type": "code",
   "execution_count": 188,
   "id": "e15f6996",
   "metadata": {
    "ExecuteTime": {
     "end_time": "2024-11-25T08:48:54.602774Z",
     "start_time": "2024-11-25T08:48:54.595775Z"
    }
   },
   "outputs": [
    {
     "data": {
      "text/plain": [
       "0     1\n",
       "1     1\n",
       "2     1\n",
       "3     1\n",
       "4    30\n",
       "Name: Birth, dtype: int64"
      ]
     },
     "execution_count": 188,
     "metadata": {},
     "output_type": "execute_result"
    }
   ],
   "source": [
    "member['Birth'].dt.day"
   ]
  },
  {
   "cell_type": "code",
   "execution_count": 189,
   "id": "7d2c7c6c",
   "metadata": {
    "ExecuteTime": {
     "end_time": "2024-11-25T08:49:23.589245Z",
     "start_time": "2024-11-25T08:49:23.582249Z"
    },
    "scrolled": true
   },
   "outputs": [
    {
     "data": {
      "text/plain": [
       "0    4\n",
       "1    2\n",
       "2    0\n",
       "3    5\n",
       "4    5\n",
       "Name: Birth, dtype: int64"
      ]
     },
     "execution_count": 189,
     "metadata": {},
     "output_type": "execute_result"
    }
   ],
   "source": [
    "member['Birth'].dt.weekday  # 0월, 1화, ... 6일"
   ]
  },
  {
   "cell_type": "code",
   "execution_count": 190,
   "id": "01bfddcd",
   "metadata": {
    "ExecuteTime": {
     "end_time": "2024-11-25T08:49:59.436516Z",
     "start_time": "2024-11-25T08:49:59.427508Z"
    }
   },
   "outputs": [
    {
     "data": {
      "text/plain": [
       "0    1999-01\n",
       "1    1999-12\n",
       "2    1999-11\n",
       "3    1999-05\n",
       "4    1999-01\n",
       "Name: Birth, dtype: period[M]"
      ]
     },
     "execution_count": 190,
     "metadata": {},
     "output_type": "execute_result"
    }
   ],
   "source": [
    "member['Birth'].dt.to_period('M')  # M(월)까지 출력"
   ]
  },
  {
   "cell_type": "markdown",
   "id": "205f5406",
   "metadata": {},
   "source": [
    "## 3.3 레벨 이름 지정하기"
   ]
  },
  {
   "cell_type": "code",
   "execution_count": 191,
   "id": "fe2c19de",
   "metadata": {
    "ExecuteTime": {
     "end_time": "2024-11-25T08:51:53.494181Z",
     "start_time": "2024-11-25T08:51:53.483185Z"
    }
   },
   "outputs": [
    {
     "data": {
      "text/html": [
       "<div>\n",
       "<style scoped>\n",
       "    .dataframe tbody tr th:only-of-type {\n",
       "        vertical-align: middle;\n",
       "    }\n",
       "\n",
       "    .dataframe tbody tr th {\n",
       "        vertical-align: top;\n",
       "    }\n",
       "\n",
       "    .dataframe thead th {\n",
       "        text-align: right;\n",
       "    }\n",
       "</style>\n",
       "<table border=\"1\" class=\"dataframe\">\n",
       "  <thead>\n",
       "    <tr style=\"text-align: right;\">\n",
       "      <th></th>\n",
       "      <th>Name</th>\n",
       "      <th>Age</th>\n",
       "      <th>Email</th>\n",
       "      <th>Address</th>\n",
       "      <th>Birth</th>\n",
       "    </tr>\n",
       "  </thead>\n",
       "  <tbody>\n",
       "    <tr>\n",
       "      <th>0</th>\n",
       "      <td>홍길동</td>\n",
       "      <td>20</td>\n",
       "      <td>hong@hong.com</td>\n",
       "      <td>서울시 강동구</td>\n",
       "      <td>1999-01-01</td>\n",
       "    </tr>\n",
       "    <tr>\n",
       "      <th>1</th>\n",
       "      <td>홍길서</td>\n",
       "      <td>30</td>\n",
       "      <td>seo@hong.com</td>\n",
       "      <td>서울시 중구</td>\n",
       "      <td>1999-12-01</td>\n",
       "    </tr>\n",
       "    <tr>\n",
       "      <th>2</th>\n",
       "      <td>홍길남</td>\n",
       "      <td>21</td>\n",
       "      <td>nam@hong.com</td>\n",
       "      <td>서울시 강동구</td>\n",
       "      <td>1999-11-01</td>\n",
       "    </tr>\n",
       "    <tr>\n",
       "      <th>3</th>\n",
       "      <td>홍길북</td>\n",
       "      <td>22</td>\n",
       "      <td>buk@hong.com</td>\n",
       "      <td>서울시 관악구</td>\n",
       "      <td>1999-05-01</td>\n",
       "    </tr>\n",
       "    <tr>\n",
       "      <th>4</th>\n",
       "      <td>홍길중</td>\n",
       "      <td>23</td>\n",
       "      <td>mid@hong.com</td>\n",
       "      <td>부산시 중구</td>\n",
       "      <td>1999-01-30</td>\n",
       "    </tr>\n",
       "  </tbody>\n",
       "</table>\n",
       "</div>"
      ],
      "text/plain": [
       "  Name  Age          Email  Address      Birth\n",
       "0  홍길동   20  hong@hong.com  서울시 강동구 1999-01-01\n",
       "1  홍길서   30   seo@hong.com   서울시 중구 1999-12-01\n",
       "2  홍길남   21   nam@hong.com  서울시 강동구 1999-11-01\n",
       "3  홍길북   22   buk@hong.com  서울시 관악구 1999-05-01\n",
       "4  홍길중   23   mid@hong.com   부산시 중구 1999-01-30"
      ]
     },
     "execution_count": 191,
     "metadata": {},
     "output_type": "execute_result"
    }
   ],
   "source": [
    "member"
   ]
  },
  {
   "cell_type": "code",
   "execution_count": 192,
   "id": "d9686ea0",
   "metadata": {
    "ExecuteTime": {
     "end_time": "2024-11-25T08:51:59.296689Z",
     "start_time": "2024-11-25T08:51:59.290179Z"
    }
   },
   "outputs": [
    {
     "data": {
      "text/plain": [
       "Index(['Name', 'Age', 'Email', 'Address', 'Birth'], dtype='object')"
      ]
     },
     "execution_count": 192,
     "metadata": {},
     "output_type": "execute_result"
    }
   ],
   "source": [
    "member.columns"
   ]
  },
  {
   "cell_type": "code",
   "execution_count": 193,
   "id": "bdc421e8",
   "metadata": {
    "ExecuteTime": {
     "end_time": "2024-11-25T08:53:37.129953Z",
     "start_time": "2024-11-25T08:53:37.113389Z"
    }
   },
   "outputs": [
    {
     "data": {
      "text/html": [
       "<div>\n",
       "<style scoped>\n",
       "    .dataframe tbody tr th:only-of-type {\n",
       "        vertical-align: middle;\n",
       "    }\n",
       "\n",
       "    .dataframe tbody tr th {\n",
       "        vertical-align: top;\n",
       "    }\n",
       "\n",
       "    .dataframe thead tr th {\n",
       "        text-align: left;\n",
       "    }\n",
       "</style>\n",
       "<table border=\"1\" class=\"dataframe\">\n",
       "  <thead>\n",
       "    <tr>\n",
       "      <th>대분류</th>\n",
       "      <th colspan=\"3\" halign=\"left\">기본정보</th>\n",
       "      <th colspan=\"2\" halign=\"left\">추가정보</th>\n",
       "    </tr>\n",
       "    <tr>\n",
       "      <th>소분류</th>\n",
       "      <th>이름</th>\n",
       "      <th>나이</th>\n",
       "      <th>메일</th>\n",
       "      <th>주소</th>\n",
       "      <th>생일</th>\n",
       "    </tr>\n",
       "  </thead>\n",
       "  <tbody>\n",
       "    <tr>\n",
       "      <th>0</th>\n",
       "      <td>홍길동</td>\n",
       "      <td>20</td>\n",
       "      <td>hong@hong.com</td>\n",
       "      <td>서울시 강동구</td>\n",
       "      <td>1999-01-01</td>\n",
       "    </tr>\n",
       "    <tr>\n",
       "      <th>1</th>\n",
       "      <td>홍길서</td>\n",
       "      <td>30</td>\n",
       "      <td>seo@hong.com</td>\n",
       "      <td>서울시 중구</td>\n",
       "      <td>1999-12-01</td>\n",
       "    </tr>\n",
       "    <tr>\n",
       "      <th>2</th>\n",
       "      <td>홍길남</td>\n",
       "      <td>21</td>\n",
       "      <td>nam@hong.com</td>\n",
       "      <td>서울시 강동구</td>\n",
       "      <td>1999-11-01</td>\n",
       "    </tr>\n",
       "    <tr>\n",
       "      <th>3</th>\n",
       "      <td>홍길북</td>\n",
       "      <td>22</td>\n",
       "      <td>buk@hong.com</td>\n",
       "      <td>서울시 관악구</td>\n",
       "      <td>1999-05-01</td>\n",
       "    </tr>\n",
       "    <tr>\n",
       "      <th>4</th>\n",
       "      <td>홍길중</td>\n",
       "      <td>23</td>\n",
       "      <td>mid@hong.com</td>\n",
       "      <td>부산시 중구</td>\n",
       "      <td>1999-01-30</td>\n",
       "    </tr>\n",
       "  </tbody>\n",
       "</table>\n",
       "</div>"
      ],
      "text/plain": [
       "대분류 기본정보                        추가정보           \n",
       "소분류   이름  나이             메일       주소         생일\n",
       "0    홍길동  20  hong@hong.com  서울시 강동구 1999-01-01\n",
       "1    홍길서  30   seo@hong.com   서울시 중구 1999-12-01\n",
       "2    홍길남  21   nam@hong.com  서울시 강동구 1999-11-01\n",
       "3    홍길북  22   buk@hong.com  서울시 관악구 1999-05-01\n",
       "4    홍길중  23   mid@hong.com   부산시 중구 1999-01-30"
      ]
     },
     "execution_count": 193,
     "metadata": {},
     "output_type": "execute_result"
    }
   ],
   "source": [
    "member.columns = [['기본정보', '기본정보', '기본정보', '추가정보', '추가정보'],\n",
    "                  ['이름', '나이', '메일', '주소', '생일']]\n",
    "member.columns.names = ['대분류', '소분류']\n",
    "member"
   ]
  },
  {
   "cell_type": "code",
   "execution_count": 194,
   "id": "b024edc9",
   "metadata": {
    "ExecuteTime": {
     "end_time": "2024-11-25T08:54:22.806833Z",
     "start_time": "2024-11-25T08:54:22.800832Z"
    }
   },
   "outputs": [
    {
     "data": {
      "text/plain": [
       "RangeIndex(start=0, stop=5, step=1)"
      ]
     },
     "execution_count": 194,
     "metadata": {},
     "output_type": "execute_result"
    }
   ],
   "source": [
    "member.index"
   ]
  },
  {
   "cell_type": "code",
   "execution_count": 195,
   "id": "f113e7a0",
   "metadata": {
    "ExecuteTime": {
     "end_time": "2024-11-25T08:55:25.703523Z",
     "start_time": "2024-11-25T08:55:25.689382Z"
    }
   },
   "outputs": [
    {
     "data": {
      "text/html": [
       "<div>\n",
       "<style scoped>\n",
       "    .dataframe tbody tr th:only-of-type {\n",
       "        vertical-align: middle;\n",
       "    }\n",
       "\n",
       "    .dataframe tbody tr th {\n",
       "        vertical-align: top;\n",
       "    }\n",
       "\n",
       "    .dataframe thead tr th {\n",
       "        text-align: left;\n",
       "    }\n",
       "</style>\n",
       "<table border=\"1\" class=\"dataframe\">\n",
       "  <thead>\n",
       "    <tr>\n",
       "      <th></th>\n",
       "      <th>대분류</th>\n",
       "      <th colspan=\"3\" halign=\"left\">기본정보</th>\n",
       "      <th colspan=\"2\" halign=\"left\">추가정보</th>\n",
       "    </tr>\n",
       "    <tr>\n",
       "      <th></th>\n",
       "      <th>소분류</th>\n",
       "      <th>이름</th>\n",
       "      <th>나이</th>\n",
       "      <th>메일</th>\n",
       "      <th>주소</th>\n",
       "      <th>생일</th>\n",
       "    </tr>\n",
       "  </thead>\n",
       "  <tbody>\n",
       "    <tr>\n",
       "      <th rowspan=\"2\" valign=\"top\">좌우</th>\n",
       "      <th>동</th>\n",
       "      <td>홍길동</td>\n",
       "      <td>20</td>\n",
       "      <td>hong@hong.com</td>\n",
       "      <td>서울시 강동구</td>\n",
       "      <td>1999-01-01</td>\n",
       "    </tr>\n",
       "    <tr>\n",
       "      <th>서</th>\n",
       "      <td>홍길서</td>\n",
       "      <td>30</td>\n",
       "      <td>seo@hong.com</td>\n",
       "      <td>서울시 중구</td>\n",
       "      <td>1999-12-01</td>\n",
       "    </tr>\n",
       "    <tr>\n",
       "      <th rowspan=\"3\" valign=\"top\">상하</th>\n",
       "      <th>남</th>\n",
       "      <td>홍길남</td>\n",
       "      <td>21</td>\n",
       "      <td>nam@hong.com</td>\n",
       "      <td>서울시 강동구</td>\n",
       "      <td>1999-11-01</td>\n",
       "    </tr>\n",
       "    <tr>\n",
       "      <th>북</th>\n",
       "      <td>홍길북</td>\n",
       "      <td>22</td>\n",
       "      <td>buk@hong.com</td>\n",
       "      <td>서울시 관악구</td>\n",
       "      <td>1999-05-01</td>\n",
       "    </tr>\n",
       "    <tr>\n",
       "      <th>중</th>\n",
       "      <td>홍길중</td>\n",
       "      <td>23</td>\n",
       "      <td>mid@hong.com</td>\n",
       "      <td>부산시 중구</td>\n",
       "      <td>1999-01-30</td>\n",
       "    </tr>\n",
       "  </tbody>\n",
       "</table>\n",
       "</div>"
      ],
      "text/plain": [
       "대분류  기본정보                        추가정보           \n",
       "소분류    이름  나이             메일       주소         생일\n",
       "좌우 동  홍길동  20  hong@hong.com  서울시 강동구 1999-01-01\n",
       "   서  홍길서  30   seo@hong.com   서울시 중구 1999-12-01\n",
       "상하 남  홍길남  21   nam@hong.com  서울시 강동구 1999-11-01\n",
       "   북  홍길북  22   buk@hong.com  서울시 관악구 1999-05-01\n",
       "   중  홍길중  23   mid@hong.com   부산시 중구 1999-01-30"
      ]
     },
     "execution_count": 195,
     "metadata": {},
     "output_type": "execute_result"
    }
   ],
   "source": [
    "member.index = [['좌우', '좌우', '상하', '상하', '상하'],\n",
    "                ['동', '서', '남', '북', '중']]\n",
    "member"
   ]
  },
  {
   "cell_type": "code",
   "execution_count": 199,
   "id": "7c92e7b7",
   "metadata": {
    "ExecuteTime": {
     "end_time": "2024-11-25T08:57:45.219082Z",
     "start_time": "2024-11-25T08:57:45.210077Z"
    }
   },
   "outputs": [
    {
     "data": {
      "text/plain": [
       "동    20\n",
       "서    30\n",
       "Name: 나이, dtype: int64"
      ]
     },
     "execution_count": 199,
     "metadata": {},
     "output_type": "execute_result"
    }
   ],
   "source": [
    "member.loc['좌우', '기본정보']['나이']"
   ]
  },
  {
   "cell_type": "code",
   "execution_count": 201,
   "id": "0c357e26",
   "metadata": {
    "ExecuteTime": {
     "end_time": "2024-11-25T08:58:35.611845Z",
     "start_time": "2024-11-25T08:58:35.601848Z"
    }
   },
   "outputs": [
    {
     "data": {
      "text/plain": [
       "20"
      ]
     },
     "execution_count": 201,
     "metadata": {},
     "output_type": "execute_result"
    }
   ],
   "source": [
    "member.loc['좌우', '기본정보'].loc['동', '나이']"
   ]
  },
  {
   "cell_type": "code",
   "execution_count": null,
   "id": "a6fc1d47",
   "metadata": {},
   "outputs": [],
   "source": []
  },
  {
   "cell_type": "code",
   "execution_count": null,
   "id": "d769be46",
   "metadata": {},
   "outputs": [],
   "source": []
  },
  {
   "cell_type": "code",
   "execution_count": null,
   "id": "3c4b8ae2",
   "metadata": {},
   "outputs": [],
   "source": []
  },
  {
   "cell_type": "code",
   "execution_count": null,
   "id": "c9481b8c",
   "metadata": {},
   "outputs": [],
   "source": []
  },
  {
   "cell_type": "code",
   "execution_count": null,
   "id": "5c6ab027",
   "metadata": {},
   "outputs": [],
   "source": []
  },
  {
   "cell_type": "code",
   "execution_count": null,
   "id": "fcb51df8",
   "metadata": {},
   "outputs": [],
   "source": []
  },
  {
   "cell_type": "code",
   "execution_count": null,
   "id": "07684876",
   "metadata": {},
   "outputs": [],
   "source": []
  },
  {
   "cell_type": "code",
   "execution_count": null,
   "id": "1b2250a2",
   "metadata": {},
   "outputs": [],
   "source": []
  },
  {
   "cell_type": "code",
   "execution_count": null,
   "id": "e72d7f5c",
   "metadata": {},
   "outputs": [],
   "source": []
  },
  {
   "cell_type": "code",
   "execution_count": null,
   "id": "2432a348",
   "metadata": {},
   "outputs": [],
   "source": []
  },
  {
   "cell_type": "code",
   "execution_count": null,
   "id": "e1b43613",
   "metadata": {},
   "outputs": [],
   "source": []
  },
  {
   "cell_type": "code",
   "execution_count": null,
   "id": "f1053756",
   "metadata": {},
   "outputs": [],
   "source": []
  }
 ],
 "metadata": {
  "kernelspec": {
   "display_name": "Python 3 (ipykernel)",
   "language": "python",
   "name": "python3"
  },
  "language_info": {
   "codemirror_mode": {
    "name": "ipython",
    "version": 3
   },
   "file_extension": ".py",
   "mimetype": "text/x-python",
   "name": "python",
   "nbconvert_exporter": "python",
   "pygments_lexer": "ipython3",
   "version": "3.10.9"
  },
  "toc": {
   "base_numbering": 1,
   "nav_menu": {},
   "number_sections": true,
   "sideBar": true,
   "skip_h1_title": false,
   "title_cell": "Table of Contents",
   "title_sidebar": "Contents",
   "toc_cell": false,
   "toc_position": {
    "height": "calc(100% - 180px)",
    "left": "10px",
    "top": "150px",
    "width": "165px"
   },
   "toc_section_display": true,
   "toc_window_display": true
  }
 },
 "nbformat": 4,
 "nbformat_minor": 5
}
