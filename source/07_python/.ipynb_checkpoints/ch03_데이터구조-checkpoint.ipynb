{
 "cells": [
  {
   "cell_type": "code",
   "execution_count": 2,
   "id": "0ef700dd",
   "metadata": {
    "ExecuteTime": {
     "end_time": "2024-11-06T02:48:56.298927Z",
     "start_time": "2024-11-06T02:48:56.291520Z"
    }
   },
   "outputs": [
    {
     "data": {
      "text/html": [
       "\n",
       "<style>\n",
       "div.container{width:80% !important;}\n",
       "div.prompt {min-width:70px;}\n",
       "div#toc-header{margin-top:150px;}\n",
       "span.toc-item-num{display:none;}\n",
       "</style>\n"
      ],
      "text/plain": [
       "<IPython.core.display.HTML object>"
      ]
     },
     "metadata": {},
     "output_type": "display_data"
    }
   ],
   "source": [
    "from IPython.display import display, HTML\n",
    "display(HTML(\"\"\"\n",
    "<style>\n",
    "div.container{width:80% !important;}\n",
    "div.prompt {min-width:70px;}\n",
    "div#toc-header{margin-top:150px;}\n",
    "span.toc-item-num{display:none;}\n",
    "</style>\n",
    "\"\"\"))"
   ]
  },
  {
   "cell_type": "markdown",
   "id": "fd432443",
   "metadata": {},
   "source": [
    "<b><font color=\"red\" size=\"6\">ch03. 데이터 구조</font></b>\n",
    "- 리스트[], 튜플(), 딕셔너리(자바hashMap과 유사), 셋"
   ]
  },
  {
   "cell_type": "markdown",
   "id": "98b37180",
   "metadata": {},
   "source": [
    "# 1절. 리스트"
   ]
  },
  {
   "cell_type": "markdown",
   "id": "1317b1dd",
   "metadata": {},
   "source": [
    "## 1.1 리스트 만들기\n",
    "    - []를 이용해서 만들며, 여러 개의 값을 하나의 변수에 저장/관리할 수 있음\n",
    "    - list()함수 이용도 가능\n",
    "    - 인덱스 : 각 요소의 위치. 인덱스는 0부터 시작. 맨 마지막 인덱스는 -1\n",
    "    - 슬라이싱([from:to(앞까지):by]) : 부분 데이터셋을 추출.\n",
    "    - 인덱스와 슬라이싱을 이용해서 쓰기와 읽기 지원"
   ]
  },
  {
   "cell_type": "code",
   "execution_count": 3,
   "id": "cc359423",
   "metadata": {
    "ExecuteTime": {
     "end_time": "2024-11-06T03:03:04.730287Z",
     "start_time": "2024-11-06T03:03:04.724287Z"
    }
   },
   "outputs": [
    {
     "data": {
      "text/plain": [
       "list"
      ]
     },
     "execution_count": 3,
     "metadata": {},
     "output_type": "execute_result"
    }
   ],
   "source": [
    "# 1차원 리스트\n",
    "# 동일자료형이 아니어도 됨\n",
    "fruits = ['banana', 'apple', 'orange', 'grape']\n",
    "type(fruits)"
   ]
  },
  {
   "cell_type": "code",
   "execution_count": 5,
   "id": "a8ca32d8",
   "metadata": {
    "ExecuteTime": {
     "end_time": "2024-11-06T03:04:36.127958Z",
     "start_time": "2024-11-06T03:04:36.122959Z"
    }
   },
   "outputs": [
    {
     "name": "stdout",
     "output_type": "stream",
     "text": [
      "banana\n"
     ]
    }
   ],
   "source": [
    "print(fruits)"
   ]
  },
  {
   "cell_type": "code",
   "execution_count": 6,
   "id": "3b704b99",
   "metadata": {
    "ExecuteTime": {
     "end_time": "2024-11-06T03:04:45.567854Z",
     "start_time": "2024-11-06T03:04:45.561856Z"
    }
   },
   "outputs": [
    {
     "name": "stdout",
     "output_type": "stream",
     "text": [
      "banana\n"
     ]
    }
   ],
   "source": [
    "print(fruits[0])"
   ]
  },
  {
   "cell_type": "code",
   "execution_count": 7,
   "id": "8ec8e606",
   "metadata": {
    "ExecuteTime": {
     "end_time": "2024-11-06T03:05:07.623459Z",
     "start_time": "2024-11-06T03:05:07.617974Z"
    }
   },
   "outputs": [
    {
     "name": "stdout",
     "output_type": "stream",
     "text": [
      "['mango', 'apple', 'orange', 'grape']\n"
     ]
    }
   ],
   "source": [
    "fruits[0] = 'mango'\n",
    "print(fruits)"
   ]
  },
  {
   "cell_type": "code",
   "execution_count": 9,
   "id": "67679dec",
   "metadata": {
    "ExecuteTime": {
     "end_time": "2024-11-06T03:07:19.159655Z",
     "start_time": "2024-11-06T03:07:19.153654Z"
    }
   },
   "outputs": [
    {
     "name": "stdout",
     "output_type": "stream",
     "text": [
      "x = mango\n",
      "y = apple\n",
      "z = orange\n"
     ]
    }
   ],
   "source": [
    "fruits = ['mango', 'apple', 'orange']\n",
    "x, y, z = fruits  # x, y, z = ['mango', 'apple', 'orange']\n",
    "print(\"x = {}\".format(x))\n",
    "print(\"y = {}\".format(y))\n",
    "print(\"z = {}\".format(z))"
   ]
  },
  {
   "cell_type": "code",
   "execution_count": 10,
   "id": "bf726fb8",
   "metadata": {
    "ExecuteTime": {
     "end_time": "2024-11-06T03:09:04.279096Z",
     "start_time": "2024-11-06T03:09:04.273098Z"
    }
   },
   "outputs": [
    {
     "data": {
      "text/plain": [
       "range(0, 10)"
      ]
     },
     "execution_count": 10,
     "metadata": {},
     "output_type": "execute_result"
    }
   ],
   "source": [
    "# range(from, to, by) : from부터 to 앞 까지 by씩 증가하면서 지정된 범위의 숫자를 순차적으로 사용할 수 있도록 범위를 생성함\n",
    "#                       from 생략 시 0, by 생략 시 1\n",
    "range(10)"
   ]
  },
  {
   "cell_type": "code",
   "execution_count": 11,
   "id": "5dcd266f",
   "metadata": {
    "ExecuteTime": {
     "end_time": "2024-11-06T03:09:21.023196Z",
     "start_time": "2024-11-06T03:09:21.015895Z"
    }
   },
   "outputs": [
    {
     "data": {
      "text/plain": [
       "[0, 1, 2, 3, 4, 5, 6, 7, 8, 9]"
      ]
     },
     "execution_count": 11,
     "metadata": {},
     "output_type": "execute_result"
    }
   ],
   "source": [
    "list(range(10))"
   ]
  },
  {
   "cell_type": "code",
   "execution_count": 12,
   "id": "2252658d",
   "metadata": {
    "ExecuteTime": {
     "end_time": "2024-11-06T03:10:17.232004Z",
     "start_time": "2024-11-06T03:10:17.216382Z"
    }
   },
   "outputs": [
    {
     "data": {
      "text/plain": [
       "[0, 2, 4, 6, 8]"
      ]
     },
     "execution_count": 12,
     "metadata": {},
     "output_type": "execute_result"
    }
   ],
   "source": [
    "list(range(0, 10, 2))"
   ]
  },
  {
   "cell_type": "code",
   "execution_count": 13,
   "id": "f6ab7231",
   "metadata": {
    "ExecuteTime": {
     "end_time": "2024-11-06T03:10:36.117163Z",
     "start_time": "2024-11-06T03:10:36.111156Z"
    }
   },
   "outputs": [
    {
     "data": {
      "text/plain": [
       "[10, 8, 6, 4, 2, 0]"
      ]
     },
     "execution_count": 13,
     "metadata": {},
     "output_type": "execute_result"
    }
   ],
   "source": [
    "list(range(10, -1, -2))  # 거꾸로 생성"
   ]
  },
  {
   "cell_type": "code",
   "execution_count": 14,
   "id": "752624d0",
   "metadata": {
    "ExecuteTime": {
     "end_time": "2024-11-06T03:13:25.133074Z",
     "start_time": "2024-11-06T03:13:25.127076Z"
    }
   },
   "outputs": [
    {
     "name": "stdout",
     "output_type": "stream",
     "text": [
      "0\n",
      "1\n",
      "2\n"
     ]
    }
   ],
   "source": [
    "for i in [0, 1, 2]:  # 확장for문과 유사\n",
    "    print(i)"
   ]
  },
  {
   "cell_type": "code",
   "execution_count": 16,
   "id": "1b358917",
   "metadata": {
    "ExecuteTime": {
     "end_time": "2024-11-06T03:14:39.314511Z",
     "start_time": "2024-11-06T03:14:39.309515Z"
    }
   },
   "outputs": [
    {
     "name": "stdout",
     "output_type": "stream",
     "text": [
      "0\n",
      "1\n",
      "2\n"
     ]
    }
   ],
   "source": [
    "for i in range(3):  # 0~2까지 순차적인 수\n",
    "    print(i)"
   ]
  },
  {
   "cell_type": "code",
   "execution_count": 18,
   "id": "830d78e4",
   "metadata": {
    "ExecuteTime": {
     "end_time": "2024-11-06T03:18:29.696701Z",
     "start_time": "2024-11-06T03:18:29.691695Z"
    }
   },
   "outputs": [
    {
     "name": "stdout",
     "output_type": "stream",
     "text": [
      "mango\n",
      "apple\n",
      "orange\n"
     ]
    }
   ],
   "source": [
    "# 1.\n",
    "for fruit in fruits:\n",
    "    print(fruit)"
   ]
  },
  {
   "cell_type": "code",
   "execution_count": 20,
   "id": "b2a325d6",
   "metadata": {
    "ExecuteTime": {
     "end_time": "2024-11-06T03:31:39.817123Z",
     "start_time": "2024-11-06T03:31:39.812855Z"
    }
   },
   "outputs": [
    {
     "name": "stdout",
     "output_type": "stream",
     "text": [
      "0번째 과일은 mango\n",
      "1번째 과일은 apple\n",
      "2번째 과일은 orange\n",
      "3번째 과일은 banana\n"
     ]
    }
   ],
   "source": [
    "# 2.\n",
    "fruits = ['mango', 'apple', 'orange', 'banana']\n",
    "for idx in range(len(fruits)):\n",
    "    print(\"{}번째 과일은 {}\".format(idx, fruits[idx]))"
   ]
  },
  {
   "cell_type": "code",
   "execution_count": 21,
   "id": "6d6ac54b",
   "metadata": {
    "ExecuteTime": {
     "end_time": "2024-11-06T03:34:47.105746Z",
     "start_time": "2024-11-06T03:34:47.098738Z"
    }
   },
   "outputs": [
    {
     "data": {
      "text/plain": [
       "[(0, 'mango'), (1, 'apple'), (2, 'orange'), (3, 'banana')]"
      ]
     },
     "execution_count": 21,
     "metadata": {},
     "output_type": "execute_result"
    }
   ],
   "source": [
    "list(enumerate(fruits))"
   ]
  },
  {
   "cell_type": "code",
   "execution_count": 22,
   "id": "ce112cc1",
   "metadata": {
    "ExecuteTime": {
     "end_time": "2024-11-06T03:36:46.806506Z",
     "start_time": "2024-11-06T03:36:46.801507Z"
    }
   },
   "outputs": [
    {
     "name": "stdout",
     "output_type": "stream",
     "text": [
      "0번째 과일은 mango\n",
      "1번째 과일은 apple\n",
      "2번째 과일은 orange\n",
      "3번째 과일은 banana\n"
     ]
    }
   ],
   "source": [
    "# 3.\n",
    "for idx, value in enumerate(fruits):\n",
    "    print(\"{}번째 과일은 {}\".format(idx, value))"
   ]
  },
  {
   "cell_type": "code",
   "execution_count": 24,
   "id": "e6bc2187",
   "metadata": {
    "ExecuteTime": {
     "end_time": "2024-11-06T03:40:51.301097Z",
     "start_time": "2024-11-06T03:40:51.294806Z"
    }
   },
   "outputs": [
    {
     "data": {
      "text/plain": [
       "[1, 2, 3, '4', True, [1, 2, 3]]"
      ]
     },
     "execution_count": 24,
     "metadata": {},
     "output_type": "execute_result"
    }
   ],
   "source": [
    "numbers = [1, 2, 3, '4', True, [1, 2, 3]]\n",
    "numbers"
   ]
  },
  {
   "cell_type": "code",
   "execution_count": 27,
   "id": "62572ded",
   "metadata": {
    "ExecuteTime": {
     "end_time": "2024-11-06T03:48:12.131024Z",
     "start_time": "2024-11-06T03:48:12.123026Z"
    }
   },
   "outputs": [
    {
     "data": {
      "text/plain": [
       "(3, 5)"
      ]
     },
     "execution_count": 27,
     "metadata": {},
     "output_type": "execute_result"
    }
   ],
   "source": [
    "# 2차원 리스트\n",
    "numbers_2d = [[1, 2, 3, 4, 5],\n",
    "              [11, 12, 13, 14, 15],\n",
    "              [91, 92, 93, 94, 95]]\n",
    "# 리스트인 데이터(값)가 3개 들어있는 리스트:[[1, 2, 3, 4, 5],[11, 12, 13, 14, 15],[91, 92, 93, 94, 95]]\n",
    "len(numbers_2d)  # 리스트 갯수:3\n",
    "len(numbers_2d), len(numbers_2d[0])"
   ]
  },
  {
   "cell_type": "code",
   "execution_count": 31,
   "id": "81a715a9",
   "metadata": {
    "ExecuteTime": {
     "end_time": "2024-11-06T03:50:05.831836Z",
     "start_time": "2024-11-06T03:50:05.826836Z"
    }
   },
   "outputs": [
    {
     "data": {
      "text/plain": [
       "12"
      ]
     },
     "execution_count": 31,
     "metadata": {},
     "output_type": "execute_result"
    }
   ],
   "source": [
    "numbers_2d[1][1]  # 1행1열:1번 방의 1번째 데이터"
   ]
  },
  {
   "cell_type": "code",
   "execution_count": 33,
   "id": "e374ba15",
   "metadata": {
    "ExecuteTime": {
     "end_time": "2024-11-06T03:54:13.153007Z",
     "start_time": "2024-11-06T03:54:13.146008Z"
    }
   },
   "outputs": [
    {
     "name": "stdout",
     "output_type": "stream",
     "text": [
      "0행0열 : 1\t0행1열 : 2\t0행2열 : 3\t0행3열 : 4\t0행4열 : 5\t\n",
      "1행0열 : 11\t1행1열 : 12\t1행2열 : 13\t1행3열 : 14\t1행4열 : 15\t\n",
      "2행0열 : 91\t2행1열 : 92\t2행2열 : 93\t2행3열 : 94\t2행4열 : 95\t\n"
     ]
    }
   ],
   "source": [
    "for i in range(len(numbers_2d)):  # for i in range(3) 행\n",
    "    for j in range(len(numbers_2d[i])):  # for j in range(5) 열\n",
    "        print(\"{}행{}열 : {}\".format(i, j, numbers_2d[i][j]), end=\"\\t\")  # \\t 없으면 한 줄마다 개행됨\n",
    "    print()  # 개행:행의 열만큼 출력이 끝나면 개행"
   ]
  },
  {
   "cell_type": "markdown",
   "id": "b04fbe14",
   "metadata": {},
   "source": [
    "## 1.2 기본 정보 조회"
   ]
  },
  {
   "cell_type": "code",
   "execution_count": 34,
   "id": "dbf9dc5a",
   "metadata": {
    "ExecuteTime": {
     "end_time": "2024-11-06T03:58:07.092816Z",
     "start_time": "2024-11-06T03:58:07.086595Z"
    }
   },
   "outputs": [],
   "source": [
    "numbers = [1, 12, 3, 4, 5]\n",
    "numbers_2d = [[100, 0, 1, 2, 3],\n",
    "              [9, 100, 110, 102, 130],\n",
    "              [59, 100, 130]]"
   ]
  },
  {
   "cell_type": "code",
   "execution_count": 35,
   "id": "1fa17988",
   "metadata": {
    "ExecuteTime": {
     "end_time": "2024-11-06T03:58:32.490424Z",
     "start_time": "2024-11-06T03:58:32.485427Z"
    }
   },
   "outputs": [
    {
     "name": "stdout",
     "output_type": "stream",
     "text": [
      "5 2\n"
     ]
    }
   ],
   "source": [
    "# 요소의 수\n",
    "print(len(numbers), len(numbers_2d))"
   ]
  },
  {
   "cell_type": "code",
   "execution_count": 39,
   "id": "05ebfc42",
   "metadata": {
    "ExecuteTime": {
     "end_time": "2024-11-06T04:00:20.235431Z",
     "start_time": "2024-11-06T04:00:20.228430Z"
    }
   },
   "outputs": [
    {
     "data": {
      "text/plain": [
       "(0, 130)"
      ]
     },
     "execution_count": 39,
     "metadata": {},
     "output_type": "execute_result"
    }
   ],
   "source": [
    "# 최소값, 최대값\n",
    "min(numbers), max(numbers)\n"
   ]
  },
  {
   "cell_type": "code",
   "execution_count": 41,
   "id": "f0b8b7fc",
   "metadata": {
    "ExecuteTime": {
     "end_time": "2024-11-06T04:02:37.689985Z",
     "start_time": "2024-11-06T04:02:37.683988Z"
    }
   },
   "outputs": [
    {
     "data": {
      "text/plain": [
       "([9, 100, 110, 102, 130], [100, 0, 1, 2, 3])"
      ]
     },
     "execution_count": 41,
     "metadata": {},
     "output_type": "execute_result"
    }
   ],
   "source": [
    "# 2차원 list의 min()함수 : 각 부분 리스트 중에서 첫 요소가 가장 작은 값\n",
    "#              max()함수 : 각 부분 리스트 중에서 첫 요소가 가장 큰 값\n",
    "min(numbers_2d), max(numbers_2d)"
   ]
  },
  {
   "cell_type": "code",
   "execution_count": 42,
   "id": "a50d2a58",
   "metadata": {
    "ExecuteTime": {
     "end_time": "2024-11-06T04:03:53.913133Z",
     "start_time": "2024-11-06T04:03:53.906652Z"
    }
   },
   "outputs": [
    {
     "data": {
      "text/plain": [
       "('banana', 'orange')"
      ]
     },
     "execution_count": 42,
     "metadata": {},
     "output_type": "execute_result"
    }
   ],
   "source": [
    "# list의 데이터가 문자일 경우 ASCII 코드 값으로 min(), max()가 적용됨\n",
    "fruits = ['mango', 'banana', 'orange']\n",
    "min(fruits), max(fruits)"
   ]
  },
  {
   "cell_type": "code",
   "execution_count": 49,
   "id": "1279fea5",
   "metadata": {
    "ExecuteTime": {
     "end_time": "2024-11-06T04:08:24.120915Z",
     "start_time": "2024-11-06T04:08:24.114919Z"
    }
   },
   "outputs": [
    {
     "name": "stdout",
     "output_type": "stream",
     "text": [
      "오름차순 정렬 : [1, 3, 5, 12, 14]\n",
      "내림차순 정렬 : [14, 12, 5, 3, 1]\n",
      "합 : 35\n",
      "sorted 함수 사용 시 정렬 후에도 리스트 내용이 바뀌지 않음 : [1, 12, 3, 14, 5]\n"
     ]
    }
   ],
   "source": [
    "# 정렬하기\n",
    "numbers = [1, 12, 3, 14, 5]\n",
    "print('오름차순 정렬 :', sorted(numbers))\n",
    "print('내림차순 정렬 :', sorted(numbers,reverse=True))\n",
    "print('합 :', sum(numbers))\n",
    "print('sorted 함수 사용 시 정렬 후에도 리스트 내용이 바뀌지 않음 :', numbers)"
   ]
  },
  {
   "cell_type": "markdown",
   "id": "ed3c89d3",
   "metadata": {},
   "source": [
    "## 1.3 요소 추가"
   ]
  },
  {
   "cell_type": "code",
   "execution_count": null,
   "id": "f57ee9fa",
   "metadata": {},
   "outputs": [],
   "source": [
    "# + : 두 리스트 연결\n",
    "# * : 리스트를 곱한 수만큼 반복\n",
    "# append() : 요소 맨 뒤에 추가\n",
    "# extend() : 리스트를 요소별로 맨 뒤에 추가\n",
    "# insert(idx, 값) : idx번째 인덱스 위치에 값 추가"
   ]
  },
  {
   "cell_type": "code",
   "execution_count": 50,
   "id": "21677126",
   "metadata": {
    "ExecuteTime": {
     "end_time": "2024-11-06T05:16:07.153780Z",
     "start_time": "2024-11-06T05:16:07.147783Z"
    }
   },
   "outputs": [
    {
     "data": {
      "text/plain": [
       "[1, 2, 3, 1, 2, 3]"
      ]
     },
     "execution_count": 50,
     "metadata": {},
     "output_type": "execute_result"
    }
   ],
   "source": [
    "numbers = [1, 2, 3]\n",
    "numbers = numbers + numbers  # 리스트 연결\n",
    "numbers"
   ]
  },
  {
   "cell_type": "code",
   "execution_count": 51,
   "id": "4fa7c795",
   "metadata": {
    "ExecuteTime": {
     "end_time": "2024-11-06T05:16:26.888385Z",
     "start_time": "2024-11-06T05:16:26.883386Z"
    }
   },
   "outputs": [
    {
     "name": "stdout",
     "output_type": "stream",
     "text": [
      "[1, 2, 3, 1, 2, 3, 1, 2, 3]\n",
      "[1, 2, 3, 1, 2, 3, 1, 2, 3]\n"
     ]
    }
   ],
   "source": [
    "numbers = [1, 2, 3]\n",
    "print(3 * numbers)  # 곱한 수 만큼 list 반복\n",
    "print(numbers * 3)"
   ]
  },
  {
   "cell_type": "code",
   "execution_count": 52,
   "id": "0ef88c86",
   "metadata": {
    "ExecuteTime": {
     "end_time": "2024-11-06T05:17:32.985167Z",
     "start_time": "2024-11-06T05:17:32.979170Z"
    }
   },
   "outputs": [
    {
     "data": {
      "text/plain": [
       "[1, 2, 3, 4]"
      ]
     },
     "execution_count": 52,
     "metadata": {},
     "output_type": "execute_result"
    }
   ],
   "source": [
    "numbers.append(4)\n",
    "numbers"
   ]
  },
  {
   "cell_type": "code",
   "execution_count": 53,
   "id": "0fccab9d",
   "metadata": {
    "ExecuteTime": {
     "end_time": "2024-11-06T05:18:46.593378Z",
     "start_time": "2024-11-06T05:18:46.586377Z"
    }
   },
   "outputs": [
    {
     "data": {
      "text/plain": [
       "[1, 2, 3, 4, [5, 6, 7]]"
      ]
     },
     "execution_count": 53,
     "metadata": {},
     "output_type": "execute_result"
    }
   ],
   "source": [
    "numbers.append([5, 6, 7])  # 맨 뒤에 요소 추가\n",
    "numbers\n",
    "# [1, 2, 3, 4, [5, 6, 7]]"
   ]
  },
  {
   "cell_type": "code",
   "execution_count": 56,
   "id": "d0294847",
   "metadata": {
    "ExecuteTime": {
     "end_time": "2024-11-06T05:22:25.352107Z",
     "start_time": "2024-11-06T05:22:25.345108Z"
    }
   },
   "outputs": [
    {
     "data": {
      "text/plain": [
       "[1, 2, 3, 4, 5, 6]"
      ]
     },
     "execution_count": 56,
     "metadata": {},
     "output_type": "execute_result"
    }
   ],
   "source": [
    "num = [1, 2, 3]\n",
    "num.extend([4, 5, 6])  # 요소 별로 맨 뒤에 각기 추가\n",
    "num\n",
    "# [1, 2, 3, 4, 5, 6]"
   ]
  },
  {
   "cell_type": "code",
   "execution_count": 57,
   "id": "a2f909c3",
   "metadata": {
    "ExecuteTime": {
     "end_time": "2024-11-06T05:24:33.367709Z",
     "start_time": "2024-11-06T05:24:33.361962Z"
    }
   },
   "outputs": [
    {
     "data": {
      "text/plain": [
       "['a', 'b', 'c', 'd']"
      ]
     },
     "execution_count": 57,
     "metadata": {},
     "output_type": "execute_result"
    }
   ],
   "source": [
    "lst = ['a', 'b', 'c']\n",
    "lst.append('d')\n",
    "lst"
   ]
  },
  {
   "cell_type": "code",
   "execution_count": 58,
   "id": "564772b4",
   "metadata": {
    "ExecuteTime": {
     "end_time": "2024-11-06T05:24:47.038326Z",
     "start_time": "2024-11-06T05:24:47.032329Z"
    }
   },
   "outputs": [
    {
     "data": {
      "text/plain": [
       "['a', 'b', 'c', 'd', 'hello']"
      ]
     },
     "execution_count": 58,
     "metadata": {},
     "output_type": "execute_result"
    }
   ],
   "source": [
    "lst.append('hello')\n",
    "lst"
   ]
  },
  {
   "cell_type": "code",
   "execution_count": 59,
   "id": "52216d85",
   "metadata": {
    "ExecuteTime": {
     "end_time": "2024-11-06T05:25:22.724789Z",
     "start_time": "2024-11-06T05:25:22.718791Z"
    }
   },
   "outputs": [
    {
     "data": {
      "text/plain": [
       "['a', 'b', 'c', 'd', 'hello', 'h', 'e', 'l', 'l', 'o']"
      ]
     },
     "execution_count": 59,
     "metadata": {},
     "output_type": "execute_result"
    }
   ],
   "source": [
    "lst.extend('hello')\n",
    "lst"
   ]
  },
  {
   "cell_type": "code",
   "execution_count": 63,
   "id": "079bd3e4",
   "metadata": {
    "ExecuteTime": {
     "end_time": "2024-11-06T05:26:51.645089Z",
     "start_time": "2024-11-06T05:26:51.638092Z"
    }
   },
   "outputs": [
    {
     "data": {
      "text/plain": [
       "[1, 'xx', 2, 3, 4, 5]"
      ]
     },
     "execution_count": 63,
     "metadata": {},
     "output_type": "execute_result"
    }
   ],
   "source": [
    "numbers = [1, 2, 3, 4, 5]\n",
    "numbers.insert(1, 'xx')\n",
    "numbers"
   ]
  },
  {
   "cell_type": "markdown",
   "id": "09f7faa3",
   "metadata": {},
   "source": [
    "## 1.4 인덱싱과 요소 갯수\n",
    "- 변수[index] : 인덱스를 이용한 접근\n",
    "- index(찾을데이터) : 해당 찾을 데이터가 있는 요소의 index를 반환(없으면 에러 발생)\n",
    "- count(찾을데이터) : 리스트에서 데이터의 갯수를 반환(없으면 0을 return)"
   ]
  },
  {
   "cell_type": "code",
   "execution_count": 64,
   "id": "a2b3b837",
   "metadata": {
    "ExecuteTime": {
     "end_time": "2024-11-06T05:33:53.273703Z",
     "start_time": "2024-11-06T05:33:53.268705Z"
    }
   },
   "outputs": [],
   "source": [
    "numbers = [1, 2, 3, [1, 2, 3], 1, 2, 3]"
   ]
  },
  {
   "cell_type": "code",
   "execution_count": 65,
   "id": "448e06c4",
   "metadata": {
    "ExecuteTime": {
     "end_time": "2024-11-06T05:33:59.536333Z",
     "start_time": "2024-11-06T05:33:59.530463Z"
    }
   },
   "outputs": [
    {
     "data": {
      "text/plain": [
       "2"
      ]
     },
     "execution_count": 65,
     "metadata": {},
     "output_type": "execute_result"
    }
   ],
   "source": [
    "numbers.count(2)"
   ]
  },
  {
   "cell_type": "code",
   "execution_count": 66,
   "id": "9d07ef28",
   "metadata": {
    "ExecuteTime": {
     "end_time": "2024-11-06T05:34:54.351254Z",
     "start_time": "2024-11-06T05:34:54.345636Z"
    }
   },
   "outputs": [
    {
     "data": {
      "text/plain": [
       "0"
      ]
     },
     "execution_count": 66,
     "metadata": {},
     "output_type": "execute_result"
    }
   ],
   "source": [
    "numbers.count(9)"
   ]
  },
  {
   "cell_type": "code",
   "execution_count": 67,
   "id": "01d2b882",
   "metadata": {
    "ExecuteTime": {
     "end_time": "2024-11-06T05:35:06.782432Z",
     "start_time": "2024-11-06T05:35:06.777433Z"
    }
   },
   "outputs": [
    {
     "data": {
      "text/plain": [
       "False"
      ]
     },
     "execution_count": 67,
     "metadata": {},
     "output_type": "execute_result"
    }
   ],
   "source": [
    "9 in numbers  # 9가 numbers의 요소인지 여부:있으면 True, 없으면 False를 반환"
   ]
  },
  {
   "cell_type": "code",
   "execution_count": 72,
   "id": "e2ed0748",
   "metadata": {
    "ExecuteTime": {
     "end_time": "2024-11-06T05:39:53.149619Z",
     "start_time": "2024-11-06T05:39:53.142620Z"
    }
   },
   "outputs": [
    {
     "data": {
      "text/plain": [
       "1"
      ]
     },
     "execution_count": 72,
     "metadata": {},
     "output_type": "execute_result"
    }
   ],
   "source": [
    "numbers = [1, 2, 3, [1, 2, 3], 1, 2, 3]\n",
    "numbers.index(2)  # 처음(0인덱스)부터 2가 나오는 위치를 반환"
   ]
  },
  {
   "cell_type": "code",
   "execution_count": 69,
   "id": "c15b046a",
   "metadata": {
    "ExecuteTime": {
     "end_time": "2024-11-06T05:38:34.937338Z",
     "start_time": "2024-11-06T05:38:34.930619Z"
    }
   },
   "outputs": [
    {
     "data": {
      "text/plain": [
       "5"
      ]
     },
     "execution_count": 69,
     "metadata": {},
     "output_type": "execute_result"
    }
   ],
   "source": [
    "numbers.index(2, 2)  # 2번째 부터 2가 처음 나오는 위치"
   ]
  },
  {
   "cell_type": "code",
   "execution_count": 70,
   "id": "ef1f3e10",
   "metadata": {
    "ExecuteTime": {
     "end_time": "2024-11-06T05:39:38.197091Z",
     "start_time": "2024-11-06T05:39:38.191092Z"
    }
   },
   "outputs": [
    {
     "name": "stdout",
     "output_type": "stream",
     "text": [
      "0\n",
      "False\n"
     ]
    }
   ],
   "source": [
    "# 9가 numbers 리스트의 요소에 있는지 여부를 검사\n",
    "print(numbers.count(9))\n",
    "print(9 in numbers)"
   ]
  },
  {
   "cell_type": "code",
   "execution_count": 73,
   "id": "3dda70f0",
   "metadata": {
    "ExecuteTime": {
     "end_time": "2024-11-06T05:40:25.974063Z",
     "start_time": "2024-11-06T05:40:25.951828Z"
    }
   },
   "outputs": [
    {
     "ename": "ValueError",
     "evalue": "9 is not in list",
     "output_type": "error",
     "traceback": [
      "\u001b[1;31m---------------------------------------------------------------------------\u001b[0m",
      "\u001b[1;31mValueError\u001b[0m                                Traceback (most recent call last)",
      "Cell \u001b[1;32mIn[73], line 1\u001b[0m\n\u001b[1;32m----> 1\u001b[0m \u001b[43mnumbers\u001b[49m\u001b[38;5;241;43m.\u001b[39;49m\u001b[43mindex\u001b[49m\u001b[43m(\u001b[49m\u001b[38;5;241;43m9\u001b[39;49m\u001b[43m)\u001b[49m\n",
      "\u001b[1;31mValueError\u001b[0m: 9 is not in list"
     ]
    }
   ],
   "source": [
    "numbers.index(9)"
   ]
  },
  {
   "cell_type": "code",
   "execution_count": 74,
   "id": "139b7865",
   "metadata": {
    "ExecuteTime": {
     "end_time": "2024-11-06T05:43:50.957290Z",
     "start_time": "2024-11-06T05:43:50.950731Z"
    }
   },
   "outputs": [
    {
     "name": "stdout",
     "output_type": "stream",
     "text": [
      "9가 요소에 포함되지 않습니다\n"
     ]
    }
   ],
   "source": [
    "if 9 in numbers:\n",
    "    print(numbers.index(9))\n",
    "else:\n",
    "    print('9가 요소에 포함되지 않습니다')"
   ]
  },
  {
   "cell_type": "code",
   "execution_count": 75,
   "id": "a31ed874",
   "metadata": {
    "ExecuteTime": {
     "end_time": "2024-11-06T05:47:49.424528Z",
     "start_time": "2024-11-06T05:47:49.418529Z"
    }
   },
   "outputs": [],
   "source": [
    "# def : 함수를 만들 때 사용하는 예약어\n",
    "def safe_index(lst, item):\n",
    "    if item in lst:\n",
    "        return lst.index(item)\n",
    "    else:\n",
    "        return -1"
   ]
  },
  {
   "cell_type": "code",
   "execution_count": 77,
   "id": "73fd8647",
   "metadata": {
    "ExecuteTime": {
     "end_time": "2024-11-06T05:50:07.766320Z",
     "start_time": "2024-11-06T05:50:07.762321Z"
    }
   },
   "outputs": [],
   "source": [
    "def safe_index(lst, item):\n",
    "    return lst.index(item) if item in lst else -1  # if문이 참일 때만 lst.index(item)을 return"
   ]
  },
  {
   "cell_type": "code",
   "execution_count": 78,
   "id": "b70588af",
   "metadata": {
    "ExecuteTime": {
     "end_time": "2024-11-06T05:50:08.679545Z",
     "start_time": "2024-11-06T05:50:08.673545Z"
    }
   },
   "outputs": [
    {
     "data": {
      "text/plain": [
       "-1"
      ]
     },
     "execution_count": 78,
     "metadata": {},
     "output_type": "execute_result"
    }
   ],
   "source": [
    "safe_index(numbers, 9)"
   ]
  },
  {
   "cell_type": "code",
   "execution_count": 79,
   "id": "7c106877",
   "metadata": {
    "ExecuteTime": {
     "end_time": "2024-11-06T05:51:49.174062Z",
     "start_time": "2024-11-06T05:51:49.141775Z"
    }
   },
   "outputs": [
    {
     "ename": "IndexError",
     "evalue": "list index out of range",
     "output_type": "error",
     "traceback": [
      "\u001b[1;31m---------------------------------------------------------------------------\u001b[0m",
      "\u001b[1;31mIndexError\u001b[0m                                Traceback (most recent call last)",
      "Cell \u001b[1;32mIn[79], line 1\u001b[0m\n\u001b[1;32m----> 1\u001b[0m \u001b[43mnumbers\u001b[49m\u001b[43m[\u001b[49m\u001b[38;5;241;43m20\u001b[39;49m\u001b[43m]\u001b[49m\n",
      "\u001b[1;31mIndexError\u001b[0m: list index out of range"
     ]
    }
   ],
   "source": [
    "numbers[20]  # 벗어난 인덱싱 시 에러"
   ]
  },
  {
   "cell_type": "markdown",
   "id": "79cac86b",
   "metadata": {},
   "source": [
    "## 1.5 원하는 요소 추출\n",
    "1. 리스트 슬라이싱 : list에서 원하는 index의 데이터를 추출\n",
    " - 인덱스의 범위를 벗어난 값도 에러나지 않음\n",
    " - [from:stop:step] from번째 부터 stop앞까지 step씩 증가하는 index값 추출\n",
    "         from 생략시 처음, stop 생략 시 끝, step 생략 시 1 // 모두 생략 가능\n",
    " - 인덱스는 음수 가능 <br><br>\n",
    "\n",
    "2. <b><font color='red'>리스트 컴프리헨션</font></b> : list에서 원하는 데이터를 추출"
   ]
  },
  {
   "cell_type": "code",
   "execution_count": 82,
   "id": "d36db430",
   "metadata": {
    "ExecuteTime": {
     "end_time": "2024-11-06T05:58:22.115417Z",
     "start_time": "2024-11-06T05:58:22.108731Z"
    }
   },
   "outputs": [
    {
     "name": "stdout",
     "output_type": "stream",
     "text": [
      "[20, 19, 18, 13, 12, 10, 9, 5, 3, 1]\n",
      "[1, 5, 10, 13, 19]\n",
      "[1, 3, 5, 9, 10, 12, 13, 18, 19, 20]\n"
     ]
    }
   ],
   "source": [
    "numbers = [1, 3, 5, 9, 10, 12, 13, 18, 19, 20]\n",
    "# 거꾸로 출력\n",
    "print(numbers[::-1])\n",
    "print(numbers[0:10:2])  # 0번째 부터 10번째 앞까지 2씩 전진하며 출력(짝수번 째를 출력)\n",
    "print(numbers[0:100])  # 인덱스 범위를 벗어나면 끝까지 전부 출력"
   ]
  },
  {
   "cell_type": "code",
   "execution_count": 86,
   "id": "06c14931",
   "metadata": {
    "ExecuteTime": {
     "end_time": "2024-11-06T06:17:53.427645Z",
     "start_time": "2024-11-06T06:17:53.419649Z"
    }
   },
   "outputs": [
    {
     "data": {
      "text/plain": [
       "[1, 3, 5, 9, 10, 12, 13, 18, 19, 20]"
      ]
     },
     "execution_count": 86,
     "metadata": {},
     "output_type": "execute_result"
    }
   ],
   "source": [
    "# 리스트 컴프리헨션을 이용해 list에서 원하는 데이터만 액세스(특정 조건인 값만 출력)\n",
    "numbers = [1, 3, 5, 9, 10, 12, 13, 18, 19, 20]\n",
    "# 모든 데이터 추출\n",
    "# for data in numbers:\n",
    "#     print(data, end='\\t')\n",
    "[data for data in numbers]"
   ]
  },
  {
   "cell_type": "code",
   "execution_count": 87,
   "id": "4951cd39",
   "metadata": {
    "ExecuteTime": {
     "end_time": "2024-11-06T06:18:48.449722Z",
     "start_time": "2024-11-06T06:18:48.442726Z"
    }
   },
   "outputs": [
    {
     "data": {
      "text/plain": [
       "[10, 12, 18, 20]"
      ]
     },
     "execution_count": 87,
     "metadata": {},
     "output_type": "execute_result"
    }
   ],
   "source": [
    "# 짝수 데이터 추출\n",
    "# for data in numbers:\n",
    "#     if data%2 == 0:\n",
    "#         print(data, end='\\t')\n",
    "[data for data in numbers if data%2 == 0]  # data가 2로 나눈 나머지가 0인 것"
   ]
  },
  {
   "cell_type": "code",
   "execution_count": 88,
   "id": "7c4da861",
   "metadata": {
    "ExecuteTime": {
     "end_time": "2024-11-06T06:22:25.984129Z",
     "start_time": "2024-11-06T06:22:25.977126Z"
    }
   },
   "outputs": [
    {
     "data": {
      "text/plain": [
       "[10, 12, 13, 18, 19, 20]"
      ]
     },
     "execution_count": 88,
     "metadata": {},
     "output_type": "execute_result"
    }
   ],
   "source": [
    "# ex1. numbers에서 10이상의 요소만 추출\n",
    "[data for data in numbers if data >= 10]"
   ]
  },
  {
   "cell_type": "code",
   "execution_count": 92,
   "id": "e17c1c72",
   "metadata": {
    "ExecuteTime": {
     "end_time": "2024-11-06T06:23:40.598080Z",
     "start_time": "2024-11-06T06:23:40.591080Z"
    }
   },
   "outputs": [
    {
     "data": {
      "text/plain": [
       "['orange', 'apple', 'mango']"
      ]
     },
     "execution_count": 92,
     "metadata": {},
     "output_type": "execute_result"
    }
   ],
   "source": [
    "# ex2. fruits에서 과일의 글자가 5글자 이상인 과일만 추출\n",
    "fruits = ['orange', 'apple', 'mango', 'kiwi']\n",
    "[data for data in fruits if len(data) >= 5]"
   ]
  },
  {
   "cell_type": "code",
   "execution_count": 121,
   "id": "e584fd95",
   "metadata": {
    "ExecuteTime": {
     "end_time": "2024-11-06T06:31:44.587008Z",
     "start_time": "2024-11-06T06:31:44.580008Z"
    }
   },
   "outputs": [
    {
     "data": {
      "text/plain": [
       "[6, 5, 5, 4]"
      ]
     },
     "execution_count": 121,
     "metadata": {},
     "output_type": "execute_result"
    }
   ],
   "source": [
    "# ex2-1. fruits 리스트의 과일 글자 수\n",
    "[len(data) for data in fruits]"
   ]
  },
  {
   "cell_type": "code",
   "execution_count": 126,
   "id": "3b6ac460",
   "metadata": {
    "ExecuteTime": {
     "end_time": "2024-11-06T06:33:47.592994Z",
     "start_time": "2024-11-06T06:33:47.586632Z"
    }
   },
   "outputs": [
    {
     "data": {
      "text/plain": [
       "[9, 16, 25]"
      ]
     },
     "execution_count": 126,
     "metadata": {},
     "output_type": "execute_result"
    }
   ],
   "source": [
    "# ex3. 3이상의 요소들의 제곱을 추출\n",
    "L = [1, 2, 3, 4, 5]\n",
    "[data**2 for data in L if data >= 3]"
   ]
  },
  {
   "cell_type": "code",
   "execution_count": 125,
   "id": "4656144b",
   "metadata": {
    "ExecuteTime": {
     "end_time": "2024-11-06T06:32:49.985279Z",
     "start_time": "2024-11-06T06:32:49.979279Z"
    }
   },
   "outputs": [
    {
     "data": {
      "text/plain": [
       "[2, 4, 6, 8, 10]"
      ]
     },
     "execution_count": 125,
     "metadata": {},
     "output_type": "execute_result"
    }
   ],
   "source": [
    "# ex4. 리스트의 값의 두 배로 추출\n",
    "[data*2 for data in L]"
   ]
  },
  {
   "cell_type": "markdown",
   "id": "a036d024",
   "metadata": {},
   "source": [
    "## 1.6 요소 수정하기"
   ]
  },
  {
   "cell_type": "code",
   "execution_count": 127,
   "id": "8acb92d2",
   "metadata": {
    "ExecuteTime": {
     "end_time": "2024-11-06T06:36:06.224074Z",
     "start_time": "2024-11-06T06:36:06.217074Z"
    }
   },
   "outputs": [
    {
     "data": {
      "text/plain": [
       "[0, 1, 222, 3, 4, 5, 6, 7, 8, 9]"
      ]
     },
     "execution_count": 127,
     "metadata": {},
     "output_type": "execute_result"
    }
   ],
   "source": [
    "# 인덱싱을 이용하여 수정\n",
    "numbers = [0, 1, 2, 3, 4, 5, 6, 7, 8, 9]\n",
    "numbers[2] = 222\n",
    "numbers"
   ]
  },
  {
   "cell_type": "code",
   "execution_count": 128,
   "id": "d8333c1b",
   "metadata": {
    "ExecuteTime": {
     "end_time": "2024-11-06T06:37:58.336044Z",
     "start_time": "2024-11-06T06:37:58.328049Z"
    }
   },
   "outputs": [
    {
     "data": {
      "text/plain": [
       "['xx', 'xx', 'xx', 'xx', 'xx', 'xx', 'xx', 'xx', 222, 3, 4, 5, 6, 7, 8, 9]"
      ]
     },
     "execution_count": 128,
     "metadata": {},
     "output_type": "execute_result"
    }
   ],
   "source": [
    "# 슬라이싱(step 부분 미포함)을 이용하여 부분 리스트를 통째로 수정\n",
    "numbers[0:2] = ['xx', 'xx', 'xx', 'xx', 'xx', 'xx', 'xx', 'xx']  # 0번째부터 2번째 앞까지\n",
    "numbers"
   ]
  },
  {
   "cell_type": "code",
   "execution_count": 134,
   "id": "0d224e74",
   "metadata": {
    "ExecuteTime": {
     "end_time": "2024-11-06T06:43:52.651298Z",
     "start_time": "2024-11-06T06:43:52.645186Z"
    }
   },
   "outputs": [
    {
     "name": "stdout",
     "output_type": "stream",
     "text": [
      "수정 전 : [0, 0, 0, 0, 0, 0, 0, 0, 0, 0]\n",
      "수정 후 : [9, 0, 9, 0, 9, 0, 9, 0, 9, 0]\n"
     ]
    }
   ],
   "source": [
    "# 슬라이싱(step 부분 포함)을 이용하여 부분 수정시 수정될 조건과 수정하려는 요소 갯수가 맞아야 함\n",
    "numbers = [0]*10\n",
    "print('수정 전 :', numbers)\n",
    "numbers[::2] =[9, 9, 9, 9, 9]  # 처음부터 끝까지 짝수 번째\n",
    "print('수정 후 :', numbers)"
   ]
  },
  {
   "cell_type": "code",
   "execution_count": 135,
   "id": "8038c36f",
   "metadata": {
    "ExecuteTime": {
     "end_time": "2024-11-06T06:43:53.662862Z",
     "start_time": "2024-11-06T06:43:53.628590Z"
    }
   },
   "outputs": [
    {
     "ename": "ValueError",
     "evalue": "attempt to assign sequence of size 2 to extended slice of size 5",
     "output_type": "error",
     "traceback": [
      "\u001b[1;31m---------------------------------------------------------------------------\u001b[0m",
      "\u001b[1;31mValueError\u001b[0m                                Traceback (most recent call last)",
      "Cell \u001b[1;32mIn[135], line 2\u001b[0m\n\u001b[0;32m      1\u001b[0m \u001b[38;5;66;03m# 징검다리 형식이 아닌 통째로 수정되므로 수정하려는 요소의 갯수가 맞지 않으면 에러\u001b[39;00m\n\u001b[1;32m----> 2\u001b[0m numbers[::\u001b[38;5;241m2\u001b[39m] \u001b[38;5;241m=\u001b[39m [\u001b[38;5;241m1\u001b[39m, \u001b[38;5;241m2\u001b[39m]\n\u001b[0;32m      3\u001b[0m numbers[::\u001b[38;5;241m2\u001b[39m] \u001b[38;5;241m=\u001b[39m [\u001b[38;5;241m1\u001b[39m, \u001b[38;5;241m2\u001b[39m, \u001b[38;5;241m3\u001b[39m, \u001b[38;5;241m4\u001b[39m, \u001b[38;5;241m5\u001b[39m, \u001b[38;5;241m6\u001b[39m]\n",
      "\u001b[1;31mValueError\u001b[0m: attempt to assign sequence of size 2 to extended slice of size 5"
     ]
    }
   ],
   "source": [
    "# 징검다리 형식이 아닌 통째로 수정되므로 수정하려는 요소의 갯수가 맞지 않으면 에러\n",
    "numbers[::2] = [1, 2]\n",
    "numbers[::2] = [1, 2, 3, 4, 5, 6]"
   ]
  },
  {
   "cell_type": "markdown",
   "id": "be5526ab",
   "metadata": {},
   "source": [
    "## 1.7 요소 삭제\n",
    " - pop() : 가장 마지막 인덱스의 요소가 반환되고 삭제\n",
    " - pop(idx) : idx번째 요소가 반환되고 삭제\n",
    " - remove(data) : list안의 data 삭제\n",
    " - del 리스트변수[idx] : idx번째 요소 삭제"
   ]
  },
  {
   "cell_type": "code",
   "execution_count": 140,
   "id": "249c6910",
   "metadata": {
    "ExecuteTime": {
     "end_time": "2024-11-06T06:49:04.480681Z",
     "start_time": "2024-11-06T06:49:04.473681Z"
    }
   },
   "outputs": [
    {
     "name": "stdout",
     "output_type": "stream",
     "text": [
      "삭제한 데이터 : 5\n",
      "삭제한 후 numbers : [1, 2, 3, 4]\n",
      "삭제한 데이터 : 4\n",
      "삭제한 후 numbers : [1, 2, 3]\n",
      "삭제한 데이터 : 1\n",
      "삭제한 후 numbers : [2, 3]\n"
     ]
    }
   ],
   "source": [
    "# pop\n",
    "numbers = [1, 2, 3, 4, 5]\n",
    "print('삭제한 데이터 :', numbers.pop())\n",
    "print('삭제한 후 numbers :', numbers)\n",
    "print('삭제한 데이터 :', numbers.pop())\n",
    "print('삭제한 후 numbers :', numbers)\n",
    "print('삭제한 데이터 :', numbers.pop(0))\n",
    "print('삭제한 후 numbers :', numbers)"
   ]
  },
  {
   "cell_type": "code",
   "execution_count": 145,
   "id": "57233b3f",
   "metadata": {
    "ExecuteTime": {
     "end_time": "2024-11-06T06:50:51.702111Z",
     "start_time": "2024-11-06T06:50:51.696678Z"
    }
   },
   "outputs": [
    {
     "name": "stdout",
     "output_type": "stream",
     "text": [
      "None\n",
      "[0, 1, 2, 4, 5]\n"
     ]
    }
   ],
   "source": [
    "# remove\n",
    "numbers = [0, 1, 2, 3, 4, 5]\n",
    "print(numbers.remove(3))  # remove()는 반환값이 없고, 해당 데이터만 삭제\n",
    "print(numbers)"
   ]
  },
  {
   "cell_type": "code",
   "execution_count": 146,
   "id": "dda039d7",
   "metadata": {
    "ExecuteTime": {
     "end_time": "2024-11-06T06:51:20.734949Z",
     "start_time": "2024-11-06T06:51:20.712161Z"
    }
   },
   "outputs": [
    {
     "ename": "ValueError",
     "evalue": "list.remove(x): x not in list",
     "output_type": "error",
     "traceback": [
      "\u001b[1;31m---------------------------------------------------------------------------\u001b[0m",
      "\u001b[1;31mValueError\u001b[0m                                Traceback (most recent call last)",
      "Cell \u001b[1;32mIn[146], line 1\u001b[0m\n\u001b[1;32m----> 1\u001b[0m \u001b[43mnumbers\u001b[49m\u001b[38;5;241;43m.\u001b[39;49m\u001b[43mremove\u001b[49m\u001b[43m(\u001b[49m\u001b[38;5;241;43m9\u001b[39;49m\u001b[43m)\u001b[49m\n",
      "\u001b[1;31mValueError\u001b[0m: list.remove(x): x not in list"
     ]
    }
   ],
   "source": [
    "numbers.remove(9)  # 에러"
   ]
  },
  {
   "cell_type": "code",
   "execution_count": 147,
   "id": "dfdf7960",
   "metadata": {
    "ExecuteTime": {
     "end_time": "2024-11-06T06:52:07.384003Z",
     "start_time": "2024-11-06T06:52:07.378732Z"
    }
   },
   "outputs": [
    {
     "name": "stdout",
     "output_type": "stream",
     "text": [
      "해당 데이터는 없는 데이터입니다\n"
     ]
    }
   ],
   "source": [
    "if 9 in numbers:\n",
    "    numbers.remove(9)\n",
    "else:\n",
    "    print('해당 데이터는 없는 데이터입니다')"
   ]
  },
  {
   "cell_type": "code",
   "execution_count": 148,
   "id": "16c4fce9",
   "metadata": {
    "ExecuteTime": {
     "end_time": "2024-11-06T06:53:47.359400Z",
     "start_time": "2024-11-06T06:53:47.354400Z"
    }
   },
   "outputs": [],
   "source": [
    "def safe_remove(lst, remove_item):\n",
    "    if remove_item in lst:\n",
    "        lst.remove(remove_item)\n",
    "    else:\n",
    "        print('해당 데이터는 없는 아이템입니다')"
   ]
  },
  {
   "cell_type": "code",
   "execution_count": 149,
   "id": "5f0621ba",
   "metadata": {
    "ExecuteTime": {
     "end_time": "2024-11-06T06:54:15.860855Z",
     "start_time": "2024-11-06T06:54:15.854866Z"
    }
   },
   "outputs": [
    {
     "name": "stdout",
     "output_type": "stream",
     "text": [
      "해당 데이터는 없는 아이템입니다\n"
     ]
    }
   ],
   "source": [
    "safe_remove(numbers, 9)"
   ]
  },
  {
   "cell_type": "code",
   "execution_count": 150,
   "id": "a346e83d",
   "metadata": {
    "ExecuteTime": {
     "end_time": "2024-11-06T06:55:31.742440Z",
     "start_time": "2024-11-06T06:55:31.736442Z"
    }
   },
   "outputs": [
    {
     "name": "stdout",
     "output_type": "stream",
     "text": [
      "삭제 후 : [0, 1, 3, 4, 5]\n"
     ]
    }
   ],
   "source": [
    "numbers = [0, 1, 2, 3, 4, 5]\n",
    "del numbers[2]  # 2번째 index 요소 제거(rollback불가)\n",
    "print('삭제 후 :', numbers)"
   ]
  },
  {
   "cell_type": "code",
   "execution_count": 151,
   "id": "31acbc6a",
   "metadata": {
    "ExecuteTime": {
     "end_time": "2024-11-06T06:56:24.034545Z",
     "start_time": "2024-11-06T06:56:24.018920Z"
    }
   },
   "outputs": [],
   "source": [
    "del numbers  # 변수 삭제"
   ]
  },
  {
   "cell_type": "code",
   "execution_count": 152,
   "id": "1ba423b8",
   "metadata": {
    "ExecuteTime": {
     "end_time": "2024-11-06T06:56:32.547380Z",
     "start_time": "2024-11-06T06:56:32.525966Z"
    }
   },
   "outputs": [
    {
     "ename": "NameError",
     "evalue": "name 'numbers' is not defined",
     "output_type": "error",
     "traceback": [
      "\u001b[1;31m---------------------------------------------------------------------------\u001b[0m",
      "\u001b[1;31mNameError\u001b[0m                                 Traceback (most recent call last)",
      "Cell \u001b[1;32mIn[152], line 1\u001b[0m\n\u001b[1;32m----> 1\u001b[0m \u001b[43mnumbers\u001b[49m\n",
      "\u001b[1;31mNameError\u001b[0m: name 'numbers' is not defined"
     ]
    }
   ],
   "source": [
    "numbers"
   ]
  },
  {
   "cell_type": "markdown",
   "id": "b868e554",
   "metadata": {},
   "source": [
    "## 1.8 정렬하기"
   ]
  },
  {
   "cell_type": "code",
   "execution_count": 161,
   "id": "c86f9ef0",
   "metadata": {
    "ExecuteTime": {
     "end_time": "2024-11-06T07:00:46.666609Z",
     "start_time": "2024-11-06T07:00:46.660611Z"
    }
   },
   "outputs": [
    {
     "data": {
      "text/plain": [
       "[0, 5, 6, 8, 9]"
      ]
     },
     "execution_count": 161,
     "metadata": {},
     "output_type": "execute_result"
    }
   ],
   "source": [
    "numbers = [9, 5, 0, 8, 6]\n",
    "# sorted(numbers)  # numbers 자체는 변하지 않고 정렬만 됨\n",
    "numbers.sort()  # numbers 자체가 정렬한 결과로 바뀜(기본정렬:오름차순)\n",
    "numbers"
   ]
  },
  {
   "cell_type": "code",
   "execution_count": 162,
   "id": "e4b7eb14",
   "metadata": {
    "ExecuteTime": {
     "end_time": "2024-11-06T07:00:47.560787Z",
     "start_time": "2024-11-06T07:00:47.555786Z"
    }
   },
   "outputs": [
    {
     "data": {
      "text/plain": [
       "[9, 8, 6, 5, 0]"
      ]
     },
     "execution_count": 162,
     "metadata": {},
     "output_type": "execute_result"
    }
   ],
   "source": [
    "numbers = numbers[::-1]  # 오름차순 결과를 내림차순으로\n",
    "numbers"
   ]
  },
  {
   "cell_type": "code",
   "execution_count": 173,
   "id": "1838ea12",
   "metadata": {
    "ExecuteTime": {
     "end_time": "2024-11-06T07:11:55.052777Z",
     "start_time": "2024-11-06T07:11:55.045780Z"
    }
   },
   "outputs": [
    {
     "data": {
      "text/plain": [
       "[6, 8, 0, 5, 9]"
      ]
     },
     "execution_count": 173,
     "metadata": {},
     "output_type": "execute_result"
    }
   ],
   "source": [
    "numbers = [9, 5, 0, 8, 6]\n",
    "numbers.reverse()  # 리스트를 역순으로 변경\n",
    "numbers"
   ]
  },
  {
   "cell_type": "code",
   "execution_count": 172,
   "id": "09f11aea",
   "metadata": {
    "ExecuteTime": {
     "end_time": "2024-11-06T07:11:48.997363Z",
     "start_time": "2024-11-06T07:11:48.989988Z"
    }
   },
   "outputs": [
    {
     "data": {
      "text/plain": [
       "[9, 8, 6, 5, 0]"
      ]
     },
     "execution_count": 172,
     "metadata": {},
     "output_type": "execute_result"
    }
   ],
   "source": [
    "numbers.sort(reverse=True)  # 내림차순 정렬\n",
    "numbers"
   ]
  },
  {
   "cell_type": "markdown",
   "id": "64cfb543",
   "metadata": {},
   "source": [
    "## 1.9 리스트 복제"
   ]
  },
  {
   "cell_type": "code",
   "execution_count": 177,
   "id": "133954f0",
   "metadata": {
    "ExecuteTime": {
     "end_time": "2024-11-06T07:16:31.402890Z",
     "start_time": "2024-11-06T07:16:31.395894Z"
    }
   },
   "outputs": [
    {
     "name": "stdout",
     "output_type": "stream",
     "text": [
      "원본 : [1, 5, 6, 9]\n",
      "정렬본 : [1, 5, 6, 9]\n",
      "원본 주소 : 2356430525696\n",
      "정렬본 주소 : 2356430525696\n"
     ]
    }
   ],
   "source": [
    "# 얕은 복사\n",
    "numbers = [5, 6, 1, 9]\n",
    "new_numbers = numbers  # 얕은 복사. 주소값이 같음\n",
    "new_numbers.sort()\n",
    "print('원본 :', numbers)\n",
    "print('정렬본 :', new_numbers)\n",
    "print('원본 주소 :', id(numbers))\n",
    "print('정렬본 주소 :', id(new_numbers))"
   ]
  },
  {
   "cell_type": "code",
   "execution_count": 180,
   "id": "42a39c30",
   "metadata": {
    "ExecuteTime": {
     "end_time": "2024-11-06T07:20:43.120436Z",
     "start_time": "2024-11-06T07:20:43.114439Z"
    }
   },
   "outputs": [
    {
     "name": "stdout",
     "output_type": "stream",
     "text": [
      "numbers : [5, 6, 1, 9]\n",
      "new_numbers : [9, 6, 5, 1]\n",
      "numbers 주소 : 2356430962368\n",
      "new_numbers 주소 : 2356430962624\n"
     ]
    }
   ],
   "source": [
    "# 깊은 복사(복제)\n",
    "numbers = [5, 6, 1, 9]\n",
    "new_numbers = numbers.copy()  # numbers를 복제(깊은 복사). 주소값이 다름\n",
    "new_numbers.sort(reverse=True)  # 내림차순 정렬\n",
    "print('numbers :', numbers)\n",
    "print('new_numbers :', new_numbers)\n",
    "print('numbers 주소 :', id(numbers))\n",
    "print('new_numbers 주소 :', id(new_numbers))"
   ]
  },
  {
   "cell_type": "code",
   "execution_count": 183,
   "id": "e8c9fcd3",
   "metadata": {
    "ExecuteTime": {
     "end_time": "2024-11-06T07:24:39.205309Z",
     "start_time": "2024-11-06T07:24:39.199310Z"
    }
   },
   "outputs": [
    {
     "name": "stdout",
     "output_type": "stream",
     "text": [
      "정렬 전 : 서울 부산 대전 대구 인천 광주 제주\n",
      "정렬 후 : 광주 대구 대전 부산 서울 인천 제주\n"
     ]
    }
   ],
   "source": [
    "city = ['서울', '부산', '대전', '대구', '인천', '광주', '제주']\n",
    "temp = city.copy()  # 깊은 복사\n",
    "temp.sort()\n",
    "print('정렬 전 :', ' '.join(city))\n",
    "print('정렬 후 :', ' '.join(temp))"
   ]
  },
  {
   "cell_type": "markdown",
   "id": "7a5f2eb2",
   "metadata": {},
   "source": [
    "# 2절. 튜플\n",
    " - 리스트([])와 유사하지만 읽기 전용. 수정이 필요없는 데이터에서 사용\n",
    " - 수정이 불가하므로 튜플에 데이터 수정, 추가, 삭제 불가(pop, remove, append, extend 불가)\n",
    " - 제공되는 함수도 많지 않음\n",
    " - () 이용해서 생성"
   ]
  },
  {
   "cell_type": "code",
   "execution_count": 185,
   "id": "22f4db8f",
   "metadata": {
    "ExecuteTime": {
     "end_time": "2024-11-06T07:30:30.522963Z",
     "start_time": "2024-11-06T07:30:30.516967Z"
    }
   },
   "outputs": [
    {
     "name": "stdout",
     "output_type": "stream",
     "text": [
      "<class 'tuple'>\n",
      "('서울', '부산', '인천', '목포')\n"
     ]
    }
   ],
   "source": [
    "city = ('서울', '부산', '인천', '목포')\n",
    "print(type(city))\n",
    "print(city)"
   ]
  },
  {
   "cell_type": "code",
   "execution_count": 188,
   "id": "996c99f5",
   "metadata": {
    "ExecuteTime": {
     "end_time": "2024-11-06T07:31:13.417200Z",
     "start_time": "2024-11-06T07:31:13.410708Z"
    }
   },
   "outputs": [
    {
     "data": {
      "text/plain": [
       "'서울, 부산, 인천, 목포'"
      ]
     },
     "execution_count": 188,
     "metadata": {},
     "output_type": "execute_result"
    }
   ],
   "source": [
    "', '.join(city)"
   ]
  },
  {
   "cell_type": "code",
   "execution_count": 200,
   "id": "756cf2fd",
   "metadata": {
    "ExecuteTime": {
     "end_time": "2024-11-06T07:37:48.788871Z",
     "start_time": "2024-11-06T07:37:48.783920Z"
    }
   },
   "outputs": [
    {
     "name": "stdout",
     "output_type": "stream",
     "text": [
      "<class 'list'>\n",
      "['서울']\n",
      "1\n"
     ]
    }
   ],
   "source": [
    "l = ['서울']  # 요소가 하나 있는 리스트\n",
    "print(type(l))\n",
    "print(l)\n",
    "print(len(l))  # 요소의 갯수"
   ]
  },
  {
   "cell_type": "code",
   "execution_count": 201,
   "id": "4c65b801",
   "metadata": {
    "ExecuteTime": {
     "end_time": "2024-11-06T07:37:49.556429Z",
     "start_time": "2024-11-06T07:37:49.550848Z"
    }
   },
   "outputs": [
    {
     "name": "stdout",
     "output_type": "stream",
     "text": [
      "<class 'str'>\n",
      "서울\n",
      "2\n"
     ]
    }
   ],
   "source": [
    "city = ('서울')  # 요소가 하나 있는 튜플(X) / 괄호가 사라짐\n",
    "print(type(city))\n",
    "print(city)\n",
    "print(len(city))  # 요소의 길이:2글자"
   ]
  },
  {
   "cell_type": "code",
   "execution_count": 202,
   "id": "f1a9df8f",
   "metadata": {
    "ExecuteTime": {
     "end_time": "2024-11-06T07:37:50.245889Z",
     "start_time": "2024-11-06T07:37:50.238891Z"
    }
   },
   "outputs": [
    {
     "name": "stdout",
     "output_type": "stream",
     "text": [
      "<class 'tuple'>\n",
      "('서울',)\n",
      "1\n"
     ]
    }
   ],
   "source": [
    "city = ('서울',)  # 요소가 하나 있는 튜플(O) / 맨 마지막에 ,(콤마)\n",
    "print(type(city))\n",
    "print(city)\n",
    "print(len(city))  # 요소의 갯수"
   ]
  },
  {
   "cell_type": "code",
   "execution_count": 207,
   "id": "e50c8e44",
   "metadata": {
    "ExecuteTime": {
     "end_time": "2024-11-06T07:40:48.314448Z",
     "start_time": "2024-11-06T07:40:48.310451Z"
    }
   },
   "outputs": [],
   "source": [
    "a, b = 10, 20\n",
    "# (a, b) = (10, 20)과 같음"
   ]
  },
  {
   "cell_type": "code",
   "execution_count": 208,
   "id": "78a5a85c",
   "metadata": {
    "ExecuteTime": {
     "end_time": "2024-11-06T07:40:50.995161Z",
     "start_time": "2024-11-06T07:40:50.989167Z"
    }
   },
   "outputs": [
    {
     "name": "stdout",
     "output_type": "stream",
     "text": [
      "<class 'tuple'>\n",
      "(1, 2, 3)\n"
     ]
    }
   ],
   "source": [
    "numbers = 1, 2, 3\n",
    "# numbers = (1, 2, 3)인 튜플과 같음\n",
    "print(type(numbers))\n",
    "print(numbers)"
   ]
  },
  {
   "cell_type": "code",
   "execution_count": 209,
   "id": "87e41c5f",
   "metadata": {
    "ExecuteTime": {
     "end_time": "2024-11-06T07:41:13.277397Z",
     "start_time": "2024-11-06T07:41:13.272402Z"
    }
   },
   "outputs": [],
   "source": [
    "# numbers.remove(3) 수정하기 위한 함수는 제공되지 않음"
   ]
  },
  {
   "cell_type": "code",
   "execution_count": 211,
   "id": "c9af6b40",
   "metadata": {
    "ExecuteTime": {
     "end_time": "2024-11-06T07:41:54.452630Z",
     "start_time": "2024-11-06T07:41:54.445635Z"
    }
   },
   "outputs": [
    {
     "name": "stdout",
     "output_type": "stream",
     "text": [
      "1 3 3\n"
     ]
    }
   ],
   "source": [
    "# min(numbers), max(numbers), len(numbers) // (1, 3, 3)\n",
    "print(min(numbers), max(numbers), len(numbers))"
   ]
  },
  {
   "cell_type": "code",
   "execution_count": 212,
   "id": "4f76c80c",
   "metadata": {
    "ExecuteTime": {
     "end_time": "2024-11-06T07:43:04.340878Z",
     "start_time": "2024-11-06T07:43:04.333112Z"
    }
   },
   "outputs": [
    {
     "data": {
      "text/plain": [
       "2"
      ]
     },
     "execution_count": 212,
     "metadata": {},
     "output_type": "execute_result"
    }
   ],
   "source": [
    "# 동일자료형일 필요 없음\n",
    "numbers = (0, 1, 2, (1, 2), 0, 1, 2)\n",
    "numbers.count(2)  # 데이터 2의 갯수"
   ]
  },
  {
   "cell_type": "code",
   "execution_count": 213,
   "id": "1f39b0d9",
   "metadata": {
    "ExecuteTime": {
     "end_time": "2024-11-06T07:43:17.227355Z",
     "start_time": "2024-11-06T07:43:17.221358Z"
    }
   },
   "outputs": [
    {
     "data": {
      "text/plain": [
       "(0, 1, 2)"
      ]
     },
     "execution_count": 213,
     "metadata": {},
     "output_type": "execute_result"
    }
   ],
   "source": [
    "numbers[0:3]"
   ]
  },
  {
   "cell_type": "code",
   "execution_count": 216,
   "id": "ac7d5bd1",
   "metadata": {
    "ExecuteTime": {
     "end_time": "2024-11-06T07:44:44.314328Z",
     "start_time": "2024-11-06T07:44:44.308331Z"
    }
   },
   "outputs": [
    {
     "data": {
      "text/plain": [
       "2"
      ]
     },
     "execution_count": 216,
     "metadata": {},
     "output_type": "execute_result"
    }
   ],
   "source": [
    "numbers.index(2)  # 처음부터 2가 처음 나오는 곳의 index번호를 return"
   ]
  },
  {
   "cell_type": "code",
   "execution_count": 217,
   "id": "45de985e",
   "metadata": {
    "ExecuteTime": {
     "end_time": "2024-11-06T07:44:45.426067Z",
     "start_time": "2024-11-06T07:44:45.419103Z"
    }
   },
   "outputs": [
    {
     "data": {
      "text/plain": [
       "6"
      ]
     },
     "execution_count": 217,
     "metadata": {},
     "output_type": "execute_result"
    }
   ],
   "source": [
    "numbers.index(2, 3)  # 3번째 index부터 2가 나오는 index번호를 return"
   ]
  },
  {
   "cell_type": "code",
   "execution_count": 218,
   "id": "9b288a86",
   "metadata": {
    "ExecuteTime": {
     "end_time": "2024-11-06T07:45:13.514178Z",
     "start_time": "2024-11-06T07:45:13.491738Z"
    }
   },
   "outputs": [
    {
     "ename": "ValueError",
     "evalue": "tuple.index(x): x not in tuple",
     "output_type": "error",
     "traceback": [
      "\u001b[1;31m---------------------------------------------------------------------------\u001b[0m",
      "\u001b[1;31mValueError\u001b[0m                                Traceback (most recent call last)",
      "Cell \u001b[1;32mIn[218], line 1\u001b[0m\n\u001b[1;32m----> 1\u001b[0m \u001b[43mnumbers\u001b[49m\u001b[38;5;241;43m.\u001b[39;49m\u001b[43mindex\u001b[49m\u001b[43m(\u001b[49m\u001b[38;5;241;43m9\u001b[39;49m\u001b[43m)\u001b[49m\n",
      "\u001b[1;31mValueError\u001b[0m: tuple.index(x): x not in tuple"
     ]
    }
   ],
   "source": [
    "numbers.index(9)  # 에러"
   ]
  },
  {
   "cell_type": "code",
   "execution_count": 219,
   "id": "5b6b65f1",
   "metadata": {
    "ExecuteTime": {
     "end_time": "2024-11-06T07:46:42.201153Z",
     "start_time": "2024-11-06T07:46:42.196156Z"
    }
   },
   "outputs": [
    {
     "name": "stdout",
     "output_type": "stream",
     "text": [
      "0\n",
      "False\n"
     ]
    }
   ],
   "source": [
    "# numbers안에 9 요소가 있는지 여부\n",
    "print(numbers.count(9))\n",
    "print(9 in numbers)"
   ]
  },
  {
   "cell_type": "code",
   "execution_count": 221,
   "id": "7e015d66",
   "metadata": {
    "ExecuteTime": {
     "end_time": "2024-11-06T07:48:19.207731Z",
     "start_time": "2024-11-06T07:48:19.201855Z"
    }
   },
   "outputs": [],
   "source": [
    "def safe_index(lst, item):\n",
    "    if item in lst:\n",
    "        return lst.index(item)\n",
    "    else:\n",
    "        return -1\n",
    "def safe_index(lst, item):\n",
    "    return lst.index(item) if item in lst else -1"
   ]
  },
  {
   "cell_type": "code",
   "execution_count": 222,
   "id": "85cf0d8a",
   "metadata": {
    "ExecuteTime": {
     "end_time": "2024-11-06T07:48:55.240181Z",
     "start_time": "2024-11-06T07:48:55.234105Z"
    }
   },
   "outputs": [
    {
     "data": {
      "text/plain": [
       "-1"
      ]
     },
     "execution_count": 222,
     "metadata": {},
     "output_type": "execute_result"
    }
   ],
   "source": [
    "safe_index(numbers, 9)"
   ]
  },
  {
   "cell_type": "code",
   "execution_count": 225,
   "id": "9b38032f",
   "metadata": {
    "ExecuteTime": {
     "end_time": "2024-11-06T07:49:46.688371Z",
     "start_time": "2024-11-06T07:49:46.681374Z"
    }
   },
   "outputs": [
    {
     "data": {
      "text/plain": [
       "(1, 2, 3, 1, 2, 3)"
      ]
     },
     "execution_count": 225,
     "metadata": {},
     "output_type": "execute_result"
    }
   ],
   "source": [
    "numbers = (1, 2, 3)\n",
    "numbers + numbers  # + : 연결"
   ]
  },
  {
   "cell_type": "code",
   "execution_count": 227,
   "id": "f6899fce",
   "metadata": {
    "ExecuteTime": {
     "end_time": "2024-11-06T07:49:54.335305Z",
     "start_time": "2024-11-06T07:49:54.329306Z"
    }
   },
   "outputs": [
    {
     "data": {
      "text/plain": [
       "(1, 2, 3, 1, 2, 3, 1, 2, 3)"
      ]
     },
     "execution_count": 227,
     "metadata": {},
     "output_type": "execute_result"
    }
   ],
   "source": [
    "numbers * 3  # * : 반복"
   ]
  },
  {
   "cell_type": "code",
   "execution_count": 229,
   "id": "02da6633",
   "metadata": {
    "ExecuteTime": {
     "end_time": "2024-11-06T07:53:31.870138Z",
     "start_time": "2024-11-06T07:53:31.863135Z"
    }
   },
   "outputs": [
    {
     "data": {
      "text/plain": [
       "[4, 16, 36]"
      ]
     },
     "execution_count": 229,
     "metadata": {},
     "output_type": "execute_result"
    }
   ],
   "source": [
    "# ex. 짝수 요소들을 추출하여 제곱한 리스트를 출력하시오\n",
    "numbers = (1, 2, 3, 4, 5, 6)\n",
    "[x**2 for x in numbers if x%2 == 0]"
   ]
  },
  {
   "cell_type": "markdown",
   "id": "0a298264",
   "metadata": {},
   "source": [
    "# 3절. 딕셔너리\n",
    "cf. 자바에서의 hashMap\n",
    "- 중괄호({})를 이용해서 딕셔너리 생성. 키(key)-값(value)쌍으로 구성된 자료구조. (index가 없음)\n",
    "- 키는 유일한 값(중복 허용 안 함). 키에 list는 사용 불가. 키에 tuple은 사용 가능.\n",
    "- 값은 중복 가능. 모든 데이터 타입이 가능.\n",
    "- 없는 키의 값을 참조하면 에러 발생\n",
    "- 인덱스를 이용한 참조는 지원하지 않음"
   ]
  },
  {
   "cell_type": "code",
   "execution_count": 233,
   "id": "634ca9ff",
   "metadata": {
    "ExecuteTime": {
     "end_time": "2024-11-06T08:01:33.392914Z",
     "start_time": "2024-11-06T08:01:33.386919Z"
    }
   },
   "outputs": [
    {
     "name": "stdout",
     "output_type": "stream",
     "text": [
      "<class 'dict'>\n",
      "{'name': '홍길동', 1: 22, (1, 2): [1, 2]}\n"
     ]
    }
   ],
   "source": [
    "dic = {'name' : '홍길동', 1 : 22, (1, 2) : [1, 2]}  # name : key, 홍길동 : value\n",
    "print(type(dic))\n",
    "print(dic)"
   ]
  },
  {
   "cell_type": "code",
   "execution_count": 235,
   "id": "5aa8804c",
   "metadata": {
    "ExecuteTime": {
     "end_time": "2024-11-06T08:12:53.499315Z",
     "start_time": "2024-11-06T08:12:53.493317Z"
    }
   },
   "outputs": [
    {
     "data": {
      "text/plain": [
       "3"
      ]
     },
     "execution_count": 235,
     "metadata": {},
     "output_type": "execute_result"
    }
   ],
   "source": [
    "len(dic)  # 데이터 요소의 갯수"
   ]
  },
  {
   "cell_type": "code",
   "execution_count": 236,
   "id": "ce0dd837",
   "metadata": {
    "ExecuteTime": {
     "end_time": "2024-11-06T08:13:57.755975Z",
     "start_time": "2024-11-06T08:13:57.748941Z"
    }
   },
   "outputs": [
    {
     "data": {
      "text/plain": [
       "{'fruit': 'apple', 'number': 12, 'sport': 'golf'}"
      ]
     },
     "execution_count": 236,
     "metadata": {},
     "output_type": "execute_result"
    }
   ],
   "source": [
    "my_favorite = {'fruit' : 'apple', 'number' : 12, 'sport' : 'golf'}\n",
    "my_favorite"
   ]
  },
  {
   "cell_type": "code",
   "execution_count": 237,
   "id": "6b733550",
   "metadata": {
    "ExecuteTime": {
     "end_time": "2024-11-06T08:14:33.377093Z",
     "start_time": "2024-11-06T08:14:33.372094Z"
    }
   },
   "outputs": [
    {
     "data": {
      "text/plain": [
       "'apple'"
      ]
     },
     "execution_count": 237,
     "metadata": {},
     "output_type": "execute_result"
    }
   ],
   "source": [
    "my_favorite['fruit']  # 인덱스로 참조"
   ]
  },
  {
   "cell_type": "code",
   "execution_count": 238,
   "id": "8e0a064b",
   "metadata": {
    "ExecuteTime": {
     "end_time": "2024-11-06T08:15:14.649942Z",
     "start_time": "2024-11-06T08:15:14.643943Z"
    }
   },
   "outputs": [
    {
     "data": {
      "text/plain": [
       "'apple'"
      ]
     },
     "execution_count": 238,
     "metadata": {},
     "output_type": "execute_result"
    }
   ],
   "source": [
    "my_favorite.get('fruit')"
   ]
  },
  {
   "cell_type": "code",
   "execution_count": 241,
   "id": "cafe84a0",
   "metadata": {
    "ExecuteTime": {
     "end_time": "2024-11-06T08:16:53.041443Z",
     "start_time": "2024-11-06T08:16:53.035444Z"
    }
   },
   "outputs": [
    {
     "name": "stdout",
     "output_type": "stream",
     "text": [
      "None\n"
     ]
    }
   ],
   "source": [
    "# print(my_favorite['people'])  # 키 목록에 없는 데이터를 인덱스로 참조 시 에러\n",
    "print(my_favorite.get('people'))  # 없는 키를 get함수로 참조 시 None이 return됨"
   ]
  },
  {
   "cell_type": "code",
   "execution_count": 248,
   "id": "1731d775",
   "metadata": {
    "ExecuteTime": {
     "end_time": "2024-11-06T08:23:49.191442Z",
     "start_time": "2024-11-06T08:23:49.184322Z"
    }
   },
   "outputs": [
    {
     "name": "stdout",
     "output_type": "stream",
     "text": [
      "fruit 수정 후 : {'fruit': 'mango', 'number': 12, 'sport': 'golf'}\n",
      "people 키 추가 후 : {'fruit': 'mango', 'number': 12, 'sport': 'golf', 'people': '홍길동'}\n",
      "데이터 갯수 : 4\n",
      "sport 제거 후 : {'fruit': 'mango', 'number': 12, 'people': '홍길동'}\n"
     ]
    }
   ],
   "source": [
    "# 딕셔너리 수정\n",
    "my_favorite = {'fruit' : 'apple', 'number' : 12, 'sport' : 'golf'}\n",
    "my_favorite['fruit'] = 'mango'\n",
    "print('fruit 수정 후 :', my_favorite)\n",
    "my_favorite['people'] = '홍길동'\n",
    "print('people 키 추가 후 :', my_favorite)\n",
    "print('데이터 갯수 :', len(my_favorite))\n",
    "# del my_favorite['sport']  # 'sport' : 'golf' 제거 (키 제거 시 값도 제거 됨)\n",
    "# del(my_favorite['sport'])\n",
    "my_favorite.pop('sport')  # 위 두 개와 같음\n",
    "print('sport 제거 후 :', my_favorite)"
   ]
  },
  {
   "cell_type": "code",
   "execution_count": 249,
   "id": "ca3c08dc",
   "metadata": {
    "ExecuteTime": {
     "end_time": "2024-11-06T08:28:53.833131Z",
     "start_time": "2024-11-06T08:28:53.830132Z"
    }
   },
   "outputs": [],
   "source": [
    "# for문을 이용한 튜플 출력\n",
    "my_tuple = ('홍길동', 30, '010-9999-9999')"
   ]
  },
  {
   "cell_type": "code",
   "execution_count": 260,
   "id": "abd524ef",
   "metadata": {
    "ExecuteTime": {
     "end_time": "2024-11-06T08:36:44.950994Z",
     "start_time": "2024-11-06T08:36:44.943894Z"
    }
   },
   "outputs": [
    {
     "name": "stdout",
     "output_type": "stream",
     "text": [
      "홍길동\t30\t010-9999-9999\t\n",
      "0번째 : 홍길동\t1번째 : 30\t2번째 : 010-9999-9999\t\n",
      "0번째 : 홍길동\t1번째 : 30\t2번째 : 010-9999-9999\t"
     ]
    }
   ],
   "source": [
    "for data in my_tuple:\n",
    "    print(data, end='\\t')\n",
    "print()\n",
    "\n",
    "for idx in range(len(my_tuple)):\n",
    "    print('{}번째 : {}\\t'.format(idx, my_tuple[idx]), end='')\n",
    "print()\n",
    "\n",
    "for idx, value in enumerate(my_tuple):\n",
    "    print('{}번째 : {}'.format(idx, value), end='\\t')"
   ]
  },
  {
   "cell_type": "code",
   "execution_count": 261,
   "id": "37d9e534",
   "metadata": {
    "ExecuteTime": {
     "end_time": "2024-11-06T08:36:47.828472Z",
     "start_time": "2024-11-06T08:36:47.824512Z"
    }
   },
   "outputs": [],
   "source": [
    "# for문을 이용한 딕셔너리 출력\n",
    "my_dic = {'name' : '홍길동', 'age' : 30, 'tel' : '010-9999-9999'}"
   ]
  },
  {
   "cell_type": "code",
   "execution_count": 270,
   "id": "ed94e5b1",
   "metadata": {
    "ExecuteTime": {
     "end_time": "2024-11-06T08:41:14.739231Z",
     "start_time": "2024-11-06T08:41:14.734233Z"
    }
   },
   "outputs": [
    {
     "name": "stdout",
     "output_type": "stream",
     "text": [
      "name : 홍길동\tage : 30\ttel : 010-9999-9999\t"
     ]
    }
   ],
   "source": [
    "# key만 출력\n",
    "# for key in my_dic:\n",
    "#     print(key, end='\\t')\n",
    "# 비추\n",
    "for key in my_dic:\n",
    "    print('{} : {}'.format(key, my_dic[key]), end='\\t')    "
   ]
  },
  {
   "cell_type": "code",
   "execution_count": 265,
   "id": "aa6a6f62",
   "metadata": {
    "ExecuteTime": {
     "end_time": "2024-11-06T08:38:49.205323Z",
     "start_time": "2024-11-06T08:38:49.199326Z"
    }
   },
   "outputs": [
    {
     "name": "stdout",
     "output_type": "stream",
     "text": [
      "0 : name\n",
      "1 : age\n",
      "2 : tel\n"
     ]
    }
   ],
   "source": [
    "# 딕셔너리에서는 enumerate 사용에 의미가 없음(key만 출력)\n",
    "for idx, value in enumerate(my_dic):\n",
    "    print('{} : {}'.format(idx, value))"
   ]
  },
  {
   "cell_type": "code",
   "execution_count": 266,
   "id": "aa8f5e87",
   "metadata": {
    "ExecuteTime": {
     "end_time": "2024-11-06T08:38:55.589211Z",
     "start_time": "2024-11-06T08:38:55.583214Z"
    }
   },
   "outputs": [
    {
     "data": {
      "text/plain": [
       "dict_keys(['name', 'age', 'tel'])"
      ]
     },
     "execution_count": 266,
     "metadata": {},
     "output_type": "execute_result"
    }
   ],
   "source": [
    "my_dic.keys()  # 키 목록"
   ]
  },
  {
   "cell_type": "code",
   "execution_count": 268,
   "id": "3dfa24e7",
   "metadata": {
    "ExecuteTime": {
     "end_time": "2024-11-06T08:39:26.516789Z",
     "start_time": "2024-11-06T08:39:26.511265Z"
    }
   },
   "outputs": [
    {
     "data": {
      "text/plain": [
       "dict_values(['홍길동', 30, '010-9999-9999'])"
      ]
     },
     "execution_count": 268,
     "metadata": {},
     "output_type": "execute_result"
    }
   ],
   "source": [
    "my_dic.values()  # 값들의 목록"
   ]
  },
  {
   "cell_type": "code",
   "execution_count": 269,
   "id": "2505e544",
   "metadata": {
    "ExecuteTime": {
     "end_time": "2024-11-06T08:39:56.943323Z",
     "start_time": "2024-11-06T08:39:56.937324Z"
    }
   },
   "outputs": [
    {
     "data": {
      "text/plain": [
       "dict_items([('name', '홍길동'), ('age', 30), ('tel', '010-9999-9999')])"
      ]
     },
     "execution_count": 269,
     "metadata": {},
     "output_type": "execute_result"
    }
   ],
   "source": [
    "my_dic.items()  # 키-값의 목록"
   ]
  },
  {
   "cell_type": "code",
   "execution_count": 271,
   "id": "c9ae2bbb",
   "metadata": {
    "ExecuteTime": {
     "end_time": "2024-11-06T08:42:18.739590Z",
     "start_time": "2024-11-06T08:42:18.733594Z"
    }
   },
   "outputs": [
    {
     "name": "stdout",
     "output_type": "stream",
     "text": [
      "홍길동\t30\t010-9999-9999\t"
     ]
    }
   ],
   "source": [
    "# 값만 출력\n",
    "for value in my_dic.values():\n",
    "    print(value, end='\\t')"
   ]
  },
  {
   "cell_type": "code",
   "execution_count": 273,
   "id": "35408c4f",
   "metadata": {
    "ExecuteTime": {
     "end_time": "2024-11-06T08:43:42.242399Z",
     "start_time": "2024-11-06T08:43:42.237401Z"
    }
   },
   "outputs": [
    {
     "name": "stdout",
     "output_type": "stream",
     "text": [
      "name : 홍길동\tage : 30\ttel : 010-9999-9999\t"
     ]
    }
   ],
   "source": [
    "for key, value in my_dic.items():\n",
    "    print(\"{} : {}\\t\".format(key, value), end='')"
   ]
  },
  {
   "cell_type": "code",
   "execution_count": 274,
   "id": "0d08401e",
   "metadata": {
    "ExecuteTime": {
     "end_time": "2024-11-06T08:44:46.011166Z",
     "start_time": "2024-11-06T08:44:46.005167Z"
    }
   },
   "outputs": [
    {
     "data": {
      "text/plain": [
       "True"
      ]
     },
     "execution_count": 274,
     "metadata": {},
     "output_type": "execute_result"
    }
   ],
   "source": [
    "# in 연산자\n",
    "t = (10, 20, 30)\n",
    "30 in t\n",
    "# list, tuple, set에서의 in연산자는 요소가 있는지 여부를 반환함"
   ]
  },
  {
   "cell_type": "code",
   "execution_count": 275,
   "id": "bf209bb7",
   "metadata": {
    "ExecuteTime": {
     "end_time": "2024-11-06T08:45:21.338030Z",
     "start_time": "2024-11-06T08:45:21.332031Z"
    }
   },
   "outputs": [
    {
     "data": {
      "text/plain": [
       "True"
      ]
     },
     "execution_count": 275,
     "metadata": {},
     "output_type": "execute_result"
    }
   ],
   "source": [
    "my_dic = {'name' : '홍길동', 'age' : 30, 'tel' : '010-9999-9999'}\n",
    "'name' in my_dic\n",
    "# 딕셔너리에서의 in연산자는 키가 있는지 여부를 반환함"
   ]
  },
  {
   "cell_type": "code",
   "execution_count": 276,
   "id": "35d31d7e",
   "metadata": {
    "ExecuteTime": {
     "end_time": "2024-11-06T08:45:52.641837Z",
     "start_time": "2024-11-06T08:45:52.635842Z"
    }
   },
   "outputs": [
    {
     "data": {
      "text/plain": [
       "False"
      ]
     },
     "execution_count": 276,
     "metadata": {},
     "output_type": "execute_result"
    }
   ],
   "source": [
    "'홍길동' in my_dic"
   ]
  },
  {
   "cell_type": "code",
   "execution_count": 277,
   "id": "85c58f93",
   "metadata": {
    "ExecuteTime": {
     "end_time": "2024-11-06T08:49:12.927998Z",
     "start_time": "2024-11-06T08:49:12.923000Z"
    }
   },
   "outputs": [
    {
     "name": "stdout",
     "output_type": "stream",
     "text": [
      "my_favorite의 주소 : 2356502416768\n",
      "new_favorite의 주소 : 2356502416768\n"
     ]
    }
   ],
   "source": [
    "# 얕은 복사\n",
    "my_favorite = {'fruit' : 'apple', 'number': 12}\n",
    "new_favorite = my_favorite  # 얕은 복사(할당). 주소값이 같음\n",
    "print('my_favorite의 주소 :', id(my_favorite))\n",
    "print('new_favorite의 주소 :', id(new_favorite))"
   ]
  },
  {
   "cell_type": "code",
   "execution_count": 278,
   "id": "b8c0ca97",
   "metadata": {
    "ExecuteTime": {
     "end_time": "2024-11-06T08:51:01.047930Z",
     "start_time": "2024-11-06T08:51:01.040935Z"
    }
   },
   "outputs": [
    {
     "name": "stdout",
     "output_type": "stream",
     "text": [
      "원본 : {'fruit': '과일은 다 좋아. 하나를 어찌 선택해', 'number': 12, 'people': '홍길동'}\n",
      "수정본 : {'fruit': '과일은 다 좋아. 하나를 어찌 선택해', 'number': 12, 'people': '홍길동'}\n"
     ]
    }
   ],
   "source": [
    "new_favorite['fruit'] = '과일은 다 좋아. 하나를 어찌 선택해'\n",
    "new_favorite['people'] = '홍길동'\n",
    "print('원본 :', my_favorite)\n",
    "print('수정본 :', new_favorite)"
   ]
  },
  {
   "cell_type": "code",
   "execution_count": 280,
   "id": "4286b0f7",
   "metadata": {
    "ExecuteTime": {
     "end_time": "2024-11-06T08:52:05.765849Z",
     "start_time": "2024-11-06T08:52:05.759851Z"
    }
   },
   "outputs": [
    {
     "name": "stdout",
     "output_type": "stream",
     "text": [
      "my_favorite의 주소 : 2356502421184\n",
      "new_favorite의 주소 : 2356466682176\n"
     ]
    }
   ],
   "source": [
    "# 깊은 복사\n",
    "my_favorite = {'fruit' : 'apple', 'number': 12}\n",
    "new_favorite = my_favorite.copy()  # 깊은 복사(복제). 주소값이 다름\n",
    "print('my_favorite의 주소 :', id(my_favorite))\n",
    "print('new_favorite의 주소 :', id(new_favorite))"
   ]
  },
  {
   "cell_type": "code",
   "execution_count": 281,
   "id": "4e164088",
   "metadata": {
    "ExecuteTime": {
     "end_time": "2024-11-06T08:52:49.678048Z",
     "start_time": "2024-11-06T08:52:49.672050Z"
    }
   },
   "outputs": [
    {
     "name": "stdout",
     "output_type": "stream",
     "text": [
      "원본 : {'fruit': 'apple', 'number': 12}\n",
      "수정본 : {'fruit': '과일은 다 좋아. 하나를 어찌 선택해', 'number': 12, 'people': '홍길동'}\n"
     ]
    }
   ],
   "source": [
    "new_favorite['fruit'] = '과일은 다 좋아. 하나를 어찌 선택해'\n",
    "new_favorite['people'] = '홍길동'\n",
    "print('원본 :', my_favorite)\n",
    "print('수정본 :', new_favorite)"
   ]
  },
  {
   "cell_type": "code",
   "execution_count": null,
   "id": "aaaf5936",
   "metadata": {},
   "outputs": [],
   "source": []
  }
 ],
 "metadata": {
  "kernelspec": {
   "display_name": "Python 3 (ipykernel)",
   "language": "python",
   "name": "python3"
  },
  "language_info": {
   "codemirror_mode": {
    "name": "ipython",
    "version": 3
   },
   "file_extension": ".py",
   "mimetype": "text/x-python",
   "name": "python",
   "nbconvert_exporter": "python",
   "pygments_lexer": "ipython3",
   "version": "3.10.9"
  },
  "toc": {
   "base_numbering": 1,
   "nav_menu": {},
   "number_sections": true,
   "sideBar": true,
   "skip_h1_title": false,
   "title_cell": "Table of Contents",
   "title_sidebar": "Contents",
   "toc_cell": false,
   "toc_position": {
    "height": "calc(100% - 180px)",
    "left": "10px",
    "top": "150px",
    "width": "165px"
   },
   "toc_section_display": true,
   "toc_window_display": true
  }
 },
 "nbformat": 4,
 "nbformat_minor": 5
}
