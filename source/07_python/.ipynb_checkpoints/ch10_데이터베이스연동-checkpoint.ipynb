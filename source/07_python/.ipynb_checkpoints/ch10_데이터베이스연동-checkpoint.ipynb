{
 "cells": [
  {
   "cell_type": "code",
   "execution_count": 98,
   "id": "25da0785",
   "metadata": {
    "ExecuteTime": {
     "end_time": "2024-11-20T09:01:27.011449Z",
     "start_time": "2024-11-20T09:01:27.003453Z"
    }
   },
   "outputs": [
    {
     "data": {
      "text/html": [
       "\n",
       "<style>\n",
       "div.container{width:80% !important;}\n",
       "div.prompt {min-width:70px;}\n",
       "div#toc-header{margin-top:150px;}\n",
       "span.toc-item-num{display:none;}\n",
       "div.CodeMirror {font-family:Consolas}\n",
       "div.input {font-family:Consolas}\n",
       "</style>\n"
      ],
      "text/plain": [
       "<IPython.core.display.HTML object>"
      ]
     },
     "metadata": {},
     "output_type": "display_data"
    }
   ],
   "source": [
    "from IPython.display import display, HTML\n",
    "display(HTML(\"\"\"\n",
    "<style>\n",
    "div.container{width:80% !important;}\n",
    "div.prompt {min-width:70px;}\n",
    "div#toc-header{margin-top:150px;}\n",
    "span.toc-item-num{display:none;}\n",
    "div.CodeMirror {font-family:Consolas}\n",
    "div.input {font-family:Consolas}\n",
    "</style>\n",
    "\"\"\"))"
   ]
  },
  {
   "cell_type": "markdown",
   "id": "9a331af5",
   "metadata": {},
   "source": [
    "<b><font color='red' size='6'>ch10. 데이터베이스 연동</font></b>"
   ]
  },
  {
   "cell_type": "markdown",
   "id": "862e2aea",
   "metadata": {},
   "source": [
    "# 1절. SQLite 데이터 베이스 연결\n",
    " - SQLite 데이터 베이스는 별도의 DBMS없이 SQL을 이용하여 DB 액세스 할 수 있도록 만든 간단한 디스크 기반의 DB 제공\n",
    " - C 라이브러리\n",
    " - SQLite는 프로토타입을 만들 때 사용\n",
    " - 프로젝트 단계 : 분석 → 설계 → 구현 → 테스트 → 고객에게 배포 → 유지보수\n",
    " - ㅤㅤㅤㅤㅤㅤㅤ프로토타입(SQLite)ㅤ시제품ㅤㅤㅤㅤ완제품(Oracle, MySql, Maria, ...)\n",
    " -\n",
    " -[DB brower for SQLite](https://sqlitebrowser.org/dl/)"
   ]
  },
  {
   "cell_type": "markdown",
   "id": "5ff9cfe3",
   "metadata": {},
   "source": [
    "## 1.1 SQLite broswer 설치 및 sqlite3 패키지 load"
   ]
  },
  {
   "cell_type": "code",
   "execution_count": 2,
   "id": "1a8615ca",
   "metadata": {
    "ExecuteTime": {
     "end_time": "2024-11-20T01:59:32.135042Z",
     "start_time": "2024-11-20T01:59:32.130154Z"
    }
   },
   "outputs": [
    {
     "data": {
      "text/plain": [
       "'3.40.1'"
      ]
     },
     "execution_count": 2,
     "metadata": {},
     "output_type": "execute_result"
    }
   ],
   "source": [
    "import sqlite3\n",
    "sqlite3.sqlite_version  # sqlite3 패키지의 버전"
   ]
  },
  {
   "cell_type": "code",
   "execution_count": 3,
   "id": "b8b14797",
   "metadata": {
    "ExecuteTime": {
     "end_time": "2024-11-20T02:00:09.590420Z",
     "start_time": "2024-11-20T02:00:08.880573Z"
    }
   },
   "outputs": [
    {
     "data": {
      "text/plain": [
       "'1.5.3'"
      ]
     },
     "execution_count": 3,
     "metadata": {},
     "output_type": "execute_result"
    }
   ],
   "source": [
    "import pandas as pd\n",
    "pd.__version__"
   ]
  },
  {
   "cell_type": "code",
   "execution_count": 4,
   "id": "6e37258f",
   "metadata": {
    "ExecuteTime": {
     "end_time": "2024-11-20T02:01:05.343145Z",
     "start_time": "2024-11-20T02:01:05.336135Z"
    }
   },
   "outputs": [
    {
     "data": {
      "text/plain": [
       "'1.23.5'"
      ]
     },
     "execution_count": 4,
     "metadata": {},
     "output_type": "execute_result"
    }
   ],
   "source": [
    "import numpy as np\n",
    "np.__version__"
   ]
  },
  {
   "cell_type": "markdown",
   "id": "9b03a87c",
   "metadata": {},
   "source": [
    "## 1.2 데이터베이스 연결\n",
    " - SQLite로 DB 연결 시, DB 파일이 있으면 연결, DB파일이 없으면 빈 DB 파일 생성"
   ]
  },
  {
   "cell_type": "code",
   "execution_count": 5,
   "id": "cee92605",
   "metadata": {
    "ExecuteTime": {
     "end_time": "2024-11-20T02:04:43.439283Z",
     "start_time": "2024-11-20T02:04:43.430969Z"
    }
   },
   "outputs": [
    {
     "data": {
      "text/plain": [
       "<sqlite3.Connection at 0x1b3d70f1240>"
      ]
     },
     "execution_count": 5,
     "metadata": {},
     "output_type": "execute_result"
    }
   ],
   "source": [
    "# DB 연결\n",
    "#conn = DriverManager.getConnection\n",
    "conn = sqlite3.connect('data/ch10_example.db')\n",
    "conn\n",
    "# DB Browser for SQLite.exe 에서 파일 확인"
   ]
  },
  {
   "cell_type": "code",
   "execution_count": 6,
   "id": "fe13dafa",
   "metadata": {
    "ExecuteTime": {
     "end_time": "2024-11-20T02:10:27.490762Z",
     "start_time": "2024-11-20T02:10:27.483278Z"
    }
   },
   "outputs": [
    {
     "data": {
      "text/plain": [
       "<sqlite3.Cursor at 0x1b3d71176c0>"
      ]
     },
     "execution_count": 6,
     "metadata": {},
     "output_type": "execute_result"
    }
   ],
   "source": [
    "# 커서 객체 생성 : 커서는 SQL문을 실행시키고, 결과 데이터를 조회(select:여러 줄, 그 외:정수)하는데 사용하는 객체\n",
    "# pstmt = conn.PrepareStatement\n",
    "cursor = conn.cursor()\n",
    "cursor"
   ]
  },
  {
   "cell_type": "code",
   "execution_count": 10,
   "id": "a0a5a332",
   "metadata": {
    "ExecuteTime": {
     "end_time": "2024-11-20T02:18:15.824726Z",
     "start_time": "2024-11-20T02:18:15.751551Z"
    }
   },
   "outputs": [
    {
     "data": {
      "text/plain": [
       "<sqlite3.Cursor at 0x1b3d71176c0>"
      ]
     },
     "execution_count": 10,
     "metadata": {},
     "output_type": "execute_result"
    }
   ],
   "source": [
    "cursor.execute('''\n",
    "    CREATE TABLE MEMBER (\n",
    "        NAME  TEXT,\n",
    "        AGE   INT,\n",
    "        EMAIL TEXT\n",
    "    )\n",
    "''')"
   ]
  },
  {
   "cell_type": "code",
   "execution_count": 9,
   "id": "2e77713f",
   "metadata": {
    "ExecuteTime": {
     "end_time": "2024-11-20T02:18:06.062783Z",
     "start_time": "2024-11-20T02:18:05.975524Z"
    }
   },
   "outputs": [
    {
     "data": {
      "text/plain": [
       "<sqlite3.Cursor at 0x1b3d71176c0>"
      ]
     },
     "execution_count": 9,
     "metadata": {},
     "output_type": "execute_result"
    }
   ],
   "source": [
    "# cursor.execute('DROP TABLE MEMBER')"
   ]
  },
  {
   "cell_type": "code",
   "execution_count": 11,
   "id": "c353cd4b",
   "metadata": {
    "ExecuteTime": {
     "end_time": "2024-11-20T02:38:12.224659Z",
     "start_time": "2024-11-20T02:38:12.213815Z"
    }
   },
   "outputs": [
    {
     "name": "stdout",
     "output_type": "stream",
     "text": [
      "수행 결과 행수 : 1\n",
      "수행 결과 행수 : 1\n",
      "수행 결과 행수 : 1\n"
     ]
    }
   ],
   "source": [
    "# cursor.execute('INSERT INTO MEMBER VALUES (\\'홍길동\\', 20, \\'h@h.com\\')')\n",
    "cursor.execute(\"INSERT INTO MEMBER VALUES ('홍길동', 20, 'h@h.com')\")\n",
    "print('수행 결과 행수 :', cursor.rowcount)\n",
    "sql = \"INSERT INTO MEMBER VALUES ('신길동', 25, 's@s.com')\"\n",
    "cursor.execute(sql)\n",
    "print('수행 결과 행수 :', cursor.rowcount)\n",
    "cursor.execute(\"INSERT INTO MEMBER VALUES ('신림동', 30, 'l@h.com')\")\n",
    "print('수행 결과 행수 :', cursor.rowcount)"
   ]
  },
  {
   "cell_type": "code",
   "execution_count": 12,
   "id": "6019ec3e",
   "metadata": {
    "ExecuteTime": {
     "end_time": "2024-11-20T02:39:38.349788Z",
     "start_time": "2024-11-20T02:39:38.269158Z"
    }
   },
   "outputs": [],
   "source": [
    "conn.commit()  # 반대反. conn.rollback() DML문에서만 commit"
   ]
  },
  {
   "cell_type": "code",
   "execution_count": 13,
   "id": "6d9eff1f",
   "metadata": {
    "ExecuteTime": {
     "end_time": "2024-11-20T02:51:31.908754Z",
     "start_time": "2024-11-20T02:51:31.901089Z"
    }
   },
   "outputs": [
    {
     "data": {
      "text/plain": [
       "<sqlite3.Cursor at 0x1b3d71176c0>"
      ]
     },
     "execution_count": 13,
     "metadata": {},
     "output_type": "execute_result"
    }
   ],
   "source": [
    "# SQL전송 결과는 cursor가 가리킴\n",
    "cursor.execute('SELECT * FROM MEMBER ORDER BY NAME')"
   ]
  },
  {
   "cell_type": "code",
   "execution_count": 15,
   "id": "1eccda34",
   "metadata": {
    "ExecuteTime": {
     "end_time": "2024-11-20T02:56:32.175656Z",
     "start_time": "2024-11-20T02:56:32.170183Z"
    }
   },
   "outputs": [
    {
     "name": "stdout",
     "output_type": "stream",
     "text": [
      "[('신길동', 25, 's@s.com'), ('신림동', 30, 'l@h.com'), ('홍길동', 20, 'h@h.com')]\n"
     ]
    }
   ],
   "source": [
    "# insert, update, delete문 실행결과 : cursor.rowcount\n",
    "# select문 실행결과를 받는 함수들\n",
    "# - fetchone() : 결과를 한 행씩 받을 때 (튜플로 받음)\n",
    "# - fetchall() : 결과를 모두 받을 때 (튜플 list)\n",
    "# - fetchmany(n) : 결과를 n행 받을 때 (튜플 list)\n",
    "print(cursor.fetchall())"
   ]
  },
  {
   "cell_type": "code",
   "execution_count": 16,
   "id": "614ecb54",
   "metadata": {
    "ExecuteTime": {
     "end_time": "2024-11-20T02:56:55.886987Z",
     "start_time": "2024-11-20T02:56:55.881994Z"
    }
   },
   "outputs": [
    {
     "name": "stdout",
     "output_type": "stream",
     "text": [
      "[]\n"
     ]
    }
   ],
   "source": [
    "print(cursor.fetchall())  # 한 번 소요된 cursor 객체는 다시 fetch할 수 없음"
   ]
  },
  {
   "cell_type": "code",
   "execution_count": 17,
   "id": "7c148f7f",
   "metadata": {
    "ExecuteTime": {
     "end_time": "2024-11-20T02:58:52.472898Z",
     "start_time": "2024-11-20T02:58:52.464899Z"
    }
   },
   "outputs": [
    {
     "data": {
      "text/plain": [
       "[('홍길동', 20, 'h@h.com'), ('신길동', 25, 's@s.com'), ('신림동', 30, 'l@h.com')]"
      ]
     },
     "execution_count": 17,
     "metadata": {},
     "output_type": "execute_result"
    }
   ],
   "source": [
    "cursor.execute(\"SELECT NAME, AGE, EMAIL FROM  MEMBER ORDER BY AGE\")\n",
    "members = cursor.fetchall()\n",
    "members  # 튜플 리스트"
   ]
  },
  {
   "cell_type": "code",
   "execution_count": 18,
   "id": "6219a1b8",
   "metadata": {
    "ExecuteTime": {
     "end_time": "2024-11-20T02:58:55.720041Z",
     "start_time": "2024-11-20T02:58:55.713043Z"
    }
   },
   "outputs": [
    {
     "data": {
      "text/plain": [
       "[('홍길동', 20, 'h@h.com'), ('신길동', 25, 's@s.com'), ('신림동', 30, 'l@h.com')]"
      ]
     },
     "execution_count": 18,
     "metadata": {},
     "output_type": "execute_result"
    }
   ],
   "source": [
    "members  # 변수에 담으면 계속 사용 가능"
   ]
  },
  {
   "cell_type": "code",
   "execution_count": 19,
   "id": "e66f0227",
   "metadata": {
    "ExecuteTime": {
     "end_time": "2024-11-20T02:59:18.277725Z",
     "start_time": "2024-11-20T02:59:18.272517Z"
    }
   },
   "outputs": [
    {
     "name": "stdout",
     "output_type": "stream",
     "text": [
      "('홍길동', 20, 'h@h.com')\n",
      "('신길동', 25, 's@s.com')\n",
      "('신림동', 30, 'l@h.com')\n"
     ]
    }
   ],
   "source": [
    "for member in members:\n",
    "    print(member)"
   ]
  },
  {
   "cell_type": "code",
   "execution_count": 21,
   "id": "8117dc04",
   "metadata": {
    "ExecuteTime": {
     "end_time": "2024-11-20T03:04:12.373686Z",
     "start_time": "2024-11-20T03:04:12.367689Z"
    }
   },
   "outputs": [],
   "source": [
    "# 한 줄씩 읽기\n",
    "cursor.execute(\"SELECT NAME, AGE, EMAIL FROM  MEMBER ORDER BY AGE\")\n",
    "member_list = []\n",
    "while True:\n",
    "    member = cursor.fetchone()  # SQL문 수행 결과 한 줄 가져오기\n",
    "    if member is None:\n",
    "        break\n",
    "    # print(member) 튜플로 들어옴\n",
    "    member_list.append({'name' : member[0], 'age' : member[1], 'email' : member[2]})"
   ]
  },
  {
   "cell_type": "code",
   "execution_count": 22,
   "id": "0879c107",
   "metadata": {
    "ExecuteTime": {
     "end_time": "2024-11-20T03:04:23.549633Z",
     "start_time": "2024-11-20T03:04:23.541811Z"
    }
   },
   "outputs": [
    {
     "data": {
      "text/plain": [
       "[{'name': '홍길동', 'age': 20, 'email': 'h@h.com'},\n",
       " {'name': '신길동', 'age': 25, 'email': 's@s.com'},\n",
       " {'name': '신림동', 'age': 30, 'email': 'l@h.com'}]"
      ]
     },
     "execution_count": 22,
     "metadata": {},
     "output_type": "execute_result"
    }
   ],
   "source": [
    "member_list  # 딕셔너리 리스트"
   ]
  },
  {
   "cell_type": "code",
   "execution_count": 23,
   "id": "a67dd420",
   "metadata": {
    "ExecuteTime": {
     "end_time": "2024-11-20T03:06:11.339020Z",
     "start_time": "2024-11-20T03:06:11.333022Z"
    }
   },
   "outputs": [
    {
     "name": "stdout",
     "output_type": "stream",
     "text": [
      "('홍길동', 20, 'h@h.com')\n",
      "('신길동', 25, 's@s.com')\n"
     ]
    }
   ],
   "source": [
    "# 최상위 n행 읽기\n",
    "cursor.execute(\"SELECT NAME, AGE, EMAIL FROM  MEMBER ORDER BY AGE\")\n",
    "for member in cursor.fetchmany(2):  # 2줄까지만 튜플리스트로 받음(결과보다 큰 수를 입력해도 에러나지 않고 전체가 출력됨)\n",
    "    print(member)"
   ]
  },
  {
   "cell_type": "code",
   "execution_count": 66,
   "id": "e23742b3",
   "metadata": {
    "ExecuteTime": {
     "end_time": "2024-11-20T05:37:25.101993Z",
     "start_time": "2024-11-20T05:37:25.096001Z"
    }
   },
   "outputs": [],
   "source": [
    "# class 객체 생성\n",
    "class Member:\n",
    "    'Member 테이블의 내용을 받을 객체 타입'\n",
    "    def __init__(self, name, age, email):\n",
    "        self.name = name\n",
    "        self.age = age\n",
    "        self.email = email\n",
    "    def as_dic(self):  # insert문 전송 시 필요\n",
    "        return {'name' : self.name,\n",
    "                'age' : self.age,\n",
    "                'email' : self.email}\n",
    "    def __str__(self):\n",
    "        return \"{}\\t{}\\t{}\".format(self.name, self.age, self.email)\n",
    "def to_member(*row):  # 튜플 데이터를 매개변수로 받아 Member형 객체로 return\n",
    "    return Member(row[0], row[1], row[2])"
   ]
  },
  {
   "cell_type": "code",
   "execution_count": 25,
   "id": "95e8dece",
   "metadata": {
    "ExecuteTime": {
     "end_time": "2024-11-20T03:21:21.556024Z",
     "start_time": "2024-11-20T03:21:21.548961Z"
    }
   },
   "outputs": [
    {
     "name": "stdout",
     "output_type": "stream",
     "text": [
      "홍길동\t20\th@h.com\n",
      "{'name': '홍길동', 'age': 20, 'eamil': 'h@h.com'}\n"
     ]
    }
   ],
   "source": [
    "dbreadmember = ('홍길동', 20, 'h@h.com')  # 튜플 매개변수\n",
    "m = to_member(*dbreadmember)  # 튜플 언패킹\n",
    "print(m)\n",
    "print(m.as_dic())"
   ]
  },
  {
   "cell_type": "code",
   "execution_count": 27,
   "id": "cf4864a5",
   "metadata": {
    "ExecuteTime": {
     "end_time": "2024-11-20T03:35:35.875750Z",
     "start_time": "2024-11-20T03:35:35.870614Z"
    }
   },
   "outputs": [],
   "source": [
    "# DB 검색 결과를 객체 list로\n",
    "cursor.execute(\"SELECT NAME, AGE, EMAIL FROM MEMBER\")\n",
    "member_list = []  # SQL문 수행 결과를 담을 객체 list\n",
    "members = cursor.fetchall()  # 튜플 list\n",
    "# print(members)\n",
    "for member in members:\n",
    "    member_list.append(to_member(*member))  # 튜플 언패킹"
   ]
  },
  {
   "cell_type": "code",
   "execution_count": 28,
   "id": "a2eba11b",
   "metadata": {
    "ExecuteTime": {
     "end_time": "2024-11-20T03:36:00.434958Z",
     "start_time": "2024-11-20T03:36:00.428957Z"
    }
   },
   "outputs": [
    {
     "data": {
      "text/plain": [
       "(tuple, __main__.Member)"
      ]
     },
     "execution_count": 28,
     "metadata": {},
     "output_type": "execute_result"
    }
   ],
   "source": [
    "type(members[0]), type(member_list[0])"
   ]
  },
  {
   "cell_type": "code",
   "execution_count": 29,
   "id": "8059dc36",
   "metadata": {
    "ExecuteTime": {
     "end_time": "2024-11-20T03:36:24.417464Z",
     "start_time": "2024-11-20T03:36:24.412464Z"
    },
    "scrolled": true
   },
   "outputs": [
    {
     "name": "stdout",
     "output_type": "stream",
     "text": [
      "홍길동\t20\th@h.com\n",
      "신길동\t25\ts@s.com\n",
      "신림동\t30\tl@h.com\n"
     ]
    }
   ],
   "source": [
    "for member in member_list:\n",
    "    print(member)"
   ]
  },
  {
   "cell_type": "code",
   "execution_count": 52,
   "id": "9e4264d0",
   "metadata": {
    "ExecuteTime": {
     "end_time": "2024-11-20T04:11:18.782787Z",
     "start_time": "2024-11-20T04:11:18.778793Z"
    }
   },
   "outputs": [],
   "source": [
    "cursor.close()  # cursor.close()는 생략 가능 : conn.close()를 했을 때\n",
    "conn.close()"
   ]
  },
  {
   "cell_type": "markdown",
   "id": "a57b3a78",
   "metadata": {},
   "source": [
    "## 1.3  SQL구문에 파라미터 사용하기\n",
    " - qmark(DB에 따라 불가한 경우가 있음)\n",
    " - named(추천)"
   ]
  },
  {
   "cell_type": "code",
   "execution_count": 31,
   "id": "8115827f",
   "metadata": {
    "ExecuteTime": {
     "end_time": "2024-11-20T03:46:47.272107Z",
     "start_time": "2024-11-20T03:46:47.263108Z"
    }
   },
   "outputs": [
    {
     "data": {
      "text/plain": [
       "[('홍길동', 20, 'h@h.com'), ('신길동', 25, 's@s.com')]"
      ]
     },
     "execution_count": 31,
     "metadata": {},
     "output_type": "execute_result"
    }
   ],
   "source": [
    "conn = sqlite3.connect('data/ch10_example.db')\n",
    "cursor = conn.cursor()\n",
    "cursor.execute(\"SELECT * FROM MEMBER WHERE NAME IN ('홍길동', '신길동')\")\n",
    "cursor.fetchall()"
   ]
  },
  {
   "cell_type": "code",
   "execution_count": 35,
   "id": "f9d61776",
   "metadata": {
    "ExecuteTime": {
     "end_time": "2024-11-20T03:53:51.535781Z",
     "start_time": "2024-11-20T03:53:47.619199Z"
    }
   },
   "outputs": [
    {
     "name": "stdout",
     "output_type": "stream",
     "text": [
      "검색할 이름1 : 홍길동\n",
      "검색할 이름2 : 신길동\n"
     ]
    },
    {
     "data": {
      "text/plain": [
       "[('홍길동', 20, 'h@h.com'), ('신길동', 25, 's@s.com')]"
      ]
     },
     "execution_count": 35,
     "metadata": {},
     "output_type": "execute_result"
    }
   ],
   "source": [
    "# 파라미터 사용하기 : qmark(?) 방법 이용\n",
    "name1 = input('검색할 이름1 : ')\n",
    "name2 = input('검색할 이름2 : ')\n",
    "# cursor.execute(\"SELECT * FROM MEMBER WHERE NAME IN ('\" + name1 + \"', '\" + name2 + \"')\")\n",
    "cursor.execute(\"SELECT * FROM MEMBER WHERE NAME IN (?, ?)\", (name1, name2))  # [names1, name2]도 가능\n",
    "cursor.fetchall()  # 튜플 리스트"
   ]
  },
  {
   "cell_type": "code",
   "execution_count": 39,
   "id": "4e7ed753",
   "metadata": {
    "ExecuteTime": {
     "end_time": "2024-11-20T03:55:47.902314Z",
     "start_time": "2024-11-20T03:55:45.561652Z"
    }
   },
   "outputs": [
    {
     "name": "stdout",
     "output_type": "stream",
     "text": [
      "검색할 이름1 : 홍길동\n",
      "검색할 이름2 : 신길동\n"
     ]
    },
    {
     "data": {
      "text/plain": [
       "[('홍길동', 20, 'h@h.com'), ('신길동', 25, 's@s.com')]"
      ]
     },
     "execution_count": 39,
     "metadata": {},
     "output_type": "execute_result"
    }
   ],
   "source": [
    "# 파라미터 사용하기 : qmark(?) 방법 이용\n",
    "name1 = input('검색할 이름1 : ')\n",
    "name2 = input('검색할 이름2 : ')\n",
    "names = (name1, name2)\n",
    "cursor.execute(\"SELECT * FROM MEMBER WHERE NAME IN (?, ?)\", names)\n",
    "cursor.fetchall()  # 튜플 리스트"
   ]
  },
  {
   "cell_type": "code",
   "execution_count": 45,
   "id": "6e60c9f4",
   "metadata": {
    "ExecuteTime": {
     "end_time": "2024-11-20T04:01:39.160966Z",
     "start_time": "2024-11-20T04:01:37.319559Z"
    }
   },
   "outputs": [
    {
     "name": "stdout",
     "output_type": "stream",
     "text": [
      "검색할 이름은 > 홍홍홍\n",
      "해당 이름의 데이터가 없습니다. []\n"
     ]
    }
   ],
   "source": [
    "# 파라미터 사용하기 : named 방법 이용\n",
    "name = input('검색할 이름은 > ')\n",
    "cursor.execute(\"SELECT * FROM MEMBER WHERE NAME = :name\", {'name' : name})\n",
    "members = cursor.fetchall()\n",
    "if len(members):  # len(members) == 1\n",
    "    print(members)\n",
    "else:  # len(members) == 0\n",
    "    print('해당 이름의 데이터가 없습니다.', members)"
   ]
  },
  {
   "cell_type": "code",
   "execution_count": 51,
   "id": "46ec07c0",
   "metadata": {
    "ExecuteTime": {
     "end_time": "2024-11-20T04:04:11.473638Z",
     "start_time": "2024-11-20T04:04:09.057483Z"
    }
   },
   "outputs": [
    {
     "name": "stdout",
     "output_type": "stream",
     "text": [
      "검색할 이름1 : 홍길동\n",
      "검색할 이름2 : 신길동\n"
     ]
    },
    {
     "data": {
      "text/plain": [
       "[('홍길동', 20, 'h@h.com'), ('신길동', 25, 's@s.com')]"
      ]
     },
     "execution_count": 51,
     "metadata": {},
     "output_type": "execute_result"
    }
   ],
   "source": [
    "# 파라미터 사용하기 : named 방법 이용\n",
    "name1 = input('검색할 이름1 : ')\n",
    "name2 = input('검색할 이름2 : ')\n",
    "names = {'name1' : name1, 'name2' : name2}\n",
    "# cursor.execute(\"SELECT * FROM MEMBER WHERE NAME IN (:name1, :name2)\", {'name1' : name1, 'name2' : name2})\n",
    "cursor.execute(\"SELECT * FROM MEMBER WHERE NAME IN (:name1, :name2)\", names)\n",
    "cursor.fetchall()  # 튜플 리스트"
   ]
  },
  {
   "cell_type": "code",
   "execution_count": 53,
   "id": "95954cdc",
   "metadata": {
    "ExecuteTime": {
     "end_time": "2024-11-20T05:14:37.714366Z",
     "start_time": "2024-11-20T05:14:37.708368Z"
    }
   },
   "outputs": [],
   "source": [
    "# close() 이후\n",
    "conn = sqlite3.connect('data/ch10_example.db')\n",
    "cursor = conn.cursor()"
   ]
  },
  {
   "cell_type": "code",
   "execution_count": 67,
   "id": "bde5f36e",
   "metadata": {
    "ExecuteTime": {
     "end_time": "2024-11-20T05:37:28.909781Z",
     "start_time": "2024-11-20T05:37:28.902781Z"
    }
   },
   "outputs": [],
   "source": [
    "# class 객체 생성\n",
    "class Member:\n",
    "    'Member 테이블의 내용을 받을 객체 타입'\n",
    "    def __init__(self, name, age, email):\n",
    "        self.name = name\n",
    "        self.age = age\n",
    "        self.email = email\n",
    "    def as_dic(self):  # insert문 전송 시 필요\n",
    "        return {'name' : self.name,\n",
    "                'age' : self.age,\n",
    "                'email' : self.email}\n",
    "    def __str__(self):\n",
    "        return \"{}\\t{}\\t{}\".format(self.name, self.age, self.email)\n",
    "def to_member(*row):  # 튜플 데이터를 매개변수로 받아 Member형 객체로 return\n",
    "    return Member(row[0], row[1], row[2])"
   ]
  },
  {
   "cell_type": "code",
   "execution_count": 58,
   "id": "6db05c2f",
   "metadata": {
    "ExecuteTime": {
     "end_time": "2024-11-20T05:29:40.194898Z",
     "start_time": "2024-11-20T05:29:21.068230Z"
    }
   },
   "outputs": [
    {
     "name": "stdout",
     "output_type": "stream",
     "text": [
      "입력할 이름은 : 김세동\n",
      "입력할 나이는 : 33\n",
      "입력할 메일은 : k@k.com\n",
      "저장완료\n"
     ]
    }
   ],
   "source": [
    "# MEMBER 테이블에 입력(사용자로부터 이름, 나이, 메일을 입력받아 insert)\n",
    "try:\n",
    "    name = input('입력할 이름은 : ')\n",
    "    age = int(input('입력할 나이는 : '))\n",
    "except ValueError:\n",
    "    print('유효하지 않은 나이를 입력하신 경우 18세로 초기화')\n",
    "    age = 18\n",
    "finally:\n",
    "    email = input('입력할 메일은 : ')\n",
    "inputdata = {'name' : name, 'age' : age, 'email' : email}  # named 방법 이용 시\n",
    "inputdata2 = (name, age, email)  # qmark 방법 이용 시\n",
    "# cursor.execute(\"INSERT INTO MEMBER VALUES (?, ?, ?)\", inputdata2)  # qmark 방법 이용 시\n",
    "cursor.execute(\"INSERT INTO MEMBER VALUES (:name, :age, :email)\", inputdata)  # named 방법 이용 시\n",
    "conn.commit()\n",
    "if cursor.rowcount == 1:  # 1행 삽입되었을 때\n",
    "    print('저장완료')\n",
    "# print('저장완료' if cursor.rowcount = 1 else '저장실패')"
   ]
  },
  {
   "cell_type": "code",
   "execution_count": 59,
   "id": "1b7992c2",
   "metadata": {
    "ExecuteTime": {
     "end_time": "2024-11-20T05:30:10.401222Z",
     "start_time": "2024-11-20T05:30:10.394223Z"
    }
   },
   "outputs": [
    {
     "data": {
      "text/plain": [
       "[('홍길동', 20, 'h@h.com'),\n",
       " ('신길동', 25, 's@s.com'),\n",
       " ('신림동', 30, 'l@h.com'),\n",
       " ('홍홍홍', 18, 'h@h.com'),\n",
       " ('김세동', 33, 'k@k.com')]"
      ]
     },
     "execution_count": 59,
     "metadata": {},
     "output_type": "execute_result"
    }
   ],
   "source": [
    "cursor.execute('SELECT * FROM MEMBER')\n",
    "cursor.fetchall()"
   ]
  },
  {
   "cell_type": "code",
   "execution_count": 65,
   "id": "c9752804",
   "metadata": {
    "ExecuteTime": {
     "end_time": "2024-11-20T05:37:09.919553Z",
     "start_time": "2024-11-20T05:37:04.079084Z"
    }
   },
   "outputs": [
    {
     "name": "stdout",
     "output_type": "stream",
     "text": [
      "입력할 이름은 : 김수한\n",
      "입력할 나이는 : 12\n",
      "입력할 메일은 : k@a.com\n",
      "{'name': '김수한', 'age': 12, 'email': 'k@a.com'}\n",
      "입력 성공\n"
     ]
    }
   ],
   "source": [
    "# MEMBER 테이블에 입력(사용자로부터 이름, 나이, 메일을 입력받아 insert)\n",
    "try:\n",
    "    name = input('입력할 이름은 : ')\n",
    "    age = int(input('입력할 나이는 : '))\n",
    "except ValueError:\n",
    "    print('유효하지 않은 나이를 입력하신 경우 18세로 초기화')\n",
    "    age = 18\n",
    "finally:\n",
    "    email = input('입력할 메일은 : ')\n",
    "    \n",
    "newMember = Member(name, age, email)\n",
    "# print(newMember.as_dic())\n",
    "cursor.execute('INSERT INTO MEMBER VALUES (:name, :age, :email)', newMember.as_dic())  # as_dic() 딕셔너리 변환\n",
    "conn.commit()\n",
    "if cursor.rowcount == 1:\n",
    "    print('입력 성공')"
   ]
  },
  {
   "cell_type": "code",
   "execution_count": 72,
   "id": "4af292c7",
   "metadata": {
    "ExecuteTime": {
     "end_time": "2024-11-20T06:05:17.765280Z",
     "start_time": "2024-11-20T06:04:55.680547Z"
    }
   },
   "outputs": [
    {
     "name": "stdout",
     "output_type": "stream",
     "text": [
      "입력할 이름은(단, 종료는 0) : 오시윤\n",
      "입력할 나이는 : 10\n",
      "입력할 메일은 : o@s.com\n",
      "입력할 이름은(단, 종료는 0) : 김호현\n",
      "입력할 나이는 : 20\n",
      "입력할 메일은 : h@k.com\n",
      "입력할 이름은(단, 종료는 0) : 0\n",
      "입력된 데이터는 2명입니다\n",
      "오시윤\t10\to@s.com\n",
      "김호현\t20\th@k.com\n"
     ]
    }
   ],
   "source": [
    "# member 테이블에 데이터를 n번 입력하고\n",
    "# 이름에 0을 입력할 때까지 이름, 나이, 메일을 받아 insert\n",
    "# 이름에 0을 입력하면 이때까지 입력한 데이터들을 출력하고 몇 명을 입력했는지도 출력\n",
    "\n",
    "member_list = []  # insert할 때마다 저장할 변수(입력한 member들이 저장될 list 변수:딕셔너리 리스트)\n",
    "while True:  # n번 동안 입력받기 위해\n",
    "    try:\n",
    "        name = input('입력할 이름은(단, 종료는 0) : ')\n",
    "        if name == '0':\n",
    "            break\n",
    "        age = int(input('입력할 나이는 : '))\n",
    "        email = input('입력할 메일은 : ')\n",
    "    except ValueError:\n",
    "        print('유효하지 않은 나이를 입력할 경우 18세로 초기화')\n",
    "        age = 18\n",
    "        email = input('입력할 메일은 : ')\n",
    "    newMember = {'name' : name, 'age' : age, 'email' : email}\n",
    "    member_list.append(newMember)\n",
    "    cursor.execute('INSERT INTO MEMBER VALUES (:name, :age, :email)', newMember)\n",
    "# name에 0을 입력받고 while 탈출\n",
    "conn.commit()\n",
    "print('입력된 데이터는 ', len(member_list), '명입니다', sep='')\n",
    "for member in member_list:\n",
    "    print('{}\\t{}\\t{}'.format(member['name'], member['age'], member['email']))"
   ]
  },
  {
   "cell_type": "code",
   "execution_count": 75,
   "id": "0e6783da",
   "metadata": {
    "ExecuteTime": {
     "end_time": "2024-11-20T06:22:59.141451Z",
     "start_time": "2024-11-20T06:22:26.063554Z"
    }
   },
   "outputs": [
    {
     "name": "stdout",
     "output_type": "stream",
     "text": [
      "입력할 이름은(단, 종료는 0) : 이르음\n",
      "입력할 나이는 : 33\n",
      "입력할 메일은 : k@l.com\n",
      "입력할 이름은(단, 종료는 0) : 핸드폰\n",
      "입력할 나이는 : 22\n",
      "입력할 메일은 : h@hh.com\n",
      "입력할 이름은(단, 종료는 0) : 0\n",
      "입력한 자료는 다음과 같이 2명입니다\n",
      "이름\t나이\t메일\n",
      "이르음\t33\tk@l.com\n",
      "핸드폰\t22\th@hh.com\n"
     ]
    }
   ],
   "source": [
    "member_list = []  # insert할 때마다 저장할 변수(입력한 member들이 저장될 list 변수:객체 리스트)\n",
    "while True:  # n번 동안 입력받기 위해\n",
    "    try:\n",
    "        name = input('입력할 이름은(단, 종료는 0) : ')\n",
    "        if name == '0':\n",
    "            break\n",
    "        age = int(input('입력할 나이는 : '))\n",
    "        email = input('입력할 메일은 : ')\n",
    "    except ValueError:\n",
    "        print('유효하지 않은 나이를 입력할 경우 18세로 초기화')\n",
    "        age = 18\n",
    "        email = input('입력할 메일은 : ')\n",
    "    newMember = Member(name, age, email)\n",
    "    member_list.append(newMember)\n",
    "    cursor.execute('INSERT INTO MEMBER VALUES (:name, :age, :email)', newMember.as_dic())\n",
    "# name에 0을 입력받고 while 탈출\n",
    "conn.commit()\n",
    "print('입력한 자료는 다음과 같이 {}명입니다'.format(len(member_list)))\n",
    "print('이름\\t나이\\t메일')\n",
    "for member in member_list:\n",
    "    print(member)  # class Member의 __str__"
   ]
  },
  {
   "cell_type": "code",
   "execution_count": 76,
   "id": "e269a3c5",
   "metadata": {
    "ExecuteTime": {
     "end_time": "2024-11-20T06:24:08.198663Z",
     "start_time": "2024-11-20T06:24:08.189597Z"
    }
   },
   "outputs": [
    {
     "data": {
      "text/plain": [
       "[('홍길동', 20, 'h@h.com'),\n",
       " ('신길동', 25, 's@s.com'),\n",
       " ('신림동', 30, 'l@h.com'),\n",
       " ('홍홍홍', 18, 'h@h.com'),\n",
       " ('김세동', 33, 'k@k.com'),\n",
       " ('김수한', 12, 'k@a.com'),\n",
       " ('가가가', 10, 'k@kkk.com'),\n",
       " ('나나나', 20, 'n@nn.com'),\n",
       " ('0', 0, '0'),\n",
       " ('가나다', 10, 'k@nd.com'),\n",
       " ('다나가', 20, 'd@nk.com'),\n",
       " ('가나다', 10, 'k@n.com'),\n",
       " ('다나라', 20, 'd@n.com'),\n",
       " ('김형진', 30, 'khy@com'),\n",
       " ('이현주', 24, 'l@hj.com'),\n",
       " ('오시윤', 10, 'o@s.com'),\n",
       " ('김호현', 20, 'h@k.com'),\n",
       " ('홍길동', 22, 'h@h.com'),\n",
       " ('이르음', 33, 'k@l.com'),\n",
       " ('핸드폰', 22, 'h@hh.com')]"
      ]
     },
     "execution_count": 76,
     "metadata": {},
     "output_type": "execute_result"
    }
   ],
   "source": [
    "# 입력확인은 DB browser나 python으로\n",
    "cursor.execute('SELECT * FROM MEMBER')\n",
    "cursor.fetchall()"
   ]
  },
  {
   "cell_type": "code",
   "execution_count": 77,
   "id": "b9699a74",
   "metadata": {
    "ExecuteTime": {
     "end_time": "2024-11-20T06:25:39.178327Z",
     "start_time": "2024-11-20T06:25:39.173326Z"
    }
   },
   "outputs": [],
   "source": [
    "cursor.close()\n",
    "conn.close()"
   ]
  },
  {
   "cell_type": "markdown",
   "id": "ddf3150b",
   "metadata": {},
   "source": [
    "# 2절. 오라클 데이터 베이스 연결\n",
    " - [cx_Oracle](https://cx-oracle.readthedocs.io/en/latest/) 사용"
   ]
  },
  {
   "cell_type": "code",
   "execution_count": 78,
   "id": "e96db245",
   "metadata": {
    "ExecuteTime": {
     "end_time": "2024-11-20T06:33:34.036936Z",
     "start_time": "2024-11-20T06:33:34.025882Z"
    }
   },
   "outputs": [],
   "source": [
    "import cx_Oracle"
   ]
  },
  {
   "cell_type": "code",
   "execution_count": 80,
   "id": "b08586ab",
   "metadata": {
    "ExecuteTime": {
     "end_time": "2024-11-20T06:38:02.849982Z",
     "start_time": "2024-11-20T06:38:02.399289Z"
    }
   },
   "outputs": [
    {
     "name": "stdout",
     "output_type": "stream",
     "text": [
      "(DESCRIPTION=(ADDRESS=(PROTOCOL=TCP)(HOST=localhost)(PORT=1521))(CONNECT_DATA=(SID=xe)))\n"
     ]
    },
    {
     "data": {
      "text/plain": [
       "<cx_Oracle.Connection to scott@(DESCRIPTION=(ADDRESS=(PROTOCOL=TCP)(HOST=localhost)(PORT=1521))(CONNECT_DATA=(SID=xe)))>"
      ]
     },
     "execution_count": 80,
     "metadata": {},
     "output_type": "execute_result"
    }
   ],
   "source": [
    "# conn 얻어오는 방법1\n",
    "oracle_dsn = cx_Oracle.makedsn(host='localhost', port='1521', sid='xe')\n",
    "print(oracle_dsn)\n",
    "conn = cx_Oracle.connect('scott', 'tiger', dsn=oracle_dsn)\n",
    "conn\n",
    "# 여기서 예외 발생 시 VC_redist.x64.exe를 검색 후 다운로드"
   ]
  },
  {
   "cell_type": "code",
   "execution_count": 81,
   "id": "31cc2d77",
   "metadata": {
    "ExecuteTime": {
     "end_time": "2024-11-20T06:40:30.652492Z",
     "start_time": "2024-11-20T06:40:30.191088Z"
    }
   },
   "outputs": [],
   "source": [
    "conn.close()"
   ]
  },
  {
   "cell_type": "code",
   "execution_count": 82,
   "id": "8756ad84",
   "metadata": {
    "ExecuteTime": {
     "end_time": "2024-11-20T06:44:25.367192Z",
     "start_time": "2024-11-20T06:44:25.314799Z"
    }
   },
   "outputs": [
    {
     "data": {
      "text/plain": [
       "<cx_Oracle.Connection to scott@localhost:1521/xe>"
      ]
     },
     "execution_count": 82,
     "metadata": {},
     "output_type": "execute_result"
    }
   ],
   "source": [
    "# conn 얻어오는 방법2\n",
    "conn = cx_Oracle.connect('scott', 'tiger', 'localhost:1521/xe')\n",
    "conn"
   ]
  },
  {
   "cell_type": "code",
   "execution_count": 83,
   "id": "9202cee9",
   "metadata": {
    "ExecuteTime": {
     "end_time": "2024-11-20T06:45:31.936389Z",
     "start_time": "2024-11-20T06:45:31.907791Z"
    }
   },
   "outputs": [],
   "source": [
    "# cursor 객체 생성\n",
    "cursor = conn.cursor()\n",
    "sql = 'SELECT * FROM EMP'\n",
    "cursor.execute(sql)\n",
    "emp = cursor.fetchall()"
   ]
  },
  {
   "cell_type": "code",
   "execution_count": 84,
   "id": "ef99c54e",
   "metadata": {
    "ExecuteTime": {
     "end_time": "2024-11-20T06:46:09.430788Z",
     "start_time": "2024-11-20T06:46:09.426787Z"
    }
   },
   "outputs": [
    {
     "name": "stdout",
     "output_type": "stream",
     "text": [
      "(7369, 'SMITH', 'CLERK', 7902, datetime.datetime(1980, 12, 17, 0, 0), 800.0, None, 20)\n",
      "(7499, 'ALLEN', 'SALESMAN', 7698, datetime.datetime(1981, 2, 20, 0, 0), 1600.0, 300.0, 30)\n",
      "(7521, 'WARD', 'SALESMAN', 7698, datetime.datetime(1981, 2, 22, 0, 0), 1250.0, 500.0, 30)\n",
      "(7566, 'JONES', 'MANAGER', 7839, datetime.datetime(1981, 4, 2, 0, 0), 2975.0, None, 20)\n",
      "(7654, 'MARTIN', 'SALESMAN', 7698, datetime.datetime(1981, 9, 28, 0, 0), 1250.0, 1400.0, 30)\n",
      "(7698, 'BLAKE', 'MANAGER', 7839, datetime.datetime(1981, 5, 1, 0, 0), 2850.0, None, 30)\n",
      "(7782, 'CLARK', 'MANAGER', 7839, datetime.datetime(1981, 6, 9, 0, 0), 2450.0, None, 10)\n",
      "(7788, 'SCOTT', 'ANALYST', 7566, datetime.datetime(1982, 12, 9, 0, 0), 3000.0, None, 20)\n",
      "(7839, 'KING', 'PRESIDENT', None, datetime.datetime(1981, 11, 17, 0, 0), 5000.0, None, 10)\n",
      "(7844, 'TURNER', 'SALESMAN', 7698, datetime.datetime(1981, 9, 8, 0, 0), 1500.0, 0.0, 30)\n",
      "(7876, 'ADAMS', 'CLERK', 7788, datetime.datetime(1983, 1, 12, 0, 0), 1100.0, None, 20)\n",
      "(7900, 'JAMES', 'CLERK', 7698, datetime.datetime(1981, 12, 3, 0, 0), 950.0, None, 30)\n",
      "(7902, 'FORD', 'ANALYST', 7566, datetime.datetime(1981, 12, 3, 0, 0), 3000.0, None, 20)\n",
      "(7934, 'MILLER', 'CLERK', 7782, datetime.datetime(1982, 1, 23, 0, 0), 1300.0, None, 10)\n"
     ]
    }
   ],
   "source": [
    "for e in emp:  # 튜플 리스트라 field가 많을 경우 가독성이 다소 떨어짐\n",
    "    print(e)"
   ]
  },
  {
   "cell_type": "code",
   "execution_count": 93,
   "id": "32bc6c34",
   "metadata": {
    "ExecuteTime": {
     "end_time": "2024-11-20T06:56:05.956592Z",
     "start_time": "2024-11-20T06:56:05.940434Z"
    }
   },
   "outputs": [
    {
     "data": {
      "text/html": [
       "<div>\n",
       "<style scoped>\n",
       "    .dataframe tbody tr th:only-of-type {\n",
       "        vertical-align: middle;\n",
       "    }\n",
       "\n",
       "    .dataframe tbody tr th {\n",
       "        vertical-align: top;\n",
       "    }\n",
       "\n",
       "    .dataframe thead th {\n",
       "        text-align: right;\n",
       "    }\n",
       "</style>\n",
       "<table border=\"1\" class=\"dataframe\">\n",
       "  <thead>\n",
       "    <tr style=\"text-align: right;\">\n",
       "      <th></th>\n",
       "      <th>0</th>\n",
       "      <th>1</th>\n",
       "      <th>2</th>\n",
       "      <th>3</th>\n",
       "      <th>4</th>\n",
       "      <th>5</th>\n",
       "      <th>6</th>\n",
       "      <th>7</th>\n",
       "    </tr>\n",
       "  </thead>\n",
       "  <tbody>\n",
       "    <tr>\n",
       "      <th>0</th>\n",
       "      <td>7369</td>\n",
       "      <td>SMITH</td>\n",
       "      <td>CLERK</td>\n",
       "      <td>7902.0</td>\n",
       "      <td>1980-12-17</td>\n",
       "      <td>800.0</td>\n",
       "      <td>NaN</td>\n",
       "      <td>20</td>\n",
       "    </tr>\n",
       "    <tr>\n",
       "      <th>1</th>\n",
       "      <td>7499</td>\n",
       "      <td>ALLEN</td>\n",
       "      <td>SALESMAN</td>\n",
       "      <td>7698.0</td>\n",
       "      <td>1981-02-20</td>\n",
       "      <td>1600.0</td>\n",
       "      <td>300.0</td>\n",
       "      <td>30</td>\n",
       "    </tr>\n",
       "    <tr>\n",
       "      <th>2</th>\n",
       "      <td>7521</td>\n",
       "      <td>WARD</td>\n",
       "      <td>SALESMAN</td>\n",
       "      <td>7698.0</td>\n",
       "      <td>1981-02-22</td>\n",
       "      <td>1250.0</td>\n",
       "      <td>500.0</td>\n",
       "      <td>30</td>\n",
       "    </tr>\n",
       "    <tr>\n",
       "      <th>3</th>\n",
       "      <td>7566</td>\n",
       "      <td>JONES</td>\n",
       "      <td>MANAGER</td>\n",
       "      <td>7839.0</td>\n",
       "      <td>1981-04-02</td>\n",
       "      <td>2975.0</td>\n",
       "      <td>NaN</td>\n",
       "      <td>20</td>\n",
       "    </tr>\n",
       "    <tr>\n",
       "      <th>4</th>\n",
       "      <td>7654</td>\n",
       "      <td>MARTIN</td>\n",
       "      <td>SALESMAN</td>\n",
       "      <td>7698.0</td>\n",
       "      <td>1981-09-28</td>\n",
       "      <td>1250.0</td>\n",
       "      <td>1400.0</td>\n",
       "      <td>30</td>\n",
       "    </tr>\n",
       "  </tbody>\n",
       "</table>\n",
       "</div>"
      ],
      "text/plain": [
       "      0       1         2       3          4       5       6   7\n",
       "0  7369   SMITH     CLERK  7902.0 1980-12-17   800.0     NaN  20\n",
       "1  7499   ALLEN  SALESMAN  7698.0 1981-02-20  1600.0   300.0  30\n",
       "2  7521    WARD  SALESMAN  7698.0 1981-02-22  1250.0   500.0  30\n",
       "3  7566   JONES   MANAGER  7839.0 1981-04-02  2975.0     NaN  20\n",
       "4  7654  MARTIN  SALESMAN  7698.0 1981-09-28  1250.0  1400.0  30"
      ]
     },
     "execution_count": 93,
     "metadata": {},
     "output_type": "execute_result"
    }
   ],
   "source": [
    "import pandas as pd\n",
    "emp_df = pd.DataFrame(emp)\n",
    "emp_df.head(5)\n",
    "# 행과 열의 숫자를 헤더로 변경하기"
   ]
  },
  {
   "cell_type": "code",
   "execution_count": 87,
   "id": "0131789a",
   "metadata": {
    "ExecuteTime": {
     "end_time": "2024-11-20T06:52:06.319618Z",
     "start_time": "2024-11-20T06:52:06.311622Z"
    }
   },
   "outputs": [
    {
     "data": {
      "text/plain": [
       "[('EMPNO', <cx_Oracle.DbType DB_TYPE_NUMBER>, 5, None, 4, 0, 0),\n",
       " ('ENAME', <cx_Oracle.DbType DB_TYPE_VARCHAR>, 10, 10, None, None, 1),\n",
       " ('JOB', <cx_Oracle.DbType DB_TYPE_VARCHAR>, 9, 9, None, None, 1),\n",
       " ('MGR', <cx_Oracle.DbType DB_TYPE_NUMBER>, 5, None, 4, 0, 1),\n",
       " ('HIREDATE', <cx_Oracle.DbType DB_TYPE_DATE>, 23, None, None, None, 1),\n",
       " ('SAL', <cx_Oracle.DbType DB_TYPE_NUMBER>, 11, None, 7, 2, 1),\n",
       " ('COMM', <cx_Oracle.DbType DB_TYPE_NUMBER>, 11, None, 7, 2, 1),\n",
       " ('DEPTNO', <cx_Oracle.DbType DB_TYPE_NUMBER>, 3, None, 2, 0, 1)]"
      ]
     },
     "execution_count": 87,
     "metadata": {},
     "output_type": "execute_result"
    }
   ],
   "source": [
    "# select문 수행한 각 필드 정보\n",
    "cursor.description  # 튜플리스트"
   ]
  },
  {
   "cell_type": "code",
   "execution_count": 88,
   "id": "5037434f",
   "metadata": {
    "ExecuteTime": {
     "end_time": "2024-11-20T06:54:07.652775Z",
     "start_time": "2024-11-20T06:54:07.645779Z"
    }
   },
   "outputs": [
    {
     "data": {
      "text/plain": [
       "['EMPNO', 'ENAME', 'JOB', 'MGR', 'HIREDATE', 'SAL', 'COMM', 'DEPTNO']"
      ]
     },
     "execution_count": 88,
     "metadata": {},
     "output_type": "execute_result"
    }
   ],
   "source": [
    "result = []\n",
    "for description in cursor.description:\n",
    "    result.append(description[0])  # description[0].lower() : 소문자\n",
    "result"
   ]
  },
  {
   "cell_type": "code",
   "execution_count": 89,
   "id": "0da81d80",
   "metadata": {
    "ExecuteTime": {
     "end_time": "2024-11-20T06:55:19.636701Z",
     "start_time": "2024-11-20T06:55:19.629705Z"
    }
   },
   "outputs": [
    {
     "data": {
      "text/plain": [
       "['EMPNO', 'ENAME', 'JOB', 'MGR', 'HIREDATE', 'SAL', 'COMM', 'DEPTNO']"
      ]
     },
     "execution_count": 89,
     "metadata": {},
     "output_type": "execute_result"
    }
   ],
   "source": [
    "# 리스트 컴프리헨션\n",
    "[row[0] for row in cursor.description]"
   ]
  },
  {
   "cell_type": "code",
   "execution_count": 94,
   "id": "e77ad902",
   "metadata": {
    "ExecuteTime": {
     "end_time": "2024-11-20T06:56:12.251774Z",
     "start_time": "2024-11-20T06:56:12.245465Z"
    }
   },
   "outputs": [
    {
     "data": {
      "text/plain": [
       "RangeIndex(start=0, stop=8, step=1)"
      ]
     },
     "execution_count": 94,
     "metadata": {},
     "output_type": "execute_result"
    }
   ],
   "source": [
    "emp_df.columns"
   ]
  },
  {
   "cell_type": "code",
   "execution_count": 95,
   "id": "8fe03b1e",
   "metadata": {
    "ExecuteTime": {
     "end_time": "2024-11-20T06:56:55.297007Z",
     "start_time": "2024-11-20T06:56:55.276069Z"
    }
   },
   "outputs": [
    {
     "data": {
      "text/html": [
       "<div>\n",
       "<style scoped>\n",
       "    .dataframe tbody tr th:only-of-type {\n",
       "        vertical-align: middle;\n",
       "    }\n",
       "\n",
       "    .dataframe tbody tr th {\n",
       "        vertical-align: top;\n",
       "    }\n",
       "\n",
       "    .dataframe thead th {\n",
       "        text-align: right;\n",
       "    }\n",
       "</style>\n",
       "<table border=\"1\" class=\"dataframe\">\n",
       "  <thead>\n",
       "    <tr style=\"text-align: right;\">\n",
       "      <th></th>\n",
       "      <th>EMPNO</th>\n",
       "      <th>ENAME</th>\n",
       "      <th>JOB</th>\n",
       "      <th>MGR</th>\n",
       "      <th>HIREDATE</th>\n",
       "      <th>SAL</th>\n",
       "      <th>COMM</th>\n",
       "      <th>DEPTNO</th>\n",
       "    </tr>\n",
       "  </thead>\n",
       "  <tbody>\n",
       "    <tr>\n",
       "      <th>0</th>\n",
       "      <td>7369</td>\n",
       "      <td>SMITH</td>\n",
       "      <td>CLERK</td>\n",
       "      <td>7902.0</td>\n",
       "      <td>1980-12-17</td>\n",
       "      <td>800.0</td>\n",
       "      <td>NaN</td>\n",
       "      <td>20</td>\n",
       "    </tr>\n",
       "    <tr>\n",
       "      <th>1</th>\n",
       "      <td>7499</td>\n",
       "      <td>ALLEN</td>\n",
       "      <td>SALESMAN</td>\n",
       "      <td>7698.0</td>\n",
       "      <td>1981-02-20</td>\n",
       "      <td>1600.0</td>\n",
       "      <td>300.0</td>\n",
       "      <td>30</td>\n",
       "    </tr>\n",
       "    <tr>\n",
       "      <th>2</th>\n",
       "      <td>7521</td>\n",
       "      <td>WARD</td>\n",
       "      <td>SALESMAN</td>\n",
       "      <td>7698.0</td>\n",
       "      <td>1981-02-22</td>\n",
       "      <td>1250.0</td>\n",
       "      <td>500.0</td>\n",
       "      <td>30</td>\n",
       "    </tr>\n",
       "    <tr>\n",
       "      <th>3</th>\n",
       "      <td>7566</td>\n",
       "      <td>JONES</td>\n",
       "      <td>MANAGER</td>\n",
       "      <td>7839.0</td>\n",
       "      <td>1981-04-02</td>\n",
       "      <td>2975.0</td>\n",
       "      <td>NaN</td>\n",
       "      <td>20</td>\n",
       "    </tr>\n",
       "    <tr>\n",
       "      <th>4</th>\n",
       "      <td>7654</td>\n",
       "      <td>MARTIN</td>\n",
       "      <td>SALESMAN</td>\n",
       "      <td>7698.0</td>\n",
       "      <td>1981-09-28</td>\n",
       "      <td>1250.0</td>\n",
       "      <td>1400.0</td>\n",
       "      <td>30</td>\n",
       "    </tr>\n",
       "    <tr>\n",
       "      <th>5</th>\n",
       "      <td>7698</td>\n",
       "      <td>BLAKE</td>\n",
       "      <td>MANAGER</td>\n",
       "      <td>7839.0</td>\n",
       "      <td>1981-05-01</td>\n",
       "      <td>2850.0</td>\n",
       "      <td>NaN</td>\n",
       "      <td>30</td>\n",
       "    </tr>\n",
       "    <tr>\n",
       "      <th>6</th>\n",
       "      <td>7782</td>\n",
       "      <td>CLARK</td>\n",
       "      <td>MANAGER</td>\n",
       "      <td>7839.0</td>\n",
       "      <td>1981-06-09</td>\n",
       "      <td>2450.0</td>\n",
       "      <td>NaN</td>\n",
       "      <td>10</td>\n",
       "    </tr>\n",
       "    <tr>\n",
       "      <th>7</th>\n",
       "      <td>7788</td>\n",
       "      <td>SCOTT</td>\n",
       "      <td>ANALYST</td>\n",
       "      <td>7566.0</td>\n",
       "      <td>1982-12-09</td>\n",
       "      <td>3000.0</td>\n",
       "      <td>NaN</td>\n",
       "      <td>20</td>\n",
       "    </tr>\n",
       "    <tr>\n",
       "      <th>8</th>\n",
       "      <td>7839</td>\n",
       "      <td>KING</td>\n",
       "      <td>PRESIDENT</td>\n",
       "      <td>NaN</td>\n",
       "      <td>1981-11-17</td>\n",
       "      <td>5000.0</td>\n",
       "      <td>NaN</td>\n",
       "      <td>10</td>\n",
       "    </tr>\n",
       "    <tr>\n",
       "      <th>9</th>\n",
       "      <td>7844</td>\n",
       "      <td>TURNER</td>\n",
       "      <td>SALESMAN</td>\n",
       "      <td>7698.0</td>\n",
       "      <td>1981-09-08</td>\n",
       "      <td>1500.0</td>\n",
       "      <td>0.0</td>\n",
       "      <td>30</td>\n",
       "    </tr>\n",
       "    <tr>\n",
       "      <th>10</th>\n",
       "      <td>7876</td>\n",
       "      <td>ADAMS</td>\n",
       "      <td>CLERK</td>\n",
       "      <td>7788.0</td>\n",
       "      <td>1983-01-12</td>\n",
       "      <td>1100.0</td>\n",
       "      <td>NaN</td>\n",
       "      <td>20</td>\n",
       "    </tr>\n",
       "    <tr>\n",
       "      <th>11</th>\n",
       "      <td>7900</td>\n",
       "      <td>JAMES</td>\n",
       "      <td>CLERK</td>\n",
       "      <td>7698.0</td>\n",
       "      <td>1981-12-03</td>\n",
       "      <td>950.0</td>\n",
       "      <td>NaN</td>\n",
       "      <td>30</td>\n",
       "    </tr>\n",
       "    <tr>\n",
       "      <th>12</th>\n",
       "      <td>7902</td>\n",
       "      <td>FORD</td>\n",
       "      <td>ANALYST</td>\n",
       "      <td>7566.0</td>\n",
       "      <td>1981-12-03</td>\n",
       "      <td>3000.0</td>\n",
       "      <td>NaN</td>\n",
       "      <td>20</td>\n",
       "    </tr>\n",
       "    <tr>\n",
       "      <th>13</th>\n",
       "      <td>7934</td>\n",
       "      <td>MILLER</td>\n",
       "      <td>CLERK</td>\n",
       "      <td>7782.0</td>\n",
       "      <td>1982-01-23</td>\n",
       "      <td>1300.0</td>\n",
       "      <td>NaN</td>\n",
       "      <td>10</td>\n",
       "    </tr>\n",
       "  </tbody>\n",
       "</table>\n",
       "</div>"
      ],
      "text/plain": [
       "    EMPNO   ENAME        JOB     MGR   HIREDATE     SAL    COMM  DEPTNO\n",
       "0    7369   SMITH      CLERK  7902.0 1980-12-17   800.0     NaN      20\n",
       "1    7499   ALLEN   SALESMAN  7698.0 1981-02-20  1600.0   300.0      30\n",
       "2    7521    WARD   SALESMAN  7698.0 1981-02-22  1250.0   500.0      30\n",
       "3    7566   JONES    MANAGER  7839.0 1981-04-02  2975.0     NaN      20\n",
       "4    7654  MARTIN   SALESMAN  7698.0 1981-09-28  1250.0  1400.0      30\n",
       "5    7698   BLAKE    MANAGER  7839.0 1981-05-01  2850.0     NaN      30\n",
       "6    7782   CLARK    MANAGER  7839.0 1981-06-09  2450.0     NaN      10\n",
       "7    7788   SCOTT    ANALYST  7566.0 1982-12-09  3000.0     NaN      20\n",
       "8    7839    KING  PRESIDENT     NaN 1981-11-17  5000.0     NaN      10\n",
       "9    7844  TURNER   SALESMAN  7698.0 1981-09-08  1500.0     0.0      30\n",
       "10   7876   ADAMS      CLERK  7788.0 1983-01-12  1100.0     NaN      20\n",
       "11   7900   JAMES      CLERK  7698.0 1981-12-03   950.0     NaN      30\n",
       "12   7902    FORD    ANALYST  7566.0 1981-12-03  3000.0     NaN      20\n",
       "13   7934  MILLER      CLERK  7782.0 1982-01-23  1300.0     NaN      10"
      ]
     },
     "execution_count": 95,
     "metadata": {},
     "output_type": "execute_result"
    }
   ],
   "source": [
    "emp_df.columns = [row[0] for row in cursor.description]  # column이름이 대체됨\n",
    "emp_df  # .head():처음부터 (), tail():끝부터 (), sampel():임의의 한 줄 출력"
   ]
  },
  {
   "cell_type": "code",
   "execution_count": 97,
   "id": "bb1bb807",
   "metadata": {
    "ExecuteTime": {
     "end_time": "2024-11-20T07:02:46.533585Z",
     "start_time": "2024-11-20T07:02:43.120548Z"
    }
   },
   "outputs": [
    {
     "name": "stdout",
     "output_type": "stream",
     "text": [
      "검색할 이름은 : scott\n",
      "(7788, 'SCOTT', 'ANALYST', 7566, datetime.datetime(1982, 12, 9, 0, 0), 3000.0, None, 20)\n"
     ]
    }
   ],
   "source": [
    "# 검색할 이름을 사용자에게 받아 해당 내용을 출력\n",
    "ename = input('검색할 이름은 : ')\n",
    "sql = \"SELECT * FROM EMP WHERE ENAME = UPPER(:ename)\"\n",
    "cursor.execute(sql, {'ename' : ename})\n",
    "emp = cursor.fetchall()\n",
    "if len(emp):  # if len(emp) == 0\n",
    "    for e in emp:\n",
    "        print(e)\n",
    "else:  # : 0이면 False,\n",
    "    print('입력하신 이름의 데이터가 존재하지 않습니다.')"
   ]
  },
  {
   "cell_type": "code",
   "execution_count": 98,
   "id": "0645933e",
   "metadata": {
    "ExecuteTime": {
     "end_time": "2024-11-20T07:14:17.695907Z",
     "start_time": "2024-11-20T07:14:17.690909Z"
    }
   },
   "outputs": [
    {
     "name": "stdout",
     "output_type": "stream",
     "text": [
      "(7788, 'SCOTT', 'ANALYST', 7566, datetime.datetime(1982, 12, 9, 0, 0), 3000.0, None, 20)\n"
     ]
    }
   ],
   "source": [
    "print(e)"
   ]
  },
  {
   "cell_type": "code",
   "execution_count": 99,
   "id": "786a11f3",
   "metadata": {
    "ExecuteTime": {
     "end_time": "2024-11-20T07:15:21.935407Z",
     "start_time": "2024-11-20T07:15:21.930409Z"
    }
   },
   "outputs": [
    {
     "name": "stdout",
     "output_type": "stream",
     "text": [
      "['EMPNO', 'ENAME', 'JOB', 'MGR', 'HIREDATE', 'SAL', 'COMM', 'DEPTNO']\n",
      "(7788, 'SCOTT', 'ANALYST', 7566, datetime.datetime(1982, 12, 9, 0, 0), 3000.0, None, 20)\n"
     ]
    }
   ],
   "source": [
    "fieldnames = [description[0] for description in cursor.description]\n",
    "print(fieldnames)\n",
    "print(e)"
   ]
  },
  {
   "cell_type": "code",
   "execution_count": 100,
   "id": "f8b1628d",
   "metadata": {
    "ExecuteTime": {
     "end_time": "2024-11-20T07:17:47.031660Z",
     "start_time": "2024-11-20T07:17:47.025663Z"
    }
   },
   "outputs": [
    {
     "name": "stdout",
     "output_type": "stream",
     "text": [
      "EMPNO:7788\n",
      "ENAME:SCOTT\n",
      "JOB:ANALYST\n",
      "MGR:7566\n",
      "HIREDATE:1982-12-09 00:00:00\n",
      "SAL:3000.0\n",
      "COMM:None\n",
      "DEPTNO:20\n"
     ]
    }
   ],
   "source": [
    "for idx in range(len(e)):\n",
    "    print('{}:{}'.format(fieldnames[idx], e[idx]))"
   ]
  },
  {
   "cell_type": "code",
   "execution_count": 101,
   "id": "eec6a589",
   "metadata": {
    "ExecuteTime": {
     "end_time": "2024-11-20T07:18:21.694216Z",
     "start_time": "2024-11-20T07:18:21.689218Z"
    }
   },
   "outputs": [
    {
     "name": "stdout",
     "output_type": "stream",
     "text": [
      "EMPNO:7788\n",
      "ENAME:SCOTT\n",
      "JOB:ANALYST\n",
      "MGR:7566\n",
      "HIREDATE:1982-12-09 00:00:00\n",
      "SAL:3000.0\n",
      "COMM:\n",
      "DEPTNO:20\n"
     ]
    }
   ],
   "source": [
    "# COMM:None -> COMM:\n",
    "for idx in range(len(e)):\n",
    "    print('{}:{}'.format(fieldnames[idx], e[idx] if e[idx] is not None else ''))"
   ]
  },
  {
   "cell_type": "code",
   "execution_count": 102,
   "id": "4de9ba08",
   "metadata": {
    "ExecuteTime": {
     "end_time": "2024-11-20T07:20:19.943434Z",
     "start_time": "2024-11-20T07:20:19.935622Z"
    }
   },
   "outputs": [
    {
     "data": {
      "text/plain": [
       "[('EMPNO', 7788),\n",
       " ('ENAME', 'SCOTT'),\n",
       " ('JOB', 'ANALYST'),\n",
       " ('MGR', 7566),\n",
       " ('HIREDATE', datetime.datetime(1982, 12, 9, 0, 0)),\n",
       " ('SAL', 3000.0),\n",
       " ('COMM', None),\n",
       " ('DEPTNO', 20)]"
      ]
     },
     "execution_count": 102,
     "metadata": {},
     "output_type": "execute_result"
    }
   ],
   "source": [
    "list(zip(fieldnames, e))  # zip() 안의 인덱스가 같이 들어옴 / zip() 안에는 몇 개가 들어와도 무방"
   ]
  },
  {
   "cell_type": "code",
   "execution_count": 106,
   "id": "07704723",
   "metadata": {
    "ExecuteTime": {
     "end_time": "2024-11-20T07:21:52.645238Z",
     "start_time": "2024-11-20T07:21:52.638501Z"
    }
   },
   "outputs": [
    {
     "name": "stdout",
     "output_type": "stream",
     "text": [
      "EMPNO:7788\n",
      "ENAME:SCOTT\n",
      "JOB:ANALYST\n",
      "MGR:7566\n",
      "HIREDATE:1982-12-09 00:00:00\n",
      "SAL:3000.0\n",
      "COMM:-\n",
      "DEPTNO:20\n"
     ]
    }
   ],
   "source": [
    "for fieldname, data in zip(fieldnames, e):\n",
    "    print('{}:{}'.format(fieldname, data if data is not None else '-'))"
   ]
  },
  {
   "cell_type": "code",
   "execution_count": 118,
   "id": "09e20019",
   "metadata": {
    "ExecuteTime": {
     "end_time": "2024-11-20T07:51:22.339330Z",
     "start_time": "2024-11-20T07:51:22.336330Z"
    }
   },
   "outputs": [],
   "source": [
    "cursor.close()\n",
    "conn.close()"
   ]
  },
  {
   "cell_type": "markdown",
   "id": "674609b2",
   "metadata": {},
   "source": [
    "# 3절. 연습문제"
   ]
  },
  {
   "cell_type": "code",
   "execution_count": 84,
   "id": "eef83080",
   "metadata": {
    "ExecuteTime": {
     "end_time": "2024-11-20T08:58:44.168785Z",
     "start_time": "2024-11-20T08:58:44.162944Z"
    }
   },
   "outputs": [],
   "source": [
    "import sqlite3\n",
    "conn = sqlite3.connect('data/ch10_data.db')\n",
    "cursor = conn.cursor()"
   ]
  },
  {
   "cell_type": "markdown",
   "id": "e2c09897",
   "metadata": {},
   "source": [
    "## CREATE TABLE \"member\" 생성"
   ]
  },
  {
   "cell_type": "markdown",
   "id": "45ab06ad",
   "metadata": {},
   "source": [
    "## Member class 생성"
   ]
  },
  {
   "cell_type": "code",
   "execution_count": 85,
   "id": "ee96b1fa",
   "metadata": {
    "ExecuteTime": {
     "end_time": "2024-11-20T08:58:46.091239Z",
     "start_time": "2024-11-20T08:58:46.083241Z"
    }
   },
   "outputs": [],
   "source": [
    "class Member:\n",
    "    def __init__(self, name, phone, email, age, grade, etc):\n",
    "        self.name = name\n",
    "        self.phone = phone\n",
    "        self.email = email\n",
    "        self.age = age\n",
    "        self.grade = grade\n",
    "        self.etc = etc\n",
    "    def __str__(self):\n",
    "        return '{:3}\\t{:15}\\t{:15}\\t{:3}\\t{:>5}\\t{}'.format(\n",
    "                                    self.name, self.phone, self.email, self.age, '*'*self.grade, self.etc)\n",
    "    def as_dict(self):\n",
    "        return {'name' : self.name,\n",
    "                'phone' : self.phone,\n",
    "                'email' : self.email,\n",
    "                'age' : self.age,\n",
    "                'grade' : self.grade,\n",
    "                'etc' : self.etc}\n",
    "    def to_member(*row):  # 튜플 데이터를 매개변수로 받아 Member형 객체로 반환\n",
    "        return Member(row[0], row[1], row[2], row[3], row[4], row[5])"
   ]
  },
  {
   "cell_type": "code",
   "execution_count": 86,
   "id": "6a5ac56c",
   "metadata": {
    "ExecuteTime": {
     "end_time": "2024-11-20T08:58:47.463497Z",
     "start_time": "2024-11-20T08:58:47.458498Z"
    }
   },
   "outputs": [
    {
     "name": "stdout",
     "output_type": "stream",
     "text": [
      "홍길동\t010-9999-9999  \th@h.com        \t 20\t  ***\t학생\n",
      "김길동\t010-8888-8888  \tk@k.com        \t 30\t*****\t직장인\n"
     ]
    }
   ],
   "source": [
    "# Member class test\n",
    "m = Member('홍길동', '010-9999-9999', 'h@h.com', 20, 3, '학생')\n",
    "m1 = Member('김길동', '010-8888-8888', 'k@k.com', 30, 5, '직장인')\n",
    "print(m)\n",
    "print(m1)"
   ]
  },
  {
   "cell_type": "markdown",
   "id": "92b371fb",
   "metadata": {},
   "source": [
    "## 1. 입력\n"
   ]
  },
  {
   "cell_type": "code",
   "execution_count": 89,
   "id": "e83ca4eb",
   "metadata": {
    "ExecuteTime": {
     "end_time": "2024-11-20T08:58:57.035479Z",
     "start_time": "2024-11-20T08:58:57.026294Z"
    }
   },
   "outputs": [],
   "source": [
    "def insert_member():\n",
    "    cursor = conn.cursor()\n",
    "    name = input('이름을 입력하세요 : ')\n",
    "    phone = input('번호를 입력하세요 : ')\n",
    "    email = input('메일을 입력하세요 : ')\n",
    "    try:\n",
    "        age = int(input('나이를 입력하세요 : '))\n",
    "        if age < 0:\n",
    "            age = 0\n",
    "    except ValueError:\n",
    "        print('유효하지 않은 나이를 입력해 18세로 초기화')\n",
    "        age = 18\n",
    "    try:\n",
    "        grade = int(input('등급을 입력하세요(1~5) : '))\n",
    "        if grade < 1:\n",
    "            grade = 1\n",
    "        if grade > 5:\n",
    "            grade = 5\n",
    "    except ValueError:\n",
    "        print('유효하지 않은 등급을 입력해 1등급으로 초기화')\n",
    "        grade = 1\n",
    "    etc = input('기타사항을 입력하세요 : ')\n",
    "    member = Member(name, phone, email, age, grade, etc)\n",
    "    cursor.execute('INSERT INTO MEMBER VALUES (:name, :phone, :email, :age, :grade, :etc)', member.as_dict())\n",
    "    conn.commit()\n",
    "    if cursor.rowcount == 1:\n",
    "        print('{}님 입력 성공'.format(member.name))\n",
    "    cursor.close()"
   ]
  },
  {
   "cell_type": "code",
   "execution_count": 90,
   "id": "32233fc3",
   "metadata": {
    "ExecuteTime": {
     "end_time": "2024-11-20T08:59:07.934054Z",
     "start_time": "2024-11-20T08:58:57.729621Z"
    }
   },
   "outputs": [
    {
     "name": "stdout",
     "output_type": "stream",
     "text": [
      "이름을 입력하세요 : 홍길동\n",
      "번호를 입력하세요 : 010-9999-9999\n",
      "메일을 입력하세요 : h@h.com\n",
      "나이를 입력하세요 : 20\n",
      "등급을 입력하세요(1~5) : 5\n",
      "기타사항을 입력하세요 : 없음\n",
      "홍길동님 입력 성공\n"
     ]
    }
   ],
   "source": [
    "# insert_member() test\n",
    "insert_member()"
   ]
  },
  {
   "cell_type": "markdown",
   "id": "980ce3f9",
   "metadata": {},
   "source": [
    "## 2. 전체 출력\n"
   ]
  },
  {
   "cell_type": "code",
   "execution_count": 91,
   "id": "da81a44f",
   "metadata": {
    "ExecuteTime": {
     "end_time": "2024-11-20T08:59:09.488529Z",
     "start_time": "2024-11-20T08:59:09.482531Z"
    }
   },
   "outputs": [],
   "source": [
    "def select_all():\n",
    "    cursor = conn.cursor()\n",
    "    sql = 'SELECT * FROM MEMBER'\n",
    "    cursor.execute(sql)\n",
    "    member = cursor.fetchall()\n",
    "    for m in member:\n",
    "        print(m)\n",
    "    conn.commit()\n",
    "    cursor.close()"
   ]
  },
  {
   "cell_type": "code",
   "execution_count": 92,
   "id": "766ab0aa",
   "metadata": {
    "ExecuteTime": {
     "end_time": "2024-11-20T08:59:10.166810Z",
     "start_time": "2024-11-20T08:59:10.161486Z"
    }
   },
   "outputs": [
    {
     "name": "stdout",
     "output_type": "stream",
     "text": [
      "('김길동', '010-8888-8888', 'k@k.com', 15, 2, '해당사항 없음')\n",
      "('신길동', '010-7777-7777', 's@s.com', 35, 3, '신림 거주')\n",
      "('이길동', '010-6666-6666', 'l@l.com', 30, 1, '없음')\n",
      "('홍길동', '010-9999-9999', 'h@h.com', 20, 5, '없음')\n"
     ]
    }
   ],
   "source": [
    "# select_all() test\n",
    "select_all()"
   ]
  },
  {
   "cell_type": "markdown",
   "id": "0a0b05de",
   "metadata": {},
   "source": [
    "## 3. 이름 검색\n"
   ]
  },
  {
   "cell_type": "code",
   "execution_count": 93,
   "id": "4456dd4d",
   "metadata": {
    "ExecuteTime": {
     "end_time": "2024-11-20T08:59:12.361525Z",
     "start_time": "2024-11-20T08:59:12.354528Z"
    }
   },
   "outputs": [],
   "source": [
    "def select_name():\n",
    "    cursor = conn.cursor()\n",
    "    name = input('검색할 이름을 입력하세요 : ')\n",
    "    cursor.execute('SELECT * FROM MEMBER WHERE NAME = :name', {'name' : name})\n",
    "    input_name = cursor.fetchall()\n",
    "    if len(input_name):\n",
    "        print(input_name)\n",
    "    else:\n",
    "        print('해당 이름의 데이터가 없습니다.', input_name)\n",
    "    conn.commit()\n",
    "    cursor.close()"
   ]
  },
  {
   "cell_type": "code",
   "execution_count": 94,
   "id": "d1b292b8",
   "metadata": {
    "ExecuteTime": {
     "end_time": "2024-11-20T08:59:14.178884Z",
     "start_time": "2024-11-20T08:59:13.113358Z"
    }
   },
   "outputs": [
    {
     "name": "stdout",
     "output_type": "stream",
     "text": [
      "검색할 이름을 입력하세요 : 홍길동\n",
      "[('홍길동', '010-9999-9999', 'h@h.com', 20, 5, '없음')]\n"
     ]
    }
   ],
   "source": [
    "# select_name() test\n",
    "select_name()"
   ]
  },
  {
   "cell_type": "markdown",
   "id": "62b34fe7",
   "metadata": {},
   "source": [
    "## 4. 메일 삭제\n"
   ]
  },
  {
   "cell_type": "code",
   "execution_count": 95,
   "id": "1499de1e",
   "metadata": {
    "ExecuteTime": {
     "end_time": "2024-11-20T08:59:15.938542Z",
     "start_time": "2024-11-20T08:59:15.930330Z"
    }
   },
   "outputs": [],
   "source": [
    "def delete_email():\n",
    "    cursor = conn.cursor()\n",
    "    email = input('삭제할 메일을 입력하세요 : ')\n",
    "    deleted_flag = False\n",
    "    cursor.execute('DELETE FROM MEMBER WHERE EMAIL = :email', {'email' : email})\n",
    "    input_email = cursor.fetchall()\n",
    "    for idx, member in enumerate(input_email):\n",
    "        if member.email == email:\n",
    "            input_email.remove(member)\n",
    "            break\n",
    "    if cursor.rowcount == 1:\n",
    "        print('{} 메일을 삭제하였습니다.'.format(input_email))\n",
    "    else:\n",
    "        print('{} 해당 메일의 데이터가 없습니다.'.format(input_email))\n",
    "    conn.commit()\n",
    "    cursor.close()"
   ]
  },
  {
   "cell_type": "code",
   "execution_count": 96,
   "id": "42f826cc",
   "metadata": {
    "ExecuteTime": {
     "end_time": "2024-11-20T08:59:21.045292Z",
     "start_time": "2024-11-20T08:59:16.977451Z"
    }
   },
   "outputs": [
    {
     "name": "stdout",
     "output_type": "stream",
     "text": [
      "삭제할 메일을 입력하세요 : h@h.com\n",
      "[] 메일을 삭제하였습니다.\n"
     ]
    }
   ],
   "source": [
    "# delete_email() test\n",
    "delete_email()"
   ]
  },
  {
   "cell_type": "markdown",
   "id": "fce9aace",
   "metadata": {},
   "source": [
    "## 5. CSV 내보내기\n"
   ]
  },
  {
   "cell_type": "code",
   "execution_count": 28,
   "id": "55c79982",
   "metadata": {
    "ExecuteTime": {
     "end_time": "2024-11-20T08:46:40.969351Z",
     "start_time": "2024-11-20T08:46:40.961356Z"
    }
   },
   "outputs": [],
   "source": [
    "def save_csv():\n",
    "    import csv\n",
    "    member_dict_list = []\n",
    "    for member in member_dict_list:\n",
    "        member_dict_list.append(member.as_dict())\n",
    "    fieldname = list(member_dict_list[0].__dict__.keys())\n",
    "    filename = input('저장할 CSV 파일 이름을 입력하세요 : ')\n",
    "    try:\n",
    "        with open('data/'+filename, 'w', newline='', encoding='utf-8') as f:\n",
    "            dict_writer = csv.DictWriter(f, fieldnames=fieldnames)\n",
    "            dict_writer.writeheader()\n",
    "            dict_writer.writerows(customer_dict_list)\n",
    "    except Exception as e:\n",
    "        print('데이터 내보내기 예외 :', e)"
   ]
  },
  {
   "cell_type": "code",
   "execution_count": 29,
   "id": "83702b02",
   "metadata": {
    "ExecuteTime": {
     "end_time": "2024-11-20T08:46:42.092917Z",
     "start_time": "2024-11-20T08:46:42.040068Z"
    }
   },
   "outputs": [
    {
     "ename": "IndexError",
     "evalue": "list index out of range",
     "output_type": "error",
     "traceback": [
      "\u001b[1;31m---------------------------------------------------------------------------\u001b[0m",
      "\u001b[1;31mIndexError\u001b[0m                                Traceback (most recent call last)",
      "Cell \u001b[1;32mIn[29], line 2\u001b[0m\n\u001b[0;32m      1\u001b[0m \u001b[38;5;66;03m# save_csv() test\u001b[39;00m\n\u001b[1;32m----> 2\u001b[0m \u001b[43msave_csv\u001b[49m\u001b[43m(\u001b[49m\u001b[43m)\u001b[49m\n",
      "Cell \u001b[1;32mIn[28], line 6\u001b[0m, in \u001b[0;36msave_csv\u001b[1;34m()\u001b[0m\n\u001b[0;32m      4\u001b[0m \u001b[38;5;28;01mfor\u001b[39;00m member \u001b[38;5;129;01min\u001b[39;00m member_dict_list:\n\u001b[0;32m      5\u001b[0m     member_dict_list\u001b[38;5;241m.\u001b[39mappend(member\u001b[38;5;241m.\u001b[39mas_dict())\n\u001b[1;32m----> 6\u001b[0m fieldname \u001b[38;5;241m=\u001b[39m \u001b[38;5;28mlist\u001b[39m(\u001b[43mmember_dict_list\u001b[49m\u001b[43m[\u001b[49m\u001b[38;5;241;43m0\u001b[39;49m\u001b[43m]\u001b[49m\u001b[38;5;241m.\u001b[39m\u001b[38;5;18m__dict__\u001b[39m\u001b[38;5;241m.\u001b[39mkeys())\n\u001b[0;32m      7\u001b[0m filename \u001b[38;5;241m=\u001b[39m \u001b[38;5;28minput\u001b[39m(\u001b[38;5;124m'\u001b[39m\u001b[38;5;124m저장할 CSV 파일 이름을 입력하세요 : \u001b[39m\u001b[38;5;124m'\u001b[39m)\n\u001b[0;32m      8\u001b[0m \u001b[38;5;28;01mtry\u001b[39;00m:\n",
      "\u001b[1;31mIndexError\u001b[0m: list index out of range"
     ]
    }
   ],
   "source": [
    "# save_csv() test\n",
    "save_csv()"
   ]
  },
  {
   "cell_type": "code",
   "execution_count": null,
   "id": "0710a6d7",
   "metadata": {},
   "outputs": [],
   "source": []
  },
  {
   "cell_type": "markdown",
   "id": "83540c7a",
   "metadata": {},
   "source": [
    "## 0. 종료\n"
   ]
  },
  {
   "cell_type": "code",
   "execution_count": null,
   "id": "8f683b37",
   "metadata": {},
   "outputs": [],
   "source": [
    "def close_sql():\n",
    "    pass"
   ]
  },
  {
   "cell_type": "code",
   "execution_count": null,
   "id": "fc540e25",
   "metadata": {},
   "outputs": [],
   "source": []
  },
  {
   "cell_type": "code",
   "execution_count": null,
   "id": "9f5849fe",
   "metadata": {},
   "outputs": [],
   "source": []
  },
  {
   "cell_type": "code",
   "execution_count": null,
   "id": "0189e179",
   "metadata": {},
   "outputs": [],
   "source": []
  },
  {
   "cell_type": "markdown",
   "id": "5f82fc67",
   "metadata": {},
   "source": [
    "## main()"
   ]
  },
  {
   "cell_type": "code",
   "execution_count": 82,
   "id": "aaf99b68",
   "metadata": {
    "ExecuteTime": {
     "end_time": "2024-11-20T08:58:21.161815Z",
     "start_time": "2024-11-20T08:58:21.155815Z"
    }
   },
   "outputs": [],
   "source": [
    "def main():\n",
    "    while True:\n",
    "        print(\"1.입력\", \"2.전체 조회\", \"3.이름 찾기\", \"4.메일 삭제\", \"5.CSV 내보내기\", \"0.종료\", sep=\" | \")\n",
    "        try:\n",
    "            menu = int(input(\"메뉴 선택: \"))\n",
    "        except:\n",
    "            print(\"유효하지 않은 값을 입력하였습니다. 다시 선택해주세요.\")\n",
    "        if menu == 1:\n",
    "            insert_member()\n",
    "        elif menu == 2:\n",
    "            select_all()\n",
    "        elif menu == 3:\n",
    "            select_name()\n",
    "        elif menu == 4:\n",
    "            delete_email()\n",
    "        elif menu == 5:\n",
    "            save_csv()\n",
    "        elif menu == 0:\n",
    "            close_sql()\n",
    "            break"
   ]
  },
  {
   "cell_type": "code",
   "execution_count": 97,
   "id": "c97e62ad",
   "metadata": {
    "ExecuteTime": {
     "end_time": "2024-11-20T09:00:58.313766Z",
     "start_time": "2024-11-20T09:00:39.410379Z"
    }
   },
   "outputs": [
    {
     "name": "stdout",
     "output_type": "stream",
     "text": [
      "1.입력 | 2.전체 조회 | 3.이름 찾기 | 4.메일 삭제 | 5.CSV 내보내기 | 0.종료\n",
      "메뉴 선택: 1\n",
      "이름을 입력하세요 : 홍길동\n",
      "번호를 입력하세요 : 010-9999-8888\n",
      "메일을 입력하세요 : h@hh.com\n",
      "나이를 입력하세요 : 22\n",
      "등급을 입력하세요(1~5) : 5\n",
      "기타사항을 입력하세요 : 없음\n",
      "홍길동님 입력 성공\n",
      "1.입력 | 2.전체 조회 | 3.이름 찾기 | 4.메일 삭제 | 5.CSV 내보내기 | 0.종료\n",
      "메뉴 선택: 0\n"
     ]
    },
    {
     "ename": "NameError",
     "evalue": "name 'close_sql' is not defined",
     "output_type": "error",
     "traceback": [
      "\u001b[1;31m---------------------------------------------------------------------------\u001b[0m",
      "\u001b[1;31mNameError\u001b[0m                                 Traceback (most recent call last)",
      "Cell \u001b[1;32mIn[97], line 5\u001b[0m\n\u001b[0;32m      3\u001b[0m \u001b[38;5;28;01mglobal\u001b[39;00m conn\n\u001b[0;32m      4\u001b[0m conn \u001b[38;5;241m=\u001b[39m sqlite3\u001b[38;5;241m.\u001b[39mconnect(\u001b[38;5;124m'\u001b[39m\u001b[38;5;124mdata/ch10_data.db\u001b[39m\u001b[38;5;124m'\u001b[39m)\n\u001b[1;32m----> 5\u001b[0m \u001b[43mmain\u001b[49m\u001b[43m(\u001b[49m\u001b[43m)\u001b[49m\n",
      "Cell \u001b[1;32mIn[82], line 19\u001b[0m, in \u001b[0;36mmain\u001b[1;34m()\u001b[0m\n\u001b[0;32m     17\u001b[0m     save_csv()\n\u001b[0;32m     18\u001b[0m \u001b[38;5;28;01melif\u001b[39;00m menu \u001b[38;5;241m==\u001b[39m \u001b[38;5;241m0\u001b[39m:\n\u001b[1;32m---> 19\u001b[0m     \u001b[43mclose_sql\u001b[49m()\n\u001b[0;32m     20\u001b[0m     \u001b[38;5;28;01mbreak\u001b[39;00m\n",
      "\u001b[1;31mNameError\u001b[0m: name 'close_sql' is not defined"
     ]
    }
   ],
   "source": [
    "if __name__=='__main__':\n",
    "    import sqlite3\n",
    "    global conn\n",
    "    conn = sqlite3.connect('data/ch10_data.db')\n",
    "    main()"
   ]
  },
  {
   "cell_type": "code",
   "execution_count": 99,
   "id": "32c204db",
   "metadata": {
    "ExecuteTime": {
     "end_time": "2024-11-20T09:02:11.846068Z",
     "start_time": "2024-11-20T09:02:11.842070Z"
    }
   },
   "outputs": [],
   "source": [
    "conn.close()"
   ]
  }
 ],
 "metadata": {
  "kernelspec": {
   "display_name": "Python 3 (ipykernel)",
   "language": "python",
   "name": "python3"
  },
  "language_info": {
   "codemirror_mode": {
    "name": "ipython",
    "version": 3
   },
   "file_extension": ".py",
   "mimetype": "text/x-python",
   "name": "python",
   "nbconvert_exporter": "python",
   "pygments_lexer": "ipython3",
   "version": "3.10.9"
  },
  "toc": {
   "base_numbering": 1,
   "nav_menu": {},
   "number_sections": true,
   "sideBar": true,
   "skip_h1_title": false,
   "title_cell": "Table of Contents",
   "title_sidebar": "Contents",
   "toc_cell": false,
   "toc_position": {
    "height": "calc(100% - 180px)",
    "left": "10px",
    "top": "150px",
    "width": "165px"
   },
   "toc_section_display": true,
   "toc_window_display": true
  }
 },
 "nbformat": 4,
 "nbformat_minor": 5
}
