{
 "cells": [
  {
   "cell_type": "code",
   "execution_count": 1,
   "id": "743d99a2",
   "metadata": {
    "ExecuteTime": {
     "end_time": "2024-12-10T00:27:28.960392Z",
     "start_time": "2024-12-10T00:27:28.938745Z"
    }
   },
   "outputs": [
    {
     "data": {
      "text/html": [
       "\n",
       "<style>\n",
       "div.container{width:80% !important;}\n",
       "div.prompt {min-width:70px;}\n",
       "div#toc-header{margin-top:150px;}\n",
       "span.toc-item-num{display:none;}\n",
       "div.CodeMirror {font-family:Consolas}\n",
       "div.input {font-family:Consolas}\n",
       "</style>\n"
      ],
      "text/plain": [
       "<IPython.core.display.HTML object>"
      ]
     },
     "metadata": {},
     "output_type": "display_data"
    }
   ],
   "source": [
    "from IPython.display import display, HTML\n",
    "\n",
    "display(\n",
    "    HTML(\"\"\"\n",
    "<style>\n",
    "div.container{width:80% !important;}\n",
    "div.prompt {min-width:70px;}\n",
    "div#toc-header{margin-top:150px;}\n",
    "span.toc-item-num{display:none;}\n",
    "div.CodeMirror {font-family:Consolas}\n",
    "div.input {font-family:Consolas}\n",
    "</style>\n",
    "\"\"\"))"
   ]
  },
  {
   "cell_type": "markdown",
   "id": "cb2d6620",
   "metadata": {},
   "source": [
    "<b><font color=\"red\" size=\"6\">ch14. 웹데이터 수집</font></b>"
   ]
  },
  {
   "cell_type": "markdown",
   "id": "67f2f587",
   "metadata": {},
   "source": [
    "# 1절. BeautifulSoup과 parser\n",
    "\n",
    "`pip install bs4` 아나콘다를 설치하면 자동 설치되는 패키지 7500개에 포함됨\n",
    "\n",
    " - 공식 사이트 ▪ https://www.crummy.com/software/BeautifulSoup/ <br>\n",
    " - Documentation ▪ https://www.crummy.com/software/BeautifulSoup/bs4/doc/"
   ]
  },
  {
   "cell_type": "code",
   "execution_count": 2,
   "id": "a1fbaceb",
   "metadata": {
    "ExecuteTime": {
     "end_time": "2024-12-10T00:34:51.627262Z",
     "start_time": "2024-12-10T00:34:51.439206Z"
    }
   },
   "outputs": [],
   "source": [
    "import requests\n",
    "from requests_file import FileAdapter"
   ]
  },
  {
   "cell_type": "code",
   "execution_count": 3,
   "id": "54d5c490",
   "metadata": {
    "ExecuteTime": {
     "end_time": "2024-12-10T00:34:54.870080Z",
     "start_time": "2024-12-10T00:34:54.853958Z"
    }
   },
   "outputs": [
    {
     "data": {
      "text/plain": [
       "<Response [200]>"
      ]
     },
     "execution_count": 3,
     "metadata": {},
     "output_type": "execute_result"
    }
   ],
   "source": [
    "s = requests.Session()  # HTTP 요청관리를 위한 세션 객체 생성\n",
    "s.mount('file://', FileAdapter())\n",
    "response = s.get('file:///imsehyeon/source/07_python/ch14_sample.html')\n",
    "response"
   ]
  },
  {
   "cell_type": "code",
   "execution_count": 4,
   "id": "477911c1",
   "metadata": {
    "ExecuteTime": {
     "end_time": "2024-12-10T00:34:55.501513Z",
     "start_time": "2024-12-10T00:34:55.494924Z"
    }
   },
   "outputs": [
    {
     "data": {
      "text/plain": [
       "b'<!DOCTYPE html>\\r\\n<html lang=\"ko\" xmlns=\"http://www.w3.org/1999/xhtml\">\\r\\n<head>\\r\\n    <meta charset=\"UTF-8\" />\\r\\n</head>\\r\\n<body>\\r\\n    <h1 class=\"greeting css\" id=\"text\">Hello, CSS</h1>\\r\\n    <h1 class=\"css\">Hi, CSS</h1>\\r\\n    <div id=\"subject\">subject \\xec\\x84\\xa0\\xed\\x83\\x9d\\xec\\x9e\\x90 \\xec\\x95\\x88\\xec\\x9d\\x98 \\xeb\\x82\\xb4\\xec\\x9a\\xa9</div>\\r\\n    <p>CSS \\xec\\x84\\xa0\\xed\\x83\\x9d\\xec\\x9e\\x90\\xeb\\x8a\\x94 \\xeb\\x8b\\xa4\\xec\\x96\\x91\\xed\\x95\\x9c \\xea\\xb3\\xb3\\xec\\x97\\x90\\xec\\x84\\x9c \\xed\\x99\\x9c\\xec\\x9a\\xa9\\xeb\\x90\\xa9\\xeb\\x8b\\x88\\xeb\\x8b\\xa4</p>\\r\\n    <div class=\"contents\">\\r\\n        \\xec\\x84\\xa0\\xed\\x83\\x9d\\xec\\x9e\\x90\\xeb\\xa5\\xbc \\xec\\x96\\xb4\\xeb\\x96\\xbb\\xea\\xb2\\x8c \\xec\\x9e\\x91\\xec\\x84\\xb1\\xed\\x95\\x98\\xeb\\x8a\\x90\\xeb\\x83\\x90\\xec\\x97\\x90 \\xeb\\x94\\xb0\\xeb\\x9d\\xbc\\r\\n        <span>\\xeb\\x8b\\xa4\\xeb\\xa5\\xb8<b>\\xec\\x9a\\x94\\xec\\x86\\x8c\\xea\\xb0\\x80 \\xeb\\xb0\\x98\\xed\\x99\\x98</b></span>\\xeb\\x90\\xa9\\xeb\\x8b\\x88\\xeb\\x8b\\xa4\\r\\n    </div>\\r\\n    <div>CSS \\xec\\x84\\xa0\\xed\\x83\\x9d\\xec\\x9e\\x90\\xeb\\x8a\\x94 \\xeb\\x8b\\xa4\\xec\\x96\\x91\\xed\\x95\\x9c \\xea\\xb3\\xb3\\xec\\x97\\x90 <b>\\xed\\x99\\x9c\\xec\\x9a\\xa9</b>\\xeb\\x90\\xa9\\xeb\\x8b\\x88\\xeb\\x8b\\xa4</div>\\r\\n</body>\\r\\n</html>'"
      ]
     },
     "execution_count": 4,
     "metadata": {},
     "output_type": "execute_result"
    }
   ],
   "source": [
    "ex = response.content\n",
    "ex"
   ]
  },
  {
   "cell_type": "code",
   "execution_count": 5,
   "id": "b9cf06ca",
   "metadata": {
    "ExecuteTime": {
     "end_time": "2024-12-10T00:34:56.052407Z",
     "start_time": "2024-12-10T00:34:56.046231Z"
    }
   },
   "outputs": [
    {
     "data": {
      "text/plain": [
       "'<!DOCTYPE html>\\r\\n<html lang=\"ko\" xmlns=\"http://www.w3.org/1999/xhtml\">\\r\\n<head>\\r\\n    <meta charset=\"UTF-8\" />\\r\\n</head>\\r\\n<body>\\r\\n    <h1 class=\"greeting css\" id=\"text\">Hello, CSS</h1>\\r\\n    <h1 class=\"css\">Hi, CSS</h1>\\r\\n    <div id=\"subject\">subject 선택자 안의 내용</div>\\r\\n    <p>CSS 선택자는 다양한 곳에서 활용됩니다</p>\\r\\n    <div class=\"contents\">\\r\\n        선택자를 어떻게 작성하느냐에 따라\\r\\n        <span>다른<b>요소가 반환</b></span>됩니다\\r\\n    </div>\\r\\n    <div>CSS 선택자는 다양한 곳에 <b>활용</b>됩니다</div>\\r\\n</body>\\r\\n</html>'"
      ]
     },
     "execution_count": 5,
     "metadata": {},
     "output_type": "execute_result"
    }
   ],
   "source": [
    "response.content.decode('utf-8')"
   ]
  },
  {
   "cell_type": "code",
   "execution_count": 6,
   "id": "b4ca1989",
   "metadata": {
    "ExecuteTime": {
     "end_time": "2024-12-10T00:34:56.380307Z",
     "start_time": "2024-12-10T00:34:56.364682Z"
    }
   },
   "outputs": [
    {
     "data": {
      "text/plain": [
       "'<!DOCTYPE html>\\r\\n<html lang=\"ko\" xmlns=\"http://www.w3.org/1999/xhtml\">\\r\\n<head>\\r\\n    <meta charset=\"UTF-8\" />\\r\\n</head>\\r\\n<body>\\r\\n    <h1 class=\"greeting css\" id=\"text\">Hello, CSS</h1>\\r\\n    <h1 class=\"css\">Hi, CSS</h1>\\r\\n    <div id=\"subject\">subject 선택자 안의 내용</div>\\r\\n    <p>CSS 선택자는 다양한 곳에서 활용됩니다</p>\\r\\n    <div class=\"contents\">\\r\\n        선택자를 어떻게 작성하느냐에 따라\\r\\n        <span>다른<b>요소가 반환</b></span>됩니다\\r\\n    </div>\\r\\n    <div>CSS 선택자는 다양한 곳에 <b>활용</b>됩니다</div>\\r\\n</body>\\r\\n</html>'"
      ]
     },
     "execution_count": 6,
     "metadata": {},
     "output_type": "execute_result"
    }
   ],
   "source": [
    "response.text"
   ]
  },
  {
   "cell_type": "code",
   "execution_count": 7,
   "id": "f7ba7369",
   "metadata": {
    "ExecuteTime": {
     "end_time": "2024-12-10T00:34:56.797916Z",
     "start_time": "2024-12-10T00:34:56.597656Z"
    }
   },
   "outputs": [],
   "source": [
    "# html 파싱\n",
    "from bs4 import BeautifulSoup\n",
    "soup = BeautifulSoup(response.content,  # response.text\n",
    "                     'html.parser')\n",
    "# soup"
   ]
  },
  {
   "cell_type": "code",
   "execution_count": 8,
   "id": "8fc5206f",
   "metadata": {
    "ExecuteTime": {
     "end_time": "2024-12-10T00:34:56.863310Z",
     "start_time": "2024-12-10T00:34:56.831071Z"
    }
   },
   "outputs": [
    {
     "name": "stdout",
     "output_type": "stream",
     "text": [
      "el :  <h1 class=\"greeting css\" id=\"text\">Hello, CSS</h1>\n",
      "el.text :  Hello, CSS\n",
      "el.string :  Hello, CSS\n",
      "el의 속성들 :  {'class': ['greeting', 'css'], 'id': 'text'}\n",
      "el의 class 속성 :  ['greeting', 'css']\n",
      "el의 name :  h1\n"
     ]
    }
   ],
   "source": [
    "# soup.select_one('선택자') : 해당 선택자 처음 하나만 \n",
    "el = soup.select_one('h1')  # 처음 나오는 h1태그 하나만\n",
    "print('el : ', el)\n",
    "print('el.text : ', el.text)\n",
    "print('el.string : ', el.string)\n",
    "print('el의 속성들 : ', el.attrs)\n",
    "print('el의 class 속성 : ', el.attrs['class'])  # class속성은 하나라도 list로 생성\n",
    "print('el의 name : ' , el.name)"
   ]
  },
  {
   "cell_type": "code",
   "execution_count": 9,
   "id": "36e72c90",
   "metadata": {
    "ExecuteTime": {
     "end_time": "2024-12-10T00:34:57.263750Z",
     "start_time": "2024-12-10T00:34:57.231178Z"
    }
   },
   "outputs": [
    {
     "name": "stdout",
     "output_type": "stream",
     "text": [
      "el :  [<h1 class=\"greeting css\" id=\"text\">Hello, CSS</h1>, <h1 class=\"css\">Hi, CSS</h1>]\n",
      "el들의 text :  ['Hello, CSS', 'Hi, CSS']\n",
      "el들의 string :  ['Hello, CSS', 'Hi, CSS']\n",
      "el들의 속성들 :  [{'class': ['greeting', 'css'], 'id': 'text'}, {'class': ['css']}]\n",
      "el들의 class속성들 :  [['greeting', 'css'], ['css']]\n"
     ]
    }
   ],
   "source": [
    "# soup.select('선택자') : 해당 선택자 모든 엘리먼트를 리스트로\n",
    "el = soup.select('h1')\n",
    "print('el : ', el)\n",
    "print('el들의 text : ', [e.text for e in el])\n",
    "print('el들의 string : ', [e.string for e in el])\n",
    "print('el들의 속성들 : ', [e.attrs for e in el])\n",
    "print('el들의 class속성들 : ', [e.attrs['class'] for e in el])"
   ]
  },
  {
   "cell_type": "code",
   "execution_count": 10,
   "id": "b0225f69",
   "metadata": {
    "ExecuteTime": {
     "end_time": "2024-12-10T00:34:57.564077Z",
     "start_time": "2024-12-10T00:34:57.543170Z"
    }
   },
   "outputs": [
    {
     "name": "stdout",
     "output_type": "stream",
     "text": [
      "모든 h1, span 태그(select) : \n",
      "[<h1 class=\"greeting css\" id=\"text\">Hello, CSS</h1>, <h1 class=\"css\">Hi, CSS</h1>, <span>다른<b>요소가 반환</b></span>]\n",
      "모든 h1, span 태그(find_all) : \n",
      "[<h1 class=\"greeting css\" id=\"text\">Hello, CSS</h1>, <h1 class=\"css\">Hi, CSS</h1>]\n",
      "select_one : \n",
      "<h1 class=\"greeting css\" id=\"text\">Hello, CSS</h1>\n",
      "find : \n",
      "<h1 class=\"greeting css\" id=\"text\">Hello, CSS</h1>\n",
      "find : \n",
      "[]\n",
      "find : \n",
      "None\n"
     ]
    }
   ],
   "source": [
    "# select(선택자)와 find_all(태그)\n",
    "print('모든 h1, span 태그(select) : ', soup.select('h1.css, span'), sep='\\n')\n",
    "print('모든 h1, span 태그(find_all) : ', soup.find_all(['h1', 'span'],\n",
    "                                                  class_ = ['css']), sep='\\n')\n",
    "\n",
    "# select_one(선택자)와 find(태그, 속성)\n",
    "print('select_one : ', soup.select_one('h1.css'), sep='\\n')  # h1.css, span 선택중 먼저 위에있는걸 가져옴\n",
    "print('find : ', soup.find('h1', class_='css'), sep='\\n')\n",
    "\n",
    "print('find : ', soup.find_all('a', class_='css'), sep='\\n')  # 반환을 빈리스트로 \n",
    "print('find : ', soup.find('a', class_='css'), sep='\\n')  # 없는거 대신 None"
   ]
  },
  {
   "cell_type": "markdown",
   "id": "189c87f4",
   "metadata": {},
   "source": [
    "# 2절. 정적 웹 데이터 수집(정적 웹크롤링)"
   ]
  },
  {
   "cell_type": "markdown",
   "id": "b55422c4",
   "metadata": {},
   "source": [
    "## 2.1 request모듈(get) / urllib.request 모듈(urlopen)"
   ]
  },
  {
   "cell_type": "code",
   "execution_count": 11,
   "id": "ac0590d4",
   "metadata": {
    "ExecuteTime": {
     "end_time": "2024-12-10T00:34:58.552645Z",
     "start_time": "2024-12-10T00:34:58.548650Z"
    }
   },
   "outputs": [],
   "source": [
    "# 크롤링 허용 범위는 사이트마다 ~/robots.txt에서 확인 가능\n",
    "#     User-agent: 모든 크롤링을 허용(*), 지침을 적용할 크롤러를 지정\n",
    "#     Allow, Disallow: 크롤링을 제한할 경로"
   ]
  },
  {
   "cell_type": "code",
   "execution_count": 12,
   "id": "59965c6a",
   "metadata": {
    "ExecuteTime": {
     "end_time": "2024-12-10T00:34:58.830225Z",
     "start_time": "2024-12-10T00:34:58.734773Z"
    }
   },
   "outputs": [
    {
     "data": {
      "text/plain": [
       "(<Response [200]>, 200)"
      ]
     },
     "execution_count": 12,
     "metadata": {},
     "output_type": "execute_result"
    }
   ],
   "source": [
    "# 방법1\n",
    "import requests\n",
    "response = requests.get('http://api.github.com')\n",
    "response, response.status_code"
   ]
  },
  {
   "cell_type": "code",
   "execution_count": 13,
   "id": "aa00405f",
   "metadata": {
    "ExecuteTime": {
     "end_time": "2024-12-10T00:34:58.930724Z",
     "start_time": "2024-12-10T00:34:58.897859Z"
    }
   },
   "outputs": [
    {
     "data": {
      "text/plain": [
       "b'{\\n  \"current_user_url\": \"https://api.github.com/user\",\\n  \"current_user_authorizations_html_url\": \"https://github.com/settings/connections/applications{/client_id}\",\\n  \"authorizations_url\": \"https://api.github.com/authorizations\",\\n  \"code_search_url\": \"https://api.github.com/search/code?q={query}{&page,per_page,sort,order}\",\\n  \"commit_search_url\": \"https://api.github.com/search/commits?q={query}{&page,per_page,sort,order}\",\\n  \"emails_url\": \"https://api.github.com/user/emails\",\\n  \"emojis_url\": \"https://api.github.com/emojis\",\\n  \"events_url\": \"https://api.github.com/events\",\\n  \"feeds_url\": \"https://api.github.com/feeds\",\\n  \"followers_url\": \"https://api.github.com/user/followers\",\\n  \"following_url\": \"https://api.github.com/user/following{/target}\",\\n  \"gists_url\": \"https://api.github.com/gists{/gist_id}\",\\n  \"hub_url\": \"https://api.github.com/hub\",\\n  \"issue_search_url\": \"https://api.github.com/search/issues?q={query}{&page,per_page,sort,order}\",\\n  \"issues_url\": \"https://api.github.com/issues\",\\n  \"keys_url\": \"https://api.github.com/user/keys\",\\n  \"label_search_url\": \"https://api.github.com/search/labels?q={query}&repository_id={repository_id}{&page,per_page}\",\\n  \"notifications_url\": \"https://api.github.com/notifications\",\\n  \"organization_url\": \"https://api.github.com/orgs/{org}\",\\n  \"organization_repositories_url\": \"https://api.github.com/orgs/{org}/repos{?type,page,per_page,sort}\",\\n  \"organization_teams_url\": \"https://api.github.com/orgs/{org}/teams\",\\n  \"public_gists_url\": \"https://api.github.com/gists/public\",\\n  \"rate_limit_url\": \"https://api.github.com/rate_limit\",\\n  \"repository_url\": \"https://api.github.com/repos/{owner}/{repo}\",\\n  \"repository_search_url\": \"https://api.github.com/search/repositories?q={query}{&page,per_page,sort,order}\",\\n  \"current_user_repositories_url\": \"https://api.github.com/user/repos{?type,page,per_page,sort}\",\\n  \"starred_url\": \"https://api.github.com/user/starred{/owner}{/repo}\",\\n  \"starred_gists_url\": \"https://api.github.com/gists/starred\",\\n  \"topic_search_url\": \"https://api.github.com/search/topics?q={query}{&page,per_page}\",\\n  \"user_url\": \"https://api.github.com/users/{user}\",\\n  \"user_organizations_url\": \"https://api.github.com/user/orgs\",\\n  \"user_repositories_url\": \"https://api.github.com/users/{user}/repos{?type,page,per_page,sort}\",\\n  \"user_search_url\": \"https://api.github.com/search/users?q={query}{&page,per_page,sort,order}\"\\n}\\n'"
      ]
     },
     "execution_count": 13,
     "metadata": {},
     "output_type": "execute_result"
    }
   ],
   "source": [
    "response.content  # response.text"
   ]
  },
  {
   "cell_type": "code",
   "execution_count": 14,
   "id": "fce24616",
   "metadata": {
    "ExecuteTime": {
     "end_time": "2024-12-10T00:34:59.147908Z",
     "start_time": "2024-12-10T00:34:59.131190Z"
    }
   },
   "outputs": [
    {
     "data": {
      "text/plain": [
       "dict"
      ]
     },
     "execution_count": 14,
     "metadata": {},
     "output_type": "execute_result"
    }
   ],
   "source": [
    "jsondata = response.json()\n",
    "type(jsondata)  # 딕셔너리"
   ]
  },
  {
   "cell_type": "code",
   "execution_count": 15,
   "id": "d09b296e",
   "metadata": {
    "ExecuteTime": {
     "end_time": "2024-12-10T00:34:59.580081Z",
     "start_time": "2024-12-10T00:34:59.297821Z"
    }
   },
   "outputs": [
    {
     "data": {
      "text/plain": [
       "200"
      ]
     },
     "execution_count": 15,
     "metadata": {},
     "output_type": "execute_result"
    }
   ],
   "source": [
    "# 방법2\n",
    "from urllib.request import urlopen\n",
    "response = urlopen('http://api.github.com')\n",
    "response.status"
   ]
  },
  {
   "cell_type": "markdown",
   "id": "d4576633",
   "metadata": {
    "ExecuteTime": {
     "end_time": "2024-12-06T05:30:44.591742Z",
     "start_time": "2024-12-06T05:30:44.558608Z"
    }
   },
   "source": [
    "## 2.2 BeautifulSoup 모듈을 활용 html 웹 데이터 수집\n",
    "### 1) 환율정보 가져오기 (네이버증권 > 시장지표)\n",
    " - https://finance.naver.com/marketindex/"
   ]
  },
  {
   "cell_type": "code",
   "execution_count": 16,
   "id": "b74a939f",
   "metadata": {
    "ExecuteTime": {
     "end_time": "2024-12-10T00:35:00.130223Z",
     "start_time": "2024-12-10T00:34:59.966090Z"
    }
   },
   "outputs": [],
   "source": [
    "# 방법1\n",
    "import requests\n",
    "from bs4 import BeautifulSoup\n",
    "url = 'https://finance.naver.com/marketindex/'\n",
    "response = requests.get(url)\n",
    "soup = BeautifulSoup(response.text, 'html.parser')"
   ]
  },
  {
   "cell_type": "code",
   "execution_count": 17,
   "id": "21647e71",
   "metadata": {
    "ExecuteTime": {
     "end_time": "2024-12-10T00:35:00.721293Z",
     "start_time": "2024-12-10T00:35:00.145547Z"
    }
   },
   "outputs": [],
   "source": [
    "# 방법2\n",
    "from urllib.request import urlopen\n",
    "url = 'https://finance.naver.com/marketindex/'\n",
    "response = urlopen(url)\n",
    "soup = BeautifulSoup(response, 'html.parser')"
   ]
  },
  {
   "cell_type": "code",
   "execution_count": 18,
   "id": "c55de88b",
   "metadata": {
    "ExecuteTime": {
     "end_time": "2024-12-10T00:35:00.736673Z",
     "start_time": "2024-12-10T00:35:00.724606Z"
    }
   },
   "outputs": [],
   "source": [
    "price = soup.select('div.head_info > span.value')\n",
    "# [round(float(''.join(p.text.split(','))), 2) for p in price]\n",
    "# [round(float(p.text.replace(',','')), 2) for p in price]"
   ]
  },
  {
   "cell_type": "code",
   "execution_count": 19,
   "id": "a882bb5b",
   "metadata": {
    "ExecuteTime": {
     "end_time": "2024-12-10T00:35:00.753527Z",
     "start_time": "2024-12-10T00:35:00.739674Z"
    }
   },
   "outputs": [
    {
     "name": "stdout",
     "output_type": "stream",
     "text": [
      "미국 USD\t일본 JPY(100엔)\t유럽연합 EUR\t중국 CNY\t달러/일본 엔\t유로/달러\t영국 파운드/달러\t달러인덱스\tWTI\t휘발유\t국제 금\t국내 금\t"
     ]
    }
   ],
   "source": [
    "title = soup.select('h3.h_lst > span.blind')\n",
    "for t in title:\n",
    "    print(t.text, end='\\t')"
   ]
  },
  {
   "cell_type": "code",
   "execution_count": 20,
   "id": "10165044",
   "metadata": {
    "ExecuteTime": {
     "end_time": "2024-12-10T00:35:00.774029Z",
     "start_time": "2024-12-10T00:35:00.757118Z"
    }
   },
   "outputs": [
    {
     "data": {
      "text/plain": [
       "['원', '원', '원', '원', '엔', '달러', '달러', '', '달러', '원', '달러', '원']"
      ]
     },
     "execution_count": 20,
     "metadata": {},
     "output_type": "execute_result"
    }
   ],
   "source": [
    "unit = soup.select('div.head_info > span > span.blind')\n",
    "unit = [u.text for u in unit]\n",
    "unit.insert(7, '')\n",
    "unit"
   ]
  },
  {
   "cell_type": "code",
   "execution_count": 21,
   "id": "2ba7fddc",
   "metadata": {
    "ExecuteTime": {
     "end_time": "2024-12-10T00:35:00.880558Z",
     "start_time": "2024-12-10T00:35:00.847941Z"
    }
   },
   "outputs": [
    {
     "name": "stdout",
     "output_type": "stream",
     "text": [
      "하락\t하락\t하락\t하락\t상승\t상승\t상승\t상승\t상승\t상승\t상승\t하락\t"
     ]
    }
   ],
   "source": [
    "status = soup.select('div.head_info > span.blind')\n",
    "for idx in range(len(status)):\n",
    "    print(status[idx].text, end='\\t')"
   ]
  },
  {
   "cell_type": "code",
   "execution_count": 22,
   "id": "d5028b1e",
   "metadata": {
    "ExecuteTime": {
     "end_time": "2024-12-10T00:35:01.063832Z",
     "start_time": "2024-12-10T00:35:01.048206Z"
    }
   },
   "outputs": [
    {
     "data": {
      "text/plain": [
       "(12, 12, 12, 12)"
      ]
     },
     "execution_count": 22,
     "metadata": {},
     "output_type": "execute_result"
    }
   ],
   "source": [
    "len(title), len(price), len(unit), len(status)"
   ]
  },
  {
   "cell_type": "code",
   "execution_count": 23,
   "id": "c68b996d",
   "metadata": {
    "ExecuteTime": {
     "end_time": "2024-12-10T00:35:01.280141Z",
     "start_time": "2024-12-10T00:35:01.264516Z"
    }
   },
   "outputs": [
    {
     "name": "stdout",
     "output_type": "stream",
     "text": [
      "미국 USD : 1,428.60 원 - 하락\n",
      "일본 JPY(100엔) : 944.37 원 - 하락\n",
      "유럽연합 EUR : 1,507.67 원 - 하락\n",
      "중국 CNY : 196.64 원 - 하락\n",
      "달러/일본 엔 : 150.9200 엔 - 상승\n",
      "유로/달러 : 1.0580 달러 - 상승\n",
      "영국 파운드/달러 : 1.2779 달러 - 상승\n",
      "달러인덱스 : 106.1200  - 상승\n",
      "WTI : 68.37 달러 - 상승\n",
      "휘발유 : 1645.65 원 - 상승\n",
      "국제 금 : 2685.8 달러 - 상승\n",
      "국내 금 : 122369.52 원 - 하락\n"
     ]
    }
   ],
   "source": [
    "for idx in range(len(title)):\n",
    "    print(\"{} : {} {} - {}\".format(title[idx].text, \n",
    "                                   price[idx].text,\n",
    "                                   unit[idx],\n",
    "                                   status[idx].text))"
   ]
  },
  {
   "cell_type": "code",
   "execution_count": 24,
   "id": "ef80cc73",
   "metadata": {
    "ExecuteTime": {
     "end_time": "2024-12-10T00:35:01.463516Z",
     "start_time": "2024-12-10T00:35:01.447889Z"
    }
   },
   "outputs": [
    {
     "name": "stdout",
     "output_type": "stream",
     "text": [
      "미국 USD : 1,428.60원 - 하락\n",
      "일본 JPY(100엔) : 944.37원 - 하락\n",
      "유럽연합 EUR : 1,507.67원 - 하락\n",
      "중국 CNY : 196.64원 - 하락\n",
      "달러/일본 엔 : 150.9200엔 - 상승\n",
      "유로/달러 : 1.0580달러 - 상승\n",
      "영국 파운드/달러 : 1.2779달러 - 상승\n",
      "달러인덱스 : 106.1200 - 상승\n",
      "WTI : 68.37달러 - 상승\n",
      "휘발유 : 1645.65원 - 상승\n",
      "국제 금 : 2685.8달러 - 상승\n",
      "국내 금 : 122369.52원 - 하락\n"
     ]
    }
   ],
   "source": [
    "for t, p, u, s in zip(title, price, unit, status):\n",
    "    print(\"{} : {}{} - {}\".format(t.text, p.text, u, s.text))"
   ]
  },
  {
   "cell_type": "markdown",
   "id": "36ba4573",
   "metadata": {},
   "source": [
    "### 2) 이번주 로또 번호 출력\n",
    " - https://dhlottery.co.kr/gameResult.do?method=byWin\n",
    " \n",
    "    1148회 (2024년11월30일 추첨) <br>\n",
    "    당첨번호 : [3, 6, 13, 15, 16, 22] <br>\n",
    "    보너스번호 : 32"
   ]
  },
  {
   "cell_type": "code",
   "execution_count": 25,
   "id": "522ec24e",
   "metadata": {
    "ExecuteTime": {
     "end_time": "2024-12-10T00:35:03.211620Z",
     "start_time": "2024-12-10T00:35:01.831253Z"
    }
   },
   "outputs": [],
   "source": [
    "# 방법1\n",
    "import requests\n",
    "from bs4 import BeautifulSoup\n",
    "url = 'https://dhlottery.co.kr/gameResult.do?method=byWin'\n",
    "response = requests.get(url)\n",
    "soup = BeautifulSoup(response.text, 'html.parser')"
   ]
  },
  {
   "cell_type": "code",
   "execution_count": 26,
   "id": "e0f26363",
   "metadata": {
    "ExecuteTime": {
     "end_time": "2024-12-10T00:35:03.581498Z",
     "start_time": "2024-12-10T00:35:03.211620Z"
    }
   },
   "outputs": [],
   "source": [
    "# 방법2\n",
    "from urllib.request import urlopen\n",
    "url = 'https://dhlottery.co.kr/gameResult.do?method=byWin'\n",
    "response = urlopen(url)\n",
    "soup = BeautifulSoup(response, 'html.parser')"
   ]
  },
  {
   "cell_type": "code",
   "execution_count": 27,
   "id": "660fc13a",
   "metadata": {
    "ExecuteTime": {
     "end_time": "2024-12-10T00:35:03.648102Z",
     "start_time": "2024-12-10T00:35:03.584496Z"
    }
   },
   "outputs": [
    {
     "name": "stdout",
     "output_type": "stream",
     "text": [
      "1149회 (2024년 12월 07일 추첨)\n",
      "로또 번호 : [8, 15, 19, 21, 32, 36]\n",
      "보너스 번호 : 38\n"
     ]
    }
   ],
   "source": [
    "times = soup.select_one('div.win_result strong').text # '1148회'\n",
    "date  = soup.select_one('div.win_result p.desc').text # '(2024년 11월 30일 추첨)'\n",
    "print(times, date)\n",
    "\n",
    "lotto_numbers = soup.select('div.num.win p > span')\n",
    "print('로또 번호 :', [int(lotto.text) for lotto in lotto_numbers])\n",
    "\n",
    "bonus_number = soup.select_one('div.num.bonus p > span').text\n",
    "print('보너스 번호 :', bonus_number)"
   ]
  },
  {
   "cell_type": "code",
   "execution_count": 28,
   "id": "a5b857ff",
   "metadata": {
    "ExecuteTime": {
     "end_time": "2024-12-10T00:35:03.680745Z",
     "start_time": "2024-12-10T00:35:03.652099Z"
    }
   },
   "outputs": [
    {
     "name": "stdout",
     "output_type": "stream",
     "text": [
      "1149회 (2024년 12월 07일 추첨)\n",
      "로또 번호 : [8, 15, 19, 21]\n",
      "보너스 번호 : 38\n"
     ]
    }
   ],
   "source": [
    "win_result = soup.find('div', class_='win_result')\n",
    "times = win_result.find('strong').text # '1148회'\n",
    "date  = win_result.find('p', class_='desc').text # '(2024년 11월 30일 추첨)'\n",
    "print(times, date)\n",
    "\n",
    "numwin = soup.find('div', class_=['win'])\n",
    "lotto_numbers = numwin.find_all('span', class_=['ball1','ball2', 'ball3'])\n",
    "print('로또 번호 :', [int(lotto.text) for lotto in lotto_numbers])\n",
    "\n",
    "numbonus = soup.find('div', class_=['bonus'])\n",
    "bonus_number = numbonus.find('span', class_='ball4').text\n",
    "print('보너스 번호 :', bonus_number)"
   ]
  },
  {
   "cell_type": "code",
   "execution_count": 29,
   "id": "2ce9f216",
   "metadata": {
    "ExecuteTime": {
     "end_time": "2024-12-10T00:35:04.756651Z",
     "start_time": "2024-12-10T00:35:04.734242Z"
    }
   },
   "outputs": [
    {
     "name": "stdout",
     "output_type": "stream",
     "text": [
      "1149회 (2024년 12월 07일 추첨)\n",
      "로또 번호 : [8, 15, 19, 21, 32, 36]\n",
      "보너스 번호 : 38\n"
     ]
    }
   ],
   "source": [
    "# times = soup.select_one('div.win_result strong').text\n",
    "# date  = soup.select_one('div.win_result p.desc').text\n",
    "winresult = soup.find('div', class_='win_result')\n",
    "times     = winresult.find('strong').text\n",
    "date      = winresult.find('p', class_='desc').text\n",
    "print(times, date)\n",
    "# lotto_numbers = soup.select('div.num.win p > span')\n",
    "win = soup.find('div', class_=['win'])\n",
    "lotto_numbers = win.find_all('span')\n",
    "print('로또 번호 :', [int(lotto.text) for lotto in lotto_numbers])\n",
    "\n",
    "# bonus_number = soup.select_one('div.num.bonus p > span').text\n",
    "bonus = soup.find('div', class_='bonus')\n",
    "bonus_number = bonus.find('span').text\n",
    "print('보너스 번호 :', bonus_number)"
   ]
  },
  {
   "cell_type": "markdown",
   "id": "b21ea50b",
   "metadata": {},
   "source": [
    "### 3) 다음 검색 리스트 \n",
    "```\n",
    "no title                                                            href\n",
    "0 \"비트코인 8800만원에 주운 사람이 승자\"…한밤 불태운 코인 투자자들 https://v.daum.net~\n",
    "1 [속보] 비트코인 '쇼크'…30% 급락                                  https://v.daum.net~\n",
    "2 10만 달러 찍은 비트코인… 더 오를까, 내릴까                       https://v.daum.net~\n",
    "```"
   ]
  },
  {
   "cell_type": "code",
   "execution_count": 30,
   "id": "dde7ea13",
   "metadata": {
    "ExecuteTime": {
     "end_time": "2024-12-10T00:35:06.222989Z",
     "start_time": "2024-12-10T00:35:05.097807Z"
    }
   },
   "outputs": [
    {
     "data": {
      "text/html": [
       "<div>\n",
       "<style scoped>\n",
       "    .dataframe tbody tr th:only-of-type {\n",
       "        vertical-align: middle;\n",
       "    }\n",
       "\n",
       "    .dataframe tbody tr th {\n",
       "        vertical-align: top;\n",
       "    }\n",
       "\n",
       "    .dataframe thead th {\n",
       "        text-align: right;\n",
       "    }\n",
       "</style>\n",
       "<table border=\"1\" class=\"dataframe\">\n",
       "  <thead>\n",
       "    <tr style=\"text-align: right;\">\n",
       "      <th></th>\n",
       "      <th>no</th>\n",
       "      <th>title</th>\n",
       "      <th>link</th>\n",
       "    </tr>\n",
       "  </thead>\n",
       "  <tbody>\n",
       "    <tr>\n",
       "      <th>0</th>\n",
       "      <td>0</td>\n",
       "      <td>[글로벌 비즈 브리핑] '비트코인 빚투' 마이크로스트래티지, 또 샀다 外</td>\n",
       "      <td>http://v.daum.net/v/20241210044809410</td>\n",
       "    </tr>\n",
       "    <tr>\n",
       "      <th>1</th>\n",
       "      <td>1</td>\n",
       "      <td>비트코인, 트럼프 재집권에 '디지털 금' 된다</td>\n",
       "      <td>http://v.daum.net/v/20241210060003998</td>\n",
       "    </tr>\n",
       "    <tr>\n",
       "      <th>2</th>\n",
       "      <td>2</td>\n",
       "      <td>러시아·중국, 비트코인 전략자산 비축 나서나</td>\n",
       "      <td>http://v.daum.net/v/20241210085304785</td>\n",
       "    </tr>\n",
       "    <tr>\n",
       "      <th>3</th>\n",
       "      <td>3</td>\n",
       "      <td>유재석 “비트코인! 비트코인!” 2011년 아닌 올초라도 말 들었어야 했나…‘$1...</td>\n",
       "      <td>http://v.daum.net/v/20241207060020551</td>\n",
       "    </tr>\n",
       "    <tr>\n",
       "      <th>4</th>\n",
       "      <td>4</td>\n",
       "      <td>공매도 타깃 마이크로스트래티지, 최근 비트코인과 연관성 줄어</td>\n",
       "      <td>http://v.daum.net/v/20241210090124022</td>\n",
       "    </tr>\n",
       "    <tr>\n",
       "      <th>5</th>\n",
       "      <td>5</td>\n",
       "      <td>20만달러 가능?…비트코인 10만 달러 재돌파</td>\n",
       "      <td>http://v.daum.net/v/20241209130203846</td>\n",
       "    </tr>\n",
       "    <tr>\n",
       "      <th>6</th>\n",
       "      <td>6</td>\n",
       "      <td>비트코인 조정국면···다시 10만 달러 밑으로</td>\n",
       "      <td>http://v.daum.net/v/20241210080326695</td>\n",
       "    </tr>\n",
       "    <tr>\n",
       "      <th>7</th>\n",
       "      <td>7</td>\n",
       "      <td>알트코인, 한때 20% 이상 폭락… 비트코인도 다시 10만 달러 밑으로</td>\n",
       "      <td>http://v.daum.net/v/20241210084214520</td>\n",
       "    </tr>\n",
       "    <tr>\n",
       "      <th>8</th>\n",
       "      <td>8</td>\n",
       "      <td>‘트럼프 효과’...美 비트코인 ETF에 100억불 유입</td>\n",
       "      <td>http://v.daum.net/v/20241209161507983</td>\n",
       "    </tr>\n",
       "    <tr>\n",
       "      <th>9</th>\n",
       "      <td>9</td>\n",
       "      <td>\"비트코인, 내년 말 20만 달러 간다\"…낙관적 전망, 근거는?</td>\n",
       "      <td>http://v.daum.net/v/20241209104946961</td>\n",
       "    </tr>\n",
       "  </tbody>\n",
       "</table>\n",
       "</div>"
      ],
      "text/plain": [
       "   no                                              title  \\\n",
       "0   0          [글로벌 비즈 브리핑] '비트코인 빚투' 마이크로스트래티지, 또 샀다 外    \n",
       "1   1                         비트코인, 트럼프 재집권에 '디지털 금' 된다    \n",
       "2   2                          러시아·중국, 비트코인 전략자산 비축 나서나    \n",
       "3   3   유재석 “비트코인! 비트코인!” 2011년 아닌 올초라도 말 들었어야 했나…‘$1...   \n",
       "4   4                 공매도 타깃 마이크로스트래티지, 최근 비트코인과 연관성 줄어    \n",
       "5   5                         20만달러 가능?…비트코인 10만 달러 재돌파    \n",
       "6   6                         비트코인 조정국면···다시 10만 달러 밑으로    \n",
       "7   7           알트코인, 한때 20% 이상 폭락… 비트코인도 다시 10만 달러 밑으로    \n",
       "8   8                   ‘트럼프 효과’...美 비트코인 ETF에 100억불 유입    \n",
       "9   9               \"비트코인, 내년 말 20만 달러 간다\"…낙관적 전망, 근거는?    \n",
       "\n",
       "                                    link  \n",
       "0  http://v.daum.net/v/20241210044809410  \n",
       "1  http://v.daum.net/v/20241210060003998  \n",
       "2  http://v.daum.net/v/20241210085304785  \n",
       "3  http://v.daum.net/v/20241207060020551  \n",
       "4  http://v.daum.net/v/20241210090124022  \n",
       "5  http://v.daum.net/v/20241209130203846  \n",
       "6  http://v.daum.net/v/20241210080326695  \n",
       "7  http://v.daum.net/v/20241210084214520  \n",
       "8  http://v.daum.net/v/20241209161507983  \n",
       "9  http://v.daum.net/v/20241209104946961  "
      ]
     },
     "execution_count": 30,
     "metadata": {},
     "output_type": "execute_result"
    }
   ],
   "source": [
    "import requests\n",
    "from bs4 import BeautifulSoup\n",
    "url = 'https://search.daum.net/search?nil_suggest=btn&w=news&DA=SBC&cluster=y&q=%EB%B9%84%ED%8A%B8%EC%BD%94%EC%9D%B8'\n",
    "response = requests.get(url)\n",
    "soup = BeautifulSoup(response.text, 'html.parser')\n",
    "items_find_list = []  # 검색한 결과를 담을 dict 리스트\n",
    "items_el = soup.select('div.item-title > strong.tit-g > a')\n",
    "for idx, item in enumerate(items_el):\n",
    "    items_find_list.append({'no':idx, \n",
    "                            'title':item.text,\n",
    "                            'link':item.attrs['href']\n",
    "                           })\n",
    "import pandas as pd\n",
    "pd.DataFrame(items_find_list)"
   ]
  },
  {
   "cell_type": "code",
   "execution_count": 31,
   "id": "d1b4f4ce",
   "metadata": {
    "ExecuteTime": {
     "end_time": "2024-12-10T00:35:06.646869Z",
     "start_time": "2024-12-10T00:35:06.225982Z"
    }
   },
   "outputs": [
    {
     "data": {
      "text/html": [
       "<div>\n",
       "<style scoped>\n",
       "    .dataframe tbody tr th:only-of-type {\n",
       "        vertical-align: middle;\n",
       "    }\n",
       "\n",
       "    .dataframe tbody tr th {\n",
       "        vertical-align: top;\n",
       "    }\n",
       "\n",
       "    .dataframe thead th {\n",
       "        text-align: right;\n",
       "    }\n",
       "</style>\n",
       "<table border=\"1\" class=\"dataframe\">\n",
       "  <thead>\n",
       "    <tr style=\"text-align: right;\">\n",
       "      <th></th>\n",
       "      <th>no</th>\n",
       "      <th>title</th>\n",
       "      <th>link</th>\n",
       "    </tr>\n",
       "  </thead>\n",
       "  <tbody>\n",
       "    <tr>\n",
       "      <th>0</th>\n",
       "      <td>0</td>\n",
       "      <td>[글로벌 비즈 브리핑] '비트코인 빚투' 마이크로스트래티지, 또 샀다 外</td>\n",
       "      <td>http://v.daum.net/v/20241210044809410</td>\n",
       "    </tr>\n",
       "    <tr>\n",
       "      <th>1</th>\n",
       "      <td>1</td>\n",
       "      <td>비트코인, 트럼프 재집권에 '디지털 금' 된다</td>\n",
       "      <td>http://v.daum.net/v/20241210060003998</td>\n",
       "    </tr>\n",
       "    <tr>\n",
       "      <th>2</th>\n",
       "      <td>2</td>\n",
       "      <td>러시아·중국, 비트코인 전략자산 비축 나서나</td>\n",
       "      <td>http://v.daum.net/v/20241210085304785</td>\n",
       "    </tr>\n",
       "    <tr>\n",
       "      <th>3</th>\n",
       "      <td>3</td>\n",
       "      <td>유재석 “비트코인! 비트코인!” 2011년 아닌 올초라도 말 들었어야 했나…‘$1...</td>\n",
       "      <td>http://v.daum.net/v/20241207060020551</td>\n",
       "    </tr>\n",
       "    <tr>\n",
       "      <th>4</th>\n",
       "      <td>4</td>\n",
       "      <td>공매도 타깃 마이크로스트래티지, 최근 비트코인과 연관성 줄어</td>\n",
       "      <td>http://v.daum.net/v/20241210090124022</td>\n",
       "    </tr>\n",
       "    <tr>\n",
       "      <th>5</th>\n",
       "      <td>5</td>\n",
       "      <td>20만달러 가능?…비트코인 10만 달러 재돌파</td>\n",
       "      <td>http://v.daum.net/v/20241209130203846</td>\n",
       "    </tr>\n",
       "    <tr>\n",
       "      <th>6</th>\n",
       "      <td>6</td>\n",
       "      <td>비트코인 조정국면···다시 10만 달러 밑으로</td>\n",
       "      <td>http://v.daum.net/v/20241210080326695</td>\n",
       "    </tr>\n",
       "    <tr>\n",
       "      <th>7</th>\n",
       "      <td>7</td>\n",
       "      <td>알트코인, 한때 20% 이상 폭락… 비트코인도 다시 10만 달러 밑으로</td>\n",
       "      <td>http://v.daum.net/v/20241210084214520</td>\n",
       "    </tr>\n",
       "    <tr>\n",
       "      <th>8</th>\n",
       "      <td>8</td>\n",
       "      <td>‘트럼프 효과’...美 비트코인 ETF에 100억불 유입</td>\n",
       "      <td>http://v.daum.net/v/20241209161507983</td>\n",
       "    </tr>\n",
       "    <tr>\n",
       "      <th>9</th>\n",
       "      <td>9</td>\n",
       "      <td>\"비트코인, 내년 말 20만 달러 간다\"…낙관적 전망, 근거는?</td>\n",
       "      <td>http://v.daum.net/v/20241209104946961</td>\n",
       "    </tr>\n",
       "  </tbody>\n",
       "</table>\n",
       "</div>"
      ],
      "text/plain": [
       "   no                                              title  \\\n",
       "0   0          [글로벌 비즈 브리핑] '비트코인 빚투' 마이크로스트래티지, 또 샀다 外    \n",
       "1   1                         비트코인, 트럼프 재집권에 '디지털 금' 된다    \n",
       "2   2                          러시아·중국, 비트코인 전략자산 비축 나서나    \n",
       "3   3   유재석 “비트코인! 비트코인!” 2011년 아닌 올초라도 말 들었어야 했나…‘$1...   \n",
       "4   4                 공매도 타깃 마이크로스트래티지, 최근 비트코인과 연관성 줄어    \n",
       "5   5                         20만달러 가능?…비트코인 10만 달러 재돌파    \n",
       "6   6                         비트코인 조정국면···다시 10만 달러 밑으로    \n",
       "7   7           알트코인, 한때 20% 이상 폭락… 비트코인도 다시 10만 달러 밑으로    \n",
       "8   8                   ‘트럼프 효과’...美 비트코인 ETF에 100억불 유입    \n",
       "9   9               \"비트코인, 내년 말 20만 달러 간다\"…낙관적 전망, 근거는?    \n",
       "\n",
       "                                    link  \n",
       "0  http://v.daum.net/v/20241210044809410  \n",
       "1  http://v.daum.net/v/20241210060003998  \n",
       "2  http://v.daum.net/v/20241210085304785  \n",
       "3  http://v.daum.net/v/20241207060020551  \n",
       "4  http://v.daum.net/v/20241210090124022  \n",
       "5  http://v.daum.net/v/20241209130203846  \n",
       "6  http://v.daum.net/v/20241210080326695  \n",
       "7  http://v.daum.net/v/20241210084214520  \n",
       "8  http://v.daum.net/v/20241209161507983  \n",
       "9  http://v.daum.net/v/20241209104946961  "
      ]
     },
     "execution_count": 31,
     "metadata": {},
     "output_type": "execute_result"
    }
   ],
   "source": [
    "import requests\n",
    "from bs4 import BeautifulSoup\n",
    "url = 'https://search.daum.net/search?w=news&nil_search=btn&DA=PGD&enc=utf8&cluster=y&cluster_page=1&q=비트코인'\n",
    "response = requests.get(url)\n",
    "soup = BeautifulSoup(response.text, \"html.parser\")\n",
    "items_find_list = []  # 검색한 결과를 담을 2차원 리스트\n",
    "items_el = soup.select('div.item-title > strong.tit-g > a')\n",
    "for idx, item in enumerate(items_el):\n",
    "    items_find_list.append([idx, item.text, item.attrs['href']])\n",
    "# print(items_find_list)\n",
    "import pandas as pd\n",
    "pd.DataFrame(items_find_list, columns=['no','title','link'])"
   ]
  },
  {
   "cell_type": "code",
   "execution_count": 32,
   "id": "eda9762f",
   "metadata": {
    "ExecuteTime": {
     "end_time": "2024-12-10T00:35:06.672753Z",
     "start_time": "2024-12-10T00:35:06.647775Z"
    }
   },
   "outputs": [
    {
     "data": {
      "text/html": [
       "<div>\n",
       "<style scoped>\n",
       "    .dataframe tbody tr th:only-of-type {\n",
       "        vertical-align: middle;\n",
       "    }\n",
       "\n",
       "    .dataframe tbody tr th {\n",
       "        vertical-align: top;\n",
       "    }\n",
       "\n",
       "    .dataframe thead th {\n",
       "        text-align: right;\n",
       "    }\n",
       "</style>\n",
       "<table border=\"1\" class=\"dataframe\">\n",
       "  <thead>\n",
       "    <tr style=\"text-align: right;\">\n",
       "      <th></th>\n",
       "      <th>no</th>\n",
       "      <th>title</th>\n",
       "      <th>link</th>\n",
       "    </tr>\n",
       "  </thead>\n",
       "  <tbody>\n",
       "    <tr>\n",
       "      <th>0</th>\n",
       "      <td>0</td>\n",
       "      <td>[글로벌 비즈 브리핑] '비트코인 빚투' 마이크로스트래티지, 또 샀다 外</td>\n",
       "      <td>http://v.daum.net/v/20241210044809410</td>\n",
       "    </tr>\n",
       "    <tr>\n",
       "      <th>1</th>\n",
       "      <td>1</td>\n",
       "      <td>비트코인, 트럼프 재집권에 '디지털 금' 된다</td>\n",
       "      <td>http://v.daum.net/v/20241210060003998</td>\n",
       "    </tr>\n",
       "    <tr>\n",
       "      <th>2</th>\n",
       "      <td>2</td>\n",
       "      <td>러시아·중국, 비트코인 전략자산 비축 나서나</td>\n",
       "      <td>http://v.daum.net/v/20241210085304785</td>\n",
       "    </tr>\n",
       "    <tr>\n",
       "      <th>3</th>\n",
       "      <td>3</td>\n",
       "      <td>유재석 “비트코인! 비트코인!” 2011년 아닌 올초라도 말 들었어야 했나…‘$1...</td>\n",
       "      <td>http://v.daum.net/v/20241207060020551</td>\n",
       "    </tr>\n",
       "    <tr>\n",
       "      <th>4</th>\n",
       "      <td>4</td>\n",
       "      <td>공매도 타깃 마이크로스트래티지, 최근 비트코인과 연관성 줄어</td>\n",
       "      <td>http://v.daum.net/v/20241210090124022</td>\n",
       "    </tr>\n",
       "    <tr>\n",
       "      <th>5</th>\n",
       "      <td>5</td>\n",
       "      <td>20만달러 가능?…비트코인 10만 달러 재돌파</td>\n",
       "      <td>http://v.daum.net/v/20241209130203846</td>\n",
       "    </tr>\n",
       "    <tr>\n",
       "      <th>6</th>\n",
       "      <td>6</td>\n",
       "      <td>비트코인 조정국면···다시 10만 달러 밑으로</td>\n",
       "      <td>http://v.daum.net/v/20241210080326695</td>\n",
       "    </tr>\n",
       "    <tr>\n",
       "      <th>7</th>\n",
       "      <td>7</td>\n",
       "      <td>알트코인, 한때 20% 이상 폭락… 비트코인도 다시 10만 달러 밑으로</td>\n",
       "      <td>http://v.daum.net/v/20241210084214520</td>\n",
       "    </tr>\n",
       "    <tr>\n",
       "      <th>8</th>\n",
       "      <td>8</td>\n",
       "      <td>‘트럼프 효과’...美 비트코인 ETF에 100억불 유입</td>\n",
       "      <td>http://v.daum.net/v/20241209161507983</td>\n",
       "    </tr>\n",
       "    <tr>\n",
       "      <th>9</th>\n",
       "      <td>9</td>\n",
       "      <td>\"비트코인, 내년 말 20만 달러 간다\"…낙관적 전망, 근거는?</td>\n",
       "      <td>http://v.daum.net/v/20241209104946961</td>\n",
       "    </tr>\n",
       "  </tbody>\n",
       "</table>\n",
       "</div>"
      ],
      "text/plain": [
       "   no                                              title  \\\n",
       "0   0          [글로벌 비즈 브리핑] '비트코인 빚투' 마이크로스트래티지, 또 샀다 外    \n",
       "1   1                         비트코인, 트럼프 재집권에 '디지털 금' 된다    \n",
       "2   2                          러시아·중국, 비트코인 전략자산 비축 나서나    \n",
       "3   3   유재석 “비트코인! 비트코인!” 2011년 아닌 올초라도 말 들었어야 했나…‘$1...   \n",
       "4   4                 공매도 타깃 마이크로스트래티지, 최근 비트코인과 연관성 줄어    \n",
       "5   5                         20만달러 가능?…비트코인 10만 달러 재돌파    \n",
       "6   6                         비트코인 조정국면···다시 10만 달러 밑으로    \n",
       "7   7           알트코인, 한때 20% 이상 폭락… 비트코인도 다시 10만 달러 밑으로    \n",
       "8   8                   ‘트럼프 효과’...美 비트코인 ETF에 100억불 유입    \n",
       "9   9               \"비트코인, 내년 말 20만 달러 간다\"…낙관적 전망, 근거는?    \n",
       "\n",
       "                                    link  \n",
       "0  http://v.daum.net/v/20241210044809410  \n",
       "1  http://v.daum.net/v/20241210060003998  \n",
       "2  http://v.daum.net/v/20241210085304785  \n",
       "3  http://v.daum.net/v/20241207060020551  \n",
       "4  http://v.daum.net/v/20241210090124022  \n",
       "5  http://v.daum.net/v/20241209130203846  \n",
       "6  http://v.daum.net/v/20241210080326695  \n",
       "7  http://v.daum.net/v/20241210084214520  \n",
       "8  http://v.daum.net/v/20241209161507983  \n",
       "9  http://v.daum.net/v/20241209104946961  "
      ]
     },
     "execution_count": 32,
     "metadata": {},
     "output_type": "execute_result"
    }
   ],
   "source": [
    "items_find_list = []  # 검색한 결과를 담을 2차원 리스트(div.item-title > strong.tit-g > a)\n",
    "item_titles = soup.find_all('div', class_='item-title')\n",
    "\n",
    "for idx, item in enumerate(item_titles):\n",
    "    strong = item.find('strong')\n",
    "    if strong:\n",
    "        a = strong.find('a')\n",
    "        items_find_list.append([idx, a.text, a.attrs['href']])\n",
    "pd.DataFrame(items_find_list, columns=['no', 'title', 'link'])"
   ]
  },
  {
   "cell_type": "code",
   "execution_count": 33,
   "id": "b63d094a",
   "metadata": {
    "ExecuteTime": {
     "end_time": "2024-12-10T00:35:09.263612Z",
     "start_time": "2024-12-10T00:35:09.254614Z"
    }
   },
   "outputs": [],
   "source": [
    "# 다음검색(원하는 키워드를 원하는 페이지 수)\n",
    "import requests\n",
    "from bs4 import BeautifulSoup\n",
    "import time\n",
    "import pandas as pd\n",
    "\n",
    "# print하는 함수\n",
    "def collect_list(keyword, page):\n",
    "    'keyword로 page에 다음검색한 결과를 출력 '\n",
    "    # url = 'https://search.daum.net/search?w=news&nil_search=btn&DA=PGD&enc=utf8&cluster=y&q={}&p={}'.format(keyword, page)\n",
    "    # response = requests.get(url)\n",
    "    url = 'https://search.daum.net/search?w=news&nil_search=btn&DA=PGD&enc=utf8&cluster=y'\n",
    "    params = {'q':keyword, 'p':page}\n",
    "    response = requests.get(url, params=params)\n",
    "    soup = BeautifulSoup(response.text, \"html.parser\")\n",
    "    items_find_list = []  # 검색한 결과를 담을 2차원 리스트(div.item-title > strong.tit-g > a)\n",
    "    item_titles = soup.find_all('div', class_='item-title')\n",
    "\n",
    "    for idx, item in enumerate(item_titles):\n",
    "        strong = item.find('strong')\n",
    "        if strong:  # None이 아니면\n",
    "            a = strong.find('a')\n",
    "            items_find_list.append([(page-1)*10+idx, a.text, a.attrs['href']])\n",
    "            #                      페이지 수가 0부터 시작하므로 0~9, 다음은 10~ 순으로 나오기 위해\n",
    "            print((page-1)*10+idx, a.text, a.attrs['href'])\n",
    "    # return items_find_list"
   ]
  },
  {
   "cell_type": "code",
   "execution_count": 34,
   "id": "767a1379",
   "metadata": {
    "ExecuteTime": {
     "end_time": "2024-12-10T00:35:09.889759Z",
     "start_time": "2024-12-10T00:35:09.502781Z"
    }
   },
   "outputs": [
    {
     "name": "stdout",
     "output_type": "stream",
     "text": [
      "0  힙라인 美쳤다...'골프 여신' 유현주, 청바지 입고 뽐낸 '공격적 뒤태'  http://v.daum.net/v/20241208200005828\n",
      "1  에스파 닝닝, 워너비 청바지 핏..연일 리즈 찍는 비주얼 [스타IN★]  http://v.daum.net/v/20241208001414598\n",
      "2  ‘9살 연하♥’ 최지우, 49살 나이 믿기지 않는 러블리 미모 “청바지도 잘 어울려”  http://v.daum.net/v/20241209183907649\n",
      "3  56세 채시라, 흰티+청바지핏 20대 뺨쳐‥평생이 예쁘네  http://v.daum.net/v/20241205102113139\n",
      "4  ‘미스쓰리랑’ 김소연, 박상민과 ‘청바지 아가씨’ 즉석 화음  http://v.daum.net/v/20241129012015847\n",
      "5  56세 채시라, 흰 티에 청바지만 입어도 완벽… '데님 여신' 귀환  http://v.daum.net/v/20241206205810264\n",
      "6  이시영, 얼어죽어도 美! 폭설 속 찢어진 청바지에 돼지코 신발로 시선 강탈!  http://v.daum.net/v/20241127170304793\n",
      "7  50대의 흰티·청바지, 채시라 걸그룹 몸매 인증  http://v.daum.net/v/20241206020014186\n",
      "8  채시라, 흰티+청바지 완벽 소화…50대 나이 안 믿기는 몸매 [MD★스타]  http://v.daum.net/v/20241206162024306\n",
      "9  서주경, 전성기 파격 패션 “몸매 예뻐 청바지 오픈” (퍼펙트)[결정적장면]  http://v.daum.net/v/20241128060836398\n"
     ]
    }
   ],
   "source": [
    "collect_list('청바지', 1)"
   ]
  },
  {
   "cell_type": "code",
   "execution_count": 35,
   "id": "7e9b6311",
   "metadata": {
    "ExecuteTime": {
     "end_time": "2024-12-10T00:35:27.631054Z",
     "start_time": "2024-12-10T00:35:13.454176Z"
    },
    "scrolled": true
   },
   "outputs": [
    {
     "name": "stdout",
     "output_type": "stream",
     "text": [
      "\n",
      "▒▒▒▒▒▒▒▒▒▒▒▒ 청바지 검색 결과 입니다 ▒▒▒▒▒▒▒▒▒▒▒▒\n",
      "\n",
      "0  힙라인 美쳤다...'골프 여신' 유현주, 청바지 입고 뽐낸 '공격적 뒤태'  http://v.daum.net/v/20241208200005828\n",
      "1  에스파 닝닝, 워너비 청바지 핏..연일 리즈 찍는 비주얼 [스타IN★]  http://v.daum.net/v/20241208001414598\n",
      "2  ‘9살 연하♥’ 최지우, 49살 나이 믿기지 않는 러블리 미모 “청바지도 잘 어울려”  http://v.daum.net/v/20241209183907649\n",
      "3  56세 채시라, 흰티+청바지핏 20대 뺨쳐‥평생이 예쁘네  http://v.daum.net/v/20241205102113139\n",
      "4  ‘미스쓰리랑’ 김소연, 박상민과 ‘청바지 아가씨’ 즉석 화음  http://v.daum.net/v/20241129012015847\n",
      "5  56세 채시라, 흰 티에 청바지만 입어도 완벽… '데님 여신' 귀환  http://v.daum.net/v/20241206205810264\n",
      "6  이시영, 얼어죽어도 美! 폭설 속 찢어진 청바지에 돼지코 신발로 시선 강탈!  http://v.daum.net/v/20241127170304793\n",
      "7  50대의 흰티·청바지, 채시라 걸그룹 몸매 인증  http://v.daum.net/v/20241206020014186\n",
      "8  채시라, 흰티+청바지 완벽 소화…50대 나이 안 믿기는 몸매 [MD★스타]  http://v.daum.net/v/20241206162024306\n",
      "9  서주경, 전성기 파격 패션 “몸매 예뻐 청바지 오픈” (퍼펙트)[결정적장면]  http://v.daum.net/v/20241128060836398\n",
      "10  집에 굴러다니는 청바지 하나로 리사처럼 멋 내는 법  http://v.daum.net/v/20241127172605719\n",
      "11  서주경, 원조 섹시스타? 청바지 골반에 걸치고 당돌했던 패션(퍼펙트 라이프)  http://v.daum.net/v/20241127153650717\n",
      "12  크리스탈 ‘청바지에 가디건만 툭 걸쳐도 예쁨 완성’[포토엔HD]  http://v.daum.net/v/20241203100807187\n",
      "13  고우리 ‘청바지가 잘 어울려’ [MK포토]  http://v.daum.net/v/20241205164814052\n",
      "14  김지원, 청바지에 숏패딩만 입어도 청순‥입술 쭉 애교는 덤  http://v.daum.net/v/20241120155408078\n",
      "15  ‘美 언더아머’ 가방에 청바지 입은 北학생… 러시아 유튜버가 포착한 평양의 모습  http://v.daum.net/v/20241129115100297\n",
      "16  대구시행복진흥원, 2024 청바지(청년이 바라는 지금 가족) 아카데미 발대식 개최  http://v.daum.net/v/20241109214942252\n",
      "17  제주서 청바지에 오리발 낀 시신 발견돼…실종 모터보트 선장 추정 \"확인 중\"  http://v.daum.net/v/20241124142017794\n",
      "18  [ET포토] 베이비몬스터 아현, '셔츠에 청바지면 완벽'  http://v.daum.net/v/20241204153708872\n",
      "19  김태리, 흰티+청바지 입은 정년이‥시크해도 예쁘네  http://v.daum.net/v/20241106084401512\n",
      "20  미스전남 진 이하정 '청바지가 잘 어울리는 여자' [포토]  http://v.daum.net/v/20241205173202831\n",
      "21  [美대선 D-1] 청바지 입은 해리스, 미화원 조끼 걸친 트럼프…패션 필살기는  http://v.daum.net/v/20241104162858090\n",
      "22  해리스는 청바지·트럼프는 미화원 조끼…패션으로 읽는 美 대선  http://v.daum.net/v/20241105233634359\n",
      "23  트럼프의 앞치마 vs 해리스의 청바지…‘서민 소통 상징’으로 패션정치 대결 [박영실의 이미지 브랜딩]  http://v.daum.net/v/20241103060502246\n",
      "24  가죽재킷·청바지 입은 '힙한' 비올레타가 온다…'라 트라비아타'  http://v.daum.net/v/20241111092157682\n",
      "25  ‘마이큐♥’ 김나영, 애들 없이 청바지만? ‘수영복 벗고 드러난 완벽 핏’  http://v.daum.net/v/20241105104509753\n",
      "26  ‘청바지 입은 내가 주인공’···순천시 해룡면 청바지 축제 개최  http://v.daum.net/v/20241016164702070\n",
      "27  홍주연 아나 슬리퍼+청바지 출근룩에 엄지인 경악 “업무 방해 돼”(당나귀 귀)  http://v.daum.net/v/20241110175438302\n",
      "28  강지영 ‘청바지 위에 청치마, 유일무이한 청청패션으로 극장 나들이’ [틀린그림찾기]  http://v.daum.net/v/20241115055701333\n",
      "29  수영강습 갔던 화성 여대생 주검으로…'정액 묻은 청바지'가 사라졌다  http://v.daum.net/v/20241027053149482\n",
      "\n",
      "▒▒▒▒▒▒▒▒▒▒▒▒ 닭가슴살 검색 결과 입니다 ▒▒▒▒▒▒▒▒▒▒▒▒\n",
      "\n",
      "0  닭가슴살 전문 굽네몰, '연말결산' 프로모션…최대 72% 할인  http://v.daum.net/v/20241209081510567\n",
      "1  '대장이 반찬' 김대호 \"이장우는 천재\"…깜짝 놀라게 한 닭가슴살 반찬 [TV스포]  http://v.daum.net/v/20241201150945696\n",
      "2  \"닭가슴살 '단백질' 믿고 주문했는데…\" 배신 당한 다이어터들  http://v.daum.net/v/20240926092302756\n",
      "3  허경환 \"닭가슴살 사업하다 27억 사기 당해, 친한 사람이었는데…\"  http://v.daum.net/v/20241126082811691\n",
      "4  사조대림, 촉촉한 양념 닭가슴살 ‘소스에 퐁닭’ 3종 출시  http://v.daum.net/v/20241129091231041\n",
      "5  아들조차 외면한 정지선 셰프의 닭가슴살 요리…백종원 “엄마가 정지선인데!” 경악  http://v.daum.net/v/20241108222401781\n",
      "6  허경환 ‘허닭’, 야구 선수에 닭가슴살 후원  http://v.daum.net/v/20241118104222210\n",
      "7  “체지방 빠지고 근육 늘어” 이미도, 직접 짠 식단 공개… 어떤 음식 먹나 보니?  http://v.daum.net/v/20241210002030470\n",
      "8  굽네몰, ‘2024년 연말결산 특가’ 통해 최대 72% 할인  http://v.daum.net/v/20241209090017767\n",
      "9  동원홈푸드, 저당 닭가슴살 브리또·쌈장소스 등 4종 출시  http://v.daum.net/v/20241101160017021\n",
      "10  “이번엔 닭가슴살 레시피?” 최화정, 고기쌈에 ‘이것’ 곁들인다… 뭐길래?  http://v.daum.net/v/20241015000329588\n",
      "11  국내 최초 `꼬기다` 스틱 닭가슴살, 출시 두 달 만에 200만 개 완판! 건강한 간편식 시장의 새로운 강자  http://v.daum.net/v/20241025111217129\n",
      "12  닭 가슴살에 매운 ‘이것’ 곁들이면, 다이어트 효과 상승!  http://v.daum.net/v/20241012220729064\n",
      "13  채종석 \"소방관 준비하다 서울 상경…8kg 빼고 모델 데뷔\" [엑's 인터뷰①]  http://v.daum.net/v/20241210074007319\n",
      "14  고소영, 직접 만든 '이 음식' 공개… 살 뺄 땐 먹지 말아야?  http://v.daum.net/v/20241208070329929\n",
      "15  배다해, '이 시술'로 체중 많이 늘어...\"4kg 살 빼야 한다\", 왜?  http://v.daum.net/v/20241208161854863\n",
      "16  한소희, 42kg 가녀린 몸 비결?…닭가슴살 ‘이렇게’ 먹는다  http://v.daum.net/v/20241001200057813\n",
      "17  ‘쌍둥이 인플루언서’ 김상지&김상아 “우린 가족이자 친구, 좋은 자극 받으며 함께 성장” [인터뷰]  http://v.daum.net/v/20241209111403263\n",
      "18  “다이어트 위해” 혜리, 시상식 앞두고 ‘이 음식’만 먹어… 뭔가 보니?  http://v.daum.net/v/20241209101611345\n",
      "19  소유 “살 찐 내 몸 더럽다 느껴”→화사 “약 먹고 허벅지살 빼”..걸그룹 고충[Oh!쎈 이슈]  http://v.daum.net/v/20241130151717861\n",
      "20  “‘이렇게’ 먹으면 살 빠진다” 전효성, 다이어트 식단 대공개… 뭐 먹나 보니?  http://v.daum.net/v/20241122000130881\n",
      "21  “닭도 부위별로 즐긴다” 홈플러스,닭고기 부분육 매출 최대30% 껑충  http://v.daum.net/v/20241126082933710\n",
      "22  \"닭가슴살보다 높은 단백질 함량\" 빙그레, '프로틴 치즈' 신제품 공개  http://v.daum.net/v/20241017091812646\n",
      "23  달걀, 삶은 닭고기 꾸준히 먹었더니... 뇌 신경-인지 기능에 변화가?  http://v.daum.net/v/20241119190128434\n",
      "24  \"많이 먹어서 살쪘다\"…제이제이, 속옷 입고 62㎏ 몸매 인증  http://v.daum.net/v/20241203040018342\n",
      "25  미 육류회사, 리스테리아균 발견 닭가슴살 등 무려 5천톤 리콜(종합)  http://v.daum.net/v/20241011065535513\n",
      "26  닭가슴살 들기름 메밀김밥 1위... 편의점 식재료 활용한 건강 레시피  http://v.daum.net/v/20241015085320023\n",
      "27  다시 살찐 스윙스, \"다이어트 시작\" 밝혀… 직접 공개한 식단 보니?  http://v.daum.net/v/20241120141048522\n",
      "28  “한 달에 평균 3kg 감량… 혈당만 관리해도 살은 저절로 빠져”[허진석의 톡톡 스타트업]  http://v.daum.net/v/20241207030403803\n",
      "29  닭고기 부분육 수요↑…홈플러스, '순살 닭다리살' 구이 제품 출시  http://v.daum.net/v/20241126090420693\n"
     ]
    }
   ],
   "source": [
    "import time\n",
    "keywords = ['청바지', '닭가슴살']\n",
    "pages = 3\n",
    "for keyword in keywords:\n",
    "    # print('\\n▒▒▒▒▒▒▒▒▒▒▒▒ {} 검색 결과 입니다 ▒▒▒▒▒▒▒▒▒▒▒▒\\n'.format(keyword))\n",
    "    print(f'\\n▒▒▒▒▒▒▒▒▒▒▒▒ {keyword} 검색 결과 입니다 ▒▒▒▒▒▒▒▒▒▒▒▒\\n')\n",
    "    for page in range(1, pages+1):  # 1페이지부터 시작\n",
    "        # print(page)\n",
    "        collect_list(keyword, page)\n",
    "        time.sleep(2)  # 2초 잠시 쉼"
   ]
  },
  {
   "cell_type": "code",
   "execution_count": 36,
   "id": "46bf2743",
   "metadata": {
    "ExecuteTime": {
     "end_time": "2024-12-10T00:35:27.647559Z",
     "start_time": "2024-12-10T00:35:27.634032Z"
    }
   },
   "outputs": [],
   "source": [
    "# 다음검색(원하는 키워드를 원하는 페이지 수)\n",
    "import requests\n",
    "from bs4 import BeautifulSoup\n",
    "import time\n",
    "import pandas as pd\n",
    "\n",
    "# 검색한 결과를 list로 받아 return하는 함수\n",
    "def collect_list_return(keyword, page):\n",
    "    'keyword로 page에 다음검색한 결과를 출력 '\n",
    "    # url = 'https://search.daum.net/search?w=news&nil_search=btn&DA=PGD&enc=utf8&cluster=y&q={}&p={}'.format(keyword, page)\n",
    "    # response = requests.get(url)\n",
    "    url = 'https://search.daum.net/search?w=news&nil_search=btn&DA=PGD&enc=utf8&cluster=y'\n",
    "    params = {'q':keyword, 'p':page}\n",
    "    response = requests.get(url, params=params)\n",
    "    soup = BeautifulSoup(response.text, \"html.parser\")\n",
    "    items_find_list = []  # 검색한 결과를 담을 2차원 리스트(div.item-title > strong.tit-g > a)\n",
    "    item_titles = soup.find_all('div', class_='item-title')\n",
    "\n",
    "    for idx, item in enumerate(item_titles):\n",
    "        strong = item.find('strong')\n",
    "        if strong:  # None이 아니면\n",
    "            a = strong.find('a')\n",
    "            items_find_list.append([(page-1)*10+idx, a.text, a.attrs['href']])  # 방법1 리스트\n",
    "            # items_find_list.append({'no' : (page-1)*10+idx,'title' : a.text,'link' : a['href']})  # 방법2 딕셔너리\n",
    "            #                      페이지 수가 0부터 시작하므로 0~9, 다음은 10~ 순으로 나오기 위해\n",
    "            # print((page-1)*10+idx, a.text, a.attrs['href'])\n",
    "            # if idx == 9:\n",
    "            #     print(page, '페이지 완료')\n",
    "    return items_find_list"
   ]
  },
  {
   "cell_type": "code",
   "execution_count": 37,
   "id": "b4f5b341",
   "metadata": {
    "ExecuteTime": {
     "end_time": "2024-12-10T00:35:30.590894Z",
     "start_time": "2024-12-10T00:35:30.238770Z"
    }
   },
   "outputs": [
    {
     "data": {
      "text/html": [
       "<div>\n",
       "<style scoped>\n",
       "    .dataframe tbody tr th:only-of-type {\n",
       "        vertical-align: middle;\n",
       "    }\n",
       "\n",
       "    .dataframe tbody tr th {\n",
       "        vertical-align: top;\n",
       "    }\n",
       "\n",
       "    .dataframe thead th {\n",
       "        text-align: right;\n",
       "    }\n",
       "</style>\n",
       "<table border=\"1\" class=\"dataframe\">\n",
       "  <thead>\n",
       "    <tr style=\"text-align: right;\">\n",
       "      <th></th>\n",
       "      <th>no</th>\n",
       "      <th>title</th>\n",
       "      <th>link</th>\n",
       "    </tr>\n",
       "  </thead>\n",
       "  <tbody>\n",
       "    <tr>\n",
       "      <th>0</th>\n",
       "      <td>10</td>\n",
       "      <td>집에 굴러다니는 청바지 하나로 리사처럼 멋 내는 법</td>\n",
       "      <td>http://v.daum.net/v/20241127172605719</td>\n",
       "    </tr>\n",
       "    <tr>\n",
       "      <th>1</th>\n",
       "      <td>11</td>\n",
       "      <td>서주경, 원조 섹시스타? 청바지 골반에 걸치고 당돌했던 패션(퍼펙트 라이프)</td>\n",
       "      <td>http://v.daum.net/v/20241127153650717</td>\n",
       "    </tr>\n",
       "    <tr>\n",
       "      <th>2</th>\n",
       "      <td>12</td>\n",
       "      <td>크리스탈 ‘청바지에 가디건만 툭 걸쳐도 예쁨 완성’[포토엔HD]</td>\n",
       "      <td>http://v.daum.net/v/20241203100807187</td>\n",
       "    </tr>\n",
       "    <tr>\n",
       "      <th>3</th>\n",
       "      <td>13</td>\n",
       "      <td>고우리 ‘청바지가 잘 어울려’ [MK포토]</td>\n",
       "      <td>http://v.daum.net/v/20241205164814052</td>\n",
       "    </tr>\n",
       "    <tr>\n",
       "      <th>4</th>\n",
       "      <td>14</td>\n",
       "      <td>김지원, 청바지에 숏패딩만 입어도 청순‥입술 쭉 애교는 덤</td>\n",
       "      <td>http://v.daum.net/v/20241120155408078</td>\n",
       "    </tr>\n",
       "    <tr>\n",
       "      <th>5</th>\n",
       "      <td>15</td>\n",
       "      <td>‘美 언더아머’ 가방에 청바지 입은 北학생… 러시아 유튜버가 포착한 평양의 모습</td>\n",
       "      <td>http://v.daum.net/v/20241129115100297</td>\n",
       "    </tr>\n",
       "    <tr>\n",
       "      <th>6</th>\n",
       "      <td>16</td>\n",
       "      <td>대구시행복진흥원, 2024 청바지(청년이 바라는 지금 가족) 아카데미 발대식 개최</td>\n",
       "      <td>http://v.daum.net/v/20241109214942252</td>\n",
       "    </tr>\n",
       "    <tr>\n",
       "      <th>7</th>\n",
       "      <td>17</td>\n",
       "      <td>제주서 청바지에 오리발 낀 시신 발견돼…실종 모터보트 선장 추정 \"확인 중\"</td>\n",
       "      <td>http://v.daum.net/v/20241124142017794</td>\n",
       "    </tr>\n",
       "    <tr>\n",
       "      <th>8</th>\n",
       "      <td>18</td>\n",
       "      <td>[ET포토] 베이비몬스터 아현, '셔츠에 청바지면 완벽'</td>\n",
       "      <td>http://v.daum.net/v/20241204153708872</td>\n",
       "    </tr>\n",
       "    <tr>\n",
       "      <th>9</th>\n",
       "      <td>19</td>\n",
       "      <td>김태리, 흰티+청바지 입은 정년이‥시크해도 예쁘네</td>\n",
       "      <td>http://v.daum.net/v/20241106084401512</td>\n",
       "    </tr>\n",
       "  </tbody>\n",
       "</table>\n",
       "</div>"
      ],
      "text/plain": [
       "   no                                            title  \\\n",
       "0  10                    집에 굴러다니는 청바지 하나로 리사처럼 멋 내는 법    \n",
       "1  11      서주경, 원조 섹시스타? 청바지 골반에 걸치고 당돌했던 패션(퍼펙트 라이프)    \n",
       "2  12             크리스탈 ‘청바지에 가디건만 툭 걸쳐도 예쁨 완성’[포토엔HD]    \n",
       "3  13                         고우리 ‘청바지가 잘 어울려’ [MK포토]    \n",
       "4  14                김지원, 청바지에 숏패딩만 입어도 청순‥입술 쭉 애교는 덤    \n",
       "5  15    ‘美 언더아머’ 가방에 청바지 입은 北학생… 러시아 유튜버가 포착한 평양의 모습    \n",
       "6  16   대구시행복진흥원, 2024 청바지(청년이 바라는 지금 가족) 아카데미 발대식 개최    \n",
       "7  17      제주서 청바지에 오리발 낀 시신 발견돼…실종 모터보트 선장 추정 \"확인 중\"    \n",
       "8  18                 [ET포토] 베이비몬스터 아현, '셔츠에 청바지면 완벽'    \n",
       "9  19                     김태리, 흰티+청바지 입은 정년이‥시크해도 예쁘네    \n",
       "\n",
       "                                    link  \n",
       "0  http://v.daum.net/v/20241127172605719  \n",
       "1  http://v.daum.net/v/20241127153650717  \n",
       "2  http://v.daum.net/v/20241203100807187  \n",
       "3  http://v.daum.net/v/20241205164814052  \n",
       "4  http://v.daum.net/v/20241120155408078  \n",
       "5  http://v.daum.net/v/20241129115100297  \n",
       "6  http://v.daum.net/v/20241109214942252  \n",
       "7  http://v.daum.net/v/20241124142017794  \n",
       "8  http://v.daum.net/v/20241204153708872  \n",
       "9  http://v.daum.net/v/20241106084401512  "
      ]
     },
     "execution_count": 37,
     "metadata": {},
     "output_type": "execute_result"
    }
   ],
   "source": [
    "import pandas as pd\n",
    "pd.DataFrame(collect_list_return('청바지', 2), \n",
    "             columns=['no', 'title', 'link']  # 방법1 리스트 append 시 컬럼명 지정\n",
    "             )"
   ]
  },
  {
   "cell_type": "code",
   "execution_count": 38,
   "id": "8ec30e5f",
   "metadata": {
    "ExecuteTime": {
     "end_time": "2024-12-10T00:35:33.295837Z",
     "start_time": "2024-12-10T00:35:31.174055Z"
    }
   },
   "outputs": [
    {
     "name": "stdout",
     "output_type": "stream",
     "text": [
      "========== 1번째 검색어 청바지 검색 결과 수집 중 입니다 ==========\n",
      "========== 2번째 검색어 닭가슴살 검색 결과 수집 중 입니다 ==========\n"
     ]
    }
   ],
   "source": [
    "keywords = ['청바지', '닭가슴살']\n",
    "result0 = []  # 청바지 1~pages 페이지까지 검색 결과를 담을 list\n",
    "result1 = []  # 닭가슴살 1~pages 페이지까지 검색 결과를 담을 list\n",
    "pages = 3\n",
    "for i, keyword in enumerate(keywords):\n",
    "    print(f'========== {i+1}번째 검색어 {keyword} 검색 결과 수집 중 입니다 ==========')\n",
    "    for page in range(1, pages+1):\n",
    "        # print(page)\n",
    "        if i == 0:  # 청바지이면(i의 0번째 키워드가 '청바지')\n",
    "            result0.extend(collect_list_return(keyword, page))\n",
    "        elif i == 1:\n",
    "            result1.extend(collect_list_return(keyword, page))"
   ]
  },
  {
   "cell_type": "code",
   "execution_count": 39,
   "id": "22e5df84",
   "metadata": {
    "ExecuteTime": {
     "end_time": "2024-12-10T00:35:33.313380Z",
     "start_time": "2024-12-10T00:35:33.295837Z"
    },
    "scrolled": true
   },
   "outputs": [
    {
     "data": {
      "text/html": [
       "<div>\n",
       "<style scoped>\n",
       "    .dataframe tbody tr th:only-of-type {\n",
       "        vertical-align: middle;\n",
       "    }\n",
       "\n",
       "    .dataframe tbody tr th {\n",
       "        vertical-align: top;\n",
       "    }\n",
       "\n",
       "    .dataframe thead th {\n",
       "        text-align: right;\n",
       "    }\n",
       "</style>\n",
       "<table border=\"1\" class=\"dataframe\">\n",
       "  <thead>\n",
       "    <tr style=\"text-align: right;\">\n",
       "      <th></th>\n",
       "      <th>no</th>\n",
       "      <th>title</th>\n",
       "      <th>link</th>\n",
       "    </tr>\n",
       "  </thead>\n",
       "  <tbody>\n",
       "    <tr>\n",
       "      <th>0</th>\n",
       "      <td>0</td>\n",
       "      <td>힙라인 美쳤다...'골프 여신' 유현주, 청바지 입고 뽐낸 '공격적 뒤태'</td>\n",
       "      <td>http://v.daum.net/v/20241208200005828</td>\n",
       "    </tr>\n",
       "    <tr>\n",
       "      <th>1</th>\n",
       "      <td>1</td>\n",
       "      <td>에스파 닝닝, 워너비 청바지 핏..연일 리즈 찍는 비주얼 [스타IN★]</td>\n",
       "      <td>http://v.daum.net/v/20241208001414598</td>\n",
       "    </tr>\n",
       "    <tr>\n",
       "      <th>2</th>\n",
       "      <td>2</td>\n",
       "      <td>‘9살 연하♥’ 최지우, 49살 나이 믿기지 않는 러블리 미모 “청바지도 잘 어울려”</td>\n",
       "      <td>http://v.daum.net/v/20241209183907649</td>\n",
       "    </tr>\n",
       "    <tr>\n",
       "      <th>3</th>\n",
       "      <td>3</td>\n",
       "      <td>56세 채시라, 흰티+청바지핏 20대 뺨쳐‥평생이 예쁘네</td>\n",
       "      <td>http://v.daum.net/v/20241205102113139</td>\n",
       "    </tr>\n",
       "    <tr>\n",
       "      <th>4</th>\n",
       "      <td>4</td>\n",
       "      <td>‘미스쓰리랑’ 김소연, 박상민과 ‘청바지 아가씨’ 즉석 화음</td>\n",
       "      <td>http://v.daum.net/v/20241129012015847</td>\n",
       "    </tr>\n",
       "  </tbody>\n",
       "</table>\n",
       "</div>"
      ],
      "text/plain": [
       "   no                                              title  \\\n",
       "0   0         힙라인 美쳤다...'골프 여신' 유현주, 청바지 입고 뽐낸 '공격적 뒤태'    \n",
       "1   1           에스파 닝닝, 워너비 청바지 핏..연일 리즈 찍는 비주얼 [스타IN★]    \n",
       "2   2   ‘9살 연하♥’ 최지우, 49살 나이 믿기지 않는 러블리 미모 “청바지도 잘 어울려”    \n",
       "3   3                   56세 채시라, 흰티+청바지핏 20대 뺨쳐‥평생이 예쁘네    \n",
       "4   4                 ‘미스쓰리랑’ 김소연, 박상민과 ‘청바지 아가씨’ 즉석 화음    \n",
       "\n",
       "                                    link  \n",
       "0  http://v.daum.net/v/20241208200005828  \n",
       "1  http://v.daum.net/v/20241208001414598  \n",
       "2  http://v.daum.net/v/20241209183907649  \n",
       "3  http://v.daum.net/v/20241205102113139  \n",
       "4  http://v.daum.net/v/20241129012015847  "
      ]
     },
     "execution_count": 39,
     "metadata": {},
     "output_type": "execute_result"
    }
   ],
   "source": [
    "result0_df = pd.DataFrame(result0, columns=['no', 'title', 'link'])\n",
    "result1_df = pd.DataFrame(result1, columns=['번호', '제목', '링크'])\n",
    "result0_df.head()"
   ]
  },
  {
   "cell_type": "code",
   "execution_count": 40,
   "id": "b68a6a85",
   "metadata": {
    "ExecuteTime": {
     "end_time": "2024-12-10T00:35:33.351798Z",
     "start_time": "2024-12-10T00:35:33.314932Z"
    }
   },
   "outputs": [],
   "source": [
    "result0_df.to_csv('data/ch14_' + keywords[0] + '.csv', index=False)\n",
    "result1_df.to_csv('data/ch14_' + keywords[1] + '.csv', index=False)"
   ]
  },
  {
   "cell_type": "markdown",
   "id": "3b7e3e9e",
   "metadata": {},
   "source": [
    "### 4) 봇차단 우회를 위해 User-Agent를 추가하여 크롤링\n",
    " - 크롤링을 막는 사이트\n",
    " - https://www.melon.com/robots.txt 일부 경로에서 User-Agent에 봇이 지정"
   ]
  },
  {
   "cell_type": "code",
   "execution_count": 41,
   "id": "c7e3195f",
   "metadata": {
    "ExecuteTime": {
     "end_time": "2024-12-10T00:35:36.202796Z",
     "start_time": "2024-12-10T00:35:36.198797Z"
    }
   },
   "outputs": [],
   "source": [
    "# 방법1\n",
    "from urllib.request import urlopen\n",
    "from bs4 import BeautifulSoup\n",
    "url = 'https://www.melon.com/chart/'\n",
    "# melonpage = urlopen(url)  # 위에서의 response  # 에러"
   ]
  },
  {
   "cell_type": "code",
   "execution_count": 42,
   "id": "2628bd2c",
   "metadata": {
    "ExecuteTime": {
     "end_time": "2024-12-10T00:35:36.452475Z",
     "start_time": "2024-12-10T00:35:36.398511Z"
    }
   },
   "outputs": [
    {
     "data": {
      "text/plain": [
       "<Response [406]>"
      ]
     },
     "execution_count": 42,
     "metadata": {},
     "output_type": "execute_result"
    }
   ],
   "source": [
    "# 방법2\n",
    "import requests\n",
    "from bs4 import BeautifulSoup\n",
    "url = 'https://www.melon.com/chart/'\n",
    "melonpage = requests.get(url)\n",
    "melonpage\n",
    "# soup = BeautifulSoup(melonpage.text, 'html.parser')\n",
    "# soup"
   ]
  },
  {
   "cell_type": "code",
   "execution_count": 43,
   "id": "fb154a74",
   "metadata": {
    "ExecuteTime": {
     "end_time": "2024-12-10T00:35:37.392047Z",
     "start_time": "2024-12-10T00:35:36.632003Z"
    },
    "scrolled": true
   },
   "outputs": [
    {
     "name": "stdout",
     "output_type": "stream",
     "text": [
      "1위 | HOME SWEET HOME (feat. 태양, 대성) - G-DRAGON\n",
      "2위 | APT. - 로제 (ROSÉ), Bruno Mars\n",
      "3위 | Whiplash - aespa\n",
      "4위 | POWER - G-DRAGON\n",
      "5위 | 나는 반딧불 - 황가람\n",
      "6위 | HAPPY - DAY6 (데이식스)\n",
      "7위 | 첫 눈 - EXO\n",
      "8위 | UP (KARINA Solo) - aespa\n",
      "9위 | toxic till the end - 로제 (ROSÉ)\n",
      "10위 | 내 이름 맑음 - QWER\n",
      "11위 | 내게 사랑이 뭐냐고 물어본다면 - 로이킴\n",
      "12위 | 너와의 모든 지금 - 재쓰비 (JAESSBEE)\n",
      "13위 | Welcome to the Show - DAY6 (데이식스)\n",
      "14위 | Mantra - 제니 (JENNIE)\n",
      "15위 | 소나기 - 이클립스 (ECLIPSE)\n",
      "16위 | Supernova - aespa\n",
      "17위 | 한 페이지가 될 수 있게 - DAY6 (데이식스)\n",
      "18위 | Drowning - WOODZ\n",
      "19위 | 사랑은 늘 도망가 - 임영웅\n",
      "20위 | 어떻게 이별까지 사랑하겠어, 널 사랑하는 거지 - AKMU (악뮤)\n",
      "21위 | 천상연 - 이창섭\n",
      "22위 | number one girl - 로제 (ROSÉ)\n",
      "23위 | 슬픈 초대장 - 순순희(지환)\n",
      "24위 | Pump Up The Volume! - PLAVE\n",
      "25위 | 고민중독 - QWER\n",
      "26위 | 예뻤어 - DAY6 (데이식스)\n",
      "27위 | WAY 4 LUV - PLAVE\n",
      "28위 | Supersonic - 프로미스나인\n",
      "29위 | 우리들의 블루스 - 임영웅\n",
      "30위 | 온기 - 임영웅\n",
      "31위 | Love wins all - 아이유\n",
      "32위 | How Sweet - NewJeans\n",
      "33위 | Home - 임영웅\n",
      "34위 | Small girl (feat. 도경수(D.O.)) - 이영지\n",
      "35위 | All I Want for Christmas Is You - Mariah Carey\n",
      "36위 | 녹아내려요 - DAY6 (데이식스)\n",
      "37위 | 모래 알갱이 - 임영웅\n",
      "38위 | 첫 만남은 계획대로 되지 않아 - TWS (투어스)\n",
      "39위 | 다시 만날 수 있을까 - 임영웅\n",
      "40위 | Igloo - KISS OF LIFE\n",
      "41위 | 우리 영화 - PLAVE\n",
      "42위 | 나는 아픈 건 딱 질색이니까 - (여자)아이들\n",
      "43위 | 이제 나만 믿어요 - 임영웅\n",
      "44위 | 무지개 - 임영웅\n",
      "45위 | From - PLAVE\n",
      "46위 | Ditto - NewJeans\n",
      "47위 | 에피소드 - 이무진\n",
      "48위 | Do or Die - 임영웅\n",
      "49위 | 너의 모든 순간 - 성시경\n",
      "50위 | 그대만 있다면 (여름날 우리 X 너드커넥션 (Nerd Connection)) - 너드커넥션 (Nerd Connection)\n",
      "51위 | London Boy - 임영웅\n",
      "52위 | Polaroid - 임영웅\n",
      "53위 | 눈이 오잖아(Feat.헤이즈) - 이무진\n",
      "54위 | 무제(無題) (Untitled, 2014) - G-DRAGON\n",
      "55위 | Watch Me Woo! - PLAVE\n",
      "56위 | 청춘만화 - 이무진\n",
      "57위 | 비의 랩소디 - 임재현\n",
      "58위 | Armageddon - aespa\n",
      "59위 | 인생찬가 - 임영웅\n",
      "60위 | DRIP - BABYMONSTER\n",
      "61위 | Magnetic - 아일릿(ILLIT)\n",
      "62위 | 클락션 (Klaxon) - (여자)아이들\n",
      "63위 | Santa Tell Me - Ariana Grande\n",
      "64위 | 헤어지자 말해요 - 박재정\n",
      "65위 | 연애편지 - 임영웅\n",
      "66위 | Merry PLLIstmas - PLAVE\n",
      "67위 | 미안해 미워해 사랑해 - Crush\n",
      "68위 | Supernatural - NewJeans\n",
      "69위 | 버추얼 아이돌 - PLAVE\n",
      "70위 | 인사 - 범진\n",
      "71위 | 주저하는 연인들을 위해 - 잔나비\n",
      "72위 | Love 119 - RIIZE\n",
      "73위 | Sticky - KISS OF LIFE\n",
      "74위 | 다정히 내 이름을 부르면 - 경서예지, 전건호\n",
      "75위 | 모든 날, 모든 순간 (Every day, Every Moment) - 폴킴\n",
      "76위 | 미리 메리 크리스마스 (Feat. 천둥 Of MBLAQ) - 아이유\n",
      "77위 | 청혼하지 않을 이유를 못 찾았어 - 이무진\n",
      "78위 | 네모네모 - YENA (최예나)\n",
      "79위 | Congratulations - DAY6 (데이식스)\n",
      "80위 | 보금자리 - 임영웅\n",
      "81위 | Seven (feat. Latto) - Clean Ver. - 정국\n",
      "82위 | SPOT! (feat. JENNIE) - 지코 (ZICO)\n",
      "83위 | Letter To Myself - 태연 (TAEYEON)\n",
      "84위 | Hype Boy - NewJeans\n",
      "85위 | 해야 (HEYA) - IVE (아이브)\n",
      "86위 | I AM - IVE (아이브)\n",
      "87위 | Snowman - Sia\n",
      "88위 | Cherish (My Love) - 아일릿(ILLIT)\n",
      "89위 | To. X - 태연 (TAEYEON)\n",
      "90위 | 크리스마스니까 - 성시경, 박효신, 이석훈, 서인국, VIXX (빅스)\n",
      "91위 | 사랑인가 봐 - 멜로망스\n",
      "92위 | 사건의 지평선 - 윤하 (YOUNHA)\n",
      "93위 | Bubble Gum - NewJeans\n",
      "94위 | Boom Boom Bass - RIIZE\n",
      "95위 | 취중고백 - 김민석\n",
      "96위 | Drama - aespa\n",
      "97위 | 사막에서 꽃을 피우듯 - 우디 (Woody)\n",
      "98위 | 봄날 - 방탄소년단\n",
      "99위 | Dynamite - 방탄소년단\n",
      "100위 | LOVE, MONEY, FAME (feat. DJ Khaled) - 세븐틴 (SEVENTEEN)\n"
     ]
    }
   ],
   "source": [
    "# User-Agent를 추가\n",
    "import requests\n",
    "from bs4 import BeautifulSoup\n",
    "url = 'https://www.melon.com/chart/'\n",
    "headers = {'user-agent' : \n",
    "           'Mozilla/5.0 (Windows NT 10.0; Win64; x64) AppleWebKit/537.36 (KHTML, like Gecko) Chrome/131.0.0.0 Safari/537.36'}\n",
    "melonpage = requests.get(url, headers=headers)\n",
    "# melonpage  # <Response [200]>\n",
    "soup = BeautifulSoup(melonpage.text,  # melonpage.content\n",
    "                     'html.parser')\n",
    "# soup\n",
    "title_els = soup.select('div.ellipsis.rank01 > span > a')\n",
    "# [t.text.strip() for t in title_els]  # .strip() : enter 삭제를 위해\n",
    "singer_els = soup.select('div.ellipsis.rank02 > span.checkEllipsis')\n",
    "# [s.text for s in singer_els]\n",
    "\n",
    "# 1위 : HOME SWEET HOME (feat. 태양, 대성) | 지드래곤\n",
    "# for idx in range(len(title_els)):\n",
    "#     print('{}위 | {} - {}'.format(idx+1, title_els[idx].text.strip(), singer_els[idx].text))\n",
    "for idx, (title_el, singer_el) in enumerate(zip(title_els, singer_els)):\n",
    "    # print(idx+1, title_el.text.strip(), '|', singer_el.text)\n",
    "    print('{}위 | {} - {}'.format(idx+1, title_el.text.strip(), singer_el.text))"
   ]
  },
  {
   "cell_type": "markdown",
   "id": "f28a6498",
   "metadata": {},
   "source": [
    "### 5) 네이버 지식인으로 검색(open API 사용 X)\n",
    " - 특정 keyword를 특정 페이지 수(3) 만큼"
   ]
  },
  {
   "cell_type": "code",
   "execution_count": 44,
   "id": "d60c6407",
   "metadata": {
    "ExecuteTime": {
     "end_time": "2024-12-10T00:35:40.642371Z",
     "start_time": "2024-12-10T00:35:40.509306Z"
    },
    "scrolled": true
   },
   "outputs": [
    {
     "name": "stdout",
     "output_type": "stream",
     "text": [
      "https://kin.naver.com/search/list.naver?query=%EC%B3%87%EC%A7%80%ED%94%BC%ED%8B%B0\n",
      "200\n"
     ]
    }
   ],
   "source": [
    "# 방법1\n",
    "# import urllib.request.urlopen as urlopen\n",
    "from urllib.request import urlopen\n",
    "from urllib.parse import quote\n",
    "keyword = quote('쳇지피티')\n",
    "# '쳇지피티' => %EC%B3%87%EC%A7%80%ED%94%BC%ED%8B%B0 (url 인코딩 방식으로 전환)\n",
    "url = f'https://kin.naver.com/search/list.naver?query={keyword}'\n",
    "print(url)\n",
    "response = urlopen(url)\n",
    "print(response.status)"
   ]
  },
  {
   "cell_type": "code",
   "execution_count": 45,
   "id": "1960c0e3",
   "metadata": {
    "ExecuteTime": {
     "end_time": "2024-12-10T00:35:40.981035Z",
     "start_time": "2024-12-10T00:35:40.838002Z"
    }
   },
   "outputs": [
    {
     "name": "stdout",
     "output_type": "stream",
     "text": [
      "https://kin.naver.com/search/list.naver?query=쳇지피티\n",
      "200\n"
     ]
    }
   ],
   "source": [
    "# 방법2\n",
    "from requests import get\n",
    "keyword = '쳇지피티'\n",
    "url = f'https://kin.naver.com/search/list.naver?query={keyword}'\n",
    "print(url)\n",
    "response = get(url)\n",
    "print(response.status_code)"
   ]
  },
  {
   "cell_type": "code",
   "execution_count": 46,
   "id": "94ddb007",
   "metadata": {
    "ExecuteTime": {
     "end_time": "2024-12-10T00:35:43.043313Z",
     "start_time": "2024-12-10T00:35:42.518391Z"
    }
   },
   "outputs": [
    {
     "data": {
      "text/html": [
       "<div>\n",
       "<style scoped>\n",
       "    .dataframe tbody tr th:only-of-type {\n",
       "        vertical-align: middle;\n",
       "    }\n",
       "\n",
       "    .dataframe tbody tr th {\n",
       "        vertical-align: top;\n",
       "    }\n",
       "\n",
       "    .dataframe thead th {\n",
       "        text-align: right;\n",
       "    }\n",
       "</style>\n",
       "<table border=\"1\" class=\"dataframe\">\n",
       "  <thead>\n",
       "    <tr style=\"text-align: right;\">\n",
       "      <th></th>\n",
       "      <th>title</th>\n",
       "      <th>link</th>\n",
       "    </tr>\n",
       "  </thead>\n",
       "  <tbody>\n",
       "    <tr>\n",
       "      <th>0</th>\n",
       "      <td>쳇지피티 이거 뭐예요?해킹 뭐그런거...</td>\n",
       "      <td>https://kin.naver.com/qna/detail.naver?d1id=1&amp;...</td>\n",
       "    </tr>\n",
       "    <tr>\n",
       "      <th>1</th>\n",
       "      <td>제가 직접 쓴 자소서 쳇지피티</td>\n",
       "      <td>https://kin.naver.com/qna/detail.naver?d1id=4&amp;...</td>\n",
       "    </tr>\n",
       "    <tr>\n",
       "      <th>2</th>\n",
       "      <td>쳇지피티 수식답변 오류</td>\n",
       "      <td>https://kin.naver.com/qna/detail.naver?d1id=1&amp;...</td>\n",
       "    </tr>\n",
       "    <tr>\n",
       "      <th>3</th>\n",
       "      <td>쳇지피티 화면 이상</td>\n",
       "      <td>https://kin.naver.com/qna/detail.naver?d1id=1&amp;...</td>\n",
       "    </tr>\n",
       "    <tr>\n",
       "      <th>4</th>\n",
       "      <td>쳇지피티 뤼튼</td>\n",
       "      <td>https://kin.naver.com/qna/detail.naver?d1id=8&amp;...</td>\n",
       "    </tr>\n",
       "  </tbody>\n",
       "</table>\n",
       "</div>"
      ],
      "text/plain": [
       "                     title                                               link\n",
       "0  쳇지피티 이거 뭐예요?해킹 뭐그런거...   https://kin.naver.com/qna/detail.naver?d1id=1&...\n",
       "1         제가 직접 쓴 자소서 쳇지피티  https://kin.naver.com/qna/detail.naver?d1id=4&...\n",
       "2             쳇지피티 수식답변 오류  https://kin.naver.com/qna/detail.naver?d1id=1&...\n",
       "3               쳇지피티 화면 이상  https://kin.naver.com/qna/detail.naver?d1id=1&...\n",
       "4                  쳇지피티 뤼튼  https://kin.naver.com/qna/detail.naver?d1id=8&..."
      ]
     },
     "execution_count": 46,
     "metadata": {},
     "output_type": "execute_result"
    }
   ],
   "source": [
    "# 페이징 포함\n",
    "keyword = '쳇지피티'\n",
    "pages = 3\n",
    "items_list = []  # 크롤링한 데이터를 담을 list\n",
    "for page in range(1, pages+1):\n",
    "    # print(page)\n",
    "    url = f'https://kin.naver.com/search/list.naver?query={keyword}&page={page}'\n",
    "    # print(url, page)\n",
    "    \n",
    "    # 글 제목과 link를 가져와서 items_list에 append\n",
    "    response = requests.get(url)\n",
    "    # print(response)\n",
    "    soup = BeautifulSoup(response.text, 'html.parser')\n",
    "    # print(soup)\n",
    "    items = soup.select('ul.basic1 > li > dl > dt > a')\n",
    "    # print(len(items))\n",
    "    # print([item.text for item in items])\n",
    "    \n",
    "    for item in items:\n",
    "        # items_list.append({'title' : item.text,\n",
    "        #                    'link' : item.attrs['href']})\n",
    "        items_list.append([item.text, item['href']])\n",
    "    \n",
    "pd.DataFrame(items_list, columns=['title', 'link']).head()"
   ]
  },
  {
   "cell_type": "code",
   "execution_count": 47,
   "id": "2a66fcc4",
   "metadata": {
    "ExecuteTime": {
     "end_time": "2024-12-10T00:35:43.538551Z",
     "start_time": "2024-12-10T00:35:43.046313Z"
    }
   },
   "outputs": [
    {
     "name": "stdout",
     "output_type": "stream",
     "text": [
      "(30, 2)\n"
     ]
    },
    {
     "data": {
      "text/html": [
       "<div>\n",
       "<style scoped>\n",
       "    .dataframe tbody tr th:only-of-type {\n",
       "        vertical-align: middle;\n",
       "    }\n",
       "\n",
       "    .dataframe tbody tr th {\n",
       "        vertical-align: top;\n",
       "    }\n",
       "\n",
       "    .dataframe thead th {\n",
       "        text-align: right;\n",
       "    }\n",
       "</style>\n",
       "<table border=\"1\" class=\"dataframe\">\n",
       "  <thead>\n",
       "    <tr style=\"text-align: right;\">\n",
       "      <th></th>\n",
       "      <th>title</th>\n",
       "      <th>link</th>\n",
       "    </tr>\n",
       "  </thead>\n",
       "  <tbody>\n",
       "    <tr>\n",
       "      <th>0</th>\n",
       "      <td>쳇지피티 이거 뭐예요?해킹 뭐그런거...</td>\n",
       "      <td>https://kin.naver.com/qna/detail.naver?d1id=1&amp;...</td>\n",
       "    </tr>\n",
       "    <tr>\n",
       "      <th>1</th>\n",
       "      <td>제가 직접 쓴 자소서 쳇지피티</td>\n",
       "      <td>https://kin.naver.com/qna/detail.naver?d1id=4&amp;...</td>\n",
       "    </tr>\n",
       "    <tr>\n",
       "      <th>2</th>\n",
       "      <td>쳇지피티 수식답변 오류</td>\n",
       "      <td>https://kin.naver.com/qna/detail.naver?d1id=1&amp;...</td>\n",
       "    </tr>\n",
       "    <tr>\n",
       "      <th>3</th>\n",
       "      <td>쳇지피티 화면 이상</td>\n",
       "      <td>https://kin.naver.com/qna/detail.naver?d1id=1&amp;...</td>\n",
       "    </tr>\n",
       "    <tr>\n",
       "      <th>4</th>\n",
       "      <td>쳇지피티 뤼튼</td>\n",
       "      <td>https://kin.naver.com/qna/detail.naver?d1id=8&amp;...</td>\n",
       "    </tr>\n",
       "  </tbody>\n",
       "</table>\n",
       "</div>"
      ],
      "text/plain": [
       "                     title                                               link\n",
       "0  쳇지피티 이거 뭐예요?해킹 뭐그런거...   https://kin.naver.com/qna/detail.naver?d1id=1&...\n",
       "1         제가 직접 쓴 자소서 쳇지피티  https://kin.naver.com/qna/detail.naver?d1id=4&...\n",
       "2             쳇지피티 수식답변 오류  https://kin.naver.com/qna/detail.naver?d1id=1&...\n",
       "3               쳇지피티 화면 이상  https://kin.naver.com/qna/detail.naver?d1id=1&...\n",
       "4                  쳇지피티 뤼튼  https://kin.naver.com/qna/detail.naver?d1id=8&..."
      ]
     },
     "execution_count": 47,
     "metadata": {},
     "output_type": "execute_result"
    }
   ],
   "source": [
    "# 페이징 포함\n",
    "keyword = '쳇지피티'\n",
    "pages = 3\n",
    "items_list = []  # 크롤링한 데이터를 담을 list\n",
    "for page in range(1, pages+1):\n",
    "    # print(page)\n",
    "    url = f'https://kin.naver.com/search/list.naver?query={keyword}&page={page}'\n",
    "    # print(url, page)\n",
    "    \n",
    "    # 글 제목과 link를 가져와서 items_list에 append\n",
    "    response = requests.get(url)\n",
    "    soup = BeautifulSoup(response.text, 'html.parser')\n",
    "    dt_els = soup.find_all('dt')\n",
    "    \n",
    "    for dt_el in dt_els:\n",
    "        item = dt_el.find('a')\n",
    "        items_list.append({'title' : item.text,\n",
    "                           'link' : item.attrs['href']})\n",
    "        # items_list.append([item.text, item['href']])\n",
    "        \n",
    "df = pd.DataFrame(items_list, columns=['title', 'link'])\n",
    "print(df.shape)\n",
    "df.head()"
   ]
  },
  {
   "cell_type": "markdown",
   "id": "4ab4903f",
   "metadata": {},
   "source": [
    "### 6) 네이버 지식인으로 검색(open API 사용 O)\n",
    " - 특정 keyword를 특정 여러 데이터(ex.30)만큼"
   ]
  },
  {
   "cell_type": "code",
   "execution_count": 48,
   "id": "96457d44",
   "metadata": {
    "ExecuteTime": {
     "end_time": "2024-12-10T00:35:45.418722Z",
     "start_time": "2024-12-10T00:35:45.305843Z"
    }
   },
   "outputs": [
    {
     "name": "stdout",
     "output_type": "stream",
     "text": [
      "{\n",
      "\t\"lastBuildDate\":\"Tue, 10 Dec 2024 09:35:46 +0900\",\n",
      "\t\"total\":1166,\n",
      "\t\"start\":1,\n",
      "\t\"display\":10,\n",
      "\t\"items\":[\n",
      "\t\t{\n",
      "\t\t\t\"title\":\"<b>쳇지피티<\\/b> 이거 뭐예요?해킹 뭐그런거 당하는거 아니죠?\",\n",
      "\t\t\t\"link\":\"https:\\/\\/kin.naver.com\\/qna\\/detail.naver?d1id=1&dirId=11001&docId=476675623&qb=7LOH7KeA7ZS87Yuw&enc=utf8&section=kin.qna&rank=1&search_sort=0&spq=0\",\n",
      "\t\t\t\"description\":\"아니 제가 크롬을 쓰는데 자꾸 <b>쳇지피티<\\/b>가 한글번역도 이상하게 되고 말도 끊기는 거예요ㅜ 그래서 제가 너 자구 오류뜬다고! 라고 보냈더니 너 자구 어쩌지 지구 어쩌구 이렇게 지혼자서 번역이 되더니 갑자기 저렇게 떴어요ㅜㅜㅜ 막... \"\n",
      "\t\t},\n",
      "\t\t{\n",
      "\t\t\t\"title\":\"제가 직접 쓴 자소서 <b>쳇지피티<\\/b>\",\n",
      "\t\t\t\"link\":\"https:\\/\\/kin.naver.com\\/qna\\/detail.naver?d1id=4&dirId=406&docId=478038913&qb=7LOH7KeA7ZS87Yuw&enc=utf8&section=kin.qna&rank=2&search_sort=0&spq=0\",\n",
      "\t\t\t\"description\":\"제가 직접 제 이야기로 자소서를 쓰고 <b>쳇지피티<\\/b>한테 보내고 지피티가 수정해준 내용 참고용으로 보고, 괜찮은 부분은... <b>쳇지피티<\\/b> 돌리면..... 제가 쓴 문맥이 그대로인 부분도 있어서 그냥 복붙하게 되는 항목도 생기는데ㅠ <b>쳇지피티<\\/b>... \"\n",
      "\t\t},\n",
      "\t\t{\n",
      "\t\t\t\"title\":\"<b>쳇지피티<\\/b> 수식답변 오류\",\n",
      "\t\t\t\"link\":\"https:\\/\\/kin.naver.com\\/qna\\/detail.naver?d1id=1&dirId=102&docId=470298812&qb=7LOH7KeA7ZS87Yuw&enc=utf8&section=kin.qna&rank=3&search_sort=0&spq=0\",\n",
      "\t\t\t\"description\":\"<b>쳇지피티<\\/b> 4o사용 중인데 원래는 수식 관련 질문하면 코드로 만들로 자동으로 변환해서 보여줬ㄴ는데 갑자기 그냥 코드만 나오는데 어떻게 해야하나요?? gpt 답이 정해진 것이 아니기 때문에 다르게 나타날 수 있습니다. 이전에 코드를... \"\n",
      "\t\t},\n",
      "\t\t{\n",
      "\t\t\t\"title\":\"<b>쳇지피티<\\/b> 화면 이상\",\n",
      "\t\t\t\"link\":\"https:\\/\\/kin.naver.com\\/qna\\/detail.naver?d1id=1&dirId=10303&docId=478699110&qb=7LOH7KeA7ZS87Yuw&enc=utf8&section=kin.qna&rank=4&search_sort=0&spq=0\",\n",
      "\t\t\t\"description\":\"어느 날 부터 <b>쳇지피티<\\/b> 화면이 아래와 같이 이상하게 보입니다.ㅠㅠ 해결 방법이 있을까요?? 오픈채팅방으로 질문 주시면 신속하게 매니저들이 답변해 드림니다 크롬 설정에 자바스크립트 사용 활성화 부분 찾아보세요.\"\n",
      "\t\t},\n",
      "\t\t{\n",
      "\t\t\t\"title\":\"<b>쳇지피티<\\/b> 뤼튼\",\n",
      "\t\t\t\"link\":\"https:\\/\\/kin.naver.com\\/qna\\/detail.naver?d1id=8&dirId=814&docId=446173506&qb=7LOH7KeA7ZS87Yuw&enc=utf8&section=kin.qna&rank=5&search_sort=0&spq=0\",\n",
      "\t\t\t\"description\":\"뤼튼이 <b>쳇지피티<\\/b> 인가요? 아니면 유사 ai인가요? 뤼튼은 챗GPT와 유사한 AI 기반의 콘텐츠 생성 플랫폼이지만, 두 기술은 약간의 차이가 있습니다. 챗GPT는 대화 생성 및 질의응답에 특화된 반면, 뤼튼은 주로 텍스트 생성, 요약, 번역... \"\n",
      "\t\t},\n",
      "\t\t{\n",
      "\t\t\t\"title\":\"휴대폰 앱으로 <b>쳇지피티<\\/b> 4.0버전 사용할수 있나요?\",\n",
      "\t\t\t\"link\":\"https:\\/\\/kin.naver.com\\/qna\\/detail.naver?d1id=11&dirId=110811&docId=453413531&qb=7LOH7KeA7ZS87Yuw&enc=utf8&section=kin.qna&rank=6&search_sort=0&spq=0\",\n",
      "\t\t\t\"description\":\"<b>쳇지피티<\\/b> 4.0한국어버전을 폰 앱에서 사용할수 있는 방법을 알려주세요 죄송하지만, 저는 <b>쳇지피티<\\/b> 4.0 버전에 대한 정보를 가지고 있지 않습니다. <b>쳇지피티<\\/b> 4.0 한국어 버전을 폰 앱에서 사용할 수 있는 방법에 대해서는 해당 앱의 공식... \"\n",
      "\t\t},\n",
      "\t\t{\n",
      "\t\t\t\"title\":\"<b>쳇지피티<\\/b> 댓글\",\n",
      "\t\t\t\"link\":\"https:\\/\\/kin.naver.com\\/qna\\/detail.naver?d1id=8&dirId=814&docId=478784560&qb=7LOH7KeA7ZS87Yuw&enc=utf8&section=kin.qna&rank=7&search_sort=0&spq=0\",\n",
      "\t\t\t\"description\":\"이거 이런 식으로 댓글 달리는거 <b>쳇지피티<\\/b>에서 찾은건가요? 저런거 딱봐도 질문 복붙해서 gpt한테 물어보고 답변 복붙한거네요.\"\n",
      "\t\t},\n",
      "\t\t{\n",
      "\t\t\t\"title\":\"솔직히 과제 <b>쳇지피티<\\/b> 모르죠?\",\n",
      "\t\t\t\"link\":\"https:\\/\\/kin.naver.com\\/qna\\/detail.naver?d1id=11&dirId=11080102&docId=477542882&qb=7LOH7KeA7ZS87Yuw&enc=utf8&section=kin.qna&rank=8&search_sort=0&spq=0\",\n",
      "\t\t\t\"description\":\"쌤들이 자꾸 <b>쳇지피티<\\/b> 쓰면 다잡아서 점수 낮게준다던데 그걸 어떻게 구별해요? 그냥 단어몇개 자기수준의 어휘로 고치면 절대 못찾을거같은데 그냥 겁주려고 하는거 맞죠? 아니면 따로 찾는 방법이 있는건가 교사들이 AI 사용을... \"\n",
      "\t\t},\n",
      "\t\t{\n",
      "\t\t\t\"title\":\"<b>쳇지피티<\\/b> 회원가입\",\n",
      "\t\t\t\"link\":\"https:\\/\\/kin.naver.com\\/qna\\/detail.naver?d1id=1&dirId=1060106&docId=448605203&qb=7LOH7KeA7ZS87Yuw&enc=utf8&section=kin.qna&rank=9&search_sort=0&spq=0\",\n",
      "\t\t\t\"description\":\"<b>쳇 지피티<\\/b> 회원가입을 할려는데 이렇게 떠요 어떻해야 되요? 그리고 미성년자도 <b>쳇지피티<\\/b> 할 수 있나요? 지식인이랑 블로그 망치지 마시길 바라면 글을 남깁니다. <b>쳇지피티<\\/b> 회원가입을 하려면 다음과 같은 절차를 따르시면 됩니다.... \"\n",
      "\t\t},\n",
      "\t\t{\n",
      "\t\t\t\"title\":\"<b>쳇지피티<\\/b> 스마트폰에서 사용 방법을 알려주세요?\",\n",
      "\t\t\t\"link\":\"https:\\/\\/kin.naver.com\\/qna\\/detail.naver?d1id=1&dirId=1060101&docId=453478743&qb=7LOH7KeA7ZS87Yuw&enc=utf8&section=kin.qna&rank=10&search_sort=0&spq=0\",\n",
      "\t\t\t\"description\":\"스마트폰에서 <b>쳇지피티<\\/b> 어떻게 사용해요? 그래요, 맞아요! 스마트폰에서 <b>쳇지피티<\\/b>를 사용하는 방법을 알려드릴게요. 먼저, 스마트폰의 앱 스토어에서 <b>쳇지피티<\\/b> 앱을 다운로드해야 해요. 앱 스토어에 들어가서 '<b>쳇지피티<\\/b>'라고 검색하면... \"\n",
      "\t\t}\n",
      "\t]\n",
      "}\n"
     ]
    }
   ],
   "source": [
    "# 네이버 검색 API 예제 - 블로그 검색\n",
    "import os\n",
    "import sys\n",
    "import urllib.request\n",
    "client_id = \"RgKYwTbMqCx5s9yGYqsT\"\n",
    "client_secret = \"1INoZ2YkcD\"\n",
    "encText = urllib.parse.quote(\"쳇지피티\")\n",
    "url = \"https://openapi.naver.com/v1/search/kin.json?query=\" + encText # JSON 결과\n",
    "# url = \"https://openapi.naver.com/v1/search/kin.xml?query=\" + encText # XML 결과\n",
    "request = urllib.request.Request(url)\n",
    "request.add_header(\"X-Naver-Client-Id\",client_id)\n",
    "request.add_header(\"X-Naver-Client-Secret\",client_secret)\n",
    "response = urllib.request.urlopen(request)\n",
    "rescode = response.getcode()\n",
    "if(rescode==200):\n",
    "    response_body = response.read()\n",
    "    print(response_body.decode('utf-8'))\n",
    "else:\n",
    "    print(\"Error Code:\" + rescode)"
   ]
  },
  {
   "cell_type": "code",
   "execution_count": 49,
   "id": "c00e4db6",
   "metadata": {
    "ExecuteTime": {
     "end_time": "2024-12-10T00:35:48.400129Z",
     "start_time": "2024-12-10T00:35:48.293845Z"
    }
   },
   "outputs": [
    {
     "name": "stdout",
     "output_type": "stream",
     "text": [
      "{\n",
      "\t\"lastBuildDate\":\"Tue, 10 Dec 2024 09:35:49 +090\n"
     ]
    }
   ],
   "source": [
    "# 네이버 검색 API 예제 - 블로그 검색\n",
    "import os\n",
    "import sys\n",
    "import urllib.request\n",
    "client_id = \"RgKYwTbMqCx5s9yGYqsT\"\n",
    "client_secret = \"1INoZ2YkcD\"\n",
    "encText = urllib.parse.quote(\"쳇지피티\")\n",
    "url = \"https://openapi.naver.com/v1/search/kin.json?query=\" + encText # JSON 결과\n",
    "# url = \"https://openapi.naver.com/v1/search/kin.xml?query=\" + encText # XML 결과\n",
    "request = urllib.request.Request(url)\n",
    "request.add_header(\"X-Naver-Client-Id\",client_id)\n",
    "request.add_header(\"X-Naver-Client-Secret\",client_secret)\n",
    "response = urllib.request.urlopen(request)\n",
    "rescode = response.getcode()\n",
    "if(rescode==200):\n",
    "    response_body = response.read()\n",
    "    print(response_body.decode('utf-8')[:50])\n",
    "else:\n",
    "    print(\"Error Code:\" + rescode)"
   ]
  },
  {
   "cell_type": "code",
   "execution_count": 50,
   "id": "fc47c246",
   "metadata": {
    "ExecuteTime": {
     "end_time": "2024-12-10T00:35:48.599047Z",
     "start_time": "2024-12-10T00:35:48.477719Z"
    }
   },
   "outputs": [
    {
     "data": {
      "text/html": [
       "<div>\n",
       "<style scoped>\n",
       "    .dataframe tbody tr th:only-of-type {\n",
       "        vertical-align: middle;\n",
       "    }\n",
       "\n",
       "    .dataframe tbody tr th {\n",
       "        vertical-align: top;\n",
       "    }\n",
       "\n",
       "    .dataframe thead th {\n",
       "        text-align: right;\n",
       "    }\n",
       "</style>\n",
       "<table border=\"1\" class=\"dataframe\">\n",
       "  <thead>\n",
       "    <tr style=\"text-align: right;\">\n",
       "      <th></th>\n",
       "      <th>title</th>\n",
       "      <th>link</th>\n",
       "      <th>description</th>\n",
       "    </tr>\n",
       "  </thead>\n",
       "  <tbody>\n",
       "    <tr>\n",
       "      <th>0</th>\n",
       "      <td>쳇지피티 이거 뭐예요?해킹 뭐그런거 당하는거 아니죠?</td>\n",
       "      <td>https://kin.naver.com/qna/detail.naver?d1id=1&amp;...</td>\n",
       "      <td>아니 제가 크롬을 쓰는데 자꾸 쳇지피</td>\n",
       "    </tr>\n",
       "    <tr>\n",
       "      <th>1</th>\n",
       "      <td>제가 직접 쓴 자소서 쳇지피티</td>\n",
       "      <td>https://kin.naver.com/qna/detail.naver?d1id=4&amp;...</td>\n",
       "      <td>제가 직접 제 이야기로 자소서를 쓰고</td>\n",
       "    </tr>\n",
       "    <tr>\n",
       "      <th>2</th>\n",
       "      <td>쳇지피티 수식답변 오류</td>\n",
       "      <td>https://kin.naver.com/qna/detail.naver?d1id=1&amp;...</td>\n",
       "      <td>쳇지피티 4o사용 중인데 원래는 수식</td>\n",
       "    </tr>\n",
       "    <tr>\n",
       "      <th>3</th>\n",
       "      <td>쳇지피티 화면 이상</td>\n",
       "      <td>https://kin.naver.com/qna/detail.naver?d1id=1&amp;...</td>\n",
       "      <td>어느 날 부터 쳇지피티 화면이 아래와</td>\n",
       "    </tr>\n",
       "    <tr>\n",
       "      <th>4</th>\n",
       "      <td>쳇지피티 뤼튼</td>\n",
       "      <td>https://kin.naver.com/qna/detail.naver?d1id=8&amp;...</td>\n",
       "      <td>뤼튼이 쳇지피티 인가요? 아니면 유사</td>\n",
       "    </tr>\n",
       "    <tr>\n",
       "      <th>5</th>\n",
       "      <td>휴대폰 앱으로 쳇지피티 4.0버전 사용할수 있나요?</td>\n",
       "      <td>https://kin.naver.com/qna/detail.naver?d1id=11...</td>\n",
       "      <td>쳇지피티 4.0한국어버전을 폰 앱에서</td>\n",
       "    </tr>\n",
       "    <tr>\n",
       "      <th>6</th>\n",
       "      <td>쳇지피티 댓글</td>\n",
       "      <td>https://kin.naver.com/qna/detail.naver?d1id=8&amp;...</td>\n",
       "      <td>이거 이런 식으로 댓글 달리는거 쳇지</td>\n",
       "    </tr>\n",
       "    <tr>\n",
       "      <th>7</th>\n",
       "      <td>솔직히 과제 쳇지피티 모르죠?</td>\n",
       "      <td>https://kin.naver.com/qna/detail.naver?d1id=11...</td>\n",
       "      <td>쌤들이 자꾸 쳇지피티 쓰면 다잡아서</td>\n",
       "    </tr>\n",
       "    <tr>\n",
       "      <th>8</th>\n",
       "      <td>쳇지피티 회원가입</td>\n",
       "      <td>https://kin.naver.com/qna/detail.naver?d1id=1&amp;...</td>\n",
       "      <td>쳇 지피티 회원가입을 할려는데 이렇게</td>\n",
       "    </tr>\n",
       "    <tr>\n",
       "      <th>9</th>\n",
       "      <td>쳇지피티 스마트폰에서 사용 방법을 알려주세요?</td>\n",
       "      <td>https://kin.naver.com/qna/detail.naver?d1id=1&amp;...</td>\n",
       "      <td>스마트폰에서 쳇지피티 어떻게 사용해요</td>\n",
       "    </tr>\n",
       "    <tr>\n",
       "      <th>10</th>\n",
       "      <td>쳇지피티 계정 삭제하면 구독 끝나요?</td>\n",
       "      <td>https://kin.naver.com/qna/detail.naver?d1id=4&amp;...</td>\n",
       "      <td>안녕하세요 제가 아는 분 쳇지피티를</td>\n",
       "    </tr>\n",
       "    <tr>\n",
       "      <th>11</th>\n",
       "      <td>쳇지피티 이용해서 생기부</td>\n",
       "      <td>https://kin.naver.com/qna/detail.naver?d1id=11...</td>\n",
       "      <td>제가 교과 세특에 써질 보고서를 작성</td>\n",
       "    </tr>\n",
       "    <tr>\n",
       "      <th>12</th>\n",
       "      <td>쳇지피티(쳇gpt)를 규제해야한다</td>\n",
       "      <td>https://kin.naver.com/qna/detail.naver?d1id=7&amp;...</td>\n",
       "      <td>쳇지피티(쳇gpt)를 규제해야한다 찬</td>\n",
       "    </tr>\n",
       "    <tr>\n",
       "      <th>13</th>\n",
       "      <td>쳇지피티 영수증</td>\n",
       "      <td>https://kin.naver.com/qna/detail.naver?d1id=4&amp;...</td>\n",
       "      <td>법카로 쳇지피티 결제햇는데 결제영수증</td>\n",
       "    </tr>\n",
       "    <tr>\n",
       "      <th>14</th>\n",
       "      <td>쳇지피티 말 바꿈</td>\n",
       "      <td>https://kin.naver.com/qna/detail.naver?d1id=1&amp;...</td>\n",
       "      <td>너무 답답하고 저 같은 현상 겪으신</td>\n",
       "    </tr>\n",
       "    <tr>\n",
       "      <th>15</th>\n",
       "      <td>쳇지피티 사용량 상한</td>\n",
       "      <td>https://kin.naver.com/qna/detail.naver?d1id=6&amp;...</td>\n",
       "      <td>쳇 지피티를 4버전을 결제하여 사용하</td>\n",
       "    </tr>\n",
       "    <tr>\n",
       "      <th>16</th>\n",
       "      <td>쳇지피티 무슨앱</td>\n",
       "      <td>https://kin.naver.com/qna/detail.naver?d1id=1&amp;...</td>\n",
       "      <td>쳇지피티로 다들 숙제하던데 무슴앱 깔</td>\n",
       "    </tr>\n",
       "    <tr>\n",
       "      <th>17</th>\n",
       "      <td>스마트폰에서 쳇지피티 한국어로 사용하기 좋은 앱...</td>\n",
       "      <td>https://kin.naver.com/qna/detail.naver?d1id=1&amp;...</td>\n",
       "      <td>한국어로 사용하기 좋은 쳇지피티 앱을</td>\n",
       "    </tr>\n",
       "    <tr>\n",
       "      <th>18</th>\n",
       "      <td>쳇지피티 논문 출처</td>\n",
       "      <td>https://kin.naver.com/qna/detail.naver?d1id=4&amp;...</td>\n",
       "      <td>쳇지피티한테 어떤 내용에 관한 논문을</td>\n",
       "    </tr>\n",
       "    <tr>\n",
       "      <th>19</th>\n",
       "      <td>쳇지피티 사용 느낌을 알려주세요 얼마나 정확하다고...</td>\n",
       "      <td>https://kin.naver.com/qna/detail.naver?d1id=1&amp;...</td>\n",
       "      <td>쳇지피티 답변 어느정도 만족들 하세요</td>\n",
       "    </tr>\n",
       "    <tr>\n",
       "      <th>20</th>\n",
       "      <td>유튜브 채널 이름 추천 (쳇지피티 제외)</td>\n",
       "      <td>https://kin.naver.com/qna/detail.naver?d1id=1&amp;...</td>\n",
       "      <td>유튜브 채널을 가입하려고 하는데 이름</td>\n",
       "    </tr>\n",
       "    <tr>\n",
       "      <th>21</th>\n",
       "      <td>대학 과제 쳇지피티 저작권</td>\n",
       "      <td>https://kin.naver.com/qna/detail.naver?d1id=6&amp;...</td>\n",
       "      <td>대학 과제 인터넷 같은거 좀 많이 보</td>\n",
       "    </tr>\n",
       "    <tr>\n",
       "      <th>22</th>\n",
       "      <td>쳇지피티 이거 왜이래요</td>\n",
       "      <td>https://kin.naver.com/qna/detail.naver?d1id=8&amp;...</td>\n",
       "      <td>고치는 방법좀 알려주세요 다시하기누르</td>\n",
       "    </tr>\n",
       "    <tr>\n",
       "      <th>23</th>\n",
       "      <td>쳇지피티 는 일반적 원론적 답변만 할수 있도록...</td>\n",
       "      <td>https://kin.naver.com/qna/detail.naver?d1id=1&amp;...</td>\n",
       "      <td>쳇지피티 아주 원론적 일반론적 답변만</td>\n",
       "    </tr>\n",
       "    <tr>\n",
       "      <th>24</th>\n",
       "      <td>쳇지피티가 안됩니다 쳇지피티 사이트</td>\n",
       "      <td>https://kin.naver.com/qna/detail.naver?d1id=1&amp;...</td>\n",
       "      <td>쳇지피티가 안됩니다 쳇지피티 사이트</td>\n",
       "    </tr>\n",
       "    <tr>\n",
       "      <th>25</th>\n",
       "      <td>쳇지피티 개발자모드 키는법</td>\n",
       "      <td>https://kin.naver.com/qna/detail.naver?d1id=1&amp;...</td>\n",
       "      <td>인터넷에 있는거 다 해봤는데 혹시 막</td>\n",
       "    </tr>\n",
       "    <tr>\n",
       "      <th>26</th>\n",
       "      <td>구글 쳇지피티</td>\n",
       "      <td>https://kin.naver.com/qna/detail.naver?d1id=1&amp;...</td>\n",
       "      <td>이름이 뭐죠 한국 이름이였는데 [질문</td>\n",
       "    </tr>\n",
       "    <tr>\n",
       "      <th>27</th>\n",
       "      <td>쳇지피티 2021년 9월까지 정보로만 응답하나요? 최근...</td>\n",
       "      <td>https://kin.naver.com/qna/detail.naver?d1id=1&amp;...</td>\n",
       "      <td>쳇지피티 2년지난 정보로 학습해 응답</td>\n",
       "    </tr>\n",
       "    <tr>\n",
       "      <th>28</th>\n",
       "      <td>쳇지피티 정확도는 얼마나 될까요?</td>\n",
       "      <td>https://kin.naver.com/qna/detail.naver?d1id=8&amp;...</td>\n",
       "      <td>... 쳇지피티의 정확도는 사용자의</td>\n",
       "    </tr>\n",
       "    <tr>\n",
       "      <th>29</th>\n",
       "      <td>요즘 지식인들 왜 90%는 쳇지피티 쓰나요?</td>\n",
       "      <td>https://kin.naver.com/qna/detail.naver?d1id=8&amp;...</td>\n",
       "      <td>이 답변도 쳇지피티로 쓰면 신고함 챗</td>\n",
       "    </tr>\n",
       "  </tbody>\n",
       "</table>\n",
       "</div>"
      ],
      "text/plain": [
       "                                 title  \\\n",
       "0        쳇지피티 이거 뭐예요?해킹 뭐그런거 당하는거 아니죠?   \n",
       "1                     제가 직접 쓴 자소서 쳇지피티   \n",
       "2                         쳇지피티 수식답변 오류   \n",
       "3                           쳇지피티 화면 이상   \n",
       "4                              쳇지피티 뤼튼   \n",
       "5         휴대폰 앱으로 쳇지피티 4.0버전 사용할수 있나요?   \n",
       "6                              쳇지피티 댓글   \n",
       "7                     솔직히 과제 쳇지피티 모르죠?   \n",
       "8                            쳇지피티 회원가입   \n",
       "9            쳇지피티 스마트폰에서 사용 방법을 알려주세요?   \n",
       "10                쳇지피티 계정 삭제하면 구독 끝나요?   \n",
       "11                       쳇지피티 이용해서 생기부   \n",
       "12                  쳇지피티(쳇gpt)를 규제해야한다   \n",
       "13                            쳇지피티 영수증   \n",
       "14                           쳇지피티 말 바꿈   \n",
       "15                         쳇지피티 사용량 상한   \n",
       "16                            쳇지피티 무슨앱   \n",
       "17      스마트폰에서 쳇지피티 한국어로 사용하기 좋은 앱...    \n",
       "18                          쳇지피티 논문 출처   \n",
       "19     쳇지피티 사용 느낌을 알려주세요 얼마나 정확하다고...    \n",
       "20              유튜브 채널 이름 추천 (쳇지피티 제외)   \n",
       "21                      대학 과제 쳇지피티 저작권   \n",
       "22                        쳇지피티 이거 왜이래요   \n",
       "23       쳇지피티 는 일반적 원론적 답변만 할수 있도록...    \n",
       "24                 쳇지피티가 안됩니다 쳇지피티 사이트   \n",
       "25                      쳇지피티 개발자모드 키는법   \n",
       "26                             구글 쳇지피티   \n",
       "27  쳇지피티 2021년 9월까지 정보로만 응답하나요? 최근...    \n",
       "28                  쳇지피티 정확도는 얼마나 될까요?   \n",
       "29            요즘 지식인들 왜 90%는 쳇지피티 쓰나요?   \n",
       "\n",
       "                                                 link           description  \n",
       "0   https://kin.naver.com/qna/detail.naver?d1id=1&...  아니 제가 크롬을 쓰는데 자꾸 쳇지피  \n",
       "1   https://kin.naver.com/qna/detail.naver?d1id=4&...  제가 직접 제 이야기로 자소서를 쓰고  \n",
       "2   https://kin.naver.com/qna/detail.naver?d1id=1&...  쳇지피티 4o사용 중인데 원래는 수식  \n",
       "3   https://kin.naver.com/qna/detail.naver?d1id=1&...  어느 날 부터 쳇지피티 화면이 아래와  \n",
       "4   https://kin.naver.com/qna/detail.naver?d1id=8&...  뤼튼이 쳇지피티 인가요? 아니면 유사  \n",
       "5   https://kin.naver.com/qna/detail.naver?d1id=11...  쳇지피티 4.0한국어버전을 폰 앱에서  \n",
       "6   https://kin.naver.com/qna/detail.naver?d1id=8&...  이거 이런 식으로 댓글 달리는거 쳇지  \n",
       "7   https://kin.naver.com/qna/detail.naver?d1id=11...  쌤들이 자꾸 쳇지피티 쓰면 다잡아서   \n",
       "8   https://kin.naver.com/qna/detail.naver?d1id=1&...  쳇 지피티 회원가입을 할려는데 이렇게  \n",
       "9   https://kin.naver.com/qna/detail.naver?d1id=1&...  스마트폰에서 쳇지피티 어떻게 사용해요  \n",
       "10  https://kin.naver.com/qna/detail.naver?d1id=4&...  안녕하세요 제가 아는 분 쳇지피티를   \n",
       "11  https://kin.naver.com/qna/detail.naver?d1id=11...  제가 교과 세특에 써질 보고서를 작성  \n",
       "12  https://kin.naver.com/qna/detail.naver?d1id=7&...  쳇지피티(쳇gpt)를 규제해야한다 찬  \n",
       "13  https://kin.naver.com/qna/detail.naver?d1id=4&...  법카로 쳇지피티 결제햇는데 결제영수증  \n",
       "14  https://kin.naver.com/qna/detail.naver?d1id=1&...  너무 답답하고 저 같은 현상 겪으신   \n",
       "15  https://kin.naver.com/qna/detail.naver?d1id=6&...  쳇 지피티를 4버전을 결제하여 사용하  \n",
       "16  https://kin.naver.com/qna/detail.naver?d1id=1&...  쳇지피티로 다들 숙제하던데 무슴앱 깔  \n",
       "17  https://kin.naver.com/qna/detail.naver?d1id=1&...  한국어로 사용하기 좋은 쳇지피티 앱을  \n",
       "18  https://kin.naver.com/qna/detail.naver?d1id=4&...  쳇지피티한테 어떤 내용에 관한 논문을  \n",
       "19  https://kin.naver.com/qna/detail.naver?d1id=1&...  쳇지피티 답변 어느정도 만족들 하세요  \n",
       "20  https://kin.naver.com/qna/detail.naver?d1id=1&...  유튜브 채널을 가입하려고 하는데 이름  \n",
       "21  https://kin.naver.com/qna/detail.naver?d1id=6&...  대학 과제 인터넷 같은거 좀 많이 보  \n",
       "22  https://kin.naver.com/qna/detail.naver?d1id=8&...  고치는 방법좀 알려주세요 다시하기누르  \n",
       "23  https://kin.naver.com/qna/detail.naver?d1id=1&...  쳇지피티 아주 원론적 일반론적 답변만  \n",
       "24  https://kin.naver.com/qna/detail.naver?d1id=1&...  쳇지피티가 안됩니다 쳇지피티 사이트   \n",
       "25  https://kin.naver.com/qna/detail.naver?d1id=1&...  인터넷에 있는거 다 해봤는데 혹시 막  \n",
       "26  https://kin.naver.com/qna/detail.naver?d1id=1&...  이름이 뭐죠 한국 이름이였는데 [질문  \n",
       "27  https://kin.naver.com/qna/detail.naver?d1id=1&...  쳇지피티 2년지난 정보로 학습해 응답  \n",
       "28  https://kin.naver.com/qna/detail.naver?d1id=8&...  ... 쳇지피티의 정확도는 사용자의   \n",
       "29  https://kin.naver.com/qna/detail.naver?d1id=8&...  이 답변도 쳇지피티로 쓰면 신고함 챗  "
      ]
     },
     "execution_count": 50,
     "metadata": {},
     "output_type": "execute_result"
    }
   ],
   "source": [
    "import requests\n",
    "import pandas as pd\n",
    "import json  # response 텍스트를 json 딕셔너리로\n",
    "client_id = \"RgKYwTbMqCx5s9yGYqsT\"\n",
    "client_secret = \"1INoZ2YkcD\"\n",
    "query = '쳇지피티'\n",
    "items_list = []\n",
    "url = f'https://openapi.naver.com/v1/search/kin.json?query={query}&display=30'\n",
    "headers = {'X-Naver-Client-Id' : client_id, 'X-Naver-Client-Secret' : client_secret}\n",
    "response = requests.get(url, headers=headers)\n",
    "# print(response.text[:500])\n",
    "json.loads(response.text)  # 딕셔너리\n",
    "items = json.loads(response.text)['items']  # 리스트\n",
    "# len(items)\n",
    "for item in items:\n",
    "    # print(item)\n",
    "    title = item['title'].replace('<b>', '').replace('</b>', '')\n",
    "    link  = item['link']\n",
    "    description = item['description'].replace('<b>', '').replace('</b>', '')[:20]\n",
    "    items_list.append([title, link, description])\n",
    "pd.DataFrame(items_list, columns=['title', 'link', 'description'])"
   ]
  },
  {
   "cell_type": "markdown",
   "id": "e3bfd10d",
   "metadata": {},
   "source": [
    "### quiz) 네이버 open API를 이용해서 청바지 이미지 100건의 데이터를 im_list.csv 파일로 저장"
   ]
  },
  {
   "cell_type": "code",
   "execution_count": 51,
   "id": "62ba4cba",
   "metadata": {
    "ExecuteTime": {
     "end_time": "2024-12-10T00:35:52.535351Z",
     "start_time": "2024-12-10T00:35:52.526040Z"
    }
   },
   "outputs": [],
   "source": [
    "def get_image_list(query):\n",
    "    import requests\n",
    "    import json  # response 텍스트를 json 딕셔너리로\n",
    "    client_id = \"RgKYwTbMqCx5s9yGYqsT\"\n",
    "    client_secret = \"1INoZ2YkcD\"\n",
    "    query = query\n",
    "    image_list = []\n",
    "    url = f'https://openapi.naver.com/v1/search/image?query={query}&display=100'\n",
    "    headers = {'X-Naver-Client-Id' : client_id, 'X-Naver-Client-Secret' : client_secret}\n",
    "    response = requests.get(url, headers=headers)\n",
    "    items = json.loads(response.text)['items']  # 리스트\n",
    "    # print(items)\n",
    "    for idx, item in enumerate(items):\n",
    "        title = item['title']\n",
    "        link  = item['link']\n",
    "        thumbnail = item['thumbnail']\n",
    "        sizeheight = item['sizeheight']\n",
    "        sizewidth = item['sizewidth']\n",
    "        # image_list.append([title, link, thumbnail, sizeheight, sizewidth])\n",
    "        image_list.append({'제목' : title, '링크' : link, '썸네일' : thumbnail, '높이' : sizeheight, '너비' : sizewidth})\n",
    "        \n",
    "        # link 파일(http://~.jpg)을 1.jpg로 저장\n",
    "        \n",
    "        if idx == 79:\n",
    "            print('▒▒▒▒▒▒▒▒▒▒▒ 80% 진행완료 ▒▒▒▒▒▒▒▒▒▒▒')\n",
    "    return image_list"
   ]
  },
  {
   "cell_type": "code",
   "execution_count": 52,
   "id": "6cc7e827",
   "metadata": {
    "ExecuteTime": {
     "end_time": "2024-12-10T00:35:53.575190Z",
     "start_time": "2024-12-10T00:35:53.270352Z"
    }
   },
   "outputs": [
    {
     "name": "stdout",
     "output_type": "stream",
     "text": [
      "▒▒▒▒▒▒▒▒▒▒▒ 80% 진행완료 ▒▒▒▒▒▒▒▒▒▒▒\n"
     ]
    },
    {
     "data": {
      "text/html": [
       "<div>\n",
       "<style scoped>\n",
       "    .dataframe tbody tr th:only-of-type {\n",
       "        vertical-align: middle;\n",
       "    }\n",
       "\n",
       "    .dataframe tbody tr th {\n",
       "        vertical-align: top;\n",
       "    }\n",
       "\n",
       "    .dataframe thead th {\n",
       "        text-align: right;\n",
       "    }\n",
       "</style>\n",
       "<table border=\"1\" class=\"dataframe\">\n",
       "  <thead>\n",
       "    <tr style=\"text-align: right;\">\n",
       "      <th></th>\n",
       "      <th>제목</th>\n",
       "      <th>링크</th>\n",
       "      <th>썸네일</th>\n",
       "      <th>높이</th>\n",
       "      <th>너비</th>\n",
       "    </tr>\n",
       "  </thead>\n",
       "  <tbody>\n",
       "    <tr>\n",
       "      <th>0</th>\n",
       "      <td>예스라인 프런트 포켓 스판 청바지 남자청바지 일자청바지 작업복 바지 남자청바지</td>\n",
       "      <td>http://shopping.phinf.naver.net/main_5009862/5...</td>\n",
       "      <td>https://search.pstatic.net/common/?type=b150&amp;s...</td>\n",
       "      <td>1000</td>\n",
       "      <td>1000</td>\n",
       "    </tr>\n",
       "    <tr>\n",
       "      <th>1</th>\n",
       "      <td>남성 밴딩 블루 워싱데님팬츠 청바지 레귤러 (8010) : 원 무드</td>\n",
       "      <td>http://shop1.phinf.naver.net/20220516_44/16526...</td>\n",
       "      <td>https://search.pstatic.net/common/?type=b150&amp;s...</td>\n",
       "      <td>1000</td>\n",
       "      <td>1000</td>\n",
       "    </tr>\n",
       "    <tr>\n",
       "      <th>2</th>\n",
       "      <td>아저씨청바지 50대 중년 남성 청바지 얇은 일자 K16</td>\n",
       "      <td>http://shopping.phinf.naver.net/main_4973253/4...</td>\n",
       "      <td>https://search.pstatic.net/common/?type=b150&amp;s...</td>\n",
       "      <td>300</td>\n",
       "      <td>300</td>\n",
       "    </tr>\n",
       "    <tr>\n",
       "      <th>3</th>\n",
       "      <td>데님 청바지 딜링미 워싱 포인트 베이직</td>\n",
       "      <td>http://shopping.phinf.naver.net/main_4603799/4...</td>\n",
       "      <td>https://search.pstatic.net/common/?type=b150&amp;s...</td>\n",
       "      <td>1200</td>\n",
       "      <td>1200</td>\n",
       "    </tr>\n",
       "    <tr>\n",
       "      <th>4</th>\n",
       "      <td>남성기모청바지 남자세미와이드청바지 밴딩 데님청바지 : 우모르</td>\n",
       "      <td>http://shop1.phinf.naver.net/20241115_109/1731...</td>\n",
       "      <td>https://search.pstatic.net/common/?type=b150&amp;s...</td>\n",
       "      <td>1000</td>\n",
       "      <td>1000</td>\n",
       "    </tr>\n",
       "  </tbody>\n",
       "</table>\n",
       "</div>"
      ],
      "text/plain": [
       "                                            제목  \\\n",
       "0  예스라인 프런트 포켓 스판 청바지 남자청바지 일자청바지 작업복 바지 남자청바지   \n",
       "1        남성 밴딩 블루 워싱데님팬츠 청바지 레귤러 (8010) : 원 무드   \n",
       "2               아저씨청바지 50대 중년 남성 청바지 얇은 일자 K16   \n",
       "3                        데님 청바지 딜링미 워싱 포인트 베이직   \n",
       "4            남성기모청바지 남자세미와이드청바지 밴딩 데님청바지 : 우모르   \n",
       "\n",
       "                                                  링크  \\\n",
       "0  http://shopping.phinf.naver.net/main_5009862/5...   \n",
       "1  http://shop1.phinf.naver.net/20220516_44/16526...   \n",
       "2  http://shopping.phinf.naver.net/main_4973253/4...   \n",
       "3  http://shopping.phinf.naver.net/main_4603799/4...   \n",
       "4  http://shop1.phinf.naver.net/20241115_109/1731...   \n",
       "\n",
       "                                                 썸네일    높이    너비  \n",
       "0  https://search.pstatic.net/common/?type=b150&s...  1000  1000  \n",
       "1  https://search.pstatic.net/common/?type=b150&s...  1000  1000  \n",
       "2  https://search.pstatic.net/common/?type=b150&s...   300   300  \n",
       "3  https://search.pstatic.net/common/?type=b150&s...  1200  1200  \n",
       "4  https://search.pstatic.net/common/?type=b150&s...  1000  1000  "
      ]
     },
     "execution_count": 52,
     "metadata": {},
     "output_type": "execute_result"
    }
   ],
   "source": [
    "img_list = get_image_list('청바지')\n",
    "import pandas as pd\n",
    "df = pd.DataFrame(img_list)  # ,columns=[] 추가\n",
    "df.head()"
   ]
  },
  {
   "cell_type": "code",
   "execution_count": 53,
   "id": "9d01f48c",
   "metadata": {
    "ExecuteTime": {
     "end_time": "2024-12-10T00:35:56.123104Z",
     "start_time": "2024-12-10T00:35:56.118105Z"
    }
   },
   "outputs": [
    {
     "name": "stdout",
     "output_type": "stream",
     "text": [
      "http://shopping.phinf.naver.net/main_5009862/50098626189.20240901193238.jpg\n"
     ]
    }
   ],
   "source": [
    "print(df.loc[0, '링크'])"
   ]
  },
  {
   "cell_type": "code",
   "execution_count": 54,
   "id": "ed4fbc8f",
   "metadata": {
    "ExecuteTime": {
     "end_time": "2024-12-10T00:35:56.614354Z",
     "start_time": "2024-12-10T00:35:56.597829Z"
    }
   },
   "outputs": [],
   "source": [
    "def save_img(i, url):\n",
    "    file_extension = url.split('.')[-1]\n",
    "    quote_index = file_extension.find('?')\n",
    "    if quote_index != -1:\n",
    "        file_extension = file_extension[:quote_index]\n",
    "    img = requests.get(url).content\n",
    "    open('image/' + str(i+1) + '.' + file_extension, 'wb').write(img)"
   ]
  },
  {
   "cell_type": "code",
   "execution_count": 234,
   "id": "49471f56",
   "metadata": {
    "ExecuteTime": {
     "end_time": "2024-12-09T07:49:13.309193Z",
     "start_time": "2024-12-09T07:49:13.259986Z"
    }
   },
   "outputs": [],
   "source": [
    "save_img(0, df.loc[0, '링크'])"
   ]
  },
  {
   "cell_type": "code",
   "execution_count": 55,
   "id": "3a58d089",
   "metadata": {
    "ExecuteTime": {
     "end_time": "2024-12-10T00:36:00.764333Z",
     "start_time": "2024-12-10T00:36:00.758335Z"
    }
   },
   "outputs": [
    {
     "data": {
      "text/plain": [
       "'https://shop-phinf.pstatic.net/20240704_199/1720033088259j2WpL_JPEG/30195936086331030_209015073.jpg'"
      ]
     },
     "execution_count": 55,
     "metadata": {},
     "output_type": "execute_result"
    }
   ],
   "source": [
    "df.loc[21, '링크']"
   ]
  },
  {
   "cell_type": "code",
   "execution_count": 56,
   "id": "de8f3cd8",
   "metadata": {
    "ExecuteTime": {
     "end_time": "2024-12-10T00:36:01.248021Z",
     "start_time": "2024-12-10T00:36:01.115703Z"
    }
   },
   "outputs": [],
   "source": [
    "save_img(21, df.loc[21, '링크'])"
   ]
  },
  {
   "cell_type": "code",
   "execution_count": 57,
   "id": "25cbccce",
   "metadata": {
    "ExecuteTime": {
     "end_time": "2024-12-10T00:36:04.151477Z",
     "start_time": "2024-12-10T00:36:04.141480Z"
    }
   },
   "outputs": [],
   "source": [
    "def get_image_list_save_img(query):\n",
    "    import requests\n",
    "    import pandas as pd\n",
    "    import json  # response 텍스트를 json 딕셔너리로\n",
    "    client_id = \"RgKYwTbMqCx5s9yGYqsT\"\n",
    "    client_secret = \"1INoZ2YkcD\"\n",
    "    query = query\n",
    "    image_list = []\n",
    "    url = f'https://openapi.naver.com/v1/search/image?query={query}&display=100'\n",
    "    headers = {'X-Naver-Client-Id' : client_id, 'X-Naver-Client-Secret' : client_secret}\n",
    "    response = requests.get(url, headers=headers)\n",
    "    items = json.loads(response.text)['items']  # 리스트\n",
    "    # print(items)\n",
    "    for idx, item in enumerate(items):\n",
    "        title = item['title']\n",
    "        link  = item['link']\n",
    "        thumbnail = item['thumbnail']\n",
    "        sizeheight = item['sizeheight']\n",
    "        sizewidth = item['sizewidth']\n",
    "        # image_list.append([title, link, thumbnail, sizeheight, sizewidth])\n",
    "        image_list.append({'제목' : title, '링크' : link, '썸네일' : thumbnail, '높이' : sizeheight, '너비' : sizewidth})\n",
    "        \n",
    "        # link 파일(http://~.jpg)을 1.jpg로 저장\n",
    "        save_img(idx, link)\n",
    "        save_img(idx+1000, thumbnail)\n",
    "    result = pd.DataFrame(image_list)\n",
    "    result.to_csv('image/img_list.csv', index=False)\n",
    "    print('▒▒▒▒▒▒▒▒▒▒ 이미지 및 csv 파일 저장 완료 ▒▒▒▒▒▒▒▒▒▒')\n",
    "    return result"
   ]
  },
  {
   "cell_type": "code",
   "execution_count": 58,
   "id": "ee9f7a94",
   "metadata": {
    "ExecuteTime": {
     "end_time": "2024-12-10T00:36:05.513911Z",
     "start_time": "2024-12-10T00:36:05.509904Z"
    }
   },
   "outputs": [],
   "source": [
    "# get_image_list_save_img('청바지').head()"
   ]
  },
  {
   "cell_type": "markdown",
   "id": "6449bfed",
   "metadata": {},
   "source": [
    "## 2.3 정규표현식을 활용한 데이터 수집\n",
    " - RSS에서 search(해당 패턴 처음 내용 중 일부), findall(해당 패턴 전부)"
   ]
  },
  {
   "cell_type": "code",
   "execution_count": 59,
   "id": "c27b9e91",
   "metadata": {
    "ExecuteTime": {
     "end_time": "2024-12-10T00:36:06.225444Z",
     "start_time": "2024-12-10T00:36:06.220443Z"
    }
   },
   "outputs": [],
   "source": [
    "import re\n",
    "parsing_str = '''010-9999-9999  02-888-1234\n",
    "02-777-1212 <city>서울</city> <city>\n",
    "용인</city>\n",
    "<province>서울,인천,경기</province>\n",
    "981212-1052009\n",
    "'''"
   ]
  },
  {
   "cell_type": "code",
   "execution_count": 60,
   "id": "f7b98b6a",
   "metadata": {
    "ExecuteTime": {
     "end_time": "2024-12-10T00:36:06.616530Z",
     "start_time": "2024-12-10T00:36:06.603075Z"
    }
   },
   "outputs": [
    {
     "data": {
      "text/plain": [
       "['010-9999-9999', '02-888-1234', '02-777-1212']"
      ]
     },
     "execution_count": 60,
     "metadata": {},
     "output_type": "execute_result"
    }
   ],
   "source": [
    "phone = re.findall(r'\\d{2,3}-\\d{3,4}-\\d{4}', parsing_str)  # .아무 문자나 ?올 수도 있고 아닐 수도 있음\n",
    "phone"
   ]
  },
  {
   "cell_type": "code",
   "execution_count": 61,
   "id": "1cf7095f",
   "metadata": {
    "ExecuteTime": {
     "end_time": "2024-12-10T00:36:06.820569Z",
     "start_time": "2024-12-10T00:36:06.802954Z"
    }
   },
   "outputs": [
    {
     "data": {
      "text/plain": [
       "['<city>서울</city>', '<city>\\n용인</city>']"
      ]
     },
     "execution_count": 61,
     "metadata": {},
     "output_type": "execute_result"
    }
   ],
   "source": [
    "city = re.findall(r'<city>.+?</city>', parsing_str, re.DOTALL)  # .아무 데이터나 +한 개이상 ?리스트로 반환\n",
    "city"
   ]
  },
  {
   "cell_type": "code",
   "execution_count": 62,
   "id": "dbd951c9",
   "metadata": {
    "ExecuteTime": {
     "end_time": "2024-12-10T00:36:06.998010Z",
     "start_time": "2024-12-10T00:36:06.982072Z"
    }
   },
   "outputs": [
    {
     "data": {
      "text/plain": [
       "<re.Match object; span=(0, 13), match='010-9999-9999'>"
      ]
     },
     "execution_count": 62,
     "metadata": {},
     "output_type": "execute_result"
    }
   ],
   "source": [
    "phone = re.search(r'\\d{2,3}-\\d{3,4}-\\d{4}', parsing_str)  # 해당 정규표현식의 첫 번째만 return\n",
    "phone"
   ]
  },
  {
   "cell_type": "code",
   "execution_count": 63,
   "id": "1ae8f229",
   "metadata": {
    "ExecuteTime": {
     "end_time": "2024-12-10T00:36:07.164580Z",
     "start_time": "2024-12-10T00:36:07.132391Z"
    }
   },
   "outputs": [
    {
     "data": {
      "text/plain": [
       "'010-9999-9999'"
      ]
     },
     "execution_count": 63,
     "metadata": {},
     "output_type": "execute_result"
    }
   ],
   "source": [
    "phone.group(0)"
   ]
  },
  {
   "cell_type": "code",
   "execution_count": 64,
   "id": "83dc0786",
   "metadata": {
    "ExecuteTime": {
     "end_time": "2024-12-10T00:36:07.297940Z",
     "start_time": "2024-12-10T00:36:07.282315Z"
    }
   },
   "outputs": [
    {
     "name": "stdout",
     "output_type": "stream",
     "text": [
      "정규표현식 내용 전체 :  <province>서울,인천,경기</province>\n",
      "정규표현식 내 괄호 안 추출 :  서울,인천,경기\n"
     ]
    }
   ],
   "source": [
    "province = re.search(r'<province>(.+)</province>', parsing_str)\n",
    "print('정규표현식 내용 전체 : ', province.group(0))\n",
    "print('정규표현식 내 괄호 안 추출 : ', province.group(1))"
   ]
  },
  {
   "cell_type": "code",
   "execution_count": 65,
   "id": "dfcaa8be",
   "metadata": {
    "ExecuteTime": {
     "end_time": "2024-12-10T00:36:07.431402Z",
     "start_time": "2024-12-10T00:36:07.415777Z"
    }
   },
   "outputs": [
    {
     "name": "stdout",
     "output_type": "stream",
     "text": [
      "981212-1052009\n",
      "981212\n",
      "1052009\n"
     ]
    }
   ],
   "source": [
    "juminno = re.search(r'(\\d{6})-(\\d{7})', parsing_str)\n",
    "print(juminno.group(0))\n",
    "print(juminno.group(1))\n",
    "print(juminno.group(2))"
   ]
  },
  {
   "cell_type": "code",
   "execution_count": 66,
   "id": "b7eae6c3",
   "metadata": {
    "ExecuteTime": {
     "end_time": "2024-12-10T00:36:07.565180Z",
     "start_time": "2024-12-10T00:36:07.532431Z"
    }
   },
   "outputs": [
    {
     "name": "stdout",
     "output_type": "stream",
     "text": [
      "이 영화는 좋아요  이 영화 추천합니다  강추  진짜 강추  진심입니다  \n"
     ]
    }
   ],
   "source": [
    "# 특정 한 두 가지 문자 빼기 => replace('뺄 문자', '')\n",
    "# 특수문자들 빼기 => findall('남길 문자', '')\n",
    "text = '이 영화는 좋아요 ★ 이 영화 추천합니다 ^ 강추 * 진짜 강추 $ 진심입니다 ~ ㅋㅋ'\n",
    "temp = re.findall(r'[가-힣a-zA-Z0-9 ]', text)  # ' ' 공백 추가\n",
    "print(''.join(temp))"
   ]
  },
  {
   "cell_type": "markdown",
   "id": "7411708d",
   "metadata": {},
   "source": [
    "### 1) 전국 날씨 RSS를 정규표현식을 이용해서 가져오기"
   ]
  },
  {
   "cell_type": "code",
   "execution_count": 84,
   "id": "e2fee6a9",
   "metadata": {
    "ExecuteTime": {
     "end_time": "2024-12-10T01:41:31.857087Z",
     "start_time": "2024-12-10T01:41:31.721327Z"
    },
    "scrolled": true
   },
   "outputs": [
    {
     "name": "stdout",
     "output_type": "stream",
     "text": [
      "서울ㆍ인천ㆍ경기도 지역의 서울 도시의 날씨입니다\n",
      "\t날짜 : 2024-12-14 오전, 날씨 : 맑음, 기온 : -5 ~ 2도, 강수확률 : 10%\n",
      "\t날짜 : 2024-12-14 오후, 날씨 : 맑음, 기온 : -5 ~ 2도, 강수확률 : 10%\n",
      "\t날짜 : 2024-12-15 오전, 날씨 : 맑음, 기온 : -4 ~ 3도, 강수확률 : 10%\n",
      "\t날짜 : 2024-12-15 오후, 날씨 : 맑음, 기온 : -4 ~ 3도, 강수확률 : 10%\n",
      "\t날짜 : 2024-12-16 오전, 날씨 : 맑음, 기온 : -4 ~ 3도, 강수확률 : 10%\n",
      "\t날짜 : 2024-12-16 오후, 날씨 : 맑음, 기온 : -4 ~ 3도, 강수확률 : 10%\n",
      "\t날짜 : 2024-12-17 오전, 날씨 : 맑음, 기온 : -3 ~ 4도, 강수확률 : 10%\n",
      "\t날짜 : 2024-12-17 오후, 날씨 : 맑음, 기온 : -3 ~ 4도, 강수확률 : 10%\n",
      "\t날짜 : 2024-12-18 오전, 날씨 : 맑음, 기온 : -3 ~ 4도, 강수확률 : 10%\n",
      "\t날짜 : 2024-12-19 오전, 날씨 : 구름많음, 기온 : -3 ~ 4도, 강수확률 : 30%\n",
      "\t날짜 : 2024-12-20 오전, 날씨 : 흐림, 기온 : -2 ~ 5도, 강수확률 : 40%\n",
      "서울ㆍ인천ㆍ경기도 지역의 인천 도시의 날씨입니다\n",
      "\t날짜 : 2024-12-14 오전, 날씨 : 맑음, 기온 : -4 ~ 2도, 강수확률 : 10%\n",
      "\t날짜 : 2024-12-14 오후, 날씨 : 맑음, 기온 : -4 ~ 2도, 강수확률 : 10%\n",
      "\t날짜 : 2024-12-15 오전, 날씨 : 맑음, 기온 : -3 ~ 4도, 강수확률 : 10%\n",
      "\t날짜 : 2024-12-15 오후, 날씨 : 맑음, 기온 : -3 ~ 4도, 강수확률 : 10%\n",
      "\t날짜 : 2024-12-16 오전, 날씨 : 맑음, 기온 : -3 ~ 3도, 강수확률 : 10%\n",
      "\t날짜 : 2024-12-16 오후, 날씨 : 맑음, 기온 : -3 ~ 3도, 강수확률 : 10%\n",
      "\t날짜 : 2024-12-17 오전, 날씨 : 맑음, 기온 : -2 ~ 4도, 강수확률 : 10%\n",
      "\t날짜 : 2024-12-17 오후, 날씨 : 맑음, 기온 : -2 ~ 4도, 강수확률 : 10%\n",
      "\t날짜 : 2024-12-18 오전, 날씨 : 맑음, 기온 : -2 ~ 3도, 강수확률 : 10%\n",
      "\t날짜 : 2024-12-19 오전, 날씨 : 구름많음, 기온 : -2 ~ 3도, 강수확률 : 30%\n",
      "\t날짜 : 2024-12-20 오전, 날씨 : 흐림, 기온 : -1 ~ 4도, 강수확률 : 40%\n",
      "서울ㆍ인천ㆍ경기도 지역의 수원 도시의 날씨입니다\n",
      "\t날짜 : 2024-12-14 오전, 날씨 : 맑음, 기온 : -6 ~ 3도, 강수확률 : 10%\n",
      "\t날짜 : 2024-12-14 오후, 날씨 : 맑음, 기온 : -6 ~ 3도, 강수확률 : 10%\n",
      "\t날짜 : 2024-12-15 오전, 날씨 : 맑음, 기온 : -4 ~ 4도, 강수확률 : 10%\n",
      "\t날짜 : 2024-12-15 오후, 날씨 : 맑음, 기온 : -4 ~ 4도, 강수확률 : 10%\n",
      "\t날짜 : 2024-12-16 오전, 날씨 : 맑음, 기온 : -4 ~ 4도, 강수확률 : 10%\n",
      "\t날짜 : 2024-12-16 오후, 날씨 : 맑음, 기온 : -4 ~ 4도, 강수확률 : 10%\n",
      "\t날짜 : 2024-12-17 오전, 날씨 : 맑음, 기온 : -3 ~ 5도, 강수확률 : 10%\n",
      "\t날짜 : 2024-12-17 오후, 날씨 : 맑음, 기온 : -3 ~ 5도, 강수확률 : 10%\n",
      "\t날짜 : 2024-12-18 오전, 날씨 : 맑음, 기온 : -4 ~ 4도, 강수확률 : 10%\n",
      "\t날짜 : 2024-12-19 오전, 날씨 : 구름많음, 기온 : -4 ~ 4도, 강수확률 : 30%\n",
      "\t날짜 : 2024-12-20 오전, 날씨 : 흐림, 기온 : -4 ~ 5도, 강수확률 : 40%\n",
      "서울ㆍ인천ㆍ경기도 지역의 파주 도시의 날씨입니다\n",
      "\t날짜 : 2024-12-14 오전, 날씨 : 맑음, 기온 : -9 ~ 2도, 강수확률 : 10%\n",
      "\t날짜 : 2024-12-14 오후, 날씨 : 맑음, 기온 : -9 ~ 2도, 강수확률 : 10%\n",
      "\t날짜 : 2024-12-15 오전, 날씨 : 맑음, 기온 : -8 ~ 3도, 강수확률 : 10%\n",
      "\t날짜 : 2024-12-15 오후, 날씨 : 맑음, 기온 : -8 ~ 3도, 강수확률 : 10%\n",
      "\t날짜 : 2024-12-16 오전, 날씨 : 맑음, 기온 : -8 ~ 3도, 강수확률 : 10%\n",
      "\t날짜 : 2024-12-16 오후, 날씨 : 맑음, 기온 : -8 ~ 3도, 강수확률 : 10%\n",
      "\t날짜 : 2024-12-17 오전, 날씨 : 맑음, 기온 : -7 ~ 4도, 강수확률 : 10%\n",
      "\t날짜 : 2024-12-17 오후, 날씨 : 맑음, 기온 : -7 ~ 4도, 강수확률 : 10%\n",
      "\t날짜 : 2024-12-18 오전, 날씨 : 맑음, 기온 : -7 ~ 3도, 강수확률 : 10%\n",
      "\t날짜 : 2024-12-19 오전, 날씨 : 구름많음, 기온 : -7 ~ 3도, 강수확률 : 30%\n",
      "\t날짜 : 2024-12-20 오전, 날씨 : 흐림, 기온 : -6 ~ 4도, 강수확률 : 40%\n",
      "서울ㆍ인천ㆍ경기도 지역의 이천 도시의 날씨입니다\n",
      "\t날짜 : 2024-12-14 오전, 날씨 : 맑음, 기온 : -6 ~ 3도, 강수확률 : 10%\n",
      "\t날짜 : 2024-12-14 오후, 날씨 : 맑음, 기온 : -6 ~ 3도, 강수확률 : 10%\n",
      "\t날짜 : 2024-12-15 오전, 날씨 : 맑음, 기온 : -5 ~ 4도, 강수확률 : 10%\n",
      "\t날짜 : 2024-12-15 오후, 날씨 : 맑음, 기온 : -5 ~ 4도, 강수확률 : 10%\n",
      "\t날짜 : 2024-12-16 오전, 날씨 : 맑음, 기온 : -4 ~ 3도, 강수확률 : 10%\n",
      "\t날짜 : 2024-12-16 오후, 날씨 : 맑음, 기온 : -4 ~ 3도, 강수확률 : 10%\n",
      "\t날짜 : 2024-12-17 오전, 날씨 : 맑음, 기온 : -5 ~ 4도, 강수확률 : 10%\n",
      "\t날짜 : 2024-12-17 오후, 날씨 : 맑음, 기온 : -5 ~ 4도, 강수확률 : 10%\n",
      "\t날짜 : 2024-12-18 오전, 날씨 : 맑음, 기온 : -5 ~ 4도, 강수확률 : 10%\n",
      "\t날짜 : 2024-12-19 오전, 날씨 : 구름많음, 기온 : -5 ~ 4도, 강수확률 : 30%\n",
      "\t날짜 : 2024-12-20 오전, 날씨 : 흐림, 기온 : -6 ~ 5도, 강수확률 : 40%\n",
      "서울ㆍ인천ㆍ경기도 지역의 평택 도시의 날씨입니다\n",
      "\t날짜 : 2024-12-14 오전, 날씨 : 맑음, 기온 : -5 ~ 2도, 강수확률 : 10%\n",
      "\t날짜 : 2024-12-14 오후, 날씨 : 맑음, 기온 : -5 ~ 2도, 강수확률 : 10%\n",
      "\t날짜 : 2024-12-15 오전, 날씨 : 맑음, 기온 : -3 ~ 5도, 강수확률 : 10%\n",
      "\t날짜 : 2024-12-15 오후, 날씨 : 맑음, 기온 : -3 ~ 5도, 강수확률 : 10%\n",
      "\t날짜 : 2024-12-16 오전, 날씨 : 맑음, 기온 : -3 ~ 4도, 강수확률 : 10%\n",
      "\t날짜 : 2024-12-16 오후, 날씨 : 맑음, 기온 : -3 ~ 4도, 강수확률 : 10%\n",
      "\t날짜 : 2024-12-17 오전, 날씨 : 맑음, 기온 : -3 ~ 4도, 강수확률 : 10%\n",
      "\t날짜 : 2024-12-17 오후, 날씨 : 맑음, 기온 : -3 ~ 4도, 강수확률 : 10%\n",
      "\t날짜 : 2024-12-18 오전, 날씨 : 맑음, 기온 : -5 ~ 3도, 강수확률 : 10%\n",
      "\t날짜 : 2024-12-19 오전, 날씨 : 구름많음, 기온 : -5 ~ 3도, 강수확률 : 30%\n",
      "\t날짜 : 2024-12-20 오전, 날씨 : 흐림, 기온 : -4 ~ 4도, 강수확률 : 40%\n",
      "강원도영서 지역의 춘천 도시의 날씨입니다\n",
      "\t날짜 : 2024-12-14 오전, 날씨 : 맑음, 기온 : -6 ~ 3도, 강수확률 : 10%\n",
      "\t날짜 : 2024-12-14 오후, 날씨 : 맑음, 기온 : -6 ~ 3도, 강수확률 : 10%\n",
      "\t날짜 : 2024-12-15 오전, 날씨 : 맑음, 기온 : -7 ~ 3도, 강수확률 : 10%\n",
      "\t날짜 : 2024-12-15 오후, 날씨 : 맑음, 기온 : -7 ~ 3도, 강수확률 : 10%\n",
      "\t날짜 : 2024-12-16 오전, 날씨 : 맑음, 기온 : -7 ~ 3도, 강수확률 : 10%\n",
      "\t날짜 : 2024-12-16 오후, 날씨 : 맑음, 기온 : -7 ~ 3도, 강수확률 : 10%\n",
      "\t날짜 : 2024-12-17 오전, 날씨 : 맑음, 기온 : -7 ~ 4도, 강수확률 : 10%\n",
      "\t날짜 : 2024-12-17 오후, 날씨 : 맑음, 기온 : -7 ~ 4도, 강수확률 : 10%\n",
      "\t날짜 : 2024-12-18 오전, 날씨 : 맑음, 기온 : -6 ~ 3도, 강수확률 : 10%\n",
      "\t날짜 : 2024-12-19 오전, 날씨 : 구름많음, 기온 : -6 ~ 3도, 강수확률 : 30%\n",
      "\t날짜 : 2024-12-20 오전, 날씨 : 흐림, 기온 : -5 ~ 4도, 강수확률 : 40%\n",
      "강원도영서 지역의 원주 도시의 날씨입니다\n",
      "\t날짜 : 2024-12-14 오전, 날씨 : 맑음, 기온 : -5 ~ 2도, 강수확률 : 10%\n",
      "\t날짜 : 2024-12-14 오후, 날씨 : 맑음, 기온 : -5 ~ 2도, 강수확률 : 10%\n",
      "\t날짜 : 2024-12-15 오전, 날씨 : 맑음, 기온 : -5 ~ 4도, 강수확률 : 10%\n",
      "\t날짜 : 2024-12-15 오후, 날씨 : 맑음, 기온 : -5 ~ 4도, 강수확률 : 10%\n",
      "\t날짜 : 2024-12-16 오전, 날씨 : 맑음, 기온 : -5 ~ 3도, 강수확률 : 10%\n",
      "\t날짜 : 2024-12-16 오후, 날씨 : 맑음, 기온 : -5 ~ 3도, 강수확률 : 10%\n",
      "\t날짜 : 2024-12-17 오전, 날씨 : 맑음, 기온 : -4 ~ 4도, 강수확률 : 10%\n",
      "\t날짜 : 2024-12-17 오후, 날씨 : 맑음, 기온 : -4 ~ 4도, 강수확률 : 10%\n",
      "\t날짜 : 2024-12-18 오전, 날씨 : 맑음, 기온 : -4 ~ 5도, 강수확률 : 10%\n",
      "\t날짜 : 2024-12-19 오전, 날씨 : 구름많음, 기온 : -4 ~ 5도, 강수확률 : 30%\n",
      "\t날짜 : 2024-12-20 오전, 날씨 : 흐림, 기온 : -4 ~ 5도, 강수확률 : 40%\n",
      "강원도영동 지역의 강릉 도시의 날씨입니다\n",
      "\t날짜 : 2024-12-14 오전, 날씨 : 맑음, 기온 : -1 ~ 7도, 강수확률 : 20%\n",
      "\t날짜 : 2024-12-14 오후, 날씨 : 맑음, 기온 : -1 ~ 7도, 강수확률 : 10%\n",
      "\t날짜 : 2024-12-15 오전, 날씨 : 맑음, 기온 : -1 ~ 6도, 강수확률 : 10%\n",
      "\t날짜 : 2024-12-15 오후, 날씨 : 맑음, 기온 : -1 ~ 6도, 강수확률 : 10%\n",
      "\t날짜 : 2024-12-16 오전, 날씨 : 맑음, 기온 : -2 ~ 6도, 강수확률 : 10%\n",
      "\t날짜 : 2024-12-16 오후, 날씨 : 맑음, 기온 : -2 ~ 6도, 강수확률 : 10%\n",
      "\t날짜 : 2024-12-17 오전, 날씨 : 맑음, 기온 : 0 ~ 7도, 강수확률 : 10%\n",
      "\t날짜 : 2024-12-17 오후, 날씨 : 맑음, 기온 : 0 ~ 7도, 강수확률 : 10%\n",
      "\t날짜 : 2024-12-18 오전, 날씨 : 맑음, 기온 : 0 ~ 8도, 강수확률 : 20%\n",
      "\t날짜 : 2024-12-19 오전, 날씨 : 구름많음, 기온 : 0 ~ 8도, 강수확률 : 30%\n",
      "\t날짜 : 2024-12-20 오전, 날씨 : 구름많음, 기온 : 1 ~ 8도, 강수확률 : 30%\n",
      "대전ㆍ세종ㆍ충청남도 지역의 대전 도시의 날씨입니다\n",
      "\t날짜 : 2024-12-14 오전, 날씨 : 구름많음, 기온 : -4 ~ 4도, 강수확률 : 20%\n",
      "\t날짜 : 2024-12-14 오후, 날씨 : 맑음, 기온 : -4 ~ 4도, 강수확률 : 10%\n",
      "\t날짜 : 2024-12-15 오전, 날씨 : 구름많고 비/눈, 기온 : -3 ~ 6도, 강수확률 : 60%\n",
      "\t날짜 : 2024-12-15 오후, 날씨 : 구름많음, 기온 : -3 ~ 6도, 강수확률 : 30%\n",
      "\t날짜 : 2024-12-16 오전, 날씨 : 맑음, 기온 : -2 ~ 5도, 강수확률 : 20%\n",
      "\t날짜 : 2024-12-16 오후, 날씨 : 구름많음, 기온 : -2 ~ 5도, 강수확률 : 20%\n",
      "\t날짜 : 2024-12-17 오전, 날씨 : 구름많음, 기온 : -2 ~ 6도, 강수확률 : 20%\n",
      "\t날짜 : 2024-12-17 오후, 날씨 : 구름많음, 기온 : -2 ~ 6도, 강수확률 : 20%\n",
      "\t날짜 : 2024-12-18 오전, 날씨 : 맑음, 기온 : -3 ~ 6도, 강수확률 : 10%\n",
      "\t날짜 : 2024-12-19 오전, 날씨 : 구름많음, 기온 : -3 ~ 6도, 강수확률 : 30%\n",
      "\t날짜 : 2024-12-20 오전, 날씨 : 흐림, 기온 : -3 ~ 6도, 강수확률 : 40%\n",
      "대전ㆍ세종ㆍ충청남도 지역의 세종 도시의 날씨입니다\n",
      "\t날짜 : 2024-12-14 오전, 날씨 : 구름많음, 기온 : -5 ~ 3도, 강수확률 : 20%\n",
      "\t날짜 : 2024-12-14 오후, 날씨 : 맑음, 기온 : -5 ~ 3도, 강수확률 : 10%\n",
      "\t날짜 : 2024-12-15 오전, 날씨 : 구름많고 비/눈, 기온 : -4 ~ 6도, 강수확률 : 60%\n",
      "\t날짜 : 2024-12-15 오후, 날씨 : 구름많음, 기온 : -4 ~ 6도, 강수확률 : 30%\n",
      "\t날짜 : 2024-12-16 오전, 날씨 : 맑음, 기온 : -2 ~ 5도, 강수확률 : 20%\n",
      "\t날짜 : 2024-12-16 오후, 날씨 : 구름많음, 기온 : -2 ~ 5도, 강수확률 : 20%\n",
      "\t날짜 : 2024-12-17 오전, 날씨 : 구름많음, 기온 : -3 ~ 4도, 강수확률 : 20%\n",
      "\t날짜 : 2024-12-17 오후, 날씨 : 구름많음, 기온 : -3 ~ 4도, 강수확률 : 20%\n",
      "\t날짜 : 2024-12-18 오전, 날씨 : 맑음, 기온 : -4 ~ 4도, 강수확률 : 10%\n",
      "\t날짜 : 2024-12-19 오전, 날씨 : 구름많음, 기온 : -4 ~ 4도, 강수확률 : 30%\n",
      "\t날짜 : 2024-12-20 오전, 날씨 : 흐림, 기온 : -4 ~ 5도, 강수확률 : 40%\n",
      "대전ㆍ세종ㆍ충청남도 지역의 홍성 도시의 날씨입니다\n",
      "\t날짜 : 2024-12-14 오전, 날씨 : 구름많음, 기온 : -5 ~ 4도, 강수확률 : 20%\n",
      "\t날짜 : 2024-12-14 오후, 날씨 : 맑음, 기온 : -5 ~ 4도, 강수확률 : 10%\n",
      "\t날짜 : 2024-12-15 오전, 날씨 : 구름많고 비/눈, 기온 : -2 ~ 6도, 강수확률 : 60%\n",
      "\t날짜 : 2024-12-15 오후, 날씨 : 구름많음, 기온 : -2 ~ 6도, 강수확률 : 30%\n",
      "\t날짜 : 2024-12-16 오전, 날씨 : 맑음, 기온 : -2 ~ 4도, 강수확률 : 20%\n",
      "\t날짜 : 2024-12-16 오후, 날씨 : 구름많음, 기온 : -2 ~ 4도, 강수확률 : 20%\n",
      "\t날짜 : 2024-12-17 오전, 날씨 : 구름많음, 기온 : -2 ~ 5도, 강수확률 : 20%\n",
      "\t날짜 : 2024-12-17 오후, 날씨 : 구름많음, 기온 : -2 ~ 5도, 강수확률 : 20%\n",
      "\t날짜 : 2024-12-18 오전, 날씨 : 맑음, 기온 : -4 ~ 5도, 강수확률 : 10%\n",
      "\t날짜 : 2024-12-19 오전, 날씨 : 구름많음, 기온 : -4 ~ 5도, 강수확률 : 30%\n",
      "\t날짜 : 2024-12-20 오전, 날씨 : 흐림, 기온 : -4 ~ 5도, 강수확률 : 40%\n",
      "충청북도 지역의 청주 도시의 날씨입니다\n",
      "\t날짜 : 2024-12-14 오전, 날씨 : 맑음, 기온 : -3 ~ 4도, 강수확률 : 10%\n",
      "\t날짜 : 2024-12-14 오후, 날씨 : 맑음, 기온 : -3 ~ 4도, 강수확률 : 10%\n",
      "\t날짜 : 2024-12-15 오전, 날씨 : 구름많음, 기온 : -2 ~ 5도, 강수확률 : 40%\n",
      "\t날짜 : 2024-12-15 오후, 날씨 : 구름많음, 기온 : -2 ~ 5도, 강수확률 : 20%\n",
      "\t날짜 : 2024-12-16 오전, 날씨 : 맑음, 기온 : -2 ~ 4도, 강수확률 : 10%\n",
      "\t날짜 : 2024-12-16 오후, 날씨 : 구름많음, 기온 : -2 ~ 4도, 강수확률 : 20%\n",
      "\t날짜 : 2024-12-17 오전, 날씨 : 맑음, 기온 : -3 ~ 5도, 강수확률 : 10%\n",
      "\t날짜 : 2024-12-17 오후, 날씨 : 맑음, 기온 : -3 ~ 5도, 강수확률 : 10%\n",
      "\t날짜 : 2024-12-18 오전, 날씨 : 맑음, 기온 : -2 ~ 5도, 강수확률 : 10%\n",
      "\t날짜 : 2024-12-19 오전, 날씨 : 구름많음, 기온 : -2 ~ 5도, 강수확률 : 30%\n",
      "\t날짜 : 2024-12-20 오전, 날씨 : 흐림, 기온 : -3 ~ 6도, 강수확률 : 40%\n",
      "충청북도 지역의 충주 도시의 날씨입니다\n",
      "\t날짜 : 2024-12-14 오전, 날씨 : 맑음, 기온 : -6 ~ 2도, 강수확률 : 10%\n",
      "\t날짜 : 2024-12-14 오후, 날씨 : 맑음, 기온 : -6 ~ 2도, 강수확률 : 10%\n",
      "\t날짜 : 2024-12-15 오전, 날씨 : 구름많음, 기온 : -6 ~ 4도, 강수확률 : 40%\n",
      "\t날짜 : 2024-12-15 오후, 날씨 : 구름많음, 기온 : -6 ~ 4도, 강수확률 : 20%\n",
      "\t날짜 : 2024-12-16 오전, 날씨 : 맑음, 기온 : -5 ~ 3도, 강수확률 : 10%\n",
      "\t날짜 : 2024-12-16 오후, 날씨 : 구름많음, 기온 : -5 ~ 3도, 강수확률 : 20%\n",
      "\t날짜 : 2024-12-17 오전, 날씨 : 맑음, 기온 : -5 ~ 4도, 강수확률 : 10%\n",
      "\t날짜 : 2024-12-17 오후, 날씨 : 맑음, 기온 : -5 ~ 4도, 강수확률 : 10%\n",
      "\t날짜 : 2024-12-18 오전, 날씨 : 맑음, 기온 : -4 ~ 4도, 강수확률 : 10%\n",
      "\t날짜 : 2024-12-19 오전, 날씨 : 구름많음, 기온 : -4 ~ 4도, 강수확률 : 30%\n",
      "\t날짜 : 2024-12-20 오전, 날씨 : 흐림, 기온 : -4 ~ 6도, 강수확률 : 40%\n",
      "충청북도 지역의 영동 도시의 날씨입니다\n",
      "\t날짜 : 2024-12-14 오전, 날씨 : 맑음, 기온 : -7 ~ 4도, 강수확률 : 10%\n",
      "\t날짜 : 2024-12-14 오후, 날씨 : 맑음, 기온 : -7 ~ 4도, 강수확률 : 10%\n",
      "\t날짜 : 2024-12-15 오전, 날씨 : 구름많음, 기온 : -5 ~ 5도, 강수확률 : 40%\n",
      "\t날짜 : 2024-12-15 오후, 날씨 : 구름많음, 기온 : -5 ~ 5도, 강수확률 : 20%\n",
      "\t날짜 : 2024-12-16 오전, 날씨 : 맑음, 기온 : -4 ~ 5도, 강수확률 : 10%\n",
      "\t날짜 : 2024-12-16 오후, 날씨 : 구름많음, 기온 : -4 ~ 5도, 강수확률 : 20%\n",
      "\t날짜 : 2024-12-17 오전, 날씨 : 맑음, 기온 : -3 ~ 5도, 강수확률 : 10%\n",
      "\t날짜 : 2024-12-17 오후, 날씨 : 맑음, 기온 : -3 ~ 5도, 강수확률 : 10%\n",
      "\t날짜 : 2024-12-18 오전, 날씨 : 맑음, 기온 : -5 ~ 6도, 강수확률 : 10%\n",
      "\t날짜 : 2024-12-19 오전, 날씨 : 구름많음, 기온 : -5 ~ 6도, 강수확률 : 30%\n",
      "\t날짜 : 2024-12-20 오전, 날씨 : 흐림, 기온 : -4 ~ 7도, 강수확률 : 40%\n",
      "광주ㆍ전라남도 지역의 광주 도시의 날씨입니다\n",
      "\t날짜 : 2024-12-14 오전, 날씨 : 흐리고 비/눈, 기온 : -1 ~ 6도, 강수확률 : 60%\n",
      "\t날짜 : 2024-12-14 오후, 날씨 : 흐림, 기온 : -1 ~ 6도, 강수확률 : 40%\n",
      "\t날짜 : 2024-12-15 오전, 날씨 : 흐리고 비/눈, 기온 : 1 ~ 7도, 강수확률 : 60%\n",
      "\t날짜 : 2024-12-15 오후, 날씨 : 흐리고 비/눈, 기온 : 1 ~ 7도, 강수확률 : 60%\n",
      "\t날짜 : 2024-12-16 오전, 날씨 : 구름많음, 기온 : 1 ~ 7도, 강수확률 : 30%\n",
      "\t날짜 : 2024-12-16 오후, 날씨 : 구름많음, 기온 : 1 ~ 7도, 강수확률 : 30%\n",
      "\t날짜 : 2024-12-17 오전, 날씨 : 구름많음, 기온 : 0 ~ 8도, 강수확률 : 20%\n",
      "\t날짜 : 2024-12-17 오후, 날씨 : 구름많음, 기온 : 0 ~ 8도, 강수확률 : 20%\n",
      "\t날짜 : 2024-12-18 오전, 날씨 : 맑음, 기온 : 0 ~ 7도, 강수확률 : 10%\n",
      "\t날짜 : 2024-12-19 오전, 날씨 : 구름많음, 기온 : 0 ~ 7도, 강수확률 : 30%\n",
      "\t날짜 : 2024-12-20 오전, 날씨 : 흐림, 기온 : 0 ~ 9도, 강수확률 : 40%\n",
      "광주ㆍ전라남도 지역의 목포 도시의 날씨입니다\n",
      "\t날짜 : 2024-12-14 오전, 날씨 : 흐리고 비/눈, 기온 : 2 ~ 6도, 강수확률 : 60%\n",
      "\t날짜 : 2024-12-14 오후, 날씨 : 흐림, 기온 : 2 ~ 6도, 강수확률 : 40%\n",
      "\t날짜 : 2024-12-15 오전, 날씨 : 흐리고 비/눈, 기온 : 3 ~ 8도, 강수확률 : 60%\n",
      "\t날짜 : 2024-12-15 오후, 날씨 : 흐리고 비/눈, 기온 : 3 ~ 8도, 강수확률 : 60%\n",
      "\t날짜 : 2024-12-16 오전, 날씨 : 구름많음, 기온 : 4 ~ 8도, 강수확률 : 30%\n",
      "\t날짜 : 2024-12-16 오후, 날씨 : 구름많음, 기온 : 4 ~ 8도, 강수확률 : 30%\n",
      "\t날짜 : 2024-12-17 오전, 날씨 : 구름많음, 기온 : 2 ~ 9도, 강수확률 : 20%\n",
      "\t날짜 : 2024-12-17 오후, 날씨 : 구름많음, 기온 : 2 ~ 9도, 강수확률 : 20%\n",
      "\t날짜 : 2024-12-18 오전, 날씨 : 맑음, 기온 : 2 ~ 8도, 강수확률 : 10%\n",
      "\t날짜 : 2024-12-19 오전, 날씨 : 구름많음, 기온 : 2 ~ 8도, 강수확률 : 30%\n",
      "\t날짜 : 2024-12-20 오전, 날씨 : 흐림, 기온 : 2 ~ 8도, 강수확률 : 40%\n",
      "광주ㆍ전라남도 지역의 여수 도시의 날씨입니다\n",
      "\t날짜 : 2024-12-14 오전, 날씨 : 흐리고 비/눈, 기온 : 1 ~ 7도, 강수확률 : 60%\n",
      "\t날짜 : 2024-12-14 오후, 날씨 : 흐림, 기온 : 1 ~ 7도, 강수확률 : 40%\n",
      "\t날짜 : 2024-12-15 오전, 날씨 : 흐리고 비/눈, 기온 : 2 ~ 8도, 강수확률 : 60%\n",
      "\t날짜 : 2024-12-15 오후, 날씨 : 흐리고 비/눈, 기온 : 2 ~ 8도, 강수확률 : 60%\n",
      "\t날짜 : 2024-12-16 오전, 날씨 : 구름많음, 기온 : 3 ~ 9도, 강수확률 : 30%\n",
      "\t날짜 : 2024-12-16 오후, 날씨 : 구름많음, 기온 : 3 ~ 9도, 강수확률 : 30%\n",
      "\t날짜 : 2024-12-17 오전, 날씨 : 구름많음, 기온 : 3 ~ 9도, 강수확률 : 20%\n",
      "\t날짜 : 2024-12-17 오후, 날씨 : 구름많음, 기온 : 3 ~ 9도, 강수확률 : 20%\n",
      "\t날짜 : 2024-12-18 오전, 날씨 : 맑음, 기온 : 3 ~ 9도, 강수확률 : 10%\n",
      "\t날짜 : 2024-12-19 오전, 날씨 : 구름많음, 기온 : 3 ~ 9도, 강수확률 : 30%\n",
      "\t날짜 : 2024-12-20 오전, 날씨 : 흐림, 기온 : 3 ~ 9도, 강수확률 : 40%\n",
      "광주ㆍ전라남도 지역의 순천 도시의 날씨입니다\n",
      "\t날짜 : 2024-12-14 오전, 날씨 : 흐리고 비/눈, 기온 : -2 ~ 6도, 강수확률 : 60%\n",
      "\t날짜 : 2024-12-14 오후, 날씨 : 흐림, 기온 : -2 ~ 6도, 강수확률 : 40%\n",
      "\t날짜 : 2024-12-15 오전, 날씨 : 흐리고 비/눈, 기온 : 0 ~ 8도, 강수확률 : 60%\n",
      "\t날짜 : 2024-12-15 오후, 날씨 : 흐리고 비/눈, 기온 : 0 ~ 8도, 강수확률 : 60%\n",
      "\t날짜 : 2024-12-16 오전, 날씨 : 구름많음, 기온 : 0 ~ 8도, 강수확률 : 30%\n",
      "\t날짜 : 2024-12-16 오후, 날씨 : 구름많음, 기온 : 0 ~ 8도, 강수확률 : 30%\n",
      "\t날짜 : 2024-12-17 오전, 날씨 : 구름많음, 기온 : 1 ~ 9도, 강수확률 : 20%\n",
      "\t날짜 : 2024-12-17 오후, 날씨 : 구름많음, 기온 : 1 ~ 9도, 강수확률 : 20%\n",
      "\t날짜 : 2024-12-18 오전, 날씨 : 맑음, 기온 : 0 ~ 8도, 강수확률 : 10%\n",
      "\t날짜 : 2024-12-19 오전, 날씨 : 구름많음, 기온 : 0 ~ 8도, 강수확률 : 30%\n",
      "\t날짜 : 2024-12-20 오전, 날씨 : 흐림, 기온 : 0 ~ 9도, 강수확률 : 40%\n",
      "광주ㆍ전라남도 지역의 광양 도시의 날씨입니다\n",
      "\t날짜 : 2024-12-14 오전, 날씨 : 흐리고 비/눈, 기온 : 0 ~ 6도, 강수확률 : 60%\n",
      "\t날짜 : 2024-12-14 오후, 날씨 : 흐림, 기온 : 0 ~ 6도, 강수확률 : 40%\n",
      "\t날짜 : 2024-12-15 오전, 날씨 : 흐리고 비/눈, 기온 : 0 ~ 9도, 강수확률 : 60%\n",
      "\t날짜 : 2024-12-15 오후, 날씨 : 흐리고 비/눈, 기온 : 0 ~ 9도, 강수확률 : 60%\n",
      "\t날짜 : 2024-12-16 오전, 날씨 : 구름많음, 기온 : 1 ~ 10도, 강수확률 : 30%\n",
      "\t날짜 : 2024-12-16 오후, 날씨 : 구름많음, 기온 : 1 ~ 10도, 강수확률 : 30%\n",
      "\t날짜 : 2024-12-17 오전, 날씨 : 구름많음, 기온 : 1 ~ 10도, 강수확률 : 20%\n",
      "\t날짜 : 2024-12-17 오후, 날씨 : 구름많음, 기온 : 1 ~ 10도, 강수확률 : 20%\n",
      "\t날짜 : 2024-12-18 오전, 날씨 : 맑음, 기온 : 1 ~ 10도, 강수확률 : 10%\n",
      "\t날짜 : 2024-12-19 오전, 날씨 : 구름많음, 기온 : 1 ~ 10도, 강수확률 : 30%\n",
      "\t날짜 : 2024-12-20 오전, 날씨 : 흐림, 기온 : 1 ~ 11도, 강수확률 : 40%\n",
      "광주ㆍ전라남도 지역의 나주 도시의 날씨입니다\n",
      "\t날짜 : 2024-12-14 오전, 날씨 : 흐리고 비/눈, 기온 : -3 ~ 6도, 강수확률 : 60%\n",
      "\t날짜 : 2024-12-14 오후, 날씨 : 흐림, 기온 : -3 ~ 6도, 강수확률 : 40%\n",
      "\t날짜 : 2024-12-15 오전, 날씨 : 흐리고 비/눈, 기온 : -1 ~ 8도, 강수확률 : 60%\n",
      "\t날짜 : 2024-12-15 오후, 날씨 : 흐리고 비/눈, 기온 : -1 ~ 8도, 강수확률 : 60%\n",
      "\t날짜 : 2024-12-16 오전, 날씨 : 구름많음, 기온 : 0 ~ 7도, 강수확률 : 30%\n",
      "\t날짜 : 2024-12-16 오후, 날씨 : 구름많음, 기온 : 0 ~ 7도, 강수확률 : 30%\n",
      "\t날짜 : 2024-12-17 오전, 날씨 : 구름많음, 기온 : -1 ~ 8도, 강수확률 : 20%\n",
      "\t날짜 : 2024-12-17 오후, 날씨 : 구름많음, 기온 : -1 ~ 8도, 강수확률 : 20%\n",
      "\t날짜 : 2024-12-18 오전, 날씨 : 맑음, 기온 : -2 ~ 6도, 강수확률 : 10%\n",
      "\t날짜 : 2024-12-19 오전, 날씨 : 구름많음, 기온 : -2 ~ 6도, 강수확률 : 30%\n",
      "\t날짜 : 2024-12-20 오전, 날씨 : 흐림, 기온 : -1 ~ 8도, 강수확률 : 40%\n",
      "전라북도 지역의 전주 도시의 날씨입니다\n",
      "\t날짜 : 2024-12-14 오전, 날씨 : 흐리고 비/눈, 기온 : -2 ~ 5도, 강수확률 : 60%\n",
      "\t날짜 : 2024-12-14 오후, 날씨 : 흐림, 기온 : -2 ~ 5도, 강수확률 : 40%\n",
      "\t날짜 : 2024-12-15 오전, 날씨 : 흐리고 비/눈, 기온 : -1 ~ 6도, 강수확률 : 80%\n",
      "\t날짜 : 2024-12-15 오후, 날씨 : 흐리고 비/눈, 기온 : -1 ~ 6도, 강수확률 : 60%\n",
      "\t날짜 : 2024-12-16 오전, 날씨 : 구름많음, 기온 : 0 ~ 6도, 강수확률 : 30%\n",
      "\t날짜 : 2024-12-16 오후, 날씨 : 구름많음, 기온 : 0 ~ 6도, 강수확률 : 30%\n",
      "\t날짜 : 2024-12-17 오전, 날씨 : 구름많음, 기온 : 0 ~ 7도, 강수확률 : 20%\n",
      "\t날짜 : 2024-12-17 오후, 날씨 : 구름많음, 기온 : 0 ~ 7도, 강수확률 : 20%\n",
      "\t날짜 : 2024-12-18 오전, 날씨 : 맑음, 기온 : -1 ~ 7도, 강수확률 : 10%\n",
      "\t날짜 : 2024-12-19 오전, 날씨 : 구름많음, 기온 : -1 ~ 7도, 강수확률 : 30%\n",
      "\t날짜 : 2024-12-20 오전, 날씨 : 흐림, 기온 : -1 ~ 8도, 강수확률 : 40%\n",
      "전라북도 지역의 군산 도시의 날씨입니다\n",
      "\t날짜 : 2024-12-14 오전, 날씨 : 흐리고 비/눈, 기온 : -2 ~ 5도, 강수확률 : 60%\n",
      "\t날짜 : 2024-12-14 오후, 날씨 : 흐림, 기온 : -2 ~ 5도, 강수확률 : 40%\n",
      "\t날짜 : 2024-12-15 오전, 날씨 : 흐리고 비/눈, 기온 : 0 ~ 7도, 강수확률 : 80%\n",
      "\t날짜 : 2024-12-15 오후, 날씨 : 흐리고 비/눈, 기온 : 0 ~ 7도, 강수확률 : 60%\n",
      "\t날짜 : 2024-12-16 오전, 날씨 : 구름많음, 기온 : 0 ~ 6도, 강수확률 : 30%\n",
      "\t날짜 : 2024-12-16 오후, 날씨 : 구름많음, 기온 : 0 ~ 6도, 강수확률 : 30%\n",
      "\t날짜 : 2024-12-17 오전, 날씨 : 구름많음, 기온 : -1 ~ 7도, 강수확률 : 20%\n",
      "\t날짜 : 2024-12-17 오후, 날씨 : 구름많음, 기온 : -1 ~ 7도, 강수확률 : 20%\n",
      "\t날짜 : 2024-12-18 오전, 날씨 : 맑음, 기온 : -2 ~ 6도, 강수확률 : 10%\n",
      "\t날짜 : 2024-12-19 오전, 날씨 : 구름많음, 기온 : -2 ~ 6도, 강수확률 : 30%\n",
      "\t날짜 : 2024-12-20 오전, 날씨 : 흐림, 기온 : -2 ~ 7도, 강수확률 : 40%\n",
      "전라북도 지역의 정읍 도시의 날씨입니다\n",
      "\t날짜 : 2024-12-14 오전, 날씨 : 흐리고 비/눈, 기온 : -2 ~ 5도, 강수확률 : 60%\n",
      "\t날짜 : 2024-12-14 오후, 날씨 : 흐림, 기온 : -2 ~ 5도, 강수확률 : 40%\n",
      "\t날짜 : 2024-12-15 오전, 날씨 : 흐리고 비/눈, 기온 : -1 ~ 7도, 강수확률 : 80%\n",
      "\t날짜 : 2024-12-15 오후, 날씨 : 흐리고 비/눈, 기온 : -1 ~ 7도, 강수확률 : 60%\n",
      "\t날짜 : 2024-12-16 오전, 날씨 : 구름많음, 기온 : 0 ~ 7도, 강수확률 : 30%\n",
      "\t날짜 : 2024-12-16 오후, 날씨 : 구름많음, 기온 : 0 ~ 7도, 강수확률 : 30%\n",
      "\t날짜 : 2024-12-17 오전, 날씨 : 구름많음, 기온 : 0 ~ 7도, 강수확률 : 20%\n",
      "\t날짜 : 2024-12-17 오후, 날씨 : 구름많음, 기온 : 0 ~ 7도, 강수확률 : 20%\n",
      "\t날짜 : 2024-12-18 오전, 날씨 : 맑음, 기온 : -2 ~ 6도, 강수확률 : 10%\n",
      "\t날짜 : 2024-12-19 오전, 날씨 : 구름많음, 기온 : -2 ~ 6도, 강수확률 : 30%\n",
      "\t날짜 : 2024-12-20 오전, 날씨 : 흐림, 기온 : -2 ~ 7도, 강수확률 : 40%\n",
      "전라북도 지역의 남원 도시의 날씨입니다\n",
      "\t날짜 : 2024-12-14 오전, 날씨 : 흐리고 비/눈, 기온 : -4 ~ 4도, 강수확률 : 60%\n",
      "\t날짜 : 2024-12-14 오후, 날씨 : 흐림, 기온 : -4 ~ 4도, 강수확률 : 40%\n",
      "\t날짜 : 2024-12-15 오전, 날씨 : 흐리고 비/눈, 기온 : -3 ~ 5도, 강수확률 : 80%\n",
      "\t날짜 : 2024-12-15 오후, 날씨 : 흐리고 비/눈, 기온 : -3 ~ 5도, 강수확률 : 60%\n",
      "\t날짜 : 2024-12-16 오전, 날씨 : 구름많음, 기온 : -1 ~ 6도, 강수확률 : 30%\n",
      "\t날짜 : 2024-12-16 오후, 날씨 : 구름많음, 기온 : -1 ~ 6도, 강수확률 : 30%\n",
      "\t날짜 : 2024-12-17 오전, 날씨 : 구름많음, 기온 : -2 ~ 6도, 강수확률 : 20%\n",
      "\t날짜 : 2024-12-17 오후, 날씨 : 구름많음, 기온 : -2 ~ 6도, 강수확률 : 20%\n",
      "\t날짜 : 2024-12-18 오전, 날씨 : 맑음, 기온 : -2 ~ 6도, 강수확률 : 10%\n",
      "\t날짜 : 2024-12-19 오전, 날씨 : 구름많음, 기온 : -2 ~ 6도, 강수확률 : 30%\n",
      "\t날짜 : 2024-12-20 오전, 날씨 : 흐림, 기온 : -2 ~ 8도, 강수확률 : 40%\n",
      "전라북도 지역의 고창 도시의 날씨입니다\n",
      "\t날짜 : 2024-12-14 오전, 날씨 : 흐리고 비/눈, 기온 : -1 ~ 5도, 강수확률 : 60%\n",
      "\t날짜 : 2024-12-14 오후, 날씨 : 흐림, 기온 : -1 ~ 5도, 강수확률 : 40%\n",
      "\t날짜 : 2024-12-15 오전, 날씨 : 흐리고 비/눈, 기온 : 0 ~ 6도, 강수확률 : 80%\n",
      "\t날짜 : 2024-12-15 오후, 날씨 : 흐리고 비/눈, 기온 : 0 ~ 6도, 강수확률 : 60%\n",
      "\t날짜 : 2024-12-16 오전, 날씨 : 구름많음, 기온 : 1 ~ 7도, 강수확률 : 30%\n",
      "\t날짜 : 2024-12-16 오후, 날씨 : 구름많음, 기온 : 1 ~ 7도, 강수확률 : 30%\n",
      "\t날짜 : 2024-12-17 오전, 날씨 : 구름많음, 기온 : 0 ~ 7도, 강수확률 : 20%\n",
      "\t날짜 : 2024-12-17 오후, 날씨 : 구름많음, 기온 : 0 ~ 7도, 강수확률 : 20%\n",
      "\t날짜 : 2024-12-18 오전, 날씨 : 맑음, 기온 : -1 ~ 7도, 강수확률 : 10%\n",
      "\t날짜 : 2024-12-19 오전, 날씨 : 구름많음, 기온 : -1 ~ 7도, 강수확률 : 30%\n",
      "\t날짜 : 2024-12-20 오전, 날씨 : 흐림, 기온 : -1 ~ 8도, 강수확률 : 40%\n",
      "전라북도 지역의 무주 도시의 날씨입니다\n",
      "\t날짜 : 2024-12-14 오전, 날씨 : 흐리고 비/눈, 기온 : -7 ~ 3도, 강수확률 : 60%\n",
      "\t날짜 : 2024-12-14 오후, 날씨 : 흐림, 기온 : -7 ~ 3도, 강수확률 : 40%\n",
      "\t날짜 : 2024-12-15 오전, 날씨 : 흐리고 비/눈, 기온 : -5 ~ 3도, 강수확률 : 80%\n",
      "\t날짜 : 2024-12-15 오후, 날씨 : 흐리고 비/눈, 기온 : -5 ~ 3도, 강수확률 : 60%\n",
      "\t날짜 : 2024-12-16 오전, 날씨 : 구름많음, 기온 : -3 ~ 5도, 강수확률 : 30%\n",
      "\t날짜 : 2024-12-16 오후, 날씨 : 구름많음, 기온 : -3 ~ 5도, 강수확률 : 30%\n",
      "\t날짜 : 2024-12-17 오전, 날씨 : 구름많음, 기온 : -4 ~ 4도, 강수확률 : 20%\n",
      "\t날짜 : 2024-12-17 오후, 날씨 : 구름많음, 기온 : -4 ~ 4도, 강수확률 : 20%\n",
      "\t날짜 : 2024-12-18 오전, 날씨 : 맑음, 기온 : -5 ~ 5도, 강수확률 : 10%\n",
      "\t날짜 : 2024-12-19 오전, 날씨 : 구름많음, 기온 : -5 ~ 5도, 강수확률 : 30%\n",
      "\t날짜 : 2024-12-20 오전, 날씨 : 흐림, 기온 : -4 ~ 7도, 강수확률 : 40%\n",
      "부산ㆍ울산ㆍ경상남도 지역의 부산 도시의 날씨입니다\n",
      "\t날짜 : 2024-12-14 오전, 날씨 : 맑음, 기온 : 1 ~ 8도, 강수확률 : 10%\n",
      "\t날짜 : 2024-12-14 오후, 날씨 : 맑음, 기온 : 1 ~ 8도, 강수확률 : 10%\n",
      "\t날짜 : 2024-12-15 오전, 날씨 : 맑음, 기온 : 1 ~ 9도, 강수확률 : 10%\n",
      "\t날짜 : 2024-12-15 오후, 날씨 : 구름많음, 기온 : 1 ~ 9도, 강수확률 : 20%\n",
      "\t날짜 : 2024-12-16 오전, 날씨 : 맑음, 기온 : 2 ~ 9도, 강수확률 : 10%\n",
      "\t날짜 : 2024-12-16 오후, 날씨 : 맑음, 기온 : 2 ~ 9도, 강수확률 : 10%\n",
      "\t날짜 : 2024-12-17 오전, 날씨 : 맑음, 기온 : 2 ~ 11도, 강수확률 : 10%\n",
      "\t날짜 : 2024-12-17 오후, 날씨 : 맑음, 기온 : 2 ~ 11도, 강수확률 : 10%\n",
      "\t날짜 : 2024-12-18 오전, 날씨 : 맑음, 기온 : 3 ~ 10도, 강수확률 : 10%\n",
      "\t날짜 : 2024-12-19 오전, 날씨 : 구름많음, 기온 : 3 ~ 10도, 강수확률 : 20%\n",
      "\t날짜 : 2024-12-20 오전, 날씨 : 구름많음, 기온 : 4 ~ 11도, 강수확률 : 30%\n",
      "부산ㆍ울산ㆍ경상남도 지역의 울산 도시의 날씨입니다\n",
      "\t날짜 : 2024-12-14 오전, 날씨 : 맑음, 기온 : -1 ~ 6도, 강수확률 : 10%\n",
      "\t날짜 : 2024-12-14 오후, 날씨 : 맑음, 기온 : -1 ~ 6도, 강수확률 : 10%\n",
      "\t날짜 : 2024-12-15 오전, 날씨 : 맑음, 기온 : -1 ~ 7도, 강수확률 : 10%\n",
      "\t날짜 : 2024-12-15 오후, 날씨 : 구름많음, 기온 : -1 ~ 7도, 강수확률 : 20%\n",
      "\t날짜 : 2024-12-16 오전, 날씨 : 맑음, 기온 : 0 ~ 8도, 강수확률 : 10%\n",
      "\t날짜 : 2024-12-16 오후, 날씨 : 맑음, 기온 : 0 ~ 8도, 강수확률 : 10%\n",
      "\t날짜 : 2024-12-17 오전, 날씨 : 맑음, 기온 : -1 ~ 9도, 강수확률 : 10%\n",
      "\t날짜 : 2024-12-17 오후, 날씨 : 맑음, 기온 : -1 ~ 9도, 강수확률 : 10%\n",
      "\t날짜 : 2024-12-18 오전, 날씨 : 맑음, 기온 : 1 ~ 9도, 강수확률 : 10%\n",
      "\t날짜 : 2024-12-19 오전, 날씨 : 구름많음, 기온 : 1 ~ 9도, 강수확률 : 20%\n",
      "\t날짜 : 2024-12-20 오전, 날씨 : 구름많음, 기온 : 0 ~ 9도, 강수확률 : 30%\n",
      "부산ㆍ울산ㆍ경상남도 지역의 창원 도시의 날씨입니다\n",
      "\t날짜 : 2024-12-14 오전, 날씨 : 맑음, 기온 : 0 ~ 7도, 강수확률 : 10%\n",
      "\t날짜 : 2024-12-14 오후, 날씨 : 맑음, 기온 : 0 ~ 7도, 강수확률 : 10%\n",
      "\t날짜 : 2024-12-15 오전, 날씨 : 맑음, 기온 : -1 ~ 8도, 강수확률 : 10%\n",
      "\t날짜 : 2024-12-15 오후, 날씨 : 구름많음, 기온 : -1 ~ 8도, 강수확률 : 20%\n",
      "\t날짜 : 2024-12-16 오전, 날씨 : 맑음, 기온 : 0 ~ 8도, 강수확률 : 10%\n",
      "\t날짜 : 2024-12-16 오후, 날씨 : 맑음, 기온 : 0 ~ 8도, 강수확률 : 10%\n",
      "\t날짜 : 2024-12-17 오전, 날씨 : 맑음, 기온 : 0 ~ 9도, 강수확률 : 10%\n",
      "\t날짜 : 2024-12-17 오후, 날씨 : 맑음, 기온 : 0 ~ 9도, 강수확률 : 10%\n",
      "\t날짜 : 2024-12-18 오전, 날씨 : 맑음, 기온 : 1 ~ 9도, 강수확률 : 10%\n",
      "\t날짜 : 2024-12-19 오전, 날씨 : 구름많음, 기온 : 1 ~ 9도, 강수확률 : 20%\n",
      "\t날짜 : 2024-12-20 오전, 날씨 : 구름많음, 기온 : 1 ~ 9도, 강수확률 : 30%\n",
      "부산ㆍ울산ㆍ경상남도 지역의 진주 도시의 날씨입니다\n",
      "\t날짜 : 2024-12-14 오전, 날씨 : 맑음, 기온 : -3 ~ 7도, 강수확률 : 10%\n",
      "\t날짜 : 2024-12-14 오후, 날씨 : 맑음, 기온 : -3 ~ 7도, 강수확률 : 10%\n",
      "\t날짜 : 2024-12-15 오전, 날씨 : 맑음, 기온 : -3 ~ 8도, 강수확률 : 10%\n",
      "\t날짜 : 2024-12-15 오후, 날씨 : 구름많음, 기온 : -3 ~ 8도, 강수확률 : 20%\n",
      "\t날짜 : 2024-12-16 오전, 날씨 : 맑음, 기온 : -1 ~ 9도, 강수확률 : 10%\n",
      "\t날짜 : 2024-12-16 오후, 날씨 : 맑음, 기온 : -1 ~ 9도, 강수확률 : 10%\n",
      "\t날짜 : 2024-12-17 오전, 날씨 : 맑음, 기온 : -3 ~ 9도, 강수확률 : 10%\n",
      "\t날짜 : 2024-12-17 오후, 날씨 : 맑음, 기온 : -3 ~ 9도, 강수확률 : 10%\n",
      "\t날짜 : 2024-12-18 오전, 날씨 : 맑음, 기온 : -2 ~ 9도, 강수확률 : 10%\n",
      "\t날짜 : 2024-12-19 오전, 날씨 : 구름많음, 기온 : -2 ~ 9도, 강수확률 : 20%\n",
      "\t날짜 : 2024-12-20 오전, 날씨 : 구름많음, 기온 : -3 ~ 10도, 강수확률 : 30%\n",
      "부산ㆍ울산ㆍ경상남도 지역의 거창 도시의 날씨입니다\n",
      "\t날짜 : 2024-12-14 오전, 날씨 : 맑음, 기온 : -4 ~ 4도, 강수확률 : 10%\n",
      "\t날짜 : 2024-12-14 오후, 날씨 : 맑음, 기온 : -4 ~ 4도, 강수확률 : 10%\n",
      "\t날짜 : 2024-12-15 오전, 날씨 : 맑음, 기온 : -4 ~ 5도, 강수확률 : 10%\n",
      "\t날짜 : 2024-12-15 오후, 날씨 : 구름많음, 기온 : -4 ~ 5도, 강수확률 : 20%\n",
      "\t날짜 : 2024-12-16 오전, 날씨 : 맑음, 기온 : -2 ~ 6도, 강수확률 : 10%\n",
      "\t날짜 : 2024-12-16 오후, 날씨 : 맑음, 기온 : -2 ~ 6도, 강수확률 : 10%\n",
      "\t날짜 : 2024-12-17 오전, 날씨 : 맑음, 기온 : -3 ~ 7도, 강수확률 : 10%\n",
      "\t날짜 : 2024-12-17 오후, 날씨 : 맑음, 기온 : -3 ~ 7도, 강수확률 : 10%\n",
      "\t날짜 : 2024-12-18 오전, 날씨 : 맑음, 기온 : -3 ~ 8도, 강수확률 : 10%\n",
      "\t날짜 : 2024-12-19 오전, 날씨 : 구름많음, 기온 : -3 ~ 8도, 강수확률 : 20%\n",
      "\t날짜 : 2024-12-20 오전, 날씨 : 구름많음, 기온 : -5 ~ 8도, 강수확률 : 30%\n",
      "부산ㆍ울산ㆍ경상남도 지역의 통영 도시의 날씨입니다\n",
      "\t날짜 : 2024-12-14 오전, 날씨 : 맑음, 기온 : 1 ~ 8도, 강수확률 : 10%\n",
      "\t날짜 : 2024-12-14 오후, 날씨 : 맑음, 기온 : 1 ~ 8도, 강수확률 : 10%\n",
      "\t날짜 : 2024-12-15 오전, 날씨 : 맑음, 기온 : 1 ~ 9도, 강수확률 : 10%\n",
      "\t날짜 : 2024-12-15 오후, 날씨 : 구름많음, 기온 : 1 ~ 9도, 강수확률 : 20%\n",
      "\t날짜 : 2024-12-16 오전, 날씨 : 맑음, 기온 : 3 ~ 9도, 강수확률 : 10%\n",
      "\t날짜 : 2024-12-16 오후, 날씨 : 맑음, 기온 : 3 ~ 9도, 강수확률 : 10%\n",
      "\t날짜 : 2024-12-17 오전, 날씨 : 맑음, 기온 : 2 ~ 10도, 강수확률 : 10%\n",
      "\t날짜 : 2024-12-17 오후, 날씨 : 맑음, 기온 : 2 ~ 10도, 강수확률 : 10%\n",
      "\t날짜 : 2024-12-18 오전, 날씨 : 맑음, 기온 : 1 ~ 10도, 강수확률 : 10%\n",
      "\t날짜 : 2024-12-19 오전, 날씨 : 구름많음, 기온 : 1 ~ 10도, 강수확률 : 20%\n",
      "\t날짜 : 2024-12-20 오전, 날씨 : 구름많음, 기온 : 3 ~ 10도, 강수확률 : 30%\n",
      "대구ㆍ경상북도 지역의 대구 도시의 날씨입니다\n",
      "\t날짜 : 2024-12-14 오전, 날씨 : 맑음, 기온 : -2 ~ 6도, 강수확률 : 10%\n",
      "\t날짜 : 2024-12-14 오후, 날씨 : 맑음, 기온 : -2 ~ 6도, 강수확률 : 10%\n",
      "\t날짜 : 2024-12-15 오전, 날씨 : 구름많음, 기온 : -2 ~ 6도, 강수확률 : 20%\n",
      "\t날짜 : 2024-12-15 오후, 날씨 : 구름많음, 기온 : -2 ~ 6도, 강수확률 : 20%\n",
      "\t날짜 : 2024-12-16 오전, 날씨 : 맑음, 기온 : -1 ~ 6도, 강수확률 : 10%\n",
      "\t날짜 : 2024-12-16 오후, 날씨 : 맑음, 기온 : -1 ~ 6도, 강수확률 : 10%\n",
      "\t날짜 : 2024-12-17 오전, 날씨 : 맑음, 기온 : -2 ~ 7도, 강수확률 : 10%\n",
      "\t날짜 : 2024-12-17 오후, 날씨 : 맑음, 기온 : -2 ~ 7도, 강수확률 : 10%\n",
      "\t날짜 : 2024-12-18 오전, 날씨 : 맑음, 기온 : 0 ~ 7도, 강수확률 : 10%\n",
      "\t날짜 : 2024-12-19 오전, 날씨 : 구름많음, 기온 : 0 ~ 7도, 강수확률 : 30%\n",
      "\t날짜 : 2024-12-20 오전, 날씨 : 구름많음, 기온 : -2 ~ 8도, 강수확률 : 30%\n",
      "대구ㆍ경상북도 지역의 안동 도시의 날씨입니다\n",
      "\t날짜 : 2024-12-14 오전, 날씨 : 맑음, 기온 : -5 ~ 5도, 강수확률 : 10%\n",
      "\t날짜 : 2024-12-14 오후, 날씨 : 맑음, 기온 : -5 ~ 5도, 강수확률 : 10%\n",
      "\t날짜 : 2024-12-15 오전, 날씨 : 구름많음, 기온 : -5 ~ 5도, 강수확률 : 20%\n",
      "\t날짜 : 2024-12-15 오후, 날씨 : 구름많음, 기온 : -5 ~ 5도, 강수확률 : 20%\n",
      "\t날짜 : 2024-12-16 오전, 날씨 : 맑음, 기온 : -4 ~ 5도, 강수확률 : 10%\n",
      "\t날짜 : 2024-12-16 오후, 날씨 : 맑음, 기온 : -4 ~ 5도, 강수확률 : 10%\n",
      "\t날짜 : 2024-12-17 오전, 날씨 : 맑음, 기온 : -4 ~ 6도, 강수확률 : 10%\n",
      "\t날짜 : 2024-12-17 오후, 날씨 : 맑음, 기온 : -4 ~ 6도, 강수확률 : 10%\n",
      "\t날짜 : 2024-12-18 오전, 날씨 : 맑음, 기온 : -4 ~ 7도, 강수확률 : 10%\n",
      "\t날짜 : 2024-12-19 오전, 날씨 : 구름많음, 기온 : -4 ~ 7도, 강수확률 : 30%\n",
      "\t날짜 : 2024-12-20 오전, 날씨 : 구름많음, 기온 : -5 ~ 7도, 강수확률 : 30%\n",
      "대구ㆍ경상북도 지역의 포항 도시의 날씨입니다\n",
      "\t날짜 : 2024-12-14 오전, 날씨 : 맑음, 기온 : -1 ~ 6도, 강수확률 : 10%\n",
      "\t날짜 : 2024-12-14 오후, 날씨 : 맑음, 기온 : -1 ~ 6도, 강수확률 : 10%\n",
      "\t날짜 : 2024-12-15 오전, 날씨 : 구름많음, 기온 : -1 ~ 7도, 강수확률 : 20%\n",
      "\t날짜 : 2024-12-15 오후, 날씨 : 구름많음, 기온 : -1 ~ 7도, 강수확률 : 20%\n",
      "\t날짜 : 2024-12-16 오전, 날씨 : 맑음, 기온 : 0 ~ 7도, 강수확률 : 10%\n",
      "\t날짜 : 2024-12-16 오후, 날씨 : 맑음, 기온 : 0 ~ 7도, 강수확률 : 10%\n",
      "\t날짜 : 2024-12-17 오전, 날씨 : 맑음, 기온 : 0 ~ 8도, 강수확률 : 10%\n",
      "\t날짜 : 2024-12-17 오후, 날씨 : 맑음, 기온 : 0 ~ 8도, 강수확률 : 10%\n",
      "\t날짜 : 2024-12-18 오전, 날씨 : 맑음, 기온 : 1 ~ 9도, 강수확률 : 10%\n",
      "\t날짜 : 2024-12-19 오전, 날씨 : 구름많음, 기온 : 1 ~ 9도, 강수확률 : 30%\n",
      "\t날짜 : 2024-12-20 오전, 날씨 : 구름많음, 기온 : 1 ~ 9도, 강수확률 : 30%\n",
      "대구ㆍ경상북도 지역의 경주 도시의 날씨입니다\n",
      "\t날짜 : 2024-12-14 오전, 날씨 : 맑음, 기온 : -2 ~ 5도, 강수확률 : 10%\n",
      "\t날짜 : 2024-12-14 오후, 날씨 : 맑음, 기온 : -2 ~ 5도, 강수확률 : 10%\n",
      "\t날짜 : 2024-12-15 오전, 날씨 : 구름많음, 기온 : -2 ~ 6도, 강수확률 : 20%\n",
      "\t날짜 : 2024-12-15 오후, 날씨 : 구름많음, 기온 : -2 ~ 6도, 강수확률 : 20%\n",
      "\t날짜 : 2024-12-16 오전, 날씨 : 맑음, 기온 : -1 ~ 6도, 강수확률 : 10%\n",
      "\t날짜 : 2024-12-16 오후, 날씨 : 맑음, 기온 : -1 ~ 6도, 강수확률 : 10%\n",
      "\t날짜 : 2024-12-17 오전, 날씨 : 맑음, 기온 : -2 ~ 7도, 강수확률 : 10%\n",
      "\t날짜 : 2024-12-17 오후, 날씨 : 맑음, 기온 : -2 ~ 7도, 강수확률 : 10%\n",
      "\t날짜 : 2024-12-18 오전, 날씨 : 맑음, 기온 : -1 ~ 8도, 강수확률 : 10%\n",
      "\t날짜 : 2024-12-19 오전, 날씨 : 구름많음, 기온 : -1 ~ 8도, 강수확률 : 30%\n",
      "\t날짜 : 2024-12-20 오전, 날씨 : 구름많음, 기온 : -2 ~ 9도, 강수확률 : 30%\n",
      "대구ㆍ경상북도 지역의 울진 도시의 날씨입니다\n",
      "\t날짜 : 2024-12-14 오전, 날씨 : 맑음, 기온 : -1 ~ 8도, 강수확률 : 10%\n",
      "\t날짜 : 2024-12-14 오후, 날씨 : 맑음, 기온 : -1 ~ 8도, 강수확률 : 10%\n",
      "\t날짜 : 2024-12-15 오전, 날씨 : 구름많음, 기온 : -2 ~ 7도, 강수확률 : 20%\n",
      "\t날짜 : 2024-12-15 오후, 날씨 : 구름많음, 기온 : -2 ~ 7도, 강수확률 : 20%\n",
      "\t날짜 : 2024-12-16 오전, 날씨 : 맑음, 기온 : -1 ~ 8도, 강수확률 : 10%\n",
      "\t날짜 : 2024-12-16 오후, 날씨 : 맑음, 기온 : -1 ~ 8도, 강수확률 : 10%\n",
      "\t날짜 : 2024-12-17 오전, 날씨 : 맑음, 기온 : -1 ~ 8도, 강수확률 : 10%\n",
      "\t날짜 : 2024-12-17 오후, 날씨 : 맑음, 기온 : -1 ~ 8도, 강수확률 : 10%\n",
      "\t날짜 : 2024-12-18 오전, 날씨 : 맑음, 기온 : 0 ~ 8도, 강수확률 : 10%\n",
      "\t날짜 : 2024-12-19 오전, 날씨 : 구름많음, 기온 : 0 ~ 8도, 강수확률 : 30%\n",
      "\t날짜 : 2024-12-20 오전, 날씨 : 구름많음, 기온 : 1 ~ 9도, 강수확률 : 30%\n",
      "대구ㆍ경상북도 지역의 울릉도 도시의 날씨입니다\n",
      "\t날짜 : 2024-12-14 오전, 날씨 : 맑음, 기온 : 2 ~ 5도, 강수확률 : 10%\n",
      "\t날짜 : 2024-12-14 오후, 날씨 : 맑음, 기온 : 2 ~ 5도, 강수확률 : 10%\n",
      "\t날짜 : 2024-12-15 오전, 날씨 : 구름많음, 기온 : 2 ~ 6도, 강수확률 : 20%\n",
      "\t날짜 : 2024-12-15 오후, 날씨 : 구름많음, 기온 : 2 ~ 6도, 강수확률 : 20%\n",
      "\t날짜 : 2024-12-16 오전, 날씨 : 맑음, 기온 : 2 ~ 6도, 강수확률 : 10%\n",
      "\t날짜 : 2024-12-16 오후, 날씨 : 맑음, 기온 : 2 ~ 6도, 강수확률 : 10%\n",
      "\t날짜 : 2024-12-17 오전, 날씨 : 맑음, 기온 : 3 ~ 7도, 강수확률 : 10%\n",
      "\t날짜 : 2024-12-17 오후, 날씨 : 맑음, 기온 : 3 ~ 7도, 강수확률 : 10%\n",
      "\t날짜 : 2024-12-18 오전, 날씨 : 맑음, 기온 : 4 ~ 7도, 강수확률 : 10%\n",
      "\t날짜 : 2024-12-19 오전, 날씨 : 구름많음, 기온 : 4 ~ 7도, 강수확률 : 30%\n",
      "\t날짜 : 2024-12-20 오전, 날씨 : 구름많음, 기온 : 5 ~ 8도, 강수확률 : 30%\n",
      "제주도 지역의 제주 도시의 날씨입니다\n",
      "\t날짜 : 2024-12-14 오전, 날씨 : 흐리고 비, 기온 : 5 ~ 9도, 강수확률 : 80%\n",
      "\t날짜 : 2024-12-14 오후, 날씨 : 흐리고 비, 기온 : 5 ~ 9도, 강수확률 : 70%\n",
      "\t날짜 : 2024-12-15 오전, 날씨 : 흐리고 비, 기온 : 6 ~ 10도, 강수확률 : 80%\n",
      "\t날짜 : 2024-12-15 오후, 날씨 : 흐리고 비, 기온 : 6 ~ 10도, 강수확률 : 60%\n",
      "\t날짜 : 2024-12-16 오전, 날씨 : 흐리고 비, 기온 : 7 ~ 10도, 강수확률 : 60%\n",
      "\t날짜 : 2024-12-16 오후, 날씨 : 흐림, 기온 : 7 ~ 10도, 강수확률 : 40%\n",
      "\t날짜 : 2024-12-17 오전, 날씨 : 구름많음, 기온 : 7 ~ 11도, 강수확률 : 40%\n",
      "\t날짜 : 2024-12-17 오후, 날씨 : 구름많음, 기온 : 7 ~ 11도, 강수확률 : 40%\n",
      "\t날짜 : 2024-12-18 오전, 날씨 : 맑음, 기온 : 6 ~ 11도, 강수확률 : 20%\n",
      "\t날짜 : 2024-12-19 오전, 날씨 : 구름많음, 기온 : 6 ~ 11도, 강수확률 : 30%\n",
      "\t날짜 : 2024-12-20 오전, 날씨 : 구름많음, 기온 : 7 ~ 11도, 강수확률 : 30%\n",
      "제주도 지역의 서귀포 도시의 날씨입니다\n",
      "\t날짜 : 2024-12-14 오전, 날씨 : 흐리고 비, 기온 : 4 ~ 10도, 강수확률 : 80%\n",
      "\t날짜 : 2024-12-14 오후, 날씨 : 흐리고 비, 기온 : 4 ~ 10도, 강수확률 : 70%\n",
      "\t날짜 : 2024-12-15 오전, 날씨 : 흐리고 비, 기온 : 5 ~ 12도, 강수확률 : 80%\n",
      "\t날짜 : 2024-12-15 오후, 날씨 : 흐리고 비, 기온 : 5 ~ 12도, 강수확률 : 60%\n",
      "\t날짜 : 2024-12-16 오전, 날씨 : 흐리고 비, 기온 : 6 ~ 13도, 강수확률 : 60%\n",
      "\t날짜 : 2024-12-16 오후, 날씨 : 흐림, 기온 : 6 ~ 13도, 강수확률 : 40%\n",
      "\t날짜 : 2024-12-17 오전, 날씨 : 구름많음, 기온 : 6 ~ 13도, 강수확률 : 40%\n",
      "\t날짜 : 2024-12-17 오후, 날씨 : 구름많음, 기온 : 6 ~ 13도, 강수확률 : 40%\n",
      "\t날짜 : 2024-12-18 오전, 날씨 : 맑음, 기온 : 6 ~ 13도, 강수확률 : 20%\n",
      "\t날짜 : 2024-12-19 오전, 날씨 : 구름많음, 기온 : 6 ~ 13도, 강수확률 : 30%\n",
      "\t날짜 : 2024-12-20 오전, 날씨 : 구름많음, 기온 : 7 ~ 14도, 강수확률 : 30%\n"
     ]
    }
   ],
   "source": [
    "import re\n",
    "from urllib.request import urlopen\n",
    "url = 'https://www.kma.go.kr/weather/forecast/mid-term-rss3.jsp?stnId=108'\n",
    "target = urlopen(url)\n",
    "contents = target.read().decode('utf-8')\n",
    "# print(contents)\n",
    "locations = re.findall(r'<location wl_ver=\"3\">.+?</location>', contents, re.DOTALL)\n",
    "# print(len(locations))  # 지역 갯수 : 41개\n",
    "# print(locations[0])\n",
    "\n",
    "for loc in locations:\n",
    "    province = re.search(r'<province>(.+)</province>', loc).group(1)\n",
    "    city     = re.search(r'<city>(.+)</city>', loc).group(1)\n",
    "    print(province, '지역의', city, '도시의 날씨입니다')\n",
    "    data     = re.findall(r'<data>.+?</data>', loc, re.DOTALL)\n",
    "    # print(len(data), '개씩 담김')  # data 갯수 : 11개\n",
    "    \n",
    "    for item in data:  # item 하나에 들어있는 데이터\n",
    "        tmEf = re.search(r'<tmEf>(.+)</tmEf>', item).group(1)[:10]    # 날짜\n",
    "        time = re.search(r'<tmEf>(.+)</tmEf>', item).group(1)[11:13]  # 시간 : '00' 또는 '12'\n",
    "        ampm = '오전' if time == '00' else '오후'\n",
    "        # time = int(re.search(r'<tmEf>(.+)</tmEf>', item).group(1)[11:13])  # 시간 : '00' 또는 '12'\n",
    "        # ampm = '오전' if time < 12 else '오후'\n",
    "        wf   = re.search(r'<wf>(.+)</wf>', item).group(1)      # 날씨\n",
    "        tmn  = re.search(r'<tmn>(.+)</tmn>', item).group(1)    # 최저기온\n",
    "        tmx  = re.search(r'<tmx>(.+)</tmx>', item).group(1)    # 최고기온\n",
    "        rnSt = re.search(r'<rnSt>(.+)</rnSt>', item).group(1)  # 강수확률\n",
    "        print('\\t날짜 : {} {}, 날씨 : {}, 기온 : {} ~ {}도, 강수확률 : {}%'.format(tmEf, ampm, wf, tmn, tmx, rnSt))\n",
    "        #     ㄴ 들여쓰기 용도"
   ]
  },
  {
   "cell_type": "code",
   "execution_count": 111,
   "id": "3363a2cc",
   "metadata": {
    "ExecuteTime": {
     "end_time": "2024-12-10T02:05:45.665105Z",
     "start_time": "2024-12-10T02:05:45.517387Z"
    }
   },
   "outputs": [
    {
     "name": "stdout",
     "output_type": "stream",
     "text": [
      "<class 'pandas.core.frame.DataFrame'>\n",
      "RangeIndex: 451 entries, 0 to 450\n",
      "Data columns (total 8 columns):\n",
      " #   Column  Non-Null Count  Dtype \n",
      "---  ------  --------------  ----- \n",
      " 0   지역      451 non-null    object\n",
      " 1   도시      451 non-null    object\n",
      " 2   날짜      451 non-null    object\n",
      " 3   ampm    451 non-null    object\n",
      " 4   날씨      451 non-null    object\n",
      " 5   최저기온    451 non-null    object\n",
      " 6   최고기온    451 non-null    object\n",
      " 7   강수확률    451 non-null    object\n",
      "dtypes: object(8)\n",
      "memory usage: 28.3+ KB\n"
     ]
    }
   ],
   "source": [
    "# requests.get() 방식으로 전송, dict list에 append\n",
    "import re\n",
    "# from urllib.request import urlopen\n",
    "import requests\n",
    "items_list = []\n",
    "url = 'https://www.kma.go.kr/weather/forecast/mid-term-rss3.jsp?stnId=108'\n",
    "# target = urlopen(url)\n",
    "# contents = target.read().decode('utf-8')\n",
    "\n",
    "target = requests.get(url)\n",
    "# contents = target.content.decode('utf-8')\n",
    "contents = target.text\n",
    "\n",
    "locations = re.findall(r'<location wl_ver=\"3\">.+?</location>', contents, re.DOTALL)\n",
    "\n",
    "for loc in locations:\n",
    "    province = re.search(r'<province>(.+)</province>', loc).group(1)\n",
    "    city     = re.search(r'<city>(.+)</city>', loc).group(1)\n",
    "    # print(province, '지역의', city, '도시의 날씨입니다')\n",
    "    data     = re.findall(r'<data>.+?</data>', loc, re.DOTALL)\n",
    "    \n",
    "    for item in data:  # item 하나에 들어있는 데이터\n",
    "        tmEf = re.search(r'<tmEf>(.+)</tmEf>', item).group(1)[:10]    # 날짜\n",
    "        time = re.search(r'<tmEf>(.+)</tmEf>', item).group(1)[11:13]  # 시간 : '00' 또는 '12'\n",
    "        ampm = '오전' if time == '00' else '오후'\n",
    "        wf   = re.search(r'<wf>(.+)</wf>', item).group(1)      # 날씨\n",
    "        tmn  = re.search(r'<tmn>(.+)</tmn>', item).group(1)    # 최저기온\n",
    "        tmx  = re.search(r'<tmx>(.+)</tmx>', item).group(1)    # 최고기온\n",
    "        rnSt = re.search(r'<rnSt>(.+)</rnSt>', item).group(1)  # 강수확률\n",
    "        # print('\\t날짜 : {} {}, 날씨 : {}, 기온 : {} ~ {}도, 강수확률 : {}%'.format(tmEf, ampm, wf, tmn, tmx, rnSt))\n",
    "        #     ㄴ 들여쓰기 용도\n",
    "        items_list.append({\n",
    "            '지역' : province,\n",
    "            '도시' : city,\n",
    "            '날짜' : tmEf,\n",
    "            'ampm' : ampm,\n",
    "            '날씨' : wf,\n",
    "            '최저기온' : tmn,\n",
    "            '최고기온' : tmx,\n",
    "            '강수확률' : rnSt\n",
    "        })\n",
    "import pandas as pd\n",
    "df = pd.DataFrame(items_list)\n",
    "df.info()  # 날짜 dtype : object"
   ]
  },
  {
   "cell_type": "code",
   "execution_count": 112,
   "id": "02508f36",
   "metadata": {
    "ExecuteTime": {
     "end_time": "2024-12-10T02:05:45.672854Z",
     "start_time": "2024-12-10T02:05:45.668104Z"
    }
   },
   "outputs": [],
   "source": [
    "# 데이터 타입 변경 : \n",
    "#   astype(유효성 검사가 엄격함)\n",
    "#   to_numeric, to_datetime(데이터가 불안정하거나 비표준 형식일 때 편리함)"
   ]
  },
  {
   "cell_type": "code",
   "execution_count": 113,
   "id": "a12dc749",
   "metadata": {
    "ExecuteTime": {
     "end_time": "2024-12-10T02:05:45.836361Z",
     "start_time": "2024-12-10T02:05:45.803535Z"
    }
   },
   "outputs": [
    {
     "data": {
      "text/plain": [
       "0     2024-12-14\n",
       "1     2024-12-14\n",
       "2     2024-12-15\n",
       "3     2024-12-15\n",
       "4     2024-12-16\n",
       "         ...    \n",
       "446   2024-12-17\n",
       "447   2024-12-17\n",
       "448   2024-12-18\n",
       "449   2024-12-19\n",
       "450   2024-12-20\n",
       "Name: 날짜, Length: 451, dtype: datetime64[ns]"
      ]
     },
     "execution_count": 113,
     "metadata": {},
     "output_type": "execute_result"
    }
   ],
   "source": [
    "df['날짜'].astype('datetime64[ns]')  # [ns] : 나노초 단위"
   ]
  },
  {
   "cell_type": "code",
   "execution_count": 114,
   "id": "9081d618",
   "metadata": {
    "ExecuteTime": {
     "end_time": "2024-12-10T02:05:45.970964Z",
     "start_time": "2024-12-10T02:05:45.953863Z"
    }
   },
   "outputs": [
    {
     "name": "stdout",
     "output_type": "stream",
     "text": [
      "<class 'pandas.core.frame.DataFrame'>\n",
      "RangeIndex: 451 entries, 0 to 450\n",
      "Data columns (total 8 columns):\n",
      " #   Column  Non-Null Count  Dtype         \n",
      "---  ------  --------------  -----         \n",
      " 0   지역      451 non-null    object        \n",
      " 1   도시      451 non-null    object        \n",
      " 2   날짜      451 non-null    datetime64[ns]\n",
      " 3   ampm    451 non-null    object        \n",
      " 4   날씨      451 non-null    object        \n",
      " 5   최저기온    451 non-null    object        \n",
      " 6   최고기온    451 non-null    object        \n",
      " 7   강수확률    451 non-null    object        \n",
      "dtypes: datetime64[ns](1), object(7)\n",
      "memory usage: 28.3+ KB\n"
     ]
    }
   ],
   "source": [
    "df['날짜'] = pd.to_datetime(df['날짜'])\n",
    "df.info()"
   ]
  },
  {
   "cell_type": "code",
   "execution_count": 115,
   "id": "a1b56d6d",
   "metadata": {
    "ExecuteTime": {
     "end_time": "2024-12-10T02:05:46.117017Z",
     "start_time": "2024-12-10T02:05:46.091939Z"
    }
   },
   "outputs": [
    {
     "name": "stdout",
     "output_type": "stream",
     "text": [
      "<class 'pandas.core.frame.DataFrame'>\n",
      "RangeIndex: 451 entries, 0 to 450\n",
      "Data columns (total 8 columns):\n",
      " #   Column  Non-Null Count  Dtype         \n",
      "---  ------  --------------  -----         \n",
      " 0   지역      451 non-null    object        \n",
      " 1   도시      451 non-null    object        \n",
      " 2   날짜      451 non-null    datetime64[ns]\n",
      " 3   ampm    451 non-null    object        \n",
      " 4   날씨      451 non-null    object        \n",
      " 5   최저기온    451 non-null    int32         \n",
      " 6   최고기온    451 non-null    int32         \n",
      " 7   강수확률    451 non-null    int64         \n",
      "dtypes: datetime64[ns](1), int32(2), int64(1), object(4)\n",
      "memory usage: 24.8+ KB\n"
     ]
    }
   ],
   "source": [
    "df['최저기온'] = df['최저기온'].astype('int')\n",
    "df['최고기온'] = df['최고기온'].astype('int')\n",
    "df['강수확률'] = pd.to_numeric(df['강수확률'])\n",
    "df.info()"
   ]
  },
  {
   "cell_type": "markdown",
   "id": "89c49ee6",
   "metadata": {},
   "source": [
    "### 2) 전국 날씨 RSS를 BeautifulSoup을 이용한 xml 크롤링"
   ]
  },
  {
   "cell_type": "code",
   "execution_count": 129,
   "id": "125efffa",
   "metadata": {
    "ExecuteTime": {
     "end_time": "2024-12-10T02:44:14.562984Z",
     "start_time": "2024-12-10T02:44:14.062384Z"
    }
   },
   "outputs": [
    {
     "data": {
      "text/html": [
       "<div>\n",
       "<style scoped>\n",
       "    .dataframe tbody tr th:only-of-type {\n",
       "        vertical-align: middle;\n",
       "    }\n",
       "\n",
       "    .dataframe tbody tr th {\n",
       "        vertical-align: top;\n",
       "    }\n",
       "\n",
       "    .dataframe thead th {\n",
       "        text-align: right;\n",
       "    }\n",
       "</style>\n",
       "<table border=\"1\" class=\"dataframe\">\n",
       "  <thead>\n",
       "    <tr style=\"text-align: right;\">\n",
       "      <th></th>\n",
       "      <th>지역</th>\n",
       "      <th>도시</th>\n",
       "      <th>날짜</th>\n",
       "      <th>ampm</th>\n",
       "      <th>날씨</th>\n",
       "      <th>최저기온</th>\n",
       "      <th>최고기온</th>\n",
       "      <th>강수확률</th>\n",
       "    </tr>\n",
       "  </thead>\n",
       "  <tbody>\n",
       "    <tr>\n",
       "      <th>0</th>\n",
       "      <td>서울ㆍ인천ㆍ경기도</td>\n",
       "      <td>서울</td>\n",
       "      <td>2024-12-14</td>\n",
       "      <td>오전</td>\n",
       "      <td>맑음</td>\n",
       "      <td>-5</td>\n",
       "      <td>2</td>\n",
       "      <td>10</td>\n",
       "    </tr>\n",
       "    <tr>\n",
       "      <th>1</th>\n",
       "      <td>서울ㆍ인천ㆍ경기도</td>\n",
       "      <td>서울</td>\n",
       "      <td>2024-12-14</td>\n",
       "      <td>오후</td>\n",
       "      <td>맑음</td>\n",
       "      <td>-5</td>\n",
       "      <td>2</td>\n",
       "      <td>10</td>\n",
       "    </tr>\n",
       "    <tr>\n",
       "      <th>2</th>\n",
       "      <td>서울ㆍ인천ㆍ경기도</td>\n",
       "      <td>서울</td>\n",
       "      <td>2024-12-15</td>\n",
       "      <td>오전</td>\n",
       "      <td>맑음</td>\n",
       "      <td>-4</td>\n",
       "      <td>3</td>\n",
       "      <td>10</td>\n",
       "    </tr>\n",
       "    <tr>\n",
       "      <th>3</th>\n",
       "      <td>서울ㆍ인천ㆍ경기도</td>\n",
       "      <td>서울</td>\n",
       "      <td>2024-12-15</td>\n",
       "      <td>오후</td>\n",
       "      <td>맑음</td>\n",
       "      <td>-4</td>\n",
       "      <td>3</td>\n",
       "      <td>10</td>\n",
       "    </tr>\n",
       "    <tr>\n",
       "      <th>4</th>\n",
       "      <td>서울ㆍ인천ㆍ경기도</td>\n",
       "      <td>서울</td>\n",
       "      <td>2024-12-16</td>\n",
       "      <td>오전</td>\n",
       "      <td>맑음</td>\n",
       "      <td>-4</td>\n",
       "      <td>3</td>\n",
       "      <td>10</td>\n",
       "    </tr>\n",
       "  </tbody>\n",
       "</table>\n",
       "</div>"
      ],
      "text/plain": [
       "          지역  도시         날짜 ampm  날씨  최저기온  최고기온  강수확률\n",
       "0  서울ㆍ인천ㆍ경기도  서울 2024-12-14   오전  맑음    -5     2    10\n",
       "1  서울ㆍ인천ㆍ경기도  서울 2024-12-14   오후  맑음    -5     2    10\n",
       "2  서울ㆍ인천ㆍ경기도  서울 2024-12-15   오전  맑음    -4     3    10\n",
       "3  서울ㆍ인천ㆍ경기도  서울 2024-12-15   오후  맑음    -4     3    10\n",
       "4  서울ㆍ인천ㆍ경기도  서울 2024-12-16   오전  맑음    -4     3    10"
      ]
     },
     "execution_count": 129,
     "metadata": {},
     "output_type": "execute_result"
    }
   ],
   "source": [
    "import requests\n",
    "from urllib.request import urlopen\n",
    "from bs4 import BeautifulSoup\n",
    "import pandas as pd\n",
    "import numpy as np\n",
    "\n",
    "items_list = []\n",
    "url = 'https://www.kma.go.kr/weather/forecast/mid-term-rss3.jsp?stnId=108'\n",
    "# target = urlopen(url)\n",
    "# contents = target.read().decode('utf-8')\n",
    "target = requests.get(url)\n",
    "# soup = BeautifulSoup(target.text, 'html.parser')  # warning 발생\n",
    "soup = BeautifulSoup(target.text, 'xml')  # warning 시 : pip install lxml\n",
    "\n",
    "locations = soup.select('location')\n",
    "# print(locations[0])\n",
    "for loc in locations:\n",
    "    province = loc.select_one('province').text  # 지역\n",
    "    city     = loc.select_one('city').text      # 도시\n",
    "    data     = loc.find_all('data')\n",
    "    for item in data:\n",
    "        tmEf = item.select_one('tmEf').text  # 날짜 (여기서 오전 오후 추출)\n",
    "        ampm = '오전' if tmEf[11] == '0' else '오후'\n",
    "        wf   = item.select_one('wf').text    # 날씨\n",
    "        tmn  = item.select_one('tmn').text   # 최저기온\n",
    "        tmx  = item.select_one('tmx').text   # 최고기온\n",
    "        rnSt = item.select_one('rnSt').text  # 강수확률\n",
    "        items_list.append({\n",
    "            '지역' : province,\n",
    "            '도시' : city,\n",
    "            '날짜' : tmEf[:-6],\n",
    "            'ampm' : ampm,\n",
    "            '날씨' : wf,\n",
    "            '최저기온' : tmn,\n",
    "            '최고기온' : tmx,\n",
    "            '강수확률' : rnSt\n",
    "        })\n",
    "df = pd.DataFrame(items_list)\n",
    "df['날짜'] = pd.to_datetime(df['날짜'])\n",
    "df['최저기온'] = df['최저기온'].astype(np.int16)\n",
    "df['최고기온'] = df['최고기온'].astype(np.int16)\n",
    "df['강수확률'] = df['강수확률'].astype(np.int16)\n",
    "df.head()"
   ]
  },
  {
   "cell_type": "markdown",
   "id": "52bb3d6d",
   "metadata": {},
   "source": [
    "### 3) xml 응답하는 Open API 활영\n",
    " - data.go.kr에서\n",
    "     * 서울특별시_노선정보조회 서비스 활용 신청 (버스 id, 버스 정류장 목록)\n",
    "     * 버스 위치 정보 조회 서비스 활용 신청 (실시간 버스 위치 목록"
   ]
  },
  {
   "cell_type": "code",
   "execution_count": 131,
   "id": "b0809ff6",
   "metadata": {
    "ExecuteTime": {
     "end_time": "2024-12-10T03:10:15.229727Z",
     "start_time": "2024-12-10T03:10:15.225728Z"
    }
   },
   "outputs": [],
   "source": [
    "import requests\n",
    "from bs4 import BeautifulSoup\n",
    "from urllib.request import urlretrieve"
   ]
  },
  {
   "cell_type": "code",
   "execution_count": 158,
   "id": "c400715a",
   "metadata": {
    "ExecuteTime": {
     "end_time": "2024-12-10T03:48:12.176857Z",
     "start_time": "2024-12-10T03:48:12.172859Z"
    }
   },
   "outputs": [],
   "source": [
    "# step1. 버스 번호의 버스 id 받아오기\n",
    "# 서울특별시_노선정보조회 서비스 - 4번 기능(getBusRouteList : 노선번호에 해당하는 노선 목록 조회) 이용"
   ]
  },
  {
   "cell_type": "code",
   "execution_count": 174,
   "id": "ad3f6f7f",
   "metadata": {
    "ExecuteTime": {
     "end_time": "2024-12-10T05:23:42.066626Z",
     "start_time": "2024-12-10T05:23:42.018518Z"
    }
   },
   "outputs": [
    {
     "name": "stdout",
     "output_type": "stream",
     "text": [
      "http://ws.bus.go.kr/api/rest/busRouteInfo/getBusRouteList?ServiceKey=kWiLqR5an3qgHfkycjPmjxAie5mGGzW0LuPktrSNA3kqpsmWfsLSW9TxR9k0khrZgJLecVcO88n5LsStz845eg%3D%3D&strSrch=162\n",
      "버스루트id :  100100034\n"
     ]
    }
   ],
   "source": [
    "# busNum = '마포01'  # quote : 한글 변환\n",
    "# url1 = f'http://ws.bus.go.kr/api/rest/busRouteInfo/getBusRouteList?ServiceKey={key}&strSrch={quote(busNum)}'\n",
    "busNum = '162'\n",
    "# 인증키\n",
    "key = 'ZS3iEVZ82iG9dvZc3urYq03YK9x0dwPWsaXcaNd1XACv8yWys1TONILRRSHiRNyrFo1qVk379RdHIUhAtRaL5w%3D%3D'\n",
    "url1 = f'http://ws.bus.go.kr/api/rest/busRouteInfo/getBusRouteList?ServiceKey={key}&strSrch={busNum}'\n",
    "print(url1)\n",
    "# response = requests.get(url1)\n",
    "# soup     = BeautifulSoup(response.text, 'xml')\n",
    "\n",
    "savefilename1 = 'data/ch14_1busInfo.xml'\n",
    "urlretrieve(url1, savefilename1)  # xml 파일을 내 컴퓨터에 savefilename1로 저장\n",
    "xml = open(savefilename1, 'r', encoding='utf-8').read()\n",
    "soup = BeautifulSoup(xml, 'xml')\n",
    "\n",
    "for itemList in soup.select('itemList'):\n",
    "    busRouteNm = itemList.find('busRouteNm').text\n",
    "    if busRouteNm == busNum:\n",
    "        busRouteId = itemList.find('busRouteId').text\n",
    "        break\n",
    "print('버스루트id : ', busRouteId)"
   ]
  },
  {
   "cell_type": "code",
   "execution_count": 175,
   "id": "687af14a",
   "metadata": {
    "ExecuteTime": {
     "end_time": "2024-12-10T05:23:42.540173Z",
     "start_time": "2024-12-10T05:23:42.524547Z"
    }
   },
   "outputs": [],
   "source": [
    "# step2. 해당 버스 id의 버스 정류장 목록 받아오기\n",
    "# 서울특별시_노선정보조회 서비스 - 4번 기능(getStaionsByRouteList : 노선별 경유 정류소 조회 서비스) 이용"
   ]
  },
  {
   "cell_type": "code",
   "execution_count": 176,
   "id": "3ef93a5b",
   "metadata": {
    "ExecuteTime": {
     "end_time": "2024-12-10T05:23:43.710643Z",
     "start_time": "2024-12-10T05:23:43.554602Z"
    }
   },
   "outputs": [
    {
     "name": "stdout",
     "output_type": "stream",
     "text": [
      "http://ws.bus.go.kr/api/rest/busRouteInfo/getStaionByRoute?ServiceKey=kWiLqR5an3qgHfkycjPmjxAie5mGGzW0LuPktrSNA3kqpsmWfsLSW9TxR9k0khrZgJLecVcO88n5LsStz845eg%3D%3D&busRouteId=100100034\n",
      "162 번 버스 정류장 갯수 :  77\n"
     ]
    },
    {
     "data": {
      "text/html": [
       "<div>\n",
       "<style scoped>\n",
       "    .dataframe tbody tr th:only-of-type {\n",
       "        vertical-align: middle;\n",
       "    }\n",
       "\n",
       "    .dataframe tbody tr th {\n",
       "        vertical-align: top;\n",
       "    }\n",
       "\n",
       "    .dataframe thead th {\n",
       "        text-align: right;\n",
       "    }\n",
       "</style>\n",
       "<table border=\"1\" class=\"dataframe\">\n",
       "  <thead>\n",
       "    <tr style=\"text-align: right;\">\n",
       "      <th></th>\n",
       "      <th>정류소명</th>\n",
       "      <th>id</th>\n",
       "      <th>경도</th>\n",
       "      <th>위도</th>\n",
       "    </tr>\n",
       "  </thead>\n",
       "  <tbody>\n",
       "    <tr>\n",
       "      <th>0</th>\n",
       "      <td>정릉산장아파트</td>\n",
       "      <td>107000071</td>\n",
       "      <td>127.003343</td>\n",
       "      <td>37.616712</td>\n",
       "    </tr>\n",
       "    <tr>\n",
       "      <th>1</th>\n",
       "      <td>정릉4동주민센터.경국사</td>\n",
       "      <td>107000073</td>\n",
       "      <td>127.006345</td>\n",
       "      <td>37.613529</td>\n",
       "    </tr>\n",
       "    <tr>\n",
       "      <th>2</th>\n",
       "      <td>북한산보국문역2번출구</td>\n",
       "      <td>107000518</td>\n",
       "      <td>127.0079858233</td>\n",
       "      <td>37.612293899</td>\n",
       "    </tr>\n",
       "    <tr>\n",
       "      <th>3</th>\n",
       "      <td>성북청수도서관.정릉4동성당</td>\n",
       "      <td>107000075</td>\n",
       "      <td>127.0084193769</td>\n",
       "      <td>37.6115696748</td>\n",
       "    </tr>\n",
       "    <tr>\n",
       "      <th>4</th>\n",
       "      <td>정릉시장입구</td>\n",
       "      <td>107000077</td>\n",
       "      <td>127.0098212542</td>\n",
       "      <td>37.6084653256</td>\n",
       "    </tr>\n",
       "  </tbody>\n",
       "</table>\n",
       "</div>"
      ],
      "text/plain": [
       "             정류소명         id              경도             위도\n",
       "0         정릉산장아파트  107000071      127.003343      37.616712\n",
       "1    정릉4동주민센터.경국사  107000073      127.006345      37.613529\n",
       "2     북한산보국문역2번출구  107000518  127.0079858233   37.612293899\n",
       "3  성북청수도서관.정릉4동성당  107000075  127.0084193769  37.6115696748\n",
       "4          정릉시장입구  107000077  127.0098212542  37.6084653256"
      ]
     },
     "execution_count": 176,
     "metadata": {},
     "output_type": "execute_result"
    }
   ],
   "source": [
    "import pandas as pd\n",
    "\n",
    "url2 = f'http://ws.bus.go.kr/api/rest/busRouteInfo/getStaionByRoute?ServiceKey={key}&busRouteId={busRouteId}'\n",
    "print(url2)\n",
    "response = requests.get(url2)\n",
    "soup = BeautifulSoup(response.text, 'xml')\n",
    "itemLists = soup.find_all('itemList')\n",
    "print(busNum, '번 버스 정류장 갯수 : ', len(itemLists))  # 버스 정류장 갯수 77개\n",
    "bus_station = []\n",
    "\n",
    "for itemList in itemLists:\n",
    "    stationNm = itemList.find('stationNm').text  # 정류소 이름\n",
    "    station   = itemList.find('station').text    # 정류소 고유 ID\n",
    "    gpsX      = itemList.find('gpsX').text       # 경도\n",
    "    gpsY      = itemList.find('gpsY').text       # 위도\n",
    "    bus_station.append([stationNm, station, gpsX, gpsY])\n",
    "\n",
    "df = pd.DataFrame(bus_station, columns=['정류소명', 'id', '경도', '위도'])\n",
    "df.head()"
   ]
  },
  {
   "cell_type": "code",
   "execution_count": 177,
   "id": "cdb00952",
   "metadata": {
    "ExecuteTime": {
     "end_time": "2024-12-10T05:23:46.095516Z",
     "start_time": "2024-12-10T05:23:46.090516Z"
    }
   },
   "outputs": [],
   "source": [
    "# step3. 해당 버스 id의 실시간 버스 위치 정보\n",
    "# 서울특별시_버스위치정보조회 서비스 - 2번 기능(getBusPosByRtidList : 노선ID로 차량들의 위치정보를 조회한다) 이용"
   ]
  },
  {
   "cell_type": "code",
   "execution_count": 200,
   "id": "87af964c",
   "metadata": {
    "ExecuteTime": {
     "end_time": "2024-12-10T05:52:48.530115Z",
     "start_time": "2024-12-10T05:52:48.433602Z"
    }
   },
   "outputs": [
    {
     "name": "stdout",
     "output_type": "stream",
     "text": [
      "http://ws.bus.go.kr/api/rest/buspos/getBusPosByRtid?ServiceKey=kWiLqR5an3qgHfkycjPmjxAie5mGGzW0LuPktrSNA3kqpsmWfsLSW9TxR9k0khrZgJLecVcO88n5LsStz845eg%3D%3D&busRouteId=100100034\n",
      "162번 버스 운행 중인 버스는 24대입니다\n"
     ]
    },
    {
     "data": {
      "text/html": [
       "<div>\n",
       "<style scoped>\n",
       "    .dataframe tbody tr th:only-of-type {\n",
       "        vertical-align: middle;\n",
       "    }\n",
       "\n",
       "    .dataframe tbody tr th {\n",
       "        vertical-align: top;\n",
       "    }\n",
       "\n",
       "    .dataframe thead th {\n",
       "        text-align: right;\n",
       "    }\n",
       "</style>\n",
       "<table border=\"1\" class=\"dataframe\">\n",
       "  <thead>\n",
       "    <tr style=\"text-align: right;\">\n",
       "      <th></th>\n",
       "      <th>차량번호</th>\n",
       "      <th>혼잡도</th>\n",
       "      <th>경도</th>\n",
       "      <th>위도</th>\n",
       "      <th>최종 정류소 ID</th>\n",
       "      <th>다음 정류소 ID</th>\n",
       "      <th>다음 정류소 도착 소요시간</th>\n",
       "    </tr>\n",
       "  </thead>\n",
       "  <tbody>\n",
       "    <tr>\n",
       "      <th>0</th>\n",
       "      <td>서울74사3030</td>\n",
       "      <td>여유</td>\n",
       "      <td>127.006543</td>\n",
       "      <td>37.613228</td>\n",
       "      <td>107000073</td>\n",
       "      <td>107000079</td>\n",
       "      <td>309</td>\n",
       "    </tr>\n",
       "  </tbody>\n",
       "</table>\n",
       "</div>"
      ],
      "text/plain": [
       "        차량번호 혼잡도          경도         위도  최종 정류소 ID  다음 정류소 ID 다음 정류소 도착 소요시간\n",
       "0  서울74사3030  여유  127.006543  37.613228  107000073  107000079            309"
      ]
     },
     "execution_count": 200,
     "metadata": {},
     "output_type": "execute_result"
    }
   ],
   "source": [
    "key = 'kWiLqR5an3qgHfkycjPmjxAie5mGGzW0LuPktrSNA3kqpsmWfsLSW9TxR9k0khrZgJLecVcO88n5LsStz845eg%3D%3D'\n",
    "url3 = f'http://ws.bus.go.kr/api/rest/buspos/getBusPosByRtid?ServiceKey={key}&busRouteId={busRouteId}'\n",
    "print(url3)\n",
    "\n",
    "savefilename3 = 'data/ch14_3busPosition.xml'\n",
    "urlretrieve(url3, savefilename3)\n",
    "# response = requests.get(url3)\n",
    "xml = open(savefilename3, 'r', encoding='utf-8').read()\n",
    "soup = BeautifulSoup(xml, 'xml')\n",
    "bus_position = []\n",
    "\n",
    "for itemList in soup.select('itemList'):\n",
    "    plainNo   = itemList.find('plainNo').text   # 차량번호\n",
    "    congetion = itemList.find('congetion').text # 혼잡도\n",
    "    congetion = '여유' if congetion == '3' else '보통' if congetion == '4' else '혼잡' if congetion == '5' else '매우혼잡'\n",
    "    gpsX      = itemList.find('gpsX').text      # 경도\n",
    "    gpsY      = itemList.find('gpsY').text      # 위도\n",
    "    lastStnId = itemList.find('lastStnId').text # 최종 정류소 고유 ID\n",
    "    nextStId  = itemList.find('nextStId').text  # 다음 정류소 ID\n",
    "    nextStTm  = itemList.find('nextStTm').text  # 다음 정류소 도착 소요시간\n",
    "    bus_position.append({\n",
    "        '차량번호' : plainNo,\n",
    "        '혼잡도' : congetion,\n",
    "        '경도' : gpsX,\n",
    "        '위도' : gpsY,\n",
    "        '최종 정류소 ID' : lastStnId,\n",
    "        '다음 정류소 ID' : nextStId,\n",
    "        '다음 정류소 도착 소요시간' : nextStTm\n",
    "    })\n",
    "df_pos = pd.DataFrame(bus_position)\n",
    "print(f'{busNum}번 버스 운행 중인 버스는 {len(df_pos)}대입니다')\n",
    "df_pos.head(1)"
   ]
  },
  {
   "cell_type": "code",
   "execution_count": 235,
   "id": "1e3ddaf6",
   "metadata": {
    "ExecuteTime": {
     "end_time": "2024-12-10T06:14:57.510280Z",
     "start_time": "2024-12-10T06:14:57.503283Z"
    }
   },
   "outputs": [
    {
     "name": "stdout",
     "output_type": "stream",
     "text": [
      "정릉4동주민센터.경국사\n"
     ]
    }
   ],
   "source": [
    "print(df.loc[df['id'] == '107000073', '정류소명'].iloc[0])  # 최종 정류소 ID와 정류소명 매치"
   ]
  },
  {
   "cell_type": "code",
   "execution_count": 236,
   "id": "f23ca423",
   "metadata": {
    "ExecuteTime": {
     "end_time": "2024-12-10T06:15:03.868302Z",
     "start_time": "2024-12-10T06:15:03.862854Z"
    }
   },
   "outputs": [
    {
     "name": "stdout",
     "output_type": "stream",
     "text": [
      "정릉우체국앞\n"
     ]
    }
   ],
   "source": [
    "print(df.loc[df['id'] == '107000079', '정류소명'].iloc[0])  # 다음 정류소 ID와 정류소명 매치"
   ]
  },
  {
   "cell_type": "code",
   "execution_count": 237,
   "id": "b59edb2f",
   "metadata": {
    "ExecuteTime": {
     "end_time": "2024-12-10T06:15:15.709706Z",
     "start_time": "2024-12-10T06:15:15.702710Z"
    }
   },
   "outputs": [],
   "source": [
    "def station_name(row):\n",
    "    row['최종 정류소명'] = df.loc[df['id'] == row['최종 정류소 ID'], '정류소명'].iloc[0]\n",
    "    row['다음 정류소명'] = df.loc[df['id'] == row['다음 정류소 ID'], '정류소명'].iloc[0]\n",
    "    return row"
   ]
  },
  {
   "cell_type": "code",
   "execution_count": 238,
   "id": "a5b691dd",
   "metadata": {
    "ExecuteTime": {
     "end_time": "2024-12-10T06:15:15.855608Z",
     "start_time": "2024-12-10T06:15:15.835852Z"
    }
   },
   "outputs": [
    {
     "data": {
      "text/plain": [
       "차량번호                 서울74사3030\n",
       "혼잡도                         여유\n",
       "경도                  127.006543\n",
       "위도                   37.613228\n",
       "최종 정류소 ID            107000073\n",
       "다음 정류소 ID            107000079\n",
       "다음 정류소 도착 소요시간             309\n",
       "최종 정류소명           정릉4동주민센터.경국사\n",
       "다음 정류소명                 정릉우체국앞\n",
       "Name: 0, dtype: object"
      ]
     },
     "execution_count": 238,
     "metadata": {},
     "output_type": "execute_result"
    }
   ],
   "source": [
    "station_name(df_pos.loc[0])"
   ]
  },
  {
   "cell_type": "code",
   "execution_count": 242,
   "id": "fb41c321",
   "metadata": {
    "ExecuteTime": {
     "end_time": "2024-12-10T06:19:59.251960Z",
     "start_time": "2024-12-10T06:19:59.217774Z"
    }
   },
   "outputs": [
    {
     "data": {
      "text/html": [
       "<div>\n",
       "<style scoped>\n",
       "    .dataframe tbody tr th:only-of-type {\n",
       "        vertical-align: middle;\n",
       "    }\n",
       "\n",
       "    .dataframe tbody tr th {\n",
       "        vertical-align: top;\n",
       "    }\n",
       "\n",
       "    .dataframe thead th {\n",
       "        text-align: right;\n",
       "    }\n",
       "</style>\n",
       "<table border=\"1\" class=\"dataframe\">\n",
       "  <thead>\n",
       "    <tr style=\"text-align: right;\">\n",
       "      <th></th>\n",
       "      <th>차량번호</th>\n",
       "      <th>혼잡도</th>\n",
       "      <th>경도</th>\n",
       "      <th>위도</th>\n",
       "      <th>최종 정류소 ID</th>\n",
       "      <th>다음 정류소 ID</th>\n",
       "      <th>다음 정류소 도착 소요시간</th>\n",
       "      <th>최종 정류소명</th>\n",
       "      <th>다음 정류소명</th>\n",
       "    </tr>\n",
       "  </thead>\n",
       "  <tbody>\n",
       "    <tr>\n",
       "      <th>0</th>\n",
       "      <td>서울74사3030</td>\n",
       "      <td>여유</td>\n",
       "      <td>127.006543</td>\n",
       "      <td>37.613228</td>\n",
       "      <td>107000073</td>\n",
       "      <td>107000079</td>\n",
       "      <td>309</td>\n",
       "      <td>정릉4동주민센터.경국사</td>\n",
       "      <td>정릉우체국앞</td>\n",
       "    </tr>\n",
       "    <tr>\n",
       "      <th>1</th>\n",
       "      <td>서울74사2201</td>\n",
       "      <td>여유</td>\n",
       "      <td>127.013375</td>\n",
       "      <td>37.602679</td>\n",
       "      <td>107000168</td>\n",
       "      <td>101000042</td>\n",
       "      <td>1934</td>\n",
       "      <td>정릉입구.정릉역</td>\n",
       "      <td>해운센터.롯데영플라자</td>\n",
       "    </tr>\n",
       "    <tr>\n",
       "      <th>2</th>\n",
       "      <td>서울74사1967</td>\n",
       "      <td>여유</td>\n",
       "      <td>127.014988</td>\n",
       "      <td>37.596937</td>\n",
       "      <td>107000172</td>\n",
       "      <td>101000042</td>\n",
       "      <td>1697</td>\n",
       "      <td>돈암2동주민센터입구.흥천사</td>\n",
       "      <td>해운센터.롯데영플라자</td>\n",
       "    </tr>\n",
       "    <tr>\n",
       "      <th>3</th>\n",
       "      <td>서울70사6556</td>\n",
       "      <td>여유</td>\n",
       "      <td>126.998251</td>\n",
       "      <td>37.582581</td>\n",
       "      <td>100000003</td>\n",
       "      <td>101000042</td>\n",
       "      <td>1077</td>\n",
       "      <td>명륜3가.성대입구</td>\n",
       "      <td>해운센터.롯데영플라자</td>\n",
       "    </tr>\n",
       "    <tr>\n",
       "      <th>4</th>\n",
       "      <td>서울74사3008</td>\n",
       "      <td>여유</td>\n",
       "      <td>126.990431</td>\n",
       "      <td>37.577484</td>\n",
       "      <td>100000002</td>\n",
       "      <td>101000042</td>\n",
       "      <td>986</td>\n",
       "      <td>창경궁.서울대학교병원</td>\n",
       "      <td>해운센터.롯데영플라자</td>\n",
       "    </tr>\n",
       "  </tbody>\n",
       "</table>\n",
       "</div>"
      ],
      "text/plain": [
       "        차량번호 혼잡도          경도         위도  최종 정류소 ID  다음 정류소 ID 다음 정류소 도착 소요시간  \\\n",
       "0  서울74사3030  여유  127.006543  37.613228  107000073  107000079            309   \n",
       "1  서울74사2201  여유  127.013375  37.602679  107000168  101000042           1934   \n",
       "2  서울74사1967  여유  127.014988  37.596937  107000172  101000042           1697   \n",
       "3  서울70사6556  여유  126.998251  37.582581  100000003  101000042           1077   \n",
       "4  서울74사3008  여유  126.990431  37.577484  100000002  101000042            986   \n",
       "\n",
       "          최종 정류소명      다음 정류소명  \n",
       "0    정릉4동주민센터.경국사       정릉우체국앞  \n",
       "1        정릉입구.정릉역  해운센터.롯데영플라자  \n",
       "2  돈암2동주민센터입구.흥천사  해운센터.롯데영플라자  \n",
       "3       명륜3가.성대입구  해운센터.롯데영플라자  \n",
       "4     창경궁.서울대학교병원  해운센터.롯데영플라자  "
      ]
     },
     "execution_count": 242,
     "metadata": {},
     "output_type": "execute_result"
    }
   ],
   "source": [
    "df_pos = df_pos.apply(station_name, axis=1)\n",
    "df_pos.head()"
   ]
  },
  {
   "cell_type": "markdown",
   "id": "42c2b157",
   "metadata": {},
   "source": [
    "# 3절. 연습문제\n",
    " - yes24 베스트셀러 정보 csv(txt)로 출력하가ㅣ\n",
    " - 순위, 책이름, 저자, 출판사, 가격 (10위 까지 또는 20위 까지)\n",
    "\n",
    "▪ 베스트셀러 정보 수집 주소 : http://www.yes24.com/24/category/bestseller"
   ]
  },
  {
   "cell_type": "code",
   "execution_count": 454,
   "id": "7f3bd38a",
   "metadata": {
    "ExecuteTime": {
     "end_time": "2024-12-10T08:30:26.619678Z",
     "start_time": "2024-12-10T08:30:25.741087Z"
    }
   },
   "outputs": [
    {
     "data": {
      "text/html": [
       "<div>\n",
       "<style scoped>\n",
       "    .dataframe tbody tr th:only-of-type {\n",
       "        vertical-align: middle;\n",
       "    }\n",
       "\n",
       "    .dataframe tbody tr th {\n",
       "        vertical-align: top;\n",
       "    }\n",
       "\n",
       "    .dataframe thead th {\n",
       "        text-align: right;\n",
       "    }\n",
       "</style>\n",
       "<table border=\"1\" class=\"dataframe\">\n",
       "  <thead>\n",
       "    <tr style=\"text-align: right;\">\n",
       "      <th></th>\n",
       "      <th>순위</th>\n",
       "      <th>도서명</th>\n",
       "      <th>저자</th>\n",
       "      <th>출판사</th>\n",
       "      <th>가격</th>\n",
       "    </tr>\n",
       "  </thead>\n",
       "  <tbody>\n",
       "    <tr>\n",
       "      <th>0</th>\n",
       "      <td>1</td>\n",
       "      <td>소년이 온다</td>\n",
       "      <td>한강</td>\n",
       "      <td>창비</td>\n",
       "      <td>13,500원</td>\n",
       "    </tr>\n",
       "    <tr>\n",
       "      <th>1</th>\n",
       "      <td>2</td>\n",
       "      <td>채식주의자</td>\n",
       "      <td>한강</td>\n",
       "      <td>창비</td>\n",
       "      <td>13,500원</td>\n",
       "    </tr>\n",
       "    <tr>\n",
       "      <th>2</th>\n",
       "      <td>3</td>\n",
       "      <td>작별하지 않는다</td>\n",
       "      <td>한강</td>\n",
       "      <td>문학동네</td>\n",
       "      <td>15,120원</td>\n",
       "    </tr>\n",
       "    <tr>\n",
       "      <th>3</th>\n",
       "      <td>4</td>\n",
       "      <td>하루 한 장 나의 어휘력을 위한 필사 노트</td>\n",
       "      <td>유선경</td>\n",
       "      <td>위즈덤하우스</td>\n",
       "      <td>21,420원</td>\n",
       "    </tr>\n",
       "    <tr>\n",
       "      <th>4</th>\n",
       "      <td>5</td>\n",
       "      <td>서랍에 저녁을 넣어 두었다</td>\n",
       "      <td>한강</td>\n",
       "      <td>문학과지성사</td>\n",
       "      <td>10,800원</td>\n",
       "    </tr>\n",
       "    <tr>\n",
       "      <th>5</th>\n",
       "      <td>6</td>\n",
       "      <td>트렌드 코리아 2025</td>\n",
       "      <td>김난도,전미영,최지혜,권정윤,한다혜</td>\n",
       "      <td>미래의창</td>\n",
       "      <td>18,000원</td>\n",
       "    </tr>\n",
       "    <tr>\n",
       "      <th>6</th>\n",
       "      <td>7</td>\n",
       "      <td>흰</td>\n",
       "      <td>한강,최진혁</td>\n",
       "      <td>문학동네</td>\n",
       "      <td>13,050원</td>\n",
       "    </tr>\n",
       "    <tr>\n",
       "      <th>7</th>\n",
       "      <td>8</td>\n",
       "      <td>산타 할아버지의 첫 크리스마스</td>\n",
       "      <td>맥 바넷,시드니 스미스,김지은</td>\n",
       "      <td>책읽는곰</td>\n",
       "      <td>13,500원</td>\n",
       "    </tr>\n",
       "    <tr>\n",
       "      <th>8</th>\n",
       "      <td>9</td>\n",
       "      <td>희랍어 시간</td>\n",
       "      <td>한강</td>\n",
       "      <td>문학동네</td>\n",
       "      <td>11,700원</td>\n",
       "    </tr>\n",
       "    <tr>\n",
       "      <th>9</th>\n",
       "      <td>10</td>\n",
       "      <td>넥서스</td>\n",
       "      <td>유발 하라리,김명주</td>\n",
       "      <td>김영사</td>\n",
       "      <td>25,020원</td>\n",
       "    </tr>\n",
       "    <tr>\n",
       "      <th>10</th>\n",
       "      <td>11</td>\n",
       "      <td>어른의 행복은 조용하다</td>\n",
       "      <td>태수</td>\n",
       "      <td>페이지2북스</td>\n",
       "      <td>16,020원</td>\n",
       "    </tr>\n",
       "    <tr>\n",
       "      <th>11</th>\n",
       "      <td>12</td>\n",
       "      <td>트럼프 2.0 시대</td>\n",
       "      <td>박종훈</td>\n",
       "      <td>글로퍼스</td>\n",
       "      <td>18,000원</td>\n",
       "    </tr>\n",
       "    <tr>\n",
       "      <th>12</th>\n",
       "      <td>13</td>\n",
       "      <td>트럼프와 함께하는 알트코인 대폭등</td>\n",
       "      <td>강환국</td>\n",
       "      <td>거인의정원</td>\n",
       "      <td>24,300원</td>\n",
       "    </tr>\n",
       "    <tr>\n",
       "      <th>13</th>\n",
       "      <td>14</td>\n",
       "      <td>일의 감각</td>\n",
       "      <td>조수용</td>\n",
       "      <td>레퍼런스 바이 비(REFERENCE by B)</td>\n",
       "      <td>19,800원</td>\n",
       "    </tr>\n",
       "    <tr>\n",
       "      <th>14</th>\n",
       "      <td>15</td>\n",
       "      <td>해피버쓰데이</td>\n",
       "      <td>백희나</td>\n",
       "      <td>스토리보울</td>\n",
       "      <td>15,300원</td>\n",
       "    </tr>\n",
       "    <tr>\n",
       "      <th>15</th>\n",
       "      <td>16</td>\n",
       "      <td>고전이 답했다 마땅히 살아야 할 삶에 대하여 (나만의 책 만들기 에디션)</td>\n",
       "      <td>고명환</td>\n",
       "      <td>라곰</td>\n",
       "      <td>15,120원</td>\n",
       "    </tr>\n",
       "    <tr>\n",
       "      <th>16</th>\n",
       "      <td>17</td>\n",
       "      <td>퓨처 셀프 30만 부 기념 스페셜 에디션</td>\n",
       "      <td>벤저민 하디,최은아</td>\n",
       "      <td>상상스퀘어</td>\n",
       "      <td>19,800원</td>\n",
       "    </tr>\n",
       "    <tr>\n",
       "      <th>17</th>\n",
       "      <td>18</td>\n",
       "      <td>린치핀</td>\n",
       "      <td>세스 고딘,윤영삼</td>\n",
       "      <td>필름</td>\n",
       "      <td>21,420원</td>\n",
       "    </tr>\n",
       "    <tr>\n",
       "      <th>18</th>\n",
       "      <td>19</td>\n",
       "      <td>모순</td>\n",
       "      <td>양귀자</td>\n",
       "      <td>쓰다</td>\n",
       "      <td>11,700원</td>\n",
       "    </tr>\n",
       "    <tr>\n",
       "      <th>19</th>\n",
       "      <td>20</td>\n",
       "      <td>김미경의 딥마인드</td>\n",
       "      <td>김미경</td>\n",
       "      <td>어웨이크북스</td>\n",
       "      <td>16,200원</td>\n",
       "    </tr>\n",
       "    <tr>\n",
       "      <th>20</th>\n",
       "      <td>21</td>\n",
       "      <td>너에게 들려주는 단단한 말</td>\n",
       "      <td>김종원</td>\n",
       "      <td>퍼스트펭귄</td>\n",
       "      <td>16,200원</td>\n",
       "    </tr>\n",
       "    <tr>\n",
       "      <th>21</th>\n",
       "      <td>22</td>\n",
       "      <td>ETS 토익 정기시험 기출문제집 1000 Vol. 4 RC</td>\n",
       "      <td>ETS</td>\n",
       "      <td>YBM(와이비엠)</td>\n",
       "      <td>17,820원</td>\n",
       "    </tr>\n",
       "    <tr>\n",
       "      <th>22</th>\n",
       "      <td>23</td>\n",
       "      <td>세이노의 가르침</td>\n",
       "      <td>세이노(SayNo)</td>\n",
       "      <td>데이원</td>\n",
       "      <td>6,480원</td>\n",
       "    </tr>\n",
       "    <tr>\n",
       "      <th>23</th>\n",
       "      <td>24</td>\n",
       "      <td>후 who? special 아이브</td>\n",
       "      <td>조약돌,백재이</td>\n",
       "      <td>다산어린이</td>\n",
       "      <td>13,500원</td>\n",
       "    </tr>\n",
       "  </tbody>\n",
       "</table>\n",
       "</div>"
      ],
      "text/plain": [
       "    순위                                       도서명                   저자  \\\n",
       "0    1                                    소년이 온다                   한강   \n",
       "1    2                                     채식주의자                   한강   \n",
       "2    3                                  작별하지 않는다                   한강   \n",
       "3    4                   하루 한 장 나의 어휘력을 위한 필사 노트                  유선경   \n",
       "4    5                            서랍에 저녁을 넣어 두었다                   한강   \n",
       "5    6                              트렌드 코리아 2025  김난도,전미영,최지혜,권정윤,한다혜   \n",
       "6    7                                         흰               한강,최진혁   \n",
       "7    8                          산타 할아버지의 첫 크리스마스     맥 바넷,시드니 스미스,김지은   \n",
       "8    9                                    희랍어 시간                   한강   \n",
       "9   10                                       넥서스           유발 하라리,김명주   \n",
       "10  11                              어른의 행복은 조용하다                   태수   \n",
       "11  12                                트럼프 2.0 시대                  박종훈   \n",
       "12  13                        트럼프와 함께하는 알트코인 대폭등                  강환국   \n",
       "13  14                                     일의 감각                  조수용   \n",
       "14  15                                    해피버쓰데이                  백희나   \n",
       "15  16  고전이 답했다 마땅히 살아야 할 삶에 대하여 (나만의 책 만들기 에디션)                  고명환   \n",
       "16  17                    퓨처 셀프 30만 부 기념 스페셜 에디션           벤저민 하디,최은아   \n",
       "17  18                                       린치핀            세스 고딘,윤영삼   \n",
       "18  19                                        모순                  양귀자   \n",
       "19  20                                 김미경의 딥마인드                  김미경   \n",
       "20  21                            너에게 들려주는 단단한 말                  김종원   \n",
       "21  22          ETS 토익 정기시험 기출문제집 1000 Vol. 4 RC                  ETS   \n",
       "22  23                                  세이노의 가르침           세이노(SayNo)   \n",
       "23  24                        후 who? special 아이브              조약돌,백재이   \n",
       "\n",
       "                          출판사       가격  \n",
       "0                          창비  13,500원  \n",
       "1                          창비  13,500원  \n",
       "2                        문학동네  15,120원  \n",
       "3                      위즈덤하우스  21,420원  \n",
       "4                      문학과지성사  10,800원  \n",
       "5                        미래의창  18,000원  \n",
       "6                        문학동네  13,050원  \n",
       "7                        책읽는곰  13,500원  \n",
       "8                        문학동네  11,700원  \n",
       "9                         김영사  25,020원  \n",
       "10                     페이지2북스  16,020원  \n",
       "11                       글로퍼스  18,000원  \n",
       "12                      거인의정원  24,300원  \n",
       "13  레퍼런스 바이 비(REFERENCE by B)  19,800원  \n",
       "14                      스토리보울  15,300원  \n",
       "15                         라곰  15,120원  \n",
       "16                      상상스퀘어  19,800원  \n",
       "17                         필름  21,420원  \n",
       "18                         쓰다  11,700원  \n",
       "19                     어웨이크북스  16,200원  \n",
       "20                      퍼스트펭귄  16,200원  \n",
       "21                  YBM(와이비엠)  17,820원  \n",
       "22                        데이원   6,480원  \n",
       "23                      다산어린이  13,500원  "
      ]
     },
     "execution_count": 454,
     "metadata": {},
     "output_type": "execute_result"
    }
   ],
   "source": [
    "import requests\n",
    "from urllib.request import urlopen\n",
    "from bs4 import BeautifulSoup\n",
    "\n",
    "url = 'http://www.yes24.com/24/category/bestseller'\n",
    "response = requests.get(url)\n",
    "soup = BeautifulSoup(response.text, 'html.parser')\n",
    "items_find_list = []\n",
    "items = soup.select('ul.sGLi.tp_book.tp_chkG.tp_best.tp_list > li')\n",
    "#                  = ul#yesBestList > li\n",
    "\n",
    "for item in items:\n",
    "    rank = item.select_one('div.img_upper > em').text\n",
    "    title = item.select_one('div.info_row.info_name > a').text    \n",
    "    author = item.select('div.info_row.info_pubGrp > span.authPub.info_auth > a')    \n",
    "    publisher = item.select_one('div.info_row.info_pubGrp > span.authPub.info_pub > a').text\n",
    "    price = item.select_one('div.info_row.info_price > strong > em').text\n",
    "    items_find_list.append({\n",
    "        '순위' : rank,\n",
    "        '도서명' : title,\n",
    "        '저자' : ','.join([a.text for a in author]),\n",
    "        '출판사' : publisher,\n",
    "        '가격' : price + '원'\n",
    "    })\n",
    "    \n",
    "import pandas as pd\n",
    "df = pd.DataFrame(items_find_list)\n",
    "df.to_csv('data/1_yes24.csv', index=False)\n",
    "df"
   ]
  },
  {
   "cell_type": "code",
   "execution_count": 455,
   "id": "d5e6f44f",
   "metadata": {
    "ExecuteTime": {
     "end_time": "2024-12-10T08:38:49.958099Z",
     "start_time": "2024-12-10T08:38:49.952101Z"
    }
   },
   "outputs": [],
   "source": [
    "# import requests\n",
    "# from urllib.request import urlopen\n",
    "# from bs4 import BeautifulSoup\n",
    "\n",
    "\n",
    "# response = requests.get(url)\n",
    "# soup = BeautifulSoup(response.text, 'html.parser')\n",
    "# items_find_list = []\n",
    "# item = soup.select('ul.sGLi.tp_book.tp_chkG.tp_best.tp_list > li')\n",
    "# #                  = ul#yesBestList > li\n",
    "# # pages = \n",
    "\n",
    "# for page in range(1, pages+1):\n",
    "#     url = f'https://www.yes24.com/Product/Category/BestSeller?categoryNumber=001&pages={pages}'\n",
    "#     rank = item.select_one('div.img_upper > em').text\n",
    "#     title = item.select_one('div.info_row.info_name > a').text    \n",
    "#     author = item.select('div.info_row.info_pubGrp > span.authPub.info_auth > a')    \n",
    "#     publisher = item.select_one('div.info_row.info_pubGrp > span.authPub.info_pub > a').text\n",
    "#     price = item.select_one('div.info_row.info_price > strong > em').text\n",
    "#     items_find_list.append({\n",
    "#         '순위' : rank,\n",
    "#         '도서명' : title,\n",
    "#         '저자' : ','.join([a.text for a in author]),\n",
    "#         '출판사' : publisher,\n",
    "#         '가격' : price + '원'\n",
    "#     })\n",
    "    \n",
    "# import pandas as pd\n",
    "# df = pd.DataFrame(items_find_list)\n",
    "# df.to_csv('data/1_yes24.csv', index=False)\n",
    "# df"
   ]
  },
  {
   "cell_type": "code",
   "execution_count": 434,
   "id": "d70eb5b4",
   "metadata": {
    "ExecuteTime": {
     "end_time": "2024-12-10T08:19:49.249329Z",
     "start_time": "2024-12-10T08:19:48.290223Z"
    }
   },
   "outputs": [
    {
     "data": {
      "text/html": [
       "<div>\n",
       "<style scoped>\n",
       "    .dataframe tbody tr th:only-of-type {\n",
       "        vertical-align: middle;\n",
       "    }\n",
       "\n",
       "    .dataframe tbody tr th {\n",
       "        vertical-align: top;\n",
       "    }\n",
       "\n",
       "    .dataframe thead th {\n",
       "        text-align: right;\n",
       "    }\n",
       "</style>\n",
       "<table border=\"1\" class=\"dataframe\">\n",
       "  <thead>\n",
       "    <tr style=\"text-align: right;\">\n",
       "      <th></th>\n",
       "      <th>순위</th>\n",
       "      <th>책이름</th>\n",
       "      <th>저자</th>\n",
       "      <th>출판사</th>\n",
       "      <th>가격</th>\n",
       "    </tr>\n",
       "  </thead>\n",
       "  <tbody>\n",
       "    <tr>\n",
       "      <th>0</th>\n",
       "      <td>1</td>\n",
       "      <td>소년이 온다</td>\n",
       "      <td>한강 저</td>\n",
       "      <td>창비</td>\n",
       "      <td>13,500</td>\n",
       "    </tr>\n",
       "    <tr>\n",
       "      <th>1</th>\n",
       "      <td>2</td>\n",
       "      <td>채식주의자</td>\n",
       "      <td>한강 저</td>\n",
       "      <td>창비</td>\n",
       "      <td>13,500</td>\n",
       "    </tr>\n",
       "    <tr>\n",
       "      <th>2</th>\n",
       "      <td>3</td>\n",
       "      <td>작별하지 않는다</td>\n",
       "      <td>한강 저</td>\n",
       "      <td>문학동네</td>\n",
       "      <td>15,120</td>\n",
       "    </tr>\n",
       "    <tr>\n",
       "      <th>3</th>\n",
       "      <td>4</td>\n",
       "      <td>하루 한 장 나의 어휘력을 위한 필사 노트</td>\n",
       "      <td>유선경 저</td>\n",
       "      <td>위즈덤하우스</td>\n",
       "      <td>21,420</td>\n",
       "    </tr>\n",
       "    <tr>\n",
       "      <th>4</th>\n",
       "      <td>5</td>\n",
       "      <td>서랍에 저녁을 넣어 두었다</td>\n",
       "      <td>한강 저</td>\n",
       "      <td>문학과지성사</td>\n",
       "      <td>10,800</td>\n",
       "    </tr>\n",
       "    <tr>\n",
       "      <th>5</th>\n",
       "      <td>6</td>\n",
       "      <td>트렌드 코리아 2025</td>\n",
       "      <td>김난도, 전미영, 최지혜, 권정윤, 한다혜 저 외 5명</td>\n",
       "      <td>미래의창</td>\n",
       "      <td>18,000</td>\n",
       "    </tr>\n",
       "    <tr>\n",
       "      <th>6</th>\n",
       "      <td>7</td>\n",
       "      <td>흰</td>\n",
       "      <td>한강 저/최진혁 사진</td>\n",
       "      <td>문학동네</td>\n",
       "      <td>13,050</td>\n",
       "    </tr>\n",
       "    <tr>\n",
       "      <th>7</th>\n",
       "      <td>8</td>\n",
       "      <td>산타 할아버지의 첫 크리스마스</td>\n",
       "      <td>맥 바넷 글/시드니 스미스 그림/김지은 역</td>\n",
       "      <td>책읽는곰</td>\n",
       "      <td>13,500</td>\n",
       "    </tr>\n",
       "    <tr>\n",
       "      <th>8</th>\n",
       "      <td>9</td>\n",
       "      <td>희랍어 시간</td>\n",
       "      <td>한강 저</td>\n",
       "      <td>문학동네</td>\n",
       "      <td>11,700</td>\n",
       "    </tr>\n",
       "    <tr>\n",
       "      <th>9</th>\n",
       "      <td>10</td>\n",
       "      <td>넥서스</td>\n",
       "      <td>유발 하라리 저/김명주 역</td>\n",
       "      <td>김영사</td>\n",
       "      <td>25,020</td>\n",
       "    </tr>\n",
       "    <tr>\n",
       "      <th>10</th>\n",
       "      <td>11</td>\n",
       "      <td>어른의 행복은 조용하다</td>\n",
       "      <td>태수 저</td>\n",
       "      <td>페이지2북스</td>\n",
       "      <td>16,020</td>\n",
       "    </tr>\n",
       "    <tr>\n",
       "      <th>11</th>\n",
       "      <td>12</td>\n",
       "      <td>트럼프 2.0 시대</td>\n",
       "      <td>박종훈 저</td>\n",
       "      <td>글로퍼스</td>\n",
       "      <td>18,000</td>\n",
       "    </tr>\n",
       "    <tr>\n",
       "      <th>12</th>\n",
       "      <td>13</td>\n",
       "      <td>트럼프와 함께하는 알트코인 대폭등</td>\n",
       "      <td>강환국 저</td>\n",
       "      <td>거인의정원</td>\n",
       "      <td>24,300</td>\n",
       "    </tr>\n",
       "    <tr>\n",
       "      <th>13</th>\n",
       "      <td>14</td>\n",
       "      <td>일의 감각</td>\n",
       "      <td>조수용 저</td>\n",
       "      <td>레퍼런스 바이 비(REFERENCE by B)</td>\n",
       "      <td>19,800</td>\n",
       "    </tr>\n",
       "    <tr>\n",
       "      <th>14</th>\n",
       "      <td>15</td>\n",
       "      <td>해피버쓰데이</td>\n",
       "      <td>백희나 글그림</td>\n",
       "      <td>스토리보울</td>\n",
       "      <td>15,300</td>\n",
       "    </tr>\n",
       "    <tr>\n",
       "      <th>15</th>\n",
       "      <td>16</td>\n",
       "      <td>고전이 답했다 마땅히 살아야 할 삶에 대하여 (나만의 책 만들기 에디션)</td>\n",
       "      <td>고명환 저</td>\n",
       "      <td>라곰</td>\n",
       "      <td>15,120</td>\n",
       "    </tr>\n",
       "    <tr>\n",
       "      <th>16</th>\n",
       "      <td>17</td>\n",
       "      <td>퓨처 셀프 30만 부 기념 스페셜 에디션</td>\n",
       "      <td>벤저민 하디 저/최은아 역</td>\n",
       "      <td>상상스퀘어</td>\n",
       "      <td>19,800</td>\n",
       "    </tr>\n",
       "    <tr>\n",
       "      <th>17</th>\n",
       "      <td>18</td>\n",
       "      <td>린치핀</td>\n",
       "      <td>세스 고딘 저/윤영삼 역</td>\n",
       "      <td>필름</td>\n",
       "      <td>21,420</td>\n",
       "    </tr>\n",
       "    <tr>\n",
       "      <th>18</th>\n",
       "      <td>19</td>\n",
       "      <td>모순</td>\n",
       "      <td>양귀자 저</td>\n",
       "      <td>쓰다</td>\n",
       "      <td>11,700</td>\n",
       "    </tr>\n",
       "    <tr>\n",
       "      <th>19</th>\n",
       "      <td>20</td>\n",
       "      <td>김미경의 딥마인드</td>\n",
       "      <td>김미경 저</td>\n",
       "      <td>어웨이크북스</td>\n",
       "      <td>16,200</td>\n",
       "    </tr>\n",
       "    <tr>\n",
       "      <th>20</th>\n",
       "      <td>21</td>\n",
       "      <td>너에게 들려주는 단단한 말</td>\n",
       "      <td>김종원 저</td>\n",
       "      <td>퍼스트펭귄</td>\n",
       "      <td>16,200</td>\n",
       "    </tr>\n",
       "    <tr>\n",
       "      <th>21</th>\n",
       "      <td>22</td>\n",
       "      <td>ETS 토익 정기시험 기출문제집 1000 Vol. 4 RC</td>\n",
       "      <td>ETS 저</td>\n",
       "      <td>YBM(와이비엠)</td>\n",
       "      <td>17,820</td>\n",
       "    </tr>\n",
       "    <tr>\n",
       "      <th>22</th>\n",
       "      <td>23</td>\n",
       "      <td>세이노의 가르침</td>\n",
       "      <td>세이노(SayNo) 저</td>\n",
       "      <td>데이원</td>\n",
       "      <td>6,480</td>\n",
       "    </tr>\n",
       "    <tr>\n",
       "      <th>23</th>\n",
       "      <td>24</td>\n",
       "      <td>후 who? special 아이브</td>\n",
       "      <td>조약돌 글/백재이 그림</td>\n",
       "      <td>다산어린이</td>\n",
       "      <td>13,500</td>\n",
       "    </tr>\n",
       "  </tbody>\n",
       "</table>\n",
       "</div>"
      ],
      "text/plain": [
       "    순위                                       책이름  \\\n",
       "0    1                                    소년이 온다   \n",
       "1    2                                     채식주의자   \n",
       "2    3                                  작별하지 않는다   \n",
       "3    4                   하루 한 장 나의 어휘력을 위한 필사 노트   \n",
       "4    5                            서랍에 저녁을 넣어 두었다   \n",
       "5    6                              트렌드 코리아 2025   \n",
       "6    7                                         흰   \n",
       "7    8                          산타 할아버지의 첫 크리스마스   \n",
       "8    9                                    희랍어 시간   \n",
       "9   10                                       넥서스   \n",
       "10  11                              어른의 행복은 조용하다   \n",
       "11  12                                트럼프 2.0 시대   \n",
       "12  13                        트럼프와 함께하는 알트코인 대폭등   \n",
       "13  14                                     일의 감각   \n",
       "14  15                                    해피버쓰데이   \n",
       "15  16  고전이 답했다 마땅히 살아야 할 삶에 대하여 (나만의 책 만들기 에디션)   \n",
       "16  17                    퓨처 셀프 30만 부 기념 스페셜 에디션   \n",
       "17  18                                       린치핀   \n",
       "18  19                                        모순   \n",
       "19  20                                 김미경의 딥마인드   \n",
       "20  21                            너에게 들려주는 단단한 말   \n",
       "21  22          ETS 토익 정기시험 기출문제집 1000 Vol. 4 RC   \n",
       "22  23                                  세이노의 가르침   \n",
       "23  24                        후 who? special 아이브   \n",
       "\n",
       "                                저자                        출판사      가격  \n",
       "0                             한강 저                         창비  13,500  \n",
       "1                             한강 저                         창비  13,500  \n",
       "2                             한강 저                       문학동네  15,120  \n",
       "3                            유선경 저                     위즈덤하우스  21,420  \n",
       "4                             한강 저                     문학과지성사  10,800  \n",
       "5   김난도, 전미영, 최지혜, 권정윤, 한다혜 저 외 5명                       미래의창  18,000  \n",
       "6                      한강 저/최진혁 사진                       문학동네  13,050  \n",
       "7          맥 바넷 글/시드니 스미스 그림/김지은 역                       책읽는곰  13,500  \n",
       "8                             한강 저                       문학동네  11,700  \n",
       "9                   유발 하라리 저/김명주 역                        김영사  25,020  \n",
       "10                            태수 저                     페이지2북스  16,020  \n",
       "11                           박종훈 저                       글로퍼스  18,000  \n",
       "12                           강환국 저                      거인의정원  24,300  \n",
       "13                           조수용 저  레퍼런스 바이 비(REFERENCE by B)  19,800  \n",
       "14                         백희나 글그림                      스토리보울  15,300  \n",
       "15                           고명환 저                         라곰  15,120  \n",
       "16                  벤저민 하디 저/최은아 역                      상상스퀘어  19,800  \n",
       "17                   세스 고딘 저/윤영삼 역                         필름  21,420  \n",
       "18                           양귀자 저                         쓰다  11,700  \n",
       "19                           김미경 저                     어웨이크북스  16,200  \n",
       "20                           김종원 저                      퍼스트펭귄  16,200  \n",
       "21                           ETS 저                  YBM(와이비엠)  17,820  \n",
       "22                    세이노(SayNo) 저                        데이원   6,480  \n",
       "23                    조약돌 글/백재이 그림                      다산어린이  13,500  "
      ]
     },
     "execution_count": 434,
     "metadata": {},
     "output_type": "execute_result"
    }
   ],
   "source": [
    "url = 'https://www.yes24.com/Product/Category/BestSeller?CategoryNumber=001'\n",
    "response = requests.get(url)\n",
    "soup = BeautifulSoup(response.text, 'html.parser')\n",
    "\n",
    "books_list = []\n",
    "books_num = soup.select('div.img_upper > em')\n",
    "books_title = soup.select('div.info_row.info_name > a.gd_name')\n",
    "names = soup.select('div.info_row.info_pubGrp > span.authPub.info_auth ')\n",
    "publisher = soup.select('div.info_row.info_pubGrp > span.authPub.info_pub > a')\n",
    "price = soup.select('div.info_row.info_price > strong.txt_num > em')\n",
    "\n",
    "for num, title, name1, publisher1, price1 in zip(books_num, books_title, names, publisher, price):\n",
    "    name = name1.text.split('\\r\\n')[0].strip()\n",
    "    books_list.append({\n",
    "        '순위':num.text,\n",
    "        '책이름':title.text,\n",
    "        '저자':name,\n",
    "        '출판사':publisher1.text,\n",
    "        '가격':price1.text\n",
    "    })\n",
    "    \n",
    "pd.DataFrame(books_list)"
   ]
  },
  {
   "cell_type": "code",
   "execution_count": 435,
   "id": "8980c33c",
   "metadata": {
    "ExecuteTime": {
     "end_time": "2024-12-10T08:20:09.069257Z",
     "start_time": "2024-12-10T08:20:07.121629Z"
    }
   },
   "outputs": [
    {
     "data": {
      "text/html": [
       "<div>\n",
       "<style scoped>\n",
       "    .dataframe tbody tr th:only-of-type {\n",
       "        vertical-align: middle;\n",
       "    }\n",
       "\n",
       "    .dataframe tbody tr th {\n",
       "        vertical-align: top;\n",
       "    }\n",
       "\n",
       "    .dataframe thead th {\n",
       "        text-align: right;\n",
       "    }\n",
       "</style>\n",
       "<table border=\"1\" class=\"dataframe\">\n",
       "  <thead>\n",
       "    <tr style=\"text-align: right;\">\n",
       "      <th></th>\n",
       "      <th>순위</th>\n",
       "      <th>책 제목</th>\n",
       "      <th>저자</th>\n",
       "      <th>출판사</th>\n",
       "      <th>가격</th>\n",
       "    </tr>\n",
       "  </thead>\n",
       "  <tbody>\n",
       "    <tr>\n",
       "      <th>0</th>\n",
       "      <td>1</td>\n",
       "      <td>소년이 온다</td>\n",
       "      <td>한강 저</td>\n",
       "      <td>창비</td>\n",
       "      <td>13,500원</td>\n",
       "    </tr>\n",
       "    <tr>\n",
       "      <th>1</th>\n",
       "      <td>2</td>\n",
       "      <td>채식주의자</td>\n",
       "      <td>한강 저</td>\n",
       "      <td>창비</td>\n",
       "      <td>13,500원</td>\n",
       "    </tr>\n",
       "    <tr>\n",
       "      <th>2</th>\n",
       "      <td>3</td>\n",
       "      <td>작별하지 않는다</td>\n",
       "      <td>한강 저</td>\n",
       "      <td>문학동네</td>\n",
       "      <td>15,120원</td>\n",
       "    </tr>\n",
       "    <tr>\n",
       "      <th>3</th>\n",
       "      <td>4</td>\n",
       "      <td>하루 한 장 나의 어휘력을 위한 필사 노트</td>\n",
       "      <td>유선경 저</td>\n",
       "      <td>위즈덤하우스</td>\n",
       "      <td>21,420원</td>\n",
       "    </tr>\n",
       "    <tr>\n",
       "      <th>4</th>\n",
       "      <td>5</td>\n",
       "      <td>서랍에 저녁을 넣어 두었다</td>\n",
       "      <td>한강 저</td>\n",
       "      <td>문학과지성사</td>\n",
       "      <td>10,800원</td>\n",
       "    </tr>\n",
       "    <tr>\n",
       "      <th>5</th>\n",
       "      <td>6</td>\n",
       "      <td>트렌드 코리아 2025</td>\n",
       "      <td>김난도, 전미영, 최지혜, 권정윤, 한다혜 저 외 5명</td>\n",
       "      <td>미래의창</td>\n",
       "      <td>18,000원</td>\n",
       "    </tr>\n",
       "    <tr>\n",
       "      <th>6</th>\n",
       "      <td>7</td>\n",
       "      <td>흰</td>\n",
       "      <td>한강 저/최진혁 사진</td>\n",
       "      <td>문학동네</td>\n",
       "      <td>13,050원</td>\n",
       "    </tr>\n",
       "    <tr>\n",
       "      <th>7</th>\n",
       "      <td>8</td>\n",
       "      <td>산타 할아버지의 첫 크리스마스</td>\n",
       "      <td>맥 바넷 글/시드니 스미스 그림/김지은 역</td>\n",
       "      <td>책읽는곰</td>\n",
       "      <td>13,500원</td>\n",
       "    </tr>\n",
       "    <tr>\n",
       "      <th>8</th>\n",
       "      <td>9</td>\n",
       "      <td>희랍어 시간</td>\n",
       "      <td>한강 저</td>\n",
       "      <td>문학동네</td>\n",
       "      <td>11,700원</td>\n",
       "    </tr>\n",
       "    <tr>\n",
       "      <th>9</th>\n",
       "      <td>10</td>\n",
       "      <td>넥서스</td>\n",
       "      <td>유발 하라리 저/김명주 역</td>\n",
       "      <td>김영사</td>\n",
       "      <td>25,020원</td>\n",
       "    </tr>\n",
       "    <tr>\n",
       "      <th>10</th>\n",
       "      <td>11</td>\n",
       "      <td>어른의 행복은 조용하다</td>\n",
       "      <td>태수 저</td>\n",
       "      <td>페이지2북스</td>\n",
       "      <td>16,020원</td>\n",
       "    </tr>\n",
       "    <tr>\n",
       "      <th>11</th>\n",
       "      <td>12</td>\n",
       "      <td>트럼프 2.0 시대</td>\n",
       "      <td>박종훈 저</td>\n",
       "      <td>글로퍼스</td>\n",
       "      <td>18,000원</td>\n",
       "    </tr>\n",
       "    <tr>\n",
       "      <th>12</th>\n",
       "      <td>13</td>\n",
       "      <td>트럼프와 함께하는 알트코인 대폭등</td>\n",
       "      <td>강환국 저</td>\n",
       "      <td>거인의정원</td>\n",
       "      <td>24,300원</td>\n",
       "    </tr>\n",
       "    <tr>\n",
       "      <th>13</th>\n",
       "      <td>14</td>\n",
       "      <td>일의 감각</td>\n",
       "      <td>조수용 저</td>\n",
       "      <td>레퍼런스 바이 비(REFERENCE by B)</td>\n",
       "      <td>19,800원</td>\n",
       "    </tr>\n",
       "    <tr>\n",
       "      <th>14</th>\n",
       "      <td>15</td>\n",
       "      <td>해피버쓰데이</td>\n",
       "      <td>백희나 글그림</td>\n",
       "      <td>스토리보울</td>\n",
       "      <td>15,300원</td>\n",
       "    </tr>\n",
       "    <tr>\n",
       "      <th>15</th>\n",
       "      <td>16</td>\n",
       "      <td>고전이 답했다 마땅히 살아야 할 삶에 대하여 (나만의 책 만들기 에디션)</td>\n",
       "      <td>고명환 저</td>\n",
       "      <td>라곰</td>\n",
       "      <td>15,120원</td>\n",
       "    </tr>\n",
       "    <tr>\n",
       "      <th>16</th>\n",
       "      <td>17</td>\n",
       "      <td>퓨처 셀프 30만 부 기념 스페셜 에디션</td>\n",
       "      <td>벤저민 하디 저/최은아 역</td>\n",
       "      <td>상상스퀘어</td>\n",
       "      <td>19,800원</td>\n",
       "    </tr>\n",
       "    <tr>\n",
       "      <th>17</th>\n",
       "      <td>18</td>\n",
       "      <td>린치핀</td>\n",
       "      <td>세스 고딘 저/윤영삼 역</td>\n",
       "      <td>필름</td>\n",
       "      <td>21,420원</td>\n",
       "    </tr>\n",
       "    <tr>\n",
       "      <th>18</th>\n",
       "      <td>19</td>\n",
       "      <td>모순</td>\n",
       "      <td>양귀자 저</td>\n",
       "      <td>쓰다</td>\n",
       "      <td>11,700원</td>\n",
       "    </tr>\n",
       "    <tr>\n",
       "      <th>19</th>\n",
       "      <td>20</td>\n",
       "      <td>김미경의 딥마인드</td>\n",
       "      <td>김미경 저</td>\n",
       "      <td>어웨이크북스</td>\n",
       "      <td>16,200원</td>\n",
       "    </tr>\n",
       "  </tbody>\n",
       "</table>\n",
       "</div>"
      ],
      "text/plain": [
       "    순위                                      책 제목  \\\n",
       "0    1                                    소년이 온다   \n",
       "1    2                                     채식주의자   \n",
       "2    3                                  작별하지 않는다   \n",
       "3    4                   하루 한 장 나의 어휘력을 위한 필사 노트   \n",
       "4    5                            서랍에 저녁을 넣어 두었다   \n",
       "5    6                              트렌드 코리아 2025   \n",
       "6    7                                         흰   \n",
       "7    8                          산타 할아버지의 첫 크리스마스   \n",
       "8    9                                    희랍어 시간   \n",
       "9   10                                       넥서스   \n",
       "10  11                              어른의 행복은 조용하다   \n",
       "11  12                                트럼프 2.0 시대   \n",
       "12  13                        트럼프와 함께하는 알트코인 대폭등   \n",
       "13  14                                     일의 감각   \n",
       "14  15                                    해피버쓰데이   \n",
       "15  16  고전이 답했다 마땅히 살아야 할 삶에 대하여 (나만의 책 만들기 에디션)   \n",
       "16  17                    퓨처 셀프 30만 부 기념 스페셜 에디션   \n",
       "17  18                                       린치핀   \n",
       "18  19                                        모순   \n",
       "19  20                                 김미경의 딥마인드   \n",
       "\n",
       "                                저자                        출판사       가격  \n",
       "0                             한강 저                         창비  13,500원  \n",
       "1                             한강 저                         창비  13,500원  \n",
       "2                             한강 저                       문학동네  15,120원  \n",
       "3                            유선경 저                     위즈덤하우스  21,420원  \n",
       "4                             한강 저                     문학과지성사  10,800원  \n",
       "5   김난도, 전미영, 최지혜, 권정윤, 한다혜 저 외 5명                       미래의창  18,000원  \n",
       "6                      한강 저/최진혁 사진                       문학동네  13,050원  \n",
       "7          맥 바넷 글/시드니 스미스 그림/김지은 역                       책읽는곰  13,500원  \n",
       "8                             한강 저                       문학동네  11,700원  \n",
       "9                   유발 하라리 저/김명주 역                        김영사  25,020원  \n",
       "10                            태수 저                     페이지2북스  16,020원  \n",
       "11                           박종훈 저                       글로퍼스  18,000원  \n",
       "12                           강환국 저                      거인의정원  24,300원  \n",
       "13                           조수용 저  레퍼런스 바이 비(REFERENCE by B)  19,800원  \n",
       "14                         백희나 글그림                      스토리보울  15,300원  \n",
       "15                           고명환 저                         라곰  15,120원  \n",
       "16                  벤저민 하디 저/최은아 역                      상상스퀘어  19,800원  \n",
       "17                   세스 고딘 저/윤영삼 역                         필름  21,420원  \n",
       "18                           양귀자 저                         쓰다  11,700원  \n",
       "19                           김미경 저                     어웨이크북스  16,200원  "
      ]
     },
     "execution_count": 435,
     "metadata": {},
     "output_type": "execute_result"
    }
   ],
   "source": [
    "url = 'https://www.yes24.com/Product/Category/BestSeller?categoryNumber=001&pageNumber=1&pageSize=24'\n",
    "response = requests.get(url)\n",
    "soup = BeautifulSoup(response.text, \"html.parser\")\n",
    "\n",
    "rank = soup.select('div.img_upper > em')\n",
    "books = soup.select('div.info_name > a.gd_name')\n",
    "author = soup.select('div.info_row span.info_auth')\n",
    "publication = soup.select('div.info_pubGrp span.info_pub a')\n",
    "price = soup.select('div.info_row strong')\n",
    "data = []\n",
    "\n",
    "for idx, (rank, book, author, publication, price) in enumerate(zip(rank, books, author, publication, price), 1):\n",
    "    author_name = author.text.strip()\n",
    "    author_name = author_name.split('\\r\\n')[0].strip()    \n",
    "    data.append({\n",
    "        '순위': rank.text.strip(),\n",
    "        '책 제목': book.text.strip(),\n",
    "        '저자': author_name,\n",
    "        '출판사': publication.text.strip(),\n",
    "        '가격': price.text.strip()\n",
    "    })\n",
    "    \n",
    "df_book = pd.DataFrame(data)\n",
    "df_book.head(20)"
   ]
  },
  {
   "cell_type": "code",
   "execution_count": 439,
   "id": "8f1100a7",
   "metadata": {
    "ExecuteTime": {
     "end_time": "2024-12-10T08:21:33.254522Z",
     "start_time": "2024-12-10T08:21:30.033073Z"
    }
   },
   "outputs": [
    {
     "name": "stdout",
     "output_type": "stream",
     "text": [
      "1 페이지 완료\n",
      "2 페이지 완료\n",
      "3 페이지 완료\n",
      "4 페이지 완료\n"
     ]
    },
    {
     "data": {
      "text/html": [
       "<div>\n",
       "<style scoped>\n",
       "    .dataframe tbody tr th:only-of-type {\n",
       "        vertical-align: middle;\n",
       "    }\n",
       "\n",
       "    .dataframe tbody tr th {\n",
       "        vertical-align: top;\n",
       "    }\n",
       "\n",
       "    .dataframe thead th {\n",
       "        text-align: right;\n",
       "    }\n",
       "</style>\n",
       "<table border=\"1\" class=\"dataframe\">\n",
       "  <thead>\n",
       "    <tr style=\"text-align: right;\">\n",
       "      <th></th>\n",
       "      <th>순위</th>\n",
       "      <th>도서명</th>\n",
       "      <th>가격</th>\n",
       "      <th>출판사</th>\n",
       "      <th>저자</th>\n",
       "    </tr>\n",
       "  </thead>\n",
       "  <tbody>\n",
       "    <tr>\n",
       "      <th>0</th>\n",
       "      <td>1</td>\n",
       "      <td>소년이 온다</td>\n",
       "      <td>13,500</td>\n",
       "      <td>창비</td>\n",
       "      <td>한강</td>\n",
       "    </tr>\n",
       "    <tr>\n",
       "      <th>1</th>\n",
       "      <td>2</td>\n",
       "      <td>채식주의자</td>\n",
       "      <td>13,500</td>\n",
       "      <td>창비</td>\n",
       "      <td>한강</td>\n",
       "    </tr>\n",
       "    <tr>\n",
       "      <th>2</th>\n",
       "      <td>3</td>\n",
       "      <td>작별하지 않는다</td>\n",
       "      <td>15,120</td>\n",
       "      <td>문학동네</td>\n",
       "      <td>한강</td>\n",
       "    </tr>\n",
       "    <tr>\n",
       "      <th>3</th>\n",
       "      <td>4</td>\n",
       "      <td>하루 한 장 나의 어휘력을 위한 필사 노트</td>\n",
       "      <td>21,420</td>\n",
       "      <td>위즈덤하우스</td>\n",
       "      <td>유선경</td>\n",
       "    </tr>\n",
       "    <tr>\n",
       "      <th>4</th>\n",
       "      <td>5</td>\n",
       "      <td>서랍에 저녁을 넣어 두었다</td>\n",
       "      <td>10,800</td>\n",
       "      <td>문학과지성사</td>\n",
       "      <td>한강</td>\n",
       "    </tr>\n",
       "    <tr>\n",
       "      <th>...</th>\n",
       "      <td>...</td>\n",
       "      <td>...</td>\n",
       "      <td>...</td>\n",
       "      <td>...</td>\n",
       "      <td>...</td>\n",
       "    </tr>\n",
       "    <tr>\n",
       "      <th>91</th>\n",
       "      <td>92</td>\n",
       "      <td>데미안</td>\n",
       "      <td>7,200</td>\n",
       "      <td>민음사</td>\n",
       "      <td>헤르만 헤세, 전영애</td>\n",
       "    </tr>\n",
       "    <tr>\n",
       "      <th>92</th>\n",
       "      <td>93</td>\n",
       "      <td>스킵과 로퍼 9</td>\n",
       "      <td>5,400</td>\n",
       "      <td>YNKMEDIA</td>\n",
       "      <td>타카마츠 미사키, 신혜선</td>\n",
       "    </tr>\n",
       "    <tr>\n",
       "      <th>93</th>\n",
       "      <td>94</td>\n",
       "      <td>하늘에서 눈토끼가 내려요!</td>\n",
       "      <td>13,500</td>\n",
       "      <td>신나는원숭이</td>\n",
       "      <td>후이팡 정, 정미애</td>\n",
       "    </tr>\n",
       "    <tr>\n",
       "      <th>94</th>\n",
       "      <td>95</td>\n",
       "      <td>스스로 공부하는 아이들</td>\n",
       "      <td>13,500</td>\n",
       "      <td>한경키즈(한국경제신문)</td>\n",
       "      <td>임민찬, 최경식</td>\n",
       "    </tr>\n",
       "    <tr>\n",
       "      <th>95</th>\n",
       "      <td>96</td>\n",
       "      <td>해커스 일본어 첫걸음 : 일본어 기초 20일 독학 완성!</td>\n",
       "      <td>12,510</td>\n",
       "      <td>해커스어학연구소</td>\n",
       "      <td>해커스 일본어연구소</td>\n",
       "    </tr>\n",
       "  </tbody>\n",
       "</table>\n",
       "<p>96 rows × 5 columns</p>\n",
       "</div>"
      ],
      "text/plain": [
       "    순위                              도서명      가격           출판사             저자\n",
       "0    1                           소년이 온다  13,500            창비             한강\n",
       "1    2                            채식주의자  13,500            창비             한강\n",
       "2    3                         작별하지 않는다  15,120          문학동네             한강\n",
       "3    4          하루 한 장 나의 어휘력을 위한 필사 노트  21,420        위즈덤하우스            유선경\n",
       "4    5                   서랍에 저녁을 넣어 두었다  10,800        문학과지성사             한강\n",
       "..  ..                              ...     ...           ...            ...\n",
       "91  92                              데미안   7,200           민음사    헤르만 헤세, 전영애\n",
       "92  93                         스킵과 로퍼 9   5,400      YNKMEDIA  타카마츠 미사키, 신혜선\n",
       "93  94                   하늘에서 눈토끼가 내려요!  13,500        신나는원숭이     후이팡 정, 정미애\n",
       "94  95                     스스로 공부하는 아이들  13,500  한경키즈(한국경제신문)       임민찬, 최경식\n",
       "95  96  해커스 일본어 첫걸음 : 일본어 기초 20일 독학 완성!  12,510      해커스어학연구소     해커스 일본어연구소\n",
       "\n",
       "[96 rows x 5 columns]"
      ]
     },
     "execution_count": 439,
     "metadata": {},
     "output_type": "execute_result"
    }
   ],
   "source": [
    "books_list = []\n",
    "for i in range(1,5):\n",
    "    url = f'https://www.yes24.com/Product/Category/BestSeller?categoryNumber=001&pageNumber={i}&pageSize=24'\n",
    "    response = requests.get(url)\n",
    "    soup = BeautifulSoup(response.text, 'html.parser')\n",
    "    for book in soup.select('div.bSGoodsSecArea > ul#yesBestList > li') :\n",
    "        rank = book.select_one('div.img_canvas>div.img_upper>em.ico.rank').text\n",
    "        name = book.select_one('div.item_info > div.info_row.info_name > a.gd_name').text\n",
    "        price = book.select_one('div.info_row.info_price > strong.txt_num > em.yes_b').text\n",
    "        publisher = book.select_one('div.info_row.info_pubGrp > span.authPub.info_pub > a').text\n",
    "        writers = book.select('span.authPub.info_auth > a')\n",
    "        writer_list = []\n",
    "        for writer in writers:\n",
    "            writer_list.append(writer.text)\n",
    "        books_list.append({\n",
    "            '순위':rank,\n",
    "            '도서명':name,\n",
    "            '가격':price,\n",
    "            '출판사':publisher,\n",
    "            '저자':', '.join(writer_list)\n",
    "        })\n",
    "    print(i,'페이지 완료')\n",
    "books_df = pd.DataFrame(books_list)\n",
    "# books_df.to_csv('data/ch14_yes24.csv', index=False)\n",
    "books_df"
   ]
  },
  {
   "cell_type": "code",
   "execution_count": 418,
   "id": "0af39788",
   "metadata": {
    "ExecuteTime": {
     "end_time": "2024-12-10T07:55:04.545710Z",
     "start_time": "2024-12-10T07:55:04.537805Z"
    }
   },
   "outputs": [],
   "source": [
    "def make_lst_book(rank_lst, name_lst, writer_lst, pub_lst, price_lst, pageSize):\n",
    "    lst = []\n",
    "    for idx in range(pageSize):\n",
    "        rank = rank_lst[idx].text\n",
    "        name = name_lst[idx].text\n",
    "        writer = writer_lst[idx].text.split('\\r\\n')[0][1:]\n",
    "        pub = pub_lst[idx].text\n",
    "        price = price_lst[idx].text\n",
    "        lst.append({'rank':rank,\n",
    "                   'name':name,\n",
    "                   'writer':writer,\n",
    "                   'pub':pub,\n",
    "                   'price':price})\n",
    "    return lst"
   ]
  },
  {
   "cell_type": "code",
   "execution_count": 419,
   "id": "c4a86d1e",
   "metadata": {
    "ExecuteTime": {
     "end_time": "2024-12-10T07:55:08.217365Z",
     "start_time": "2024-12-10T07:55:04.659319Z"
    }
   },
   "outputs": [],
   "source": [
    "page = 3\n",
    "pageSize = 20\n",
    "lst_bestseller = []\n",
    "\n",
    "for idx in range(page):\n",
    "    url = f'https://www.yes24.com/Product/Category/BestSeller?categoryNumber=001&pageNumber={idx+1}&pageSize={pageSize}'\n",
    "    response = requests.get(url)\n",
    "    soup = BeautifulSoup(response.text, 'html.parser')\n",
    "    rank_lst = soup.select('div.img_upper > em.rank')\n",
    "    name_lst = soup.select('div.info_name > a.gd_name')\n",
    "    writer_lst = soup.select('span.info_auth') # 첫번째 \\n 제거, 첫번째 \\r\\n까지 추출\n",
    "    pub_lst = soup.select('span.info_pub>a')\n",
    "    price_lst = soup.select('strong.txt_num > em.yes_b')\n",
    "    lst_bestseller.extend(make_lst_book(rank_lst, name_lst, writer_lst, pub_lst, price_lst, pageSize))"
   ]
  },
  {
   "cell_type": "code",
   "execution_count": 443,
   "id": "62571b8c",
   "metadata": {
    "ExecuteTime": {
     "end_time": "2024-12-10T08:22:15.008612Z",
     "start_time": "2024-12-10T08:22:14.992739Z"
    }
   },
   "outputs": [
    {
     "data": {
      "text/html": [
       "<div>\n",
       "<style scoped>\n",
       "    .dataframe tbody tr th:only-of-type {\n",
       "        vertical-align: middle;\n",
       "    }\n",
       "\n",
       "    .dataframe tbody tr th {\n",
       "        vertical-align: top;\n",
       "    }\n",
       "\n",
       "    .dataframe thead th {\n",
       "        text-align: right;\n",
       "    }\n",
       "</style>\n",
       "<table border=\"1\" class=\"dataframe\">\n",
       "  <thead>\n",
       "    <tr style=\"text-align: right;\">\n",
       "      <th></th>\n",
       "      <th>rank</th>\n",
       "      <th>name</th>\n",
       "      <th>writer</th>\n",
       "      <th>pub</th>\n",
       "      <th>price</th>\n",
       "    </tr>\n",
       "  </thead>\n",
       "  <tbody>\n",
       "    <tr>\n",
       "      <th>0</th>\n",
       "      <td>41</td>\n",
       "      <td>흔한남매 과학 탐험대 12 공룡과 화석</td>\n",
       "      <td>흔한남매 원저/김언정, 송은경 글/임혜영 그림/김희목 기획 외 3명</td>\n",
       "      <td>주니어김영사</td>\n",
       "      <td>13,320</td>\n",
       "    </tr>\n",
       "    <tr>\n",
       "      <th>1</th>\n",
       "      <td>42</td>\n",
       "      <td>설민석의 한국사 대모험 31</td>\n",
       "      <td>설민석, 남이담 글/정현희 그림/강석화 감수</td>\n",
       "      <td>단꿈아이</td>\n",
       "      <td>12,600</td>\n",
       "    </tr>\n",
       "    <tr>\n",
       "      <th>2</th>\n",
       "      <td>43</td>\n",
       "      <td>2024 큰별쌤 최태성의 별별한국사 한국사능력검정시험 심화(1,2,3급) 하</td>\n",
       "      <td>최태성 저</td>\n",
       "      <td>이투스북</td>\n",
       "      <td>13,950</td>\n",
       "    </tr>\n",
       "    <tr>\n",
       "      <th>3</th>\n",
       "      <td>44</td>\n",
       "      <td>박태웅의 AI 강의 2025</td>\n",
       "      <td>박태웅 저</td>\n",
       "      <td>한빛비즈</td>\n",
       "      <td>16,920</td>\n",
       "    </tr>\n",
       "    <tr>\n",
       "      <th>4</th>\n",
       "      <td>45</td>\n",
       "      <td>더 나은 어휘를 쓰고 싶은 당신을 위한 필사책</td>\n",
       "      <td>이주윤 저</td>\n",
       "      <td>빅피시</td>\n",
       "      <td>19,800</td>\n",
       "    </tr>\n",
       "    <tr>\n",
       "      <th>5</th>\n",
       "      <td>46</td>\n",
       "      <td>모든 시험에 적용되는 33가지 진짜 공부법</td>\n",
       "      <td>연수남 저</td>\n",
       "      <td>다산북스</td>\n",
       "      <td>17,820</td>\n",
       "    </tr>\n",
       "    <tr>\n",
       "      <th>6</th>\n",
       "      <td>47</td>\n",
       "      <td>나는 메트로폴리탄 미술관의 경비원입니다 (20만 부 양장 에디션)</td>\n",
       "      <td>패트릭 브링리 저/김희정, 조현주 역</td>\n",
       "      <td>웅진지식하우스</td>\n",
       "      <td>15,750</td>\n",
       "    </tr>\n",
       "    <tr>\n",
       "      <th>7</th>\n",
       "      <td>48</td>\n",
       "      <td>최소한의 한국사</td>\n",
       "      <td>최태성 저</td>\n",
       "      <td>프런트페이지</td>\n",
       "      <td>16,200</td>\n",
       "    </tr>\n",
       "    <tr>\n",
       "      <th>8</th>\n",
       "      <td>49</td>\n",
       "      <td>코스모스</td>\n",
       "      <td>칼 에드워드 세이건 저/홍승수 역</td>\n",
       "      <td>사이언스북스</td>\n",
       "      <td>17,910</td>\n",
       "    </tr>\n",
       "    <tr>\n",
       "      <th>9</th>\n",
       "      <td>50</td>\n",
       "      <td>나의 인생만사 답사기</td>\n",
       "      <td>유홍준 저</td>\n",
       "      <td>창비</td>\n",
       "      <td>19,800</td>\n",
       "    </tr>\n",
       "    <tr>\n",
       "      <th>10</th>\n",
       "      <td>51</td>\n",
       "      <td>한강 스페셜 에디션</td>\n",
       "      <td>한강 저</td>\n",
       "      <td>문학동네</td>\n",
       "      <td>42,120</td>\n",
       "    </tr>\n",
       "    <tr>\n",
       "      <th>11</th>\n",
       "      <td>52</td>\n",
       "      <td>급류</td>\n",
       "      <td>정대건 저</td>\n",
       "      <td>민음사</td>\n",
       "      <td>12,600</td>\n",
       "    </tr>\n",
       "    <tr>\n",
       "      <th>12</th>\n",
       "      <td>53</td>\n",
       "      <td>해커스 토익 기출 VOCA (보카)</td>\n",
       "      <td>David Cho 저</td>\n",
       "      <td>해커스어학연구소</td>\n",
       "      <td>11,610</td>\n",
       "    </tr>\n",
       "    <tr>\n",
       "      <th>13</th>\n",
       "      <td>54</td>\n",
       "      <td>김재우의 기초 영어회화 100</td>\n",
       "      <td>김재우 저</td>\n",
       "      <td>상상스퀘어</td>\n",
       "      <td>17,010</td>\n",
       "    </tr>\n",
       "    <tr>\n",
       "      <th>14</th>\n",
       "      <td>55</td>\n",
       "      <td>그의 운명에 대한 아주 개인적인 생각</td>\n",
       "      <td>유시민 저</td>\n",
       "      <td>생각의길</td>\n",
       "      <td>15,120</td>\n",
       "    </tr>\n",
       "    <tr>\n",
       "      <th>15</th>\n",
       "      <td>56</td>\n",
       "      <td>당신을 알기 전에는 시 없이도 잘 지냈습니다</td>\n",
       "      <td>류시화 저</td>\n",
       "      <td>수오서재</td>\n",
       "      <td>14,400</td>\n",
       "    </tr>\n",
       "    <tr>\n",
       "      <th>16</th>\n",
       "      <td>57</td>\n",
       "      <td>사피엔스</td>\n",
       "      <td>유발 하라리 저/조현욱 역/이태수 감수</td>\n",
       "      <td>김영사</td>\n",
       "      <td>24,120</td>\n",
       "    </tr>\n",
       "    <tr>\n",
       "      <th>17</th>\n",
       "      <td>58</td>\n",
       "      <td>진짜 쓰는 실무 엑셀</td>\n",
       "      <td>전진권 저</td>\n",
       "      <td>제이펍</td>\n",
       "      <td>18,900</td>\n",
       "    </tr>\n",
       "    <tr>\n",
       "      <th>18</th>\n",
       "      <td>59</td>\n",
       "      <td>긴긴밤</td>\n",
       "      <td>루리 글그림</td>\n",
       "      <td>문학동네</td>\n",
       "      <td>10,350</td>\n",
       "    </tr>\n",
       "    <tr>\n",
       "      <th>19</th>\n",
       "      <td>60</td>\n",
       "      <td>조혜련의 잘 보이는 성경이야기</td>\n",
       "      <td>조혜련 저</td>\n",
       "      <td>오제이엔터스컴</td>\n",
       "      <td>49,500</td>\n",
       "    </tr>\n",
       "  </tbody>\n",
       "</table>\n",
       "</div>"
      ],
      "text/plain": [
       "   rank                                        name  \\\n",
       "0    41                       흔한남매 과학 탐험대 12 공룡과 화석   \n",
       "1    42                             설민석의 한국사 대모험 31   \n",
       "2    43  2024 큰별쌤 최태성의 별별한국사 한국사능력검정시험 심화(1,2,3급) 하   \n",
       "3    44                             박태웅의 AI 강의 2025   \n",
       "4    45                   더 나은 어휘를 쓰고 싶은 당신을 위한 필사책   \n",
       "5    46                     모든 시험에 적용되는 33가지 진짜 공부법   \n",
       "6    47        나는 메트로폴리탄 미술관의 경비원입니다 (20만 부 양장 에디션)   \n",
       "7    48                                    최소한의 한국사   \n",
       "8    49                                        코스모스   \n",
       "9    50                                 나의 인생만사 답사기   \n",
       "10   51                                  한강 스페셜 에디션   \n",
       "11   52                                          급류   \n",
       "12   53                         해커스 토익 기출 VOCA (보카)   \n",
       "13   54                            김재우의 기초 영어회화 100   \n",
       "14   55                        그의 운명에 대한 아주 개인적인 생각   \n",
       "15   56                    당신을 알기 전에는 시 없이도 잘 지냈습니다   \n",
       "16   57                                        사피엔스   \n",
       "17   58                                 진짜 쓰는 실무 엑셀   \n",
       "18   59                                         긴긴밤   \n",
       "19   60                            조혜련의 잘 보이는 성경이야기   \n",
       "\n",
       "                                   writer       pub   price  \n",
       "0   흔한남매 원저/김언정, 송은경 글/임혜영 그림/김희목 기획 외 3명    주니어김영사  13,320  \n",
       "1                설민석, 남이담 글/정현희 그림/강석화 감수      단꿈아이  12,600  \n",
       "2                                   최태성 저     이투스북   13,950  \n",
       "3                                   박태웅 저      한빛비즈  16,920  \n",
       "4                                   이주윤 저       빅피시  19,800  \n",
       "5                                   연수남 저      다산북스  17,820  \n",
       "6                    패트릭 브링리 저/김희정, 조현주 역   웅진지식하우스  15,750  \n",
       "7                                   최태성 저    프런트페이지  16,200  \n",
       "8                      칼 에드워드 세이건 저/홍승수 역    사이언스북스  17,910  \n",
       "9                                   유홍준 저        창비  19,800  \n",
       "10                                   한강 저      문학동네  42,120  \n",
       "11                                  정대건 저       민음사  12,600  \n",
       "12                            David Cho 저  해커스어학연구소  11,610  \n",
       "13                                  김재우 저     상상스퀘어  17,010  \n",
       "14                                  유시민 저      생각의길  15,120  \n",
       "15                                  류시화 저      수오서재  14,400  \n",
       "16                  유발 하라리 저/조현욱 역/이태수 감수       김영사  24,120  \n",
       "17                                  전진권 저       제이펍  18,900  \n",
       "18                                 루리 글그림      문학동네  10,350  \n",
       "19                                  조혜련 저   오제이엔터스컴  49,500  "
      ]
     },
     "execution_count": 443,
     "metadata": {},
     "output_type": "execute_result"
    }
   ],
   "source": [
    "pd.DataFrame(make_lst_book(rank_lst, name_lst, writer_lst, pub_lst, price_lst, pageSize))"
   ]
  },
  {
   "cell_type": "code",
   "execution_count": null,
   "id": "7b30a39f",
   "metadata": {},
   "outputs": [],
   "source": []
  }
 ],
 "metadata": {
  "kernelspec": {
   "display_name": "Python 3 (ipykernel)",
   "language": "python",
   "name": "python3"
  },
  "language_info": {
   "codemirror_mode": {
    "name": "ipython",
    "version": 3
   },
   "file_extension": ".py",
   "mimetype": "text/x-python",
   "name": "python",
   "nbconvert_exporter": "python",
   "pygments_lexer": "ipython3",
   "version": "3.10.9"
  },
  "toc": {
   "base_numbering": 1,
   "nav_menu": {},
   "number_sections": true,
   "sideBar": true,
   "skip_h1_title": false,
   "title_cell": "Table of Contents",
   "title_sidebar": "Contents",
   "toc_cell": false,
   "toc_position": {
    "height": "calc(100% - 180px)",
    "left": "10px",
    "top": "150px",
    "width": "165px"
   },
   "toc_section_display": true,
   "toc_window_display": true
  }
 },
 "nbformat": 4,
 "nbformat_minor": 5
}
