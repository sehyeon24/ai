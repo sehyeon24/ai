{
 "cells": [
  {
   "cell_type": "code",
   "execution_count": 1,
   "id": "d7a9f6cf",
   "metadata": {
    "ExecuteTime": {
     "end_time": "2024-11-12T08:52:16.073901Z",
     "start_time": "2024-11-12T08:52:16.062904Z"
    }
   },
   "outputs": [
    {
     "data": {
      "text/html": [
       "\n",
       "<style>\n",
       "div.container{width:80% !important;}\n",
       "div.prompt {min-width:70px;}\n",
       "div#toc-header{margin-top:150px;}\n",
       "span.toc-item-num{display:none;}\n",
       "</style>\n"
      ],
      "text/plain": [
       "<IPython.core.display.HTML object>"
      ]
     },
     "metadata": {},
     "output_type": "display_data"
    }
   ],
   "source": [
    "from IPython.display import display, HTML\n",
    "display(HTML(\"\"\"\n",
    "<style>\n",
    "div.container{width:80% !important;}\n",
    "div.prompt {min-width:70px;}\n",
    "div#toc-header{margin-top:150px;}\n",
    "span.toc-item-num{display:none;}\n",
    "</style>\n",
    "\"\"\"))"
   ]
  },
  {
   "cell_type": "markdown",
   "id": "8f027fd6",
   "metadata": {},
   "source": [
    "<b><font size=\"6\" color=\"red\">ch02. 자료형과 연산자</font></b>"
   ]
  },
  {
   "cell_type": "markdown",
   "id": "84075bc0",
   "metadata": {},
   "source": [
    "# 4절. 포맷팅\n",
    "    - 포맷팅이란? 출력할 문자, 숫자, 날짜 데이터에 형식을 지정하는 것\n",
    "    - 변수와 텍스트를 결합해서 보기 좋은 형식의 새로운 텍스트를 만들 수도 있음"
   ]
  },
  {
   "cell_type": "markdown",
   "id": "20e3ca51",
   "metadata": {},
   "source": [
    "## 4.1 문자열에 형식 지정"
   ]
  },
  {
   "cell_type": "code",
   "execution_count": 4,
   "id": "c93a7aac",
   "metadata": {
    "ExecuteTime": {
     "end_time": "2024-11-05T03:00:29.671445Z",
     "start_time": "2024-11-05T03:00:29.666096Z"
    }
   },
   "outputs": [
    {
     "name": "stdout",
     "output_type": "stream",
     "text": [
      "홍길동님의 나이는 30살 입니다\n"
     ]
    }
   ],
   "source": [
    "name = \"홍길동\"\n",
    "age = 30\n",
    "print(name, '님의 나이는 ', age, '살 입니다', sep='')"
   ]
  },
  {
   "cell_type": "code",
   "execution_count": 9,
   "id": "c1d8444f",
   "metadata": {
    "ExecuteTime": {
     "end_time": "2024-11-05T03:04:06.732973Z",
     "start_time": "2024-11-05T03:04:06.727975Z"
    }
   },
   "outputs": [
    {
     "name": "stdout",
     "output_type": "stream",
     "text": [
      "홍길동님의 나이는 30살 입니다\n",
      "홍길동님의 나이는 30살 입니다\n"
     ]
    }
   ],
   "source": [
    "# %s문자, %d10진수정수, %f실수\n",
    "print(\"%s님의 나이는 %d살 입니다\"%(name, age))\n",
    "print(f\"{name}님의 나이는 {age}살 입니다\")"
   ]
  },
  {
   "cell_type": "code",
   "execution_count": 15,
   "id": "2754f3ce",
   "metadata": {
    "ExecuteTime": {
     "end_time": "2024-11-05T03:08:20.771906Z",
     "start_time": "2024-11-05T03:08:20.764518Z"
    }
   },
   "outputs": [
    {
     "name": "stdout",
     "output_type": "stream",
     "text": [
      "홍길동님의 나이는 30살 입니다\n",
      "홍길동님의 나이는 30살 입니다\n",
      "30살 홍길동님 반갑습니다. 홍길동님 어서오세요.\n"
     ]
    }
   ],
   "source": [
    "print(\"{}님의 나이는 {}살 입니다\".format(name, age))\n",
    "print(\"{0}님의 나이는 {1}살 입니다\".format(name, age))\n",
    "print(\"{1}살 {0}님 반갑습니다. {0}님 어서오세요.\".format(name, age))  # 순서를 바꾸거나 두 번 이상 사용될 때"
   ]
  },
  {
   "cell_type": "markdown",
   "id": "01177dfd",
   "metadata": {},
   "source": [
    "## 4.2 format() 문법"
   ]
  },
  {
   "cell_type": "code",
   "execution_count": 16,
   "id": "ae3c00d5",
   "metadata": {
    "ExecuteTime": {
     "end_time": "2024-11-05T03:20:35.643950Z",
     "start_time": "2024-11-05T03:20:35.640508Z"
    }
   },
   "outputs": [],
   "source": [
    "# \"{[인덱스]:[공백대체문자][정렬방법][자릿수][타입]}\".format(변수명)\n",
    "\n",
    "    # 인덱스 : format()함수 안의 매개변수의 순서\n",
    "    # 정렬방법 : <(왼쪽정렬), >(오른쪽정렬), ^(가운데정렬)\n",
    "    # 정수자릿수 : 출력할 자릿수(변수 내용보다 작은 자릿수가 지정되면 자릿수 무시)\n",
    "    # 실수자릿수 : 전체 출력될 자릿수.변수 중에 출력할 자릿수(소숫점)\n",
    "    # 타입 : d(10진수정수), o(8진수), b(2진수), x(16진수), f(실수), s(문자)"
   ]
  },
  {
   "cell_type": "code",
   "execution_count": 18,
   "id": "4af93055",
   "metadata": {
    "ExecuteTime": {
     "end_time": "2024-11-05T03:40:31.805007Z",
     "start_time": "2024-11-05T03:40:28.219295Z"
    }
   },
   "outputs": [
    {
     "name": "stdout",
     "output_type": "stream",
     "text": [
      "이름은?홍길동\n",
      "나이는?20\n",
      "20살 홍길동님 안녕하세요.\n",
      "*20**살 홍길동_______님 안녕하세요.\n"
     ]
    }
   ],
   "source": [
    "name = input('이름은?')\n",
    "age = int(input('나이는?'))\n",
    "print('{}살 {}님 안녕하세요.'.format(age, name))\n",
    "# 공백대체문자를 쓸 경우 정렬방식을 반드시 기입해야 함\n",
    "print('{0:*^5d}살 {1:_<10}님 안녕하세요.'.format(age, name))"
   ]
  },
  {
   "cell_type": "code",
   "execution_count": 24,
   "id": "3310e2e1",
   "metadata": {
    "ExecuteTime": {
     "end_time": "2024-11-05T03:46:00.790395Z",
     "start_time": "2024-11-05T03:46:00.785108Z"
    }
   },
   "outputs": [
    {
     "name": "stdout",
     "output_type": "stream",
     "text": [
      "[12345], [     12345], [12345]\n",
      "[Hello], [Hello     ], [Hello]\n"
     ]
    }
   ],
   "source": [
    "# 숫자 : 오른쪽정렬(기본값)\n",
    "# 문자 : 왼쪽정렬(기본값)\n",
    "# 변수보다 작은 자릿수를 지정하면 자릿수가 무시되고 전부 출력됨(정수 자릿수)\n",
    "a = 12345\n",
    "s = \"Hello\"\n",
    "print(\"[{}], [{:10}], [{:3}]\".format(a, a, a))\n",
    "print(\"[{0}], [{0:10}], [{0:3}]\".format(s))"
   ]
  },
  {
   "cell_type": "code",
   "execution_count": 26,
   "id": "ff56d6d1",
   "metadata": {
    "ExecuteTime": {
     "end_time": "2024-11-05T03:52:43.043226Z",
     "start_time": "2024-11-05T03:52:43.037436Z"
    }
   },
   "outputs": [
    {
     "name": "stdout",
     "output_type": "stream",
     "text": [
      "[10    ], [    20], [  3   ]\n"
     ]
    }
   ],
   "source": [
    "# 정렬방법 : < ^ >\n",
    "a, b, c = 10, 20, 3\n",
    "print(\"[{:<6}], [{:>6}], [{:^6}]\".format(a, b, c))"
   ]
  },
  {
   "cell_type": "code",
   "execution_count": 32,
   "id": "e319fc1a",
   "metadata": {
    "ExecuteTime": {
     "end_time": "2024-11-05T03:57:46.279815Z",
     "start_time": "2024-11-05T03:57:46.274656Z"
    }
   },
   "outputs": [
    {
     "name": "stdout",
     "output_type": "stream",
     "text": [
      "[$$$$$$$$10], [     10.00], [     123.6], [________He]\n"
     ]
    }
   ],
   "source": [
    "# 실수자릿수\n",
    "a = 10\n",
    "f = 123.56\n",
    "s = 'Hello'\n",
    "                 # ┌소숫점 2자리까지\n",
    "print('[{0:$>10}], [{0:10.2f}], [{1:10.1f}], [{2:_>10.2}]'.format(a, f, s))\n",
    "                                          # └2번 매개변수를 10자리 확보해 변수의 2자리만 출력"
   ]
  },
  {
   "cell_type": "code",
   "execution_count": 35,
   "id": "ac6c5bd0",
   "metadata": {
    "ExecuteTime": {
     "end_time": "2024-11-05T04:02:45.677798Z",
     "start_time": "2024-11-05T04:02:45.671975Z"
    }
   },
   "outputs": [
    {
     "name": "stdout",
     "output_type": "stream",
     "text": [
      "[$$$$$$$$10]\n"
     ]
    }
   ],
   "source": [
    "# 공백대체문자를 쓸 경우 반드시 정렬방식을 표현\n",
    "print(\"[{:$>10}]\".format(a))\n",
    "# print(\"[{:$10}]\".format(a)) 에러"
   ]
  },
  {
   "cell_type": "code",
   "execution_count": 46,
   "id": "2803fee4",
   "metadata": {
    "ExecuteTime": {
     "end_time": "2024-11-05T04:10:17.210809Z",
     "start_time": "2024-11-05T04:10:17.203811Z"
    }
   },
   "outputs": [
    {
     "name": "stdout",
     "output_type": "stream",
     "text": [
      "[      -123], [      +123], [       123]\n",
      "[-      123], [       123], [       123]\n",
      "[-      123], [+      123], [       123]\n",
      "[-000000123], [+000000123], [0000000123]\n",
      "[-★★★★★★123], [+☆☆☆☆☆☆123], [※※※123※※※※]\n"
     ]
    }
   ],
   "source": [
    "# 자릿수 앞에 +를 붙이면 양수의 경우도 부호를 붙여줌\n",
    "# 자릿수 앞에 =를 붙이면 부호가 자릿수 맨 앞에 표시됨(음수의 경우)\n",
    "# 자릿수 앞에 =+를 붙이면 부호가 자릿수 맨 앞에 표시됨(양수, 음수 모두)\n",
    "# 자릿수 앞에 0을 채우면 빈 자리에 0이 채워짐(여기서의 0은 공백대체문자가 아님)\n",
    "# 공백대체문자를 쓸 경우 자릿수 앞의 0은 무시됨(공백대체문자를 사용하므로)\n",
    "a, b = 123, -123\n",
    "print(\"[{:+10}], [{:+10}], [{:10}]\".format(b, a, a))\n",
    "print(\"[{:=10}], [{:=10}], [{:10}]\".format(b, a, a))\n",
    "print(\"[{:=+10}], [{:=+10}], [{:10}]\".format(b, a, a))\n",
    "print(\"[{:=+010}], [{:=+010}], [{:010}]\".format(b, a, a))\n",
    "print(\"[{:★=+010}], [{:☆=+010}], [{:※^10}]\".format(b, a, a))"
   ]
  },
  {
   "cell_type": "code",
   "execution_count": 1,
   "id": "b3bd631d",
   "metadata": {
    "ExecuteTime": {
     "end_time": "2024-11-05T05:16:04.498317Z",
     "start_time": "2024-11-05T05:16:04.489402Z"
    }
   },
   "outputs": [
    {
     "name": "stdout",
     "output_type": "stream",
     "text": [
      "a = [       2.8]\n",
      "s = [he        ]\n"
     ]
    }
   ],
   "source": [
    "# 전체자릿수.표현될자릿수\n",
    "a = 2.758\n",
    "s = \"hello\"\n",
    "print(\"a = [{:10.2}]\".format(a))\n",
    "print(\"s = [{:10.2}]\".format(s))"
   ]
  },
  {
   "cell_type": "code",
   "execution_count": 3,
   "id": "be51a87a",
   "metadata": {
    "ExecuteTime": {
     "end_time": "2024-11-05T05:17:04.827089Z",
     "start_time": "2024-11-05T05:17:04.791915Z"
    },
    "scrolled": true
   },
   "outputs": [
    {
     "name": "stdout",
     "output_type": "stream",
     "text": [
      "a = [      2.76]\n"
     ]
    },
    {
     "ename": "ValueError",
     "evalue": "Unknown format code 'f' for object of type 'str'",
     "output_type": "error",
     "traceback": [
      "\u001b[1;31m---------------------------------------------------------------------------\u001b[0m",
      "\u001b[1;31mValueError\u001b[0m                                Traceback (most recent call last)",
      "Cell \u001b[1;32mIn[3], line 3\u001b[0m\n\u001b[0;32m      1\u001b[0m \u001b[38;5;66;03m# 전체자릿수.표현될자릿수f\u001b[39;00m\n\u001b[0;32m      2\u001b[0m \u001b[38;5;28mprint\u001b[39m(\u001b[38;5;124m\"\u001b[39m\u001b[38;5;124ma = [\u001b[39m\u001b[38;5;132;01m{:10.2f}\u001b[39;00m\u001b[38;5;124m]\u001b[39m\u001b[38;5;124m\"\u001b[39m\u001b[38;5;241m.\u001b[39mformat(a))\n\u001b[1;32m----> 3\u001b[0m \u001b[38;5;28mprint\u001b[39m(\u001b[38;5;124;43m\"\u001b[39;49m\u001b[38;5;124;43ms = [\u001b[39;49m\u001b[38;5;132;43;01m{:10.2f}\u001b[39;49;00m\u001b[38;5;124;43m]\u001b[39;49m\u001b[38;5;124;43m\"\u001b[39;49m\u001b[38;5;241;43m.\u001b[39;49m\u001b[43mformat\u001b[49m\u001b[43m(\u001b[49m\u001b[43ms\u001b[49m\u001b[43m)\u001b[49m)\n",
      "\u001b[1;31mValueError\u001b[0m: Unknown format code 'f' for object of type 'str'"
     ]
    }
   ],
   "source": [
    "# 전체자릿수.표현될자릿수f\n",
    "print(\"a = [{:10.2f}]\".format(a))\n",
    "print(\"s = [{:10.2f}]\".format(s))"
   ]
  },
  {
   "cell_type": "code",
   "execution_count": 7,
   "id": "05baff82",
   "metadata": {
    "ExecuteTime": {
     "end_time": "2024-11-05T05:30:18.222269Z",
     "start_time": "2024-11-05T05:30:18.216269Z"
    }
   },
   "outputs": [
    {
     "name": "stdout",
     "output_type": "stream",
     "text": [
      "10진수 : [   15]\n",
      "16진수 : [    f]\n",
      "8진수 : [   17]\n",
      "2진수 : [ 1111]\n"
     ]
    }
   ],
   "source": [
    "# 10진수, 8진수, 16진수, 2진수 출력\n",
    "a = 15\n",
    "print(\"10진수 : [{:5d}]\".format(a))\n",
    "print(\"16진수 : [{:5x}]\".format(a))\n",
    "print(\"8진수 : [{:5o}]\".format(a))\n",
    "print(\"2진수 : [{:5b}]\".format(a))"
   ]
  },
  {
   "cell_type": "code",
   "execution_count": 10,
   "id": "8677d011",
   "metadata": {
    "ExecuteTime": {
     "end_time": "2024-11-05T05:32:21.620244Z",
     "start_time": "2024-11-05T05:32:21.615430Z"
    }
   },
   "outputs": [
    {
     "name": "stdout",
     "output_type": "stream",
     "text": [
      "[     +2.79]\n"
     ]
    }
   ],
   "source": [
    "a = 2.785\n",
    "print(\"[{:+10.3}]\".format(a))"
   ]
  },
  {
   "cell_type": "code",
   "execution_count": 13,
   "id": "1d08b5e5",
   "metadata": {
    "ExecuteTime": {
     "end_time": "2024-11-05T05:36:34.218379Z",
     "start_time": "2024-11-05T05:36:34.213381Z"
    }
   },
   "outputs": [
    {
     "name": "stdout",
     "output_type": "stream",
     "text": [
      "[    +2.785]\n",
      "[    +2.785]\n"
     ]
    }
   ],
   "source": [
    "sign = '+'  # 변수\n",
    "width = 10  # 길이\n",
    "precision = 4  # 자릿수\n",
    "print(\"[{:{sign}{width}.{precision}}]\".format(a, sign=sign, width=width, precision=precision))\n",
    "print(\"[{:{}{}.{}}]\".format(a, sign, width, precision))"
   ]
  },
  {
   "cell_type": "markdown",
   "id": "5eca436e",
   "metadata": {},
   "source": [
    "## 4.3 날짜출력"
   ]
  },
  {
   "cell_type": "code",
   "execution_count": 14,
   "id": "f9e65fde",
   "metadata": {
    "ExecuteTime": {
     "end_time": "2024-11-05T05:44:19.097956Z",
     "start_time": "2024-11-05T05:44:19.089959Z"
    }
   },
   "outputs": [
    {
     "data": {
      "text/plain": [
       "datetime.datetime(2024, 11, 5, 14, 42)"
      ]
     },
     "execution_count": 14,
     "metadata": {},
     "output_type": "execute_result"
    }
   ],
   "source": [
    "# format() 이용\n",
    "# from 모듈 import 함수나 변수\n",
    "# from 패키지(폴더) import 모듈(파이썬 파일)\n",
    "# (from 큰 개념)datetime 모듈(파이썬 파일:datetime.py) 안의 (import)datetime이라는 함수를 가져옴\n",
    "from datetime import datetime\n",
    "thatday = datetime(2024, 11, 5)  # 24년11월5일0시0분0초\n",
    "thatday = datetime(2024, 11, 5, 14, 42)  # 24년11월5일오후2시42분0초\n",
    "thatday"
   ]
  },
  {
   "cell_type": "code",
   "execution_count": 15,
   "id": "763fac80",
   "metadata": {
    "ExecuteTime": {
     "end_time": "2024-11-05T05:45:50.772877Z",
     "start_time": "2024-11-05T05:45:50.767840Z"
    }
   },
   "outputs": [
    {
     "name": "stdout",
     "output_type": "stream",
     "text": [
      "2024년11월05일 14시 42분 00초\n",
      "2024년11월05일 PM 02시 42분 00초\n"
     ]
    }
   ],
   "source": [
    "# Y:년도4자리/y:년도2자리, H:24시간/I:12시간, m:월/M:분, p:am/pm\n",
    "print(\"{:%Y년%m월%d일 %H시 %M분 %S초}\".format(thatday))\n",
    "print(\"{:%Y년%m월%d일 %p %I시 %M분 %S초}\".format(thatday))"
   ]
  },
  {
   "cell_type": "code",
   "execution_count": 17,
   "id": "d864ee96",
   "metadata": {
    "ExecuteTime": {
     "end_time": "2024-11-05T05:49:53.779858Z",
     "start_time": "2024-11-05T05:49:53.773865Z"
    }
   },
   "outputs": [
    {
     "data": {
      "text/plain": [
       "'2024년11월05일 PM 02시 49분'"
      ]
     },
     "execution_count": 17,
     "metadata": {},
     "output_type": "execute_result"
    }
   ],
   "source": [
    "# 날짜를 문자열로 전환하는 함수\n",
    "from time import strftime\n",
    "thatdayStr = strftime(\"%Y년%m월%d일 %p %I시 %M분\".format(thatday))\n",
    "thatdayStr"
   ]
  },
  {
   "cell_type": "code",
   "execution_count": 18,
   "id": "f7316b72",
   "metadata": {
    "ExecuteTime": {
     "end_time": "2024-11-05T05:51:20.130371Z",
     "start_time": "2024-11-05T05:51:20.125372Z"
    }
   },
   "outputs": [
    {
     "data": {
      "text/plain": [
       "time.struct_time(tm_year=2024, tm_mon=11, tm_mday=5, tm_hour=14, tm_min=51, tm_sec=20, tm_wday=1, tm_yday=310, tm_isdst=0)"
      ]
     },
     "execution_count": 18,
     "metadata": {},
     "output_type": "execute_result"
    }
   ],
   "source": [
    "from time import localtime\n",
    "now = localtime()  # 현재의 날짜와 시간\n",
    "now"
   ]
  },
  {
   "cell_type": "code",
   "execution_count": 20,
   "id": "dee0335c",
   "metadata": {
    "ExecuteTime": {
     "end_time": "2024-11-05T05:53:00.601323Z",
     "start_time": "2024-11-05T05:53:00.595251Z"
    }
   },
   "outputs": [
    {
     "data": {
      "text/plain": [
       "'2024년11월05일 PM 02시 53분 00초'"
      ]
     },
     "execution_count": 20,
     "metadata": {},
     "output_type": "execute_result"
    }
   ],
   "source": [
    "strftime(\"%Y년%m월%d일 %p %I시 %M분 %S초\".format(now))"
   ]
  },
  {
   "cell_type": "code",
   "execution_count": 21,
   "id": "fccca6d4",
   "metadata": {
    "ExecuteTime": {
     "end_time": "2024-11-05T05:53:31.677028Z",
     "start_time": "2024-11-05T05:53:31.643141Z"
    }
   },
   "outputs": [
    {
     "ename": "TypeError",
     "evalue": "unsupported format string passed to time.struct_time.__format__",
     "output_type": "error",
     "traceback": [
      "\u001b[1;31m---------------------------------------------------------------------------\u001b[0m",
      "\u001b[1;31mTypeError\u001b[0m                                 Traceback (most recent call last)",
      "Cell \u001b[1;32mIn[21], line 1\u001b[0m\n\u001b[1;32m----> 1\u001b[0m \u001b[38;5;28mprint\u001b[39m(\u001b[38;5;124;43m\"\u001b[39;49m\u001b[38;5;124;43m{\u001b[39;49m\u001b[38;5;124;43m:\u001b[39;49m\u001b[38;5;124;43m%\u001b[39;49m\u001b[38;5;124;43mY년\u001b[39;49m\u001b[38;5;124;43m%\u001b[39;49m\u001b[38;5;124;43mm월\u001b[39;49m\u001b[38;5;132;43;01m%d\u001b[39;49;00m\u001b[38;5;124;43m일 \u001b[39;49m\u001b[38;5;124;43m%\u001b[39;49m\u001b[38;5;124;43mp \u001b[39;49m\u001b[38;5;124;43m%\u001b[39;49m\u001b[38;5;124;43mI시 \u001b[39;49m\u001b[38;5;124;43m%\u001b[39;49m\u001b[38;5;124;43mM분 \u001b[39;49m\u001b[38;5;124;43m%\u001b[39;49m\u001b[38;5;124;43mS초}\u001b[39;49m\u001b[38;5;124;43m\"\u001b[39;49m\u001b[38;5;241;43m.\u001b[39;49m\u001b[43mformat\u001b[49m\u001b[43m(\u001b[49m\u001b[43mnow\u001b[49m\u001b[43m)\u001b[49m)\n",
      "\u001b[1;31mTypeError\u001b[0m: unsupported format string passed to time.struct_time.__format__"
     ]
    }
   ],
   "source": [
    "# print(\"{:%Y년%m월%d일 %p %I시 %M분 %S초}\".format(now))  # 에러"
   ]
  },
  {
   "cell_type": "markdown",
   "id": "44d7af19",
   "metadata": {},
   "source": [
    "# 5절. 연산자"
   ]
  },
  {
   "cell_type": "markdown",
   "id": "eadb97f6",
   "metadata": {},
   "source": [
    "## 5.1 산술연산자 : +, -, *, /, //(몫연산자), %(나머지), **(제곱)"
   ]
  },
  {
   "cell_type": "code",
   "execution_count": 22,
   "id": "cf164cfd",
   "metadata": {
    "ExecuteTime": {
     "end_time": "2024-11-05T05:59:31.542284Z",
     "start_time": "2024-11-05T05:59:31.537285Z"
    }
   },
   "outputs": [
    {
     "name": "stdout",
     "output_type": "stream",
     "text": [
      "100000\n"
     ]
    }
   ],
   "source": [
    "print(10**5)  # 10의 5승"
   ]
  },
  {
   "cell_type": "markdown",
   "id": "175aa640",
   "metadata": {},
   "source": [
    "## 5.2 할당연산자 : =, +=, -=, *=, /=, //=, %="
   ]
  },
  {
   "cell_type": "code",
   "execution_count": 23,
   "id": "1e49671f",
   "metadata": {
    "ExecuteTime": {
     "end_time": "2024-11-05T06:11:53.208994Z",
     "start_time": "2024-11-05T06:11:53.201997Z"
    }
   },
   "outputs": [
    {
     "data": {
      "text/plain": [
       "3"
      ]
     },
     "execution_count": 23,
     "metadata": {},
     "output_type": "execute_result"
    }
   ],
   "source": [
    "a = 10\n",
    "a //= 3  # a = a//3\n",
    "a"
   ]
  },
  {
   "cell_type": "markdown",
   "id": "bb60cf28",
   "metadata": {},
   "source": [
    "## 5.3 논리연산자 : &/and, |/or, not(반대)"
   ]
  },
  {
   "cell_type": "code",
   "execution_count": 52,
   "id": "cf1ea3bb",
   "metadata": {
    "ExecuteTime": {
     "end_time": "2024-11-05T06:34:43.948173Z",
     "start_time": "2024-11-05T06:34:43.941667Z"
    }
   },
   "outputs": [
    {
     "name": "stdout",
     "output_type": "stream",
     "text": [
      "True\n",
      "0\n"
     ]
    }
   ],
   "source": [
    "# & : 논리연산자, 비트연산자\n",
    "# 논리연산 True & True\n",
    "print( (10 > 3) & (10 > 5) )\n",
    "# 비트연산\n",
    "print( 12 & 1 )  # 1100 (12)\n",
    "                 # 0001 (1)\n",
    "               # & 0000 (0)"
   ]
  },
  {
   "cell_type": "code",
   "execution_count": 36,
   "id": "76b26984",
   "metadata": {
    "ExecuteTime": {
     "end_time": "2024-11-05T06:25:58.304547Z",
     "start_time": "2024-11-05T06:25:58.297551Z"
    }
   },
   "outputs": [
    {
     "name": "stdout",
     "output_type": "stream",
     "text": [
      "abc\n",
      "0\n",
      "None\n"
     ]
    }
   ],
   "source": [
    "# and : 거짓으로 판별되는 첫 번째 항의 결과를 반환\n",
    "#       모든 항이 거짓이면 첫 번째 항의 결과를 반환\n",
    "#       모든 항이 참이면 마지막 항의 결과를 반환\n",
    "print(True and True and 'abc')\n",
    "print(0 and False)\n",
    "print(True and None)"
   ]
  },
  {
   "cell_type": "code",
   "execution_count": 34,
   "id": "06d0598e",
   "metadata": {
    "ExecuteTime": {
     "end_time": "2024-11-05T06:25:12.689974Z",
     "start_time": "2024-11-05T06:25:12.676558Z"
    }
   },
   "outputs": [
    {
     "name": "stdout",
     "output_type": "stream",
     "text": [
      "True\n"
     ]
    }
   ],
   "source": [
    "print( (10 > 5) and (10 > 7) )"
   ]
  },
  {
   "cell_type": "code",
   "execution_count": 42,
   "id": "a183006b",
   "metadata": {
    "ExecuteTime": {
     "end_time": "2024-11-05T06:30:28.941057Z",
     "start_time": "2024-11-05T06:30:28.935059Z"
    }
   },
   "outputs": [
    {
     "name": "stdout",
     "output_type": "stream",
     "text": [
      "논리연산(연산자 앞뒤가 논리형일 때) : True\n",
      "비트연산(연산자 앞이나 뒤가 숫자일 때) : 3\n"
     ]
    }
   ],
   "source": [
    "# | : 논리연산, 비트연산\n",
    "result = False | True\n",
    "print('논리연산(연산자 앞뒤가 논리형일 때) :', result)\n",
    "result = False | 3  # 0000 / 0011\n",
    "print('비트연산(연산자 앞이나 뒤가 숫자일 때) :', result)"
   ]
  },
  {
   "cell_type": "code",
   "execution_count": 51,
   "id": "fc215189",
   "metadata": {
    "ExecuteTime": {
     "end_time": "2024-11-05T06:34:32.867747Z",
     "start_time": "2024-11-05T06:34:32.861749Z"
    }
   },
   "outputs": [
    {
     "name": "stdout",
     "output_type": "stream",
     "text": [
      "True\n",
      "[]\n",
      "HONG\n"
     ]
    }
   ],
   "source": [
    "# or : 참으로 판별되는 첫 번째 항의 결과를 반환\n",
    "#      모든 항이 거짓이면 마지막 항의 결과를 반환\n",
    "print(True or False)\n",
    "print(False or 0 or '' or None or [])\n",
    "print('HONG' or 0 or False)"
   ]
  },
  {
   "cell_type": "markdown",
   "id": "4518bec4",
   "metadata": {},
   "source": [
    "## 5.4 비교연산자 : >, >=, <, <=, ==, !=, "
   ]
  },
  {
   "cell_type": "code",
   "execution_count": 64,
   "id": "ccbc3cd3",
   "metadata": {
    "ExecuteTime": {
     "end_time": "2024-11-05T06:41:28.567769Z",
     "start_time": "2024-11-05T06:41:28.562303Z"
    }
   },
   "outputs": [
    {
     "name": "stdout",
     "output_type": "stream",
     "text": [
      "True\n",
      "True\n",
      "True\n"
     ]
    }
   ],
   "source": [
    "# 비교연산자는 이항, 삼항, ... 다항 연산자\n",
    "x = 5\n",
    "print( (4 < x) & (x < 10) )  # 자바st\n",
    "print( 4 < x < 10)\n",
    "print(1 < 2 < 4 < x < 10)"
   ]
  },
  {
   "cell_type": "code",
   "execution_count": 71,
   "id": "3f510ec7",
   "metadata": {
    "ExecuteTime": {
     "end_time": "2024-11-05T06:49:13.363710Z",
     "start_time": "2024-11-05T06:49:13.357712Z"
    }
   },
   "outputs": [
    {
     "name": "stdout",
     "output_type": "stream",
     "text": [
      "True\n",
      "False\n",
      "False\n",
      "False\n"
     ]
    }
   ],
   "source": [
    "# 비교연산자의 우선수위가 논리연산의 우선순위보다 낮음\n",
    "# 우선순위 : 논리연산자 > 비교연산자\n",
    "print( (10 > 5) & (10 > 7) )  # ()괄호를 반드시 씌워야 함\n",
    "print(  10 > 5  &  10 > 7 )  # ()괄호가 없으면 우선순위가 높은 논리연산부터 계산\n",
    "print(  10 > (5  &  10) > 7 )\n",
    "print(  10 > 0 > 7 )"
   ]
  },
  {
   "cell_type": "code",
   "execution_count": 76,
   "id": "d28b6a3f",
   "metadata": {
    "ExecuteTime": {
     "end_time": "2024-11-05T06:50:48.551151Z",
     "start_time": "2024-11-05T06:50:48.516070Z"
    }
   },
   "outputs": [
    {
     "ename": "TypeError",
     "evalue": "unsupported operand type(s) for &: 'str' and 'int'",
     "output_type": "error",
     "traceback": [
      "\u001b[1;31m---------------------------------------------------------------------------\u001b[0m",
      "\u001b[1;31mTypeError\u001b[0m                                 Traceback (most recent call last)",
      "Cell \u001b[1;32mIn[76], line 3\u001b[0m\n\u001b[0;32m      1\u001b[0m address \u001b[38;5;241m=\u001b[39m \u001b[38;5;124m'\u001b[39m\u001b[38;5;124m서울\u001b[39m\u001b[38;5;124m'\u001b[39m\n\u001b[0;32m      2\u001b[0m age \u001b[38;5;241m=\u001b[39m \u001b[38;5;241m29\u001b[39m\n\u001b[1;32m----> 3\u001b[0m \u001b[38;5;28mprint\u001b[39m(address\u001b[38;5;241m==\u001b[39m\u001b[38;5;124;43m'\u001b[39;49m\u001b[38;5;124;43m서울\u001b[39;49m\u001b[38;5;124;43m'\u001b[39;49m\u001b[43m \u001b[49m\u001b[38;5;241;43m&\u001b[39;49m\u001b[43m \u001b[49m\u001b[43mage\u001b[49m \u001b[38;5;241m>\u001b[39m\u001b[38;5;241m=\u001b[39m \u001b[38;5;241m30\u001b[39m)\n",
      "\u001b[1;31mTypeError\u001b[0m: unsupported operand type(s) for &: 'str' and 'int'"
     ]
    }
   ],
   "source": [
    "address = '서울'\n",
    "age = 29\n",
    "print(address=='서울' & age >= 30)  # 에러:우선순위를 보고 괄호 반드시 씌우기"
   ]
  },
  {
   "cell_type": "code",
   "execution_count": 69,
   "id": "29b5335c",
   "metadata": {
    "ExecuteTime": {
     "end_time": "2024-11-05T06:47:22.637784Z",
     "start_time": "2024-11-05T06:47:22.631577Z"
    }
   },
   "outputs": [
    {
     "data": {
      "text/plain": [
       "True"
      ]
     },
     "execution_count": 69,
     "metadata": {},
     "output_type": "execute_result"
    }
   ],
   "source": [
    "# 문자는 ASCII 코드 순으로 비교 : 특수문자 < 숫자,문자 < 대문자(ABC순) < 소문자(abc순)\n",
    "'scott' < 'tiger'"
   ]
  },
  {
   "cell_type": "code",
   "execution_count": 70,
   "id": "b9d1d2d0",
   "metadata": {
    "ExecuteTime": {
     "end_time": "2024-11-05T06:47:45.590926Z",
     "start_time": "2024-11-05T06:47:45.584927Z"
    }
   },
   "outputs": [
    {
     "data": {
      "text/plain": [
       "True"
      ]
     },
     "execution_count": 70,
     "metadata": {},
     "output_type": "execute_result"
    }
   ],
   "source": [
    "'감우성' < '홍길동'"
   ]
  },
  {
   "cell_type": "markdown",
   "id": "233d9170",
   "metadata": {},
   "source": [
    "## 5.5 비트연산"
   ]
  },
  {
   "cell_type": "code",
   "execution_count": null,
   "id": "a5190cfe",
   "metadata": {},
   "outputs": [],
   "source": [
    "a = '''\n",
    "x    y    x&y    x|y    x^y(XOR)    ~x(not:x의 반대)\n",
    "0    0     0      0     0:같으면     1\n",
    "0    1     0      1     1:다르면     1\n",
    "1    0     0      1     1            0\n",
    "1    1     1      1     0            0\n",
    "'''"
   ]
  },
  {
   "cell_type": "code",
   "execution_count": 85,
   "id": "b8550efd",
   "metadata": {
    "ExecuteTime": {
     "end_time": "2024-11-05T07:20:35.986205Z",
     "start_time": "2024-11-05T07:20:35.981208Z"
    }
   },
   "outputs": [
    {
     "name": "stdout",
     "output_type": "stream",
     "text": [
      "  a = 15 : 1111\n",
      "  b =  2 : 0010\n",
      "a&b =  2 : 0010\n",
      "a|b = 15 : 1111\n",
      "a^b = 13 : 1101\n"
     ]
    }
   ],
   "source": [
    "# 비트연산\n",
    "a = 15\n",
    "b = 2\n",
    "print(\"  a = {0:2} : {0:04b}\".format(a))\n",
    "print(\"  b = {0:2} : {0:04b}\".format(b))\n",
    "print(\"a&b = {0:2} : {0:04b}\".format(a&b))\n",
    "print(\"a|b = {0:2} : {0:04b}\".format(a|b))\n",
    "print(\"a^b = {0:2} : {0:04b}\".format(a^b))"
   ]
  },
  {
   "cell_type": "markdown",
   "id": "42e5cf36",
   "metadata": {},
   "source": [
    "## 5.6 isinstance"
   ]
  },
  {
   "cell_type": "code",
   "execution_count": 87,
   "id": "893e599a",
   "metadata": {
    "ExecuteTime": {
     "end_time": "2024-11-05T07:24:25.776889Z",
     "start_time": "2024-11-05T07:24:25.769891Z"
    }
   },
   "outputs": [
    {
     "data": {
      "text/plain": [
       "False"
      ]
     },
     "execution_count": 87,
     "metadata": {},
     "output_type": "execute_result"
    }
   ],
   "source": [
    "a = 15  # int\n",
    "isinstance(a, float)"
   ]
  },
  {
   "cell_type": "markdown",
   "id": "75331ded",
   "metadata": {
    "ExecuteTime": {
     "end_time": "2024-11-05T07:31:40.078079Z",
     "start_time": "2024-11-05T07:31:40.071080Z"
    }
   },
   "source": [
    "- 포맷팅 : \"{[인덱스]:[공백대체문자][정렬방법][자릿수][타입]}\".format(변수명)\n",
    "- 연산자\n",
    "    * 산술연산 : + - * / // % **\n",
    "    * 할당연산 : = += -= *= /= //= %=\n",
    "    * 논리연산 : & and | or not\n",
    "    * 비트연산 : ^(XOR), &(and) |(or) ~(not)\n",
    "    * 논리연산자가 비교연산자보다 우선순위가 높다"
   ]
  },
  {
   "cell_type": "code",
   "execution_count": null,
   "id": "a6bb5d86",
   "metadata": {},
   "outputs": [],
   "source": []
  }
 ],
 "metadata": {
  "kernelspec": {
   "display_name": "Python 3 (ipykernel)",
   "language": "python",
   "name": "python3"
  },
  "language_info": {
   "codemirror_mode": {
    "name": "ipython",
    "version": 3
   },
   "file_extension": ".py",
   "mimetype": "text/x-python",
   "name": "python",
   "nbconvert_exporter": "python",
   "pygments_lexer": "ipython3",
   "version": "3.10.9"
  },
  "toc": {
   "base_numbering": 1,
   "nav_menu": {},
   "number_sections": true,
   "sideBar": true,
   "skip_h1_title": false,
   "title_cell": "Table of Contents",
   "title_sidebar": "Contents",
   "toc_cell": false,
   "toc_position": {
    "height": "calc(100% - 180px)",
    "left": "10px",
    "top": "150px",
    "width": "185px"
   },
   "toc_section_display": true,
   "toc_window_display": true
  }
 },
 "nbformat": 4,
 "nbformat_minor": 5
}
