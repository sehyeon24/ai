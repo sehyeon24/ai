{
 "cells": [
  {
   "cell_type": "markdown",
   "id": "2498d826",
   "metadata": {},
   "source": [
    "<b><font color='red' size='6'>ch14. 웹데이터 수집</font></b>\n",
    "# 1절. BeautifulSoip과 parser\n",
    "` pip install bs4` 아나콘다 설치하면 자동 설치되는 패키지 7500개에 포함\n",
    "\n",
    "[공식 사이트](https://www.crummy.com/software/BeautifulSoup/)\n",
    "\n",
    "[Documentation](https://www.crummy.com/software/BeautifulSoup/bs4/doc/)"
   ]
  },
  {
   "cell_type": "code",
   "execution_count": 5,
   "id": "4b8df6d6",
   "metadata": {},
   "outputs": [],
   "source": [
    "import requests \n",
    "from requests_file import FileAdapter"
   ]
  },
  {
   "cell_type": "code",
   "execution_count": 7,
   "id": "e804fa8d",
   "metadata": {},
   "outputs": [
    {
     "data": {
      "text/plain": [
       "<Response [200]>"
      ]
     },
     "execution_count": 7,
     "metadata": {},
     "output_type": "execute_result"
    }
   ],
   "source": [
    "s = requests.Session() # HTTP 요청관리를 위한 세셧 객체 생성\n",
    "s.mount('file://', FileAdapter())\n",
    "respanse = s.get('file:///ai/source/07_python/ch14_sample.html')\n",
    "respanse"
   ]
  },
  {
   "cell_type": "code",
   "execution_count": 8,
   "id": "52f05f0b",
   "metadata": {},
   "outputs": [
    {
     "data": {
      "text/plain": [
       "b'<!DOCTYPE html>\\r\\n<html lang=\"en\">\\r\\n<head>\\r\\n    <meta charset=\"UTF-8\">\\r\\n</head>\\r\\n<body>\\r\\n    <h1 class=\"greeting css\" id=\"text\">Hello, CSS</h1>\\r\\n    <h1 class=\"css\">Hi, css</h1>\\r\\n    <div id=\"subject\">subject \\xec\\x84\\xa0\\xed\\x83\\x9d\\xec\\x9e\\x90 \\xec\\x95\\x88\\xec\\x9d\\x98 \\xeb\\x82\\xb4\\xec\\x9a\\xa9</div>\\r\\n    <p> CSS \\xec\\x84\\xa0\\xed\\x83\\x9d\\xec\\x9e\\x90\\xeb\\x8a\\x94 \\xeb\\x8b\\xa4\\xec\\x96\\x91\\xed\\x95\\x9c \\xea\\xb3\\xb3\\xec\\x97\\x90\\xec\\x84\\x9c \\xed\\x99\\x9c\\xec\\x9a\\xa9\\xeb\\x90\\xa9\\xeb\\x8b\\x88\\xeb\\x8b\\xa4</p>\\r\\n    <div class=\"\\'contents\">\\r\\n        \\xec\\x84\\xa0\\xed\\x83\\x9d\\xec\\x9e\\x90\\xeb\\xa5\\xbc \\xec\\x96\\xb4\\xeb\\x96\\xbb\\xea\\xb2\\x8c \\xec\\x9e\\x91\\xec\\x84\\xb1\\xed\\x95\\x98\\xeb\\x8a\\x90\\xeb\\x83\\x90\\xec\\x97\\x90 \\xeb\\x94\\xb0\\xeb\\x9d\\xbc\\r\\n        <span>\\xeb\\x8b\\xa4\\xeb\\xa5\\xb8<b>\\xec\\x9a\\x94\\xec\\x86\\x8c\\xea\\xb0\\x80 \\xeb\\xb0\\x98\\xed\\x99\\x98</b></span>\\xeb\\x90\\xa9\\xeb\\x8b\\x88\\xeb\\x8b\\xa4\\r\\n    </div>\\r\\n    <div>CSS \\xec\\x84\\xa0\\xed\\x83\\x9d\\xec\\x9e\\x90\\xeb\\x8a\\x94 \\xeb\\x8b\\xa4\\xec\\x96\\x91\\xed\\x95\\x9c \\xea\\xb3\\xb3\\xec\\x97\\x90 <b>\\xed\\x99\\x9c\\xec\\x9a\\xa9</b>\\xeb\\x90\\xa9\\xeb\\x8b\\x88\\xeb\\x8b\\xa4</div>\\r\\n    \\r\\n</body>\\r\\n</html>'"
      ]
     },
     "execution_count": 8,
     "metadata": {},
     "output_type": "execute_result"
    }
   ],
   "source": [
    "ex = respanse.content\n",
    "ex"
   ]
  },
  {
   "cell_type": "code",
   "execution_count": 9,
   "id": "cf257990",
   "metadata": {},
   "outputs": [
    {
     "data": {
      "text/plain": [
       "'<!DOCTYPE html>\\r\\n<html lang=\"en\">\\r\\n<head>\\r\\n    <meta charset=\"UTF-8\">\\r\\n</head>\\r\\n<body>\\r\\n    <h1 class=\"greeting css\" id=\"text\">Hello, CSS</h1>\\r\\n    <h1 class=\"css\">Hi, css</h1>\\r\\n    <div id=\"subject\">subject 선택자 안의 내용</div>\\r\\n    <p> CSS 선택자는 다양한 곳에서 활용됩니다</p>\\r\\n    <div class=\"\\'contents\">\\r\\n        선택자를 어떻게 작성하느냐에 따라\\r\\n        <span>다른<b>요소가 반환</b></span>됩니다\\r\\n    </div>\\r\\n    <div>CSS 선택자는 다양한 곳에 <b>활용</b>됩니다</div>\\r\\n    \\r\\n</body>\\r\\n</html>'"
      ]
     },
     "execution_count": 9,
     "metadata": {},
     "output_type": "execute_result"
    }
   ],
   "source": [
    "respanse.content.decode('utf-8')"
   ]
  },
  {
   "cell_type": "code",
   "execution_count": 10,
   "id": "eeccba2f",
   "metadata": {},
   "outputs": [
    {
     "data": {
      "text/plain": [
       "'<!DOCTYPE html>\\r\\n<html lang=\"en\">\\r\\n<head>\\r\\n    <meta charset=\"UTF-8\">\\r\\n</head>\\r\\n<body>\\r\\n    <h1 class=\"greeting css\" id=\"text\">Hello, CSS</h1>\\r\\n    <h1 class=\"css\">Hi, css</h1>\\r\\n    <div id=\"subject\">subject 선택자 안의 내용</div>\\r\\n    <p> CSS 선택자는 다양한 곳에서 활용됩니다</p>\\r\\n    <div class=\"\\'contents\">\\r\\n        선택자를 어떻게 작성하느냐에 따라\\r\\n        <span>다른<b>요소가 반환</b></span>됩니다\\r\\n    </div>\\r\\n    <div>CSS 선택자는 다양한 곳에 <b>활용</b>됩니다</div>\\r\\n    \\r\\n</body>\\r\\n</html>'"
      ]
     },
     "execution_count": 10,
     "metadata": {},
     "output_type": "execute_result"
    }
   ],
   "source": [
    "respanse.text"
   ]
  },
  {
   "cell_type": "code",
   "execution_count": 13,
   "id": "3a0d0f4c",
   "metadata": {},
   "outputs": [
    {
     "data": {
      "text/plain": [
       "<!DOCTYPE html>\n",
       "\n",
       "<html lang=\"en\">\n",
       "<head>\n",
       "<meta charset=\"utf-8\"/>\n",
       "</head>\n",
       "<body>\n",
       "<h1 class=\"greeting css\" id=\"text\">Hello, CSS</h1>\n",
       "<h1 class=\"css\">Hi, css</h1>\n",
       "<div id=\"subject\">subject 선택자 안의 내용</div>\n",
       "<p> CSS 선택자는 다양한 곳에서 활용됩니다</p>\n",
       "<div class=\"'contents\">\n",
       "        선택자를 어떻게 작성하느냐에 따라\n",
       "        <span>다른<b>요소가 반환</b></span>됩니다\n",
       "    </div>\n",
       "<div>CSS 선택자는 다양한 곳에 <b>활용</b>됩니다</div>\n",
       "</body>\n",
       "</html>"
      ]
     },
     "execution_count": 13,
     "metadata": {},
     "output_type": "execute_result"
    }
   ],
   "source": [
    "# html 파싱\n",
    "from bs4 import BeautifulSoup\n",
    "soup = BeautifulSoup(respanse.content, # response.text\n",
    "                    \"html.parser\")\n",
    "# soup"
   ]
  },
  {
   "cell_type": "code",
   "execution_count": 19,
   "id": "d1d338ac",
   "metadata": {},
   "outputs": [
    {
     "name": "stdout",
     "output_type": "stream",
     "text": [
      "el : <h1 class=\"greeting css\" id=\"text\">Hello, CSS</h1>\n",
      "el.text Hello, CSS\n",
      "el.string Hello, CSS\n",
      "el의 속성들 : {'class': ['greeting', 'css'], 'id': 'text'}\n",
      "el의 class 속성 : ['greeting', 'css']\n",
      "el의 name : h1\n"
     ]
    }
   ],
   "source": [
    "# soup.select_one('선택자') : 해당 선택자 처음 하나만\n",
    "el = soup.select_one('h1') # 처음 나오는 h1태그 하나만 \n",
    "print('el :',el)\n",
    "print('el.text', el.text)\n",
    "print('el.string', el.string)\n",
    "print('el의 속성들 :', el.attrs)\n",
    "print('el의 class 속성 :', el.attrs['class']) # class속성은 하나라도 list로 생성\n",
    "print('el의 name :' , el.name)"
   ]
  },
  {
   "cell_type": "code",
   "execution_count": 30,
   "id": "bc202d2b",
   "metadata": {},
   "outputs": [
    {
     "name": "stdout",
     "output_type": "stream",
     "text": [
      "el : [<h1 class=\"greeting css\" id=\"text\">Hello, CSS</h1>, <h1 class=\"css\">Hi, css</h1>]\n",
      "el들의 text : ['Hello, CSS', 'Hi, css']\n",
      "el들의 string : ['Hello, CSS', 'Hi, css']\n",
      "el들의 속성들 : [{'class': ['greeting', 'css'], 'id': 'text'}, {'class': ['css']}]\n",
      "el들의 class속성들 : [['greeting', 'css'], ['css']]\n"
     ]
    }
   ],
   "source": [
    "# soup.select('선택자') : 해당 선택자 모든 엘리먼트를 리스트로\n",
    "el = soup.select('h1')\n",
    "print('el :', el)\n",
    "print('el들의 text :', [e.text for e in el])\n",
    "print('el들의 string :', [e.string for e in el])\n",
    "print('el들의 속성들 :', [e.attrs for e in el])\n",
    "print('el들의 class속성들 :', [e.attrs['class'] for e in el])"
   ]
  },
  {
   "cell_type": "code",
   "execution_count": 39,
   "id": "db4ce462",
   "metadata": {},
   "outputs": [
    {
     "name": "stdout",
     "output_type": "stream",
     "text": [
      "모든 h1, span태그(select) :\n",
      "[<h1 class=\"greeting css\" id=\"text\">Hello, CSS</h1>, <h1 class=\"css\">Hi, css</h1>, <span>다른<b>요소가 반환</b></span>]\n",
      "모든 h1, span태그(find_all) : [<h1 class=\"greeting css\" id=\"text\">Hello, CSS</h1>, <h1 class=\"css\">Hi, css</h1>]\n",
      "select_one :\n",
      "<h1 class=\"greeting css\" id=\"text\">Hello, CSS</h1>\n",
      "find :\n",
      "<h1 class=\"greeting css\" id=\"text\">Hello, CSS</h1>\n",
      "find :\n",
      "[]\n",
      "find :\n",
      "None\n"
     ]
    }
   ],
   "source": [
    "# select('선택자')와 find_all(태그)\n",
    "print('모든 h1, span태그(select) :', soup.select('h1, span'), sep='\\n')\n",
    "print('모든 h1, span태그(find_all) :', soup.find_all(['h1','span'],\n",
    "                                                class_=['css']))\n",
    "\n",
    "# select('선택자')와 find(태그, 속성)\n",
    "print('select_one :', soup.select_one('h1.css'), sep='\\n') # h1.css, span 선택중 먼저 위에있는걸 가져옴\n",
    "print('find :', soup.find('h1',class_='css'), sep='\\n')\n",
    "\n",
    "print('find_all :', soup.find_all('a',class_='css'), sep='\\n') # 반환을 빈리스트로 \n",
    "print('find :', soup.find('a',class_='css'), sep='\\n') # 없는거 대신 None"
   ]
  },
  {
   "cell_type": "markdown",
   "id": "6e4e994f",
   "metadata": {},
   "source": [
    "# 2절. 정적 웹 데이터 수집(정적 웹크롤링)\n",
    "## 2.1 JSON파일 - request모듈(GET 요청)/ urllib.request 모듈(urlopen)"
   ]
  },
  {
   "cell_type": "code",
   "execution_count": null,
   "id": "7d3e0747",
   "metadata": {},
   "outputs": [],
   "source": [
    "# 크롤리 허용범위는 사이트마다 ~ / robots.txt에서 확인할 수 있습니다\n",
    "#     User-agent: 모든 크롤링을 허용(*), 지침을 적용할 크롤러를 지정\n",
    "#     Allow, Disallow: 크롤링을 제한할 경로 / 허용할 경우(/)"
   ]
  },
  {
   "cell_type": "code",
   "execution_count": 42,
   "id": "53b071e0",
   "metadata": {},
   "outputs": [
    {
     "data": {
      "text/plain": [
       "(<Response [200]>, 200)"
      ]
     },
     "execution_count": 42,
     "metadata": {},
     "output_type": "execute_result"
    }
   ],
   "source": [
    "# 방법1\n",
    "import requests\n",
    "response = requests.get('http://api.github.com')\n",
    "response, response.status_code"
   ]
  },
  {
   "cell_type": "code",
   "execution_count": 43,
   "id": "6f87e856",
   "metadata": {},
   "outputs": [
    {
     "data": {
      "text/plain": [
       "b'{\"current_user_url\":\"https://api.github.com/user\",\"current_user_authorizations_html_url\":\"https://github.com/settings/connections/applications{/client_id}\",\"authorizations_url\":\"https://api.github.com/authorizations\",\"code_search_url\":\"https://api.github.com/search/code?q={query}{&page,per_page,sort,order}\",\"commit_search_url\":\"https://api.github.com/search/commits?q={query}{&page,per_page,sort,order}\",\"emails_url\":\"https://api.github.com/user/emails\",\"emojis_url\":\"https://api.github.com/emojis\",\"events_url\":\"https://api.github.com/events\",\"feeds_url\":\"https://api.github.com/feeds\",\"followers_url\":\"https://api.github.com/user/followers\",\"following_url\":\"https://api.github.com/user/following{/target}\",\"gists_url\":\"https://api.github.com/gists{/gist_id}\",\"hub_url\":\"https://api.github.com/hub\",\"issue_search_url\":\"https://api.github.com/search/issues?q={query}{&page,per_page,sort,order}\",\"issues_url\":\"https://api.github.com/issues\",\"keys_url\":\"https://api.github.com/user/keys\",\"label_search_url\":\"https://api.github.com/search/labels?q={query}&repository_id={repository_id}{&page,per_page}\",\"notifications_url\":\"https://api.github.com/notifications\",\"organization_url\":\"https://api.github.com/orgs/{org}\",\"organization_repositories_url\":\"https://api.github.com/orgs/{org}/repos{?type,page,per_page,sort}\",\"organization_teams_url\":\"https://api.github.com/orgs/{org}/teams\",\"public_gists_url\":\"https://api.github.com/gists/public\",\"rate_limit_url\":\"https://api.github.com/rate_limit\",\"repository_url\":\"https://api.github.com/repos/{owner}/{repo}\",\"repository_search_url\":\"https://api.github.com/search/repositories?q={query}{&page,per_page,sort,order}\",\"current_user_repositories_url\":\"https://api.github.com/user/repos{?type,page,per_page,sort}\",\"starred_url\":\"https://api.github.com/user/starred{/owner}{/repo}\",\"starred_gists_url\":\"https://api.github.com/gists/starred\",\"topic_search_url\":\"https://api.github.com/search/topics?q={query}{&page,per_page}\",\"user_url\":\"https://api.github.com/users/{user}\",\"user_organizations_url\":\"https://api.github.com/user/orgs\",\"user_repositories_url\":\"https://api.github.com/users/{user}/repos{?type,page,per_page,sort}\",\"user_search_url\":\"https://api.github.com/search/users?q={query}{&page,per_page,sort,order}\"}'"
      ]
     },
     "execution_count": 43,
     "metadata": {},
     "output_type": "execute_result"
    }
   ],
   "source": [
    "response.content # response.text"
   ]
  },
  {
   "cell_type": "code",
   "execution_count": 45,
   "id": "c98ccff2",
   "metadata": {},
   "outputs": [
    {
     "data": {
      "text/plain": [
       "dict"
      ]
     },
     "execution_count": 45,
     "metadata": {},
     "output_type": "execute_result"
    }
   ],
   "source": [
    "jsondata = response.json()\n",
    "type(jsondata)"
   ]
  },
  {
   "cell_type": "code",
   "execution_count": 46,
   "id": "1b264328",
   "metadata": {},
   "outputs": [
    {
     "data": {
      "text/plain": [
       "200"
      ]
     },
     "execution_count": 46,
     "metadata": {},
     "output_type": "execute_result"
    }
   ],
   "source": [
    "# 방법2\n",
    "from urllib.request import urlopen\n",
    "response = urlopen('http://api.github.com')\n",
    "response.status"
   ]
  },
  {
   "cell_type": "markdown",
   "id": "3694167c",
   "metadata": {},
   "source": [
    "## 2.2 BeautifulSoul 모듈을 활용 html 웹 데이터 수입\n",
    "### 1) 환율정보 가져오기 (네이버증권 > 시장지표\n",
    "- https://finance.naver.com/marketindex/"
   ]
  },
  {
   "cell_type": "code",
   "execution_count": 61,
   "id": "069c771e",
   "metadata": {},
   "outputs": [],
   "source": [
    "# 방법1\n",
    "import requests \n",
    "from bs4 import BeautifulSoup\n",
    "url = 'https://finance.naver.com/marketindex/'\n",
    "response = requests.get(url)\n",
    "soup = BeautifulSoup(response.text, 'html.parser')"
   ]
  },
  {
   "cell_type": "code",
   "execution_count": 65,
   "id": "ff1bd095",
   "metadata": {},
   "outputs": [],
   "source": [
    "# 방법2 \n",
    "from urllib.request import urlopen\n",
    "# from bs4 import BeautifulSoup\n",
    "url = 'https://finance.naver.com/marketindex/'\n",
    "response = urlopen(url)\n",
    "soup = BeautifulSoup(response, 'html.parser')"
   ]
  },
  {
   "cell_type": "code",
   "execution_count": 66,
   "id": "cbb3e43c",
   "metadata": {},
   "outputs": [
    {
     "data": {
      "text/plain": [
       "[1418.6,\n",
       " 946.05,\n",
       " 1499.74,\n",
       " 195.31,\n",
       " 150.44,\n",
       " 1.06,\n",
       " 1.28,\n",
       " 105.7,\n",
       " 68.3,\n",
       " 1644.05,\n",
       " 2648.4,\n",
       " 120342.83]"
      ]
     },
     "execution_count": 66,
     "metadata": {},
     "output_type": "execute_result"
    }
   ],
   "source": [
    "price = soup.select('div.head_info > span.value')\n",
    "# [round(float(''.join(p.text.split(','))),2) for p in price]\n",
    "# [round(float(p.text.replace(',','')),2) for p in price]"
   ]
  },
  {
   "cell_type": "code",
   "execution_count": 67,
   "id": "49c70c04",
   "metadata": {},
   "outputs": [
    {
     "name": "stdout",
     "output_type": "stream",
     "text": [
      "미국 USD\t일본 JPY(100엔)\t유럽연합 EUR\t중국 CNY\t달러/일본 엔\t유로/달러\t영국 파운드/달러\t달러인덱스\tWTI\t휘발유\t국제 금\t국내 금\t"
     ]
    }
   ],
   "source": [
    "title = soup.select('h3.h_lst > span.blind')\n",
    "for t in title:\n",
    "    print(t.text, end='\\t')"
   ]
  },
  {
   "cell_type": "code",
   "execution_count": 71,
   "id": "5a6bdc57",
   "metadata": {},
   "outputs": [
    {
     "data": {
      "text/plain": [
       "['원', '원', '원', '원', '엔', '달러', '달러', '', '달러', '원', '달러', '원']"
      ]
     },
     "execution_count": 71,
     "metadata": {},
     "output_type": "execute_result"
    }
   ],
   "source": [
    "unit = soup.select('div.head_info > span > span.blind')\n",
    "unit = [u.text for u in unit]\n",
    "unit.insert(7, '')\n",
    "unit"
   ]
  },
  {
   "cell_type": "code",
   "execution_count": 74,
   "id": "68182327",
   "metadata": {},
   "outputs": [
    {
     "name": "stdout",
     "output_type": "stream",
     "text": [
      "상승\t상승\t상승\t상승\t하락\t상승\t상승\t하락\t하락\t상승\t하락\t상승\t"
     ]
    }
   ],
   "source": [
    "status = soup.select('div.head_info > span.blind')\n",
    "for idx in range(len(status)):\n",
    "    print(status[idx].text, end='\\t')"
   ]
  },
  {
   "cell_type": "code",
   "execution_count": 75,
   "id": "81781b34",
   "metadata": {},
   "outputs": [
    {
     "data": {
      "text/plain": [
       "(12, 12, 12, 12)"
      ]
     },
     "execution_count": 75,
     "metadata": {},
     "output_type": "execute_result"
    }
   ],
   "source": [
    "len(title), len(price), len(unit), len(status)"
   ]
  },
  {
   "cell_type": "code",
   "execution_count": 76,
   "id": "aaa507ea",
   "metadata": {},
   "outputs": [
    {
     "name": "stdout",
     "output_type": "stream",
     "text": [
      "미국 USD : 1,418.60 원 - 상승\n",
      "일본 JPY(100엔) : 946.05 원 - 상승\n",
      "유럽연합 EUR : 1,499.74 원 - 상승\n",
      "중국 CNY : 195.31 원 - 상승\n",
      "달러/일본 엔 : 150.4400 엔 - 하락\n",
      "유로/달러 : 1.0575 달러 - 상승\n",
      "영국 파운드/달러 : 1.2758 달러 - 상승\n",
      "달러인덱스 : 105.7000  - 하락\n",
      "WTI : 68.3 달러 - 하락\n",
      "휘발유 : 1644.05 원 - 상승\n",
      "국제 금 : 2648.4 달러 - 하락\n",
      "국내 금 : 120342.83 원 - 상승\n"
     ]
    }
   ],
   "source": [
    "for idx in range(len(title)):\n",
    "    print(\"{} : {} {} - {}\".format(title[idx].text, \n",
    "                                   price[idx].text, \n",
    "                                  unit[idx],\n",
    "                                  status[idx].text))"
   ]
  },
  {
   "cell_type": "code",
   "execution_count": 79,
   "id": "9cfa1057",
   "metadata": {},
   "outputs": [
    {
     "name": "stdout",
     "output_type": "stream",
     "text": [
      "미국 USD : 1,418.60 원 - 상승\n",
      "일본 JPY(100엔) : 946.05 원 - 상승\n",
      "유럽연합 EUR : 1,499.74 원 - 상승\n",
      "중국 CNY : 195.31 원 - 상승\n",
      "달러/일본 엔 : 150.4400 엔 - 하락\n",
      "유로/달러 : 1.0575 달러 - 상승\n",
      "영국 파운드/달러 : 1.2758 달러 - 상승\n",
      "달러인덱스 : 105.7000  - 하락\n",
      "WTI : 68.3 달러 - 하락\n",
      "휘발유 : 1644.05 원 - 상승\n",
      "국제 금 : 2648.4 달러 - 하락\n",
      "국내 금 : 120342.83 원 - 상승\n"
     ]
    }
   ],
   "source": [
    "for t, p, u, s in zip(title, price, unit, status):\n",
    "    print(\"{} : {} {} - {}\".format(t.text, p.text, u, s.text))"
   ]
  },
  {
   "cell_type": "markdown",
   "id": "09d5859e",
   "metadata": {},
   "source": [
    "### 2) 이번주 로또 번호 출력\n",
    "- https://dhlottery.co.kr/gameResult.do?method=byWin\n",
    "```\n",
    "1148회 (2024년 11월 30일 추첨)\n",
    "당첨번호 : [3, 6 ,13, 15, 16, 22]\n",
    "보너스번호 : 32\n",
    "```"
   ]
  },
  {
   "cell_type": "code",
   "execution_count": 81,
   "id": "c83faf62",
   "metadata": {},
   "outputs": [],
   "source": [
    "from urllib.request import urlopen\n",
    "from bs4 import BeautifulSoup\n",
    "url = 'https://dhlottery.co.kr/gameResult.do?method=byWin'\n",
    "response = urlopen(url)\n",
    "soup = BeautifulSoup(response, 'html.parser')"
   ]
  },
  {
   "cell_type": "code",
   "execution_count": 112,
   "id": "e5c28af1",
   "metadata": {},
   "outputs": [
    {
     "name": "stdout",
     "output_type": "stream",
     "text": [
      "1148회 (2024년 11월 30일 추첨)\n",
      "당첨번호 : [3, 6, 13, 15, 16, 22]\n",
      "보너스번호 : 32\n"
     ]
    }
   ],
   "source": [
    "h = soup.select_one('h4 > strong')\n",
    "y = soup.select_one('div.win_result > p.desc')\n",
    "n = soup.select('span.ball_645')\n",
    "n = [int(i.text) for i in n]\n",
    "print(h.text, y.text)\n",
    "print('당첨번호 :',n[:-1])\n",
    "print('보너스번호 :',n[-1])"
   ]
  },
  {
   "cell_type": "code",
   "execution_count": 92,
   "id": "55d0d9ed",
   "metadata": {},
   "outputs": [
    {
     "data": {
      "text/plain": [
       "[<p class=\"desc\">(2024년 11월 30일 추첨)</p>]"
      ]
     },
     "execution_count": 92,
     "metadata": {},
     "output_type": "execute_result"
    }
   ],
   "source": []
  },
  {
   "cell_type": "code",
   "execution_count": 98,
   "id": "0e6f05c6",
   "metadata": {},
   "outputs": [
    {
     "data": {
      "text/plain": [
       "[<span class=\"ball_645 lrg ball1\">3</span>,\n",
       " <span class=\"ball_645 lrg ball1\">6</span>,\n",
       " <span class=\"ball_645 lrg ball2\">13</span>,\n",
       " <span class=\"ball_645 lrg ball2\">15</span>,\n",
       " <span class=\"ball_645 lrg ball2\">16</span>,\n",
       " <span class=\"ball_645 lrg ball3\">22</span>,\n",
       " <span class=\"ball_645 lrg ball4\">32</span>]"
      ]
     },
     "execution_count": 98,
     "metadata": {},
     "output_type": "execute_result"
    }
   ],
   "source": []
  },
  {
   "cell_type": "code",
   "execution_count": null,
   "id": "8ceb4493",
   "metadata": {},
   "outputs": [],
   "source": []
  },
  {
   "cell_type": "code",
   "execution_count": null,
   "id": "3b9d4921",
   "metadata": {},
   "outputs": [],
   "source": []
  }
 ],
 "metadata": {
  "kernelspec": {
   "display_name": "Python 3 (ipykernel)",
   "language": "python",
   "name": "python3"
  },
  "language_info": {
   "codemirror_mode": {
    "name": "ipython",
    "version": 3
   },
   "file_extension": ".py",
   "mimetype": "text/x-python",
   "name": "python",
   "nbconvert_exporter": "python",
   "pygments_lexer": "ipython3",
   "version": "3.10.9"
  },
  "toc": {
   "base_numbering": 1,
   "nav_menu": {},
   "number_sections": true,
   "sideBar": true,
   "skip_h1_title": false,
   "title_cell": "Table of Contents",
   "title_sidebar": "Contents",
   "toc_cell": false,
   "toc_position": {},
   "toc_section_display": true,
   "toc_window_display": false
  }
 },
 "nbformat": 4,
 "nbformat_minor": 5
}
