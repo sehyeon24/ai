{
 "cells": [
  {
   "cell_type": "code",
   "execution_count": 1,
   "id": "861c5cdb",
   "metadata": {
    "ExecuteTime": {
     "end_time": "2025-01-02T07:45:51.998562Z",
     "start_time": "2025-01-02T07:45:51.988423Z"
    }
   },
   "outputs": [
    {
     "data": {
      "text/html": [
       "\n",
       "<style>\n",
       "div.container{width:80% !important;}\n",
       "div.prompt {min-width:70px;}\n",
       "div#toc-header{margin-top:150px;}\n",
       "span.toc-item-num{display:none;}\n",
       "div.CodeMirror {font-family:Consolas}\n",
       "div.input {font-family:Consolas}\n",
       "</style>\n"
      ],
      "text/plain": [
       "<IPython.core.display.HTML object>"
      ]
     },
     "metadata": {},
     "output_type": "display_data"
    }
   ],
   "source": [
    "from IPython.display import display, HTML\n",
    "\n",
    "display(\n",
    "    HTML(\"\"\"\n",
    "<style>\n",
    "div.container{width:80% !important;}\n",
    "div.prompt {min-width:70px;}\n",
    "div#toc-header{margin-top:150px;}\n",
    "span.toc-item-num{display:none;}\n",
    "div.CodeMirror {font-family:Consolas}\n",
    "div.input {font-family:Consolas}\n",
    "</style>\n",
    "\"\"\"))"
   ]
  },
  {
   "cell_type": "markdown",
   "id": "0b4f687d",
   "metadata": {},
   "source": [
    "<font size='5' color='red'>ch05. LSTM(RNN)으로 영화평 구분하기</font>\n",
    "- 5만개 영화 감상평 : 타겟변수(종속변수)로 긍정/부정 구분하기"
   ]
  },
  {
   "cell_type": "code",
   "execution_count": 2,
   "id": "3af46283",
   "metadata": {
    "ExecuteTime": {
     "end_time": "2025-01-02T07:45:58.462409Z",
     "start_time": "2025-01-02T07:45:52.518452Z"
    }
   },
   "outputs": [],
   "source": [
    "# 1. 패키지 수입\n",
    "import numpy as np\n",
    "from tensorflow.keras.datasets import imdb\n",
    "from tensorflow.keras.preprocessing.sequence import pad_sequences\n",
    "from time import time  # time()  # 70.1.1부터 현재까지 몇 초 지났는지\n",
    "\n",
    "from tensorflow.keras.models import Sequential\n",
    "from tensorflow.keras.layers import Embedding, LSTM, Dense\n",
    "\n",
    "from sklearn.metrics import confusion_matrix, f1_score"
   ]
  },
  {
   "cell_type": "code",
   "execution_count": 3,
   "id": "7a446c7e",
   "metadata": {
    "ExecuteTime": {
     "end_time": "2025-01-02T07:45:58.478033Z",
     "start_time": "2025-01-02T07:45:58.462409Z"
    }
   },
   "outputs": [],
   "source": [
    "# 2. 하이퍼 파라미터 설정(이 파라미터를 바꾸면 정확도나 속도에 차이가 남)\n",
    "MY_WORDS = 10000  # imdb 데이터 안의 단어 수\n",
    "MY_LENGTH = 80    # 영화평 단어 수 80개만 독립변수로 설정\n",
    "MY_EMBED = 32     # Embedding 결과 차원\n",
    "MY_HIDDEN = 64    # LSTM의 units\n",
    "\n",
    "MY_EPOCH = 10     # 반복할 학습 수(fit)\n",
    "MY_BATCH = 200    # 배치사이즈(fit)"
   ]
  },
  {
   "cell_type": "code",
   "execution_count": 4,
   "id": "54216a01",
   "metadata": {
    "ExecuteTime": {
     "end_time": "2025-01-02T07:46:03.100803Z",
     "start_time": "2025-01-02T07:45:58.481965Z"
    }
   },
   "outputs": [],
   "source": [
    "# 3. 데이터 불러오기\n",
    "(X_train, y_train), (X_test, y_test) = imdb.load_data(num_words=MY_WORDS)"
   ]
  },
  {
   "cell_type": "code",
   "execution_count": 5,
   "id": "8aa261d1",
   "metadata": {
    "ExecuteTime": {
     "end_time": "2025-01-02T07:46:03.115958Z",
     "start_time": "2025-01-02T07:46:03.103116Z"
    }
   },
   "outputs": [
    {
     "name": "stdout",
     "output_type": "stream",
     "text": [
      "학습용 입력데이터(독립변수) 모양 :  (25000,)\n",
      "학습용 입력데이터(종속변수) 모양 :  (25000,)\n",
      "학습용 입력데이터 샘플 :  218 - [1, 14, 22, 16, 43, 530, 973, 1622, 1385, 65, 458, 4468, 66, 3941, 4, 173, 36, 256, 5, 25, 100, 43, 838, 112, 50, 670, 2, 9, 35, 480, 284, 5, 150, 4, 172, 112, 167, 2, 336, 385, 39, 4, 172, 4536, 1111, 17, 546, 38, 13, 447, 4, 192, 50, 16, 6, 147, 2025, 19, 14, 22, 4, 1920, 4613, 469, 4, 22, 71, 87, 12, 16, 43, 530, 38, 76, 15, 13, 1247, 4, 22, 17, 515, 17, 12, 16, 626, 18, 2, 5, 62, 386, 12, 8, 316, 8, 106, 5, 4, 2223, 5244, 16, 480, 66, 3785, 33, 4, 130, 12, 16, 38, 619, 5, 25, 124, 51, 36, 135, 48, 25, 1415, 33, 6, 22, 12, 215, 28, 77, 52, 5, 14, 407, 16, 82, 2, 8, 4, 107, 117, 5952, 15, 256, 4, 2, 7, 3766, 5, 723, 36, 71, 43, 530, 476, 26, 400, 317, 46, 7, 4, 2, 1029, 13, 104, 88, 4, 381, 15, 297, 98, 32, 2071, 56, 26, 141, 6, 194, 7486, 18, 4, 226, 22, 21, 134, 476, 26, 480, 5, 144, 30, 5535, 18, 51, 36, 28, 224, 92, 25, 104, 4, 226, 65, 16, 38, 1334, 88, 12, 16, 283, 5, 16, 4472, 113, 103, 32, 15, 16, 5345, 19, 178, 32]\n",
      "학습용 출력데이터 샘풀(0:부정/1:긍정) :  1\n",
      "테스트용 입력데이터(독립변수) 모양 :  (25000,)\n",
      "테스트용 입력데이터(종속변수) 모양 :  (25000,)\n",
      "테스트용 입력데이터 샘플 :  68 - [1, 591, 202, 14, 31, 6, 717, 10, 10, 2, 2, 5, 4, 360, 7, 4, 177, 5760, 394, 354, 4, 123, 9, 1035, 1035, 1035, 10, 10, 13, 92, 124, 89, 488, 7944, 100, 28, 1668, 14, 31, 23, 27, 7479, 29, 220, 468, 8, 124, 14, 286, 170, 8, 157, 46, 5, 27, 239, 16, 179, 2, 38, 32, 25, 7944, 451, 202, 14, 6, 717]\n",
      "테스트용 출력데이터 샘풀(0:부정/1:긍정) :  0\n"
     ]
    }
   ],
   "source": [
    "print('학습용 입력데이터(독립변수) 모양 : ', X_train.shape)\n",
    "print('학습용 입력데이터(종속변수) 모양 : ', y_train.shape)\n",
    "print('학습용 입력데이터 샘플 : ', len(X_train[0]), '-', X_train[0])\n",
    "print('학습용 출력데이터 샘풀(0:부정/1:긍정) : ', y_train[0])\n",
    "\n",
    "print('테스트용 입력데이터(독립변수) 모양 : ', X_test.shape)\n",
    "print('테스트용 입력데이터(종속변수) 모양 : ', y_test.shape)\n",
    "print('테스트용 입력데이터 샘플 : ', len(X_test[0]), '-', X_test[0])\n",
    "print('테스트용 출력데이터 샘풀(0:부정/1:긍정) : ', y_test[0])"
   ]
  },
  {
   "cell_type": "code",
   "execution_count": 6,
   "id": "3b1415b1",
   "metadata": {
    "ExecuteTime": {
     "end_time": "2025-01-02T07:46:03.125687Z",
     "start_time": "2025-01-02T07:46:03.118953Z"
    }
   },
   "outputs": [
    {
     "name": "stdout",
     "output_type": "stream",
     "text": [
      "학습용 데이터의 긍정 갯수 :  12500\n",
      "테스트용 데이터의 긍정 갯수 :  12500\n"
     ]
    }
   ],
   "source": [
    "# 긍정 갯수\n",
    "print('학습용 데이터의 긍정 갯수 : ', y_train.sum())\n",
    "print('테스트용 데이터의 긍정 갯수 : ', y_test.sum())"
   ]
  },
  {
   "cell_type": "code",
   "execution_count": 7,
   "id": "2511a5ee",
   "metadata": {
    "ExecuteTime": {
     "end_time": "2025-01-02T07:46:03.147659Z",
     "start_time": "2025-01-02T07:46:03.128687Z"
    }
   },
   "outputs": [
    {
     "name": "stdout",
     "output_type": "stream",
     "text": [
      "첫 10개 영화평의 길이 : \n",
      "1번째 218\n",
      "2번째 189\n",
      "3번째 141\n",
      "4번째 550\n",
      "5번째 147\n",
      "6번째 43\n",
      "7번째 123\n",
      "8번째 562\n",
      "9번째 233\n",
      "10번째 130\n"
     ]
    }
   ],
   "source": [
    "# 4. 영화평 학습용 데이터 처음 10개 길이 출력 함수\n",
    "def show_length():\n",
    "    print('첫 10개 영화평의 길이 : ')\n",
    "    for i in range(10):\n",
    "        print(f'{i+1}번째 {len(X_train[i])}')\n",
    "show_length()"
   ]
  },
  {
   "cell_type": "code",
   "execution_count": 8,
   "id": "776289aa",
   "metadata": {
    "ExecuteTime": {
     "end_time": "2025-01-02T07:46:03.163282Z",
     "start_time": "2025-01-02T07:46:03.149659Z"
    }
   },
   "outputs": [],
   "source": [
    "# [f'{i+1}번째 {len(X_train[i])}' for i in range(10)]"
   ]
  },
  {
   "cell_type": "code",
   "execution_count": 9,
   "id": "6189ccb6",
   "metadata": {
    "ExecuteTime": {
     "end_time": "2025-01-02T07:46:03.297186Z",
     "start_time": "2025-01-02T07:46:03.166280Z"
    }
   },
   "outputs": [
    {
     "name": "stdout",
     "output_type": "stream",
     "text": [
      "17\n",
      "19\n",
      "movie\n",
      "film\n"
     ]
    }
   ],
   "source": [
    "# 5. 문자 단어 -> 정수\n",
    "word_to_id = imdb.get_word_index()  # 딕셔너리{'문자 단어:key' : 정수:id}\n",
    "print(word_to_id['movie'])\n",
    "print(word_to_id['film'])\n",
    "\n",
    "# 5. 정수 -> 문자 단어\n",
    "id_to_word = {}  # 딕셔너리{정수:id : '문자 단어:value'}\n",
    "for key, val in word_to_id.items():\n",
    "    id_to_word[val] = key\n",
    "print(id_to_word[17])\n",
    "print(id_to_word[19])"
   ]
  },
  {
   "cell_type": "code",
   "execution_count": 10,
   "id": "eacf5e87",
   "metadata": {
    "ExecuteTime": {
     "end_time": "2025-01-02T07:46:03.312812Z",
     "start_time": "2025-01-02T07:46:03.297186Z"
    }
   },
   "outputs": [
    {
     "name": "stdout",
     "output_type": "stream",
     "text": [
      "[48, 3, 386, None]\n",
      "[48, 3, 386, -1]\n",
      "원 후기 내용 :  ['what', 'a', 'wonderful', 'movi']\n",
      "encoded data :  [1, 51, 6, 389, 2]\n",
      "data 추정 :  ?? what a wonderful ??\n"
     ]
    }
   ],
   "source": [
    "msg = 'What a wonderful movi'\n",
    "msg = msg.lower().split()\n",
    "print([word_to_id.get(m) for m in msg])\n",
    "print([word_to_id.get(m, -1) for m in msg])\n",
    "# 1:리뷰시작을 알리는 숫자, 2:문자가 잘려서 잘못 읽어옴\n",
    "data = [1] + [word_to_id.get(m, -1)+3 for m in msg]\n",
    "print('원 후기 내용 : ', msg)\n",
    "print('encoded data : ', data)\n",
    "print('data 추정 : ', ' '.join([id_to_word.get(d-3, '??') for d in data]))"
   ]
  },
  {
   "cell_type": "code",
   "execution_count": 26,
   "id": "725f26db",
   "metadata": {
    "ExecuteTime": {
     "end_time": "2025-01-02T07:53:13.950843Z",
     "start_time": "2025-01-02T07:53:13.944711Z"
    }
   },
   "outputs": [
    {
     "name": "stdout",
     "output_type": "stream",
     "text": [
      "[1, 14, 22, 16, 43, 530, 973, 1622, 1385, 65, 458, 4468, 66, 3941, 4, 173, 36, 256, 5, 25, 100, 43, 838, 112, 50, 670, 2, 9, 35, 480, 284, 5, 150, 4, 172, 112, 167, 2, 336, 385, 39, 4, 172, 4536, 1111, 17, 546, 38, 13, 447, 4, 192, 50, 16, 6, 147, 2025, 19, 14, 22, 4, 1920, 4613, 469, 4, 22, 71, 87, 12, 16, 43, 530, 38, 76, 15, 13, 1247, 4, 22, 17, 515, 17, 12, 16, 626, 18, 2, 5, 62, 386, 12, 8, 316, 8, 106, 5, 4, 2223, 5244, 16, 480, 66, 3785, 33, 4, 130, 12, 16, 38, 619, 5, 25, 124, 51, 36, 135, 48, 25, 1415, 33, 6, 22, 12, 215, 28, 77, 52, 5, 14, 407, 16, 82, 2, 8, 4, 107, 117, 5952, 15, 256, 4, 2, 7, 3766, 5, 723, 36, 71, 43, 530, 476, 26, 400, 317, 46, 7, 4, 2, 1029, 13, 104, 88, 4, 381, 15, 297, 98, 32, 2071, 56, 26, 141, 6, 194, 7486, 18, 4, 226, 22, 21, 134, 476, 26, 480, 5, 144, 30, 5535, 18, 51, 36, 28, 224, 92, 25, 104, 4, 226, 65, 16, 38, 1334, 88, 12, 16, 283, 5, 16, 4472, 113, 103, 32, 15, 16, 5345, 19, 178, 32]\n",
      "??? this film was just brilliant casting location scenery story direction everyone's really suited the part they played and you could just imagine being there robert ??? is an amazing actor and now the same being director ??? father came from the same scottish island as myself so i loved the fact there was a real connection with this film the witty remarks throughout the film were great it was just brilliant so much that i bought the film as soon as it was released for ??? and would recommend it to everyone to watch and the fly fishing was amazing really cried at the end it was so sad and you know what they say if you cry at a film it must have been good and this definitely was also ??? to the two little boy's that played the ??? of norman and paul they were just brilliant children are often left out of the ??? list i think because the stars that play them all grown up are such a big profile for the whole film but these children are amazing and should be praised for what they have done don't you think the whole story was so lovely because it was true and was someone's life after all that was shared with us all\n",
      "None 1\n"
     ]
    }
   ],
   "source": [
    "# 6. 숫자 영화평 -> 자연어 영화평\n",
    "def decoding(review_num):\n",
    "    decoded = []\n",
    "    for num in review_num:\n",
    "        word = id_to_word.get(num-3, '???')\n",
    "        decoded.append(word)\n",
    "    print(' '.join(decoded))\n",
    "print(X_train[0])\n",
    "print(decoding(X_train[0]), y_train[0])"
   ]
  },
  {
   "cell_type": "code",
   "execution_count": 18,
   "id": "2fb71057",
   "metadata": {
    "ExecuteTime": {
     "end_time": "2025-01-02T07:49:06.559561Z",
     "start_time": "2025-01-02T07:49:06.554563Z"
    }
   },
   "outputs": [
    {
     "name": "stdout",
     "output_type": "stream",
     "text": [
      "pad_sequence 작업 전\n",
      "첫 10개 영화평의 길이 : \n",
      "1번째 218\n",
      "2번째 189\n",
      "3번째 141\n",
      "4번째 550\n",
      "5번째 147\n",
      "6번째 43\n",
      "7번째 123\n",
      "8번째 562\n",
      "9번째 233\n",
      "10번째 130\n"
     ]
    }
   ],
   "source": [
    "print('pad_sequence 작업 전')\n",
    "show_length()"
   ]
  },
  {
   "cell_type": "code",
   "execution_count": 20,
   "id": "e9562ce1",
   "metadata": {
    "ExecuteTime": {
     "end_time": "2025-01-02T07:52:05.082562Z",
     "start_time": "2025-01-02T07:52:05.065390Z"
    }
   },
   "outputs": [
    {
     "data": {
      "text/plain": [
       "(2494, 11)"
      ]
     },
     "execution_count": 20,
     "metadata": {},
     "output_type": "execute_result"
    }
   ],
   "source": [
    "max([len(x) for x in X_train]), min([len(x) for x in X_train])"
   ]
  },
  {
   "cell_type": "code",
   "execution_count": 34,
   "id": "33188145",
   "metadata": {
    "ExecuteTime": {
     "end_time": "2025-01-02T07:57:27.629823Z",
     "start_time": "2025-01-02T07:57:27.447354Z"
    }
   },
   "outputs": [
    {
     "name": "stdout",
     "output_type": "stream",
     "text": [
      "첫 10개 영화평의 길이 : \n",
      "1번째 80\n",
      "2번째 80\n",
      "3번째 80\n",
      "4번째 80\n",
      "5번째 80\n",
      "6번째 80\n",
      "7번째 80\n",
      "8번째 80\n",
      "9번째 80\n",
      "10번째 80\n"
     ]
    }
   ],
   "source": [
    "# 7. 모든 영화평의 길이를 동일하게 만들기(score : 75.2%)\n",
    "X_train = pad_sequences(X_train,  # 2차원\n",
    "                        padding='post',\n",
    "                        truncating='post',  # 뒷부분을 자르고 앞부분을 남김\n",
    "                        maxlen=MY_LENGTH)\n",
    "X_test = pad_sequences(X_test,\n",
    "                       padding='post',\n",
    "                       truncating='post',\n",
    "                       maxlen=MY_LENGTH)\n",
    "show_length()"
   ]
  },
  {
   "cell_type": "code",
   "execution_count": 30,
   "id": "c21b3ce2",
   "metadata": {
    "ExecuteTime": {
     "end_time": "2025-01-02T07:56:23.245971Z",
     "start_time": "2025-01-02T07:56:23.062625Z"
    }
   },
   "outputs": [
    {
     "name": "stdout",
     "output_type": "stream",
     "text": [
      "첫 10개 영화평의 길이 : \n",
      "1번째 80\n",
      "2번째 80\n",
      "3번째 80\n",
      "4번째 80\n",
      "5번째 80\n",
      "6번째 80\n",
      "7번째 80\n",
      "8번째 80\n",
      "9번째 80\n",
      "10번째 80\n"
     ]
    }
   ],
   "source": [
    "# 7. 모든 영화평의 길이를 동일하게 만들기(score : _%)\n",
    "X_train = pad_sequences(X_train,  # 2차원\n",
    "                        padding='pre',\n",
    "                        truncating='pre',  # 뒷부분을 자르고 앞부분을 남김\n",
    "                        maxlen=MY_LENGTH)\n",
    "X_test = pad_sequences(X_test,\n",
    "                       padding='pre',\n",
    "                       truncating='pre',\n",
    "                       maxlen=MY_LENGTH)\n",
    "show_length()"
   ]
  },
  {
   "cell_type": "code",
   "execution_count": 37,
   "id": "f6ec9b0b",
   "metadata": {
    "ExecuteTime": {
     "end_time": "2025-01-02T07:59:33.413165Z",
     "start_time": "2025-01-02T07:59:33.406169Z"
    }
   },
   "outputs": [
    {
     "data": {
      "text/plain": [
       "((25000, 80), (25000,), (25000, 80), (25000,))"
      ]
     },
     "execution_count": 37,
     "metadata": {},
     "output_type": "execute_result"
    }
   ],
   "source": [
    "# 8. 모델 생성 전 최종 데이터 shape 확인\n",
    "X_train.shape, y_train.shape, X_test.shape, y_test.shape"
   ]
  },
  {
   "cell_type": "code",
   "execution_count": 39,
   "id": "3fdefd2f",
   "metadata": {
    "ExecuteTime": {
     "end_time": "2025-01-02T08:05:42.823299Z",
     "start_time": "2025-01-02T08:05:42.147207Z"
    }
   },
   "outputs": [
    {
     "name": "stdout",
     "output_type": "stream",
     "text": [
      "Model: \"sequential_1\"\n",
      "_________________________________________________________________\n",
      " Layer (type)                Output Shape              Param #   \n",
      "=================================================================\n",
      " embedding_1 (Embedding)     (None, 80, 32)            320000    \n",
      "                                                                 \n",
      " lstm (LSTM)                 (None, 64)                24832     \n",
      "                                                                 \n",
      " dense (Dense)               (None, 1)                 65        \n",
      "                                                                 \n",
      "=================================================================\n",
      "Total params: 344,897\n",
      "Trainable params: 344,897\n",
      "Non-trainable params: 0\n",
      "_________________________________________________________________\n"
     ]
    }
   ],
   "source": [
    "# 9. 모델 생성 및 구현\n",
    "model = Sequential()\n",
    "model.add(Embedding(input_dim=MY_WORDS,\n",
    "                    output_dim=MY_EMBED, \n",
    "                    input_length=MY_LENGTH))\n",
    "model.add(LSTM(units=MY_HIDDEN,\n",
    "               input_shape=(MY_LENGTH, MY_EMBED)))\n",
    "model.add(Dense(units=1, activation='sigmoid'))  # 2진분류\n",
    "model.summary()"
   ]
  },
  {
   "cell_type": "code",
   "execution_count": 40,
   "id": "fd90592d",
   "metadata": {
    "ExecuteTime": {
     "end_time": "2025-01-02T08:12:08.843325Z",
     "start_time": "2025-01-02T08:10:41.912493Z"
    }
   },
   "outputs": [
    {
     "name": "stdout",
     "output_type": "stream",
     "text": [
      "Epoch 1/10\n",
      "100/100 [==============================] - 11s 90ms/step - loss: 0.5733 - accuracy: 0.6814 - val_loss: 0.4519 - val_accuracy: 0.7884\n",
      "Epoch 2/10\n",
      "100/100 [==============================] - 9s 89ms/step - loss: 0.3590 - accuracy: 0.8511 - val_loss: 0.4088 - val_accuracy: 0.8142\n",
      "Epoch 3/10\n",
      "100/100 [==============================] - 9s 89ms/step - loss: 0.2750 - accuracy: 0.8921 - val_loss: 0.4395 - val_accuracy: 0.8114\n",
      "Epoch 4/10\n",
      "100/100 [==============================] - 8s 82ms/step - loss: 0.2312 - accuracy: 0.9122 - val_loss: 0.5129 - val_accuracy: 0.7988\n",
      "Epoch 5/10\n",
      "100/100 [==============================] - 8s 82ms/step - loss: 0.1985 - accuracy: 0.9285 - val_loss: 0.5357 - val_accuracy: 0.7988\n",
      "Epoch 6/10\n",
      "100/100 [==============================] - 8s 82ms/step - loss: 0.1773 - accuracy: 0.9380 - val_loss: 0.5852 - val_accuracy: 0.7936\n",
      "Epoch 7/10\n",
      "100/100 [==============================] - 8s 82ms/step - loss: 0.1539 - accuracy: 0.9474 - val_loss: 0.6174 - val_accuracy: 0.7872\n",
      "Epoch 8/10\n",
      "100/100 [==============================] - 8s 82ms/step - loss: 0.1357 - accuracy: 0.9555 - val_loss: 0.6970 - val_accuracy: 0.7906\n",
      "Epoch 9/10\n",
      "100/100 [==============================] - 8s 82ms/step - loss: 0.1239 - accuracy: 0.9599 - val_loss: 0.8226 - val_accuracy: 0.7888\n",
      "Epoch 10/10\n",
      "100/100 [==============================] - 8s 82ms/step - loss: 0.1105 - accuracy: 0.9643 - val_loss: 0.8002 - val_accuracy: 0.7848\n",
      "총 학습 시간 : 86.90\n"
     ]
    }
   ],
   "source": [
    "# 10. 학습 환경 설정 및 학습하기\n",
    "model.compile(loss='binary_crossentropy',  # 이중분류 시 손실함수\n",
    "              optimizer='adam', metrics=['accuracy'])\n",
    "begin = time()  # 70.1.1 ~ 현재시점까지의 초\n",
    "model.fit(x=X_train, y=y_train, epochs=MY_EPOCH, batch_size=MY_BATCH, verbose=1, validation_split=0.2)\n",
    "end = time()  # 70.1.1 ~ 현재시점까지의 초\n",
    "print('총 학습 시간 : {:.2f}'.format(end-begin))"
   ]
  },
  {
   "cell_type": "code",
   "execution_count": 41,
   "id": "ba7bfc6b",
   "metadata": {
    "ExecuteTime": {
     "end_time": "2025-01-02T08:24:43.283461Z",
     "start_time": "2025-01-02T08:24:33.690181Z"
    }
   },
   "outputs": [
    {
     "name": "stdout",
     "output_type": "stream",
     "text": [
      "782/782 [==============================] - 10s 11ms/step - loss: 0.9332 - accuracy: 0.7525\n",
      "test 데이터의 정확도(acc) :  0.7524799704551697\n"
     ]
    }
   ],
   "source": [
    "# 11. 모델 평가\n",
    "loss, acc = model.evaluate(x=X_test, y=y_test, verbose=1)\n",
    "print('test 데이터의 정확도(acc) : ', acc)"
   ]
  },
  {
   "cell_type": "code",
   "execution_count": 46,
   "id": "849560e5",
   "metadata": {
    "ExecuteTime": {
     "end_time": "2025-01-02T08:29:35.902826Z",
     "start_time": "2025-01-02T08:29:26.345512Z"
    }
   },
   "outputs": [
    {
     "name": "stdout",
     "output_type": "stream",
     "text": [
      "782/782 [==============================] - 9s 12ms/step\n"
     ]
    },
    {
     "data": {
      "text/plain": [
       "array([0, 1, 1, ..., 0, 0, 1])"
      ]
     },
     "execution_count": 46,
     "metadata": {},
     "output_type": "execute_result"
    }
   ],
   "source": [
    "# 혼돈행렬\n",
    "pred = model.predict(X_test)\n",
    "y_hat = (pred > 0.5).astype(int).reshape(-1)\n",
    "y_hat"
   ]
  },
  {
   "cell_type": "code",
   "execution_count": 47,
   "id": "3d16d1d5",
   "metadata": {
    "ExecuteTime": {
     "end_time": "2025-01-02T08:29:36.512346Z",
     "start_time": "2025-01-02T08:29:36.505349Z"
    }
   },
   "outputs": [
    {
     "data": {
      "text/plain": [
       "((25000,), (25000,))"
      ]
     },
     "execution_count": 47,
     "metadata": {},
     "output_type": "execute_result"
    }
   ],
   "source": [
    "y_test.shape, y_hat.shape"
   ]
  },
  {
   "cell_type": "code",
   "execution_count": 48,
   "id": "f94d6f8f",
   "metadata": {
    "ExecuteTime": {
     "end_time": "2025-01-02T08:30:14.414963Z",
     "start_time": "2025-01-02T08:30:14.401036Z"
    }
   },
   "outputs": [
    {
     "data": {
      "text/plain": [
       "array([[9161, 3339],\n",
       "       [2849, 9651]], dtype=int64)"
      ]
     },
     "execution_count": 48,
     "metadata": {},
     "output_type": "execute_result"
    }
   ],
   "source": [
    "confusion_matrix(y_test, y_hat)"
   ]
  },
  {
   "cell_type": "code",
   "execution_count": 49,
   "id": "ad061335",
   "metadata": {
    "ExecuteTime": {
     "end_time": "2025-01-02T08:30:53.787826Z",
     "start_time": "2025-01-02T08:30:53.735637Z"
    }
   },
   "outputs": [
    {
     "data": {
      "text/html": [
       "<div>\n",
       "<style scoped>\n",
       "    .dataframe tbody tr th:only-of-type {\n",
       "        vertical-align: middle;\n",
       "    }\n",
       "\n",
       "    .dataframe tbody tr th {\n",
       "        vertical-align: top;\n",
       "    }\n",
       "\n",
       "    .dataframe thead th {\n",
       "        text-align: right;\n",
       "    }\n",
       "</style>\n",
       "<table border=\"1\" class=\"dataframe\">\n",
       "  <thead>\n",
       "    <tr style=\"text-align: right;\">\n",
       "      <th>col_0</th>\n",
       "      <th>0</th>\n",
       "      <th>1</th>\n",
       "    </tr>\n",
       "    <tr>\n",
       "      <th>row_0</th>\n",
       "      <th></th>\n",
       "      <th></th>\n",
       "    </tr>\n",
       "  </thead>\n",
       "  <tbody>\n",
       "    <tr>\n",
       "      <th>0</th>\n",
       "      <td>9161</td>\n",
       "      <td>3339</td>\n",
       "    </tr>\n",
       "    <tr>\n",
       "      <th>1</th>\n",
       "      <td>2849</td>\n",
       "      <td>9651</td>\n",
       "    </tr>\n",
       "  </tbody>\n",
       "</table>\n",
       "</div>"
      ],
      "text/plain": [
       "col_0     0     1\n",
       "row_0            \n",
       "0      9161  3339\n",
       "1      2849  9651"
      ]
     },
     "execution_count": 49,
     "metadata": {},
     "output_type": "execute_result"
    }
   ],
   "source": [
    "import pandas as pd\n",
    "pd.crosstab(y_test, y_hat)"
   ]
  },
  {
   "cell_type": "code",
   "execution_count": null,
   "id": "8bc40220",
   "metadata": {},
   "outputs": [],
   "source": [
    "# accuracy(전체 중 정답을 맞힌 비율) : = (TN+TP) / (TN+FP+FN+TP)\n",
    "# precision(정밀도, 민감도 - True로 예측한 것 중 맞힌 비율) : = TP / (FP+TP)\n",
    "# recall(재현율 - 실제값이 True인 것 중 True로 맞힌 비율) : = TP / (FN+TP)"
   ]
  },
  {
   "cell_type": "code",
   "execution_count": null,
   "id": "585196fd",
   "metadata": {},
   "outputs": [],
   "source": []
  },
  {
   "cell_type": "code",
   "execution_count": null,
   "id": "f57c9c67",
   "metadata": {},
   "outputs": [],
   "source": []
  },
  {
   "cell_type": "code",
   "execution_count": null,
   "id": "b6c49c59",
   "metadata": {},
   "outputs": [],
   "source": []
  },
  {
   "cell_type": "code",
   "execution_count": null,
   "id": "2fef03e3",
   "metadata": {},
   "outputs": [],
   "source": []
  },
  {
   "cell_type": "code",
   "execution_count": null,
   "id": "0caf6d2a",
   "metadata": {},
   "outputs": [],
   "source": []
  },
  {
   "cell_type": "code",
   "execution_count": null,
   "id": "3bcabab4",
   "metadata": {},
   "outputs": [],
   "source": []
  },
  {
   "cell_type": "code",
   "execution_count": null,
   "id": "3c8b08ff",
   "metadata": {},
   "outputs": [],
   "source": []
  },
  {
   "cell_type": "code",
   "execution_count": null,
   "id": "1921446d",
   "metadata": {},
   "outputs": [],
   "source": []
  },
  {
   "cell_type": "code",
   "execution_count": null,
   "id": "e2153b5c",
   "metadata": {},
   "outputs": [],
   "source": []
  },
  {
   "cell_type": "code",
   "execution_count": null,
   "id": "df589f79",
   "metadata": {},
   "outputs": [],
   "source": []
  }
 ],
 "metadata": {
  "kernelspec": {
   "display_name": "Python 3 (ipykernel)",
   "language": "python",
   "name": "python3"
  },
  "language_info": {
   "codemirror_mode": {
    "name": "ipython",
    "version": 3
   },
   "file_extension": ".py",
   "mimetype": "text/x-python",
   "name": "python",
   "nbconvert_exporter": "python",
   "pygments_lexer": "ipython3",
   "version": "3.10.9"
  },
  "toc": {
   "base_numbering": 1,
   "nav_menu": {},
   "number_sections": true,
   "sideBar": true,
   "skip_h1_title": false,
   "title_cell": "Table of Contents",
   "title_sidebar": "Contents",
   "toc_cell": false,
   "toc_position": {
    "height": "calc(100% - 180px)",
    "left": "10px",
    "top": "150px",
    "width": "290.484px"
   },
   "toc_section_display": true,
   "toc_window_display": true
  }
 },
 "nbformat": 4,
 "nbformat_minor": 5
}
