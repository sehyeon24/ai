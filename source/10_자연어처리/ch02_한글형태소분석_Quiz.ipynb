{
 "cells": [
  {
   "cell_type": "code",
   "execution_count": 1,
   "id": "6628cbc8",
   "metadata": {
    "ExecuteTime": {
     "end_time": "2024-12-30T08:14:15.123460Z",
     "start_time": "2024-12-30T08:14:15.104318Z"
    }
   },
   "outputs": [
    {
     "data": {
      "text/html": [
       "\n",
       "<style>\n",
       "div.container{width:80% !important;}\n",
       "div.prompt {min-width:70px;}\n",
       "div#toc-header{margin-top:150px;}\n",
       "span.toc-item-num{display:none;}\n",
       "div.CodeMirror {font-family:Consolas}\n",
       "div.input {font-family:Consolas}\n",
       "</style>\n"
      ],
      "text/plain": [
       "<IPython.core.display.HTML object>"
      ]
     },
     "metadata": {},
     "output_type": "display_data"
    }
   ],
   "source": [
    "from IPython.display import display, HTML\n",
    "\n",
    "display(\n",
    "    HTML(\"\"\"\n",
    "<style>\n",
    "div.container{width:80% !important;}\n",
    "div.prompt {min-width:70px;}\n",
    "div#toc-header{margin-top:150px;}\n",
    "span.toc-item-num{display:none;}\n",
    "div.CodeMirror {font-family:Consolas}\n",
    "div.input {font-family:Consolas}\n",
    "</style>\n",
    "\"\"\"))"
   ]
  },
  {
   "cell_type": "markdown",
   "id": "8670b799",
   "metadata": {},
   "source": [
    "# ※ naver Open Api를 사용한 한글 형태소 분석\n",
    "- 네이버 지식인에 '전주 여행'과 '경주 여행' 검색 -> 명사만 추출(re) -> 빈도 분석(DataFrame), 시각화(워드클라우드)"
   ]
  },
  {
   "cell_type": "markdown",
   "id": "8207e024",
   "metadata": {},
   "source": [
    "# 1. 네이버 api를 활용하여 두 검색어 추출"
   ]
  },
  {
   "cell_type": "code",
   "execution_count": 2,
   "id": "f1245987",
   "metadata": {
    "ExecuteTime": {
     "end_time": "2024-12-30T08:14:16.360967Z",
     "start_time": "2024-12-30T08:14:16.356968Z"
    }
   },
   "outputs": [],
   "source": [
    "# url = ''  # Naver Debelopers -> Documents -> 검색 -> 지식iN\n",
    "# request.add_head()   Naver Debelopers -> Documents -> 검색 -> 지식iN"
   ]
  },
  {
   "cell_type": "code",
   "execution_count": 3,
   "id": "83b7c286",
   "metadata": {
    "ExecuteTime": {
     "end_time": "2024-12-30T08:14:16.654833Z",
     "start_time": "2024-12-30T08:14:16.525466Z"
    }
   },
   "outputs": [
    {
     "name": "stdout",
     "output_type": "stream",
     "text": [
      "{\n",
      "\t\"lastBuildDate\":\"Mon, 30 Dec 2024 17:14:15 +0900\",\n",
      "\t\"total\":47106,\n",
      "\t\"start\":1,\n",
      "\t\"display\":10,\n",
      "\t\"items\":[\n",
      "\t\t{\n",
      "\t\t\t\"title\":\"<b>전주여행<\\/b> 대중교통이랑 렌트카중 어떤게 좋을까요?\",\n",
      "\t\t\t\"link\":\"https:\\/\\/kin.naver.com\\/qna\\/detail.naver?d1id=9&dirId=90110&docId=477694429&qb=7KCE7KO8IOyXrO2WiQ==&enc=utf8&section=kin.qna&rank=1&search_sort=0&spq=0\",\n",
      "\t\t\t\"description\":\"... <b>전주여행<\\/b>때 움직이기 차가 편할지 대중교통이 편할지 알려주세요. 교통 상황이 어떤지 궁금합니다. <b>전주여행<\\/b> 전주맛집 국내여행 전주달봉이 달봉티비 <b>전주여행<\\/b>코스 전주가볼만한곳 여수여행 여수가볼만한곳 제주도여행... \"\n",
      "\t\t},\n",
      "\t\t{\n"
     ]
    }
   ],
   "source": [
    "import os\n",
    "import sys\n",
    "import urllib.request\n",
    "client_id = 'RgKYwTbMqCx5s9yGYqsT'\n",
    "client_secret = '1INoZ2YkcD'\n",
    "encText = urllib.parse.quote('전주 여행')\n",
    "url = 'https://openapi.naver.com/v1/search/kin.json?query=' + encText\n",
    "request = urllib.request.Request(url)\n",
    "request.add_header('X-Naver-Client-Id', client_id)\n",
    "request.add_header('X-Naver-Client-Secret', client_secret)\n",
    "response = urllib.request.urlopen(request)\n",
    "rescode = response.getcode()\n",
    "if(rescode == 200):\n",
    "    response_body = response.read()\n",
    "    print(response_body.decode('utf-8')[:500])\n",
    "else:\n",
    "    print('Error Code : ' + rescode)"
   ]
  },
  {
   "cell_type": "code",
   "execution_count": 4,
   "id": "ee5ae50e",
   "metadata": {
    "ExecuteTime": {
     "end_time": "2024-12-30T08:14:19.766633Z",
     "start_time": "2024-12-30T08:14:18.741501Z"
    }
   },
   "outputs": [
    {
     "data": {
      "text/html": [
       "<div>\n",
       "<style scoped>\n",
       "    .dataframe tbody tr th:only-of-type {\n",
       "        vertical-align: middle;\n",
       "    }\n",
       "\n",
       "    .dataframe tbody tr th {\n",
       "        vertical-align: top;\n",
       "    }\n",
       "\n",
       "    .dataframe thead th {\n",
       "        text-align: right;\n",
       "    }\n",
       "</style>\n",
       "<table border=\"1\" class=\"dataframe\">\n",
       "  <thead>\n",
       "    <tr style=\"text-align: right;\">\n",
       "      <th></th>\n",
       "      <th>title</th>\n",
       "      <th>link</th>\n",
       "      <th>description</th>\n",
       "    </tr>\n",
       "  </thead>\n",
       "  <tbody>\n",
       "    <tr>\n",
       "      <th>0</th>\n",
       "      <td>전주,경주 여행코스</td>\n",
       "      <td>https://kin.naver.com/qna/detail.naver?d1id=9&amp;...</td>\n",
       "      <td>... 올 가을에 일주일정도 여행을 가려고 해요 서울에서 경주랑 전주에 다녀오려고 ...</td>\n",
       "    </tr>\n",
       "    <tr>\n",
       "      <th>1</th>\n",
       "      <td>경주여행 무박1일로 가능한 코스좀...(전주에서 출발)</td>\n",
       "      <td>https://kin.naver.com/qna/detail.naver?d1id=9&amp;...</td>\n",
       "      <td>26일 전주에서 단일로 경주여행을 하고자 합니다. 전주에서는25일 늦은 밤이나 새벽...</td>\n",
       "    </tr>\n",
       "    <tr>\n",
       "      <th>2</th>\n",
       "      <td>전주 안동 경주 여행 계절</td>\n",
       "      <td>https://kin.naver.com/qna/detail.naver?d1id=9&amp;...</td>\n",
       "      <td>전주 안동 경주 이번 년도에 혼자 여행 다녀올 예정인데 각각 여행 다녀 올 계절 좀...</td>\n",
       "    </tr>\n",
       "    <tr>\n",
       "      <th>3</th>\n",
       "      <td>전주에서 경주 여행가려고하는데</td>\n",
       "      <td>https://kin.naver.com/qna/detail.naver?d1id=9&amp;...</td>\n",
       "      <td>전주에서 경주 여행가려고하는데 버스가 나을까요 기차가 나을까요? 또 기차로 가는 방...</td>\n",
       "    </tr>\n",
       "    <tr>\n",
       "      <th>4</th>\n",
       "      <td>경주 여행 1박 2일</td>\n",
       "      <td>https://kin.naver.com/qna/detail.naver?d1id=9&amp;...</td>\n",
       "      <td>4월 8일 일찍 가서 9일날 늦게 돌아오려고 하는데요 출발은 전주에서 하구요 숙소는...</td>\n",
       "    </tr>\n",
       "    <tr>\n",
       "      <th>5</th>\n",
       "      <td>경주여행 준비좀 도와주세요 ...ㅜㅜ</td>\n",
       "      <td>https://kin.naver.com/qna/detail.naver?d1id=4&amp;...</td>\n",
       "      <td>... 경주여행하면 떡갈비가 유명하다고 하는데 저희가 예전에 전주에서 유명한 한정식...</td>\n",
       "    </tr>\n",
       "    <tr>\n",
       "      <th>6</th>\n",
       "      <td>경주여행코스 알려주세요</td>\n",
       "      <td>https://kin.naver.com/qna/detail.naver?d1id=9&amp;...</td>\n",
       "      <td>... 출발지는 대전 아니면 전주쪽이 될거같구요.... ^^ 자가용을 이용하려고해요...</td>\n",
       "    </tr>\n",
       "    <tr>\n",
       "      <th>7</th>\n",
       "      <td>경주 여행코스 좀 추천해주세요</td>\n",
       "      <td>https://kin.naver.com/qna/detail.naver?d1id=9&amp;...</td>\n",
       "      <td>... 메타세콰이어길 전주 막걸리투어 뭐 이런식으로요 일단 하루는 경주 내에 자체 ...</td>\n",
       "    </tr>\n",
       "    <tr>\n",
       "      <th>8</th>\n",
       "      <td>경주여행 코스 부탁드립니다.(내공100)</td>\n",
       "      <td>https://kin.naver.com/qna/detail.naver?d1id=12...</td>\n",
       "      <td>경주여행 코스 부탁드립니다. 말 그대로 코스를 부탁드립니다. 4월30일 새벽에......</td>\n",
       "    </tr>\n",
       "    <tr>\n",
       "      <th>9</th>\n",
       "      <td>경주여행 2박3일 코스좀 부탁드립니다</td>\n",
       "      <td>https://kin.naver.com/qna/detail.naver?d1id=12...</td>\n",
       "      <td>11월 11일 부터 이박삼일동안 경주여행을 할려구 합니다 아마 경주는 오전... 싶...</td>\n",
       "    </tr>\n",
       "    <tr>\n",
       "      <th>10</th>\n",
       "      <td>경주 여행 가는 데 맛집 추천 부탁드려요~!!</td>\n",
       "      <td>https://kin.naver.com/qna/detail.naver?d1id=8&amp;...</td>\n",
       "      <td>... 모르겠더라구요 전주 여행갔을 때 맛집 블로그 검색해서 갔었는데 진짜 별로여서...</td>\n",
       "    </tr>\n",
       "    <tr>\n",
       "      <th>11</th>\n",
       "      <td>경주 여행 질문 드립니다.</td>\n",
       "      <td>https://kin.naver.com/qna/detail.naver?d1id=9&amp;...</td>\n",
       "      <td>이번 4/2~4/3일 경주로 벚꽃 여행을 가기로 했습니다. 경기도에서 출발하는 1박...</td>\n",
       "    </tr>\n",
       "    <tr>\n",
       "      <th>12</th>\n",
       "      <td>경주여행!</td>\n",
       "      <td>https://kin.naver.com/qna/detail.naver?d1id=9&amp;...</td>\n",
       "      <td>전주에서 버스나 기차타고 경주로 당일치기 여행 가능 할까요?? 그럼요! 당일치기 충...</td>\n",
       "    </tr>\n",
       "    <tr>\n",
       "      <th>13</th>\n",
       "      <td>경주 여행코스 질문합니다!</td>\n",
       "      <td>https://kin.naver.com/qna/detail.naver?d1id=9&amp;...</td>\n",
       "      <td>강아지와 함께 토일 동반여행을 가게되었는데 전주에서 출발해요 코스 꼬이지안고 애견펜...</td>\n",
       "    </tr>\n",
       "    <tr>\n",
       "      <th>14</th>\n",
       "      <td>경주여행이 좋을까요 전주여행이 좋을까요?</td>\n",
       "      <td>https://kin.naver.com/qna/detail.naver?d1id=9&amp;...</td>\n",
       "      <td>1박2일로 놀려는데 어디가 좋을까요? 아님 다른곳이라도 추천해주새요 개인적으로 볼거...</td>\n",
       "    </tr>\n",
       "    <tr>\n",
       "      <th>15</th>\n",
       "      <td>경주여행하려고합니다.</td>\n",
       "      <td>https://kin.naver.com/qna/detail.naver?d1id=9&amp;...</td>\n",
       "      <td>제가 경주여행을하려고 하는데요~ 경주에 거주하시거나 경주를 잘... 전 청주에있고 ...</td>\n",
       "    </tr>\n",
       "    <tr>\n",
       "      <th>16</th>\n",
       "      <td>1박2일 경주여행을가려합니다.도와주세요..</td>\n",
       "      <td>https://kin.naver.com/qna/detail.naver?d1id=12...</td>\n",
       "      <td>... 5학년 딸아이와 전주에서 차로 경주 1박2일(10월9일~10일)을 여행하려합...</td>\n",
       "    </tr>\n",
       "    <tr>\n",
       "      <th>17</th>\n",
       "      <td>경주와 전주 함께 여행하려고 하는데요</td>\n",
       "      <td>https://kin.naver.com/qna/detail.naver?d1id=9&amp;...</td>\n",
       "      <td>... (전주에서 경주가기가 어려워요...) 다음은 여행코스입니다 우선 경주 가볼만...</td>\n",
       "    </tr>\n",
       "    <tr>\n",
       "      <th>18</th>\n",
       "      <td>(내공팍팍) 경주여행 당일 코스좀 ^^</td>\n",
       "      <td>https://kin.naver.com/qna/detail.naver?d1id=12...</td>\n",
       "      <td>안녕하세요^^ 경주 당일 여행 코스좀 추천해주세요^^ㅎㅎ 출발은 전주에서 할꺼구요....</td>\n",
       "    </tr>\n",
       "    <tr>\n",
       "      <th>19</th>\n",
       "      <td>경주 여행</td>\n",
       "      <td>https://kin.naver.com/qna/detail.naver?d1id=9&amp;...</td>\n",
       "      <td>경주 7월 8월쯤에 가면 타지역에 비해서 많이 더운가요? 아직 경주로 완전히 정한건...</td>\n",
       "    </tr>\n",
       "    <tr>\n",
       "      <th>20</th>\n",
       "      <td>경주여행을 가려고 하는데 기차질문이요!!</td>\n",
       "      <td>https://kin.naver.com/qna/detail.naver?d1id=8&amp;...</td>\n",
       "      <td>전주역 &amp;gt; 익산역 &amp;gt; 오송역 &amp;gt; 신경주역 이렇게 기차를 타고 가려고...</td>\n",
       "    </tr>\n",
       "    <tr>\n",
       "      <th>21</th>\n",
       "      <td>전주&amp;lt;-&amp;gt;경주 왕복 질문</td>\n",
       "      <td>https://kin.naver.com/qna/detail.naver?d1id=9&amp;...</td>\n",
       "      <td>당일치기로 경주여행 가려고하는데 경주월드 가려고했는데 시외버스 첫차는 너무 늦고 경...</td>\n",
       "    </tr>\n",
       "    <tr>\n",
       "      <th>22</th>\n",
       "      <td>혼자여행... 전주와 경주 중 어디가 더 좋을까요..</td>\n",
       "      <td>https://kin.naver.com/qna/detail.naver?d1id=9&amp;...</td>\n",
       "      <td>안녕하세요 전 경기도에 살고 있고 내일 전주 아니면 경주 여행을 할까 합니다. 혼자...</td>\n",
       "    </tr>\n",
       "    <tr>\n",
       "      <th>23</th>\n",
       "      <td>전주에서 경주 2박3일 역사기행...</td>\n",
       "      <td>https://kin.naver.com/qna/detail.naver?d1id=12...</td>\n",
       "      <td>전주에서 경주로 2박3일 역사기행을 하려고합니다.. 동아리에서 가는건데..인원은 1...</td>\n",
       "    </tr>\n",
       "    <tr>\n",
       "      <th>24</th>\n",
       "      <td>결혼 1주년 기념으로 경주 여행을 가려는데 추천해주실...</td>\n",
       "      <td>https://kin.naver.com/qna/detail.naver?d1id=9&amp;...</td>\n",
       "      <td>... 선배가 아니라 죄송하고요 ^^ 여행을 좋아하는 관계로 몇 자 적어봅니다.^^...</td>\n",
       "    </tr>\n",
       "    <tr>\n",
       "      <th>25</th>\n",
       "      <td>전주한옥마을 한복 매매하려면?</td>\n",
       "      <td>https://kin.naver.com/qna/detail.naver?d1id=12...</td>\n",
       "      <td>1.전주에서 파는 그런 한복을 아주 사고 싶은데 대여말고 살 수 있을까요? 2.산다...</td>\n",
       "    </tr>\n",
       "    <tr>\n",
       "      <th>26</th>\n",
       "      <td>전주-경주 캐스퍼로 운전해서 가도 문제 없을까요?</td>\n",
       "      <td>https://kin.naver.com/qna/detail.naver?d1id=8&amp;...</td>\n",
       "      <td>엄마랑 저랑 둘이서 경주여행 다녀오려고 하는데요 고속도로 운전해서 가야되니까 걱정을...</td>\n",
       "    </tr>\n",
       "    <tr>\n",
       "      <th>27</th>\n",
       "      <td>경주 2박여행 스케즐...</td>\n",
       "      <td>https://kin.naver.com/qna/detail.naver?d1id=12...</td>\n",
       "      <td>... 경주여행 갔다오니 아이들이 좋아해서 힘들어도 위안이 되었네요. 조금이나마 경...</td>\n",
       "    </tr>\n",
       "    <tr>\n",
       "      <th>28</th>\n",
       "      <td>경주 여행 어때요!?</td>\n",
       "      <td>https://kin.naver.com/qna/detail.naver?d1id=12...</td>\n",
       "      <td>... 경주 여행이 처음이신 분들을 위한 경주 시내 필수 코스 (경주 1박2일, 경...</td>\n",
       "    </tr>\n",
       "    <tr>\n",
       "      <th>29</th>\n",
       "      <td>우리나라에서 여행 가기 좋은 곳</td>\n",
       "      <td>https://kin.naver.com/qna/detail.naver?d1id=9&amp;...</td>\n",
       "      <td>1번 서울 11번남해 20번 전주 30남양주 40번 수원 50번 영주 2번 광주.....</td>\n",
       "    </tr>\n",
       "  </tbody>\n",
       "</table>\n",
       "</div>"
      ],
      "text/plain": [
       "                                title  \\\n",
       "0                          전주,경주 여행코스   \n",
       "1      경주여행 무박1일로 가능한 코스좀...(전주에서 출발)   \n",
       "2                      전주 안동 경주 여행 계절   \n",
       "3                    전주에서 경주 여행가려고하는데   \n",
       "4                         경주 여행 1박 2일   \n",
       "5                경주여행 준비좀 도와주세요 ...ㅜㅜ   \n",
       "6                        경주여행코스 알려주세요   \n",
       "7                    경주 여행코스 좀 추천해주세요   \n",
       "8              경주여행 코스 부탁드립니다.(내공100)   \n",
       "9                경주여행 2박3일 코스좀 부탁드립니다   \n",
       "10          경주 여행 가는 데 맛집 추천 부탁드려요~!!   \n",
       "11                     경주 여행 질문 드립니다.   \n",
       "12                              경주여행!   \n",
       "13                     경주 여행코스 질문합니다!   \n",
       "14             경주여행이 좋을까요 전주여행이 좋을까요?   \n",
       "15                        경주여행하려고합니다.   \n",
       "16            1박2일 경주여행을가려합니다.도와주세요..   \n",
       "17               경주와 전주 함께 여행하려고 하는데요   \n",
       "18              (내공팍팍) 경주여행 당일 코스좀 ^^   \n",
       "19                              경주 여행   \n",
       "20             경주여행을 가려고 하는데 기차질문이요!!   \n",
       "21                전주&lt;-&gt;경주 왕복 질문   \n",
       "22      혼자여행... 전주와 경주 중 어디가 더 좋을까요..   \n",
       "23               전주에서 경주 2박3일 역사기행...   \n",
       "24  결혼 1주년 기념으로 경주 여행을 가려는데 추천해주실...    \n",
       "25                   전주한옥마을 한복 매매하려면?   \n",
       "26        전주-경주 캐스퍼로 운전해서 가도 문제 없을까요?   \n",
       "27                     경주 2박여행 스케즐...   \n",
       "28                        경주 여행 어때요!?   \n",
       "29                  우리나라에서 여행 가기 좋은 곳   \n",
       "\n",
       "                                                 link  \\\n",
       "0   https://kin.naver.com/qna/detail.naver?d1id=9&...   \n",
       "1   https://kin.naver.com/qna/detail.naver?d1id=9&...   \n",
       "2   https://kin.naver.com/qna/detail.naver?d1id=9&...   \n",
       "3   https://kin.naver.com/qna/detail.naver?d1id=9&...   \n",
       "4   https://kin.naver.com/qna/detail.naver?d1id=9&...   \n",
       "5   https://kin.naver.com/qna/detail.naver?d1id=4&...   \n",
       "6   https://kin.naver.com/qna/detail.naver?d1id=9&...   \n",
       "7   https://kin.naver.com/qna/detail.naver?d1id=9&...   \n",
       "8   https://kin.naver.com/qna/detail.naver?d1id=12...   \n",
       "9   https://kin.naver.com/qna/detail.naver?d1id=12...   \n",
       "10  https://kin.naver.com/qna/detail.naver?d1id=8&...   \n",
       "11  https://kin.naver.com/qna/detail.naver?d1id=9&...   \n",
       "12  https://kin.naver.com/qna/detail.naver?d1id=9&...   \n",
       "13  https://kin.naver.com/qna/detail.naver?d1id=9&...   \n",
       "14  https://kin.naver.com/qna/detail.naver?d1id=9&...   \n",
       "15  https://kin.naver.com/qna/detail.naver?d1id=9&...   \n",
       "16  https://kin.naver.com/qna/detail.naver?d1id=12...   \n",
       "17  https://kin.naver.com/qna/detail.naver?d1id=9&...   \n",
       "18  https://kin.naver.com/qna/detail.naver?d1id=12...   \n",
       "19  https://kin.naver.com/qna/detail.naver?d1id=9&...   \n",
       "20  https://kin.naver.com/qna/detail.naver?d1id=8&...   \n",
       "21  https://kin.naver.com/qna/detail.naver?d1id=9&...   \n",
       "22  https://kin.naver.com/qna/detail.naver?d1id=9&...   \n",
       "23  https://kin.naver.com/qna/detail.naver?d1id=12...   \n",
       "24  https://kin.naver.com/qna/detail.naver?d1id=9&...   \n",
       "25  https://kin.naver.com/qna/detail.naver?d1id=12...   \n",
       "26  https://kin.naver.com/qna/detail.naver?d1id=8&...   \n",
       "27  https://kin.naver.com/qna/detail.naver?d1id=12...   \n",
       "28  https://kin.naver.com/qna/detail.naver?d1id=12...   \n",
       "29  https://kin.naver.com/qna/detail.naver?d1id=9&...   \n",
       "\n",
       "                                          description  \n",
       "0   ... 올 가을에 일주일정도 여행을 가려고 해요 서울에서 경주랑 전주에 다녀오려고 ...  \n",
       "1   26일 전주에서 단일로 경주여행을 하고자 합니다. 전주에서는25일 늦은 밤이나 새벽...  \n",
       "2   전주 안동 경주 이번 년도에 혼자 여행 다녀올 예정인데 각각 여행 다녀 올 계절 좀...  \n",
       "3   전주에서 경주 여행가려고하는데 버스가 나을까요 기차가 나을까요? 또 기차로 가는 방...  \n",
       "4   4월 8일 일찍 가서 9일날 늦게 돌아오려고 하는데요 출발은 전주에서 하구요 숙소는...  \n",
       "5   ... 경주여행하면 떡갈비가 유명하다고 하는데 저희가 예전에 전주에서 유명한 한정식...  \n",
       "6   ... 출발지는 대전 아니면 전주쪽이 될거같구요.... ^^ 자가용을 이용하려고해요...  \n",
       "7   ... 메타세콰이어길 전주 막걸리투어 뭐 이런식으로요 일단 하루는 경주 내에 자체 ...  \n",
       "8   경주여행 코스 부탁드립니다. 말 그대로 코스를 부탁드립니다. 4월30일 새벽에......  \n",
       "9   11월 11일 부터 이박삼일동안 경주여행을 할려구 합니다 아마 경주는 오전... 싶...  \n",
       "10  ... 모르겠더라구요 전주 여행갔을 때 맛집 블로그 검색해서 갔었는데 진짜 별로여서...  \n",
       "11  이번 4/2~4/3일 경주로 벚꽃 여행을 가기로 했습니다. 경기도에서 출발하는 1박...  \n",
       "12  전주에서 버스나 기차타고 경주로 당일치기 여행 가능 할까요?? 그럼요! 당일치기 충...  \n",
       "13  강아지와 함께 토일 동반여행을 가게되었는데 전주에서 출발해요 코스 꼬이지안고 애견펜...  \n",
       "14  1박2일로 놀려는데 어디가 좋을까요? 아님 다른곳이라도 추천해주새요 개인적으로 볼거...  \n",
       "15  제가 경주여행을하려고 하는데요~ 경주에 거주하시거나 경주를 잘... 전 청주에있고 ...  \n",
       "16  ... 5학년 딸아이와 전주에서 차로 경주 1박2일(10월9일~10일)을 여행하려합...  \n",
       "17  ... (전주에서 경주가기가 어려워요...) 다음은 여행코스입니다 우선 경주 가볼만...  \n",
       "18  안녕하세요^^ 경주 당일 여행 코스좀 추천해주세요^^ㅎㅎ 출발은 전주에서 할꺼구요....  \n",
       "19  경주 7월 8월쯤에 가면 타지역에 비해서 많이 더운가요? 아직 경주로 완전히 정한건...  \n",
       "20  전주역 &gt; 익산역 &gt; 오송역 &gt; 신경주역 이렇게 기차를 타고 가려고...  \n",
       "21  당일치기로 경주여행 가려고하는데 경주월드 가려고했는데 시외버스 첫차는 너무 늦고 경...  \n",
       "22  안녕하세요 전 경기도에 살고 있고 내일 전주 아니면 경주 여행을 할까 합니다. 혼자...  \n",
       "23  전주에서 경주로 2박3일 역사기행을 하려고합니다.. 동아리에서 가는건데..인원은 1...  \n",
       "24  ... 선배가 아니라 죄송하고요 ^^ 여행을 좋아하는 관계로 몇 자 적어봅니다.^^...  \n",
       "25  1.전주에서 파는 그런 한복을 아주 사고 싶은데 대여말고 살 수 있을까요? 2.산다...  \n",
       "26  엄마랑 저랑 둘이서 경주여행 다녀오려고 하는데요 고속도로 운전해서 가야되니까 걱정을...  \n",
       "27  ... 경주여행 갔다오니 아이들이 좋아해서 힘들어도 위안이 되었네요. 조금이나마 경...  \n",
       "28  ... 경주 여행이 처음이신 분들을 위한 경주 시내 필수 코스 (경주 1박2일, 경...  \n",
       "29  1번 서울 11번남해 20번 전주 30남양주 40번 수원 50번 영주 2번 광주.....  "
      ]
     },
     "execution_count": 4,
     "metadata": {},
     "output_type": "execute_result"
    }
   ],
   "source": [
    "import requests\n",
    "import pandas as pd\n",
    "import json # response 텍스트를 json 딕셔너리로\n",
    "client_id = 'RgKYwTbMqCx5s9yGYqsT'\n",
    "client_secret = '1INoZ2YkcD'\n",
    "query = '경주여행','전주여행'\n",
    "items_list = []\n",
    "url = f'https://openapi.naver.com/v1/search/kin.json?query={query}&display=30'\n",
    "headers = {\"X-Naver-Client-Id\" : client_id,\n",
    "          \"X-Naver-Client-Secret\" : client_secret}\n",
    "response = requests.get(url, headers=headers)\n",
    "# print(response.text[:500])\n",
    "items = json.loads(response.text)['items']\n",
    "# len(items)\n",
    "for item in items:\n",
    "    # print(item)\n",
    "    title = item['title'].replace('<b>','').replace('</b>','')\n",
    "    link = item['link']\n",
    "    description = item['description'].replace('<b>','').replace('</b>','')\n",
    "    items_list.append([title, link, description])\n",
    "pd.DataFrame(items_list, columns=['title', 'link', 'description'])"
   ]
  },
  {
   "cell_type": "code",
   "execution_count": 32,
   "id": "cae6e1b6",
   "metadata": {
    "ExecuteTime": {
     "end_time": "2024-12-30T08:08:52.687583Z",
     "start_time": "2024-12-30T08:08:52.679586Z"
    }
   },
   "outputs": [],
   "source": [
    "def get_intellect_list(query):\n",
    "    import requests\n",
    "    import json \n",
    "    import pandas as pd\n",
    "    client_id = \"lCl5wdVFNY5CDZLC_OFT\"\n",
    "    client_secret = \"QCFpUZzi6G\"\n",
    "    items_list = []\n",
    "    url = f'https://openapi.naver.com/v1/search/kin.json?query={query}&display=100'\n",
    "    headers = {\"X-Naver-Client-Id\" : client_id,\n",
    "             \"X-Naver-Client-Secret\" : client_secret}\n",
    "    response = requests.get(url, headers=headers)\n",
    "    items = json.loads(response.text)['items']\n",
    "    for idx,item in enumerate(items):\n",
    "        title = item['title'].replace('<b>','').replace('</b>','')\n",
    "        link = item['link']\n",
    "        description = item['description'].replace('<b>','').replace('</b>','')\n",
    "        items_list.append({'제목': title,\n",
    "                          '링크' : link,\n",
    "                          '본문' : description})\n",
    "    result = pd.DataFrame(items_list)\n",
    "#     result.to_csv()\n",
    "    return result"
   ]
  },
  {
   "cell_type": "code",
   "execution_count": 5,
   "id": "603c4155",
   "metadata": {
    "ExecuteTime": {
     "end_time": "2024-12-30T08:14:24.250107Z",
     "start_time": "2024-12-30T08:14:24.245109Z"
    }
   },
   "outputs": [],
   "source": [
    "from requests import get\n",
    "import time\n",
    "import os\n",
    "import json\n",
    "from html import unescape  # &lt; -> <, &gt; -> >\n",
    "import pandas as pd"
   ]
  },
  {
   "cell_type": "code",
   "execution_count": 6,
   "id": "beca569f",
   "metadata": {
    "ExecuteTime": {
     "end_time": "2024-12-30T08:16:21.641851Z",
     "start_time": "2024-12-30T08:16:21.636252Z"
    }
   },
   "outputs": [],
   "source": [
    "# 네이버 API 계정 정보\n",
    "client_id = 'RgKYwTbMqCx5s9yGYqsT'\n",
    "client_secret = '1INoZ2YkcD'\n",
    "queries = ['전주 여행', '경주 여행']\n",
    "max_start = 5  # 5페이지만큼"
   ]
  },
  {
   "cell_type": "code",
   "execution_count": 20,
   "id": "d6007806",
   "metadata": {
    "ExecuteTime": {
     "end_time": "2024-12-30T08:28:57.451271Z",
     "start_time": "2024-12-30T08:28:57.372955Z"
    }
   },
   "outputs": [
    {
     "name": "stdout",
     "output_type": "stream",
     "text": [
      "{\n",
      "\t\"lastBuildDate\":\"Mon, 30 Dec 2024 17:28:48 +0900\",\n",
      "\t\"total\":1130105,\n",
      "\t\"start\":1,\n",
      "\t\"display\":100,\n",
      "\t\"items\":[\n"
     ]
    }
   ],
   "source": [
    "query = '전주 여행'\n",
    "start = 0\n",
    "headers = {'X-Naver-Client-Id' : client_id, 'X-Naver-Client-Secret' : client_secret}\n",
    "url = f'https://openapi.naver.com/v1/search/blog.json?query={query}&display=100&start={start+1}'\n",
    "response = get(url, headers=headers)\n",
    "# print(response.text)"
   ]
  },
  {
   "cell_type": "code",
   "execution_count": 21,
   "id": "48c9e6bf",
   "metadata": {
    "ExecuteTime": {
     "end_time": "2024-12-30T08:29:19.162612Z",
     "start_time": "2024-12-30T08:29:19.156612Z"
    }
   },
   "outputs": [],
   "source": [
    "# 데이터를 저장할 파일 생성 (파일명:naver_kin.txt)하고 title 저장\n",
    "file_name = 'data/naver_kin.txt'\n",
    "with open(file_name, 'w', encoding='utf-8') as file:\n",
    "    file.write('{}\\t{}\\t{}\\t{}\\t{}\\t{}\\n'.format('query', 'no', 'title', 'link', 'description', 'total_text'))"
   ]
  },
  {
   "cell_type": "code",
   "execution_count": 25,
   "id": "ff36c714",
   "metadata": {
    "ExecuteTime": {
     "end_time": "2024-12-30T08:38:20.453904Z",
     "start_time": "2024-12-30T08:38:20.447906Z"
    }
   },
   "outputs": [
    {
     "data": {
      "text/plain": [
       "{'title': '<b>전주</b> 1박2일 <b>여행</b> 호텔 추천 <b>전주</b> 신라스테이 조식 위치 맛집',\n",
       " 'link': 'https://blog.naver.com/jangrose5932/223701851243',\n",
       " 'description': '전주가 처음인 엄마를 위해 맛집부터 호텔까지 꼼꼼하게 준비했는데요, 저희의 1박2일 여행이 여러분의 <b>전주 여행</b> 계획에도 도움이 되길 바랍니다 :) 1. 전주 호텔 위치 여행의 즐거움을 두 배로 만드는건 바로... ',\n",
       " 'bloggername': '여행 인플루언서 서아름아❣️',\n",
       " 'bloggerlink': 'blog.naver.com/jangrose5932',\n",
       " 'postdate': '20241222'}"
      ]
     },
     "execution_count": 25,
     "metadata": {},
     "output_type": "execute_result"
    }
   ],
   "source": [
    "elements = json.loads(response.text)['items']\n",
    "elements[0]"
   ]
  },
  {
   "cell_type": "code",
   "execution_count": 31,
   "id": "374856c2",
   "metadata": {
    "ExecuteTime": {
     "end_time": "2024-12-30T08:50:53.698194Z",
     "start_time": "2024-12-30T08:50:53.649188Z"
    }
   },
   "outputs": [],
   "source": [
    "for i, element in enumerate(elements):\n",
    "    title = element['title'].replace('<b>', ' ').replace('</b>', ' ')\n",
    "    link = element['link']\n",
    "    description = element['description'].replace('<b>', ' ').replace('</b>', ' ')\n",
    "    description = unescape(description)  # html 특수문자 처리(&lt;를 <로 대체)\n",
    "    # print(query, (start*100 + i + 1), title, link, description, title + ' ' + description)\n",
    "    with open(file_name, 'a', encoding='utf-8') as file:\n",
    "        file.write('{}\\t{}\\t{}\\t{}\\t{}\\t{}\\n'.format(query,\n",
    "                                                     start*100 + i + 1,\n",
    "                                                     title,\n",
    "                                                     link,\n",
    "                                                     description,\n",
    "                                                     title + ' ' + description))"
   ]
  },
  {
   "cell_type": "code",
   "execution_count": 32,
   "id": "3ff5378c",
   "metadata": {
    "ExecuteTime": {
     "end_time": "2024-12-30T08:52:51.098971Z",
     "start_time": "2024-12-30T08:52:50.976579Z"
    }
   },
   "outputs": [
    {
     "data": {
      "text/html": [
       "<div>\n",
       "<style scoped>\n",
       "    .dataframe tbody tr th:only-of-type {\n",
       "        vertical-align: middle;\n",
       "    }\n",
       "\n",
       "    .dataframe tbody tr th {\n",
       "        vertical-align: top;\n",
       "    }\n",
       "\n",
       "    .dataframe thead th {\n",
       "        text-align: right;\n",
       "    }\n",
       "</style>\n",
       "<table border=\"1\" class=\"dataframe\">\n",
       "  <thead>\n",
       "    <tr style=\"text-align: right;\">\n",
       "      <th></th>\n",
       "      <th>query</th>\n",
       "      <th>no</th>\n",
       "      <th>title</th>\n",
       "      <th>link</th>\n",
       "      <th>description</th>\n",
       "      <th>total_text</th>\n",
       "    </tr>\n",
       "  </thead>\n",
       "  <tbody>\n",
       "    <tr>\n",
       "      <th>0</th>\n",
       "      <td>전주 여행</td>\n",
       "      <td>1</td>\n",
       "      <td>전주  1박2일  여행  호텔 추천  전주  신라스테이 조식 위치 맛집</td>\n",
       "      <td>https://blog.naver.com/jangrose5932/223701851243</td>\n",
       "      <td>전주가 처음인 엄마를 위해 맛집부터 호텔까지 꼼꼼하게 준비했는데요, 저희의 1박2일...</td>\n",
       "      <td>전주  1박2일  여행  호텔 추천  전주  신라스테이 조식 위치 맛집 전주가 처...</td>\n",
       "    </tr>\n",
       "    <tr>\n",
       "      <th>1</th>\n",
       "      <td>전주 여행</td>\n",
       "      <td>2</td>\n",
       "      <td>전주 가성비호텔, 아기랑  전주여행 숙소, 글로스터호텔</td>\n",
       "      <td>https://blog.naver.com/jinha1210/223702923938</td>\n",
       "      <td>이번 결혼기념일에 밥만먹고 지나간게 아쉬워 급  전주여행 을 떠났다. 당일이라기엔 ...</td>\n",
       "      <td>전주 가성비호텔, 아기랑  전주여행 숙소, 글로스터호텔 이번 결혼기념일에 밥만먹고 ...</td>\n",
       "    </tr>\n",
       "    <tr>\n",
       "      <th>2</th>\n",
       "      <td>전주 여행</td>\n",
       "      <td>3</td>\n",
       "      <td>전주  가족 여행  숙소, 한옥마을 둘러보기</td>\n",
       "      <td>https://blog.naver.com/shs4wd/223701165304</td>\n",
       "      <td>지금 어딜 가야 해서 숙소와 진안 여행은 다음 편에서 계속할게요. # 전주여행  #...</td>\n",
       "      <td>전주  가족 여행  숙소, 한옥마을 둘러보기 지금 어딜 가야 해서 숙소와 진안 여...</td>\n",
       "    </tr>\n",
       "    <tr>\n",
       "      <th>3</th>\n",
       "      <td>전주 여행</td>\n",
       "      <td>4</td>\n",
       "      <td>전주여행  : 전주향교, 한옥마을, 카페 차경, 수목원</td>\n",
       "      <td>https://blog.naver.com/ruixian/223673555966</td>\n",
       "      <td>전북  전주여행  2024.11.16 전주는 이번이 두번째 작년 3월에 갔을 땐 일...</td>\n",
       "      <td>전주여행  : 전주향교, 한옥마을, 카페 차경, 수목원 전북  전주여행  2024...</td>\n",
       "    </tr>\n",
       "    <tr>\n",
       "      <th>4</th>\n",
       "      <td>전주 여행</td>\n",
       "      <td>5</td>\n",
       "      <td>전주여행  가볼만한곳 덕진공원 단풍 연화정 도서관</td>\n",
       "      <td>https://blog.naver.com/party_tasty/223660656292</td>\n",
       "      <td>전주 덕진공원  전주여행 은 많이 왔었는데 전주 덕진공원은 처음이라니! 알고보니 전...</td>\n",
       "      <td>전주여행  가볼만한곳 덕진공원 단풍 연화정 도서관 전주 덕진공원  전주여행 은 많...</td>\n",
       "    </tr>\n",
       "  </tbody>\n",
       "</table>\n",
       "</div>"
      ],
      "text/plain": [
       "   query  no                                     title  \\\n",
       "0  전주 여행   1   전주  1박2일  여행  호텔 추천  전주  신라스테이 조식 위치 맛집   \n",
       "1  전주 여행   2            전주 가성비호텔, 아기랑  전주여행 숙소, 글로스터호텔   \n",
       "2  전주 여행   3                  전주  가족 여행  숙소, 한옥마을 둘러보기   \n",
       "3  전주 여행   4            전주여행  : 전주향교, 한옥마을, 카페 차경, 수목원   \n",
       "4  전주 여행   5               전주여행  가볼만한곳 덕진공원 단풍 연화정 도서관   \n",
       "\n",
       "                                               link  \\\n",
       "0  https://blog.naver.com/jangrose5932/223701851243   \n",
       "1     https://blog.naver.com/jinha1210/223702923938   \n",
       "2        https://blog.naver.com/shs4wd/223701165304   \n",
       "3       https://blog.naver.com/ruixian/223673555966   \n",
       "4   https://blog.naver.com/party_tasty/223660656292   \n",
       "\n",
       "                                         description  \\\n",
       "0  전주가 처음인 엄마를 위해 맛집부터 호텔까지 꼼꼼하게 준비했는데요, 저희의 1박2일...   \n",
       "1  이번 결혼기념일에 밥만먹고 지나간게 아쉬워 급  전주여행 을 떠났다. 당일이라기엔 ...   \n",
       "2  지금 어딜 가야 해서 숙소와 진안 여행은 다음 편에서 계속할게요. # 전주여행  #...   \n",
       "3  전북  전주여행  2024.11.16 전주는 이번이 두번째 작년 3월에 갔을 땐 일...   \n",
       "4  전주 덕진공원  전주여행 은 많이 왔었는데 전주 덕진공원은 처음이라니! 알고보니 전...   \n",
       "\n",
       "                                          total_text  \n",
       "0   전주  1박2일  여행  호텔 추천  전주  신라스테이 조식 위치 맛집 전주가 처...  \n",
       "1  전주 가성비호텔, 아기랑  전주여행 숙소, 글로스터호텔 이번 결혼기념일에 밥만먹고 ...  \n",
       "2   전주  가족 여행  숙소, 한옥마을 둘러보기 지금 어딜 가야 해서 숙소와 진안 여...  \n",
       "3   전주여행  : 전주향교, 한옥마을, 카페 차경, 수목원 전북  전주여행  2024...  \n",
       "4   전주여행  가볼만한곳 덕진공원 단풍 연화정 도서관 전주 덕진공원  전주여행 은 많...  "
      ]
     },
     "execution_count": 32,
     "metadata": {},
     "output_type": "execute_result"
    }
   ],
   "source": [
    "df = pd.read_csv('data/naver_kin.txt', sep='\\t')\n",
    "df.head()"
   ]
  },
  {
   "cell_type": "code",
   "execution_count": null,
   "id": "82b9e89a",
   "metadata": {},
   "outputs": [],
   "source": []
  },
  {
   "cell_type": "code",
   "execution_count": null,
   "id": "5dc88498",
   "metadata": {},
   "outputs": [],
   "source": []
  },
  {
   "cell_type": "code",
   "execution_count": null,
   "id": "814635e1",
   "metadata": {},
   "outputs": [],
   "source": []
  },
  {
   "cell_type": "code",
   "execution_count": null,
   "id": "3c6bdb17",
   "metadata": {},
   "outputs": [],
   "source": []
  },
  {
   "cell_type": "code",
   "execution_count": null,
   "id": "d6d96ce0",
   "metadata": {},
   "outputs": [],
   "source": []
  },
  {
   "cell_type": "code",
   "execution_count": null,
   "id": "48df89cb",
   "metadata": {},
   "outputs": [],
   "source": []
  },
  {
   "cell_type": "code",
   "execution_count": null,
   "id": "5f7bc3a1",
   "metadata": {},
   "outputs": [],
   "source": []
  },
  {
   "cell_type": "code",
   "execution_count": null,
   "id": "0efc822a",
   "metadata": {},
   "outputs": [],
   "source": []
  },
  {
   "cell_type": "code",
   "execution_count": null,
   "id": "08b4f12d",
   "metadata": {},
   "outputs": [],
   "source": []
  },
  {
   "cell_type": "code",
   "execution_count": null,
   "id": "049a8a00",
   "metadata": {},
   "outputs": [],
   "source": []
  },
  {
   "cell_type": "code",
   "execution_count": null,
   "id": "d47be6cb",
   "metadata": {},
   "outputs": [],
   "source": []
  },
  {
   "cell_type": "code",
   "execution_count": null,
   "id": "32d5103d",
   "metadata": {},
   "outputs": [],
   "source": []
  },
  {
   "cell_type": "code",
   "execution_count": null,
   "id": "44f3e598",
   "metadata": {},
   "outputs": [],
   "source": []
  },
  {
   "cell_type": "code",
   "execution_count": null,
   "id": "8048aaba",
   "metadata": {},
   "outputs": [],
   "source": []
  },
  {
   "cell_type": "code",
   "execution_count": null,
   "id": "ddf9a777",
   "metadata": {},
   "outputs": [],
   "source": []
  }
 ],
 "metadata": {
  "kernelspec": {
   "display_name": "Python 3 (ipykernel)",
   "language": "python",
   "name": "python3"
  },
  "language_info": {
   "codemirror_mode": {
    "name": "ipython",
    "version": 3
   },
   "file_extension": ".py",
   "mimetype": "text/x-python",
   "name": "python",
   "nbconvert_exporter": "python",
   "pygments_lexer": "ipython3",
   "version": "3.10.9"
  },
  "toc": {
   "base_numbering": 1,
   "nav_menu": {},
   "number_sections": true,
   "sideBar": true,
   "skip_h1_title": false,
   "title_cell": "Table of Contents",
   "title_sidebar": "Contents",
   "toc_cell": false,
   "toc_position": {
    "height": "calc(100% - 180px)",
    "left": "10px",
    "top": "150px",
    "width": "224.323px"
   },
   "toc_section_display": true,
   "toc_window_display": true
  }
 },
 "nbformat": 4,
 "nbformat_minor": 5
}
