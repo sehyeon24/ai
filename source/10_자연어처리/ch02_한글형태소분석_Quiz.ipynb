{
 "cells": [
  {
   "cell_type": "code",
   "execution_count": 1,
   "id": "6628cbc8",
   "metadata": {
    "ExecuteTime": {
     "end_time": "2024-12-30T08:14:15.123460Z",
     "start_time": "2024-12-30T08:14:15.104318Z"
    }
   },
   "outputs": [
    {
     "data": {
      "text/html": [
       "\n",
       "<style>\n",
       "div.container{width:80% !important;}\n",
       "div.prompt {min-width:70px;}\n",
       "div#toc-header{margin-top:150px;}\n",
       "span.toc-item-num{display:none;}\n",
       "div.CodeMirror {font-family:Consolas}\n",
       "div.input {font-family:Consolas}\n",
       "</style>\n"
      ],
      "text/plain": [
       "<IPython.core.display.HTML object>"
      ]
     },
     "metadata": {},
     "output_type": "display_data"
    }
   ],
   "source": [
    "from IPython.display import display, HTML\n",
    "\n",
    "display(\n",
    "    HTML(\"\"\"\n",
    "<style>\n",
    "div.container{width:80% !important;}\n",
    "div.prompt {min-width:70px;}\n",
    "div#toc-header{margin-top:150px;}\n",
    "span.toc-item-num{display:none;}\n",
    "div.CodeMirror {font-family:Consolas}\n",
    "div.input {font-family:Consolas}\n",
    "</style>\n",
    "\"\"\"))"
   ]
  },
  {
   "cell_type": "markdown",
   "id": "8670b799",
   "metadata": {},
   "source": [
    "# ※ naver Open Api를 사용한 한글 형태소 분석\n",
    "- 네이버 지식인에 '전주 여행'과 '경주 여행' 검색 -> 명사만 추출(re) -> 빈도 분석(DataFrame), 시각화(워드클라우드)"
   ]
  },
  {
   "cell_type": "markdown",
   "id": "8207e024",
   "metadata": {},
   "source": [
    "# 1. 네이버 api를 활용하여 두 검색어 추출"
   ]
  },
  {
   "cell_type": "code",
   "execution_count": 2,
   "id": "f1245987",
   "metadata": {
    "ExecuteTime": {
     "end_time": "2024-12-30T08:14:16.360967Z",
     "start_time": "2024-12-30T08:14:16.356968Z"
    }
   },
   "outputs": [],
   "source": [
    "# url = ''  # Naver Debelopers -> Documents -> 검색 -> 지식iN\n",
    "# request.add_head()   Naver Debelopers -> Documents -> 검색 -> 지식iN"
   ]
  },
  {
   "cell_type": "code",
   "execution_count": 3,
   "id": "83b7c286",
   "metadata": {
    "ExecuteTime": {
     "end_time": "2024-12-30T08:14:16.654833Z",
     "start_time": "2024-12-30T08:14:16.525466Z"
    }
   },
   "outputs": [
    {
     "name": "stdout",
     "output_type": "stream",
     "text": [
      "{\n",
      "\t\"lastBuildDate\":\"Mon, 30 Dec 2024 17:14:15 +0900\",\n",
      "\t\"total\":47106,\n",
      "\t\"start\":1,\n",
      "\t\"display\":10,\n",
      "\t\"items\":[\n",
      "\t\t{\n",
      "\t\t\t\"title\":\"<b>전주여행<\\/b> 대중교통이랑 렌트카중 어떤게 좋을까요?\",\n",
      "\t\t\t\"link\":\"https:\\/\\/kin.naver.com\\/qna\\/detail.naver?d1id=9&dirId=90110&docId=477694429&qb=7KCE7KO8IOyXrO2WiQ==&enc=utf8&section=kin.qna&rank=1&search_sort=0&spq=0\",\n",
      "\t\t\t\"description\":\"... <b>전주여행<\\/b>때 움직이기 차가 편할지 대중교통이 편할지 알려주세요. 교통 상황이 어떤지 궁금합니다. <b>전주여행<\\/b> 전주맛집 국내여행 전주달봉이 달봉티비 <b>전주여행<\\/b>코스 전주가볼만한곳 여수여행 여수가볼만한곳 제주도여행... \"\n",
      "\t\t},\n",
      "\t\t{\n"
     ]
    }
   ],
   "source": [
    "import os\n",
    "import sys\n",
    "import urllib.request\n",
    "client_id = 'RgKYwTbMqCx5s9yGYqsT'\n",
    "client_secret = '1INoZ2YkcD'\n",
    "encText = urllib.parse.quote('전주 여행')\n",
    "url = 'https://openapi.naver.com/v1/search/kin.json?query=' + encText\n",
    "request = urllib.request.Request(url)\n",
    "request.add_header('X-Naver-Client-Id', client_id)\n",
    "request.add_header('X-Naver-Client-Secret', client_secret)\n",
    "response = urllib.request.urlopen(request)\n",
    "rescode = response.getcode()\n",
    "if(rescode == 200):\n",
    "    response_body = response.read()\n",
    "    print(response_body.decode('utf-8')[:500])\n",
    "else:\n",
    "    print('Error Code : ' + rescode)"
   ]
  },
  {
   "cell_type": "code",
   "execution_count": 4,
   "id": "ee5ae50e",
   "metadata": {
    "ExecuteTime": {
     "end_time": "2024-12-30T08:14:19.766633Z",
     "start_time": "2024-12-30T08:14:18.741501Z"
    }
   },
   "outputs": [
    {
     "data": {
      "text/html": [
       "<div>\n",
       "<style scoped>\n",
       "    .dataframe tbody tr th:only-of-type {\n",
       "        vertical-align: middle;\n",
       "    }\n",
       "\n",
       "    .dataframe tbody tr th {\n",
       "        vertical-align: top;\n",
       "    }\n",
       "\n",
       "    .dataframe thead th {\n",
       "        text-align: right;\n",
       "    }\n",
       "</style>\n",
       "<table border=\"1\" class=\"dataframe\">\n",
       "  <thead>\n",
       "    <tr style=\"text-align: right;\">\n",
       "      <th></th>\n",
       "      <th>title</th>\n",
       "      <th>link</th>\n",
       "      <th>description</th>\n",
       "    </tr>\n",
       "  </thead>\n",
       "  <tbody>\n",
       "    <tr>\n",
       "      <th>0</th>\n",
       "      <td>전주,경주 여행코스</td>\n",
       "      <td>https://kin.naver.com/qna/detail.naver?d1id=9&amp;...</td>\n",
       "      <td>... 올 가을에 일주일정도 여행을 가려고 해요 서울에서 경주랑 전주에 다녀오려고 ...</td>\n",
       "    </tr>\n",
       "    <tr>\n",
       "      <th>1</th>\n",
       "      <td>경주여행 무박1일로 가능한 코스좀...(전주에서 출발)</td>\n",
       "      <td>https://kin.naver.com/qna/detail.naver?d1id=9&amp;...</td>\n",
       "      <td>26일 전주에서 단일로 경주여행을 하고자 합니다. 전주에서는25일 늦은 밤이나 새벽...</td>\n",
       "    </tr>\n",
       "    <tr>\n",
       "      <th>2</th>\n",
       "      <td>전주 안동 경주 여행 계절</td>\n",
       "      <td>https://kin.naver.com/qna/detail.naver?d1id=9&amp;...</td>\n",
       "      <td>전주 안동 경주 이번 년도에 혼자 여행 다녀올 예정인데 각각 여행 다녀 올 계절 좀...</td>\n",
       "    </tr>\n",
       "    <tr>\n",
       "      <th>3</th>\n",
       "      <td>전주에서 경주 여행가려고하는데</td>\n",
       "      <td>https://kin.naver.com/qna/detail.naver?d1id=9&amp;...</td>\n",
       "      <td>전주에서 경주 여행가려고하는데 버스가 나을까요 기차가 나을까요? 또 기차로 가는 방...</td>\n",
       "    </tr>\n",
       "    <tr>\n",
       "      <th>4</th>\n",
       "      <td>경주 여행 1박 2일</td>\n",
       "      <td>https://kin.naver.com/qna/detail.naver?d1id=9&amp;...</td>\n",
       "      <td>4월 8일 일찍 가서 9일날 늦게 돌아오려고 하는데요 출발은 전주에서 하구요 숙소는...</td>\n",
       "    </tr>\n",
       "    <tr>\n",
       "      <th>5</th>\n",
       "      <td>경주여행 준비좀 도와주세요 ...ㅜㅜ</td>\n",
       "      <td>https://kin.naver.com/qna/detail.naver?d1id=4&amp;...</td>\n",
       "      <td>... 경주여행하면 떡갈비가 유명하다고 하는데 저희가 예전에 전주에서 유명한 한정식...</td>\n",
       "    </tr>\n",
       "    <tr>\n",
       "      <th>6</th>\n",
       "      <td>경주여행코스 알려주세요</td>\n",
       "      <td>https://kin.naver.com/qna/detail.naver?d1id=9&amp;...</td>\n",
       "      <td>... 출발지는 대전 아니면 전주쪽이 될거같구요.... ^^ 자가용을 이용하려고해요...</td>\n",
       "    </tr>\n",
       "    <tr>\n",
       "      <th>7</th>\n",
       "      <td>경주 여행코스 좀 추천해주세요</td>\n",
       "      <td>https://kin.naver.com/qna/detail.naver?d1id=9&amp;...</td>\n",
       "      <td>... 메타세콰이어길 전주 막걸리투어 뭐 이런식으로요 일단 하루는 경주 내에 자체 ...</td>\n",
       "    </tr>\n",
       "    <tr>\n",
       "      <th>8</th>\n",
       "      <td>경주여행 코스 부탁드립니다.(내공100)</td>\n",
       "      <td>https://kin.naver.com/qna/detail.naver?d1id=12...</td>\n",
       "      <td>경주여행 코스 부탁드립니다. 말 그대로 코스를 부탁드립니다. 4월30일 새벽에......</td>\n",
       "    </tr>\n",
       "    <tr>\n",
       "      <th>9</th>\n",
       "      <td>경주여행 2박3일 코스좀 부탁드립니다</td>\n",
       "      <td>https://kin.naver.com/qna/detail.naver?d1id=12...</td>\n",
       "      <td>11월 11일 부터 이박삼일동안 경주여행을 할려구 합니다 아마 경주는 오전... 싶...</td>\n",
       "    </tr>\n",
       "    <tr>\n",
       "      <th>10</th>\n",
       "      <td>경주 여행 가는 데 맛집 추천 부탁드려요~!!</td>\n",
       "      <td>https://kin.naver.com/qna/detail.naver?d1id=8&amp;...</td>\n",
       "      <td>... 모르겠더라구요 전주 여행갔을 때 맛집 블로그 검색해서 갔었는데 진짜 별로여서...</td>\n",
       "    </tr>\n",
       "    <tr>\n",
       "      <th>11</th>\n",
       "      <td>경주 여행 질문 드립니다.</td>\n",
       "      <td>https://kin.naver.com/qna/detail.naver?d1id=9&amp;...</td>\n",
       "      <td>이번 4/2~4/3일 경주로 벚꽃 여행을 가기로 했습니다. 경기도에서 출발하는 1박...</td>\n",
       "    </tr>\n",
       "    <tr>\n",
       "      <th>12</th>\n",
       "      <td>경주여행!</td>\n",
       "      <td>https://kin.naver.com/qna/detail.naver?d1id=9&amp;...</td>\n",
       "      <td>전주에서 버스나 기차타고 경주로 당일치기 여행 가능 할까요?? 그럼요! 당일치기 충...</td>\n",
       "    </tr>\n",
       "    <tr>\n",
       "      <th>13</th>\n",
       "      <td>경주 여행코스 질문합니다!</td>\n",
       "      <td>https://kin.naver.com/qna/detail.naver?d1id=9&amp;...</td>\n",
       "      <td>강아지와 함께 토일 동반여행을 가게되었는데 전주에서 출발해요 코스 꼬이지안고 애견펜...</td>\n",
       "    </tr>\n",
       "    <tr>\n",
       "      <th>14</th>\n",
       "      <td>경주여행이 좋을까요 전주여행이 좋을까요?</td>\n",
       "      <td>https://kin.naver.com/qna/detail.naver?d1id=9&amp;...</td>\n",
       "      <td>1박2일로 놀려는데 어디가 좋을까요? 아님 다른곳이라도 추천해주새요 개인적으로 볼거...</td>\n",
       "    </tr>\n",
       "    <tr>\n",
       "      <th>15</th>\n",
       "      <td>경주여행하려고합니다.</td>\n",
       "      <td>https://kin.naver.com/qna/detail.naver?d1id=9&amp;...</td>\n",
       "      <td>제가 경주여행을하려고 하는데요~ 경주에 거주하시거나 경주를 잘... 전 청주에있고 ...</td>\n",
       "    </tr>\n",
       "    <tr>\n",
       "      <th>16</th>\n",
       "      <td>1박2일 경주여행을가려합니다.도와주세요..</td>\n",
       "      <td>https://kin.naver.com/qna/detail.naver?d1id=12...</td>\n",
       "      <td>... 5학년 딸아이와 전주에서 차로 경주 1박2일(10월9일~10일)을 여행하려합...</td>\n",
       "    </tr>\n",
       "    <tr>\n",
       "      <th>17</th>\n",
       "      <td>경주와 전주 함께 여행하려고 하는데요</td>\n",
       "      <td>https://kin.naver.com/qna/detail.naver?d1id=9&amp;...</td>\n",
       "      <td>... (전주에서 경주가기가 어려워요...) 다음은 여행코스입니다 우선 경주 가볼만...</td>\n",
       "    </tr>\n",
       "    <tr>\n",
       "      <th>18</th>\n",
       "      <td>(내공팍팍) 경주여행 당일 코스좀 ^^</td>\n",
       "      <td>https://kin.naver.com/qna/detail.naver?d1id=12...</td>\n",
       "      <td>안녕하세요^^ 경주 당일 여행 코스좀 추천해주세요^^ㅎㅎ 출발은 전주에서 할꺼구요....</td>\n",
       "    </tr>\n",
       "    <tr>\n",
       "      <th>19</th>\n",
       "      <td>경주 여행</td>\n",
       "      <td>https://kin.naver.com/qna/detail.naver?d1id=9&amp;...</td>\n",
       "      <td>경주 7월 8월쯤에 가면 타지역에 비해서 많이 더운가요? 아직 경주로 완전히 정한건...</td>\n",
       "    </tr>\n",
       "    <tr>\n",
       "      <th>20</th>\n",
       "      <td>경주여행을 가려고 하는데 기차질문이요!!</td>\n",
       "      <td>https://kin.naver.com/qna/detail.naver?d1id=8&amp;...</td>\n",
       "      <td>전주역 &amp;gt; 익산역 &amp;gt; 오송역 &amp;gt; 신경주역 이렇게 기차를 타고 가려고...</td>\n",
       "    </tr>\n",
       "    <tr>\n",
       "      <th>21</th>\n",
       "      <td>전주&amp;lt;-&amp;gt;경주 왕복 질문</td>\n",
       "      <td>https://kin.naver.com/qna/detail.naver?d1id=9&amp;...</td>\n",
       "      <td>당일치기로 경주여행 가려고하는데 경주월드 가려고했는데 시외버스 첫차는 너무 늦고 경...</td>\n",
       "    </tr>\n",
       "    <tr>\n",
       "      <th>22</th>\n",
       "      <td>혼자여행... 전주와 경주 중 어디가 더 좋을까요..</td>\n",
       "      <td>https://kin.naver.com/qna/detail.naver?d1id=9&amp;...</td>\n",
       "      <td>안녕하세요 전 경기도에 살고 있고 내일 전주 아니면 경주 여행을 할까 합니다. 혼자...</td>\n",
       "    </tr>\n",
       "    <tr>\n",
       "      <th>23</th>\n",
       "      <td>전주에서 경주 2박3일 역사기행...</td>\n",
       "      <td>https://kin.naver.com/qna/detail.naver?d1id=12...</td>\n",
       "      <td>전주에서 경주로 2박3일 역사기행을 하려고합니다.. 동아리에서 가는건데..인원은 1...</td>\n",
       "    </tr>\n",
       "    <tr>\n",
       "      <th>24</th>\n",
       "      <td>결혼 1주년 기념으로 경주 여행을 가려는데 추천해주실...</td>\n",
       "      <td>https://kin.naver.com/qna/detail.naver?d1id=9&amp;...</td>\n",
       "      <td>... 선배가 아니라 죄송하고요 ^^ 여행을 좋아하는 관계로 몇 자 적어봅니다.^^...</td>\n",
       "    </tr>\n",
       "    <tr>\n",
       "      <th>25</th>\n",
       "      <td>전주한옥마을 한복 매매하려면?</td>\n",
       "      <td>https://kin.naver.com/qna/detail.naver?d1id=12...</td>\n",
       "      <td>1.전주에서 파는 그런 한복을 아주 사고 싶은데 대여말고 살 수 있을까요? 2.산다...</td>\n",
       "    </tr>\n",
       "    <tr>\n",
       "      <th>26</th>\n",
       "      <td>전주-경주 캐스퍼로 운전해서 가도 문제 없을까요?</td>\n",
       "      <td>https://kin.naver.com/qna/detail.naver?d1id=8&amp;...</td>\n",
       "      <td>엄마랑 저랑 둘이서 경주여행 다녀오려고 하는데요 고속도로 운전해서 가야되니까 걱정을...</td>\n",
       "    </tr>\n",
       "    <tr>\n",
       "      <th>27</th>\n",
       "      <td>경주 2박여행 스케즐...</td>\n",
       "      <td>https://kin.naver.com/qna/detail.naver?d1id=12...</td>\n",
       "      <td>... 경주여행 갔다오니 아이들이 좋아해서 힘들어도 위안이 되었네요. 조금이나마 경...</td>\n",
       "    </tr>\n",
       "    <tr>\n",
       "      <th>28</th>\n",
       "      <td>경주 여행 어때요!?</td>\n",
       "      <td>https://kin.naver.com/qna/detail.naver?d1id=12...</td>\n",
       "      <td>... 경주 여행이 처음이신 분들을 위한 경주 시내 필수 코스 (경주 1박2일, 경...</td>\n",
       "    </tr>\n",
       "    <tr>\n",
       "      <th>29</th>\n",
       "      <td>우리나라에서 여행 가기 좋은 곳</td>\n",
       "      <td>https://kin.naver.com/qna/detail.naver?d1id=9&amp;...</td>\n",
       "      <td>1번 서울 11번남해 20번 전주 30남양주 40번 수원 50번 영주 2번 광주.....</td>\n",
       "    </tr>\n",
       "  </tbody>\n",
       "</table>\n",
       "</div>"
      ],
      "text/plain": [
       "                                title  \\\n",
       "0                          전주,경주 여행코스   \n",
       "1      경주여행 무박1일로 가능한 코스좀...(전주에서 출발)   \n",
       "2                      전주 안동 경주 여행 계절   \n",
       "3                    전주에서 경주 여행가려고하는데   \n",
       "4                         경주 여행 1박 2일   \n",
       "5                경주여행 준비좀 도와주세요 ...ㅜㅜ   \n",
       "6                        경주여행코스 알려주세요   \n",
       "7                    경주 여행코스 좀 추천해주세요   \n",
       "8              경주여행 코스 부탁드립니다.(내공100)   \n",
       "9                경주여행 2박3일 코스좀 부탁드립니다   \n",
       "10          경주 여행 가는 데 맛집 추천 부탁드려요~!!   \n",
       "11                     경주 여행 질문 드립니다.   \n",
       "12                              경주여행!   \n",
       "13                     경주 여행코스 질문합니다!   \n",
       "14             경주여행이 좋을까요 전주여행이 좋을까요?   \n",
       "15                        경주여행하려고합니다.   \n",
       "16            1박2일 경주여행을가려합니다.도와주세요..   \n",
       "17               경주와 전주 함께 여행하려고 하는데요   \n",
       "18              (내공팍팍) 경주여행 당일 코스좀 ^^   \n",
       "19                              경주 여행   \n",
       "20             경주여행을 가려고 하는데 기차질문이요!!   \n",
       "21                전주&lt;-&gt;경주 왕복 질문   \n",
       "22      혼자여행... 전주와 경주 중 어디가 더 좋을까요..   \n",
       "23               전주에서 경주 2박3일 역사기행...   \n",
       "24  결혼 1주년 기념으로 경주 여행을 가려는데 추천해주실...    \n",
       "25                   전주한옥마을 한복 매매하려면?   \n",
       "26        전주-경주 캐스퍼로 운전해서 가도 문제 없을까요?   \n",
       "27                     경주 2박여행 스케즐...   \n",
       "28                        경주 여행 어때요!?   \n",
       "29                  우리나라에서 여행 가기 좋은 곳   \n",
       "\n",
       "                                                 link  \\\n",
       "0   https://kin.naver.com/qna/detail.naver?d1id=9&...   \n",
       "1   https://kin.naver.com/qna/detail.naver?d1id=9&...   \n",
       "2   https://kin.naver.com/qna/detail.naver?d1id=9&...   \n",
       "3   https://kin.naver.com/qna/detail.naver?d1id=9&...   \n",
       "4   https://kin.naver.com/qna/detail.naver?d1id=9&...   \n",
       "5   https://kin.naver.com/qna/detail.naver?d1id=4&...   \n",
       "6   https://kin.naver.com/qna/detail.naver?d1id=9&...   \n",
       "7   https://kin.naver.com/qna/detail.naver?d1id=9&...   \n",
       "8   https://kin.naver.com/qna/detail.naver?d1id=12...   \n",
       "9   https://kin.naver.com/qna/detail.naver?d1id=12...   \n",
       "10  https://kin.naver.com/qna/detail.naver?d1id=8&...   \n",
       "11  https://kin.naver.com/qna/detail.naver?d1id=9&...   \n",
       "12  https://kin.naver.com/qna/detail.naver?d1id=9&...   \n",
       "13  https://kin.naver.com/qna/detail.naver?d1id=9&...   \n",
       "14  https://kin.naver.com/qna/detail.naver?d1id=9&...   \n",
       "15  https://kin.naver.com/qna/detail.naver?d1id=9&...   \n",
       "16  https://kin.naver.com/qna/detail.naver?d1id=12...   \n",
       "17  https://kin.naver.com/qna/detail.naver?d1id=9&...   \n",
       "18  https://kin.naver.com/qna/detail.naver?d1id=12...   \n",
       "19  https://kin.naver.com/qna/detail.naver?d1id=9&...   \n",
       "20  https://kin.naver.com/qna/detail.naver?d1id=8&...   \n",
       "21  https://kin.naver.com/qna/detail.naver?d1id=9&...   \n",
       "22  https://kin.naver.com/qna/detail.naver?d1id=9&...   \n",
       "23  https://kin.naver.com/qna/detail.naver?d1id=12...   \n",
       "24  https://kin.naver.com/qna/detail.naver?d1id=9&...   \n",
       "25  https://kin.naver.com/qna/detail.naver?d1id=12...   \n",
       "26  https://kin.naver.com/qna/detail.naver?d1id=8&...   \n",
       "27  https://kin.naver.com/qna/detail.naver?d1id=12...   \n",
       "28  https://kin.naver.com/qna/detail.naver?d1id=12...   \n",
       "29  https://kin.naver.com/qna/detail.naver?d1id=9&...   \n",
       "\n",
       "                                          description  \n",
       "0   ... 올 가을에 일주일정도 여행을 가려고 해요 서울에서 경주랑 전주에 다녀오려고 ...  \n",
       "1   26일 전주에서 단일로 경주여행을 하고자 합니다. 전주에서는25일 늦은 밤이나 새벽...  \n",
       "2   전주 안동 경주 이번 년도에 혼자 여행 다녀올 예정인데 각각 여행 다녀 올 계절 좀...  \n",
       "3   전주에서 경주 여행가려고하는데 버스가 나을까요 기차가 나을까요? 또 기차로 가는 방...  \n",
       "4   4월 8일 일찍 가서 9일날 늦게 돌아오려고 하는데요 출발은 전주에서 하구요 숙소는...  \n",
       "5   ... 경주여행하면 떡갈비가 유명하다고 하는데 저희가 예전에 전주에서 유명한 한정식...  \n",
       "6   ... 출발지는 대전 아니면 전주쪽이 될거같구요.... ^^ 자가용을 이용하려고해요...  \n",
       "7   ... 메타세콰이어길 전주 막걸리투어 뭐 이런식으로요 일단 하루는 경주 내에 자체 ...  \n",
       "8   경주여행 코스 부탁드립니다. 말 그대로 코스를 부탁드립니다. 4월30일 새벽에......  \n",
       "9   11월 11일 부터 이박삼일동안 경주여행을 할려구 합니다 아마 경주는 오전... 싶...  \n",
       "10  ... 모르겠더라구요 전주 여행갔을 때 맛집 블로그 검색해서 갔었는데 진짜 별로여서...  \n",
       "11  이번 4/2~4/3일 경주로 벚꽃 여행을 가기로 했습니다. 경기도에서 출발하는 1박...  \n",
       "12  전주에서 버스나 기차타고 경주로 당일치기 여행 가능 할까요?? 그럼요! 당일치기 충...  \n",
       "13  강아지와 함께 토일 동반여행을 가게되었는데 전주에서 출발해요 코스 꼬이지안고 애견펜...  \n",
       "14  1박2일로 놀려는데 어디가 좋을까요? 아님 다른곳이라도 추천해주새요 개인적으로 볼거...  \n",
       "15  제가 경주여행을하려고 하는데요~ 경주에 거주하시거나 경주를 잘... 전 청주에있고 ...  \n",
       "16  ... 5학년 딸아이와 전주에서 차로 경주 1박2일(10월9일~10일)을 여행하려합...  \n",
       "17  ... (전주에서 경주가기가 어려워요...) 다음은 여행코스입니다 우선 경주 가볼만...  \n",
       "18  안녕하세요^^ 경주 당일 여행 코스좀 추천해주세요^^ㅎㅎ 출발은 전주에서 할꺼구요....  \n",
       "19  경주 7월 8월쯤에 가면 타지역에 비해서 많이 더운가요? 아직 경주로 완전히 정한건...  \n",
       "20  전주역 &gt; 익산역 &gt; 오송역 &gt; 신경주역 이렇게 기차를 타고 가려고...  \n",
       "21  당일치기로 경주여행 가려고하는데 경주월드 가려고했는데 시외버스 첫차는 너무 늦고 경...  \n",
       "22  안녕하세요 전 경기도에 살고 있고 내일 전주 아니면 경주 여행을 할까 합니다. 혼자...  \n",
       "23  전주에서 경주로 2박3일 역사기행을 하려고합니다.. 동아리에서 가는건데..인원은 1...  \n",
       "24  ... 선배가 아니라 죄송하고요 ^^ 여행을 좋아하는 관계로 몇 자 적어봅니다.^^...  \n",
       "25  1.전주에서 파는 그런 한복을 아주 사고 싶은데 대여말고 살 수 있을까요? 2.산다...  \n",
       "26  엄마랑 저랑 둘이서 경주여행 다녀오려고 하는데요 고속도로 운전해서 가야되니까 걱정을...  \n",
       "27  ... 경주여행 갔다오니 아이들이 좋아해서 힘들어도 위안이 되었네요. 조금이나마 경...  \n",
       "28  ... 경주 여행이 처음이신 분들을 위한 경주 시내 필수 코스 (경주 1박2일, 경...  \n",
       "29  1번 서울 11번남해 20번 전주 30남양주 40번 수원 50번 영주 2번 광주.....  "
      ]
     },
     "execution_count": 4,
     "metadata": {},
     "output_type": "execute_result"
    }
   ],
   "source": [
    "import requests\n",
    "import pandas as pd\n",
    "import json # response 텍스트를 json 딕셔너리로\n",
    "client_id = 'RgKYwTbMqCx5s9yGYqsT'\n",
    "client_secret = '1INoZ2YkcD'\n",
    "query = '경주여행','전주여행'\n",
    "items_list = []\n",
    "url = f'https://openapi.naver.com/v1/search/kin.json?query={query}&display=30'\n",
    "headers = {\"X-Naver-Client-Id\" : client_id,\n",
    "          \"X-Naver-Client-Secret\" : client_secret}\n",
    "response = requests.get(url, headers=headers)\n",
    "# print(response.text[:500])\n",
    "items = json.loads(response.text)['items']\n",
    "# len(items)\n",
    "for item in items:\n",
    "    # print(item)\n",
    "    title = item['title'].replace('<b>','').replace('</b>','')\n",
    "    link = item['link']\n",
    "    description = item['description'].replace('<b>','').replace('</b>','')\n",
    "    items_list.append([title, link, description])\n",
    "pd.DataFrame(items_list, columns=['title', 'link', 'description'])"
   ]
  },
  {
   "cell_type": "code",
   "execution_count": 32,
   "id": "cae6e1b6",
   "metadata": {
    "ExecuteTime": {
     "end_time": "2024-12-30T08:08:52.687583Z",
     "start_time": "2024-12-30T08:08:52.679586Z"
    }
   },
   "outputs": [],
   "source": [
    "def get_intellect_list(query):\n",
    "    import requests\n",
    "    import json \n",
    "    import pandas as pd\n",
    "    client_id = \"lCl5wdVFNY5CDZLC_OFT\"\n",
    "    client_secret = \"QCFpUZzi6G\"\n",
    "    items_list = []\n",
    "    url = f'https://openapi.naver.com/v1/search/kin.json?query={query}&display=100'\n",
    "    headers = {\"X-Naver-Client-Id\" : client_id,\n",
    "             \"X-Naver-Client-Secret\" : client_secret}\n",
    "    response = requests.get(url, headers=headers)\n",
    "    items = json.loads(response.text)['items']\n",
    "    for idx,item in enumerate(items):\n",
    "        title = item['title'].replace('<b>','').replace('</b>','')\n",
    "        link = item['link']\n",
    "        description = item['description'].replace('<b>','').replace('</b>','')\n",
    "        items_list.append({'제목': title,\n",
    "                          '링크' : link,\n",
    "                          '본문' : description})\n",
    "    result = pd.DataFrame(items_list)\n",
    "#     result.to_csv()\n",
    "    return result"
   ]
  },
  {
   "cell_type": "code",
   "execution_count": 5,
   "id": "603c4155",
   "metadata": {
    "ExecuteTime": {
     "end_time": "2024-12-30T08:14:24.250107Z",
     "start_time": "2024-12-30T08:14:24.245109Z"
    }
   },
   "outputs": [],
   "source": [
    "from requests import get\n",
    "import time\n",
    "import os\n",
    "import json\n",
    "from html import unescape  # &lt; -> <, &gt; -> >\n",
    "import pandas as pd"
   ]
  },
  {
   "cell_type": "code",
   "execution_count": 6,
   "id": "beca569f",
   "metadata": {
    "ExecuteTime": {
     "end_time": "2024-12-30T08:16:21.641851Z",
     "start_time": "2024-12-30T08:16:21.636252Z"
    }
   },
   "outputs": [],
   "source": [
    "# 네이버 API 계정 정보\n",
    "client_id = 'RgKYwTbMqCx5s9yGYqsT'\n",
    "client_secret = '1INoZ2YkcD'\n",
    "queries = ['전주 여행', '경주 여행']\n",
    "max_start = 5  # 5페이지만큼"
   ]
  },
  {
   "cell_type": "code",
   "execution_count": 20,
   "id": "d6007806",
   "metadata": {
    "ExecuteTime": {
     "end_time": "2024-12-30T08:28:57.451271Z",
     "start_time": "2024-12-30T08:28:57.372955Z"
    }
   },
   "outputs": [
    {
     "name": "stdout",
     "output_type": "stream",
     "text": [
      "{\n",
      "\t\"lastBuildDate\":\"Mon, 30 Dec 2024 17:28:48 +0900\",\n",
      "\t\"total\":1130105,\n",
      "\t\"start\":1,\n",
      "\t\"display\":100,\n",
      "\t\"items\":[\n"
     ]
    }
   ],
   "source": [
    "query = '전주 여행'\n",
    "start = 0\n",
    "headers = {'X-Naver-Client-Id' : client_id, 'X-Naver-Client-Secret' : client_secret}\n",
    "url = f'https://openapi.naver.com/v1/search/blog.json?query={query}&display=100&start={start+1}'\n",
    "response = get(url, headers=headers)\n",
    "# print(response.text)"
   ]
  },
  {
   "cell_type": "code",
   "execution_count": 21,
   "id": "48c9e6bf",
   "metadata": {
    "ExecuteTime": {
     "end_time": "2024-12-30T08:29:19.162612Z",
     "start_time": "2024-12-30T08:29:19.156612Z"
    }
   },
   "outputs": [],
   "source": [
    "# 데이터를 저장할 파일 생성 (파일명:naver_kin.txt)하고 title 저장\n",
    "file_name = 'data/naver_kin.txt'\n",
    "with open(file_name, 'w', encoding='utf-8') as file:\n",
    "    file.write('{}\\t{}\\t{}\\t{}\\t{}\\t{}\\n'.format('query', 'no', 'title', 'link', 'description', 'total_text'))"
   ]
  },
  {
   "cell_type": "code",
   "execution_count": 25,
   "id": "ff36c714",
   "metadata": {
    "ExecuteTime": {
     "end_time": "2024-12-30T08:38:20.453904Z",
     "start_time": "2024-12-30T08:38:20.447906Z"
    }
   },
   "outputs": [
    {
     "data": {
      "text/plain": [
       "{'title': '<b>전주</b> 1박2일 <b>여행</b> 호텔 추천 <b>전주</b> 신라스테이 조식 위치 맛집',\n",
       " 'link': 'https://blog.naver.com/jangrose5932/223701851243',\n",
       " 'description': '전주가 처음인 엄마를 위해 맛집부터 호텔까지 꼼꼼하게 준비했는데요, 저희의 1박2일 여행이 여러분의 <b>전주 여행</b> 계획에도 도움이 되길 바랍니다 :) 1. 전주 호텔 위치 여행의 즐거움을 두 배로 만드는건 바로... ',\n",
       " 'bloggername': '여행 인플루언서 서아름아❣️',\n",
       " 'bloggerlink': 'blog.naver.com/jangrose5932',\n",
       " 'postdate': '20241222'}"
      ]
     },
     "execution_count": 25,
     "metadata": {},
     "output_type": "execute_result"
    }
   ],
   "source": [
    "elements = json.loads(response.text)['items']\n",
    "elements[0]"
   ]
  },
  {
   "cell_type": "code",
   "execution_count": 31,
   "id": "374856c2",
   "metadata": {
    "ExecuteTime": {
     "end_time": "2024-12-30T08:50:53.698194Z",
     "start_time": "2024-12-30T08:50:53.649188Z"
    }
   },
   "outputs": [],
   "source": [
    "for i, element in enumerate(elements):\n",
    "    title = element['title'].replace('<b>', ' ').replace('</b>', ' ')\n",
    "    link = element['link']\n",
    "    description = element['description'].replace('<b>', ' ').replace('</b>', ' ')\n",
    "    description = unescape(description)  # html 특수문자 처리(&lt;를 <로 대체)\n",
    "    # print(query, (start*100 + i + 1), title, link, description, title + ' ' + description)\n",
    "    with open(file_name, 'a', encoding='utf-8') as file:\n",
    "        file.write('{}\\t{}\\t{}\\t{}\\t{}\\t{}\\n'.format(query,\n",
    "                                                     start*100 + i + 1,\n",
    "                                                     title,\n",
    "                                                     link,\n",
    "                                                     description,\n",
    "                                                     title + ' ' + description))"
   ]
  },
  {
   "cell_type": "code",
   "execution_count": 32,
   "id": "3ff5378c",
   "metadata": {
    "ExecuteTime": {
     "end_time": "2024-12-30T08:52:51.098971Z",
     "start_time": "2024-12-30T08:52:50.976579Z"
    }
   },
   "outputs": [
    {
     "data": {
      "text/html": [
       "<div>\n",
       "<style scoped>\n",
       "    .dataframe tbody tr th:only-of-type {\n",
       "        vertical-align: middle;\n",
       "    }\n",
       "\n",
       "    .dataframe tbody tr th {\n",
       "        vertical-align: top;\n",
       "    }\n",
       "\n",
       "    .dataframe thead th {\n",
       "        text-align: right;\n",
       "    }\n",
       "</style>\n",
       "<table border=\"1\" class=\"dataframe\">\n",
       "  <thead>\n",
       "    <tr style=\"text-align: right;\">\n",
       "      <th></th>\n",
       "      <th>query</th>\n",
       "      <th>no</th>\n",
       "      <th>title</th>\n",
       "      <th>link</th>\n",
       "      <th>description</th>\n",
       "      <th>total_text</th>\n",
       "    </tr>\n",
       "  </thead>\n",
       "  <tbody>\n",
       "    <tr>\n",
       "      <th>0</th>\n",
       "      <td>전주 여행</td>\n",
       "      <td>1</td>\n",
       "      <td>전주  1박2일  여행  호텔 추천  전주  신라스테이 조식 위치 맛집</td>\n",
       "      <td>https://blog.naver.com/jangrose5932/223701851243</td>\n",
       "      <td>전주가 처음인 엄마를 위해 맛집부터 호텔까지 꼼꼼하게 준비했는데요, 저희의 1박2일...</td>\n",
       "      <td>전주  1박2일  여행  호텔 추천  전주  신라스테이 조식 위치 맛집 전주가 처...</td>\n",
       "    </tr>\n",
       "    <tr>\n",
       "      <th>1</th>\n",
       "      <td>전주 여행</td>\n",
       "      <td>2</td>\n",
       "      <td>전주 가성비호텔, 아기랑  전주여행 숙소, 글로스터호텔</td>\n",
       "      <td>https://blog.naver.com/jinha1210/223702923938</td>\n",
       "      <td>이번 결혼기념일에 밥만먹고 지나간게 아쉬워 급  전주여행 을 떠났다. 당일이라기엔 ...</td>\n",
       "      <td>전주 가성비호텔, 아기랑  전주여행 숙소, 글로스터호텔 이번 결혼기념일에 밥만먹고 ...</td>\n",
       "    </tr>\n",
       "    <tr>\n",
       "      <th>2</th>\n",
       "      <td>전주 여행</td>\n",
       "      <td>3</td>\n",
       "      <td>전주  가족 여행  숙소, 한옥마을 둘러보기</td>\n",
       "      <td>https://blog.naver.com/shs4wd/223701165304</td>\n",
       "      <td>지금 어딜 가야 해서 숙소와 진안 여행은 다음 편에서 계속할게요. # 전주여행  #...</td>\n",
       "      <td>전주  가족 여행  숙소, 한옥마을 둘러보기 지금 어딜 가야 해서 숙소와 진안 여...</td>\n",
       "    </tr>\n",
       "    <tr>\n",
       "      <th>3</th>\n",
       "      <td>전주 여행</td>\n",
       "      <td>4</td>\n",
       "      <td>전주여행  : 전주향교, 한옥마을, 카페 차경, 수목원</td>\n",
       "      <td>https://blog.naver.com/ruixian/223673555966</td>\n",
       "      <td>전북  전주여행  2024.11.16 전주는 이번이 두번째 작년 3월에 갔을 땐 일...</td>\n",
       "      <td>전주여행  : 전주향교, 한옥마을, 카페 차경, 수목원 전북  전주여행  2024...</td>\n",
       "    </tr>\n",
       "    <tr>\n",
       "      <th>4</th>\n",
       "      <td>전주 여행</td>\n",
       "      <td>5</td>\n",
       "      <td>전주여행  가볼만한곳 덕진공원 단풍 연화정 도서관</td>\n",
       "      <td>https://blog.naver.com/party_tasty/223660656292</td>\n",
       "      <td>전주 덕진공원  전주여행 은 많이 왔었는데 전주 덕진공원은 처음이라니! 알고보니 전...</td>\n",
       "      <td>전주여행  가볼만한곳 덕진공원 단풍 연화정 도서관 전주 덕진공원  전주여행 은 많...</td>\n",
       "    </tr>\n",
       "  </tbody>\n",
       "</table>\n",
       "</div>"
      ],
      "text/plain": [
       "   query  no                                     title  \\\n",
       "0  전주 여행   1   전주  1박2일  여행  호텔 추천  전주  신라스테이 조식 위치 맛집   \n",
       "1  전주 여행   2            전주 가성비호텔, 아기랑  전주여행 숙소, 글로스터호텔   \n",
       "2  전주 여행   3                  전주  가족 여행  숙소, 한옥마을 둘러보기   \n",
       "3  전주 여행   4            전주여행  : 전주향교, 한옥마을, 카페 차경, 수목원   \n",
       "4  전주 여행   5               전주여행  가볼만한곳 덕진공원 단풍 연화정 도서관   \n",
       "\n",
       "                                               link  \\\n",
       "0  https://blog.naver.com/jangrose5932/223701851243   \n",
       "1     https://blog.naver.com/jinha1210/223702923938   \n",
       "2        https://blog.naver.com/shs4wd/223701165304   \n",
       "3       https://blog.naver.com/ruixian/223673555966   \n",
       "4   https://blog.naver.com/party_tasty/223660656292   \n",
       "\n",
       "                                         description  \\\n",
       "0  전주가 처음인 엄마를 위해 맛집부터 호텔까지 꼼꼼하게 준비했는데요, 저희의 1박2일...   \n",
       "1  이번 결혼기념일에 밥만먹고 지나간게 아쉬워 급  전주여행 을 떠났다. 당일이라기엔 ...   \n",
       "2  지금 어딜 가야 해서 숙소와 진안 여행은 다음 편에서 계속할게요. # 전주여행  #...   \n",
       "3  전북  전주여행  2024.11.16 전주는 이번이 두번째 작년 3월에 갔을 땐 일...   \n",
       "4  전주 덕진공원  전주여행 은 많이 왔었는데 전주 덕진공원은 처음이라니! 알고보니 전...   \n",
       "\n",
       "                                          total_text  \n",
       "0   전주  1박2일  여행  호텔 추천  전주  신라스테이 조식 위치 맛집 전주가 처...  \n",
       "1  전주 가성비호텔, 아기랑  전주여행 숙소, 글로스터호텔 이번 결혼기념일에 밥만먹고 ...  \n",
       "2   전주  가족 여행  숙소, 한옥마을 둘러보기 지금 어딜 가야 해서 숙소와 진안 여...  \n",
       "3   전주여행  : 전주향교, 한옥마을, 카페 차경, 수목원 전북  전주여행  2024...  \n",
       "4   전주여행  가볼만한곳 덕진공원 단풍 연화정 도서관 전주 덕진공원  전주여행 은 많...  "
      ]
     },
     "execution_count": 32,
     "metadata": {},
     "output_type": "execute_result"
    }
   ],
   "source": [
    "df = pd.read_csv('data/naver_kin.txt', sep='\\t')\n",
    "df.head()"
   ]
  },
  {
   "cell_type": "code",
   "execution_count": 1,
   "id": "82b9e89a",
   "metadata": {
    "ExecuteTime": {
     "end_time": "2024-12-31T00:37:15.950932Z",
     "start_time": "2024-12-31T00:37:15.075406Z"
    }
   },
   "outputs": [],
   "source": [
    "from requests import get\n",
    "import time\n",
    "import os\n",
    "import json\n",
    "from html import unescape # &lt; -> <, &gt; -> >\n",
    "import pandas as pd"
   ]
  },
  {
   "cell_type": "code",
   "execution_count": 2,
   "id": "5dc88498",
   "metadata": {
    "ExecuteTime": {
     "end_time": "2024-12-31T00:37:17.849458Z",
     "start_time": "2024-12-31T00:37:17.843458Z"
    }
   },
   "outputs": [],
   "source": [
    "# 네이버 API 계정 정보\n",
    "client_id = 'RgKYwTbMqCx5s9yGYqsT'\n",
    "client_secret = '1INoZ2YkcD'\n",
    "queries = ['전주 여행', '경주 여행']\n",
    "max_start = 5  # 5페이지만큼"
   ]
  },
  {
   "cell_type": "code",
   "execution_count": 3,
   "id": "814635e1",
   "metadata": {
    "ExecuteTime": {
     "end_time": "2024-12-31T00:37:18.381461Z",
     "start_time": "2024-12-31T00:37:18.371465Z"
    }
   },
   "outputs": [],
   "source": [
    "def get_search_element_save(query, start):\n",
    "    headers = {'X-Naver-Client-Id' : client_id, 'X-Naver-Client-Secret' : client_secret}\n",
    "    url = f'https://openapi.naver.com/v1/search/kin.json?query={query}&display=100&start={start+1}'\n",
    "    response = get(url, headers=headers)\n",
    "    elements = json.loads(response.text)['items']\n",
    "    for i, element in enumerate(elements):\n",
    "        title = element['title'].replace('<b>', ' ').replace('</b>', ' ')\n",
    "        link = element['link']\n",
    "        description = element['description'].replace('<b>', ' ').replace('</b>', ' ')\n",
    "        description = unescape(description)  # html 특수문자 처리(&lt;를 <로 대체)\n",
    "        # print(query, (start*100 + i + 1), title, link, description, title + ' ' + description)\n",
    "        with open(file_name, 'a', encoding='utf-8') as file:\n",
    "            file.write('{}\\t{}\\t{}\\t{}\\t{}\\t{}\\n'.format(query,\n",
    "                                                         start*100 + i + 1,\n",
    "                                                         title,\n",
    "                                                         link,\n",
    "                                                         description,\n",
    "                                                         title + ' ' + description))"
   ]
  },
  {
   "cell_type": "code",
   "execution_count": 4,
   "id": "3c6bdb17",
   "metadata": {
    "ExecuteTime": {
     "end_time": "2024-12-31T00:37:36.260865Z",
     "start_time": "2024-12-31T00:37:36.252867Z"
    }
   },
   "outputs": [],
   "source": [
    "# 데이터를 저장할 파일 생성 (파일명:naver_kin.txt)하고 title 저장\n",
    "file_name = 'data/naver_kin.txt'\n",
    "with open(file_name, 'w', encoding='utf-8') as file:\n",
    "    file.write('{}\\t{}\\t{}\\t{}\\t{}\\t{}\\n'.format('query', 'no', 'title', 'link', 'description', 'total_text'))"
   ]
  },
  {
   "cell_type": "code",
   "execution_count": 7,
   "id": "d6d96ce0",
   "metadata": {
    "ExecuteTime": {
     "end_time": "2024-12-31T00:43:02.720055Z",
     "start_time": "2024-12-31T00:42:58.057309Z"
    }
   },
   "outputs": [
    {
     "name": "stdout",
     "output_type": "stream",
     "text": [
      "0 전주 여행 읽고 파일 쓰기 중\n",
      "1 전주 여행 읽고 파일 쓰기 중\n",
      "2 전주 여행 읽고 파일 쓰기 중\n",
      "3 전주 여행 읽고 파일 쓰기 중\n",
      "4 전주 여행 읽고 파일 쓰기 중\n",
      "0 경주 여행 읽고 파일 쓰기 중\n",
      "1 경주 여행 읽고 파일 쓰기 중\n",
      "2 경주 여행 읽고 파일 쓰기 중\n",
      "3 경주 여행 읽고 파일 쓰기 중\n",
      "4 경주 여행 읽고 파일 쓰기 중\n"
     ]
    }
   ],
   "source": [
    "for query in queries:\n",
    "    for start in range(max_start):\n",
    "        print(start, query, '읽고 파일 쓰기 중')\n",
    "        get_search_element_save(query, start)\n",
    "        time.sleep(0.3)"
   ]
  },
  {
   "cell_type": "markdown",
   "id": "b9cb3dd5",
   "metadata": {},
   "source": [
    "# 2. 품사 태깅 저장"
   ]
  },
  {
   "cell_type": "code",
   "execution_count": 8,
   "id": "0d0c0351",
   "metadata": {
    "ExecuteTime": {
     "end_time": "2024-12-31T00:46:57.719336Z",
     "start_time": "2024-12-31T00:46:57.638144Z"
    }
   },
   "outputs": [
    {
     "data": {
      "text/html": [
       "<div>\n",
       "<style scoped>\n",
       "    .dataframe tbody tr th:only-of-type {\n",
       "        vertical-align: middle;\n",
       "    }\n",
       "\n",
       "    .dataframe tbody tr th {\n",
       "        vertical-align: top;\n",
       "    }\n",
       "\n",
       "    .dataframe thead th {\n",
       "        text-align: right;\n",
       "    }\n",
       "</style>\n",
       "<table border=\"1\" class=\"dataframe\">\n",
       "  <thead>\n",
       "    <tr style=\"text-align: right;\">\n",
       "      <th></th>\n",
       "      <th>query</th>\n",
       "      <th>no</th>\n",
       "      <th>title</th>\n",
       "      <th>link</th>\n",
       "      <th>description</th>\n",
       "      <th>total_text</th>\n",
       "    </tr>\n",
       "  </thead>\n",
       "  <tbody>\n",
       "    <tr>\n",
       "      <th>87</th>\n",
       "      <td>전주 여행</td>\n",
       "      <td>88</td>\n",
       "      <td>전주 여행 코스!!!</td>\n",
       "      <td>https://kin.naver.com/qna/detail.naver?d1id=9&amp;...</td>\n",
       "      <td>... 이미  전주여행 을 마치고 복귀하셨을 것 같네요. ^^ 저희도 지난주에 당일...</td>\n",
       "      <td>전주 여행 코스!!! ... 이미  전주여행 을 마치고 복귀하셨을 것 같네요. ^...</td>\n",
       "    </tr>\n",
       "  </tbody>\n",
       "</table>\n",
       "</div>"
      ],
      "text/plain": [
       "    query  no         title  \\\n",
       "87  전주 여행  88   전주 여행 코스!!!   \n",
       "\n",
       "                                                 link  \\\n",
       "87  https://kin.naver.com/qna/detail.naver?d1id=9&...   \n",
       "\n",
       "                                          description  \\\n",
       "87  ... 이미  전주여행 을 마치고 복귀하셨을 것 같네요. ^^ 저희도 지난주에 당일...   \n",
       "\n",
       "                                           total_text  \n",
       "87   전주 여행 코스!!! ... 이미  전주여행 을 마치고 복귀하셨을 것 같네요. ^...  "
      ]
     },
     "execution_count": 8,
     "metadata": {},
     "output_type": "execute_result"
    }
   ],
   "source": [
    "df = pd.read_csv('data/naver_kin.txt', sep='\\t')\n",
    "df.sample()"
   ]
  },
  {
   "cell_type": "code",
   "execution_count": 9,
   "id": "5f7bc3a1",
   "metadata": {
    "ExecuteTime": {
     "end_time": "2024-12-31T00:47:25.126789Z",
     "start_time": "2024-12-31T00:47:25.109533Z"
    }
   },
   "outputs": [
    {
     "name": "stdout",
     "output_type": "stream",
     "text": [
      "<class 'pandas.core.frame.DataFrame'>\n",
      "RangeIndex: 1000 entries, 0 to 999\n",
      "Data columns (total 6 columns):\n",
      " #   Column       Non-Null Count  Dtype \n",
      "---  ------       --------------  ----- \n",
      " 0   query        1000 non-null   object\n",
      " 1   no           1000 non-null   int64 \n",
      " 2   title        1000 non-null   object\n",
      " 3   link         1000 non-null   object\n",
      " 4   description  1000 non-null   object\n",
      " 5   total_text   1000 non-null   object\n",
      "dtypes: int64(1), object(5)\n",
      "memory usage: 47.0+ KB\n"
     ]
    }
   ],
   "source": [
    "df.info()"
   ]
  },
  {
   "cell_type": "code",
   "execution_count": 13,
   "id": "0efc822a",
   "metadata": {
    "ExecuteTime": {
     "end_time": "2024-12-31T00:50:59.889683Z",
     "start_time": "2024-12-31T00:50:59.884684Z"
    }
   },
   "outputs": [
    {
     "name": "stdout",
     "output_type": "stream",
     "text": [
      "query\n",
      "no\n",
      "title\n",
      "link\n",
      "description\n",
      "total_text\n"
     ]
    }
   ],
   "source": [
    "# 데이터프레임에 for문 사용 시 컬럼명만 적용됨\n",
    "for row in df:\n",
    "    print(row)"
   ]
  },
  {
   "cell_type": "code",
   "execution_count": 19,
   "id": "08b4f12d",
   "metadata": {
    "ExecuteTime": {
     "end_time": "2024-12-31T00:54:44.169490Z",
     "start_time": "2024-12-31T00:54:44.162493Z"
    }
   },
   "outputs": [
    {
     "name": "stdout",
     "output_type": "stream",
     "text": [
      "<class 'list'>\n",
      "[['전주 여행', 1, ' 전주여행  대중교통이랑 렌트카중 어떤게 좋을까요? ...  전주여행 때 움직이기 차가 편할지 대중교통이 편할지 알려주세요. 교통 상황이 어떤지 궁금합니다.  전주여행  전주맛집 국내여행 전주달봉이 달봉티비  전주여행 코스 전주가볼만한곳 여수여행 여수가볼만한곳 제주도여행... '], ['전주 여행', 251, '내일  전주  당일치기 부모님과  여행 을 ...  전주여행  전주맛집 국내여행 전주달봉이 달봉티비  전주여행 코스 전주가볼만한곳 여수여행 여수가볼만한곳 제주도여행 제주도가볼만한곳 여행 전문 인플루언서 전주달봉이입니다. 바다는 군산 새만금 돌아보시면... '], ['경주 여행', 1, '추석에  경주 여행  추석에  경주 여행  가는거 어떻게 생각하시나요? 서울에서 버스를 타고 갈 경우, 버스가 버스전용 차선에서 운행하나요?... 질문하신 [추석  경주여행 ] 관련 답변 드리도록 하겠습니다. 첨성대, 석굴암, 불국사 등 유적지는 연중무휴로... '], ['경주 여행', 251, '[추천해주세요]  경주여행  [추천해주세요]  경주여행  안녕하세요~~ 무계획 이 루트로 이용시 실패없는  경주여행  소개해드릴까 합니다 ㅎㅎ 한번 보시고 마음에 드신다면 채택 부탁드립니다~~']]\n"
     ]
    }
   ],
   "source": [
    "# 데이터프레임에 for문 적용을 위해 list로 형변환\n",
    "df_list = df[['query', 'no', 'total_text']].values.tolist()\n",
    "print(type(df_list))\n",
    "print(df_list[::250])"
   ]
  },
  {
   "cell_type": "code",
   "execution_count": 166,
   "id": "049a8a00",
   "metadata": {
    "ExecuteTime": {
     "end_time": "2024-12-31T03:09:51.071902Z",
     "start_time": "2024-12-31T03:09:51.066922Z"
    }
   },
   "outputs": [],
   "source": [
    "file_name = 'data/naver_kin_pos.csv'\n",
    "with open(file_name, 'w', encoding='cp949') as file:\n",
    "    file.write('{},{},{},{}\\n'.format('query', 'no', 'token', 'pos'))\n",
    "    # cp949로 저장시 '\\t' -> ','"
   ]
  },
  {
   "cell_type": "code",
   "execution_count": 167,
   "id": "6a5e9632",
   "metadata": {
    "ExecuteTime": {
     "end_time": "2024-12-31T03:09:51.237403Z",
     "start_time": "2024-12-31T03:09:51.221778Z"
    }
   },
   "outputs": [],
   "source": [
    "from konlpy.tag import Hannanum, Kkma, Komoran, Twitter, Okt\n",
    "from mecab import MeCab\n",
    "stopwords = ['여행', '전주', '경주']\n",
    "# 원하는 품사 : 일반명사, 고유명사\n",
    "select_pos = ['N']           # Hannanum(ntags=9)\n",
    "# select_pos = ['NC', 'NQ']    # Hannanum(ntags=22)\n",
    "# select_pos = ['NNG', 'NNP']  # Kkma, Komoran, MeCab\n",
    "# select_pos = ['Noun']        # Okt"
   ]
  },
  {
   "cell_type": "code",
   "execution_count": 168,
   "id": "087f5ee8",
   "metadata": {
    "ExecuteTime": {
     "end_time": "2024-12-31T03:09:51.355391Z",
     "start_time": "2024-12-31T03:09:51.339631Z"
    }
   },
   "outputs": [
    {
     "data": {
      "text/plain": [
       "'음  경주  좋아요    진짜 일까    '"
      ]
     },
     "execution_count": 168,
     "metadata": {},
     "output_type": "execute_result"
    }
   ],
   "source": [
    "# ㅠ, 음, ㅋㅋ, ㅎㅎ 제외\n",
    "import re\n",
    "text = '음. 경주ㅎㅎ좋아요 ㅎㅎ 진짜 일까? ㅠㅠ'\n",
    "re.sub('[^가-힣\\s]', ' ', text)  # ^:반대, \\s:space"
   ]
  },
  {
   "cell_type": "code",
   "execution_count": 169,
   "id": "137337b7",
   "metadata": {
    "ExecuteTime": {
     "end_time": "2024-12-31T03:10:04.370081Z",
     "start_time": "2024-12-31T03:09:51.472282Z"
    }
   },
   "outputs": [
    {
     "name": "stdout",
     "output_type": "stream",
     "text": [
      "전주 여행 1 69  전주여행 대중교통이랑 렌트카중 어떤게 좋을까요 전주여행 때 움직이기 차가 편할지 대중교통이 편할지 알려주세요 교통 상황이 어떤지 궁금합니다 전주여행 전주맛집 국내여행 전주달봉이 달봉티비 전주여행 코스 전주가볼만한곳 여수여행 여수가볼만한곳 제주도여행 \n",
      "\n",
      "전주 여행 251 68 내일 전주 당일치기 부모님과 여행 을 전주여행 전주맛집 국내여행 전주달봉이 달봉티비 전주여행 코스 전주가볼만한곳 여수여행 여수가볼만한곳 제주도여행 제주도가볼만한곳 여행 전문 인플루언서 전주달봉이입니다 바다는 군산 새만금 돌아보시면 \n",
      "\n",
      "경주 여행 1 57 추석에 경주 여행 추석에 경주 여행 가는거 어떻게 생각하시나요 서울에서 버스를 타고 갈 경우 버스가 버스전용 차선에서 운행하나요 질문하신 추석 경주여행 관련 답변 드리도록 하겠습니다 첨성대 석굴암 불국사 등 유적지는 연중무휴로 \n",
      "\n",
      "경주 여행 251 50  추천해주세요 경주여행 추천해주세요 경주여행 안녕하세요 무계획 이 루트로 이용시 실패없는 경주여행 소개해드릴까 합니다 한번 보시고 마음에 드신다면 채택 부탁드립니다 \n",
      "\n"
     ]
    }
   ],
   "source": [
    "# pos_tagger = Hannanum()  # 띄어쓰기 단위로 형태소 분석\n",
    "# pos_tagger = Kkma()  # 속도 성능 최저\n",
    "# pos_tagger = MeCab()\n",
    "pos_tagger = Komoran()  # 띄어쓰기를 하지 않아도 최선을 다해 형태소 분석을 함\n",
    "for i, row in enumerate(df_list):\n",
    "    query = row[0]\n",
    "    no    = row[1]\n",
    "    text  = row[2]\n",
    "    # print('수정 전 : ', text)\n",
    "    text = re.sub('[^가-힣\\s]', ' ', text)\n",
    "    text = re.sub('\\s+', ' ', text)\n",
    "    # print('수정 후 : ', text, end='\\n\\n')\n",
    "    text_pos = pos_tagger.pos(text)  # Hannanum (ntags=9)\n",
    "    # text_pos = pos_tagger.pos(text, ntags=22)  # Hannanum (ntags=22)\n",
    "    if i%250 == 0:\n",
    "        print(query, no, len(text_pos), text, end='\\n\\n')\n",
    "    for token, pos in text_pos:\n",
    "        # if token not in stopwords and pos in select_pos and len(token) > 1:  # 명사만 저장\n",
    "        if token not in stopwords and len(token) > 1:  # 모든 품사를 우선 저장\n",
    "            with open(file_name, 'a', encoding='cp949') as file:  # 'a':append\n",
    "                file.write('{},{},{},{}\\n'.format(query, no, token, pos))"
   ]
  },
  {
   "cell_type": "markdown",
   "id": "8f4ba715",
   "metadata": {},
   "source": [
    "# 3. 명사만 추출하여 빈도분석"
   ]
  },
  {
   "cell_type": "code",
   "execution_count": 170,
   "id": "979b9e35",
   "metadata": {
    "ExecuteTime": {
     "end_time": "2024-12-31T03:10:05.570941Z",
     "start_time": "2024-12-31T03:10:05.530275Z"
    }
   },
   "outputs": [
    {
     "data": {
      "text/html": [
       "<div>\n",
       "<style scoped>\n",
       "    .dataframe tbody tr th:only-of-type {\n",
       "        vertical-align: middle;\n",
       "    }\n",
       "\n",
       "    .dataframe tbody tr th {\n",
       "        vertical-align: top;\n",
       "    }\n",
       "\n",
       "    .dataframe thead th {\n",
       "        text-align: right;\n",
       "    }\n",
       "</style>\n",
       "<table border=\"1\" class=\"dataframe\">\n",
       "  <thead>\n",
       "    <tr style=\"text-align: right;\">\n",
       "      <th></th>\n",
       "      <th>query</th>\n",
       "      <th>no</th>\n",
       "      <th>token</th>\n",
       "      <th>pos</th>\n",
       "    </tr>\n",
       "  </thead>\n",
       "  <tbody>\n",
       "    <tr>\n",
       "      <th>24113</th>\n",
       "      <td>경주 여행</td>\n",
       "      <td>500</td>\n",
       "      <td>가족</td>\n",
       "      <td>NNG</td>\n",
       "    </tr>\n",
       "    <tr>\n",
       "      <th>24114</th>\n",
       "      <td>경주 여행</td>\n",
       "      <td>500</td>\n",
       "      <td>함께</td>\n",
       "      <td>MAG</td>\n",
       "    </tr>\n",
       "  </tbody>\n",
       "</table>\n",
       "</div>"
      ],
      "text/plain": [
       "       query   no token  pos\n",
       "24113  경주 여행  500    가족  NNG\n",
       "24114  경주 여행  500    함께  MAG"
      ]
     },
     "execution_count": 170,
     "metadata": {},
     "output_type": "execute_result"
    }
   ],
   "source": [
    "df = pd.read_csv('data/naver_kin_pos.csv', encoding='cp949')\n",
    "df.tail(2)"
   ]
  },
  {
   "cell_type": "code",
   "execution_count": 171,
   "id": "50ff7736",
   "metadata": {
    "ExecuteTime": {
     "end_time": "2024-12-31T03:10:05.706144Z",
     "start_time": "2024-12-31T03:10:05.672136Z"
    }
   },
   "outputs": [
    {
     "data": {
      "text/html": [
       "<div>\n",
       "<style scoped>\n",
       "    .dataframe tbody tr th:only-of-type {\n",
       "        vertical-align: middle;\n",
       "    }\n",
       "\n",
       "    .dataframe tbody tr th {\n",
       "        vertical-align: top;\n",
       "    }\n",
       "\n",
       "    .dataframe thead th {\n",
       "        text-align: right;\n",
       "    }\n",
       "</style>\n",
       "<table border=\"1\" class=\"dataframe\">\n",
       "  <thead>\n",
       "    <tr style=\"text-align: right;\">\n",
       "      <th></th>\n",
       "      <th>query</th>\n",
       "      <th>token</th>\n",
       "      <th>pos</th>\n",
       "    </tr>\n",
       "  </thead>\n",
       "  <tbody>\n",
       "    <tr>\n",
       "      <th>0</th>\n",
       "      <td>전주 여행</td>\n",
       "      <td>대중교통</td>\n",
       "      <td>NNP</td>\n",
       "    </tr>\n",
       "    <tr>\n",
       "      <th>7902</th>\n",
       "      <td>전주 여행</td>\n",
       "      <td>추천</td>\n",
       "      <td>NNG</td>\n",
       "    </tr>\n",
       "    <tr>\n",
       "      <th>16287</th>\n",
       "      <td>경주 여행</td>\n",
       "      <td>코스</td>\n",
       "      <td>NNG</td>\n",
       "    </tr>\n",
       "  </tbody>\n",
       "</table>\n",
       "</div>"
      ],
      "text/plain": [
       "       query token  pos\n",
       "0      전주 여행  대중교통  NNP\n",
       "7902   전주 여행    추천  NNG\n",
       "16287  경주 여행    코스  NNG"
      ]
     },
     "execution_count": 171,
     "metadata": {},
     "output_type": "execute_result"
    }
   ],
   "source": [
    "# 명사만 추출\n",
    "# Hannanum(ntags=22) : ['NC', 'NQ']\n",
    "# Kkma, Komoran, MeCab : ['NNG', 'NNP']\n",
    "# Okt : ['Noun']\n",
    "df_flt = df.loc[(df['pos'] == 'NNG') | (df['pos'] == 'NNP'), ['query', 'token', 'pos']]\n",
    "df_flt = df.loc[df['pos'].isin(['NNG', 'NNP']), ['query', 'token', 'pos']]\n",
    "df_flt.iloc[::5000]"
   ]
  },
  {
   "cell_type": "code",
   "execution_count": 172,
   "id": "dd4543e5",
   "metadata": {
    "ExecuteTime": {
     "end_time": "2024-12-31T03:10:05.820898Z",
     "start_time": "2024-12-31T03:10:05.788740Z"
    }
   },
   "outputs": [
    {
     "data": {
      "text/plain": [
       "query  token\n",
       "경주 여행  코스       484\n",
       "       추천       394\n",
       "       숙소       178\n",
       "       계획       137\n",
       "       질문       133\n",
       "               ... \n",
       "전주 여행  레일바이크      2\n",
       "       아중         2\n",
       "       저수지        2\n",
       "       대전         1\n",
       "       상황         1\n",
       "Name: token, Length: 947, dtype: int64"
      ]
     },
     "execution_count": 172,
     "metadata": {},
     "output_type": "execute_result"
    }
   ],
   "source": [
    "# query별 token별 count수(빈도수)\n",
    "# df_flt.groupby(['query', 'token']).count()  # sort 작업 필요\n",
    "df_grp = df_flt.groupby('query')['token'].value_counts()  # sort 되어 출력됨(시리즈)\n",
    "# pd.DataFrame(df_grp)\n",
    "df_grp"
   ]
  },
  {
   "cell_type": "code",
   "execution_count": 173,
   "id": "6e255811",
   "metadata": {
    "ExecuteTime": {
     "end_time": "2024-12-31T03:10:05.954145Z",
     "start_time": "2024-12-31T03:10:05.924393Z"
    }
   },
   "outputs": [
    {
     "data": {
      "text/html": [
       "<div>\n",
       "<style scoped>\n",
       "    .dataframe tbody tr th:only-of-type {\n",
       "        vertical-align: middle;\n",
       "    }\n",
       "\n",
       "    .dataframe tbody tr th {\n",
       "        vertical-align: top;\n",
       "    }\n",
       "\n",
       "    .dataframe thead th {\n",
       "        text-align: right;\n",
       "    }\n",
       "</style>\n",
       "<table border=\"1\" class=\"dataframe\">\n",
       "  <thead>\n",
       "    <tr style=\"text-align: right;\">\n",
       "      <th></th>\n",
       "      <th>query</th>\n",
       "      <th>token</th>\n",
       "      <th>count</th>\n",
       "    </tr>\n",
       "  </thead>\n",
       "  <tbody>\n",
       "    <tr>\n",
       "      <th>0</th>\n",
       "      <td>경주 여행</td>\n",
       "      <td>코스</td>\n",
       "      <td>484</td>\n",
       "    </tr>\n",
       "    <tr>\n",
       "      <th>240</th>\n",
       "      <td>경주 여행</td>\n",
       "      <td>구체</td>\n",
       "      <td>5</td>\n",
       "    </tr>\n",
       "    <tr>\n",
       "      <th>480</th>\n",
       "      <td>경주 여행</td>\n",
       "      <td>복지</td>\n",
       "      <td>3</td>\n",
       "    </tr>\n",
       "    <tr>\n",
       "      <th>720</th>\n",
       "      <td>전주 여행</td>\n",
       "      <td>기차표</td>\n",
       "      <td>5</td>\n",
       "    </tr>\n",
       "  </tbody>\n",
       "</table>\n",
       "</div>"
      ],
      "text/plain": [
       "     query token  count\n",
       "0    경주 여행    코스    484\n",
       "240  경주 여행    구체      5\n",
       "480  경주 여행    복지      3\n",
       "720  전주 여행   기차표      5"
      ]
     },
     "execution_count": 173,
     "metadata": {},
     "output_type": "execute_result"
    }
   ],
   "source": [
    "# df_grp의 index를 컬럼으로 편입\n",
    "df_idx = df_grp.reset_index(name='count')  # drop=True:index를 새로 만듦\n",
    "df_idx.iloc[::240]"
   ]
  },
  {
   "cell_type": "code",
   "execution_count": 174,
   "id": "b8b02b05",
   "metadata": {
    "ExecuteTime": {
     "end_time": "2024-12-31T03:10:06.087624Z",
     "start_time": "2024-12-31T03:10:06.057878Z"
    }
   },
   "outputs": [
    {
     "data": {
      "text/html": [
       "<div>\n",
       "<style scoped>\n",
       "    .dataframe tbody tr th:only-of-type {\n",
       "        vertical-align: middle;\n",
       "    }\n",
       "\n",
       "    .dataframe tbody tr th {\n",
       "        vertical-align: top;\n",
       "    }\n",
       "\n",
       "    .dataframe thead th {\n",
       "        text-align: right;\n",
       "    }\n",
       "</style>\n",
       "<table border=\"1\" class=\"dataframe\">\n",
       "  <thead>\n",
       "    <tr style=\"text-align: right;\">\n",
       "      <th></th>\n",
       "      <th>단어</th>\n",
       "      <th>경주빈도</th>\n",
       "      <th>전주빈도</th>\n",
       "    </tr>\n",
       "  </thead>\n",
       "  <tbody>\n",
       "    <tr>\n",
       "      <th>0</th>\n",
       "      <td>단어1</td>\n",
       "      <td>52</td>\n",
       "      <td>90</td>\n",
       "    </tr>\n",
       "    <tr>\n",
       "      <th>1</th>\n",
       "      <td>단어2</td>\n",
       "      <td>12</td>\n",
       "      <td>0</td>\n",
       "    </tr>\n",
       "    <tr>\n",
       "      <th>2</th>\n",
       "      <td>단어3</td>\n",
       "      <td>0</td>\n",
       "      <td>52</td>\n",
       "    </tr>\n",
       "  </tbody>\n",
       "</table>\n",
       "</div>"
      ],
      "text/plain": [
       "    단어  경주빈도  전주빈도\n",
       "0  단어1    52    90\n",
       "1  단어2    12     0\n",
       "2  단어3     0    52"
      ]
     },
     "execution_count": 174,
     "metadata": {},
     "output_type": "execute_result"
    }
   ],
   "source": [
    "# merge:병합, concat:연결\n",
    "# 전주 여행, 경주 여행 빈도 추출 -> 병합\n",
    "a = pd.DataFrame([['단어1', 52],\n",
    "                  ['단어2', 12]], columns=['단어', 'count'])\n",
    "b = pd.DataFrame([['단어1', 90],\n",
    "                  ['단어3', 52]], columns=['단어', 'count'])\n",
    "# display(a, b)\n",
    "ab = pd.merge(a, b, \n",
    "              how='outer',  # 'inner':교집합, 'left':a기준, 'right':b기준, 'outer':합집합\n",
    "              on='단어')    # 두 프레임의 병합할 기준 열 이름:'단어' 기준으로 병합\n",
    "ab.fillna(0, inplace=True)  # 결측치 처리\n",
    "ab.columns = ['단어', '경주빈도', '전주빈도']\n",
    "ab['경주빈도'] = ab['경주빈도'].astype('int')  # 4byte\n",
    "import numpy as np\n",
    "ab['전주빈도'] = ab['전주빈도'].astype(np.int16)  # 'int16'\n",
    "ab"
   ]
  },
  {
   "cell_type": "code",
   "execution_count": 175,
   "id": "8c99fe2e",
   "metadata": {
    "ExecuteTime": {
     "end_time": "2024-12-31T03:10:06.215127Z",
     "start_time": "2024-12-31T03:10:06.199503Z"
    }
   },
   "outputs": [
    {
     "data": {
      "text/plain": [
       "((499, 2), (448, 2))"
      ]
     },
     "execution_count": 175,
     "metadata": {},
     "output_type": "execute_result"
    }
   ],
   "source": [
    "df_gj = df_idx.loc[df_idx['query'] == '경주 여행', ['token', 'count']]\n",
    "df_jj = df_idx.loc[df_idx['query'] == '전주 여행', ['token', 'count']]\n",
    "df_gj.shape, df_jj.shape"
   ]
  },
  {
   "cell_type": "code",
   "execution_count": 176,
   "id": "6b5e647f",
   "metadata": {
    "ExecuteTime": {
     "end_time": "2024-12-31T03:10:06.341378Z",
     "start_time": "2024-12-31T03:10:06.324211Z"
    }
   },
   "outputs": [
    {
     "data": {
      "text/html": [
       "<div>\n",
       "<style scoped>\n",
       "    .dataframe tbody tr th:only-of-type {\n",
       "        vertical-align: middle;\n",
       "    }\n",
       "\n",
       "    .dataframe tbody tr th {\n",
       "        vertical-align: top;\n",
       "    }\n",
       "\n",
       "    .dataframe thead th {\n",
       "        text-align: right;\n",
       "    }\n",
       "</style>\n",
       "<table border=\"1\" class=\"dataframe\">\n",
       "  <thead>\n",
       "    <tr style=\"text-align: right;\">\n",
       "      <th></th>\n",
       "      <th>token</th>\n",
       "      <th>count</th>\n",
       "    </tr>\n",
       "  </thead>\n",
       "  <tbody>\n",
       "    <tr>\n",
       "      <th>0</th>\n",
       "      <td>코스</td>\n",
       "      <td>484</td>\n",
       "    </tr>\n",
       "    <tr>\n",
       "      <th>1</th>\n",
       "      <td>추천</td>\n",
       "      <td>394</td>\n",
       "    </tr>\n",
       "    <tr>\n",
       "      <th>2</th>\n",
       "      <td>숙소</td>\n",
       "      <td>178</td>\n",
       "    </tr>\n",
       "    <tr>\n",
       "      <th>3</th>\n",
       "      <td>계획</td>\n",
       "      <td>137</td>\n",
       "    </tr>\n",
       "    <tr>\n",
       "      <th>4</th>\n",
       "      <td>질문</td>\n",
       "      <td>133</td>\n",
       "    </tr>\n",
       "    <tr>\n",
       "      <th>5</th>\n",
       "      <td>부탁</td>\n",
       "      <td>124</td>\n",
       "    </tr>\n",
       "    <tr>\n",
       "      <th>6</th>\n",
       "      <td>답변</td>\n",
       "      <td>123</td>\n",
       "    </tr>\n",
       "    <tr>\n",
       "      <th>7</th>\n",
       "      <td>가족</td>\n",
       "      <td>101</td>\n",
       "    </tr>\n",
       "    <tr>\n",
       "      <th>8</th>\n",
       "      <td>일정</td>\n",
       "      <td>99</td>\n",
       "    </tr>\n",
       "    <tr>\n",
       "      <th>9</th>\n",
       "      <td>안녕하세요</td>\n",
       "      <td>89</td>\n",
       "    </tr>\n",
       "  </tbody>\n",
       "</table>\n",
       "</div>"
      ],
      "text/plain": [
       "   token  count\n",
       "0     코스    484\n",
       "1     추천    394\n",
       "2     숙소    178\n",
       "3     계획    137\n",
       "4     질문    133\n",
       "5     부탁    124\n",
       "6     답변    123\n",
       "7     가족    101\n",
       "8     일정     99\n",
       "9  안녕하세요     89"
      ]
     },
     "execution_count": 176,
     "metadata": {},
     "output_type": "execute_result"
    }
   ],
   "source": [
    "df_gj.head(10)"
   ]
  },
  {
   "cell_type": "code",
   "execution_count": 177,
   "id": "b188fc28",
   "metadata": {
    "ExecuteTime": {
     "end_time": "2024-12-31T03:10:06.487519Z",
     "start_time": "2024-12-31T03:10:06.471818Z"
    }
   },
   "outputs": [
    {
     "data": {
      "text/plain": [
       "Int64Index([  0,   1,   2,   3,   4,   5,   6,   7,   8,   9,\n",
       "            ...\n",
       "            479, 478, 477, 476, 493, 494, 495, 496, 497, 498],\n",
       "           dtype='int64', length=499)"
      ]
     },
     "execution_count": 177,
     "metadata": {},
     "output_type": "execute_result"
    }
   ],
   "source": [
    "# df_gj.sort_values(by='count', ascending=False)  # ascending=False:내림차순\n",
    "df_gj.sort_values(by='count', ascending=False).index  # count 동일값 존재"
   ]
  },
  {
   "cell_type": "code",
   "execution_count": 178,
   "id": "e5e87d11",
   "metadata": {
    "ExecuteTime": {
     "end_time": "2024-12-31T03:10:06.651441Z",
     "start_time": "2024-12-31T03:10:06.625228Z"
    }
   },
   "outputs": [
    {
     "data": {
      "text/html": [
       "<div>\n",
       "<style scoped>\n",
       "    .dataframe tbody tr th:only-of-type {\n",
       "        vertical-align: middle;\n",
       "    }\n",
       "\n",
       "    .dataframe tbody tr th {\n",
       "        vertical-align: top;\n",
       "    }\n",
       "\n",
       "    .dataframe thead th {\n",
       "        text-align: right;\n",
       "    }\n",
       "</style>\n",
       "<table border=\"1\" class=\"dataframe\">\n",
       "  <thead>\n",
       "    <tr style=\"text-align: right;\">\n",
       "      <th></th>\n",
       "      <th>token</th>\n",
       "      <th>경주빈도</th>\n",
       "      <th>전주빈도</th>\n",
       "    </tr>\n",
       "  </thead>\n",
       "  <tbody>\n",
       "    <tr>\n",
       "      <th>0</th>\n",
       "      <td>코스</td>\n",
       "      <td>484</td>\n",
       "      <td>489</td>\n",
       "    </tr>\n",
       "    <tr>\n",
       "      <th>1</th>\n",
       "      <td>추천</td>\n",
       "      <td>394</td>\n",
       "      <td>345</td>\n",
       "    </tr>\n",
       "    <tr>\n",
       "      <th>2</th>\n",
       "      <td>숙소</td>\n",
       "      <td>178</td>\n",
       "      <td>76</td>\n",
       "    </tr>\n",
       "    <tr>\n",
       "      <th>3</th>\n",
       "      <td>계획</td>\n",
       "      <td>137</td>\n",
       "      <td>35</td>\n",
       "    </tr>\n",
       "    <tr>\n",
       "      <th>4</th>\n",
       "      <td>질문</td>\n",
       "      <td>133</td>\n",
       "      <td>95</td>\n",
       "    </tr>\n",
       "    <tr>\n",
       "      <th>5</th>\n",
       "      <td>부탁</td>\n",
       "      <td>124</td>\n",
       "      <td>98</td>\n",
       "    </tr>\n",
       "    <tr>\n",
       "      <th>6</th>\n",
       "      <td>답변</td>\n",
       "      <td>123</td>\n",
       "      <td>65</td>\n",
       "    </tr>\n",
       "    <tr>\n",
       "      <th>7</th>\n",
       "      <td>가족</td>\n",
       "      <td>101</td>\n",
       "      <td>15</td>\n",
       "    </tr>\n",
       "    <tr>\n",
       "      <th>8</th>\n",
       "      <td>일정</td>\n",
       "      <td>99</td>\n",
       "      <td>80</td>\n",
       "    </tr>\n",
       "    <tr>\n",
       "      <th>9</th>\n",
       "      <td>안녕하세요</td>\n",
       "      <td>89</td>\n",
       "      <td>74</td>\n",
       "    </tr>\n",
       "  </tbody>\n",
       "</table>\n",
       "</div>"
      ],
      "text/plain": [
       "   token  경주빈도  전주빈도\n",
       "0     코스   484   489\n",
       "1     추천   394   345\n",
       "2     숙소   178    76\n",
       "3     계획   137    35\n",
       "4     질문   133    95\n",
       "5     부탁   124    98\n",
       "6     답변   123    65\n",
       "7     가족   101    15\n",
       "8     일정    99    80\n",
       "9  안녕하세요    89    74"
      ]
     },
     "execution_count": 178,
     "metadata": {},
     "output_type": "execute_result"
    }
   ],
   "source": [
    "# 병합하기\n",
    "df_mrg = pd.merge(df_gj, df_jj,\n",
    "                  how='outer',\n",
    "                  on='token')\n",
    "df_mrg.columns = ['token', '경주빈도', '전주빈도']\n",
    "\n",
    "# 결측치 처리\n",
    "df_mrg.fillna(0, inplace=True)\n",
    "\n",
    "# 형변환\n",
    "df_mrg['경주빈도'] = df_mrg['경주빈도'].astype('int16')\n",
    "df_mrg['전주빈도'] = df_mrg['전주빈도'].astype(np.int16)\n",
    "df_mrg.head(10)"
   ]
  },
  {
   "cell_type": "code",
   "execution_count": 179,
   "id": "8c244cb8",
   "metadata": {
    "ExecuteTime": {
     "end_time": "2024-12-31T03:10:08.278996Z",
     "start_time": "2024-12-31T03:10:08.265576Z"
    }
   },
   "outputs": [
    {
     "data": {
      "text/html": [
       "<div>\n",
       "<style scoped>\n",
       "    .dataframe tbody tr th:only-of-type {\n",
       "        vertical-align: middle;\n",
       "    }\n",
       "\n",
       "    .dataframe tbody tr th {\n",
       "        vertical-align: top;\n",
       "    }\n",
       "\n",
       "    .dataframe thead th {\n",
       "        text-align: right;\n",
       "    }\n",
       "</style>\n",
       "<table border=\"1\" class=\"dataframe\">\n",
       "  <thead>\n",
       "    <tr style=\"text-align: right;\">\n",
       "      <th></th>\n",
       "      <th>token</th>\n",
       "      <th>경주빈도</th>\n",
       "      <th>전주빈도</th>\n",
       "      <th>빈도합</th>\n",
       "    </tr>\n",
       "  </thead>\n",
       "  <tbody>\n",
       "    <tr>\n",
       "      <th>0</th>\n",
       "      <td>코스</td>\n",
       "      <td>484</td>\n",
       "      <td>489</td>\n",
       "      <td>973</td>\n",
       "    </tr>\n",
       "    <tr>\n",
       "      <th>1</th>\n",
       "      <td>추천</td>\n",
       "      <td>394</td>\n",
       "      <td>345</td>\n",
       "      <td>739</td>\n",
       "    </tr>\n",
       "    <tr>\n",
       "      <th>28</th>\n",
       "      <td>한곳</td>\n",
       "      <td>36</td>\n",
       "      <td>445</td>\n",
       "      <td>481</td>\n",
       "    </tr>\n",
       "    <tr>\n",
       "      <th>12</th>\n",
       "      <td>맛집</td>\n",
       "      <td>65</td>\n",
       "      <td>271</td>\n",
       "      <td>336</td>\n",
       "    </tr>\n",
       "    <tr>\n",
       "      <th>499</th>\n",
       "      <td>여수</td>\n",
       "      <td>0</td>\n",
       "      <td>319</td>\n",
       "      <td>319</td>\n",
       "    </tr>\n",
       "    <tr>\n",
       "      <th>98</th>\n",
       "      <td>제주도</td>\n",
       "      <td>15</td>\n",
       "      <td>253</td>\n",
       "      <td>268</td>\n",
       "    </tr>\n",
       "    <tr>\n",
       "      <th>2</th>\n",
       "      <td>숙소</td>\n",
       "      <td>178</td>\n",
       "      <td>76</td>\n",
       "      <td>254</td>\n",
       "    </tr>\n",
       "    <tr>\n",
       "      <th>4</th>\n",
       "      <td>질문</td>\n",
       "      <td>133</td>\n",
       "      <td>95</td>\n",
       "      <td>228</td>\n",
       "    </tr>\n",
       "    <tr>\n",
       "      <th>5</th>\n",
       "      <td>부탁</td>\n",
       "      <td>124</td>\n",
       "      <td>98</td>\n",
       "      <td>222</td>\n",
       "    </tr>\n",
       "    <tr>\n",
       "      <th>500</th>\n",
       "      <td>한옥마을</td>\n",
       "      <td>0</td>\n",
       "      <td>208</td>\n",
       "      <td>208</td>\n",
       "    </tr>\n",
       "  </tbody>\n",
       "</table>\n",
       "</div>"
      ],
      "text/plain": [
       "    token  경주빈도  전주빈도  빈도합\n",
       "0      코스   484   489  973\n",
       "1      추천   394   345  739\n",
       "28     한곳    36   445  481\n",
       "12     맛집    65   271  336\n",
       "499    여수     0   319  319\n",
       "98    제주도    15   253  268\n",
       "2      숙소   178    76  254\n",
       "4      질문   133    95  228\n",
       "5      부탁   124    98  222\n",
       "500  한옥마을     0   208  208"
      ]
     },
     "execution_count": 179,
     "metadata": {},
     "output_type": "execute_result"
    }
   ],
   "source": [
    "df_mrg['빈도합'] = df_mrg['경주빈도'] + df_mrg['전주빈도']\n",
    "df_mrg.sort_values(by='빈도합', ascending=False, inplace=True)\n",
    "df_mrg.head(10)"
   ]
  },
  {
   "cell_type": "code",
   "execution_count": 180,
   "id": "53820737",
   "metadata": {
    "ExecuteTime": {
     "end_time": "2024-12-31T03:10:08.426790Z",
     "start_time": "2024-12-31T03:10:08.407794Z"
    }
   },
   "outputs": [
    {
     "data": {
      "text/html": [
       "<div>\n",
       "<style scoped>\n",
       "    .dataframe tbody tr th:only-of-type {\n",
       "        vertical-align: middle;\n",
       "    }\n",
       "\n",
       "    .dataframe tbody tr th {\n",
       "        vertical-align: top;\n",
       "    }\n",
       "\n",
       "    .dataframe thead th {\n",
       "        text-align: right;\n",
       "    }\n",
       "</style>\n",
       "<table border=\"1\" class=\"dataframe\">\n",
       "  <thead>\n",
       "    <tr style=\"text-align: right;\">\n",
       "      <th></th>\n",
       "      <th>token</th>\n",
       "      <th>경주빈도</th>\n",
       "      <th>전주빈도</th>\n",
       "      <th>빈도합</th>\n",
       "      <th>경주비율</th>\n",
       "      <th>전주비율</th>\n",
       "    </tr>\n",
       "  </thead>\n",
       "  <tbody>\n",
       "    <tr>\n",
       "      <th>0</th>\n",
       "      <td>코스</td>\n",
       "      <td>484</td>\n",
       "      <td>489</td>\n",
       "      <td>973</td>\n",
       "      <td>0.497431</td>\n",
       "      <td>0.502569</td>\n",
       "    </tr>\n",
       "    <tr>\n",
       "      <th>1</th>\n",
       "      <td>추천</td>\n",
       "      <td>394</td>\n",
       "      <td>345</td>\n",
       "      <td>739</td>\n",
       "      <td>0.533153</td>\n",
       "      <td>0.466847</td>\n",
       "    </tr>\n",
       "    <tr>\n",
       "      <th>2</th>\n",
       "      <td>한곳</td>\n",
       "      <td>36</td>\n",
       "      <td>445</td>\n",
       "      <td>481</td>\n",
       "      <td>0.074844</td>\n",
       "      <td>0.925156</td>\n",
       "    </tr>\n",
       "    <tr>\n",
       "      <th>3</th>\n",
       "      <td>맛집</td>\n",
       "      <td>65</td>\n",
       "      <td>271</td>\n",
       "      <td>336</td>\n",
       "      <td>0.193452</td>\n",
       "      <td>0.806548</td>\n",
       "    </tr>\n",
       "    <tr>\n",
       "      <th>4</th>\n",
       "      <td>여수</td>\n",
       "      <td>0</td>\n",
       "      <td>319</td>\n",
       "      <td>319</td>\n",
       "      <td>0.000000</td>\n",
       "      <td>1.000000</td>\n",
       "    </tr>\n",
       "  </tbody>\n",
       "</table>\n",
       "</div>"
      ],
      "text/plain": [
       "  token  경주빈도  전주빈도  빈도합      경주비율      전주비율\n",
       "0    코스   484   489  973  0.497431  0.502569\n",
       "1    추천   394   345  739  0.533153  0.466847\n",
       "2    한곳    36   445  481  0.074844  0.925156\n",
       "3    맛집    65   271  336  0.193452  0.806548\n",
       "4    여수     0   319  319  0.000000  1.000000"
      ]
     },
     "execution_count": 180,
     "metadata": {},
     "output_type": "execute_result"
    }
   ],
   "source": [
    "df_mrg['경주비율'] = df_mrg['경주빈도'] / df_mrg['빈도합']\n",
    "df_mrg['전주비율'] = df_mrg['전주빈도'] / df_mrg['빈도합']\n",
    "df_mrg = df_mrg.reset_index(drop=True)\n",
    "df_mrg.head()"
   ]
  },
  {
   "cell_type": "code",
   "execution_count": 181,
   "id": "d47be6cb",
   "metadata": {
    "ExecuteTime": {
     "end_time": "2024-12-31T03:10:08.554169Z",
     "start_time": "2024-12-31T03:10:08.537495Z"
    }
   },
   "outputs": [
    {
     "data": {
      "text/plain": [
       "'0.68%'"
      ]
     },
     "execution_count": 181,
     "metadata": {},
     "output_type": "execute_result"
    }
   ],
   "source": [
    "# 비율 컬럼을 % 단위로 출력\n",
    "def method(x):\n",
    "    return '{:.2%}'.format(x)\n",
    "method(0.0068)"
   ]
  },
  {
   "cell_type": "code",
   "execution_count": 182,
   "id": "100d421e",
   "metadata": {
    "ExecuteTime": {
     "end_time": "2024-12-31T03:10:09.880237Z",
     "start_time": "2024-12-31T03:10:09.858125Z"
    }
   },
   "outputs": [
    {
     "data": {
      "text/html": [
       "<div>\n",
       "<style scoped>\n",
       "    .dataframe tbody tr th:only-of-type {\n",
       "        vertical-align: middle;\n",
       "    }\n",
       "\n",
       "    .dataframe tbody tr th {\n",
       "        vertical-align: top;\n",
       "    }\n",
       "\n",
       "    .dataframe thead th {\n",
       "        text-align: right;\n",
       "    }\n",
       "</style>\n",
       "<table border=\"1\" class=\"dataframe\">\n",
       "  <thead>\n",
       "    <tr style=\"text-align: right;\">\n",
       "      <th></th>\n",
       "      <th>token</th>\n",
       "      <th>경주빈도</th>\n",
       "      <th>전주빈도</th>\n",
       "      <th>빈도합</th>\n",
       "      <th>경주비율</th>\n",
       "      <th>전주비율</th>\n",
       "    </tr>\n",
       "  </thead>\n",
       "  <tbody>\n",
       "    <tr>\n",
       "      <th>0</th>\n",
       "      <td>코스</td>\n",
       "      <td>484</td>\n",
       "      <td>489</td>\n",
       "      <td>973</td>\n",
       "      <td>49.74%</td>\n",
       "      <td>50.26%</td>\n",
       "    </tr>\n",
       "    <tr>\n",
       "      <th>1</th>\n",
       "      <td>추천</td>\n",
       "      <td>394</td>\n",
       "      <td>345</td>\n",
       "      <td>739</td>\n",
       "      <td>53.32%</td>\n",
       "      <td>46.68%</td>\n",
       "    </tr>\n",
       "    <tr>\n",
       "      <th>2</th>\n",
       "      <td>한곳</td>\n",
       "      <td>36</td>\n",
       "      <td>445</td>\n",
       "      <td>481</td>\n",
       "      <td>7.48%</td>\n",
       "      <td>92.52%</td>\n",
       "    </tr>\n",
       "    <tr>\n",
       "      <th>3</th>\n",
       "      <td>맛집</td>\n",
       "      <td>65</td>\n",
       "      <td>271</td>\n",
       "      <td>336</td>\n",
       "      <td>19.35%</td>\n",
       "      <td>80.65%</td>\n",
       "    </tr>\n",
       "    <tr>\n",
       "      <th>4</th>\n",
       "      <td>여수</td>\n",
       "      <td>0</td>\n",
       "      <td>319</td>\n",
       "      <td>319</td>\n",
       "      <td>0.00%</td>\n",
       "      <td>100.00%</td>\n",
       "    </tr>\n",
       "  </tbody>\n",
       "</table>\n",
       "</div>"
      ],
      "text/plain": [
       "  token  경주빈도  전주빈도  빈도합    경주비율     전주비율\n",
       "0    코스   484   489  973  49.74%   50.26%\n",
       "1    추천   394   345  739  53.32%   46.68%\n",
       "2    한곳    36   445  481   7.48%   92.52%\n",
       "3    맛집    65   271  336  19.35%   80.65%\n",
       "4    여수     0   319  319   0.00%  100.00%"
      ]
     },
     "execution_count": 182,
     "metadata": {},
     "output_type": "execute_result"
    }
   ],
   "source": [
    "df_mrg['경주비율'] = df_mrg['경주비율'].apply(lambda x : '{:.2%}'.format(x))\n",
    "df_mrg['전주비율'] = df_mrg['전주비율'].apply(lambda x : '{:.2%}'.format(x))\n",
    "df_mrg.head()"
   ]
  },
  {
   "cell_type": "code",
   "execution_count": 183,
   "id": "32d5103d",
   "metadata": {
    "ExecuteTime": {
     "end_time": "2024-12-31T03:10:10.748825Z",
     "start_time": "2024-12-31T03:10:10.737510Z"
    }
   },
   "outputs": [
    {
     "data": {
      "text/html": [
       "<div>\n",
       "<style scoped>\n",
       "    .dataframe tbody tr th:only-of-type {\n",
       "        vertical-align: middle;\n",
       "    }\n",
       "\n",
       "    .dataframe tbody tr th {\n",
       "        vertical-align: top;\n",
       "    }\n",
       "\n",
       "    .dataframe thead th {\n",
       "        text-align: right;\n",
       "    }\n",
       "</style>\n",
       "<table border=\"1\" class=\"dataframe\">\n",
       "  <thead>\n",
       "    <tr style=\"text-align: right;\">\n",
       "      <th></th>\n",
       "      <th>token</th>\n",
       "      <th>경주빈도</th>\n",
       "      <th>전주빈도</th>\n",
       "      <th>빈도합</th>\n",
       "      <th>경주비율</th>\n",
       "      <th>전주비율</th>\n",
       "    </tr>\n",
       "  </thead>\n",
       "  <tbody>\n",
       "  </tbody>\n",
       "</table>\n",
       "</div>"
      ],
      "text/plain": [
       "Empty DataFrame\n",
       "Columns: [token, 경주빈도, 전주빈도, 빈도합, 경주비율, 전주비율]\n",
       "Index: []"
      ]
     },
     "execution_count": 183,
     "metadata": {},
     "output_type": "execute_result"
    }
   ],
   "source": [
    "df_mrg[df_mrg['token'].isin(['경주여행', '전주여행'])]"
   ]
  },
  {
   "cell_type": "code",
   "execution_count": 185,
   "id": "44f3e598",
   "metadata": {
    "ExecuteTime": {
     "end_time": "2024-12-31T03:19:54.526329Z",
     "start_time": "2024-12-31T03:19:54.516610Z"
    }
   },
   "outputs": [],
   "source": [
    "df_mrg.to_csv('data/naver_kin_count.csv', encoding='cp949', index=False)"
   ]
  },
  {
   "cell_type": "markdown",
   "id": "848f0cee",
   "metadata": {},
   "source": [
    "# 4. 워드 클라우드\n",
    " - 전주 여행 명사만, 경주 여행 명사만"
   ]
  },
  {
   "cell_type": "code",
   "execution_count": 187,
   "id": "1eb64216",
   "metadata": {
    "ExecuteTime": {
     "end_time": "2024-12-31T03:35:42.540142Z",
     "start_time": "2024-12-31T03:35:42.515683Z"
    }
   },
   "outputs": [
    {
     "data": {
      "text/plain": [
       "array(['NNP', 'NNG'], dtype=object)"
      ]
     },
     "execution_count": 187,
     "metadata": {},
     "output_type": "execute_result"
    }
   ],
   "source": [
    "df_flt['pos'].uniqueque()"
   ]
  },
  {
   "cell_type": "code",
   "execution_count": 190,
   "id": "2d055542",
   "metadata": {
    "ExecuteTime": {
     "end_time": "2024-12-31T03:36:51.590658Z",
     "start_time": "2024-12-31T03:36:51.579608Z"
    }
   },
   "outputs": [
    {
     "data": {
      "text/html": [
       "<div>\n",
       "<style scoped>\n",
       "    .dataframe tbody tr th:only-of-type {\n",
       "        vertical-align: middle;\n",
       "    }\n",
       "\n",
       "    .dataframe tbody tr th {\n",
       "        vertical-align: top;\n",
       "    }\n",
       "\n",
       "    .dataframe thead th {\n",
       "        text-align: right;\n",
       "    }\n",
       "</style>\n",
       "<table border=\"1\" class=\"dataframe\">\n",
       "  <thead>\n",
       "    <tr style=\"text-align: right;\">\n",
       "      <th></th>\n",
       "      <th>query</th>\n",
       "      <th>token</th>\n",
       "      <th>pos</th>\n",
       "    </tr>\n",
       "  </thead>\n",
       "  <tbody>\n",
       "    <tr>\n",
       "      <th>0</th>\n",
       "      <td>전주 여행</td>\n",
       "      <td>대중교통</td>\n",
       "      <td>NNP</td>\n",
       "    </tr>\n",
       "    <tr>\n",
       "      <th>4753</th>\n",
       "      <td>전주 여행</td>\n",
       "      <td>인천</td>\n",
       "      <td>NNP</td>\n",
       "    </tr>\n",
       "    <tr>\n",
       "      <th>9487</th>\n",
       "      <td>전주 여행</td>\n",
       "      <td>롯데</td>\n",
       "      <td>NNP</td>\n",
       "    </tr>\n",
       "    <tr>\n",
       "      <th>14513</th>\n",
       "      <td>경주 여행</td>\n",
       "      <td>평일</td>\n",
       "      <td>NNP</td>\n",
       "    </tr>\n",
       "    <tr>\n",
       "      <th>19879</th>\n",
       "      <td>경주 여행</td>\n",
       "      <td>할거</td>\n",
       "      <td>NNG</td>\n",
       "    </tr>\n",
       "  </tbody>\n",
       "</table>\n",
       "</div>"
      ],
      "text/plain": [
       "       query token  pos\n",
       "0      전주 여행  대중교통  NNP\n",
       "4753   전주 여행    인천  NNP\n",
       "9487   전주 여행    롯데  NNP\n",
       "14513  경주 여행    평일  NNP\n",
       "19879  경주 여행    할거  NNG"
      ]
     },
     "execution_count": 190,
     "metadata": {},
     "output_type": "execute_result"
    }
   ],
   "source": [
    "df_flt.iloc[::3000]"
   ]
  },
  {
   "cell_type": "code",
   "execution_count": 195,
   "id": "94e4361b",
   "metadata": {
    "ExecuteTime": {
     "end_time": "2024-12-31T03:40:52.395507Z",
     "start_time": "2024-12-31T03:40:52.385512Z"
    }
   },
   "outputs": [
    {
     "name": "stdout",
     "output_type": "stream",
     "text": [
      "['대중교통', '이랑', '렌트카', '대중교통', '교통', '상황', '맛집', '국내', '코스', '주가']\n",
      "['추석', '추석', '생각', '서울', '버스', '경우', '버스', '버스', '전용', '차선']\n"
     ]
    }
   ],
   "source": [
    "# 전주 여행 token들, 경주 여행 token들\n",
    "jj_noun_list = df_flt.loc[df_flt['query'] == '전주 여행', 'token'].tolist()\n",
    "gj_noun_list = df_flt.loc[df_flt['query'] == '경주 여행', 'token'].tolist()\n",
    "print(jj_noun_list[:10])\n",
    "print(gj_noun_list[:10])"
   ]
  },
  {
   "cell_type": "code",
   "execution_count": 197,
   "id": "d66fafb3",
   "metadata": {
    "ExecuteTime": {
     "end_time": "2024-12-31T03:42:54.582763Z",
     "start_time": "2024-12-31T03:42:54.568767Z"
    }
   },
   "outputs": [
    {
     "data": {
      "text/plain": [
       "query\n",
       "경주 여행    [추석, 추석, 생각, 서울, 버스, 경우, 버스, 버스, 전용, 차선, 운행, 질...\n",
       "전주 여행    [대중교통, 이랑, 렌트카, 대중교통, 교통, 상황, 맛집, 국내, 코스, 주가, ...\n",
       "Name: token, dtype: object"
      ]
     },
     "execution_count": 197,
     "metadata": {},
     "output_type": "execute_result"
    }
   ],
   "source": [
    "df_grp = df_flt.groupby('query')['token'].apply(list)\n",
    "df_grp"
   ]
  },
  {
   "cell_type": "code",
   "execution_count": 199,
   "id": "bc2a7f6a",
   "metadata": {
    "ExecuteTime": {
     "end_time": "2024-12-31T03:44:11.092945Z",
     "start_time": "2024-12-31T03:44:11.086947Z"
    }
   },
   "outputs": [
    {
     "name": "stdout",
     "output_type": "stream",
     "text": [
      "['대중교통', '이랑', '렌트카', '대중교통', '교통', '상황', '맛집', '국내', '코스', '주가']\n",
      "['추석', '추석', '생각', '서울', '버스', '경우', '버스', '버스', '전용', '차선']\n"
     ]
    }
   ],
   "source": [
    "jj_noun_list = df_grp['전주 여행']\n",
    "gj_noun_list = df_grp['경주 여행']\n",
    "print(jj_noun_list[:10])\n",
    "print(gj_noun_list[:10])"
   ]
  },
  {
   "cell_type": "code",
   "execution_count": 203,
   "id": "a93aebf3",
   "metadata": {
    "ExecuteTime": {
     "end_time": "2024-12-31T03:49:41.235589Z",
     "start_time": "2024-12-31T03:49:41.228590Z"
    }
   },
   "outputs": [
    {
     "name": "stdout",
     "output_type": "stream",
     "text": [
      "대중교통 이랑 렌트카 대중교통 교통 상황 맛집 국내 코\n",
      "추석 추석 생각 서울 버스 경우 버스 버스 전용 차선 \n"
     ]
    }
   ],
   "source": [
    "gyeongju = ' '.join(gj_noun_list)\n",
    "jeonju   = ' '.join(jj_noun_list)\n",
    "print(jeonju[:30])\n",
    "print(gyeongju[:30])"
   ]
  },
  {
   "cell_type": "code",
   "execution_count": 204,
   "id": "c048d534",
   "metadata": {
    "ExecuteTime": {
     "end_time": "2024-12-31T03:51:15.675654Z",
     "start_time": "2024-12-31T03:51:14.900626Z"
    }
   },
   "outputs": [],
   "source": [
    "from wordcloud import WordCloud\n",
    "import matplotlib.pyplot as plt"
   ]
  },
  {
   "cell_type": "markdown",
   "id": "ea4d0802",
   "metadata": {},
   "source": [
    "- 컬러맵 : https://matplotlib.org/tutorials/colors/colormaps.html"
   ]
  },
  {
   "cell_type": "code",
   "execution_count": 205,
   "id": "6f99a2b7",
   "metadata": {
    "ExecuteTime": {
     "end_time": "2024-12-31T03:52:50.327970Z",
     "start_time": "2024-12-31T03:52:50.322970Z"
    }
   },
   "outputs": [],
   "source": [
    "font_path = 'data/NanumPenScript-Regular.ttf'\n",
    "color_map = 'viridis'"
   ]
  },
  {
   "cell_type": "code",
   "execution_count": 219,
   "id": "9909cc5c",
   "metadata": {
    "ExecuteTime": {
     "end_time": "2024-12-31T04:05:56.662098Z",
     "start_time": "2024-12-31T04:05:55.972169Z"
    }
   },
   "outputs": [
    {
     "data": {
      "image/png": "[encoded data removed]",
      "text/plain": [
       "<Figure size 640x480 with 1 Axes>"
      ]
     },
     "metadata": {},
     "output_type": "display_data"
    }
   ],
   "source": [
    "from PIL import Image\n",
    "mask = np.array(Image.open('data/korea-house-black-fill.png'))\n",
    "# mask.shape  # RGB+alpha\n",
    "불용어 = set(['경주여행', '전주여행'])\n",
    "\n",
    "wordcloud = WordCloud(\n",
    "                font_path=font_path,\n",
    "                background_color='white',\n",
    "                colormap=color_map,\n",
    "                max_words=300,\n",
    "                max_font_size=200,\n",
    "                scale=2,  # 이미지 크기의 비율(값이 클수록 이미지 저장 시 선명도가 높아짐)\n",
    "                stopwords=불용어,\n",
    "                mask=mask,\n",
    "                random_state=4  # 랜덤 시드값을 맞추면 같은 모양의 워드 클라우드가 생성됨\n",
    ").generate(jeonju)\n",
    "plt.imshow(wordcloud)\n",
    "plt.axis('off')\n",
    "plt.show()"
   ]
  },
  {
   "cell_type": "code",
   "execution_count": 220,
   "id": "ee939fcd",
   "metadata": {
    "ExecuteTime": {
     "end_time": "2024-12-31T04:05:56.812164Z",
     "start_time": "2024-12-31T04:05:56.665097Z"
    }
   },
   "outputs": [
    {
     "data": {
      "text/plain": [
       "<wordcloud.wordcloud.WordCloud at 0x1e57b37ac50>"
      ]
     },
     "execution_count": 220,
     "metadata": {},
     "output_type": "execute_result"
    }
   ],
   "source": [
    "# 생성된 wordcloud 이미지 저장\n",
    "wordcloud.to_file('data/jeonju_cloud.jpg')"
   ]
  },
  {
   "cell_type": "code",
   "execution_count": 222,
   "id": "1d1a1e4c",
   "metadata": {
    "ExecuteTime": {
     "end_time": "2024-12-31T04:07:55.628968Z",
     "start_time": "2024-12-31T04:07:48.251357Z"
    }
   },
   "outputs": [
    {
     "data": {
      "image/png": "[encoded data removed]",
      "text/plain": [
       "<Figure size 640x480 with 1 Axes>"
      ]
     },
     "metadata": {},
     "output_type": "display_data"
    }
   ],
   "source": [
    "from PIL import Image\n",
    "mask = np.array(Image.open('data/heart.jpg'))\n",
    "# mask.shape  # RGB+alpha\n",
    "불용어 = set(['경주여행', '전주여행'])\n",
    "\n",
    "wordcloud = WordCloud(\n",
    "                font_path=font_path,\n",
    "                background_color='white',\n",
    "                colormap=color_map,\n",
    "                max_words=200,\n",
    "                max_font_size=200,\n",
    "                scale=2,  # 이미지 크기의 비율(값이 클수록 이미지 저장 시 선명도가 높아짐)\n",
    "                stopwords=불용어,\n",
    "                mask=mask,\n",
    "                random_state=4  # 랜덤 시드값을 맞추면 같은 모양의 워드 클라우드가 생성됨\n",
    ").generate(gyeongju)\n",
    "plt.imshow(wordcloud)\n",
    "plt.axis('off')\n",
    "plt.show()"
   ]
  },
  {
   "cell_type": "code",
   "execution_count": 223,
   "id": "cacaef98",
   "metadata": {
    "ExecuteTime": {
     "end_time": "2024-12-31T04:08:56.896064Z",
     "start_time": "2024-12-31T04:08:54.089119Z"
    }
   },
   "outputs": [
    {
     "data": {
      "text/plain": [
       "<wordcloud.wordcloud.WordCloud at 0x1e578897d30>"
      ]
     },
     "execution_count": 223,
     "metadata": {},
     "output_type": "execute_result"
    }
   ],
   "source": [
    "# 생성된 wordcloud 이미지 저장\n",
    "wordcloud.to_file('data/gyeongju_cloud.png')"
   ]
  },
  {
   "cell_type": "code",
   "execution_count": null,
   "id": "ddf9a777",
   "metadata": {},
   "outputs": [],
   "source": []
  }
 ],
 "metadata": {
  "kernelspec": {
   "display_name": "Python 3 (ipykernel)",
   "language": "python",
   "name": "python3"
  },
  "language_info": {
   "codemirror_mode": {
    "name": "ipython",
    "version": 3
   },
   "file_extension": ".py",
   "mimetype": "text/x-python",
   "name": "python",
   "nbconvert_exporter": "python",
   "pygments_lexer": "ipython3",
   "version": "3.10.9"
  },
  "toc": {
   "base_numbering": 1,
   "nav_menu": {},
   "number_sections": true,
   "sideBar": true,
   "skip_h1_title": false,
   "title_cell": "Table of Contents",
   "title_sidebar": "Contents",
   "toc_cell": false,
   "toc_position": {
    "height": "calc(100% - 180px)",
    "left": "10px",
    "top": "150px",
    "width": "224.323px"
   },
   "toc_section_display": true,
   "toc_window_display": true
  }
 },
 "nbformat": 4,
 "nbformat_minor": 5
}
