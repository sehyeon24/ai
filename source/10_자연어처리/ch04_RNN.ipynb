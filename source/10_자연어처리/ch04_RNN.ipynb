{
 "cells": [
  {
   "cell_type": "code",
   "execution_count": 1,
   "id": "1050e95a",
   "metadata": {
    "ExecuteTime": {
     "end_time": "2025-01-02T06:00:00.670118Z",
     "start_time": "2025-01-02T06:00:00.658259Z"
    }
   },
   "outputs": [
    {
     "data": {
      "text/html": [
       "\n",
       "<style>\n",
       "div.container{width:80% !important;}\n",
       "div.prompt {min-width:70px;}\n",
       "div#toc-header{margin-top:150px;}\n",
       "span.toc-item-num{display:none;}\n",
       "div.CodeMirror {font-family:Consolas}\n",
       "div.input {font-family:Consolas}\n",
       "</style>\n"
      ],
      "text/plain": [
       "<IPython.core.display.HTML object>"
      ]
     },
     "metadata": {},
     "output_type": "display_data"
    }
   ],
   "source": [
    "from IPython.display import display, HTML\n",
    "\n",
    "display(\n",
    "    HTML(\"\"\"\n",
    "<style>\n",
    "div.container{width:80% !important;}\n",
    "div.prompt {min-width:70px;}\n",
    "div#toc-header{margin-top:150px;}\n",
    "span.toc-item-num{display:none;}\n",
    "div.CodeMirror {font-family:Consolas}\n",
    "div.input {font-family:Consolas}\n",
    "</style>\n",
    "\"\"\"))"
   ]
  },
  {
   "cell_type": "markdown",
   "id": "5fbdfd4c",
   "metadata": {},
   "source": [
    "**<font size='5' color='red'>ch04. RNN(Recurrent Neural Network 순환신경망)</font>**"
   ]
  },
  {
   "cell_type": "markdown",
   "id": "6f209e47",
   "metadata": {},
   "source": [
    "# 1. 전처리"
   ]
  },
  {
   "cell_type": "code",
   "execution_count": 2,
   "id": "5e5e1ce8",
   "metadata": {
    "ExecuteTime": {
     "end_time": "2025-01-02T06:00:00.689664Z",
     "start_time": "2025-01-02T06:00:00.674117Z"
    }
   },
   "outputs": [],
   "source": [
    "text = '''경마장에 있는 말이 뛰고 있다\n",
    "그의 말이 법이다\n",
    "가는 말이 고와야 오는 말이 곱다'''"
   ]
  },
  {
   "cell_type": "code",
   "execution_count": 3,
   "id": "fbceacc8",
   "metadata": {
    "ExecuteTime": {
     "end_time": "2025-01-02T06:00:01.144350Z",
     "start_time": "2025-01-02T06:00:00.693894Z"
    }
   },
   "outputs": [
    {
     "name": "stdout",
     "output_type": "stream",
     "text": [
      "[2, 3, 1, 4, 5, 6, 1, 7, 8, 1, 9, 10, 1, 11]\n",
      "{'말이': 1, '경마장에': 2, '있는': 3, '뛰고': 4, '있다': 5, '그의': 6, '법이다': 7, '가는': 8, '고와야': 9, '오는': 10, '곱다': 11}\n"
     ]
    }
   ],
   "source": [
    "from keras_preprocessing.text import Tokenizer\n",
    "t = Tokenizer()\n",
    "t.fit_on_texts([text])  # text -> 숫자 : 빈도수에 따라 앞으로 위치시킴\n",
    "encoded = t.texts_to_sequences([text])[0]  # texts_to_sequences() : list가 들어가야 함. [0]:2차원->1차원\n",
    "print(encoded)\n",
    "print(t.word_index)  # 딕셔너리"
   ]
  },
  {
   "cell_type": "code",
   "execution_count": 4,
   "id": "c2597c86",
   "metadata": {
    "ExecuteTime": {
     "end_time": "2025-01-02T06:00:01.154346Z",
     "start_time": "2025-01-02T06:00:01.148350Z"
    }
   },
   "outputs": [
    {
     "name": "stdout",
     "output_type": "stream",
     "text": [
      "[[2, 1, 5], [1, 11]]\n",
      "[2, 1, 5]\n"
     ]
    }
   ],
   "source": [
    "# 문자열 리스트를 인덱스 시퀀스로 반환\n",
    "print(t.texts_to_sequences(['경마장에 말이 있다', '말이 곱다']))\n",
    "print(t.texts_to_sequences(['경마장에 말이 있다'])[0])  # 예측시"
   ]
  },
  {
   "cell_type": "code",
   "execution_count": 5,
   "id": "8356ce45",
   "metadata": {
    "ExecuteTime": {
     "end_time": "2025-01-02T06:00:01.179725Z",
     "start_time": "2025-01-02T06:00:01.157346Z"
    }
   },
   "outputs": [
    {
     "name": "stdout",
     "output_type": "stream",
     "text": [
      "[[0. 1. 0. 0. 1. 0. 0. 0. 0. 0. 0. 0.]]\n",
      "[[1, 4]]\n"
     ]
    }
   ],
   "source": [
    "print(t.texts_to_matrix(['말이 뛰고']))\n",
    "print(t.texts_to_sequences(['말이 뛰고']))"
   ]
  },
  {
   "cell_type": "code",
   "execution_count": 6,
   "id": "42ceafe6",
   "metadata": {
    "ExecuteTime": {
     "end_time": "2025-01-02T06:00:01.194326Z",
     "start_time": "2025-01-02T06:00:01.179725Z"
    }
   },
   "outputs": [
    {
     "name": "stdout",
     "output_type": "stream",
     "text": [
      "{'말이': 1, '경마장에': 2, '있는': 3, '뛰고': 4, '있다': 5, '그의': 6, '법이다': 7, '가는': 8, '고와야': 9, '오는': 10, '곱다': 11}\n",
      "2 :  경마장에\n"
     ]
    }
   ],
   "source": [
    "print(t.word_index)\n",
    "for word, value in t.word_index.items():\n",
    "    if value == 2:\n",
    "        print('2 : ', word)\n",
    "        break"
   ]
  },
  {
   "cell_type": "code",
   "execution_count": 7,
   "id": "f335b7e3",
   "metadata": {
    "ExecuteTime": {
     "end_time": "2025-01-02T06:00:01.227714Z",
     "start_time": "2025-01-02T06:00:01.199061Z"
    },
    "scrolled": false
   },
   "outputs": [
    {
     "name": "stdout",
     "output_type": "stream",
     "text": [
      "원본 문장 :  경마장에 있는 말이 뛰고 있다\n",
      "encoded된 문장 :  [2, 3, 1, 4, 5]\n",
      "\n",
      "원본 문장 :  그의 말이 법이다\n",
      "encoded된 문장 :  [6, 1, 7]\n",
      "\n",
      "원본 문장 :  가는 말이 고와야 오는 말이 곱다\n",
      "encoded된 문장 :  [8, 1, 9, 10, 1, 11]\n",
      "\n",
      "sequences와 해석 : \n",
      "[2 : 경마장에 3 : 있는 ]\n",
      "[2 : 경마장에 3 : 있는 1 : 말이 ]\n",
      "[2 : 경마장에 3 : 있는 1 : 말이 4 : 뛰고 ]\n",
      "[2 : 경마장에 3 : 있는 1 : 말이 4 : 뛰고 5 : 있다 ]\n",
      "[3 : 있는 1 : 말이 ]\n",
      "[3 : 있는 1 : 말이 4 : 뛰고 ]\n",
      "[3 : 있는 1 : 말이 4 : 뛰고 5 : 있다 ]\n",
      "[1 : 말이 4 : 뛰고 ]\n",
      "[1 : 말이 4 : 뛰고 5 : 있다 ]\n",
      "[4 : 뛰고 5 : 있다 ]\n",
      "[6 : 그의 1 : 말이 ]\n",
      "[6 : 그의 1 : 말이 7 : 법이다 ]\n",
      "[1 : 말이 7 : 법이다 ]\n",
      "[8 : 가는 1 : 말이 ]\n",
      "[8 : 가는 1 : 말이 9 : 고와야 ]\n",
      "[8 : 가는 1 : 말이 9 : 고와야 10 : 오는 ]\n",
      "[8 : 가는 1 : 말이 9 : 고와야 10 : 오는 1 : 말이 ]\n",
      "[8 : 가는 1 : 말이 9 : 고와야 10 : 오는 1 : 말이 11 : 곱다 ]\n",
      "[1 : 말이 9 : 고와야 ]\n",
      "[1 : 말이 9 : 고와야 10 : 오는 ]\n",
      "[1 : 말이 9 : 고와야 10 : 오는 1 : 말이 ]\n",
      "[1 : 말이 9 : 고와야 10 : 오는 1 : 말이 11 : 곱다 ]\n",
      "[9 : 고와야 10 : 오는 ]\n",
      "[9 : 고와야 10 : 오는 1 : 말이 ]\n",
      "[9 : 고와야 10 : 오는 1 : 말이 11 : 곱다 ]\n",
      "[10 : 오는 1 : 말이 ]\n",
      "[10 : 오는 1 : 말이 11 : 곱다 ]\n",
      "[1 : 말이 11 : 곱다 ]\n"
     ]
    }
   ],
   "source": [
    "# text를 학습시키기 위해 ['경마장에 있는', '경마장에 있는 말이', '경마장에 있는 말이 뛰고', ...] 단위로 나눠 sequences에 append\n",
    "# 독립변수(x) : 유동적, 종속변수(y) : 고정\n",
    "sequences = []\n",
    "for line in text.split('\\n'):\n",
    "    print('원본 문장 : ', line)\n",
    "    encoded = t.texts_to_sequences([line])[0]  # 1차원\n",
    "    print('encoded된 문장 : ', encoded)\n",
    "    print()\n",
    "    for i in range(0, len(encoded)-1):        # 시작 index\n",
    "        for j in range(i+2, len(encoded)+1):  # 끝 index\n",
    "            sequences.append(encoded[i : j])  # i번째부터 j번째 앞까지\n",
    "# sequences\n",
    "print('sequences와 해석 : ')\n",
    "for sequence in sequences:\n",
    "    print('[', end='')\n",
    "    for word_seq in sequence:\n",
    "        for word, value in t.word_index.items():\n",
    "            if word_seq == value:\n",
    "                print('{} : {}'.format(word_seq, word), end=' ')\n",
    "                break\n",
    "    print(']')"
   ]
  },
  {
   "cell_type": "code",
   "execution_count": 8,
   "id": "63870841",
   "metadata": {
    "ExecuteTime": {
     "end_time": "2025-01-02T06:00:01.244499Z",
     "start_time": "2025-01-02T06:00:01.231712Z"
    }
   },
   "outputs": [
    {
     "data": {
      "text/plain": [
       "[[2, 3],\n",
       " [2, 3, 1],\n",
       " [2, 3, 1, 4],\n",
       " [2, 3, 1, 4, 5],\n",
       " [3, 1],\n",
       " [3, 1, 4],\n",
       " [3, 1, 4, 5],\n",
       " [1, 4],\n",
       " [1, 4, 5],\n",
       " [4, 5],\n",
       " [6, 1],\n",
       " [6, 1, 7],\n",
       " [1, 7],\n",
       " [8, 1],\n",
       " [8, 1, 9],\n",
       " [8, 1, 9, 10],\n",
       " [8, 1, 9, 10, 1],\n",
       " [8, 1, 9, 10, 1, 11],\n",
       " [1, 9],\n",
       " [1, 9, 10],\n",
       " [1, 9, 10, 1],\n",
       " [1, 9, 10, 1, 11],\n",
       " [9, 10],\n",
       " [9, 10, 1],\n",
       " [9, 10, 1, 11],\n",
       " [10, 1],\n",
       " [10, 1, 11],\n",
       " [1, 11]]"
      ]
     },
     "execution_count": 8,
     "metadata": {},
     "output_type": "execute_result"
    }
   ],
   "source": [
    "sequences"
   ]
  },
  {
   "cell_type": "code",
   "execution_count": 9,
   "id": "cf54dd32",
   "metadata": {
    "ExecuteTime": {
     "end_time": "2025-01-02T06:00:01.255496Z",
     "start_time": "2025-01-02T06:00:01.247499Z"
    }
   },
   "outputs": [
    {
     "name": "stdout",
     "output_type": "stream",
     "text": [
      "[2, 3, 4, 5, 2, 3, 4, 2, 3, 2, 2, 3, 2, 2, 3, 4, 5, 6, 2, 3, 4, 5, 2, 3, 4, 2, 3, 2]\n"
     ]
    }
   ],
   "source": [
    "# sequence별 len\n",
    "print([len(sequence) for sequence in sequences])"
   ]
  },
  {
   "cell_type": "code",
   "execution_count": 10,
   "id": "eb4a65c1",
   "metadata": {
    "ExecuteTime": {
     "end_time": "2025-01-02T06:00:01.277626Z",
     "start_time": "2025-01-02T06:00:01.257495Z"
    }
   },
   "outputs": [
    {
     "data": {
      "text/plain": [
       "6"
      ]
     },
     "execution_count": 10,
     "metadata": {},
     "output_type": "execute_result"
    }
   ],
   "source": [
    "# 독립변수가 가장 많은 것(my_len)을 기준으로 maxlen 조정\n",
    "my_len = max([len(sequence) for sequence in sequences])\n",
    "my_len"
   ]
  },
  {
   "cell_type": "code",
   "execution_count": 11,
   "id": "b0ab93f0",
   "metadata": {
    "ExecuteTime": {
     "end_time": "2025-01-02T06:00:11.028357Z",
     "start_time": "2025-01-02T06:00:01.279635Z"
    }
   },
   "outputs": [
    {
     "data": {
      "text/plain": [
       "(numpy.ndarray,\n",
       " (28, 6),\n",
       " array([[ 0,  0,  0,  0,  2,  3],\n",
       "        [ 0,  0,  0,  2,  3,  1],\n",
       "        [ 0,  0,  2,  3,  1,  4],\n",
       "        [ 0,  2,  3,  1,  4,  5],\n",
       "        [ 0,  0,  0,  0,  3,  1],\n",
       "        [ 0,  0,  0,  3,  1,  4],\n",
       "        [ 0,  0,  3,  1,  4,  5],\n",
       "        [ 0,  0,  0,  0,  1,  4],\n",
       "        [ 0,  0,  0,  1,  4,  5],\n",
       "        [ 0,  0,  0,  0,  4,  5],\n",
       "        [ 0,  0,  0,  0,  6,  1],\n",
       "        [ 0,  0,  0,  6,  1,  7],\n",
       "        [ 0,  0,  0,  0,  1,  7],\n",
       "        [ 0,  0,  0,  0,  8,  1],\n",
       "        [ 0,  0,  0,  8,  1,  9],\n",
       "        [ 0,  0,  8,  1,  9, 10],\n",
       "        [ 0,  8,  1,  9, 10,  1],\n",
       "        [ 8,  1,  9, 10,  1, 11],\n",
       "        [ 0,  0,  0,  0,  1,  9],\n",
       "        [ 0,  0,  0,  1,  9, 10],\n",
       "        [ 0,  0,  1,  9, 10,  1],\n",
       "        [ 0,  1,  9, 10,  1, 11],\n",
       "        [ 0,  0,  0,  0,  9, 10],\n",
       "        [ 0,  0,  0,  9, 10,  1],\n",
       "        [ 0,  0,  9, 10,  1, 11],\n",
       "        [ 0,  0,  0,  0, 10,  1],\n",
       "        [ 0,  0,  0, 10,  1, 11],\n",
       "        [ 0,  0,  0,  0,  1, 11]]))"
      ]
     },
     "execution_count": 11,
     "metadata": {},
     "output_type": "execute_result"
    }
   ],
   "source": [
    "# sequences를 훈련 가능하도록 6개 열로 조정 : padding 작업\n",
    "from tensorflow.keras.preprocessing.sequence import pad_sequences\n",
    "padded_sequence = pad_sequences(sequences=sequences, \n",
    "                                maxlen=my_len,     # 최대 열 수\n",
    "                                padding='pre',     # pre:앞, post:뒤. 최대 열수보다 작은 경우 0을 채울 위치. 종속변수의 열이 0이 될 수 없으므로 'pre'처리\n",
    "                                # truncating='pre',  # pre:앞, post:뒤. 최대 열수보다 많은 경우 데이터를 자를 위치.\n",
    "                                # value=0.0  # 0:기본값(채울값). 1로 변경 시 빈 공간이 1이 되지만 1:'말이'이므로 제외.\n",
    "                                )\n",
    "type(padded_sequence), padded_sequence.shape, padded_sequence"
   ]
  },
  {
   "cell_type": "code",
   "execution_count": 12,
   "id": "6e169aef",
   "metadata": {
    "ExecuteTime": {
     "end_time": "2025-01-02T06:00:11.041750Z",
     "start_time": "2025-01-02T06:00:11.035368Z"
    }
   },
   "outputs": [],
   "source": [
    "# 독립변수(X)와 타켓변수(종속변수y)로 분리\n",
    "X = padded_sequence[:, :-1]  # 입력\n",
    "y = padded_sequence[:, -1]   # 출력. 원핫인코딩 필요"
   ]
  },
  {
   "cell_type": "code",
   "execution_count": 13,
   "id": "5d33468c",
   "metadata": {
    "ExecuteTime": {
     "end_time": "2025-01-02T06:00:11.054812Z",
     "start_time": "2025-01-02T06:00:11.047815Z"
    }
   },
   "outputs": [
    {
     "data": {
      "text/plain": [
       "11"
      ]
     },
     "execution_count": 13,
     "metadata": {},
     "output_type": "execute_result"
    }
   ],
   "source": [
    "# 단어 갯수\n",
    "vocab_size = len(t.word_index)\n",
    "vocab_size"
   ]
  },
  {
   "cell_type": "code",
   "execution_count": 14,
   "id": "2da1208b",
   "metadata": {
    "ExecuteTime": {
     "end_time": "2025-01-02T06:00:11.070138Z",
     "start_time": "2025-01-02T06:00:11.057845Z"
    }
   },
   "outputs": [
    {
     "data": {
      "text/plain": [
       "array([[0., 0., 0., 1., 0., 0., 0., 0., 0., 0., 0., 0.],\n",
       "       [0., 1., 0., 0., 0., 0., 0., 0., 0., 0., 0., 0.],\n",
       "       [0., 0., 0., 0., 1., 0., 0., 0., 0., 0., 0., 0.],\n",
       "       [0., 0., 0., 0., 0., 1., 0., 0., 0., 0., 0., 0.],\n",
       "       [0., 1., 0., 0., 0., 0., 0., 0., 0., 0., 0., 0.],\n",
       "       [0., 0., 0., 0., 1., 0., 0., 0., 0., 0., 0., 0.],\n",
       "       [0., 0., 0., 0., 0., 1., 0., 0., 0., 0., 0., 0.],\n",
       "       [0., 0., 0., 0., 1., 0., 0., 0., 0., 0., 0., 0.],\n",
       "       [0., 0., 0., 0., 0., 1., 0., 0., 0., 0., 0., 0.],\n",
       "       [0., 0., 0., 0., 0., 1., 0., 0., 0., 0., 0., 0.],\n",
       "       [0., 1., 0., 0., 0., 0., 0., 0., 0., 0., 0., 0.],\n",
       "       [0., 0., 0., 0., 0., 0., 0., 1., 0., 0., 0., 0.],\n",
       "       [0., 0., 0., 0., 0., 0., 0., 1., 0., 0., 0., 0.],\n",
       "       [0., 1., 0., 0., 0., 0., 0., 0., 0., 0., 0., 0.],\n",
       "       [0., 0., 0., 0., 0., 0., 0., 0., 0., 1., 0., 0.],\n",
       "       [0., 0., 0., 0., 0., 0., 0., 0., 0., 0., 1., 0.],\n",
       "       [0., 1., 0., 0., 0., 0., 0., 0., 0., 0., 0., 0.],\n",
       "       [0., 0., 0., 0., 0., 0., 0., 0., 0., 0., 0., 1.],\n",
       "       [0., 0., 0., 0., 0., 0., 0., 0., 0., 1., 0., 0.],\n",
       "       [0., 0., 0., 0., 0., 0., 0., 0., 0., 0., 1., 0.],\n",
       "       [0., 1., 0., 0., 0., 0., 0., 0., 0., 0., 0., 0.],\n",
       "       [0., 0., 0., 0., 0., 0., 0., 0., 0., 0., 0., 1.],\n",
       "       [0., 0., 0., 0., 0., 0., 0., 0., 0., 0., 1., 0.],\n",
       "       [0., 1., 0., 0., 0., 0., 0., 0., 0., 0., 0., 0.],\n",
       "       [0., 0., 0., 0., 0., 0., 0., 0., 0., 0., 0., 1.],\n",
       "       [0., 1., 0., 0., 0., 0., 0., 0., 0., 0., 0., 0.],\n",
       "       [0., 0., 0., 0., 0., 0., 0., 0., 0., 0., 0., 1.],\n",
       "       [0., 0., 0., 0., 0., 0., 0., 0., 0., 0., 0., 1.]], dtype=float32)"
      ]
     },
     "execution_count": 14,
     "metadata": {},
     "output_type": "execute_result"
    }
   ],
   "source": [
    "# 종속변수의 원핫인코딩(pd.dummies:없는 분류가 존재하므로 사용x, to_categorical)\n",
    "from tensorflow.keras.utils import to_categorical\n",
    "Y = to_categorical(y, vocab_size+1)  # vocab_size+1:원핫인코딩 카테고리수\n",
    "Y"
   ]
  },
  {
   "cell_type": "code",
   "execution_count": 15,
   "id": "0ede2a98",
   "metadata": {
    "ExecuteTime": {
     "end_time": "2025-01-02T06:00:11.078901Z",
     "start_time": "2025-01-02T06:00:11.072139Z"
    }
   },
   "outputs": [
    {
     "data": {
      "text/plain": [
       "((28, 5), (28, 12))"
      ]
     },
     "execution_count": 15,
     "metadata": {},
     "output_type": "execute_result"
    }
   ],
   "source": [
    "X.shape, Y.shape"
   ]
  },
  {
   "cell_type": "markdown",
   "id": "be895fee",
   "metadata": {},
   "source": [
    "# 2. 모델 생성(RNN)\n",
    " - 순서가 의미 있는 데이터를 학습할 경우 ex. 자연어처리, 연주, 주식, 날씨, ..."
   ]
  },
  {
   "cell_type": "code",
   "execution_count": 16,
   "id": "946de98d",
   "metadata": {
    "ExecuteTime": {
     "end_time": "2025-01-02T06:00:11.087899Z",
     "start_time": "2025-01-02T06:00:11.080900Z"
    }
   },
   "outputs": [],
   "source": [
    "from tensorflow.keras.models import Sequential  # 순차적 레이어 모델 생성\n",
    "from tensorflow.keras.layers import Embedding, SimpleRNN, RNN  # 긴 희소행렬 변환\n",
    "from tensorflow.keras.layers import Dense"
   ]
  },
  {
   "cell_type": "code",
   "execution_count": 17,
   "id": "2aa27c2c",
   "metadata": {
    "ExecuteTime": {
     "end_time": "2025-01-02T06:00:11.578307Z",
     "start_time": "2025-01-02T06:00:11.089898Z"
    }
   },
   "outputs": [
    {
     "name": "stdout",
     "output_type": "stream",
     "text": [
      "Model: \"sequential\"\n",
      "_________________________________________________________________\n",
      " Layer (type)                Output Shape              Param #   \n",
      "=================================================================\n",
      " embedding (Embedding)       (None, 5, 10)             120       \n",
      "                                                                 \n",
      " simple_rnn (SimpleRNN)      (None, 32)                1376      \n",
      "                                                                 \n",
      " dense (Dense)               (None, 12)                396       \n",
      "                                                                 \n",
      "=================================================================\n",
      "Total params: 1,892\n",
      "Trainable params: 1,892\n",
      "Non-trainable params: 0\n",
      "_________________________________________________________________\n",
      "None\n"
     ]
    }
   ],
   "source": [
    "model = Sequential()\n",
    "\n",
    "# 희소행렬(12열) -> 10열 행렬 (28개(X.shape[0]=독립변수 행수)\n",
    "model.add(Embedding(input_dim=vocab_size+1,   # 12개 입력. Param:12*10=120\n",
    "                    output_dim=vocab_size-1,  # 10개 출력하기 위한 embedding\n",
    "                    input_length=X.shape[1])) # 데이터 수\n",
    "model.add(SimpleRNN(units=32))  \n",
    "model.add(Dense(units=12, activation='softmax'))  # 다중분류. 32*12+12=396\n",
    "print(model.summary())"
   ]
  },
  {
   "cell_type": "markdown",
   "id": "d7fc7edc",
   "metadata": {},
   "source": [
    "# 3. 학습과정 설정 및 학습하기"
   ]
  },
  {
   "cell_type": "code",
   "execution_count": 18,
   "id": "2a0120b8",
   "metadata": {
    "ExecuteTime": {
     "end_time": "2025-01-02T06:00:14.577189Z",
     "start_time": "2025-01-02T06:00:11.578307Z"
    }
   },
   "outputs": [
    {
     "name": "stdout",
     "output_type": "stream",
     "text": [
      "Epoch 1/300\n",
      "1/1 - 1s - loss: 2.5007 - accuracy: 0.0000e+00 - 1s/epoch - 1s/step\n",
      "Epoch 2/300\n",
      "1/1 - 0s - loss: 2.4908 - accuracy: 0.0000e+00 - 0s/epoch - 0s/step\n",
      "Epoch 3/300\n",
      "1/1 - 0s - loss: 2.4809 - accuracy: 0.0000e+00 - 0s/epoch - 0s/step\n",
      "Epoch 4/300\n",
      "1/1 - 0s - loss: 2.4708 - accuracy: 0.0000e+00 - 0s/epoch - 0s/step\n",
      "Epoch 5/300\n",
      "1/1 - 0s - loss: 2.4605 - accuracy: 0.0357 - 0s/epoch - 0s/step\n",
      "Epoch 6/300\n",
      "1/1 - 0s - loss: 2.4499 - accuracy: 0.0357 - 0s/epoch - 0s/step\n",
      "Epoch 7/300\n",
      "1/1 - 0s - loss: 2.4389 - accuracy: 0.0357 - 0s/epoch - 0s/step\n",
      "Epoch 8/300\n",
      "1/1 - 0s - loss: 2.4275 - accuracy: 0.0357 - 16ms/epoch - 16ms/step\n",
      "Epoch 9/300\n",
      "1/1 - 0s - loss: 2.4156 - accuracy: 0.0357 - 0s/epoch - 0s/step\n",
      "Epoch 10/300\n",
      "1/1 - 0s - loss: 2.4032 - accuracy: 0.0714 - 0s/epoch - 0s/step\n",
      "Epoch 11/300\n",
      "1/1 - 0s - loss: 2.3902 - accuracy: 0.0714 - 16ms/epoch - 16ms/step\n",
      "Epoch 12/300\n",
      "1/1 - 0s - loss: 2.3766 - accuracy: 0.0714 - 0s/epoch - 0s/step\n",
      "Epoch 13/300\n",
      "1/1 - 0s - loss: 2.3624 - accuracy: 0.0714 - 0s/epoch - 0s/step\n",
      "Epoch 14/300\n",
      "1/1 - 0s - loss: 2.3475 - accuracy: 0.1429 - 0s/epoch - 0s/step\n",
      "Epoch 15/300\n",
      "1/1 - 0s - loss: 2.3318 - accuracy: 0.2857 - 0s/epoch - 0s/step\n",
      "Epoch 16/300\n",
      "1/1 - 0s - loss: 2.3155 - accuracy: 0.3214 - 16ms/epoch - 16ms/step\n",
      "Epoch 17/300\n",
      "1/1 - 0s - loss: 2.2985 - accuracy: 0.3214 - 0s/epoch - 0s/step\n",
      "Epoch 18/300\n",
      "1/1 - 0s - loss: 2.2809 - accuracy: 0.3571 - 0s/epoch - 0s/step\n",
      "Epoch 19/300\n",
      "1/1 - 0s - loss: 2.2627 - accuracy: 0.3214 - 0s/epoch - 0s/step\n",
      "Epoch 20/300\n",
      "1/1 - 0s - loss: 2.2440 - accuracy: 0.3214 - 0s/epoch - 0s/step\n",
      "Epoch 21/300\n",
      "1/1 - 0s - loss: 2.2249 - accuracy: 0.3214 - 0s/epoch - 0s/step\n",
      "Epoch 22/300\n",
      "1/1 - 0s - loss: 2.2054 - accuracy: 0.3214 - 0s/epoch - 0s/step\n",
      "Epoch 23/300\n",
      "1/1 - 0s - loss: 2.1858 - accuracy: 0.3214 - 0s/epoch - 0s/step\n",
      "Epoch 24/300\n",
      "1/1 - 0s - loss: 2.1661 - accuracy: 0.3214 - 16ms/epoch - 16ms/step\n",
      "Epoch 25/300\n",
      "1/1 - 0s - loss: 2.1466 - accuracy: 0.3214 - 0s/epoch - 0s/step\n",
      "Epoch 26/300\n",
      "1/1 - 0s - loss: 2.1273 - accuracy: 0.3214 - 0s/epoch - 0s/step\n",
      "Epoch 27/300\n",
      "1/1 - 0s - loss: 2.1085 - accuracy: 0.3214 - 0s/epoch - 0s/step\n",
      "Epoch 28/300\n",
      "1/1 - 0s - loss: 2.0903 - accuracy: 0.2857 - 0s/epoch - 0s/step\n",
      "Epoch 29/300\n",
      "1/1 - 0s - loss: 2.0729 - accuracy: 0.2857 - 0s/epoch - 0s/step\n",
      "Epoch 30/300\n",
      "1/1 - 0s - loss: 2.0565 - accuracy: 0.2857 - 0s/epoch - 0s/step\n",
      "Epoch 31/300\n",
      "1/1 - 0s - loss: 2.0411 - accuracy: 0.2857 - 0s/epoch - 0s/step\n",
      "Epoch 32/300\n",
      "1/1 - 0s - loss: 2.0268 - accuracy: 0.2857 - 0s/epoch - 0s/step\n",
      "Epoch 33/300\n",
      "1/1 - 0s - loss: 2.0136 - accuracy: 0.2857 - 0s/epoch - 0s/step\n",
      "Epoch 34/300\n",
      "1/1 - 0s - loss: 2.0013 - accuracy: 0.2857 - 0s/epoch - 0s/step\n",
      "Epoch 35/300\n",
      "1/1 - 0s - loss: 1.9899 - accuracy: 0.2857 - 16ms/epoch - 16ms/step\n",
      "Epoch 36/300\n",
      "1/1 - 0s - loss: 1.9792 - accuracy: 0.2857 - 0s/epoch - 0s/step\n",
      "Epoch 37/300\n",
      "1/1 - 0s - loss: 1.9691 - accuracy: 0.2857 - 0s/epoch - 0s/step\n",
      "Epoch 38/300\n",
      "1/1 - 0s - loss: 1.9595 - accuracy: 0.2857 - 16ms/epoch - 16ms/step\n",
      "Epoch 39/300\n",
      "1/1 - 0s - loss: 1.9502 - accuracy: 0.2857 - 0s/epoch - 0s/step\n",
      "Epoch 40/300\n",
      "1/1 - 0s - loss: 1.9412 - accuracy: 0.2857 - 0s/epoch - 0s/step\n",
      "Epoch 41/300\n",
      "1/1 - 0s - loss: 1.9325 - accuracy: 0.2857 - 16ms/epoch - 16ms/step\n",
      "Epoch 42/300\n",
      "1/1 - 0s - loss: 1.9241 - accuracy: 0.2857 - 0s/epoch - 0s/step\n",
      "Epoch 43/300\n",
      "1/1 - 0s - loss: 1.9159 - accuracy: 0.2857 - 16ms/epoch - 16ms/step\n",
      "Epoch 44/300\n",
      "1/1 - 0s - loss: 1.9082 - accuracy: 0.2857 - 3ms/epoch - 3ms/step\n",
      "Epoch 45/300\n",
      "1/1 - 0s - loss: 1.9008 - accuracy: 0.2857 - 4ms/epoch - 4ms/step\n",
      "Epoch 46/300\n",
      "1/1 - 0s - loss: 1.8937 - accuracy: 0.2857 - 3ms/epoch - 3ms/step\n",
      "Epoch 47/300\n",
      "1/1 - 0s - loss: 1.8871 - accuracy: 0.2857 - 3ms/epoch - 3ms/step\n",
      "Epoch 48/300\n",
      "1/1 - 0s - loss: 1.8806 - accuracy: 0.2857 - 4ms/epoch - 4ms/step\n",
      "Epoch 49/300\n",
      "1/1 - 0s - loss: 1.8744 - accuracy: 0.2857 - 3ms/epoch - 3ms/step\n",
      "Epoch 50/300\n",
      "1/1 - 0s - loss: 1.8683 - accuracy: 0.2857 - 3ms/epoch - 3ms/step\n",
      "Epoch 51/300\n",
      "1/1 - 0s - loss: 1.8622 - accuracy: 0.2857 - 3ms/epoch - 3ms/step\n",
      "Epoch 52/300\n",
      "1/1 - 0s - loss: 1.8560 - accuracy: 0.2857 - 0s/epoch - 0s/step\n",
      "Epoch 53/300\n",
      "1/1 - 0s - loss: 1.8497 - accuracy: 0.2857 - 0s/epoch - 0s/step\n",
      "Epoch 54/300\n",
      "1/1 - 0s - loss: 1.8432 - accuracy: 0.2857 - 16ms/epoch - 16ms/step\n",
      "Epoch 55/300\n",
      "1/1 - 0s - loss: 1.8366 - accuracy: 0.3214 - 0s/epoch - 0s/step\n",
      "Epoch 56/300\n",
      "1/1 - 0s - loss: 1.8298 - accuracy: 0.3214 - 0s/epoch - 0s/step\n",
      "Epoch 57/300\n",
      "1/1 - 0s - loss: 1.8229 - accuracy: 0.3214 - 0s/epoch - 0s/step\n",
      "Epoch 58/300\n",
      "1/1 - 0s - loss: 1.8158 - accuracy: 0.3214 - 0s/epoch - 0s/step\n",
      "Epoch 59/300\n",
      "1/1 - 0s - loss: 1.8085 - accuracy: 0.3214 - 0s/epoch - 0s/step\n",
      "Epoch 60/300\n",
      "1/1 - 0s - loss: 1.8009 - accuracy: 0.3214 - 0s/epoch - 0s/step\n",
      "Epoch 61/300\n",
      "1/1 - 0s - loss: 1.7931 - accuracy: 0.3214 - 0s/epoch - 0s/step\n",
      "Epoch 62/300\n",
      "1/1 - 0s - loss: 1.7850 - accuracy: 0.3214 - 0s/epoch - 0s/step\n",
      "Epoch 63/300\n",
      "1/1 - 0s - loss: 1.7766 - accuracy: 0.3571 - 0s/epoch - 0s/step\n",
      "Epoch 64/300\n",
      "1/1 - 0s - loss: 1.7679 - accuracy: 0.3571 - 0s/epoch - 0s/step\n",
      "Epoch 65/300\n",
      "1/1 - 0s - loss: 1.7588 - accuracy: 0.3571 - 0s/epoch - 0s/step\n",
      "Epoch 66/300\n",
      "1/1 - 0s - loss: 1.7494 - accuracy: 0.3571 - 0s/epoch - 0s/step\n",
      "Epoch 67/300\n",
      "1/1 - 0s - loss: 1.7397 - accuracy: 0.3929 - 0s/epoch - 0s/step\n",
      "Epoch 68/300\n",
      "1/1 - 0s - loss: 1.7296 - accuracy: 0.4286 - 0s/epoch - 0s/step\n",
      "Epoch 69/300\n",
      "1/1 - 0s - loss: 1.7191 - accuracy: 0.4643 - 0s/epoch - 0s/step\n",
      "Epoch 70/300\n",
      "1/1 - 0s - loss: 1.7083 - accuracy: 0.4643 - 0s/epoch - 0s/step\n",
      "Epoch 71/300\n",
      "1/1 - 0s - loss: 1.6970 - accuracy: 0.4643 - 0s/epoch - 0s/step\n",
      "Epoch 72/300\n",
      "1/1 - 0s - loss: 1.6855 - accuracy: 0.4643 - 0s/epoch - 0s/step\n",
      "Epoch 73/300\n",
      "1/1 - 0s - loss: 1.6735 - accuracy: 0.4643 - 0s/epoch - 0s/step\n",
      "Epoch 74/300\n",
      "1/1 - 0s - loss: 1.6612 - accuracy: 0.4643 - 0s/epoch - 0s/step\n",
      "Epoch 75/300\n",
      "1/1 - 0s - loss: 1.6485 - accuracy: 0.4643 - 0s/epoch - 0s/step\n",
      "Epoch 76/300\n",
      "1/1 - 0s - loss: 1.6354 - accuracy: 0.4643 - 0s/epoch - 0s/step\n",
      "Epoch 77/300\n",
      "1/1 - 0s - loss: 1.6220 - accuracy: 0.4643 - 0s/epoch - 0s/step\n",
      "Epoch 78/300\n",
      "1/1 - 0s - loss: 1.6082 - accuracy: 0.5357 - 6ms/epoch - 6ms/step\n",
      "Epoch 79/300\n",
      "1/1 - 0s - loss: 1.5942 - accuracy: 0.5357 - 5ms/epoch - 5ms/step\n",
      "Epoch 80/300\n",
      "1/1 - 0s - loss: 1.5798 - accuracy: 0.5357 - 3ms/epoch - 3ms/step\n",
      "Epoch 81/300\n",
      "1/1 - 0s - loss: 1.5651 - accuracy: 0.5357 - 4ms/epoch - 4ms/step\n",
      "Epoch 82/300\n",
      "1/1 - 0s - loss: 1.5501 - accuracy: 0.5357 - 3ms/epoch - 3ms/step\n",
      "Epoch 83/300\n",
      "1/1 - 0s - loss: 1.5348 - accuracy: 0.5357 - 3ms/epoch - 3ms/step\n",
      "Epoch 84/300\n",
      "1/1 - 0s - loss: 1.5193 - accuracy: 0.5357 - 3ms/epoch - 3ms/step\n",
      "Epoch 85/300\n",
      "1/1 - 0s - loss: 1.5036 - accuracy: 0.5714 - 3ms/epoch - 3ms/step\n",
      "Epoch 86/300\n",
      "1/1 - 0s - loss: 1.4877 - accuracy: 0.5714 - 3ms/epoch - 3ms/step\n",
      "Epoch 87/300\n",
      "1/1 - 0s - loss: 1.4716 - accuracy: 0.5714 - 3ms/epoch - 3ms/step\n",
      "Epoch 88/300\n",
      "1/1 - 0s - loss: 1.4554 - accuracy: 0.5714 - 1ms/epoch - 1ms/step\n",
      "Epoch 89/300\n",
      "1/1 - 0s - loss: 1.4391 - accuracy: 0.5714 - 9ms/epoch - 9ms/step\n",
      "Epoch 90/300\n",
      "1/1 - 0s - loss: 1.4226 - accuracy: 0.6071 - 5ms/epoch - 5ms/step\n",
      "Epoch 91/300\n",
      "1/1 - 0s - loss: 1.4062 - accuracy: 0.6071 - 3ms/epoch - 3ms/step\n",
      "Epoch 92/300\n",
      "1/1 - 0s - loss: 1.3897 - accuracy: 0.6071 - 3ms/epoch - 3ms/step\n",
      "Epoch 93/300\n",
      "1/1 - 0s - loss: 1.3732 - accuracy: 0.6071 - 4ms/epoch - 4ms/step\n",
      "Epoch 94/300\n",
      "1/1 - 0s - loss: 1.3568 - accuracy: 0.6429 - 4ms/epoch - 4ms/step\n",
      "Epoch 95/300\n",
      "1/1 - 0s - loss: 1.3404 - accuracy: 0.6429 - 3ms/epoch - 3ms/step\n",
      "Epoch 96/300\n",
      "1/1 - 0s - loss: 1.3241 - accuracy: 0.6429 - 2ms/epoch - 2ms/step\n",
      "Epoch 97/300\n",
      "1/1 - 0s - loss: 1.3080 - accuracy: 0.6429 - 0s/epoch - 0s/step\n",
      "Epoch 98/300\n",
      "1/1 - 0s - loss: 1.2920 - accuracy: 0.6429 - 0s/epoch - 0s/step\n",
      "Epoch 99/300\n",
      "1/1 - 0s - loss: 1.2762 - accuracy: 0.6429 - 16ms/epoch - 16ms/step\n",
      "Epoch 100/300\n",
      "1/1 - 0s - loss: 1.2606 - accuracy: 0.6429 - 0s/epoch - 0s/step\n",
      "Epoch 101/300\n",
      "1/1 - 0s - loss: 1.2452 - accuracy: 0.6429 - 0s/epoch - 0s/step\n",
      "Epoch 102/300\n",
      "1/1 - 0s - loss: 1.2299 - accuracy: 0.6429 - 16ms/epoch - 16ms/step\n",
      "Epoch 103/300\n",
      "1/1 - 0s - loss: 1.2149 - accuracy: 0.6429 - 0s/epoch - 0s/step\n",
      "Epoch 104/300\n",
      "1/1 - 0s - loss: 1.2002 - accuracy: 0.6429 - 0s/epoch - 0s/step\n",
      "Epoch 105/300\n",
      "1/1 - 0s - loss: 1.1856 - accuracy: 0.6786 - 16ms/epoch - 16ms/step\n"
     ]
    },
    {
     "name": "stdout",
     "output_type": "stream",
     "text": [
      "Epoch 106/300\n",
      "1/1 - 0s - loss: 1.1713 - accuracy: 0.6786 - 8ms/epoch - 8ms/step\n",
      "Epoch 107/300\n",
      "1/1 - 0s - loss: 1.1573 - accuracy: 0.6786 - 3ms/epoch - 3ms/step\n",
      "Epoch 108/300\n",
      "1/1 - 0s - loss: 1.1435 - accuracy: 0.6786 - 9ms/epoch - 9ms/step\n",
      "Epoch 109/300\n",
      "1/1 - 0s - loss: 1.1299 - accuracy: 0.6786 - 3ms/epoch - 3ms/step\n",
      "Epoch 110/300\n",
      "1/1 - 0s - loss: 1.1165 - accuracy: 0.6786 - 3ms/epoch - 3ms/step\n",
      "Epoch 111/300\n",
      "1/1 - 0s - loss: 1.1034 - accuracy: 0.6786 - 3ms/epoch - 3ms/step\n",
      "Epoch 112/300\n",
      "1/1 - 0s - loss: 1.0905 - accuracy: 0.6786 - 4ms/epoch - 4ms/step\n",
      "Epoch 113/300\n",
      "1/1 - 0s - loss: 1.0778 - accuracy: 0.6786 - 3ms/epoch - 3ms/step\n",
      "Epoch 114/300\n",
      "1/1 - 0s - loss: 1.0654 - accuracy: 0.7143 - 3ms/epoch - 3ms/step\n",
      "Epoch 115/300\n",
      "1/1 - 0s - loss: 1.0531 - accuracy: 0.7143 - 0s/epoch - 0s/step\n",
      "Epoch 116/300\n",
      "1/1 - 0s - loss: 1.0411 - accuracy: 0.7143 - 0s/epoch - 0s/step\n",
      "Epoch 117/300\n",
      "1/1 - 0s - loss: 1.0293 - accuracy: 0.7143 - 0s/epoch - 0s/step\n",
      "Epoch 118/300\n",
      "1/1 - 0s - loss: 1.0177 - accuracy: 0.7143 - 0s/epoch - 0s/step\n",
      "Epoch 119/300\n",
      "1/1 - 0s - loss: 1.0063 - accuracy: 0.7143 - 0s/epoch - 0s/step\n",
      "Epoch 120/300\n",
      "1/1 - 0s - loss: 0.9952 - accuracy: 0.7143 - 0s/epoch - 0s/step\n",
      "Epoch 121/300\n",
      "1/1 - 0s - loss: 0.9842 - accuracy: 0.7143 - 0s/epoch - 0s/step\n",
      "Epoch 122/300\n",
      "1/1 - 0s - loss: 0.9734 - accuracy: 0.7143 - 0s/epoch - 0s/step\n",
      "Epoch 123/300\n",
      "1/1 - 0s - loss: 0.9628 - accuracy: 0.7143 - 0s/epoch - 0s/step\n",
      "Epoch 124/300\n",
      "1/1 - 0s - loss: 0.9525 - accuracy: 0.7143 - 4ms/epoch - 4ms/step\n",
      "Epoch 125/300\n",
      "1/1 - 0s - loss: 0.9423 - accuracy: 0.7143 - 4ms/epoch - 4ms/step\n",
      "Epoch 126/300\n",
      "1/1 - 0s - loss: 0.9323 - accuracy: 0.7143 - 8ms/epoch - 8ms/step\n",
      "Epoch 127/300\n",
      "1/1 - 0s - loss: 0.9224 - accuracy: 0.7143 - 3ms/epoch - 3ms/step\n",
      "Epoch 128/300\n",
      "1/1 - 0s - loss: 0.9128 - accuracy: 0.7143 - 3ms/epoch - 3ms/step\n",
      "Epoch 129/300\n",
      "1/1 - 0s - loss: 0.9033 - accuracy: 0.7500 - 3ms/epoch - 3ms/step\n",
      "Epoch 130/300\n",
      "1/1 - 0s - loss: 0.8940 - accuracy: 0.7500 - 3ms/epoch - 3ms/step\n",
      "Epoch 131/300\n",
      "1/1 - 0s - loss: 0.8849 - accuracy: 0.7857 - 4ms/epoch - 4ms/step\n",
      "Epoch 132/300\n",
      "1/1 - 0s - loss: 0.8759 - accuracy: 0.7857 - 2ms/epoch - 2ms/step\n",
      "Epoch 133/300\n",
      "1/1 - 0s - loss: 0.8671 - accuracy: 0.7857 - 0s/epoch - 0s/step\n",
      "Epoch 134/300\n",
      "1/1 - 0s - loss: 0.8585 - accuracy: 0.7857 - 0s/epoch - 0s/step\n",
      "Epoch 135/300\n",
      "1/1 - 0s - loss: 0.8500 - accuracy: 0.7857 - 5ms/epoch - 5ms/step\n",
      "Epoch 136/300\n",
      "1/1 - 0s - loss: 0.8416 - accuracy: 0.7857 - 0s/epoch - 0s/step\n",
      "Epoch 137/300\n",
      "1/1 - 0s - loss: 0.8335 - accuracy: 0.7857 - 0s/epoch - 0s/step\n",
      "Epoch 138/300\n",
      "1/1 - 0s - loss: 0.8254 - accuracy: 0.7857 - 3ms/epoch - 3ms/step\n",
      "Epoch 139/300\n",
      "1/1 - 0s - loss: 0.8175 - accuracy: 0.7857 - 3ms/epoch - 3ms/step\n",
      "Epoch 140/300\n",
      "1/1 - 0s - loss: 0.8097 - accuracy: 0.7857 - 3ms/epoch - 3ms/step\n",
      "Epoch 141/300\n",
      "1/1 - 0s - loss: 0.8021 - accuracy: 0.7857 - 3ms/epoch - 3ms/step\n",
      "Epoch 142/300\n",
      "1/1 - 0s - loss: 0.7946 - accuracy: 0.7857 - 3ms/epoch - 3ms/step\n",
      "Epoch 143/300\n",
      "1/1 - 0s - loss: 0.7872 - accuracy: 0.7857 - 3ms/epoch - 3ms/step\n",
      "Epoch 144/300\n",
      "1/1 - 0s - loss: 0.7799 - accuracy: 0.7857 - 2ms/epoch - 2ms/step\n",
      "Epoch 145/300\n",
      "1/1 - 0s - loss: 0.7728 - accuracy: 0.7857 - 0s/epoch - 0s/step\n",
      "Epoch 146/300\n",
      "1/1 - 0s - loss: 0.7657 - accuracy: 0.7857 - 0s/epoch - 0s/step\n",
      "Epoch 147/300\n",
      "1/1 - 0s - loss: 0.7588 - accuracy: 0.7857 - 16ms/epoch - 16ms/step\n",
      "Epoch 148/300\n",
      "1/1 - 0s - loss: 0.7520 - accuracy: 0.7857 - 0s/epoch - 0s/step\n",
      "Epoch 149/300\n",
      "1/1 - 0s - loss: 0.7453 - accuracy: 0.7857 - 0s/epoch - 0s/step\n",
      "Epoch 150/300\n",
      "1/1 - 0s - loss: 0.7387 - accuracy: 0.7857 - 16ms/epoch - 16ms/step\n",
      "Epoch 151/300\n",
      "1/1 - 0s - loss: 0.7322 - accuracy: 0.7857 - 0s/epoch - 0s/step\n",
      "Epoch 152/300\n",
      "1/1 - 0s - loss: 0.7258 - accuracy: 0.8214 - 0s/epoch - 0s/step\n",
      "Epoch 153/300\n",
      "1/1 - 0s - loss: 0.7195 - accuracy: 0.8214 - 16ms/epoch - 16ms/step\n",
      "Epoch 154/300\n",
      "1/1 - 0s - loss: 0.7133 - accuracy: 0.8214 - 0s/epoch - 0s/step\n",
      "Epoch 155/300\n",
      "1/1 - 0s - loss: 0.7072 - accuracy: 0.8214 - 0s/epoch - 0s/step\n",
      "Epoch 156/300\n",
      "1/1 - 0s - loss: 0.7012 - accuracy: 0.8214 - 0s/epoch - 0s/step\n",
      "Epoch 157/300\n",
      "1/1 - 0s - loss: 0.6952 - accuracy: 0.8214 - 0s/epoch - 0s/step\n",
      "Epoch 158/300\n",
      "1/1 - 0s - loss: 0.6894 - accuracy: 0.8214 - 0s/epoch - 0s/step\n",
      "Epoch 159/300\n",
      "1/1 - 0s - loss: 0.6836 - accuracy: 0.8214 - 0s/epoch - 0s/step\n",
      "Epoch 160/300\n",
      "1/1 - 0s - loss: 0.6779 - accuracy: 0.8214 - 0s/epoch - 0s/step\n",
      "Epoch 161/300\n",
      "1/1 - 0s - loss: 0.6723 - accuracy: 0.8214 - 0s/epoch - 0s/step\n",
      "Epoch 162/300\n",
      "1/1 - 0s - loss: 0.6667 - accuracy: 0.8214 - 0s/epoch - 0s/step\n",
      "Epoch 163/300\n",
      "1/1 - 0s - loss: 0.6613 - accuracy: 0.8214 - 0s/epoch - 0s/step\n",
      "Epoch 164/300\n",
      "1/1 - 0s - loss: 0.6559 - accuracy: 0.8214 - 0s/epoch - 0s/step\n",
      "Epoch 165/300\n",
      "1/1 - 0s - loss: 0.6506 - accuracy: 0.8214 - 0s/epoch - 0s/step\n",
      "Epoch 166/300\n",
      "1/1 - 0s - loss: 0.6453 - accuracy: 0.8214 - 0s/epoch - 0s/step\n",
      "Epoch 167/300\n",
      "1/1 - 0s - loss: 0.6401 - accuracy: 0.8214 - 0s/epoch - 0s/step\n",
      "Epoch 168/300\n",
      "1/1 - 0s - loss: 0.6350 - accuracy: 0.8214 - 0s/epoch - 0s/step\n",
      "Epoch 169/300\n",
      "1/1 - 0s - loss: 0.6300 - accuracy: 0.8214 - 0s/epoch - 0s/step\n",
      "Epoch 170/300\n",
      "1/1 - 0s - loss: 0.6250 - accuracy: 0.8214 - 0s/epoch - 0s/step\n",
      "Epoch 171/300\n",
      "1/1 - 0s - loss: 0.6201 - accuracy: 0.8214 - 0s/epoch - 0s/step\n",
      "Epoch 172/300\n",
      "1/1 - 0s - loss: 0.6152 - accuracy: 0.8214 - 0s/epoch - 0s/step\n",
      "Epoch 173/300\n",
      "1/1 - 0s - loss: 0.6105 - accuracy: 0.8214 - 0s/epoch - 0s/step\n",
      "Epoch 174/300\n",
      "1/1 - 0s - loss: 0.6057 - accuracy: 0.8214 - 0s/epoch - 0s/step\n",
      "Epoch 175/300\n",
      "1/1 - 0s - loss: 0.6010 - accuracy: 0.8214 - 0s/epoch - 0s/step\n",
      "Epoch 176/300\n",
      "1/1 - 0s - loss: 0.5964 - accuracy: 0.8214 - 0s/epoch - 0s/step\n",
      "Epoch 177/300\n",
      "1/1 - 0s - loss: 0.5919 - accuracy: 0.8214 - 0s/epoch - 0s/step\n",
      "Epoch 178/300\n",
      "1/1 - 0s - loss: 0.5874 - accuracy: 0.8214 - 4ms/epoch - 4ms/step\n",
      "Epoch 179/300\n",
      "1/1 - 0s - loss: 0.5829 - accuracy: 0.8214 - 0s/epoch - 0s/step\n",
      "Epoch 180/300\n",
      "1/1 - 0s - loss: 0.5785 - accuracy: 0.8214 - 0s/epoch - 0s/step\n",
      "Epoch 181/300\n",
      "1/1 - 0s - loss: 0.5742 - accuracy: 0.8214 - 16ms/epoch - 16ms/step\n",
      "Epoch 182/300\n",
      "1/1 - 0s - loss: 0.5699 - accuracy: 0.8214 - 3ms/epoch - 3ms/step\n",
      "Epoch 183/300\n",
      "1/1 - 0s - loss: 0.5657 - accuracy: 0.8214 - 3ms/epoch - 3ms/step\n",
      "Epoch 184/300\n",
      "1/1 - 0s - loss: 0.5615 - accuracy: 0.8571 - 3ms/epoch - 3ms/step\n",
      "Epoch 185/300\n",
      "1/1 - 0s - loss: 0.5574 - accuracy: 0.8571 - 4ms/epoch - 4ms/step\n",
      "Epoch 186/300\n",
      "1/1 - 0s - loss: 0.5533 - accuracy: 0.8571 - 4ms/epoch - 4ms/step\n",
      "Epoch 187/300\n",
      "1/1 - 0s - loss: 0.5492 - accuracy: 0.8571 - 3ms/epoch - 3ms/step\n",
      "Epoch 188/300\n",
      "1/1 - 0s - loss: 0.5452 - accuracy: 0.8571 - 0s/epoch - 0s/step\n",
      "Epoch 189/300\n",
      "1/1 - 0s - loss: 0.5413 - accuracy: 0.8571 - 0s/epoch - 0s/step\n",
      "Epoch 190/300\n",
      "1/1 - 0s - loss: 0.5374 - accuracy: 0.8571 - 16ms/epoch - 16ms/step\n",
      "Epoch 191/300\n",
      "1/1 - 0s - loss: 0.5335 - accuracy: 0.8571 - 0s/epoch - 0s/step\n",
      "Epoch 192/300\n",
      "1/1 - 0s - loss: 0.5297 - accuracy: 0.8571 - 0s/epoch - 0s/step\n",
      "Epoch 193/300\n",
      "1/1 - 0s - loss: 0.5259 - accuracy: 0.8571 - 16ms/epoch - 16ms/step\n",
      "Epoch 194/300\n",
      "1/1 - 0s - loss: 0.5222 - accuracy: 0.8571 - 0s/epoch - 0s/step\n",
      "Epoch 195/300\n",
      "1/1 - 0s - loss: 0.5185 - accuracy: 0.8571 - 0s/epoch - 0s/step\n",
      "Epoch 196/300\n",
      "1/1 - 0s - loss: 0.5149 - accuracy: 0.8571 - 16ms/epoch - 16ms/step\n",
      "Epoch 197/300\n",
      "1/1 - 0s - loss: 0.5113 - accuracy: 0.8571 - 0s/epoch - 0s/step\n",
      "Epoch 198/300\n",
      "1/1 - 0s - loss: 0.5077 - accuracy: 0.8571 - 13ms/epoch - 13ms/step\n",
      "Epoch 199/300\n",
      "1/1 - 0s - loss: 0.5042 - accuracy: 0.8571 - 5ms/epoch - 5ms/step\n",
      "Epoch 200/300\n",
      "1/1 - 0s - loss: 0.5007 - accuracy: 0.8571 - 3ms/epoch - 3ms/step\n",
      "Epoch 201/300\n",
      "1/1 - 0s - loss: 0.4972 - accuracy: 0.8571 - 3ms/epoch - 3ms/step\n",
      "Epoch 202/300\n",
      "1/1 - 0s - loss: 0.4938 - accuracy: 0.8571 - 4ms/epoch - 4ms/step\n",
      "Epoch 203/300\n",
      "1/1 - 0s - loss: 0.4904 - accuracy: 0.8571 - 3ms/epoch - 3ms/step\n",
      "Epoch 204/300\n",
      "1/1 - 0s - loss: 0.4871 - accuracy: 0.8571 - 3ms/epoch - 3ms/step\n",
      "Epoch 205/300\n",
      "1/1 - 0s - loss: 0.4838 - accuracy: 0.8571 - 3ms/epoch - 3ms/step\n",
      "Epoch 206/300\n",
      "1/1 - 0s - loss: 0.4805 - accuracy: 0.8571 - 0s/epoch - 0s/step\n",
      "Epoch 207/300\n",
      "1/1 - 0s - loss: 0.4773 - accuracy: 0.8571 - 0s/epoch - 0s/step\n",
      "Epoch 208/300\n",
      "1/1 - 0s - loss: 0.4741 - accuracy: 0.8571 - 16ms/epoch - 16ms/step\n",
      "Epoch 209/300\n",
      "1/1 - 0s - loss: 0.4709 - accuracy: 0.8571 - 0s/epoch - 0s/step\n"
     ]
    },
    {
     "name": "stdout",
     "output_type": "stream",
     "text": [
      "Epoch 210/300\n",
      "1/1 - 0s - loss: 0.4677 - accuracy: 0.8571 - 0s/epoch - 0s/step\n",
      "Epoch 211/300\n",
      "1/1 - 0s - loss: 0.4646 - accuracy: 0.8571 - 16ms/epoch - 16ms/step\n",
      "Epoch 212/300\n",
      "1/1 - 0s - loss: 0.4616 - accuracy: 0.8571 - 0s/epoch - 0s/step\n",
      "Epoch 213/300\n",
      "1/1 - 0s - loss: 0.4585 - accuracy: 0.8571 - 0s/epoch - 0s/step\n",
      "Epoch 214/300\n",
      "1/1 - 0s - loss: 0.4555 - accuracy: 0.8571 - 0s/epoch - 0s/step\n",
      "Epoch 215/300\n",
      "1/1 - 0s - loss: 0.4526 - accuracy: 0.8571 - 0s/epoch - 0s/step\n",
      "Epoch 216/300\n",
      "1/1 - 0s - loss: 0.4496 - accuracy: 0.8571 - 17ms/epoch - 17ms/step\n",
      "Epoch 217/300\n",
      "1/1 - 0s - loss: 0.4467 - accuracy: 0.8571 - 0s/epoch - 0s/step\n",
      "Epoch 218/300\n",
      "1/1 - 0s - loss: 0.4438 - accuracy: 0.8571 - 0s/epoch - 0s/step\n",
      "Epoch 219/300\n",
      "1/1 - 0s - loss: 0.4410 - accuracy: 0.8571 - 14ms/epoch - 14ms/step\n",
      "Epoch 220/300\n",
      "1/1 - 0s - loss: 0.4382 - accuracy: 0.8571 - 3ms/epoch - 3ms/step\n",
      "Epoch 221/300\n",
      "1/1 - 0s - loss: 0.4354 - accuracy: 0.8571 - 3ms/epoch - 3ms/step\n",
      "Epoch 222/300\n",
      "1/1 - 0s - loss: 0.4326 - accuracy: 0.8571 - 3ms/epoch - 3ms/step\n",
      "Epoch 223/300\n",
      "1/1 - 0s - loss: 0.4299 - accuracy: 0.8571 - 3ms/epoch - 3ms/step\n",
      "Epoch 224/300\n",
      "1/1 - 0s - loss: 0.4272 - accuracy: 0.8571 - 3ms/epoch - 3ms/step\n",
      "Epoch 225/300\n",
      "1/1 - 0s - loss: 0.4245 - accuracy: 0.8571 - 3ms/epoch - 3ms/step\n",
      "Epoch 226/300\n",
      "1/1 - 0s - loss: 0.4219 - accuracy: 0.8571 - 0s/epoch - 0s/step\n",
      "Epoch 227/300\n",
      "1/1 - 0s - loss: 0.4193 - accuracy: 0.8571 - 0s/epoch - 0s/step\n",
      "Epoch 228/300\n",
      "1/1 - 0s - loss: 0.4167 - accuracy: 0.8571 - 0s/epoch - 0s/step\n",
      "Epoch 229/300\n",
      "1/1 - 0s - loss: 0.4141 - accuracy: 0.8571 - 0s/epoch - 0s/step\n",
      "Epoch 230/300\n",
      "1/1 - 0s - loss: 0.4116 - accuracy: 0.8571 - 0s/epoch - 0s/step\n",
      "Epoch 231/300\n",
      "1/1 - 0s - loss: 0.4091 - accuracy: 0.8571 - 0s/epoch - 0s/step\n",
      "Epoch 232/300\n",
      "1/1 - 0s - loss: 0.4066 - accuracy: 0.8571 - 0s/epoch - 0s/step\n",
      "Epoch 233/300\n",
      "1/1 - 0s - loss: 0.4041 - accuracy: 0.8571 - 0s/epoch - 0s/step\n",
      "Epoch 234/300\n",
      "1/1 - 0s - loss: 0.4017 - accuracy: 0.8571 - 0s/epoch - 0s/step\n",
      "Epoch 235/300\n",
      "1/1 - 0s - loss: 0.3993 - accuracy: 0.8571 - 0s/epoch - 0s/step\n",
      "Epoch 236/300\n",
      "1/1 - 0s - loss: 0.3969 - accuracy: 0.8571 - 0s/epoch - 0s/step\n",
      "Epoch 237/300\n",
      "1/1 - 0s - loss: 0.3946 - accuracy: 0.8571 - 0s/epoch - 0s/step\n",
      "Epoch 238/300\n",
      "1/1 - 0s - loss: 0.3923 - accuracy: 0.8571 - 0s/epoch - 0s/step\n",
      "Epoch 239/300\n",
      "1/1 - 0s - loss: 0.3900 - accuracy: 0.8571 - 12ms/epoch - 12ms/step\n",
      "Epoch 240/300\n",
      "1/1 - 0s - loss: 0.3877 - accuracy: 0.8571 - 663us/epoch - 663us/step\n",
      "Epoch 241/300\n",
      "1/1 - 0s - loss: 0.3855 - accuracy: 0.8571 - 3ms/epoch - 3ms/step\n",
      "Epoch 242/300\n",
      "1/1 - 0s - loss: 0.3832 - accuracy: 0.8571 - 3ms/epoch - 3ms/step\n",
      "Epoch 243/300\n",
      "1/1 - 0s - loss: 0.3811 - accuracy: 0.8571 - 3ms/epoch - 3ms/step\n",
      "Epoch 244/300\n",
      "1/1 - 0s - loss: 0.3789 - accuracy: 0.8571 - 3ms/epoch - 3ms/step\n",
      "Epoch 245/300\n",
      "1/1 - 0s - loss: 0.3767 - accuracy: 0.8571 - 3ms/epoch - 3ms/step\n",
      "Epoch 246/300\n",
      "1/1 - 0s - loss: 0.3746 - accuracy: 0.8571 - 3ms/epoch - 3ms/step\n",
      "Epoch 247/300\n",
      "1/1 - 0s - loss: 0.3725 - accuracy: 0.8571 - 1ms/epoch - 1ms/step\n",
      "Epoch 248/300\n",
      "1/1 - 0s - loss: 0.3705 - accuracy: 0.8929 - 0s/epoch - 0s/step\n",
      "Epoch 249/300\n",
      "1/1 - 0s - loss: 0.3684 - accuracy: 0.8929 - 0s/epoch - 0s/step\n",
      "Epoch 250/300\n",
      "1/1 - 0s - loss: 0.3664 - accuracy: 0.8929 - 16ms/epoch - 16ms/step\n",
      "Epoch 251/300\n",
      "1/1 - 0s - loss: 0.3644 - accuracy: 0.8929 - 0s/epoch - 0s/step\n",
      "Epoch 252/300\n",
      "1/1 - 0s - loss: 0.3624 - accuracy: 0.8929 - 0s/epoch - 0s/step\n",
      "Epoch 253/300\n",
      "1/1 - 0s - loss: 0.3605 - accuracy: 0.8929 - 0s/epoch - 0s/step\n",
      "Epoch 254/300\n",
      "1/1 - 0s - loss: 0.3585 - accuracy: 0.8929 - 0s/epoch - 0s/step\n",
      "Epoch 255/300\n",
      "1/1 - 0s - loss: 0.3566 - accuracy: 0.8929 - 0s/epoch - 0s/step\n",
      "Epoch 256/300\n",
      "1/1 - 0s - loss: 0.3547 - accuracy: 0.8929 - 0s/epoch - 0s/step\n",
      "Epoch 257/300\n",
      "1/1 - 0s - loss: 0.3529 - accuracy: 0.8929 - 0s/epoch - 0s/step\n",
      "Epoch 258/300\n",
      "1/1 - 0s - loss: 0.3510 - accuracy: 0.8929 - 0s/epoch - 0s/step\n",
      "Epoch 259/300\n",
      "1/1 - 0s - loss: 0.3492 - accuracy: 0.8929 - 5ms/epoch - 5ms/step\n",
      "Epoch 260/300\n",
      "1/1 - 0s - loss: 0.3474 - accuracy: 0.8929 - 5ms/epoch - 5ms/step\n",
      "Epoch 261/300\n",
      "1/1 - 0s - loss: 0.3457 - accuracy: 0.8929 - 0s/epoch - 0s/step\n",
      "Epoch 262/300\n",
      "1/1 - 0s - loss: 0.3439 - accuracy: 0.8929 - 3ms/epoch - 3ms/step\n",
      "Epoch 263/300\n",
      "1/1 - 0s - loss: 0.3422 - accuracy: 0.8929 - 3ms/epoch - 3ms/step\n",
      "Epoch 264/300\n",
      "1/1 - 0s - loss: 0.3405 - accuracy: 0.8929 - 3ms/epoch - 3ms/step\n",
      "Epoch 265/300\n",
      "1/1 - 0s - loss: 0.3388 - accuracy: 0.8929 - 3ms/epoch - 3ms/step\n",
      "Epoch 266/300\n",
      "1/1 - 0s - loss: 0.3371 - accuracy: 0.8929 - 3ms/epoch - 3ms/step\n",
      "Epoch 267/300\n",
      "1/1 - 0s - loss: 0.3355 - accuracy: 0.8929 - 3ms/epoch - 3ms/step\n",
      "Epoch 268/300\n",
      "1/1 - 0s - loss: 0.3338 - accuracy: 0.8929 - 2ms/epoch - 2ms/step\n",
      "Epoch 269/300\n",
      "1/1 - 0s - loss: 0.3322 - accuracy: 0.8929 - 0s/epoch - 0s/step\n",
      "Epoch 270/300\n",
      "1/1 - 0s - loss: 0.3307 - accuracy: 0.8929 - 0s/epoch - 0s/step\n",
      "Epoch 271/300\n",
      "1/1 - 0s - loss: 0.3291 - accuracy: 0.8929 - 16ms/epoch - 16ms/step\n",
      "Epoch 272/300\n",
      "1/1 - 0s - loss: 0.3276 - accuracy: 0.8929 - 0s/epoch - 0s/step\n",
      "Epoch 273/300\n",
      "1/1 - 0s - loss: 0.3260 - accuracy: 0.8929 - 0s/epoch - 0s/step\n",
      "Epoch 274/300\n",
      "1/1 - 0s - loss: 0.3245 - accuracy: 0.8929 - 16ms/epoch - 16ms/step\n",
      "Epoch 275/300\n",
      "1/1 - 0s - loss: 0.3230 - accuracy: 0.8929 - 8ms/epoch - 8ms/step\n",
      "Epoch 276/300\n",
      "1/1 - 0s - loss: 0.3216 - accuracy: 0.8929 - 3ms/epoch - 3ms/step\n",
      "Epoch 277/300\n",
      "1/1 - 0s - loss: 0.3201 - accuracy: 0.8929 - 3ms/epoch - 3ms/step\n",
      "Epoch 278/300\n",
      "1/1 - 0s - loss: 0.3187 - accuracy: 0.8929 - 3ms/epoch - 3ms/step\n",
      "Epoch 279/300\n",
      "1/1 - 0s - loss: 0.3173 - accuracy: 0.8929 - 3ms/epoch - 3ms/step\n",
      "Epoch 280/300\n",
      "1/1 - 0s - loss: 0.3159 - accuracy: 0.8929 - 4ms/epoch - 4ms/step\n",
      "Epoch 281/300\n",
      "1/1 - 0s - loss: 0.3145 - accuracy: 0.8929 - 3ms/epoch - 3ms/step\n",
      "Epoch 282/300\n",
      "1/1 - 0s - loss: 0.3132 - accuracy: 0.8929 - 2ms/epoch - 2ms/step\n",
      "Epoch 283/300\n",
      "1/1 - 0s - loss: 0.3118 - accuracy: 0.8929 - 1ms/epoch - 1ms/step\n",
      "Epoch 284/300\n",
      "1/1 - 0s - loss: 0.3105 - accuracy: 0.8929 - 0s/epoch - 0s/step\n",
      "Epoch 285/300\n",
      "1/1 - 0s - loss: 0.3092 - accuracy: 0.8929 - 0s/epoch - 0s/step\n",
      "Epoch 286/300\n",
      "1/1 - 0s - loss: 0.3079 - accuracy: 0.8929 - 16ms/epoch - 16ms/step\n",
      "Epoch 287/300\n",
      "1/1 - 0s - loss: 0.3067 - accuracy: 0.8929 - 3ms/epoch - 3ms/step\n",
      "Epoch 288/300\n",
      "1/1 - 0s - loss: 0.3054 - accuracy: 0.8929 - 0s/epoch - 0s/step\n",
      "Epoch 289/300\n",
      "1/1 - 0s - loss: 0.3042 - accuracy: 0.8929 - 3ms/epoch - 3ms/step\n",
      "Epoch 290/300\n",
      "1/1 - 0s - loss: 0.3030 - accuracy: 0.8929 - 3ms/epoch - 3ms/step\n",
      "Epoch 291/300\n",
      "1/1 - 0s - loss: 0.3018 - accuracy: 0.8929 - 3ms/epoch - 3ms/step\n",
      "Epoch 292/300\n",
      "1/1 - 0s - loss: 0.3006 - accuracy: 0.8929 - 3ms/epoch - 3ms/step\n",
      "Epoch 293/300\n",
      "1/1 - 0s - loss: 0.2994 - accuracy: 0.8929 - 4ms/epoch - 4ms/step\n",
      "Epoch 294/300\n",
      "1/1 - 0s - loss: 0.2983 - accuracy: 0.8929 - 3ms/epoch - 3ms/step\n",
      "Epoch 295/300\n",
      "1/1 - 0s - loss: 0.2972 - accuracy: 0.8929 - 1ms/epoch - 1ms/step\n",
      "Epoch 296/300\n",
      "1/1 - 0s - loss: 0.2960 - accuracy: 0.8929 - 0s/epoch - 0s/step\n",
      "Epoch 297/300\n",
      "1/1 - 0s - loss: 0.2949 - accuracy: 0.8929 - 0s/epoch - 0s/step\n",
      "Epoch 298/300\n",
      "1/1 - 0s - loss: 0.2938 - accuracy: 0.8929 - 16ms/epoch - 16ms/step\n",
      "Epoch 299/300\n",
      "1/1 - 0s - loss: 0.2928 - accuracy: 0.8929 - 0s/epoch - 0s/step\n",
      "Epoch 300/300\n",
      "1/1 - 0s - loss: 0.2917 - accuracy: 0.8929 - 0s/epoch - 0s/step\n"
     ]
    }
   ],
   "source": [
    "model.compile(loss='categorical_crossentropy',  # 다중분류에서의 손실함수\n",
    "              optimizer='adam', \n",
    "              metrics=['accuracy'])  # 평가지표 : accuracy, recall, precision\n",
    "hist = model.fit(x=X, y=Y, epochs=300, verbose=2)"
   ]
  },
  {
   "cell_type": "code",
   "execution_count": 19,
   "id": "9acb306f",
   "metadata": {
    "ExecuteTime": {
     "end_time": "2025-01-02T06:00:14.592813Z",
     "start_time": "2025-01-02T06:00:14.577189Z"
    }
   },
   "outputs": [
    {
     "data": {
      "text/plain": [
       "dict_keys(['loss', 'accuracy'])"
      ]
     },
     "execution_count": 19,
     "metadata": {},
     "output_type": "execute_result"
    }
   ],
   "source": [
    "hist.history.keys()"
   ]
  },
  {
   "cell_type": "code",
   "execution_count": 20,
   "id": "0466acfc",
   "metadata": {
    "ExecuteTime": {
     "end_time": "2025-01-02T06:00:15.844734Z",
     "start_time": "2025-01-02T06:00:14.595524Z"
    }
   },
   "outputs": [
    {
     "data": {
      "image/png": "[encoded data removed]",
      "text/plain": [
       "<Figure size 1000x500 with 2 Axes>"
      ]
     },
     "metadata": {},
     "output_type": "display_data"
    }
   ],
   "source": [
    "# 학습과정 표시하기(validation dataset 없는 경우)\n",
    "import matplotlib.pyplot as plt\n",
    "fig, loss_ax = plt.subplots(figsize=(10,5))\n",
    "loss_ax.plot(hist.history['loss'], 'r', label='train loss')\n",
    "# loss_ax.plot(hist.history['val_loss'], 'y', label='validation loss')\n",
    "loss_ax.set_xlabel('epoch')\n",
    "loss_ax.set_ylabel('loss')\n",
    "acc_ax = loss_ax.twinx()\n",
    "acc_ax.plot(hist.history['accuracy'], 'b', label='train accuracy')\n",
    "# acc_ax.plot(hist.history['val_accuracy'], 'g', label='validation accuracy')\n",
    "acc_ax.set_ylabel('accuracy')\n",
    "loss_ax.legend(loc='center right')\n",
    "acc_ax.legend(bbox_to_anchor=(0.999, 0.7))\n",
    "plt.show()"
   ]
  },
  {
   "cell_type": "markdown",
   "id": "0d0324d8",
   "metadata": {},
   "source": [
    "# 4. 다음 문맥 예측하기"
   ]
  },
  {
   "cell_type": "code",
   "execution_count": 21,
   "id": "f69eac88",
   "metadata": {
    "ExecuteTime": {
     "end_time": "2025-01-02T06:00:15.852732Z",
     "start_time": "2025-01-02T06:00:15.847734Z"
    }
   },
   "outputs": [
    {
     "name": "stdout",
     "output_type": "stream",
     "text": [
      "{'말이': 1, '경마장에': 2, '있는': 3, '뛰고': 4, '있다': 5, '그의': 6, '법이다': 7, '가는': 8, '고와야': 9, '오는': 10, '곱다': 11}\n"
     ]
    }
   ],
   "source": [
    "print(t.word_index)"
   ]
  },
  {
   "cell_type": "code",
   "execution_count": 22,
   "id": "d6dc73fa",
   "metadata": {
    "ExecuteTime": {
     "end_time": "2025-01-02T06:00:28.379041Z",
     "start_time": "2025-01-02T06:00:15.854732Z"
    },
    "scrolled": false
   },
   "outputs": [
    {
     "name": "stdout",
     "output_type": "stream",
     "text": [
      "입력 단어 : 경마장에\n",
      "예측된 단어 :  있는\n"
     ]
    }
   ],
   "source": [
    "# 모델 사용하기 (문자 -> sequence로 수정 -> padding 처리 -> predict -> argmax() -> 문자)\n",
    "# 경마장에 -> 있는\n",
    "word = input('입력 단어 : ')\n",
    "encoded = t.texts_to_sequences([word])[0]  # 1차원\n",
    "# print('입력한 단어 : {}, encoded : {}'.format(word, encoded))\n",
    "input_data = pad_sequences([encoded],          # 2차원 데이터\n",
    "                           maxlen=X.shape[1],  # 독립변수 열수\n",
    "                           padding='pre')\n",
    "# print('입력한 단어 : {}, input_data : {}'.format(word, input_data))\n",
    "pred = model.predict(input_data, verbose=0).argmax()\n",
    "for word, value in t.word_index.items():\n",
    "    if pred == value:\n",
    "        print('예측된 단어 : ', word)\n",
    "        break"
   ]
  },
  {
   "cell_type": "code",
   "execution_count": 23,
   "id": "36a84ec7",
   "metadata": {
    "ExecuteTime": {
     "end_time": "2025-01-02T06:00:28.391793Z",
     "start_time": "2025-01-02T06:00:28.382246Z"
    }
   },
   "outputs": [],
   "source": [
    "# 단어(가는), 5 => 가는 말이 고와야 오는 말이 곱다\n",
    "def sentence_generation(model, t, current_word, n):\n",
    "    for i in range(n):  # n번 반복\n",
    "        # current_word(encoded) -> sequence -> padding -> predict.argmax => 결과 단어(result)\n",
    "        # current_word = current_word+' '+result\n",
    "        encoded = t.texts_to_sequences([current_word])[0]\n",
    "        input_data = pad_sequences([encoded], maxlen=X.shape[1], padding='pre')\n",
    "        pred = model.predict(input_data, verbose=0).argmax()  # 숫자\n",
    "        for word, value in t.word_index.items():\n",
    "            if pred == value:\n",
    "                result = word\n",
    "                # print('{} : {}'.format(i+1, result))\n",
    "                current_word = current_word + ' ' + result\n",
    "                # print('{} : {}'.format(i+1, current_word))\n",
    "                break\n",
    "    return current_word"
   ]
  },
  {
   "cell_type": "code",
   "execution_count": 24,
   "id": "37836e9b",
   "metadata": {
    "ExecuteTime": {
     "end_time": "2025-01-02T06:00:28.695891Z",
     "start_time": "2025-01-02T06:00:28.398572Z"
    },
    "code_folding": []
   },
   "outputs": [
    {
     "data": {
      "text/plain": [
       "'경마장에 있는 말이 뛰고 있다'"
      ]
     },
     "execution_count": 24,
     "metadata": {},
     "output_type": "execute_result"
    }
   ],
   "source": [
    "# 문맥 예측해보기\n",
    "sentence_generation(model, t, '경마장에', 4)"
   ]
  },
  {
   "cell_type": "code",
   "execution_count": 29,
   "id": "c6fcfae8",
   "metadata": {
    "ExecuteTime": {
     "end_time": "2025-01-02T06:12:42.179151Z",
     "start_time": "2025-01-02T06:12:42.172152Z"
    }
   },
   "outputs": [],
   "source": [
    "# 단어(가는), 5 => 가는 말이 고와야 오는 말이 곱다\n",
    "def sentence_generation(model, t, current_word, n):\n",
    "    encoded = t.texts_to_sequences([current_word])[0]\n",
    "    input_data = pad_sequences([encoded], \n",
    "                               maxlen=X.shape[1],\n",
    "                               padding='pre')\n",
    "    pred = model.predict(input_data, verbose=0).argmax()\n",
    "    pred_word = ''\n",
    "    for word, value in t.word_index.items():\n",
    "        if pred==value:\n",
    "            print(word, end = ' ')\n",
    "            pred_word = word\n",
    "            break\n",
    "    if n != 0:\n",
    "        sentence_generation(model, t, pred_word, n-1)"
   ]
  },
  {
   "cell_type": "code",
   "execution_count": 30,
   "id": "81771def",
   "metadata": {
    "ExecuteTime": {
     "end_time": "2025-01-02T06:12:42.534041Z",
     "start_time": "2025-01-02T06:12:42.301376Z"
    }
   },
   "outputs": [
    {
     "name": "stdout",
     "output_type": "stream",
     "text": [
      "있는 말이 뛰고 "
     ]
    }
   ],
   "source": [
    "# 문맥 예측해보기\n",
    "sentence_generation(model, t, '경마장에', 2)"
   ]
  },
  {
   "cell_type": "code",
   "execution_count": 31,
   "id": "1b69888e",
   "metadata": {
    "ExecuteTime": {
     "end_time": "2025-01-02T06:12:43.507241Z",
     "start_time": "2025-01-02T06:12:43.497440Z"
    }
   },
   "outputs": [],
   "source": [
    "# 단어(가는), 5 => 가는 말이 고와야 오는 말이 곱다\n",
    "def sentence_generation(model, t, current_word, n):\n",
    "    encoded = t.texts_to_sequences([current_word])[0]\n",
    "    input_data = pad_sequences([encoded], \n",
    "                               maxlen=X.shape[1],\n",
    "                               padding='pre')\n",
    "    pred = model.predict(input_data, verbose=0).argmax()\n",
    "    \n",
    "    pred_word = ''\n",
    "    for word, value in t.word_index.items():\n",
    "        if pred==value:\n",
    "            pred_word = current_word + ' ' + word\n",
    "            break\n",
    "            \n",
    "    if n >= 1:\n",
    "        return sentence_generation(model, t, pred_word, n-1)\n",
    "    else:\n",
    "        return (current_word)"
   ]
  },
  {
   "cell_type": "code",
   "execution_count": 32,
   "id": "0bb2d4d7",
   "metadata": {
    "ExecuteTime": {
     "end_time": "2025-01-02T06:12:43.901821Z",
     "start_time": "2025-01-02T06:12:43.636208Z"
    }
   },
   "outputs": [
    {
     "data": {
      "text/plain": [
       "'경마장에 있는 말이'"
      ]
     },
     "execution_count": 32,
     "metadata": {},
     "output_type": "execute_result"
    }
   ],
   "source": [
    "# 문맥 예측해보기\n",
    "sentence_generation(model, t, '경마장에', 2)"
   ]
  },
  {
   "cell_type": "code",
   "execution_count": null,
   "id": "a912032c",
   "metadata": {},
   "outputs": [],
   "source": []
  }
 ],
 "metadata": {
  "kernelspec": {
   "display_name": "Python 3 (ipykernel)",
   "language": "python",
   "name": "python3"
  },
  "language_info": {
   "codemirror_mode": {
    "name": "ipython",
    "version": 3
   },
   "file_extension": ".py",
   "mimetype": "text/x-python",
   "name": "python",
   "nbconvert_exporter": "python",
   "pygments_lexer": "ipython3",
   "version": "3.10.9"
  },
  "toc": {
   "base_numbering": 1,
   "nav_menu": {},
   "number_sections": true,
   "sideBar": true,
   "skip_h1_title": false,
   "title_cell": "Table of Contents",
   "title_sidebar": "Contents",
   "toc_cell": false,
   "toc_position": {
    "height": "calc(100% - 180px)",
    "left": "10px",
    "top": "150px",
    "width": "279.82px"
   },
   "toc_section_display": true,
   "toc_window_display": true
  }
 },
 "nbformat": 4,
 "nbformat_minor": 5
}
