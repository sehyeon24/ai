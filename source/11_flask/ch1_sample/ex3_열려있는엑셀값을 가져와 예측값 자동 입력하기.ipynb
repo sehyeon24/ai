{
 "cells": [
  {
   "cell_type": "code",
   "execution_count": 1,
   "id": "fd3c869b",
   "metadata": {
    "ExecuteTime": {
     "end_time": "2025-01-06T02:51:34.072474Z",
     "start_time": "2025-01-06T02:51:21.149638Z"
    }
   },
   "outputs": [],
   "source": [
    "import joblib\n",
    "import xlwings as xw"
   ]
  },
  {
   "cell_type": "code",
   "execution_count": 3,
   "id": "0476e0bd",
   "metadata": {
    "ExecuteTime": {
     "end_time": "2025-01-06T02:55:30.124276Z",
     "start_time": "2025-01-06T02:55:29.363134Z"
    }
   },
   "outputs": [],
   "source": [
    "wb = xw.books.active\n",
    "ws = wb.sheets.active\n",
    "\n",
    "loaded_model = joblib.load('../model/ex1_apt_price_regression.pkl')"
   ]
  },
  {
   "cell_type": "code",
   "execution_count": 4,
   "id": "f7fc12f5",
   "metadata": {
    "ExecuteTime": {
     "end_time": "2025-01-06T02:57:51.393067Z",
     "start_time": "2025-01-06T02:57:51.354599Z"
    }
   },
   "outputs": [
    {
     "data": {
      "text/plain": [
       "2010.0"
      ]
     },
     "execution_count": 4,
     "metadata": {},
     "output_type": "execute_result"
    }
   ],
   "source": [
    "ws.range('B2').value"
   ]
  },
  {
   "cell_type": "code",
   "execution_count": 11,
   "id": "d319b7ee",
   "metadata": {
    "ExecuteTime": {
     "end_time": "2025-01-06T03:07:36.885512Z",
     "start_time": "2025-01-06T03:07:36.878341Z"
    }
   },
   "outputs": [],
   "source": [
    "def pred_price(line):\n",
    "    year   = ws.range('B' + str(line)).value\n",
    "    square = ws.range('C' + str(line)).value\n",
    "    floor  = ws.range('D' + str(line)).value\n",
    "    pred   = loaded_model.predict([1, year, square, floor])[0]  # 예측치를 1차원으로\n",
    "    # print(year, square, floor, pred)\n",
    "    ws.range('E' + str(line)).value = pred"
   ]
  },
  {
   "cell_type": "code",
   "execution_count": 12,
   "id": "3ca626ee",
   "metadata": {
    "ExecuteTime": {
     "end_time": "2025-01-06T03:07:37.681122Z",
     "start_time": "2025-01-06T03:07:37.573795Z"
    }
   },
   "outputs": [],
   "source": [
    "for i in range(2, 5):\n",
    "    pred_price(i)"
   ]
  },
  {
   "cell_type": "code",
   "execution_count": null,
   "id": "32ecba31",
   "metadata": {},
   "outputs": [],
   "source": []
  }
 ],
 "metadata": {
  "kernelspec": {
   "display_name": "Python 3 (ipykernel)",
   "language": "python",
   "name": "python3"
  },
  "language_info": {
   "codemirror_mode": {
    "name": "ipython",
    "version": 3
   },
   "file_extension": ".py",
   "mimetype": "text/x-python",
   "name": "python",
   "nbconvert_exporter": "python",
   "pygments_lexer": "ipython3",
   "version": "3.10.9"
  },
  "toc": {
   "base_numbering": 1,
   "nav_menu": {},
   "number_sections": true,
   "sideBar": true,
   "skip_h1_title": false,
   "title_cell": "Table of Contents",
   "title_sidebar": "Contents",
   "toc_cell": false,
   "toc_position": {},
   "toc_section_display": true,
   "toc_window_display": false
  }
 },
 "nbformat": 4,
 "nbformat_minor": 5
}
