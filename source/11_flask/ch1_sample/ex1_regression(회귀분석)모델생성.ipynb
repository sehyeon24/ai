{
 "cells": [
  {
   "cell_type": "markdown",
   "id": "7bd12c9e",
   "metadata": {},
   "source": [
    "- 데이터 소스 : 국토교통부 실거래가 공개시스템 https://rtmobile.molit.go.kr/pt/xls/xls.do?mobileAt="
   ]
  },
  {
   "cell_type": "code",
   "execution_count": 1,
   "id": "fd3f6a90",
   "metadata": {
    "ExecuteTime": {
     "end_time": "2025-01-06T01:07:48.630857Z",
     "start_time": "2025-01-06T01:07:43.836614Z"
    }
   },
   "outputs": [],
   "source": [
    "import pandas as pd           # csv 파일 read\n",
    "import statsmodels.api as sm  # 회귀분석 모델 생성\n",
    "import joblib                 # .pkl 모델 저장, load"
   ]
  },
  {
   "cell_type": "code",
   "execution_count": 3,
   "id": "a1378a6c",
   "metadata": {
    "ExecuteTime": {
     "end_time": "2025-01-06T01:09:40.335295Z",
     "start_time": "2025-01-06T01:09:40.314020Z"
    }
   },
   "outputs": [
    {
     "data": {
      "text/html": [
       "<div>\n",
       "<style scoped>\n",
       "    .dataframe tbody tr th:only-of-type {\n",
       "        vertical-align: middle;\n",
       "    }\n",
       "\n",
       "    .dataframe tbody tr th {\n",
       "        vertical-align: top;\n",
       "    }\n",
       "\n",
       "    .dataframe thead th {\n",
       "        text-align: right;\n",
       "    }\n",
       "</style>\n",
       "<table border=\"1\" class=\"dataframe\">\n",
       "  <thead>\n",
       "    <tr style=\"text-align: right;\">\n",
       "      <th></th>\n",
       "      <th>거래금액</th>\n",
       "      <th>건축년도</th>\n",
       "      <th>년</th>\n",
       "      <th>법정동</th>\n",
       "      <th>아파트</th>\n",
       "      <th>월</th>\n",
       "      <th>일</th>\n",
       "      <th>전용면적</th>\n",
       "      <th>지번</th>\n",
       "      <th>지역코드</th>\n",
       "      <th>층</th>\n",
       "      <th>해제사유발생일</th>\n",
       "      <th>해제여부</th>\n",
       "    </tr>\n",
       "  </thead>\n",
       "  <tbody>\n",
       "    <tr>\n",
       "      <th>0</th>\n",
       "      <td>80000</td>\n",
       "      <td>2002</td>\n",
       "      <td>2021</td>\n",
       "      <td>신교동</td>\n",
       "      <td>신현(101동)</td>\n",
       "      <td>8</td>\n",
       "      <td>16</td>\n",
       "      <td>84.82</td>\n",
       "      <td>6-13</td>\n",
       "      <td>11110</td>\n",
       "      <td>1</td>\n",
       "      <td>-</td>\n",
       "      <td>-</td>\n",
       "    </tr>\n",
       "    <tr>\n",
       "      <th>1</th>\n",
       "      <td>209000</td>\n",
       "      <td>2008</td>\n",
       "      <td>2021</td>\n",
       "      <td>사직동</td>\n",
       "      <td>광화문풍림스페이스본(106동)</td>\n",
       "      <td>8</td>\n",
       "      <td>5</td>\n",
       "      <td>163.33</td>\n",
       "      <td>9-1</td>\n",
       "      <td>11110</td>\n",
       "      <td>13</td>\n",
       "      <td>-</td>\n",
       "      <td>-</td>\n",
       "    </tr>\n",
       "  </tbody>\n",
       "</table>\n",
       "</div>"
      ],
      "text/plain": [
       "     거래금액  건축년도     년   법정동               아파트  월   일    전용면적    지번   지역코드   층  \\\n",
       "0   80000  2002  2021   신교동          신현(101동)  8  16   84.82  6-13  11110   1   \n",
       "1  209000  2008  2021   사직동  광화문풍림스페이스본(106동)  8   5  163.33   9-1  11110  13   \n",
       "\n",
       "  해제사유발생일 해제여부  \n",
       "0       -    -  \n",
       "1       -    -  "
      ]
     },
     "execution_count": 3,
     "metadata": {},
     "output_type": "execute_result"
    }
   ],
   "source": [
    "df = pd.read_csv('../data/trade_apt_api.csv', encoding='cp949')\n",
    "df.head(2)"
   ]
  },
  {
   "cell_type": "code",
   "execution_count": 4,
   "id": "1875fc7d",
   "metadata": {
    "ExecuteTime": {
     "end_time": "2025-01-06T01:10:37.133560Z",
     "start_time": "2025-01-06T01:10:37.105356Z"
    }
   },
   "outputs": [
    {
     "name": "stdout",
     "output_type": "stream",
     "text": [
      "<class 'pandas.core.frame.DataFrame'>\n",
      "RangeIndex: 318 entries, 0 to 317\n",
      "Data columns (total 13 columns):\n",
      " #   Column   Non-Null Count  Dtype  \n",
      "---  ------   --------------  -----  \n",
      " 0   거래금액     318 non-null    int64  \n",
      " 1   건축년도     318 non-null    int64  \n",
      " 2   년        318 non-null    int64  \n",
      " 3   법정동      318 non-null    object \n",
      " 4   아파트      318 non-null    object \n",
      " 5   월        318 non-null    int64  \n",
      " 6   일        318 non-null    int64  \n",
      " 7   전용면적     318 non-null    float64\n",
      " 8   지번       318 non-null    object \n",
      " 9   지역코드     318 non-null    int64  \n",
      " 10  층        318 non-null    int64  \n",
      " 11  해제사유발생일  318 non-null    object \n",
      " 12  해제여부     318 non-null    object \n",
      "dtypes: float64(1), int64(7), object(5)\n",
      "memory usage: 32.4+ KB\n"
     ]
    }
   ],
   "source": [
    "df.info()"
   ]
  },
  {
   "cell_type": "code",
   "execution_count": 9,
   "id": "09234393",
   "metadata": {
    "ExecuteTime": {
     "end_time": "2025-01-06T01:18:51.064171Z",
     "start_time": "2025-01-06T01:18:51.053927Z"
    }
   },
   "outputs": [
    {
     "name": "stdout",
     "output_type": "stream",
     "text": [
      "독립변수 X와 타켓변수 y의 shape (318, 4) (318,)\n"
     ]
    }
   ],
   "source": [
    "x = df[['건축년도', '전용면적', '층']]\n",
    "X = sm.add_constant(x)  # 상수항(1) 추가하기 위한 add_constant함수\n",
    "y = df['거래금액']\n",
    "print('독립변수 X와 타켓변수 y의 shape', X.shape, y.shape)"
   ]
  },
  {
   "cell_type": "code",
   "execution_count": 10,
   "id": "12859d6f",
   "metadata": {
    "ExecuteTime": {
     "end_time": "2025-01-06T01:20:28.616035Z",
     "start_time": "2025-01-06T01:20:28.572482Z"
    }
   },
   "outputs": [
    {
     "data": {
      "text/html": [
       "<table class=\"simpletable\">\n",
       "<caption>OLS Regression Results</caption>\n",
       "<tr>\n",
       "  <th>Dep. Variable:</th>          <td>거래금액</td>       <th>  R-squared:         </th> <td>   0.648</td>\n",
       "</tr>\n",
       "<tr>\n",
       "  <th>Model:</th>                   <td>OLS</td>       <th>  Adj. R-squared:    </th> <td>   0.644</td>\n",
       "</tr>\n",
       "<tr>\n",
       "  <th>Method:</th>             <td>Least Squares</td>  <th>  F-statistic:       </th> <td>   192.4</td>\n",
       "</tr>\n",
       "<tr>\n",
       "  <th>Date:</th>             <td>Mon, 06 Jan 2025</td> <th>  Prob (F-statistic):</th> <td>8.54e-71</td>\n",
       "</tr>\n",
       "<tr>\n",
       "  <th>Time:</th>                 <td>10:20:28</td>     <th>  Log-Likelihood:    </th> <td> -3777.5</td>\n",
       "</tr>\n",
       "<tr>\n",
       "  <th>No. Observations:</th>      <td>   318</td>      <th>  AIC:               </th> <td>   7563.</td>\n",
       "</tr>\n",
       "<tr>\n",
       "  <th>Df Residuals:</th>          <td>   314</td>      <th>  BIC:               </th> <td>   7578.</td>\n",
       "</tr>\n",
       "<tr>\n",
       "  <th>Df Model:</th>              <td>     3</td>      <th>                     </th>     <td> </td>   \n",
       "</tr>\n",
       "<tr>\n",
       "  <th>Covariance Type:</th>      <td>nonrobust</td>    <th>                     </th>     <td> </td>   \n",
       "</tr>\n",
       "</table>\n",
       "<table class=\"simpletable\">\n",
       "<tr>\n",
       "    <td></td>       <th>coef</th>     <th>std err</th>      <th>t</th>      <th>P>|t|</th>  <th>[0.025</th>    <th>0.975]</th>  \n",
       "</tr>\n",
       "<tr>\n",
       "  <th>const</th> <td>-3.855e+06</td> <td> 4.25e+05</td> <td>   -9.069</td> <td> 0.000</td> <td>-4.69e+06</td> <td>-3.02e+06</td>\n",
       "</tr>\n",
       "<tr>\n",
       "  <th>건축년도</th>  <td> 1925.6916</td> <td>  212.616</td> <td>    9.057</td> <td> 0.000</td> <td> 1507.360</td> <td> 2344.023</td>\n",
       "</tr>\n",
       "<tr>\n",
       "  <th>전용면적</th>  <td>  962.1507</td> <td>   47.367</td> <td>   20.313</td> <td> 0.000</td> <td>  868.955</td> <td> 1055.347</td>\n",
       "</tr>\n",
       "<tr>\n",
       "  <th>층</th>     <td> 2058.1524</td> <td>  417.716</td> <td>    4.927</td> <td> 0.000</td> <td> 1236.276</td> <td> 2880.028</td>\n",
       "</tr>\n",
       "</table>\n",
       "<table class=\"simpletable\">\n",
       "<tr>\n",
       "  <th>Omnibus:</th>       <td>20.985</td> <th>  Durbin-Watson:     </th> <td>   1.352</td>\n",
       "</tr>\n",
       "<tr>\n",
       "  <th>Prob(Omnibus):</th> <td> 0.000</td> <th>  Jarque-Bera (JB):  </th> <td>  42.734</td>\n",
       "</tr>\n",
       "<tr>\n",
       "  <th>Skew:</th>          <td> 0.345</td> <th>  Prob(JB):          </th> <td>5.25e-10</td>\n",
       "</tr>\n",
       "<tr>\n",
       "  <th>Kurtosis:</th>      <td> 4.658</td> <th>  Cond. No.          </th> <td>4.33e+05</td>\n",
       "</tr>\n",
       "</table><br/><br/>Notes:<br/>[1] Standard Errors assume that the covariance matrix of the errors is correctly specified.<br/>[2] The condition number is large, 4.33e+05. This might indicate that there are<br/>strong multicollinearity or other numerical problems."
      ],
      "text/plain": [
       "<class 'statsmodels.iolib.summary.Summary'>\n",
       "\"\"\"\n",
       "                            OLS Regression Results                            \n",
       "==============================================================================\n",
       "Dep. Variable:                   거래금액   R-squared:                       0.648\n",
       "Model:                            OLS   Adj. R-squared:                  0.644\n",
       "Method:                 Least Squares   F-statistic:                     192.4\n",
       "Date:                Mon, 06 Jan 2025   Prob (F-statistic):           8.54e-71\n",
       "Time:                        10:20:28   Log-Likelihood:                -3777.5\n",
       "No. Observations:                 318   AIC:                             7563.\n",
       "Df Residuals:                     314   BIC:                             7578.\n",
       "Df Model:                           3                                         \n",
       "Covariance Type:            nonrobust                                         \n",
       "==============================================================================\n",
       "                 coef    std err          t      P>|t|      [0.025      0.975]\n",
       "------------------------------------------------------------------------------\n",
       "const      -3.855e+06   4.25e+05     -9.069      0.000   -4.69e+06   -3.02e+06\n",
       "건축년도        1925.6916    212.616      9.057      0.000    1507.360    2344.023\n",
       "전용면적         962.1507     47.367     20.313      0.000     868.955    1055.347\n",
       "층           2058.1524    417.716      4.927      0.000    1236.276    2880.028\n",
       "==============================================================================\n",
       "Omnibus:                       20.985   Durbin-Watson:                   1.352\n",
       "Prob(Omnibus):                  0.000   Jarque-Bera (JB):               42.734\n",
       "Skew:                           0.345   Prob(JB):                     5.25e-10\n",
       "Kurtosis:                       4.658   Cond. No.                     4.33e+05\n",
       "==============================================================================\n",
       "\n",
       "Notes:\n",
       "[1] Standard Errors assume that the covariance matrix of the errors is correctly specified.\n",
       "[2] The condition number is large, 4.33e+05. This might indicate that there are\n",
       "strong multicollinearity or other numerical problems.\n",
       "\"\"\""
      ]
     },
     "execution_count": 10,
     "metadata": {},
     "output_type": "execute_result"
    }
   ],
   "source": [
    "model = sm.OLS(y, X).fit()\n",
    "model.summary()\n",
    "# R-squared : r제곱(설명도) : 독립변수가 종속변수를 설명해주는 수치\n",
    "# Adj. R-squared:0.644  # 수정된 r제곱\n",
    "# Prob (F-statistic):8.54e-71  # f통계량 Prob은 0.05보다 작으면 유의미함\n",
    "# Durbin-Watson:1.352  # 2에 가까울수록 상관없음"
   ]
  },
  {
   "cell_type": "code",
   "execution_count": 12,
   "id": "b9151bfb",
   "metadata": {
    "ExecuteTime": {
     "end_time": "2025-01-06T01:44:03.184969Z",
     "start_time": "2025-01-06T01:44:03.170077Z"
    }
   },
   "outputs": [
    {
     "data": {
      "text/plain": [
       "(const       1.00\n",
       " 건축년도     2002.00\n",
       " 전용면적       84.82\n",
       " 층           1.00\n",
       " Name: 0, dtype: float64,\n",
       " 80000)"
      ]
     },
     "execution_count": 12,
     "metadata": {},
     "output_type": "execute_result"
    }
   ],
   "source": [
    "X.iloc[0], y[0]"
   ]
  },
  {
   "cell_type": "code",
   "execution_count": 14,
   "id": "1077df0d",
   "metadata": {
    "ExecuteTime": {
     "end_time": "2025-01-06T01:45:06.688453Z",
     "start_time": "2025-01-06T01:45:06.681848Z"
    }
   },
   "outputs": [
    {
     "data": {
      "text/plain": [
       "array([83789.14484516])"
      ]
     },
     "execution_count": 14,
     "metadata": {},
     "output_type": "execute_result"
    }
   ],
   "source": [
    "model.predict([[1, 2002, 84.82, 1]])"
   ]
  },
  {
   "cell_type": "code",
   "execution_count": 15,
   "id": "742387f2",
   "metadata": {
    "ExecuteTime": {
     "end_time": "2025-01-06T01:46:09.369322Z",
     "start_time": "2025-01-06T01:46:09.345432Z"
    }
   },
   "outputs": [
    {
     "data": {
      "text/plain": [
       "['../model/ex1_apt_price_regression.pkl']"
      ]
     },
     "execution_count": 15,
     "metadata": {},
     "output_type": "execute_result"
    }
   ],
   "source": [
    "# 모델 저장\n",
    "joblib.dump(model, '../model/ex1_apt_price_regression.pkl')"
   ]
  },
  {
   "cell_type": "code",
   "execution_count": 17,
   "id": "4eb4ba7f",
   "metadata": {
    "ExecuteTime": {
     "end_time": "2025-01-06T01:51:10.580544Z",
     "start_time": "2025-01-06T01:51:10.574538Z"
    }
   },
   "outputs": [
    {
     "data": {
      "text/plain": [
       "'1,212'"
      ]
     },
     "execution_count": 17,
     "metadata": {},
     "output_type": "execute_result"
    }
   ],
   "source": [
    "format(1212, ',')"
   ]
  },
  {
   "cell_type": "code",
   "execution_count": 18,
   "id": "23e9a36f",
   "metadata": {
    "ExecuteTime": {
     "end_time": "2025-01-06T01:51:34.829439Z",
     "start_time": "2025-01-06T01:51:34.824438Z"
    }
   },
   "outputs": [],
   "source": [
    "def predict_apt_price(year, square, floor):\n",
    "    loaded_model = joblib.load('../model/ex1_apt_price_regression.pkl')\n",
    "    input_data = [[1, year, square, floor]]  # 2차원\n",
    "    results = loaded_model.predict(input_data)\n",
    "    result = round(results[0]*1000, 0)\n",
    "    return format(result, ',') + '원입니다.'"
   ]
  },
  {
   "cell_type": "code",
   "execution_count": 20,
   "id": "13aec968",
   "metadata": {
    "ExecuteTime": {
     "end_time": "2025-01-06T01:54:30.303479Z",
     "start_time": "2025-01-06T01:54:24.686180Z"
    }
   },
   "outputs": [
    {
     "name": "stdout",
     "output_type": "stream",
     "text": [
      "몇년 건축?2010\n",
      "몇 제곱미터?105\n",
      "몇 층?8\n"
     ]
    },
    {
     "data": {
      "text/plain": [
       "'133,017,946.0원입니다.'"
      ]
     },
     "execution_count": 20,
     "metadata": {},
     "output_type": "execute_result"
    }
   ],
   "source": [
    "year   = int(input('몇년 건축?'))\n",
    "square = int(input('몇 제곱미터?'))\n",
    "floor  = int(input('몇 층?'))\n",
    "predict_apt_price(year, square, floor)"
   ]
  },
  {
   "cell_type": "code",
   "execution_count": null,
   "id": "0ab45239",
   "metadata": {},
   "outputs": [],
   "source": []
  }
 ],
 "metadata": {
  "kernelspec": {
   "display_name": "Python 3 (ipykernel)",
   "language": "python",
   "name": "python3"
  },
  "language_info": {
   "codemirror_mode": {
    "name": "ipython",
    "version": 3
   },
   "file_extension": ".py",
   "mimetype": "text/x-python",
   "name": "python",
   "nbconvert_exporter": "python",
   "pygments_lexer": "ipython3",
   "version": "3.10.9"
  },
  "toc": {
   "base_numbering": 1,
   "nav_menu": {},
   "number_sections": true,
   "sideBar": true,
   "skip_h1_title": false,
   "title_cell": "Table of Contents",
   "title_sidebar": "Contents",
   "toc_cell": false,
   "toc_position": {},
   "toc_section_display": true,
   "toc_window_display": false
  }
 },
 "nbformat": 4,
 "nbformat_minor": 5
}
