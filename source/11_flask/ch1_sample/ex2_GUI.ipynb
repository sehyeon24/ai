{
 "cells": [
  {
   "cell_type": "markdown",
   "id": "8ee21a51",
   "metadata": {},
   "source": [
    "- 모델 load 후, 입력된 값으로 예측한 집값 출력(GUI창에서)"
   ]
  },
  {
   "cell_type": "code",
   "execution_count": 1,
   "id": "573f879c",
   "metadata": {
    "ExecuteTime": {
     "end_time": "2025-01-06T02:03:47.027171Z",
     "start_time": "2025-01-06T02:03:46.658339Z"
    }
   },
   "outputs": [],
   "source": [
    "import joblib  # 모델 load\n",
    "import tkinter as tk  # GUI (그래픽 사용자 인터페이스 창ㅇ르 띄우기 위함 graphic user interface)"
   ]
  },
  {
   "cell_type": "code",
   "execution_count": 4,
   "id": "70009e71",
   "metadata": {
    "ExecuteTime": {
     "end_time": "2025-01-06T02:05:04.651259Z",
     "start_time": "2025-01-06T02:05:04.641263Z"
    }
   },
   "outputs": [],
   "source": [
    "loaded_model = joblib.load('../model/ex1_apt_price_regression.pkl')\n",
    "# loaded_model.summary()"
   ]
  },
  {
   "cell_type": "code",
   "execution_count": 26,
   "id": "099a935e",
   "metadata": {
    "ExecuteTime": {
     "end_time": "2025-01-06T02:47:08.766032Z",
     "start_time": "2025-01-06T02:47:08.615040Z"
    }
   },
   "outputs": [
    {
     "data": {
      "text/plain": [
       "'2850642266688on_submit'"
      ]
     },
     "execution_count": 26,
     "metadata": {},
     "output_type": "execute_result"
    }
   ],
   "source": [
    "def on_submit(event=None):\n",
    "    '입력된 건축년도, 전용면적(제곱미터), 층 수 -> 예측값을 pred_label에 출력하기 '\n",
    "    year   = int(year_entry.get())\n",
    "    square = int(square_entry.get())\n",
    "    floor  = int(floor_entry.get())\n",
    "    # print(year, type(year), square, type(square), floor, type(floor))\n",
    "    pred = loaded_model.predict([1, year, square, floor])  # [153803.17086436]\n",
    "    # print('예상금액 : 1,538,031,708원입니다')\n",
    "    print('예상금액 : {}만원입니다'.format(format(round(pred[0]), ',')))\n",
    "    pred_label.configure(text='예상금액 : {}만원입니다'.format(format(round(pred[0]), ',')))\n",
    "\n",
    "root = tk.Tk()  # GUI창\n",
    "\n",
    "root.geometry('300x250')  # 가로x세로\n",
    "\n",
    "year_label = tk.Label(root, text='건축년도 : ')\n",
    "year_label.pack()\n",
    "year_entry = tk.Entry(root)\n",
    "year_entry.pack(pady=5)  # pady, padx : 위아래 여백\n",
    "\n",
    "square_label = tk.Label(root, text='전용면적(제곱미터) : ')\n",
    "square_label.pack()\n",
    "square_entry = tk.Entry(root)\n",
    "square_entry.pack(pady=5)  # pady, padx : 위아래 여백\n",
    "\n",
    "floor_label = tk.Label(root, text='층수 : ')\n",
    "floor_label.pack()\n",
    "floor_entry = tk.Entry(root)\n",
    "floor_entry.pack(pady=5)\n",
    "\n",
    "submit_button = tk.Button(root, text='예측', command=on_submit)\n",
    "submit_button.pack(pady=15)\n",
    "\n",
    "pred_label = tk.Label(root, text='예측 금액 출력 예정')\n",
    "pred_label.pack(pady=10)\n",
    "\n",
    "year_entry.focus_set()  # GUI 창이 실행되고 포커싱하면 자동으로 year_entry에 포커싱 되도록 설정\n",
    "root.bind('<Return>', on_submit)"
   ]
  },
  {
   "cell_type": "code",
   "execution_count": 27,
   "id": "22987191",
   "metadata": {
    "ExecuteTime": {
     "end_time": "2025-01-06T02:47:42.103102Z",
     "start_time": "2025-01-06T02:47:08.766032Z"
    }
   },
   "outputs": [
    {
     "name": "stdout",
     "output_type": "stream",
     "text": [
      "예상금액 : 164,094만원입니다\n"
     ]
    }
   ],
   "source": [
    "root.mainloop()"
   ]
  },
  {
   "cell_type": "code",
   "execution_count": null,
   "id": "8fc92e91",
   "metadata": {},
   "outputs": [],
   "source": []
  }
 ],
 "metadata": {
  "kernelspec": {
   "display_name": "Python 3 (ipykernel)",
   "language": "python",
   "name": "python3"
  },
  "language_info": {
   "codemirror_mode": {
    "name": "ipython",
    "version": 3
   },
   "file_extension": ".py",
   "mimetype": "text/x-python",
   "name": "python",
   "nbconvert_exporter": "python",
   "pygments_lexer": "ipython3",
   "version": "3.10.9"
  },
  "toc": {
   "base_numbering": 1,
   "nav_menu": {},
   "number_sections": true,
   "sideBar": true,
   "skip_h1_title": false,
   "title_cell": "Table of Contents",
   "title_sidebar": "Contents",
   "toc_cell": false,
   "toc_position": {
    "height": "calc(100% - 180px)",
    "left": "10px",
    "top": "150px",
    "width": "201px"
   },
   "toc_section_display": true,
   "toc_window_display": true
  }
 },
 "nbformat": 4,
 "nbformat_minor": 5
}
