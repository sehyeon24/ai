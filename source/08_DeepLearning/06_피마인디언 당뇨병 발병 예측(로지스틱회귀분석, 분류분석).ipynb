{
 "cells": [
  {
   "cell_type": "code",
   "execution_count": 1,
   "id": "f779ed95",
   "metadata": {
    "ExecuteTime": {
     "end_time": "2024-12-17T08:09:44.941088Z",
     "start_time": "2024-12-17T08:09:44.929545Z"
    }
   },
   "outputs": [
    {
     "data": {
      "text/html": [
       "\n",
       "<style>\n",
       "div.container{width:80% !important;}\n",
       "div.prompt {min-width:70px;}\n",
       "div#toc-header{margin-top:150px;}\n",
       "span.toc-item-num{display:none;}\n",
       "div.CodeMirror {font-family:Consolas}\n",
       "div.input {font-family:Consolas}\n",
       "</style>\n"
      ],
      "text/plain": [
       "<IPython.core.display.HTML object>"
      ]
     },
     "metadata": {},
     "output_type": "display_data"
    }
   ],
   "source": [
    "from IPython.display import display, HTML\n",
    "\n",
    "display(\n",
    "    HTML(\"\"\"\n",
    "<style>\n",
    "div.container{width:80% !important;}\n",
    "div.prompt {min-width:70px;}\n",
    "div#toc-header{margin-top:150px;}\n",
    "span.toc-item-num{display:none;}\n",
    "div.CodeMirror {font-family:Consolas}\n",
    "div.input {font-family:Consolas}\n",
    "</style>\n",
    "\"\"\"))"
   ]
  },
  {
   "cell_type": "code",
   "execution_count": 2,
   "id": "df521b18",
   "metadata": {
    "ExecuteTime": {
     "end_time": "2024-12-17T08:09:50.597316Z",
     "start_time": "2024-12-17T08:09:44.944087Z"
    }
   },
   "outputs": [],
   "source": [
    "import numpy as np\n",
    "import pandas as pd\n",
    "import sys\n",
    "from tensorflow.keras import utils  # utils.to_categorical\n",
    "from tensorflow.keras.models import Sequential    # 모델 생성\n",
    "from tensorflow.keras.layers import Dense, Input  # 모델에 layer 쌓기\n",
    "import matplotlib.pyplot as plt"
   ]
  },
  {
   "cell_type": "markdown",
   "id": "6cee842a",
   "metadata": {},
   "source": [
    "# 로지스틱회귀분석(이진분류)\n",
    "## 1. 데이터셋 생성 & 전처리"
   ]
  },
  {
   "cell_type": "code",
   "execution_count": 3,
   "id": "94b2d0c4",
   "metadata": {
    "ExecuteTime": {
     "end_time": "2024-12-17T08:09:50.629241Z",
     "start_time": "2024-12-17T08:09:50.603311Z"
    }
   },
   "outputs": [
    {
     "name": "stdout",
     "output_type": "stream",
     "text": [
      "<class 'pandas.core.frame.DataFrame'>\n",
      "RangeIndex: 768 entries, 0 to 767\n",
      "Data columns (total 9 columns):\n",
      " #   Column  Non-Null Count  Dtype  \n",
      "---  ------  --------------  -----  \n",
      " 0   0       768 non-null    int64  \n",
      " 1   1       768 non-null    int64  \n",
      " 2   2       768 non-null    int64  \n",
      " 3   3       768 non-null    int64  \n",
      " 4   4       768 non-null    int64  \n",
      " 5   5       768 non-null    float64\n",
      " 6   6       768 non-null    float64\n",
      " 7   7       768 non-null    int64  \n",
      " 8   8       768 non-null    int64  \n",
      "dtypes: float64(2), int64(7)\n",
      "memory usage: 54.1 KB\n"
     ]
    },
    {
     "data": {
      "text/plain": [
       "(None,\n",
       " array([[  6.   , 148.   ,  72.   ,  35.   ,   0.   ,  33.6  ,   0.627,\n",
       "          50.   ,   1.   ],\n",
       "        [  1.   ,  85.   ,  66.   ,  29.   ,   0.   ,  26.6  ,   0.351,\n",
       "          31.   ,   0.   ]]))"
      ]
     },
     "execution_count": 3,
     "metadata": {},
     "output_type": "execute_result"
    }
   ],
   "source": [
    "df = pd.read_csv('data/pima-indians-diabetes.csv', comment='#', header=None)\n",
    "df.info(), df.values[:2]\n",
    "# 결측치가 없으므로, csv 파일을 바로 넘파이 배열로 읽어들일 예정"
   ]
  },
  {
   "cell_type": "code",
   "execution_count": 4,
   "id": "57440ec2",
   "metadata": {
    "ExecuteTime": {
     "end_time": "2024-12-17T08:09:50.640257Z",
     "start_time": "2024-12-17T08:09:50.636259Z"
    }
   },
   "outputs": [],
   "source": [
    "# np.set_printoptions(threshold=sys.maxsize)"
   ]
  },
  {
   "cell_type": "code",
   "execution_count": 5,
   "id": "af8982cc",
   "metadata": {
    "ExecuteTime": {
     "end_time": "2024-12-17T08:09:50.649253Z",
     "start_time": "2024-12-17T08:09:50.643256Z"
    }
   },
   "outputs": [],
   "source": [
    "# 1. 임신횟수\n",
    "# 2. 2시간내 포도당 농도\n",
    "# 3. 혈압\n",
    "# 4. 피부접힘 두께\n",
    "# 5. 인슐린수치\n",
    "# 6. BMI체질량지수\n",
    "# 7. 가족력\n",
    "# 8. 나이\n",
    "# 9. 당뇨병발병여부"
   ]
  },
  {
   "cell_type": "code",
   "execution_count": 6,
   "id": "031fcedf",
   "metadata": {
    "ExecuteTime": {
     "end_time": "2024-12-17T08:09:50.668500Z",
     "start_time": "2024-12-17T08:09:50.653317Z"
    }
   },
   "outputs": [
    {
     "data": {
      "text/plain": [
       "(768, 9)"
      ]
     },
     "execution_count": 6,
     "metadata": {},
     "output_type": "execute_result"
    }
   ],
   "source": [
    "# csv파일을 numpy배열로 읽어오기 np.loadtxt(), np.genfromtxt()  '#'이 있는 행은 제외하여 읽어옴\n",
    "dataset = np.loadtxt('data/pima-indians-diabetes.csv', delimiter=',',  # ','를 기준으로 분리\n",
    "                     )\n",
    "dataset.shape"
   ]
  },
  {
   "cell_type": "code",
   "execution_count": 7,
   "id": "ba16853c",
   "metadata": {
    "ExecuteTime": {
     "end_time": "2024-12-17T08:09:50.684444Z",
     "start_time": "2024-12-17T08:09:50.668817Z"
    }
   },
   "outputs": [
    {
     "data": {
      "text/plain": [
       "((700, 8), (700,), (68, 8), (68,))"
      ]
     },
     "execution_count": 7,
     "metadata": {},
     "output_type": "execute_result"
    }
   ],
   "source": [
    "# 학습데이터셋(학습용 데이터:train dataset) : 모델 학습 시 사용\n",
    "X_train = dataset[:700, :-1]  # 독립변수\n",
    "y_train = dataset[:700,  -1]  # 종속변수\n",
    "# 테스트데이터셋(시험용 데이터:test dataset) : 모델 평가 시 사용\n",
    "X_test = dataset[700:, :-1]\n",
    "y_test = dataset[700:,  -1]\n",
    "X_train.shape, y_train.shape, X_test.shape, y_test.shape"
   ]
  },
  {
   "cell_type": "markdown",
   "id": "8f569a45",
   "metadata": {},
   "source": [
    "## 2. 모델 구성"
   ]
  },
  {
   "cell_type": "code",
   "execution_count": 8,
   "id": "f2e0680d",
   "metadata": {
    "ExecuteTime": {
     "end_time": "2024-12-17T08:09:50.883280Z",
     "start_time": "2024-12-17T08:09:50.685951Z"
    }
   },
   "outputs": [
    {
     "name": "stdout",
     "output_type": "stream",
     "text": [
      "Model: \"sequential\"\n",
      "_________________________________________________________________\n",
      " Layer (type)                Output Shape              Param #   \n",
      "=================================================================\n",
      " dense (Dense)               (None, 12)                108       \n",
      "                                                                 \n",
      " dense_1 (Dense)             (None, 8)                 104       \n",
      "                                                                 \n",
      " dense_2 (Dense)             (None, 1)                 9         \n",
      "                                                                 \n",
      "=================================================================\n",
      "Total params: 221\n",
      "Trainable params: 221\n",
      "Non-trainable params: 0\n",
      "_________________________________________________________________\n"
     ]
    }
   ],
   "source": [
    "model = Sequential()\n",
    "model.add(Input(shape=(8, )))                    # 독립변수 8개 : 입력, 종속변수 1개 : 출력 \n",
    "model.add(Dense(units=12, activation='relu'))    # hidden layer  # units : 출력갯수\n",
    "model.add(Dense(units=8, activation='relu'))     # hidden layer  # units : 출력갯수\n",
    "model.add(Dense(units=1,  activation='sigmoid')) # 최종 출력층\n",
    "model.summary()"
   ]
  },
  {
   "cell_type": "markdown",
   "id": "f9da75c8",
   "metadata": {},
   "source": [
    "## 3. 학습과정 설정"
   ]
  },
  {
   "cell_type": "code",
   "execution_count": 9,
   "id": "15bfbd86",
   "metadata": {
    "ExecuteTime": {
     "end_time": "2024-12-17T08:09:50.906718Z",
     "start_time": "2024-12-17T08:09:50.886108Z"
    }
   },
   "outputs": [],
   "source": [
    "# model.compile(loss='binary_crossentropy', optimizer='adam', metrics=['accuracy'])\n",
    "model.compile(loss='binary_crossentropy', optimizer='adam', metrics=['binary_accuracy'])"
   ]
  },
  {
   "cell_type": "markdown",
   "id": "a71b9574",
   "metadata": {},
   "source": [
    "## 4. 학습"
   ]
  },
  {
   "cell_type": "code",
   "execution_count": 10,
   "id": "7fc41faa",
   "metadata": {
    "ExecuteTime": {
     "end_time": "2024-12-17T08:09:57.335825Z",
     "start_time": "2024-12-17T08:09:50.909717Z"
    }
   },
   "outputs": [
    {
     "name": "stdout",
     "output_type": "stream",
     "text": [
      "Epoch 1/200\n",
      "22/22 - 1s - loss: 6.7580 - binary_accuracy: 0.6571 - 620ms/epoch - 28ms/step\n",
      "Epoch 2/200\n",
      "22/22 - 0s - loss: 2.9677 - binary_accuracy: 0.6586 - 25ms/epoch - 1ms/step\n",
      "Epoch 3/200\n",
      "22/22 - 0s - loss: 1.5473 - binary_accuracy: 0.6400 - 34ms/epoch - 2ms/step\n",
      "Epoch 4/200\n",
      "22/22 - 0s - loss: 1.0546 - binary_accuracy: 0.6443 - 23ms/epoch - 1ms/step\n",
      "Epoch 5/200\n",
      "22/22 - 0s - loss: 0.8514 - binary_accuracy: 0.6386 - 25ms/epoch - 1ms/step\n",
      "Epoch 6/200\n",
      "22/22 - 0s - loss: 0.7449 - binary_accuracy: 0.5957 - 29ms/epoch - 1ms/step\n",
      "Epoch 7/200\n",
      "22/22 - 0s - loss: 0.7182 - binary_accuracy: 0.6029 - 27ms/epoch - 1ms/step\n",
      "Epoch 8/200\n",
      "22/22 - 0s - loss: 0.7064 - binary_accuracy: 0.6271 - 23ms/epoch - 1ms/step\n",
      "Epoch 9/200\n",
      "22/22 - 0s - loss: 0.6897 - binary_accuracy: 0.6271 - 26ms/epoch - 1ms/step\n",
      "Epoch 10/200\n",
      "22/22 - 0s - loss: 0.6927 - binary_accuracy: 0.6114 - 31ms/epoch - 1ms/step\n",
      "Epoch 11/200\n",
      "22/22 - 0s - loss: 0.6794 - binary_accuracy: 0.6371 - 42ms/epoch - 2ms/step\n",
      "Epoch 12/200\n",
      "22/22 - 0s - loss: 0.6686 - binary_accuracy: 0.6414 - 26ms/epoch - 1ms/step\n",
      "Epoch 13/200\n",
      "22/22 - 0s - loss: 0.6784 - binary_accuracy: 0.6529 - 26ms/epoch - 1ms/step\n",
      "Epoch 14/200\n",
      "22/22 - 0s - loss: 0.6591 - binary_accuracy: 0.6443 - 26ms/epoch - 1ms/step\n",
      "Epoch 15/200\n",
      "22/22 - 0s - loss: 0.6556 - binary_accuracy: 0.6414 - 28ms/epoch - 1ms/step\n",
      "Epoch 16/200\n",
      "22/22 - 0s - loss: 0.6482 - binary_accuracy: 0.6586 - 26ms/epoch - 1ms/step\n",
      "Epoch 17/200\n",
      "22/22 - 0s - loss: 0.6401 - binary_accuracy: 0.6686 - 24ms/epoch - 1ms/step\n",
      "Epoch 18/200\n",
      "22/22 - 0s - loss: 0.6379 - binary_accuracy: 0.6686 - 30ms/epoch - 1ms/step\n",
      "Epoch 19/200\n",
      "22/22 - 0s - loss: 0.6693 - binary_accuracy: 0.6371 - 29ms/epoch - 1ms/step\n",
      "Epoch 20/200\n",
      "22/22 - 0s - loss: 0.6442 - binary_accuracy: 0.6571 - 26ms/epoch - 1ms/step\n",
      "Epoch 21/200\n",
      "22/22 - 0s - loss: 0.6446 - binary_accuracy: 0.6486 - 25ms/epoch - 1ms/step\n",
      "Epoch 22/200\n",
      "22/22 - 0s - loss: 0.6330 - binary_accuracy: 0.6686 - 27ms/epoch - 1ms/step\n",
      "Epoch 23/200\n",
      "22/22 - 0s - loss: 0.6266 - binary_accuracy: 0.6643 - 24ms/epoch - 1ms/step\n",
      "Epoch 24/200\n",
      "22/22 - 0s - loss: 0.6226 - binary_accuracy: 0.6714 - 24ms/epoch - 1ms/step\n",
      "Epoch 25/200\n",
      "22/22 - 0s - loss: 0.6279 - binary_accuracy: 0.6614 - 28ms/epoch - 1ms/step\n",
      "Epoch 26/200\n",
      "22/22 - 0s - loss: 0.6177 - binary_accuracy: 0.6671 - 25ms/epoch - 1ms/step\n",
      "Epoch 27/200\n",
      "22/22 - 0s - loss: 0.6330 - binary_accuracy: 0.6814 - 24ms/epoch - 1ms/step\n",
      "Epoch 28/200\n",
      "22/22 - 0s - loss: 0.6320 - binary_accuracy: 0.6571 - 27ms/epoch - 1ms/step\n",
      "Epoch 29/200\n",
      "22/22 - 0s - loss: 0.6237 - binary_accuracy: 0.6771 - 25ms/epoch - 1ms/step\n",
      "Epoch 30/200\n",
      "22/22 - 0s - loss: 0.6155 - binary_accuracy: 0.6757 - 25ms/epoch - 1ms/step\n",
      "Epoch 31/200\n",
      "22/22 - 0s - loss: 0.6136 - binary_accuracy: 0.6929 - 27ms/epoch - 1ms/step\n",
      "Epoch 32/200\n",
      "22/22 - 0s - loss: 0.6101 - binary_accuracy: 0.6771 - 26ms/epoch - 1ms/step\n",
      "Epoch 33/200\n",
      "22/22 - 0s - loss: 0.6030 - binary_accuracy: 0.6843 - 25ms/epoch - 1ms/step\n",
      "Epoch 34/200\n",
      "22/22 - 0s - loss: 0.6081 - binary_accuracy: 0.6800 - 29ms/epoch - 1ms/step\n",
      "Epoch 35/200\n",
      "22/22 - 0s - loss: 0.6177 - binary_accuracy: 0.6871 - 27ms/epoch - 1ms/step\n",
      "Epoch 36/200\n",
      "22/22 - 0s - loss: 0.6106 - binary_accuracy: 0.6829 - 23ms/epoch - 1ms/step\n",
      "Epoch 37/200\n",
      "22/22 - 0s - loss: 0.5939 - binary_accuracy: 0.7029 - 24ms/epoch - 1ms/step\n",
      "Epoch 38/200\n",
      "22/22 - 0s - loss: 0.6129 - binary_accuracy: 0.6871 - 27ms/epoch - 1ms/step\n",
      "Epoch 39/200\n",
      "22/22 - 0s - loss: 0.5971 - binary_accuracy: 0.6943 - 23ms/epoch - 1ms/step\n",
      "Epoch 40/200\n",
      "22/22 - 0s - loss: 0.5999 - binary_accuracy: 0.6886 - 28ms/epoch - 1ms/step\n",
      "Epoch 41/200\n",
      "22/22 - 0s - loss: 0.5955 - binary_accuracy: 0.7014 - 28ms/epoch - 1ms/step\n",
      "Epoch 42/200\n",
      "22/22 - 0s - loss: 0.5924 - binary_accuracy: 0.6914 - 23ms/epoch - 1ms/step\n",
      "Epoch 43/200\n",
      "22/22 - 0s - loss: 0.5890 - binary_accuracy: 0.7014 - 28ms/epoch - 1ms/step\n",
      "Epoch 44/200\n",
      "22/22 - 0s - loss: 0.5872 - binary_accuracy: 0.7086 - 30ms/epoch - 1ms/step\n",
      "Epoch 45/200\n",
      "22/22 - 0s - loss: 0.5865 - binary_accuracy: 0.7000 - 26ms/epoch - 1ms/step\n",
      "Epoch 46/200\n",
      "22/22 - 0s - loss: 0.6041 - binary_accuracy: 0.6971 - 26ms/epoch - 1ms/step\n",
      "Epoch 47/200\n",
      "22/22 - 0s - loss: 0.5822 - binary_accuracy: 0.7029 - 31ms/epoch - 1ms/step\n",
      "Epoch 48/200\n",
      "22/22 - 0s - loss: 0.5822 - binary_accuracy: 0.7100 - 44ms/epoch - 2ms/step\n",
      "Epoch 49/200\n",
      "22/22 - 0s - loss: 0.5860 - binary_accuracy: 0.7171 - 28ms/epoch - 1ms/step\n",
      "Epoch 50/200\n",
      "22/22 - 0s - loss: 0.5920 - binary_accuracy: 0.7057 - 23ms/epoch - 1ms/step\n",
      "Epoch 51/200\n",
      "22/22 - 0s - loss: 0.5804 - binary_accuracy: 0.7114 - 24ms/epoch - 1ms/step\n",
      "Epoch 52/200\n",
      "22/22 - 0s - loss: 0.5807 - binary_accuracy: 0.7129 - 28ms/epoch - 1ms/step\n",
      "Epoch 53/200\n",
      "22/22 - 0s - loss: 0.5792 - binary_accuracy: 0.7043 - 24ms/epoch - 1ms/step\n",
      "Epoch 54/200\n",
      "22/22 - 0s - loss: 0.5806 - binary_accuracy: 0.7214 - 18ms/epoch - 829us/step\n",
      "Epoch 55/200\n",
      "22/22 - 0s - loss: 0.5815 - binary_accuracy: 0.7086 - 31ms/epoch - 1ms/step\n",
      "Epoch 56/200\n",
      "22/22 - 0s - loss: 0.5859 - binary_accuracy: 0.6971 - 39ms/epoch - 2ms/step\n",
      "Epoch 57/200\n",
      "22/22 - 0s - loss: 0.5800 - binary_accuracy: 0.7029 - 28ms/epoch - 1ms/step\n",
      "Epoch 58/200\n",
      "22/22 - 0s - loss: 0.5794 - binary_accuracy: 0.7171 - 30ms/epoch - 1ms/step\n",
      "Epoch 59/200\n",
      "22/22 - 0s - loss: 0.5731 - binary_accuracy: 0.7143 - 20ms/epoch - 907us/step\n",
      "Epoch 60/200\n",
      "22/22 - 0s - loss: 0.5740 - binary_accuracy: 0.7143 - 24ms/epoch - 1ms/step\n",
      "Epoch 61/200\n",
      "22/22 - 0s - loss: 0.5755 - binary_accuracy: 0.7214 - 26ms/epoch - 1ms/step\n",
      "Epoch 62/200\n",
      "22/22 - 0s - loss: 0.5720 - binary_accuracy: 0.7243 - 22ms/epoch - 981us/step\n",
      "Epoch 63/200\n",
      "22/22 - 0s - loss: 0.5835 - binary_accuracy: 0.7000 - 30ms/epoch - 1ms/step\n",
      "Epoch 64/200\n",
      "22/22 - 0s - loss: 0.5863 - binary_accuracy: 0.7071 - 16ms/epoch - 717us/step\n",
      "Epoch 65/200\n",
      "22/22 - 0s - loss: 0.5775 - binary_accuracy: 0.7071 - 16ms/epoch - 745us/step\n",
      "Epoch 66/200\n",
      "22/22 - 0s - loss: 0.5632 - binary_accuracy: 0.7200 - 38ms/epoch - 2ms/step\n",
      "Epoch 67/200\n",
      "22/22 - 0s - loss: 0.5773 - binary_accuracy: 0.7171 - 28ms/epoch - 1ms/step\n",
      "Epoch 68/200\n",
      "22/22 - 0s - loss: 0.5725 - binary_accuracy: 0.7057 - 30ms/epoch - 1ms/step\n",
      "Epoch 69/200\n",
      "22/22 - 0s - loss: 0.5674 - binary_accuracy: 0.7186 - 22ms/epoch - 999us/step\n",
      "Epoch 70/200\n",
      "22/22 - 0s - loss: 0.5601 - binary_accuracy: 0.7429 - 33ms/epoch - 2ms/step\n",
      "Epoch 71/200\n",
      "22/22 - 0s - loss: 0.5620 - binary_accuracy: 0.7329 - 26ms/epoch - 1ms/step\n",
      "Epoch 72/200\n",
      "22/22 - 0s - loss: 0.5616 - binary_accuracy: 0.7229 - 23ms/epoch - 1ms/step\n",
      "Epoch 73/200\n",
      "22/22 - 0s - loss: 0.5610 - binary_accuracy: 0.7414 - 24ms/epoch - 1ms/step\n",
      "Epoch 74/200\n",
      "22/22 - 0s - loss: 0.5688 - binary_accuracy: 0.7229 - 18ms/epoch - 802us/step\n",
      "Epoch 75/200\n",
      "22/22 - 0s - loss: 0.5751 - binary_accuracy: 0.7057 - 34ms/epoch - 2ms/step\n",
      "Epoch 76/200\n",
      "22/22 - 0s - loss: 0.5558 - binary_accuracy: 0.7300 - 27ms/epoch - 1ms/step\n",
      "Epoch 77/200\n",
      "22/22 - 0s - loss: 0.5646 - binary_accuracy: 0.7214 - 16ms/epoch - 718us/step\n",
      "Epoch 78/200\n",
      "22/22 - 0s - loss: 0.5632 - binary_accuracy: 0.7314 - 40ms/epoch - 2ms/step\n",
      "Epoch 79/200\n",
      "22/22 - 0s - loss: 0.5760 - binary_accuracy: 0.6971 - 32ms/epoch - 1ms/step\n",
      "Epoch 80/200\n",
      "22/22 - 0s - loss: 0.5758 - binary_accuracy: 0.7057 - 31ms/epoch - 1ms/step\n",
      "Epoch 81/200\n",
      "22/22 - 0s - loss: 0.5516 - binary_accuracy: 0.7357 - 29ms/epoch - 1ms/step\n",
      "Epoch 82/200\n",
      "22/22 - 0s - loss: 0.5528 - binary_accuracy: 0.7357 - 29ms/epoch - 1ms/step\n",
      "Epoch 83/200\n",
      "22/22 - 0s - loss: 0.5625 - binary_accuracy: 0.7314 - 22ms/epoch - 999us/step\n",
      "Epoch 84/200\n",
      "22/22 - 0s - loss: 0.5621 - binary_accuracy: 0.7271 - 30ms/epoch - 1ms/step\n",
      "Epoch 85/200\n",
      "22/22 - 0s - loss: 0.5553 - binary_accuracy: 0.7286 - 26ms/epoch - 1ms/step\n",
      "Epoch 86/200\n",
      "22/22 - 0s - loss: 0.5570 - binary_accuracy: 0.7243 - 23ms/epoch - 1ms/step\n",
      "Epoch 87/200\n",
      "22/22 - 0s - loss: 0.5491 - binary_accuracy: 0.7329 - 44ms/epoch - 2ms/step\n",
      "Epoch 88/200\n",
      "22/22 - 0s - loss: 0.5544 - binary_accuracy: 0.7471 - 28ms/epoch - 1ms/step\n",
      "Epoch 89/200\n",
      "22/22 - 0s - loss: 0.5534 - binary_accuracy: 0.7243 - 15ms/epoch - 702us/step\n",
      "Epoch 90/200\n",
      "22/22 - 0s - loss: 0.5503 - binary_accuracy: 0.7343 - 17ms/epoch - 777us/step\n",
      "Epoch 91/200\n",
      "22/22 - 0s - loss: 0.5428 - binary_accuracy: 0.7386 - 41ms/epoch - 2ms/step\n",
      "Epoch 92/200\n",
      "22/22 - 0s - loss: 0.5435 - binary_accuracy: 0.7186 - 32ms/epoch - 1ms/step\n"
     ]
    },
    {
     "name": "stdout",
     "output_type": "stream",
     "text": [
      "Epoch 93/200\n",
      "22/22 - 0s - loss: 0.5467 - binary_accuracy: 0.7329 - 29ms/epoch - 1ms/step\n",
      "Epoch 94/200\n",
      "22/22 - 0s - loss: 0.5430 - binary_accuracy: 0.7443 - 29ms/epoch - 1ms/step\n",
      "Epoch 95/200\n",
      "22/22 - 0s - loss: 0.5446 - binary_accuracy: 0.7271 - 19ms/epoch - 861us/step\n",
      "Epoch 96/200\n",
      "22/22 - 0s - loss: 0.5463 - binary_accuracy: 0.7314 - 22ms/epoch - 1ms/step\n",
      "Epoch 97/200\n",
      "22/22 - 0s - loss: 0.5433 - binary_accuracy: 0.7357 - 34ms/epoch - 2ms/step\n",
      "Epoch 98/200\n",
      "22/22 - 0s - loss: 0.5442 - binary_accuracy: 0.7386 - 26ms/epoch - 1ms/step\n",
      "Epoch 99/200\n",
      "22/22 - 0s - loss: 0.5372 - binary_accuracy: 0.7457 - 22ms/epoch - 989us/step\n",
      "Epoch 100/200\n",
      "22/22 - 0s - loss: 0.5402 - binary_accuracy: 0.7429 - 30ms/epoch - 1ms/step\n",
      "Epoch 101/200\n",
      "22/22 - 0s - loss: 0.5440 - binary_accuracy: 0.7286 - 23ms/epoch - 1ms/step\n",
      "Epoch 102/200\n",
      "22/22 - 0s - loss: 0.5424 - binary_accuracy: 0.7257 - 26ms/epoch - 1ms/step\n",
      "Epoch 103/200\n",
      "22/22 - 0s - loss: 0.5396 - binary_accuracy: 0.7400 - 26ms/epoch - 1ms/step\n",
      "Epoch 104/200\n",
      "22/22 - 0s - loss: 0.5390 - binary_accuracy: 0.7300 - 21ms/epoch - 937us/step\n",
      "Epoch 105/200\n",
      "22/22 - 0s - loss: 0.5374 - binary_accuracy: 0.7286 - 32ms/epoch - 1ms/step\n",
      "Epoch 106/200\n",
      "22/22 - 0s - loss: 0.5508 - binary_accuracy: 0.7157 - 23ms/epoch - 1ms/step\n",
      "Epoch 107/200\n",
      "22/22 - 0s - loss: 0.5346 - binary_accuracy: 0.7486 - 26ms/epoch - 1ms/step\n",
      "Epoch 108/200\n",
      "22/22 - 0s - loss: 0.5320 - binary_accuracy: 0.7486 - 25ms/epoch - 1ms/step\n",
      "Epoch 109/200\n",
      "22/22 - 0s - loss: 0.5318 - binary_accuracy: 0.7514 - 23ms/epoch - 1ms/step\n",
      "Epoch 110/200\n",
      "22/22 - 0s - loss: 0.5356 - binary_accuracy: 0.7371 - 30ms/epoch - 1ms/step\n",
      "Epoch 111/200\n",
      "22/22 - 0s - loss: 0.5456 - binary_accuracy: 0.7314 - 15ms/epoch - 679us/step\n",
      "Epoch 112/200\n",
      "22/22 - 0s - loss: 0.5293 - binary_accuracy: 0.7429 - 34ms/epoch - 2ms/step\n",
      "Epoch 113/200\n",
      "22/22 - 0s - loss: 0.5345 - binary_accuracy: 0.7329 - 30ms/epoch - 1ms/step\n",
      "Epoch 114/200\n",
      "22/22 - 0s - loss: 0.5291 - binary_accuracy: 0.7300 - 18ms/epoch - 805us/step\n",
      "Epoch 115/200\n",
      "22/22 - 0s - loss: 0.5251 - binary_accuracy: 0.7514 - 36ms/epoch - 2ms/step\n",
      "Epoch 116/200\n",
      "22/22 - 0s - loss: 0.5391 - binary_accuracy: 0.7400 - 26ms/epoch - 1ms/step\n",
      "Epoch 117/200\n",
      "22/22 - 0s - loss: 0.5349 - binary_accuracy: 0.7443 - 21ms/epoch - 954us/step\n",
      "Epoch 118/200\n",
      "22/22 - 0s - loss: 0.5265 - binary_accuracy: 0.7386 - 24ms/epoch - 1ms/step\n",
      "Epoch 119/200\n",
      "22/22 - 0s - loss: 0.5215 - binary_accuracy: 0.7429 - 31ms/epoch - 1ms/step\n",
      "Epoch 120/200\n",
      "22/22 - 0s - loss: 0.5242 - binary_accuracy: 0.7386 - 28ms/epoch - 1ms/step\n",
      "Epoch 121/200\n",
      "22/22 - 0s - loss: 0.5189 - binary_accuracy: 0.7486 - 20ms/epoch - 906us/step\n",
      "Epoch 122/200\n",
      "22/22 - 0s - loss: 0.5230 - binary_accuracy: 0.7514 - 31ms/epoch - 1ms/step\n",
      "Epoch 123/200\n",
      "22/22 - 0s - loss: 0.5271 - binary_accuracy: 0.7386 - 25ms/epoch - 1ms/step\n",
      "Epoch 124/200\n",
      "22/22 - 0s - loss: 0.5265 - binary_accuracy: 0.7386 - 23ms/epoch - 1ms/step\n",
      "Epoch 125/200\n",
      "22/22 - 0s - loss: 0.5292 - binary_accuracy: 0.7471 - 31ms/epoch - 1ms/step\n",
      "Epoch 126/200\n",
      "22/22 - 0s - loss: 0.5295 - binary_accuracy: 0.7414 - 23ms/epoch - 1ms/step\n",
      "Epoch 127/200\n",
      "22/22 - 0s - loss: 0.5171 - binary_accuracy: 0.7514 - 18ms/epoch - 813us/step\n",
      "Epoch 128/200\n",
      "22/22 - 0s - loss: 0.5208 - binary_accuracy: 0.7557 - 39ms/epoch - 2ms/step\n",
      "Epoch 129/200\n",
      "22/22 - 0s - loss: 0.5209 - binary_accuracy: 0.7429 - 28ms/epoch - 1ms/step\n",
      "Epoch 130/200\n",
      "22/22 - 0s - loss: 0.5246 - binary_accuracy: 0.7400 - 16ms/epoch - 721us/step\n",
      "Epoch 131/200\n",
      "22/22 - 0s - loss: 0.5219 - binary_accuracy: 0.7386 - 23ms/epoch - 1ms/step\n",
      "Epoch 132/200\n",
      "22/22 - 0s - loss: 0.5238 - binary_accuracy: 0.7400 - 31ms/epoch - 1ms/step\n",
      "Epoch 133/200\n",
      "22/22 - 0s - loss: 0.5300 - binary_accuracy: 0.7514 - 29ms/epoch - 1ms/step\n",
      "Epoch 134/200\n",
      "22/22 - 0s - loss: 0.5166 - binary_accuracy: 0.7486 - 29ms/epoch - 1ms/step\n",
      "Epoch 135/200\n",
      "22/22 - 0s - loss: 0.5227 - binary_accuracy: 0.7343 - 21ms/epoch - 955us/step\n",
      "Epoch 136/200\n",
      "22/22 - 0s - loss: 0.5239 - binary_accuracy: 0.7457 - 23ms/epoch - 1ms/step\n",
      "Epoch 137/200\n",
      "22/22 - 0s - loss: 0.5408 - binary_accuracy: 0.7371 - 25ms/epoch - 1ms/step\n",
      "Epoch 138/200\n",
      "22/22 - 0s - loss: 0.5234 - binary_accuracy: 0.7400 - 24ms/epoch - 1ms/step\n",
      "Epoch 139/200\n",
      "22/22 - 0s - loss: 0.5239 - binary_accuracy: 0.7486 - 30ms/epoch - 1ms/step\n",
      "Epoch 140/200\n",
      "22/22 - 0s - loss: 0.5307 - binary_accuracy: 0.7386 - 23ms/epoch - 1ms/step\n",
      "Epoch 141/200\n",
      "22/22 - 0s - loss: 0.5284 - binary_accuracy: 0.7371 - 25ms/epoch - 1ms/step\n",
      "Epoch 142/200\n",
      "22/22 - 0s - loss: 0.5174 - binary_accuracy: 0.7357 - 30ms/epoch - 1ms/step\n",
      "Epoch 143/200\n",
      "22/22 - 0s - loss: 0.5079 - binary_accuracy: 0.7543 - 25ms/epoch - 1ms/step\n",
      "Epoch 144/200\n",
      "22/22 - 0s - loss: 0.5082 - binary_accuracy: 0.7557 - 25ms/epoch - 1ms/step\n",
      "Epoch 145/200\n",
      "22/22 - 0s - loss: 0.5092 - binary_accuracy: 0.7543 - 31ms/epoch - 1ms/step\n",
      "Epoch 146/200\n",
      "22/22 - 0s - loss: 0.5083 - binary_accuracy: 0.7571 - 24ms/epoch - 1ms/step\n",
      "Epoch 147/200\n",
      "22/22 - 0s - loss: 0.5144 - binary_accuracy: 0.7500 - 21ms/epoch - 936us/step\n",
      "Epoch 148/200\n",
      "22/22 - 0s - loss: 0.5167 - binary_accuracy: 0.7471 - 28ms/epoch - 1ms/step\n",
      "Epoch 149/200\n",
      "22/22 - 0s - loss: 0.5092 - binary_accuracy: 0.7529 - 35ms/epoch - 2ms/step\n",
      "Epoch 150/200\n",
      "22/22 - 0s - loss: 0.5069 - binary_accuracy: 0.7600 - 17ms/epoch - 785us/step\n",
      "Epoch 151/200\n",
      "22/22 - 0s - loss: 0.5060 - binary_accuracy: 0.7600 - 34ms/epoch - 2ms/step\n",
      "Epoch 152/200\n",
      "22/22 - 0s - loss: 0.5097 - binary_accuracy: 0.7429 - 31ms/epoch - 1ms/step\n",
      "Epoch 153/200\n",
      "22/22 - 0s - loss: 0.5247 - binary_accuracy: 0.7386 - 18ms/epoch - 797us/step\n",
      "Epoch 154/200\n",
      "22/22 - 0s - loss: 0.5388 - binary_accuracy: 0.7357 - 24ms/epoch - 1ms/step\n",
      "Epoch 155/200\n",
      "22/22 - 0s - loss: 0.5167 - binary_accuracy: 0.7443 - 32ms/epoch - 1ms/step\n",
      "Epoch 156/200\n",
      "22/22 - 0s - loss: 0.5138 - binary_accuracy: 0.7414 - 25ms/epoch - 1ms/step\n",
      "Epoch 157/200\n",
      "22/22 - 0s - loss: 0.5068 - binary_accuracy: 0.7500 - 26ms/epoch - 1ms/step\n",
      "Epoch 158/200\n",
      "22/22 - 0s - loss: 0.5069 - binary_accuracy: 0.7600 - 26ms/epoch - 1ms/step\n",
      "Epoch 159/200\n",
      "22/22 - 0s - loss: 0.5029 - binary_accuracy: 0.7557 - 29ms/epoch - 1ms/step\n",
      "Epoch 160/200\n",
      "22/22 - 0s - loss: 0.5089 - binary_accuracy: 0.7429 - 28ms/epoch - 1ms/step\n",
      "Epoch 161/200\n",
      "22/22 - 0s - loss: 0.5075 - binary_accuracy: 0.7529 - 20ms/epoch - 904us/step\n",
      "Epoch 162/200\n",
      "22/22 - 0s - loss: 0.5467 - binary_accuracy: 0.7343 - 23ms/epoch - 1ms/step\n",
      "Epoch 163/200\n",
      "22/22 - 0s - loss: 0.5032 - binary_accuracy: 0.7614 - 33ms/epoch - 2ms/step\n",
      "Epoch 164/200\n",
      "22/22 - 0s - loss: 0.5057 - binary_accuracy: 0.7557 - 27ms/epoch - 1ms/step\n",
      "Epoch 165/200\n",
      "22/22 - 0s - loss: 0.5101 - binary_accuracy: 0.7486 - 19ms/epoch - 856us/step\n",
      "Epoch 166/200\n",
      "22/22 - 0s - loss: 0.5028 - binary_accuracy: 0.7529 - 22ms/epoch - 1ms/step\n",
      "Epoch 167/200\n",
      "22/22 - 0s - loss: 0.5091 - binary_accuracy: 0.7529 - 31ms/epoch - 1ms/step\n",
      "Epoch 168/200\n",
      "22/22 - 0s - loss: 0.5057 - binary_accuracy: 0.7629 - 25ms/epoch - 1ms/step\n",
      "Epoch 169/200\n",
      "22/22 - 0s - loss: 0.5050 - binary_accuracy: 0.7557 - 24ms/epoch - 1ms/step\n",
      "Epoch 170/200\n",
      "22/22 - 0s - loss: 0.5147 - binary_accuracy: 0.7443 - 32ms/epoch - 1ms/step\n",
      "Epoch 171/200\n",
      "22/22 - 0s - loss: 0.5118 - binary_accuracy: 0.7514 - 18ms/epoch - 820us/step\n",
      "Epoch 172/200\n",
      "22/22 - 0s - loss: 0.5115 - binary_accuracy: 0.7600 - 20ms/epoch - 918us/step\n",
      "Epoch 173/200\n",
      "22/22 - 0s - loss: 0.5105 - binary_accuracy: 0.7614 - 31ms/epoch - 1ms/step\n",
      "Epoch 174/200\n",
      "22/22 - 0s - loss: 0.5154 - binary_accuracy: 0.7500 - 18ms/epoch - 810us/step\n",
      "Epoch 175/200\n",
      "22/22 - 0s - loss: 0.5016 - binary_accuracy: 0.7571 - 23ms/epoch - 1ms/step\n",
      "Epoch 176/200\n",
      "22/22 - 0s - loss: 0.5178 - binary_accuracy: 0.7600 - 30ms/epoch - 1ms/step\n",
      "Epoch 177/200\n",
      "22/22 - 0s - loss: 0.5058 - binary_accuracy: 0.7571 - 24ms/epoch - 1ms/step\n",
      "Epoch 178/200\n",
      "22/22 - 0s - loss: 0.5002 - binary_accuracy: 0.7557 - 24ms/epoch - 1ms/step\n",
      "Epoch 179/200\n",
      "22/22 - 0s - loss: 0.5067 - binary_accuracy: 0.7414 - 28ms/epoch - 1ms/step\n",
      "Epoch 180/200\n",
      "22/22 - 0s - loss: 0.4972 - binary_accuracy: 0.7600 - 13ms/epoch - 589us/step\n",
      "Epoch 181/200\n",
      "22/22 - 0s - loss: 0.4986 - binary_accuracy: 0.7557 - 23ms/epoch - 1ms/step\n",
      "Epoch 182/200\n",
      "22/22 - 0s - loss: 0.5079 - binary_accuracy: 0.7557 - 32ms/epoch - 1ms/step\n",
      "Epoch 183/200\n",
      "22/22 - 0s - loss: 0.4988 - binary_accuracy: 0.7600 - 27ms/epoch - 1ms/step\n"
     ]
    },
    {
     "name": "stdout",
     "output_type": "stream",
     "text": [
      "Epoch 184/200\n",
      "22/22 - 0s - loss: 0.4963 - binary_accuracy: 0.7500 - 19ms/epoch - 877us/step\n",
      "Epoch 185/200\n",
      "22/22 - 0s - loss: 0.4947 - binary_accuracy: 0.7629 - 23ms/epoch - 1ms/step\n",
      "Epoch 186/200\n",
      "22/22 - 0s - loss: 0.4966 - binary_accuracy: 0.7529 - 27ms/epoch - 1ms/step\n",
      "Epoch 187/200\n",
      "22/22 - 0s - loss: 0.4956 - binary_accuracy: 0.7643 - 21ms/epoch - 947us/step\n",
      "Epoch 188/200\n",
      "22/22 - 0s - loss: 0.4933 - binary_accuracy: 0.7643 - 30ms/epoch - 1ms/step\n",
      "Epoch 189/200\n",
      "22/22 - 0s - loss: 0.4956 - binary_accuracy: 0.7600 - 32ms/epoch - 1ms/step\n",
      "Epoch 190/200\n",
      "22/22 - 0s - loss: 0.4931 - binary_accuracy: 0.7643 - 20ms/epoch - 887us/step\n",
      "Epoch 191/200\n",
      "22/22 - 0s - loss: 0.4994 - binary_accuracy: 0.7529 - 34ms/epoch - 2ms/step\n",
      "Epoch 192/200\n",
      "22/22 - 0s - loss: 0.5086 - binary_accuracy: 0.7500 - 28ms/epoch - 1ms/step\n",
      "Epoch 193/200\n",
      "22/22 - 0s - loss: 0.4968 - binary_accuracy: 0.7557 - 19ms/epoch - 863us/step\n",
      "Epoch 194/200\n",
      "22/22 - 0s - loss: 0.4954 - binary_accuracy: 0.7586 - 23ms/epoch - 1ms/step\n",
      "Epoch 195/200\n",
      "22/22 - 0s - loss: 0.4916 - binary_accuracy: 0.7643 - 29ms/epoch - 1ms/step\n",
      "Epoch 196/200\n",
      "22/22 - 0s - loss: 0.4940 - binary_accuracy: 0.7671 - 18ms/epoch - 801us/step\n",
      "Epoch 197/200\n",
      "22/22 - 0s - loss: 0.5016 - binary_accuracy: 0.7543 - 32ms/epoch - 1ms/step\n",
      "Epoch 198/200\n",
      "22/22 - 0s - loss: 0.4992 - binary_accuracy: 0.7514 - 32ms/epoch - 1ms/step\n",
      "Epoch 199/200\n",
      "22/22 - 0s - loss: 0.5079 - binary_accuracy: 0.7514 - 18ms/epoch - 832us/step\n",
      "Epoch 200/200\n",
      "22/22 - 0s - loss: 0.4986 - binary_accuracy: 0.7571 - 23ms/epoch - 1ms/step\n"
     ]
    }
   ],
   "source": [
    "hist = model.fit(X_train, y_train,  # 훈련(학습)데이터\n",
    "                 epochs=200,        # 300번 학습\n",
    "                 # batch_size=350,  # 350개씩 나눠서\n",
    "                 # validation_split=0.2,  # 검증데이터 비율(훈련데이터셋 중 20%를 검증용 데이터로)\n",
    "                 verbose=2\n",
    "                )"
   ]
  },
  {
   "cell_type": "markdown",
   "id": "eb5d4cc5",
   "metadata": {},
   "source": [
    "## 5. 모델 평가하기(학습과정 보기 및 평가)"
   ]
  },
  {
   "cell_type": "code",
   "execution_count": 11,
   "id": "d5daf12e",
   "metadata": {
    "ExecuteTime": {
     "end_time": "2024-12-17T08:09:57.351909Z",
     "start_time": "2024-12-17T08:09:57.341822Z"
    }
   },
   "outputs": [
    {
     "data": {
      "text/plain": [
       "dict_keys(['loss', 'binary_accuracy'])"
      ]
     },
     "execution_count": 11,
     "metadata": {},
     "output_type": "execute_result"
    }
   ],
   "source": [
    "hist.history.keys()"
   ]
  },
  {
   "cell_type": "code",
   "execution_count": 12,
   "id": "e02edd44",
   "metadata": {
    "ExecuteTime": {
     "end_time": "2024-12-17T08:09:57.801860Z",
     "start_time": "2024-12-17T08:09:57.354909Z"
    }
   },
   "outputs": [
    {
     "data": {
      "image/png": "[encoded data removed]",
      "text/plain": [
       "<Figure size 1000x500 with 2 Axes>"
      ]
     },
     "metadata": {},
     "output_type": "display_data"
    }
   ],
   "source": [
    "# 학습과정 보기(validation dataset 없는 경우)\n",
    "fig, loss_ax = plt.subplots(figsize=(10, 5))\n",
    "loss_ax.plot(hist.history['loss'], 'r', label='train loss')\n",
    "loss_ax.set_xlabel('epochs')\n",
    "loss_ax.set_ylabel('loss')\n",
    "acc_ax = loss_ax.twinx()\n",
    "acc_ax.plot(hist.history['binary_accuracy'], 'b', label='train accuracy')\n",
    "acc_ax.set_ylabel('accuracy')\n",
    "loss_ax.legend(loc='center right')\n",
    "acc_ax.legend(bbox_to_anchor=(0.999, 0.65))\n",
    "plt.show()"
   ]
  },
  {
   "cell_type": "code",
   "execution_count": 13,
   "id": "c22c90e3",
   "metadata": {
    "ExecuteTime": {
     "end_time": "2024-12-17T08:09:58.102118Z",
     "start_time": "2024-12-17T08:09:57.804859Z"
    }
   },
   "outputs": [
    {
     "name": "stdout",
     "output_type": "stream",
     "text": [
      "22/22 [==============================] - 0s 2ms/step - loss: 0.5084 - binary_accuracy: 0.7557\n"
     ]
    },
    {
     "data": {
      "text/plain": [
       "[0.5084280371665955, 0.7557142972946167]"
      ]
     },
     "execution_count": 13,
     "metadata": {},
     "output_type": "execute_result"
    }
   ],
   "source": [
    "# 모델 평가하기(X)\n",
    "model.evaluate(X_train, y_train)"
   ]
  },
  {
   "cell_type": "code",
   "execution_count": 14,
   "id": "bc703e22",
   "metadata": {
    "ExecuteTime": {
     "end_time": "2024-12-17T08:09:58.202696Z",
     "start_time": "2024-12-17T08:09:58.104117Z"
    }
   },
   "outputs": [
    {
     "name": "stdout",
     "output_type": "stream",
     "text": [
      "3/3 [==============================] - 0s 7ms/step - loss: 0.6347 - binary_accuracy: 0.7206\n",
      "loss : 0.6347471475601196, accuracy : 72.0588207244873%\n"
     ]
    }
   ],
   "source": [
    "# 모델 평가하기(O)\n",
    "score = model.evaluate(X_test, y_test)\n",
    "print('loss : {}, accuracy : {}%'.format(score[0], score[1]*100))"
   ]
  },
  {
   "cell_type": "markdown",
   "id": "7e55d5e9",
   "metadata": {},
   "source": [
    "## 6. 모델 사용하기"
   ]
  },
  {
   "cell_type": "code",
   "execution_count": 15,
   "id": "3ceebf8e",
   "metadata": {
    "ExecuteTime": {
     "end_time": "2024-12-17T08:09:58.218646Z",
     "start_time": "2024-12-17T08:09:58.204916Z"
    }
   },
   "outputs": [
    {
     "data": {
      "text/plain": [
       "(array([  6.   , 148.   ,  72.   ,  35.   ,   0.   ,  33.6  ,   0.627,\n",
       "         50.   ]),\n",
       " 0.0)"
      ]
     },
     "execution_count": 15,
     "metadata": {},
     "output_type": "execute_result"
    }
   ],
   "source": [
    "X_train[0], y_train[10]"
   ]
  },
  {
   "cell_type": "code",
   "execution_count": 16,
   "id": "949f5782",
   "metadata": {
    "ExecuteTime": {
     "end_time": "2024-12-17T08:09:58.402923Z",
     "start_time": "2024-12-17T08:09:58.221822Z"
    }
   },
   "outputs": [
    {
     "name": "stdout",
     "output_type": "stream",
     "text": [
      "1/1 [==============================] - 0s 124ms/step\n"
     ]
    },
    {
     "data": {
      "text/plain": [
       "array([[0.636417]], dtype=float32)"
      ]
     },
     "execution_count": 16,
     "metadata": {},
     "output_type": "execute_result"
    }
   ],
   "source": [
    "model.predict([[6, 148, 72, 35, 0, 33.6, 0.6, 50]])"
   ]
  },
  {
   "cell_type": "code",
   "execution_count": 17,
   "id": "aac48249",
   "metadata": {
    "ExecuteTime": {
     "end_time": "2024-12-17T08:09:58.501996Z",
     "start_time": "2024-12-17T08:09:58.404833Z"
    }
   },
   "outputs": [
    {
     "name": "stdout",
     "output_type": "stream",
     "text": [
      "1/1 [==============================] - 0s 48ms/step\n"
     ]
    },
    {
     "data": {
      "text/plain": [
       "array([[ True]])"
      ]
     },
     "execution_count": 17,
     "metadata": {},
     "output_type": "execute_result"
    }
   ],
   "source": [
    "model.predict([[6, 148, 72, 35, 0, 33.6, 0.6, 50]]) >= 0.5"
   ]
  },
  {
   "cell_type": "code",
   "execution_count": 18,
   "id": "9b958785",
   "metadata": {
    "ExecuteTime": {
     "end_time": "2024-12-17T08:09:58.601910Z",
     "start_time": "2024-12-17T08:09:58.503996Z"
    }
   },
   "outputs": [
    {
     "name": "stdout",
     "output_type": "stream",
     "text": [
      "1/1 [==============================] - 0s 49ms/step\n"
     ]
    },
    {
     "data": {
      "text/plain": [
       "array([[1],\n",
       "       [1]])"
      ]
     },
     "execution_count": 18,
     "metadata": {},
     "output_type": "execute_result"
    }
   ],
   "source": [
    "(model.predict([[6, 148, 72, 35, 0, 33.6, 0.6, 50],\n",
    "               [6, 148, 72, 35, 0, 33.6, 0.6, 45]]) >= 0.5).astype(int)"
   ]
  },
  {
   "cell_type": "code",
   "execution_count": 19,
   "id": "3fd8783e",
   "metadata": {
    "ExecuteTime": {
     "end_time": "2024-12-17T08:09:58.700054Z",
     "start_time": "2024-12-17T08:09:58.604910Z"
    }
   },
   "outputs": [
    {
     "name": "stdout",
     "output_type": "stream",
     "text": [
      "1/1 [==============================] - 0s 44ms/step\n"
     ]
    },
    {
     "data": {
      "text/plain": [
       "array([[1.]], dtype=float32)"
      ]
     },
     "execution_count": 19,
     "metadata": {},
     "output_type": "execute_result"
    }
   ],
   "source": [
    "model.predict([[6, 148, 72, 35, 0, 33.6, 0.6, 50]]).round()"
   ]
  },
  {
   "cell_type": "markdown",
   "id": "b42a7c25",
   "metadata": {},
   "source": [
    "## 7. 교차표\n",
    " - 테스트 데이터셋의 실제값(y_test)과 예측값"
   ]
  },
  {
   "cell_type": "code",
   "execution_count": 20,
   "id": "20e38a9a",
   "metadata": {
    "ExecuteTime": {
     "end_time": "2024-12-17T08:09:58.710930Z",
     "start_time": "2024-12-17T08:09:58.702198Z"
    }
   },
   "outputs": [
    {
     "data": {
      "text/plain": [
       "array([0., 1., 1., 0., 0., 0., 1., 0., 1., 1., 0., 0., 1., 0., 0., 1., 1.,\n",
       "       0., 0., 1., 0., 0., 1., 0., 0., 0., 0., 0., 0., 0., 1., 1., 1., 0.,\n",
       "       0., 0., 0., 0., 0., 1., 1., 0., 0., 1., 0., 0., 1., 0., 1., 1., 1.,\n",
       "       0., 0., 1., 1., 1., 0., 1., 0., 1., 0., 1., 0., 0., 0., 0., 1., 0.])"
      ]
     },
     "execution_count": 20,
     "metadata": {},
     "output_type": "execute_result"
    }
   ],
   "source": [
    "y_test"
   ]
  },
  {
   "cell_type": "code",
   "execution_count": 21,
   "id": "96903699",
   "metadata": {
    "ExecuteTime": {
     "end_time": "2024-12-17T08:09:58.810711Z",
     "start_time": "2024-12-17T08:09:58.713825Z"
    },
    "scrolled": true
   },
   "outputs": [
    {
     "name": "stdout",
     "output_type": "stream",
     "text": [
      "3/3 [==============================] - 0s 2ms/step\n",
      "15 12\n",
      "7 34\n"
     ]
    }
   ],
   "source": [
    "y_hat = (model.predict(X_test) >= 0.5).astype(float)  # X_test : 2차원 배열\n",
    "cnt1 = 0\n",
    "cnt2 = 0\n",
    "cnt3 = 0\n",
    "cnt4 = 0\n",
    "# y_hat.shape : 2차원, y_test.shape : 1차원\n",
    "y_hat.reshape(-1)   # 1차원으로\n",
    "y_test.reshape(-1)  # 1차원으로\n",
    "for h, y in zip(y_hat.reshape(-1), y_test.reshape(-1)):\n",
    "    # print(h, y)\n",
    "    if h == 1.0 and y == 1.0:\n",
    "        cnt1 += 1\n",
    "    elif y == 1.0 and h == 0.0:\n",
    "        cnt2 += 1\n",
    "    elif y == 0.0 and h == 1.0:\n",
    "        cnt3 += 1\n",
    "    else:\n",
    "        cnt4 += 1\n",
    "print(cnt1, cnt2)\n",
    "print(cnt3, cnt4)"
   ]
  },
  {
   "cell_type": "code",
   "execution_count": 22,
   "id": "dbce25f5",
   "metadata": {
    "ExecuteTime": {
     "end_time": "2024-12-17T08:09:58.842165Z",
     "start_time": "2024-12-17T08:09:58.811669Z"
    }
   },
   "outputs": [
    {
     "data": {
      "text/html": [
       "<div>\n",
       "<style scoped>\n",
       "    .dataframe tbody tr th:only-of-type {\n",
       "        vertical-align: middle;\n",
       "    }\n",
       "\n",
       "    .dataframe tbody tr th {\n",
       "        vertical-align: top;\n",
       "    }\n",
       "\n",
       "    .dataframe thead th {\n",
       "        text-align: right;\n",
       "    }\n",
       "</style>\n",
       "<table border=\"1\" class=\"dataframe\">\n",
       "  <thead>\n",
       "    <tr style=\"text-align: right;\">\n",
       "      <th>예측값</th>\n",
       "      <th>0.0</th>\n",
       "      <th>1.0</th>\n",
       "    </tr>\n",
       "    <tr>\n",
       "      <th>실제값</th>\n",
       "      <th></th>\n",
       "      <th></th>\n",
       "    </tr>\n",
       "  </thead>\n",
       "  <tbody>\n",
       "    <tr>\n",
       "      <th>0.0</th>\n",
       "      <td>34</td>\n",
       "      <td>7</td>\n",
       "    </tr>\n",
       "    <tr>\n",
       "      <th>1.0</th>\n",
       "      <td>12</td>\n",
       "      <td>15</td>\n",
       "    </tr>\n",
       "  </tbody>\n",
       "</table>\n",
       "</div>"
      ],
      "text/plain": [
       "예측값  0.0  1.0\n",
       "실제값          \n",
       "0.0   34    7\n",
       "1.0   12   15"
      ]
     },
     "execution_count": 22,
     "metadata": {},
     "output_type": "execute_result"
    }
   ],
   "source": [
    "# 교차표를 만드는 함수\n",
    "#                  ┌ 1차원 실제값\n",
    "ctab = pd.crosstab(y_test, y_hat.reshape(-1))\n",
    "#                          └ 2차원->1차원 예측값\n",
    "ctab.index.name   = '실제값'\n",
    "ctab.columns.name = '예측값'\n",
    "ctab"
   ]
  },
  {
   "cell_type": "markdown",
   "id": "118c33e8",
   "metadata": {},
   "source": [
    "# 분류분석\n",
    "1. 데이터셋 생성 및 전처리 : 훈련셋600, 검증셋100, 테스트셋68으로 분리, 종속변수의 원핫인코딩\n",
    "2. 모델 생성(input 8, target 2(0, 1)) : 출력층에서의 활성화함수 'softmax' <br>\n",
    " model.summary()에서 파라미터 수 확인\n",
    "3. 모델 학습과정 설정 : loss='categorical_crossentropy', metrics=['accuracy'] (다중분류)\n",
    "4. 모델 학습 : validation_data=[X_val, Y_val] 추가해서 학습\n",
    "5. 모델 학습평가 <br>\n",
    " 5-1 그래프(hist.history.keys()를 확인 후 4가지) <br>\n",
    " 5-2 평가(X_test, Y_test) <br>\n",
    " 5-3 교차표(pd.crosstab 이용)\n",
    "6. 모델 사용하기 - 예측 <br>\n",
    "    0      1         <br>\n",
    "    0.9912 0.00124"
   ]
  },
  {
   "cell_type": "code",
   "execution_count": 1,
   "id": "6b096c46",
   "metadata": {
    "ExecuteTime": {
     "end_time": "2024-12-17T08:51:51.262146Z",
     "start_time": "2024-12-17T08:51:45.544505Z"
    }
   },
   "outputs": [],
   "source": [
    "import numpy as np\n",
    "import sys\n",
    "from tensorflow.keras import utils  # utils.to_categorical\n",
    "from tensorflow.keras.models import Sequential    # 모델 생성\n",
    "from tensorflow.keras.layers import Dense, Input  # 모델에 layer 쌓기\n",
    "import matplotlib.pyplot as plt"
   ]
  },
  {
   "cell_type": "code",
   "execution_count": 2,
   "id": "2f813f81",
   "metadata": {
    "ExecuteTime": {
     "end_time": "2024-12-17T08:51:51.287224Z",
     "start_time": "2024-12-17T08:51:51.270211Z"
    }
   },
   "outputs": [
    {
     "data": {
      "text/plain": [
       "(768, 9)"
      ]
     },
     "execution_count": 2,
     "metadata": {},
     "output_type": "execute_result"
    }
   ],
   "source": [
    "# 1. 데이터셋 생성 및 전처리 : 훈련셋600, 검증셋100, 테스트셋68으로 분리, 종속변수의 원핫인코딩\n",
    "dataset = np.loadtxt('data/pima-indians-diabetes.csv', delimiter=',')\n",
    "dataset.shape"
   ]
  },
  {
   "cell_type": "code",
   "execution_count": 3,
   "id": "7a0f5d9c",
   "metadata": {
    "ExecuteTime": {
     "end_time": "2024-12-17T08:51:51.992477Z",
     "start_time": "2024-12-17T08:51:51.984143Z"
    }
   },
   "outputs": [
    {
     "data": {
      "text/plain": [
       "((600, 8), (600,), (100, 8), (100,), (68, 8), (68,))"
      ]
     },
     "execution_count": 3,
     "metadata": {},
     "output_type": "execute_result"
    }
   ],
   "source": [
    "X_train = dataset[:600, :-1]\n",
    "Y_train = dataset[:600, -1]\n",
    "X_val   = dataset[600:700, :-1]\n",
    "Y_val   = dataset[600:700, -1]\n",
    "X_test  = dataset[700:, :-1]\n",
    "Y_test  = dataset[700:, -1]\n",
    "X_train.shape, Y_train.shape, X_val.shape, Y_val.shape, X_test.shape, Y_test.shape"
   ]
  },
  {
   "cell_type": "code",
   "execution_count": 4,
   "id": "f3cb98c5",
   "metadata": {
    "ExecuteTime": {
     "end_time": "2024-12-17T08:51:52.983834Z",
     "start_time": "2024-12-17T08:51:52.974836Z"
    }
   },
   "outputs": [
    {
     "data": {
      "text/plain": [
       "((600, 8), (600, 2), (100, 8), (100, 2), (68, 8), (68, 2))"
      ]
     },
     "execution_count": 4,
     "metadata": {},
     "output_type": "execute_result"
    }
   ],
   "source": [
    "# Y_train = pd.get_dummies(Y_train).values\n",
    "Y_train = utils.to_categorical(Y_train)\n",
    "Y_val   = utils.to_categorical(Y_val)\n",
    "Y_test  = utils.to_categorical(Y_test)\n",
    "X_train.shape, Y_train.shape, X_val.shape, Y_val.shape, X_test.shape, Y_test.shape"
   ]
  },
  {
   "cell_type": "code",
   "execution_count": 5,
   "id": "04b15304",
   "metadata": {
    "ExecuteTime": {
     "end_time": "2024-12-17T08:52:29.904470Z",
     "start_time": "2024-12-17T08:52:29.695295Z"
    }
   },
   "outputs": [
    {
     "name": "stdout",
     "output_type": "stream",
     "text": [
      "Model: \"sequential\"\n",
      "_________________________________________________________________\n",
      " Layer (type)                Output Shape              Param #   \n",
      "=================================================================\n",
      " dense (Dense)               (None, 12)                108       \n",
      "                                                                 \n",
      " dense_1 (Dense)             (None, 8)                 104       \n",
      "                                                                 \n",
      " dense_2 (Dense)             (None, 2)                 18        \n",
      "                                                                 \n",
      "=================================================================\n",
      "Total params: 230\n",
      "Trainable params: 230\n",
      "Non-trainable params: 0\n",
      "_________________________________________________________________\n",
      "None\n"
     ]
    }
   ],
   "source": [
    "# 2. 모델 생성(input 8, target 2(0, 1)) : 출력층에서의 활성화함수 'softmax'\n",
    "model = Sequential()\n",
    "model.add(Input(shape=(8, )))\n",
    "model.add(Dense(units=12, activation='relu'))\n",
    "model.add(Dense(units=8,  activation='relu'))\n",
    "model.add(Dense(units=2,  activation='softmax'))\n",
    "print(model.summary())"
   ]
  },
  {
   "cell_type": "code",
   "execution_count": 6,
   "id": "79754390",
   "metadata": {
    "ExecuteTime": {
     "end_time": "2024-12-17T08:52:38.247701Z",
     "start_time": "2024-12-17T08:52:38.230583Z"
    }
   },
   "outputs": [],
   "source": [
    "# 3. 모델 학습과정 설정 : loss='categorical_crossentropy', metrics=['accuracy'] (다중분류)\n",
    "model.compile(loss='categorical_crossentropy', optimizer='adam', metrics=['accuracy'])"
   ]
  },
  {
   "cell_type": "code",
   "execution_count": 8,
   "id": "c5269a2b",
   "metadata": {
    "ExecuteTime": {
     "end_time": "2024-12-17T08:54:03.308846Z",
     "start_time": "2024-12-17T08:53:45.038248Z"
    }
   },
   "outputs": [
    {
     "name": "stdout",
     "output_type": "stream",
     "text": [
      "Epoch 1/300\n",
      "19/19 [==============================] - 0s 5ms/step - loss: 0.4967 - accuracy: 0.7550 - val_loss: 0.5131 - val_accuracy: 0.6900\n",
      "Epoch 2/300\n",
      "19/19 [==============================] - 0s 3ms/step - loss: 0.4975 - accuracy: 0.7700 - val_loss: 0.4984 - val_accuracy: 0.7400\n",
      "Epoch 3/300\n",
      "19/19 [==============================] - 0s 3ms/step - loss: 0.5032 - accuracy: 0.7700 - val_loss: 0.5114 - val_accuracy: 0.7500\n",
      "Epoch 4/300\n",
      "19/19 [==============================] - 0s 3ms/step - loss: 0.5350 - accuracy: 0.7317 - val_loss: 0.5984 - val_accuracy: 0.6800\n",
      "Epoch 5/300\n",
      "19/19 [==============================] - 0s 3ms/step - loss: 0.5149 - accuracy: 0.7467 - val_loss: 0.4970 - val_accuracy: 0.7300\n",
      "Epoch 6/300\n",
      "19/19 [==============================] - 0s 3ms/step - loss: 0.4850 - accuracy: 0.7650 - val_loss: 0.5600 - val_accuracy: 0.7000\n",
      "Epoch 7/300\n",
      "19/19 [==============================] - 0s 3ms/step - loss: 0.5079 - accuracy: 0.7467 - val_loss: 0.4986 - val_accuracy: 0.7500\n",
      "Epoch 8/300\n",
      "19/19 [==============================] - 0s 3ms/step - loss: 0.4969 - accuracy: 0.7567 - val_loss: 0.5156 - val_accuracy: 0.7700\n",
      "Epoch 9/300\n",
      "19/19 [==============================] - 0s 3ms/step - loss: 0.5004 - accuracy: 0.7567 - val_loss: 0.5109 - val_accuracy: 0.7000\n",
      "Epoch 10/300\n",
      "19/19 [==============================] - 0s 3ms/step - loss: 0.4970 - accuracy: 0.7650 - val_loss: 0.5747 - val_accuracy: 0.7100\n",
      "Epoch 11/300\n",
      "19/19 [==============================] - 0s 3ms/step - loss: 0.5045 - accuracy: 0.7567 - val_loss: 0.5008 - val_accuracy: 0.7300\n",
      "Epoch 12/300\n",
      "19/19 [==============================] - 0s 3ms/step - loss: 0.4857 - accuracy: 0.7767 - val_loss: 0.4969 - val_accuracy: 0.7300\n",
      "Epoch 13/300\n",
      "19/19 [==============================] - 0s 3ms/step - loss: 0.4907 - accuracy: 0.7600 - val_loss: 0.4934 - val_accuracy: 0.7400\n",
      "Epoch 14/300\n",
      "19/19 [==============================] - 0s 3ms/step - loss: 0.4763 - accuracy: 0.7750 - val_loss: 0.5817 - val_accuracy: 0.6900\n",
      "Epoch 15/300\n",
      "19/19 [==============================] - 0s 3ms/step - loss: 0.4993 - accuracy: 0.7717 - val_loss: 0.4955 - val_accuracy: 0.7400\n",
      "Epoch 16/300\n",
      "19/19 [==============================] - 0s 3ms/step - loss: 0.4812 - accuracy: 0.7600 - val_loss: 0.5002 - val_accuracy: 0.7100\n",
      "Epoch 17/300\n",
      "19/19 [==============================] - 0s 3ms/step - loss: 0.4836 - accuracy: 0.7750 - val_loss: 0.4956 - val_accuracy: 0.7400\n",
      "Epoch 18/300\n",
      "19/19 [==============================] - 0s 3ms/step - loss: 0.5009 - accuracy: 0.7600 - val_loss: 0.5035 - val_accuracy: 0.7100\n",
      "Epoch 19/300\n",
      "19/19 [==============================] - 0s 3ms/step - loss: 0.4808 - accuracy: 0.7717 - val_loss: 0.5555 - val_accuracy: 0.7500\n",
      "Epoch 20/300\n",
      "19/19 [==============================] - 0s 3ms/step - loss: 0.4943 - accuracy: 0.7733 - val_loss: 0.5340 - val_accuracy: 0.7100\n",
      "Epoch 21/300\n",
      "19/19 [==============================] - 0s 3ms/step - loss: 0.4902 - accuracy: 0.7567 - val_loss: 0.5082 - val_accuracy: 0.7000\n",
      "Epoch 22/300\n",
      "19/19 [==============================] - 0s 3ms/step - loss: 0.4745 - accuracy: 0.7600 - val_loss: 0.4941 - val_accuracy: 0.7400\n",
      "Epoch 23/300\n",
      "19/19 [==============================] - 0s 3ms/step - loss: 0.4716 - accuracy: 0.7650 - val_loss: 0.5012 - val_accuracy: 0.7000\n",
      "Epoch 24/300\n",
      "19/19 [==============================] - 0s 3ms/step - loss: 0.4831 - accuracy: 0.7717 - val_loss: 0.5306 - val_accuracy: 0.7100\n",
      "Epoch 25/300\n",
      "19/19 [==============================] - 0s 3ms/step - loss: 0.4763 - accuracy: 0.7700 - val_loss: 0.4940 - val_accuracy: 0.7600\n",
      "Epoch 26/300\n",
      "19/19 [==============================] - 0s 3ms/step - loss: 0.5179 - accuracy: 0.7700 - val_loss: 0.4976 - val_accuracy: 0.7100\n",
      "Epoch 27/300\n",
      "19/19 [==============================] - 0s 3ms/step - loss: 0.4990 - accuracy: 0.7633 - val_loss: 0.5266 - val_accuracy: 0.7100\n",
      "Epoch 28/300\n",
      "19/19 [==============================] - 0s 3ms/step - loss: 0.4893 - accuracy: 0.7617 - val_loss: 0.5334 - val_accuracy: 0.7000\n",
      "Epoch 29/300\n",
      "19/19 [==============================] - 0s 3ms/step - loss: 0.5201 - accuracy: 0.7450 - val_loss: 0.5776 - val_accuracy: 0.7000\n",
      "Epoch 30/300\n",
      "19/19 [==============================] - 0s 3ms/step - loss: 0.5348 - accuracy: 0.7400 - val_loss: 0.5038 - val_accuracy: 0.7200\n",
      "Epoch 31/300\n",
      "19/19 [==============================] - 0s 3ms/step - loss: 0.4817 - accuracy: 0.7683 - val_loss: 0.5004 - val_accuracy: 0.7000\n",
      "Epoch 32/300\n",
      "19/19 [==============================] - 0s 3ms/step - loss: 0.4734 - accuracy: 0.7700 - val_loss: 0.5039 - val_accuracy: 0.7200\n",
      "Epoch 33/300\n",
      "19/19 [==============================] - 0s 3ms/step - loss: 0.4788 - accuracy: 0.7683 - val_loss: 0.4999 - val_accuracy: 0.7300\n",
      "Epoch 34/300\n",
      "19/19 [==============================] - 0s 3ms/step - loss: 0.4953 - accuracy: 0.7750 - val_loss: 0.5280 - val_accuracy: 0.7800\n",
      "Epoch 35/300\n",
      "19/19 [==============================] - 0s 3ms/step - loss: 0.5017 - accuracy: 0.7667 - val_loss: 0.5432 - val_accuracy: 0.7000\n",
      "Epoch 36/300\n",
      "19/19 [==============================] - 0s 4ms/step - loss: 0.4979 - accuracy: 0.7567 - val_loss: 0.5179 - val_accuracy: 0.7200\n",
      "Epoch 37/300\n",
      "19/19 [==============================] - 0s 3ms/step - loss: 0.4874 - accuracy: 0.7550 - val_loss: 0.4854 - val_accuracy: 0.7200\n",
      "Epoch 38/300\n",
      "19/19 [==============================] - 0s 3ms/step - loss: 0.4762 - accuracy: 0.7800 - val_loss: 0.4944 - val_accuracy: 0.7000\n",
      "Epoch 39/300\n",
      "19/19 [==============================] - 0s 3ms/step - loss: 0.4802 - accuracy: 0.7650 - val_loss: 0.5060 - val_accuracy: 0.7900\n",
      "Epoch 40/300\n",
      "19/19 [==============================] - 0s 3ms/step - loss: 0.4936 - accuracy: 0.7617 - val_loss: 0.5532 - val_accuracy: 0.6900\n",
      "Epoch 41/300\n",
      "19/19 [==============================] - 0s 3ms/step - loss: 0.4868 - accuracy: 0.7683 - val_loss: 0.4988 - val_accuracy: 0.7500\n",
      "Epoch 42/300\n",
      "19/19 [==============================] - 0s 3ms/step - loss: 0.4737 - accuracy: 0.7700 - val_loss: 0.4837 - val_accuracy: 0.7700\n",
      "Epoch 43/300\n",
      "19/19 [==============================] - 0s 3ms/step - loss: 0.4863 - accuracy: 0.7633 - val_loss: 0.5176 - val_accuracy: 0.7500\n",
      "Epoch 44/300\n",
      "19/19 [==============================] - 0s 3ms/step - loss: 0.4828 - accuracy: 0.7683 - val_loss: 0.6121 - val_accuracy: 0.6800\n",
      "Epoch 45/300\n",
      "19/19 [==============================] - 0s 3ms/step - loss: 0.5056 - accuracy: 0.7617 - val_loss: 0.4938 - val_accuracy: 0.7400\n",
      "Epoch 46/300\n",
      "19/19 [==============================] - 0s 3ms/step - loss: 0.4729 - accuracy: 0.7733 - val_loss: 0.4867 - val_accuracy: 0.7200\n",
      "Epoch 47/300\n",
      "19/19 [==============================] - 0s 3ms/step - loss: 0.5264 - accuracy: 0.7467 - val_loss: 0.5470 - val_accuracy: 0.7000\n",
      "Epoch 48/300\n",
      "19/19 [==============================] - 0s 3ms/step - loss: 0.4657 - accuracy: 0.7700 - val_loss: 0.4978 - val_accuracy: 0.7500\n",
      "Epoch 49/300\n",
      "19/19 [==============================] - 0s 3ms/step - loss: 0.4772 - accuracy: 0.7700 - val_loss: 0.5183 - val_accuracy: 0.7700\n",
      "Epoch 50/300\n",
      "19/19 [==============================] - 0s 3ms/step - loss: 0.4983 - accuracy: 0.7500 - val_loss: 0.4976 - val_accuracy: 0.7000\n",
      "Epoch 51/300\n",
      "19/19 [==============================] - 0s 3ms/step - loss: 0.5017 - accuracy: 0.7717 - val_loss: 0.5229 - val_accuracy: 0.7100\n",
      "Epoch 52/300\n",
      "19/19 [==============================] - 0s 3ms/step - loss: 0.4773 - accuracy: 0.7683 - val_loss: 0.4800 - val_accuracy: 0.7800\n",
      "Epoch 53/300\n",
      "19/19 [==============================] - 0s 3ms/step - loss: 0.4757 - accuracy: 0.7783 - val_loss: 0.5024 - val_accuracy: 0.7100\n",
      "Epoch 54/300\n",
      "19/19 [==============================] - 0s 3ms/step - loss: 0.4871 - accuracy: 0.7767 - val_loss: 0.4890 - val_accuracy: 0.7700\n",
      "Epoch 55/300\n",
      "19/19 [==============================] - 0s 3ms/step - loss: 0.4963 - accuracy: 0.7633 - val_loss: 0.6449 - val_accuracy: 0.7000\n",
      "Epoch 56/300\n",
      "19/19 [==============================] - 0s 4ms/step - loss: 0.5194 - accuracy: 0.7550 - val_loss: 0.5880 - val_accuracy: 0.6900\n",
      "Epoch 57/300\n",
      "19/19 [==============================] - 0s 3ms/step - loss: 0.5139 - accuracy: 0.7467 - val_loss: 0.5068 - val_accuracy: 0.8000\n",
      "Epoch 58/300\n",
      "19/19 [==============================] - 0s 3ms/step - loss: 0.4691 - accuracy: 0.7867 - val_loss: 0.5505 - val_accuracy: 0.7600\n"
     ]
    },
    {
     "name": "stdout",
     "output_type": "stream",
     "text": [
      "Epoch 59/300\n",
      "19/19 [==============================] - 0s 3ms/step - loss: 0.4810 - accuracy: 0.7633 - val_loss: 0.4968 - val_accuracy: 0.8100\n",
      "Epoch 60/300\n",
      "19/19 [==============================] - 0s 3ms/step - loss: 0.4689 - accuracy: 0.7750 - val_loss: 0.5154 - val_accuracy: 0.7200\n",
      "Epoch 61/300\n",
      "19/19 [==============================] - 0s 3ms/step - loss: 0.4679 - accuracy: 0.7733 - val_loss: 0.4853 - val_accuracy: 0.7500\n",
      "Epoch 62/300\n",
      "19/19 [==============================] - 0s 3ms/step - loss: 0.4655 - accuracy: 0.7733 - val_loss: 0.5131 - val_accuracy: 0.7100\n",
      "Epoch 63/300\n",
      "19/19 [==============================] - 0s 3ms/step - loss: 0.4680 - accuracy: 0.7617 - val_loss: 0.4839 - val_accuracy: 0.7700\n",
      "Epoch 64/300\n",
      "19/19 [==============================] - 0s 3ms/step - loss: 0.4858 - accuracy: 0.7617 - val_loss: 0.5266 - val_accuracy: 0.7000\n",
      "Epoch 65/300\n",
      "19/19 [==============================] - 0s 3ms/step - loss: 0.4675 - accuracy: 0.7817 - val_loss: 0.4995 - val_accuracy: 0.7200\n",
      "Epoch 66/300\n",
      "19/19 [==============================] - 0s 3ms/step - loss: 0.4837 - accuracy: 0.7600 - val_loss: 0.4893 - val_accuracy: 0.7800\n",
      "Epoch 67/300\n",
      "19/19 [==============================] - 0s 3ms/step - loss: 0.4706 - accuracy: 0.7817 - val_loss: 0.5067 - val_accuracy: 0.7200\n",
      "Epoch 68/300\n",
      "19/19 [==============================] - 0s 3ms/step - loss: 0.4700 - accuracy: 0.7700 - val_loss: 0.5041 - val_accuracy: 0.6900\n",
      "Epoch 69/300\n",
      "19/19 [==============================] - 0s 3ms/step - loss: 0.4708 - accuracy: 0.7667 - val_loss: 0.5274 - val_accuracy: 0.7000\n",
      "Epoch 70/300\n",
      "19/19 [==============================] - 0s 3ms/step - loss: 0.4730 - accuracy: 0.7800 - val_loss: 0.4812 - val_accuracy: 0.7700\n",
      "Epoch 71/300\n",
      "19/19 [==============================] - 0s 3ms/step - loss: 0.4716 - accuracy: 0.7767 - val_loss: 0.5376 - val_accuracy: 0.7100\n",
      "Epoch 72/300\n",
      "19/19 [==============================] - 0s 3ms/step - loss: 0.4717 - accuracy: 0.7700 - val_loss: 0.4884 - val_accuracy: 0.7500\n",
      "Epoch 73/300\n",
      "19/19 [==============================] - 0s 3ms/step - loss: 0.4728 - accuracy: 0.7667 - val_loss: 0.5043 - val_accuracy: 0.8100\n",
      "Epoch 74/300\n",
      "19/19 [==============================] - 0s 3ms/step - loss: 0.4854 - accuracy: 0.7583 - val_loss: 0.4988 - val_accuracy: 0.8200\n",
      "Epoch 75/300\n",
      "19/19 [==============================] - 0s 3ms/step - loss: 0.4766 - accuracy: 0.7767 - val_loss: 0.4835 - val_accuracy: 0.7800\n",
      "Epoch 76/300\n",
      "19/19 [==============================] - 0s 3ms/step - loss: 0.4698 - accuracy: 0.7667 - val_loss: 0.4802 - val_accuracy: 0.8000\n",
      "Epoch 77/300\n",
      "19/19 [==============================] - 0s 3ms/step - loss: 0.4860 - accuracy: 0.7600 - val_loss: 0.5059 - val_accuracy: 0.7900\n",
      "Epoch 78/300\n",
      "19/19 [==============================] - 0s 3ms/step - loss: 0.4926 - accuracy: 0.7667 - val_loss: 0.4911 - val_accuracy: 0.7000\n",
      "Epoch 79/300\n",
      "19/19 [==============================] - 0s 3ms/step - loss: 0.4819 - accuracy: 0.7600 - val_loss: 0.4899 - val_accuracy: 0.7500\n",
      "Epoch 80/300\n",
      "19/19 [==============================] - 0s 3ms/step - loss: 0.4714 - accuracy: 0.7817 - val_loss: 0.4841 - val_accuracy: 0.7300\n",
      "Epoch 81/300\n",
      "19/19 [==============================] - 0s 3ms/step - loss: 0.4924 - accuracy: 0.7650 - val_loss: 0.4950 - val_accuracy: 0.7600\n",
      "Epoch 82/300\n",
      "19/19 [==============================] - 0s 3ms/step - loss: 0.4950 - accuracy: 0.7733 - val_loss: 0.5410 - val_accuracy: 0.7200\n",
      "Epoch 83/300\n",
      "19/19 [==============================] - 0s 3ms/step - loss: 0.4791 - accuracy: 0.7683 - val_loss: 0.5118 - val_accuracy: 0.7800\n",
      "Epoch 84/300\n",
      "19/19 [==============================] - 0s 3ms/step - loss: 0.4695 - accuracy: 0.7833 - val_loss: 0.4817 - val_accuracy: 0.7400\n",
      "Epoch 85/300\n",
      "19/19 [==============================] - 0s 3ms/step - loss: 0.5064 - accuracy: 0.7550 - val_loss: 0.5219 - val_accuracy: 0.7100\n",
      "Epoch 86/300\n",
      "19/19 [==============================] - 0s 3ms/step - loss: 0.4495 - accuracy: 0.7867 - val_loss: 0.5212 - val_accuracy: 0.7100\n",
      "Epoch 87/300\n",
      "19/19 [==============================] - 0s 3ms/step - loss: 0.4639 - accuracy: 0.7733 - val_loss: 0.5140 - val_accuracy: 0.8000\n",
      "Epoch 88/300\n",
      "19/19 [==============================] - 0s 3ms/step - loss: 0.4725 - accuracy: 0.7733 - val_loss: 0.5079 - val_accuracy: 0.7000\n",
      "Epoch 89/300\n",
      "19/19 [==============================] - 0s 3ms/step - loss: 0.4687 - accuracy: 0.7733 - val_loss: 0.4764 - val_accuracy: 0.7400\n",
      "Epoch 90/300\n",
      "19/19 [==============================] - 0s 3ms/step - loss: 0.4654 - accuracy: 0.7733 - val_loss: 0.4996 - val_accuracy: 0.8100\n",
      "Epoch 91/300\n",
      "19/19 [==============================] - 0s 3ms/step - loss: 0.4811 - accuracy: 0.7750 - val_loss: 0.5828 - val_accuracy: 0.7100\n",
      "Epoch 92/300\n",
      "19/19 [==============================] - 0s 3ms/step - loss: 0.5338 - accuracy: 0.7533 - val_loss: 0.4889 - val_accuracy: 0.7800\n",
      "Epoch 93/300\n",
      "19/19 [==============================] - 0s 3ms/step - loss: 0.4972 - accuracy: 0.7583 - val_loss: 0.4917 - val_accuracy: 0.8100\n",
      "Epoch 94/300\n",
      "19/19 [==============================] - 0s 3ms/step - loss: 0.4661 - accuracy: 0.7700 - val_loss: 0.5287 - val_accuracy: 0.7700\n",
      "Epoch 95/300\n",
      "19/19 [==============================] - 0s 3ms/step - loss: 0.4584 - accuracy: 0.7783 - val_loss: 0.4789 - val_accuracy: 0.7300\n",
      "Epoch 96/300\n",
      "19/19 [==============================] - 0s 3ms/step - loss: 0.4887 - accuracy: 0.7600 - val_loss: 0.5425 - val_accuracy: 0.7100\n",
      "Epoch 97/300\n",
      "19/19 [==============================] - 0s 3ms/step - loss: 0.4744 - accuracy: 0.7717 - val_loss: 0.4747 - val_accuracy: 0.8100\n",
      "Epoch 98/300\n",
      "19/19 [==============================] - 0s 3ms/step - loss: 0.4865 - accuracy: 0.7783 - val_loss: 0.5361 - val_accuracy: 0.7000\n",
      "Epoch 99/300\n",
      "19/19 [==============================] - 0s 3ms/step - loss: 0.4862 - accuracy: 0.7667 - val_loss: 0.4784 - val_accuracy: 0.7700\n",
      "Epoch 100/300\n",
      "19/19 [==============================] - 0s 3ms/step - loss: 0.4617 - accuracy: 0.7850 - val_loss: 0.5088 - val_accuracy: 0.7300\n",
      "Epoch 101/300\n",
      "19/19 [==============================] - 0s 3ms/step - loss: 0.5003 - accuracy: 0.7633 - val_loss: 0.4898 - val_accuracy: 0.7300\n",
      "Epoch 102/300\n",
      "19/19 [==============================] - 0s 3ms/step - loss: 0.4739 - accuracy: 0.7550 - val_loss: 0.5053 - val_accuracy: 0.8000\n",
      "Epoch 103/300\n",
      "19/19 [==============================] - 0s 3ms/step - loss: 0.4653 - accuracy: 0.7733 - val_loss: 0.4808 - val_accuracy: 0.7200\n",
      "Epoch 104/300\n",
      "19/19 [==============================] - 0s 3ms/step - loss: 0.4588 - accuracy: 0.7767 - val_loss: 0.4884 - val_accuracy: 0.8200\n",
      "Epoch 105/300\n",
      "19/19 [==============================] - 0s 3ms/step - loss: 0.4832 - accuracy: 0.7867 - val_loss: 0.4704 - val_accuracy: 0.8100\n",
      "Epoch 106/300\n",
      "19/19 [==============================] - 0s 3ms/step - loss: 0.4943 - accuracy: 0.7533 - val_loss: 0.4930 - val_accuracy: 0.7100\n",
      "Epoch 107/300\n",
      "19/19 [==============================] - 0s 3ms/step - loss: 0.4547 - accuracy: 0.7800 - val_loss: 0.5072 - val_accuracy: 0.8100\n",
      "Epoch 108/300\n",
      "19/19 [==============================] - 0s 3ms/step - loss: 0.4830 - accuracy: 0.7650 - val_loss: 0.5610 - val_accuracy: 0.7500\n",
      "Epoch 109/300\n",
      "19/19 [==============================] - 0s 3ms/step - loss: 0.4602 - accuracy: 0.7983 - val_loss: 0.5513 - val_accuracy: 0.7600\n",
      "Epoch 110/300\n",
      "19/19 [==============================] - 0s 4ms/step - loss: 0.4722 - accuracy: 0.7867 - val_loss: 0.4835 - val_accuracy: 0.7400\n",
      "Epoch 111/300\n",
      "19/19 [==============================] - 0s 3ms/step - loss: 0.4644 - accuracy: 0.7667 - val_loss: 0.4864 - val_accuracy: 0.7300\n",
      "Epoch 112/300\n",
      "19/19 [==============================] - 0s 3ms/step - loss: 0.4571 - accuracy: 0.7950 - val_loss: 0.5667 - val_accuracy: 0.7100\n",
      "Epoch 113/300\n",
      "19/19 [==============================] - 0s 3ms/step - loss: 0.4789 - accuracy: 0.7767 - val_loss: 0.4822 - val_accuracy: 0.8000\n",
      "Epoch 114/300\n",
      "19/19 [==============================] - 0s 3ms/step - loss: 0.4606 - accuracy: 0.7750 - val_loss: 0.4704 - val_accuracy: 0.7700\n",
      "Epoch 115/300\n",
      "19/19 [==============================] - 0s 3ms/step - loss: 0.4564 - accuracy: 0.7717 - val_loss: 0.5006 - val_accuracy: 0.8000\n",
      "Epoch 116/300\n"
     ]
    },
    {
     "name": "stdout",
     "output_type": "stream",
     "text": [
      "19/19 [==============================] - 0s 3ms/step - loss: 0.4719 - accuracy: 0.7717 - val_loss: 0.4868 - val_accuracy: 0.7500\n",
      "Epoch 117/300\n",
      "19/19 [==============================] - 0s 3ms/step - loss: 0.5042 - accuracy: 0.7617 - val_loss: 0.5687 - val_accuracy: 0.7000\n",
      "Epoch 118/300\n",
      "19/19 [==============================] - 0s 3ms/step - loss: 0.4816 - accuracy: 0.7717 - val_loss: 0.5330 - val_accuracy: 0.7900\n",
      "Epoch 119/300\n",
      "19/19 [==============================] - 0s 3ms/step - loss: 0.5003 - accuracy: 0.7767 - val_loss: 0.5061 - val_accuracy: 0.8000\n",
      "Epoch 120/300\n",
      "19/19 [==============================] - 0s 3ms/step - loss: 0.4555 - accuracy: 0.7817 - val_loss: 0.5284 - val_accuracy: 0.7800\n",
      "Epoch 121/300\n",
      "19/19 [==============================] - 0s 3ms/step - loss: 0.4771 - accuracy: 0.7800 - val_loss: 0.5103 - val_accuracy: 0.7200\n",
      "Epoch 122/300\n",
      "19/19 [==============================] - 0s 3ms/step - loss: 0.4527 - accuracy: 0.7983 - val_loss: 0.4748 - val_accuracy: 0.7600\n",
      "Epoch 123/300\n",
      "19/19 [==============================] - 0s 3ms/step - loss: 0.4548 - accuracy: 0.7900 - val_loss: 0.4919 - val_accuracy: 0.7500\n",
      "Epoch 124/300\n",
      "19/19 [==============================] - 0s 3ms/step - loss: 0.4910 - accuracy: 0.7700 - val_loss: 0.5096 - val_accuracy: 0.8100\n",
      "Epoch 125/300\n",
      "19/19 [==============================] - 0s 3ms/step - loss: 0.4608 - accuracy: 0.7650 - val_loss: 0.4766 - val_accuracy: 0.7600\n",
      "Epoch 126/300\n",
      "19/19 [==============================] - 0s 3ms/step - loss: 0.4549 - accuracy: 0.7867 - val_loss: 0.4979 - val_accuracy: 0.7500\n",
      "Epoch 127/300\n",
      "19/19 [==============================] - 0s 3ms/step - loss: 0.4762 - accuracy: 0.7783 - val_loss: 0.4828 - val_accuracy: 0.7800\n",
      "Epoch 128/300\n",
      "19/19 [==============================] - 0s 3ms/step - loss: 0.4456 - accuracy: 0.7950 - val_loss: 0.4837 - val_accuracy: 0.8300\n",
      "Epoch 129/300\n",
      "19/19 [==============================] - 0s 3ms/step - loss: 0.4570 - accuracy: 0.7767 - val_loss: 0.4822 - val_accuracy: 0.8000\n",
      "Epoch 130/300\n",
      "19/19 [==============================] - 0s 3ms/step - loss: 0.4537 - accuracy: 0.7817 - val_loss: 0.5005 - val_accuracy: 0.8100\n",
      "Epoch 131/300\n",
      "19/19 [==============================] - 0s 3ms/step - loss: 0.4657 - accuracy: 0.7900 - val_loss: 0.4884 - val_accuracy: 0.8000\n",
      "Epoch 132/300\n",
      "19/19 [==============================] - 0s 3ms/step - loss: 0.4524 - accuracy: 0.7833 - val_loss: 0.4812 - val_accuracy: 0.8100\n",
      "Epoch 133/300\n",
      "19/19 [==============================] - 0s 3ms/step - loss: 0.4771 - accuracy: 0.7933 - val_loss: 0.4960 - val_accuracy: 0.8100\n",
      "Epoch 134/300\n",
      "19/19 [==============================] - 0s 3ms/step - loss: 0.4682 - accuracy: 0.7800 - val_loss: 0.5265 - val_accuracy: 0.7200\n",
      "Epoch 135/300\n",
      "19/19 [==============================] - 0s 3ms/step - loss: 0.4508 - accuracy: 0.7783 - val_loss: 0.4845 - val_accuracy: 0.8000\n",
      "Epoch 136/300\n",
      "19/19 [==============================] - 0s 3ms/step - loss: 0.4552 - accuracy: 0.7800 - val_loss: 0.5542 - val_accuracy: 0.7700\n",
      "Epoch 137/300\n",
      "19/19 [==============================] - 0s 3ms/step - loss: 0.4587 - accuracy: 0.7750 - val_loss: 0.5241 - val_accuracy: 0.7400\n",
      "Epoch 138/300\n",
      "19/19 [==============================] - 0s 3ms/step - loss: 0.4490 - accuracy: 0.7933 - val_loss: 0.4831 - val_accuracy: 0.8100\n",
      "Epoch 139/300\n",
      "19/19 [==============================] - 0s 3ms/step - loss: 0.4470 - accuracy: 0.7850 - val_loss: 0.4734 - val_accuracy: 0.8400\n",
      "Epoch 140/300\n",
      "19/19 [==============================] - 0s 3ms/step - loss: 0.4455 - accuracy: 0.7950 - val_loss: 0.4960 - val_accuracy: 0.7400\n",
      "Epoch 141/300\n",
      "19/19 [==============================] - 0s 3ms/step - loss: 0.4476 - accuracy: 0.7950 - val_loss: 0.4973 - val_accuracy: 0.8100\n",
      "Epoch 142/300\n",
      "19/19 [==============================] - 0s 3ms/step - loss: 0.4460 - accuracy: 0.8033 - val_loss: 0.5004 - val_accuracy: 0.8000\n",
      "Epoch 143/300\n",
      "19/19 [==============================] - 0s 3ms/step - loss: 0.4707 - accuracy: 0.7833 - val_loss: 0.5700 - val_accuracy: 0.7100\n",
      "Epoch 144/300\n",
      "19/19 [==============================] - 0s 3ms/step - loss: 0.4763 - accuracy: 0.7833 - val_loss: 0.5102 - val_accuracy: 0.8000\n",
      "Epoch 145/300\n",
      "19/19 [==============================] - 0s 3ms/step - loss: 0.4469 - accuracy: 0.7933 - val_loss: 0.4712 - val_accuracy: 0.7900\n",
      "Epoch 146/300\n",
      "19/19 [==============================] - 0s 3ms/step - loss: 0.4429 - accuracy: 0.7883 - val_loss: 0.4761 - val_accuracy: 0.7900\n",
      "Epoch 147/300\n",
      "19/19 [==============================] - 0s 3ms/step - loss: 0.4661 - accuracy: 0.7900 - val_loss: 0.4870 - val_accuracy: 0.7700\n",
      "Epoch 148/300\n",
      "19/19 [==============================] - 0s 3ms/step - loss: 0.4530 - accuracy: 0.7967 - val_loss: 0.5351 - val_accuracy: 0.7500\n",
      "Epoch 149/300\n",
      "19/19 [==============================] - 0s 3ms/step - loss: 0.4566 - accuracy: 0.7717 - val_loss: 0.4809 - val_accuracy: 0.8100\n",
      "Epoch 150/300\n",
      "19/19 [==============================] - 0s 3ms/step - loss: 0.4411 - accuracy: 0.7967 - val_loss: 0.4796 - val_accuracy: 0.7800\n",
      "Epoch 151/300\n",
      "19/19 [==============================] - 0s 3ms/step - loss: 0.4417 - accuracy: 0.8083 - val_loss: 0.4645 - val_accuracy: 0.8000\n",
      "Epoch 152/300\n",
      "19/19 [==============================] - 0s 3ms/step - loss: 0.4621 - accuracy: 0.7950 - val_loss: 0.5729 - val_accuracy: 0.7400\n",
      "Epoch 153/300\n",
      "19/19 [==============================] - 0s 3ms/step - loss: 0.4544 - accuracy: 0.7733 - val_loss: 0.4921 - val_accuracy: 0.7700\n",
      "Epoch 154/300\n",
      "19/19 [==============================] - 0s 3ms/step - loss: 0.4429 - accuracy: 0.7983 - val_loss: 0.4825 - val_accuracy: 0.8100\n",
      "Epoch 155/300\n",
      "19/19 [==============================] - 0s 3ms/step - loss: 0.4431 - accuracy: 0.8067 - val_loss: 0.4996 - val_accuracy: 0.8100\n",
      "Epoch 156/300\n",
      "19/19 [==============================] - 0s 3ms/step - loss: 0.4419 - accuracy: 0.7967 - val_loss: 0.5270 - val_accuracy: 0.7500\n",
      "Epoch 157/300\n",
      "19/19 [==============================] - 0s 3ms/step - loss: 0.4441 - accuracy: 0.7983 - val_loss: 0.5019 - val_accuracy: 0.7900\n",
      "Epoch 158/300\n",
      "19/19 [==============================] - 0s 3ms/step - loss: 0.4596 - accuracy: 0.7783 - val_loss: 0.4706 - val_accuracy: 0.7800\n",
      "Epoch 159/300\n",
      "19/19 [==============================] - 0s 3ms/step - loss: 0.4580 - accuracy: 0.7817 - val_loss: 0.4624 - val_accuracy: 0.8100\n",
      "Epoch 160/300\n",
      "19/19 [==============================] - 0s 3ms/step - loss: 0.4764 - accuracy: 0.7700 - val_loss: 0.4519 - val_accuracy: 0.8200\n",
      "Epoch 161/300\n",
      "19/19 [==============================] - 0s 3ms/step - loss: 0.4728 - accuracy: 0.7733 - val_loss: 0.4834 - val_accuracy: 0.8000\n",
      "Epoch 162/300\n",
      "19/19 [==============================] - 0s 3ms/step - loss: 0.4595 - accuracy: 0.7767 - val_loss: 0.4690 - val_accuracy: 0.8000\n",
      "Epoch 163/300\n",
      "19/19 [==============================] - 0s 3ms/step - loss: 0.4416 - accuracy: 0.8067 - val_loss: 0.5657 - val_accuracy: 0.7200\n",
      "Epoch 164/300\n",
      "19/19 [==============================] - 0s 3ms/step - loss: 0.5060 - accuracy: 0.7767 - val_loss: 0.4801 - val_accuracy: 0.8000\n",
      "Epoch 165/300\n",
      "19/19 [==============================] - 0s 3ms/step - loss: 0.4556 - accuracy: 0.7867 - val_loss: 0.4659 - val_accuracy: 0.8100\n",
      "Epoch 166/300\n",
      "19/19 [==============================] - 0s 3ms/step - loss: 0.4421 - accuracy: 0.7950 - val_loss: 0.4672 - val_accuracy: 0.7900\n",
      "Epoch 167/300\n",
      "19/19 [==============================] - 0s 3ms/step - loss: 0.4392 - accuracy: 0.8050 - val_loss: 0.4670 - val_accuracy: 0.8500\n",
      "Epoch 168/300\n",
      "19/19 [==============================] - 0s 3ms/step - loss: 0.4429 - accuracy: 0.7983 - val_loss: 0.4723 - val_accuracy: 0.8000\n",
      "Epoch 169/300\n",
      "19/19 [==============================] - 0s 3ms/step - loss: 0.4328 - accuracy: 0.7933 - val_loss: 0.5377 - val_accuracy: 0.7700\n",
      "Epoch 170/300\n",
      "19/19 [==============================] - 0s 3ms/step - loss: 0.4515 - accuracy: 0.8067 - val_loss: 0.5102 - val_accuracy: 0.7300\n",
      "Epoch 171/300\n",
      "19/19 [==============================] - 0s 3ms/step - loss: 0.4568 - accuracy: 0.7767 - val_loss: 0.4606 - val_accuracy: 0.8100\n",
      "Epoch 172/300\n",
      "19/19 [==============================] - 0s 3ms/step - loss: 0.4382 - accuracy: 0.8017 - val_loss: 0.4741 - val_accuracy: 0.8000\n",
      "Epoch 173/300\n"
     ]
    },
    {
     "name": "stdout",
     "output_type": "stream",
     "text": [
      "19/19 [==============================] - 0s 3ms/step - loss: 0.4408 - accuracy: 0.7983 - val_loss: 0.4811 - val_accuracy: 0.7800\n",
      "Epoch 174/300\n",
      "19/19 [==============================] - 0s 3ms/step - loss: 0.4358 - accuracy: 0.8233 - val_loss: 0.5185 - val_accuracy: 0.7500\n",
      "Epoch 175/300\n",
      "19/19 [==============================] - 0s 3ms/step - loss: 0.4545 - accuracy: 0.7867 - val_loss: 0.4682 - val_accuracy: 0.8000\n",
      "Epoch 176/300\n",
      "19/19 [==============================] - 0s 3ms/step - loss: 0.4450 - accuracy: 0.7917 - val_loss: 0.4853 - val_accuracy: 0.7600\n",
      "Epoch 177/300\n",
      "19/19 [==============================] - 0s 3ms/step - loss: 0.4350 - accuracy: 0.8083 - val_loss: 0.4682 - val_accuracy: 0.8100\n",
      "Epoch 178/300\n",
      "19/19 [==============================] - 0s 3ms/step - loss: 0.4628 - accuracy: 0.8000 - val_loss: 0.4723 - val_accuracy: 0.8400\n",
      "Epoch 179/300\n",
      "19/19 [==============================] - 0s 3ms/step - loss: 0.5063 - accuracy: 0.7533 - val_loss: 0.5042 - val_accuracy: 0.7300\n",
      "Epoch 180/300\n",
      "19/19 [==============================] - 0s 3ms/step - loss: 0.4812 - accuracy: 0.7700 - val_loss: 0.5089 - val_accuracy: 0.7800\n",
      "Epoch 181/300\n",
      "19/19 [==============================] - 0s 3ms/step - loss: 0.4622 - accuracy: 0.8117 - val_loss: 0.4930 - val_accuracy: 0.7800\n",
      "Epoch 182/300\n",
      "19/19 [==============================] - 0s 3ms/step - loss: 0.4471 - accuracy: 0.8067 - val_loss: 0.4728 - val_accuracy: 0.7800\n",
      "Epoch 183/300\n",
      "19/19 [==============================] - 0s 3ms/step - loss: 0.4356 - accuracy: 0.7917 - val_loss: 0.4943 - val_accuracy: 0.7400\n",
      "Epoch 184/300\n",
      "19/19 [==============================] - 0s 3ms/step - loss: 0.4503 - accuracy: 0.7850 - val_loss: 0.4662 - val_accuracy: 0.8000\n",
      "Epoch 185/300\n",
      "19/19 [==============================] - 0s 3ms/step - loss: 0.4323 - accuracy: 0.8167 - val_loss: 0.4765 - val_accuracy: 0.8000\n",
      "Epoch 186/300\n",
      "19/19 [==============================] - 0s 3ms/step - loss: 0.4384 - accuracy: 0.7983 - val_loss: 0.4821 - val_accuracy: 0.7800\n",
      "Epoch 187/300\n",
      "19/19 [==============================] - 0s 3ms/step - loss: 0.4302 - accuracy: 0.7900 - val_loss: 0.4709 - val_accuracy: 0.8000\n",
      "Epoch 188/300\n",
      "19/19 [==============================] - 0s 3ms/step - loss: 0.4456 - accuracy: 0.8067 - val_loss: 0.4863 - val_accuracy: 0.8200\n",
      "Epoch 189/300\n",
      "19/19 [==============================] - 0s 3ms/step - loss: 0.4369 - accuracy: 0.7933 - val_loss: 0.4789 - val_accuracy: 0.8200\n",
      "Epoch 190/300\n",
      "19/19 [==============================] - 0s 3ms/step - loss: 0.4357 - accuracy: 0.8050 - val_loss: 0.4936 - val_accuracy: 0.8000\n",
      "Epoch 191/300\n",
      "19/19 [==============================] - 0s 3ms/step - loss: 0.4604 - accuracy: 0.7867 - val_loss: 0.4850 - val_accuracy: 0.8100\n",
      "Epoch 192/300\n",
      "19/19 [==============================] - 0s 3ms/step - loss: 0.4660 - accuracy: 0.7833 - val_loss: 0.4776 - val_accuracy: 0.7400\n",
      "Epoch 193/300\n",
      "19/19 [==============================] - 0s 3ms/step - loss: 0.4390 - accuracy: 0.7933 - val_loss: 0.4773 - val_accuracy: 0.8300\n",
      "Epoch 194/300\n",
      "19/19 [==============================] - 0s 3ms/step - loss: 0.4482 - accuracy: 0.7917 - val_loss: 0.5125 - val_accuracy: 0.7000\n",
      "Epoch 195/300\n",
      "19/19 [==============================] - 0s 3ms/step - loss: 0.4451 - accuracy: 0.7933 - val_loss: 0.4890 - val_accuracy: 0.7600\n",
      "Epoch 196/300\n",
      "19/19 [==============================] - 0s 3ms/step - loss: 0.4462 - accuracy: 0.8067 - val_loss: 0.4720 - val_accuracy: 0.8400\n",
      "Epoch 197/300\n",
      "19/19 [==============================] - 0s 3ms/step - loss: 0.4421 - accuracy: 0.7900 - val_loss: 0.4730 - val_accuracy: 0.7900\n",
      "Epoch 198/300\n",
      "19/19 [==============================] - 0s 3ms/step - loss: 0.4754 - accuracy: 0.7733 - val_loss: 0.5160 - val_accuracy: 0.7800\n",
      "Epoch 199/300\n",
      "19/19 [==============================] - 0s 3ms/step - loss: 0.4205 - accuracy: 0.8133 - val_loss: 0.5117 - val_accuracy: 0.7500\n",
      "Epoch 200/300\n",
      "19/19 [==============================] - 0s 3ms/step - loss: 0.4814 - accuracy: 0.7717 - val_loss: 0.4753 - val_accuracy: 0.7900\n",
      "Epoch 201/300\n",
      "19/19 [==============================] - 0s 3ms/step - loss: 0.4258 - accuracy: 0.8117 - val_loss: 0.5027 - val_accuracy: 0.7500\n",
      "Epoch 202/300\n",
      "19/19 [==============================] - 0s 3ms/step - loss: 0.4922 - accuracy: 0.7650 - val_loss: 0.4753 - val_accuracy: 0.8100\n",
      "Epoch 203/300\n",
      "19/19 [==============================] - 0s 4ms/step - loss: 0.4474 - accuracy: 0.7917 - val_loss: 0.4730 - val_accuracy: 0.8100\n",
      "Epoch 204/300\n",
      "19/19 [==============================] - 0s 3ms/step - loss: 0.4315 - accuracy: 0.7950 - val_loss: 0.4745 - val_accuracy: 0.7800\n",
      "Epoch 205/300\n",
      "19/19 [==============================] - 0s 3ms/step - loss: 0.4384 - accuracy: 0.8017 - val_loss: 0.4887 - val_accuracy: 0.7800\n",
      "Epoch 206/300\n",
      "19/19 [==============================] - 0s 3ms/step - loss: 0.4424 - accuracy: 0.7817 - val_loss: 0.4740 - val_accuracy: 0.8100\n",
      "Epoch 207/300\n",
      "19/19 [==============================] - 0s 3ms/step - loss: 0.4320 - accuracy: 0.8117 - val_loss: 0.5194 - val_accuracy: 0.7900\n",
      "Epoch 208/300\n",
      "19/19 [==============================] - 0s 3ms/step - loss: 0.4598 - accuracy: 0.7767 - val_loss: 0.4817 - val_accuracy: 0.8200\n",
      "Epoch 209/300\n",
      "19/19 [==============================] - 0s 3ms/step - loss: 0.4343 - accuracy: 0.8067 - val_loss: 0.4787 - val_accuracy: 0.7900\n",
      "Epoch 210/300\n",
      "19/19 [==============================] - 0s 3ms/step - loss: 0.4405 - accuracy: 0.7867 - val_loss: 0.4732 - val_accuracy: 0.8300\n",
      "Epoch 211/300\n",
      "19/19 [==============================] - 0s 3ms/step - loss: 0.4294 - accuracy: 0.8067 - val_loss: 0.4711 - val_accuracy: 0.8000\n",
      "Epoch 212/300\n",
      "19/19 [==============================] - 0s 3ms/step - loss: 0.4465 - accuracy: 0.7900 - val_loss: 0.5283 - val_accuracy: 0.7100\n",
      "Epoch 213/300\n",
      "19/19 [==============================] - 0s 3ms/step - loss: 0.4409 - accuracy: 0.8083 - val_loss: 0.4636 - val_accuracy: 0.8400\n",
      "Epoch 214/300\n",
      "19/19 [==============================] - 0s 3ms/step - loss: 0.4242 - accuracy: 0.8017 - val_loss: 0.4823 - val_accuracy: 0.8100\n",
      "Epoch 215/300\n",
      "19/19 [==============================] - 0s 3ms/step - loss: 0.4399 - accuracy: 0.7933 - val_loss: 0.4686 - val_accuracy: 0.8200\n",
      "Epoch 216/300\n",
      "19/19 [==============================] - 0s 3ms/step - loss: 0.4807 - accuracy: 0.7850 - val_loss: 0.6237 - val_accuracy: 0.7200\n",
      "Epoch 217/300\n",
      "19/19 [==============================] - 0s 3ms/step - loss: 0.4925 - accuracy: 0.7750 - val_loss: 0.5190 - val_accuracy: 0.7900\n",
      "Epoch 218/300\n",
      "19/19 [==============================] - 0s 3ms/step - loss: 0.5433 - accuracy: 0.7400 - val_loss: 0.5099 - val_accuracy: 0.8000\n",
      "Epoch 219/300\n",
      "19/19 [==============================] - 0s 3ms/step - loss: 0.4574 - accuracy: 0.7917 - val_loss: 0.5224 - val_accuracy: 0.7400\n",
      "Epoch 220/300\n",
      "19/19 [==============================] - 0s 3ms/step - loss: 0.4474 - accuracy: 0.8033 - val_loss: 0.4695 - val_accuracy: 0.8500\n",
      "Epoch 221/300\n",
      "19/19 [==============================] - 0s 3ms/step - loss: 0.4307 - accuracy: 0.7983 - val_loss: 0.4687 - val_accuracy: 0.7900\n",
      "Epoch 222/300\n",
      "19/19 [==============================] - 0s 3ms/step - loss: 0.4329 - accuracy: 0.8050 - val_loss: 0.4608 - val_accuracy: 0.8200\n",
      "Epoch 223/300\n",
      "19/19 [==============================] - 0s 5ms/step - loss: 0.4314 - accuracy: 0.8000 - val_loss: 0.4775 - val_accuracy: 0.8000\n",
      "Epoch 224/300\n",
      "19/19 [==============================] - 0s 3ms/step - loss: 0.4374 - accuracy: 0.8083 - val_loss: 0.4791 - val_accuracy: 0.8000\n",
      "Epoch 225/300\n",
      "19/19 [==============================] - 0s 3ms/step - loss: 0.4350 - accuracy: 0.7950 - val_loss: 0.4972 - val_accuracy: 0.7700\n",
      "Epoch 226/300\n",
      "19/19 [==============================] - 0s 3ms/step - loss: 0.4476 - accuracy: 0.7917 - val_loss: 0.4773 - val_accuracy: 0.8400\n",
      "Epoch 227/300\n",
      "19/19 [==============================] - 0s 3ms/step - loss: 0.4491 - accuracy: 0.7933 - val_loss: 0.4877 - val_accuracy: 0.8000\n",
      "Epoch 228/300\n",
      "19/19 [==============================] - 0s 3ms/step - loss: 0.4403 - accuracy: 0.7900 - val_loss: 0.4782 - val_accuracy: 0.7900\n",
      "Epoch 229/300\n",
      "19/19 [==============================] - 0s 3ms/step - loss: 0.4255 - accuracy: 0.8117 - val_loss: 0.4861 - val_accuracy: 0.8200\n",
      "Epoch 230/300\n"
     ]
    },
    {
     "name": "stdout",
     "output_type": "stream",
     "text": [
      "19/19 [==============================] - 0s 2ms/step - loss: 0.4454 - accuracy: 0.8050 - val_loss: 0.4743 - val_accuracy: 0.7900\n",
      "Epoch 231/300\n",
      "19/19 [==============================] - 0s 3ms/step - loss: 0.4356 - accuracy: 0.7917 - val_loss: 0.4676 - val_accuracy: 0.7700\n",
      "Epoch 232/300\n",
      "19/19 [==============================] - 0s 3ms/step - loss: 0.4301 - accuracy: 0.7967 - val_loss: 0.4813 - val_accuracy: 0.8000\n",
      "Epoch 233/300\n",
      "19/19 [==============================] - 0s 3ms/step - loss: 0.4311 - accuracy: 0.7983 - val_loss: 0.4826 - val_accuracy: 0.8400\n",
      "Epoch 234/300\n",
      "19/19 [==============================] - 0s 3ms/step - loss: 0.4497 - accuracy: 0.7933 - val_loss: 0.5186 - val_accuracy: 0.7800\n",
      "Epoch 235/300\n",
      "19/19 [==============================] - 0s 3ms/step - loss: 0.4305 - accuracy: 0.7917 - val_loss: 0.4690 - val_accuracy: 0.8000\n",
      "Epoch 236/300\n",
      "19/19 [==============================] - 0s 3ms/step - loss: 0.4368 - accuracy: 0.8067 - val_loss: 0.4808 - val_accuracy: 0.8100\n",
      "Epoch 237/300\n",
      "19/19 [==============================] - 0s 4ms/step - loss: 0.4285 - accuracy: 0.8033 - val_loss: 0.5170 - val_accuracy: 0.7300\n",
      "Epoch 238/300\n",
      "19/19 [==============================] - 0s 3ms/step - loss: 0.4584 - accuracy: 0.7900 - val_loss: 0.4813 - val_accuracy: 0.8200\n",
      "Epoch 239/300\n",
      "19/19 [==============================] - 0s 4ms/step - loss: 0.4401 - accuracy: 0.7850 - val_loss: 0.4829 - val_accuracy: 0.8300\n",
      "Epoch 240/300\n",
      "19/19 [==============================] - 0s 3ms/step - loss: 0.4243 - accuracy: 0.8050 - val_loss: 0.4635 - val_accuracy: 0.8300\n",
      "Epoch 241/300\n",
      "19/19 [==============================] - 0s 3ms/step - loss: 0.4368 - accuracy: 0.8100 - val_loss: 0.4842 - val_accuracy: 0.8000\n",
      "Epoch 242/300\n",
      "19/19 [==============================] - 0s 3ms/step - loss: 0.4573 - accuracy: 0.7900 - val_loss: 0.4811 - val_accuracy: 0.8200\n",
      "Epoch 243/300\n",
      "19/19 [==============================] - 0s 3ms/step - loss: 0.4329 - accuracy: 0.8083 - val_loss: 0.4800 - val_accuracy: 0.8300\n",
      "Epoch 244/300\n",
      "19/19 [==============================] - 0s 3ms/step - loss: 0.4215 - accuracy: 0.8117 - val_loss: 0.4804 - val_accuracy: 0.7900\n",
      "Epoch 245/300\n",
      "19/19 [==============================] - 0s 3ms/step - loss: 0.4228 - accuracy: 0.8067 - val_loss: 0.5260 - val_accuracy: 0.7800\n",
      "Epoch 246/300\n",
      "19/19 [==============================] - 0s 3ms/step - loss: 0.4203 - accuracy: 0.8083 - val_loss: 0.4670 - val_accuracy: 0.7800\n",
      "Epoch 247/300\n",
      "19/19 [==============================] - 0s 3ms/step - loss: 0.4223 - accuracy: 0.8117 - val_loss: 0.4796 - val_accuracy: 0.7900\n",
      "Epoch 248/300\n",
      "19/19 [==============================] - 0s 3ms/step - loss: 0.4604 - accuracy: 0.7900 - val_loss: 0.4896 - val_accuracy: 0.7700\n",
      "Epoch 249/300\n",
      "19/19 [==============================] - 0s 3ms/step - loss: 0.4357 - accuracy: 0.8067 - val_loss: 0.5034 - val_accuracy: 0.7800\n",
      "Epoch 250/300\n",
      "19/19 [==============================] - 0s 3ms/step - loss: 0.4396 - accuracy: 0.7983 - val_loss: 0.4919 - val_accuracy: 0.8100\n",
      "Epoch 251/300\n",
      "19/19 [==============================] - 0s 4ms/step - loss: 0.4404 - accuracy: 0.7867 - val_loss: 0.4850 - val_accuracy: 0.7700\n",
      "Epoch 252/300\n",
      "19/19 [==============================] - 0s 3ms/step - loss: 0.4236 - accuracy: 0.8167 - val_loss: 0.5030 - val_accuracy: 0.8000\n",
      "Epoch 253/300\n",
      "19/19 [==============================] - 0s 3ms/step - loss: 0.4361 - accuracy: 0.7833 - val_loss: 0.4838 - val_accuracy: 0.8300\n",
      "Epoch 254/300\n",
      "19/19 [==============================] - 0s 4ms/step - loss: 0.4435 - accuracy: 0.7900 - val_loss: 0.5902 - val_accuracy: 0.7300\n",
      "Epoch 255/300\n",
      "19/19 [==============================] - 0s 3ms/step - loss: 0.4665 - accuracy: 0.7883 - val_loss: 0.5462 - val_accuracy: 0.7400\n",
      "Epoch 256/300\n",
      "19/19 [==============================] - 0s 3ms/step - loss: 0.4603 - accuracy: 0.8033 - val_loss: 0.4872 - val_accuracy: 0.8300\n",
      "Epoch 257/300\n",
      "19/19 [==============================] - 0s 3ms/step - loss: 0.4282 - accuracy: 0.8067 - val_loss: 0.4847 - val_accuracy: 0.8200\n",
      "Epoch 258/300\n",
      "19/19 [==============================] - 0s 3ms/step - loss: 0.4697 - accuracy: 0.7783 - val_loss: 0.5952 - val_accuracy: 0.7500\n",
      "Epoch 259/300\n",
      "19/19 [==============================] - 0s 4ms/step - loss: 0.4518 - accuracy: 0.7817 - val_loss: 0.5777 - val_accuracy: 0.7400\n",
      "Epoch 260/300\n",
      "19/19 [==============================] - 0s 3ms/step - loss: 0.4425 - accuracy: 0.7950 - val_loss: 0.4905 - val_accuracy: 0.7900\n",
      "Epoch 261/300\n",
      "19/19 [==============================] - 0s 3ms/step - loss: 0.4249 - accuracy: 0.8150 - val_loss: 0.4888 - val_accuracy: 0.8200\n",
      "Epoch 262/300\n",
      "19/19 [==============================] - 0s 3ms/step - loss: 0.4254 - accuracy: 0.8150 - val_loss: 0.4801 - val_accuracy: 0.7600\n",
      "Epoch 263/300\n",
      "19/19 [==============================] - 0s 3ms/step - loss: 0.4154 - accuracy: 0.8167 - val_loss: 0.4857 - val_accuracy: 0.7900\n",
      "Epoch 264/300\n",
      "19/19 [==============================] - 0s 3ms/step - loss: 0.4177 - accuracy: 0.8083 - val_loss: 0.4830 - val_accuracy: 0.7700\n",
      "Epoch 265/300\n",
      "19/19 [==============================] - 0s 3ms/step - loss: 0.4196 - accuracy: 0.8083 - val_loss: 0.4848 - val_accuracy: 0.7600\n",
      "Epoch 266/300\n",
      "19/19 [==============================] - 0s 3ms/step - loss: 0.4428 - accuracy: 0.7983 - val_loss: 0.4745 - val_accuracy: 0.8300\n",
      "Epoch 267/300\n",
      "19/19 [==============================] - 0s 3ms/step - loss: 0.4556 - accuracy: 0.7917 - val_loss: 0.4617 - val_accuracy: 0.8000\n",
      "Epoch 268/300\n",
      "19/19 [==============================] - 0s 4ms/step - loss: 0.4475 - accuracy: 0.7900 - val_loss: 0.4826 - val_accuracy: 0.8400\n",
      "Epoch 269/300\n",
      "19/19 [==============================] - 0s 3ms/step - loss: 0.4270 - accuracy: 0.8167 - val_loss: 0.4707 - val_accuracy: 0.8100\n",
      "Epoch 270/300\n",
      "19/19 [==============================] - 0s 3ms/step - loss: 0.4255 - accuracy: 0.8150 - val_loss: 0.4752 - val_accuracy: 0.7900\n",
      "Epoch 271/300\n",
      "19/19 [==============================] - 0s 4ms/step - loss: 0.4520 - accuracy: 0.8067 - val_loss: 0.4736 - val_accuracy: 0.7900\n",
      "Epoch 272/300\n",
      "19/19 [==============================] - 0s 3ms/step - loss: 0.4508 - accuracy: 0.7933 - val_loss: 0.5510 - val_accuracy: 0.7600\n",
      "Epoch 273/300\n",
      "19/19 [==============================] - 0s 3ms/step - loss: 0.4432 - accuracy: 0.7950 - val_loss: 0.5052 - val_accuracy: 0.8100\n",
      "Epoch 274/300\n",
      "19/19 [==============================] - 0s 3ms/step - loss: 0.4384 - accuracy: 0.8017 - val_loss: 0.4824 - val_accuracy: 0.8600\n",
      "Epoch 275/300\n",
      "19/19 [==============================] - 0s 3ms/step - loss: 0.4160 - accuracy: 0.8167 - val_loss: 0.5376 - val_accuracy: 0.7900\n",
      "Epoch 276/300\n",
      "19/19 [==============================] - 0s 4ms/step - loss: 0.4437 - accuracy: 0.7883 - val_loss: 0.4707 - val_accuracy: 0.7800\n",
      "Epoch 277/300\n",
      "19/19 [==============================] - 0s 3ms/step - loss: 0.4350 - accuracy: 0.8067 - val_loss: 0.5013 - val_accuracy: 0.7600\n",
      "Epoch 278/300\n",
      "19/19 [==============================] - 0s 3ms/step - loss: 0.4445 - accuracy: 0.8150 - val_loss: 0.4980 - val_accuracy: 0.8200\n",
      "Epoch 279/300\n",
      "19/19 [==============================] - 0s 4ms/step - loss: 0.4234 - accuracy: 0.8033 - val_loss: 0.5527 - val_accuracy: 0.7900\n",
      "Epoch 280/300\n",
      "19/19 [==============================] - 0s 3ms/step - loss: 0.4289 - accuracy: 0.8050 - val_loss: 0.4653 - val_accuracy: 0.8400\n",
      "Epoch 281/300\n",
      "19/19 [==============================] - 0s 3ms/step - loss: 0.4352 - accuracy: 0.8000 - val_loss: 0.4761 - val_accuracy: 0.8300\n",
      "Epoch 282/300\n",
      "19/19 [==============================] - 0s 3ms/step - loss: 0.4246 - accuracy: 0.8133 - val_loss: 0.5000 - val_accuracy: 0.8100\n",
      "Epoch 283/300\n",
      "19/19 [==============================] - 0s 4ms/step - loss: 0.4264 - accuracy: 0.8100 - val_loss: 0.4693 - val_accuracy: 0.8200\n",
      "Epoch 284/300\n",
      "19/19 [==============================] - 0s 3ms/step - loss: 0.4295 - accuracy: 0.8100 - val_loss: 0.4798 - val_accuracy: 0.7700\n",
      "Epoch 285/300\n",
      "19/19 [==============================] - 0s 3ms/step - loss: 0.4264 - accuracy: 0.7967 - val_loss: 0.4742 - val_accuracy: 0.8200\n",
      "Epoch 286/300\n",
      "19/19 [==============================] - 0s 3ms/step - loss: 0.4130 - accuracy: 0.8067 - val_loss: 0.5086 - val_accuracy: 0.8100\n",
      "Epoch 287/300\n"
     ]
    },
    {
     "name": "stdout",
     "output_type": "stream",
     "text": [
      "19/19 [==============================] - 0s 3ms/step - loss: 0.4372 - accuracy: 0.8050 - val_loss: 0.5081 - val_accuracy: 0.7300\n",
      "Epoch 288/300\n",
      "19/19 [==============================] - 0s 3ms/step - loss: 0.4428 - accuracy: 0.7983 - val_loss: 0.4920 - val_accuracy: 0.8200\n",
      "Epoch 289/300\n",
      "19/19 [==============================] - 0s 3ms/step - loss: 0.4532 - accuracy: 0.7917 - val_loss: 0.4742 - val_accuracy: 0.7900\n",
      "Epoch 290/300\n",
      "19/19 [==============================] - 0s 3ms/step - loss: 0.4245 - accuracy: 0.8017 - val_loss: 0.5718 - val_accuracy: 0.7500\n",
      "Epoch 291/300\n",
      "19/19 [==============================] - 0s 3ms/step - loss: 0.4745 - accuracy: 0.7867 - val_loss: 0.4730 - val_accuracy: 0.8000\n",
      "Epoch 292/300\n",
      "19/19 [==============================] - 0s 3ms/step - loss: 0.4398 - accuracy: 0.7883 - val_loss: 0.4720 - val_accuracy: 0.8200\n",
      "Epoch 293/300\n",
      "19/19 [==============================] - 0s 3ms/step - loss: 0.4541 - accuracy: 0.7967 - val_loss: 0.5187 - val_accuracy: 0.7100\n",
      "Epoch 294/300\n",
      "19/19 [==============================] - 0s 3ms/step - loss: 0.4319 - accuracy: 0.8083 - val_loss: 0.5045 - val_accuracy: 0.8200\n",
      "Epoch 295/300\n",
      "19/19 [==============================] - 0s 3ms/step - loss: 0.4318 - accuracy: 0.8100 - val_loss: 0.4980 - val_accuracy: 0.7400\n",
      "Epoch 296/300\n",
      "19/19 [==============================] - 0s 3ms/step - loss: 0.4491 - accuracy: 0.7967 - val_loss: 0.5193 - val_accuracy: 0.7200\n",
      "Epoch 297/300\n",
      "19/19 [==============================] - 0s 3ms/step - loss: 0.4324 - accuracy: 0.8117 - val_loss: 0.4829 - val_accuracy: 0.8300\n",
      "Epoch 298/300\n",
      "19/19 [==============================] - 0s 4ms/step - loss: 0.4470 - accuracy: 0.8100 - val_loss: 0.5122 - val_accuracy: 0.8000\n",
      "Epoch 299/300\n",
      "19/19 [==============================] - 0s 3ms/step - loss: 0.4615 - accuracy: 0.7717 - val_loss: 0.4897 - val_accuracy: 0.7600\n",
      "Epoch 300/300\n",
      "19/19 [==============================] - 0s 3ms/step - loss: 0.4342 - accuracy: 0.7917 - val_loss: 0.4740 - val_accuracy: 0.7800\n"
     ]
    }
   ],
   "source": [
    "# 4. 모델 학습 : validation_data=[X_val, Y_val] 추가해서 학습\n",
    "hist = model.fit(X_train, Y_train,\n",
    "                 epochs=300,\n",
    "                 # batch_size=300,\n",
    "                 verbose=1,\n",
    "                 validation_data=[X_val, Y_val])"
   ]
  },
  {
   "cell_type": "code",
   "execution_count": 17,
   "id": "5f172394",
   "metadata": {
    "ExecuteTime": {
     "end_time": "2024-12-17T09:02:01.241372Z",
     "start_time": "2024-12-17T09:02:00.865860Z"
    }
   },
   "outputs": [
    {
     "data": {
      "image/png": "[encoded data removed]",
      "text/plain": [
       "<Figure size 1000x300 with 2 Axes>"
      ]
     },
     "metadata": {},
     "output_type": "display_data"
    }
   ],
   "source": [
    "# 5. 모델 학습평가\n",
    "# 5-1 그래프(hist.history.keys()를 확인 후 4가지)\n",
    "# 학습과정 표시하기(validation dataset 있는 경우)\n",
    "hist.history.keys()\n",
    "\n",
    "fig, loss_ax = plt.subplots(figsize=(10, 3))\n",
    "loss_ax.plot(hist.history['loss'], 'r', label='train loss')\n",
    "loss_ax.plot(hist.history['val_loss'], 'y', label= 'validation loss')\n",
    "loss_ax.set_xlabel('epoch')\n",
    "loss_ax.set_ylabel('loss')\n",
    "\n",
    "\n",
    "acc_ax = loss_ax.twinx() # loss_ax와 x축을 공유하는 acc_ax 생성\n",
    "acc_ax.plot(hist.history['accuracy'], 'g', label='train accuracy')\n",
    "acc_ax.plot(hist.history['val_accuracy'], 'b', label='validation accuracy')\n",
    "acc_ax.set_ylabel('accuracy')\n",
    "\n",
    "loss_ax.legend(loc='center right')\n",
    "acc_ax.legend(loc='center right')\n",
    "acc_ax.legend(bbox_to_anchor=(0.999, 0.7))\n",
    "\n",
    "plt.show()"
   ]
  },
  {
   "cell_type": "code",
   "execution_count": null,
   "id": "8d284af3",
   "metadata": {},
   "outputs": [],
   "source": [
    "# 5-2 평가(X_test, Y_test)"
   ]
  },
  {
   "cell_type": "code",
   "execution_count": null,
   "id": "8262c14b",
   "metadata": {},
   "outputs": [],
   "source": []
  },
  {
   "cell_type": "code",
   "execution_count": null,
   "id": "9519fa1e",
   "metadata": {},
   "outputs": [],
   "source": [
    "# 5-3 교차표(pd.crosstab 이용)\n"
   ]
  },
  {
   "cell_type": "code",
   "execution_count": null,
   "id": "6050fd7c",
   "metadata": {},
   "outputs": [],
   "source": []
  },
  {
   "cell_type": "code",
   "execution_count": null,
   "id": "d12a9237",
   "metadata": {},
   "outputs": [],
   "source": []
  },
  {
   "cell_type": "code",
   "execution_count": null,
   "id": "458c3b04",
   "metadata": {},
   "outputs": [],
   "source": [
    "# 6. 모델 사용하기 - 예측"
   ]
  },
  {
   "cell_type": "code",
   "execution_count": null,
   "id": "9dbb103d",
   "metadata": {},
   "outputs": [],
   "source": []
  },
  {
   "cell_type": "code",
   "execution_count": null,
   "id": "ced0a633",
   "metadata": {},
   "outputs": [],
   "source": []
  },
  {
   "cell_type": "code",
   "execution_count": null,
   "id": "927a81ba",
   "metadata": {},
   "outputs": [],
   "source": []
  },
  {
   "cell_type": "code",
   "execution_count": null,
   "id": "1fc6c36c",
   "metadata": {},
   "outputs": [],
   "source": []
  },
  {
   "cell_type": "code",
   "execution_count": null,
   "id": "5dff74df",
   "metadata": {},
   "outputs": [],
   "source": []
  },
  {
   "cell_type": "code",
   "execution_count": null,
   "id": "d7d2a651",
   "metadata": {},
   "outputs": [],
   "source": []
  },
  {
   "cell_type": "code",
   "execution_count": null,
   "id": "40cba505",
   "metadata": {},
   "outputs": [],
   "source": []
  },
  {
   "cell_type": "code",
   "execution_count": null,
   "id": "0363be0b",
   "metadata": {},
   "outputs": [],
   "source": []
  },
  {
   "cell_type": "code",
   "execution_count": null,
   "id": "6e8ca66a",
   "metadata": {},
   "outputs": [],
   "source": []
  },
  {
   "cell_type": "code",
   "execution_count": null,
   "id": "fd431872",
   "metadata": {},
   "outputs": [],
   "source": []
  },
  {
   "cell_type": "code",
   "execution_count": null,
   "id": "0f4b8c53",
   "metadata": {},
   "outputs": [],
   "source": []
  }
 ],
 "metadata": {
  "kernelspec": {
   "display_name": "Python 3 (ipykernel)",
   "language": "python",
   "name": "python3"
  },
  "language_info": {
   "codemirror_mode": {
    "name": "ipython",
    "version": 3
   },
   "file_extension": ".py",
   "mimetype": "text/x-python",
   "name": "python",
   "nbconvert_exporter": "python",
   "pygments_lexer": "ipython3",
   "version": "3.10.9"
  },
  "toc": {
   "base_numbering": 1,
   "nav_menu": {},
   "number_sections": true,
   "sideBar": true,
   "skip_h1_title": false,
   "title_cell": "Table of Contents",
   "title_sidebar": "Contents",
   "toc_cell": false,
   "toc_position": {
    "height": "calc(100% - 180px)",
    "left": "10px",
    "top": "150px",
    "width": "258.965px"
   },
   "toc_section_display": true,
   "toc_window_display": true
  }
 },
 "nbformat": 4,
 "nbformat_minor": 5
}
