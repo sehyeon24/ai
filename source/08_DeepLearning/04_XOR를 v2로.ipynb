{
 "cells": [
  {
   "cell_type": "code",
   "execution_count": 1,
   "id": "a8478d55",
   "metadata": {
    "ExecuteTime": {
     "end_time": "2024-12-17T00:35:50.895555Z",
     "start_time": "2024-12-17T00:35:50.881017Z"
    }
   },
   "outputs": [
    {
     "data": {
      "text/html": [
       "\n",
       "<style>\n",
       "div.container{width:80% !important;}\n",
       "div.prompt {min-width:70px;}\n",
       "div#toc-header{margin-top:150px;}\n",
       "span.toc-item-num{display:none;}\n",
       "div.CodeMirror {font-family:Consolas}\n",
       "div.input {font-family:Consolas}\n",
       "</style>\n"
      ],
      "text/plain": [
       "<IPython.core.display.HTML object>"
      ]
     },
     "metadata": {},
     "output_type": "display_data"
    }
   ],
   "source": [
    "from IPython.display import display, HTML\n",
    "\n",
    "display(\n",
    "    HTML(\"\"\"\n",
    "<style>\n",
    "div.container{width:80% !important;}\n",
    "div.prompt {min-width:70px;}\n",
    "div#toc-header{margin-top:150px;}\n",
    "span.toc-item-num{display:none;}\n",
    "div.CodeMirror {font-family:Consolas}\n",
    "div.input {font-family:Consolas}\n",
    "</style>\n",
    "\"\"\"))"
   ]
  },
  {
   "cell_type": "code",
   "execution_count": 2,
   "id": "4030dced",
   "metadata": {
    "ExecuteTime": {
     "end_time": "2024-12-17T00:35:57.131638Z",
     "start_time": "2024-12-17T00:35:50.899552Z"
    }
   },
   "outputs": [],
   "source": [
    "import numpy as np\n",
    "from tensorflow.keras.models import Sequential  # 모델 객체 생성 시 필요\n",
    "from tensorflow.keras.layers import Dense, Input       # 모델 layer 쌓을 때 필요\n",
    "import matplotlib.pyplot as plt"
   ]
  },
  {
   "cell_type": "code",
   "execution_count": 5,
   "id": "6d1f73d1",
   "metadata": {
    "ExecuteTime": {
     "end_time": "2024-12-17T00:41:17.904346Z",
     "start_time": "2024-12-17T00:41:17.824690Z"
    }
   },
   "outputs": [
    {
     "name": "stdout",
     "output_type": "stream",
     "text": [
      "Model: \"sequential_2\"\n",
      "_________________________________________________________________\n",
      " Layer (type)                Output Shape              Param #   \n",
      "=================================================================\n",
      " dense_8 (Dense)             (None, 10)                30        \n",
      "                                                                 \n",
      " dense_9 (Dense)             (None, 20)                220       \n",
      "                                                                 \n",
      " dense_10 (Dense)            (None, 10)                210       \n",
      "                                                                 \n",
      " dense_11 (Dense)            (None, 1)                 11        \n",
      "                                                                 \n",
      "=================================================================\n",
      "Total params: 471\n",
      "Trainable params: 471\n",
      "Non-trainable params: 0\n",
      "_________________________________________________________________\n",
      "None\n"
     ]
    }
   ],
   "source": [
    "# 1. dataset\n",
    "x_data = np.array([[0, 0],  # inputdata : 독립변수\n",
    "                   [0, 1],\n",
    "                   [1, 0],\n",
    "                   [1, 1]])\n",
    "y_data = np.array([[0],     # outputdata : 종속변수\n",
    "                   [1],\n",
    "                   [1],\n",
    "                   [0]])\n",
    "\n",
    "# 2. 모델 구성\n",
    "model = Sequential()\n",
    "# model.add(Input(shape=2))\n",
    "model.add(Dense(units=10,                         # units=10 : 출력층\n",
    "                input_shape=(2,),                 # input_dim=2, : 2차원  # 입력2 출력10\n",
    "                activation='relu'))               # 1개의 층\n",
    "model.add(Dense(units=20, activation='relu'))     # 은닉층(hidden layer)에서는 input_shape, input_dim 입력 X(자동으로 가져옴)  # 입력10 출력20\n",
    "model.add(Dense(units=10, activation='relu'))     # 입력20 출력10\n",
    "model.add(Dense(units=1,  activation='sigmoid'))  # 입력10 출력1  # 2진분류(logistic regression) : 0과 1사이의 값으로 예측\n",
    "print(model.summary())\n",
    "# Param input2 units10 3*10  = 30\n",
    "#      input10 units20 11*20 = 220\n",
    "#      input20 units10 21*10 = 210\n",
    "#       input10 units1 11*1  = 11\n",
    "\n",
    "# 3. 모델 학습과정 설정\n",
    "# model.compile(loss='mse', optimizer='adam', metrics=['mae'])  # 회귀식에서 학습과정 설정 시\n",
    "model.compile(loss='binary_crossentropy', optimizer='adam', metrics='binary_accuracy')  # 2진분류\n",
    "# model.compile(loss='categorical_crossentropy', optimizer='adam', metrics='accuracy')  # 다중분류"
   ]
  },
  {
   "cell_type": "code",
   "execution_count": 6,
   "id": "d3faf6d2",
   "metadata": {
    "ExecuteTime": {
     "end_time": "2024-12-17T00:41:46.764969Z",
     "start_time": "2024-12-17T00:41:45.136011Z"
    }
   },
   "outputs": [
    {
     "name": "stdout",
     "output_type": "stream",
     "text": [
      "Epoch 1/100\n",
      "1/1 - 1s - loss: 0.7046 - binary_accuracy: 0.5000 - 764ms/epoch - 764ms/step\n",
      "Epoch 2/100\n",
      "1/1 - 0s - loss: 0.7017 - binary_accuracy: 0.2500 - 3ms/epoch - 3ms/step\n",
      "Epoch 3/100\n",
      "1/1 - 0s - loss: 0.6987 - binary_accuracy: 0.2500 - 7ms/epoch - 7ms/step\n",
      "Epoch 4/100\n",
      "1/1 - 0s - loss: 0.6957 - binary_accuracy: 0.2500 - 2ms/epoch - 2ms/step\n",
      "Epoch 5/100\n",
      "1/1 - 0s - loss: 0.6930 - binary_accuracy: 0.2500 - 3ms/epoch - 3ms/step\n",
      "Epoch 6/100\n",
      "1/1 - 0s - loss: 0.6904 - binary_accuracy: 0.2500 - 3ms/epoch - 3ms/step\n",
      "Epoch 7/100\n",
      "1/1 - 0s - loss: 0.6879 - binary_accuracy: 0.2500 - 3ms/epoch - 3ms/step\n",
      "Epoch 8/100\n",
      "1/1 - 0s - loss: 0.6859 - binary_accuracy: 0.2500 - 0s/epoch - 0s/step\n",
      "Epoch 9/100\n",
      "1/1 - 0s - loss: 0.6838 - binary_accuracy: 0.2500 - 3ms/epoch - 3ms/step\n",
      "Epoch 10/100\n",
      "1/1 - 0s - loss: 0.6817 - binary_accuracy: 0.5000 - 0s/epoch - 0s/step\n",
      "Epoch 11/100\n",
      "1/1 - 0s - loss: 0.6797 - binary_accuracy: 0.5000 - 10ms/epoch - 10ms/step\n",
      "Epoch 12/100\n",
      "1/1 - 0s - loss: 0.6777 - binary_accuracy: 0.5000 - 3ms/epoch - 3ms/step\n",
      "Epoch 13/100\n",
      "1/1 - 0s - loss: 0.6760 - binary_accuracy: 0.5000 - 0s/epoch - 0s/step\n",
      "Epoch 14/100\n",
      "1/1 - 0s - loss: 0.6743 - binary_accuracy: 0.5000 - 10ms/epoch - 10ms/step\n",
      "Epoch 15/100\n",
      "1/1 - 0s - loss: 0.6725 - binary_accuracy: 0.5000 - 4ms/epoch - 4ms/step\n",
      "Epoch 16/100\n",
      "1/1 - 0s - loss: 0.6707 - binary_accuracy: 0.5000 - 17ms/epoch - 17ms/step\n",
      "Epoch 17/100\n",
      "1/1 - 0s - loss: 0.6689 - binary_accuracy: 0.5000 - 10ms/epoch - 10ms/step\n",
      "Epoch 18/100\n",
      "1/1 - 0s - loss: 0.6671 - binary_accuracy: 0.5000 - 4ms/epoch - 4ms/step\n",
      "Epoch 19/100\n",
      "1/1 - 0s - loss: 0.6654 - binary_accuracy: 0.5000 - 0s/epoch - 0s/step\n",
      "Epoch 20/100\n",
      "1/1 - 0s - loss: 0.6638 - binary_accuracy: 0.5000 - 3ms/epoch - 3ms/step\n",
      "Epoch 21/100\n",
      "1/1 - 0s - loss: 0.6621 - binary_accuracy: 0.5000 - 2ms/epoch - 2ms/step\n",
      "Epoch 22/100\n",
      "1/1 - 0s - loss: 0.6604 - binary_accuracy: 0.5000 - 0s/epoch - 0s/step\n",
      "Epoch 23/100\n",
      "1/1 - 0s - loss: 0.6587 - binary_accuracy: 0.7500 - 3ms/epoch - 3ms/step\n",
      "Epoch 24/100\n",
      "1/1 - 0s - loss: 0.6570 - binary_accuracy: 0.7500 - 1ms/epoch - 1ms/step\n",
      "Epoch 25/100\n",
      "1/1 - 0s - loss: 0.6553 - binary_accuracy: 0.7500 - 0s/epoch - 0s/step\n",
      "Epoch 26/100\n",
      "1/1 - 0s - loss: 0.6536 - binary_accuracy: 0.7500 - 3ms/epoch - 3ms/step\n",
      "Epoch 27/100\n",
      "1/1 - 0s - loss: 0.6519 - binary_accuracy: 0.7500 - 0s/epoch - 0s/step\n",
      "Epoch 28/100\n",
      "1/1 - 0s - loss: 0.6502 - binary_accuracy: 0.7500 - 11ms/epoch - 11ms/step\n",
      "Epoch 29/100\n",
      "1/1 - 0s - loss: 0.6484 - binary_accuracy: 0.7500 - 4ms/epoch - 4ms/step\n",
      "Epoch 30/100\n",
      "1/1 - 0s - loss: 0.6466 - binary_accuracy: 0.7500 - 0s/epoch - 0s/step\n",
      "Epoch 31/100\n",
      "1/1 - 0s - loss: 0.6448 - binary_accuracy: 0.7500 - 12ms/epoch - 12ms/step\n",
      "Epoch 32/100\n",
      "1/1 - 0s - loss: 0.6430 - binary_accuracy: 0.7500 - 3ms/epoch - 3ms/step\n",
      "Epoch 33/100\n",
      "1/1 - 0s - loss: 0.6413 - binary_accuracy: 0.7500 - 0s/epoch - 0s/step\n",
      "Epoch 34/100\n",
      "1/1 - 0s - loss: 0.6395 - binary_accuracy: 0.7500 - 3ms/epoch - 3ms/step\n",
      "Epoch 35/100\n",
      "1/1 - 0s - loss: 0.6377 - binary_accuracy: 0.7500 - 0s/epoch - 0s/step\n",
      "Epoch 36/100\n",
      "1/1 - 0s - loss: 0.6359 - binary_accuracy: 0.7500 - 10ms/epoch - 10ms/step\n",
      "Epoch 37/100\n",
      "1/1 - 0s - loss: 0.6341 - binary_accuracy: 0.7500 - 3ms/epoch - 3ms/step\n",
      "Epoch 38/100\n",
      "1/1 - 0s - loss: 0.6322 - binary_accuracy: 0.7500 - 3ms/epoch - 3ms/step\n",
      "Epoch 39/100\n",
      "1/1 - 0s - loss: 0.6304 - binary_accuracy: 0.7500 - 3ms/epoch - 3ms/step\n",
      "Epoch 40/100\n",
      "1/1 - 0s - loss: 0.6285 - binary_accuracy: 0.7500 - 3ms/epoch - 3ms/step\n",
      "Epoch 41/100\n",
      "1/1 - 0s - loss: 0.6266 - binary_accuracy: 0.7500 - 0s/epoch - 0s/step\n",
      "Epoch 42/100\n",
      "1/1 - 0s - loss: 0.6247 - binary_accuracy: 0.7500 - 3ms/epoch - 3ms/step\n",
      "Epoch 43/100\n",
      "1/1 - 0s - loss: 0.6228 - binary_accuracy: 0.7500 - 2ms/epoch - 2ms/step\n",
      "Epoch 44/100\n",
      "1/1 - 0s - loss: 0.6208 - binary_accuracy: 0.7500 - 0s/epoch - 0s/step\n",
      "Epoch 45/100\n",
      "1/1 - 0s - loss: 0.6189 - binary_accuracy: 0.7500 - 2ms/epoch - 2ms/step\n",
      "Epoch 46/100\n",
      "1/1 - 0s - loss: 0.6169 - binary_accuracy: 0.7500 - 1ms/epoch - 1ms/step\n",
      "Epoch 47/100\n",
      "1/1 - 0s - loss: 0.6149 - binary_accuracy: 0.7500 - 8ms/epoch - 8ms/step\n",
      "Epoch 48/100\n",
      "1/1 - 0s - loss: 0.6129 - binary_accuracy: 0.7500 - 3ms/epoch - 3ms/step\n",
      "Epoch 49/100\n",
      "1/1 - 0s - loss: 0.6110 - binary_accuracy: 0.7500 - 0s/epoch - 0s/step\n",
      "Epoch 50/100\n",
      "1/1 - 0s - loss: 0.6090 - binary_accuracy: 0.7500 - 9ms/epoch - 9ms/step\n",
      "Epoch 51/100\n",
      "1/1 - 0s - loss: 0.6070 - binary_accuracy: 0.7500 - 3ms/epoch - 3ms/step\n",
      "Epoch 52/100\n",
      "1/1 - 0s - loss: 0.6051 - binary_accuracy: 0.7500 - 1ms/epoch - 1ms/step\n",
      "Epoch 53/100\n",
      "1/1 - 0s - loss: 0.6032 - binary_accuracy: 0.7500 - 9ms/epoch - 9ms/step\n",
      "Epoch 54/100\n",
      "1/1 - 0s - loss: 0.6013 - binary_accuracy: 0.7500 - 3ms/epoch - 3ms/step\n",
      "Epoch 55/100\n",
      "1/1 - 0s - loss: 0.5993 - binary_accuracy: 0.7500 - 0s/epoch - 0s/step\n",
      "Epoch 56/100\n",
      "1/1 - 0s - loss: 0.5974 - binary_accuracy: 0.7500 - 9ms/epoch - 9ms/step\n",
      "Epoch 57/100\n",
      "1/1 - 0s - loss: 0.5955 - binary_accuracy: 0.7500 - 3ms/epoch - 3ms/step\n",
      "Epoch 58/100\n",
      "1/1 - 0s - loss: 0.5935 - binary_accuracy: 0.7500 - 0s/epoch - 0s/step\n",
      "Epoch 59/100\n",
      "1/1 - 0s - loss: 0.5913 - binary_accuracy: 0.7500 - 4ms/epoch - 4ms/step\n",
      "Epoch 60/100\n",
      "1/1 - 0s - loss: 0.5891 - binary_accuracy: 1.0000 - 0s/epoch - 0s/step\n",
      "Epoch 61/100\n",
      "1/1 - 0s - loss: 0.5871 - binary_accuracy: 1.0000 - 0s/epoch - 0s/step\n",
      "Epoch 62/100\n",
      "1/1 - 0s - loss: 0.5850 - binary_accuracy: 1.0000 - 3ms/epoch - 3ms/step\n",
      "Epoch 63/100\n",
      "1/1 - 0s - loss: 0.5829 - binary_accuracy: 1.0000 - 0s/epoch - 0s/step\n",
      "Epoch 64/100\n",
      "1/1 - 0s - loss: 0.5808 - binary_accuracy: 1.0000 - 0s/epoch - 0s/step\n",
      "Epoch 65/100\n",
      "1/1 - 0s - loss: 0.5786 - binary_accuracy: 1.0000 - 3ms/epoch - 3ms/step\n",
      "Epoch 66/100\n",
      "1/1 - 0s - loss: 0.5765 - binary_accuracy: 1.0000 - 0s/epoch - 0s/step\n",
      "Epoch 67/100\n",
      "1/1 - 0s - loss: 0.5742 - binary_accuracy: 1.0000 - 0s/epoch - 0s/step\n",
      "Epoch 68/100\n",
      "1/1 - 0s - loss: 0.5721 - binary_accuracy: 1.0000 - 3ms/epoch - 3ms/step\n",
      "Epoch 69/100\n",
      "1/1 - 0s - loss: 0.5699 - binary_accuracy: 1.0000 - 0s/epoch - 0s/step\n",
      "Epoch 70/100\n",
      "1/1 - 0s - loss: 0.5676 - binary_accuracy: 1.0000 - 0s/epoch - 0s/step\n",
      "Epoch 71/100\n",
      "1/1 - 0s - loss: 0.5653 - binary_accuracy: 1.0000 - 13ms/epoch - 13ms/step\n",
      "Epoch 72/100\n",
      "1/1 - 0s - loss: 0.5630 - binary_accuracy: 1.0000 - 0s/epoch - 0s/step\n",
      "Epoch 73/100\n",
      "1/1 - 0s - loss: 0.5607 - binary_accuracy: 1.0000 - 0s/epoch - 0s/step\n",
      "Epoch 74/100\n",
      "1/1 - 0s - loss: 0.5584 - binary_accuracy: 1.0000 - 13ms/epoch - 13ms/step\n",
      "Epoch 75/100\n",
      "1/1 - 0s - loss: 0.5560 - binary_accuracy: 1.0000 - 0s/epoch - 0s/step\n",
      "Epoch 76/100\n",
      "1/1 - 0s - loss: 0.5536 - binary_accuracy: 1.0000 - 0s/epoch - 0s/step\n",
      "Epoch 77/100\n",
      "1/1 - 0s - loss: 0.5512 - binary_accuracy: 1.0000 - 3ms/epoch - 3ms/step\n",
      "Epoch 78/100\n",
      "1/1 - 0s - loss: 0.5487 - binary_accuracy: 1.0000 - 0s/epoch - 0s/step\n",
      "Epoch 79/100\n",
      "1/1 - 0s - loss: 0.5462 - binary_accuracy: 1.0000 - 0s/epoch - 0s/step\n",
      "Epoch 80/100\n",
      "1/1 - 0s - loss: 0.5437 - binary_accuracy: 1.0000 - 3ms/epoch - 3ms/step\n",
      "Epoch 81/100\n",
      "1/1 - 0s - loss: 0.5411 - binary_accuracy: 1.0000 - 2ms/epoch - 2ms/step\n",
      "Epoch 82/100\n",
      "1/1 - 0s - loss: 0.5386 - binary_accuracy: 1.0000 - 3ms/epoch - 3ms/step\n",
      "Epoch 83/100\n",
      "1/1 - 0s - loss: 0.5361 - binary_accuracy: 1.0000 - 2ms/epoch - 2ms/step\n",
      "Epoch 84/100\n",
      "1/1 - 0s - loss: 0.5334 - binary_accuracy: 1.0000 - 9ms/epoch - 9ms/step\n",
      "Epoch 85/100\n",
      "1/1 - 0s - loss: 0.5308 - binary_accuracy: 1.0000 - 2ms/epoch - 2ms/step\n",
      "Epoch 86/100\n",
      "1/1 - 0s - loss: 0.5283 - binary_accuracy: 1.0000 - 0s/epoch - 0s/step\n",
      "Epoch 87/100\n",
      "1/1 - 0s - loss: 0.5256 - binary_accuracy: 1.0000 - 3ms/epoch - 3ms/step\n",
      "Epoch 88/100\n",
      "1/1 - 0s - loss: 0.5228 - binary_accuracy: 1.0000 - 0s/epoch - 0s/step\n",
      "Epoch 89/100\n",
      "1/1 - 0s - loss: 0.5202 - binary_accuracy: 1.0000 - 0s/epoch - 0s/step\n",
      "Epoch 90/100\n",
      "1/1 - 0s - loss: 0.5175 - binary_accuracy: 1.0000 - 2ms/epoch - 2ms/step\n",
      "Epoch 91/100\n",
      "1/1 - 0s - loss: 0.5146 - binary_accuracy: 1.0000 - 742us/epoch - 742us/step\n",
      "Epoch 92/100\n",
      "1/1 - 0s - loss: 0.5120 - binary_accuracy: 1.0000 - 0s/epoch - 0s/step\n",
      "Epoch 93/100\n",
      "1/1 - 0s - loss: 0.5094 - binary_accuracy: 1.0000 - 13ms/epoch - 13ms/step\n",
      "Epoch 94/100\n",
      "1/1 - 0s - loss: 0.5065 - binary_accuracy: 1.0000 - 2ms/epoch - 2ms/step\n",
      "Epoch 95/100\n",
      "1/1 - 0s - loss: 0.5035 - binary_accuracy: 1.0000 - 0s/epoch - 0s/step\n",
      "Epoch 96/100\n",
      "1/1 - 0s - loss: 0.5007 - binary_accuracy: 1.0000 - 12ms/epoch - 12ms/step\n"
     ]
    },
    {
     "name": "stdout",
     "output_type": "stream",
     "text": [
      "Epoch 97/100\n",
      "1/1 - 0s - loss: 0.4979 - binary_accuracy: 1.0000 - 2ms/epoch - 2ms/step\n",
      "Epoch 98/100\n",
      "1/1 - 0s - loss: 0.4950 - binary_accuracy: 1.0000 - 0s/epoch - 0s/step\n",
      "Epoch 99/100\n",
      "1/1 - 0s - loss: 0.4919 - binary_accuracy: 1.0000 - 11ms/epoch - 11ms/step\n",
      "Epoch 100/100\n",
      "1/1 - 0s - loss: 0.4889 - binary_accuracy: 1.0000 - 4ms/epoch - 4ms/step\n"
     ]
    }
   ],
   "source": [
    "# 4. 학습하기\n",
    "hist = model.fit(x_data, y_data, epochs=100, verbose=2)"
   ]
  },
  {
   "cell_type": "code",
   "execution_count": 9,
   "id": "948298ae",
   "metadata": {
    "ExecuteTime": {
     "end_time": "2024-12-17T00:51:49.241321Z",
     "start_time": "2024-12-17T00:51:49.236213Z"
    }
   },
   "outputs": [
    {
     "data": {
      "text/plain": [
       "dict_keys(['loss', 'binary_accuracy'])"
      ]
     },
     "execution_count": 9,
     "metadata": {},
     "output_type": "execute_result"
    }
   ],
   "source": [
    "# 5. 학습과정 보기 및 평가\n",
    "hist.history         # 딕셔너리\n",
    "hist.history.keys()  # 3. metrics='binary accuracy' 값이 들어옴"
   ]
  },
  {
   "cell_type": "code",
   "execution_count": 16,
   "id": "39632667",
   "metadata": {
    "ExecuteTime": {
     "end_time": "2024-12-17T00:59:25.024651Z",
     "start_time": "2024-12-17T00:59:24.695012Z"
    }
   },
   "outputs": [
    {
     "data": {
      "image/png": "[encoded data removed]",
      "text/plain": [
       "<Figure size 1000x500 with 2 Axes>"
      ]
     },
     "metadata": {},
     "output_type": "display_data"
    }
   ],
   "source": [
    "fig, loss_ax = plt.subplots(figsize=(10, 5))\n",
    "loss_ax.plot(hist.history['loss'], 'b', label='loss')\n",
    "acc_ax = loss_ax.twinx()  # loss_ax축과 x축을 공유하는 acc_ax\n",
    "acc_ax.plot(hist.history['binary_accuracy'], 'r', label='binary_accuracy')\n",
    "\n",
    "loss_ax.set_xlabel('epochs')\n",
    "loss_ax.set_ylabel('loss')\n",
    "acc_ax.set_ylabel('binary_accuracy')\n",
    "\n",
    "loss_ax.legend(loc='center right')    # loss\n",
    "acc_ax.legend(bbox_to_anchor=(0.999, 0.65))  # binary_accuracy  # 좌하 0, 0 / 우상 1, 1\n",
    "\n",
    "plt.show()"
   ]
  },
  {
   "cell_type": "code",
   "execution_count": 18,
   "id": "acf60c8a",
   "metadata": {
    "ExecuteTime": {
     "end_time": "2024-12-17T01:01:25.552703Z",
     "start_time": "2024-12-17T01:01:25.469813Z"
    }
   },
   "outputs": [
    {
     "name": "stdout",
     "output_type": "stream",
     "text": [
      "1/1 [==============================] - 0s 22ms/step - loss: 0.4859 - binary_accuracy: 1.0000\n",
      "loss :  0.48588523268699646\n",
      "accuracy :  1.0\n"
     ]
    }
   ],
   "source": [
    "# 6. 모델 평가하기\n",
    "score = model.evaluate(x_data, y_data)\n",
    "print('loss : ', score[0])\n",
    "print('accuracy : ', score[1])"
   ]
  },
  {
   "cell_type": "code",
   "execution_count": 25,
   "id": "e1c7449d",
   "metadata": {
    "ExecuteTime": {
     "end_time": "2024-12-17T01:03:23.133305Z",
     "start_time": "2024-12-17T01:03:23.060604Z"
    }
   },
   "outputs": [
    {
     "name": "stdout",
     "output_type": "stream",
     "text": [
      "1/1 [==============================] - 0s 33ms/step\n"
     ]
    },
    {
     "data": {
      "text/plain": [
       "1"
      ]
     },
     "execution_count": 25,
     "metadata": {},
     "output_type": "execute_result"
    }
   ],
   "source": [
    "# 7. 예측\n",
    "int(model.predict(np.array([[0, 1]])).round())  # 0.5보다 큰 값이면 1로 봄"
   ]
  },
  {
   "cell_type": "code",
   "execution_count": 32,
   "id": "326531b5",
   "metadata": {
    "ExecuteTime": {
     "end_time": "2024-12-17T01:18:33.515400Z",
     "start_time": "2024-12-17T01:18:33.508740Z"
    }
   },
   "outputs": [
    {
     "data": {
      "text/plain": [
       "False"
      ]
     },
     "execution_count": 32,
     "metadata": {},
     "output_type": "execute_result"
    }
   ],
   "source": [
    "6 in [1, 2, 3, 4, 5]  # 데이터가 포함되어 있는 요소인지 여부를 return"
   ]
  },
  {
   "cell_type": "code",
   "execution_count": 35,
   "id": "3c0e8f4f",
   "metadata": {
    "ExecuteTime": {
     "end_time": "2024-12-17T01:19:30.067681Z",
     "start_time": "2024-12-17T01:19:30.060612Z"
    }
   },
   "outputs": [
    {
     "name": "stdout",
     "output_type": "stream",
     "text": [
      "False\n",
      "False\n"
     ]
    }
   ],
   "source": [
    "# list에 0과 1만 들어있는지 여부\n",
    "temp = [0, 1, 2]\n",
    "print(all([x in (0, 1) for x in temp]))\n",
    "print(all(x in (0, 1) for x in temp))  # all()을 사용 시 리스트컴프리헨션을 풀어서 사용 가능"
   ]
  },
  {
   "cell_type": "code",
   "execution_count": 42,
   "id": "99463575",
   "metadata": {
    "ExecuteTime": {
     "end_time": "2024-12-17T01:40:32.449599Z",
     "start_time": "2024-12-17T01:40:27.840612Z"
    }
   },
   "outputs": [
    {
     "name": "stdout",
     "output_type": "stream",
     "text": [
      "space로 분리해서 0 또는 1을 2개 입력하세요. (한 개만 입력 시 종료됩니다.)1 0\n",
      "입력값 :  1 0\n",
      "1/1 [==============================] - 0s 22ms/step\n",
      "예측값 :  1\n",
      "space로 분리해서 0 또는 1을 2개 입력하세요. (한 개만 입력 시 종료됩니다.)0 1\n",
      "입력값 :  0 1\n",
      "1/1 [==============================] - 0s 18ms/step\n",
      "예측값 :  1\n",
      "space로 분리해서 0 또는 1을 2개 입력하세요. (한 개만 입력 시 종료됩니다.)0\n",
      "데이터를 하나만 입력할 경우 종료됩니다.\n"
     ]
    }
   ],
   "source": [
    "# 독립변수 2개(0 0, 0 1, 1 0 , 1 1)를 입력받아 예측값을 출력 (종료:수를 1개만 입력할 때)\n",
    "while True:\n",
    "    input_str = input('space로 분리해서 0 또는 1을 2개 입력하세요. (한 개만 입력 시 종료됩니다.)')\n",
    "                      # string으로 받기 때문에 공백제거(strip():space가 1개 이상일 수도 있으므로), split() 후 int로 형변환(형변환 할 문자가 1개일 경우 종료)\n",
    "    # '0  1'  =>  '0  1'  => '0', '1'\n",
    "    input_list = input_str.strip().split()\n",
    "    input_nums = list(map(int, input_list))  # [0, 1]\n",
    "    if len(input_nums) == 1:\n",
    "        print('데이터를 하나만 입력할 경우 종료됩니다.')\n",
    "        break\n",
    "    if all(x in [0, 1] for x in input_nums):  # 0과 1만 입력한 경우\n",
    "        # input_data = np.array([input_nums[0], input_nums[1]])\n",
    "        # input_data = np.array([input_nums[:2]])\n",
    "        input_data = np.array(input_nums[:2]).reshape(-1, 2)  # 1행2열\n",
    "        print('입력값 : ', input_nums[0], input_nums[1])\n",
    "        print('예측값 : ', int(model.predict(input_data).round()))\n",
    "    else:\n",
    "        print('0과 1만 입력행 예측값을 볼 수 있습니다. 다시 입력하세요.')"
   ]
  },
  {
   "cell_type": "markdown",
   "id": "15cc9808",
   "metadata": {},
   "source": [
    "# 2. AND"
   ]
  },
  {
   "cell_type": "code",
   "execution_count": 92,
   "id": "e6181b9a",
   "metadata": {
    "ExecuteTime": {
     "end_time": "2024-12-17T02:10:22.322804Z",
     "start_time": "2024-12-17T02:10:19.968630Z"
    }
   },
   "outputs": [
    {
     "name": "stdout",
     "output_type": "stream",
     "text": [
      "Model: \"sequential_18\"\n",
      "_________________________________________________________________\n",
      " Layer (type)                Output Shape              Param #   \n",
      "=================================================================\n",
      " dense_72 (Dense)            (None, 10)                30        \n",
      "                                                                 \n",
      " dense_73 (Dense)            (None, 1)                 11        \n",
      "                                                                 \n",
      "=================================================================\n",
      "Total params: 41\n",
      "Trainable params: 41\n",
      "Non-trainable params: 0\n",
      "_________________________________________________________________\n",
      "None\n",
      "Epoch 1/200\n",
      "1/1 - 0s - loss: 0.7904 - binary_accuracy: 0.5000 - 466ms/epoch - 466ms/step\n",
      "Epoch 2/200\n",
      "1/1 - 0s - loss: 0.7884 - binary_accuracy: 0.5000 - 3ms/epoch - 3ms/step\n",
      "Epoch 3/200\n",
      "1/1 - 0s - loss: 0.7863 - binary_accuracy: 0.5000 - 3ms/epoch - 3ms/step\n",
      "Epoch 4/200\n",
      "1/1 - 0s - loss: 0.7843 - binary_accuracy: 0.5000 - 3ms/epoch - 3ms/step\n",
      "Epoch 5/200\n",
      "1/1 - 0s - loss: 0.7823 - binary_accuracy: 0.5000 - 3ms/epoch - 3ms/step\n",
      "Epoch 6/200\n",
      "1/1 - 0s - loss: 0.7802 - binary_accuracy: 0.5000 - 0s/epoch - 0s/step\n",
      "Epoch 7/200\n",
      "1/1 - 0s - loss: 0.7782 - binary_accuracy: 0.5000 - 10ms/epoch - 10ms/step\n",
      "Epoch 8/200\n",
      "1/1 - 0s - loss: 0.7762 - binary_accuracy: 0.5000 - 3ms/epoch - 3ms/step\n",
      "Epoch 9/200\n",
      "1/1 - 0s - loss: 0.7743 - binary_accuracy: 0.5000 - 0s/epoch - 0s/step\n",
      "Epoch 10/200\n",
      "1/1 - 0s - loss: 0.7723 - binary_accuracy: 0.5000 - 3ms/epoch - 3ms/step\n",
      "Epoch 11/200\n",
      "1/1 - 0s - loss: 0.7703 - binary_accuracy: 0.5000 - 2ms/epoch - 2ms/step\n",
      "Epoch 12/200\n",
      "1/1 - 0s - loss: 0.7684 - binary_accuracy: 0.5000 - 0s/epoch - 0s/step\n",
      "Epoch 13/200\n",
      "1/1 - 0s - loss: 0.7665 - binary_accuracy: 0.5000 - 2ms/epoch - 2ms/step\n",
      "Epoch 14/200\n",
      "1/1 - 0s - loss: 0.7646 - binary_accuracy: 0.5000 - 1ms/epoch - 1ms/step\n",
      "Epoch 15/200\n",
      "1/1 - 0s - loss: 0.7627 - binary_accuracy: 0.5000 - 9ms/epoch - 9ms/step\n",
      "Epoch 16/200\n",
      "1/1 - 0s - loss: 0.7608 - binary_accuracy: 0.5000 - 3ms/epoch - 3ms/step\n",
      "Epoch 17/200\n",
      "1/1 - 0s - loss: 0.7590 - binary_accuracy: 0.5000 - 0s/epoch - 0s/step\n",
      "Epoch 18/200\n",
      "1/1 - 0s - loss: 0.7571 - binary_accuracy: 0.2500 - 10ms/epoch - 10ms/step\n",
      "Epoch 19/200\n",
      "1/1 - 0s - loss: 0.7553 - binary_accuracy: 0.2500 - 3ms/epoch - 3ms/step\n",
      "Epoch 20/200\n",
      "1/1 - 0s - loss: 0.7535 - binary_accuracy: 0.2500 - 0s/epoch - 0s/step\n",
      "Epoch 21/200\n",
      "1/1 - 0s - loss: 0.7517 - binary_accuracy: 0.2500 - 3ms/epoch - 3ms/step\n",
      "Epoch 22/200\n",
      "1/1 - 0s - loss: 0.7499 - binary_accuracy: 0.2500 - 2ms/epoch - 2ms/step\n",
      "Epoch 23/200\n",
      "1/1 - 0s - loss: 0.7481 - binary_accuracy: 0.2500 - 8ms/epoch - 8ms/step\n",
      "Epoch 24/200\n",
      "1/1 - 0s - loss: 0.7464 - binary_accuracy: 0.2500 - 3ms/epoch - 3ms/step\n",
      "Epoch 25/200\n",
      "1/1 - 0s - loss: 0.7446 - binary_accuracy: 0.2500 - 1ms/epoch - 1ms/step\n",
      "Epoch 26/200\n",
      "1/1 - 0s - loss: 0.7429 - binary_accuracy: 0.2500 - 9ms/epoch - 9ms/step\n",
      "Epoch 27/200\n",
      "1/1 - 0s - loss: 0.7412 - binary_accuracy: 0.2500 - 3ms/epoch - 3ms/step\n",
      "Epoch 28/200\n",
      "1/1 - 0s - loss: 0.7395 - binary_accuracy: 0.2500 - 883us/epoch - 883us/step\n",
      "Epoch 29/200\n",
      "1/1 - 0s - loss: 0.7378 - binary_accuracy: 0.2500 - 2ms/epoch - 2ms/step\n",
      "Epoch 30/200\n",
      "1/1 - 0s - loss: 0.7361 - binary_accuracy: 0.2500 - 3ms/epoch - 3ms/step\n",
      "Epoch 31/200\n",
      "1/1 - 0s - loss: 0.7344 - binary_accuracy: 0.2500 - 0s/epoch - 0s/step\n",
      "Epoch 32/200\n",
      "1/1 - 0s - loss: 0.7328 - binary_accuracy: 0.2500 - 3ms/epoch - 3ms/step\n",
      "Epoch 33/200\n",
      "1/1 - 0s - loss: 0.7312 - binary_accuracy: 0.2500 - 4ms/epoch - 4ms/step\n",
      "Epoch 34/200\n",
      "1/1 - 0s - loss: 0.7295 - binary_accuracy: 0.2500 - 7ms/epoch - 7ms/step\n",
      "Epoch 35/200\n",
      "1/1 - 0s - loss: 0.7279 - binary_accuracy: 0.2500 - 3ms/epoch - 3ms/step\n",
      "Epoch 36/200\n",
      "1/1 - 0s - loss: 0.7263 - binary_accuracy: 0.2500 - 2ms/epoch - 2ms/step\n",
      "Epoch 37/200\n",
      "1/1 - 0s - loss: 0.7247 - binary_accuracy: 0.2500 - 8ms/epoch - 8ms/step\n",
      "Epoch 38/200\n",
      "1/1 - 0s - loss: 0.7231 - binary_accuracy: 0.2500 - 2ms/epoch - 2ms/step\n",
      "Epoch 39/200\n",
      "1/1 - 0s - loss: 0.7215 - binary_accuracy: 0.2500 - 1ms/epoch - 1ms/step\n",
      "Epoch 40/200\n",
      "1/1 - 0s - loss: 0.7199 - binary_accuracy: 0.2500 - 3ms/epoch - 3ms/step\n",
      "Epoch 41/200\n",
      "1/1 - 0s - loss: 0.7183 - binary_accuracy: 0.2500 - 5ms/epoch - 5ms/step\n",
      "Epoch 42/200\n",
      "1/1 - 0s - loss: 0.7168 - binary_accuracy: 0.2500 - 6ms/epoch - 6ms/step\n",
      "Epoch 43/200\n",
      "1/1 - 0s - loss: 0.7152 - binary_accuracy: 0.2500 - 3ms/epoch - 3ms/step\n",
      "Epoch 44/200\n",
      "1/1 - 0s - loss: 0.7136 - binary_accuracy: 0.2500 - 3ms/epoch - 3ms/step\n",
      "Epoch 45/200\n",
      "1/1 - 0s - loss: 0.7121 - binary_accuracy: 0.2500 - 17ms/epoch - 17ms/step\n",
      "Epoch 46/200\n",
      "1/1 - 0s - loss: 0.7105 - binary_accuracy: 0.2500 - 8ms/epoch - 8ms/step\n",
      "Epoch 47/200\n",
      "1/1 - 0s - loss: 0.7091 - binary_accuracy: 0.5000 - 3ms/epoch - 3ms/step\n",
      "Epoch 48/200\n",
      "1/1 - 0s - loss: 0.7077 - binary_accuracy: 0.5000 - 3ms/epoch - 3ms/step\n",
      "Epoch 49/200\n",
      "1/1 - 0s - loss: 0.7064 - binary_accuracy: 0.5000 - 3ms/epoch - 3ms/step\n",
      "Epoch 50/200\n",
      "1/1 - 0s - loss: 0.7050 - binary_accuracy: 0.5000 - 5ms/epoch - 5ms/step\n",
      "Epoch 51/200\n",
      "1/1 - 0s - loss: 0.7036 - binary_accuracy: 0.5000 - 3ms/epoch - 3ms/step\n",
      "Epoch 52/200\n",
      "1/1 - 0s - loss: 0.7023 - binary_accuracy: 0.5000 - 0s/epoch - 0s/step\n",
      "Epoch 53/200\n",
      "1/1 - 0s - loss: 0.7009 - binary_accuracy: 0.5000 - 10ms/epoch - 10ms/step\n",
      "Epoch 54/200\n",
      "1/1 - 0s - loss: 0.6995 - binary_accuracy: 0.5000 - 3ms/epoch - 3ms/step\n",
      "Epoch 55/200\n",
      "1/1 - 0s - loss: 0.6982 - binary_accuracy: 0.5000 - 0s/epoch - 0s/step\n",
      "Epoch 56/200\n",
      "1/1 - 0s - loss: 0.6968 - binary_accuracy: 0.5000 - 0s/epoch - 0s/step\n",
      "Epoch 57/200\n",
      "1/1 - 0s - loss: 0.6955 - binary_accuracy: 0.5000 - 3ms/epoch - 3ms/step\n",
      "Epoch 58/200\n",
      "1/1 - 0s - loss: 0.6941 - binary_accuracy: 0.5000 - 0s/epoch - 0s/step\n",
      "Epoch 59/200\n",
      "1/1 - 0s - loss: 0.6927 - binary_accuracy: 0.5000 - 0s/epoch - 0s/step\n",
      "Epoch 60/200\n",
      "1/1 - 0s - loss: 0.6914 - binary_accuracy: 0.5000 - 2ms/epoch - 2ms/step\n",
      "Epoch 61/200\n",
      "1/1 - 0s - loss: 0.6900 - binary_accuracy: 0.5000 - 0s/epoch - 0s/step\n",
      "Epoch 62/200\n",
      "1/1 - 0s - loss: 0.6887 - binary_accuracy: 0.5000 - 0s/epoch - 0s/step\n",
      "Epoch 63/200\n",
      "1/1 - 0s - loss: 0.6873 - binary_accuracy: 0.5000 - 3ms/epoch - 3ms/step\n",
      "Epoch 64/200\n",
      "1/1 - 0s - loss: 0.6859 - binary_accuracy: 0.5000 - 879us/epoch - 879us/step\n",
      "Epoch 65/200\n",
      "1/1 - 0s - loss: 0.6846 - binary_accuracy: 0.5000 - 0s/epoch - 0s/step\n",
      "Epoch 66/200\n",
      "1/1 - 0s - loss: 0.6832 - binary_accuracy: 0.5000 - 12ms/epoch - 12ms/step\n",
      "Epoch 67/200\n",
      "1/1 - 0s - loss: 0.6819 - binary_accuracy: 0.5000 - 2ms/epoch - 2ms/step\n",
      "Epoch 68/200\n",
      "1/1 - 0s - loss: 0.6805 - binary_accuracy: 0.5000 - 0s/epoch - 0s/step\n",
      "Epoch 69/200\n",
      "1/1 - 0s - loss: 0.6791 - binary_accuracy: 0.5000 - 12ms/epoch - 12ms/step\n",
      "Epoch 70/200\n",
      "1/1 - 0s - loss: 0.6778 - binary_accuracy: 0.5000 - 3ms/epoch - 3ms/step\n",
      "Epoch 71/200\n",
      "1/1 - 0s - loss: 0.6764 - binary_accuracy: 0.5000 - 0s/epoch - 0s/step\n",
      "Epoch 72/200\n",
      "1/1 - 0s - loss: 0.6751 - binary_accuracy: 0.5000 - 11ms/epoch - 11ms/step\n",
      "Epoch 73/200\n",
      "1/1 - 0s - loss: 0.6737 - binary_accuracy: 0.5000 - 3ms/epoch - 3ms/step\n",
      "Epoch 74/200\n",
      "1/1 - 0s - loss: 0.6723 - binary_accuracy: 0.7500 - 0s/epoch - 0s/step\n",
      "Epoch 75/200\n",
      "1/1 - 0s - loss: 0.6710 - binary_accuracy: 0.7500 - 3ms/epoch - 3ms/step\n",
      "Epoch 76/200\n",
      "1/1 - 0s - loss: 0.6696 - binary_accuracy: 0.7500 - 4ms/epoch - 4ms/step\n",
      "Epoch 77/200\n",
      "1/1 - 0s - loss: 0.6683 - binary_accuracy: 0.7500 - 3ms/epoch - 3ms/step\n",
      "Epoch 78/200\n",
      "1/1 - 0s - loss: 0.6669 - binary_accuracy: 0.7500 - 3ms/epoch - 3ms/step\n",
      "Epoch 79/200\n",
      "1/1 - 0s - loss: 0.6655 - binary_accuracy: 0.7500 - 1ms/epoch - 1ms/step\n",
      "Epoch 80/200\n",
      "1/1 - 0s - loss: 0.6642 - binary_accuracy: 0.7500 - 0s/epoch - 0s/step\n",
      "Epoch 81/200\n",
      "1/1 - 0s - loss: 0.6628 - binary_accuracy: 0.7500 - 3ms/epoch - 3ms/step\n",
      "Epoch 82/200\n",
      "1/1 - 0s - loss: 0.6615 - binary_accuracy: 0.7500 - 0s/epoch - 0s/step\n",
      "Epoch 83/200\n",
      "1/1 - 0s - loss: 0.6601 - binary_accuracy: 0.7500 - 8ms/epoch - 8ms/step\n",
      "Epoch 84/200\n",
      "1/1 - 0s - loss: 0.6587 - binary_accuracy: 0.7500 - 4ms/epoch - 4ms/step\n",
      "Epoch 85/200\n",
      "1/1 - 0s - loss: 0.6574 - binary_accuracy: 0.7500 - 0s/epoch - 0s/step\n",
      "Epoch 86/200\n",
      "1/1 - 0s - loss: 0.6560 - binary_accuracy: 0.7500 - 10ms/epoch - 10ms/step\n",
      "Epoch 87/200\n",
      "1/1 - 0s - loss: 0.6546 - binary_accuracy: 0.7500 - 4ms/epoch - 4ms/step\n",
      "Epoch 88/200\n",
      "1/1 - 0s - loss: 0.6533 - binary_accuracy: 0.7500 - 0s/epoch - 0s/step\n"
     ]
    },
    {
     "name": "stdout",
     "output_type": "stream",
     "text": [
      "Epoch 89/200\n",
      "1/1 - 0s - loss: 0.6519 - binary_accuracy: 0.7500 - 9ms/epoch - 9ms/step\n",
      "Epoch 90/200\n",
      "1/1 - 0s - loss: 0.6506 - binary_accuracy: 0.7500 - 3ms/epoch - 3ms/step\n",
      "Epoch 91/200\n",
      "1/1 - 0s - loss: 0.6492 - binary_accuracy: 0.7500 - 0s/epoch - 0s/step\n",
      "Epoch 92/200\n",
      "1/1 - 0s - loss: 0.6478 - binary_accuracy: 0.7500 - 10ms/epoch - 10ms/step\n",
      "Epoch 93/200\n",
      "1/1 - 0s - loss: 0.6465 - binary_accuracy: 0.7500 - 2ms/epoch - 2ms/step\n",
      "Epoch 94/200\n",
      "1/1 - 0s - loss: 0.6451 - binary_accuracy: 0.7500 - 0s/epoch - 0s/step\n",
      "Epoch 95/200\n",
      "1/1 - 0s - loss: 0.6437 - binary_accuracy: 0.7500 - 12ms/epoch - 12ms/step\n",
      "Epoch 96/200\n",
      "1/1 - 0s - loss: 0.6424 - binary_accuracy: 0.7500 - 2ms/epoch - 2ms/step\n",
      "Epoch 97/200\n",
      "1/1 - 0s - loss: 0.6410 - binary_accuracy: 0.7500 - 0s/epoch - 0s/step\n",
      "Epoch 98/200\n",
      "1/1 - 0s - loss: 0.6396 - binary_accuracy: 0.7500 - 0s/epoch - 0s/step\n",
      "Epoch 99/200\n",
      "1/1 - 0s - loss: 0.6383 - binary_accuracy: 0.7500 - 3ms/epoch - 3ms/step\n",
      "Epoch 100/200\n",
      "1/1 - 0s - loss: 0.6369 - binary_accuracy: 0.7500 - 0s/epoch - 0s/step\n",
      "Epoch 101/200\n",
      "1/1 - 0s - loss: 0.6355 - binary_accuracy: 0.7500 - 0s/epoch - 0s/step\n",
      "Epoch 102/200\n",
      "1/1 - 0s - loss: 0.6342 - binary_accuracy: 0.7500 - 3ms/epoch - 3ms/step\n",
      "Epoch 103/200\n",
      "1/1 - 0s - loss: 0.6328 - binary_accuracy: 0.7500 - 0s/epoch - 0s/step\n",
      "Epoch 104/200\n",
      "1/1 - 0s - loss: 0.6314 - binary_accuracy: 0.7500 - 0s/epoch - 0s/step\n",
      "Epoch 105/200\n",
      "1/1 - 0s - loss: 0.6301 - binary_accuracy: 0.7500 - 14ms/epoch - 14ms/step\n",
      "Epoch 106/200\n",
      "1/1 - 0s - loss: 0.6287 - binary_accuracy: 0.7500 - 2ms/epoch - 2ms/step\n",
      "Epoch 107/200\n",
      "1/1 - 0s - loss: 0.6273 - binary_accuracy: 0.7500 - 0s/epoch - 0s/step\n",
      "Epoch 108/200\n",
      "1/1 - 0s - loss: 0.6259 - binary_accuracy: 0.7500 - 12ms/epoch - 12ms/step\n",
      "Epoch 109/200\n",
      "1/1 - 0s - loss: 0.6246 - binary_accuracy: 0.7500 - 2ms/epoch - 2ms/step\n",
      "Epoch 110/200\n",
      "1/1 - 0s - loss: 0.6232 - binary_accuracy: 0.7500 - 0s/epoch - 0s/step\n",
      "Epoch 111/200\n",
      "1/1 - 0s - loss: 0.6218 - binary_accuracy: 0.7500 - 0s/epoch - 0s/step\n",
      "Epoch 112/200\n",
      "1/1 - 0s - loss: 0.6204 - binary_accuracy: 0.7500 - 3ms/epoch - 3ms/step\n",
      "Epoch 113/200\n",
      "1/1 - 0s - loss: 0.6191 - binary_accuracy: 0.7500 - 0s/epoch - 0s/step\n",
      "Epoch 114/200\n",
      "1/1 - 0s - loss: 0.6177 - binary_accuracy: 0.7500 - 11ms/epoch - 11ms/step\n",
      "Epoch 115/200\n",
      "1/1 - 0s - loss: 0.6163 - binary_accuracy: 0.7500 - 3ms/epoch - 3ms/step\n",
      "Epoch 116/200\n",
      "1/1 - 0s - loss: 0.6149 - binary_accuracy: 0.7500 - 2ms/epoch - 2ms/step\n",
      "Epoch 117/200\n",
      "1/1 - 0s - loss: 0.6136 - binary_accuracy: 0.7500 - 3ms/epoch - 3ms/step\n",
      "Epoch 118/200\n",
      "1/1 - 0s - loss: 0.6122 - binary_accuracy: 0.7500 - 3ms/epoch - 3ms/step\n",
      "Epoch 119/200\n",
      "1/1 - 0s - loss: 0.6108 - binary_accuracy: 0.7500 - 0s/epoch - 0s/step\n",
      "Epoch 120/200\n",
      "1/1 - 0s - loss: 0.6094 - binary_accuracy: 0.7500 - 11ms/epoch - 11ms/step\n",
      "Epoch 121/200\n",
      "1/1 - 0s - loss: 0.6081 - binary_accuracy: 0.7500 - 4ms/epoch - 4ms/step\n",
      "Epoch 122/200\n",
      "1/1 - 0s - loss: 0.6067 - binary_accuracy: 0.7500 - 0s/epoch - 0s/step\n",
      "Epoch 123/200\n",
      "1/1 - 0s - loss: 0.6053 - binary_accuracy: 0.7500 - 0s/epoch - 0s/step\n",
      "Epoch 124/200\n",
      "1/1 - 0s - loss: 0.6039 - binary_accuracy: 0.7500 - 3ms/epoch - 3ms/step\n",
      "Epoch 125/200\n",
      "1/1 - 0s - loss: 0.6025 - binary_accuracy: 0.7500 - 0s/epoch - 0s/step\n",
      "Epoch 126/200\n",
      "1/1 - 0s - loss: 0.6012 - binary_accuracy: 0.7500 - 0s/epoch - 0s/step\n",
      "Epoch 127/200\n",
      "1/1 - 0s - loss: 0.5998 - binary_accuracy: 0.7500 - 3ms/epoch - 3ms/step\n",
      "Epoch 128/200\n",
      "1/1 - 0s - loss: 0.5984 - binary_accuracy: 0.7500 - 0s/epoch - 0s/step\n",
      "Epoch 129/200\n",
      "1/1 - 0s - loss: 0.5970 - binary_accuracy: 0.7500 - 0s/epoch - 0s/step\n",
      "Epoch 130/200\n",
      "1/1 - 0s - loss: 0.5956 - binary_accuracy: 0.7500 - 4ms/epoch - 4ms/step\n",
      "Epoch 131/200\n",
      "1/1 - 0s - loss: 0.5943 - binary_accuracy: 0.7500 - 0s/epoch - 0s/step\n",
      "Epoch 132/200\n",
      "1/1 - 0s - loss: 0.5929 - binary_accuracy: 1.0000 - 0s/epoch - 0s/step\n",
      "Epoch 133/200\n",
      "1/1 - 0s - loss: 0.5915 - binary_accuracy: 1.0000 - 3ms/epoch - 3ms/step\n",
      "Epoch 134/200\n",
      "1/1 - 0s - loss: 0.5901 - binary_accuracy: 1.0000 - 0s/epoch - 0s/step\n",
      "Epoch 135/200\n",
      "1/1 - 0s - loss: 0.5887 - binary_accuracy: 1.0000 - 0s/epoch - 0s/step\n",
      "Epoch 136/200\n",
      "1/1 - 0s - loss: 0.5873 - binary_accuracy: 1.0000 - 3ms/epoch - 3ms/step\n",
      "Epoch 137/200\n",
      "1/1 - 0s - loss: 0.5860 - binary_accuracy: 1.0000 - 0s/epoch - 0s/step\n",
      "Epoch 138/200\n",
      "1/1 - 0s - loss: 0.5846 - binary_accuracy: 1.0000 - 0s/epoch - 0s/step\n",
      "Epoch 139/200\n",
      "1/1 - 0s - loss: 0.5832 - binary_accuracy: 1.0000 - 14ms/epoch - 14ms/step\n",
      "Epoch 140/200\n",
      "1/1 - 0s - loss: 0.5818 - binary_accuracy: 1.0000 - 0s/epoch - 0s/step\n",
      "Epoch 141/200\n",
      "1/1 - 0s - loss: 0.5804 - binary_accuracy: 1.0000 - 0s/epoch - 0s/step\n",
      "Epoch 142/200\n",
      "1/1 - 0s - loss: 0.5790 - binary_accuracy: 1.0000 - 4ms/epoch - 4ms/step\n",
      "Epoch 143/200\n",
      "1/1 - 0s - loss: 0.5777 - binary_accuracy: 1.0000 - 0s/epoch - 0s/step\n",
      "Epoch 144/200\n",
      "1/1 - 0s - loss: 0.5763 - binary_accuracy: 1.0000 - 0s/epoch - 0s/step\n",
      "Epoch 145/200\n",
      "1/1 - 0s - loss: 0.5749 - binary_accuracy: 1.0000 - 4ms/epoch - 4ms/step\n",
      "Epoch 146/200\n",
      "1/1 - 0s - loss: 0.5735 - binary_accuracy: 1.0000 - 0s/epoch - 0s/step\n",
      "Epoch 147/200\n",
      "1/1 - 0s - loss: 0.5721 - binary_accuracy: 1.0000 - 0s/epoch - 0s/step\n",
      "Epoch 148/200\n",
      "1/1 - 0s - loss: 0.5707 - binary_accuracy: 1.0000 - 2ms/epoch - 2ms/step\n",
      "Epoch 149/200\n",
      "1/1 - 0s - loss: 0.5693 - binary_accuracy: 1.0000 - 0s/epoch - 0s/step\n",
      "Epoch 150/200\n",
      "1/1 - 0s - loss: 0.5680 - binary_accuracy: 1.0000 - 0s/epoch - 0s/step\n",
      "Epoch 151/200\n",
      "1/1 - 0s - loss: 0.5666 - binary_accuracy: 1.0000 - 3ms/epoch - 3ms/step\n",
      "Epoch 152/200\n",
      "1/1 - 0s - loss: 0.5652 - binary_accuracy: 1.0000 - 0s/epoch - 0s/step\n",
      "Epoch 153/200\n",
      "1/1 - 0s - loss: 0.5638 - binary_accuracy: 1.0000 - 0s/epoch - 0s/step\n",
      "Epoch 154/200\n",
      "1/1 - 0s - loss: 0.5624 - binary_accuracy: 1.0000 - 4ms/epoch - 4ms/step\n",
      "Epoch 155/200\n",
      "1/1 - 0s - loss: 0.5610 - binary_accuracy: 1.0000 - 0s/epoch - 0s/step\n",
      "Epoch 156/200\n",
      "1/1 - 0s - loss: 0.5596 - binary_accuracy: 1.0000 - 0s/epoch - 0s/step\n",
      "Epoch 157/200\n",
      "1/1 - 0s - loss: 0.5583 - binary_accuracy: 1.0000 - 3ms/epoch - 3ms/step\n",
      "Epoch 158/200\n",
      "1/1 - 0s - loss: 0.5569 - binary_accuracy: 1.0000 - 0s/epoch - 0s/step\n",
      "Epoch 159/200\n",
      "1/1 - 0s - loss: 0.5555 - binary_accuracy: 1.0000 - 0s/epoch - 0s/step\n",
      "Epoch 160/200\n",
      "1/1 - 0s - loss: 0.5541 - binary_accuracy: 1.0000 - 3ms/epoch - 3ms/step\n",
      "Epoch 161/200\n",
      "1/1 - 0s - loss: 0.5527 - binary_accuracy: 1.0000 - 0s/epoch - 0s/step\n",
      "Epoch 162/200\n",
      "1/1 - 0s - loss: 0.5513 - binary_accuracy: 1.0000 - 0s/epoch - 0s/step\n",
      "Epoch 163/200\n",
      "1/1 - 0s - loss: 0.5500 - binary_accuracy: 1.0000 - 3ms/epoch - 3ms/step\n",
      "Epoch 164/200\n",
      "1/1 - 0s - loss: 0.5486 - binary_accuracy: 1.0000 - 826us/epoch - 826us/step\n",
      "Epoch 165/200\n",
      "1/1 - 0s - loss: 0.5472 - binary_accuracy: 1.0000 - 0s/epoch - 0s/step\n",
      "Epoch 166/200\n",
      "1/1 - 0s - loss: 0.5458 - binary_accuracy: 1.0000 - 12ms/epoch - 12ms/step\n",
      "Epoch 167/200\n",
      "1/1 - 0s - loss: 0.5444 - binary_accuracy: 1.0000 - 3ms/epoch - 3ms/step\n",
      "Epoch 168/200\n",
      "1/1 - 0s - loss: 0.5431 - binary_accuracy: 1.0000 - 0s/epoch - 0s/step\n",
      "Epoch 169/200\n",
      "1/1 - 0s - loss: 0.5417 - binary_accuracy: 1.0000 - 11ms/epoch - 11ms/step\n",
      "Epoch 170/200\n",
      "1/1 - 0s - loss: 0.5403 - binary_accuracy: 1.0000 - 3ms/epoch - 3ms/step\n",
      "Epoch 171/200\n",
      "1/1 - 0s - loss: 0.5389 - binary_accuracy: 1.0000 - 0s/epoch - 0s/step\n",
      "Epoch 172/200\n",
      "1/1 - 0s - loss: 0.5375 - binary_accuracy: 1.0000 - 11ms/epoch - 11ms/step\n",
      "Epoch 173/200\n",
      "1/1 - 0s - loss: 0.5361 - binary_accuracy: 1.0000 - 3ms/epoch - 3ms/step\n",
      "Epoch 174/200\n",
      "1/1 - 0s - loss: 0.5348 - binary_accuracy: 1.0000 - 16ms/epoch - 16ms/step\n",
      "Epoch 175/200\n",
      "1/1 - 0s - loss: 0.5334 - binary_accuracy: 1.0000 - 0s/epoch - 0s/step\n",
      "Epoch 176/200\n",
      "1/1 - 0s - loss: 0.5320 - binary_accuracy: 1.0000 - 3ms/epoch - 3ms/step\n",
      "Epoch 177/200\n",
      "1/1 - 0s - loss: 0.5306 - binary_accuracy: 1.0000 - 0s/epoch - 0s/step\n",
      "Epoch 178/200\n",
      "1/1 - 0s - loss: 0.5293 - binary_accuracy: 1.0000 - 0s/epoch - 0s/step\n",
      "Epoch 179/200\n",
      "1/1 - 0s - loss: 0.5279 - binary_accuracy: 1.0000 - 3ms/epoch - 3ms/step\n",
      "Epoch 180/200\n",
      "1/1 - 0s - loss: 0.5265 - binary_accuracy: 1.0000 - 0s/epoch - 0s/step\n",
      "Epoch 181/200\n",
      "1/1 - 0s - loss: 0.5251 - binary_accuracy: 1.0000 - 0s/epoch - 0s/step\n",
      "Epoch 182/200\n",
      "1/1 - 0s - loss: 0.5238 - binary_accuracy: 1.0000 - 3ms/epoch - 3ms/step\n",
      "Epoch 183/200\n",
      "1/1 - 0s - loss: 0.5224 - binary_accuracy: 1.0000 - 1ms/epoch - 1ms/step\n",
      "Epoch 184/200\n"
     ]
    },
    {
     "name": "stdout",
     "output_type": "stream",
     "text": [
      "1/1 - 0s - loss: 0.5210 - binary_accuracy: 1.0000 - 0s/epoch - 0s/step\n",
      "Epoch 185/200\n",
      "1/1 - 0s - loss: 0.5196 - binary_accuracy: 1.0000 - 3ms/epoch - 3ms/step\n",
      "Epoch 186/200\n",
      "1/1 - 0s - loss: 0.5183 - binary_accuracy: 1.0000 - 1ms/epoch - 1ms/step\n",
      "Epoch 187/200\n",
      "1/1 - 0s - loss: 0.5169 - binary_accuracy: 1.0000 - 0s/epoch - 0s/step\n",
      "Epoch 188/200\n",
      "1/1 - 0s - loss: 0.5155 - binary_accuracy: 1.0000 - 12ms/epoch - 12ms/step\n",
      "Epoch 189/200\n",
      "1/1 - 0s - loss: 0.5142 - binary_accuracy: 1.0000 - 0s/epoch - 0s/step\n",
      "Epoch 190/200\n",
      "1/1 - 0s - loss: 0.5128 - binary_accuracy: 1.0000 - 0s/epoch - 0s/step\n",
      "Epoch 191/200\n",
      "1/1 - 0s - loss: 0.5114 - binary_accuracy: 1.0000 - 12ms/epoch - 12ms/step\n",
      "Epoch 192/200\n",
      "1/1 - 0s - loss: 0.5100 - binary_accuracy: 1.0000 - 1ms/epoch - 1ms/step\n",
      "Epoch 193/200\n",
      "1/1 - 0s - loss: 0.5087 - binary_accuracy: 1.0000 - 0s/epoch - 0s/step\n",
      "Epoch 194/200\n",
      "1/1 - 0s - loss: 0.5073 - binary_accuracy: 1.0000 - 0s/epoch - 0s/step\n",
      "Epoch 195/200\n",
      "1/1 - 0s - loss: 0.5061 - binary_accuracy: 1.0000 - 3ms/epoch - 3ms/step\n",
      "Epoch 196/200\n",
      "1/1 - 0s - loss: 0.5047 - binary_accuracy: 1.0000 - 0s/epoch - 0s/step\n",
      "Epoch 197/200\n",
      "1/1 - 0s - loss: 0.5034 - binary_accuracy: 1.0000 - 0s/epoch - 0s/step\n",
      "Epoch 198/200\n",
      "1/1 - 0s - loss: 0.5019 - binary_accuracy: 1.0000 - 2ms/epoch - 2ms/step\n",
      "Epoch 199/200\n",
      "1/1 - 0s - loss: 0.5006 - binary_accuracy: 1.0000 - 0s/epoch - 0s/step\n",
      "Epoch 200/200\n",
      "1/1 - 0s - loss: 0.4993 - binary_accuracy: 1.0000 - 0s/epoch - 0s/step\n"
     ]
    },
    {
     "data": {
      "image/png": "[encoded data removed]",
      "text/plain": [
       "<Figure size 1000x500 with 2 Axes>"
      ]
     },
     "metadata": {},
     "output_type": "display_data"
    },
    {
     "name": "stdout",
     "output_type": "stream",
     "text": [
      "1/1 [==============================] - 0s 125ms/step - loss: 0.4979 - binary_accuracy: 1.0000\n",
      "loss :  0.49794936180114746\n",
      "accuracy :  1.0\n",
      "1/1 [==============================] - 0s 62ms/step\n"
     ]
    },
    {
     "data": {
      "text/plain": [
       "0"
      ]
     },
     "execution_count": 92,
     "metadata": {},
     "output_type": "execute_result"
    }
   ],
   "source": [
    "# 1. dataset\n",
    "x = np.array([[0, 0],\n",
    "              [0, 1],\n",
    "              [1, 0],\n",
    "              [1, 1]])\n",
    "y = np.array([[0],\n",
    "              [0],\n",
    "              [0],\n",
    "              [1]])\n",
    "\n",
    "# 2. 모델 구성\n",
    "model = Sequential()\n",
    "model.add(Input(shape=2))\n",
    "model.add(Dense(units=10, activation='relu'))\n",
    "model.add(Dense(units=1,  activation='sigmoid'))\n",
    "print(model.summary())\n",
    "\n",
    "# 3. 모델 학습과정 설정 (2진분류)\n",
    "model.compile(loss='binary_crossentropy', optimizer='adam', metrics=['binary_accuracy'])\n",
    "\n",
    "# 4. 학습하기\n",
    "hist = model.fit(x, y, epochs=200, verbose=2)\n",
    "\n",
    "# 5. 학습과정 보기 및 평가 (eve)\n",
    "hist.history.keys()\n",
    "fig, loss_ax = plt.subplots(figsize=(10,5))\n",
    "loss_ax.plot(hist.history['loss'], 'b', label='loss')\n",
    "acc_ax = loss_ax.twinx() # loss_ax와 x축을 공유하는 acc_ax\n",
    "acc_ax.plot(hist.history['binary_accuracy'], 'r', label='accuracy')\n",
    "\n",
    "loss_ax.set_xlabel('epoch')\n",
    "loss_ax.set_ylabel('loss')\n",
    "acc_ax.set_ylabel('binary_accuracy')\n",
    "\n",
    "loss_ax.legend(loc='center right')\n",
    "acc_ax.legend(bbox_to_anchor=(0.999, 0.65))\n",
    "plt.show()\n",
    "\n",
    "score = model.evaluate(x, y)\n",
    "print('loss : ', score[0])\n",
    "print('accuracy : ', score[1])\n",
    "\n",
    "# 6. 예측하기 : np.array([[0, 1]])를 예측하기\n",
    "int(model.predict(np.array([[0, 1]])))\n",
    "# int(model.predict(np.array([[0, 1]])) >= 0.5)"
   ]
  },
  {
   "cell_type": "code",
   "execution_count": 95,
   "id": "ee4322ed",
   "metadata": {
    "ExecuteTime": {
     "end_time": "2024-12-17T02:10:38.348521Z",
     "start_time": "2024-12-17T02:10:38.279341Z"
    }
   },
   "outputs": [
    {
     "name": "stdout",
     "output_type": "stream",
     "text": [
      "1/1 [==============================] - 0s 22ms/step\n",
      "1\n"
     ]
    }
   ],
   "source": [
    "print(int(model.predict(np.array([[1, 1]])).round()))"
   ]
  },
  {
   "cell_type": "code",
   "execution_count": null,
   "id": "c8266459",
   "metadata": {},
   "outputs": [],
   "source": []
  }
 ],
 "metadata": {
  "kernelspec": {
   "display_name": "Python 3 (ipykernel)",
   "language": "python",
   "name": "python3"
  },
  "language_info": {
   "codemirror_mode": {
    "name": "ipython",
    "version": 3
   },
   "file_extension": ".py",
   "mimetype": "text/x-python",
   "name": "python",
   "nbconvert_exporter": "python",
   "pygments_lexer": "ipython3",
   "version": "3.10.9"
  },
  "toc": {
   "base_numbering": 1,
   "nav_menu": {},
   "number_sections": true,
   "sideBar": true,
   "skip_h1_title": false,
   "title_cell": "Table of Contents",
   "title_sidebar": "Contents",
   "toc_cell": false,
   "toc_position": {
    "height": "calc(100% - 180px)",
    "left": "10px",
    "top": "150px",
    "width": "287.93px"
   },
   "toc_section_display": true,
   "toc_window_display": true
  }
 },
 "nbformat": 4,
 "nbformat_minor": 5
}
