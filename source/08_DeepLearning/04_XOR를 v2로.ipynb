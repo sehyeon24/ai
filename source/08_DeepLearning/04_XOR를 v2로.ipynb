{
 "cells": [
  {
   "cell_type": "code",
   "execution_count": 1,
   "id": "a8478d55",
   "metadata": {
    "ExecuteTime": {
     "end_time": "2024-12-16T08:38:10.071214Z",
     "start_time": "2024-12-16T08:38:10.061208Z"
    }
   },
   "outputs": [
    {
     "data": {
      "text/html": [
       "\n",
       "<style>\n",
       "div.container{width:80% !important;}\n",
       "div.prompt {min-width:70px;}\n",
       "div#toc-header{margin-top:150px;}\n",
       "span.toc-item-num{display:none;}\n",
       "div.CodeMirror {font-family:Consolas}\n",
       "div.input {font-family:Consolas}\n",
       "</style>\n"
      ],
      "text/plain": [
       "<IPython.core.display.HTML object>"
      ]
     },
     "metadata": {},
     "output_type": "display_data"
    }
   ],
   "source": [
    "from IPython.display import display, HTML\n",
    "\n",
    "display(\n",
    "    HTML(\"\"\"\n",
    "<style>\n",
    "div.container{width:80% !important;}\n",
    "div.prompt {min-width:70px;}\n",
    "div#toc-header{margin-top:150px;}\n",
    "span.toc-item-num{display:none;}\n",
    "div.CodeMirror {font-family:Consolas}\n",
    "div.input {font-family:Consolas}\n",
    "</style>\n",
    "\"\"\"))"
   ]
  },
  {
   "cell_type": "code",
   "execution_count": 4,
   "id": "4030dced",
   "metadata": {
    "ExecuteTime": {
     "end_time": "2024-12-16T08:44:05.717906Z",
     "start_time": "2024-12-16T08:44:05.712638Z"
    }
   },
   "outputs": [],
   "source": [
    "import numpy as np\n",
    "from tensorflow.keras.models import Sequential  # 모델 객체 생성 시 필요\n",
    "from tensorflow.keras.layers import Dense, Input       # 모델 layer 쌓을 때 필요\n",
    "import matplotlib.pyplot as plt"
   ]
  },
  {
   "cell_type": "code",
   "execution_count": 5,
   "id": "6d1f73d1",
   "metadata": {
    "ExecuteTime": {
     "end_time": "2024-12-16T08:53:10.085550Z",
     "start_time": "2024-12-16T08:53:09.700720Z"
    }
   },
   "outputs": [
    {
     "name": "stdout",
     "output_type": "stream",
     "text": [
      "Model: \"sequential\"\n",
      "_________________________________________________________________\n",
      " Layer (type)                Output Shape              Param #   \n",
      "=================================================================\n",
      " dense (Dense)               (None, 10)                30        \n",
      "                                                                 \n",
      " dense_1 (Dense)             (None, 20)                220       \n",
      "                                                                 \n",
      " dense_2 (Dense)             (None, 10)                210       \n",
      "                                                                 \n",
      " dense_3 (Dense)             (None, 1)                 11        \n",
      "                                                                 \n",
      "=================================================================\n",
      "Total params: 471\n",
      "Trainable params: 471\n",
      "Non-trainable params: 0\n",
      "_________________________________________________________________\n",
      "None\n"
     ]
    }
   ],
   "source": [
    "# 1. dataset\n",
    "x_data = np.array([[0, 0],  # inputdata\n",
    "                   [0, 1],\n",
    "                   [1, 0],\n",
    "                   [1, 1]])\n",
    "y_data = np.array([[0],     # outputdata\n",
    "                   [1],\n",
    "                   [1],\n",
    "                   [0]])\n",
    "\n",
    "# 2. 모델 구성\n",
    "model = Sequential()\n",
    "# model.add(Input(shape=2))\n",
    "model.add(Dense(units=10,                         # units=10 : 출력층\n",
    "                input_shape=(2,),                 # input_dim=2, : 2차원  # 입력2 출력10\n",
    "                activation='relu'))               # 1개의 층\n",
    "model.add(Dense(units=20, activation='relu'))     # 은닉층(hidden layer)에서는 input_shape, input_dim 입력 X(자동으로 가져옴)  # 입력10 출력20\n",
    "model.add(Dense(units=10, activation='relu'))     # 입력20 출력10\n",
    "model.add(Dense(units=1,  activation='sigmoid'))  # 입력10 출력1  # 2진분류\n",
    "print(model.summary())\n",
    "# Param input2 units10 3*10  = 30\n",
    "#      input10 units20 11*20 = 220\n",
    "#      input20 units10 21*10 = 210\n",
    "#       input10 units1 11*1  = 11\n",
    "\n",
    "# 3. 모델 학습과정 설정\n",
    "# model.compile(loss='mse', optimizer='adam', metrics=['mae'])  # 회귀식에서 학습과정 설정 시\n",
    "model.compile(loss='binary_crossentropy', optimizer='adam', metrics='binary_accuracy')  # 2진분류\n",
    "# model.compile(loss='categorical_crossentropy', optimizer='adam', metrics='accuracy')  # 다중분류\n",
    "\n",
    "# 4. 학습하기\n"
   ]
  },
  {
   "cell_type": "code",
   "execution_count": null,
   "id": "d3faf6d2",
   "metadata": {},
   "outputs": [],
   "source": []
  },
  {
   "cell_type": "code",
   "execution_count": null,
   "id": "fb0198db",
   "metadata": {},
   "outputs": [],
   "source": []
  },
  {
   "cell_type": "code",
   "execution_count": null,
   "id": "d236acf0",
   "metadata": {},
   "outputs": [],
   "source": []
  },
  {
   "cell_type": "code",
   "execution_count": null,
   "id": "9f68d0a9",
   "metadata": {},
   "outputs": [],
   "source": []
  },
  {
   "cell_type": "code",
   "execution_count": null,
   "id": "9eb545f5",
   "metadata": {},
   "outputs": [],
   "source": []
  },
  {
   "cell_type": "code",
   "execution_count": null,
   "id": "c8266459",
   "metadata": {},
   "outputs": [],
   "source": []
  }
 ],
 "metadata": {
  "kernelspec": {
   "display_name": "Python 3 (ipykernel)",
   "language": "python",
   "name": "python3"
  },
  "language_info": {
   "codemirror_mode": {
    "name": "ipython",
    "version": 3
   },
   "file_extension": ".py",
   "mimetype": "text/x-python",
   "name": "python",
   "nbconvert_exporter": "python",
   "pygments_lexer": "ipython3",
   "version": "3.10.9"
  },
  "toc": {
   "base_numbering": 1,
   "nav_menu": {},
   "number_sections": true,
   "sideBar": true,
   "skip_h1_title": false,
   "title_cell": "Table of Contents",
   "title_sidebar": "Contents",
   "toc_cell": false,
   "toc_position": {
    "height": "calc(100% - 180px)",
    "left": "10px",
    "top": "150px",
    "width": "219.98px"
   },
   "toc_section_display": true,
   "toc_window_display": true
  }
 },
 "nbformat": 4,
 "nbformat_minor": 5
}
