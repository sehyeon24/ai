{
 "cells": [
  {
   "cell_type": "code",
   "execution_count": 2,
   "id": "3a517fd0",
   "metadata": {
    "ExecuteTime": {
     "end_time": "2024-12-13T07:18:59.795796Z",
     "start_time": "2024-12-13T07:18:59.787800Z"
    }
   },
   "outputs": [
    {
     "data": {
      "text/html": [
       "\n",
       "<style>\n",
       "div.container{width:80% !important;}\n",
       "div.prompt {min-width:70px;}\n",
       "div#toc-header{margin-top:150px;}\n",
       "span.toc-item-num{display:none;}\n",
       "div.CodeMirror {font-family:Consolas}\n",
       "div.input {font-family:Consolas}\n",
       "</style>\n"
      ],
      "text/plain": [
       "<IPython.core.display.HTML object>"
      ]
     },
     "metadata": {},
     "output_type": "display_data"
    }
   ],
   "source": [
    "from IPython.display import display, HTML\n",
    "\n",
    "display(\n",
    "    HTML(\"\"\"\n",
    "<style>\n",
    "div.container{width:80% !important;}\n",
    "div.prompt {min-width:70px;}\n",
    "div#toc-header{margin-top:150px;}\n",
    "span.toc-item-num{display:none;}\n",
    "div.CodeMirror {font-family:Consolas}\n",
    "div.input {font-family:Consolas}\n",
    "</style>\n",
    "\"\"\"))"
   ]
  },
  {
   "cell_type": "code",
   "execution_count": 2,
   "id": "2e743775",
   "metadata": {
    "ExecuteTime": {
     "end_time": "2024-12-12T05:21:10.845782Z",
     "start_time": "2024-12-12T05:21:05.393112Z"
    }
   },
   "outputs": [
    {
     "name": "stdout",
     "output_type": "stream",
     "text": [
      "2.10.0\n"
     ]
    },
    {
     "data": {
      "text/plain": [
       "[]"
      ]
     },
     "execution_count": 2,
     "metadata": {},
     "output_type": "execute_result"
    }
   ],
   "source": [
    "# GPU 사용 여부 확인\n",
    "import tensorflow as tf\n",
    "print(tf.__version__)\n",
    "tf.config.list_physical_devices('GPU')"
   ]
  },
  {
   "cell_type": "markdown",
   "id": "edf18382",
   "metadata": {},
   "source": [
    "# 머신러닝/딥러닝 : 데이터의 법칙성을 추출\n",
    "     - 다양한 분야에서 응용 : 글씨인식, 문장분류, 질병진단, 얼굴식별, etc ...\n",
    "     \n",
    "     - 지도학습(회귀, 분석) vs 비지도학습(군집) vs 강화학습(게임)\n",
    "     \n",
    " - 1. 데이터 확보 및 생성 (inputdata, outputdata)\n",
    " - 2. 데이터 전처리 (결측치, 스케일조정, 훈련데이터셋과 검증데이터셋, 시험데이터셋으로 분류, ...)\n",
    " - 3. 모델 구성\n",
    " - 4. 모델 학습 과정 설정 (손실함수, 옵티마이저, 평가지표)\n",
    " - 5. 모델 학습시키기\n",
    " - 6. 모델 평가(시험데이터셋)\n",
    " - 7. 모델 사용(모델 저장 후, 저장된 모델을 이용하여 입력값이 주어지면 예측값 받기)"
   ]
  },
  {
   "cell_type": "markdown",
   "id": "30240646",
   "metadata": {},
   "source": [
    "# 1. 데이터 셋 생성"
   ]
  },
  {
   "cell_type": "markdown",
   "id": "d3bc753c",
   "metadata": {},
   "source": [
    "# 2. 데이터 전처리"
   ]
  },
  {
   "cell_type": "code",
   "execution_count": 37,
   "id": "6c3bb566",
   "metadata": {
    "ExecuteTime": {
     "end_time": "2024-12-12T06:33:35.795618Z",
     "start_time": "2024-12-12T06:33:35.790155Z"
    }
   },
   "outputs": [],
   "source": [
    "# 독립변수가 숫자면 그 숫자일 확률이 종속변수 y(0부터 최댓값까지의 리스트)\n",
    "# 0이 0% 1이 100%\n",
    "# y의 합은 100%여야 함"
   ]
  },
  {
   "cell_type": "code",
   "execution_count": 3,
   "id": "99d5903e",
   "metadata": {
    "ExecuteTime": {
     "end_time": "2024-12-12T05:34:13.078360Z",
     "start_time": "2024-12-12T05:34:13.073362Z"
    }
   },
   "outputs": [],
   "source": [
    "import numpy as np\n",
    "from tensorflow.keras.utils import to_categorical  # 분류분석 시 원핫인코딩\n",
    "from tensorflow.keras.models import Sequential     # 모델 생성\n",
    "from tensorflow.keras.layers import Dense, Input   # 모델에 레이어 추가"
   ]
  },
  {
   "cell_type": "code",
   "execution_count": 4,
   "id": "2bc20bc5",
   "metadata": {
    "ExecuteTime": {
     "end_time": "2024-12-12T05:38:18.660090Z",
     "start_time": "2024-12-12T05:38:18.653094Z"
    }
   },
   "outputs": [],
   "source": [
    "# 학습데이터 == 훈련데이터 : 1차원(독립변수X 하나에 종속변수Y가 하나씩 매칭)\n",
    "X_train = np.array([1, 2, 3, 4, 5, 6, 7, 8, 9] * 10)  # 90개\n",
    "Y_train = np.array([2, 4, 6, 8, 10, 12, 14, 16, 18] * 10)  # 90개\n",
    "\n",
    "# 검증데이터 : 1차원(9개)\n",
    "X_val = np.array([1, 2, 3, 4, 5, 6, 7, 8, 9])\n",
    "Y_val = np.array([2, 4, 6, 8, 10, 12, 14, 16, 18])"
   ]
  },
  {
   "cell_type": "code",
   "execution_count": 18,
   "id": "f9a8ec6c",
   "metadata": {
    "ExecuteTime": {
     "end_time": "2024-12-12T05:55:26.858520Z",
     "start_time": "2024-12-12T05:55:26.850982Z"
    }
   },
   "outputs": [
    {
     "name": "stdout",
     "output_type": "stream",
     "text": [
      "1. 원 데이터 :  ['a' 'b' 'b' 'b' 'c']\n",
      "\n",
      "2. 라벨 인코딩된 데이터 :  [0 1 1 1 2]\n",
      "<class 'numpy.ndarray'>\n",
      "\n",
      "3. 원핫인코딩된 데이터(keras) : \n",
      " [[1. 0. 0.]\n",
      " [0. 1. 0.]\n",
      " [0. 1. 0.]\n",
      " [0. 1. 0.]\n",
      " [0. 0. 1.]]\n"
     ]
    }
   ],
   "source": [
    "# 분류분석을 위한 인코딩 종류\n",
    "data = np.array(['a', 'b', 'b', 'b', 'c'])\n",
    "print('1. 원 데이터 : ', data)\n",
    "print()\n",
    "\n",
    "from sklearn.preprocessing import LabelEncoder\n",
    "le = LabelEncoder()  # 객체 생성\n",
    "labeling_data = le.fit_transform(data)\n",
    "print('2. 라벨 인코딩된 데이터 : ', labeling_data)\n",
    "print(type(labeling_data))  # [] 안에 ','가 없으면 numpy array\n",
    "print()\n",
    "\n",
    "# to_categorical() 에는 라벨링된 데이터만 사용 가능\n",
    "one_hot_encoding_data = to_categorical(labeling_data)\n",
    "print('3. 원핫인코딩된 데이터(keras) : \\n', one_hot_encoding_data)"
   ]
  },
  {
   "cell_type": "code",
   "execution_count": 27,
   "id": "ffd172e6",
   "metadata": {
    "ExecuteTime": {
     "end_time": "2024-12-12T06:15:18.814489Z",
     "start_time": "2024-12-12T06:15:18.800395Z"
    }
   },
   "outputs": [
    {
     "name": "stdout",
     "output_type": "stream",
     "text": [
      "원 데이터 :  [1 2 2 3 2]\n",
      "\n",
      "to_categorical을 이용한 원 핫 인코딩(넘파이 배열) : \n",
      " [[0. 1. 0. 0.]\n",
      " [0. 0. 1. 0.]\n",
      " [0. 0. 1. 0.]\n",
      " [0. 0. 0. 1.]\n",
      " [0. 0. 1. 0.]]\n",
      "\n"
     ]
    },
    {
     "data": {
      "text/plain": [
       "'get_dummies를 이용한 원 핫 인코딩(데이터프레임) : \\n'"
      ]
     },
     "metadata": {},
     "output_type": "display_data"
    },
    {
     "data": {
      "text/html": [
       "<div>\n",
       "<style scoped>\n",
       "    .dataframe tbody tr th:only-of-type {\n",
       "        vertical-align: middle;\n",
       "    }\n",
       "\n",
       "    .dataframe tbody tr th {\n",
       "        vertical-align: top;\n",
       "    }\n",
       "\n",
       "    .dataframe thead th {\n",
       "        text-align: right;\n",
       "    }\n",
       "</style>\n",
       "<table border=\"1\" class=\"dataframe\">\n",
       "  <thead>\n",
       "    <tr style=\"text-align: right;\">\n",
       "      <th></th>\n",
       "      <th>1</th>\n",
       "      <th>2</th>\n",
       "      <th>3</th>\n",
       "    </tr>\n",
       "  </thead>\n",
       "  <tbody>\n",
       "    <tr>\n",
       "      <th>0</th>\n",
       "      <td>1</td>\n",
       "      <td>0</td>\n",
       "      <td>0</td>\n",
       "    </tr>\n",
       "    <tr>\n",
       "      <th>1</th>\n",
       "      <td>0</td>\n",
       "      <td>1</td>\n",
       "      <td>0</td>\n",
       "    </tr>\n",
       "    <tr>\n",
       "      <th>2</th>\n",
       "      <td>0</td>\n",
       "      <td>1</td>\n",
       "      <td>0</td>\n",
       "    </tr>\n",
       "    <tr>\n",
       "      <th>3</th>\n",
       "      <td>0</td>\n",
       "      <td>0</td>\n",
       "      <td>1</td>\n",
       "    </tr>\n",
       "    <tr>\n",
       "      <th>4</th>\n",
       "      <td>0</td>\n",
       "      <td>1</td>\n",
       "      <td>0</td>\n",
       "    </tr>\n",
       "  </tbody>\n",
       "</table>\n",
       "</div>"
      ],
      "text/plain": [
       "   1  2  3\n",
       "0  1  0  0\n",
       "1  0  1  0\n",
       "2  0  1  0\n",
       "3  0  0  1\n",
       "4  0  1  0"
      ]
     },
     "metadata": {},
     "output_type": "display_data"
    }
   ],
   "source": [
    "# 분류분석을 위한 원핫인코딩 방법\n",
    "# to_categorical()을 이용하면 데이터가 1부터 시작해도 0이 자동 생성됨\n",
    "data = np.array([1, 2, 2, 3, 2])\n",
    "print('원 데이터 : ', data)\n",
    "print()\n",
    "\n",
    "categorical_one_hot = to_categorical(data)\n",
    "print('to_categorical을 이용한 원 핫 인코딩(넘파이 배열) : \\n', categorical_one_hot)\n",
    "print()\n",
    "\n",
    "import pandas as pd\n",
    "display('get_dummies를 이용한 원 핫 인코딩(데이터프레임) : \\n', pd.get_dummies(data))"
   ]
  },
  {
   "cell_type": "code",
   "execution_count": 29,
   "id": "92846038",
   "metadata": {
    "ExecuteTime": {
     "end_time": "2024-12-12T06:21:29.042042Z",
     "start_time": "2024-12-12T06:21:29.035831Z"
    }
   },
   "outputs": [
    {
     "data": {
      "text/plain": [
       "(array([2, 4]), array([2, 4]))"
      ]
     },
     "execution_count": 29,
     "metadata": {},
     "output_type": "execute_result"
    }
   ],
   "source": [
    "Y_train[:2], Y_val[:2]"
   ]
  },
  {
   "cell_type": "code",
   "execution_count": 30,
   "id": "feecc999",
   "metadata": {
    "ExecuteTime": {
     "end_time": "2024-12-12T06:22:01.793276Z",
     "start_time": "2024-12-12T06:22:01.788280Z"
    }
   },
   "outputs": [],
   "source": [
    "# 븐류분석을 위한 종속변수(target 변수)를 원핫인코딩\n",
    "Y_train = to_categorical(Y_train, 19)  # Y데이터의 최대값이 18이므로 19개\n",
    "Y_val   = to_categorical(Y_val)"
   ]
  },
  {
   "cell_type": "code",
   "execution_count": 31,
   "id": "3aa9acbc",
   "metadata": {
    "ExecuteTime": {
     "end_time": "2024-12-12T06:22:05.753394Z",
     "start_time": "2024-12-12T06:22:05.747395Z"
    }
   },
   "outputs": [
    {
     "data": {
      "text/plain": [
       "array([[0., 0., 1., 0., 0., 0., 0., 0., 0., 0., 0., 0., 0., 0., 0., 0.,\n",
       "        0., 0., 0.],\n",
       "       [0., 0., 0., 0., 1., 0., 0., 0., 0., 0., 0., 0., 0., 0., 0., 0.,\n",
       "        0., 0., 0.]], dtype=float32)"
      ]
     },
     "execution_count": 31,
     "metadata": {},
     "output_type": "execute_result"
    }
   ],
   "source": [
    "Y_train[:2]  # 종속변수 전체를 합하면 1"
   ]
  },
  {
   "cell_type": "code",
   "execution_count": 35,
   "id": "7f0e9590",
   "metadata": {
    "ExecuteTime": {
     "end_time": "2024-12-12T06:28:54.214742Z",
     "start_time": "2024-12-12T06:28:54.208745Z"
    }
   },
   "outputs": [
    {
     "name": "stdout",
     "output_type": "stream",
     "text": [
      "(90,)\n",
      "(90, 19)\n",
      "(9,)\n",
      "(9, 19)\n"
     ]
    }
   ],
   "source": [
    "print(X_train.shape)  # 1차원 독립변수 90개\n",
    "print(Y_train.shape)  # 1차원 독립변수 90개 종속변수 19개\n",
    "print(X_val.shape)\n",
    "print(Y_val.shape)"
   ]
  },
  {
   "cell_type": "code",
   "execution_count": 38,
   "id": "fb864af9",
   "metadata": {
    "ExecuteTime": {
     "end_time": "2024-12-12T06:34:49.125136Z",
     "start_time": "2024-12-12T06:34:49.117139Z"
    }
   },
   "outputs": [
    {
     "data": {
      "text/plain": [
       "array([1, 2])"
      ]
     },
     "execution_count": 38,
     "metadata": {},
     "output_type": "execute_result"
    }
   ],
   "source": [
    "X_train[:2]"
   ]
  },
  {
   "cell_type": "code",
   "execution_count": 39,
   "id": "05bcdc2c",
   "metadata": {
    "ExecuteTime": {
     "end_time": "2024-12-12T06:34:54.187929Z",
     "start_time": "2024-12-12T06:34:54.180929Z"
    }
   },
   "outputs": [
    {
     "data": {
      "text/plain": [
       "array([[0., 0., 1., 0., 0., 0., 0., 0., 0., 0., 0., 0., 0., 0., 0., 0.,\n",
       "        0., 0., 0.],\n",
       "       [0., 0., 0., 0., 1., 0., 0., 0., 0., 0., 0., 0., 0., 0., 0., 0.,\n",
       "        0., 0., 0.]], dtype=float32)"
      ]
     },
     "execution_count": 39,
     "metadata": {},
     "output_type": "execute_result"
    }
   ],
   "source": [
    "Y_train[:2]"
   ]
  },
  {
   "cell_type": "markdown",
   "id": "313b2057",
   "metadata": {},
   "source": [
    "# 3. 모델 구성"
   ]
  },
  {
   "cell_type": "code",
   "execution_count": 40,
   "id": "034c3cb7",
   "metadata": {
    "ExecuteTime": {
     "end_time": "2024-12-12T06:51:43.933611Z",
     "start_time": "2024-12-12T06:51:43.796752Z"
    }
   },
   "outputs": [
    {
     "name": "stdout",
     "output_type": "stream",
     "text": [
      "Model: \"sequential\"\n",
      "_________________________________________________________________\n",
      " Layer (type)                Output Shape              Param #   \n",
      "=================================================================\n",
      " dense (Dense)               (None, 38)                76        \n",
      "                                                                 \n",
      " dense_1 (Dense)             (None, 64)                2496      \n",
      "                                                                 \n",
      " dense_2 (Dense)             (None, 32)                2080      \n",
      "                                                                 \n",
      " dense_3 (Dense)             (None, 19)                627       \n",
      "                                                                 \n",
      "=================================================================\n",
      "Total params: 5,279\n",
      "Trainable params: 5,279\n",
      "Non-trainable params: 0\n",
      "_________________________________________________________________\n",
      "None\n"
     ]
    }
   ],
   "source": [
    "model = Sequential()\n",
    "model.add(Input(shape=(1,)))  # 1 layer (1차원)\n",
    "# Dense 생성 시 layer 1씩 추가됨\n",
    "# ↓ hiddenlayer\n",
    "model.add(Dense(units=38, activation='sigmoid'))  # 38*2 = 76\n",
    "model.add(Dense(units=64, activation='elu'))      # 39*64 = 2496\n",
    "model.add(Dense(units=32, activation='elu'))      # 65*32 = 2080\n",
    "# 입력 1개로 최종적으로 19개를 출력\n",
    "model.add(Dense(units=19, activation='softmax'))  # 33*19 = 627\n",
    "# units= : 출력 갯수\n",
    "# activation='' : 활성화 함수\n",
    "# Input 1개, units 갯수만큼 출력\n",
    "# activation='softmax' : 모든 출력의 합이 1이 됨. 분류분석의 마지막 layer에서 activation 함수로 사용\n",
    "\n",
    "print(model.summary())"
   ]
  },
  {
   "cell_type": "markdown",
   "id": "aa955676",
   "metadata": {},
   "source": [
    "# 4. 모델 학습과정 설정\n",
    " - 손실함수, 옵티마이저, 평가지표\n",
    "     * loss='categorical_crossentropy' : 딥러닝 훈련 시 다중분류분석에서의 손실함수\n",
    "         * 모델의 예측 확률 분포와 실제값의 확률 분포가 얼마나 다른지 계산\n",
    "     * metrics=['accuracy'] : 정확도"
   ]
  },
  {
   "cell_type": "code",
   "execution_count": 42,
   "id": "40e325a1",
   "metadata": {
    "ExecuteTime": {
     "end_time": "2024-12-12T07:03:49.873582Z",
     "start_time": "2024-12-12T07:03:49.839138Z"
    }
   },
   "outputs": [],
   "source": [
    "model.compile(loss='categorical_crossentropy', optimizer='adam', metrics=['accuracy'])"
   ]
  },
  {
   "cell_type": "markdown",
   "id": "0c0d138b",
   "metadata": {},
   "source": [
    "# 5. 모델 학습시키기"
   ]
  },
  {
   "cell_type": "code",
   "execution_count": 43,
   "id": "297a0982",
   "metadata": {
    "ExecuteTime": {
     "end_time": "2024-12-12T07:26:09.068148Z",
     "start_time": "2024-12-12T07:25:54.996791Z"
    }
   },
   "outputs": [
    {
     "name": "stdout",
     "output_type": "stream",
     "text": [
      "Epoch 1/300\n",
      "9/9 - 1s - loss: 2.9876 - accuracy: 0.0889 - val_loss: 2.6827 - val_accuracy: 0.1111 - 855ms/epoch - 95ms/step\n",
      "Epoch 2/300\n",
      "9/9 - 0s - loss: 2.5544 - accuracy: 0.1444 - val_loss: 2.4057 - val_accuracy: 0.2222 - 42ms/epoch - 5ms/step\n",
      "Epoch 3/300\n",
      "9/9 - 0s - loss: 2.3382 - accuracy: 0.2222 - val_loss: 2.2360 - val_accuracy: 0.2222 - 41ms/epoch - 5ms/step\n",
      "Epoch 4/300\n",
      "9/9 - 0s - loss: 2.1927 - accuracy: 0.1778 - val_loss: 2.1249 - val_accuracy: 0.2222 - 45ms/epoch - 5ms/step\n",
      "Epoch 5/300\n",
      "9/9 - 0s - loss: 2.0956 - accuracy: 0.2111 - val_loss: 2.0354 - val_accuracy: 0.2222 - 42ms/epoch - 5ms/step\n",
      "Epoch 6/300\n",
      "9/9 - 0s - loss: 2.0195 - accuracy: 0.2222 - val_loss: 1.9574 - val_accuracy: 0.2222 - 40ms/epoch - 4ms/step\n",
      "Epoch 7/300\n",
      "9/9 - 0s - loss: 1.9373 - accuracy: 0.2667 - val_loss: 1.8878 - val_accuracy: 0.3333 - 41ms/epoch - 5ms/step\n",
      "Epoch 8/300\n",
      "9/9 - 0s - loss: 1.8697 - accuracy: 0.2778 - val_loss: 1.8183 - val_accuracy: 0.3333 - 43ms/epoch - 5ms/step\n",
      "Epoch 9/300\n",
      "9/9 - 0s - loss: 1.8030 - accuracy: 0.2889 - val_loss: 1.7514 - val_accuracy: 0.3333 - 42ms/epoch - 5ms/step\n",
      "Epoch 10/300\n",
      "9/9 - 0s - loss: 1.7334 - accuracy: 0.3000 - val_loss: 1.6915 - val_accuracy: 0.3333 - 41ms/epoch - 5ms/step\n",
      "Epoch 11/300\n",
      "9/9 - 0s - loss: 1.6715 - accuracy: 0.3444 - val_loss: 1.6296 - val_accuracy: 0.3333 - 42ms/epoch - 5ms/step\n",
      "Epoch 12/300\n",
      "9/9 - 0s - loss: 1.6265 - accuracy: 0.2444 - val_loss: 1.5768 - val_accuracy: 0.4444 - 41ms/epoch - 5ms/step\n",
      "Epoch 13/300\n",
      "9/9 - 0s - loss: 1.5625 - accuracy: 0.4556 - val_loss: 1.5207 - val_accuracy: 0.4444 - 41ms/epoch - 5ms/step\n",
      "Epoch 14/300\n",
      "9/9 - 0s - loss: 1.5120 - accuracy: 0.4667 - val_loss: 1.4719 - val_accuracy: 0.4444 - 42ms/epoch - 5ms/step\n",
      "Epoch 15/300\n",
      "9/9 - 0s - loss: 1.4605 - accuracy: 0.4444 - val_loss: 1.4258 - val_accuracy: 0.4444 - 40ms/epoch - 4ms/step\n",
      "Epoch 16/300\n",
      "9/9 - 0s - loss: 1.4202 - accuracy: 0.4333 - val_loss: 1.3840 - val_accuracy: 0.5556 - 42ms/epoch - 5ms/step\n",
      "Epoch 17/300\n",
      "9/9 - 0s - loss: 1.3794 - accuracy: 0.5111 - val_loss: 1.3421 - val_accuracy: 0.5556 - 41ms/epoch - 5ms/step\n",
      "Epoch 18/300\n",
      "9/9 - 0s - loss: 1.3429 - accuracy: 0.5333 - val_loss: 1.3050 - val_accuracy: 0.5556 - 42ms/epoch - 5ms/step\n",
      "Epoch 19/300\n",
      "9/9 - 0s - loss: 1.2949 - accuracy: 0.6000 - val_loss: 1.2679 - val_accuracy: 0.6667 - 42ms/epoch - 5ms/step\n",
      "Epoch 20/300\n",
      "9/9 - 0s - loss: 1.2645 - accuracy: 0.6111 - val_loss: 1.2342 - val_accuracy: 0.5556 - 42ms/epoch - 5ms/step\n",
      "Epoch 21/300\n",
      "9/9 - 0s - loss: 1.2478 - accuracy: 0.4778 - val_loss: 1.2044 - val_accuracy: 0.5556 - 42ms/epoch - 5ms/step\n",
      "Epoch 22/300\n",
      "9/9 - 0s - loss: 1.2012 - accuracy: 0.6333 - val_loss: 1.1715 - val_accuracy: 0.6667 - 42ms/epoch - 5ms/step\n",
      "Epoch 23/300\n",
      "9/9 - 0s - loss: 1.1785 - accuracy: 0.5222 - val_loss: 1.1491 - val_accuracy: 0.4444 - 40ms/epoch - 4ms/step\n",
      "Epoch 24/300\n",
      "9/9 - 0s - loss: 1.1477 - accuracy: 0.6556 - val_loss: 1.1159 - val_accuracy: 0.7778 - 41ms/epoch - 5ms/step\n",
      "Epoch 25/300\n",
      "9/9 - 0s - loss: 1.1159 - accuracy: 0.6889 - val_loss: 1.0872 - val_accuracy: 0.7778 - 27ms/epoch - 3ms/step\n",
      "Epoch 26/300\n",
      "9/9 - 0s - loss: 1.0880 - accuracy: 0.7667 - val_loss: 1.0603 - val_accuracy: 0.8889 - 42ms/epoch - 5ms/step\n",
      "Epoch 27/300\n",
      "9/9 - 0s - loss: 1.0663 - accuracy: 0.7889 - val_loss: 1.0377 - val_accuracy: 0.8889 - 53ms/epoch - 6ms/step\n",
      "Epoch 28/300\n",
      "9/9 - 0s - loss: 1.0356 - accuracy: 0.8556 - val_loss: 1.0138 - val_accuracy: 0.7778 - 39ms/epoch - 4ms/step\n",
      "Epoch 29/300\n",
      "9/9 - 0s - loss: 1.0138 - accuracy: 0.7889 - val_loss: 0.9867 - val_accuracy: 0.8889 - 40ms/epoch - 4ms/step\n",
      "Epoch 30/300\n",
      "9/9 - 0s - loss: 0.9983 - accuracy: 0.9111 - val_loss: 0.9659 - val_accuracy: 0.8889 - 41ms/epoch - 5ms/step\n",
      "Epoch 31/300\n",
      "9/9 - 0s - loss: 0.9699 - accuracy: 0.8333 - val_loss: 0.9390 - val_accuracy: 0.8889 - 41ms/epoch - 5ms/step\n",
      "Epoch 32/300\n",
      "9/9 - 0s - loss: 0.9428 - accuracy: 0.8222 - val_loss: 0.9183 - val_accuracy: 0.8889 - 29ms/epoch - 3ms/step\n",
      "Epoch 33/300\n",
      "9/9 - 0s - loss: 0.9267 - accuracy: 0.8889 - val_loss: 0.8966 - val_accuracy: 1.0000 - 40ms/epoch - 4ms/step\n",
      "Epoch 34/300\n",
      "9/9 - 0s - loss: 0.9069 - accuracy: 0.8889 - val_loss: 0.8772 - val_accuracy: 0.8889 - 41ms/epoch - 5ms/step\n",
      "Epoch 35/300\n",
      "9/9 - 0s - loss: 0.8762 - accuracy: 0.8889 - val_loss: 0.8569 - val_accuracy: 0.8889 - 42ms/epoch - 5ms/step\n",
      "Epoch 36/300\n",
      "9/9 - 0s - loss: 0.8668 - accuracy: 0.9556 - val_loss: 0.8366 - val_accuracy: 1.0000 - 42ms/epoch - 5ms/step\n",
      "Epoch 37/300\n",
      "9/9 - 0s - loss: 0.8402 - accuracy: 0.9889 - val_loss: 0.8133 - val_accuracy: 1.0000 - 27ms/epoch - 3ms/step\n",
      "Epoch 38/300\n",
      "9/9 - 0s - loss: 0.8149 - accuracy: 0.9111 - val_loss: 0.7930 - val_accuracy: 0.8889 - 42ms/epoch - 5ms/step\n",
      "Epoch 39/300\n",
      "9/9 - 0s - loss: 0.7952 - accuracy: 0.8889 - val_loss: 0.7759 - val_accuracy: 0.8889 - 42ms/epoch - 5ms/step\n",
      "Epoch 40/300\n",
      "9/9 - 0s - loss: 0.7822 - accuracy: 0.9444 - val_loss: 0.7569 - val_accuracy: 1.0000 - 34ms/epoch - 4ms/step\n",
      "Epoch 41/300\n",
      "9/9 - 0s - loss: 0.7687 - accuracy: 0.8889 - val_loss: 0.7390 - val_accuracy: 0.8889 - 40ms/epoch - 4ms/step\n",
      "Epoch 42/300\n",
      "9/9 - 0s - loss: 0.7410 - accuracy: 0.9111 - val_loss: 0.7226 - val_accuracy: 1.0000 - 48ms/epoch - 5ms/step\n",
      "Epoch 43/300\n",
      "9/9 - 0s - loss: 0.7231 - accuracy: 1.0000 - val_loss: 0.7031 - val_accuracy: 1.0000 - 43ms/epoch - 5ms/step\n",
      "Epoch 44/300\n",
      "9/9 - 0s - loss: 0.7062 - accuracy: 0.9000 - val_loss: 0.6826 - val_accuracy: 0.8889 - 41ms/epoch - 5ms/step\n",
      "Epoch 45/300\n",
      "9/9 - 0s - loss: 0.6882 - accuracy: 0.8667 - val_loss: 0.6694 - val_accuracy: 0.8889 - 39ms/epoch - 4ms/step\n",
      "Epoch 46/300\n",
      "9/9 - 0s - loss: 0.6811 - accuracy: 0.9000 - val_loss: 0.6499 - val_accuracy: 1.0000 - 34ms/epoch - 4ms/step\n",
      "Epoch 47/300\n",
      "9/9 - 0s - loss: 0.6563 - accuracy: 0.9111 - val_loss: 0.6397 - val_accuracy: 0.8889 - 53ms/epoch - 6ms/step\n",
      "Epoch 48/300\n",
      "9/9 - 0s - loss: 0.6414 - accuracy: 0.8889 - val_loss: 0.6171 - val_accuracy: 0.8889 - 46ms/epoch - 5ms/step\n",
      "Epoch 49/300\n",
      "9/9 - 0s - loss: 0.6226 - accuracy: 0.9000 - val_loss: 0.6021 - val_accuracy: 1.0000 - 44ms/epoch - 5ms/step\n",
      "Epoch 50/300\n",
      "9/9 - 0s - loss: 0.6243 - accuracy: 0.9333 - val_loss: 0.5929 - val_accuracy: 0.8889 - 40ms/epoch - 4ms/step\n",
      "Epoch 51/300\n",
      "9/9 - 0s - loss: 0.5955 - accuracy: 0.9778 - val_loss: 0.5711 - val_accuracy: 1.0000 - 40ms/epoch - 4ms/step\n",
      "Epoch 52/300\n",
      "9/9 - 0s - loss: 0.5943 - accuracy: 0.8889 - val_loss: 0.5577 - val_accuracy: 1.0000 - 38ms/epoch - 4ms/step\n",
      "Epoch 53/300\n",
      "9/9 - 0s - loss: 0.5507 - accuracy: 1.0000 - val_loss: 0.5373 - val_accuracy: 1.0000 - 41ms/epoch - 5ms/step\n",
      "Epoch 54/300\n",
      "9/9 - 0s - loss: 0.5443 - accuracy: 1.0000 - val_loss: 0.5241 - val_accuracy: 1.0000 - 40ms/epoch - 4ms/step\n",
      "Epoch 55/300\n",
      "9/9 - 0s - loss: 0.5181 - accuracy: 0.9667 - val_loss: 0.5072 - val_accuracy: 1.0000 - 40ms/epoch - 4ms/step\n",
      "Epoch 56/300\n",
      "9/9 - 0s - loss: 0.5138 - accuracy: 0.9667 - val_loss: 0.4923 - val_accuracy: 1.0000 - 35ms/epoch - 4ms/step\n",
      "Epoch 57/300\n",
      "9/9 - 0s - loss: 0.4944 - accuracy: 1.0000 - val_loss: 0.4783 - val_accuracy: 1.0000 - 62ms/epoch - 7ms/step\n",
      "Epoch 58/300\n",
      "9/9 - 0s - loss: 0.4900 - accuracy: 1.0000 - val_loss: 0.4664 - val_accuracy: 1.0000 - 35ms/epoch - 4ms/step\n",
      "Epoch 59/300\n",
      "9/9 - 0s - loss: 0.4583 - accuracy: 1.0000 - val_loss: 0.4489 - val_accuracy: 1.0000 - 44ms/epoch - 5ms/step\n",
      "Epoch 60/300\n",
      "9/9 - 0s - loss: 0.4580 - accuracy: 1.0000 - val_loss: 0.4377 - val_accuracy: 1.0000 - 38ms/epoch - 4ms/step\n",
      "Epoch 61/300\n",
      "9/9 - 0s - loss: 0.4482 - accuracy: 1.0000 - val_loss: 0.4270 - val_accuracy: 1.0000 - 41ms/epoch - 5ms/step\n",
      "Epoch 62/300\n",
      "9/9 - 0s - loss: 0.4211 - accuracy: 1.0000 - val_loss: 0.4092 - val_accuracy: 1.0000 - 41ms/epoch - 5ms/step\n",
      "Epoch 63/300\n",
      "9/9 - 0s - loss: 0.4208 - accuracy: 0.9667 - val_loss: 0.4087 - val_accuracy: 0.8889 - 40ms/epoch - 4ms/step\n",
      "Epoch 64/300\n",
      "9/9 - 0s - loss: 0.4046 - accuracy: 0.9889 - val_loss: 0.3870 - val_accuracy: 1.0000 - 41ms/epoch - 5ms/step\n",
      "Epoch 65/300\n",
      "9/9 - 0s - loss: 0.3889 - accuracy: 1.0000 - val_loss: 0.3798 - val_accuracy: 1.0000 - 39ms/epoch - 4ms/step\n",
      "Epoch 66/300\n",
      "9/9 - 0s - loss: 0.3911 - accuracy: 0.9444 - val_loss: 0.3738 - val_accuracy: 1.0000 - 41ms/epoch - 5ms/step\n",
      "Epoch 67/300\n",
      "9/9 - 0s - loss: 0.3633 - accuracy: 1.0000 - val_loss: 0.3561 - val_accuracy: 1.0000 - 40ms/epoch - 4ms/step\n",
      "Epoch 68/300\n",
      "9/9 - 0s - loss: 0.3801 - accuracy: 0.9667 - val_loss: 0.3452 - val_accuracy: 1.0000 - 40ms/epoch - 4ms/step\n"
     ]
    },
    {
     "name": "stdout",
     "output_type": "stream",
     "text": [
      "Epoch 69/300\n",
      "9/9 - 0s - loss: 0.3607 - accuracy: 0.9667 - val_loss: 0.3403 - val_accuracy: 1.0000 - 34ms/epoch - 4ms/step\n",
      "Epoch 70/300\n",
      "9/9 - 0s - loss: 0.3527 - accuracy: 1.0000 - val_loss: 0.3264 - val_accuracy: 1.0000 - 40ms/epoch - 4ms/step\n",
      "Epoch 71/300\n",
      "9/9 - 0s - loss: 0.3323 - accuracy: 1.0000 - val_loss: 0.3131 - val_accuracy: 1.0000 - 47ms/epoch - 5ms/step\n",
      "Epoch 72/300\n",
      "9/9 - 0s - loss: 0.3206 - accuracy: 1.0000 - val_loss: 0.3064 - val_accuracy: 1.0000 - 35ms/epoch - 4ms/step\n",
      "Epoch 73/300\n",
      "9/9 - 0s - loss: 0.3048 - accuracy: 1.0000 - val_loss: 0.2959 - val_accuracy: 1.0000 - 38ms/epoch - 4ms/step\n",
      "Epoch 74/300\n",
      "9/9 - 0s - loss: 0.2965 - accuracy: 1.0000 - val_loss: 0.2849 - val_accuracy: 1.0000 - 40ms/epoch - 4ms/step\n",
      "Epoch 75/300\n",
      "9/9 - 0s - loss: 0.2933 - accuracy: 1.0000 - val_loss: 0.2884 - val_accuracy: 1.0000 - 37ms/epoch - 4ms/step\n",
      "Epoch 76/300\n",
      "9/9 - 0s - loss: 0.2906 - accuracy: 1.0000 - val_loss: 0.2739 - val_accuracy: 1.0000 - 35ms/epoch - 4ms/step\n",
      "Epoch 77/300\n",
      "9/9 - 0s - loss: 0.2768 - accuracy: 1.0000 - val_loss: 0.2686 - val_accuracy: 1.0000 - 48ms/epoch - 5ms/step\n",
      "Epoch 78/300\n",
      "9/9 - 0s - loss: 0.2623 - accuracy: 1.0000 - val_loss: 0.2544 - val_accuracy: 1.0000 - 40ms/epoch - 4ms/step\n",
      "Epoch 79/300\n",
      "9/9 - 0s - loss: 0.2560 - accuracy: 1.0000 - val_loss: 0.2472 - val_accuracy: 1.0000 - 36ms/epoch - 4ms/step\n",
      "Epoch 80/300\n",
      "9/9 - 0s - loss: 0.2455 - accuracy: 1.0000 - val_loss: 0.2396 - val_accuracy: 1.0000 - 35ms/epoch - 4ms/step\n",
      "Epoch 81/300\n",
      "9/9 - 0s - loss: 0.2462 - accuracy: 1.0000 - val_loss: 0.2329 - val_accuracy: 1.0000 - 47ms/epoch - 5ms/step\n",
      "Epoch 82/300\n",
      "9/9 - 0s - loss: 0.2333 - accuracy: 1.0000 - val_loss: 0.2256 - val_accuracy: 1.0000 - 39ms/epoch - 4ms/step\n",
      "Epoch 83/300\n",
      "9/9 - 0s - loss: 0.2286 - accuracy: 1.0000 - val_loss: 0.2170 - val_accuracy: 1.0000 - 40ms/epoch - 4ms/step\n",
      "Epoch 84/300\n",
      "9/9 - 0s - loss: 0.2175 - accuracy: 1.0000 - val_loss: 0.2098 - val_accuracy: 1.0000 - 40ms/epoch - 4ms/step\n",
      "Epoch 85/300\n",
      "9/9 - 0s - loss: 0.2118 - accuracy: 1.0000 - val_loss: 0.2030 - val_accuracy: 1.0000 - 41ms/epoch - 5ms/step\n",
      "Epoch 86/300\n",
      "9/9 - 0s - loss: 0.2086 - accuracy: 1.0000 - val_loss: 0.1987 - val_accuracy: 1.0000 - 42ms/epoch - 5ms/step\n",
      "Epoch 87/300\n",
      "9/9 - 0s - loss: 0.1998 - accuracy: 1.0000 - val_loss: 0.1908 - val_accuracy: 1.0000 - 42ms/epoch - 5ms/step\n",
      "Epoch 88/300\n",
      "9/9 - 0s - loss: 0.1947 - accuracy: 1.0000 - val_loss: 0.1840 - val_accuracy: 1.0000 - 41ms/epoch - 5ms/step\n",
      "Epoch 89/300\n",
      "9/9 - 0s - loss: 0.1831 - accuracy: 1.0000 - val_loss: 0.1785 - val_accuracy: 1.0000 - 41ms/epoch - 5ms/step\n",
      "Epoch 90/300\n",
      "9/9 - 0s - loss: 0.1792 - accuracy: 1.0000 - val_loss: 0.1728 - val_accuracy: 1.0000 - 38ms/epoch - 4ms/step\n",
      "Epoch 91/300\n",
      "9/9 - 0s - loss: 0.1711 - accuracy: 1.0000 - val_loss: 0.1665 - val_accuracy: 1.0000 - 41ms/epoch - 5ms/step\n",
      "Epoch 92/300\n",
      "9/9 - 0s - loss: 0.1675 - accuracy: 1.0000 - val_loss: 0.1614 - val_accuracy: 1.0000 - 40ms/epoch - 4ms/step\n",
      "Epoch 93/300\n",
      "9/9 - 0s - loss: 0.1642 - accuracy: 1.0000 - val_loss: 0.1562 - val_accuracy: 1.0000 - 40ms/epoch - 4ms/step\n",
      "Epoch 94/300\n",
      "9/9 - 0s - loss: 0.1572 - accuracy: 1.0000 - val_loss: 0.1547 - val_accuracy: 1.0000 - 40ms/epoch - 4ms/step\n",
      "Epoch 95/300\n",
      "9/9 - 0s - loss: 0.1525 - accuracy: 1.0000 - val_loss: 0.1477 - val_accuracy: 1.0000 - 45ms/epoch - 5ms/step\n",
      "Epoch 96/300\n",
      "9/9 - 0s - loss: 0.1516 - accuracy: 1.0000 - val_loss: 0.1418 - val_accuracy: 1.0000 - 49ms/epoch - 5ms/step\n",
      "Epoch 97/300\n",
      "9/9 - 0s - loss: 0.1430 - accuracy: 1.0000 - val_loss: 0.1395 - val_accuracy: 1.0000 - 50ms/epoch - 6ms/step\n",
      "Epoch 98/300\n",
      "9/9 - 0s - loss: 0.1394 - accuracy: 1.0000 - val_loss: 0.1337 - val_accuracy: 1.0000 - 41ms/epoch - 5ms/step\n",
      "Epoch 99/300\n",
      "9/9 - 0s - loss: 0.1363 - accuracy: 1.0000 - val_loss: 0.1287 - val_accuracy: 1.0000 - 50ms/epoch - 6ms/step\n",
      "Epoch 100/300\n",
      "9/9 - 0s - loss: 0.1307 - accuracy: 1.0000 - val_loss: 0.1277 - val_accuracy: 1.0000 - 50ms/epoch - 6ms/step\n",
      "Epoch 101/300\n",
      "9/9 - 0s - loss: 0.1265 - accuracy: 1.0000 - val_loss: 0.1221 - val_accuracy: 1.0000 - 56ms/epoch - 6ms/step\n",
      "Epoch 102/300\n",
      "9/9 - 0s - loss: 0.1225 - accuracy: 1.0000 - val_loss: 0.1167 - val_accuracy: 1.0000 - 46ms/epoch - 5ms/step\n",
      "Epoch 103/300\n",
      "9/9 - 0s - loss: 0.1181 - accuracy: 1.0000 - val_loss: 0.1152 - val_accuracy: 1.0000 - 45ms/epoch - 5ms/step\n",
      "Epoch 104/300\n",
      "9/9 - 0s - loss: 0.1151 - accuracy: 1.0000 - val_loss: 0.1108 - val_accuracy: 1.0000 - 43ms/epoch - 5ms/step\n",
      "Epoch 105/300\n",
      "9/9 - 0s - loss: 0.1092 - accuracy: 1.0000 - val_loss: 0.1059 - val_accuracy: 1.0000 - 42ms/epoch - 5ms/step\n",
      "Epoch 106/300\n",
      "9/9 - 0s - loss: 0.1068 - accuracy: 1.0000 - val_loss: 0.1028 - val_accuracy: 1.0000 - 40ms/epoch - 4ms/step\n",
      "Epoch 107/300\n",
      "9/9 - 0s - loss: 0.1033 - accuracy: 1.0000 - val_loss: 0.0996 - val_accuracy: 1.0000 - 43ms/epoch - 5ms/step\n",
      "Epoch 108/300\n",
      "9/9 - 0s - loss: 0.0999 - accuracy: 1.0000 - val_loss: 0.0960 - val_accuracy: 1.0000 - 45ms/epoch - 5ms/step\n",
      "Epoch 109/300\n",
      "9/9 - 0s - loss: 0.0970 - accuracy: 1.0000 - val_loss: 0.0931 - val_accuracy: 1.0000 - 44ms/epoch - 5ms/step\n",
      "Epoch 110/300\n",
      "9/9 - 0s - loss: 0.0970 - accuracy: 1.0000 - val_loss: 0.0906 - val_accuracy: 1.0000 - 39ms/epoch - 4ms/step\n",
      "Epoch 111/300\n",
      "9/9 - 0s - loss: 0.0924 - accuracy: 1.0000 - val_loss: 0.0887 - val_accuracy: 1.0000 - 41ms/epoch - 5ms/step\n",
      "Epoch 112/300\n",
      "9/9 - 0s - loss: 0.0883 - accuracy: 1.0000 - val_loss: 0.0864 - val_accuracy: 1.0000 - 40ms/epoch - 4ms/step\n",
      "Epoch 113/300\n",
      "9/9 - 0s - loss: 0.0847 - accuracy: 1.0000 - val_loss: 0.0834 - val_accuracy: 1.0000 - 42ms/epoch - 5ms/step\n",
      "Epoch 114/300\n",
      "9/9 - 0s - loss: 0.0893 - accuracy: 1.0000 - val_loss: 0.0799 - val_accuracy: 1.0000 - 40ms/epoch - 4ms/step\n",
      "Epoch 115/300\n",
      "9/9 - 0s - loss: 0.0835 - accuracy: 1.0000 - val_loss: 0.0786 - val_accuracy: 1.0000 - 39ms/epoch - 4ms/step\n",
      "Epoch 116/300\n",
      "9/9 - 0s - loss: 0.0806 - accuracy: 1.0000 - val_loss: 0.0776 - val_accuracy: 1.0000 - 44ms/epoch - 5ms/step\n",
      "Epoch 117/300\n",
      "9/9 - 0s - loss: 0.0785 - accuracy: 1.0000 - val_loss: 0.0774 - val_accuracy: 1.0000 - 41ms/epoch - 5ms/step\n",
      "Epoch 118/300\n",
      "9/9 - 0s - loss: 0.0756 - accuracy: 1.0000 - val_loss: 0.0714 - val_accuracy: 1.0000 - 41ms/epoch - 5ms/step\n",
      "Epoch 119/300\n",
      "9/9 - 0s - loss: 0.0722 - accuracy: 1.0000 - val_loss: 0.0700 - val_accuracy: 1.0000 - 61ms/epoch - 7ms/step\n",
      "Epoch 120/300\n",
      "9/9 - 0s - loss: 0.0694 - accuracy: 1.0000 - val_loss: 0.0664 - val_accuracy: 1.0000 - 39ms/epoch - 4ms/step\n",
      "Epoch 121/300\n",
      "9/9 - 0s - loss: 0.0678 - accuracy: 1.0000 - val_loss: 0.0641 - val_accuracy: 1.0000 - 39ms/epoch - 4ms/step\n",
      "Epoch 122/300\n",
      "9/9 - 0s - loss: 0.0643 - accuracy: 1.0000 - val_loss: 0.0621 - val_accuracy: 1.0000 - 61ms/epoch - 7ms/step\n",
      "Epoch 123/300\n",
      "9/9 - 0s - loss: 0.0624 - accuracy: 1.0000 - val_loss: 0.0604 - val_accuracy: 1.0000 - 46ms/epoch - 5ms/step\n",
      "Epoch 124/300\n",
      "9/9 - 0s - loss: 0.0602 - accuracy: 1.0000 - val_loss: 0.0587 - val_accuracy: 1.0000 - 42ms/epoch - 5ms/step\n",
      "Epoch 125/300\n",
      "9/9 - 0s - loss: 0.0595 - accuracy: 1.0000 - val_loss: 0.0570 - val_accuracy: 1.0000 - 40ms/epoch - 4ms/step\n",
      "Epoch 126/300\n",
      "9/9 - 0s - loss: 0.0589 - accuracy: 1.0000 - val_loss: 0.0558 - val_accuracy: 1.0000 - 42ms/epoch - 5ms/step\n",
      "Epoch 127/300\n",
      "9/9 - 0s - loss: 0.0554 - accuracy: 1.0000 - val_loss: 0.0540 - val_accuracy: 1.0000 - 43ms/epoch - 5ms/step\n",
      "Epoch 128/300\n",
      "9/9 - 0s - loss: 0.0539 - accuracy: 1.0000 - val_loss: 0.0522 - val_accuracy: 1.0000 - 39ms/epoch - 4ms/step\n",
      "Epoch 129/300\n",
      "9/9 - 0s - loss: 0.0521 - accuracy: 1.0000 - val_loss: 0.0509 - val_accuracy: 1.0000 - 45ms/epoch - 5ms/step\n",
      "Epoch 130/300\n",
      "9/9 - 0s - loss: 0.0506 - accuracy: 1.0000 - val_loss: 0.0493 - val_accuracy: 1.0000 - 42ms/epoch - 5ms/step\n",
      "Epoch 131/300\n",
      "9/9 - 0s - loss: 0.0491 - accuracy: 1.0000 - val_loss: 0.0479 - val_accuracy: 1.0000 - 42ms/epoch - 5ms/step\n",
      "Epoch 132/300\n",
      "9/9 - 0s - loss: 0.0484 - accuracy: 1.0000 - val_loss: 0.0466 - val_accuracy: 1.0000 - 45ms/epoch - 5ms/step\n",
      "Epoch 133/300\n",
      "9/9 - 0s - loss: 0.0476 - accuracy: 1.0000 - val_loss: 0.0457 - val_accuracy: 1.0000 - 45ms/epoch - 5ms/step\n",
      "Epoch 134/300\n",
      "9/9 - 0s - loss: 0.0456 - accuracy: 1.0000 - val_loss: 0.0443 - val_accuracy: 1.0000 - 43ms/epoch - 5ms/step\n",
      "Epoch 135/300\n",
      "9/9 - 0s - loss: 0.0446 - accuracy: 1.0000 - val_loss: 0.0431 - val_accuracy: 1.0000 - 41ms/epoch - 5ms/step\n"
     ]
    },
    {
     "name": "stdout",
     "output_type": "stream",
     "text": [
      "Epoch 136/300\n",
      "9/9 - 0s - loss: 0.0433 - accuracy: 1.0000 - val_loss: 0.0419 - val_accuracy: 1.0000 - 42ms/epoch - 5ms/step\n",
      "Epoch 137/300\n",
      "9/9 - 0s - loss: 0.0429 - accuracy: 1.0000 - val_loss: 0.0410 - val_accuracy: 1.0000 - 41ms/epoch - 5ms/step\n",
      "Epoch 138/300\n",
      "9/9 - 0s - loss: 0.0409 - accuracy: 1.0000 - val_loss: 0.0398 - val_accuracy: 1.0000 - 42ms/epoch - 5ms/step\n",
      "Epoch 139/300\n",
      "9/9 - 0s - loss: 0.0399 - accuracy: 1.0000 - val_loss: 0.0387 - val_accuracy: 1.0000 - 42ms/epoch - 5ms/step\n",
      "Epoch 140/300\n",
      "9/9 - 0s - loss: 0.0398 - accuracy: 1.0000 - val_loss: 0.0381 - val_accuracy: 1.0000 - 40ms/epoch - 4ms/step\n",
      "Epoch 141/300\n",
      "9/9 - 0s - loss: 0.0385 - accuracy: 1.0000 - val_loss: 0.0374 - val_accuracy: 1.0000 - 41ms/epoch - 5ms/step\n",
      "Epoch 142/300\n",
      "9/9 - 0s - loss: 0.0372 - accuracy: 1.0000 - val_loss: 0.0358 - val_accuracy: 1.0000 - 41ms/epoch - 5ms/step\n",
      "Epoch 143/300\n",
      "9/9 - 0s - loss: 0.0355 - accuracy: 1.0000 - val_loss: 0.0352 - val_accuracy: 1.0000 - 42ms/epoch - 5ms/step\n",
      "Epoch 144/300\n",
      "9/9 - 0s - loss: 0.0349 - accuracy: 1.0000 - val_loss: 0.0340 - val_accuracy: 1.0000 - 42ms/epoch - 5ms/step\n",
      "Epoch 145/300\n",
      "9/9 - 0s - loss: 0.0341 - accuracy: 1.0000 - val_loss: 0.0331 - val_accuracy: 1.0000 - 39ms/epoch - 4ms/step\n",
      "Epoch 146/300\n",
      "9/9 - 0s - loss: 0.0332 - accuracy: 1.0000 - val_loss: 0.0324 - val_accuracy: 1.0000 - 41ms/epoch - 5ms/step\n",
      "Epoch 147/300\n",
      "9/9 - 0s - loss: 0.0329 - accuracy: 1.0000 - val_loss: 0.0318 - val_accuracy: 1.0000 - 39ms/epoch - 4ms/step\n",
      "Epoch 148/300\n",
      "9/9 - 0s - loss: 0.0317 - accuracy: 1.0000 - val_loss: 0.0308 - val_accuracy: 1.0000 - 42ms/epoch - 5ms/step\n",
      "Epoch 149/300\n",
      "9/9 - 0s - loss: 0.0308 - accuracy: 1.0000 - val_loss: 0.0300 - val_accuracy: 1.0000 - 41ms/epoch - 5ms/step\n",
      "Epoch 150/300\n",
      "9/9 - 0s - loss: 0.0301 - accuracy: 1.0000 - val_loss: 0.0294 - val_accuracy: 1.0000 - 38ms/epoch - 4ms/step\n",
      "Epoch 151/300\n",
      "9/9 - 0s - loss: 0.0294 - accuracy: 1.0000 - val_loss: 0.0286 - val_accuracy: 1.0000 - 41ms/epoch - 5ms/step\n",
      "Epoch 152/300\n",
      "9/9 - 0s - loss: 0.0285 - accuracy: 1.0000 - val_loss: 0.0280 - val_accuracy: 1.0000 - 39ms/epoch - 4ms/step\n",
      "Epoch 153/300\n",
      "9/9 - 0s - loss: 0.0280 - accuracy: 1.0000 - val_loss: 0.0274 - val_accuracy: 1.0000 - 41ms/epoch - 5ms/step\n",
      "Epoch 154/300\n",
      "9/9 - 0s - loss: 0.0274 - accuracy: 1.0000 - val_loss: 0.0268 - val_accuracy: 1.0000 - 40ms/epoch - 4ms/step\n",
      "Epoch 155/300\n",
      "9/9 - 0s - loss: 0.0268 - accuracy: 1.0000 - val_loss: 0.0261 - val_accuracy: 1.0000 - 42ms/epoch - 5ms/step\n",
      "Epoch 156/300\n",
      "9/9 - 0s - loss: 0.0260 - accuracy: 1.0000 - val_loss: 0.0255 - val_accuracy: 1.0000 - 40ms/epoch - 4ms/step\n",
      "Epoch 157/300\n",
      "9/9 - 0s - loss: 0.0254 - accuracy: 1.0000 - val_loss: 0.0249 - val_accuracy: 1.0000 - 39ms/epoch - 4ms/step\n",
      "Epoch 158/300\n",
      "9/9 - 0s - loss: 0.0251 - accuracy: 1.0000 - val_loss: 0.0244 - val_accuracy: 1.0000 - 40ms/epoch - 4ms/step\n",
      "Epoch 159/300\n",
      "9/9 - 0s - loss: 0.0243 - accuracy: 1.0000 - val_loss: 0.0239 - val_accuracy: 1.0000 - 38ms/epoch - 4ms/step\n",
      "Epoch 160/300\n",
      "9/9 - 0s - loss: 0.0240 - accuracy: 1.0000 - val_loss: 0.0235 - val_accuracy: 1.0000 - 42ms/epoch - 5ms/step\n",
      "Epoch 161/300\n",
      "9/9 - 0s - loss: 0.0238 - accuracy: 1.0000 - val_loss: 0.0229 - val_accuracy: 1.0000 - 39ms/epoch - 4ms/step\n",
      "Epoch 162/300\n",
      "9/9 - 0s - loss: 0.0231 - accuracy: 1.0000 - val_loss: 0.0224 - val_accuracy: 1.0000 - 40ms/epoch - 4ms/step\n",
      "Epoch 163/300\n",
      "9/9 - 0s - loss: 0.0224 - accuracy: 1.0000 - val_loss: 0.0218 - val_accuracy: 1.0000 - 40ms/epoch - 4ms/step\n",
      "Epoch 164/300\n",
      "9/9 - 0s - loss: 0.0218 - accuracy: 1.0000 - val_loss: 0.0214 - val_accuracy: 1.0000 - 39ms/epoch - 4ms/step\n",
      "Epoch 165/300\n",
      "9/9 - 0s - loss: 0.0216 - accuracy: 1.0000 - val_loss: 0.0209 - val_accuracy: 1.0000 - 40ms/epoch - 4ms/step\n",
      "Epoch 166/300\n",
      "9/9 - 0s - loss: 0.0209 - accuracy: 1.0000 - val_loss: 0.0205 - val_accuracy: 1.0000 - 39ms/epoch - 4ms/step\n",
      "Epoch 167/300\n",
      "9/9 - 0s - loss: 0.0206 - accuracy: 1.0000 - val_loss: 0.0200 - val_accuracy: 1.0000 - 40ms/epoch - 4ms/step\n",
      "Epoch 168/300\n",
      "9/9 - 0s - loss: 0.0203 - accuracy: 1.0000 - val_loss: 0.0196 - val_accuracy: 1.0000 - 38ms/epoch - 4ms/step\n",
      "Epoch 169/300\n",
      "9/9 - 0s - loss: 0.0196 - accuracy: 1.0000 - val_loss: 0.0192 - val_accuracy: 1.0000 - 39ms/epoch - 4ms/step\n",
      "Epoch 170/300\n",
      "9/9 - 0s - loss: 0.0199 - accuracy: 1.0000 - val_loss: 0.0188 - val_accuracy: 1.0000 - 38ms/epoch - 4ms/step\n",
      "Epoch 171/300\n",
      "9/9 - 0s - loss: 0.0194 - accuracy: 1.0000 - val_loss: 0.0185 - val_accuracy: 1.0000 - 40ms/epoch - 4ms/step\n",
      "Epoch 172/300\n",
      "9/9 - 0s - loss: 0.0187 - accuracy: 1.0000 - val_loss: 0.0180 - val_accuracy: 1.0000 - 39ms/epoch - 4ms/step\n",
      "Epoch 173/300\n",
      "9/9 - 0s - loss: 0.0182 - accuracy: 1.0000 - val_loss: 0.0177 - val_accuracy: 1.0000 - 44ms/epoch - 5ms/step\n",
      "Epoch 174/300\n",
      "9/9 - 0s - loss: 0.0178 - accuracy: 1.0000 - val_loss: 0.0173 - val_accuracy: 1.0000 - 43ms/epoch - 5ms/step\n",
      "Epoch 175/300\n",
      "9/9 - 0s - loss: 0.0173 - accuracy: 1.0000 - val_loss: 0.0170 - val_accuracy: 1.0000 - 38ms/epoch - 4ms/step\n",
      "Epoch 176/300\n",
      "9/9 - 0s - loss: 0.0171 - accuracy: 1.0000 - val_loss: 0.0166 - val_accuracy: 1.0000 - 41ms/epoch - 5ms/step\n",
      "Epoch 177/300\n",
      "9/9 - 0s - loss: 0.0167 - accuracy: 1.0000 - val_loss: 0.0163 - val_accuracy: 1.0000 - 41ms/epoch - 5ms/step\n",
      "Epoch 178/300\n",
      "9/9 - 0s - loss: 0.0169 - accuracy: 1.0000 - val_loss: 0.0161 - val_accuracy: 1.0000 - 42ms/epoch - 5ms/step\n",
      "Epoch 179/300\n",
      "9/9 - 0s - loss: 0.0159 - accuracy: 1.0000 - val_loss: 0.0157 - val_accuracy: 1.0000 - 54ms/epoch - 6ms/step\n",
      "Epoch 180/300\n",
      "9/9 - 0s - loss: 0.0158 - accuracy: 1.0000 - val_loss: 0.0154 - val_accuracy: 1.0000 - 39ms/epoch - 4ms/step\n",
      "Epoch 181/300\n",
      "9/9 - 0s - loss: 0.0155 - accuracy: 1.0000 - val_loss: 0.0151 - val_accuracy: 1.0000 - 38ms/epoch - 4ms/step\n",
      "Epoch 182/300\n",
      "9/9 - 0s - loss: 0.0151 - accuracy: 1.0000 - val_loss: 0.0148 - val_accuracy: 1.0000 - 40ms/epoch - 4ms/step\n",
      "Epoch 183/300\n",
      "9/9 - 0s - loss: 0.0148 - accuracy: 1.0000 - val_loss: 0.0145 - val_accuracy: 1.0000 - 41ms/epoch - 5ms/step\n",
      "Epoch 184/300\n",
      "9/9 - 0s - loss: 0.0145 - accuracy: 1.0000 - val_loss: 0.0143 - val_accuracy: 1.0000 - 41ms/epoch - 5ms/step\n",
      "Epoch 185/300\n",
      "9/9 - 0s - loss: 0.0143 - accuracy: 1.0000 - val_loss: 0.0140 - val_accuracy: 1.0000 - 41ms/epoch - 5ms/step\n",
      "Epoch 186/300\n",
      "9/9 - 0s - loss: 0.0140 - accuracy: 1.0000 - val_loss: 0.0138 - val_accuracy: 1.0000 - 39ms/epoch - 4ms/step\n",
      "Epoch 187/300\n",
      "9/9 - 0s - loss: 0.0138 - accuracy: 1.0000 - val_loss: 0.0135 - val_accuracy: 1.0000 - 43ms/epoch - 5ms/step\n",
      "Epoch 188/300\n",
      "9/9 - 0s - loss: 0.0135 - accuracy: 1.0000 - val_loss: 0.0133 - val_accuracy: 1.0000 - 39ms/epoch - 4ms/step\n",
      "Epoch 189/300\n",
      "9/9 - 0s - loss: 0.0135 - accuracy: 1.0000 - val_loss: 0.0131 - val_accuracy: 1.0000 - 41ms/epoch - 5ms/step\n",
      "Epoch 190/300\n",
      "9/9 - 0s - loss: 0.0131 - accuracy: 1.0000 - val_loss: 0.0128 - val_accuracy: 1.0000 - 41ms/epoch - 5ms/step\n",
      "Epoch 191/300\n",
      "9/9 - 0s - loss: 0.0129 - accuracy: 1.0000 - val_loss: 0.0127 - val_accuracy: 1.0000 - 40ms/epoch - 4ms/step\n",
      "Epoch 192/300\n",
      "9/9 - 0s - loss: 0.0125 - accuracy: 1.0000 - val_loss: 0.0124 - val_accuracy: 1.0000 - 40ms/epoch - 4ms/step\n",
      "Epoch 193/300\n",
      "9/9 - 0s - loss: 0.0124 - accuracy: 1.0000 - val_loss: 0.0122 - val_accuracy: 1.0000 - 39ms/epoch - 4ms/step\n",
      "Epoch 194/300\n",
      "9/9 - 0s - loss: 0.0123 - accuracy: 1.0000 - val_loss: 0.0119 - val_accuracy: 1.0000 - 59ms/epoch - 7ms/step\n",
      "Epoch 195/300\n",
      "9/9 - 0s - loss: 0.0121 - accuracy: 1.0000 - val_loss: 0.0117 - val_accuracy: 1.0000 - 41ms/epoch - 5ms/step\n",
      "Epoch 196/300\n",
      "9/9 - 0s - loss: 0.0118 - accuracy: 1.0000 - val_loss: 0.0116 - val_accuracy: 1.0000 - 44ms/epoch - 5ms/step\n",
      "Epoch 197/300\n",
      "9/9 - 0s - loss: 0.0117 - accuracy: 1.0000 - val_loss: 0.0114 - val_accuracy: 1.0000 - 41ms/epoch - 5ms/step\n",
      "Epoch 198/300\n",
      "9/9 - 0s - loss: 0.0114 - accuracy: 1.0000 - val_loss: 0.0112 - val_accuracy: 1.0000 - 40ms/epoch - 4ms/step\n",
      "Epoch 199/300\n",
      "9/9 - 0s - loss: 0.0112 - accuracy: 1.0000 - val_loss: 0.0110 - val_accuracy: 1.0000 - 41ms/epoch - 5ms/step\n",
      "Epoch 200/300\n",
      "9/9 - 0s - loss: 0.0110 - accuracy: 1.0000 - val_loss: 0.0108 - val_accuracy: 1.0000 - 40ms/epoch - 4ms/step\n",
      "Epoch 201/300\n",
      "9/9 - 0s - loss: 0.0108 - accuracy: 1.0000 - val_loss: 0.0106 - val_accuracy: 1.0000 - 39ms/epoch - 4ms/step\n",
      "Epoch 202/300\n",
      "9/9 - 0s - loss: 0.0107 - accuracy: 1.0000 - val_loss: 0.0105 - val_accuracy: 1.0000 - 39ms/epoch - 4ms/step\n"
     ]
    },
    {
     "name": "stdout",
     "output_type": "stream",
     "text": [
      "Epoch 203/300\n",
      "9/9 - 0s - loss: 0.0105 - accuracy: 1.0000 - val_loss: 0.0103 - val_accuracy: 1.0000 - 39ms/epoch - 4ms/step\n",
      "Epoch 204/300\n",
      "9/9 - 0s - loss: 0.0103 - accuracy: 1.0000 - val_loss: 0.0101 - val_accuracy: 1.0000 - 42ms/epoch - 5ms/step\n",
      "Epoch 205/300\n",
      "9/9 - 0s - loss: 0.0101 - accuracy: 1.0000 - val_loss: 0.0100 - val_accuracy: 1.0000 - 38ms/epoch - 4ms/step\n",
      "Epoch 206/300\n",
      "9/9 - 0s - loss: 0.0099 - accuracy: 1.0000 - val_loss: 0.0098 - val_accuracy: 1.0000 - 41ms/epoch - 5ms/step\n",
      "Epoch 207/300\n",
      "9/9 - 0s - loss: 0.0098 - accuracy: 1.0000 - val_loss: 0.0096 - val_accuracy: 1.0000 - 39ms/epoch - 4ms/step\n",
      "Epoch 208/300\n",
      "9/9 - 0s - loss: 0.0096 - accuracy: 1.0000 - val_loss: 0.0095 - val_accuracy: 1.0000 - 42ms/epoch - 5ms/step\n",
      "Epoch 209/300\n",
      "9/9 - 0s - loss: 0.0095 - accuracy: 1.0000 - val_loss: 0.0093 - val_accuracy: 1.0000 - 40ms/epoch - 4ms/step\n",
      "Epoch 210/300\n",
      "9/9 - 0s - loss: 0.0094 - accuracy: 1.0000 - val_loss: 0.0092 - val_accuracy: 1.0000 - 40ms/epoch - 4ms/step\n",
      "Epoch 211/300\n",
      "9/9 - 0s - loss: 0.0092 - accuracy: 1.0000 - val_loss: 0.0090 - val_accuracy: 1.0000 - 40ms/epoch - 4ms/step\n",
      "Epoch 212/300\n",
      "9/9 - 0s - loss: 0.0090 - accuracy: 1.0000 - val_loss: 0.0089 - val_accuracy: 1.0000 - 38ms/epoch - 4ms/step\n",
      "Epoch 213/300\n",
      "9/9 - 0s - loss: 0.0089 - accuracy: 1.0000 - val_loss: 0.0088 - val_accuracy: 1.0000 - 41ms/epoch - 5ms/step\n",
      "Epoch 214/300\n",
      "9/9 - 0s - loss: 0.0087 - accuracy: 1.0000 - val_loss: 0.0086 - val_accuracy: 1.0000 - 38ms/epoch - 4ms/step\n",
      "Epoch 215/300\n",
      "9/9 - 0s - loss: 0.0086 - accuracy: 1.0000 - val_loss: 0.0085 - val_accuracy: 1.0000 - 40ms/epoch - 4ms/step\n",
      "Epoch 216/300\n",
      "9/9 - 0s - loss: 0.0085 - accuracy: 1.0000 - val_loss: 0.0084 - val_accuracy: 1.0000 - 39ms/epoch - 4ms/step\n",
      "Epoch 217/300\n",
      "9/9 - 0s - loss: 0.0084 - accuracy: 1.0000 - val_loss: 0.0082 - val_accuracy: 1.0000 - 59ms/epoch - 7ms/step\n",
      "Epoch 218/300\n",
      "9/9 - 0s - loss: 0.0082 - accuracy: 1.0000 - val_loss: 0.0081 - val_accuracy: 1.0000 - 39ms/epoch - 4ms/step\n",
      "Epoch 219/300\n",
      "9/9 - 0s - loss: 0.0081 - accuracy: 1.0000 - val_loss: 0.0080 - val_accuracy: 1.0000 - 41ms/epoch - 5ms/step\n",
      "Epoch 220/300\n",
      "9/9 - 0s - loss: 0.0080 - accuracy: 1.0000 - val_loss: 0.0079 - val_accuracy: 1.0000 - 40ms/epoch - 4ms/step\n",
      "Epoch 221/300\n",
      "9/9 - 0s - loss: 0.0079 - accuracy: 1.0000 - val_loss: 0.0078 - val_accuracy: 1.0000 - 39ms/epoch - 4ms/step\n",
      "Epoch 222/300\n",
      "9/9 - 0s - loss: 0.0078 - accuracy: 1.0000 - val_loss: 0.0077 - val_accuracy: 1.0000 - 40ms/epoch - 4ms/step\n",
      "Epoch 223/300\n",
      "9/9 - 0s - loss: 0.0077 - accuracy: 1.0000 - val_loss: 0.0075 - val_accuracy: 1.0000 - 38ms/epoch - 4ms/step\n",
      "Epoch 224/300\n",
      "9/9 - 0s - loss: 0.0076 - accuracy: 1.0000 - val_loss: 0.0075 - val_accuracy: 1.0000 - 46ms/epoch - 5ms/step\n",
      "Epoch 225/300\n",
      "9/9 - 0s - loss: 0.0075 - accuracy: 1.0000 - val_loss: 0.0073 - val_accuracy: 1.0000 - 44ms/epoch - 5ms/step\n",
      "Epoch 226/300\n",
      "9/9 - 0s - loss: 0.0074 - accuracy: 1.0000 - val_loss: 0.0072 - val_accuracy: 1.0000 - 39ms/epoch - 4ms/step\n",
      "Epoch 227/300\n",
      "9/9 - 0s - loss: 0.0072 - accuracy: 1.0000 - val_loss: 0.0071 - val_accuracy: 1.0000 - 42ms/epoch - 5ms/step\n",
      "Epoch 228/300\n",
      "9/9 - 0s - loss: 0.0071 - accuracy: 1.0000 - val_loss: 0.0070 - val_accuracy: 1.0000 - 45ms/epoch - 5ms/step\n",
      "Epoch 229/300\n",
      "9/9 - 0s - loss: 0.0070 - accuracy: 1.0000 - val_loss: 0.0069 - val_accuracy: 1.0000 - 40ms/epoch - 4ms/step\n",
      "Epoch 230/300\n",
      "9/9 - 0s - loss: 0.0069 - accuracy: 1.0000 - val_loss: 0.0068 - val_accuracy: 1.0000 - 45ms/epoch - 5ms/step\n",
      "Epoch 231/300\n",
      "9/9 - 0s - loss: 0.0069 - accuracy: 1.0000 - val_loss: 0.0067 - val_accuracy: 1.0000 - 44ms/epoch - 5ms/step\n",
      "Epoch 232/300\n",
      "9/9 - 0s - loss: 0.0067 - accuracy: 1.0000 - val_loss: 0.0066 - val_accuracy: 1.0000 - 45ms/epoch - 5ms/step\n",
      "Epoch 233/300\n",
      "9/9 - 0s - loss: 0.0067 - accuracy: 1.0000 - val_loss: 0.0066 - val_accuracy: 1.0000 - 40ms/epoch - 4ms/step\n",
      "Epoch 234/300\n",
      "9/9 - 0s - loss: 0.0065 - accuracy: 1.0000 - val_loss: 0.0065 - val_accuracy: 1.0000 - 47ms/epoch - 5ms/step\n",
      "Epoch 235/300\n",
      "9/9 - 0s - loss: 0.0065 - accuracy: 1.0000 - val_loss: 0.0064 - val_accuracy: 1.0000 - 42ms/epoch - 5ms/step\n",
      "Epoch 236/300\n",
      "9/9 - 0s - loss: 0.0064 - accuracy: 1.0000 - val_loss: 0.0063 - val_accuracy: 1.0000 - 60ms/epoch - 7ms/step\n",
      "Epoch 237/300\n",
      "9/9 - 0s - loss: 0.0063 - accuracy: 1.0000 - val_loss: 0.0062 - val_accuracy: 1.0000 - 42ms/epoch - 5ms/step\n",
      "Epoch 238/300\n",
      "9/9 - 0s - loss: 0.0062 - accuracy: 1.0000 - val_loss: 0.0061 - val_accuracy: 1.0000 - 41ms/epoch - 5ms/step\n",
      "Epoch 239/300\n",
      "9/9 - 0s - loss: 0.0061 - accuracy: 1.0000 - val_loss: 0.0060 - val_accuracy: 1.0000 - 40ms/epoch - 4ms/step\n",
      "Epoch 240/300\n",
      "9/9 - 0s - loss: 0.0061 - accuracy: 1.0000 - val_loss: 0.0059 - val_accuracy: 1.0000 - 40ms/epoch - 4ms/step\n",
      "Epoch 241/300\n",
      "9/9 - 0s - loss: 0.0060 - accuracy: 1.0000 - val_loss: 0.0059 - val_accuracy: 1.0000 - 40ms/epoch - 4ms/step\n",
      "Epoch 242/300\n",
      "9/9 - 0s - loss: 0.0059 - accuracy: 1.0000 - val_loss: 0.0058 - val_accuracy: 1.0000 - 39ms/epoch - 4ms/step\n",
      "Epoch 243/300\n",
      "9/9 - 0s - loss: 0.0058 - accuracy: 1.0000 - val_loss: 0.0058 - val_accuracy: 1.0000 - 39ms/epoch - 4ms/step\n",
      "Epoch 244/300\n",
      "9/9 - 0s - loss: 0.0058 - accuracy: 1.0000 - val_loss: 0.0056 - val_accuracy: 1.0000 - 38ms/epoch - 4ms/step\n",
      "Epoch 245/300\n",
      "9/9 - 0s - loss: 0.0056 - accuracy: 1.0000 - val_loss: 0.0056 - val_accuracy: 1.0000 - 40ms/epoch - 4ms/step\n",
      "Epoch 246/300\n",
      "9/9 - 0s - loss: 0.0056 - accuracy: 1.0000 - val_loss: 0.0055 - val_accuracy: 1.0000 - 39ms/epoch - 4ms/step\n",
      "Epoch 247/300\n",
      "9/9 - 0s - loss: 0.0055 - accuracy: 1.0000 - val_loss: 0.0054 - val_accuracy: 1.0000 - 42ms/epoch - 5ms/step\n",
      "Epoch 248/300\n",
      "9/9 - 0s - loss: 0.0054 - accuracy: 1.0000 - val_loss: 0.0054 - val_accuracy: 1.0000 - 40ms/epoch - 4ms/step\n",
      "Epoch 249/300\n",
      "9/9 - 0s - loss: 0.0054 - accuracy: 1.0000 - val_loss: 0.0053 - val_accuracy: 1.0000 - 41ms/epoch - 5ms/step\n",
      "Epoch 250/300\n",
      "9/9 - 0s - loss: 0.0053 - accuracy: 1.0000 - val_loss: 0.0052 - val_accuracy: 1.0000 - 40ms/epoch - 4ms/step\n",
      "Epoch 251/300\n",
      "9/9 - 0s - loss: 0.0052 - accuracy: 1.0000 - val_loss: 0.0051 - val_accuracy: 1.0000 - 42ms/epoch - 5ms/step\n",
      "Epoch 252/300\n",
      "9/9 - 0s - loss: 0.0052 - accuracy: 1.0000 - val_loss: 0.0051 - val_accuracy: 1.0000 - 40ms/epoch - 4ms/step\n",
      "Epoch 253/300\n",
      "9/9 - 0s - loss: 0.0051 - accuracy: 1.0000 - val_loss: 0.0050 - val_accuracy: 1.0000 - 39ms/epoch - 4ms/step\n",
      "Epoch 254/300\n",
      "9/9 - 0s - loss: 0.0050 - accuracy: 1.0000 - val_loss: 0.0050 - val_accuracy: 1.0000 - 41ms/epoch - 5ms/step\n",
      "Epoch 255/300\n",
      "9/9 - 0s - loss: 0.0050 - accuracy: 1.0000 - val_loss: 0.0049 - val_accuracy: 1.0000 - 39ms/epoch - 4ms/step\n",
      "Epoch 256/300\n",
      "9/9 - 0s - loss: 0.0049 - accuracy: 1.0000 - val_loss: 0.0048 - val_accuracy: 1.0000 - 40ms/epoch - 4ms/step\n",
      "Epoch 257/300\n",
      "9/9 - 0s - loss: 0.0048 - accuracy: 1.0000 - val_loss: 0.0048 - val_accuracy: 1.0000 - 38ms/epoch - 4ms/step\n",
      "Epoch 258/300\n",
      "9/9 - 0s - loss: 0.0048 - accuracy: 1.0000 - val_loss: 0.0047 - val_accuracy: 1.0000 - 42ms/epoch - 5ms/step\n",
      "Epoch 259/300\n",
      "9/9 - 0s - loss: 0.0047 - accuracy: 1.0000 - val_loss: 0.0047 - val_accuracy: 1.0000 - 39ms/epoch - 4ms/step\n",
      "Epoch 260/300\n",
      "9/9 - 0s - loss: 0.0047 - accuracy: 1.0000 - val_loss: 0.0046 - val_accuracy: 1.0000 - 42ms/epoch - 5ms/step\n",
      "Epoch 261/300\n",
      "9/9 - 0s - loss: 0.0047 - accuracy: 1.0000 - val_loss: 0.0046 - val_accuracy: 1.0000 - 41ms/epoch - 5ms/step\n",
      "Epoch 262/300\n",
      "9/9 - 0s - loss: 0.0046 - accuracy: 1.0000 - val_loss: 0.0045 - val_accuracy: 1.0000 - 41ms/epoch - 5ms/step\n",
      "Epoch 263/300\n",
      "9/9 - 0s - loss: 0.0045 - accuracy: 1.0000 - val_loss: 0.0044 - val_accuracy: 1.0000 - 40ms/epoch - 4ms/step\n",
      "Epoch 264/300\n",
      "9/9 - 0s - loss: 0.0044 - accuracy: 1.0000 - val_loss: 0.0044 - val_accuracy: 1.0000 - 40ms/epoch - 4ms/step\n",
      "Epoch 265/300\n",
      "9/9 - 0s - loss: 0.0044 - accuracy: 1.0000 - val_loss: 0.0043 - val_accuracy: 1.0000 - 41ms/epoch - 5ms/step\n",
      "Epoch 266/300\n",
      "9/9 - 0s - loss: 0.0043 - accuracy: 1.0000 - val_loss: 0.0043 - val_accuracy: 1.0000 - 41ms/epoch - 5ms/step\n",
      "Epoch 267/300\n",
      "9/9 - 0s - loss: 0.0043 - accuracy: 1.0000 - val_loss: 0.0042 - val_accuracy: 1.0000 - 41ms/epoch - 5ms/step\n",
      "Epoch 268/300\n",
      "9/9 - 0s - loss: 0.0043 - accuracy: 1.0000 - val_loss: 0.0042 - val_accuracy: 1.0000 - 40ms/epoch - 4ms/step\n",
      "Epoch 269/300\n",
      "9/9 - 0s - loss: 0.0042 - accuracy: 1.0000 - val_loss: 0.0042 - val_accuracy: 1.0000 - 39ms/epoch - 4ms/step\n"
     ]
    },
    {
     "name": "stdout",
     "output_type": "stream",
     "text": [
      "Epoch 270/300\n",
      "9/9 - 0s - loss: 0.0042 - accuracy: 1.0000 - val_loss: 0.0041 - val_accuracy: 1.0000 - 41ms/epoch - 5ms/step\n",
      "Epoch 271/300\n",
      "9/9 - 0s - loss: 0.0041 - accuracy: 1.0000 - val_loss: 0.0040 - val_accuracy: 1.0000 - 38ms/epoch - 4ms/step\n",
      "Epoch 272/300\n",
      "9/9 - 0s - loss: 0.0040 - accuracy: 1.0000 - val_loss: 0.0040 - val_accuracy: 1.0000 - 40ms/epoch - 4ms/step\n",
      "Epoch 273/300\n",
      "9/9 - 0s - loss: 0.0040 - accuracy: 1.0000 - val_loss: 0.0039 - val_accuracy: 1.0000 - 39ms/epoch - 4ms/step\n",
      "Epoch 274/300\n",
      "9/9 - 0s - loss: 0.0039 - accuracy: 1.0000 - val_loss: 0.0039 - val_accuracy: 1.0000 - 41ms/epoch - 5ms/step\n",
      "Epoch 275/300\n",
      "9/9 - 0s - loss: 0.0039 - accuracy: 1.0000 - val_loss: 0.0039 - val_accuracy: 1.0000 - 38ms/epoch - 4ms/step\n",
      "Epoch 276/300\n",
      "9/9 - 0s - loss: 0.0039 - accuracy: 1.0000 - val_loss: 0.0038 - val_accuracy: 1.0000 - 41ms/epoch - 5ms/step\n",
      "Epoch 277/300\n",
      "9/9 - 0s - loss: 0.0038 - accuracy: 1.0000 - val_loss: 0.0038 - val_accuracy: 1.0000 - 38ms/epoch - 4ms/step\n",
      "Epoch 278/300\n",
      "9/9 - 0s - loss: 0.0038 - accuracy: 1.0000 - val_loss: 0.0037 - val_accuracy: 1.0000 - 40ms/epoch - 4ms/step\n",
      "Epoch 279/300\n",
      "9/9 - 0s - loss: 0.0037 - accuracy: 1.0000 - val_loss: 0.0037 - val_accuracy: 1.0000 - 41ms/epoch - 5ms/step\n",
      "Epoch 280/300\n",
      "9/9 - 0s - loss: 0.0037 - accuracy: 1.0000 - val_loss: 0.0036 - val_accuracy: 1.0000 - 40ms/epoch - 4ms/step\n",
      "Epoch 281/300\n",
      "9/9 - 0s - loss: 0.0037 - accuracy: 1.0000 - val_loss: 0.0036 - val_accuracy: 1.0000 - 41ms/epoch - 5ms/step\n",
      "Epoch 282/300\n",
      "9/9 - 0s - loss: 0.0036 - accuracy: 1.0000 - val_loss: 0.0036 - val_accuracy: 1.0000 - 38ms/epoch - 4ms/step\n",
      "Epoch 283/300\n",
      "9/9 - 0s - loss: 0.0036 - accuracy: 1.0000 - val_loss: 0.0035 - val_accuracy: 1.0000 - 39ms/epoch - 4ms/step\n",
      "Epoch 284/300\n",
      "9/9 - 0s - loss: 0.0035 - accuracy: 1.0000 - val_loss: 0.0035 - val_accuracy: 1.0000 - 39ms/epoch - 4ms/step\n",
      "Epoch 285/300\n",
      "9/9 - 0s - loss: 0.0035 - accuracy: 1.0000 - val_loss: 0.0034 - val_accuracy: 1.0000 - 41ms/epoch - 5ms/step\n",
      "Epoch 286/300\n",
      "9/9 - 0s - loss: 0.0034 - accuracy: 1.0000 - val_loss: 0.0034 - val_accuracy: 1.0000 - 39ms/epoch - 4ms/step\n",
      "Epoch 287/300\n",
      "9/9 - 0s - loss: 0.0034 - accuracy: 1.0000 - val_loss: 0.0034 - val_accuracy: 1.0000 - 40ms/epoch - 4ms/step\n",
      "Epoch 288/300\n",
      "9/9 - 0s - loss: 0.0034 - accuracy: 1.0000 - val_loss: 0.0033 - val_accuracy: 1.0000 - 38ms/epoch - 4ms/step\n",
      "Epoch 289/300\n",
      "9/9 - 0s - loss: 0.0033 - accuracy: 1.0000 - val_loss: 0.0033 - val_accuracy: 1.0000 - 41ms/epoch - 5ms/step\n",
      "Epoch 290/300\n",
      "9/9 - 0s - loss: 0.0033 - accuracy: 1.0000 - val_loss: 0.0033 - val_accuracy: 1.0000 - 40ms/epoch - 4ms/step\n",
      "Epoch 291/300\n",
      "9/9 - 0s - loss: 0.0033 - accuracy: 1.0000 - val_loss: 0.0032 - val_accuracy: 1.0000 - 60ms/epoch - 7ms/step\n",
      "Epoch 292/300\n",
      "9/9 - 0s - loss: 0.0032 - accuracy: 1.0000 - val_loss: 0.0032 - val_accuracy: 1.0000 - 38ms/epoch - 4ms/step\n",
      "Epoch 293/300\n",
      "9/9 - 0s - loss: 0.0032 - accuracy: 1.0000 - val_loss: 0.0032 - val_accuracy: 1.0000 - 38ms/epoch - 4ms/step\n",
      "Epoch 294/300\n",
      "9/9 - 0s - loss: 0.0032 - accuracy: 1.0000 - val_loss: 0.0031 - val_accuracy: 1.0000 - 40ms/epoch - 4ms/step\n",
      "Epoch 295/300\n",
      "9/9 - 0s - loss: 0.0031 - accuracy: 1.0000 - val_loss: 0.0031 - val_accuracy: 1.0000 - 39ms/epoch - 4ms/step\n",
      "Epoch 296/300\n",
      "9/9 - 0s - loss: 0.0031 - accuracy: 1.0000 - val_loss: 0.0031 - val_accuracy: 1.0000 - 40ms/epoch - 4ms/step\n",
      "Epoch 297/300\n",
      "9/9 - 0s - loss: 0.0031 - accuracy: 1.0000 - val_loss: 0.0030 - val_accuracy: 1.0000 - 38ms/epoch - 4ms/step\n",
      "Epoch 298/300\n",
      "9/9 - 0s - loss: 0.0030 - accuracy: 1.0000 - val_loss: 0.0030 - val_accuracy: 1.0000 - 39ms/epoch - 4ms/step\n",
      "Epoch 299/300\n",
      "9/9 - 0s - loss: 0.0030 - accuracy: 1.0000 - val_loss: 0.0030 - val_accuracy: 1.0000 - 37ms/epoch - 4ms/step\n",
      "Epoch 300/300\n",
      "9/9 - 0s - loss: 0.0030 - accuracy: 1.0000 - val_loss: 0.0029 - val_accuracy: 1.0000 - 39ms/epoch - 4ms/step\n"
     ]
    }
   ],
   "source": [
    "hist = model.fit(X_train, Y_train,               # 훈련(학습)데이터\n",
    "                 epochs=300,                     # 학습횟수\n",
    "                 batch_size=10,                  # 가중치를 조정하는 단위\n",
    "                 verbose=2,                      # 0:출력 없음, 1:진행상황만 출력, 2:epochs별 로그메세지 전부 출력\n",
    "                 validation_data=(X_val, Y_val)  # 검증 데이터셋\n",
    "                )"
   ]
  },
  {
   "cell_type": "markdown",
   "id": "0fc3f93d",
   "metadata": {},
   "source": [
    "# 6. 모델과정 평가하기\n",
    " - 학습과정 중 loss와 평가지표(accuracy) 살펴보기, evaluate함수"
   ]
  },
  {
   "cell_type": "code",
   "execution_count": 44,
   "id": "cb17433d",
   "metadata": {
    "ExecuteTime": {
     "end_time": "2024-12-12T07:50:47.547676Z",
     "start_time": "2024-12-12T07:50:47.541266Z"
    }
   },
   "outputs": [
    {
     "data": {
      "text/plain": [
       "dict_keys(['loss', 'accuracy', 'val_loss', 'val_accuracy'])"
      ]
     },
     "execution_count": 44,
     "metadata": {},
     "output_type": "execute_result"
    }
   ],
   "source": [
    "hist.history.keys()"
   ]
  },
  {
   "cell_type": "code",
   "execution_count": 69,
   "id": "7db25304",
   "metadata": {
    "ExecuteTime": {
     "end_time": "2024-12-12T08:05:00.348377Z",
     "start_time": "2024-12-12T08:04:59.989550Z"
    }
   },
   "outputs": [
    {
     "data": {
      "image/png": "[encoded data removed]",
      "text/plain": [
       "<Figure size 1000x300 with 2 Axes>"
      ]
     },
     "metadata": {},
     "output_type": "display_data"
    }
   ],
   "source": [
    "# 학습과정 중의 loss와 accuracy\n",
    "import matplotlib.pyplot as plt\n",
    "fig, loss_ax = plt.subplots(figsize=(10, 3))\n",
    "loss_ax.plot(hist.history['loss'], 'y', label='train loss')\n",
    "loss_ax.plot(hist.history['val_loss'], 'r--', label='val loss')  # marker='*'\n",
    "acc_ax = loss_ax.twinx()  # loss_ax와 x축을 공유하는 acc_ax 생성\n",
    "acc_ax.plot(hist.history['accuracy'], 'g', label='train accuracy')\n",
    "acc_ax.plot(hist.history['val_accuracy'], 'b--', label='val accuracy')\n",
    "loss_ax.set_xlabel('epoch')\n",
    "loss_ax.set_ylabel('loss')\n",
    "acc_ax.set_ylabel('accuracy')\n",
    "loss_ax.legend(loc='center')\n",
    "acc_ax.legend(loc='center right')\n",
    "plt.show()"
   ]
  },
  {
   "cell_type": "code",
   "execution_count": 71,
   "id": "45f4af95",
   "metadata": {
    "ExecuteTime": {
     "end_time": "2024-12-12T08:21:54.090281Z",
     "start_time": "2024-12-12T08:21:54.004584Z"
    }
   },
   "outputs": [
    {
     "name": "stdout",
     "output_type": "stream",
     "text": [
      "3/3 [==============================] - 0s 2ms/step - loss: 0.0029 - accuracy: 1.0000\n"
     ]
    }
   ],
   "source": [
    "# 모델 평가하기\n",
    "score = model.evaluate(X_val, Y_val, batch_size=3)"
   ]
  },
  {
   "cell_type": "code",
   "execution_count": 72,
   "id": "bf899d7e",
   "metadata": {
    "ExecuteTime": {
     "end_time": "2024-12-12T08:22:14.098531Z",
     "start_time": "2024-12-12T08:22:14.091535Z"
    }
   },
   "outputs": [
    {
     "data": {
      "text/plain": [
       "[0.002926512621343136, 1.0]"
      ]
     },
     "execution_count": 72,
     "metadata": {},
     "output_type": "execute_result"
    }
   ],
   "source": [
    "score  # [0] loss data, [1] accuracy"
   ]
  },
  {
   "cell_type": "code",
   "execution_count": 74,
   "id": "a74d21bd",
   "metadata": {
    "ExecuteTime": {
     "end_time": "2024-12-12T08:26:17.070909Z",
     "start_time": "2024-12-12T08:26:17.065908Z"
    }
   },
   "outputs": [
    {
     "name": "stdout",
     "output_type": "stream",
     "text": [
      "평가된 loss 값 :  0.002926512621343136\n",
      "평가된 accuracy :  100.0 %\n"
     ]
    }
   ],
   "source": [
    "print('평가된 loss 값 : ', score[0])\n",
    "print('평가된 accuracy : ', score[1] * 100, '%')"
   ]
  },
  {
   "cell_type": "markdown",
   "id": "74cdbc49",
   "metadata": {},
   "source": [
    "# 7. 모델 사용하기(모델을 사용해서 예측하기)"
   ]
  },
  {
   "cell_type": "code",
   "execution_count": 75,
   "id": "f45e08c0",
   "metadata": {
    "ExecuteTime": {
     "end_time": "2024-12-12T08:28:22.066582Z",
     "start_time": "2024-12-12T08:28:21.888042Z"
    }
   },
   "outputs": [
    {
     "name": "stdout",
     "output_type": "stream",
     "text": [
      "1/1 [==============================] - 0s 129ms/step\n"
     ]
    },
    {
     "data": {
      "text/plain": [
       "array([[3.2496766e-17, 8.3391553e-23, 7.3356226e-23, 1.1990034e-21,\n",
       "        2.2406155e-09, 8.2221189e-24, 8.7956997e-04, 2.9160114e-27,\n",
       "        9.9796695e-01, 5.4454904e-23, 1.1534196e-03, 4.1384110e-32,\n",
       "        5.6044661e-12, 3.1675318e-29, 2.0479645e-19, 9.9385731e-29,\n",
       "        1.2437226e-34, 3.5602153e-19, 0.0000000e+00]], dtype=float32)"
      ]
     },
     "execution_count": 75,
     "metadata": {},
     "output_type": "execute_result"
    }
   ],
   "source": [
    "H = model.predict(np.array([4]))\n",
    "H"
   ]
  },
  {
   "cell_type": "code",
   "execution_count": 76,
   "id": "9c276a54",
   "metadata": {
    "ExecuteTime": {
     "end_time": "2024-12-12T08:32:49.835826Z",
     "start_time": "2024-12-12T08:32:49.757750Z"
    }
   },
   "outputs": [
    {
     "name": "stdout",
     "output_type": "stream",
     "text": [
      "1/1 [==============================] - 0s 31ms/step\n"
     ]
    },
    {
     "data": {
      "text/plain": [
       "8"
      ]
     },
     "execution_count": 76,
     "metadata": {},
     "output_type": "execute_result"
    }
   ],
   "source": [
    "model.predict(np.array([4])).argmax()"
   ]
  },
  {
   "cell_type": "code",
   "execution_count": 78,
   "id": "3e8a7bce",
   "metadata": {
    "ExecuteTime": {
     "end_time": "2024-12-12T08:36:32.202758Z",
     "start_time": "2024-12-12T08:36:32.195451Z"
    }
   },
   "outputs": [
    {
     "data": {
      "text/plain": [
       "array([[3.2496766e-17, 8.3391553e-23, 7.3356226e-23, 1.1990034e-21,\n",
       "        2.2406155e-09, 8.2221189e-24, 8.7956997e-04, 2.9160114e-27,\n",
       "        9.9796695e-01, 5.4454904e-23, 1.1534196e-03, 4.1384110e-32,\n",
       "        5.6044661e-12, 3.1675318e-29, 2.0479645e-19, 9.9385731e-29,\n",
       "        1.2437226e-34, 3.5602153e-19, 0.0000000e+00]], dtype=float32)"
      ]
     },
     "execution_count": 78,
     "metadata": {},
     "output_type": "execute_result"
    }
   ],
   "source": [
    "H[:]  # 2차원"
   ]
  },
  {
   "cell_type": "code",
   "execution_count": 80,
   "id": "fd7797c3",
   "metadata": {
    "ExecuteTime": {
     "end_time": "2024-12-12T08:37:36.913916Z",
     "start_time": "2024-12-12T08:37:36.907782Z"
    }
   },
   "outputs": [
    {
     "data": {
      "text/plain": [
       "0.99796695"
      ]
     },
     "execution_count": 80,
     "metadata": {},
     "output_type": "execute_result"
    }
   ],
   "source": [
    "# 몇 퍼센트(%)의 확률로 분류되었는지 확인 시\n",
    "H[0, H.argmax()]"
   ]
  },
  {
   "cell_type": "markdown",
   "id": "c6e12c96",
   "metadata": {},
   "source": [
    "# 8. 모델 저장하기"
   ]
  },
  {
   "cell_type": "code",
   "execution_count": 81,
   "id": "8427fa86",
   "metadata": {
    "ExecuteTime": {
     "end_time": "2024-12-12T08:38:51.572641Z",
     "start_time": "2024-12-12T08:38:51.522935Z"
    }
   },
   "outputs": [],
   "source": [
    "model.save('model/2_deep_begin.h5')"
   ]
  },
  {
   "cell_type": "markdown",
   "id": "d5c2db7f",
   "metadata": {},
   "source": [
    "# 저장된 모델 사용하기"
   ]
  },
  {
   "cell_type": "code",
   "execution_count": 5,
   "id": "6d2078ea",
   "metadata": {
    "ExecuteTime": {
     "end_time": "2024-12-12T08:44:27.850645Z",
     "start_time": "2024-12-12T08:44:27.743800Z"
    }
   },
   "outputs": [],
   "source": [
    "from tensorflow.keras.models import load_model\n",
    "import numpy as np\n",
    "model2 = load_model('model/2_deep_begin.h5')"
   ]
  },
  {
   "cell_type": "code",
   "execution_count": 7,
   "id": "b7add951",
   "metadata": {
    "ExecuteTime": {
     "end_time": "2024-12-12T08:47:16.107053Z",
     "start_time": "2024-12-12T08:47:16.022719Z"
    }
   },
   "outputs": [
    {
     "name": "stdout",
     "output_type": "stream",
     "text": [
      "1/1 [==============================] - 0s 27ms/step\n"
     ]
    },
    {
     "data": {
      "text/plain": [
       "4"
      ]
     },
     "execution_count": 7,
     "metadata": {},
     "output_type": "execute_result"
    }
   ],
   "source": [
    "H = model2.predict(np.array([2]))\n",
    "H.argmax()"
   ]
  },
  {
   "cell_type": "code",
   "execution_count": 9,
   "id": "456c0190",
   "metadata": {
    "ExecuteTime": {
     "end_time": "2024-12-12T08:47:30.669238Z",
     "start_time": "2024-12-12T08:47:30.661642Z"
    }
   },
   "outputs": [
    {
     "data": {
      "text/plain": [
       "0.9987417"
      ]
     },
     "execution_count": 9,
     "metadata": {},
     "output_type": "execute_result"
    }
   ],
   "source": [
    "# 몇 퍼센트(%)의 확률로 분류되었는지 확인 시\n",
    "H[0, H.argmax()]"
   ]
  },
  {
   "cell_type": "code",
   "execution_count": 10,
   "id": "59e89f31",
   "metadata": {
    "ExecuteTime": {
     "end_time": "2024-12-12T08:48:39.701012Z",
     "start_time": "2024-12-12T08:48:39.694015Z"
    }
   },
   "outputs": [
    {
     "data": {
      "text/plain": [
       "array([6.0336344e-04, 9.9874169e-01, 6.5499730e-04], dtype=float32)"
      ]
     },
     "execution_count": 10,
     "metadata": {},
     "output_type": "execute_result"
    }
   ],
   "source": [
    "H[0, [2, 4, 6]]"
   ]
  },
  {
   "cell_type": "code",
   "execution_count": 15,
   "id": "d4fc8d7c",
   "metadata": {
    "ExecuteTime": {
     "end_time": "2024-12-12T08:49:46.843980Z",
     "start_time": "2024-12-12T08:49:46.836983Z"
    }
   },
   "outputs": [
    {
     "data": {
      "text/plain": [
       "[0.001, 0.999, 0.001]"
      ]
     },
     "execution_count": 15,
     "metadata": {},
     "output_type": "execute_result"
    }
   ],
   "source": [
    "[round(val, 3) for val in H[0, [2, 4, 6]]]"
   ]
  },
  {
   "cell_type": "code",
   "execution_count": null,
   "id": "70589bd5",
   "metadata": {},
   "outputs": [],
   "source": []
  }
 ],
 "metadata": {
  "kernelspec": {
   "display_name": "Python 3 (ipykernel)",
   "language": "python",
   "name": "python3"
  },
  "language_info": {
   "codemirror_mode": {
    "name": "ipython",
    "version": 3
   },
   "file_extension": ".py",
   "mimetype": "text/x-python",
   "name": "python",
   "nbconvert_exporter": "python",
   "pygments_lexer": "ipython3",
   "version": "3.10.9"
  },
  "toc": {
   "base_numbering": 1,
   "nav_menu": {},
   "number_sections": true,
   "sideBar": true,
   "skip_h1_title": false,
   "title_cell": "Table of Contents",
   "title_sidebar": "Contents",
   "toc_cell": false,
   "toc_position": {
    "height": "calc(100% - 180px)",
    "left": "10px",
    "top": "150px",
    "width": "297.988px"
   },
   "toc_section_display": true,
   "toc_window_display": true
  }
 },
 "nbformat": 4,
 "nbformat_minor": 5
}
